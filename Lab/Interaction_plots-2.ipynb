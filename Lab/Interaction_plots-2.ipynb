{
  "nbformat": 4,
  "nbformat_minor": 0,
  "metadata": {
    "colab": {
      "provenance": []
    },
    "kernelspec": {
      "name": "python3",
      "display_name": "Python 3"
    },
    "language_info": {
      "name": "python"
    }
  },
  "cells": [
    {
      "cell_type": "code",
      "source": [
        "#some useful packages for your analysis \n",
        "\n",
        "import pandas as pd\n",
        "import numpy as np\n",
        "import matplotlib.pyplot as plt\n",
        "import seaborn as sns\n",
        "%matplotlib inline \n",
        "import statsmodels\n",
        "from scipy import stats\n",
        "from scipy.stats import levene\n",
        "import scipy.stats\n",
        "import math\n",
        "import random\n",
        "import statistics\n",
        "import scipy.stats as sp\n",
        "from sklearn import linear_model\n",
        "import seaborn as sns\n",
        "\n",
        "!pip install scikit_posthocs\n",
        "!pip install researchpy\n",
        "import researchpy as rp"
      ],
      "metadata": {
        "colab": {
          "base_uri": "https://localhost:8080/"
        },
        "id": "I5CvUwatApKs",
        "outputId": "5f4fbac3-dff1-4443-843d-fac3ed5bf163"
      },
      "execution_count": 31,
      "outputs": [
        {
          "output_type": "stream",
          "name": "stdout",
          "text": [
            "Looking in indexes: https://pypi.org/simple, https://us-python.pkg.dev/colab-wheels/public/simple/\n",
            "Requirement already satisfied: scikit_posthocs in /usr/local/lib/python3.8/dist-packages (0.7.0)\n",
            "Requirement already satisfied: seaborn in /usr/local/lib/python3.8/dist-packages (from scikit_posthocs) (0.11.2)\n",
            "Requirement already satisfied: numpy in /usr/local/lib/python3.8/dist-packages (from scikit_posthocs) (1.21.6)\n",
            "Requirement already satisfied: pandas>=0.20.0 in /usr/local/lib/python3.8/dist-packages (from scikit_posthocs) (1.3.5)\n",
            "Requirement already satisfied: scipy in /usr/local/lib/python3.8/dist-packages (from scikit_posthocs) (1.7.3)\n",
            "Requirement already satisfied: statsmodels in /usr/local/lib/python3.8/dist-packages (from scikit_posthocs) (0.12.2)\n",
            "Requirement already satisfied: matplotlib in /usr/local/lib/python3.8/dist-packages (from scikit_posthocs) (3.2.2)\n",
            "Requirement already satisfied: pytz>=2017.3 in /usr/local/lib/python3.8/dist-packages (from pandas>=0.20.0->scikit_posthocs) (2022.7.1)\n",
            "Requirement already satisfied: python-dateutil>=2.7.3 in /usr/local/lib/python3.8/dist-packages (from pandas>=0.20.0->scikit_posthocs) (2.8.2)\n",
            "Requirement already satisfied: kiwisolver>=1.0.1 in /usr/local/lib/python3.8/dist-packages (from matplotlib->scikit_posthocs) (1.4.4)\n",
            "Requirement already satisfied: cycler>=0.10 in /usr/local/lib/python3.8/dist-packages (from matplotlib->scikit_posthocs) (0.11.0)\n",
            "Requirement already satisfied: pyparsing!=2.0.4,!=2.1.2,!=2.1.6,>=2.0.1 in /usr/local/lib/python3.8/dist-packages (from matplotlib->scikit_posthocs) (3.0.9)\n",
            "Requirement already satisfied: patsy>=0.5 in /usr/local/lib/python3.8/dist-packages (from statsmodels->scikit_posthocs) (0.5.3)\n",
            "Requirement already satisfied: six in /usr/local/lib/python3.8/dist-packages (from patsy>=0.5->statsmodels->scikit_posthocs) (1.15.0)\n",
            "Looking in indexes: https://pypi.org/simple, https://us-python.pkg.dev/colab-wheels/public/simple/\n",
            "Requirement already satisfied: researchpy in /usr/local/lib/python3.8/dist-packages (0.3.5)\n",
            "Requirement already satisfied: patsy in /usr/local/lib/python3.8/dist-packages (from researchpy) (0.5.3)\n",
            "Requirement already satisfied: numpy in /usr/local/lib/python3.8/dist-packages (from researchpy) (1.21.6)\n",
            "Requirement already satisfied: pandas in /usr/local/lib/python3.8/dist-packages (from researchpy) (1.3.5)\n",
            "Requirement already satisfied: statsmodels in /usr/local/lib/python3.8/dist-packages (from researchpy) (0.12.2)\n",
            "Requirement already satisfied: scipy in /usr/local/lib/python3.8/dist-packages (from researchpy) (1.7.3)\n",
            "Requirement already satisfied: python-dateutil>=2.7.3 in /usr/local/lib/python3.8/dist-packages (from pandas->researchpy) (2.8.2)\n",
            "Requirement already satisfied: pytz>=2017.3 in /usr/local/lib/python3.8/dist-packages (from pandas->researchpy) (2022.7.1)\n",
            "Requirement already satisfied: six in /usr/local/lib/python3.8/dist-packages (from patsy->researchpy) (1.15.0)\n"
          ]
        }
      ]
    },
    {
      "cell_type": "markdown",
      "source": [
        "https://www.kaggle.com/datasets/uciml/student-alcohol-consumption\n",
        "\n",
        "Attributes for both student-mat.csv (Math course) and student-por.csv (Portuguese language course) datasets:\n",
        "  \n",
        "Medu - mother's education (numeric: 0 - none, 1 - primary education (4th grade), 2 – 5th to 9th grade, 3 – secondary education or 4 – higher education).  \n",
        "\n",
        "\n",
        "      \n",
        "\n",
        "G1 - first period grade (numeric: from 0 to 20). \n",
        "  \n",
        "G2 - second period grade (numeric: from 0 to 20). \n",
        "  \n",
        "G3 - final grade (numeric: from 0 to 20, output target). \n"
      ],
      "metadata": {
        "id": "JD_MCWt0On9L"
      }
    },
    {
      "cell_type": "markdown",
      "source": [
        "# Preprocessing "
      ],
      "metadata": {
        "id": "Jp7guulOBq3V"
      }
    },
    {
      "cell_type": "code",
      "source": [
        "\n",
        "\n",
        "##Function to clean the dataframes##\n",
        "def cleandata(filename):\n",
        "  \"\"\"\n",
        "  Takes in csv file name in the format 'file_name.csv'\n",
        "  Changes categorical variable columns and binary ordinal variable ('famsize' column) into string type\n",
        "  Returns cleaned dataframe \n",
        "  \"\"\"\n",
        "  #load data\n",
        "  mydf = pd.read_csv(filename) \n",
        "\n",
        "  #change categorical variables to string type\n",
        "  mydf[['school', 'sex', 'address', 'Pstatus','Mjob','Fjob','reason','guardian','schoolsup','famsup','paid','activities',\n",
        "        'nursery','higher','internet','romantic']]=mydf[['school', 'sex', 'address', 'Pstatus','Mjob','Fjob','reason','guardian',\n",
        "                                                         'schoolsup','famsup','paid','activities','nursery','higher','internet','romantic']].astype('string')\n",
        "  #change 'famsize' column into string type too in case we use pd.get_dummies later \n",
        "  mydf['famsize']=mydf['famsize'].astype('string')\n",
        "  return mydf\n",
        "\n",
        "##Load the clean dataset files##\n",
        "mathdf = cleandata('student-mat.csv') \n",
        "pordf = cleandata('student-por.csv') \n",
        "\n",
        "##Combine the two datasets (mathdf and pordf together)##\n",
        "#add a column indicating if that row in the dataframe is for math or Portugese class\n",
        "#API reference: https://pandas.pydata.org/docs/reference/api/pandas.DataFrame.astype.html\n",
        "mathdf['subject']='math'\n",
        "mathdf['subject']=mathdf['subject'].astype('string')\n",
        "pordf['subject']='portuguese'\n",
        "pordf['subject']=pordf['subject'].astype('string')\n",
        "\n",
        "\n",
        "#concat the two dataframes together \n",
        "dataset = pd.concat([mathdf,pordf],axis=0)\n",
        "dataset.reset_index(inplace=True)"
      ],
      "metadata": {
        "id": "lRfbTc7iBqn-"
      },
      "execution_count": 8,
      "outputs": []
    },
    {
      "cell_type": "code",
      "source": [],
      "metadata": {
        "id": "YutbEwMuEZa9"
      },
      "execution_count": 32,
      "outputs": []
    },
    {
      "cell_type": "markdown",
      "source": [
        "# EDA"
      ],
      "metadata": {
        "id": "S_BpFkhnEcBn"
      }
    },
    {
      "cell_type": "code",
      "source": [
        "dataset.head()"
      ],
      "metadata": {
        "colab": {
          "base_uri": "https://localhost:8080/",
          "height": 233
        },
        "id": "E5ky71QdEocD",
        "outputId": "b578b0af-026c-429d-e933-be8e97fe6a35"
      },
      "execution_count": 9,
      "outputs": [
        {
          "output_type": "execute_result",
          "data": {
            "text/plain": [
              "   index school sex  age address famsize Pstatus  Medu  Fedu     Mjob  ...  \\\n",
              "0      0     GP   F   18       U     GT3       A     4     4  at_home  ...   \n",
              "1      1     GP   F   17       U     GT3       T     1     1  at_home  ...   \n",
              "2      2     GP   F   15       U     LE3       T     1     1  at_home  ...   \n",
              "3      3     GP   F   15       U     GT3       T     4     2   health  ...   \n",
              "4      4     GP   F   16       U     GT3       T     3     3    other  ...   \n",
              "\n",
              "  freetime goout Dalc  Walc  health  absences  G1  G2  G3 subject  \n",
              "0        3     4    1     1       3         6   5   6   6    math  \n",
              "1        3     3    1     1       3         4   5   5   6    math  \n",
              "2        3     2    2     3       3        10   7   8  10    math  \n",
              "3        2     2    1     1       5         2  15  14  15    math  \n",
              "4        3     2    1     2       5         4   6  10  10    math  \n",
              "\n",
              "[5 rows x 35 columns]"
            ],
            "text/html": [
              "\n",
              "  <div id=\"df-8310abf1-4e6a-44d9-9395-120cecb62236\">\n",
              "    <div class=\"colab-df-container\">\n",
              "      <div>\n",
              "<style scoped>\n",
              "    .dataframe tbody tr th:only-of-type {\n",
              "        vertical-align: middle;\n",
              "    }\n",
              "\n",
              "    .dataframe tbody tr th {\n",
              "        vertical-align: top;\n",
              "    }\n",
              "\n",
              "    .dataframe thead th {\n",
              "        text-align: right;\n",
              "    }\n",
              "</style>\n",
              "<table border=\"1\" class=\"dataframe\">\n",
              "  <thead>\n",
              "    <tr style=\"text-align: right;\">\n",
              "      <th></th>\n",
              "      <th>index</th>\n",
              "      <th>school</th>\n",
              "      <th>sex</th>\n",
              "      <th>age</th>\n",
              "      <th>address</th>\n",
              "      <th>famsize</th>\n",
              "      <th>Pstatus</th>\n",
              "      <th>Medu</th>\n",
              "      <th>Fedu</th>\n",
              "      <th>Mjob</th>\n",
              "      <th>...</th>\n",
              "      <th>freetime</th>\n",
              "      <th>goout</th>\n",
              "      <th>Dalc</th>\n",
              "      <th>Walc</th>\n",
              "      <th>health</th>\n",
              "      <th>absences</th>\n",
              "      <th>G1</th>\n",
              "      <th>G2</th>\n",
              "      <th>G3</th>\n",
              "      <th>subject</th>\n",
              "    </tr>\n",
              "  </thead>\n",
              "  <tbody>\n",
              "    <tr>\n",
              "      <th>0</th>\n",
              "      <td>0</td>\n",
              "      <td>GP</td>\n",
              "      <td>F</td>\n",
              "      <td>18</td>\n",
              "      <td>U</td>\n",
              "      <td>GT3</td>\n",
              "      <td>A</td>\n",
              "      <td>4</td>\n",
              "      <td>4</td>\n",
              "      <td>at_home</td>\n",
              "      <td>...</td>\n",
              "      <td>3</td>\n",
              "      <td>4</td>\n",
              "      <td>1</td>\n",
              "      <td>1</td>\n",
              "      <td>3</td>\n",
              "      <td>6</td>\n",
              "      <td>5</td>\n",
              "      <td>6</td>\n",
              "      <td>6</td>\n",
              "      <td>math</td>\n",
              "    </tr>\n",
              "    <tr>\n",
              "      <th>1</th>\n",
              "      <td>1</td>\n",
              "      <td>GP</td>\n",
              "      <td>F</td>\n",
              "      <td>17</td>\n",
              "      <td>U</td>\n",
              "      <td>GT3</td>\n",
              "      <td>T</td>\n",
              "      <td>1</td>\n",
              "      <td>1</td>\n",
              "      <td>at_home</td>\n",
              "      <td>...</td>\n",
              "      <td>3</td>\n",
              "      <td>3</td>\n",
              "      <td>1</td>\n",
              "      <td>1</td>\n",
              "      <td>3</td>\n",
              "      <td>4</td>\n",
              "      <td>5</td>\n",
              "      <td>5</td>\n",
              "      <td>6</td>\n",
              "      <td>math</td>\n",
              "    </tr>\n",
              "    <tr>\n",
              "      <th>2</th>\n",
              "      <td>2</td>\n",
              "      <td>GP</td>\n",
              "      <td>F</td>\n",
              "      <td>15</td>\n",
              "      <td>U</td>\n",
              "      <td>LE3</td>\n",
              "      <td>T</td>\n",
              "      <td>1</td>\n",
              "      <td>1</td>\n",
              "      <td>at_home</td>\n",
              "      <td>...</td>\n",
              "      <td>3</td>\n",
              "      <td>2</td>\n",
              "      <td>2</td>\n",
              "      <td>3</td>\n",
              "      <td>3</td>\n",
              "      <td>10</td>\n",
              "      <td>7</td>\n",
              "      <td>8</td>\n",
              "      <td>10</td>\n",
              "      <td>math</td>\n",
              "    </tr>\n",
              "    <tr>\n",
              "      <th>3</th>\n",
              "      <td>3</td>\n",
              "      <td>GP</td>\n",
              "      <td>F</td>\n",
              "      <td>15</td>\n",
              "      <td>U</td>\n",
              "      <td>GT3</td>\n",
              "      <td>T</td>\n",
              "      <td>4</td>\n",
              "      <td>2</td>\n",
              "      <td>health</td>\n",
              "      <td>...</td>\n",
              "      <td>2</td>\n",
              "      <td>2</td>\n",
              "      <td>1</td>\n",
              "      <td>1</td>\n",
              "      <td>5</td>\n",
              "      <td>2</td>\n",
              "      <td>15</td>\n",
              "      <td>14</td>\n",
              "      <td>15</td>\n",
              "      <td>math</td>\n",
              "    </tr>\n",
              "    <tr>\n",
              "      <th>4</th>\n",
              "      <td>4</td>\n",
              "      <td>GP</td>\n",
              "      <td>F</td>\n",
              "      <td>16</td>\n",
              "      <td>U</td>\n",
              "      <td>GT3</td>\n",
              "      <td>T</td>\n",
              "      <td>3</td>\n",
              "      <td>3</td>\n",
              "      <td>other</td>\n",
              "      <td>...</td>\n",
              "      <td>3</td>\n",
              "      <td>2</td>\n",
              "      <td>1</td>\n",
              "      <td>2</td>\n",
              "      <td>5</td>\n",
              "      <td>4</td>\n",
              "      <td>6</td>\n",
              "      <td>10</td>\n",
              "      <td>10</td>\n",
              "      <td>math</td>\n",
              "    </tr>\n",
              "  </tbody>\n",
              "</table>\n",
              "<p>5 rows × 35 columns</p>\n",
              "</div>\n",
              "      <button class=\"colab-df-convert\" onclick=\"convertToInteractive('df-8310abf1-4e6a-44d9-9395-120cecb62236')\"\n",
              "              title=\"Convert this dataframe to an interactive table.\"\n",
              "              style=\"display:none;\">\n",
              "        \n",
              "  <svg xmlns=\"http://www.w3.org/2000/svg\" height=\"24px\"viewBox=\"0 0 24 24\"\n",
              "       width=\"24px\">\n",
              "    <path d=\"M0 0h24v24H0V0z\" fill=\"none\"/>\n",
              "    <path d=\"M18.56 5.44l.94 2.06.94-2.06 2.06-.94-2.06-.94-.94-2.06-.94 2.06-2.06.94zm-11 1L8.5 8.5l.94-2.06 2.06-.94-2.06-.94L8.5 2.5l-.94 2.06-2.06.94zm10 10l.94 2.06.94-2.06 2.06-.94-2.06-.94-.94-2.06-.94 2.06-2.06.94z\"/><path d=\"M17.41 7.96l-1.37-1.37c-.4-.4-.92-.59-1.43-.59-.52 0-1.04.2-1.43.59L10.3 9.45l-7.72 7.72c-.78.78-.78 2.05 0 2.83L4 21.41c.39.39.9.59 1.41.59.51 0 1.02-.2 1.41-.59l7.78-7.78 2.81-2.81c.8-.78.8-2.07 0-2.86zM5.41 20L4 18.59l7.72-7.72 1.47 1.35L5.41 20z\"/>\n",
              "  </svg>\n",
              "      </button>\n",
              "      \n",
              "  <style>\n",
              "    .colab-df-container {\n",
              "      display:flex;\n",
              "      flex-wrap:wrap;\n",
              "      gap: 12px;\n",
              "    }\n",
              "\n",
              "    .colab-df-convert {\n",
              "      background-color: #E8F0FE;\n",
              "      border: none;\n",
              "      border-radius: 50%;\n",
              "      cursor: pointer;\n",
              "      display: none;\n",
              "      fill: #1967D2;\n",
              "      height: 32px;\n",
              "      padding: 0 0 0 0;\n",
              "      width: 32px;\n",
              "    }\n",
              "\n",
              "    .colab-df-convert:hover {\n",
              "      background-color: #E2EBFA;\n",
              "      box-shadow: 0px 1px 2px rgba(60, 64, 67, 0.3), 0px 1px 3px 1px rgba(60, 64, 67, 0.15);\n",
              "      fill: #174EA6;\n",
              "    }\n",
              "\n",
              "    [theme=dark] .colab-df-convert {\n",
              "      background-color: #3B4455;\n",
              "      fill: #D2E3FC;\n",
              "    }\n",
              "\n",
              "    [theme=dark] .colab-df-convert:hover {\n",
              "      background-color: #434B5C;\n",
              "      box-shadow: 0px 1px 3px 1px rgba(0, 0, 0, 0.15);\n",
              "      filter: drop-shadow(0px 1px 2px rgba(0, 0, 0, 0.3));\n",
              "      fill: #FFFFFF;\n",
              "    }\n",
              "  </style>\n",
              "\n",
              "      <script>\n",
              "        const buttonEl =\n",
              "          document.querySelector('#df-8310abf1-4e6a-44d9-9395-120cecb62236 button.colab-df-convert');\n",
              "        buttonEl.style.display =\n",
              "          google.colab.kernel.accessAllowed ? 'block' : 'none';\n",
              "\n",
              "        async function convertToInteractive(key) {\n",
              "          const element = document.querySelector('#df-8310abf1-4e6a-44d9-9395-120cecb62236');\n",
              "          const dataTable =\n",
              "            await google.colab.kernel.invokeFunction('convertToInteractive',\n",
              "                                                     [key], {});\n",
              "          if (!dataTable) return;\n",
              "\n",
              "          const docLinkHtml = 'Like what you see? Visit the ' +\n",
              "            '<a target=\"_blank\" href=https://colab.research.google.com/notebooks/data_table.ipynb>data table notebook</a>'\n",
              "            + ' to learn more about interactive tables.';\n",
              "          element.innerHTML = '';\n",
              "          dataTable['output_type'] = 'display_data';\n",
              "          await google.colab.output.renderOutput(dataTable, element);\n",
              "          const docLink = document.createElement('div');\n",
              "          docLink.innerHTML = docLinkHtml;\n",
              "          element.appendChild(docLink);\n",
              "        }\n",
              "      </script>\n",
              "    </div>\n",
              "  </div>\n",
              "  "
            ]
          },
          "metadata": {},
          "execution_count": 9
        }
      ]
    },
    {
      "cell_type": "code",
      "source": [
        "sns.catplot(data=dataset, kind=\"box\", x=\"Mjob\", y=\"G3\", hue=\"famsize\")"
      ],
      "metadata": {
        "colab": {
          "base_uri": "https://localhost:8080/",
          "height": 386
        },
        "id": "fjJm3qvtFAkj",
        "outputId": "0c5aadad-f8f1-464b-8057-bc98ddc4c115"
      },
      "execution_count": 35,
      "outputs": [
        {
          "output_type": "execute_result",
          "data": {
            "text/plain": [
              "<seaborn.axisgrid.FacetGrid at 0x7f609e5c3070>"
            ]
          },
          "metadata": {},
          "execution_count": 35
        },
        {
          "output_type": "display_data",
          "data": {
            "text/plain": [
              "<Figure size 415.625x360 with 1 Axes>"
            ],
            "image/png": "[encoded data removed]"
          },
          "metadata": {
            "needs_background": "light"
          }
        }
      ]
    },
    {
      "cell_type": "code",
      "source": [
        "plt.figure(figsize= (10,10))\n",
        "sns.boxplot(data = dataset['G3'])\n",
        "plt.title('Boxplot showing distribution of G3 grades for students')\n",
        "plt.xlabel('')\n",
        "plt.ylabel('')\n",
        "plt.show()"
      ],
      "metadata": {
        "colab": {
          "base_uri": "https://localhost:8080/",
          "height": 607
        },
        "id": "5wthACSGEdMR",
        "outputId": "2ed50496-6035-401e-8730-d5dc4f227d77"
      },
      "execution_count": 36,
      "outputs": [
        {
          "output_type": "display_data",
          "data": {
            "text/plain": [
              "<Figure size 720x720 with 1 Axes>"
            ],
            "image/png": "[encoded data removed]"
          },
          "metadata": {
            "needs_background": "light"
          }
        }
      ]
    },
    {
      "cell_type": "code",
      "source": [
        "plt.scatter(dataset['G1'], dataset['G3'], color='blue')\n",
        "\n",
        "plt.xlabel(\"G1 grade \")\n",
        "plt.ylabel(\"G3 grade\")\n",
        "plt.title(\"Scatter plot G1 against G3 grades\")\n",
        "plt.show()"
      ],
      "metadata": {
        "colab": {
          "base_uri": "https://localhost:8080/",
          "height": 295
        },
        "id": "OWTrfBCtE0bd",
        "outputId": "ae3eb41a-faa2-4013-9fca-47bd8a8aed00"
      },
      "execution_count": 24,
      "outputs": [
        {
          "output_type": "display_data",
          "data": {
            "text/plain": [
              "<Figure size 432x288 with 1 Axes>"
            ],
            "image/png": "[encoded data removed]"
          },
          "metadata": {
            "needs_background": "light"
          }
        }
      ]
    },
    {
      "cell_type": "markdown",
      "source": [
        "# T tests"
      ],
      "metadata": {
        "id": "AN9LjYz5NhaG"
      }
    },
    {
      "cell_type": "code",
      "source": [
        "#degrees of freedom code for Welch test \n",
        "#code from https://pythonfordatascienceorg.wordpress.com/welch-t-test-python-pandas/ (values checked against R output)\n",
        "\n",
        "def welch_dof(x, y): \n",
        "    '''\n",
        "    Takes in final grades for binary features\n",
        "    Returns degrees of freedom \n",
        "    '''\n",
        "    dof = (x.var()/x.size + y.var()/y.size)**2 / ((x.var()/x.size)**2 / (x.size-1) + (y.var()/y.size)**2 / (y.size-1))\n",
        "    return dof"
      ],
      "metadata": {
        "id": "Y6DVVeE_N2fl"
      },
      "execution_count": 29,
      "outputs": []
    },
    {
      "cell_type": "code",
      "source": [
        "dataset['famsize'].unique()"
      ],
      "metadata": {
        "colab": {
          "base_uri": "https://localhost:8080/"
        },
        "id": "s3z4idZGYvfE",
        "outputId": "f44dbdec-bc08-4ea2-ea05-b3b38f6f4c76"
      },
      "execution_count": 38,
      "outputs": [
        {
          "output_type": "execute_result",
          "data": {
            "text/plain": [
              "<StringArray>\n",
              "['GT3', 'LE3']\n",
              "Length: 2, dtype: string"
            ]
          },
          "metadata": {},
          "execution_count": 38
        }
      ]
    },
    {
      "cell_type": "code",
      "source": [
        "##Conduct family size t-test (LE3 is less than 3, GT3 is greater than 3)##\n",
        "\n",
        "#create family size groups from dataset \n",
        "LE3_famsize = dataset[dataset['famsize']=='LE3']\n",
        "GT3_famsize = dataset[dataset['famsize']=='GT3']\n",
        "\n",
        "\n",
        "LE3_G3 = LE3_famsize['G3']\n",
        "GT3_G3 = GT3_famsize['G3']\n",
        "\n",
        "#conduct ttest\n",
        "print('Ttest results for period 3 grades:',stats.ttest_ind(LE3_G3, GT3_G3, equal_var=False)) #p value is significant"
      ],
      "metadata": {
        "colab": {
          "base_uri": "https://localhost:8080/"
        },
        "id": "cnTsxM-QNifF",
        "outputId": "fa967ba6-af59-4031-cfa4-040ddf8f4c35"
      },
      "execution_count": 25,
      "outputs": [
        {
          "output_type": "stream",
          "name": "stdout",
          "text": [
            "Ttest results for period 3 grades: Ttest_indResult(statistic=2.091111791391883, pvalue=0.03690810440658107)\n"
          ]
        }
      ]
    },
    {
      "cell_type": "code",
      "source": [
        "LE3_G3"
      ],
      "metadata": {
        "colab": {
          "base_uri": "https://localhost:8080/"
        },
        "id": "l16wYQFmZ3y0",
        "outputId": "7c4d4038-4209-460e-83f4-3a2863064380"
      },
      "execution_count": 39,
      "outputs": [
        {
          "output_type": "execute_result",
          "data": {
            "text/plain": [
              "2       10\n",
              "5       15\n",
              "6       11\n",
              "8       19\n",
              "12      14\n",
              "        ..\n",
              "1025    17\n",
              "1028    14\n",
              "1040    16\n",
              "1042    10\n",
              "1043    11\n",
              "Name: G3, Length: 306, dtype: int64"
            ]
          },
          "metadata": {},
          "execution_count": 39
        }
      ]
    },
    {
      "cell_type": "code",
      "source": [
        "#calculate mean and standard deviation of groups \n",
        "#those with less than 3 in family show higher mean average score \n",
        "print('Mean Grades for period 3, LE3, GT3:',LE3_G3.mean(), GT3_G3.mean())\n",
        "print('Standard deviation for period 3, LE3, GT3:',LE3_G3.std(), GT3_G3.std())"
      ],
      "metadata": {
        "colab": {
          "base_uri": "https://localhost:8080/"
        },
        "id": "_JgQBs6-NqCt",
        "outputId": "b0c7829e-92a7-4e03-f499-556b75707124"
      },
      "execution_count": 26,
      "outputs": [
        {
          "output_type": "stream",
          "name": "stdout",
          "text": [
            "Mean Grades for period 3, LE3, GT3: 11.709150326797385 11.18970189701897\n",
            "Standard deviation for period 3, LE3, GT3: 3.500404837984712 3.998548198952353\n"
          ]
        }
      ]
    },
    {
      "cell_type": "code",
      "source": [
        "# compute confidence interval \n",
        "import statsmodels.stats.api as sms\n",
        "cm = sms.CompareMeans(sms.DescrStatsW(LE3_G3), sms.DescrStatsW(GT3_G3))\n",
        "print('Confidence interval for period 3:',cm.tconfint_diff(usevar='unequal'))"
      ],
      "metadata": {
        "colab": {
          "base_uri": "https://localhost:8080/"
        },
        "id": "4PFrx-d-Ns61",
        "outputId": "070a0e11-5d6a-47c8-fe05-e2d86b0db9a9"
      },
      "execution_count": 27,
      "outputs": [
        {
          "output_type": "stream",
          "name": "stdout",
          "text": [
            "Confidence interval for period 3: (0.03166431552138754, 1.007232544035441)\n"
          ]
        }
      ]
    },
    {
      "cell_type": "code",
      "source": [
        "#welch dof \n",
        "print('DOF for period 3:',welch_dof(LE3_G3, GT3_G3))"
      ],
      "metadata": {
        "colab": {
          "base_uri": "https://localhost:8080/"
        },
        "id": "oVQayKiwNvrg",
        "outputId": "4bbabe70-79a4-4843-e8d1-ad7f951c9f22"
      },
      "execution_count": 30,
      "outputs": [
        {
          "output_type": "stream",
          "name": "stdout",
          "text": [
            "DOF for period 3: 646.0546929322937\n"
          ]
        }
      ]
    },
    {
      "cell_type": "markdown",
      "source": [
        "Example writeup: The results indicate that the mean final grade for students with family size less than three (3) (M=11.71, SD=3.50) is higher than the mean final grade for students with a family size greater than three (3) (M=11.19, SD=4.00). With alpha established at 0.05, this is a statistically significant difference as the p-value (0.036) is less than 0.05, 95% CI [0.03, 1.01]. Therefore, we can reject the null hypothesis that there is no difference in final grades for students with family size less than three (3) and family size greater than three (3)."
      ],
      "metadata": {
        "id": "Au-UI7AJOF1V"
      }
    },
    {
      "cell_type": "markdown",
      "source": [
        "#Interaction plots "
      ],
      "metadata": {
        "id": "9ExZqsGkEaVR"
      }
    },
    {
      "cell_type": "code",
      "source": [
        "dataset['romantic']"
      ],
      "metadata": {
        "colab": {
          "base_uri": "https://localhost:8080/"
        },
        "id": "Pu8_mFwcar0L",
        "outputId": "9c1e35de-4a73-4db0-df7d-bfd5ab590b76"
      },
      "execution_count": 40,
      "outputs": [
        {
          "output_type": "execute_result",
          "data": {
            "text/plain": [
              "0        no\n",
              "1        no\n",
              "2        no\n",
              "3       yes\n",
              "4        no\n",
              "       ... \n",
              "1039     no\n",
              "1040     no\n",
              "1041     no\n",
              "1042     no\n",
              "1043     no\n",
              "Name: romantic, Length: 1044, dtype: string"
            ]
          },
          "metadata": {},
          "execution_count": 40
        }
      ]
    },
    {
      "cell_type": "code",
      "execution_count": 7,
      "metadata": {
        "colab": {
          "base_uri": "https://localhost:8080/",
          "height": 295
        },
        "id": "w5j772JcAhAQ",
        "outputId": "99c1f688-0b2c-4139-bd3f-676b6f2d4a8a"
      },
      "outputs": [
        {
          "output_type": "display_data",
          "data": {
            "text/plain": [
              "<Figure size 432x288 with 1 Axes>"
            ],
            "image/png": "[encoded data removed]"
          },
          "metadata": {
            "needs_background": "light"
          }
        }
      ],
      "source": [
        "#plot an interaction plot \n",
        "#refer to: https://www.statsmodels.org/dev/generated/statsmodels.graphics.factorplots.interaction_plot.html\n",
        "from statsmodels.graphics.factorplots import interaction_plot\n",
        "\n",
        "ROMANTIC = dataset['romantic'].astype(\"category\")\n",
        "final_grade = dataset['G3'].values\n",
        "\n",
        "\n",
        "rq_2_interaction = interaction_plot(dataset['Medu'], ROMANTIC, final_grade, colors=['red','blue'], markers=['D','^'], ms=10)\n",
        "#x axis(m_edu), trace (romantic status of the student), dependent variable (mean grade)\n",
        "\n",
        "\n",
        "plt.ylabel('Mean Grade')\n",
        "plt.xlabel('Mother education level')\n",
        "plt.title('Interaction Plot to show student mean final grades by mother education level and relationship status', fontweight='bold')\n",
        "plt.show()"
      ]
    },
    {
      "cell_type": "markdown",
      "source": [
        "Example writeup: While the interaction plot does not provide any information on statistically significant difference, the plot showed: (a) students not in a relationship have a higher average grade compared to students in a relationship; (b) there are no students who have a mother with no education and are in a relationship; and (c) there was a noticeable big difference in average grades between students whose mother had secondary level education but different in relationship status (N3 vs. Y3)"
      ],
      "metadata": {
        "id": "qi3A_DkuC9To"
      }
    },
    {
      "cell_type": "code",
      "source": [],
      "metadata": {
        "id": "sQj1xBDJBNWy"
      },
      "execution_count": null,
      "outputs": []
    }
  ]
}