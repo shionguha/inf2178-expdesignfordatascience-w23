{
 "cells": [
  {
   "cell_type": "code",
   "execution_count": 1,
   "metadata": {},
   "outputs": [],
   "source": [
    "import pandas as pd\n",
    "import numpy as np\n",
    "import matplotlib.pyplot as plt\n",
    "import seaborn as sns\n",
    "from sklearn import preprocessing as prep"
   ]
  },
  {
   "cell_type": "code",
   "execution_count": 2,
   "metadata": {},
   "outputs": [],
   "source": [
    "#Import the data first\n",
    "kaggle=pd.read_csv('Arrests_and_Strip_Searches_(RBDC-ARR-TBL-001).csv')"
   ]
  },
  {
   "cell_type": "code",
   "execution_count": 3,
   "metadata": {},
   "outputs": [
    {
     "data": {
      "text/html": [
       "<div>\n",
       "<style scoped>\n",
       "    .dataframe tbody tr th:only-of-type {\n",
       "        vertical-align: middle;\n",
       "    }\n",
       "\n",
       "    .dataframe tbody tr th {\n",
       "        vertical-align: top;\n",
       "    }\n",
       "\n",
       "    .dataframe thead th {\n",
       "        text-align: right;\n",
       "    }\n",
       "</style>\n",
       "<table border=\"1\" class=\"dataframe\">\n",
       "  <thead>\n",
       "    <tr style=\"text-align: right;\">\n",
       "      <th></th>\n",
       "      <th>Arrest_Year</th>\n",
       "      <th>Arrest_Month</th>\n",
       "      <th>EventID</th>\n",
       "      <th>ArrestID</th>\n",
       "      <th>PersonID</th>\n",
       "      <th>Perceived_Race</th>\n",
       "      <th>Sex</th>\n",
       "      <th>Age_group__at_arrest_</th>\n",
       "      <th>Youth_at_arrest__under_18_years</th>\n",
       "      <th>ArrestLocDiv</th>\n",
       "      <th>...</th>\n",
       "      <th>Actions_at_arrest___Resisted__d</th>\n",
       "      <th>Actions_at_arrest___Mental_inst</th>\n",
       "      <th>Actions_at_arrest___Assaulted_o</th>\n",
       "      <th>Actions_at_arrest___Cooperative</th>\n",
       "      <th>SearchReason_CauseInjury</th>\n",
       "      <th>SearchReason_AssistEscape</th>\n",
       "      <th>SearchReason_PossessWeapons</th>\n",
       "      <th>SearchReason_PossessEvidence</th>\n",
       "      <th>ItemsFound</th>\n",
       "      <th>ObjectId</th>\n",
       "    </tr>\n",
       "  </thead>\n",
       "  <tbody>\n",
       "    <tr>\n",
       "      <th>0</th>\n",
       "      <td>2020</td>\n",
       "      <td>July-Sept</td>\n",
       "      <td>1005907</td>\n",
       "      <td>6017884.0</td>\n",
       "      <td>326622</td>\n",
       "      <td>White</td>\n",
       "      <td>M</td>\n",
       "      <td>Aged 35 to 44 years</td>\n",
       "      <td>Not a youth</td>\n",
       "      <td>54</td>\n",
       "      <td>...</td>\n",
       "      <td>0</td>\n",
       "      <td>0</td>\n",
       "      <td>0</td>\n",
       "      <td>1</td>\n",
       "      <td>NaN</td>\n",
       "      <td>NaN</td>\n",
       "      <td>NaN</td>\n",
       "      <td>NaN</td>\n",
       "      <td>NaN</td>\n",
       "      <td>1</td>\n",
       "    </tr>\n",
       "    <tr>\n",
       "      <th>1</th>\n",
       "      <td>2020</td>\n",
       "      <td>July-Sept</td>\n",
       "      <td>1014562</td>\n",
       "      <td>6056669.0</td>\n",
       "      <td>326622</td>\n",
       "      <td>White</td>\n",
       "      <td>M</td>\n",
       "      <td>Aged 35 to 44 years</td>\n",
       "      <td>Not a youth</td>\n",
       "      <td>54</td>\n",
       "      <td>...</td>\n",
       "      <td>0</td>\n",
       "      <td>0</td>\n",
       "      <td>0</td>\n",
       "      <td>0</td>\n",
       "      <td>NaN</td>\n",
       "      <td>NaN</td>\n",
       "      <td>NaN</td>\n",
       "      <td>NaN</td>\n",
       "      <td>NaN</td>\n",
       "      <td>2</td>\n",
       "    </tr>\n",
       "    <tr>\n",
       "      <th>2</th>\n",
       "      <td>2020</td>\n",
       "      <td>Oct-Dec</td>\n",
       "      <td>1029922</td>\n",
       "      <td>6057065.0</td>\n",
       "      <td>326622</td>\n",
       "      <td>Unknown or Legacy</td>\n",
       "      <td>M</td>\n",
       "      <td>Aged 35 to 44 years</td>\n",
       "      <td>Not a youth</td>\n",
       "      <td>54</td>\n",
       "      <td>...</td>\n",
       "      <td>0</td>\n",
       "      <td>0</td>\n",
       "      <td>0</td>\n",
       "      <td>0</td>\n",
       "      <td>NaN</td>\n",
       "      <td>NaN</td>\n",
       "      <td>NaN</td>\n",
       "      <td>NaN</td>\n",
       "      <td>NaN</td>\n",
       "      <td>3</td>\n",
       "    </tr>\n",
       "    <tr>\n",
       "      <th>3</th>\n",
       "      <td>2021</td>\n",
       "      <td>Jan-Mar</td>\n",
       "      <td>1052190</td>\n",
       "      <td>6029059.0</td>\n",
       "      <td>327535</td>\n",
       "      <td>Black</td>\n",
       "      <td>M</td>\n",
       "      <td>Aged 25 to 34 years</td>\n",
       "      <td>Not a youth</td>\n",
       "      <td>XX</td>\n",
       "      <td>...</td>\n",
       "      <td>0</td>\n",
       "      <td>0</td>\n",
       "      <td>0</td>\n",
       "      <td>0</td>\n",
       "      <td>NaN</td>\n",
       "      <td>NaN</td>\n",
       "      <td>NaN</td>\n",
       "      <td>NaN</td>\n",
       "      <td>NaN</td>\n",
       "      <td>4</td>\n",
       "    </tr>\n",
       "    <tr>\n",
       "      <th>4</th>\n",
       "      <td>2021</td>\n",
       "      <td>Jan-Mar</td>\n",
       "      <td>1015512</td>\n",
       "      <td>6040372.0</td>\n",
       "      <td>327535</td>\n",
       "      <td>South Asian</td>\n",
       "      <td>M</td>\n",
       "      <td>Aged 25 to 34 years</td>\n",
       "      <td>Not a youth</td>\n",
       "      <td>XX</td>\n",
       "      <td>...</td>\n",
       "      <td>0</td>\n",
       "      <td>0</td>\n",
       "      <td>0</td>\n",
       "      <td>0</td>\n",
       "      <td>NaN</td>\n",
       "      <td>NaN</td>\n",
       "      <td>NaN</td>\n",
       "      <td>NaN</td>\n",
       "      <td>NaN</td>\n",
       "      <td>5</td>\n",
       "    </tr>\n",
       "    <tr>\n",
       "      <th>...</th>\n",
       "      <td>...</td>\n",
       "      <td>...</td>\n",
       "      <td>...</td>\n",
       "      <td>...</td>\n",
       "      <td>...</td>\n",
       "      <td>...</td>\n",
       "      <td>...</td>\n",
       "      <td>...</td>\n",
       "      <td>...</td>\n",
       "      <td>...</td>\n",
       "      <td>...</td>\n",
       "      <td>...</td>\n",
       "      <td>...</td>\n",
       "      <td>...</td>\n",
       "      <td>...</td>\n",
       "      <td>...</td>\n",
       "      <td>...</td>\n",
       "      <td>...</td>\n",
       "      <td>...</td>\n",
       "      <td>...</td>\n",
       "      <td>...</td>\n",
       "    </tr>\n",
       "    <tr>\n",
       "      <th>65271</th>\n",
       "      <td>2021</td>\n",
       "      <td>Oct-Dec</td>\n",
       "      <td>1055609</td>\n",
       "      <td>6044336.0</td>\n",
       "      <td>316123</td>\n",
       "      <td>Indigenous</td>\n",
       "      <td>F</td>\n",
       "      <td>Aged 25 to 34 years</td>\n",
       "      <td>Not a youth</td>\n",
       "      <td>XX</td>\n",
       "      <td>...</td>\n",
       "      <td>1</td>\n",
       "      <td>0</td>\n",
       "      <td>0</td>\n",
       "      <td>0</td>\n",
       "      <td>NaN</td>\n",
       "      <td>NaN</td>\n",
       "      <td>NaN</td>\n",
       "      <td>NaN</td>\n",
       "      <td>NaN</td>\n",
       "      <td>65272</td>\n",
       "    </tr>\n",
       "    <tr>\n",
       "      <th>65272</th>\n",
       "      <td>2021</td>\n",
       "      <td>Oct-Dec</td>\n",
       "      <td>1032758</td>\n",
       "      <td>6031692.0</td>\n",
       "      <td>307736</td>\n",
       "      <td>South Asian</td>\n",
       "      <td>M</td>\n",
       "      <td>Aged 35 to 44 years</td>\n",
       "      <td>Not a youth</td>\n",
       "      <td>54</td>\n",
       "      <td>...</td>\n",
       "      <td>0</td>\n",
       "      <td>0</td>\n",
       "      <td>0</td>\n",
       "      <td>0</td>\n",
       "      <td>NaN</td>\n",
       "      <td>NaN</td>\n",
       "      <td>NaN</td>\n",
       "      <td>NaN</td>\n",
       "      <td>NaN</td>\n",
       "      <td>65273</td>\n",
       "    </tr>\n",
       "    <tr>\n",
       "      <th>65273</th>\n",
       "      <td>2021</td>\n",
       "      <td>Oct-Dec</td>\n",
       "      <td>1021067</td>\n",
       "      <td>6064396.0</td>\n",
       "      <td>324057</td>\n",
       "      <td>White</td>\n",
       "      <td>F</td>\n",
       "      <td>Aged 45 to 54 years</td>\n",
       "      <td>Not a youth</td>\n",
       "      <td>XX</td>\n",
       "      <td>...</td>\n",
       "      <td>0</td>\n",
       "      <td>0</td>\n",
       "      <td>0</td>\n",
       "      <td>0</td>\n",
       "      <td>NaN</td>\n",
       "      <td>NaN</td>\n",
       "      <td>NaN</td>\n",
       "      <td>NaN</td>\n",
       "      <td>NaN</td>\n",
       "      <td>65274</td>\n",
       "    </tr>\n",
       "    <tr>\n",
       "      <th>65274</th>\n",
       "      <td>2021</td>\n",
       "      <td>Oct-Dec</td>\n",
       "      <td>1008998</td>\n",
       "      <td>6008662.0</td>\n",
       "      <td>331870</td>\n",
       "      <td>Unknown or Legacy</td>\n",
       "      <td>M</td>\n",
       "      <td>Aged 17 years and under</td>\n",
       "      <td>Youth (aged 17 years and under)</td>\n",
       "      <td>XX</td>\n",
       "      <td>...</td>\n",
       "      <td>0</td>\n",
       "      <td>0</td>\n",
       "      <td>0</td>\n",
       "      <td>1</td>\n",
       "      <td>NaN</td>\n",
       "      <td>NaN</td>\n",
       "      <td>NaN</td>\n",
       "      <td>NaN</td>\n",
       "      <td>NaN</td>\n",
       "      <td>65275</td>\n",
       "    </tr>\n",
       "    <tr>\n",
       "      <th>65275</th>\n",
       "      <td>2021</td>\n",
       "      <td>Oct-Dec</td>\n",
       "      <td>1033395</td>\n",
       "      <td>6032145.0</td>\n",
       "      <td>310583</td>\n",
       "      <td>Latino</td>\n",
       "      <td>M</td>\n",
       "      <td>Aged 18 to 24 years</td>\n",
       "      <td>Not a youth</td>\n",
       "      <td>XX</td>\n",
       "      <td>...</td>\n",
       "      <td>0</td>\n",
       "      <td>0</td>\n",
       "      <td>0</td>\n",
       "      <td>1</td>\n",
       "      <td>NaN</td>\n",
       "      <td>NaN</td>\n",
       "      <td>NaN</td>\n",
       "      <td>NaN</td>\n",
       "      <td>NaN</td>\n",
       "      <td>65276</td>\n",
       "    </tr>\n",
       "  </tbody>\n",
       "</table>\n",
       "<p>65276 rows × 25 columns</p>\n",
       "</div>"
      ],
      "text/plain": [
       "       Arrest_Year Arrest_Month  EventID   ArrestID  PersonID  \\\n",
       "0             2020    July-Sept  1005907  6017884.0    326622   \n",
       "1             2020    July-Sept  1014562  6056669.0    326622   \n",
       "2             2020      Oct-Dec  1029922  6057065.0    326622   \n",
       "3             2021      Jan-Mar  1052190  6029059.0    327535   \n",
       "4             2021      Jan-Mar  1015512  6040372.0    327535   \n",
       "...            ...          ...      ...        ...       ...   \n",
       "65271         2021      Oct-Dec  1055609  6044336.0    316123   \n",
       "65272         2021      Oct-Dec  1032758  6031692.0    307736   \n",
       "65273         2021      Oct-Dec  1021067  6064396.0    324057   \n",
       "65274         2021      Oct-Dec  1008998  6008662.0    331870   \n",
       "65275         2021      Oct-Dec  1033395  6032145.0    310583   \n",
       "\n",
       "          Perceived_Race Sex    Age_group__at_arrest_  \\\n",
       "0                  White   M      Aged 35 to 44 years   \n",
       "1                  White   M      Aged 35 to 44 years   \n",
       "2      Unknown or Legacy   M      Aged 35 to 44 years   \n",
       "3                  Black   M      Aged 25 to 34 years   \n",
       "4            South Asian   M      Aged 25 to 34 years   \n",
       "...                  ...  ..                      ...   \n",
       "65271         Indigenous   F      Aged 25 to 34 years   \n",
       "65272        South Asian   M      Aged 35 to 44 years   \n",
       "65273              White   F      Aged 45 to 54 years   \n",
       "65274  Unknown or Legacy   M  Aged 17 years and under   \n",
       "65275             Latino   M      Aged 18 to 24 years   \n",
       "\n",
       "       Youth_at_arrest__under_18_years ArrestLocDiv  ...  \\\n",
       "0                          Not a youth           54  ...   \n",
       "1                          Not a youth           54  ...   \n",
       "2                          Not a youth           54  ...   \n",
       "3                          Not a youth           XX  ...   \n",
       "4                          Not a youth           XX  ...   \n",
       "...                                ...          ...  ...   \n",
       "65271                      Not a youth           XX  ...   \n",
       "65272                      Not a youth           54  ...   \n",
       "65273                      Not a youth           XX  ...   \n",
       "65274  Youth (aged 17 years and under)           XX  ...   \n",
       "65275                      Not a youth           XX  ...   \n",
       "\n",
       "       Actions_at_arrest___Resisted__d  Actions_at_arrest___Mental_inst  \\\n",
       "0                                    0                                0   \n",
       "1                                    0                                0   \n",
       "2                                    0                                0   \n",
       "3                                    0                                0   \n",
       "4                                    0                                0   \n",
       "...                                ...                              ...   \n",
       "65271                                1                                0   \n",
       "65272                                0                                0   \n",
       "65273                                0                                0   \n",
       "65274                                0                                0   \n",
       "65275                                0                                0   \n",
       "\n",
       "      Actions_at_arrest___Assaulted_o  Actions_at_arrest___Cooperative  \\\n",
       "0                                   0                                1   \n",
       "1                                   0                                0   \n",
       "2                                   0                                0   \n",
       "3                                   0                                0   \n",
       "4                                   0                                0   \n",
       "...                               ...                              ...   \n",
       "65271                               0                                0   \n",
       "65272                               0                                0   \n",
       "65273                               0                                0   \n",
       "65274                               0                                1   \n",
       "65275                               0                                1   \n",
       "\n",
       "       SearchReason_CauseInjury  SearchReason_AssistEscape  \\\n",
       "0                           NaN                        NaN   \n",
       "1                           NaN                        NaN   \n",
       "2                           NaN                        NaN   \n",
       "3                           NaN                        NaN   \n",
       "4                           NaN                        NaN   \n",
       "...                         ...                        ...   \n",
       "65271                       NaN                        NaN   \n",
       "65272                       NaN                        NaN   \n",
       "65273                       NaN                        NaN   \n",
       "65274                       NaN                        NaN   \n",
       "65275                       NaN                        NaN   \n",
       "\n",
       "       SearchReason_PossessWeapons  SearchReason_PossessEvidence  ItemsFound  \\\n",
       "0                              NaN                           NaN         NaN   \n",
       "1                              NaN                           NaN         NaN   \n",
       "2                              NaN                           NaN         NaN   \n",
       "3                              NaN                           NaN         NaN   \n",
       "4                              NaN                           NaN         NaN   \n",
       "...                            ...                           ...         ...   \n",
       "65271                          NaN                           NaN         NaN   \n",
       "65272                          NaN                           NaN         NaN   \n",
       "65273                          NaN                           NaN         NaN   \n",
       "65274                          NaN                           NaN         NaN   \n",
       "65275                          NaN                           NaN         NaN   \n",
       "\n",
       "       ObjectId  \n",
       "0             1  \n",
       "1             2  \n",
       "2             3  \n",
       "3             4  \n",
       "4             5  \n",
       "...         ...  \n",
       "65271     65272  \n",
       "65272     65273  \n",
       "65273     65274  \n",
       "65274     65275  \n",
       "65275     65276  \n",
       "\n",
       "[65276 rows x 25 columns]"
      ]
     },
     "execution_count": 3,
     "metadata": {},
     "output_type": "execute_result"
    }
   ],
   "source": [
    "kaggle"
   ]
  },
  {
   "cell_type": "code",
   "execution_count": 4,
   "metadata": {},
   "outputs": [],
   "source": [
    "kaggle_crime_race=kaggle.loc[:,['Perceived_Race','Actions_at_arrest___Cooperative']]"
   ]
  },
  {
   "cell_type": "code",
   "execution_count": 5,
   "metadata": {},
   "outputs": [],
   "source": [
    "kaggle_crime_race_group=kaggle_crime_race.groupby('Perceived_Race').describe()"
   ]
  },
  {
   "cell_type": "code",
   "execution_count": 6,
   "metadata": {},
   "outputs": [
    {
     "data": {
      "text/html": [
       "<div>\n",
       "<style scoped>\n",
       "    .dataframe tbody tr th:only-of-type {\n",
       "        vertical-align: middle;\n",
       "    }\n",
       "\n",
       "    .dataframe tbody tr th {\n",
       "        vertical-align: top;\n",
       "    }\n",
       "\n",
       "    .dataframe thead tr th {\n",
       "        text-align: left;\n",
       "    }\n",
       "\n",
       "    .dataframe thead tr:last-of-type th {\n",
       "        text-align: right;\n",
       "    }\n",
       "</style>\n",
       "<table border=\"1\" class=\"dataframe\">\n",
       "  <thead>\n",
       "    <tr>\n",
       "      <th></th>\n",
       "      <th colspan=\"8\" halign=\"left\">Actions_at_arrest___Cooperative</th>\n",
       "    </tr>\n",
       "    <tr>\n",
       "      <th></th>\n",
       "      <th>count</th>\n",
       "      <th>mean</th>\n",
       "      <th>std</th>\n",
       "      <th>min</th>\n",
       "      <th>25%</th>\n",
       "      <th>50%</th>\n",
       "      <th>75%</th>\n",
       "      <th>max</th>\n",
       "    </tr>\n",
       "    <tr>\n",
       "      <th>Perceived_Race</th>\n",
       "      <th></th>\n",
       "      <th></th>\n",
       "      <th></th>\n",
       "      <th></th>\n",
       "      <th></th>\n",
       "      <th></th>\n",
       "      <th></th>\n",
       "      <th></th>\n",
       "    </tr>\n",
       "  </thead>\n",
       "  <tbody>\n",
       "    <tr>\n",
       "      <th>Black</th>\n",
       "      <td>17526.0</td>\n",
       "      <td>0.425996</td>\n",
       "      <td>0.494507</td>\n",
       "      <td>0.0</td>\n",
       "      <td>0.0</td>\n",
       "      <td>0.0</td>\n",
       "      <td>1.0</td>\n",
       "      <td>1.0</td>\n",
       "    </tr>\n",
       "    <tr>\n",
       "      <th>East/Southeast Asian</th>\n",
       "      <td>4415.0</td>\n",
       "      <td>0.513703</td>\n",
       "      <td>0.499869</td>\n",
       "      <td>0.0</td>\n",
       "      <td>0.0</td>\n",
       "      <td>1.0</td>\n",
       "      <td>1.0</td>\n",
       "      <td>1.0</td>\n",
       "    </tr>\n",
       "    <tr>\n",
       "      <th>Indigenous</th>\n",
       "      <td>1934.0</td>\n",
       "      <td>0.394002</td>\n",
       "      <td>0.488762</td>\n",
       "      <td>0.0</td>\n",
       "      <td>0.0</td>\n",
       "      <td>0.0</td>\n",
       "      <td>1.0</td>\n",
       "      <td>1.0</td>\n",
       "    </tr>\n",
       "    <tr>\n",
       "      <th>Latino</th>\n",
       "      <td>1768.0</td>\n",
       "      <td>0.507353</td>\n",
       "      <td>0.500087</td>\n",
       "      <td>0.0</td>\n",
       "      <td>0.0</td>\n",
       "      <td>1.0</td>\n",
       "      <td>1.0</td>\n",
       "      <td>1.0</td>\n",
       "    </tr>\n",
       "    <tr>\n",
       "      <th>Middle-Eastern</th>\n",
       "      <td>3237.0</td>\n",
       "      <td>0.467717</td>\n",
       "      <td>0.499034</td>\n",
       "      <td>0.0</td>\n",
       "      <td>0.0</td>\n",
       "      <td>0.0</td>\n",
       "      <td>1.0</td>\n",
       "      <td>1.0</td>\n",
       "    </tr>\n",
       "    <tr>\n",
       "      <th>South Asian</th>\n",
       "      <td>3613.0</td>\n",
       "      <td>0.461389</td>\n",
       "      <td>0.498576</td>\n",
       "      <td>0.0</td>\n",
       "      <td>0.0</td>\n",
       "      <td>0.0</td>\n",
       "      <td>1.0</td>\n",
       "      <td>1.0</td>\n",
       "    </tr>\n",
       "    <tr>\n",
       "      <th>Unknown or Legacy</th>\n",
       "      <td>5056.0</td>\n",
       "      <td>0.438884</td>\n",
       "      <td>0.496300</td>\n",
       "      <td>0.0</td>\n",
       "      <td>0.0</td>\n",
       "      <td>0.0</td>\n",
       "      <td>1.0</td>\n",
       "      <td>1.0</td>\n",
       "    </tr>\n",
       "    <tr>\n",
       "      <th>White</th>\n",
       "      <td>27723.0</td>\n",
       "      <td>0.444216</td>\n",
       "      <td>0.496887</td>\n",
       "      <td>0.0</td>\n",
       "      <td>0.0</td>\n",
       "      <td>0.0</td>\n",
       "      <td>1.0</td>\n",
       "      <td>1.0</td>\n",
       "    </tr>\n",
       "  </tbody>\n",
       "</table>\n",
       "</div>"
      ],
      "text/plain": [
       "                     Actions_at_arrest___Cooperative                           \\\n",
       "                                               count      mean       std  min   \n",
       "Perceived_Race                                                                  \n",
       "Black                                        17526.0  0.425996  0.494507  0.0   \n",
       "East/Southeast Asian                          4415.0  0.513703  0.499869  0.0   \n",
       "Indigenous                                    1934.0  0.394002  0.488762  0.0   \n",
       "Latino                                        1768.0  0.507353  0.500087  0.0   \n",
       "Middle-Eastern                                3237.0  0.467717  0.499034  0.0   \n",
       "South Asian                                   3613.0  0.461389  0.498576  0.0   \n",
       "Unknown or Legacy                             5056.0  0.438884  0.496300  0.0   \n",
       "White                                        27723.0  0.444216  0.496887  0.0   \n",
       "\n",
       "                                          \n",
       "                      25%  50%  75%  max  \n",
       "Perceived_Race                            \n",
       "Black                 0.0  0.0  1.0  1.0  \n",
       "East/Southeast Asian  0.0  1.0  1.0  1.0  \n",
       "Indigenous            0.0  0.0  1.0  1.0  \n",
       "Latino                0.0  1.0  1.0  1.0  \n",
       "Middle-Eastern        0.0  0.0  1.0  1.0  \n",
       "South Asian           0.0  0.0  1.0  1.0  \n",
       "Unknown or Legacy     0.0  0.0  1.0  1.0  \n",
       "White                 0.0  0.0  1.0  1.0  "
      ]
     },
     "execution_count": 6,
     "metadata": {},
     "output_type": "execute_result"
    }
   ],
   "source": [
    "kaggle_crime_race_group"
   ]
  },
  {
   "cell_type": "code",
   "execution_count": 7,
   "metadata": {},
   "outputs": [],
   "source": [
    "kaggle_crime_sex=kaggle.loc[:,['Sex','Actions_at_arrest___Cooperative']]"
   ]
  },
  {
   "cell_type": "code",
   "execution_count": 8,
   "metadata": {},
   "outputs": [],
   "source": [
    "kaggle_crime_sex_group=kaggle_crime_sex.groupby('Sex').describe()"
   ]
  },
  {
   "cell_type": "code",
   "execution_count": 9,
   "metadata": {},
   "outputs": [
    {
     "data": {
      "text/html": [
       "<div>\n",
       "<style scoped>\n",
       "    .dataframe tbody tr th:only-of-type {\n",
       "        vertical-align: middle;\n",
       "    }\n",
       "\n",
       "    .dataframe tbody tr th {\n",
       "        vertical-align: top;\n",
       "    }\n",
       "\n",
       "    .dataframe thead tr th {\n",
       "        text-align: left;\n",
       "    }\n",
       "\n",
       "    .dataframe thead tr:last-of-type th {\n",
       "        text-align: right;\n",
       "    }\n",
       "</style>\n",
       "<table border=\"1\" class=\"dataframe\">\n",
       "  <thead>\n",
       "    <tr>\n",
       "      <th></th>\n",
       "      <th colspan=\"8\" halign=\"left\">Actions_at_arrest___Cooperative</th>\n",
       "    </tr>\n",
       "    <tr>\n",
       "      <th></th>\n",
       "      <th>count</th>\n",
       "      <th>mean</th>\n",
       "      <th>std</th>\n",
       "      <th>min</th>\n",
       "      <th>25%</th>\n",
       "      <th>50%</th>\n",
       "      <th>75%</th>\n",
       "      <th>max</th>\n",
       "    </tr>\n",
       "    <tr>\n",
       "      <th>Sex</th>\n",
       "      <th></th>\n",
       "      <th></th>\n",
       "      <th></th>\n",
       "      <th></th>\n",
       "      <th></th>\n",
       "      <th></th>\n",
       "      <th></th>\n",
       "      <th></th>\n",
       "    </tr>\n",
       "  </thead>\n",
       "  <tbody>\n",
       "    <tr>\n",
       "      <th>F</th>\n",
       "      <td>12617.0</td>\n",
       "      <td>0.430372</td>\n",
       "      <td>0.495148</td>\n",
       "      <td>0.0</td>\n",
       "      <td>0.0</td>\n",
       "      <td>0.0</td>\n",
       "      <td>1.0</td>\n",
       "      <td>1.0</td>\n",
       "    </tr>\n",
       "    <tr>\n",
       "      <th>M</th>\n",
       "      <td>52650.0</td>\n",
       "      <td>0.449687</td>\n",
       "      <td>0.497467</td>\n",
       "      <td>0.0</td>\n",
       "      <td>0.0</td>\n",
       "      <td>0.0</td>\n",
       "      <td>1.0</td>\n",
       "      <td>1.0</td>\n",
       "    </tr>\n",
       "    <tr>\n",
       "      <th>U</th>\n",
       "      <td>9.0</td>\n",
       "      <td>0.333333</td>\n",
       "      <td>0.500000</td>\n",
       "      <td>0.0</td>\n",
       "      <td>0.0</td>\n",
       "      <td>0.0</td>\n",
       "      <td>1.0</td>\n",
       "      <td>1.0</td>\n",
       "    </tr>\n",
       "  </tbody>\n",
       "</table>\n",
       "</div>"
      ],
      "text/plain": [
       "    Actions_at_arrest___Cooperative                                          \\\n",
       "                              count      mean       std  min  25%  50%  75%   \n",
       "Sex                                                                           \n",
       "F                           12617.0  0.430372  0.495148  0.0  0.0  0.0  1.0   \n",
       "M                           52650.0  0.449687  0.497467  0.0  0.0  0.0  1.0   \n",
       "U                               9.0  0.333333  0.500000  0.0  0.0  0.0  1.0   \n",
       "\n",
       "          \n",
       "     max  \n",
       "Sex       \n",
       "F    1.0  \n",
       "M    1.0  \n",
       "U    1.0  "
      ]
     },
     "execution_count": 9,
     "metadata": {},
     "output_type": "execute_result"
    }
   ],
   "source": [
    "kaggle_crime_sex_group"
   ]
  },
  {
   "cell_type": "code",
   "execution_count": 10,
   "metadata": {},
   "outputs": [],
   "source": [
    "kaggle_crime_age=kaggle.loc[:,['Age_group__at_arrest_','Actions_at_arrest___Cooperative']]"
   ]
  },
  {
   "cell_type": "code",
   "execution_count": 11,
   "metadata": {},
   "outputs": [],
   "source": [
    "kaggle_crime_age=kaggle_crime_age.groupby('Age_group__at_arrest_').describe()"
   ]
  },
  {
   "cell_type": "code",
   "execution_count": 12,
   "metadata": {},
   "outputs": [
    {
     "data": {
      "text/html": [
       "<div>\n",
       "<style scoped>\n",
       "    .dataframe tbody tr th:only-of-type {\n",
       "        vertical-align: middle;\n",
       "    }\n",
       "\n",
       "    .dataframe tbody tr th {\n",
       "        vertical-align: top;\n",
       "    }\n",
       "\n",
       "    .dataframe thead tr th {\n",
       "        text-align: left;\n",
       "    }\n",
       "\n",
       "    .dataframe thead tr:last-of-type th {\n",
       "        text-align: right;\n",
       "    }\n",
       "</style>\n",
       "<table border=\"1\" class=\"dataframe\">\n",
       "  <thead>\n",
       "    <tr>\n",
       "      <th></th>\n",
       "      <th colspan=\"8\" halign=\"left\">Actions_at_arrest___Cooperative</th>\n",
       "    </tr>\n",
       "    <tr>\n",
       "      <th></th>\n",
       "      <th>count</th>\n",
       "      <th>mean</th>\n",
       "      <th>std</th>\n",
       "      <th>min</th>\n",
       "      <th>25%</th>\n",
       "      <th>50%</th>\n",
       "      <th>75%</th>\n",
       "      <th>max</th>\n",
       "    </tr>\n",
       "    <tr>\n",
       "      <th>Age_group__at_arrest_</th>\n",
       "      <th></th>\n",
       "      <th></th>\n",
       "      <th></th>\n",
       "      <th></th>\n",
       "      <th></th>\n",
       "      <th></th>\n",
       "      <th></th>\n",
       "      <th></th>\n",
       "    </tr>\n",
       "  </thead>\n",
       "  <tbody>\n",
       "    <tr>\n",
       "      <th>Aged 17 years and under</th>\n",
       "      <td>1361.0</td>\n",
       "      <td>0.456282</td>\n",
       "      <td>0.498268</td>\n",
       "      <td>0.0</td>\n",
       "      <td>0.0</td>\n",
       "      <td>0.0</td>\n",
       "      <td>1.0</td>\n",
       "      <td>1.0</td>\n",
       "    </tr>\n",
       "    <tr>\n",
       "      <th>Aged 17 years and younger</th>\n",
       "      <td>1681.0</td>\n",
       "      <td>0.472933</td>\n",
       "      <td>0.499415</td>\n",
       "      <td>0.0</td>\n",
       "      <td>0.0</td>\n",
       "      <td>0.0</td>\n",
       "      <td>1.0</td>\n",
       "      <td>1.0</td>\n",
       "    </tr>\n",
       "    <tr>\n",
       "      <th>Aged 18 to 24 years</th>\n",
       "      <td>10041.0</td>\n",
       "      <td>0.439996</td>\n",
       "      <td>0.496411</td>\n",
       "      <td>0.0</td>\n",
       "      <td>0.0</td>\n",
       "      <td>0.0</td>\n",
       "      <td>1.0</td>\n",
       "      <td>1.0</td>\n",
       "    </tr>\n",
       "    <tr>\n",
       "      <th>Aged 25 to 34 years</th>\n",
       "      <td>20949.0</td>\n",
       "      <td>0.435964</td>\n",
       "      <td>0.495894</td>\n",
       "      <td>0.0</td>\n",
       "      <td>0.0</td>\n",
       "      <td>0.0</td>\n",
       "      <td>1.0</td>\n",
       "      <td>1.0</td>\n",
       "    </tr>\n",
       "    <tr>\n",
       "      <th>Aged 35 to 44 years</th>\n",
       "      <td>16242.0</td>\n",
       "      <td>0.444219</td>\n",
       "      <td>0.496894</td>\n",
       "      <td>0.0</td>\n",
       "      <td>0.0</td>\n",
       "      <td>0.0</td>\n",
       "      <td>1.0</td>\n",
       "      <td>1.0</td>\n",
       "    </tr>\n",
       "    <tr>\n",
       "      <th>Aged 45 to 54 years</th>\n",
       "      <td>9066.0</td>\n",
       "      <td>0.461725</td>\n",
       "      <td>0.498560</td>\n",
       "      <td>0.0</td>\n",
       "      <td>0.0</td>\n",
       "      <td>0.0</td>\n",
       "      <td>1.0</td>\n",
       "      <td>1.0</td>\n",
       "    </tr>\n",
       "    <tr>\n",
       "      <th>Aged 55 to 64 years</th>\n",
       "      <td>4590.0</td>\n",
       "      <td>0.455120</td>\n",
       "      <td>0.498036</td>\n",
       "      <td>0.0</td>\n",
       "      <td>0.0</td>\n",
       "      <td>0.0</td>\n",
       "      <td>1.0</td>\n",
       "      <td>1.0</td>\n",
       "    </tr>\n",
       "    <tr>\n",
       "      <th>Aged 65 and older</th>\n",
       "      <td>624.0</td>\n",
       "      <td>0.496795</td>\n",
       "      <td>0.500391</td>\n",
       "      <td>0.0</td>\n",
       "      <td>0.0</td>\n",
       "      <td>0.0</td>\n",
       "      <td>1.0</td>\n",
       "      <td>1.0</td>\n",
       "    </tr>\n",
       "    <tr>\n",
       "      <th>Aged 65 years and older</th>\n",
       "      <td>698.0</td>\n",
       "      <td>0.479943</td>\n",
       "      <td>0.499956</td>\n",
       "      <td>0.0</td>\n",
       "      <td>0.0</td>\n",
       "      <td>0.0</td>\n",
       "      <td>1.0</td>\n",
       "      <td>1.0</td>\n",
       "    </tr>\n",
       "  </tbody>\n",
       "</table>\n",
       "</div>"
      ],
      "text/plain": [
       "                          Actions_at_arrest___Cooperative                      \\\n",
       "                                                    count      mean       std   \n",
       "Age_group__at_arrest_                                                           \n",
       "Aged 17 years and under                            1361.0  0.456282  0.498268   \n",
       "Aged 17 years and younger                          1681.0  0.472933  0.499415   \n",
       "Aged 18 to 24 years                               10041.0  0.439996  0.496411   \n",
       "Aged 25 to 34 years                               20949.0  0.435964  0.495894   \n",
       "Aged 35 to 44 years                               16242.0  0.444219  0.496894   \n",
       "Aged 45 to 54 years                                9066.0  0.461725  0.498560   \n",
       "Aged 55 to 64 years                                4590.0  0.455120  0.498036   \n",
       "Aged 65 and older                                   624.0  0.496795  0.500391   \n",
       "Aged 65 years and older                             698.0  0.479943  0.499956   \n",
       "\n",
       "                                                    \n",
       "                           min  25%  50%  75%  max  \n",
       "Age_group__at_arrest_                               \n",
       "Aged 17 years and under    0.0  0.0  0.0  1.0  1.0  \n",
       "Aged 17 years and younger  0.0  0.0  0.0  1.0  1.0  \n",
       "Aged 18 to 24 years        0.0  0.0  0.0  1.0  1.0  \n",
       "Aged 25 to 34 years        0.0  0.0  0.0  1.0  1.0  \n",
       "Aged 35 to 44 years        0.0  0.0  0.0  1.0  1.0  \n",
       "Aged 45 to 54 years        0.0  0.0  0.0  1.0  1.0  \n",
       "Aged 55 to 64 years        0.0  0.0  0.0  1.0  1.0  \n",
       "Aged 65 and older          0.0  0.0  0.0  1.0  1.0  \n",
       "Aged 65 years and older    0.0  0.0  0.0  1.0  1.0  "
      ]
     },
     "execution_count": 12,
     "metadata": {},
     "output_type": "execute_result"
    }
   ],
   "source": [
    "kaggle_crime_age"
   ]
  },
  {
   "cell_type": "code",
   "execution_count": 13,
   "metadata": {},
   "outputs": [
    {
     "data": {
      "text/plain": [
       "Text(0.5, 1.0, 'Cooperative Rate for people with different race')"
      ]
     },
     "execution_count": 13,
     "metadata": {},
     "output_type": "execute_result"
    },
    {
     "data": {
      "image/png": "[encoded data removed]",
      "text/plain": [
       "<Figure size 432x288 with 1 Axes>"
      ]
     },
     "metadata": {
      "needs_background": "light"
     },
     "output_type": "display_data"
    }
   ],
   "source": [
    "kaggle_race_group_mean=kaggle_crime_race_group.iloc[:,1].rename_axis('Race').reset_index(name='Cooperative Rate')\n",
    "cooperative_rate=kaggle_crime_race_group.iloc[:,1]\n",
    "kaggle_race_group_mean.plot.bar(x='Race',color='red')\n",
    "plt.ylabel('Cooperative Rate')\n",
    "plt.title('Cooperative Rate for people with different race')"
   ]
  },
  {
   "cell_type": "markdown",
   "metadata": {},
   "source": [
    "# Data Cleaning"
   ]
  },
  {
   "cell_type": "code",
   "execution_count": 14,
   "metadata": {},
   "outputs": [],
   "source": [
    "kaggle_null_sum=pd.DataFrame(kaggle.isnull().sum())"
   ]
  },
  {
   "cell_type": "code",
   "execution_count": 15,
   "metadata": {},
   "outputs": [
    {
     "data": {
      "text/html": [
       "<div>\n",
       "<style scoped>\n",
       "    .dataframe tbody tr th:only-of-type {\n",
       "        vertical-align: middle;\n",
       "    }\n",
       "\n",
       "    .dataframe tbody tr th {\n",
       "        vertical-align: top;\n",
       "    }\n",
       "\n",
       "    .dataframe thead th {\n",
       "        text-align: right;\n",
       "    }\n",
       "</style>\n",
       "<table border=\"1\" class=\"dataframe\">\n",
       "  <thead>\n",
       "    <tr style=\"text-align: right;\">\n",
       "      <th></th>\n",
       "      <th>0</th>\n",
       "    </tr>\n",
       "  </thead>\n",
       "  <tbody>\n",
       "    <tr>\n",
       "      <th>Arrest_Year</th>\n",
       "      <td>0</td>\n",
       "    </tr>\n",
       "    <tr>\n",
       "      <th>Arrest_Month</th>\n",
       "      <td>0</td>\n",
       "    </tr>\n",
       "    <tr>\n",
       "      <th>EventID</th>\n",
       "      <td>0</td>\n",
       "    </tr>\n",
       "    <tr>\n",
       "      <th>ArrestID</th>\n",
       "      <td>469</td>\n",
       "    </tr>\n",
       "    <tr>\n",
       "      <th>PersonID</th>\n",
       "      <td>0</td>\n",
       "    </tr>\n",
       "    <tr>\n",
       "      <th>Perceived_Race</th>\n",
       "      <td>4</td>\n",
       "    </tr>\n",
       "    <tr>\n",
       "      <th>Sex</th>\n",
       "      <td>0</td>\n",
       "    </tr>\n",
       "    <tr>\n",
       "      <th>Age_group__at_arrest_</th>\n",
       "      <td>24</td>\n",
       "    </tr>\n",
       "    <tr>\n",
       "      <th>Youth_at_arrest__under_18_years</th>\n",
       "      <td>0</td>\n",
       "    </tr>\n",
       "    <tr>\n",
       "      <th>ArrestLocDiv</th>\n",
       "      <td>0</td>\n",
       "    </tr>\n",
       "    <tr>\n",
       "      <th>StripSearch</th>\n",
       "      <td>0</td>\n",
       "    </tr>\n",
       "    <tr>\n",
       "      <th>Booked</th>\n",
       "      <td>0</td>\n",
       "    </tr>\n",
       "    <tr>\n",
       "      <th>Occurrence_Category</th>\n",
       "      <td>165</td>\n",
       "    </tr>\n",
       "    <tr>\n",
       "      <th>Actions_at_arrest___Concealed_i</th>\n",
       "      <td>0</td>\n",
       "    </tr>\n",
       "    <tr>\n",
       "      <th>Actions_at_arrest___Combative__</th>\n",
       "      <td>0</td>\n",
       "    </tr>\n",
       "    <tr>\n",
       "      <th>Actions_at_arrest___Resisted__d</th>\n",
       "      <td>0</td>\n",
       "    </tr>\n",
       "    <tr>\n",
       "      <th>Actions_at_arrest___Mental_inst</th>\n",
       "      <td>0</td>\n",
       "    </tr>\n",
       "    <tr>\n",
       "      <th>Actions_at_arrest___Assaulted_o</th>\n",
       "      <td>0</td>\n",
       "    </tr>\n",
       "    <tr>\n",
       "      <th>Actions_at_arrest___Cooperative</th>\n",
       "      <td>0</td>\n",
       "    </tr>\n",
       "    <tr>\n",
       "      <th>SearchReason_CauseInjury</th>\n",
       "      <td>57475</td>\n",
       "    </tr>\n",
       "    <tr>\n",
       "      <th>SearchReason_AssistEscape</th>\n",
       "      <td>57475</td>\n",
       "    </tr>\n",
       "    <tr>\n",
       "      <th>SearchReason_PossessWeapons</th>\n",
       "      <td>57475</td>\n",
       "    </tr>\n",
       "    <tr>\n",
       "      <th>SearchReason_PossessEvidence</th>\n",
       "      <td>57475</td>\n",
       "    </tr>\n",
       "    <tr>\n",
       "      <th>ItemsFound</th>\n",
       "      <td>57475</td>\n",
       "    </tr>\n",
       "    <tr>\n",
       "      <th>ObjectId</th>\n",
       "      <td>0</td>\n",
       "    </tr>\n",
       "  </tbody>\n",
       "</table>\n",
       "</div>"
      ],
      "text/plain": [
       "                                     0\n",
       "Arrest_Year                          0\n",
       "Arrest_Month                         0\n",
       "EventID                              0\n",
       "ArrestID                           469\n",
       "PersonID                             0\n",
       "Perceived_Race                       4\n",
       "Sex                                  0\n",
       "Age_group__at_arrest_               24\n",
       "Youth_at_arrest__under_18_years      0\n",
       "ArrestLocDiv                         0\n",
       "StripSearch                          0\n",
       "Booked                               0\n",
       "Occurrence_Category                165\n",
       "Actions_at_arrest___Concealed_i      0\n",
       "Actions_at_arrest___Combative__      0\n",
       "Actions_at_arrest___Resisted__d      0\n",
       "Actions_at_arrest___Mental_inst      0\n",
       "Actions_at_arrest___Assaulted_o      0\n",
       "Actions_at_arrest___Cooperative      0\n",
       "SearchReason_CauseInjury         57475\n",
       "SearchReason_AssistEscape        57475\n",
       "SearchReason_PossessWeapons      57475\n",
       "SearchReason_PossessEvidence     57475\n",
       "ItemsFound                       57475\n",
       "ObjectId                             0"
      ]
     },
     "execution_count": 15,
     "metadata": {},
     "output_type": "execute_result"
    }
   ],
   "source": [
    "kaggle_null_sum"
   ]
  },
  {
   "cell_type": "code",
   "execution_count": 16,
   "metadata": {},
   "outputs": [],
   "source": [
    "kaggle_final=kaggle[['Perceived_Race','Sex','Age_group__at_arrest_','Occurrence_Category','Actions_at_arrest___Cooperative','SearchReason_CauseInjury','SearchReason_AssistEscape','SearchReason_PossessWeapons','SearchReason_PossessEvidence']]"
   ]
  },
  {
   "cell_type": "code",
   "execution_count": 17,
   "metadata": {},
   "outputs": [],
   "source": [
    "kaggle\n",
    "kaggle['Age_group__at_arrest_'].replace(['Aged 17 years and younger','Aged 17 years and under'],'Aged 17 years and younger',inplace=True)\n",
    "kaggle['Age_group__at_arrest_'].replace(['Aged 65 years and older','Aged 65 and older'],'Aged 65 years and older',inplace=True)"
   ]
  },
  {
   "cell_type": "code",
   "execution_count": 18,
   "metadata": {},
   "outputs": [],
   "source": [
    "categorical=kaggle[['Perceived_Race','Sex']]\n",
    "categorical=pd.get_dummies(categorical)"
   ]
  },
  {
   "cell_type": "code",
   "execution_count": 19,
   "metadata": {},
   "outputs": [
    {
     "data": {
      "text/plain": [
       "M    52650\n",
       "F    12617\n",
       "U        9\n",
       "Name: Sex, dtype: int64"
      ]
     },
     "execution_count": 19,
     "metadata": {},
     "output_type": "execute_result"
    }
   ],
   "source": [
    "kaggle.Sex.value_counts()"
   ]
  },
  {
   "cell_type": "code",
   "execution_count": 20,
   "metadata": {},
   "outputs": [],
   "source": [
    "kaggle.ItemsFound.fillna(0, inplace=True)"
   ]
  },
  {
   "cell_type": "code",
   "execution_count": 21,
   "metadata": {},
   "outputs": [
    {
     "data": {
      "text/plain": [
       "White                   27723\n",
       "Black                   17526\n",
       "Unknown or Legacy        5056\n",
       "East/Southeast Asian     4415\n",
       "South Asian              3613\n",
       "Middle-Eastern           3237\n",
       "Indigenous               1934\n",
       "Latino                   1768\n",
       "Name: Perceived_Race, dtype: int64"
      ]
     },
     "execution_count": 21,
     "metadata": {},
     "output_type": "execute_result"
    }
   ],
   "source": [
    "kaggle.Perceived_Race.value_counts()"
   ]
  },
  {
   "cell_type": "code",
   "execution_count": 22,
   "metadata": {},
   "outputs": [
    {
     "data": {
      "text/plain": [
       "Aged 25 to 34 years          20949\n",
       "Aged 35 to 44 years          16242\n",
       "Aged 18 to 24 years          10041\n",
       "Aged 45 to 54 years           9066\n",
       "Aged 55 to 64 years           4590\n",
       "Aged 17 years and younger     3042\n",
       "Aged 65 years and older       1322\n",
       "Name: Age_group__at_arrest_, dtype: int64"
      ]
     },
     "execution_count": 22,
     "metadata": {},
     "output_type": "execute_result"
    }
   ],
   "source": [
    "kaggle.Age_group__at_arrest_.value_counts()"
   ]
  },
  {
   "cell_type": "code",
   "execution_count": 23,
   "metadata": {
    "scrolled": true
   },
   "outputs": [
    {
     "data": {
      "text/plain": [
       "M    52650\n",
       "F    12617\n",
       "U        9\n",
       "Name: Sex, dtype: int64"
      ]
     },
     "execution_count": 23,
     "metadata": {},
     "output_type": "execute_result"
    }
   ],
   "source": [
    "kaggle.Sex.value_counts()"
   ]
  },
  {
   "cell_type": "code",
   "execution_count": 24,
   "metadata": {},
   "outputs": [
    {
     "data": {
      "text/plain": [
       "0    36167\n",
       "1    29109\n",
       "Name: Actions_at_arrest___Cooperative, dtype: int64"
      ]
     },
     "execution_count": 24,
     "metadata": {},
     "output_type": "execute_result"
    }
   ],
   "source": [
    "kaggle.Actions_at_arrest___Cooperative.value_counts()"
   ]
  },
  {
   "cell_type": "code",
   "execution_count": 25,
   "metadata": {},
   "outputs": [
    {
     "data": {
      "text/plain": [
       "1.0    5973\n",
       "0.0    1828\n",
       "Name: SearchReason_CauseInjury, dtype: int64"
      ]
     },
     "execution_count": 25,
     "metadata": {},
     "output_type": "execute_result"
    }
   ],
   "source": [
    "kaggle.SearchReason_CauseInjury.value_counts()"
   ]
  },
  {
   "cell_type": "code",
   "execution_count": 26,
   "metadata": {},
   "outputs": [],
   "source": [
    "kaggle.SearchReason_CauseInjury.fillna(0, inplace=True)"
   ]
  },
  {
   "cell_type": "code",
   "execution_count": 27,
   "metadata": {},
   "outputs": [
    {
     "data": {
      "text/plain": [
       "57475"
      ]
     },
     "execution_count": 27,
     "metadata": {},
     "output_type": "execute_result"
    }
   ],
   "source": [
    "kaggle_final.SearchReason_CauseInjury.isna().sum()"
   ]
  },
  {
   "cell_type": "code",
   "execution_count": 28,
   "metadata": {},
   "outputs": [
    {
     "data": {
      "text/plain": [
       "1.0    5973\n",
       "0.0    1828\n",
       "Name: SearchReason_CauseInjury, dtype: int64"
      ]
     },
     "execution_count": 28,
     "metadata": {},
     "output_type": "execute_result"
    }
   ],
   "source": [
    "kaggle_final.SearchReason_CauseInjury.value_counts()"
   ]
  },
  {
   "cell_type": "code",
   "execution_count": 29,
   "metadata": {},
   "outputs": [
    {
     "data": {
      "text/plain": [
       "0.0    5124\n",
       "1.0    2677\n",
       "Name: SearchReason_AssistEscape, dtype: int64"
      ]
     },
     "execution_count": 29,
     "metadata": {},
     "output_type": "execute_result"
    }
   ],
   "source": [
    "kaggle_final.SearchReason_AssistEscape.value_counts()"
   ]
  },
  {
   "cell_type": "code",
   "execution_count": 30,
   "metadata": {},
   "outputs": [
    {
     "name": "stderr",
     "output_type": "stream",
     "text": [
      "/Users/ruiyuema/opt/anaconda3/lib/python3.7/site-packages/pandas/core/generic.py:6245: SettingWithCopyWarning: \n",
      "A value is trying to be set on a copy of a slice from a DataFrame\n",
      "\n",
      "See the caveats in the documentation: https://pandas.pydata.org/pandas-docs/stable/user_guide/indexing.html#returning-a-view-versus-a-copy\n",
      "  self._update_inplace(new_data)\n"
     ]
    }
   ],
   "source": [
    "kaggle_final.SearchReason_AssistEscape.fillna(0, inplace=True)"
   ]
  },
  {
   "cell_type": "code",
   "execution_count": 31,
   "metadata": {},
   "outputs": [
    {
     "data": {
      "text/plain": [
       "0"
      ]
     },
     "execution_count": 31,
     "metadata": {},
     "output_type": "execute_result"
    }
   ],
   "source": [
    "kaggle_final.SearchReason_AssistEscape.isna().sum()"
   ]
  },
  {
   "cell_type": "code",
   "execution_count": 32,
   "metadata": {},
   "outputs": [
    {
     "data": {
      "text/plain": [
       "Assault                                            7726\n",
       "Assault & Other crimes against persons             7235\n",
       "Robbery & Theft                                    4580\n",
       "Warrant                                            4385\n",
       "FTA/FTC/Compliance Check/Parollee                  4246\n",
       "Police Category - Administrative                   3888\n",
       "FTA/FTC, Compliance Check & Parollee               3877\n",
       "Robbery/Theft                                      3754\n",
       "Drug Related                                       2751\n",
       "Other Statute & Other Incident Type                2344\n",
       "Vehicle Related (inc. Impaired)                    1977\n",
       "Other Offence                                      1972\n",
       "Mischief & Fraud                                   1732\n",
       "Impaired                                           1362\n",
       "Harassment/Threatening                             1346\n",
       "Mischief                                           1322\n",
       "Harassment & Threatening                           1268\n",
       "Weapons                                            1108\n",
       "Weapons & Homicide                                 1105\n",
       "Other Statute                                       944\n",
       "Break & Enter                                       916\n",
       "Break and Enter                                     868\n",
       "Sexual Related Crime                                839\n",
       "Sexual Related Crimes & Crimes Against Children     793\n",
       "Vehicle Related                                     768\n",
       "LLA                                                 586\n",
       "Police Category - Incident                          564\n",
       "Fraud                                               474\n",
       "Mental Health                                       239\n",
       "Homicide                                             73\n",
       "Crimes against Children                              69\n",
       "Name: Occurrence_Category, dtype: int64"
      ]
     },
     "execution_count": 32,
     "metadata": {},
     "output_type": "execute_result"
    }
   ],
   "source": [
    "kaggle_final.Occurrence_Category.value_counts()"
   ]
  },
  {
   "cell_type": "code",
   "execution_count": 33,
   "metadata": {},
   "outputs": [],
   "source": [
    "kaggle_final.Occurrence_Category.fillna('Assault',inplace=True)"
   ]
  },
  {
   "cell_type": "code",
   "execution_count": 34,
   "metadata": {},
   "outputs": [
    {
     "data": {
      "text/plain": [
       "0"
      ]
     },
     "execution_count": 34,
     "metadata": {},
     "output_type": "execute_result"
    }
   ],
   "source": [
    "kaggle_final.Occurrence_Category.isna().sum()"
   ]
  },
  {
   "cell_type": "code",
   "execution_count": 35,
   "metadata": {},
   "outputs": [
    {
     "data": {
      "text/plain": [
       "0.0    4264\n",
       "1.0    3537\n",
       "Name: SearchReason_PossessWeapons, dtype: int64"
      ]
     },
     "execution_count": 35,
     "metadata": {},
     "output_type": "execute_result"
    }
   ],
   "source": [
    "kaggle_final.SearchReason_PossessWeapons.value_counts()"
   ]
  },
  {
   "cell_type": "code",
   "execution_count": 36,
   "metadata": {},
   "outputs": [],
   "source": [
    "kaggle_final.SearchReason_PossessWeapons.fillna(0, inplace=True)"
   ]
  },
  {
   "cell_type": "code",
   "execution_count": 37,
   "metadata": {},
   "outputs": [
    {
     "data": {
      "text/plain": [
       "0.0    61739\n",
       "1.0     3537\n",
       "Name: SearchReason_PossessWeapons, dtype: int64"
      ]
     },
     "execution_count": 37,
     "metadata": {},
     "output_type": "execute_result"
    }
   ],
   "source": [
    "kaggle_final.SearchReason_PossessWeapons.value_counts()"
   ]
  },
  {
   "cell_type": "code",
   "execution_count": 38,
   "metadata": {},
   "outputs": [
    {
     "data": {
      "text/plain": [
       "57475"
      ]
     },
     "execution_count": 38,
     "metadata": {},
     "output_type": "execute_result"
    }
   ],
   "source": [
    "kaggle_final.SearchReason_PossessEvidence.isna().sum()"
   ]
  },
  {
   "cell_type": "code",
   "execution_count": 39,
   "metadata": {},
   "outputs": [],
   "source": [
    "kaggle_final.SearchReason_PossessEvidence.fillna(0, inplace=True)"
   ]
  },
  {
   "cell_type": "code",
   "execution_count": 40,
   "metadata": {},
   "outputs": [
    {
     "data": {
      "text/plain": [
       "0"
      ]
     },
     "execution_count": 40,
     "metadata": {},
     "output_type": "execute_result"
    }
   ],
   "source": [
    "kaggle_final.SearchReason_PossessEvidence.isna().sum()"
   ]
  },
  {
   "cell_type": "code",
   "execution_count": 41,
   "metadata": {},
   "outputs": [
    {
     "name": "stderr",
     "output_type": "stream",
     "text": [
      "/Users/ruiyuema/opt/anaconda3/lib/python3.7/site-packages/pandas/core/generic.py:5303: SettingWithCopyWarning: \n",
      "A value is trying to be set on a copy of a slice from a DataFrame.\n",
      "Try using .loc[row_indexer,col_indexer] = value instead\n",
      "\n",
      "See the caveats in the documentation: https://pandas.pydata.org/pandas-docs/stable/user_guide/indexing.html#returning-a-view-versus-a-copy\n",
      "  self[name] = value\n"
     ]
    }
   ],
   "source": [
    "kaggle_final.Perceived_Race=kaggle_final.Perceived_Race.fillna('White')"
   ]
  },
  {
   "cell_type": "code",
   "execution_count": 42,
   "metadata": {},
   "outputs": [
    {
     "data": {
      "text/plain": [
       "0"
      ]
     },
     "execution_count": 42,
     "metadata": {},
     "output_type": "execute_result"
    }
   ],
   "source": [
    "kaggle_final.Perceived_Race.isna().sum()"
   ]
  },
  {
   "cell_type": "code",
   "execution_count": 43,
   "metadata": {},
   "outputs": [],
   "source": [
    "kaggle_final.Age_group__at_arrest_=kaggle_final.Age_group__at_arrest_.fillna('Aged 25 to 34 years ')"
   ]
  },
  {
   "cell_type": "code",
   "execution_count": 44,
   "metadata": {},
   "outputs": [
    {
     "data": {
      "text/plain": [
       "0"
      ]
     },
     "execution_count": 44,
     "metadata": {},
     "output_type": "execute_result"
    }
   ],
   "source": [
    "kaggle_final.Age_group__at_arrest_.isna().sum()"
   ]
  },
  {
   "cell_type": "code",
   "execution_count": 45,
   "metadata": {},
   "outputs": [
    {
     "data": {
      "text/html": [
       "<div>\n",
       "<style scoped>\n",
       "    .dataframe tbody tr th:only-of-type {\n",
       "        vertical-align: middle;\n",
       "    }\n",
       "\n",
       "    .dataframe tbody tr th {\n",
       "        vertical-align: top;\n",
       "    }\n",
       "\n",
       "    .dataframe thead th {\n",
       "        text-align: right;\n",
       "    }\n",
       "</style>\n",
       "<table border=\"1\" class=\"dataframe\">\n",
       "  <thead>\n",
       "    <tr style=\"text-align: right;\">\n",
       "      <th></th>\n",
       "      <th>Age_group__at_arrest_</th>\n",
       "    </tr>\n",
       "  </thead>\n",
       "  <tbody>\n",
       "    <tr>\n",
       "      <th>0</th>\n",
       "      <td>Aged 35 to 44 years</td>\n",
       "    </tr>\n",
       "    <tr>\n",
       "      <th>1</th>\n",
       "      <td>Aged 35 to 44 years</td>\n",
       "    </tr>\n",
       "    <tr>\n",
       "      <th>2</th>\n",
       "      <td>Aged 35 to 44 years</td>\n",
       "    </tr>\n",
       "    <tr>\n",
       "      <th>3</th>\n",
       "      <td>Aged 25 to 34 years</td>\n",
       "    </tr>\n",
       "    <tr>\n",
       "      <th>4</th>\n",
       "      <td>Aged 25 to 34 years</td>\n",
       "    </tr>\n",
       "    <tr>\n",
       "      <th>...</th>\n",
       "      <td>...</td>\n",
       "    </tr>\n",
       "    <tr>\n",
       "      <th>65271</th>\n",
       "      <td>Aged 25 to 34 years</td>\n",
       "    </tr>\n",
       "    <tr>\n",
       "      <th>65272</th>\n",
       "      <td>Aged 35 to 44 years</td>\n",
       "    </tr>\n",
       "    <tr>\n",
       "      <th>65273</th>\n",
       "      <td>Aged 45 to 54 years</td>\n",
       "    </tr>\n",
       "    <tr>\n",
       "      <th>65274</th>\n",
       "      <td>Aged 17 years and under</td>\n",
       "    </tr>\n",
       "    <tr>\n",
       "      <th>65275</th>\n",
       "      <td>Aged 18 to 24 years</td>\n",
       "    </tr>\n",
       "  </tbody>\n",
       "</table>\n",
       "<p>65276 rows × 1 columns</p>\n",
       "</div>"
      ],
      "text/plain": [
       "         Age_group__at_arrest_\n",
       "0          Aged 35 to 44 years\n",
       "1          Aged 35 to 44 years\n",
       "2          Aged 35 to 44 years\n",
       "3          Aged 25 to 34 years\n",
       "4          Aged 25 to 34 years\n",
       "...                        ...\n",
       "65271      Aged 25 to 34 years\n",
       "65272      Aged 35 to 44 years\n",
       "65273      Aged 45 to 54 years\n",
       "65274  Aged 17 years and under\n",
       "65275      Aged 18 to 24 years\n",
       "\n",
       "[65276 rows x 1 columns]"
      ]
     },
     "execution_count": 45,
     "metadata": {},
     "output_type": "execute_result"
    }
   ],
   "source": [
    "ordinal_features=kaggle_final[['Age_group__at_arrest_']].copy()\n",
    "ordinal_features"
   ]
  },
  {
   "cell_type": "code",
   "execution_count": 46,
   "metadata": {},
   "outputs": [
    {
     "name": "stderr",
     "output_type": "stream",
     "text": [
      "/Users/ruiyuema/opt/anaconda3/lib/python3.7/site-packages/ipykernel_launcher.py:1: SettingWithCopyWarning: \n",
      "A value is trying to be set on a copy of a slice from a DataFrame.\n",
      "Try using .loc[row_indexer,col_indexer] = value instead\n",
      "\n",
      "See the caveats in the documentation: https://pandas.pydata.org/pandas-docs/stable/user_guide/indexing.html#returning-a-view-versus-a-copy\n",
      "  \"\"\"Entry point for launching an IPython kernel.\n",
      "/Users/ruiyuema/opt/anaconda3/lib/python3.7/site-packages/ipykernel_launcher.py:2: SettingWithCopyWarning: \n",
      "A value is trying to be set on a copy of a slice from a DataFrame.\n",
      "Try using .loc[row_indexer,col_indexer] = value instead\n",
      "\n",
      "See the caveats in the documentation: https://pandas.pydata.org/pandas-docs/stable/user_guide/indexing.html#returning-a-view-versus-a-copy\n",
      "  \n"
     ]
    }
   ],
   "source": [
    "kaggle_final['Strip_searchtotal']=''\n",
    "kaggle_final['Strip_searchtotal']= kaggle_final['SearchReason_CauseInjury'].add(kaggle_final['SearchReason_AssistEscape']).add(kaggle_final['SearchReason_PossessWeapons']).add(kaggle_final['SearchReason_PossessEvidence'])"
   ]
  },
  {
   "cell_type": "code",
   "execution_count": 47,
   "metadata": {},
   "outputs": [
    {
     "data": {
      "text/plain": [
       "2.0    2267\n",
       "1.0    2251\n",
       "3.0    1322\n",
       "4.0    1176\n",
       "0.0     785\n",
       "Name: Strip_searchtotal, dtype: int64"
      ]
     },
     "execution_count": 47,
     "metadata": {},
     "output_type": "execute_result"
    }
   ],
   "source": [
    "kaggle_final.Strip_searchtotal.value_counts()"
   ]
  },
  {
   "cell_type": "code",
   "execution_count": 48,
   "metadata": {},
   "outputs": [],
   "source": [
    "kaggle_final_strip=kaggle_final.loc[:,['Perceived_Race','Strip_searchtotal']]"
   ]
  },
  {
   "cell_type": "code",
   "execution_count": 49,
   "metadata": {},
   "outputs": [],
   "source": [
    "kaggle_final_strip=kaggle_final_strip.groupby('Perceived_Race').describe()"
   ]
  },
  {
   "cell_type": "code",
   "execution_count": 50,
   "metadata": {},
   "outputs": [
    {
     "data": {
      "text/html": [
       "<div>\n",
       "<style scoped>\n",
       "    .dataframe tbody tr th:only-of-type {\n",
       "        vertical-align: middle;\n",
       "    }\n",
       "\n",
       "    .dataframe tbody tr th {\n",
       "        vertical-align: top;\n",
       "    }\n",
       "\n",
       "    .dataframe thead tr th {\n",
       "        text-align: left;\n",
       "    }\n",
       "\n",
       "    .dataframe thead tr:last-of-type th {\n",
       "        text-align: right;\n",
       "    }\n",
       "</style>\n",
       "<table border=\"1\" class=\"dataframe\">\n",
       "  <thead>\n",
       "    <tr>\n",
       "      <th></th>\n",
       "      <th colspan=\"8\" halign=\"left\">Strip_searchtotal</th>\n",
       "    </tr>\n",
       "    <tr>\n",
       "      <th></th>\n",
       "      <th>count</th>\n",
       "      <th>mean</th>\n",
       "      <th>std</th>\n",
       "      <th>min</th>\n",
       "      <th>25%</th>\n",
       "      <th>50%</th>\n",
       "      <th>75%</th>\n",
       "      <th>max</th>\n",
       "    </tr>\n",
       "    <tr>\n",
       "      <th>Perceived_Race</th>\n",
       "      <th></th>\n",
       "      <th></th>\n",
       "      <th></th>\n",
       "      <th></th>\n",
       "      <th></th>\n",
       "      <th></th>\n",
       "      <th></th>\n",
       "      <th></th>\n",
       "    </tr>\n",
       "  </thead>\n",
       "  <tbody>\n",
       "    <tr>\n",
       "      <th>Black</th>\n",
       "      <td>2434.0</td>\n",
       "      <td>2.029170</td>\n",
       "      <td>1.206730</td>\n",
       "      <td>0.0</td>\n",
       "      <td>1.0</td>\n",
       "      <td>2.0</td>\n",
       "      <td>3.0</td>\n",
       "      <td>4.0</td>\n",
       "    </tr>\n",
       "    <tr>\n",
       "      <th>East/Southeast Asian</th>\n",
       "      <td>341.0</td>\n",
       "      <td>1.870968</td>\n",
       "      <td>1.181129</td>\n",
       "      <td>0.0</td>\n",
       "      <td>1.0</td>\n",
       "      <td>2.0</td>\n",
       "      <td>3.0</td>\n",
       "      <td>4.0</td>\n",
       "    </tr>\n",
       "    <tr>\n",
       "      <th>Indigenous</th>\n",
       "      <td>306.0</td>\n",
       "      <td>2.026144</td>\n",
       "      <td>1.235793</td>\n",
       "      <td>0.0</td>\n",
       "      <td>1.0</td>\n",
       "      <td>2.0</td>\n",
       "      <td>3.0</td>\n",
       "      <td>4.0</td>\n",
       "    </tr>\n",
       "    <tr>\n",
       "      <th>Latino</th>\n",
       "      <td>132.0</td>\n",
       "      <td>2.128788</td>\n",
       "      <td>1.161766</td>\n",
       "      <td>0.0</td>\n",
       "      <td>1.0</td>\n",
       "      <td>2.0</td>\n",
       "      <td>3.0</td>\n",
       "      <td>4.0</td>\n",
       "    </tr>\n",
       "    <tr>\n",
       "      <th>Middle-Eastern</th>\n",
       "      <td>228.0</td>\n",
       "      <td>1.956140</td>\n",
       "      <td>1.219448</td>\n",
       "      <td>0.0</td>\n",
       "      <td>1.0</td>\n",
       "      <td>2.0</td>\n",
       "      <td>3.0</td>\n",
       "      <td>4.0</td>\n",
       "    </tr>\n",
       "    <tr>\n",
       "      <th>South Asian</th>\n",
       "      <td>257.0</td>\n",
       "      <td>1.949416</td>\n",
       "      <td>1.142815</td>\n",
       "      <td>0.0</td>\n",
       "      <td>1.0</td>\n",
       "      <td>2.0</td>\n",
       "      <td>3.0</td>\n",
       "      <td>4.0</td>\n",
       "    </tr>\n",
       "    <tr>\n",
       "      <th>Unknown or Legacy</th>\n",
       "      <td>536.0</td>\n",
       "      <td>1.902985</td>\n",
       "      <td>1.237238</td>\n",
       "      <td>0.0</td>\n",
       "      <td>1.0</td>\n",
       "      <td>2.0</td>\n",
       "      <td>3.0</td>\n",
       "      <td>4.0</td>\n",
       "    </tr>\n",
       "    <tr>\n",
       "      <th>White</th>\n",
       "      <td>3567.0</td>\n",
       "      <td>1.965237</td>\n",
       "      <td>1.212860</td>\n",
       "      <td>0.0</td>\n",
       "      <td>1.0</td>\n",
       "      <td>2.0</td>\n",
       "      <td>3.0</td>\n",
       "      <td>4.0</td>\n",
       "    </tr>\n",
       "  </tbody>\n",
       "</table>\n",
       "</div>"
      ],
      "text/plain": [
       "                     Strip_searchtotal                                     \\\n",
       "                                 count      mean       std  min  25%  50%   \n",
       "Perceived_Race                                                              \n",
       "Black                           2434.0  2.029170  1.206730  0.0  1.0  2.0   \n",
       "East/Southeast Asian             341.0  1.870968  1.181129  0.0  1.0  2.0   \n",
       "Indigenous                       306.0  2.026144  1.235793  0.0  1.0  2.0   \n",
       "Latino                           132.0  2.128788  1.161766  0.0  1.0  2.0   \n",
       "Middle-Eastern                   228.0  1.956140  1.219448  0.0  1.0  2.0   \n",
       "South Asian                      257.0  1.949416  1.142815  0.0  1.0  2.0   \n",
       "Unknown or Legacy                536.0  1.902985  1.237238  0.0  1.0  2.0   \n",
       "White                           3567.0  1.965237  1.212860  0.0  1.0  2.0   \n",
       "\n",
       "                                \n",
       "                      75%  max  \n",
       "Perceived_Race                  \n",
       "Black                 3.0  4.0  \n",
       "East/Southeast Asian  3.0  4.0  \n",
       "Indigenous            3.0  4.0  \n",
       "Latino                3.0  4.0  \n",
       "Middle-Eastern        3.0  4.0  \n",
       "South Asian           3.0  4.0  \n",
       "Unknown or Legacy     3.0  4.0  \n",
       "White                 3.0  4.0  "
      ]
     },
     "execution_count": 50,
     "metadata": {},
     "output_type": "execute_result"
    }
   ],
   "source": [
    "kaggle_final_strip"
   ]
  },
  {
   "cell_type": "code",
   "execution_count": 51,
   "metadata": {},
   "outputs": [
    {
     "data": {
      "text/plain": [
       "Text(0.5, 1.0, 'Strip Search Number for people with different race')"
      ]
     },
     "execution_count": 51,
     "metadata": {},
     "output_type": "execute_result"
    },
    {
     "data": {
      "image/png": "[encoded data removed]",
      "text/plain": [
       "<Figure size 432x288 with 1 Axes>"
      ]
     },
     "metadata": {
      "needs_background": "light"
     },
     "output_type": "display_data"
    }
   ],
   "source": [
    "kaggle_strip_group_mean=kaggle_final_strip.iloc[:,1].rename_axis('Race').reset_index(name='Strip Search Number')\n",
    "Strip_search_number=kaggle_final_strip.iloc[:,1]\n",
    "kaggle_strip_group_mean.plot.bar(x='Race',color='blue')\n",
    "plt.ylabel('Strip Search Number')\n",
    "plt.title('Strip Search Number for people with different race')"
   ]
  },
  {
   "cell_type": "code",
   "execution_count": 52,
   "metadata": {},
   "outputs": [],
   "source": [
    "arrest_counts=kaggle.groupby('PersonID')['ArrestID'].nunique()"
   ]
  },
  {
   "cell_type": "code",
   "execution_count": 53,
   "metadata": {},
   "outputs": [
    {
     "data": {
      "text/plain": [
       "PersonID\n",
       "300000    1\n",
       "300001    1\n",
       "300002    1\n",
       "300003    8\n",
       "300004    1\n",
       "         ..\n",
       "337342    5\n",
       "337343    1\n",
       "337344    1\n",
       "337345    1\n",
       "337346    1\n",
       "Name: ArrestID, Length: 37347, dtype: int64"
      ]
     },
     "execution_count": 53,
     "metadata": {},
     "output_type": "execute_result"
    }
   ],
   "source": [
    "arrest_counts"
   ]
  },
  {
   "cell_type": "code",
   "execution_count": 54,
   "metadata": {},
   "outputs": [],
   "source": [
    "strip_counts=kaggle.groupby('PersonID')['StripSearch'].nunique()"
   ]
  },
  {
   "cell_type": "code",
   "execution_count": 55,
   "metadata": {},
   "outputs": [
    {
     "data": {
      "text/plain": [
       "PersonID\n",
       "300000    1\n",
       "300001    1\n",
       "300002    1\n",
       "300003    2\n",
       "300004    1\n",
       "         ..\n",
       "337342    1\n",
       "337343    1\n",
       "337344    1\n",
       "337345    1\n",
       "337346    1\n",
       "Name: StripSearch, Length: 37347, dtype: int64"
      ]
     },
     "execution_count": 55,
     "metadata": {},
     "output_type": "execute_result"
    }
   ],
   "source": [
    "strip_counts"
   ]
  },
  {
   "cell_type": "code",
   "execution_count": 56,
   "metadata": {},
   "outputs": [],
   "source": [
    "Strip_frequency=strip_counts/arrest_counts"
   ]
  },
  {
   "cell_type": "code",
   "execution_count": 57,
   "metadata": {},
   "outputs": [
    {
     "data": {
      "text/plain": [
       "PersonID\n",
       "300000    1.00\n",
       "300001    1.00\n",
       "300002    1.00\n",
       "300003    0.25\n",
       "300004    1.00\n",
       "          ... \n",
       "337342    0.20\n",
       "337343    1.00\n",
       "337344    1.00\n",
       "337345    1.00\n",
       "337346    1.00\n",
       "Length: 37347, dtype: float64"
      ]
     },
     "execution_count": 57,
     "metadata": {},
     "output_type": "execute_result"
    }
   ],
   "source": [
    "Strip_frequency.astype('float64')"
   ]
  },
  {
   "cell_type": "code",
   "execution_count": 58,
   "metadata": {},
   "outputs": [],
   "source": [
    "race=kaggle.groupby('PersonID')['Perceived_Race'].unique()"
   ]
  },
  {
   "cell_type": "code",
   "execution_count": 59,
   "metadata": {},
   "outputs": [
    {
     "data": {
      "text/plain": [
       "PersonID\n",
       "300000    [East/Southeast Asian]\n",
       "300001                   [White]\n",
       "300002                   [White]\n",
       "300003                   [White]\n",
       "300004                   [Black]\n",
       "                   ...          \n",
       "337342                   [White]\n",
       "337343                   [White]\n",
       "337344                   [Black]\n",
       "337345                   [Black]\n",
       "337346                   [White]\n",
       "Name: Perceived_Race, Length: 37347, dtype: object"
      ]
     },
     "execution_count": 59,
     "metadata": {},
     "output_type": "execute_result"
    }
   ],
   "source": [
    "race"
   ]
  },
  {
   "cell_type": "code",
   "execution_count": 60,
   "metadata": {},
   "outputs": [],
   "source": [
    "age=kaggle.groupby('PersonID')['Age_group__at_arrest_'].unique()"
   ]
  },
  {
   "cell_type": "code",
   "execution_count": 61,
   "metadata": {},
   "outputs": [
    {
     "data": {
      "text/plain": [
       "PersonID\n",
       "300000                         [Aged 35 to 44 years]\n",
       "300001                   [Aged 17 years and younger]\n",
       "300002                         [Aged 35 to 44 years]\n",
       "300003    [Aged 25 to 34 years, Aged 35 to 44 years]\n",
       "300004                         [Aged 25 to 34 years]\n",
       "                             ...                    \n",
       "337342                   [Aged 17 years and younger]\n",
       "337343                         [Aged 35 to 44 years]\n",
       "337344                         [Aged 18 to 24 years]\n",
       "337345                     [Aged 65 years and older]\n",
       "337346                         [Aged 18 to 24 years]\n",
       "Name: Age_group__at_arrest_, Length: 37347, dtype: object"
      ]
     },
     "execution_count": 61,
     "metadata": {},
     "output_type": "execute_result"
    }
   ],
   "source": [
    "age"
   ]
  },
  {
   "cell_type": "code",
   "execution_count": 62,
   "metadata": {},
   "outputs": [],
   "source": [
    "sex=kaggle.groupby('PersonID')['Sex'].unique()"
   ]
  },
  {
   "cell_type": "code",
   "execution_count": 63,
   "metadata": {},
   "outputs": [
    {
     "data": {
      "text/plain": [
       "PersonID\n",
       "300000    [M]\n",
       "300001    [F]\n",
       "300002    [M]\n",
       "300003    [M]\n",
       "300004    [M]\n",
       "         ... \n",
       "337342    [M]\n",
       "337343    [M]\n",
       "337344    [M]\n",
       "337345    [M]\n",
       "337346    [M]\n",
       "Name: Sex, Length: 37347, dtype: object"
      ]
     },
     "execution_count": 63,
     "metadata": {},
     "output_type": "execute_result"
    }
   ],
   "source": [
    "sex"
   ]
  },
  {
   "cell_type": "code",
   "execution_count": 64,
   "metadata": {},
   "outputs": [],
   "source": [
    "Item_counts=kaggle.groupby('PersonID')['ItemsFound'].unique()"
   ]
  },
  {
   "cell_type": "code",
   "execution_count": 65,
   "metadata": {},
   "outputs": [],
   "source": [
    "Data1 = {'Sex': sex,\n",
    "        'Race':race,\n",
    "        'arrest_counts':arrest_counts,\n",
    "         'Age_group__at_arrest_':age,\n",
    "        'strip_counts':strip_counts,\n",
    "        'strip_search_rate':Strip_frequency,\n",
    "        'Item_counts':Item_counts}"
   ]
  },
  {
   "cell_type": "code",
   "execution_count": 66,
   "metadata": {},
   "outputs": [],
   "source": [
    "df= pd.DataFrame(Data1)\n",
    "df = df.applymap(lambda x: str(x).replace('[','').replace(']',''))\n",
    "df\n",
    "df['Sex'] = df['Sex'].replace(['\"', \"'\"], '', regex=True)\n",
    "df['Race'] = df['Race'].replace(['\"', \"'\"], '', regex=True)\n",
    "df['Age_group__at_arrest_'] = df['Age_group__at_arrest_'].replace(['\"', \"'\"], '', regex=True)\n",
    "df\n",
    "df = df[df['Sex'].isin(['M', 'F', 'U'])]\n",
    "age_to_keep=['Aged_17_years_and_younger','Aged_18_to_24_years','Aged_25_to_34_years','Aged_35_to_44_years','Aged_45_to_54_years','Aged_55_to_64_years','Aged_65_years_and_older']\n",
    "races_to_keep = ['White', 'Black', 'Unknown_or_Legacy', 'East_Southeast_Asian', 'South_Asian', 'Middle_Eastern', 'Indigenous', 'Latino']\n",
    "cat_rename_dict = {'Unknown or Legacy': 'Unknown_or_Legacy', 'East/Southeast Asian': 'East_Southeast_Asian', 'Middle-Eastern':'Middle_Eastern','South Asian': 'South_Asian'}\n",
    "cat_rename_dict1= {'Aged 17 years and younger':'Aged_17_years_and_younger','Aged 18 to 24 years':'Aged_18_to_24_years','Aged 25 to 34 years':'Aged_25_to_34_years','Aged 35 to 44 years':'Aged_35_to_44_years','Aged 45 to 54 years':'Aged_45_to_54_years','Aged 55 to 64 years':'Aged_55_to_64_years','Aged 65 years and older':'Aged_65_years_and_older'}\n",
    "df['Race'] = df['Race'].replace(cat_rename_dict)\n",
    "df['Age_group__at_arrest_'] = df['Age_group__at_arrest_'].replace(cat_rename_dict1)\n",
    "df_filtered = df[df['Race'].isin(races_to_keep)]\n",
    "df_filtered1= df_filtered[df_filtered['Age_group__at_arrest_'].isin(age_to_keep)]"
   ]
  },
  {
   "cell_type": "code",
   "execution_count": 67,
   "metadata": {},
   "outputs": [],
   "source": [
    "df1=df_filtered1.copy()"
   ]
  },
  {
   "cell_type": "code",
   "execution_count": 68,
   "metadata": {},
   "outputs": [
    {
     "data": {
      "text/html": [
       "<div>\n",
       "<style scoped>\n",
       "    .dataframe tbody tr th:only-of-type {\n",
       "        vertical-align: middle;\n",
       "    }\n",
       "\n",
       "    .dataframe tbody tr th {\n",
       "        vertical-align: top;\n",
       "    }\n",
       "\n",
       "    .dataframe thead th {\n",
       "        text-align: right;\n",
       "    }\n",
       "</style>\n",
       "<table border=\"1\" class=\"dataframe\">\n",
       "  <thead>\n",
       "    <tr style=\"text-align: right;\">\n",
       "      <th></th>\n",
       "      <th>Sex</th>\n",
       "      <th>Race</th>\n",
       "      <th>arrest_counts</th>\n",
       "      <th>Age_group__at_arrest_</th>\n",
       "      <th>strip_counts</th>\n",
       "      <th>strip_search_rate</th>\n",
       "      <th>Item_counts</th>\n",
       "    </tr>\n",
       "  </thead>\n",
       "  <tbody>\n",
       "    <tr>\n",
       "      <th>0</th>\n",
       "      <td>M</td>\n",
       "      <td>East_Southeast_Asian</td>\n",
       "      <td>1</td>\n",
       "      <td>Aged_35_to_44_years</td>\n",
       "      <td>1</td>\n",
       "      <td>1.0</td>\n",
       "      <td>0.</td>\n",
       "    </tr>\n",
       "    <tr>\n",
       "      <th>1</th>\n",
       "      <td>F</td>\n",
       "      <td>White</td>\n",
       "      <td>1</td>\n",
       "      <td>Aged_17_years_and_younger</td>\n",
       "      <td>1</td>\n",
       "      <td>1.0</td>\n",
       "      <td>0.</td>\n",
       "    </tr>\n",
       "    <tr>\n",
       "      <th>2</th>\n",
       "      <td>M</td>\n",
       "      <td>White</td>\n",
       "      <td>1</td>\n",
       "      <td>Aged_35_to_44_years</td>\n",
       "      <td>1</td>\n",
       "      <td>1.0</td>\n",
       "      <td>0.</td>\n",
       "    </tr>\n",
       "    <tr>\n",
       "      <th>3</th>\n",
       "      <td>M</td>\n",
       "      <td>Black</td>\n",
       "      <td>1</td>\n",
       "      <td>Aged_25_to_34_years</td>\n",
       "      <td>1</td>\n",
       "      <td>1.0</td>\n",
       "      <td>0.</td>\n",
       "    </tr>\n",
       "    <tr>\n",
       "      <th>4</th>\n",
       "      <td>M</td>\n",
       "      <td>South_Asian</td>\n",
       "      <td>1</td>\n",
       "      <td>Aged_45_to_54_years</td>\n",
       "      <td>1</td>\n",
       "      <td>1.0</td>\n",
       "      <td>0.</td>\n",
       "    </tr>\n",
       "    <tr>\n",
       "      <th>...</th>\n",
       "      <td>...</td>\n",
       "      <td>...</td>\n",
       "      <td>...</td>\n",
       "      <td>...</td>\n",
       "      <td>...</td>\n",
       "      <td>...</td>\n",
       "      <td>...</td>\n",
       "    </tr>\n",
       "    <tr>\n",
       "      <th>34037</th>\n",
       "      <td>M</td>\n",
       "      <td>White</td>\n",
       "      <td>5</td>\n",
       "      <td>Aged_17_years_and_younger</td>\n",
       "      <td>1</td>\n",
       "      <td>0.2</td>\n",
       "      <td>0.</td>\n",
       "    </tr>\n",
       "    <tr>\n",
       "      <th>34038</th>\n",
       "      <td>M</td>\n",
       "      <td>White</td>\n",
       "      <td>1</td>\n",
       "      <td>Aged_35_to_44_years</td>\n",
       "      <td>1</td>\n",
       "      <td>1.0</td>\n",
       "      <td>0.</td>\n",
       "    </tr>\n",
       "    <tr>\n",
       "      <th>34039</th>\n",
       "      <td>M</td>\n",
       "      <td>Black</td>\n",
       "      <td>1</td>\n",
       "      <td>Aged_18_to_24_years</td>\n",
       "      <td>1</td>\n",
       "      <td>1.0</td>\n",
       "      <td>0.</td>\n",
       "    </tr>\n",
       "    <tr>\n",
       "      <th>34040</th>\n",
       "      <td>M</td>\n",
       "      <td>Black</td>\n",
       "      <td>1</td>\n",
       "      <td>Aged_65_years_and_older</td>\n",
       "      <td>1</td>\n",
       "      <td>1.0</td>\n",
       "      <td>0.</td>\n",
       "    </tr>\n",
       "    <tr>\n",
       "      <th>34041</th>\n",
       "      <td>M</td>\n",
       "      <td>White</td>\n",
       "      <td>1</td>\n",
       "      <td>Aged_18_to_24_years</td>\n",
       "      <td>1</td>\n",
       "      <td>1.0</td>\n",
       "      <td>0.</td>\n",
       "    </tr>\n",
       "  </tbody>\n",
       "</table>\n",
       "<p>34042 rows × 7 columns</p>\n",
       "</div>"
      ],
      "text/plain": [
       "      Sex                  Race arrest_counts      Age_group__at_arrest_  \\\n",
       "0       M  East_Southeast_Asian             1        Aged_35_to_44_years   \n",
       "1       F                 White             1  Aged_17_years_and_younger   \n",
       "2       M                 White             1        Aged_35_to_44_years   \n",
       "3       M                 Black             1        Aged_25_to_34_years   \n",
       "4       M           South_Asian             1        Aged_45_to_54_years   \n",
       "...    ..                   ...           ...                        ...   \n",
       "34037   M                 White             5  Aged_17_years_and_younger   \n",
       "34038   M                 White             1        Aged_35_to_44_years   \n",
       "34039   M                 Black             1        Aged_18_to_24_years   \n",
       "34040   M                 Black             1    Aged_65_years_and_older   \n",
       "34041   M                 White             1        Aged_18_to_24_years   \n",
       "\n",
       "      strip_counts strip_search_rate Item_counts  \n",
       "0                1               1.0          0.  \n",
       "1                1               1.0          0.  \n",
       "2                1               1.0          0.  \n",
       "3                1               1.0          0.  \n",
       "4                1               1.0          0.  \n",
       "...            ...               ...         ...  \n",
       "34037            1               0.2          0.  \n",
       "34038            1               1.0          0.  \n",
       "34039            1               1.0          0.  \n",
       "34040            1               1.0          0.  \n",
       "34041            1               1.0          0.  \n",
       "\n",
       "[34042 rows x 7 columns]"
      ]
     },
     "execution_count": 68,
     "metadata": {},
     "output_type": "execute_result"
    }
   ],
   "source": [
    "df1.reset_index(inplace=True,drop=True)\n",
    "df1"
   ]
  },
  {
   "cell_type": "code",
   "execution_count": 69,
   "metadata": {},
   "outputs": [
    {
     "data": {
      "text/plain": [
       "M    26925\n",
       "F     7114\n",
       "U        3\n",
       "Name: Sex, dtype: int64"
      ]
     },
     "execution_count": 69,
     "metadata": {},
     "output_type": "execute_result"
    }
   ],
   "source": [
    "df1.Sex.value_counts()"
   ]
  },
  {
   "cell_type": "code",
   "execution_count": 70,
   "metadata": {},
   "outputs": [
    {
     "data": {
      "text/plain": [
       "Aged_25_to_34_years          10274\n",
       "Aged_35_to_44_years           7512\n",
       "Aged_18_to_24_years           5801\n",
       "Aged_45_to_54_years           4780\n",
       "Aged_55_to_64_years           2792\n",
       "Aged_17_years_and_younger     1867\n",
       "Aged_65_years_and_older       1016\n",
       "Name: Age_group__at_arrest_, dtype: int64"
      ]
     },
     "execution_count": 70,
     "metadata": {},
     "output_type": "execute_result"
    }
   ],
   "source": [
    "df1.Age_group__at_arrest_.value_counts()"
   ]
  },
  {
   "cell_type": "code",
   "execution_count": 71,
   "metadata": {
    "scrolled": true
   },
   "outputs": [
    {
     "data": {
      "text/plain": [
       "White                   13542\n",
       "Black                    9310\n",
       "East_Southeast_Asian     2825\n",
       "Unknown_or_Legacy        2820\n",
       "South_Asian              2187\n",
       "Middle_Eastern           1827\n",
       "Latino                   1000\n",
       "Indigenous                531\n",
       "Name: Race, dtype: int64"
      ]
     },
     "execution_count": 71,
     "metadata": {},
     "output_type": "execute_result"
    }
   ],
   "source": [
    "df1.Race.value_counts()"
   ]
  },
  {
   "cell_type": "code",
   "execution_count": 72,
   "metadata": {},
   "outputs": [],
   "source": [
    "one_hot_enc=prep.OneHotEncoder(sparse=False)"
   ]
  },
  {
   "cell_type": "code",
   "execution_count": 73,
   "metadata": {},
   "outputs": [],
   "source": [
    "categorical_encoded_Q2=one_hot_enc.fit_transform(df1[['Sex']])\n",
    "Gender=pd.DataFrame(categorical_encoded_Q2)\n",
    "Gender.columns='Woman Man Unisex'.split(\" \")"
   ]
  },
  {
   "cell_type": "code",
   "execution_count": 74,
   "metadata": {},
   "outputs": [
    {
     "data": {
      "text/html": [
       "<div>\n",
       "<style scoped>\n",
       "    .dataframe tbody tr th:only-of-type {\n",
       "        vertical-align: middle;\n",
       "    }\n",
       "\n",
       "    .dataframe tbody tr th {\n",
       "        vertical-align: top;\n",
       "    }\n",
       "\n",
       "    .dataframe thead th {\n",
       "        text-align: right;\n",
       "    }\n",
       "</style>\n",
       "<table border=\"1\" class=\"dataframe\">\n",
       "  <thead>\n",
       "    <tr style=\"text-align: right;\">\n",
       "      <th></th>\n",
       "      <th>Woman</th>\n",
       "      <th>Man</th>\n",
       "      <th>Unisex</th>\n",
       "    </tr>\n",
       "  </thead>\n",
       "  <tbody>\n",
       "    <tr>\n",
       "      <th>0</th>\n",
       "      <td>0.0</td>\n",
       "      <td>1.0</td>\n",
       "      <td>0.0</td>\n",
       "    </tr>\n",
       "    <tr>\n",
       "      <th>1</th>\n",
       "      <td>1.0</td>\n",
       "      <td>0.0</td>\n",
       "      <td>0.0</td>\n",
       "    </tr>\n",
       "    <tr>\n",
       "      <th>2</th>\n",
       "      <td>0.0</td>\n",
       "      <td>1.0</td>\n",
       "      <td>0.0</td>\n",
       "    </tr>\n",
       "    <tr>\n",
       "      <th>3</th>\n",
       "      <td>0.0</td>\n",
       "      <td>1.0</td>\n",
       "      <td>0.0</td>\n",
       "    </tr>\n",
       "    <tr>\n",
       "      <th>4</th>\n",
       "      <td>0.0</td>\n",
       "      <td>1.0</td>\n",
       "      <td>0.0</td>\n",
       "    </tr>\n",
       "    <tr>\n",
       "      <th>5</th>\n",
       "      <td>0.0</td>\n",
       "      <td>1.0</td>\n",
       "      <td>0.0</td>\n",
       "    </tr>\n",
       "    <tr>\n",
       "      <th>6</th>\n",
       "      <td>0.0</td>\n",
       "      <td>1.0</td>\n",
       "      <td>0.0</td>\n",
       "    </tr>\n",
       "    <tr>\n",
       "      <th>7</th>\n",
       "      <td>0.0</td>\n",
       "      <td>1.0</td>\n",
       "      <td>0.0</td>\n",
       "    </tr>\n",
       "    <tr>\n",
       "      <th>8</th>\n",
       "      <td>0.0</td>\n",
       "      <td>1.0</td>\n",
       "      <td>0.0</td>\n",
       "    </tr>\n",
       "    <tr>\n",
       "      <th>9</th>\n",
       "      <td>0.0</td>\n",
       "      <td>1.0</td>\n",
       "      <td>0.0</td>\n",
       "    </tr>\n",
       "    <tr>\n",
       "      <th>10</th>\n",
       "      <td>1.0</td>\n",
       "      <td>0.0</td>\n",
       "      <td>0.0</td>\n",
       "    </tr>\n",
       "    <tr>\n",
       "      <th>11</th>\n",
       "      <td>0.0</td>\n",
       "      <td>1.0</td>\n",
       "      <td>0.0</td>\n",
       "    </tr>\n",
       "    <tr>\n",
       "      <th>12</th>\n",
       "      <td>0.0</td>\n",
       "      <td>1.0</td>\n",
       "      <td>0.0</td>\n",
       "    </tr>\n",
       "    <tr>\n",
       "      <th>13</th>\n",
       "      <td>0.0</td>\n",
       "      <td>1.0</td>\n",
       "      <td>0.0</td>\n",
       "    </tr>\n",
       "    <tr>\n",
       "      <th>14</th>\n",
       "      <td>1.0</td>\n",
       "      <td>0.0</td>\n",
       "      <td>0.0</td>\n",
       "    </tr>\n",
       "    <tr>\n",
       "      <th>15</th>\n",
       "      <td>0.0</td>\n",
       "      <td>1.0</td>\n",
       "      <td>0.0</td>\n",
       "    </tr>\n",
       "    <tr>\n",
       "      <th>16</th>\n",
       "      <td>0.0</td>\n",
       "      <td>1.0</td>\n",
       "      <td>0.0</td>\n",
       "    </tr>\n",
       "    <tr>\n",
       "      <th>17</th>\n",
       "      <td>1.0</td>\n",
       "      <td>0.0</td>\n",
       "      <td>0.0</td>\n",
       "    </tr>\n",
       "    <tr>\n",
       "      <th>18</th>\n",
       "      <td>1.0</td>\n",
       "      <td>0.0</td>\n",
       "      <td>0.0</td>\n",
       "    </tr>\n",
       "    <tr>\n",
       "      <th>19</th>\n",
       "      <td>0.0</td>\n",
       "      <td>1.0</td>\n",
       "      <td>0.0</td>\n",
       "    </tr>\n",
       "  </tbody>\n",
       "</table>\n",
       "</div>"
      ],
      "text/plain": [
       "    Woman  Man  Unisex\n",
       "0     0.0  1.0     0.0\n",
       "1     1.0  0.0     0.0\n",
       "2     0.0  1.0     0.0\n",
       "3     0.0  1.0     0.0\n",
       "4     0.0  1.0     0.0\n",
       "5     0.0  1.0     0.0\n",
       "6     0.0  1.0     0.0\n",
       "7     0.0  1.0     0.0\n",
       "8     0.0  1.0     0.0\n",
       "9     0.0  1.0     0.0\n",
       "10    1.0  0.0     0.0\n",
       "11    0.0  1.0     0.0\n",
       "12    0.0  1.0     0.0\n",
       "13    0.0  1.0     0.0\n",
       "14    1.0  0.0     0.0\n",
       "15    0.0  1.0     0.0\n",
       "16    0.0  1.0     0.0\n",
       "17    1.0  0.0     0.0\n",
       "18    1.0  0.0     0.0\n",
       "19    0.0  1.0     0.0"
      ]
     },
     "execution_count": 74,
     "metadata": {},
     "output_type": "execute_result"
    }
   ],
   "source": [
    "Gender.head(20)"
   ]
  },
  {
   "cell_type": "code",
   "execution_count": 75,
   "metadata": {},
   "outputs": [],
   "source": [
    "categorical_encoded_Q5=one_hot_enc.fit_transform(df1[['Race']])\n",
    "Race1=pd.DataFrame(categorical_encoded_Q5)\n",
    "Race1.columns='Black East_Southeast_Asian Indigenous Latino Middle_Eastern South_Asian Unknown_or_Legacy White'.split(\" \")"
   ]
  },
  {
   "cell_type": "code",
   "execution_count": 76,
   "metadata": {},
   "outputs": [
    {
     "data": {
      "text/html": [
       "<div>\n",
       "<style scoped>\n",
       "    .dataframe tbody tr th:only-of-type {\n",
       "        vertical-align: middle;\n",
       "    }\n",
       "\n",
       "    .dataframe tbody tr th {\n",
       "        vertical-align: top;\n",
       "    }\n",
       "\n",
       "    .dataframe thead th {\n",
       "        text-align: right;\n",
       "    }\n",
       "</style>\n",
       "<table border=\"1\" class=\"dataframe\">\n",
       "  <thead>\n",
       "    <tr style=\"text-align: right;\">\n",
       "      <th></th>\n",
       "      <th>Black</th>\n",
       "      <th>East_Southeast_Asian</th>\n",
       "      <th>Indigenous</th>\n",
       "      <th>Latino</th>\n",
       "      <th>Middle_Eastern</th>\n",
       "      <th>South_Asian</th>\n",
       "      <th>Unknown_or_Legacy</th>\n",
       "      <th>White</th>\n",
       "    </tr>\n",
       "  </thead>\n",
       "  <tbody>\n",
       "    <tr>\n",
       "      <th>0</th>\n",
       "      <td>0.0</td>\n",
       "      <td>1.0</td>\n",
       "      <td>0.0</td>\n",
       "      <td>0.0</td>\n",
       "      <td>0.0</td>\n",
       "      <td>0.0</td>\n",
       "      <td>0.0</td>\n",
       "      <td>0.0</td>\n",
       "    </tr>\n",
       "    <tr>\n",
       "      <th>1</th>\n",
       "      <td>0.0</td>\n",
       "      <td>0.0</td>\n",
       "      <td>0.0</td>\n",
       "      <td>0.0</td>\n",
       "      <td>0.0</td>\n",
       "      <td>0.0</td>\n",
       "      <td>0.0</td>\n",
       "      <td>1.0</td>\n",
       "    </tr>\n",
       "    <tr>\n",
       "      <th>2</th>\n",
       "      <td>0.0</td>\n",
       "      <td>0.0</td>\n",
       "      <td>0.0</td>\n",
       "      <td>0.0</td>\n",
       "      <td>0.0</td>\n",
       "      <td>0.0</td>\n",
       "      <td>0.0</td>\n",
       "      <td>1.0</td>\n",
       "    </tr>\n",
       "    <tr>\n",
       "      <th>3</th>\n",
       "      <td>1.0</td>\n",
       "      <td>0.0</td>\n",
       "      <td>0.0</td>\n",
       "      <td>0.0</td>\n",
       "      <td>0.0</td>\n",
       "      <td>0.0</td>\n",
       "      <td>0.0</td>\n",
       "      <td>0.0</td>\n",
       "    </tr>\n",
       "    <tr>\n",
       "      <th>4</th>\n",
       "      <td>0.0</td>\n",
       "      <td>0.0</td>\n",
       "      <td>0.0</td>\n",
       "      <td>0.0</td>\n",
       "      <td>0.0</td>\n",
       "      <td>1.0</td>\n",
       "      <td>0.0</td>\n",
       "      <td>0.0</td>\n",
       "    </tr>\n",
       "    <tr>\n",
       "      <th>...</th>\n",
       "      <td>...</td>\n",
       "      <td>...</td>\n",
       "      <td>...</td>\n",
       "      <td>...</td>\n",
       "      <td>...</td>\n",
       "      <td>...</td>\n",
       "      <td>...</td>\n",
       "      <td>...</td>\n",
       "    </tr>\n",
       "    <tr>\n",
       "      <th>34037</th>\n",
       "      <td>0.0</td>\n",
       "      <td>0.0</td>\n",
       "      <td>0.0</td>\n",
       "      <td>0.0</td>\n",
       "      <td>0.0</td>\n",
       "      <td>0.0</td>\n",
       "      <td>0.0</td>\n",
       "      <td>1.0</td>\n",
       "    </tr>\n",
       "    <tr>\n",
       "      <th>34038</th>\n",
       "      <td>0.0</td>\n",
       "      <td>0.0</td>\n",
       "      <td>0.0</td>\n",
       "      <td>0.0</td>\n",
       "      <td>0.0</td>\n",
       "      <td>0.0</td>\n",
       "      <td>0.0</td>\n",
       "      <td>1.0</td>\n",
       "    </tr>\n",
       "    <tr>\n",
       "      <th>34039</th>\n",
       "      <td>1.0</td>\n",
       "      <td>0.0</td>\n",
       "      <td>0.0</td>\n",
       "      <td>0.0</td>\n",
       "      <td>0.0</td>\n",
       "      <td>0.0</td>\n",
       "      <td>0.0</td>\n",
       "      <td>0.0</td>\n",
       "    </tr>\n",
       "    <tr>\n",
       "      <th>34040</th>\n",
       "      <td>1.0</td>\n",
       "      <td>0.0</td>\n",
       "      <td>0.0</td>\n",
       "      <td>0.0</td>\n",
       "      <td>0.0</td>\n",
       "      <td>0.0</td>\n",
       "      <td>0.0</td>\n",
       "      <td>0.0</td>\n",
       "    </tr>\n",
       "    <tr>\n",
       "      <th>34041</th>\n",
       "      <td>0.0</td>\n",
       "      <td>0.0</td>\n",
       "      <td>0.0</td>\n",
       "      <td>0.0</td>\n",
       "      <td>0.0</td>\n",
       "      <td>0.0</td>\n",
       "      <td>0.0</td>\n",
       "      <td>1.0</td>\n",
       "    </tr>\n",
       "  </tbody>\n",
       "</table>\n",
       "<p>34042 rows × 8 columns</p>\n",
       "</div>"
      ],
      "text/plain": [
       "       Black  East_Southeast_Asian  Indigenous  Latino  Middle_Eastern  \\\n",
       "0        0.0                   1.0         0.0     0.0             0.0   \n",
       "1        0.0                   0.0         0.0     0.0             0.0   \n",
       "2        0.0                   0.0         0.0     0.0             0.0   \n",
       "3        1.0                   0.0         0.0     0.0             0.0   \n",
       "4        0.0                   0.0         0.0     0.0             0.0   \n",
       "...      ...                   ...         ...     ...             ...   \n",
       "34037    0.0                   0.0         0.0     0.0             0.0   \n",
       "34038    0.0                   0.0         0.0     0.0             0.0   \n",
       "34039    1.0                   0.0         0.0     0.0             0.0   \n",
       "34040    1.0                   0.0         0.0     0.0             0.0   \n",
       "34041    0.0                   0.0         0.0     0.0             0.0   \n",
       "\n",
       "       South_Asian  Unknown_or_Legacy  White  \n",
       "0              0.0                0.0    0.0  \n",
       "1              0.0                0.0    1.0  \n",
       "2              0.0                0.0    1.0  \n",
       "3              0.0                0.0    0.0  \n",
       "4              1.0                0.0    0.0  \n",
       "...            ...                ...    ...  \n",
       "34037          0.0                0.0    1.0  \n",
       "34038          0.0                0.0    1.0  \n",
       "34039          0.0                0.0    0.0  \n",
       "34040          0.0                0.0    0.0  \n",
       "34041          0.0                0.0    1.0  \n",
       "\n",
       "[34042 rows x 8 columns]"
      ]
     },
     "execution_count": 76,
     "metadata": {},
     "output_type": "execute_result"
    }
   ],
   "source": [
    "Race1"
   ]
  },
  {
   "cell_type": "code",
   "execution_count": 77,
   "metadata": {},
   "outputs": [
    {
     "data": {
      "text/html": [
       "<div>\n",
       "<style scoped>\n",
       "    .dataframe tbody tr th:only-of-type {\n",
       "        vertical-align: middle;\n",
       "    }\n",
       "\n",
       "    .dataframe tbody tr th {\n",
       "        vertical-align: top;\n",
       "    }\n",
       "\n",
       "    .dataframe thead th {\n",
       "        text-align: right;\n",
       "    }\n",
       "</style>\n",
       "<table border=\"1\" class=\"dataframe\">\n",
       "  <thead>\n",
       "    <tr style=\"text-align: right;\">\n",
       "      <th></th>\n",
       "      <th>strip_search_rate</th>\n",
       "    </tr>\n",
       "  </thead>\n",
       "  <tbody>\n",
       "    <tr>\n",
       "      <th>0</th>\n",
       "      <td>1.0</td>\n",
       "    </tr>\n",
       "    <tr>\n",
       "      <th>1</th>\n",
       "      <td>1.0</td>\n",
       "    </tr>\n",
       "    <tr>\n",
       "      <th>2</th>\n",
       "      <td>1.0</td>\n",
       "    </tr>\n",
       "    <tr>\n",
       "      <th>3</th>\n",
       "      <td>1.0</td>\n",
       "    </tr>\n",
       "    <tr>\n",
       "      <th>4</th>\n",
       "      <td>1.0</td>\n",
       "    </tr>\n",
       "    <tr>\n",
       "      <th>...</th>\n",
       "      <td>...</td>\n",
       "    </tr>\n",
       "    <tr>\n",
       "      <th>34037</th>\n",
       "      <td>0.2</td>\n",
       "    </tr>\n",
       "    <tr>\n",
       "      <th>34038</th>\n",
       "      <td>1.0</td>\n",
       "    </tr>\n",
       "    <tr>\n",
       "      <th>34039</th>\n",
       "      <td>1.0</td>\n",
       "    </tr>\n",
       "    <tr>\n",
       "      <th>34040</th>\n",
       "      <td>1.0</td>\n",
       "    </tr>\n",
       "    <tr>\n",
       "      <th>34041</th>\n",
       "      <td>1.0</td>\n",
       "    </tr>\n",
       "  </tbody>\n",
       "</table>\n",
       "<p>34042 rows × 1 columns</p>\n",
       "</div>"
      ],
      "text/plain": [
       "      strip_search_rate\n",
       "0                   1.0\n",
       "1                   1.0\n",
       "2                   1.0\n",
       "3                   1.0\n",
       "4                   1.0\n",
       "...                 ...\n",
       "34037               0.2\n",
       "34038               1.0\n",
       "34039               1.0\n",
       "34040               1.0\n",
       "34041               1.0\n",
       "\n",
       "[34042 rows x 1 columns]"
      ]
     },
     "execution_count": 77,
     "metadata": {},
     "output_type": "execute_result"
    }
   ],
   "source": [
    "df3=df1[['strip_search_rate']]\n",
    "df3"
   ]
  },
  {
   "cell_type": "code",
   "execution_count": 78,
   "metadata": {
    "scrolled": true
   },
   "outputs": [
    {
     "data": {
      "text/html": [
       "<div>\n",
       "<style scoped>\n",
       "    .dataframe tbody tr th:only-of-type {\n",
       "        vertical-align: middle;\n",
       "    }\n",
       "\n",
       "    .dataframe tbody tr th {\n",
       "        vertical-align: top;\n",
       "    }\n",
       "\n",
       "    .dataframe thead th {\n",
       "        text-align: right;\n",
       "    }\n",
       "</style>\n",
       "<table border=\"1\" class=\"dataframe\">\n",
       "  <thead>\n",
       "    <tr style=\"text-align: right;\">\n",
       "      <th></th>\n",
       "      <th>Woman</th>\n",
       "      <th>Man</th>\n",
       "      <th>Unisex</th>\n",
       "      <th>Black</th>\n",
       "      <th>East_Southeast_Asian</th>\n",
       "      <th>Indigenous</th>\n",
       "      <th>Latino</th>\n",
       "      <th>Middle_Eastern</th>\n",
       "      <th>South_Asian</th>\n",
       "      <th>Unknown_or_Legacy</th>\n",
       "      <th>White</th>\n",
       "      <th>strip_search_rate</th>\n",
       "    </tr>\n",
       "  </thead>\n",
       "  <tbody>\n",
       "    <tr>\n",
       "      <th>0</th>\n",
       "      <td>0.0</td>\n",
       "      <td>1.0</td>\n",
       "      <td>0.0</td>\n",
       "      <td>0.0</td>\n",
       "      <td>1.0</td>\n",
       "      <td>0.0</td>\n",
       "      <td>0.0</td>\n",
       "      <td>0.0</td>\n",
       "      <td>0.0</td>\n",
       "      <td>0.0</td>\n",
       "      <td>0.0</td>\n",
       "      <td>1.0</td>\n",
       "    </tr>\n",
       "    <tr>\n",
       "      <th>1</th>\n",
       "      <td>1.0</td>\n",
       "      <td>0.0</td>\n",
       "      <td>0.0</td>\n",
       "      <td>0.0</td>\n",
       "      <td>0.0</td>\n",
       "      <td>0.0</td>\n",
       "      <td>0.0</td>\n",
       "      <td>0.0</td>\n",
       "      <td>0.0</td>\n",
       "      <td>0.0</td>\n",
       "      <td>1.0</td>\n",
       "      <td>1.0</td>\n",
       "    </tr>\n",
       "    <tr>\n",
       "      <th>2</th>\n",
       "      <td>0.0</td>\n",
       "      <td>1.0</td>\n",
       "      <td>0.0</td>\n",
       "      <td>0.0</td>\n",
       "      <td>0.0</td>\n",
       "      <td>0.0</td>\n",
       "      <td>0.0</td>\n",
       "      <td>0.0</td>\n",
       "      <td>0.0</td>\n",
       "      <td>0.0</td>\n",
       "      <td>1.0</td>\n",
       "      <td>1.0</td>\n",
       "    </tr>\n",
       "    <tr>\n",
       "      <th>3</th>\n",
       "      <td>0.0</td>\n",
       "      <td>1.0</td>\n",
       "      <td>0.0</td>\n",
       "      <td>1.0</td>\n",
       "      <td>0.0</td>\n",
       "      <td>0.0</td>\n",
       "      <td>0.0</td>\n",
       "      <td>0.0</td>\n",
       "      <td>0.0</td>\n",
       "      <td>0.0</td>\n",
       "      <td>0.0</td>\n",
       "      <td>1.0</td>\n",
       "    </tr>\n",
       "    <tr>\n",
       "      <th>4</th>\n",
       "      <td>0.0</td>\n",
       "      <td>1.0</td>\n",
       "      <td>0.0</td>\n",
       "      <td>0.0</td>\n",
       "      <td>0.0</td>\n",
       "      <td>0.0</td>\n",
       "      <td>0.0</td>\n",
       "      <td>0.0</td>\n",
       "      <td>1.0</td>\n",
       "      <td>0.0</td>\n",
       "      <td>0.0</td>\n",
       "      <td>1.0</td>\n",
       "    </tr>\n",
       "    <tr>\n",
       "      <th>...</th>\n",
       "      <td>...</td>\n",
       "      <td>...</td>\n",
       "      <td>...</td>\n",
       "      <td>...</td>\n",
       "      <td>...</td>\n",
       "      <td>...</td>\n",
       "      <td>...</td>\n",
       "      <td>...</td>\n",
       "      <td>...</td>\n",
       "      <td>...</td>\n",
       "      <td>...</td>\n",
       "      <td>...</td>\n",
       "    </tr>\n",
       "    <tr>\n",
       "      <th>34037</th>\n",
       "      <td>0.0</td>\n",
       "      <td>1.0</td>\n",
       "      <td>0.0</td>\n",
       "      <td>0.0</td>\n",
       "      <td>0.0</td>\n",
       "      <td>0.0</td>\n",
       "      <td>0.0</td>\n",
       "      <td>0.0</td>\n",
       "      <td>0.0</td>\n",
       "      <td>0.0</td>\n",
       "      <td>1.0</td>\n",
       "      <td>0.2</td>\n",
       "    </tr>\n",
       "    <tr>\n",
       "      <th>34038</th>\n",
       "      <td>0.0</td>\n",
       "      <td>1.0</td>\n",
       "      <td>0.0</td>\n",
       "      <td>0.0</td>\n",
       "      <td>0.0</td>\n",
       "      <td>0.0</td>\n",
       "      <td>0.0</td>\n",
       "      <td>0.0</td>\n",
       "      <td>0.0</td>\n",
       "      <td>0.0</td>\n",
       "      <td>1.0</td>\n",
       "      <td>1.0</td>\n",
       "    </tr>\n",
       "    <tr>\n",
       "      <th>34039</th>\n",
       "      <td>0.0</td>\n",
       "      <td>1.0</td>\n",
       "      <td>0.0</td>\n",
       "      <td>1.0</td>\n",
       "      <td>0.0</td>\n",
       "      <td>0.0</td>\n",
       "      <td>0.0</td>\n",
       "      <td>0.0</td>\n",
       "      <td>0.0</td>\n",
       "      <td>0.0</td>\n",
       "      <td>0.0</td>\n",
       "      <td>1.0</td>\n",
       "    </tr>\n",
       "    <tr>\n",
       "      <th>34040</th>\n",
       "      <td>0.0</td>\n",
       "      <td>1.0</td>\n",
       "      <td>0.0</td>\n",
       "      <td>1.0</td>\n",
       "      <td>0.0</td>\n",
       "      <td>0.0</td>\n",
       "      <td>0.0</td>\n",
       "      <td>0.0</td>\n",
       "      <td>0.0</td>\n",
       "      <td>0.0</td>\n",
       "      <td>0.0</td>\n",
       "      <td>1.0</td>\n",
       "    </tr>\n",
       "    <tr>\n",
       "      <th>34041</th>\n",
       "      <td>0.0</td>\n",
       "      <td>1.0</td>\n",
       "      <td>0.0</td>\n",
       "      <td>0.0</td>\n",
       "      <td>0.0</td>\n",
       "      <td>0.0</td>\n",
       "      <td>0.0</td>\n",
       "      <td>0.0</td>\n",
       "      <td>0.0</td>\n",
       "      <td>0.0</td>\n",
       "      <td>1.0</td>\n",
       "      <td>1.0</td>\n",
       "    </tr>\n",
       "  </tbody>\n",
       "</table>\n",
       "<p>34042 rows × 12 columns</p>\n",
       "</div>"
      ],
      "text/plain": [
       "       Woman  Man  Unisex  Black  East_Southeast_Asian  Indigenous  Latino  \\\n",
       "0        0.0  1.0     0.0    0.0                   1.0         0.0     0.0   \n",
       "1        1.0  0.0     0.0    0.0                   0.0         0.0     0.0   \n",
       "2        0.0  1.0     0.0    0.0                   0.0         0.0     0.0   \n",
       "3        0.0  1.0     0.0    1.0                   0.0         0.0     0.0   \n",
       "4        0.0  1.0     0.0    0.0                   0.0         0.0     0.0   \n",
       "...      ...  ...     ...    ...                   ...         ...     ...   \n",
       "34037    0.0  1.0     0.0    0.0                   0.0         0.0     0.0   \n",
       "34038    0.0  1.0     0.0    0.0                   0.0         0.0     0.0   \n",
       "34039    0.0  1.0     0.0    1.0                   0.0         0.0     0.0   \n",
       "34040    0.0  1.0     0.0    1.0                   0.0         0.0     0.0   \n",
       "34041    0.0  1.0     0.0    0.0                   0.0         0.0     0.0   \n",
       "\n",
       "       Middle_Eastern  South_Asian  Unknown_or_Legacy  White  \\\n",
       "0                 0.0          0.0                0.0    0.0   \n",
       "1                 0.0          0.0                0.0    1.0   \n",
       "2                 0.0          0.0                0.0    1.0   \n",
       "3                 0.0          0.0                0.0    0.0   \n",
       "4                 0.0          1.0                0.0    0.0   \n",
       "...               ...          ...                ...    ...   \n",
       "34037             0.0          0.0                0.0    1.0   \n",
       "34038             0.0          0.0                0.0    1.0   \n",
       "34039             0.0          0.0                0.0    0.0   \n",
       "34040             0.0          0.0                0.0    0.0   \n",
       "34041             0.0          0.0                0.0    1.0   \n",
       "\n",
       "       strip_search_rate  \n",
       "0                    1.0  \n",
       "1                    1.0  \n",
       "2                    1.0  \n",
       "3                    1.0  \n",
       "4                    1.0  \n",
       "...                  ...  \n",
       "34037                0.2  \n",
       "34038                1.0  \n",
       "34039                1.0  \n",
       "34040                1.0  \n",
       "34041                1.0  \n",
       "\n",
       "[34042 rows x 12 columns]"
      ]
     },
     "execution_count": 78,
     "metadata": {},
     "output_type": "execute_result"
    }
   ],
   "source": [
    "df4=pd.concat([Gender,Race1,df3],axis=1)\n",
    "df4['strip_search_rate'] = pd.to_numeric(df4['strip_search_rate'], errors='coerce').astype('float64')\n",
    "df4"
   ]
  },
  {
   "cell_type": "markdown",
   "metadata": {},
   "source": [
    "# EDA"
   ]
  },
  {
   "cell_type": "code",
   "execution_count": 79,
   "metadata": {},
   "outputs": [
    {
     "data": {
      "text/html": [
       "<div>\n",
       "<style scoped>\n",
       "    .dataframe tbody tr th:only-of-type {\n",
       "        vertical-align: middle;\n",
       "    }\n",
       "\n",
       "    .dataframe tbody tr th {\n",
       "        vertical-align: top;\n",
       "    }\n",
       "\n",
       "    .dataframe thead th {\n",
       "        text-align: right;\n",
       "    }\n",
       "</style>\n",
       "<table border=\"1\" class=\"dataframe\">\n",
       "  <thead>\n",
       "    <tr style=\"text-align: right;\">\n",
       "      <th></th>\n",
       "      <th>Woman</th>\n",
       "      <th>Man</th>\n",
       "      <th>Unisex</th>\n",
       "      <th>Black</th>\n",
       "      <th>East_Southeast_Asian</th>\n",
       "      <th>Indigenous</th>\n",
       "      <th>Latino</th>\n",
       "      <th>Middle_Eastern</th>\n",
       "      <th>South_Asian</th>\n",
       "      <th>Unknown_or_Legacy</th>\n",
       "      <th>White</th>\n",
       "      <th>strip_search_rate</th>\n",
       "    </tr>\n",
       "  </thead>\n",
       "  <tbody>\n",
       "    <tr>\n",
       "      <th>0</th>\n",
       "      <td>0.0</td>\n",
       "      <td>1.0</td>\n",
       "      <td>0.0</td>\n",
       "      <td>0.0</td>\n",
       "      <td>1.0</td>\n",
       "      <td>0.0</td>\n",
       "      <td>0.0</td>\n",
       "      <td>0.0</td>\n",
       "      <td>0.0</td>\n",
       "      <td>0.0</td>\n",
       "      <td>0.0</td>\n",
       "      <td>1.0</td>\n",
       "    </tr>\n",
       "    <tr>\n",
       "      <th>1</th>\n",
       "      <td>1.0</td>\n",
       "      <td>0.0</td>\n",
       "      <td>0.0</td>\n",
       "      <td>0.0</td>\n",
       "      <td>0.0</td>\n",
       "      <td>0.0</td>\n",
       "      <td>0.0</td>\n",
       "      <td>0.0</td>\n",
       "      <td>0.0</td>\n",
       "      <td>0.0</td>\n",
       "      <td>1.0</td>\n",
       "      <td>1.0</td>\n",
       "    </tr>\n",
       "    <tr>\n",
       "      <th>2</th>\n",
       "      <td>0.0</td>\n",
       "      <td>1.0</td>\n",
       "      <td>0.0</td>\n",
       "      <td>0.0</td>\n",
       "      <td>0.0</td>\n",
       "      <td>0.0</td>\n",
       "      <td>0.0</td>\n",
       "      <td>0.0</td>\n",
       "      <td>0.0</td>\n",
       "      <td>0.0</td>\n",
       "      <td>1.0</td>\n",
       "      <td>1.0</td>\n",
       "    </tr>\n",
       "    <tr>\n",
       "      <th>3</th>\n",
       "      <td>0.0</td>\n",
       "      <td>1.0</td>\n",
       "      <td>0.0</td>\n",
       "      <td>1.0</td>\n",
       "      <td>0.0</td>\n",
       "      <td>0.0</td>\n",
       "      <td>0.0</td>\n",
       "      <td>0.0</td>\n",
       "      <td>0.0</td>\n",
       "      <td>0.0</td>\n",
       "      <td>0.0</td>\n",
       "      <td>1.0</td>\n",
       "    </tr>\n",
       "    <tr>\n",
       "      <th>4</th>\n",
       "      <td>0.0</td>\n",
       "      <td>1.0</td>\n",
       "      <td>0.0</td>\n",
       "      <td>0.0</td>\n",
       "      <td>0.0</td>\n",
       "      <td>0.0</td>\n",
       "      <td>0.0</td>\n",
       "      <td>0.0</td>\n",
       "      <td>1.0</td>\n",
       "      <td>0.0</td>\n",
       "      <td>0.0</td>\n",
       "      <td>1.0</td>\n",
       "    </tr>\n",
       "    <tr>\n",
       "      <th>...</th>\n",
       "      <td>...</td>\n",
       "      <td>...</td>\n",
       "      <td>...</td>\n",
       "      <td>...</td>\n",
       "      <td>...</td>\n",
       "      <td>...</td>\n",
       "      <td>...</td>\n",
       "      <td>...</td>\n",
       "      <td>...</td>\n",
       "      <td>...</td>\n",
       "      <td>...</td>\n",
       "      <td>...</td>\n",
       "    </tr>\n",
       "    <tr>\n",
       "      <th>34037</th>\n",
       "      <td>0.0</td>\n",
       "      <td>1.0</td>\n",
       "      <td>0.0</td>\n",
       "      <td>0.0</td>\n",
       "      <td>0.0</td>\n",
       "      <td>0.0</td>\n",
       "      <td>0.0</td>\n",
       "      <td>0.0</td>\n",
       "      <td>0.0</td>\n",
       "      <td>0.0</td>\n",
       "      <td>1.0</td>\n",
       "      <td>0.2</td>\n",
       "    </tr>\n",
       "    <tr>\n",
       "      <th>34038</th>\n",
       "      <td>0.0</td>\n",
       "      <td>1.0</td>\n",
       "      <td>0.0</td>\n",
       "      <td>0.0</td>\n",
       "      <td>0.0</td>\n",
       "      <td>0.0</td>\n",
       "      <td>0.0</td>\n",
       "      <td>0.0</td>\n",
       "      <td>0.0</td>\n",
       "      <td>0.0</td>\n",
       "      <td>1.0</td>\n",
       "      <td>1.0</td>\n",
       "    </tr>\n",
       "    <tr>\n",
       "      <th>34039</th>\n",
       "      <td>0.0</td>\n",
       "      <td>1.0</td>\n",
       "      <td>0.0</td>\n",
       "      <td>1.0</td>\n",
       "      <td>0.0</td>\n",
       "      <td>0.0</td>\n",
       "      <td>0.0</td>\n",
       "      <td>0.0</td>\n",
       "      <td>0.0</td>\n",
       "      <td>0.0</td>\n",
       "      <td>0.0</td>\n",
       "      <td>1.0</td>\n",
       "    </tr>\n",
       "    <tr>\n",
       "      <th>34040</th>\n",
       "      <td>0.0</td>\n",
       "      <td>1.0</td>\n",
       "      <td>0.0</td>\n",
       "      <td>1.0</td>\n",
       "      <td>0.0</td>\n",
       "      <td>0.0</td>\n",
       "      <td>0.0</td>\n",
       "      <td>0.0</td>\n",
       "      <td>0.0</td>\n",
       "      <td>0.0</td>\n",
       "      <td>0.0</td>\n",
       "      <td>1.0</td>\n",
       "    </tr>\n",
       "    <tr>\n",
       "      <th>34041</th>\n",
       "      <td>0.0</td>\n",
       "      <td>1.0</td>\n",
       "      <td>0.0</td>\n",
       "      <td>0.0</td>\n",
       "      <td>0.0</td>\n",
       "      <td>0.0</td>\n",
       "      <td>0.0</td>\n",
       "      <td>0.0</td>\n",
       "      <td>0.0</td>\n",
       "      <td>0.0</td>\n",
       "      <td>1.0</td>\n",
       "      <td>1.0</td>\n",
       "    </tr>\n",
       "  </tbody>\n",
       "</table>\n",
       "<p>34042 rows × 12 columns</p>\n",
       "</div>"
      ],
      "text/plain": [
       "       Woman  Man  Unisex  Black  East_Southeast_Asian  Indigenous  Latino  \\\n",
       "0        0.0  1.0     0.0    0.0                   1.0         0.0     0.0   \n",
       "1        1.0  0.0     0.0    0.0                   0.0         0.0     0.0   \n",
       "2        0.0  1.0     0.0    0.0                   0.0         0.0     0.0   \n",
       "3        0.0  1.0     0.0    1.0                   0.0         0.0     0.0   \n",
       "4        0.0  1.0     0.0    0.0                   0.0         0.0     0.0   \n",
       "...      ...  ...     ...    ...                   ...         ...     ...   \n",
       "34037    0.0  1.0     0.0    0.0                   0.0         0.0     0.0   \n",
       "34038    0.0  1.0     0.0    0.0                   0.0         0.0     0.0   \n",
       "34039    0.0  1.0     0.0    1.0                   0.0         0.0     0.0   \n",
       "34040    0.0  1.0     0.0    1.0                   0.0         0.0     0.0   \n",
       "34041    0.0  1.0     0.0    0.0                   0.0         0.0     0.0   \n",
       "\n",
       "       Middle_Eastern  South_Asian  Unknown_or_Legacy  White  \\\n",
       "0                 0.0          0.0                0.0    0.0   \n",
       "1                 0.0          0.0                0.0    1.0   \n",
       "2                 0.0          0.0                0.0    1.0   \n",
       "3                 0.0          0.0                0.0    0.0   \n",
       "4                 0.0          1.0                0.0    0.0   \n",
       "...               ...          ...                ...    ...   \n",
       "34037             0.0          0.0                0.0    1.0   \n",
       "34038             0.0          0.0                0.0    1.0   \n",
       "34039             0.0          0.0                0.0    0.0   \n",
       "34040             0.0          0.0                0.0    0.0   \n",
       "34041             0.0          0.0                0.0    1.0   \n",
       "\n",
       "       strip_search_rate  \n",
       "0                    1.0  \n",
       "1                    1.0  \n",
       "2                    1.0  \n",
       "3                    1.0  \n",
       "4                    1.0  \n",
       "...                  ...  \n",
       "34037                0.2  \n",
       "34038                1.0  \n",
       "34039                1.0  \n",
       "34040                1.0  \n",
       "34041                1.0  \n",
       "\n",
       "[34042 rows x 12 columns]"
      ]
     },
     "execution_count": 79,
     "metadata": {},
     "output_type": "execute_result"
    }
   ],
   "source": [
    "df4"
   ]
  },
  {
   "cell_type": "code",
   "execution_count": 80,
   "metadata": {},
   "outputs": [
    {
     "data": {
      "image/png": "[encoded data removed]",
      "text/plain": [
       "<Figure size 432x360 with 2 Axes>"
      ]
     },
     "metadata": {
      "needs_background": "light"
     },
     "output_type": "display_data"
    }
   ],
   "source": [
    "feature=df4.iloc[:,:-1]\n",
    "import seaborn as sns\n",
    "plt.figure(figsize=(6,5))\n",
    "cor=df4.corr()\n",
    "ax=sns.heatmap(cor,xticklabels=1,yticklabels=False)"
   ]
  },
  {
   "cell_type": "code",
   "execution_count": 81,
   "metadata": {},
   "outputs": [
    {
     "data": {
      "text/html": [
       "<div>\n",
       "<style scoped>\n",
       "    .dataframe tbody tr th:only-of-type {\n",
       "        vertical-align: middle;\n",
       "    }\n",
       "\n",
       "    .dataframe tbody tr th {\n",
       "        vertical-align: top;\n",
       "    }\n",
       "\n",
       "    .dataframe thead th {\n",
       "        text-align: right;\n",
       "    }\n",
       "</style>\n",
       "<table border=\"1\" class=\"dataframe\">\n",
       "  <thead>\n",
       "    <tr style=\"text-align: right;\">\n",
       "      <th></th>\n",
       "      <th>Woman</th>\n",
       "      <th>Man</th>\n",
       "      <th>Unisex</th>\n",
       "      <th>Black</th>\n",
       "      <th>East_Southeast_Asian</th>\n",
       "      <th>Indigenous</th>\n",
       "      <th>Latino</th>\n",
       "      <th>Middle_Eastern</th>\n",
       "      <th>South_Asian</th>\n",
       "      <th>Unknown_or_Legacy</th>\n",
       "      <th>White</th>\n",
       "      <th>strip_search_rate</th>\n",
       "    </tr>\n",
       "  </thead>\n",
       "  <tbody>\n",
       "    <tr>\n",
       "      <th>Woman</th>\n",
       "      <td>1.000000</td>\n",
       "      <td>-0.999734</td>\n",
       "      <td>-0.004825</td>\n",
       "      <td>-0.029756</td>\n",
       "      <td>-0.006642</td>\n",
       "      <td>0.058326</td>\n",
       "      <td>-0.019673</td>\n",
       "      <td>-0.044820</td>\n",
       "      <td>-0.028593</td>\n",
       "      <td>-0.008471</td>\n",
       "      <td>0.062594</td>\n",
       "      <td>0.037608</td>\n",
       "    </tr>\n",
       "    <tr>\n",
       "      <th>Man</th>\n",
       "      <td>-0.999734</td>\n",
       "      <td>1.000000</td>\n",
       "      <td>-0.018260</td>\n",
       "      <td>0.029884</td>\n",
       "      <td>0.006706</td>\n",
       "      <td>-0.058289</td>\n",
       "      <td>0.019280</td>\n",
       "      <td>0.044864</td>\n",
       "      <td>0.028646</td>\n",
       "      <td>0.008534</td>\n",
       "      <td>-0.062704</td>\n",
       "      <td>-0.037707</td>\n",
       "    </tr>\n",
       "    <tr>\n",
       "      <th>Unisex</th>\n",
       "      <td>-0.004825</td>\n",
       "      <td>-0.018260</td>\n",
       "      <td>1.000000</td>\n",
       "      <td>-0.005760</td>\n",
       "      <td>-0.002824</td>\n",
       "      <td>-0.001182</td>\n",
       "      <td>0.016899</td>\n",
       "      <td>-0.002236</td>\n",
       "      <td>-0.002460</td>\n",
       "      <td>-0.002821</td>\n",
       "      <td>0.005157</td>\n",
       "      <td>0.004513</td>\n",
       "    </tr>\n",
       "    <tr>\n",
       "      <th>Black</th>\n",
       "      <td>-0.029756</td>\n",
       "      <td>0.029884</td>\n",
       "      <td>-0.005760</td>\n",
       "      <td>1.000000</td>\n",
       "      <td>-0.184569</td>\n",
       "      <td>-0.077232</td>\n",
       "      <td>-0.106736</td>\n",
       "      <td>-0.146112</td>\n",
       "      <td>-0.160761</td>\n",
       "      <td>-0.184391</td>\n",
       "      <td>-0.498666</td>\n",
       "      <td>-0.065755</td>\n",
       "    </tr>\n",
       "    <tr>\n",
       "      <th>East_Southeast_Asian</th>\n",
       "      <td>-0.006642</td>\n",
       "      <td>0.006706</td>\n",
       "      <td>-0.002824</td>\n",
       "      <td>-0.184569</td>\n",
       "      <td>1.000000</td>\n",
       "      <td>-0.037868</td>\n",
       "      <td>-0.052334</td>\n",
       "      <td>-0.071640</td>\n",
       "      <td>-0.078822</td>\n",
       "      <td>-0.090408</td>\n",
       "      <td>-0.244500</td>\n",
       "      <td>0.076146</td>\n",
       "    </tr>\n",
       "    <tr>\n",
       "      <th>Indigenous</th>\n",
       "      <td>0.058326</td>\n",
       "      <td>-0.058289</td>\n",
       "      <td>-0.001182</td>\n",
       "      <td>-0.077232</td>\n",
       "      <td>-0.037868</td>\n",
       "      <td>1.000000</td>\n",
       "      <td>-0.021899</td>\n",
       "      <td>-0.029977</td>\n",
       "      <td>-0.032983</td>\n",
       "      <td>-0.037831</td>\n",
       "      <td>-0.102310</td>\n",
       "      <td>-0.044800</td>\n",
       "    </tr>\n",
       "    <tr>\n",
       "      <th>Latino</th>\n",
       "      <td>-0.019673</td>\n",
       "      <td>0.019280</td>\n",
       "      <td>0.016899</td>\n",
       "      <td>-0.106736</td>\n",
       "      <td>-0.052334</td>\n",
       "      <td>-0.021899</td>\n",
       "      <td>1.000000</td>\n",
       "      <td>-0.041429</td>\n",
       "      <td>-0.045583</td>\n",
       "      <td>-0.052283</td>\n",
       "      <td>-0.141394</td>\n",
       "      <td>0.030002</td>\n",
       "    </tr>\n",
       "    <tr>\n",
       "      <th>Middle_Eastern</th>\n",
       "      <td>-0.044820</td>\n",
       "      <td>0.044864</td>\n",
       "      <td>-0.002236</td>\n",
       "      <td>-0.146112</td>\n",
       "      <td>-0.071640</td>\n",
       "      <td>-0.029977</td>\n",
       "      <td>-0.041429</td>\n",
       "      <td>1.000000</td>\n",
       "      <td>-0.062399</td>\n",
       "      <td>-0.071571</td>\n",
       "      <td>-0.193555</td>\n",
       "      <td>0.052417</td>\n",
       "    </tr>\n",
       "    <tr>\n",
       "      <th>South_Asian</th>\n",
       "      <td>-0.028593</td>\n",
       "      <td>0.028646</td>\n",
       "      <td>-0.002460</td>\n",
       "      <td>-0.160761</td>\n",
       "      <td>-0.078822</td>\n",
       "      <td>-0.032983</td>\n",
       "      <td>-0.045583</td>\n",
       "      <td>-0.062399</td>\n",
       "      <td>1.000000</td>\n",
       "      <td>-0.078746</td>\n",
       "      <td>-0.212961</td>\n",
       "      <td>0.071129</td>\n",
       "    </tr>\n",
       "    <tr>\n",
       "      <th>Unknown_or_Legacy</th>\n",
       "      <td>-0.008471</td>\n",
       "      <td>0.008534</td>\n",
       "      <td>-0.002821</td>\n",
       "      <td>-0.184391</td>\n",
       "      <td>-0.090408</td>\n",
       "      <td>-0.037831</td>\n",
       "      <td>-0.052283</td>\n",
       "      <td>-0.071571</td>\n",
       "      <td>-0.078746</td>\n",
       "      <td>1.000000</td>\n",
       "      <td>-0.244264</td>\n",
       "      <td>0.107388</td>\n",
       "    </tr>\n",
       "    <tr>\n",
       "      <th>White</th>\n",
       "      <td>0.062594</td>\n",
       "      <td>-0.062704</td>\n",
       "      <td>0.005157</td>\n",
       "      <td>-0.498666</td>\n",
       "      <td>-0.244500</td>\n",
       "      <td>-0.102310</td>\n",
       "      <td>-0.141394</td>\n",
       "      <td>-0.193555</td>\n",
       "      <td>-0.212961</td>\n",
       "      <td>-0.244264</td>\n",
       "      <td>1.000000</td>\n",
       "      <td>-0.102286</td>\n",
       "    </tr>\n",
       "    <tr>\n",
       "      <th>strip_search_rate</th>\n",
       "      <td>0.037608</td>\n",
       "      <td>-0.037707</td>\n",
       "      <td>0.004513</td>\n",
       "      <td>-0.065755</td>\n",
       "      <td>0.076146</td>\n",
       "      <td>-0.044800</td>\n",
       "      <td>0.030002</td>\n",
       "      <td>0.052417</td>\n",
       "      <td>0.071129</td>\n",
       "      <td>0.107388</td>\n",
       "      <td>-0.102286</td>\n",
       "      <td>1.000000</td>\n",
       "    </tr>\n",
       "  </tbody>\n",
       "</table>\n",
       "</div>"
      ],
      "text/plain": [
       "                         Woman       Man    Unisex     Black  \\\n",
       "Woman                 1.000000 -0.999734 -0.004825 -0.029756   \n",
       "Man                  -0.999734  1.000000 -0.018260  0.029884   \n",
       "Unisex               -0.004825 -0.018260  1.000000 -0.005760   \n",
       "Black                -0.029756  0.029884 -0.005760  1.000000   \n",
       "East_Southeast_Asian -0.006642  0.006706 -0.002824 -0.184569   \n",
       "Indigenous            0.058326 -0.058289 -0.001182 -0.077232   \n",
       "Latino               -0.019673  0.019280  0.016899 -0.106736   \n",
       "Middle_Eastern       -0.044820  0.044864 -0.002236 -0.146112   \n",
       "South_Asian          -0.028593  0.028646 -0.002460 -0.160761   \n",
       "Unknown_or_Legacy    -0.008471  0.008534 -0.002821 -0.184391   \n",
       "White                 0.062594 -0.062704  0.005157 -0.498666   \n",
       "strip_search_rate     0.037608 -0.037707  0.004513 -0.065755   \n",
       "\n",
       "                      East_Southeast_Asian  Indigenous    Latino  \\\n",
       "Woman                            -0.006642    0.058326 -0.019673   \n",
       "Man                               0.006706   -0.058289  0.019280   \n",
       "Unisex                           -0.002824   -0.001182  0.016899   \n",
       "Black                            -0.184569   -0.077232 -0.106736   \n",
       "East_Southeast_Asian              1.000000   -0.037868 -0.052334   \n",
       "Indigenous                       -0.037868    1.000000 -0.021899   \n",
       "Latino                           -0.052334   -0.021899  1.000000   \n",
       "Middle_Eastern                   -0.071640   -0.029977 -0.041429   \n",
       "South_Asian                      -0.078822   -0.032983 -0.045583   \n",
       "Unknown_or_Legacy                -0.090408   -0.037831 -0.052283   \n",
       "White                            -0.244500   -0.102310 -0.141394   \n",
       "strip_search_rate                 0.076146   -0.044800  0.030002   \n",
       "\n",
       "                      Middle_Eastern  South_Asian  Unknown_or_Legacy  \\\n",
       "Woman                      -0.044820    -0.028593          -0.008471   \n",
       "Man                         0.044864     0.028646           0.008534   \n",
       "Unisex                     -0.002236    -0.002460          -0.002821   \n",
       "Black                      -0.146112    -0.160761          -0.184391   \n",
       "East_Southeast_Asian       -0.071640    -0.078822          -0.090408   \n",
       "Indigenous                 -0.029977    -0.032983          -0.037831   \n",
       "Latino                     -0.041429    -0.045583          -0.052283   \n",
       "Middle_Eastern              1.000000    -0.062399          -0.071571   \n",
       "South_Asian                -0.062399     1.000000          -0.078746   \n",
       "Unknown_or_Legacy          -0.071571    -0.078746           1.000000   \n",
       "White                      -0.193555    -0.212961          -0.244264   \n",
       "strip_search_rate           0.052417     0.071129           0.107388   \n",
       "\n",
       "                         White  strip_search_rate  \n",
       "Woman                 0.062594           0.037608  \n",
       "Man                  -0.062704          -0.037707  \n",
       "Unisex                0.005157           0.004513  \n",
       "Black                -0.498666          -0.065755  \n",
       "East_Southeast_Asian -0.244500           0.076146  \n",
       "Indigenous           -0.102310          -0.044800  \n",
       "Latino               -0.141394           0.030002  \n",
       "Middle_Eastern       -0.193555           0.052417  \n",
       "South_Asian          -0.212961           0.071129  \n",
       "Unknown_or_Legacy    -0.244264           0.107388  \n",
       "White                 1.000000          -0.102286  \n",
       "strip_search_rate    -0.102286           1.000000  "
      ]
     },
     "execution_count": 81,
     "metadata": {},
     "output_type": "execute_result"
    }
   ],
   "source": [
    "cor"
   ]
  },
  {
   "cell_type": "code",
   "execution_count": 82,
   "metadata": {},
   "outputs": [
    {
     "data": {
      "text/plain": [
       "array([[-0.51399025,  0.51412725, -0.00938798, ..., -0.26202069,\n",
       "        -0.3005344 , -0.81276403],\n",
       "       [ 1.9455622 , -1.94504374, -0.00938798, ..., -0.26202069,\n",
       "        -0.3005344 ,  1.23036941],\n",
       "       [-0.51399025,  0.51412725, -0.00938798, ..., -0.26202069,\n",
       "        -0.3005344 ,  1.23036941],\n",
       "       ...,\n",
       "       [-0.51399025,  0.51412725, -0.00938798, ..., -0.26202069,\n",
       "        -0.3005344 , -0.81276403],\n",
       "       [-0.51399025,  0.51412725, -0.00938798, ..., -0.26202069,\n",
       "        -0.3005344 , -0.81276403],\n",
       "       [-0.51399025,  0.51412725, -0.00938798, ..., -0.26202069,\n",
       "        -0.3005344 ,  1.23036941]])"
      ]
     },
     "execution_count": 82,
     "metadata": {},
     "output_type": "execute_result"
    }
   ],
   "source": [
    "feature_standardized=prep.StandardScaler().fit_transform(feature)\n",
    "feature_standardized"
   ]
  },
  {
   "cell_type": "code",
   "execution_count": 83,
   "metadata": {},
   "outputs": [
    {
     "data": {
      "text/html": [
       "<div>\n",
       "<style scoped>\n",
       "    .dataframe tbody tr th:only-of-type {\n",
       "        vertical-align: middle;\n",
       "    }\n",
       "\n",
       "    .dataframe tbody tr th {\n",
       "        vertical-align: top;\n",
       "    }\n",
       "\n",
       "    .dataframe thead th {\n",
       "        text-align: right;\n",
       "    }\n",
       "</style>\n",
       "<table border=\"1\" class=\"dataframe\">\n",
       "  <thead>\n",
       "    <tr style=\"text-align: right;\">\n",
       "      <th></th>\n",
       "      <th>strip_search_rate</th>\n",
       "      <th>Variable</th>\n",
       "    </tr>\n",
       "  </thead>\n",
       "  <tbody>\n",
       "    <tr>\n",
       "      <th>Woman</th>\n",
       "      <td>0.037608</td>\n",
       "      <td>Woman</td>\n",
       "    </tr>\n",
       "    <tr>\n",
       "      <th>Man</th>\n",
       "      <td>0.037707</td>\n",
       "      <td>Man</td>\n",
       "    </tr>\n",
       "    <tr>\n",
       "      <th>Unisex</th>\n",
       "      <td>0.004513</td>\n",
       "      <td>Unisex</td>\n",
       "    </tr>\n",
       "    <tr>\n",
       "      <th>Black</th>\n",
       "      <td>0.065755</td>\n",
       "      <td>Black</td>\n",
       "    </tr>\n",
       "    <tr>\n",
       "      <th>East_Southeast_Asian</th>\n",
       "      <td>0.076146</td>\n",
       "      <td>East_Southeast_Asian</td>\n",
       "    </tr>\n",
       "  </tbody>\n",
       "</table>\n",
       "</div>"
      ],
      "text/plain": [
       "                      strip_search_rate              Variable\n",
       "Woman                          0.037608                 Woman\n",
       "Man                            0.037707                   Man\n",
       "Unisex                         0.004513                Unisex\n",
       "Black                          0.065755                 Black\n",
       "East_Southeast_Asian           0.076146  East_Southeast_Asian"
      ]
     },
     "execution_count": 83,
     "metadata": {},
     "output_type": "execute_result"
    }
   ],
   "source": [
    "import seaborn as sns\n",
    "correlation_strip =cor.iloc[:,-1]\n",
    "correlation_strip=pd.DataFrame(correlation_strip)\n",
    "abs_correlation_strip=abs(correlation_strip.strip_search_rate)\n",
    "abs_correlation_strip=pd.DataFrame(abs_correlation_strip)\n",
    "abs_correlation_strip['Variable']=abs_correlation_strip.index\n",
    "abs_correlation_strip.head()"
   ]
  },
  {
   "cell_type": "code",
   "execution_count": 84,
   "metadata": {},
   "outputs": [
    {
     "data": {
      "text/plain": [
       "[Text(0, 0, 'Woman'),\n",
       " Text(0, 0, 'Man'),\n",
       " Text(0, 0, 'Unisex'),\n",
       " Text(0, 0, 'Black'),\n",
       " Text(0, 0, 'East_Southeast_Asian'),\n",
       " Text(0, 0, 'Indigenous'),\n",
       " Text(0, 0, 'Latino'),\n",
       " Text(0, 0, 'Middle_Eastern'),\n",
       " Text(0, 0, 'South_Asian'),\n",
       " Text(0, 0, 'Unknown_or_Legacy'),\n",
       " Text(0, 0, 'White'),\n",
       " Text(0, 0, 'strip_search_rate')]"
      ]
     },
     "execution_count": 84,
     "metadata": {},
     "output_type": "execute_result"
    },
    {
     "data": {
      "image/png": "[encoded data removed]",
      "text/plain": [
       "<Figure size 864x720 with 1 Axes>"
      ]
     },
     "metadata": {
      "needs_background": "light"
     },
     "output_type": "display_data"
    }
   ],
   "source": [
    "plt.figure(figsize=(12,10))\n",
    "ax=sns.barplot(x='Variable',y='strip_search_rate',data=abs_correlation_strip)\n",
    "ax.set_xticklabels(ax.get_xticklabels(),rotation=-90)"
   ]
  },
  {
   "cell_type": "markdown",
   "metadata": {},
   "source": [
    "# EDA2"
   ]
  },
  {
   "cell_type": "code",
   "execution_count": 85,
   "metadata": {},
   "outputs": [],
   "source": [
    "arrests=df1[['arrest_counts']]"
   ]
  },
  {
   "cell_type": "code",
   "execution_count": 86,
   "metadata": {},
   "outputs": [
    {
     "data": {
      "text/html": [
       "<div>\n",
       "<style scoped>\n",
       "    .dataframe tbody tr th:only-of-type {\n",
       "        vertical-align: middle;\n",
       "    }\n",
       "\n",
       "    .dataframe tbody tr th {\n",
       "        vertical-align: top;\n",
       "    }\n",
       "\n",
       "    .dataframe thead th {\n",
       "        text-align: right;\n",
       "    }\n",
       "</style>\n",
       "<table border=\"1\" class=\"dataframe\">\n",
       "  <thead>\n",
       "    <tr style=\"text-align: right;\">\n",
       "      <th></th>\n",
       "      <th>arrest_counts</th>\n",
       "    </tr>\n",
       "  </thead>\n",
       "  <tbody>\n",
       "    <tr>\n",
       "      <th>0</th>\n",
       "      <td>1</td>\n",
       "    </tr>\n",
       "    <tr>\n",
       "      <th>1</th>\n",
       "      <td>1</td>\n",
       "    </tr>\n",
       "    <tr>\n",
       "      <th>2</th>\n",
       "      <td>1</td>\n",
       "    </tr>\n",
       "    <tr>\n",
       "      <th>3</th>\n",
       "      <td>1</td>\n",
       "    </tr>\n",
       "    <tr>\n",
       "      <th>4</th>\n",
       "      <td>1</td>\n",
       "    </tr>\n",
       "    <tr>\n",
       "      <th>...</th>\n",
       "      <td>...</td>\n",
       "    </tr>\n",
       "    <tr>\n",
       "      <th>34037</th>\n",
       "      <td>5</td>\n",
       "    </tr>\n",
       "    <tr>\n",
       "      <th>34038</th>\n",
       "      <td>1</td>\n",
       "    </tr>\n",
       "    <tr>\n",
       "      <th>34039</th>\n",
       "      <td>1</td>\n",
       "    </tr>\n",
       "    <tr>\n",
       "      <th>34040</th>\n",
       "      <td>1</td>\n",
       "    </tr>\n",
       "    <tr>\n",
       "      <th>34041</th>\n",
       "      <td>1</td>\n",
       "    </tr>\n",
       "  </tbody>\n",
       "</table>\n",
       "<p>34042 rows × 1 columns</p>\n",
       "</div>"
      ],
      "text/plain": [
       "      arrest_counts\n",
       "0                 1\n",
       "1                 1\n",
       "2                 1\n",
       "3                 1\n",
       "4                 1\n",
       "...             ...\n",
       "34037             5\n",
       "34038             1\n",
       "34039             1\n",
       "34040             1\n",
       "34041             1\n",
       "\n",
       "[34042 rows x 1 columns]"
      ]
     },
     "execution_count": 86,
     "metadata": {},
     "output_type": "execute_result"
    }
   ],
   "source": [
    "arrests"
   ]
  },
  {
   "cell_type": "code",
   "execution_count": 87,
   "metadata": {},
   "outputs": [],
   "source": [
    "categorical_encoded_Q6=one_hot_enc.fit_transform(df1[['Age_group__at_arrest_']])\n",
    "age1=pd.DataFrame(categorical_encoded_Q6)\n",
    "age1.columns='Aged_25_to_34_years Aged_35_to_44_years Aged_18_to_24_years Aged_45_to_54_years Aged_55_to_64_years Aged_17_years_and_younger Aged_65_years_and_older'.split(\" \")"
   ]
  },
  {
   "cell_type": "code",
   "execution_count": 88,
   "metadata": {},
   "outputs": [],
   "source": [
    "df5=pd.concat([Gender,Race1,age1,arrests],axis=1)\n",
    "df5['arrest_counts'] = pd.to_numeric(df5['arrest_counts'], errors='coerce').astype('float64')"
   ]
  },
  {
   "cell_type": "code",
   "execution_count": 89,
   "metadata": {},
   "outputs": [
    {
     "data": {
      "text/html": [
       "<div>\n",
       "<style scoped>\n",
       "    .dataframe tbody tr th:only-of-type {\n",
       "        vertical-align: middle;\n",
       "    }\n",
       "\n",
       "    .dataframe tbody tr th {\n",
       "        vertical-align: top;\n",
       "    }\n",
       "\n",
       "    .dataframe thead th {\n",
       "        text-align: right;\n",
       "    }\n",
       "</style>\n",
       "<table border=\"1\" class=\"dataframe\">\n",
       "  <thead>\n",
       "    <tr style=\"text-align: right;\">\n",
       "      <th></th>\n",
       "      <th>Woman</th>\n",
       "      <th>Man</th>\n",
       "      <th>Unisex</th>\n",
       "      <th>Black</th>\n",
       "      <th>East_Southeast_Asian</th>\n",
       "      <th>Indigenous</th>\n",
       "      <th>Latino</th>\n",
       "      <th>Middle_Eastern</th>\n",
       "      <th>South_Asian</th>\n",
       "      <th>Unknown_or_Legacy</th>\n",
       "      <th>White</th>\n",
       "      <th>Aged_25_to_34_years</th>\n",
       "      <th>Aged_35_to_44_years</th>\n",
       "      <th>Aged_18_to_24_years</th>\n",
       "      <th>Aged_45_to_54_years</th>\n",
       "      <th>Aged_55_to_64_years</th>\n",
       "      <th>Aged_17_years_and_younger</th>\n",
       "      <th>Aged_65_years_and_older</th>\n",
       "      <th>arrest_counts</th>\n",
       "    </tr>\n",
       "  </thead>\n",
       "  <tbody>\n",
       "    <tr>\n",
       "      <th>0</th>\n",
       "      <td>0.0</td>\n",
       "      <td>1.0</td>\n",
       "      <td>0.0</td>\n",
       "      <td>0.0</td>\n",
       "      <td>1.0</td>\n",
       "      <td>0.0</td>\n",
       "      <td>0.0</td>\n",
       "      <td>0.0</td>\n",
       "      <td>0.0</td>\n",
       "      <td>0.0</td>\n",
       "      <td>0.0</td>\n",
       "      <td>0.0</td>\n",
       "      <td>0.0</td>\n",
       "      <td>0.0</td>\n",
       "      <td>1.0</td>\n",
       "      <td>0.0</td>\n",
       "      <td>0.0</td>\n",
       "      <td>0.0</td>\n",
       "      <td>1.0</td>\n",
       "    </tr>\n",
       "    <tr>\n",
       "      <th>1</th>\n",
       "      <td>1.0</td>\n",
       "      <td>0.0</td>\n",
       "      <td>0.0</td>\n",
       "      <td>0.0</td>\n",
       "      <td>0.0</td>\n",
       "      <td>0.0</td>\n",
       "      <td>0.0</td>\n",
       "      <td>0.0</td>\n",
       "      <td>0.0</td>\n",
       "      <td>0.0</td>\n",
       "      <td>1.0</td>\n",
       "      <td>1.0</td>\n",
       "      <td>0.0</td>\n",
       "      <td>0.0</td>\n",
       "      <td>0.0</td>\n",
       "      <td>0.0</td>\n",
       "      <td>0.0</td>\n",
       "      <td>0.0</td>\n",
       "      <td>1.0</td>\n",
       "    </tr>\n",
       "    <tr>\n",
       "      <th>2</th>\n",
       "      <td>0.0</td>\n",
       "      <td>1.0</td>\n",
       "      <td>0.0</td>\n",
       "      <td>0.0</td>\n",
       "      <td>0.0</td>\n",
       "      <td>0.0</td>\n",
       "      <td>0.0</td>\n",
       "      <td>0.0</td>\n",
       "      <td>0.0</td>\n",
       "      <td>0.0</td>\n",
       "      <td>1.0</td>\n",
       "      <td>0.0</td>\n",
       "      <td>0.0</td>\n",
       "      <td>0.0</td>\n",
       "      <td>1.0</td>\n",
       "      <td>0.0</td>\n",
       "      <td>0.0</td>\n",
       "      <td>0.0</td>\n",
       "      <td>1.0</td>\n",
       "    </tr>\n",
       "    <tr>\n",
       "      <th>3</th>\n",
       "      <td>0.0</td>\n",
       "      <td>1.0</td>\n",
       "      <td>0.0</td>\n",
       "      <td>1.0</td>\n",
       "      <td>0.0</td>\n",
       "      <td>0.0</td>\n",
       "      <td>0.0</td>\n",
       "      <td>0.0</td>\n",
       "      <td>0.0</td>\n",
       "      <td>0.0</td>\n",
       "      <td>0.0</td>\n",
       "      <td>0.0</td>\n",
       "      <td>0.0</td>\n",
       "      <td>1.0</td>\n",
       "      <td>0.0</td>\n",
       "      <td>0.0</td>\n",
       "      <td>0.0</td>\n",
       "      <td>0.0</td>\n",
       "      <td>1.0</td>\n",
       "    </tr>\n",
       "    <tr>\n",
       "      <th>4</th>\n",
       "      <td>0.0</td>\n",
       "      <td>1.0</td>\n",
       "      <td>0.0</td>\n",
       "      <td>0.0</td>\n",
       "      <td>0.0</td>\n",
       "      <td>0.0</td>\n",
       "      <td>0.0</td>\n",
       "      <td>0.0</td>\n",
       "      <td>1.0</td>\n",
       "      <td>0.0</td>\n",
       "      <td>0.0</td>\n",
       "      <td>0.0</td>\n",
       "      <td>0.0</td>\n",
       "      <td>0.0</td>\n",
       "      <td>0.0</td>\n",
       "      <td>1.0</td>\n",
       "      <td>0.0</td>\n",
       "      <td>0.0</td>\n",
       "      <td>1.0</td>\n",
       "    </tr>\n",
       "    <tr>\n",
       "      <th>...</th>\n",
       "      <td>...</td>\n",
       "      <td>...</td>\n",
       "      <td>...</td>\n",
       "      <td>...</td>\n",
       "      <td>...</td>\n",
       "      <td>...</td>\n",
       "      <td>...</td>\n",
       "      <td>...</td>\n",
       "      <td>...</td>\n",
       "      <td>...</td>\n",
       "      <td>...</td>\n",
       "      <td>...</td>\n",
       "      <td>...</td>\n",
       "      <td>...</td>\n",
       "      <td>...</td>\n",
       "      <td>...</td>\n",
       "      <td>...</td>\n",
       "      <td>...</td>\n",
       "      <td>...</td>\n",
       "    </tr>\n",
       "    <tr>\n",
       "      <th>34037</th>\n",
       "      <td>0.0</td>\n",
       "      <td>1.0</td>\n",
       "      <td>0.0</td>\n",
       "      <td>0.0</td>\n",
       "      <td>0.0</td>\n",
       "      <td>0.0</td>\n",
       "      <td>0.0</td>\n",
       "      <td>0.0</td>\n",
       "      <td>0.0</td>\n",
       "      <td>0.0</td>\n",
       "      <td>1.0</td>\n",
       "      <td>1.0</td>\n",
       "      <td>0.0</td>\n",
       "      <td>0.0</td>\n",
       "      <td>0.0</td>\n",
       "      <td>0.0</td>\n",
       "      <td>0.0</td>\n",
       "      <td>0.0</td>\n",
       "      <td>5.0</td>\n",
       "    </tr>\n",
       "    <tr>\n",
       "      <th>34038</th>\n",
       "      <td>0.0</td>\n",
       "      <td>1.0</td>\n",
       "      <td>0.0</td>\n",
       "      <td>0.0</td>\n",
       "      <td>0.0</td>\n",
       "      <td>0.0</td>\n",
       "      <td>0.0</td>\n",
       "      <td>0.0</td>\n",
       "      <td>0.0</td>\n",
       "      <td>0.0</td>\n",
       "      <td>1.0</td>\n",
       "      <td>0.0</td>\n",
       "      <td>0.0</td>\n",
       "      <td>0.0</td>\n",
       "      <td>1.0</td>\n",
       "      <td>0.0</td>\n",
       "      <td>0.0</td>\n",
       "      <td>0.0</td>\n",
       "      <td>1.0</td>\n",
       "    </tr>\n",
       "    <tr>\n",
       "      <th>34039</th>\n",
       "      <td>0.0</td>\n",
       "      <td>1.0</td>\n",
       "      <td>0.0</td>\n",
       "      <td>1.0</td>\n",
       "      <td>0.0</td>\n",
       "      <td>0.0</td>\n",
       "      <td>0.0</td>\n",
       "      <td>0.0</td>\n",
       "      <td>0.0</td>\n",
       "      <td>0.0</td>\n",
       "      <td>0.0</td>\n",
       "      <td>0.0</td>\n",
       "      <td>1.0</td>\n",
       "      <td>0.0</td>\n",
       "      <td>0.0</td>\n",
       "      <td>0.0</td>\n",
       "      <td>0.0</td>\n",
       "      <td>0.0</td>\n",
       "      <td>1.0</td>\n",
       "    </tr>\n",
       "    <tr>\n",
       "      <th>34040</th>\n",
       "      <td>0.0</td>\n",
       "      <td>1.0</td>\n",
       "      <td>0.0</td>\n",
       "      <td>1.0</td>\n",
       "      <td>0.0</td>\n",
       "      <td>0.0</td>\n",
       "      <td>0.0</td>\n",
       "      <td>0.0</td>\n",
       "      <td>0.0</td>\n",
       "      <td>0.0</td>\n",
       "      <td>0.0</td>\n",
       "      <td>0.0</td>\n",
       "      <td>0.0</td>\n",
       "      <td>0.0</td>\n",
       "      <td>0.0</td>\n",
       "      <td>0.0</td>\n",
       "      <td>0.0</td>\n",
       "      <td>1.0</td>\n",
       "      <td>1.0</td>\n",
       "    </tr>\n",
       "    <tr>\n",
       "      <th>34041</th>\n",
       "      <td>0.0</td>\n",
       "      <td>1.0</td>\n",
       "      <td>0.0</td>\n",
       "      <td>0.0</td>\n",
       "      <td>0.0</td>\n",
       "      <td>0.0</td>\n",
       "      <td>0.0</td>\n",
       "      <td>0.0</td>\n",
       "      <td>0.0</td>\n",
       "      <td>0.0</td>\n",
       "      <td>1.0</td>\n",
       "      <td>0.0</td>\n",
       "      <td>1.0</td>\n",
       "      <td>0.0</td>\n",
       "      <td>0.0</td>\n",
       "      <td>0.0</td>\n",
       "      <td>0.0</td>\n",
       "      <td>0.0</td>\n",
       "      <td>1.0</td>\n",
       "    </tr>\n",
       "  </tbody>\n",
       "</table>\n",
       "<p>34042 rows × 19 columns</p>\n",
       "</div>"
      ],
      "text/plain": [
       "       Woman  Man  Unisex  Black  East_Southeast_Asian  Indigenous  Latino  \\\n",
       "0        0.0  1.0     0.0    0.0                   1.0         0.0     0.0   \n",
       "1        1.0  0.0     0.0    0.0                   0.0         0.0     0.0   \n",
       "2        0.0  1.0     0.0    0.0                   0.0         0.0     0.0   \n",
       "3        0.0  1.0     0.0    1.0                   0.0         0.0     0.0   \n",
       "4        0.0  1.0     0.0    0.0                   0.0         0.0     0.0   \n",
       "...      ...  ...     ...    ...                   ...         ...     ...   \n",
       "34037    0.0  1.0     0.0    0.0                   0.0         0.0     0.0   \n",
       "34038    0.0  1.0     0.0    0.0                   0.0         0.0     0.0   \n",
       "34039    0.0  1.0     0.0    1.0                   0.0         0.0     0.0   \n",
       "34040    0.0  1.0     0.0    1.0                   0.0         0.0     0.0   \n",
       "34041    0.0  1.0     0.0    0.0                   0.0         0.0     0.0   \n",
       "\n",
       "       Middle_Eastern  South_Asian  Unknown_or_Legacy  White  \\\n",
       "0                 0.0          0.0                0.0    0.0   \n",
       "1                 0.0          0.0                0.0    1.0   \n",
       "2                 0.0          0.0                0.0    1.0   \n",
       "3                 0.0          0.0                0.0    0.0   \n",
       "4                 0.0          1.0                0.0    0.0   \n",
       "...               ...          ...                ...    ...   \n",
       "34037             0.0          0.0                0.0    1.0   \n",
       "34038             0.0          0.0                0.0    1.0   \n",
       "34039             0.0          0.0                0.0    0.0   \n",
       "34040             0.0          0.0                0.0    0.0   \n",
       "34041             0.0          0.0                0.0    1.0   \n",
       "\n",
       "       Aged_25_to_34_years  Aged_35_to_44_years  Aged_18_to_24_years  \\\n",
       "0                      0.0                  0.0                  0.0   \n",
       "1                      1.0                  0.0                  0.0   \n",
       "2                      0.0                  0.0                  0.0   \n",
       "3                      0.0                  0.0                  1.0   \n",
       "4                      0.0                  0.0                  0.0   \n",
       "...                    ...                  ...                  ...   \n",
       "34037                  1.0                  0.0                  0.0   \n",
       "34038                  0.0                  0.0                  0.0   \n",
       "34039                  0.0                  1.0                  0.0   \n",
       "34040                  0.0                  0.0                  0.0   \n",
       "34041                  0.0                  1.0                  0.0   \n",
       "\n",
       "       Aged_45_to_54_years  Aged_55_to_64_years  Aged_17_years_and_younger  \\\n",
       "0                      1.0                  0.0                        0.0   \n",
       "1                      0.0                  0.0                        0.0   \n",
       "2                      1.0                  0.0                        0.0   \n",
       "3                      0.0                  0.0                        0.0   \n",
       "4                      0.0                  1.0                        0.0   \n",
       "...                    ...                  ...                        ...   \n",
       "34037                  0.0                  0.0                        0.0   \n",
       "34038                  1.0                  0.0                        0.0   \n",
       "34039                  0.0                  0.0                        0.0   \n",
       "34040                  0.0                  0.0                        0.0   \n",
       "34041                  0.0                  0.0                        0.0   \n",
       "\n",
       "       Aged_65_years_and_older  arrest_counts  \n",
       "0                          0.0            1.0  \n",
       "1                          0.0            1.0  \n",
       "2                          0.0            1.0  \n",
       "3                          0.0            1.0  \n",
       "4                          0.0            1.0  \n",
       "...                        ...            ...  \n",
       "34037                      0.0            5.0  \n",
       "34038                      0.0            1.0  \n",
       "34039                      0.0            1.0  \n",
       "34040                      1.0            1.0  \n",
       "34041                      0.0            1.0  \n",
       "\n",
       "[34042 rows x 19 columns]"
      ]
     },
     "execution_count": 89,
     "metadata": {},
     "output_type": "execute_result"
    }
   ],
   "source": [
    "df5"
   ]
  },
  {
   "cell_type": "code",
   "execution_count": 90,
   "metadata": {},
   "outputs": [
    {
     "data": {
      "image/png": "[encoded data removed]",
      "text/plain": [
       "<Figure size 432x360 with 2 Axes>"
      ]
     },
     "metadata": {
      "needs_background": "light"
     },
     "output_type": "display_data"
    }
   ],
   "source": [
    "feature2=df5.iloc[:,:-1]\n",
    "import seaborn as sns\n",
    "plt.figure(figsize=(6,5))\n",
    "cor1=df5.corr()\n",
    "ax=sns.heatmap(cor1,xticklabels=1,yticklabels=False)"
   ]
  },
  {
   "cell_type": "code",
   "execution_count": 91,
   "metadata": {},
   "outputs": [
    {
     "data": {
      "text/html": [
       "<div>\n",
       "<style scoped>\n",
       "    .dataframe tbody tr th:only-of-type {\n",
       "        vertical-align: middle;\n",
       "    }\n",
       "\n",
       "    .dataframe tbody tr th {\n",
       "        vertical-align: top;\n",
       "    }\n",
       "\n",
       "    .dataframe thead th {\n",
       "        text-align: right;\n",
       "    }\n",
       "</style>\n",
       "<table border=\"1\" class=\"dataframe\">\n",
       "  <thead>\n",
       "    <tr style=\"text-align: right;\">\n",
       "      <th></th>\n",
       "      <th>Woman</th>\n",
       "      <th>Man</th>\n",
       "      <th>Unisex</th>\n",
       "      <th>Black</th>\n",
       "      <th>East_Southeast_Asian</th>\n",
       "      <th>Indigenous</th>\n",
       "      <th>Latino</th>\n",
       "      <th>Middle_Eastern</th>\n",
       "      <th>South_Asian</th>\n",
       "      <th>Unknown_or_Legacy</th>\n",
       "      <th>White</th>\n",
       "      <th>Aged_25_to_34_years</th>\n",
       "      <th>Aged_35_to_44_years</th>\n",
       "      <th>Aged_18_to_24_years</th>\n",
       "      <th>Aged_45_to_54_years</th>\n",
       "      <th>Aged_55_to_64_years</th>\n",
       "      <th>Aged_17_years_and_younger</th>\n",
       "      <th>Aged_65_years_and_older</th>\n",
       "      <th>arrest_counts</th>\n",
       "    </tr>\n",
       "  </thead>\n",
       "  <tbody>\n",
       "    <tr>\n",
       "      <th>Woman</th>\n",
       "      <td>1.000000</td>\n",
       "      <td>-0.999734</td>\n",
       "      <td>-0.004825</td>\n",
       "      <td>-0.029756</td>\n",
       "      <td>-0.006642</td>\n",
       "      <td>0.058326</td>\n",
       "      <td>-0.019673</td>\n",
       "      <td>-0.044820</td>\n",
       "      <td>-0.028593</td>\n",
       "      <td>-0.008471</td>\n",
       "      <td>0.062594</td>\n",
       "      <td>0.034857</td>\n",
       "      <td>0.021853</td>\n",
       "      <td>0.008180</td>\n",
       "      <td>-0.011645</td>\n",
       "      <td>-0.015579</td>\n",
       "      <td>-0.024874</td>\n",
       "      <td>-0.016696</td>\n",
       "      <td>-0.027210</td>\n",
       "    </tr>\n",
       "    <tr>\n",
       "      <th>Man</th>\n",
       "      <td>-0.999734</td>\n",
       "      <td>1.000000</td>\n",
       "      <td>-0.018260</td>\n",
       "      <td>0.029884</td>\n",
       "      <td>0.006706</td>\n",
       "      <td>-0.058289</td>\n",
       "      <td>0.019280</td>\n",
       "      <td>0.044864</td>\n",
       "      <td>0.028646</td>\n",
       "      <td>0.008534</td>\n",
       "      <td>-0.062704</td>\n",
       "      <td>-0.034799</td>\n",
       "      <td>-0.021944</td>\n",
       "      <td>-0.008193</td>\n",
       "      <td>0.011758</td>\n",
       "      <td>0.015664</td>\n",
       "      <td>0.024671</td>\n",
       "      <td>0.016731</td>\n",
       "      <td>0.027278</td>\n",
       "    </tr>\n",
       "    <tr>\n",
       "      <th>Unisex</th>\n",
       "      <td>-0.004825</td>\n",
       "      <td>-0.018260</td>\n",
       "      <td>1.000000</td>\n",
       "      <td>-0.005760</td>\n",
       "      <td>-0.002824</td>\n",
       "      <td>-0.001182</td>\n",
       "      <td>0.016899</td>\n",
       "      <td>-0.002236</td>\n",
       "      <td>-0.002460</td>\n",
       "      <td>-0.002821</td>\n",
       "      <td>0.005157</td>\n",
       "      <td>-0.002261</td>\n",
       "      <td>0.004068</td>\n",
       "      <td>0.000645</td>\n",
       "      <td>-0.004996</td>\n",
       "      <td>-0.003794</td>\n",
       "      <td>0.008599</td>\n",
       "      <td>-0.001647</td>\n",
       "      <td>-0.003121</td>\n",
       "    </tr>\n",
       "    <tr>\n",
       "      <th>Black</th>\n",
       "      <td>-0.029756</td>\n",
       "      <td>0.029884</td>\n",
       "      <td>-0.005760</td>\n",
       "      <td>1.000000</td>\n",
       "      <td>-0.184569</td>\n",
       "      <td>-0.077232</td>\n",
       "      <td>-0.106736</td>\n",
       "      <td>-0.146112</td>\n",
       "      <td>-0.160761</td>\n",
       "      <td>-0.184391</td>\n",
       "      <td>-0.498666</td>\n",
       "      <td>0.061770</td>\n",
       "      <td>0.099821</td>\n",
       "      <td>0.052143</td>\n",
       "      <td>-0.032963</td>\n",
       "      <td>-0.079909</td>\n",
       "      <td>-0.087321</td>\n",
       "      <td>-0.059589</td>\n",
       "      <td>0.042775</td>\n",
       "    </tr>\n",
       "    <tr>\n",
       "      <th>East_Southeast_Asian</th>\n",
       "      <td>-0.006642</td>\n",
       "      <td>0.006706</td>\n",
       "      <td>-0.002824</td>\n",
       "      <td>-0.184569</td>\n",
       "      <td>1.000000</td>\n",
       "      <td>-0.037868</td>\n",
       "      <td>-0.052334</td>\n",
       "      <td>-0.071640</td>\n",
       "      <td>-0.078822</td>\n",
       "      <td>-0.090408</td>\n",
       "      <td>-0.244500</td>\n",
       "      <td>-0.015404</td>\n",
       "      <td>0.018862</td>\n",
       "      <td>-0.018000</td>\n",
       "      <td>-0.002668</td>\n",
       "      <td>-0.004804</td>\n",
       "      <td>0.010208</td>\n",
       "      <td>0.027339</td>\n",
       "      <td>-0.065553</td>\n",
       "    </tr>\n",
       "    <tr>\n",
       "      <th>Indigenous</th>\n",
       "      <td>0.058326</td>\n",
       "      <td>-0.058289</td>\n",
       "      <td>-0.001182</td>\n",
       "      <td>-0.077232</td>\n",
       "      <td>-0.037868</td>\n",
       "      <td>1.000000</td>\n",
       "      <td>-0.021899</td>\n",
       "      <td>-0.029977</td>\n",
       "      <td>-0.032983</td>\n",
       "      <td>-0.037831</td>\n",
       "      <td>-0.102310</td>\n",
       "      <td>-0.015746</td>\n",
       "      <td>-0.012286</td>\n",
       "      <td>0.012778</td>\n",
       "      <td>0.003901</td>\n",
       "      <td>0.017359</td>\n",
       "      <td>-0.010843</td>\n",
       "      <td>-0.013720</td>\n",
       "      <td>0.031504</td>\n",
       "    </tr>\n",
       "    <tr>\n",
       "      <th>Latino</th>\n",
       "      <td>-0.019673</td>\n",
       "      <td>0.019280</td>\n",
       "      <td>0.016899</td>\n",
       "      <td>-0.106736</td>\n",
       "      <td>-0.052334</td>\n",
       "      <td>-0.021899</td>\n",
       "      <td>1.000000</td>\n",
       "      <td>-0.041429</td>\n",
       "      <td>-0.045583</td>\n",
       "      <td>-0.052283</td>\n",
       "      <td>-0.141394</td>\n",
       "      <td>-0.012106</td>\n",
       "      <td>0.002125</td>\n",
       "      <td>0.022434</td>\n",
       "      <td>0.009368</td>\n",
       "      <td>-0.017233</td>\n",
       "      <td>-0.016495</td>\n",
       "      <td>-0.010066</td>\n",
       "      <td>-0.032205</td>\n",
       "    </tr>\n",
       "    <tr>\n",
       "      <th>Middle_Eastern</th>\n",
       "      <td>-0.044820</td>\n",
       "      <td>0.044864</td>\n",
       "      <td>-0.002236</td>\n",
       "      <td>-0.146112</td>\n",
       "      <td>-0.071640</td>\n",
       "      <td>-0.029977</td>\n",
       "      <td>-0.041429</td>\n",
       "      <td>1.000000</td>\n",
       "      <td>-0.062399</td>\n",
       "      <td>-0.071571</td>\n",
       "      <td>-0.193555</td>\n",
       "      <td>0.008473</td>\n",
       "      <td>0.032472</td>\n",
       "      <td>-0.003236</td>\n",
       "      <td>-0.011052</td>\n",
       "      <td>-0.003954</td>\n",
       "      <td>-0.016077</td>\n",
       "      <td>-0.013427</td>\n",
       "      <td>-0.048573</td>\n",
       "    </tr>\n",
       "    <tr>\n",
       "      <th>South_Asian</th>\n",
       "      <td>-0.028593</td>\n",
       "      <td>0.028646</td>\n",
       "      <td>-0.002460</td>\n",
       "      <td>-0.160761</td>\n",
       "      <td>-0.078822</td>\n",
       "      <td>-0.032983</td>\n",
       "      <td>-0.045583</td>\n",
       "      <td>-0.062399</td>\n",
       "      <td>1.000000</td>\n",
       "      <td>-0.078746</td>\n",
       "      <td>-0.212961</td>\n",
       "      <td>-0.022598</td>\n",
       "      <td>0.020177</td>\n",
       "      <td>0.004425</td>\n",
       "      <td>-0.007686</td>\n",
       "      <td>0.002039</td>\n",
       "      <td>-0.010204</td>\n",
       "      <td>0.004737</td>\n",
       "      <td>-0.061939</td>\n",
       "    </tr>\n",
       "    <tr>\n",
       "      <th>Unknown_or_Legacy</th>\n",
       "      <td>-0.008471</td>\n",
       "      <td>0.008534</td>\n",
       "      <td>-0.002821</td>\n",
       "      <td>-0.184391</td>\n",
       "      <td>-0.090408</td>\n",
       "      <td>-0.037831</td>\n",
       "      <td>-0.052283</td>\n",
       "      <td>-0.071571</td>\n",
       "      <td>-0.078746</td>\n",
       "      <td>1.000000</td>\n",
       "      <td>-0.244264</td>\n",
       "      <td>-0.012011</td>\n",
       "      <td>0.003813</td>\n",
       "      <td>0.006248</td>\n",
       "      <td>-0.002129</td>\n",
       "      <td>-0.005512</td>\n",
       "      <td>0.003384</td>\n",
       "      <td>0.001776</td>\n",
       "      <td>-0.083156</td>\n",
       "    </tr>\n",
       "    <tr>\n",
       "      <th>White</th>\n",
       "      <td>0.062594</td>\n",
       "      <td>-0.062704</td>\n",
       "      <td>0.005157</td>\n",
       "      <td>-0.498666</td>\n",
       "      <td>-0.244500</td>\n",
       "      <td>-0.102310</td>\n",
       "      <td>-0.141394</td>\n",
       "      <td>-0.193555</td>\n",
       "      <td>-0.212961</td>\n",
       "      <td>-0.244264</td>\n",
       "      <td>1.000000</td>\n",
       "      <td>-0.025227</td>\n",
       "      <td>-0.126369</td>\n",
       "      <td>-0.052563</td>\n",
       "      <td>0.037442</td>\n",
       "      <td>0.080936</td>\n",
       "      <td>0.092816</td>\n",
       "      <td>0.048615</td>\n",
       "      <td>0.101350</td>\n",
       "    </tr>\n",
       "    <tr>\n",
       "      <th>Aged_25_to_34_years</th>\n",
       "      <td>0.034857</td>\n",
       "      <td>-0.034799</td>\n",
       "      <td>-0.002261</td>\n",
       "      <td>0.061770</td>\n",
       "      <td>-0.015404</td>\n",
       "      <td>-0.015746</td>\n",
       "      <td>-0.012106</td>\n",
       "      <td>0.008473</td>\n",
       "      <td>-0.022598</td>\n",
       "      <td>-0.012011</td>\n",
       "      <td>-0.025227</td>\n",
       "      <td>1.000000</td>\n",
       "      <td>-0.109175</td>\n",
       "      <td>-0.158375</td>\n",
       "      <td>-0.128181</td>\n",
       "      <td>-0.097359</td>\n",
       "      <td>-0.072002</td>\n",
       "      <td>-0.042250</td>\n",
       "      <td>-0.025060</td>\n",
       "    </tr>\n",
       "    <tr>\n",
       "      <th>Aged_35_to_44_years</th>\n",
       "      <td>0.021853</td>\n",
       "      <td>-0.021944</td>\n",
       "      <td>0.004068</td>\n",
       "      <td>0.099821</td>\n",
       "      <td>0.018862</td>\n",
       "      <td>-0.012286</td>\n",
       "      <td>0.002125</td>\n",
       "      <td>0.032472</td>\n",
       "      <td>0.020177</td>\n",
       "      <td>0.003813</td>\n",
       "      <td>-0.126369</td>\n",
       "      <td>-0.109175</td>\n",
       "      <td>1.000000</td>\n",
       "      <td>-0.297978</td>\n",
       "      <td>-0.241168</td>\n",
       "      <td>-0.183178</td>\n",
       "      <td>-0.135470</td>\n",
       "      <td>-0.079493</td>\n",
       "      <td>-0.045102</td>\n",
       "    </tr>\n",
       "    <tr>\n",
       "      <th>Aged_18_to_24_years</th>\n",
       "      <td>0.008180</td>\n",
       "      <td>-0.008193</td>\n",
       "      <td>0.000645</td>\n",
       "      <td>0.052143</td>\n",
       "      <td>-0.018000</td>\n",
       "      <td>0.012778</td>\n",
       "      <td>0.022434</td>\n",
       "      <td>-0.003236</td>\n",
       "      <td>0.004425</td>\n",
       "      <td>0.006248</td>\n",
       "      <td>-0.052563</td>\n",
       "      <td>-0.158375</td>\n",
       "      <td>-0.297978</td>\n",
       "      <td>1.000000</td>\n",
       "      <td>-0.349851</td>\n",
       "      <td>-0.265727</td>\n",
       "      <td>-0.196520</td>\n",
       "      <td>-0.115317</td>\n",
       "      <td>0.031628</td>\n",
       "    </tr>\n",
       "    <tr>\n",
       "      <th>Aged_45_to_54_years</th>\n",
       "      <td>-0.011645</td>\n",
       "      <td>0.011758</td>\n",
       "      <td>-0.004996</td>\n",
       "      <td>-0.032963</td>\n",
       "      <td>-0.002668</td>\n",
       "      <td>0.003901</td>\n",
       "      <td>0.009368</td>\n",
       "      <td>-0.011052</td>\n",
       "      <td>-0.007686</td>\n",
       "      <td>-0.002129</td>\n",
       "      <td>0.037442</td>\n",
       "      <td>-0.128181</td>\n",
       "      <td>-0.241168</td>\n",
       "      <td>-0.349851</td>\n",
       "      <td>1.000000</td>\n",
       "      <td>-0.215066</td>\n",
       "      <td>-0.159053</td>\n",
       "      <td>-0.093331</td>\n",
       "      <td>0.043833</td>\n",
       "    </tr>\n",
       "    <tr>\n",
       "      <th>Aged_55_to_64_years</th>\n",
       "      <td>-0.015579</td>\n",
       "      <td>0.015664</td>\n",
       "      <td>-0.003794</td>\n",
       "      <td>-0.079909</td>\n",
       "      <td>-0.004804</td>\n",
       "      <td>0.017359</td>\n",
       "      <td>-0.017233</td>\n",
       "      <td>-0.003954</td>\n",
       "      <td>0.002039</td>\n",
       "      <td>-0.005512</td>\n",
       "      <td>0.080936</td>\n",
       "      <td>-0.097359</td>\n",
       "      <td>-0.183178</td>\n",
       "      <td>-0.265727</td>\n",
       "      <td>-0.215066</td>\n",
       "      <td>1.000000</td>\n",
       "      <td>-0.120808</td>\n",
       "      <td>-0.070889</td>\n",
       "      <td>0.003784</td>\n",
       "    </tr>\n",
       "    <tr>\n",
       "      <th>Aged_17_years_and_younger</th>\n",
       "      <td>-0.024874</td>\n",
       "      <td>0.024671</td>\n",
       "      <td>0.008599</td>\n",
       "      <td>-0.087321</td>\n",
       "      <td>0.010208</td>\n",
       "      <td>-0.010843</td>\n",
       "      <td>-0.016495</td>\n",
       "      <td>-0.016077</td>\n",
       "      <td>-0.010204</td>\n",
       "      <td>0.003384</td>\n",
       "      <td>0.092816</td>\n",
       "      <td>-0.072002</td>\n",
       "      <td>-0.135470</td>\n",
       "      <td>-0.196520</td>\n",
       "      <td>-0.159053</td>\n",
       "      <td>-0.120808</td>\n",
       "      <td>1.000000</td>\n",
       "      <td>-0.052427</td>\n",
       "      <td>-0.019230</td>\n",
       "    </tr>\n",
       "    <tr>\n",
       "      <th>Aged_65_years_and_older</th>\n",
       "      <td>-0.016696</td>\n",
       "      <td>0.016731</td>\n",
       "      <td>-0.001647</td>\n",
       "      <td>-0.059589</td>\n",
       "      <td>0.027339</td>\n",
       "      <td>-0.013720</td>\n",
       "      <td>-0.010066</td>\n",
       "      <td>-0.013427</td>\n",
       "      <td>0.004737</td>\n",
       "      <td>0.001776</td>\n",
       "      <td>0.048615</td>\n",
       "      <td>-0.042250</td>\n",
       "      <td>-0.079493</td>\n",
       "      <td>-0.115317</td>\n",
       "      <td>-0.093331</td>\n",
       "      <td>-0.070889</td>\n",
       "      <td>-0.052427</td>\n",
       "      <td>1.000000</td>\n",
       "      <td>-0.035675</td>\n",
       "    </tr>\n",
       "    <tr>\n",
       "      <th>arrest_counts</th>\n",
       "      <td>-0.027210</td>\n",
       "      <td>0.027278</td>\n",
       "      <td>-0.003121</td>\n",
       "      <td>0.042775</td>\n",
       "      <td>-0.065553</td>\n",
       "      <td>0.031504</td>\n",
       "      <td>-0.032205</td>\n",
       "      <td>-0.048573</td>\n",
       "      <td>-0.061939</td>\n",
       "      <td>-0.083156</td>\n",
       "      <td>0.101350</td>\n",
       "      <td>-0.025060</td>\n",
       "      <td>-0.045102</td>\n",
       "      <td>0.031628</td>\n",
       "      <td>0.043833</td>\n",
       "      <td>0.003784</td>\n",
       "      <td>-0.019230</td>\n",
       "      <td>-0.035675</td>\n",
       "      <td>1.000000</td>\n",
       "    </tr>\n",
       "  </tbody>\n",
       "</table>\n",
       "</div>"
      ],
      "text/plain": [
       "                              Woman       Man    Unisex     Black  \\\n",
       "Woman                      1.000000 -0.999734 -0.004825 -0.029756   \n",
       "Man                       -0.999734  1.000000 -0.018260  0.029884   \n",
       "Unisex                    -0.004825 -0.018260  1.000000 -0.005760   \n",
       "Black                     -0.029756  0.029884 -0.005760  1.000000   \n",
       "East_Southeast_Asian      -0.006642  0.006706 -0.002824 -0.184569   \n",
       "Indigenous                 0.058326 -0.058289 -0.001182 -0.077232   \n",
       "Latino                    -0.019673  0.019280  0.016899 -0.106736   \n",
       "Middle_Eastern            -0.044820  0.044864 -0.002236 -0.146112   \n",
       "South_Asian               -0.028593  0.028646 -0.002460 -0.160761   \n",
       "Unknown_or_Legacy         -0.008471  0.008534 -0.002821 -0.184391   \n",
       "White                      0.062594 -0.062704  0.005157 -0.498666   \n",
       "Aged_25_to_34_years        0.034857 -0.034799 -0.002261  0.061770   \n",
       "Aged_35_to_44_years        0.021853 -0.021944  0.004068  0.099821   \n",
       "Aged_18_to_24_years        0.008180 -0.008193  0.000645  0.052143   \n",
       "Aged_45_to_54_years       -0.011645  0.011758 -0.004996 -0.032963   \n",
       "Aged_55_to_64_years       -0.015579  0.015664 -0.003794 -0.079909   \n",
       "Aged_17_years_and_younger -0.024874  0.024671  0.008599 -0.087321   \n",
       "Aged_65_years_and_older   -0.016696  0.016731 -0.001647 -0.059589   \n",
       "arrest_counts             -0.027210  0.027278 -0.003121  0.042775   \n",
       "\n",
       "                           East_Southeast_Asian  Indigenous    Latino  \\\n",
       "Woman                                 -0.006642    0.058326 -0.019673   \n",
       "Man                                    0.006706   -0.058289  0.019280   \n",
       "Unisex                                -0.002824   -0.001182  0.016899   \n",
       "Black                                 -0.184569   -0.077232 -0.106736   \n",
       "East_Southeast_Asian                   1.000000   -0.037868 -0.052334   \n",
       "Indigenous                            -0.037868    1.000000 -0.021899   \n",
       "Latino                                -0.052334   -0.021899  1.000000   \n",
       "Middle_Eastern                        -0.071640   -0.029977 -0.041429   \n",
       "South_Asian                           -0.078822   -0.032983 -0.045583   \n",
       "Unknown_or_Legacy                     -0.090408   -0.037831 -0.052283   \n",
       "White                                 -0.244500   -0.102310 -0.141394   \n",
       "Aged_25_to_34_years                   -0.015404   -0.015746 -0.012106   \n",
       "Aged_35_to_44_years                    0.018862   -0.012286  0.002125   \n",
       "Aged_18_to_24_years                   -0.018000    0.012778  0.022434   \n",
       "Aged_45_to_54_years                   -0.002668    0.003901  0.009368   \n",
       "Aged_55_to_64_years                   -0.004804    0.017359 -0.017233   \n",
       "Aged_17_years_and_younger              0.010208   -0.010843 -0.016495   \n",
       "Aged_65_years_and_older                0.027339   -0.013720 -0.010066   \n",
       "arrest_counts                         -0.065553    0.031504 -0.032205   \n",
       "\n",
       "                           Middle_Eastern  South_Asian  Unknown_or_Legacy  \\\n",
       "Woman                           -0.044820    -0.028593          -0.008471   \n",
       "Man                              0.044864     0.028646           0.008534   \n",
       "Unisex                          -0.002236    -0.002460          -0.002821   \n",
       "Black                           -0.146112    -0.160761          -0.184391   \n",
       "East_Southeast_Asian            -0.071640    -0.078822          -0.090408   \n",
       "Indigenous                      -0.029977    -0.032983          -0.037831   \n",
       "Latino                          -0.041429    -0.045583          -0.052283   \n",
       "Middle_Eastern                   1.000000    -0.062399          -0.071571   \n",
       "South_Asian                     -0.062399     1.000000          -0.078746   \n",
       "Unknown_or_Legacy               -0.071571    -0.078746           1.000000   \n",
       "White                           -0.193555    -0.212961          -0.244264   \n",
       "Aged_25_to_34_years              0.008473    -0.022598          -0.012011   \n",
       "Aged_35_to_44_years              0.032472     0.020177           0.003813   \n",
       "Aged_18_to_24_years             -0.003236     0.004425           0.006248   \n",
       "Aged_45_to_54_years             -0.011052    -0.007686          -0.002129   \n",
       "Aged_55_to_64_years             -0.003954     0.002039          -0.005512   \n",
       "Aged_17_years_and_younger       -0.016077    -0.010204           0.003384   \n",
       "Aged_65_years_and_older         -0.013427     0.004737           0.001776   \n",
       "arrest_counts                   -0.048573    -0.061939          -0.083156   \n",
       "\n",
       "                              White  Aged_25_to_34_years  Aged_35_to_44_years  \\\n",
       "Woman                      0.062594             0.034857             0.021853   \n",
       "Man                       -0.062704            -0.034799            -0.021944   \n",
       "Unisex                     0.005157            -0.002261             0.004068   \n",
       "Black                     -0.498666             0.061770             0.099821   \n",
       "East_Southeast_Asian      -0.244500            -0.015404             0.018862   \n",
       "Indigenous                -0.102310            -0.015746            -0.012286   \n",
       "Latino                    -0.141394            -0.012106             0.002125   \n",
       "Middle_Eastern            -0.193555             0.008473             0.032472   \n",
       "South_Asian               -0.212961            -0.022598             0.020177   \n",
       "Unknown_or_Legacy         -0.244264            -0.012011             0.003813   \n",
       "White                      1.000000            -0.025227            -0.126369   \n",
       "Aged_25_to_34_years       -0.025227             1.000000            -0.109175   \n",
       "Aged_35_to_44_years       -0.126369            -0.109175             1.000000   \n",
       "Aged_18_to_24_years       -0.052563            -0.158375            -0.297978   \n",
       "Aged_45_to_54_years        0.037442            -0.128181            -0.241168   \n",
       "Aged_55_to_64_years        0.080936            -0.097359            -0.183178   \n",
       "Aged_17_years_and_younger  0.092816            -0.072002            -0.135470   \n",
       "Aged_65_years_and_older    0.048615            -0.042250            -0.079493   \n",
       "arrest_counts              0.101350            -0.025060            -0.045102   \n",
       "\n",
       "                           Aged_18_to_24_years  Aged_45_to_54_years  \\\n",
       "Woman                                 0.008180            -0.011645   \n",
       "Man                                  -0.008193             0.011758   \n",
       "Unisex                                0.000645            -0.004996   \n",
       "Black                                 0.052143            -0.032963   \n",
       "East_Southeast_Asian                 -0.018000            -0.002668   \n",
       "Indigenous                            0.012778             0.003901   \n",
       "Latino                                0.022434             0.009368   \n",
       "Middle_Eastern                       -0.003236            -0.011052   \n",
       "South_Asian                           0.004425            -0.007686   \n",
       "Unknown_or_Legacy                     0.006248            -0.002129   \n",
       "White                                -0.052563             0.037442   \n",
       "Aged_25_to_34_years                  -0.158375            -0.128181   \n",
       "Aged_35_to_44_years                  -0.297978            -0.241168   \n",
       "Aged_18_to_24_years                   1.000000            -0.349851   \n",
       "Aged_45_to_54_years                  -0.349851             1.000000   \n",
       "Aged_55_to_64_years                  -0.265727            -0.215066   \n",
       "Aged_17_years_and_younger            -0.196520            -0.159053   \n",
       "Aged_65_years_and_older              -0.115317            -0.093331   \n",
       "arrest_counts                         0.031628             0.043833   \n",
       "\n",
       "                           Aged_55_to_64_years  Aged_17_years_and_younger  \\\n",
       "Woman                                -0.015579                  -0.024874   \n",
       "Man                                   0.015664                   0.024671   \n",
       "Unisex                               -0.003794                   0.008599   \n",
       "Black                                -0.079909                  -0.087321   \n",
       "East_Southeast_Asian                 -0.004804                   0.010208   \n",
       "Indigenous                            0.017359                  -0.010843   \n",
       "Latino                               -0.017233                  -0.016495   \n",
       "Middle_Eastern                       -0.003954                  -0.016077   \n",
       "South_Asian                           0.002039                  -0.010204   \n",
       "Unknown_or_Legacy                    -0.005512                   0.003384   \n",
       "White                                 0.080936                   0.092816   \n",
       "Aged_25_to_34_years                  -0.097359                  -0.072002   \n",
       "Aged_35_to_44_years                  -0.183178                  -0.135470   \n",
       "Aged_18_to_24_years                  -0.265727                  -0.196520   \n",
       "Aged_45_to_54_years                  -0.215066                  -0.159053   \n",
       "Aged_55_to_64_years                   1.000000                  -0.120808   \n",
       "Aged_17_years_and_younger            -0.120808                   1.000000   \n",
       "Aged_65_years_and_older              -0.070889                  -0.052427   \n",
       "arrest_counts                         0.003784                  -0.019230   \n",
       "\n",
       "                           Aged_65_years_and_older  arrest_counts  \n",
       "Woman                                    -0.016696      -0.027210  \n",
       "Man                                       0.016731       0.027278  \n",
       "Unisex                                   -0.001647      -0.003121  \n",
       "Black                                    -0.059589       0.042775  \n",
       "East_Southeast_Asian                      0.027339      -0.065553  \n",
       "Indigenous                               -0.013720       0.031504  \n",
       "Latino                                   -0.010066      -0.032205  \n",
       "Middle_Eastern                           -0.013427      -0.048573  \n",
       "South_Asian                               0.004737      -0.061939  \n",
       "Unknown_or_Legacy                         0.001776      -0.083156  \n",
       "White                                     0.048615       0.101350  \n",
       "Aged_25_to_34_years                      -0.042250      -0.025060  \n",
       "Aged_35_to_44_years                      -0.079493      -0.045102  \n",
       "Aged_18_to_24_years                      -0.115317       0.031628  \n",
       "Aged_45_to_54_years                      -0.093331       0.043833  \n",
       "Aged_55_to_64_years                      -0.070889       0.003784  \n",
       "Aged_17_years_and_younger                -0.052427      -0.019230  \n",
       "Aged_65_years_and_older                   1.000000      -0.035675  \n",
       "arrest_counts                            -0.035675       1.000000  "
      ]
     },
     "execution_count": 91,
     "metadata": {},
     "output_type": "execute_result"
    }
   ],
   "source": [
    "cor1"
   ]
  },
  {
   "cell_type": "code",
   "execution_count": 92,
   "metadata": {},
   "outputs": [
    {
     "data": {
      "text/plain": [
       "array([[-0.51399025,  0.51412725, -0.00938798, ..., -0.40416802,\n",
       "        -0.29890467, -0.17539567],\n",
       "       [ 1.9455622 , -1.94504374, -0.00938798, ..., -0.40416802,\n",
       "        -0.29890467, -0.17539567],\n",
       "       [-0.51399025,  0.51412725, -0.00938798, ..., -0.40416802,\n",
       "        -0.29890467, -0.17539567],\n",
       "       ...,\n",
       "       [-0.51399025,  0.51412725, -0.00938798, ..., -0.40416802,\n",
       "        -0.29890467, -0.17539567],\n",
       "       [-0.51399025,  0.51412725, -0.00938798, ..., -0.40416802,\n",
       "        -0.29890467,  5.70139505],\n",
       "       [-0.51399025,  0.51412725, -0.00938798, ..., -0.40416802,\n",
       "        -0.29890467, -0.17539567]])"
      ]
     },
     "execution_count": 92,
     "metadata": {},
     "output_type": "execute_result"
    }
   ],
   "source": [
    "feature_standardized1=prep.StandardScaler().fit_transform(feature2)\n",
    "feature_standardized1"
   ]
  },
  {
   "cell_type": "code",
   "execution_count": 93,
   "metadata": {},
   "outputs": [
    {
     "data": {
      "text/html": [
       "<div>\n",
       "<style scoped>\n",
       "    .dataframe tbody tr th:only-of-type {\n",
       "        vertical-align: middle;\n",
       "    }\n",
       "\n",
       "    .dataframe tbody tr th {\n",
       "        vertical-align: top;\n",
       "    }\n",
       "\n",
       "    .dataframe thead th {\n",
       "        text-align: right;\n",
       "    }\n",
       "</style>\n",
       "<table border=\"1\" class=\"dataframe\">\n",
       "  <thead>\n",
       "    <tr style=\"text-align: right;\">\n",
       "      <th></th>\n",
       "      <th>arrest_counts</th>\n",
       "      <th>Variable</th>\n",
       "    </tr>\n",
       "  </thead>\n",
       "  <tbody>\n",
       "    <tr>\n",
       "      <th>Woman</th>\n",
       "      <td>0.027210</td>\n",
       "      <td>Woman</td>\n",
       "    </tr>\n",
       "    <tr>\n",
       "      <th>Man</th>\n",
       "      <td>0.027278</td>\n",
       "      <td>Man</td>\n",
       "    </tr>\n",
       "    <tr>\n",
       "      <th>Unisex</th>\n",
       "      <td>0.003121</td>\n",
       "      <td>Unisex</td>\n",
       "    </tr>\n",
       "    <tr>\n",
       "      <th>Black</th>\n",
       "      <td>0.042775</td>\n",
       "      <td>Black</td>\n",
       "    </tr>\n",
       "    <tr>\n",
       "      <th>East_Southeast_Asian</th>\n",
       "      <td>0.065553</td>\n",
       "      <td>East_Southeast_Asian</td>\n",
       "    </tr>\n",
       "  </tbody>\n",
       "</table>\n",
       "</div>"
      ],
      "text/plain": [
       "                      arrest_counts              Variable\n",
       "Woman                      0.027210                 Woman\n",
       "Man                        0.027278                   Man\n",
       "Unisex                     0.003121                Unisex\n",
       "Black                      0.042775                 Black\n",
       "East_Southeast_Asian       0.065553  East_Southeast_Asian"
      ]
     },
     "execution_count": 93,
     "metadata": {},
     "output_type": "execute_result"
    }
   ],
   "source": [
    "import seaborn as sns\n",
    "correlation_arrest =cor1.iloc[:,-1]\n",
    "correlation_arrest=pd.DataFrame(correlation_arrest)\n",
    "abs_correlation_arrest=abs(correlation_arrest.arrest_counts)\n",
    "abs_correlation_arrest=pd.DataFrame(abs_correlation_arrest)\n",
    "abs_correlation_arrest['Variable']=abs_correlation_arrest.index\n",
    "abs_correlation_arrest.head()"
   ]
  },
  {
   "cell_type": "code",
   "execution_count": 94,
   "metadata": {},
   "outputs": [
    {
     "data": {
      "text/plain": [
       "[Text(0, 0, 'Woman'),\n",
       " Text(0, 0, 'Man'),\n",
       " Text(0, 0, 'Unisex'),\n",
       " Text(0, 0, 'Black'),\n",
       " Text(0, 0, 'East_Southeast_Asian'),\n",
       " Text(0, 0, 'Indigenous'),\n",
       " Text(0, 0, 'Latino'),\n",
       " Text(0, 0, 'Middle_Eastern'),\n",
       " Text(0, 0, 'South_Asian'),\n",
       " Text(0, 0, 'Unknown_or_Legacy'),\n",
       " Text(0, 0, 'White'),\n",
       " Text(0, 0, 'Aged_25_to_34_years'),\n",
       " Text(0, 0, 'Aged_35_to_44_years'),\n",
       " Text(0, 0, 'Aged_18_to_24_years'),\n",
       " Text(0, 0, 'Aged_45_to_54_years'),\n",
       " Text(0, 0, 'Aged_55_to_64_years'),\n",
       " Text(0, 0, 'Aged_17_years_and_younger'),\n",
       " Text(0, 0, 'Aged_65_years_and_older'),\n",
       " Text(0, 0, 'arrest_counts')]"
      ]
     },
     "execution_count": 94,
     "metadata": {},
     "output_type": "execute_result"
    },
    {
     "data": {
      "image/png": "[encoded data removed]",
      "text/plain": [
       "<Figure size 864x720 with 1 Axes>"
      ]
     },
     "metadata": {
      "needs_background": "light"
     },
     "output_type": "display_data"
    }
   ],
   "source": [
    "plt.figure(figsize=(12,10))\n",
    "ax1=sns.barplot(x='Variable',y='arrest_counts',data=abs_correlation_arrest)\n",
    "ax1.set_xticklabels(ax.get_xticklabels(),rotation=-90)"
   ]
  },
  {
   "cell_type": "markdown",
   "metadata": {},
   "source": [
    "##### "
   ]
  },
  {
   "cell_type": "markdown",
   "metadata": {},
   "source": [
    "# T test"
   ]
  },
  {
   "cell_type": "code",
   "execution_count": 95,
   "metadata": {},
   "outputs": [],
   "source": [
    "from scipy.stats import ttest_ind"
   ]
  },
  {
   "cell_type": "code",
   "execution_count": 96,
   "metadata": {},
   "outputs": [
    {
     "data": {
      "text/html": [
       "<div>\n",
       "<style scoped>\n",
       "    .dataframe tbody tr th:only-of-type {\n",
       "        vertical-align: middle;\n",
       "    }\n",
       "\n",
       "    .dataframe tbody tr th {\n",
       "        vertical-align: top;\n",
       "    }\n",
       "\n",
       "    .dataframe thead th {\n",
       "        text-align: right;\n",
       "    }\n",
       "</style>\n",
       "<table border=\"1\" class=\"dataframe\">\n",
       "  <thead>\n",
       "    <tr style=\"text-align: right;\">\n",
       "      <th></th>\n",
       "      <th>Sex</th>\n",
       "      <th>Race</th>\n",
       "      <th>arrest_counts</th>\n",
       "      <th>Age_group__at_arrest_</th>\n",
       "      <th>strip_counts</th>\n",
       "      <th>strip_search_rate</th>\n",
       "      <th>Item_counts</th>\n",
       "    </tr>\n",
       "  </thead>\n",
       "  <tbody>\n",
       "    <tr>\n",
       "      <th>0</th>\n",
       "      <td>M</td>\n",
       "      <td>East_Southeast_Asian</td>\n",
       "      <td>1</td>\n",
       "      <td>Aged_35_to_44_years</td>\n",
       "      <td>1</td>\n",
       "      <td>1.0</td>\n",
       "      <td>0.</td>\n",
       "    </tr>\n",
       "    <tr>\n",
       "      <th>1</th>\n",
       "      <td>F</td>\n",
       "      <td>White</td>\n",
       "      <td>1</td>\n",
       "      <td>Aged_17_years_and_younger</td>\n",
       "      <td>1</td>\n",
       "      <td>1.0</td>\n",
       "      <td>0.</td>\n",
       "    </tr>\n",
       "    <tr>\n",
       "      <th>2</th>\n",
       "      <td>M</td>\n",
       "      <td>White</td>\n",
       "      <td>1</td>\n",
       "      <td>Aged_35_to_44_years</td>\n",
       "      <td>1</td>\n",
       "      <td>1.0</td>\n",
       "      <td>0.</td>\n",
       "    </tr>\n",
       "    <tr>\n",
       "      <th>3</th>\n",
       "      <td>M</td>\n",
       "      <td>Black</td>\n",
       "      <td>1</td>\n",
       "      <td>Aged_25_to_34_years</td>\n",
       "      <td>1</td>\n",
       "      <td>1.0</td>\n",
       "      <td>0.</td>\n",
       "    </tr>\n",
       "    <tr>\n",
       "      <th>4</th>\n",
       "      <td>M</td>\n",
       "      <td>South_Asian</td>\n",
       "      <td>1</td>\n",
       "      <td>Aged_45_to_54_years</td>\n",
       "      <td>1</td>\n",
       "      <td>1.0</td>\n",
       "      <td>0.</td>\n",
       "    </tr>\n",
       "    <tr>\n",
       "      <th>...</th>\n",
       "      <td>...</td>\n",
       "      <td>...</td>\n",
       "      <td>...</td>\n",
       "      <td>...</td>\n",
       "      <td>...</td>\n",
       "      <td>...</td>\n",
       "      <td>...</td>\n",
       "    </tr>\n",
       "    <tr>\n",
       "      <th>34037</th>\n",
       "      <td>M</td>\n",
       "      <td>White</td>\n",
       "      <td>5</td>\n",
       "      <td>Aged_17_years_and_younger</td>\n",
       "      <td>1</td>\n",
       "      <td>0.2</td>\n",
       "      <td>0.</td>\n",
       "    </tr>\n",
       "    <tr>\n",
       "      <th>34038</th>\n",
       "      <td>M</td>\n",
       "      <td>White</td>\n",
       "      <td>1</td>\n",
       "      <td>Aged_35_to_44_years</td>\n",
       "      <td>1</td>\n",
       "      <td>1.0</td>\n",
       "      <td>0.</td>\n",
       "    </tr>\n",
       "    <tr>\n",
       "      <th>34039</th>\n",
       "      <td>M</td>\n",
       "      <td>Black</td>\n",
       "      <td>1</td>\n",
       "      <td>Aged_18_to_24_years</td>\n",
       "      <td>1</td>\n",
       "      <td>1.0</td>\n",
       "      <td>0.</td>\n",
       "    </tr>\n",
       "    <tr>\n",
       "      <th>34040</th>\n",
       "      <td>M</td>\n",
       "      <td>Black</td>\n",
       "      <td>1</td>\n",
       "      <td>Aged_65_years_and_older</td>\n",
       "      <td>1</td>\n",
       "      <td>1.0</td>\n",
       "      <td>0.</td>\n",
       "    </tr>\n",
       "    <tr>\n",
       "      <th>34041</th>\n",
       "      <td>M</td>\n",
       "      <td>White</td>\n",
       "      <td>1</td>\n",
       "      <td>Aged_18_to_24_years</td>\n",
       "      <td>1</td>\n",
       "      <td>1.0</td>\n",
       "      <td>0.</td>\n",
       "    </tr>\n",
       "  </tbody>\n",
       "</table>\n",
       "<p>34042 rows × 7 columns</p>\n",
       "</div>"
      ],
      "text/plain": [
       "      Sex                  Race  arrest_counts      Age_group__at_arrest_  \\\n",
       "0       M  East_Southeast_Asian              1        Aged_35_to_44_years   \n",
       "1       F                 White              1  Aged_17_years_and_younger   \n",
       "2       M                 White              1        Aged_35_to_44_years   \n",
       "3       M                 Black              1        Aged_25_to_34_years   \n",
       "4       M           South_Asian              1        Aged_45_to_54_years   \n",
       "...    ..                   ...            ...                        ...   \n",
       "34037   M                 White              5  Aged_17_years_and_younger   \n",
       "34038   M                 White              1        Aged_35_to_44_years   \n",
       "34039   M                 Black              1        Aged_18_to_24_years   \n",
       "34040   M                 Black              1    Aged_65_years_and_older   \n",
       "34041   M                 White              1        Aged_18_to_24_years   \n",
       "\n",
       "      strip_counts  strip_search_rate Item_counts  \n",
       "0                1                1.0          0.  \n",
       "1                1                1.0          0.  \n",
       "2                1                1.0          0.  \n",
       "3                1                1.0          0.  \n",
       "4                1                1.0          0.  \n",
       "...            ...                ...         ...  \n",
       "34037            1                0.2          0.  \n",
       "34038            1                1.0          0.  \n",
       "34039            1                1.0          0.  \n",
       "34040            1                1.0          0.  \n",
       "34041            1                1.0          0.  \n",
       "\n",
       "[34042 rows x 7 columns]"
      ]
     },
     "execution_count": 96,
     "metadata": {},
     "output_type": "execute_result"
    }
   ],
   "source": [
    "df1['strip_search_rate'] = pd.to_numeric(df1['strip_search_rate'], errors='coerce').astype('float64')\n",
    "df1['arrest_counts']=df1['arrest_counts'].astype('int64')\n",
    "df1.arrest_counts\n",
    "df1"
   ]
  },
  {
   "cell_type": "code",
   "execution_count": 97,
   "metadata": {},
   "outputs": [],
   "source": [
    "male = df1[df1['Sex'] == 'M']['strip_search_rate']\n",
    "female = df1[df1['Sex'] == 'F']['strip_search_rate']\n",
    "t_stat, p_val = ttest_ind(male, female)"
   ]
  },
  {
   "cell_type": "code",
   "execution_count": 98,
   "metadata": {},
   "outputs": [
    {
     "data": {
      "text/plain": [
       "-6.9474689021773886"
      ]
     },
     "execution_count": 98,
     "metadata": {},
     "output_type": "execute_result"
    }
   ],
   "source": [
    "t_stat"
   ]
  },
  {
   "cell_type": "code",
   "execution_count": 99,
   "metadata": {},
   "outputs": [
    {
     "data": {
      "text/plain": [
       "3.785762503039802e-12"
      ]
     },
     "execution_count": 99,
     "metadata": {},
     "output_type": "execute_result"
    }
   ],
   "source": [
    "p_val"
   ]
  },
  {
   "cell_type": "code",
   "execution_count": 100,
   "metadata": {},
   "outputs": [],
   "source": [
    "Black1 = df1[df1['Race'] == 'Black']['strip_search_rate']\n",
    "White1 = df1[df1['Race'] == 'White']['strip_search_rate']\n",
    "Indigenous1 = df1[df1['Race'] == 'Indigenous']['strip_search_rate']\n",
    "EastSoutheastAsian1 = df1[df1['Race'] == 'East_Southeast_Asian']['strip_search_rate']\n",
    "White = df1[df1['Race'] == 'White']['strip_search_rate']"
   ]
  },
  {
   "cell_type": "code",
   "execution_count": 101,
   "metadata": {},
   "outputs": [],
   "source": [
    "#Black and White\n",
    "t_stat, p_val = ttest_ind(White1,Black1)"
   ]
  },
  {
   "cell_type": "code",
   "execution_count": 102,
   "metadata": {},
   "outputs": [
    {
     "data": {
      "text/plain": [
       "-1.2703067054086195"
      ]
     },
     "execution_count": 102,
     "metadata": {},
     "output_type": "execute_result"
    }
   ],
   "source": [
    "t_stat"
   ]
  },
  {
   "cell_type": "code",
   "execution_count": 103,
   "metadata": {},
   "outputs": [
    {
     "data": {
      "text/plain": [
       "0.20398833492747032"
      ]
     },
     "execution_count": 103,
     "metadata": {},
     "output_type": "execute_result"
    }
   ],
   "source": [
    "p_val"
   ]
  },
  {
   "cell_type": "code",
   "execution_count": 104,
   "metadata": {},
   "outputs": [],
   "source": [
    "#White and Indigenous\n",
    "t_stat, p_val = ttest_ind(White1,Indigenous1)"
   ]
  },
  {
   "cell_type": "code",
   "execution_count": 105,
   "metadata": {},
   "outputs": [
    {
     "data": {
      "text/plain": [
       "4.66609072840387"
      ]
     },
     "execution_count": 105,
     "metadata": {},
     "output_type": "execute_result"
    }
   ],
   "source": [
    "t_stat"
   ]
  },
  {
   "cell_type": "code",
   "execution_count": 106,
   "metadata": {},
   "outputs": [
    {
     "data": {
      "text/plain": [
       "3.0981333455638535e-06"
      ]
     },
     "execution_count": 106,
     "metadata": {},
     "output_type": "execute_result"
    }
   ],
   "source": [
    "p_val"
   ]
  },
  {
   "cell_type": "code",
   "execution_count": 107,
   "metadata": {},
   "outputs": [],
   "source": [
    "#White and Eastasian\n",
    "t_stat, p_val = ttest_ind(White1,EastSoutheastAsian1)"
   ]
  },
  {
   "cell_type": "code",
   "execution_count": 108,
   "metadata": {},
   "outputs": [
    {
     "data": {
      "text/plain": [
       "-17.447542180175144"
      ]
     },
     "execution_count": 108,
     "metadata": {},
     "output_type": "execute_result"
    }
   ],
   "source": [
    "t_stat"
   ]
  },
  {
   "cell_type": "code",
   "execution_count": 109,
   "metadata": {},
   "outputs": [
    {
     "data": {
      "text/plain": [
       "1.4683529377165404e-67"
      ]
     },
     "execution_count": 109,
     "metadata": {},
     "output_type": "execute_result"
    }
   ],
   "source": [
    "p_val"
   ]
  },
  {
   "cell_type": "code",
   "execution_count": 110,
   "metadata": {},
   "outputs": [],
   "source": [
    "#Black and Eastasian\n",
    "t_stat, p_val = ttest_ind(Black1,EastSoutheastAsian1)"
   ]
  },
  {
   "cell_type": "code",
   "execution_count": 111,
   "metadata": {},
   "outputs": [
    {
     "data": {
      "text/plain": [
       "-16.880468168117947"
      ]
     },
     "execution_count": 111,
     "metadata": {},
     "output_type": "execute_result"
    }
   ],
   "source": [
    "t_stat"
   ]
  },
  {
   "cell_type": "code",
   "execution_count": 112,
   "metadata": {},
   "outputs": [
    {
     "data": {
      "text/plain": [
       "3.2911216255288874e-63"
      ]
     },
     "execution_count": 112,
     "metadata": {},
     "output_type": "execute_result"
    }
   ],
   "source": [
    "p_val"
   ]
  },
  {
   "cell_type": "code",
   "execution_count": 113,
   "metadata": {},
   "outputs": [],
   "source": [
    "#Black and Indigenous\n",
    "t_stat, p_val = ttest_ind(Black1,Indigenous1)"
   ]
  },
  {
   "cell_type": "code",
   "execution_count": 114,
   "metadata": {},
   "outputs": [
    {
     "data": {
      "text/plain": [
       "5.17683103601552"
      ]
     },
     "execution_count": 114,
     "metadata": {},
     "output_type": "execute_result"
    }
   ],
   "source": [
    "t_stat"
   ]
  },
  {
   "cell_type": "code",
   "execution_count": 115,
   "metadata": {},
   "outputs": [
    {
     "data": {
      "text/plain": [
       "2.301435626924308e-07"
      ]
     },
     "execution_count": 115,
     "metadata": {},
     "output_type": "execute_result"
    }
   ],
   "source": [
    "p_val"
   ]
  },
  {
   "cell_type": "markdown",
   "metadata": {},
   "source": [
    "# T test2"
   ]
  },
  {
   "cell_type": "code",
   "execution_count": 116,
   "metadata": {},
   "outputs": [],
   "source": [
    "from scipy.stats import ttest_ind"
   ]
  },
  {
   "cell_type": "code",
   "execution_count": 117,
   "metadata": {},
   "outputs": [],
   "source": [
    "male1 = df1[df1['Sex'] == 'M']['arrest_counts']\n",
    "female1 = df1[df1['Sex'] == 'F']['arrest_counts']\n",
    "t_stat, p_val = ttest_ind(male1, female1)"
   ]
  },
  {
   "cell_type": "code",
   "execution_count": 118,
   "metadata": {},
   "outputs": [
    {
     "data": {
      "text/plain": [
       "5.024775240100039"
      ]
     },
     "execution_count": 118,
     "metadata": {},
     "output_type": "execute_result"
    }
   ],
   "source": [
    "t_stat"
   ]
  },
  {
   "cell_type": "code",
   "execution_count": 119,
   "metadata": {},
   "outputs": [
    {
     "data": {
      "text/plain": [
       "5.065717589349336e-07"
      ]
     },
     "execution_count": 119,
     "metadata": {},
     "output_type": "execute_result"
    }
   ],
   "source": [
    "p_val"
   ]
  },
  {
   "cell_type": "code",
   "execution_count": 120,
   "metadata": {},
   "outputs": [],
   "source": [
    "#Age group 17 years and younger compare to age group 18y to 24y"
   ]
  },
  {
   "cell_type": "code",
   "execution_count": 121,
   "metadata": {},
   "outputs": [],
   "source": [
    "Age17 = df1[df1['Age_group__at_arrest_'] == 'Aged_17_years_and_younger']['arrest_counts']\n",
    "Age18_24 = df1[df1['Age_group__at_arrest_'] == 'Aged_18_to_24_years']['arrest_counts']\n",
    "t_stat, p_val = ttest_ind(Age17, Age18_24)"
   ]
  },
  {
   "cell_type": "code",
   "execution_count": 122,
   "metadata": {},
   "outputs": [
    {
     "data": {
      "text/plain": [
       "-0.23760803347429651"
      ]
     },
     "execution_count": 122,
     "metadata": {},
     "output_type": "execute_result"
    }
   ],
   "source": [
    "t_stat"
   ]
  },
  {
   "cell_type": "code",
   "execution_count": 123,
   "metadata": {},
   "outputs": [
    {
     "data": {
      "text/plain": [
       "0.8121914688956059"
      ]
     },
     "execution_count": 123,
     "metadata": {},
     "output_type": "execute_result"
    }
   ],
   "source": [
    "p_val"
   ]
  },
  {
   "cell_type": "code",
   "execution_count": 124,
   "metadata": {},
   "outputs": [],
   "source": [
    "#Age group 18y to 24y compare to age group 25y to 34y"
   ]
  },
  {
   "cell_type": "code",
   "execution_count": 125,
   "metadata": {},
   "outputs": [],
   "source": [
    "Age18_24 = df1[df1['Age_group__at_arrest_'] == 'Aged_18_to_24_years']['arrest_counts']\n",
    "Age25_34 = df1[df1['Age_group__at_arrest_'] == 'Aged_25_to_34_years']['arrest_counts']\n",
    "t_stat, p_val = ttest_ind(Age18_24, Age25_34)"
   ]
  },
  {
   "cell_type": "code",
   "execution_count": 126,
   "metadata": {},
   "outputs": [
    {
     "data": {
      "text/plain": [
       "-8.950501846280423"
      ]
     },
     "execution_count": 126,
     "metadata": {},
     "output_type": "execute_result"
    }
   ],
   "source": [
    "t_stat"
   ]
  },
  {
   "cell_type": "code",
   "execution_count": 127,
   "metadata": {},
   "outputs": [
    {
     "data": {
      "text/plain": [
       "3.918558332063783e-19"
      ]
     },
     "execution_count": 127,
     "metadata": {},
     "output_type": "execute_result"
    }
   ],
   "source": [
    "p_val"
   ]
  },
  {
   "cell_type": "code",
   "execution_count": 128,
   "metadata": {},
   "outputs": [],
   "source": [
    "#Age group 25y to 34y compare to age group 35y to 44y"
   ]
  },
  {
   "cell_type": "code",
   "execution_count": 129,
   "metadata": {},
   "outputs": [],
   "source": [
    "Age35_44= df1[df1['Age_group__at_arrest_'] == 'Aged_35_to_44_years']['arrest_counts']"
   ]
  },
  {
   "cell_type": "code",
   "execution_count": 130,
   "metadata": {},
   "outputs": [],
   "source": [
    "t_stat, p_val = ttest_ind(Age18_24, Age35_44)"
   ]
  },
  {
   "cell_type": "code",
   "execution_count": 131,
   "metadata": {},
   "outputs": [
    {
     "data": {
      "text/plain": [
       "-10.675559809514006"
      ]
     },
     "execution_count": 131,
     "metadata": {},
     "output_type": "execute_result"
    }
   ],
   "source": [
    "t_stat"
   ]
  },
  {
   "cell_type": "code",
   "execution_count": 132,
   "metadata": {},
   "outputs": [
    {
     "data": {
      "text/plain": [
       "1.6953552530878205e-26"
      ]
     },
     "execution_count": 132,
     "metadata": {},
     "output_type": "execute_result"
    }
   ],
   "source": [
    "p_val"
   ]
  },
  {
   "cell_type": "code",
   "execution_count": 133,
   "metadata": {},
   "outputs": [],
   "source": [
    "Age45_54= df1[df1['Age_group__at_arrest_'] == 'Aged_45_to_54_years']['arrest_counts']"
   ]
  },
  {
   "cell_type": "code",
   "execution_count": 134,
   "metadata": {},
   "outputs": [],
   "source": [
    "t_stat, p_val = ttest_ind(Age18_24, Age45_54)"
   ]
  },
  {
   "cell_type": "code",
   "execution_count": 135,
   "metadata": {},
   "outputs": [
    {
     "data": {
      "text/plain": [
       "-6.4412485668904145"
      ]
     },
     "execution_count": 135,
     "metadata": {},
     "output_type": "execute_result"
    }
   ],
   "source": [
    "t_stat"
   ]
  },
  {
   "cell_type": "code",
   "execution_count": 136,
   "metadata": {},
   "outputs": [
    {
     "data": {
      "text/plain": [
       "1.2364052414849597e-10"
      ]
     },
     "execution_count": 136,
     "metadata": {},
     "output_type": "execute_result"
    }
   ],
   "source": [
    "p_val"
   ]
  },
  {
   "cell_type": "code",
   "execution_count": 137,
   "metadata": {},
   "outputs": [],
   "source": [
    "Age55_64= df1[df1['Age_group__at_arrest_'] == 'Aged_55_to_64_years']['arrest_counts']"
   ]
  },
  {
   "cell_type": "code",
   "execution_count": 138,
   "metadata": {},
   "outputs": [],
   "source": [
    "t_stat, p_val = ttest_ind(Age18_24, Age55_64)"
   ]
  },
  {
   "cell_type": "code",
   "execution_count": 139,
   "metadata": {},
   "outputs": [
    {
     "data": {
      "text/plain": [
       "-1.9889212058627783"
      ]
     },
     "execution_count": 139,
     "metadata": {},
     "output_type": "execute_result"
    }
   ],
   "source": [
    "t_stat"
   ]
  },
  {
   "cell_type": "code",
   "execution_count": 140,
   "metadata": {},
   "outputs": [
    {
     "data": {
      "text/plain": [
       "0.04674156709759521"
      ]
     },
     "execution_count": 140,
     "metadata": {},
     "output_type": "execute_result"
    }
   ],
   "source": [
    "p_val"
   ]
  },
  {
   "cell_type": "code",
   "execution_count": 141,
   "metadata": {},
   "outputs": [],
   "source": [
    "Age65=df1[df1['Age_group__at_arrest_'] == 'Aged_65_years_and_older']['arrest_counts']"
   ]
  },
  {
   "cell_type": "code",
   "execution_count": 142,
   "metadata": {},
   "outputs": [],
   "source": [
    "t_stat, p_val = ttest_ind(Age18_24, Age65)"
   ]
  },
  {
   "cell_type": "code",
   "execution_count": 143,
   "metadata": {},
   "outputs": [
    {
     "data": {
      "text/plain": [
       "4.390046828019907"
      ]
     },
     "execution_count": 143,
     "metadata": {},
     "output_type": "execute_result"
    }
   ],
   "source": [
    "t_stat"
   ]
  },
  {
   "cell_type": "code",
   "execution_count": 144,
   "metadata": {},
   "outputs": [
    {
     "data": {
      "text/plain": [
       "1.1503735808005564e-05"
      ]
     },
     "execution_count": 144,
     "metadata": {},
     "output_type": "execute_result"
    }
   ],
   "source": [
    "p_val"
   ]
  },
  {
   "cell_type": "code",
   "execution_count": 145,
   "metadata": {},
   "outputs": [],
   "source": [
    "Black2=df1[df1['Race'] == 'Black']['arrest_counts']\n",
    "White2=df1[df1['Race'] == 'White']['arrest_counts']"
   ]
  },
  {
   "cell_type": "code",
   "execution_count": 146,
   "metadata": {},
   "outputs": [],
   "source": [
    "t_stat, p_val = ttest_ind(Black2,White2)"
   ]
  },
  {
   "cell_type": "code",
   "execution_count": 147,
   "metadata": {},
   "outputs": [
    {
     "data": {
      "text/plain": [
       "-3.513653877684219"
      ]
     },
     "execution_count": 147,
     "metadata": {},
     "output_type": "execute_result"
    }
   ],
   "source": [
    "t_stat"
   ]
  },
  {
   "cell_type": "code",
   "execution_count": 148,
   "metadata": {},
   "outputs": [
    {
     "data": {
      "text/plain": [
       "0.00044284244190142446"
      ]
     },
     "execution_count": 148,
     "metadata": {},
     "output_type": "execute_result"
    }
   ],
   "source": [
    "p_val"
   ]
  },
  {
   "cell_type": "code",
   "execution_count": 163,
   "metadata": {},
   "outputs": [],
   "source": [
    "Black2=df1[df1['Race'] == 'Black']['arrest_counts']\n",
    "Indigenous2=df1[df1['Race'] == 'Indigenous']['arrest_counts']"
   ]
  },
  {
   "cell_type": "code",
   "execution_count": 164,
   "metadata": {},
   "outputs": [],
   "source": [
    "t_stat, p_val = ttest_ind(Black2,Indigenous2)"
   ]
  },
  {
   "cell_type": "code",
   "execution_count": 165,
   "metadata": {},
   "outputs": [
    {
     "data": {
      "text/plain": [
       "-3.659124497026501"
      ]
     },
     "execution_count": 165,
     "metadata": {},
     "output_type": "execute_result"
    }
   ],
   "source": [
    "t_stat"
   ]
  },
  {
   "cell_type": "code",
   "execution_count": 166,
   "metadata": {},
   "outputs": [
    {
     "data": {
      "text/plain": [
       "0.00025440170548926766"
      ]
     },
     "execution_count": 166,
     "metadata": {},
     "output_type": "execute_result"
    }
   ],
   "source": [
    "p_val"
   ]
  },
  {
   "cell_type": "markdown",
   "metadata": {},
   "source": [
    "# Anova"
   ]
  },
  {
   "cell_type": "code",
   "execution_count": 167,
   "metadata": {},
   "outputs": [],
   "source": [
    "import statsmodels.api as sm\n",
    "from statsmodels.formula.api import ols\n",
    "from statsmodels.stats.multicomp import pairwise_tukeyhsd\n",
    "from statsmodels.stats.multicomp import MultiComparison"
   ]
  },
  {
   "cell_type": "code",
   "execution_count": 168,
   "metadata": {},
   "outputs": [],
   "source": [
    "model = ols('strip_search_rate ~ Race', data=df1).fit()"
   ]
  },
  {
   "cell_type": "code",
   "execution_count": 169,
   "metadata": {},
   "outputs": [
    {
     "name": "stdout",
     "output_type": "stream",
     "text": [
      "               sum_sq       df           F         PR(>F)\n",
      "Race        66.523241      7.0  179.055325  1.432096e-261\n",
      "Residual  1806.346713  34034.0         NaN            NaN\n"
     ]
    }
   ],
   "source": [
    "anova_table = sm.stats.anova_lm(model, typ=2)\n",
    "print(anova_table)"
   ]
  },
  {
   "cell_type": "code",
   "execution_count": 170,
   "metadata": {},
   "outputs": [
    {
     "name": "stdout",
     "output_type": "stream",
     "text": [
      "              Multiple Comparison of Means - Tukey HSD, FWER=0.05               \n",
      "================================================================================\n",
      "       group1               group2        meandiff p-adj   lower   upper  reject\n",
      "--------------------------------------------------------------------------------\n",
      "               Black East_Southeast_Asian   0.0845  0.001  0.0695  0.0995   True\n",
      "               Black           Indigenous  -0.0583  0.001 -0.0895 -0.0272   True\n",
      "               Black               Latino   0.0656  0.001  0.0424  0.0888   True\n",
      "               Black       Middle_Eastern   0.0768  0.001  0.0589  0.0946   True\n",
      "               Black          South_Asian   0.0888  0.001  0.0722  0.1054   True\n",
      "               Black    Unknown_or_Legacy    0.109  0.001  0.0939   0.124   True\n",
      "               Black                White  -0.0044  0.835 -0.0138   0.005  False\n",
      "East_Southeast_Asian           Indigenous  -0.1428  0.001 -0.1759 -0.1098   True\n",
      "East_Southeast_Asian               Latino  -0.0189 0.3324 -0.0446  0.0068  False\n",
      "East_Southeast_Asian       Middle_Eastern  -0.0077    0.9 -0.0287  0.0132  False\n",
      "East_Southeast_Asian          South_Asian   0.0043    0.9 -0.0156  0.0242  False\n",
      "East_Southeast_Asian    Unknown_or_Legacy   0.0244 0.0017  0.0059   0.043   True\n",
      "East_Southeast_Asian                White  -0.0889  0.001 -0.1033 -0.0744   True\n",
      "          Indigenous               Latino   0.1239  0.001  0.0864  0.1614   True\n",
      "          Indigenous       Middle_Eastern   0.1351  0.001  0.1007  0.1695   True\n",
      "          Indigenous          South_Asian   0.1472  0.001  0.1134  0.1809   True\n",
      "          Indigenous    Unknown_or_Legacy   0.1673  0.001  0.1343  0.2003   True\n",
      "          Indigenous                White    0.054  0.001  0.0231  0.0849   True\n",
      "              Latino       Middle_Eastern   0.0112    0.9 -0.0163  0.0386  False\n",
      "              Latino          South_Asian   0.0232 0.1413 -0.0034  0.0499  False\n",
      "              Latino    Unknown_or_Legacy   0.0434  0.001  0.0177  0.0691   True\n",
      "              Latino                White    -0.07  0.001 -0.0929 -0.0471   True\n",
      "      Middle_Eastern          South_Asian    0.012 0.6931 -0.0101  0.0342  False\n",
      "      Middle_Eastern    Unknown_or_Legacy   0.0322  0.001  0.0112  0.0532   True\n",
      "      Middle_Eastern                White  -0.0811  0.001 -0.0985 -0.0637   True\n",
      "         South_Asian    Unknown_or_Legacy   0.0201 0.0449  0.0002    0.04   True\n",
      "         South_Asian                White  -0.0932  0.001 -0.1093 -0.0771   True\n",
      "   Unknown_or_Legacy                White  -0.1133  0.001 -0.1278 -0.0989   True\n",
      "--------------------------------------------------------------------------------\n"
     ]
    }
   ],
   "source": [
    "tukey_results = pairwise_tukeyhsd(df1['strip_search_rate'], df1['Race'])\n",
    "print(tukey_results)"
   ]
  },
  {
   "cell_type": "code",
   "execution_count": 171,
   "metadata": {},
   "outputs": [
    {
     "name": "stdout",
     "output_type": "stream",
     "text": [
      "                                      sum_sq       df          F        PR(>F)\n",
      "C(Sex)                              0.000001      2.0   0.000013  9.970827e-01\n",
      "C(Age_group__at_arrest_)           15.228232      6.0  46.443907  5.486996e-39\n",
      "C(Sex):C(Age_group__at_arrest_)     0.617196     12.0   0.941180  4.875186e-01\n",
      "Residual                         1859.377728  34025.0        NaN           NaN\n"
     ]
    },
    {
     "name": "stderr",
     "output_type": "stream",
     "text": [
      "/Users/ruiyuema/opt/anaconda3/lib/python3.7/site-packages/statsmodels/base/model.py:1832: ValueWarning: covariance of constraints does not have full rank. The number of constraints is 2, but rank is 1\n",
      "  'rank is %d' % (J, J_), ValueWarning)\n",
      "/Users/ruiyuema/opt/anaconda3/lib/python3.7/site-packages/statsmodels/base/model.py:1832: ValueWarning: covariance of constraints does not have full rank. The number of constraints is 6, but rank is 4\n",
      "  'rank is %d' % (J, J_), ValueWarning)\n",
      "/Users/ruiyuema/opt/anaconda3/lib/python3.7/site-packages/statsmodels/base/model.py:1832: ValueWarning: covariance of constraints does not have full rank. The number of constraints is 12, but rank is 9\n",
      "  'rank is %d' % (J, J_), ValueWarning)\n"
     ]
    }
   ],
   "source": [
    "model = ols('strip_search_rate ~ C(Sex) + C(Age_group__at_arrest_) + C(Sex):C(Age_group__at_arrest_)', df1).fit()\n",
    "print(sm.stats.anova_lm(model, typ=2))"
   ]
  },
  {
   "cell_type": "code",
   "execution_count": 172,
   "metadata": {},
   "outputs": [
    {
     "name": "stdout",
     "output_type": "stream",
     "text": [
      "                  Multiple Comparison of Means - Tukey HSD, FWER=0.05                   \n",
      "========================================================================================\n",
      "          group1                   group2         meandiff p-adj   lower   upper  reject\n",
      "----------------------------------------------------------------------------------------\n",
      "Aged_17_years_and_younger     Aged_18_to_24_years   0.0089 0.7622 -0.0095  0.0272  False\n",
      "Aged_17_years_and_younger     Aged_25_to_34_years   -0.024  0.001 -0.0414 -0.0067   True\n",
      "Aged_17_years_and_younger     Aged_35_to_44_years  -0.0338  0.001 -0.0517  -0.016   True\n",
      "Aged_17_years_and_younger     Aged_45_to_54_years  -0.0228 0.0065 -0.0416  -0.004   True\n",
      "Aged_17_years_and_younger     Aged_55_to_64_years  -0.0025    0.9 -0.0231  0.0182  False\n",
      "Aged_17_years_and_younger Aged_65_years_and_older   0.0349 0.0025   0.008  0.0618   True\n",
      "      Aged_18_to_24_years     Aged_25_to_34_years  -0.0329  0.001 -0.0442 -0.0216   True\n",
      "      Aged_18_to_24_years     Aged_35_to_44_years  -0.0427  0.001 -0.0548 -0.0307   True\n",
      "      Aged_18_to_24_years     Aged_45_to_54_years  -0.0317  0.001 -0.0452 -0.0182   True\n",
      "      Aged_18_to_24_years     Aged_55_to_64_years  -0.0113 0.3519 -0.0272  0.0046  False\n",
      "      Aged_18_to_24_years Aged_65_years_and_older    0.026 0.0187  0.0025  0.0495   True\n",
      "      Aged_25_to_34_years     Aged_35_to_44_years  -0.0098 0.0826 -0.0203  0.0006  False\n",
      "      Aged_25_to_34_years     Aged_45_to_54_years   0.0012    0.9 -0.0109  0.0133  False\n",
      "      Aged_25_to_34_years     Aged_55_to_64_years   0.0216  0.001  0.0068  0.0363   True\n",
      "      Aged_25_to_34_years Aged_65_years_and_older   0.0589  0.001  0.0362  0.0816   True\n",
      "      Aged_35_to_44_years     Aged_45_to_54_years    0.011 0.1425 -0.0017  0.0238  False\n",
      "      Aged_35_to_44_years     Aged_55_to_64_years   0.0314  0.001  0.0161  0.0467   True\n",
      "      Aged_35_to_44_years Aged_65_years_and_older   0.0687  0.001  0.0457  0.0918   True\n",
      "      Aged_45_to_54_years     Aged_55_to_64_years   0.0204 0.0048  0.0039  0.0368   True\n",
      "      Aged_45_to_54_years Aged_65_years_and_older   0.0577  0.001  0.0339  0.0815   True\n",
      "      Aged_55_to_64_years Aged_65_years_and_older   0.0373  0.001  0.0121  0.0626   True\n",
      "----------------------------------------------------------------------------------------\n"
     ]
    }
   ],
   "source": [
    "mc = MultiComparison(df1['strip_search_rate'], df1['Age_group__at_arrest_'])\n",
    "tukey_result = mc.tukeyhsd()\n",
    "print(tukey_result)"
   ]
  },
  {
   "cell_type": "code",
   "execution_count": 173,
   "metadata": {},
   "outputs": [
    {
     "name": "stdout",
     "output_type": "stream",
     "text": [
      "Multiple Comparison of Means - Tukey HSD, FWER=0.05 \n",
      "====================================================\n",
      "group1 group2 meandiff p-adj   lower   upper  reject\n",
      "----------------------------------------------------\n",
      "     F      M  -0.0217  0.001  -0.029 -0.0144   True\n",
      "     F      U   0.0956 0.7395 -0.2217  0.4129  False\n",
      "     M      U   0.1173 0.6477 -0.1999  0.4345  False\n",
      "----------------------------------------------------\n"
     ]
    }
   ],
   "source": [
    "mc1= MultiComparison(df1['strip_search_rate'], df1['Sex'])\n",
    "tukey_result1=mc1.tukeyhsd()\n",
    "print(tukey_result1)"
   ]
  },
  {
   "cell_type": "markdown",
   "metadata": {},
   "source": [
    "# Power Analysis"
   ]
  },
  {
   "cell_type": "code",
   "execution_count": 174,
   "metadata": {},
   "outputs": [],
   "source": [
    "import statsmodels.stats.power as smp\n",
    "import pandas as pd"
   ]
  },
  {
   "cell_type": "code",
   "execution_count": 175,
   "metadata": {},
   "outputs": [
    {
     "name": "stdout",
     "output_type": "stream",
     "text": [
      "Cohen's d: 0.04730679567027964\n"
     ]
    }
   ],
   "source": [
    "import numpy as np\n",
    "import pandas as pd\n",
    "import statsmodels.api as sm\n",
    "from statsmodels.formula.api import ols\n",
    "\n",
    "mean1 = np.mean(White2)\n",
    "mean2 = np.mean(Black2)\n",
    "pooled_std = np.sqrt(((len(White2)-1)*np.var(White2) + (len(Black2)-1)*np.var(Black2)) / (len(White2)+len(Black2)-2))\n",
    "cohens_d = (mean1 - mean2) / pooled_std\n",
    "print(\"Cohen's d:\", cohens_d)"
   ]
  },
  {
   "cell_type": "code",
   "execution_count": 176,
   "metadata": {},
   "outputs": [
    {
     "data": {
      "text/plain": [
       "7016"
      ]
     },
     "execution_count": 176,
     "metadata": {},
     "output_type": "execute_result"
    }
   ],
   "source": [
    "import scipy.stats\n",
    "import statsmodels.stats.power as smp\n",
    "import matplotlib.pyplot as plt\n",
    "\n",
    "power_analysis = smp.TTestIndPower()\n",
    "sampleSize = power_analysis.solve_power(effect_size=cohens_d, power=0.8, alpha=0.05)\n",
    "sampleSize = np.int(np.ceil(sampleSize))\n",
    "sampleSize\n"
   ]
  },
  {
   "cell_type": "code",
   "execution_count": 177,
   "metadata": {},
   "outputs": [
    {
     "data": {
      "image/png": "[encoded data removed]",
      "text/plain": [
       "<Figure size 576x396 with 1 Axes>"
      ]
     },
     "metadata": {},
     "output_type": "display_data"
    }
   ],
   "source": [
    "effect_sizes = np.array([0.04730679567027964, 0.2, 0.8])\n",
    "sample_sizes = np.array(range(10, 7016, 10))\n",
    "\n",
    "plt.style.use('seaborn')\n",
    "fig = plt.figure()\n",
    "ax = fig.add_subplot(1, 1, 1)\n",
    "fig = power_analysis.plot_power(\n",
    "    dep_var='nobs', nobs=sample_sizes,  \n",
    "    effect_size=effect_sizes, alpha=0.05, ax=ax, \n",
    "    title='Power of Independent Samples t-test\\n')\n"
   ]
  },
  {
   "cell_type": "code",
   "execution_count": 178,
   "metadata": {},
   "outputs": [
    {
     "name": "stdout",
     "output_type": "stream",
     "text": [
      "Required sample size for White: 4158\n",
      "Required sample size for Black: 2859\n"
     ]
    }
   ],
   "source": [
    "# Calculate the proportions of samples in each group\n",
    "white_proportion = len(White2) / (len(White2) + len(Black2))\n",
    "black_proportion = len(Black2) / (len(White2) + len(Black2))\n",
    "\n",
    "# Calculate the required number of samples for each group\n",
    "white_sample_size = np.int(np.ceil(sampleSize * white_proportion))\n",
    "black_sample_size = np.int(np.ceil(sampleSize * black_proportion))\n",
    "\n",
    "print(\"Required sample size for White:\", white_sample_size)\n",
    "print(\"Required sample size for Black:\", black_sample_size)\n"
   ]
  },
  {
   "cell_type": "code",
   "execution_count": 179,
   "metadata": {},
   "outputs": [
    {
     "data": {
      "image/png": "[encoded data removed]",
      "text/plain": [
       "<Figure size 576x396 with 1 Axes>"
      ]
     },
     "metadata": {},
     "output_type": "display_data"
    }
   ],
   "source": [
    "effect_sizes = np.array([0.04730679567027964, 0.2, 0.8])\n",
    "sample_sizes = np.array(range(10, 7016, 10))\n",
    "\n",
    "plt.style.use('seaborn')\n",
    "fig = plt.figure()\n",
    "ax = fig.add_subplot(1, 1, 1)\n",
    "fig = power_analysis.plot_power(\n",
    "    dep_var='nobs', nobs=sample_sizes,  \n",
    "    effect_size=effect_sizes, alpha=0.05, ax=ax, \n",
    "    title='Power of Independent Samples t-test\\n')\n"
   ]
  },
  {
   "cell_type": "code",
   "execution_count": 180,
   "metadata": {},
   "outputs": [
    {
     "name": "stdout",
     "output_type": "stream",
     "text": [
      "Cohen's d: 0.16327634775759753\n"
     ]
    }
   ],
   "source": [
    "mean3 = np.mean(Indigenous2)\n",
    "mean2 = np.mean(Black2)\n",
    "pooled_std2 = np.sqrt(((len(Indigenous2)-1)*np.var(Indigenous2) + (len(Black2)-1)*np.var(Black2)) / (len(Indigenous2)+len(Black2)-2))\n",
    "cohens_d2 = (mean3 - mean2) / pooled_std2\n",
    "print(\"Cohen's d:\", cohens_d2)"
   ]
  },
  {
   "cell_type": "code",
   "execution_count": 181,
   "metadata": {},
   "outputs": [
    {
     "data": {
      "text/plain": [
       "590"
      ]
     },
     "execution_count": 181,
     "metadata": {},
     "output_type": "execute_result"
    }
   ],
   "source": [
    "power_analysis = smp.TTestIndPower()\n",
    "sampleSize2 = power_analysis.solve_power(effect_size=cohens_d2, power=0.8, alpha=0.05)\n",
    "sampleSize2 = np.int(np.ceil(sampleSize2))\n",
    "sampleSize2"
   ]
  },
  {
   "cell_type": "code",
   "execution_count": 182,
   "metadata": {},
   "outputs": [
    {
     "name": "stdout",
     "output_type": "stream",
     "text": [
      "Required sample size for Indigenous: 32\n",
      "Required sample size for Black: 559\n"
     ]
    }
   ],
   "source": [
    "# Calculate the proportions of samples in each group\n",
    "Indigenous_proportion = len(Indigenous2) / (len(Indigenous2) + len(Black2))\n",
    "black_proportion = len(Black2) / (len(Indigenous2) + len(Black2))\n",
    "\n",
    "# Calculate the required number of samples for each group\n",
    "Indigenous_sample_size = np.int(np.ceil(sampleSize2 * Indigenous_proportion))\n",
    "black_sample_size = np.int(np.ceil(sampleSize2 * black_proportion))\n",
    "\n",
    "print(\"Required sample size for Indigenous:\", Indigenous_sample_size)\n",
    "print(\"Required sample size for Black:\", black_sample_size)"
   ]
  },
  {
   "cell_type": "code",
   "execution_count": 183,
   "metadata": {},
   "outputs": [
    {
     "data": {
      "image/png": "[encoded data removed]",
      "text/plain": [
       "<Figure size 576x396 with 1 Axes>"
      ]
     },
     "metadata": {},
     "output_type": "display_data"
    }
   ],
   "source": [
    "effect_sizes = np.array([0.16327634775759753, 0.5, 0.8])\n",
    "sample_sizes = np.array(range(10, 590, 10))\n",
    "\n",
    "plt.style.use('seaborn')\n",
    "fig = plt.figure()\n",
    "ax = fig.add_subplot(1, 1, 1)\n",
    "fig = power_analysis.plot_power(\n",
    "    dep_var='nobs', nobs=sample_sizes,  \n",
    "    effect_size=effect_sizes, alpha=0.05, ax=ax, \n",
    "    title='Power of Independent Samples t-test\\n')"
   ]
  },
  {
   "cell_type": "markdown",
   "metadata": {},
   "source": [
    "# ANCOVA"
   ]
  },
  {
   "cell_type": "code",
   "execution_count": 184,
   "metadata": {},
   "outputs": [],
   "source": [
    "import pandas as pd\n",
    "import statsmodels.api as sm"
   ]
  },
  {
   "cell_type": "code",
   "execution_count": 185,
   "metadata": {
    "scrolled": true
   },
   "outputs": [
    {
     "data": {
      "text/plain": [
       "0        1\n",
       "1        1\n",
       "2        1\n",
       "3        1\n",
       "4        1\n",
       "        ..\n",
       "34037    5\n",
       "34038    1\n",
       "34039    1\n",
       "34040    1\n",
       "34041    1\n",
       "Name: arrest_counts, Length: 34042, dtype: int64"
      ]
     },
     "execution_count": 185,
     "metadata": {},
     "output_type": "execute_result"
    }
   ],
   "source": [
    "df1['arrest_counts']=df1['arrest_counts'].astype('int64')\n",
    "df1\n",
    "df1.arrest_counts"
   ]
  },
  {
   "cell_type": "code",
   "execution_count": 186,
   "metadata": {},
   "outputs": [
    {
     "name": "stdout",
     "output_type": "stream",
     "text": [
      "                            OLS Regression Results                            \n",
      "==============================================================================\n",
      "Dep. Variable:      strip_search_rate   R-squared:                       0.566\n",
      "Model:                            OLS   Adj. R-squared:                  0.566\n",
      "Method:                 Least Squares   F-statistic:                     3166.\n",
      "Date:                Sun, 16 Apr 2023   Prob (F-statistic):               0.00\n",
      "Time:                        16:36:19   Log-Likelihood:                 15257.\n",
      "No. Observations:               34042   AIC:                        -3.048e+04\n",
      "Df Residuals:                   34027   BIC:                        -3.036e+04\n",
      "Df Model:                          14                                         \n",
      "Covariance Type:            nonrobust                                         \n",
      "====================================================================================================================\n",
      "                                                       coef    std err          t      P>|t|      [0.025      0.975]\n",
      "--------------------------------------------------------------------------------------------------------------------\n",
      "Intercept                                            1.0526      0.004    272.795      0.000       1.045       1.060\n",
      "Race[T.East_Southeast_Asian]                         0.0349      0.003     10.438      0.000       0.028       0.041\n",
      "Race[T.Indigenous]                                  -0.0259      0.007     -3.743      0.000      -0.039      -0.012\n",
      "Race[T.Latino]                                       0.0221      0.005      4.281      0.000       0.012       0.032\n",
      "Race[T.Middle_Eastern]                               0.0297      0.004      7.484      0.000       0.022       0.037\n",
      "Race[T.South_Asian]                                  0.0362      0.004      9.797      0.000       0.029       0.043\n",
      "Race[T.Unknown_or_Legacy]                            0.0495      0.003     14.794      0.000       0.043       0.056\n",
      "Race[T.White]                                        0.0061      0.002      2.856      0.004       0.002       0.010\n",
      "Age_group__at_arrest_[T.Aged_18_to_24_years]         0.0068      0.004      1.650      0.099      -0.001       0.015\n",
      "Age_group__at_arrest_[T.Aged_25_to_34_years]         0.0004      0.004      0.093      0.926      -0.007       0.008\n",
      "Age_group__at_arrest_[T.Aged_35_to_44_years]        -0.0037      0.004     -0.925      0.355      -0.012       0.004\n",
      "Age_group__at_arrest_[T.Aged_45_to_54_years]        -0.0054      0.004     -1.272      0.203      -0.014       0.003\n",
      "Age_group__at_arrest_[T.Aged_55_to_64_years]         0.0016      0.005      0.335      0.737      -0.008       0.011\n",
      "Age_group__at_arrest_[T.Aged_65_years_and_older]     0.0133      0.006      2.197      0.028       0.001       0.025\n",
      "arrest_counts                                       -0.1217      0.001   -202.881      0.000      -0.123      -0.121\n",
      "==============================================================================\n",
      "Omnibus:                    10598.393   Durbin-Watson:                   1.997\n",
      "Prob(Omnibus):                  0.000   Jarque-Bera (JB):           832332.749\n",
      "Skew:                           0.585   Prob(JB):                         0.00\n",
      "Kurtosis:                      27.196   Cond. No.                         26.4\n",
      "==============================================================================\n",
      "\n",
      "Warnings:\n",
      "[1] Standard Errors assume that the covariance matrix of the errors is correctly specified.\n"
     ]
    }
   ],
   "source": [
    "# Define the model formula\n",
    "formula = 'strip_search_rate  ~ Race + Age_group__at_arrest_+arrest_counts'\n",
    "\n",
    "# Fit the ANCOVA model\n",
    "model1 = ols('strip_search_rate  ~ Race + Age_group__at_arrest_+arrest_counts', data=df1).fit()\n",
    "\n",
    "# Print the ANCOVA summary table\n",
    "print(model1.summary())"
   ]
  },
  {
   "cell_type": "markdown",
   "metadata": {},
   "source": [
    "# Data cleaning for logistic regression"
   ]
  },
  {
   "cell_type": "code",
   "execution_count": 187,
   "metadata": {},
   "outputs": [
    {
     "data": {
      "text/html": [
       "<div>\n",
       "<style scoped>\n",
       "    .dataframe tbody tr th:only-of-type {\n",
       "        vertical-align: middle;\n",
       "    }\n",
       "\n",
       "    .dataframe tbody tr th {\n",
       "        vertical-align: top;\n",
       "    }\n",
       "\n",
       "    .dataframe thead th {\n",
       "        text-align: right;\n",
       "    }\n",
       "</style>\n",
       "<table border=\"1\" class=\"dataframe\">\n",
       "  <thead>\n",
       "    <tr style=\"text-align: right;\">\n",
       "      <th></th>\n",
       "      <th>Arrest_Year</th>\n",
       "      <th>Arrest_Month</th>\n",
       "      <th>EventID</th>\n",
       "      <th>ArrestID</th>\n",
       "      <th>PersonID</th>\n",
       "      <th>Perceived_Race</th>\n",
       "      <th>Sex</th>\n",
       "      <th>Age_group__at_arrest_</th>\n",
       "      <th>Youth_at_arrest__under_18_years</th>\n",
       "      <th>ArrestLocDiv</th>\n",
       "      <th>...</th>\n",
       "      <th>Actions_at_arrest___Resisted__d</th>\n",
       "      <th>Actions_at_arrest___Mental_inst</th>\n",
       "      <th>Actions_at_arrest___Assaulted_o</th>\n",
       "      <th>Actions_at_arrest___Cooperative</th>\n",
       "      <th>SearchReason_CauseInjury</th>\n",
       "      <th>SearchReason_AssistEscape</th>\n",
       "      <th>SearchReason_PossessWeapons</th>\n",
       "      <th>SearchReason_PossessEvidence</th>\n",
       "      <th>ItemsFound</th>\n",
       "      <th>ObjectId</th>\n",
       "    </tr>\n",
       "  </thead>\n",
       "  <tbody>\n",
       "    <tr>\n",
       "      <th>0</th>\n",
       "      <td>2020</td>\n",
       "      <td>July-Sept</td>\n",
       "      <td>1005907</td>\n",
       "      <td>6017884.0</td>\n",
       "      <td>326622</td>\n",
       "      <td>White</td>\n",
       "      <td>M</td>\n",
       "      <td>Aged 35 to 44 years</td>\n",
       "      <td>Not a youth</td>\n",
       "      <td>54</td>\n",
       "      <td>...</td>\n",
       "      <td>0</td>\n",
       "      <td>0</td>\n",
       "      <td>0</td>\n",
       "      <td>1</td>\n",
       "      <td>0.0</td>\n",
       "      <td>NaN</td>\n",
       "      <td>NaN</td>\n",
       "      <td>NaN</td>\n",
       "      <td>0.0</td>\n",
       "      <td>1</td>\n",
       "    </tr>\n",
       "    <tr>\n",
       "      <th>1</th>\n",
       "      <td>2020</td>\n",
       "      <td>July-Sept</td>\n",
       "      <td>1014562</td>\n",
       "      <td>6056669.0</td>\n",
       "      <td>326622</td>\n",
       "      <td>White</td>\n",
       "      <td>M</td>\n",
       "      <td>Aged 35 to 44 years</td>\n",
       "      <td>Not a youth</td>\n",
       "      <td>54</td>\n",
       "      <td>...</td>\n",
       "      <td>0</td>\n",
       "      <td>0</td>\n",
       "      <td>0</td>\n",
       "      <td>0</td>\n",
       "      <td>0.0</td>\n",
       "      <td>NaN</td>\n",
       "      <td>NaN</td>\n",
       "      <td>NaN</td>\n",
       "      <td>0.0</td>\n",
       "      <td>2</td>\n",
       "    </tr>\n",
       "    <tr>\n",
       "      <th>2</th>\n",
       "      <td>2020</td>\n",
       "      <td>Oct-Dec</td>\n",
       "      <td>1029922</td>\n",
       "      <td>6057065.0</td>\n",
       "      <td>326622</td>\n",
       "      <td>Unknown or Legacy</td>\n",
       "      <td>M</td>\n",
       "      <td>Aged 35 to 44 years</td>\n",
       "      <td>Not a youth</td>\n",
       "      <td>54</td>\n",
       "      <td>...</td>\n",
       "      <td>0</td>\n",
       "      <td>0</td>\n",
       "      <td>0</td>\n",
       "      <td>0</td>\n",
       "      <td>0.0</td>\n",
       "      <td>NaN</td>\n",
       "      <td>NaN</td>\n",
       "      <td>NaN</td>\n",
       "      <td>0.0</td>\n",
       "      <td>3</td>\n",
       "    </tr>\n",
       "    <tr>\n",
       "      <th>3</th>\n",
       "      <td>2021</td>\n",
       "      <td>Jan-Mar</td>\n",
       "      <td>1052190</td>\n",
       "      <td>6029059.0</td>\n",
       "      <td>327535</td>\n",
       "      <td>Black</td>\n",
       "      <td>M</td>\n",
       "      <td>Aged 25 to 34 years</td>\n",
       "      <td>Not a youth</td>\n",
       "      <td>XX</td>\n",
       "      <td>...</td>\n",
       "      <td>0</td>\n",
       "      <td>0</td>\n",
       "      <td>0</td>\n",
       "      <td>0</td>\n",
       "      <td>0.0</td>\n",
       "      <td>NaN</td>\n",
       "      <td>NaN</td>\n",
       "      <td>NaN</td>\n",
       "      <td>0.0</td>\n",
       "      <td>4</td>\n",
       "    </tr>\n",
       "    <tr>\n",
       "      <th>4</th>\n",
       "      <td>2021</td>\n",
       "      <td>Jan-Mar</td>\n",
       "      <td>1015512</td>\n",
       "      <td>6040372.0</td>\n",
       "      <td>327535</td>\n",
       "      <td>South Asian</td>\n",
       "      <td>M</td>\n",
       "      <td>Aged 25 to 34 years</td>\n",
       "      <td>Not a youth</td>\n",
       "      <td>XX</td>\n",
       "      <td>...</td>\n",
       "      <td>0</td>\n",
       "      <td>0</td>\n",
       "      <td>0</td>\n",
       "      <td>0</td>\n",
       "      <td>0.0</td>\n",
       "      <td>NaN</td>\n",
       "      <td>NaN</td>\n",
       "      <td>NaN</td>\n",
       "      <td>0.0</td>\n",
       "      <td>5</td>\n",
       "    </tr>\n",
       "    <tr>\n",
       "      <th>...</th>\n",
       "      <td>...</td>\n",
       "      <td>...</td>\n",
       "      <td>...</td>\n",
       "      <td>...</td>\n",
       "      <td>...</td>\n",
       "      <td>...</td>\n",
       "      <td>...</td>\n",
       "      <td>...</td>\n",
       "      <td>...</td>\n",
       "      <td>...</td>\n",
       "      <td>...</td>\n",
       "      <td>...</td>\n",
       "      <td>...</td>\n",
       "      <td>...</td>\n",
       "      <td>...</td>\n",
       "      <td>...</td>\n",
       "      <td>...</td>\n",
       "      <td>...</td>\n",
       "      <td>...</td>\n",
       "      <td>...</td>\n",
       "      <td>...</td>\n",
       "    </tr>\n",
       "    <tr>\n",
       "      <th>65271</th>\n",
       "      <td>2021</td>\n",
       "      <td>Oct-Dec</td>\n",
       "      <td>1055609</td>\n",
       "      <td>6044336.0</td>\n",
       "      <td>316123</td>\n",
       "      <td>Indigenous</td>\n",
       "      <td>F</td>\n",
       "      <td>Aged 25 to 34 years</td>\n",
       "      <td>Not a youth</td>\n",
       "      <td>XX</td>\n",
       "      <td>...</td>\n",
       "      <td>1</td>\n",
       "      <td>0</td>\n",
       "      <td>0</td>\n",
       "      <td>0</td>\n",
       "      <td>0.0</td>\n",
       "      <td>NaN</td>\n",
       "      <td>NaN</td>\n",
       "      <td>NaN</td>\n",
       "      <td>0.0</td>\n",
       "      <td>65272</td>\n",
       "    </tr>\n",
       "    <tr>\n",
       "      <th>65272</th>\n",
       "      <td>2021</td>\n",
       "      <td>Oct-Dec</td>\n",
       "      <td>1032758</td>\n",
       "      <td>6031692.0</td>\n",
       "      <td>307736</td>\n",
       "      <td>South Asian</td>\n",
       "      <td>M</td>\n",
       "      <td>Aged 35 to 44 years</td>\n",
       "      <td>Not a youth</td>\n",
       "      <td>54</td>\n",
       "      <td>...</td>\n",
       "      <td>0</td>\n",
       "      <td>0</td>\n",
       "      <td>0</td>\n",
       "      <td>0</td>\n",
       "      <td>0.0</td>\n",
       "      <td>NaN</td>\n",
       "      <td>NaN</td>\n",
       "      <td>NaN</td>\n",
       "      <td>0.0</td>\n",
       "      <td>65273</td>\n",
       "    </tr>\n",
       "    <tr>\n",
       "      <th>65273</th>\n",
       "      <td>2021</td>\n",
       "      <td>Oct-Dec</td>\n",
       "      <td>1021067</td>\n",
       "      <td>6064396.0</td>\n",
       "      <td>324057</td>\n",
       "      <td>White</td>\n",
       "      <td>F</td>\n",
       "      <td>Aged 45 to 54 years</td>\n",
       "      <td>Not a youth</td>\n",
       "      <td>XX</td>\n",
       "      <td>...</td>\n",
       "      <td>0</td>\n",
       "      <td>0</td>\n",
       "      <td>0</td>\n",
       "      <td>0</td>\n",
       "      <td>0.0</td>\n",
       "      <td>NaN</td>\n",
       "      <td>NaN</td>\n",
       "      <td>NaN</td>\n",
       "      <td>0.0</td>\n",
       "      <td>65274</td>\n",
       "    </tr>\n",
       "    <tr>\n",
       "      <th>65274</th>\n",
       "      <td>2021</td>\n",
       "      <td>Oct-Dec</td>\n",
       "      <td>1008998</td>\n",
       "      <td>6008662.0</td>\n",
       "      <td>331870</td>\n",
       "      <td>Unknown or Legacy</td>\n",
       "      <td>M</td>\n",
       "      <td>Aged 17 years and younger</td>\n",
       "      <td>Youth (aged 17 years and under)</td>\n",
       "      <td>XX</td>\n",
       "      <td>...</td>\n",
       "      <td>0</td>\n",
       "      <td>0</td>\n",
       "      <td>0</td>\n",
       "      <td>1</td>\n",
       "      <td>0.0</td>\n",
       "      <td>NaN</td>\n",
       "      <td>NaN</td>\n",
       "      <td>NaN</td>\n",
       "      <td>0.0</td>\n",
       "      <td>65275</td>\n",
       "    </tr>\n",
       "    <tr>\n",
       "      <th>65275</th>\n",
       "      <td>2021</td>\n",
       "      <td>Oct-Dec</td>\n",
       "      <td>1033395</td>\n",
       "      <td>6032145.0</td>\n",
       "      <td>310583</td>\n",
       "      <td>Latino</td>\n",
       "      <td>M</td>\n",
       "      <td>Aged 18 to 24 years</td>\n",
       "      <td>Not a youth</td>\n",
       "      <td>XX</td>\n",
       "      <td>...</td>\n",
       "      <td>0</td>\n",
       "      <td>0</td>\n",
       "      <td>0</td>\n",
       "      <td>1</td>\n",
       "      <td>0.0</td>\n",
       "      <td>NaN</td>\n",
       "      <td>NaN</td>\n",
       "      <td>NaN</td>\n",
       "      <td>0.0</td>\n",
       "      <td>65276</td>\n",
       "    </tr>\n",
       "  </tbody>\n",
       "</table>\n",
       "<p>65276 rows × 25 columns</p>\n",
       "</div>"
      ],
      "text/plain": [
       "       Arrest_Year Arrest_Month  EventID   ArrestID  PersonID  \\\n",
       "0             2020    July-Sept  1005907  6017884.0    326622   \n",
       "1             2020    July-Sept  1014562  6056669.0    326622   \n",
       "2             2020      Oct-Dec  1029922  6057065.0    326622   \n",
       "3             2021      Jan-Mar  1052190  6029059.0    327535   \n",
       "4             2021      Jan-Mar  1015512  6040372.0    327535   \n",
       "...            ...          ...      ...        ...       ...   \n",
       "65271         2021      Oct-Dec  1055609  6044336.0    316123   \n",
       "65272         2021      Oct-Dec  1032758  6031692.0    307736   \n",
       "65273         2021      Oct-Dec  1021067  6064396.0    324057   \n",
       "65274         2021      Oct-Dec  1008998  6008662.0    331870   \n",
       "65275         2021      Oct-Dec  1033395  6032145.0    310583   \n",
       "\n",
       "          Perceived_Race Sex      Age_group__at_arrest_  \\\n",
       "0                  White   M        Aged 35 to 44 years   \n",
       "1                  White   M        Aged 35 to 44 years   \n",
       "2      Unknown or Legacy   M        Aged 35 to 44 years   \n",
       "3                  Black   M        Aged 25 to 34 years   \n",
       "4            South Asian   M        Aged 25 to 34 years   \n",
       "...                  ...  ..                        ...   \n",
       "65271         Indigenous   F        Aged 25 to 34 years   \n",
       "65272        South Asian   M        Aged 35 to 44 years   \n",
       "65273              White   F        Aged 45 to 54 years   \n",
       "65274  Unknown or Legacy   M  Aged 17 years and younger   \n",
       "65275             Latino   M        Aged 18 to 24 years   \n",
       "\n",
       "       Youth_at_arrest__under_18_years ArrestLocDiv  ...  \\\n",
       "0                          Not a youth           54  ...   \n",
       "1                          Not a youth           54  ...   \n",
       "2                          Not a youth           54  ...   \n",
       "3                          Not a youth           XX  ...   \n",
       "4                          Not a youth           XX  ...   \n",
       "...                                ...          ...  ...   \n",
       "65271                      Not a youth           XX  ...   \n",
       "65272                      Not a youth           54  ...   \n",
       "65273                      Not a youth           XX  ...   \n",
       "65274  Youth (aged 17 years and under)           XX  ...   \n",
       "65275                      Not a youth           XX  ...   \n",
       "\n",
       "       Actions_at_arrest___Resisted__d  Actions_at_arrest___Mental_inst  \\\n",
       "0                                    0                                0   \n",
       "1                                    0                                0   \n",
       "2                                    0                                0   \n",
       "3                                    0                                0   \n",
       "4                                    0                                0   \n",
       "...                                ...                              ...   \n",
       "65271                                1                                0   \n",
       "65272                                0                                0   \n",
       "65273                                0                                0   \n",
       "65274                                0                                0   \n",
       "65275                                0                                0   \n",
       "\n",
       "      Actions_at_arrest___Assaulted_o  Actions_at_arrest___Cooperative  \\\n",
       "0                                   0                                1   \n",
       "1                                   0                                0   \n",
       "2                                   0                                0   \n",
       "3                                   0                                0   \n",
       "4                                   0                                0   \n",
       "...                               ...                              ...   \n",
       "65271                               0                                0   \n",
       "65272                               0                                0   \n",
       "65273                               0                                0   \n",
       "65274                               0                                1   \n",
       "65275                               0                                1   \n",
       "\n",
       "       SearchReason_CauseInjury  SearchReason_AssistEscape  \\\n",
       "0                           0.0                        NaN   \n",
       "1                           0.0                        NaN   \n",
       "2                           0.0                        NaN   \n",
       "3                           0.0                        NaN   \n",
       "4                           0.0                        NaN   \n",
       "...                         ...                        ...   \n",
       "65271                       0.0                        NaN   \n",
       "65272                       0.0                        NaN   \n",
       "65273                       0.0                        NaN   \n",
       "65274                       0.0                        NaN   \n",
       "65275                       0.0                        NaN   \n",
       "\n",
       "       SearchReason_PossessWeapons  SearchReason_PossessEvidence  ItemsFound  \\\n",
       "0                              NaN                           NaN         0.0   \n",
       "1                              NaN                           NaN         0.0   \n",
       "2                              NaN                           NaN         0.0   \n",
       "3                              NaN                           NaN         0.0   \n",
       "4                              NaN                           NaN         0.0   \n",
       "...                            ...                           ...         ...   \n",
       "65271                          NaN                           NaN         0.0   \n",
       "65272                          NaN                           NaN         0.0   \n",
       "65273                          NaN                           NaN         0.0   \n",
       "65274                          NaN                           NaN         0.0   \n",
       "65275                          NaN                           NaN         0.0   \n",
       "\n",
       "       ObjectId  \n",
       "0             1  \n",
       "1             2  \n",
       "2             3  \n",
       "3             4  \n",
       "4             5  \n",
       "...         ...  \n",
       "65271     65272  \n",
       "65272     65273  \n",
       "65273     65274  \n",
       "65274     65275  \n",
       "65275     65276  \n",
       "\n",
       "[65276 rows x 25 columns]"
      ]
     },
     "execution_count": 187,
     "metadata": {},
     "output_type": "execute_result"
    }
   ],
   "source": [
    "kaggle"
   ]
  },
  {
   "cell_type": "code",
   "execution_count": 188,
   "metadata": {},
   "outputs": [
    {
     "data": {
      "text/html": [
       "<div>\n",
       "<style scoped>\n",
       "    .dataframe tbody tr th:only-of-type {\n",
       "        vertical-align: middle;\n",
       "    }\n",
       "\n",
       "    .dataframe tbody tr th {\n",
       "        vertical-align: top;\n",
       "    }\n",
       "\n",
       "    .dataframe thead th {\n",
       "        text-align: right;\n",
       "    }\n",
       "</style>\n",
       "<table border=\"1\" class=\"dataframe\">\n",
       "  <thead>\n",
       "    <tr style=\"text-align: right;\">\n",
       "      <th></th>\n",
       "      <th>Arrest_Year</th>\n",
       "      <th>Arrest_Month</th>\n",
       "      <th>EventID</th>\n",
       "      <th>ArrestID</th>\n",
       "      <th>PersonID</th>\n",
       "      <th>Perceived_Race</th>\n",
       "      <th>Sex</th>\n",
       "      <th>Age_group__at_arrest_</th>\n",
       "      <th>Youth_at_arrest__under_18_years</th>\n",
       "      <th>ArrestLocDiv</th>\n",
       "      <th>...</th>\n",
       "      <th>Actions_at_arrest___Resisted__d</th>\n",
       "      <th>Actions_at_arrest___Mental_inst</th>\n",
       "      <th>Actions_at_arrest___Assaulted_o</th>\n",
       "      <th>Actions_at_arrest___Cooperative</th>\n",
       "      <th>SearchReason_CauseInjury</th>\n",
       "      <th>SearchReason_AssistEscape</th>\n",
       "      <th>SearchReason_PossessWeapons</th>\n",
       "      <th>SearchReason_PossessEvidence</th>\n",
       "      <th>ItemsFound</th>\n",
       "      <th>ObjectId</th>\n",
       "    </tr>\n",
       "  </thead>\n",
       "  <tbody>\n",
       "    <tr>\n",
       "      <th>0</th>\n",
       "      <td>2020</td>\n",
       "      <td>July-Sept</td>\n",
       "      <td>1005907</td>\n",
       "      <td>6017884.0</td>\n",
       "      <td>326622</td>\n",
       "      <td>White</td>\n",
       "      <td>M</td>\n",
       "      <td>Aged_35_to_44_years</td>\n",
       "      <td>Not a youth</td>\n",
       "      <td>54</td>\n",
       "      <td>...</td>\n",
       "      <td>0</td>\n",
       "      <td>0</td>\n",
       "      <td>0</td>\n",
       "      <td>1</td>\n",
       "      <td>0.0</td>\n",
       "      <td>NaN</td>\n",
       "      <td>NaN</td>\n",
       "      <td>NaN</td>\n",
       "      <td>0.0</td>\n",
       "      <td>1</td>\n",
       "    </tr>\n",
       "    <tr>\n",
       "      <th>1</th>\n",
       "      <td>2020</td>\n",
       "      <td>July-Sept</td>\n",
       "      <td>1014562</td>\n",
       "      <td>6056669.0</td>\n",
       "      <td>326622</td>\n",
       "      <td>White</td>\n",
       "      <td>M</td>\n",
       "      <td>Aged_35_to_44_years</td>\n",
       "      <td>Not a youth</td>\n",
       "      <td>54</td>\n",
       "      <td>...</td>\n",
       "      <td>0</td>\n",
       "      <td>0</td>\n",
       "      <td>0</td>\n",
       "      <td>0</td>\n",
       "      <td>0.0</td>\n",
       "      <td>NaN</td>\n",
       "      <td>NaN</td>\n",
       "      <td>NaN</td>\n",
       "      <td>0.0</td>\n",
       "      <td>2</td>\n",
       "    </tr>\n",
       "    <tr>\n",
       "      <th>2</th>\n",
       "      <td>2020</td>\n",
       "      <td>Oct-Dec</td>\n",
       "      <td>1029922</td>\n",
       "      <td>6057065.0</td>\n",
       "      <td>326622</td>\n",
       "      <td>Unknown_or_Legacy</td>\n",
       "      <td>M</td>\n",
       "      <td>Aged_35_to_44_years</td>\n",
       "      <td>Not a youth</td>\n",
       "      <td>54</td>\n",
       "      <td>...</td>\n",
       "      <td>0</td>\n",
       "      <td>0</td>\n",
       "      <td>0</td>\n",
       "      <td>0</td>\n",
       "      <td>0.0</td>\n",
       "      <td>NaN</td>\n",
       "      <td>NaN</td>\n",
       "      <td>NaN</td>\n",
       "      <td>0.0</td>\n",
       "      <td>3</td>\n",
       "    </tr>\n",
       "    <tr>\n",
       "      <th>3</th>\n",
       "      <td>2021</td>\n",
       "      <td>Jan-Mar</td>\n",
       "      <td>1052190</td>\n",
       "      <td>6029059.0</td>\n",
       "      <td>327535</td>\n",
       "      <td>Black</td>\n",
       "      <td>M</td>\n",
       "      <td>Aged_25_to_34_years</td>\n",
       "      <td>Not a youth</td>\n",
       "      <td>XX</td>\n",
       "      <td>...</td>\n",
       "      <td>0</td>\n",
       "      <td>0</td>\n",
       "      <td>0</td>\n",
       "      <td>0</td>\n",
       "      <td>0.0</td>\n",
       "      <td>NaN</td>\n",
       "      <td>NaN</td>\n",
       "      <td>NaN</td>\n",
       "      <td>0.0</td>\n",
       "      <td>4</td>\n",
       "    </tr>\n",
       "    <tr>\n",
       "      <th>4</th>\n",
       "      <td>2021</td>\n",
       "      <td>Jan-Mar</td>\n",
       "      <td>1015512</td>\n",
       "      <td>6040372.0</td>\n",
       "      <td>327535</td>\n",
       "      <td>South_Asian</td>\n",
       "      <td>M</td>\n",
       "      <td>Aged_25_to_34_years</td>\n",
       "      <td>Not a youth</td>\n",
       "      <td>XX</td>\n",
       "      <td>...</td>\n",
       "      <td>0</td>\n",
       "      <td>0</td>\n",
       "      <td>0</td>\n",
       "      <td>0</td>\n",
       "      <td>0.0</td>\n",
       "      <td>NaN</td>\n",
       "      <td>NaN</td>\n",
       "      <td>NaN</td>\n",
       "      <td>0.0</td>\n",
       "      <td>5</td>\n",
       "    </tr>\n",
       "    <tr>\n",
       "      <th>...</th>\n",
       "      <td>...</td>\n",
       "      <td>...</td>\n",
       "      <td>...</td>\n",
       "      <td>...</td>\n",
       "      <td>...</td>\n",
       "      <td>...</td>\n",
       "      <td>...</td>\n",
       "      <td>...</td>\n",
       "      <td>...</td>\n",
       "      <td>...</td>\n",
       "      <td>...</td>\n",
       "      <td>...</td>\n",
       "      <td>...</td>\n",
       "      <td>...</td>\n",
       "      <td>...</td>\n",
       "      <td>...</td>\n",
       "      <td>...</td>\n",
       "      <td>...</td>\n",
       "      <td>...</td>\n",
       "      <td>...</td>\n",
       "      <td>...</td>\n",
       "    </tr>\n",
       "    <tr>\n",
       "      <th>65271</th>\n",
       "      <td>2021</td>\n",
       "      <td>Oct-Dec</td>\n",
       "      <td>1055609</td>\n",
       "      <td>6044336.0</td>\n",
       "      <td>316123</td>\n",
       "      <td>Indigenous</td>\n",
       "      <td>F</td>\n",
       "      <td>Aged_25_to_34_years</td>\n",
       "      <td>Not a youth</td>\n",
       "      <td>XX</td>\n",
       "      <td>...</td>\n",
       "      <td>1</td>\n",
       "      <td>0</td>\n",
       "      <td>0</td>\n",
       "      <td>0</td>\n",
       "      <td>0.0</td>\n",
       "      <td>NaN</td>\n",
       "      <td>NaN</td>\n",
       "      <td>NaN</td>\n",
       "      <td>0.0</td>\n",
       "      <td>65272</td>\n",
       "    </tr>\n",
       "    <tr>\n",
       "      <th>65272</th>\n",
       "      <td>2021</td>\n",
       "      <td>Oct-Dec</td>\n",
       "      <td>1032758</td>\n",
       "      <td>6031692.0</td>\n",
       "      <td>307736</td>\n",
       "      <td>South_Asian</td>\n",
       "      <td>M</td>\n",
       "      <td>Aged_35_to_44_years</td>\n",
       "      <td>Not a youth</td>\n",
       "      <td>54</td>\n",
       "      <td>...</td>\n",
       "      <td>0</td>\n",
       "      <td>0</td>\n",
       "      <td>0</td>\n",
       "      <td>0</td>\n",
       "      <td>0.0</td>\n",
       "      <td>NaN</td>\n",
       "      <td>NaN</td>\n",
       "      <td>NaN</td>\n",
       "      <td>0.0</td>\n",
       "      <td>65273</td>\n",
       "    </tr>\n",
       "    <tr>\n",
       "      <th>65273</th>\n",
       "      <td>2021</td>\n",
       "      <td>Oct-Dec</td>\n",
       "      <td>1021067</td>\n",
       "      <td>6064396.0</td>\n",
       "      <td>324057</td>\n",
       "      <td>White</td>\n",
       "      <td>F</td>\n",
       "      <td>Aged_45_to_54_years</td>\n",
       "      <td>Not a youth</td>\n",
       "      <td>XX</td>\n",
       "      <td>...</td>\n",
       "      <td>0</td>\n",
       "      <td>0</td>\n",
       "      <td>0</td>\n",
       "      <td>0</td>\n",
       "      <td>0.0</td>\n",
       "      <td>NaN</td>\n",
       "      <td>NaN</td>\n",
       "      <td>NaN</td>\n",
       "      <td>0.0</td>\n",
       "      <td>65274</td>\n",
       "    </tr>\n",
       "    <tr>\n",
       "      <th>65274</th>\n",
       "      <td>2021</td>\n",
       "      <td>Oct-Dec</td>\n",
       "      <td>1008998</td>\n",
       "      <td>6008662.0</td>\n",
       "      <td>331870</td>\n",
       "      <td>Unknown_or_Legacy</td>\n",
       "      <td>M</td>\n",
       "      <td>Aged_17_years_and_younger</td>\n",
       "      <td>Youth (aged 17 years and under)</td>\n",
       "      <td>XX</td>\n",
       "      <td>...</td>\n",
       "      <td>0</td>\n",
       "      <td>0</td>\n",
       "      <td>0</td>\n",
       "      <td>1</td>\n",
       "      <td>0.0</td>\n",
       "      <td>NaN</td>\n",
       "      <td>NaN</td>\n",
       "      <td>NaN</td>\n",
       "      <td>0.0</td>\n",
       "      <td>65275</td>\n",
       "    </tr>\n",
       "    <tr>\n",
       "      <th>65275</th>\n",
       "      <td>2021</td>\n",
       "      <td>Oct-Dec</td>\n",
       "      <td>1033395</td>\n",
       "      <td>6032145.0</td>\n",
       "      <td>310583</td>\n",
       "      <td>Latino</td>\n",
       "      <td>M</td>\n",
       "      <td>Aged_18_to_24_years</td>\n",
       "      <td>Not a youth</td>\n",
       "      <td>XX</td>\n",
       "      <td>...</td>\n",
       "      <td>0</td>\n",
       "      <td>0</td>\n",
       "      <td>0</td>\n",
       "      <td>1</td>\n",
       "      <td>0.0</td>\n",
       "      <td>NaN</td>\n",
       "      <td>NaN</td>\n",
       "      <td>NaN</td>\n",
       "      <td>0.0</td>\n",
       "      <td>65276</td>\n",
       "    </tr>\n",
       "  </tbody>\n",
       "</table>\n",
       "<p>65248 rows × 25 columns</p>\n",
       "</div>"
      ],
      "text/plain": [
       "       Arrest_Year Arrest_Month  EventID   ArrestID  PersonID  \\\n",
       "0             2020    July-Sept  1005907  6017884.0    326622   \n",
       "1             2020    July-Sept  1014562  6056669.0    326622   \n",
       "2             2020      Oct-Dec  1029922  6057065.0    326622   \n",
       "3             2021      Jan-Mar  1052190  6029059.0    327535   \n",
       "4             2021      Jan-Mar  1015512  6040372.0    327535   \n",
       "...            ...          ...      ...        ...       ...   \n",
       "65271         2021      Oct-Dec  1055609  6044336.0    316123   \n",
       "65272         2021      Oct-Dec  1032758  6031692.0    307736   \n",
       "65273         2021      Oct-Dec  1021067  6064396.0    324057   \n",
       "65274         2021      Oct-Dec  1008998  6008662.0    331870   \n",
       "65275         2021      Oct-Dec  1033395  6032145.0    310583   \n",
       "\n",
       "          Perceived_Race Sex      Age_group__at_arrest_  \\\n",
       "0                  White   M        Aged_35_to_44_years   \n",
       "1                  White   M        Aged_35_to_44_years   \n",
       "2      Unknown_or_Legacy   M        Aged_35_to_44_years   \n",
       "3                  Black   M        Aged_25_to_34_years   \n",
       "4            South_Asian   M        Aged_25_to_34_years   \n",
       "...                  ...  ..                        ...   \n",
       "65271         Indigenous   F        Aged_25_to_34_years   \n",
       "65272        South_Asian   M        Aged_35_to_44_years   \n",
       "65273              White   F        Aged_45_to_54_years   \n",
       "65274  Unknown_or_Legacy   M  Aged_17_years_and_younger   \n",
       "65275             Latino   M        Aged_18_to_24_years   \n",
       "\n",
       "       Youth_at_arrest__under_18_years ArrestLocDiv  ...  \\\n",
       "0                          Not a youth           54  ...   \n",
       "1                          Not a youth           54  ...   \n",
       "2                          Not a youth           54  ...   \n",
       "3                          Not a youth           XX  ...   \n",
       "4                          Not a youth           XX  ...   \n",
       "...                                ...          ...  ...   \n",
       "65271                      Not a youth           XX  ...   \n",
       "65272                      Not a youth           54  ...   \n",
       "65273                      Not a youth           XX  ...   \n",
       "65274  Youth (aged 17 years and under)           XX  ...   \n",
       "65275                      Not a youth           XX  ...   \n",
       "\n",
       "       Actions_at_arrest___Resisted__d  Actions_at_arrest___Mental_inst  \\\n",
       "0                                    0                                0   \n",
       "1                                    0                                0   \n",
       "2                                    0                                0   \n",
       "3                                    0                                0   \n",
       "4                                    0                                0   \n",
       "...                                ...                              ...   \n",
       "65271                                1                                0   \n",
       "65272                                0                                0   \n",
       "65273                                0                                0   \n",
       "65274                                0                                0   \n",
       "65275                                0                                0   \n",
       "\n",
       "      Actions_at_arrest___Assaulted_o  Actions_at_arrest___Cooperative  \\\n",
       "0                                   0                                1   \n",
       "1                                   0                                0   \n",
       "2                                   0                                0   \n",
       "3                                   0                                0   \n",
       "4                                   0                                0   \n",
       "...                               ...                              ...   \n",
       "65271                               0                                0   \n",
       "65272                               0                                0   \n",
       "65273                               0                                0   \n",
       "65274                               0                                1   \n",
       "65275                               0                                1   \n",
       "\n",
       "       SearchReason_CauseInjury  SearchReason_AssistEscape  \\\n",
       "0                           0.0                        NaN   \n",
       "1                           0.0                        NaN   \n",
       "2                           0.0                        NaN   \n",
       "3                           0.0                        NaN   \n",
       "4                           0.0                        NaN   \n",
       "...                         ...                        ...   \n",
       "65271                       0.0                        NaN   \n",
       "65272                       0.0                        NaN   \n",
       "65273                       0.0                        NaN   \n",
       "65274                       0.0                        NaN   \n",
       "65275                       0.0                        NaN   \n",
       "\n",
       "       SearchReason_PossessWeapons  SearchReason_PossessEvidence  ItemsFound  \\\n",
       "0                              NaN                           NaN         0.0   \n",
       "1                              NaN                           NaN         0.0   \n",
       "2                              NaN                           NaN         0.0   \n",
       "3                              NaN                           NaN         0.0   \n",
       "4                              NaN                           NaN         0.0   \n",
       "...                            ...                           ...         ...   \n",
       "65271                          NaN                           NaN         0.0   \n",
       "65272                          NaN                           NaN         0.0   \n",
       "65273                          NaN                           NaN         0.0   \n",
       "65274                          NaN                           NaN         0.0   \n",
       "65275                          NaN                           NaN         0.0   \n",
       "\n",
       "       ObjectId  \n",
       "0             1  \n",
       "1             2  \n",
       "2             3  \n",
       "3             4  \n",
       "4             5  \n",
       "...         ...  \n",
       "65271     65272  \n",
       "65272     65273  \n",
       "65273     65274  \n",
       "65274     65275  \n",
       "65275     65276  \n",
       "\n",
       "[65248 rows x 25 columns]"
      ]
     },
     "execution_count": 188,
     "metadata": {},
     "output_type": "execute_result"
    }
   ],
   "source": [
    "cat_rename_dict = {'Unknown or Legacy': 'Unknown_or_Legacy', 'East/Southeast Asian': 'East_Southeast_Asian', 'Middle-Eastern':'Middle_Eastern','South Asian': 'South_Asian'}\n",
    "cat_rename_dict1= {'Aged 17 years and younger':'Aged_17_years_and_younger','Aged 18 to 24 years':'Aged_18_to_24_years','Aged 25 to 34 years':'Aged_25_to_34_years','Aged 35 to 44 years':'Aged_35_to_44_years','Aged 45 to 54 years':'Aged_45_to_54_years','Aged 55 to 64 years':'Aged_55_to_64_years','Aged 65 years and older':'Aged_65_years_and_older'}\n",
    "kaggle['Perceived_Race'] = kaggle['Perceived_Race'].replace(cat_rename_dict)\n",
    "kaggle['Age_group__at_arrest_'] = kaggle['Age_group__at_arrest_'].replace(cat_rename_dict1)\n",
    "races_to_keep = ['White', 'Black', 'Unknown_or_Legacy', 'East_Southeast_Asian', 'South_Asian', 'Middle_Eastern', 'Indigenous', 'Latino']\n",
    "kaggle1= kaggle[kaggle['Perceived_Race'].isin(races_to_keep)]\n",
    "kaggle2= kaggle1[kaggle1['Age_group__at_arrest_'].isin(age_to_keep)]\n",
    "age_to_keep=['Aged_17_years_and_younger','Aged_18_to_24_years','Aged_25_to_34_years','Aged_35_to_44_years','Aged_45_to_54_years','Aged_55_to_64_years','Aged_65_years_and_older']\n",
    "kaggle2"
   ]
  },
  {
   "cell_type": "code",
   "execution_count": 189,
   "metadata": {},
   "outputs": [],
   "source": [
    "categorical_encoded_Q8=one_hot_enc.fit_transform(kaggle1[['Sex']])\n",
    "Gender1=pd.DataFrame(categorical_encoded_Q8)\n",
    "Gender1.columns='Woman Man Unisex'.split(\" \")"
   ]
  },
  {
   "cell_type": "code",
   "execution_count": 190,
   "metadata": {},
   "outputs": [
    {
     "data": {
      "text/plain": [
       "White                   27713\n",
       "Black                   17518\n",
       "Unknown_or_Legacy        5055\n",
       "East_Southeast_Asian     4412\n",
       "South_Asian              3613\n",
       "Middle_Eastern           3237\n",
       "Indigenous               1932\n",
       "Latino                   1768\n",
       "Name: Perceived_Race, dtype: int64"
      ]
     },
     "execution_count": 190,
     "metadata": {},
     "output_type": "execute_result"
    }
   ],
   "source": [
    "kaggle2.Perceived_Race.value_counts()"
   ]
  },
  {
   "cell_type": "code",
   "execution_count": 191,
   "metadata": {},
   "outputs": [],
   "source": [
    "categorical_encoded_Q9=one_hot_enc.fit_transform(kaggle2[['Perceived_Race']])\n",
    "Race2=pd.DataFrame(categorical_encoded_Q9)\n",
    "Race2.columns='Black East_Southeast_Asian Indigenous Latino Middle_Eastern South_Asian Unknown_or_Legacy White'.split(\" \")\n"
   ]
  },
  {
   "cell_type": "code",
   "execution_count": 192,
   "metadata": {},
   "outputs": [],
   "source": [
    "categorical_encoded_Q10=one_hot_enc.fit_transform(kaggle2[['Age_group__at_arrest_']])\n",
    "age2=pd.DataFrame(categorical_encoded_Q10)\n",
    "age2.columns='Aged_25_to_34_years Aged_35_to_44_years Aged_18_to_24_years Aged_45_to_54_years Aged_55_to_64_years Aged_17_years_and_younger Aged_65_years_and_older'.split(\" \")"
   ]
  },
  {
   "cell_type": "code",
   "execution_count": 193,
   "metadata": {},
   "outputs": [
    {
     "data": {
      "text/html": [
       "<div>\n",
       "<style scoped>\n",
       "    .dataframe tbody tr th:only-of-type {\n",
       "        vertical-align: middle;\n",
       "    }\n",
       "\n",
       "    .dataframe tbody tr th {\n",
       "        vertical-align: top;\n",
       "    }\n",
       "\n",
       "    .dataframe thead th {\n",
       "        text-align: right;\n",
       "    }\n",
       "</style>\n",
       "<table border=\"1\" class=\"dataframe\">\n",
       "  <thead>\n",
       "    <tr style=\"text-align: right;\">\n",
       "      <th></th>\n",
       "      <th>StripSearch</th>\n",
       "    </tr>\n",
       "  </thead>\n",
       "  <tbody>\n",
       "    <tr>\n",
       "      <th>0</th>\n",
       "      <td>0</td>\n",
       "    </tr>\n",
       "    <tr>\n",
       "      <th>1</th>\n",
       "      <td>0</td>\n",
       "    </tr>\n",
       "    <tr>\n",
       "      <th>2</th>\n",
       "      <td>0</td>\n",
       "    </tr>\n",
       "    <tr>\n",
       "      <th>3</th>\n",
       "      <td>0</td>\n",
       "    </tr>\n",
       "    <tr>\n",
       "      <th>4</th>\n",
       "      <td>0</td>\n",
       "    </tr>\n",
       "    <tr>\n",
       "      <th>...</th>\n",
       "      <td>...</td>\n",
       "    </tr>\n",
       "    <tr>\n",
       "      <th>65271</th>\n",
       "      <td>0</td>\n",
       "    </tr>\n",
       "    <tr>\n",
       "      <th>65272</th>\n",
       "      <td>0</td>\n",
       "    </tr>\n",
       "    <tr>\n",
       "      <th>65273</th>\n",
       "      <td>0</td>\n",
       "    </tr>\n",
       "    <tr>\n",
       "      <th>65274</th>\n",
       "      <td>0</td>\n",
       "    </tr>\n",
       "    <tr>\n",
       "      <th>65275</th>\n",
       "      <td>0</td>\n",
       "    </tr>\n",
       "  </tbody>\n",
       "</table>\n",
       "<p>65248 rows × 1 columns</p>\n",
       "</div>"
      ],
      "text/plain": [
       "       StripSearch\n",
       "0                0\n",
       "1                0\n",
       "2                0\n",
       "3                0\n",
       "4                0\n",
       "...            ...\n",
       "65271            0\n",
       "65272            0\n",
       "65273            0\n",
       "65274            0\n",
       "65275            0\n",
       "\n",
       "[65248 rows x 1 columns]"
      ]
     },
     "execution_count": 193,
     "metadata": {},
     "output_type": "execute_result"
    }
   ],
   "source": [
    "strips=kaggle2[['StripSearch']]\n",
    "strips"
   ]
  },
  {
   "cell_type": "code",
   "execution_count": 194,
   "metadata": {},
   "outputs": [],
   "source": [
    "Items=kaggle2[['ItemsFound']]\n",
    "df10=pd.concat([Gender1,Race2,age2,strips,Items],axis=1)"
   ]
  },
  {
   "cell_type": "code",
   "execution_count": 195,
   "metadata": {},
   "outputs": [
    {
     "data": {
      "text/html": [
       "<div>\n",
       "<style scoped>\n",
       "    .dataframe tbody tr th:only-of-type {\n",
       "        vertical-align: middle;\n",
       "    }\n",
       "\n",
       "    .dataframe tbody tr th {\n",
       "        vertical-align: top;\n",
       "    }\n",
       "\n",
       "    .dataframe thead th {\n",
       "        text-align: right;\n",
       "    }\n",
       "</style>\n",
       "<table border=\"1\" class=\"dataframe\">\n",
       "  <thead>\n",
       "    <tr style=\"text-align: right;\">\n",
       "      <th></th>\n",
       "      <th>0</th>\n",
       "    </tr>\n",
       "  </thead>\n",
       "  <tbody>\n",
       "    <tr>\n",
       "      <th>Woman</th>\n",
       "      <td>4</td>\n",
       "    </tr>\n",
       "    <tr>\n",
       "      <th>Man</th>\n",
       "      <td>4</td>\n",
       "    </tr>\n",
       "    <tr>\n",
       "      <th>Unisex</th>\n",
       "      <td>4</td>\n",
       "    </tr>\n",
       "    <tr>\n",
       "      <th>Black</th>\n",
       "      <td>28</td>\n",
       "    </tr>\n",
       "    <tr>\n",
       "      <th>East_Southeast_Asian</th>\n",
       "      <td>28</td>\n",
       "    </tr>\n",
       "    <tr>\n",
       "      <th>Indigenous</th>\n",
       "      <td>28</td>\n",
       "    </tr>\n",
       "    <tr>\n",
       "      <th>Latino</th>\n",
       "      <td>28</td>\n",
       "    </tr>\n",
       "    <tr>\n",
       "      <th>Middle_Eastern</th>\n",
       "      <td>28</td>\n",
       "    </tr>\n",
       "    <tr>\n",
       "      <th>South_Asian</th>\n",
       "      <td>28</td>\n",
       "    </tr>\n",
       "    <tr>\n",
       "      <th>Unknown_or_Legacy</th>\n",
       "      <td>28</td>\n",
       "    </tr>\n",
       "    <tr>\n",
       "      <th>White</th>\n",
       "      <td>28</td>\n",
       "    </tr>\n",
       "    <tr>\n",
       "      <th>Aged_25_to_34_years</th>\n",
       "      <td>28</td>\n",
       "    </tr>\n",
       "    <tr>\n",
       "      <th>Aged_35_to_44_years</th>\n",
       "      <td>28</td>\n",
       "    </tr>\n",
       "    <tr>\n",
       "      <th>Aged_18_to_24_years</th>\n",
       "      <td>28</td>\n",
       "    </tr>\n",
       "    <tr>\n",
       "      <th>Aged_45_to_54_years</th>\n",
       "      <td>28</td>\n",
       "    </tr>\n",
       "    <tr>\n",
       "      <th>Aged_55_to_64_years</th>\n",
       "      <td>28</td>\n",
       "    </tr>\n",
       "    <tr>\n",
       "      <th>Aged_17_years_and_younger</th>\n",
       "      <td>28</td>\n",
       "    </tr>\n",
       "    <tr>\n",
       "      <th>Aged_65_years_and_older</th>\n",
       "      <td>28</td>\n",
       "    </tr>\n",
       "    <tr>\n",
       "      <th>StripSearch</th>\n",
       "      <td>28</td>\n",
       "    </tr>\n",
       "    <tr>\n",
       "      <th>ItemsFound</th>\n",
       "      <td>28</td>\n",
       "    </tr>\n",
       "  </tbody>\n",
       "</table>\n",
       "</div>"
      ],
      "text/plain": [
       "                            0\n",
       "Woman                       4\n",
       "Man                         4\n",
       "Unisex                      4\n",
       "Black                      28\n",
       "East_Southeast_Asian       28\n",
       "Indigenous                 28\n",
       "Latino                     28\n",
       "Middle_Eastern             28\n",
       "South_Asian                28\n",
       "Unknown_or_Legacy          28\n",
       "White                      28\n",
       "Aged_25_to_34_years        28\n",
       "Aged_35_to_44_years        28\n",
       "Aged_18_to_24_years        28\n",
       "Aged_45_to_54_years        28\n",
       "Aged_55_to_64_years        28\n",
       "Aged_17_years_and_younger  28\n",
       "Aged_65_years_and_older    28\n",
       "StripSearch                28\n",
       "ItemsFound                 28"
      ]
     },
     "execution_count": 195,
     "metadata": {},
     "output_type": "execute_result"
    }
   ],
   "source": [
    "kaggle_null_sum2=pd.DataFrame(df10.isnull().sum())\n",
    "kaggle_null_sum2"
   ]
  },
  {
   "cell_type": "code",
   "execution_count": 196,
   "metadata": {},
   "outputs": [
    {
     "data": {
      "text/html": [
       "<div>\n",
       "<style scoped>\n",
       "    .dataframe tbody tr th:only-of-type {\n",
       "        vertical-align: middle;\n",
       "    }\n",
       "\n",
       "    .dataframe tbody tr th {\n",
       "        vertical-align: top;\n",
       "    }\n",
       "\n",
       "    .dataframe thead th {\n",
       "        text-align: right;\n",
       "    }\n",
       "</style>\n",
       "<table border=\"1\" class=\"dataframe\">\n",
       "  <thead>\n",
       "    <tr style=\"text-align: right;\">\n",
       "      <th></th>\n",
       "      <th>Woman</th>\n",
       "      <th>Man</th>\n",
       "      <th>Unisex</th>\n",
       "      <th>Black</th>\n",
       "      <th>East_Southeast_Asian</th>\n",
       "      <th>Indigenous</th>\n",
       "      <th>Latino</th>\n",
       "      <th>Middle_Eastern</th>\n",
       "      <th>South_Asian</th>\n",
       "      <th>Unknown_or_Legacy</th>\n",
       "      <th>White</th>\n",
       "      <th>Aged_25_to_34_years</th>\n",
       "      <th>Aged_35_to_44_years</th>\n",
       "      <th>Aged_18_to_24_years</th>\n",
       "      <th>Aged_45_to_54_years</th>\n",
       "      <th>Aged_55_to_64_years</th>\n",
       "      <th>Aged_17_years_and_younger</th>\n",
       "      <th>Aged_65_years_and_older</th>\n",
       "      <th>StripSearch</th>\n",
       "      <th>ItemsFound</th>\n",
       "    </tr>\n",
       "  </thead>\n",
       "  <tbody>\n",
       "    <tr>\n",
       "      <th>0</th>\n",
       "      <td>0.0</td>\n",
       "      <td>1.0</td>\n",
       "      <td>0.0</td>\n",
       "      <td>0.0</td>\n",
       "      <td>0.0</td>\n",
       "      <td>0.0</td>\n",
       "      <td>0.0</td>\n",
       "      <td>0.0</td>\n",
       "      <td>0.0</td>\n",
       "      <td>0.0</td>\n",
       "      <td>1.0</td>\n",
       "      <td>0.0</td>\n",
       "      <td>0.0</td>\n",
       "      <td>0.0</td>\n",
       "      <td>1.0</td>\n",
       "      <td>0.0</td>\n",
       "      <td>0.0</td>\n",
       "      <td>0.0</td>\n",
       "      <td>0.0</td>\n",
       "      <td>0.0</td>\n",
       "    </tr>\n",
       "    <tr>\n",
       "      <th>1</th>\n",
       "      <td>0.0</td>\n",
       "      <td>1.0</td>\n",
       "      <td>0.0</td>\n",
       "      <td>0.0</td>\n",
       "      <td>0.0</td>\n",
       "      <td>0.0</td>\n",
       "      <td>0.0</td>\n",
       "      <td>0.0</td>\n",
       "      <td>0.0</td>\n",
       "      <td>0.0</td>\n",
       "      <td>1.0</td>\n",
       "      <td>0.0</td>\n",
       "      <td>0.0</td>\n",
       "      <td>0.0</td>\n",
       "      <td>1.0</td>\n",
       "      <td>0.0</td>\n",
       "      <td>0.0</td>\n",
       "      <td>0.0</td>\n",
       "      <td>0.0</td>\n",
       "      <td>0.0</td>\n",
       "    </tr>\n",
       "    <tr>\n",
       "      <th>2</th>\n",
       "      <td>0.0</td>\n",
       "      <td>1.0</td>\n",
       "      <td>0.0</td>\n",
       "      <td>0.0</td>\n",
       "      <td>0.0</td>\n",
       "      <td>0.0</td>\n",
       "      <td>0.0</td>\n",
       "      <td>0.0</td>\n",
       "      <td>0.0</td>\n",
       "      <td>1.0</td>\n",
       "      <td>0.0</td>\n",
       "      <td>0.0</td>\n",
       "      <td>0.0</td>\n",
       "      <td>0.0</td>\n",
       "      <td>1.0</td>\n",
       "      <td>0.0</td>\n",
       "      <td>0.0</td>\n",
       "      <td>0.0</td>\n",
       "      <td>0.0</td>\n",
       "      <td>0.0</td>\n",
       "    </tr>\n",
       "    <tr>\n",
       "      <th>3</th>\n",
       "      <td>0.0</td>\n",
       "      <td>1.0</td>\n",
       "      <td>0.0</td>\n",
       "      <td>1.0</td>\n",
       "      <td>0.0</td>\n",
       "      <td>0.0</td>\n",
       "      <td>0.0</td>\n",
       "      <td>0.0</td>\n",
       "      <td>0.0</td>\n",
       "      <td>0.0</td>\n",
       "      <td>0.0</td>\n",
       "      <td>0.0</td>\n",
       "      <td>0.0</td>\n",
       "      <td>1.0</td>\n",
       "      <td>0.0</td>\n",
       "      <td>0.0</td>\n",
       "      <td>0.0</td>\n",
       "      <td>0.0</td>\n",
       "      <td>0.0</td>\n",
       "      <td>0.0</td>\n",
       "    </tr>\n",
       "    <tr>\n",
       "      <th>4</th>\n",
       "      <td>0.0</td>\n",
       "      <td>1.0</td>\n",
       "      <td>0.0</td>\n",
       "      <td>0.0</td>\n",
       "      <td>0.0</td>\n",
       "      <td>0.0</td>\n",
       "      <td>0.0</td>\n",
       "      <td>0.0</td>\n",
       "      <td>1.0</td>\n",
       "      <td>0.0</td>\n",
       "      <td>0.0</td>\n",
       "      <td>0.0</td>\n",
       "      <td>0.0</td>\n",
       "      <td>1.0</td>\n",
       "      <td>0.0</td>\n",
       "      <td>0.0</td>\n",
       "      <td>0.0</td>\n",
       "      <td>0.0</td>\n",
       "      <td>0.0</td>\n",
       "      <td>0.0</td>\n",
       "    </tr>\n",
       "    <tr>\n",
       "      <th>...</th>\n",
       "      <td>...</td>\n",
       "      <td>...</td>\n",
       "      <td>...</td>\n",
       "      <td>...</td>\n",
       "      <td>...</td>\n",
       "      <td>...</td>\n",
       "      <td>...</td>\n",
       "      <td>...</td>\n",
       "      <td>...</td>\n",
       "      <td>...</td>\n",
       "      <td>...</td>\n",
       "      <td>...</td>\n",
       "      <td>...</td>\n",
       "      <td>...</td>\n",
       "      <td>...</td>\n",
       "      <td>...</td>\n",
       "      <td>...</td>\n",
       "      <td>...</td>\n",
       "      <td>...</td>\n",
       "      <td>...</td>\n",
       "    </tr>\n",
       "    <tr>\n",
       "      <th>65271</th>\n",
       "      <td>0.0</td>\n",
       "      <td>1.0</td>\n",
       "      <td>0.0</td>\n",
       "      <td>0.0</td>\n",
       "      <td>0.0</td>\n",
       "      <td>0.0</td>\n",
       "      <td>0.0</td>\n",
       "      <td>0.0</td>\n",
       "      <td>0.0</td>\n",
       "      <td>0.0</td>\n",
       "      <td>0.0</td>\n",
       "      <td>0.0</td>\n",
       "      <td>0.0</td>\n",
       "      <td>0.0</td>\n",
       "      <td>0.0</td>\n",
       "      <td>0.0</td>\n",
       "      <td>0.0</td>\n",
       "      <td>0.0</td>\n",
       "      <td>0.0</td>\n",
       "      <td>0.0</td>\n",
       "    </tr>\n",
       "    <tr>\n",
       "      <th>65272</th>\n",
       "      <td>0.0</td>\n",
       "      <td>0.0</td>\n",
       "      <td>0.0</td>\n",
       "      <td>0.0</td>\n",
       "      <td>0.0</td>\n",
       "      <td>0.0</td>\n",
       "      <td>0.0</td>\n",
       "      <td>0.0</td>\n",
       "      <td>0.0</td>\n",
       "      <td>0.0</td>\n",
       "      <td>0.0</td>\n",
       "      <td>0.0</td>\n",
       "      <td>0.0</td>\n",
       "      <td>0.0</td>\n",
       "      <td>0.0</td>\n",
       "      <td>0.0</td>\n",
       "      <td>0.0</td>\n",
       "      <td>0.0</td>\n",
       "      <td>0.0</td>\n",
       "      <td>0.0</td>\n",
       "    </tr>\n",
       "    <tr>\n",
       "      <th>65273</th>\n",
       "      <td>0.0</td>\n",
       "      <td>0.0</td>\n",
       "      <td>0.0</td>\n",
       "      <td>0.0</td>\n",
       "      <td>0.0</td>\n",
       "      <td>0.0</td>\n",
       "      <td>0.0</td>\n",
       "      <td>0.0</td>\n",
       "      <td>0.0</td>\n",
       "      <td>0.0</td>\n",
       "      <td>0.0</td>\n",
       "      <td>0.0</td>\n",
       "      <td>0.0</td>\n",
       "      <td>0.0</td>\n",
       "      <td>0.0</td>\n",
       "      <td>0.0</td>\n",
       "      <td>0.0</td>\n",
       "      <td>0.0</td>\n",
       "      <td>0.0</td>\n",
       "      <td>0.0</td>\n",
       "    </tr>\n",
       "    <tr>\n",
       "      <th>65274</th>\n",
       "      <td>0.0</td>\n",
       "      <td>0.0</td>\n",
       "      <td>0.0</td>\n",
       "      <td>0.0</td>\n",
       "      <td>0.0</td>\n",
       "      <td>0.0</td>\n",
       "      <td>0.0</td>\n",
       "      <td>0.0</td>\n",
       "      <td>0.0</td>\n",
       "      <td>0.0</td>\n",
       "      <td>0.0</td>\n",
       "      <td>0.0</td>\n",
       "      <td>0.0</td>\n",
       "      <td>0.0</td>\n",
       "      <td>0.0</td>\n",
       "      <td>0.0</td>\n",
       "      <td>0.0</td>\n",
       "      <td>0.0</td>\n",
       "      <td>0.0</td>\n",
       "      <td>0.0</td>\n",
       "    </tr>\n",
       "    <tr>\n",
       "      <th>65275</th>\n",
       "      <td>0.0</td>\n",
       "      <td>0.0</td>\n",
       "      <td>0.0</td>\n",
       "      <td>0.0</td>\n",
       "      <td>0.0</td>\n",
       "      <td>0.0</td>\n",
       "      <td>0.0</td>\n",
       "      <td>0.0</td>\n",
       "      <td>0.0</td>\n",
       "      <td>0.0</td>\n",
       "      <td>0.0</td>\n",
       "      <td>0.0</td>\n",
       "      <td>0.0</td>\n",
       "      <td>0.0</td>\n",
       "      <td>0.0</td>\n",
       "      <td>0.0</td>\n",
       "      <td>0.0</td>\n",
       "      <td>0.0</td>\n",
       "      <td>0.0</td>\n",
       "      <td>0.0</td>\n",
       "    </tr>\n",
       "  </tbody>\n",
       "</table>\n",
       "<p>65276 rows × 20 columns</p>\n",
       "</div>"
      ],
      "text/plain": [
       "       Woman  Man  Unisex  Black  East_Southeast_Asian  Indigenous  Latino  \\\n",
       "0        0.0  1.0     0.0    0.0                   0.0         0.0     0.0   \n",
       "1        0.0  1.0     0.0    0.0                   0.0         0.0     0.0   \n",
       "2        0.0  1.0     0.0    0.0                   0.0         0.0     0.0   \n",
       "3        0.0  1.0     0.0    1.0                   0.0         0.0     0.0   \n",
       "4        0.0  1.0     0.0    0.0                   0.0         0.0     0.0   \n",
       "...      ...  ...     ...    ...                   ...         ...     ...   \n",
       "65271    0.0  1.0     0.0    0.0                   0.0         0.0     0.0   \n",
       "65272    0.0  0.0     0.0    0.0                   0.0         0.0     0.0   \n",
       "65273    0.0  0.0     0.0    0.0                   0.0         0.0     0.0   \n",
       "65274    0.0  0.0     0.0    0.0                   0.0         0.0     0.0   \n",
       "65275    0.0  0.0     0.0    0.0                   0.0         0.0     0.0   \n",
       "\n",
       "       Middle_Eastern  South_Asian  Unknown_or_Legacy  White  \\\n",
       "0                 0.0          0.0                0.0    1.0   \n",
       "1                 0.0          0.0                0.0    1.0   \n",
       "2                 0.0          0.0                1.0    0.0   \n",
       "3                 0.0          0.0                0.0    0.0   \n",
       "4                 0.0          1.0                0.0    0.0   \n",
       "...               ...          ...                ...    ...   \n",
       "65271             0.0          0.0                0.0    0.0   \n",
       "65272             0.0          0.0                0.0    0.0   \n",
       "65273             0.0          0.0                0.0    0.0   \n",
       "65274             0.0          0.0                0.0    0.0   \n",
       "65275             0.0          0.0                0.0    0.0   \n",
       "\n",
       "       Aged_25_to_34_years  Aged_35_to_44_years  Aged_18_to_24_years  \\\n",
       "0                      0.0                  0.0                  0.0   \n",
       "1                      0.0                  0.0                  0.0   \n",
       "2                      0.0                  0.0                  0.0   \n",
       "3                      0.0                  0.0                  1.0   \n",
       "4                      0.0                  0.0                  1.0   \n",
       "...                    ...                  ...                  ...   \n",
       "65271                  0.0                  0.0                  0.0   \n",
       "65272                  0.0                  0.0                  0.0   \n",
       "65273                  0.0                  0.0                  0.0   \n",
       "65274                  0.0                  0.0                  0.0   \n",
       "65275                  0.0                  0.0                  0.0   \n",
       "\n",
       "       Aged_45_to_54_years  Aged_55_to_64_years  Aged_17_years_and_younger  \\\n",
       "0                      1.0                  0.0                        0.0   \n",
       "1                      1.0                  0.0                        0.0   \n",
       "2                      1.0                  0.0                        0.0   \n",
       "3                      0.0                  0.0                        0.0   \n",
       "4                      0.0                  0.0                        0.0   \n",
       "...                    ...                  ...                        ...   \n",
       "65271                  0.0                  0.0                        0.0   \n",
       "65272                  0.0                  0.0                        0.0   \n",
       "65273                  0.0                  0.0                        0.0   \n",
       "65274                  0.0                  0.0                        0.0   \n",
       "65275                  0.0                  0.0                        0.0   \n",
       "\n",
       "       Aged_65_years_and_older  StripSearch  ItemsFound  \n",
       "0                          0.0          0.0         0.0  \n",
       "1                          0.0          0.0         0.0  \n",
       "2                          0.0          0.0         0.0  \n",
       "3                          0.0          0.0         0.0  \n",
       "4                          0.0          0.0         0.0  \n",
       "...                        ...          ...         ...  \n",
       "65271                      0.0          0.0         0.0  \n",
       "65272                      0.0          0.0         0.0  \n",
       "65273                      0.0          0.0         0.0  \n",
       "65274                      0.0          0.0         0.0  \n",
       "65275                      0.0          0.0         0.0  \n",
       "\n",
       "[65276 rows x 20 columns]"
      ]
     },
     "execution_count": 196,
     "metadata": {},
     "output_type": "execute_result"
    }
   ],
   "source": [
    "df10.fillna(0, inplace=True)\n",
    "df10"
   ]
  },
  {
   "cell_type": "markdown",
   "metadata": {},
   "source": [
    "# Logistic Regression"
   ]
  },
  {
   "cell_type": "code",
   "execution_count": 197,
   "metadata": {},
   "outputs": [],
   "source": [
    "import pandas as pd\n",
    "from sklearn.linear_model import LogisticRegression\n",
    "from sklearn.model_selection import train_test_split"
   ]
  },
  {
   "cell_type": "code",
   "execution_count": 198,
   "metadata": {},
   "outputs": [],
   "source": [
    "X = df10[['Man','Indigenous','Black','White','East_Southeast_Asian',  'Latino', 'Middle_Eastern', 'South_Asian','Aged_17_years_and_younger','Aged_18_to_24_years','Aged_65_years_and_older','StripSearch']]\n",
    "y = df10['ItemsFound']"
   ]
  },
  {
   "cell_type": "code",
   "execution_count": 199,
   "metadata": {},
   "outputs": [],
   "source": [
    "X_train, X_test, y_train, y_test = train_test_split(X, y, test_size=0.2, random_state=0)"
   ]
  },
  {
   "cell_type": "code",
   "execution_count": 200,
   "metadata": {},
   "outputs": [
    {
     "name": "stdout",
     "output_type": "stream",
     "text": [
      "Warning: Maximum number of iterations has been exceeded.\n",
      "         Current function value: 0.078385\n",
      "         Iterations: 35\n",
      "                           Logit Regression Results                           \n",
      "==============================================================================\n",
      "Dep. Variable:             ItemsFound   No. Observations:                65276\n",
      "Model:                          Logit   Df Residuals:                    65263\n",
      "Method:                           MLE   Df Model:                           12\n",
      "Date:                Sun, 16 Apr 2023   Pseudo R-squ.:                  0.5700\n",
      "Time:                        16:36:48   Log-Likelihood:                -5116.7\n",
      "converged:                      False   LL-Null:                       -11899.\n",
      "Covariance Type:            nonrobust   LLR p-value:                     0.000\n",
      "=============================================================================================\n",
      "                                coef    std err          z      P>|z|      [0.025      0.975]\n",
      "---------------------------------------------------------------------------------------------\n",
      "const                       -23.0040    422.657     -0.054      0.957    -851.397     805.389\n",
      "Man                          -0.1680      0.061     -2.763      0.006      -0.287      -0.049\n",
      "Indigenous                    0.1013      0.158      0.641      0.521      -0.208       0.411\n",
      "Black                         0.1970      0.100      1.977      0.048       0.002       0.392\n",
      "White                         0.0920      0.096      0.961      0.337      -0.096       0.280\n",
      "East_Southeast_Asian         -0.1081      0.138     -0.784      0.433      -0.378       0.162\n",
      "Latino                        0.2255      0.179      1.261      0.207      -0.125       0.576\n",
      "Middle_Eastern                0.1777      0.141      1.260      0.208      -0.099       0.454\n",
      "South_Asian                   0.0285      0.142      0.201      0.841      -0.250       0.307\n",
      "Aged_17_years_and_younger     0.4773      0.094      5.086      0.000       0.293       0.661\n",
      "Aged_18_to_24_years          -0.2351      0.052     -4.508      0.000      -0.337      -0.133\n",
      "Aged_65_years_and_older       0.1434      0.182      0.789      0.430      -0.213       0.500\n",
      "StripSearch                  22.5530    422.657      0.053      0.957    -805.840     850.946\n",
      "=============================================================================================\n",
      "\n",
      "Possibly complete quasi-separation: A fraction 0.88 of observations can be\n",
      "perfectly predicted. This might indicate that there is complete\n",
      "quasi-separation. In this case some parameters will not be identified.\n"
     ]
    },
    {
     "name": "stderr",
     "output_type": "stream",
     "text": [
      "/Users/ruiyuema/opt/anaconda3/lib/python3.7/site-packages/statsmodels/base/model.py:568: ConvergenceWarning: Maximum Likelihood optimization failed to converge. Check mle_retvals\n",
      "  \"Check mle_retvals\", ConvergenceWarning)\n"
     ]
    }
   ],
   "source": [
    "import statsmodels.api as sm\n",
    "\n",
    "# Add a constant term to the independent variables\n",
    "X = sm.add_constant(X)\n",
    "\n",
    "# create a logistic regression model\n",
    "logit_model = sm.Logit(y, X)\n",
    "result = logit_model.fit()\n",
    "\n",
    "# print out a summary of the model\n",
    "print(result.summary())"
   ]
  },
  {
   "cell_type": "code",
   "execution_count": 201,
   "metadata": {},
   "outputs": [
    {
     "data": {
      "text/plain": [
       "const                        1.022084e-10\n",
       "Man                          8.453593e-01\n",
       "Indigenous                   1.106558e+00\n",
       "Black                        1.217760e+00\n",
       "White                        1.096358e+00\n",
       "East_Southeast_Asian         8.975403e-01\n",
       "Latino                       1.252894e+00\n",
       "Middle_Eastern               1.194513e+00\n",
       "South_Asian                  1.028948e+00\n",
       "Aged_17_years_and_younger    1.611725e+00\n",
       "Aged_18_to_24_years          7.904902e-01\n",
       "Aged_65_years_and_older      1.154176e+00\n",
       "StripSearch                  6.232101e+09\n",
       "dtype: float64"
      ]
     },
     "execution_count": 201,
     "metadata": {},
     "output_type": "execute_result"
    }
   ],
   "source": [
    "#getting odds ratio \n",
    "np.exp(result.params)"
   ]
  },
  {
   "cell_type": "code",
   "execution_count": 202,
   "metadata": {},
   "outputs": [
    {
     "name": "stdout",
     "output_type": "stream",
     "text": [
      "AUC-ROC score: 0.9670110393191721\n"
     ]
    }
   ],
   "source": [
    "lr = LogisticRegression()\n",
    "lr.fit(X_train, y_train)\n",
    "\n",
    "# predict the probability of items being found in the testing set\n",
    "y_pred_proba = lr.predict_proba(X_test)[:, 1]\n",
    "\n",
    "# evaluate the model's performance using the AUC-ROC score\n",
    "from sklearn.metrics import roc_auc_score\n",
    "print('AUC-ROC score:', roc_auc_score(y_test, y_pred_proba))"
   ]
  },
  {
   "cell_type": "code",
   "execution_count": 203,
   "metadata": {},
   "outputs": [
    {
     "name": "stdout",
     "output_type": "stream",
     "text": [
      "[[12453    21]\n",
      " [  564    18]]\n"
     ]
    }
   ],
   "source": [
    "from sklearn.metrics import confusion_matrix\n",
    "\n",
    "# make predictions on the test set\n",
    "y_pred = lr.predict(X_test)\n",
    "\n",
    "# generate confusion matrix\n",
    "cm = confusion_matrix(y_test, y_pred)\n",
    "\n",
    "print(cm)"
   ]
  },
  {
   "cell_type": "code",
   "execution_count": 204,
   "metadata": {},
   "outputs": [
    {
     "data": {
      "text/plain": [
       "<matplotlib.axes._subplots.AxesSubplot at 0x7fddefbd8150>"
      ]
     },
     "execution_count": 204,
     "metadata": {},
     "output_type": "execute_result"
    },
    {
     "data": {
      "image/png": "[encoded data removed]",
      "text/plain": [
       "<Figure size 576x396 with 2 Axes>"
      ]
     },
     "metadata": {},
     "output_type": "display_data"
    }
   ],
   "source": [
    "import seaborn as sns\n",
    "\n",
    "sns.heatmap(cm, annot=True, fmt='g')"
   ]
  },
  {
   "cell_type": "code",
   "execution_count": 205,
   "metadata": {},
   "outputs": [
    {
     "data": {
      "text/plain": [
       "<sklearn.metrics._plot.roc_curve.RocCurveDisplay at 0x7fddecba36d0>"
      ]
     },
     "execution_count": 205,
     "metadata": {},
     "output_type": "execute_result"
    },
    {
     "data": {
      "image/png": "[encoded data removed]",
      "text/plain": [
       "<Figure size 576x396 with 1 Axes>"
      ]
     },
     "metadata": {},
     "output_type": "display_data"
    }
   ],
   "source": [
    "from sklearn.metrics import plot_roc_curve\n",
    "\n",
    "# plot the ROC curve\n",
    "plot_roc_curve(lr, X_test, y_test)\n"
   ]
  },
  {
   "cell_type": "code",
   "execution_count": 206,
   "metadata": {},
   "outputs": [
    {
     "data": {
      "image/png": "[encoded data removed]",
      "text/plain": [
       "<Figure size 576x396 with 1 Axes>"
      ]
     },
     "metadata": {},
     "output_type": "display_data"
    }
   ],
   "source": [
    "import numpy as np\n",
    "import matplotlib.pyplot as plt\n",
    "\n",
    "# Apply logistic regression model to predict the probability of the class 0 (Items NOT found)\n",
    "#y_pred = lr.predict_proba(X_test)[:, 0]\n",
    "y_pred=lr.predict(X_test)\n",
    "# Calculate the mean and standard error of the predictions\n",
    "y_mean = np.mean(y_pred)\n",
    "se = np.sqrt((y_pred * (1 - y_pred)) / len(y_pred))\n",
    "\n",
    "# Calculate the 95% prediction interval (1.96 * standard error)\n",
    "y_std = se * 1.96\n",
    "\n",
    "# Create the plot\n",
    "plt.fill_between(range(len(y_pred)),\n",
    "                 y_mean - y_std,\n",
    "                 y_mean + y_std,\n",
    "                 alpha=.1,\n",
    "                 color='blue',\n",
    "                 label='Prediction Interval',\n",
    "                 linewidth=2)\n",
    "\n",
    "\n",
    "plt.legend()\n",
    "plt.xlabel('X')\n",
    "plt.ylabel('Y')\n",
    "plt.show()\n"
   ]
  },
  {
   "cell_type": "code",
   "execution_count": null,
   "metadata": {},
   "outputs": [],
   "source": []
  }
 ],
 "metadata": {
  "kernelspec": {
   "display_name": "Python 3",
   "language": "python",
   "name": "python3"
  },
  "language_info": {
   "codemirror_mode": {
    "name": "ipython",
    "version": 3
   },
   "file_extension": ".py",
   "mimetype": "text/x-python",
   "name": "python",
   "nbconvert_exporter": "python",
   "pygments_lexer": "ipython3",
   "version": "3.7.6"
  }
 },
 "nbformat": 4,
 "nbformat_minor": 4
}
