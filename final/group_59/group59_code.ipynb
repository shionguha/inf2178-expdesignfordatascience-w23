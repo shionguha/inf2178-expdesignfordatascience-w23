{
 "cells": [
  {
   "cell_type": "markdown",
   "metadata": {
    "colab_type": "text",
    "id": "view-in-github"
   },
   "source": [
    "<a href=\"https://colab.research.google.com/github/shionguha/inf2178-expdesignfordatascience-w23/blob/main/notebooks/t_tests.ipynb\" target=\"_parent\"><img src=\"https://colab.research.google.com/assets/colab-badge.svg\" alt=\"Open In Colab\"/></a>"
   ]
  },
  {
   "cell_type": "markdown",
   "metadata": {},
   "source": [
    "***Class***\n",
    "INF2178 \n",
    "\n",
    "***Authors***\n",
    "Yu Wan, Kristina Foster\n",
    "\n",
    "***Date***\n",
    "April 16th, 2023"
   ]
  },
  {
   "cell_type": "markdown",
   "metadata": {},
   "source": [
    "# Imports and Preprocessing"
   ]
  },
  {
   "cell_type": "code",
   "execution_count": 2,
   "metadata": {
    "colab": {
     "base_uri": "https://localhost:8080/"
    },
    "id": "NOHSRmy0UORF",
    "outputId": "1a82fde9-73c4-45ed-c4b4-aa4170ad1e8b"
   },
   "outputs": [],
   "source": [
    "# import libraries\n",
    "import numpy as np\n",
    "import pandas as pd\n",
    "import statsmodels.api as sm\n",
    "import matplotlib.pyplot as plt\n",
    "from math import sqrt\n",
    "from statsmodels.stats.power import TTestIndPower\n",
    "import seaborn as sns\n",
    "import plotly.express as px\n",
    "from statsmodels.stats.proportion import proportions_ztest\n",
    "from scipy.stats import chi2_contingency\n",
    "from scipy import stats \n",
    "from scipy.stats import ttest_ind\n",
    "import statsmodels.stats.power as smp\n",
    "from statsmodels.formula.api import ols\n",
    "from statsmodels.stats.anova import anova_lm\n",
    "from statsmodels.graphics.factorplots import interaction_plot\n",
    "import matplotlib.pyplot as plt\n",
    "from scipy import stats\n",
    "from sklearn.datasets import make_classification\n",
    "\n",
    "#Clean data\n",
    "def cleandata(filename):\n",
    "    \"\"\"\n",
    "    Takes in csv file name in the format 'file_name.csv'\n",
    "    Collapses Action at Arrest variables into a list of actions associated with each arrest\n",
    "    Returns cleaned dataframe \n",
    "    \"\"\"\n",
    "    event_data = pd.read_csv(filename)\n",
    "    \n",
    "    # Checking for duplicate rows\n",
    "    duplicate_rows_df = event_data[event_data.duplicated()]\n",
    "    print('Number of duplicate rows: ', duplicate_rows_df.shape)\n",
    "    \n",
    "    # Remove \"Nan\" and \"Legacy\" arrests from the dataset\n",
    "    event_data = event_data[(event_data['Perceived_Race'] != 'Unknown or Legacy')]\n",
    "    \n",
    "    return event_data"
   ]
  },
  {
   "cell_type": "markdown",
   "metadata": {},
   "source": [
    "# Experimental Design Analysis"
   ]
  },
  {
   "cell_type": "markdown",
   "metadata": {},
   "source": [
    "## Attributes and levels for arrest_data\n",
    "\n",
    "### Observational units\n",
    "\n",
    "* Arrest \n",
    "\n",
    "### Race\n",
    "Represents the race that the officers perceived when looking at the arrestee.\n",
    "\n",
    "dataType = Object\n",
    "* 'White'\n",
    "* 'Unknown or Legacy'\n",
    "* 'Black'\n",
    "* 'South Asian'\n",
    "* 'Indigenous',\n",
    "* 'Middle-Eastern'\n",
    "* 'Latino', \n",
    "* 'East/Southeast Asian'\n",
    "* NaN\n",
    "\n",
    "### Sex\n",
    "Represents the sex assigned at birth for the arrestee.\n",
    "\n",
    "dataType = Object\n",
    "* F — Female\n",
    "* M — Male\n",
    "* U — Unknown\n",
    "\n",
    "### Age\n",
    "dataType = Object\n",
    "* 'Aged 17 years and under'\n",
    "* 'Aged 17 years and younger'\n",
    "* 'Aged 18 to 24 years'\n",
    "* 'Aged 25 to 34 years'\n",
    "* 'Aged 35 to 44 years'\n",
    "* 'Aged 45 to 54 years'\n",
    "* 'Aged 55 to 64 years'\n",
    "* 'Aged 65 years and older'\n",
    "* 'Aged 65 and older'\n",
    "\n",
    "### StripSearch\n",
    "Represents if the individual has been strip searched or not.\n",
    "\n",
    "dataType = Integer\n",
    "* 0 — Has not been strip-searched\n",
    "* 1 — Was strip-searched"
   ]
  },
  {
   "cell_type": "markdown",
   "metadata": {},
   "source": [
    "## Exploring frequency across discrete variables"
   ]
  },
  {
   "cell_type": "code",
   "execution_count": 3,
   "metadata": {},
   "outputs": [
    {
     "name": "stdout",
     "output_type": "stream",
     "text": [
      "Number of duplicate rows:  (0, 25)\n",
      "Number of unique arrests: 60220\n"
     ]
    }
   ],
   "source": [
    "#Generate raw dataset\n",
    "arrest_data = pd.read_csv('inf2178_midterm_data.csv')\n",
    "\n",
    "#for event in event_arrests_data:\n",
    "arrest_data = cleandata('inf2178_midterm_data.csv')\n",
    "print(\"Number of unique arrests: \" + str(arrest_data.shape[0]))"
   ]
  },
  {
   "cell_type": "markdown",
   "metadata": {},
   "source": [
    "## Discrete marginal distributions"
   ]
  },
  {
   "cell_type": "code",
   "execution_count": 4,
   "metadata": {},
   "outputs": [],
   "source": [
    "#Create discrete continuous variable for marginal distribution across arrest reasons\n",
    "\n",
    "#Function to return a PMF of an array of variables\n",
    "#Source: https://allendowney.github.io/BiteSizeBayes/10_joint.html\n",
    "def pmf_from_seq(seq):\n",
    "    \"\"\"Make a PMF from a sequence of values.\n",
    "    \n",
    "    seq: sequence\n",
    "    \n",
    "    returns: Series representing a PMF\n",
    "    \"\"\"\n",
    "    pmf = pd.Series(seq).value_counts(sort=False).sort_index()\n",
    "    pmf /= pmf.sum()\n",
    "    return pmf"
   ]
  },
  {
   "cell_type": "markdown",
   "metadata": {},
   "source": [
    "### Perceived Race"
   ]
  },
  {
   "cell_type": "code",
   "execution_count": 5,
   "metadata": {},
   "outputs": [
    {
     "data": {
      "image/png": "[encoded data removed]",
      "text/plain": [
       "<Figure size 640x480 with 1 Axes>"
      ]
     },
     "metadata": {},
     "output_type": "display_data"
    }
   ],
   "source": [
    "#PMF for perceived race\n",
    "race_arrest = pmf_from_seq(arrest_data[\"Perceived_Race\"])\n",
    "race_arrest.plot.bar(color='C0', alpha=0.5)\n",
    "plt.xlabel('Race')\n",
    "plt.ylabel('Probability')\n",
    "plt.title('Distribution for Probability of Race');"
   ]
  },
  {
   "cell_type": "markdown",
   "metadata": {},
   "source": [
    "### Sex"
   ]
  },
  {
   "cell_type": "code",
   "execution_count": 6,
   "metadata": {},
   "outputs": [
    {
     "data": {
      "image/png": "[encoded data removed]",
      "text/plain": [
       "<Figure size 640x480 with 1 Axes>"
      ]
     },
     "metadata": {},
     "output_type": "display_data"
    }
   ],
   "source": [
    "#PMF for sex\n",
    "sex_arrest = pmf_from_seq(arrest_data[\"Sex\"])\n",
    "sex_arrest.plot.bar(color='C1', alpha=0.5)\n",
    "plt.xlabel('Sex')\n",
    "plt.ylabel('Probability')\n",
    "plt.title('Distribution for Probability of Sex');"
   ]
  },
  {
   "cell_type": "markdown",
   "metadata": {},
   "source": [
    "### Age"
   ]
  },
  {
   "cell_type": "code",
   "execution_count": 7,
   "metadata": {},
   "outputs": [
    {
     "data": {
      "image/png": "[encoded data removed]",
      "text/plain": [
       "<Figure size 640x480 with 1 Axes>"
      ]
     },
     "metadata": {},
     "output_type": "display_data"
    }
   ],
   "source": [
    "#PMF for age\n",
    "age_arrest = pmf_from_seq(arrest_data[\"Age_group__at_arrest_\"])\n",
    "age_arrest.plot.bar(color='C2', alpha=0.5)\n",
    "plt.xlabel('Age')\n",
    "plt.ylabel('Probability')\n",
    "plt.title('Distribution for Probability of Age');"
   ]
  },
  {
   "cell_type": "markdown",
   "metadata": {},
   "source": [
    "### Strip-Searched"
   ]
  },
  {
   "cell_type": "code",
   "execution_count": 8,
   "metadata": {},
   "outputs": [
    {
     "data": {
      "image/png": "[encoded data removed]",
      "text/plain": [
       "<Figure size 640x480 with 1 Axes>"
      ]
     },
     "metadata": {},
     "output_type": "display_data"
    }
   ],
   "source": [
    "#PMF for strip-searched\n",
    "stripped_arrest = pmf_from_seq(arrest_data[\"StripSearch\"])\n",
    "stripped_arrest.plot.bar(color='C4', alpha=0.5)\n",
    "plt.xlabel('Probability of Strip Search')\n",
    "plt.ylabel('Probability')\n",
    "plt.title('Distribution of Probability for Strip Searches');"
   ]
  },
  {
   "cell_type": "markdown",
   "metadata": {},
   "source": [
    "## Joint Distribution"
   ]
  },
  {
   "cell_type": "code",
   "execution_count": 9,
   "metadata": {},
   "outputs": [],
   "source": [
    "#Source: https://allendowney.github.io/BiteSizeBayes/10_joint.html\n",
    "def plot_heatmap(xtab):\n",
    "    \"\"\"Make a heatmap to represent a cross tabulation.\n",
    "    xtab: DataFrame containing a cross tabulation\n",
    "    \"\"\"\n",
    "    plt.pcolormesh(xtab)\n",
    "\n",
    "    # label the y axis\n",
    "    ys = xtab.index\n",
    "    plt.ylabel(ys.name)\n",
    "    locs = np.arange(len(ys)) + 0.5\n",
    "    plt.yticks(locs, ys)\n",
    "\n",
    "    # label the x axis\n",
    "    xs = xtab.columns\n",
    "    plt.xlabel(xs.name)\n",
    "    locs = np.arange(len(xs)) + 0.5\n",
    "    plt.xticks(locs, xs)\n",
    "    \n",
    "    plt.colorbar()\n",
    "    plt.gca().invert_yaxis()\n"
   ]
  },
  {
   "cell_type": "markdown",
   "metadata": {},
   "source": [
    "### Perceived Race <> Strip Searches"
   ]
  },
  {
   "cell_type": "code",
   "execution_count": 10,
   "metadata": {},
   "outputs": [
    {
     "data": {
      "text/html": [
       "<div>\n",
       "<style scoped>\n",
       "    .dataframe tbody tr th:only-of-type {\n",
       "        vertical-align: middle;\n",
       "    }\n",
       "\n",
       "    .dataframe tbody tr th {\n",
       "        vertical-align: top;\n",
       "    }\n",
       "\n",
       "    .dataframe thead th {\n",
       "        text-align: right;\n",
       "    }\n",
       "</style>\n",
       "<table border=\"1\" class=\"dataframe\">\n",
       "  <thead>\n",
       "    <tr style=\"text-align: right;\">\n",
       "      <th>StripSearch</th>\n",
       "      <th>0</th>\n",
       "      <th>1</th>\n",
       "    </tr>\n",
       "    <tr>\n",
       "      <th>Perceived_Race</th>\n",
       "      <th></th>\n",
       "      <th></th>\n",
       "    </tr>\n",
       "  </thead>\n",
       "  <tbody>\n",
       "    <tr>\n",
       "      <th>Black</th>\n",
       "      <td>0.250631</td>\n",
       "      <td>0.040421</td>\n",
       "    </tr>\n",
       "    <tr>\n",
       "      <th>East/Southeast Asian</th>\n",
       "      <td>0.067656</td>\n",
       "      <td>0.005663</td>\n",
       "    </tr>\n",
       "    <tr>\n",
       "      <th>Indigenous</th>\n",
       "      <td>0.027036</td>\n",
       "      <td>0.005082</td>\n",
       "    </tr>\n",
       "    <tr>\n",
       "      <th>Latino</th>\n",
       "      <td>0.027169</td>\n",
       "      <td>0.002192</td>\n",
       "    </tr>\n",
       "    <tr>\n",
       "      <th>Middle-Eastern</th>\n",
       "      <td>0.049970</td>\n",
       "      <td>0.003786</td>\n",
       "    </tr>\n",
       "  </tbody>\n",
       "</table>\n",
       "</div>"
      ],
      "text/plain": [
       "StripSearch                  0         1\n",
       "Perceived_Race                          \n",
       "Black                 0.250631  0.040421\n",
       "East/Southeast Asian  0.067656  0.005663\n",
       "Indigenous            0.027036  0.005082\n",
       "Latino                0.027169  0.002192\n",
       "Middle-Eastern        0.049970  0.003786"
      ]
     },
     "execution_count": 10,
     "metadata": {},
     "output_type": "execute_result"
    }
   ],
   "source": [
    "#Constructing crosstab for Joint PMF\n",
    "ct_race_stripsearch = pd.crosstab(index=arrest_data[\"Perceived_Race\"], columns=arrest_data[\"StripSearch\"], normalize=True)\n",
    "\n",
    "#Display header of Joint PMF\n",
    "ct_race_stripsearch.head()"
   ]
  },
  {
   "cell_type": "markdown",
   "metadata": {},
   "source": [
    "### Sex <> Strip Searches"
   ]
  },
  {
   "cell_type": "code",
   "execution_count": 11,
   "metadata": {},
   "outputs": [
    {
     "data": {
      "text/html": [
       "<div>\n",
       "<style scoped>\n",
       "    .dataframe tbody tr th:only-of-type {\n",
       "        vertical-align: middle;\n",
       "    }\n",
       "\n",
       "    .dataframe tbody tr th {\n",
       "        vertical-align: top;\n",
       "    }\n",
       "\n",
       "    .dataframe thead th {\n",
       "        text-align: right;\n",
       "    }\n",
       "</style>\n",
       "<table border=\"1\" class=\"dataframe\">\n",
       "  <thead>\n",
       "    <tr style=\"text-align: right;\">\n",
       "      <th>StripSearch</th>\n",
       "      <th>0</th>\n",
       "      <th>1</th>\n",
       "    </tr>\n",
       "    <tr>\n",
       "      <th>Sex</th>\n",
       "      <th></th>\n",
       "      <th></th>\n",
       "    </tr>\n",
       "  </thead>\n",
       "  <tbody>\n",
       "    <tr>\n",
       "      <th>F</th>\n",
       "      <td>0.174427</td>\n",
       "      <td>0.019711</td>\n",
       "    </tr>\n",
       "    <tr>\n",
       "      <th>M</th>\n",
       "      <td>0.704832</td>\n",
       "      <td>0.100930</td>\n",
       "    </tr>\n",
       "    <tr>\n",
       "      <th>U</th>\n",
       "      <td>0.000100</td>\n",
       "      <td>0.000000</td>\n",
       "    </tr>\n",
       "  </tbody>\n",
       "</table>\n",
       "</div>"
      ],
      "text/plain": [
       "StripSearch         0         1\n",
       "Sex                            \n",
       "F            0.174427  0.019711\n",
       "M            0.704832  0.100930\n",
       "U            0.000100  0.000000"
      ]
     },
     "execution_count": 11,
     "metadata": {},
     "output_type": "execute_result"
    }
   ],
   "source": [
    "#Constructing crosstab for Joint PMF\n",
    "ct_sex_stripsearch = pd.crosstab(index=arrest_data[\"Sex\"], columns=arrest_data[\"StripSearch\"], normalize=True)\n",
    "\n",
    "#Display header of Joint PMF\n",
    "ct_sex_stripsearch.head()"
   ]
  },
  {
   "cell_type": "markdown",
   "metadata": {},
   "source": [
    "### Age <> Strip Searches"
   ]
  },
  {
   "cell_type": "code",
   "execution_count": 12,
   "metadata": {},
   "outputs": [
    {
     "data": {
      "text/html": [
       "<div>\n",
       "<style scoped>\n",
       "    .dataframe tbody tr th:only-of-type {\n",
       "        vertical-align: middle;\n",
       "    }\n",
       "\n",
       "    .dataframe tbody tr th {\n",
       "        vertical-align: top;\n",
       "    }\n",
       "\n",
       "    .dataframe thead th {\n",
       "        text-align: right;\n",
       "    }\n",
       "</style>\n",
       "<table border=\"1\" class=\"dataframe\">\n",
       "  <thead>\n",
       "    <tr style=\"text-align: right;\">\n",
       "      <th>StripSearch</th>\n",
       "      <th>0</th>\n",
       "      <th>1</th>\n",
       "    </tr>\n",
       "    <tr>\n",
       "      <th>Age_group__at_arrest_</th>\n",
       "      <th></th>\n",
       "      <th></th>\n",
       "    </tr>\n",
       "  </thead>\n",
       "  <tbody>\n",
       "    <tr>\n",
       "      <th>Aged 17 years and under</th>\n",
       "      <td>0.020616</td>\n",
       "      <td>0.000150</td>\n",
       "    </tr>\n",
       "    <tr>\n",
       "      <th>Aged 17 years and younger</th>\n",
       "      <td>0.022011</td>\n",
       "      <td>0.004153</td>\n",
       "    </tr>\n",
       "    <tr>\n",
       "      <th>Aged 18 to 24 years</th>\n",
       "      <td>0.131900</td>\n",
       "      <td>0.020682</td>\n",
       "    </tr>\n",
       "    <tr>\n",
       "      <th>Aged 25 to 34 years</th>\n",
       "      <td>0.278120</td>\n",
       "      <td>0.042544</td>\n",
       "    </tr>\n",
       "    <tr>\n",
       "      <th>Aged 35 to 44 years</th>\n",
       "      <td>0.217287</td>\n",
       "      <td>0.032709</td>\n",
       "    </tr>\n",
       "  </tbody>\n",
       "</table>\n",
       "</div>"
      ],
      "text/plain": [
       "StripSearch                       0         1\n",
       "Age_group__at_arrest_                        \n",
       "Aged 17 years and under    0.020616  0.000150\n",
       "Aged 17 years and younger  0.022011  0.004153\n",
       "Aged 18 to 24 years        0.131900  0.020682\n",
       "Aged 25 to 34 years        0.278120  0.042544\n",
       "Aged 35 to 44 years        0.217287  0.032709"
      ]
     },
     "execution_count": 12,
     "metadata": {},
     "output_type": "execute_result"
    }
   ],
   "source": [
    "#Constructing crosstab for Joint PMF\n",
    "ct_age_stripsearch = pd.crosstab(index=arrest_data[\"Age_group__at_arrest_\"], columns=arrest_data[\"StripSearch\"], normalize=True)\n",
    "\n",
    "#Display header of Joint PMF\n",
    "ct_age_stripsearch.head()"
   ]
  },
  {
   "cell_type": "markdown",
   "metadata": {},
   "source": [
    "## Joint Distribution Scatterplots"
   ]
  },
  {
   "cell_type": "markdown",
   "metadata": {},
   "source": [
    "### Perceived Race <> Strip Searches"
   ]
  },
  {
   "cell_type": "code",
   "execution_count": 13,
   "metadata": {},
   "outputs": [
    {
     "data": {
      "text/html": [
       "<div>\n",
       "<style scoped>\n",
       "    .dataframe tbody tr th:only-of-type {\n",
       "        vertical-align: middle;\n",
       "    }\n",
       "\n",
       "    .dataframe tbody tr th {\n",
       "        vertical-align: top;\n",
       "    }\n",
       "\n",
       "    .dataframe thead th {\n",
       "        text-align: right;\n",
       "    }\n",
       "</style>\n",
       "<table border=\"1\" class=\"dataframe\">\n",
       "  <thead>\n",
       "    <tr style=\"text-align: right;\">\n",
       "      <th></th>\n",
       "      <th>Arrest_Year</th>\n",
       "      <th>Arrest_Month</th>\n",
       "      <th>EventID</th>\n",
       "      <th>ArrestID</th>\n",
       "      <th>PersonID</th>\n",
       "      <th>Perceived_Race</th>\n",
       "      <th>Sex</th>\n",
       "      <th>Age_group__at_arrest_</th>\n",
       "      <th>Youth_at_arrest__under_18_years</th>\n",
       "      <th>ArrestLocDiv</th>\n",
       "      <th>...</th>\n",
       "      <th>SearchReason_CauseInjury</th>\n",
       "      <th>SearchReason_AssistEscape</th>\n",
       "      <th>SearchReason_PossessWeapons</th>\n",
       "      <th>SearchReason_PossessEvidence</th>\n",
       "      <th>ItemsFound</th>\n",
       "      <th>ObjectId</th>\n",
       "      <th>Race_joint</th>\n",
       "      <th>Race_joint2</th>\n",
       "      <th>Perceived_Race_joint_merged</th>\n",
       "      <th>Perceived_Race_Category</th>\n",
       "    </tr>\n",
       "  </thead>\n",
       "  <tbody>\n",
       "    <tr>\n",
       "      <th>12</th>\n",
       "      <td>2021</td>\n",
       "      <td>Apr-June</td>\n",
       "      <td>1039002</td>\n",
       "      <td>6030241.0</td>\n",
       "      <td>330778</td>\n",
       "      <td>Black</td>\n",
       "      <td>M</td>\n",
       "      <td>Aged 25 to 34 years</td>\n",
       "      <td>Not a youth</td>\n",
       "      <td>53</td>\n",
       "      <td>...</td>\n",
       "      <td>1.0</td>\n",
       "      <td>1.0</td>\n",
       "      <td>1.0</td>\n",
       "      <td>0.0</td>\n",
       "      <td>0.0</td>\n",
       "      <td>13</td>\n",
       "      <td>0.335031</td>\n",
       "      <td>NaN</td>\n",
       "      <td>0.335031</td>\n",
       "      <td>0</td>\n",
       "    </tr>\n",
       "    <tr>\n",
       "      <th>14</th>\n",
       "      <td>2020</td>\n",
       "      <td>Apr-June</td>\n",
       "      <td>1045382</td>\n",
       "      <td>6057058.0</td>\n",
       "      <td>312724</td>\n",
       "      <td>Black</td>\n",
       "      <td>M</td>\n",
       "      <td>Aged 25 to 34 years</td>\n",
       "      <td>Not a youth</td>\n",
       "      <td>53</td>\n",
       "      <td>...</td>\n",
       "      <td>1.0</td>\n",
       "      <td>1.0</td>\n",
       "      <td>1.0</td>\n",
       "      <td>0.0</td>\n",
       "      <td>0.0</td>\n",
       "      <td>15</td>\n",
       "      <td>0.335031</td>\n",
       "      <td>NaN</td>\n",
       "      <td>0.335031</td>\n",
       "      <td>0</td>\n",
       "    </tr>\n",
       "    <tr>\n",
       "      <th>33</th>\n",
       "      <td>2021</td>\n",
       "      <td>Jan-Mar</td>\n",
       "      <td>1026070</td>\n",
       "      <td>6064426.0</td>\n",
       "      <td>323427</td>\n",
       "      <td>White</td>\n",
       "      <td>M</td>\n",
       "      <td>Aged 35 to 44 years</td>\n",
       "      <td>Not a youth</td>\n",
       "      <td>53</td>\n",
       "      <td>...</td>\n",
       "      <td>0.0</td>\n",
       "      <td>0.0</td>\n",
       "      <td>1.0</td>\n",
       "      <td>1.0</td>\n",
       "      <td>0.0</td>\n",
       "      <td>34</td>\n",
       "      <td>0.490847</td>\n",
       "      <td>NaN</td>\n",
       "      <td>0.490847</td>\n",
       "      <td>6</td>\n",
       "    </tr>\n",
       "    <tr>\n",
       "      <th>38</th>\n",
       "      <td>2020</td>\n",
       "      <td>Apr-June</td>\n",
       "      <td>1028958</td>\n",
       "      <td>6057012.0</td>\n",
       "      <td>319209</td>\n",
       "      <td>Latino</td>\n",
       "      <td>M</td>\n",
       "      <td>Aged 18 to 24 years</td>\n",
       "      <td>Not a youth</td>\n",
       "      <td>XX</td>\n",
       "      <td>...</td>\n",
       "      <td>1.0</td>\n",
       "      <td>0.0</td>\n",
       "      <td>1.0</td>\n",
       "      <td>0.0</td>\n",
       "      <td>0.0</td>\n",
       "      <td>39</td>\n",
       "      <td>0.018169</td>\n",
       "      <td>NaN</td>\n",
       "      <td>0.018169</td>\n",
       "      <td>3</td>\n",
       "    </tr>\n",
       "    <tr>\n",
       "      <th>42</th>\n",
       "      <td>2020</td>\n",
       "      <td>July-Sept</td>\n",
       "      <td>1026364</td>\n",
       "      <td>6027584.0</td>\n",
       "      <td>316419</td>\n",
       "      <td>South Asian</td>\n",
       "      <td>F</td>\n",
       "      <td>Aged 25 to 34 years</td>\n",
       "      <td>Not a youth</td>\n",
       "      <td>52</td>\n",
       "      <td>...</td>\n",
       "      <td>1.0</td>\n",
       "      <td>0.0</td>\n",
       "      <td>0.0</td>\n",
       "      <td>0.0</td>\n",
       "      <td>0.0</td>\n",
       "      <td>43</td>\n",
       "      <td>0.035375</td>\n",
       "      <td>NaN</td>\n",
       "      <td>0.035375</td>\n",
       "      <td>5</td>\n",
       "    </tr>\n",
       "  </tbody>\n",
       "</table>\n",
       "<p>5 rows × 29 columns</p>\n",
       "</div>"
      ],
      "text/plain": [
       "    Arrest_Year Arrest_Month  EventID   ArrestID  PersonID Perceived_Race Sex  \\\n",
       "12         2021     Apr-June  1039002  6030241.0    330778          Black   M   \n",
       "14         2020     Apr-June  1045382  6057058.0    312724          Black   M   \n",
       "33         2021      Jan-Mar  1026070  6064426.0    323427          White   M   \n",
       "38         2020     Apr-June  1028958  6057012.0    319209         Latino   M   \n",
       "42         2020    July-Sept  1026364  6027584.0    316419    South Asian   F   \n",
       "\n",
       "   Age_group__at_arrest_ Youth_at_arrest__under_18_years ArrestLocDiv  ...  \\\n",
       "12   Aged 25 to 34 years                     Not a youth           53  ...   \n",
       "14   Aged 25 to 34 years                     Not a youth           53  ...   \n",
       "33   Aged 35 to 44 years                     Not a youth           53  ...   \n",
       "38   Aged 18 to 24 years                     Not a youth           XX  ...   \n",
       "42   Aged 25 to 34 years                     Not a youth           52  ...   \n",
       "\n",
       "    SearchReason_CauseInjury  SearchReason_AssistEscape  \\\n",
       "12                       1.0                        1.0   \n",
       "14                       1.0                        1.0   \n",
       "33                       0.0                        0.0   \n",
       "38                       1.0                        0.0   \n",
       "42                       1.0                        0.0   \n",
       "\n",
       "   SearchReason_PossessWeapons  SearchReason_PossessEvidence  ItemsFound  \\\n",
       "12                         1.0                           0.0         0.0   \n",
       "14                         1.0                           0.0         0.0   \n",
       "33                         1.0                           1.0         0.0   \n",
       "38                         1.0                           0.0         0.0   \n",
       "42                         0.0                           0.0         0.0   \n",
       "\n",
       "    ObjectId  Race_joint  Race_joint2  Perceived_Race_joint_merged  \\\n",
       "12        13    0.335031          NaN                     0.335031   \n",
       "14        15    0.335031          NaN                     0.335031   \n",
       "33        34    0.490847          NaN                     0.490847   \n",
       "38        39    0.018169          NaN                     0.018169   \n",
       "42        43    0.035375          NaN                     0.035375   \n",
       "\n",
       "    Perceived_Race_Category  \n",
       "12                        0  \n",
       "14                        0  \n",
       "33                        6  \n",
       "38                        3  \n",
       "42                        5  \n",
       "\n",
       "[5 rows x 29 columns]"
      ]
     },
     "execution_count": 13,
     "metadata": {},
     "output_type": "execute_result"
    }
   ],
   "source": [
    "#Create Occurrence Category joint distributions for race and strip-searches\n",
    "stripped_race = arrest_data[arrest_data['StripSearch'] == 1].copy()\n",
    "not_stripped_race = arrest_data[arrest_data[\"StripSearch\"] != 1].copy()\n",
    "\n",
    "#determine normalized joint distribution for strip-searches\n",
    "joint_freq_stripped_race = stripped_race['Perceived_Race'].value_counts()/7265\n",
    "joint_freq_not_stripped_race = not_stripped_race['Perceived_Race'].value_counts()/52955\n",
    "\n",
    "#Add columns store joint distributions frequency of levels of perceived race\n",
    "stripped_race['Race_joint'] = stripped_race['Perceived_Race'].map(joint_freq_stripped_race)\n",
    "not_stripped_race['Race_joint2'] = not_stripped_race['Perceived_Race'].map(joint_freq_not_stripped_race)\n",
    "                                                 \n",
    "#Concatenate datasets\n",
    "arrest_data = pd.concat([stripped_race,not_stripped_race]).copy()\n",
    "\n",
    "#Merge both joint distributions into one column\n",
    "arrest_data['Perceived_Race_joint_merged'] = arrest_data[['Race_joint','Race_joint2']].bfill(axis=1).iloc[:, 0]\n",
    "\n",
    "#Add a categorical scale for race\n",
    "arrest_data[\"Perceived_Race\"] = arrest_data[\"Perceived_Race\"].astype('category')\n",
    "arrest_data[\"Perceived_Race_Category\"] = arrest_data[\"Perceived_Race\"].cat.codes\n",
    "\n",
    "arrest_data.head()"
   ]
  },
  {
   "cell_type": "code",
   "execution_count": 14,
   "metadata": {
    "scrolled": false
   },
   "outputs": [
    {
     "data": {
      "image/png": "[encoded data removed]",
      "text/plain": [
       "<Figure size 640x480 with 1 Axes>"
      ]
     },
     "metadata": {},
     "output_type": "display_data"
    }
   ],
   "source": [
    "#Interaction for joint race <> strip-search\n",
    "strip_search = arrest_data[\"StripSearch\"].astype(\"category\")\n",
    "joint_occur_freq = arrest_data[\"Perceived_Race_joint_merged\"].values\n",
    "\n",
    "interaction_plot_freq = interaction_plot(arrest_data[\"Perceived_Race_Category\"], strip_search, joint_occur_freq, ms=10)\n",
    "plt.ylabel('Mean Frequencies for Joint Distribution')\n",
    "plt.xlabel('Race Levels')\n",
    "plt.title('Joint mean frequency of race <> stripsearch over Preceived Race', fontweight='bold')\n",
    "plt.show()"
   ]
  },
  {
   "cell_type": "markdown",
   "metadata": {},
   "source": [
    "### Sex <> Strip Searches"
   ]
  },
  {
   "cell_type": "code",
   "execution_count": 15,
   "metadata": {},
   "outputs": [
    {
     "data": {
      "text/html": [
       "<div>\n",
       "<style scoped>\n",
       "    .dataframe tbody tr th:only-of-type {\n",
       "        vertical-align: middle;\n",
       "    }\n",
       "\n",
       "    .dataframe tbody tr th {\n",
       "        vertical-align: top;\n",
       "    }\n",
       "\n",
       "    .dataframe thead th {\n",
       "        text-align: right;\n",
       "    }\n",
       "</style>\n",
       "<table border=\"1\" class=\"dataframe\">\n",
       "  <thead>\n",
       "    <tr style=\"text-align: right;\">\n",
       "      <th></th>\n",
       "      <th>Arrest_Year</th>\n",
       "      <th>Arrest_Month</th>\n",
       "      <th>EventID</th>\n",
       "      <th>ArrestID</th>\n",
       "      <th>PersonID</th>\n",
       "      <th>Perceived_Race</th>\n",
       "      <th>Sex</th>\n",
       "      <th>Age_group__at_arrest_</th>\n",
       "      <th>Youth_at_arrest__under_18_years</th>\n",
       "      <th>ArrestLocDiv</th>\n",
       "      <th>...</th>\n",
       "      <th>SearchReason_PossessEvidence</th>\n",
       "      <th>ItemsFound</th>\n",
       "      <th>ObjectId</th>\n",
       "      <th>Race_joint</th>\n",
       "      <th>Race_joint2</th>\n",
       "      <th>Perceived_Race_joint_merged</th>\n",
       "      <th>Perceived_Race_Category</th>\n",
       "      <th>Sex_joint</th>\n",
       "      <th>Sex_joint2</th>\n",
       "      <th>Sex_joint_merged</th>\n",
       "    </tr>\n",
       "  </thead>\n",
       "  <tbody>\n",
       "    <tr>\n",
       "      <th>12</th>\n",
       "      <td>2021</td>\n",
       "      <td>Apr-June</td>\n",
       "      <td>1039002</td>\n",
       "      <td>6030241.0</td>\n",
       "      <td>330778</td>\n",
       "      <td>Black</td>\n",
       "      <td>M</td>\n",
       "      <td>Aged 25 to 34 years</td>\n",
       "      <td>Not a youth</td>\n",
       "      <td>53</td>\n",
       "      <td>...</td>\n",
       "      <td>0.0</td>\n",
       "      <td>0.0</td>\n",
       "      <td>13</td>\n",
       "      <td>0.335031</td>\n",
       "      <td>NaN</td>\n",
       "      <td>0.335031</td>\n",
       "      <td>0</td>\n",
       "      <td>0.836614</td>\n",
       "      <td>NaN</td>\n",
       "      <td>0.836614</td>\n",
       "    </tr>\n",
       "    <tr>\n",
       "      <th>14</th>\n",
       "      <td>2020</td>\n",
       "      <td>Apr-June</td>\n",
       "      <td>1045382</td>\n",
       "      <td>6057058.0</td>\n",
       "      <td>312724</td>\n",
       "      <td>Black</td>\n",
       "      <td>M</td>\n",
       "      <td>Aged 25 to 34 years</td>\n",
       "      <td>Not a youth</td>\n",
       "      <td>53</td>\n",
       "      <td>...</td>\n",
       "      <td>0.0</td>\n",
       "      <td>0.0</td>\n",
       "      <td>15</td>\n",
       "      <td>0.335031</td>\n",
       "      <td>NaN</td>\n",
       "      <td>0.335031</td>\n",
       "      <td>0</td>\n",
       "      <td>0.836614</td>\n",
       "      <td>NaN</td>\n",
       "      <td>0.836614</td>\n",
       "    </tr>\n",
       "    <tr>\n",
       "      <th>33</th>\n",
       "      <td>2021</td>\n",
       "      <td>Jan-Mar</td>\n",
       "      <td>1026070</td>\n",
       "      <td>6064426.0</td>\n",
       "      <td>323427</td>\n",
       "      <td>White</td>\n",
       "      <td>M</td>\n",
       "      <td>Aged 35 to 44 years</td>\n",
       "      <td>Not a youth</td>\n",
       "      <td>53</td>\n",
       "      <td>...</td>\n",
       "      <td>1.0</td>\n",
       "      <td>0.0</td>\n",
       "      <td>34</td>\n",
       "      <td>0.490847</td>\n",
       "      <td>NaN</td>\n",
       "      <td>0.490847</td>\n",
       "      <td>6</td>\n",
       "      <td>0.836614</td>\n",
       "      <td>NaN</td>\n",
       "      <td>0.836614</td>\n",
       "    </tr>\n",
       "    <tr>\n",
       "      <th>38</th>\n",
       "      <td>2020</td>\n",
       "      <td>Apr-June</td>\n",
       "      <td>1028958</td>\n",
       "      <td>6057012.0</td>\n",
       "      <td>319209</td>\n",
       "      <td>Latino</td>\n",
       "      <td>M</td>\n",
       "      <td>Aged 18 to 24 years</td>\n",
       "      <td>Not a youth</td>\n",
       "      <td>XX</td>\n",
       "      <td>...</td>\n",
       "      <td>0.0</td>\n",
       "      <td>0.0</td>\n",
       "      <td>39</td>\n",
       "      <td>0.018169</td>\n",
       "      <td>NaN</td>\n",
       "      <td>0.018169</td>\n",
       "      <td>3</td>\n",
       "      <td>0.836614</td>\n",
       "      <td>NaN</td>\n",
       "      <td>0.836614</td>\n",
       "    </tr>\n",
       "    <tr>\n",
       "      <th>42</th>\n",
       "      <td>2020</td>\n",
       "      <td>July-Sept</td>\n",
       "      <td>1026364</td>\n",
       "      <td>6027584.0</td>\n",
       "      <td>316419</td>\n",
       "      <td>South Asian</td>\n",
       "      <td>F</td>\n",
       "      <td>Aged 25 to 34 years</td>\n",
       "      <td>Not a youth</td>\n",
       "      <td>52</td>\n",
       "      <td>...</td>\n",
       "      <td>0.0</td>\n",
       "      <td>0.0</td>\n",
       "      <td>43</td>\n",
       "      <td>0.035375</td>\n",
       "      <td>NaN</td>\n",
       "      <td>0.035375</td>\n",
       "      <td>5</td>\n",
       "      <td>0.163386</td>\n",
       "      <td>NaN</td>\n",
       "      <td>0.163386</td>\n",
       "    </tr>\n",
       "  </tbody>\n",
       "</table>\n",
       "<p>5 rows × 32 columns</p>\n",
       "</div>"
      ],
      "text/plain": [
       "    Arrest_Year Arrest_Month  EventID   ArrestID  PersonID Perceived_Race Sex  \\\n",
       "12         2021     Apr-June  1039002  6030241.0    330778          Black   M   \n",
       "14         2020     Apr-June  1045382  6057058.0    312724          Black   M   \n",
       "33         2021      Jan-Mar  1026070  6064426.0    323427          White   M   \n",
       "38         2020     Apr-June  1028958  6057012.0    319209         Latino   M   \n",
       "42         2020    July-Sept  1026364  6027584.0    316419    South Asian   F   \n",
       "\n",
       "   Age_group__at_arrest_ Youth_at_arrest__under_18_years ArrestLocDiv  ...  \\\n",
       "12   Aged 25 to 34 years                     Not a youth           53  ...   \n",
       "14   Aged 25 to 34 years                     Not a youth           53  ...   \n",
       "33   Aged 35 to 44 years                     Not a youth           53  ...   \n",
       "38   Aged 18 to 24 years                     Not a youth           XX  ...   \n",
       "42   Aged 25 to 34 years                     Not a youth           52  ...   \n",
       "\n",
       "    SearchReason_PossessEvidence  ItemsFound ObjectId  Race_joint  \\\n",
       "12                           0.0         0.0       13    0.335031   \n",
       "14                           0.0         0.0       15    0.335031   \n",
       "33                           1.0         0.0       34    0.490847   \n",
       "38                           0.0         0.0       39    0.018169   \n",
       "42                           0.0         0.0       43    0.035375   \n",
       "\n",
       "    Race_joint2  Perceived_Race_joint_merged  Perceived_Race_Category  \\\n",
       "12          NaN                     0.335031                        0   \n",
       "14          NaN                     0.335031                        0   \n",
       "33          NaN                     0.490847                        6   \n",
       "38          NaN                     0.018169                        3   \n",
       "42          NaN                     0.035375                        5   \n",
       "\n",
       "    Sex_joint  Sex_joint2  Sex_joint_merged  \n",
       "12   0.836614         NaN          0.836614  \n",
       "14   0.836614         NaN          0.836614  \n",
       "33   0.836614         NaN          0.836614  \n",
       "38   0.836614         NaN          0.836614  \n",
       "42   0.163386         NaN          0.163386  \n",
       "\n",
       "[5 rows x 32 columns]"
      ]
     },
     "execution_count": 15,
     "metadata": {},
     "output_type": "execute_result"
    }
   ],
   "source": [
    "#Create joint distributions for sex and strip-searches\n",
    "stripped_sex = arrest_data[arrest_data['StripSearch'] == 1].copy()\n",
    "not_stripped_sex = arrest_data[arrest_data[\"StripSearch\"] != 1].copy()\n",
    "\n",
    "#determine normalized joint distribution for strip-searches\n",
    "joint_freq_stripped_sex = stripped_sex['Sex'].value_counts()/7265\n",
    "joint_freq_not_stripped_sex = not_stripped_sex['Sex'].value_counts()/52955\n",
    "\n",
    "#Add columns store joint distributions of frequency levels of Sex\n",
    "stripped_sex['Sex_joint'] = stripped_sex['Sex'].map(joint_freq_stripped_sex)\n",
    "not_stripped_sex['Sex_joint2'] = not_stripped_sex['Sex'].map(joint_freq_not_stripped_sex)\n",
    "                                             \n",
    "#Concatenate datasets\n",
    "arrest_data = pd.concat([stripped_sex,not_stripped_sex]).copy()\n",
    "\n",
    "#Merge both joint distribution columns into one column\n",
    "arrest_data['Sex_joint_merged'] = arrest_data[['Sex_joint','Sex_joint2']].bfill(axis=1).iloc[:, 0]\n",
    "arrest_data.head()"
   ]
  },
  {
   "cell_type": "code",
   "execution_count": 16,
   "metadata": {},
   "outputs": [
    {
     "data": {
      "image/png": "[encoded data removed]",
      "text/plain": [
       "<Figure size 640x480 with 1 Axes>"
      ]
     },
     "metadata": {},
     "output_type": "display_data"
    }
   ],
   "source": [
    "#Interaction for joint sex <> strip-search\n",
    "strip_search = arrest_data[\"StripSearch\"].astype(\"category\")\n",
    "joint_occur_freq = arrest_data[\"Sex_joint_merged\"].values\n",
    "\n",
    "interaction_plot_freq = interaction_plot(arrest_data[\"Sex\"], strip_search, joint_occur_freq, ms=10)\n",
    "plt.ylabel('Mean Frequencies for Joint Distribution')\n",
    "plt.xlabel('Sex Levels')\n",
    "plt.title('Joint mean frequency of sex <> stripsearch over Preceived Race', fontweight='bold')\n",
    "plt.show()"
   ]
  },
  {
   "cell_type": "markdown",
   "metadata": {},
   "source": [
    "### Age <> Strip Searches"
   ]
  },
  {
   "cell_type": "code",
   "execution_count": 17,
   "metadata": {},
   "outputs": [
    {
     "data": {
      "text/html": [
       "<div>\n",
       "<style scoped>\n",
       "    .dataframe tbody tr th:only-of-type {\n",
       "        vertical-align: middle;\n",
       "    }\n",
       "\n",
       "    .dataframe tbody tr th {\n",
       "        vertical-align: top;\n",
       "    }\n",
       "\n",
       "    .dataframe thead th {\n",
       "        text-align: right;\n",
       "    }\n",
       "</style>\n",
       "<table border=\"1\" class=\"dataframe\">\n",
       "  <thead>\n",
       "    <tr style=\"text-align: right;\">\n",
       "      <th></th>\n",
       "      <th>Arrest_Year</th>\n",
       "      <th>Arrest_Month</th>\n",
       "      <th>EventID</th>\n",
       "      <th>ArrestID</th>\n",
       "      <th>PersonID</th>\n",
       "      <th>Perceived_Race</th>\n",
       "      <th>Sex</th>\n",
       "      <th>Age_group__at_arrest_</th>\n",
       "      <th>Youth_at_arrest__under_18_years</th>\n",
       "      <th>ArrestLocDiv</th>\n",
       "      <th>...</th>\n",
       "      <th>Race_joint2</th>\n",
       "      <th>Perceived_Race_joint_merged</th>\n",
       "      <th>Perceived_Race_Category</th>\n",
       "      <th>Sex_joint</th>\n",
       "      <th>Sex_joint2</th>\n",
       "      <th>Sex_joint_merged</th>\n",
       "      <th>Age_joint</th>\n",
       "      <th>Age_joint2</th>\n",
       "      <th>Age_joint_merged</th>\n",
       "      <th>Age_Category</th>\n",
       "    </tr>\n",
       "  </thead>\n",
       "  <tbody>\n",
       "    <tr>\n",
       "      <th>12</th>\n",
       "      <td>2021</td>\n",
       "      <td>Apr-June</td>\n",
       "      <td>1039002</td>\n",
       "      <td>6030241.0</td>\n",
       "      <td>330778</td>\n",
       "      <td>Black</td>\n",
       "      <td>M</td>\n",
       "      <td>Aged 25 to 34 years</td>\n",
       "      <td>Not a youth</td>\n",
       "      <td>53</td>\n",
       "      <td>...</td>\n",
       "      <td>NaN</td>\n",
       "      <td>0.335031</td>\n",
       "      <td>0</td>\n",
       "      <td>0.836614</td>\n",
       "      <td>NaN</td>\n",
       "      <td>0.836614</td>\n",
       "      <td>0.352512</td>\n",
       "      <td>NaN</td>\n",
       "      <td>0.352512</td>\n",
       "      <td>3</td>\n",
       "    </tr>\n",
       "    <tr>\n",
       "      <th>14</th>\n",
       "      <td>2020</td>\n",
       "      <td>Apr-June</td>\n",
       "      <td>1045382</td>\n",
       "      <td>6057058.0</td>\n",
       "      <td>312724</td>\n",
       "      <td>Black</td>\n",
       "      <td>M</td>\n",
       "      <td>Aged 25 to 34 years</td>\n",
       "      <td>Not a youth</td>\n",
       "      <td>53</td>\n",
       "      <td>...</td>\n",
       "      <td>NaN</td>\n",
       "      <td>0.335031</td>\n",
       "      <td>0</td>\n",
       "      <td>0.836614</td>\n",
       "      <td>NaN</td>\n",
       "      <td>0.836614</td>\n",
       "      <td>0.352512</td>\n",
       "      <td>NaN</td>\n",
       "      <td>0.352512</td>\n",
       "      <td>3</td>\n",
       "    </tr>\n",
       "    <tr>\n",
       "      <th>33</th>\n",
       "      <td>2021</td>\n",
       "      <td>Jan-Mar</td>\n",
       "      <td>1026070</td>\n",
       "      <td>6064426.0</td>\n",
       "      <td>323427</td>\n",
       "      <td>White</td>\n",
       "      <td>M</td>\n",
       "      <td>Aged 35 to 44 years</td>\n",
       "      <td>Not a youth</td>\n",
       "      <td>53</td>\n",
       "      <td>...</td>\n",
       "      <td>NaN</td>\n",
       "      <td>0.490847</td>\n",
       "      <td>6</td>\n",
       "      <td>0.836614</td>\n",
       "      <td>NaN</td>\n",
       "      <td>0.836614</td>\n",
       "      <td>0.271025</td>\n",
       "      <td>NaN</td>\n",
       "      <td>0.271025</td>\n",
       "      <td>4</td>\n",
       "    </tr>\n",
       "    <tr>\n",
       "      <th>38</th>\n",
       "      <td>2020</td>\n",
       "      <td>Apr-June</td>\n",
       "      <td>1028958</td>\n",
       "      <td>6057012.0</td>\n",
       "      <td>319209</td>\n",
       "      <td>Latino</td>\n",
       "      <td>M</td>\n",
       "      <td>Aged 18 to 24 years</td>\n",
       "      <td>Not a youth</td>\n",
       "      <td>XX</td>\n",
       "      <td>...</td>\n",
       "      <td>NaN</td>\n",
       "      <td>0.018169</td>\n",
       "      <td>3</td>\n",
       "      <td>0.836614</td>\n",
       "      <td>NaN</td>\n",
       "      <td>0.836614</td>\n",
       "      <td>0.171370</td>\n",
       "      <td>NaN</td>\n",
       "      <td>0.171370</td>\n",
       "      <td>2</td>\n",
       "    </tr>\n",
       "    <tr>\n",
       "      <th>42</th>\n",
       "      <td>2020</td>\n",
       "      <td>July-Sept</td>\n",
       "      <td>1026364</td>\n",
       "      <td>6027584.0</td>\n",
       "      <td>316419</td>\n",
       "      <td>South Asian</td>\n",
       "      <td>F</td>\n",
       "      <td>Aged 25 to 34 years</td>\n",
       "      <td>Not a youth</td>\n",
       "      <td>52</td>\n",
       "      <td>...</td>\n",
       "      <td>NaN</td>\n",
       "      <td>0.035375</td>\n",
       "      <td>5</td>\n",
       "      <td>0.163386</td>\n",
       "      <td>NaN</td>\n",
       "      <td>0.163386</td>\n",
       "      <td>0.352512</td>\n",
       "      <td>NaN</td>\n",
       "      <td>0.352512</td>\n",
       "      <td>3</td>\n",
       "    </tr>\n",
       "  </tbody>\n",
       "</table>\n",
       "<p>5 rows × 36 columns</p>\n",
       "</div>"
      ],
      "text/plain": [
       "    Arrest_Year Arrest_Month  EventID   ArrestID  PersonID Perceived_Race Sex  \\\n",
       "12         2021     Apr-June  1039002  6030241.0    330778          Black   M   \n",
       "14         2020     Apr-June  1045382  6057058.0    312724          Black   M   \n",
       "33         2021      Jan-Mar  1026070  6064426.0    323427          White   M   \n",
       "38         2020     Apr-June  1028958  6057012.0    319209         Latino   M   \n",
       "42         2020    July-Sept  1026364  6027584.0    316419    South Asian   F   \n",
       "\n",
       "   Age_group__at_arrest_ Youth_at_arrest__under_18_years ArrestLocDiv  ...  \\\n",
       "12   Aged 25 to 34 years                     Not a youth           53  ...   \n",
       "14   Aged 25 to 34 years                     Not a youth           53  ...   \n",
       "33   Aged 35 to 44 years                     Not a youth           53  ...   \n",
       "38   Aged 18 to 24 years                     Not a youth           XX  ...   \n",
       "42   Aged 25 to 34 years                     Not a youth           52  ...   \n",
       "\n",
       "    Race_joint2  Perceived_Race_joint_merged Perceived_Race_Category  \\\n",
       "12          NaN                     0.335031                       0   \n",
       "14          NaN                     0.335031                       0   \n",
       "33          NaN                     0.490847                       6   \n",
       "38          NaN                     0.018169                       3   \n",
       "42          NaN                     0.035375                       5   \n",
       "\n",
       "    Sex_joint  Sex_joint2  Sex_joint_merged  Age_joint  Age_joint2  \\\n",
       "12   0.836614         NaN          0.836614   0.352512         NaN   \n",
       "14   0.836614         NaN          0.836614   0.352512         NaN   \n",
       "33   0.836614         NaN          0.836614   0.271025         NaN   \n",
       "38   0.836614         NaN          0.836614   0.171370         NaN   \n",
       "42   0.163386         NaN          0.163386   0.352512         NaN   \n",
       "\n",
       "    Age_joint_merged  Age_Category  \n",
       "12          0.352512             3  \n",
       "14          0.352512             3  \n",
       "33          0.271025             4  \n",
       "38          0.171370             2  \n",
       "42          0.352512             3  \n",
       "\n",
       "[5 rows x 36 columns]"
      ]
     },
     "execution_count": 17,
     "metadata": {},
     "output_type": "execute_result"
    }
   ],
   "source": [
    "#Create joint distributions for age and strip-searches\n",
    "stripped_age = arrest_data[arrest_data['StripSearch'] == 1].copy()\n",
    "not_stripped_age = arrest_data[arrest_data[\"StripSearch\"] != 1].copy()\n",
    "\n",
    "#determine joint distribution for arrests\n",
    "joint_freq_stripped_age = stripped_age['Age_group__at_arrest_'].value_counts()/7265\n",
    "joint_freq_not_stripped_age = not_stripped_age['Age_group__at_arrest_'].value_counts()/52955\n",
    "\n",
    "#Add columns store joint distributions of frequency levels of Sex\n",
    "stripped_age['Age_joint'] = stripped_age['Age_group__at_arrest_'].map(joint_freq_stripped_age)\n",
    "not_stripped_age['Age_joint2'] = not_stripped_age['Age_group__at_arrest_'].map(joint_freq_not_stripped_age)\n",
    "                                             \n",
    "#Concatenate datasets\n",
    "arrest_data = pd.concat([stripped_age,not_stripped_age]).copy()\n",
    "\n",
    "#Merge both joint distributions into one column\n",
    "arrest_data['Age_joint_merged'] = arrest_data[['Age_joint','Age_joint2']].bfill(axis=1).iloc[:, 0]\n",
    "\n",
    "#Add a categorical scale for age\n",
    "arrest_data[\"Age_group__at_arrest_\"] = arrest_data[\"Age_group__at_arrest_\"].astype('category')\n",
    "arrest_data[\"Age_Category\"] = arrest_data[\"Age_group__at_arrest_\"].cat.codes\n",
    "\n",
    "arrest_data.head()"
   ]
  },
  {
   "cell_type": "code",
   "execution_count": 18,
   "metadata": {},
   "outputs": [
    {
     "data": {
      "image/png": "[encoded data removed]",
      "text/plain": [
       "<Figure size 640x480 with 1 Axes>"
      ]
     },
     "metadata": {},
     "output_type": "display_data"
    }
   ],
   "source": [
    "#Interaction for joint age <> strip-search\n",
    "strip_search = arrest_data[\"StripSearch\"].astype(\"category\")\n",
    "joint_occur_freq = arrest_data[\"Age_joint_merged\"].values\n",
    "\n",
    "interaction_plot_freq = interaction_plot(arrest_data[\"Age_Category\"], strip_search, joint_occur_freq, ms=10)\n",
    "plt.ylabel('Mean Frequencies for Joint Distribution')\n",
    "plt.xlabel('Age Levels')\n",
    "plt.title('Joint mean frequency of age <> stripsearch over Preceived Race', fontweight='bold')\n",
    "plt.show()"
   ]
  },
  {
   "cell_type": "markdown",
   "metadata": {},
   "source": [
    "# Testing default, model minorities, and not model minorities\n",
    "\n",
    "## Create conditional distributions for strip-searches given model minority, not, or default\n",
    "\n",
    "| Level | Model Minority (1) | Not Model Minority (2) | White (Default) (0) | All |\n",
    "|-----:|-----:|-----:|-----:|-----:|\n",
    "| Strip Searched (1) | East/Southeast Asian(341) + Middle-Eastern(228) + South Asian(257) + Latino(132) = 958 | Black(2434) + Indigenous(306) = 2740 | 3566 | 7269 |\n",
    "| Not Strip Searched (0) | East/Southeast Asian(4074) + Middle-Eastern(3009) + South Asian(3356) + Latino(1636) = 12075 | Black(15092) + Indigenous(1628) = 16720 | 24157 | 52955 |\n",
    "| All | 13033 | 19460 | 27727 | 60220 |"
   ]
  },
  {
   "cell_type": "markdown",
   "metadata": {},
   "source": [
    "### Add new column for model minority category"
   ]
  },
  {
   "cell_type": "code",
   "execution_count": 19,
   "metadata": {},
   "outputs": [],
   "source": [
    "# Label and mapping for model minority \n",
    "conditions = [\n",
    "    (arrest_data['Perceived_Race'] == \"East/Southeast Asian\") | (arrest_data['Perceived_Race'] == \"Middle-Eastern\")  | (arrest_data['Perceived_Race'] == \"South Asian\")  | (arrest_data['Perceived_Race'] == \"Latino\"),\n",
    "    (arrest_data['Perceived_Race'] == \"Indigenous\") | (arrest_data['Perceived_Race'] == \"Black\"),\n",
    "    (arrest_data['Perceived_Race'] == \"White\"),\n",
    "    ]\n",
    "\n",
    "#Create a list of the values we want to assign for each condition\n",
    "values = ['Model Minority', 'Not Model Minority', 'Default']\n",
    "\n",
    "#Create a new column and use np.select to assign values to it using our lists as arguments and create a category\n",
    "arrest_data['Model_Minorities_Category'] = np.select(conditions, values)\n",
    "arrest_data['Model_Minorities_Category'] = arrest_data['Model_Minorities_Category'].astype('category')"
   ]
  },
  {
   "cell_type": "markdown",
   "metadata": {},
   "source": [
    "## Check power of each group with a large effect area (0.8) and alpha (0.005)"
   ]
  },
  {
   "cell_type": "code",
   "execution_count": 20,
   "metadata": {},
   "outputs": [
    {
     "name": "stdout",
     "output_type": "stream",
     "text": [
      "Power for arrestees classified as model minorities who were strip-searched: 1.000\n",
      "Power for arrestees classified as not model minorities who were strip-searched: 1.000\n",
      "Power for arrestees classified as white who were strip-searched: 1.000\n",
      "Power for arrestees classified as model minorities who were strip-searched: 1.000\n",
      "Power for arrestees classified as not model minorities who were strip-searched: 1.000\n",
      "Power for arrestees classified as white who were strip-searched: 1.000\n"
     ]
    }
   ],
   "source": [
    "from statsmodels.stats.power import TTestPower\n",
    "\n",
    "#Power for model minorities who are strip-searched\n",
    "power = TTestPower()\n",
    "n_test = power.solve_power(nobs=958, effect_size = 0.8, power = None, alpha = 0.005)\n",
    "print('Power for arrestees classified as model minorities who were strip-searched: {:.3f}'.format(n_test))\n",
    "\n",
    "#Power for not model minorities who are strip-searched\n",
    "n_test = power.solve_power(nobs=2740, effect_size = 0.8, power = None, alpha = 0.005)\n",
    "print('Power for arrestees classified as not model minorities who were strip-searched: {:.3f}'.format(n_test))\n",
    "\n",
    "#Power for white (default) who are strip-searched\n",
    "n_test = power.solve_power(nobs=3566, effect_size = 0.8, power = None, alpha = 0.005)\n",
    "print('Power for arrestees classified as white who were strip-searched: {:.3f}'.format(n_test))\n",
    "\n",
    "#Power for model minorities who are not strip-searched\n",
    "power = TTestPower()\n",
    "n_test = power.solve_power(nobs=12075, effect_size = 0.8, power = None, alpha = 0.005)\n",
    "print('Power for arrestees classified as model minorities who were strip-searched: {:.3f}'.format(n_test))\n",
    "\n",
    "#Power for not model minorities who are not strip-searched\n",
    "n_test = power.solve_power(nobs=16720, effect_size = 0.8, power = None, alpha = 0.005)\n",
    "print('Power for arrestees classified as not model minorities who were strip-searched: {:.3f}'.format(n_test))\n",
    "\n",
    "#Power for white (default) who are not strip-searched\n",
    "n_test = power.solve_power(nobs=24157, effect_size = 0.8, power = None, alpha = 0.005)\n",
    "print('Power for arrestees classified as white who were strip-searched: {:.3f}'.format(n_test))\n"
   ]
  },
  {
   "cell_type": "markdown",
   "metadata": {},
   "source": [
    "## T-Test between types of race\n",
    "\n",
    "### Black vs Not Black"
   ]
  },
  {
   "cell_type": "code",
   "execution_count": 21,
   "metadata": {},
   "outputs": [
    {
     "name": "stdout",
     "output_type": "stream",
     "text": [
      "mean of black people: 0.13887937920803378\n",
      "mean of rest race: 0.11315407317187427\n",
      "t_stat: 8.493122950728434\n",
      "p_val: 2.1024389591947247e-17\n"
     ]
    }
   ],
   "source": [
    "# Divide the data into two subset that include only black and the rest of the races\n",
    "black = arrest_data[arrest_data['Perceived_Race'] == 'Black']\n",
    "rest_race = arrest_data[arrest_data['Perceived_Race'] != 'Black']\n",
    "\n",
    "# Caculate the mean  for each subset\n",
    "black_prob1 = black['StripSearch'].mean()\n",
    "rest_race_prob1 = rest_race['StripSearch'].mean()\n",
    "\n",
    "# Calculate the t-test and get p-value\n",
    "t_stat, p_value = ttest_ind(black['StripSearch'], rest_race['StripSearch'], equal_var=False)\n",
    "\n",
    "print('mean of black people:',black_prob1)\n",
    "print('mean of rest race:',rest_race_prob1)\n",
    "print('t_stat:',t_stat)\n",
    "print('p_val:',p_value)"
   ]
  },
  {
   "cell_type": "markdown",
   "metadata": {},
   "source": [
    "### White vs Non White"
   ]
  },
  {
   "cell_type": "code",
   "execution_count": 22,
   "metadata": {},
   "outputs": [
    {
     "name": "stdout",
     "output_type": "stream",
     "text": [
      "mean of white people: 0.12862965768495474\n",
      "mean of rest race: 0.113825891620765\n",
      "t_stat: 5.537376686990467\n",
      "p_val: 3.083707342105717e-08\n"
     ]
    }
   ],
   "source": [
    "# Divide the data into two subset that include only white and the rest of the races\n",
    "white = arrest_data[arrest_data['Perceived_Race'] == 'White']\n",
    "rest_race = arrest_data[arrest_data['Perceived_Race'] != 'White']\n",
    "\n",
    "# Caculate the mean  for each subset\n",
    "white_prob1 = white['StripSearch'].mean()\n",
    "rest_race_prob1 = rest_race['StripSearch'].mean()\n",
    "\n",
    "# Calculate the t-test and get p-value\n",
    "t_stat, p_value = ttest_ind(white['StripSearch'], rest_race['StripSearch'], equal_var=False)\n",
    "\n",
    "print('mean of white people:',white_prob1)\n",
    "print('mean of rest race:',rest_race_prob1)\n",
    "print('t_stat:',t_stat)\n",
    "print('p_val:',p_value)"
   ]
  },
  {
   "cell_type": "markdown",
   "metadata": {},
   "source": [
    "### Indigenous vs Non Indigenous"
   ]
  },
  {
   "cell_type": "code",
   "execution_count": 23,
   "metadata": {},
   "outputs": [
    {
     "name": "stdout",
     "output_type": "stream",
     "text": [
      "mean of indigenous people: 0.15822130299896586\n",
      "mean of rest race: 0.1193940225783207\n",
      "t_stat: 4.617528626828796\n",
      "p_val: 4.125855974631104e-06\n"
     ]
    }
   ],
   "source": [
    "# Divide the data into two subset that include only indigenous and the rest of the races\n",
    "indigenous = arrest_data[arrest_data['Perceived_Race'] == 'Indigenous']\n",
    "rest_race = arrest_data[arrest_data['Perceived_Race'] != 'Indigenous']\n",
    "\n",
    "# Caculate the mean  for each subset\n",
    "indigenous_prob1 = indigenous['StripSearch'].mean()\n",
    "rest_race_prob1 = rest_race['StripSearch'].mean()\n",
    "\n",
    "# Calculate the t-test and get p-value\n",
    "t_stat, p_value = ttest_ind(indigenous['StripSearch'], rest_race['StripSearch'], equal_var=False)\n",
    "\n",
    "print('mean of indigenous people:',indigenous_prob1)\n",
    "print('mean of rest race:',rest_race_prob1)\n",
    "print('t_stat:',t_stat)\n",
    "print('p_val:',p_value)"
   ]
  },
  {
   "cell_type": "markdown",
   "metadata": {},
   "source": [
    "### Model Minorities vs Everything Else"
   ]
  },
  {
   "cell_type": "code",
   "execution_count": 24,
   "metadata": {},
   "outputs": [
    {
     "name": "stdout",
     "output_type": "stream",
     "text": [
      "mean of minority people: 0.07350571625872784\n",
      "mean of other levels: 0.13365969440735795\n",
      "t_stat: -21.706469696838678\n",
      "p_val: 1.421497051291217e-103\n"
     ]
    }
   ],
   "source": [
    "# Divide the data into two subset that include only indigenous and the rest of the races\n",
    "model_minority = arrest_data[arrest_data['Model_Minorities_Category'] == 'Model Minority']\n",
    "other_levels = arrest_data[arrest_data['Model_Minorities_Category'] != 'Model Minority']\n",
    "\n",
    "# Caculate the mean  for each subset\n",
    "model_minority_prob1 = model_minority['StripSearch'].mean()\n",
    "other_levels_prob1 = other_levels['StripSearch'].mean()\n",
    "\n",
    "# Calculate the t-test and get p-value\n",
    "t_stat, p_value = ttest_ind(model_minority['StripSearch'], other_levels['StripSearch'], equal_var=False)\n",
    "\n",
    "print('mean of minority people:', model_minority_prob1)\n",
    "print('mean of other levels:', other_levels_prob1)\n",
    "print('t_stat:',t_stat)\n",
    "print('p_val:',p_value)"
   ]
  },
  {
   "cell_type": "markdown",
   "metadata": {},
   "source": [
    "### Not Model Minorities vs Everything Else"
   ]
  },
  {
   "cell_type": "code",
   "execution_count": 25,
   "metadata": {},
   "outputs": [
    {
     "name": "stdout",
     "output_type": "stream",
     "text": [
      "mean of minority people: 0.1408016443987667\n",
      "mean of other levels: 0.12064098306210562\n",
      "t_stat: 7.137387549485971\n",
      "p_val: 9.719383538306733e-13\n"
     ]
    }
   ],
   "source": [
    "# Divide the data into two subset that include only indigenous and the rest of the races\n",
    "not_model_minority = arrest_data[arrest_data['Model_Minorities_Category'] == 'Not Model Minority']\n",
    "other_levels = arrest_data[arrest_data['Model_Minorities_Category'] != 'NotModel Minority']\n",
    "\n",
    "# Caculate the mean  for each subset\n",
    "not_model_minority_prob1 = not_model_minority['StripSearch'].mean()\n",
    "other_levels_prob1 = other_levels['StripSearch'].mean()\n",
    "\n",
    "# Calculate the t-test and get p-value\n",
    "t_stat, p_value = ttest_ind(not_model_minority['StripSearch'], other_levels['StripSearch'], equal_var=False)\n",
    "\n",
    "print('mean of minority people:', not_model_minority_prob1)\n",
    "print('mean of other levels:', other_levels_prob1)\n",
    "print('t_stat:',t_stat)\n",
    "print('p_val:',p_value)"
   ]
  },
  {
   "cell_type": "markdown",
   "metadata": {},
   "source": [
    "## Logistic Regression\n",
    "\n",
    "### Create contingency table"
   ]
  },
  {
   "cell_type": "markdown",
   "metadata": {},
   "source": [
    "| Level | Model Minority (1) | Not Model Minority (2) | White (Default) (0) | All |\n",
    "|-----:|-----:|-----:|-----:|-----:|\n",
    "| Strip Searched (1) | 958 (13%) | 2740 (38%) | 3566 (49%) | 7269 (100%) |\n",
    "| Not Strip Searched (0) | 12075 (23%) | 16720 (32%) | 24157 (46%) | 52955 (100%) |\n",
    "| All | 13033 (22%) | 19460 (32%) | 27727 (46%) | 60220 (100%) |"
   ]
  },
  {
   "cell_type": "markdown",
   "metadata": {},
   "source": [
    "### Create expected values table"
   ]
  },
  {
   "cell_type": "markdown",
   "metadata": {},
   "source": [
    "| Level | Model Minority (1) | Not Model Minority (2) | White (Default) (0) | All |\n",
    "|-----:|-----:|-----:|-----:|-----:|\n",
    "| Strip Searched (1) | 1599.18 | 2326.08 | 3343.74 | 7269 |\n",
    "| Not Strip Searched (0) | 11650.1 | 16945.6 | 24359.3 | 52955 |\n",
    "| All | 13033 (22%) | 19460 (32%) | 27727 (46%) | 60220 (100%) |"
   ]
  },
  {
   "cell_type": "markdown",
   "metadata": {},
   "source": [
    "### χ2 test of Independence"
   ]
  },
  {
   "cell_type": "code",
   "execution_count": 26,
   "metadata": {},
   "outputs": [
    {
     "name": "stdout",
     "output_type": "stream",
     "text": [
      "Approach 1: The p-value approach to hypothesis testing in the decision rule\n",
      "chisquare-score is: 364.8109136762887  and p value is: 0.0\n",
      "Null Hypothesis is rejected.\n",
      "\n",
      "--------------------------------------------------------------------------------------\n",
      "Approach 2: The critical value approach to hypothesis testing in the decision rule\n",
      "chisquare-score is: 364.8109136762887  and critical value is: 12.838156466598647\n",
      "Null Hypothesis is rejected.\n"
     ]
    }
   ],
   "source": [
    "#Hypothesis for independence test\n",
    "#H₀: The two categorical variables have no relationship\n",
    "#H₁: There is a relationship between two categorical variables\n",
    "#Source: https://towardsdatascience.com/chi-square-test-with-python-d8ba98117626\n",
    "\n",
    "# create contingency table\n",
    "data_crosstab = pd.crosstab(arrest_data['Model_Minorities_Category'],\n",
    "                            arrest_data['StripSearch'],\n",
    "                            margins=True, margins_name=\"Total\")\n",
    "\n",
    "# significance level\n",
    "alpha = 0.005\n",
    "\n",
    "# Calculation of Chisquare\n",
    "chi_square = 0\n",
    "rows = arrest_data['Model_Minorities_Category'].unique()\n",
    "columns = arrest_data['StripSearch'].unique()\n",
    "\n",
    "for i in columns:\n",
    "    for j in rows:\n",
    "        O = data_crosstab[i][j]\n",
    "        E = data_crosstab[i]['Total'] * data_crosstab['Total'][j] / data_crosstab['Total']['Total']\n",
    "        chi_square += (O-E)**2/E\n",
    "\n",
    "# The p-value approach\n",
    "print(\"Approach 1: The p-value approach to hypothesis testing in the decision rule\")\n",
    "p_value = 1 - stats.chi2.cdf(chi_square, (len(rows)-1)*(len(columns)-1))\n",
    "conclusion = \"Failed to reject the null hypothesis.\"\n",
    "if p_value <= alpha:\n",
    "    conclusion = \"Null Hypothesis is rejected.\"\n",
    "        \n",
    "print(\"chisquare-score is:\", chi_square, \" and p value is:\", p_value)\n",
    "print(conclusion)\n",
    "    \n",
    "# The critical value approach\n",
    "print(\"\\n--------------------------------------------------------------------------------------\")\n",
    "print(\"Approach 2: The critical value approach to hypothesis testing in the decision rule\")\n",
    "critical_value = stats.chi2.ppf(1-alpha, (len(rows)-1)*(len(columns)-1))\n",
    "conclusion = \"Failed to reject the null hypothesis.\"\n",
    "if chi_square > critical_value:\n",
    "    conclusion = \"Null Hypothesis is rejected.\"\n",
    "        \n",
    "print(\"chisquare-score is:\", chi_square, \" and critical value is:\", critical_value)\n",
    "print(conclusion)\n"
   ]
  },
  {
   "cell_type": "markdown",
   "metadata": {},
   "source": [
    "### χ2 Goodness-Of-Fit test statistics"
   ]
  },
  {
   "cell_type": "code",
   "execution_count": 27,
   "metadata": {},
   "outputs": [
    {
     "name": "stdout",
     "output_type": "stream",
     "text": [
      "Approach 1: The p-value approach to hypothesis testing in the decision rule\n",
      "chisquare-score is: 5.391584611365662  and p value is: 0.0674888887555225\n",
      "Failed to reject the null hypothesis.\n",
      "\n",
      "--------------------------------------------------------------------------------------\n",
      "Approach 2: The critical value approach to hypothesis testing in the decision rule\n",
      "chisquare-score is: 5.391584611365662  and critical value is: 5.991464547107979\n",
      "Failed to reject the null hypothesis.\n"
     ]
    }
   ],
   "source": [
    "#Hypothesis for goodness-of-fit test\n",
    "#H₀: The variable has the specified distribution, i.e. the observed and expected frequencies are roughly equal\n",
    "#H₁: The variable does not have the specified distribution, not normal\n",
    "\n",
    "data = [['White (Default)', 0.46, 27727], ['Model Minority', 0.22, 13033], ['Not Model Minority', 0.32, 19460]] \n",
    "df = pd.DataFrame(data, columns = ['Varname', 'prob_dist', 'observed_freq']) \n",
    "df['expected_freq'] = df['observed_freq'].sum() * df['prob_dist']\n",
    "\n",
    "# significance level\n",
    "alpha = 0.05\n",
    "\n",
    "# Calculation of Chisquare\n",
    "chi_square = 0\n",
    "for i in range(len(df)):\n",
    "    O = df.loc[i, 'observed_freq']\n",
    "    E = df.loc[i, 'expected_freq']\n",
    "    chi_square += (O-E)**2/E\n",
    "\n",
    "# The p-value approach\n",
    "print(\"Approach 1: The p-value approach to hypothesis testing in the decision rule\")\n",
    "p_value = 1 - stats.chi2.cdf(chi_square, df['Varname'].nunique() - 1)\n",
    "conclusion = \"Failed to reject the null hypothesis.\"\n",
    "if p_value <= alpha:\n",
    "    conclusion = \"Null Hypothesis is rejected.\"\n",
    "        \n",
    "print(\"chisquare-score is:\", chi_square, \" and p value is:\", p_value)\n",
    "print(conclusion)\n",
    "    \n",
    "# The critical value approach\n",
    "print(\"\\n--------------------------------------------------------------------------------------\")\n",
    "print(\"Approach 2: The critical value approach to hypothesis testing in the decision rule\")\n",
    "critical_value = stats.chi2.ppf(1-alpha, df['Varname'].nunique() - 1)\n",
    "conclusion = \"Failed to reject the null hypothesis.\"\n",
    "if chi_square > critical_value:\n",
    "    conclusion = \"Null Hypothesis is rejected.\"\n",
    "        \n",
    "print(\"chisquare-score is:\", chi_square, \" and critical value is:\", critical_value)\n",
    "print(conclusion)\n"
   ]
  },
  {
   "cell_type": "code",
   "execution_count": 28,
   "metadata": {},
   "outputs": [
    {
     "name": "stdout",
     "output_type": "stream",
     "text": [
      "StripSearch:  StripSearch ~Race + Sex \n",
      "\n",
      "Optimization terminated successfully.\n",
      "         Current function value: 0.364556\n",
      "         Iterations 6\n"
     ]
    },
    {
     "data": {
      "text/html": [
       "<table class=\"simpletable\">\n",
       "<caption>Logit Regression Results</caption>\n",
       "<tr>\n",
       "  <th>Dep. Variable:</th>      <td>StripSearch</td>   <th>  No. Observations:  </th>  <td> 48950</td>  \n",
       "</tr>\n",
       "<tr>\n",
       "  <th>Model:</th>                 <td>Logit</td>      <th>  Df Residuals:      </th>  <td> 48946</td>  \n",
       "</tr>\n",
       "<tr>\n",
       "  <th>Method:</th>                 <td>MLE</td>       <th>  Df Model:          </th>  <td>     3</td>  \n",
       "</tr>\n",
       "<tr>\n",
       "  <th>Date:</th>            <td>Sun, 16 Apr 2023</td> <th>  Pseudo R-squ.:     </th> <td>0.007888</td> \n",
       "</tr>\n",
       "<tr>\n",
       "  <th>Time:</th>                <td>23:29:35</td>     <th>  Log-Likelihood:    </th> <td> -17845.</td> \n",
       "</tr>\n",
       "<tr>\n",
       "  <th>converged:</th>             <td>True</td>       <th>  LL-Null:           </th> <td> -17987.</td> \n",
       "</tr>\n",
       "<tr>\n",
       "  <th>Covariance Type:</th>     <td>nonrobust</td>    <th>  LLR p-value:       </th> <td>3.281e-61</td>\n",
       "</tr>\n",
       "</table>\n",
       "<table class=\"simpletable\">\n",
       "<tr>\n",
       "            <td></td>              <th>coef</th>     <th>std err</th>      <th>z</th>      <th>P>|z|</th>  <th>[0.025</th>    <th>0.975]</th>  \n",
       "</tr>\n",
       "<tr>\n",
       "  <th>Intercept</th>            <td>   -2.5805</td> <td>    0.045</td> <td>  -57.769</td> <td> 0.000</td> <td>   -2.668</td> <td>   -2.493</td>\n",
       "</tr>\n",
       "<tr>\n",
       "  <th>Race[T.Non Minority]</th> <td>    0.5642</td> <td>    0.039</td> <td>   14.493</td> <td> 0.000</td> <td>    0.488</td> <td>    0.641</td>\n",
       "</tr>\n",
       "<tr>\n",
       "  <th>Race[T.White]</th>        <td>    0.4837</td> <td>    0.037</td> <td>   13.036</td> <td> 0.000</td> <td>    0.411</td> <td>    0.556</td>\n",
       "</tr>\n",
       "<tr>\n",
       "  <th>Sex[T.M]</th>             <td>    0.2413</td> <td>    0.037</td> <td>    6.476</td> <td> 0.000</td> <td>    0.168</td> <td>    0.314</td>\n",
       "</tr>\n",
       "</table>"
      ],
      "text/plain": [
       "<class 'statsmodels.iolib.summary.Summary'>\n",
       "\"\"\"\n",
       "                           Logit Regression Results                           \n",
       "==============================================================================\n",
       "Dep. Variable:            StripSearch   No. Observations:                48950\n",
       "Model:                          Logit   Df Residuals:                    48946\n",
       "Method:                           MLE   Df Model:                            3\n",
       "Date:                Sun, 16 Apr 2023   Pseudo R-squ.:                0.007888\n",
       "Time:                        23:29:35   Log-Likelihood:                -17845.\n",
       "converged:                       True   LL-Null:                       -17987.\n",
       "Covariance Type:            nonrobust   LLR p-value:                 3.281e-61\n",
       "========================================================================================\n",
       "                           coef    std err          z      P>|z|      [0.025      0.975]\n",
       "----------------------------------------------------------------------------------------\n",
       "Intercept               -2.5805      0.045    -57.769      0.000      -2.668      -2.493\n",
       "Race[T.Non Minority]     0.5642      0.039     14.493      0.000       0.488       0.641\n",
       "Race[T.White]            0.4837      0.037     13.036      0.000       0.411       0.556\n",
       "Sex[T.M]                 0.2413      0.037      6.476      0.000       0.168       0.314\n",
       "========================================================================================\n",
       "\"\"\""
      ]
     },
     "execution_count": 28,
     "metadata": {},
     "output_type": "execute_result"
    }
   ],
   "source": [
    "arrest_data = pd.read_csv('inf2178_midterm_data.csv')\n",
    "arrest_data = arrest_data[arrest_data['Sex'] != 'U']\n",
    "\n",
    "\n",
    "# create a group contains non-white, non-black,non-indigenous races\n",
    "race_group  = {  'Unknown or Legacy': 'Minority',\n",
    "                 'White': 'White',\n",
    "                 'Black':'Non Minority',\n",
    "                 'Indigenous':'Non Minority',\n",
    "                 'South Asian': 'Minority', \n",
    "                 'Middle-Eastern': 'Minority',\n",
    "                 'Latino': 'Minority',\n",
    "                 'East/Southeast Asian': 'Minority'}\n",
    "\n",
    "\n",
    "# create the new column by mapping the Perceived_Race column to the race groups dictionary\n",
    "#arrest_data['Race'] = arrest_data['Perceived_Race'].map(race_group)\n",
    "\n",
    "arrest_data['Race'] = arrest_data['Perceived_Race'].replace(race_group).fillna('Minority')\n",
    "\n",
    "\n",
    "from sklearn.model_selection import train_test_split\n",
    "# Select the indep of our DataFrame that we will use as the predictors in our models\n",
    "x = arrest_data[['Race', 'Sex']]\n",
    "\n",
    "# Select the response column \n",
    "y = arrest_data['StripSearch']\n",
    "\n",
    "# Split these data into training and testing datasets\n",
    "x_train, x_test, y_train, y_test = train_test_split(x,y, random_state=109)\n",
    "\n",
    "#building the model with statsmodels\n",
    "import statsmodels.formula.api as smf\n",
    "import pandas as pd\n",
    "\n",
    "# Create the formula string \n",
    "all_columns = ' + '.join(x)\n",
    "formula = 'StripSearch ~' + all_columns\n",
    "print(\"StripSearch: \", formula, \"\\n\")\n",
    "trainingdata = pd.concat([x_train,y_train], axis = 1)\n",
    "\n",
    "# Build the model\n",
    "log_reg_1 = smf.logit(formula, data=trainingdata).fit()\n",
    "log_reg_1.summary()"
   ]
  },
  {
   "cell_type": "code",
   "execution_count": 29,
   "metadata": {},
   "outputs": [
    {
     "name": "stdout",
     "output_type": "stream",
     "text": [
      "\n",
      "Test accuracy =  0.8826990255561684\n"
     ]
    }
   ],
   "source": [
    "from sklearn.metrics import confusion_matrix, accuracy_score\n",
    "# Predict responses \n",
    "pred_1 = log_reg_1.predict(x_test)\n",
    "# round() rounds to nearest integer;\n",
    "# 0.5 rounds to 0; 0.501 rounds to 1\n",
    "prediction_1 = list(map(round, pred_1))\n",
    "# Accuracy score\n",
    "print('\\nTest accuracy = ', accuracy_score(y_test, prediction_1))"
   ]
  },
  {
   "cell_type": "code",
   "execution_count": null,
   "metadata": {},
   "outputs": [],
   "source": []
  },
  {
   "cell_type": "code",
   "execution_count": null,
   "metadata": {},
   "outputs": [],
   "source": []
  }
 ],
 "metadata": {
  "colab": {
   "authorship_tag": "ABX9TyOF0Ig69mesCnTYsfVy6Rv+",
   "include_colab_link": true,
   "provenance": []
  },
  "kernelspec": {
   "display_name": "Python 3 (ipykernel)",
   "language": "python",
   "name": "python3"
  },
  "language_info": {
   "codemirror_mode": {
    "name": "ipython",
    "version": 3
   },
   "file_extension": ".py",
   "mimetype": "text/x-python",
   "name": "python",
   "nbconvert_exporter": "python",
   "pygments_lexer": "ipython3",
   "version": "3.10.8"
  }
 },
 "nbformat": 4,
 "nbformat_minor": 1
}
