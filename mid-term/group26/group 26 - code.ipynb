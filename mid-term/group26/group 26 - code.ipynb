{
  "nbformat": 4,
  "nbformat_minor": 0,
  "metadata": {
    "colab": {
      "provenance": [],
      "collapsed_sections": [
        "64b5-UQXICKC",
        "t7geH41AEXhC",
        "BSjmAqg-cgcP",
        "ExXl0fCLV-mq"
      ]
    },
    "kernelspec": {
      "name": "python3",
      "display_name": "Python 3"
    },
    "language_info": {
      "name": "python"
    }
  },
  "cells": [
    {
      "cell_type": "code",
      "execution_count": null,
      "metadata": {
        "id": "E4aN_lrXD27S"
      },
      "outputs": [],
      "source": [
        "import pandas as pd\n",
        "import numpy as np\n",
        "import matplotlib.pyplot as plt\n",
        "import seaborn as sns\n",
        "%matplotlib inline \n",
        "import statsmodels\n",
        "from scipy import stats\n",
        "from scipy.stats import levene\n",
        "import scipy.stats\n",
        "import math\n",
        "import statistics\n",
        "import scipy.stats as sp\n",
        "from sklearn import linear_model"
      ]
    },
    {
      "cell_type": "code",
      "source": [
        "!pip install scikit_posthocs\n",
        "!pip install researchpy\n",
        "import researchpy as rp"
      ],
      "metadata": {
        "id": "zAs67FYN-3Ka",
        "colab": {
          "base_uri": "https://localhost:8080/"
        },
        "outputId": "c7deae79-6efe-4c0e-933f-91b7624d5ab4"
      },
      "execution_count": null,
      "outputs": [
        {
          "output_type": "stream",
          "name": "stdout",
          "text": [
            "Looking in indexes: https://pypi.org/simple, https://us-python.pkg.dev/colab-wheels/public/simple/\n",
            "Collecting scikit_posthocs\n",
            "  Downloading scikit_posthocs-0.7.0-py3-none-any.whl (38 kB)\n",
            "Requirement already satisfied: pandas>=0.20.0 in /usr/local/lib/python3.8/dist-packages (from scikit_posthocs) (1.3.5)\n",
            "Requirement already satisfied: numpy in /usr/local/lib/python3.8/dist-packages (from scikit_posthocs) (1.22.4)\n",
            "Requirement already satisfied: statsmodels in /usr/local/lib/python3.8/dist-packages (from scikit_posthocs) (0.12.2)\n",
            "Requirement already satisfied: scipy in /usr/local/lib/python3.8/dist-packages (from scikit_posthocs) (1.7.3)\n",
            "Requirement already satisfied: matplotlib in /usr/local/lib/python3.8/dist-packages (from scikit_posthocs) (3.5.3)\n",
            "Requirement already satisfied: seaborn in /usr/local/lib/python3.8/dist-packages (from scikit_posthocs) (0.11.2)\n",
            "Requirement already satisfied: pytz>=2017.3 in /usr/local/lib/python3.8/dist-packages (from pandas>=0.20.0->scikit_posthocs) (2022.7.1)\n",
            "Requirement already satisfied: python-dateutil>=2.7.3 in /usr/local/lib/python3.8/dist-packages (from pandas>=0.20.0->scikit_posthocs) (2.8.2)\n",
            "Requirement already satisfied: fonttools>=4.22.0 in /usr/local/lib/python3.8/dist-packages (from matplotlib->scikit_posthocs) (4.38.0)\n",
            "Requirement already satisfied: pillow>=6.2.0 in /usr/local/lib/python3.8/dist-packages (from matplotlib->scikit_posthocs) (8.4.0)\n",
            "Requirement already satisfied: kiwisolver>=1.0.1 in /usr/local/lib/python3.8/dist-packages (from matplotlib->scikit_posthocs) (1.4.4)\n",
            "Requirement already satisfied: pyparsing>=2.2.1 in /usr/local/lib/python3.8/dist-packages (from matplotlib->scikit_posthocs) (3.0.9)\n",
            "Requirement already satisfied: cycler>=0.10 in /usr/local/lib/python3.8/dist-packages (from matplotlib->scikit_posthocs) (0.11.0)\n",
            "Requirement already satisfied: packaging>=20.0 in /usr/local/lib/python3.8/dist-packages (from matplotlib->scikit_posthocs) (23.0)\n",
            "Requirement already satisfied: patsy>=0.5 in /usr/local/lib/python3.8/dist-packages (from statsmodels->scikit_posthocs) (0.5.3)\n",
            "Requirement already satisfied: six in /usr/local/lib/python3.8/dist-packages (from patsy>=0.5->statsmodels->scikit_posthocs) (1.15.0)\n",
            "Installing collected packages: scikit_posthocs\n",
            "Successfully installed scikit_posthocs-0.7.0\n",
            "Looking in indexes: https://pypi.org/simple, https://us-python.pkg.dev/colab-wheels/public/simple/\n",
            "Collecting researchpy\n",
            "  Downloading researchpy-0.3.5-py3-none-any.whl (33 kB)\n",
            "Requirement already satisfied: scipy in /usr/local/lib/python3.8/dist-packages (from researchpy) (1.7.3)\n",
            "Requirement already satisfied: statsmodels in /usr/local/lib/python3.8/dist-packages (from researchpy) (0.12.2)\n",
            "Requirement already satisfied: pandas in /usr/local/lib/python3.8/dist-packages (from researchpy) (1.3.5)\n",
            "Requirement already satisfied: numpy in /usr/local/lib/python3.8/dist-packages (from researchpy) (1.22.4)\n",
            "Requirement already satisfied: patsy in /usr/local/lib/python3.8/dist-packages (from researchpy) (0.5.3)\n",
            "Requirement already satisfied: pytz>=2017.3 in /usr/local/lib/python3.8/dist-packages (from pandas->researchpy) (2022.7.1)\n",
            "Requirement already satisfied: python-dateutil>=2.7.3 in /usr/local/lib/python3.8/dist-packages (from pandas->researchpy) (2.8.2)\n",
            "Requirement already satisfied: six in /usr/local/lib/python3.8/dist-packages (from patsy->researchpy) (1.15.0)\n",
            "Installing collected packages: researchpy\n",
            "Successfully installed researchpy-0.3.5\n"
          ]
        }
      ]
    },
    {
      "cell_type": "markdown",
      "source": [
        "# Read the raw data"
      ],
      "metadata": {
        "id": "Gl8RDsk_5SvO"
      }
    },
    {
      "cell_type": "code",
      "source": [
        "url = 'https://raw.githubusercontent.com/shionguha/inf2178-expdesignfordatascience-w23/main/project%20dataset/Arrests_and_Strip_Searches_(RBDC-ARR-TBL-001).csv'"
      ],
      "metadata": {
        "id": "8VtxnJcGF2nr"
      },
      "execution_count": null,
      "outputs": []
    },
    {
      "cell_type": "code",
      "source": [
        "data_raw = pd.read_csv(url)\n",
        "data_raw.shape"
      ],
      "metadata": {
        "id": "b4d9XAnNETbF",
        "colab": {
          "base_uri": "https://localhost:8080/"
        },
        "outputId": "e53ec109-2686-4b1a-9418-909deed18656"
      },
      "execution_count": null,
      "outputs": [
        {
          "output_type": "execute_result",
          "data": {
            "text/plain": [
              "(65276, 25)"
            ]
          },
          "metadata": {},
          "execution_count": 4
        }
      ]
    },
    {
      "cell_type": "code",
      "source": [
        "data_raw.info()"
      ],
      "metadata": {
        "colab": {
          "base_uri": "https://localhost:8080/"
        },
        "id": "IcrGb3RpRpLD",
        "outputId": "1d393384-b0b6-4225-803a-0f2bc669a267"
      },
      "execution_count": null,
      "outputs": [
        {
          "output_type": "stream",
          "name": "stdout",
          "text": [
            "<class 'pandas.core.frame.DataFrame'>\n",
            "RangeIndex: 65276 entries, 0 to 65275\n",
            "Data columns (total 25 columns):\n",
            " #   Column                           Non-Null Count  Dtype  \n",
            "---  ------                           --------------  -----  \n",
            " 0   Arrest_Year                      65276 non-null  int64  \n",
            " 1   Arrest_Month                     65276 non-null  object \n",
            " 2   EventID                          65276 non-null  int64  \n",
            " 3   ArrestID                         64807 non-null  float64\n",
            " 4   PersonID                         65276 non-null  int64  \n",
            " 5   Perceived_Race                   65272 non-null  object \n",
            " 6   Sex                              65276 non-null  object \n",
            " 7   Age_group__at_arrest_            65252 non-null  object \n",
            " 8   Youth_at_arrest__under_18_years  65276 non-null  object \n",
            " 9   ArrestLocDiv                     65276 non-null  object \n",
            " 10  StripSearch                      65276 non-null  int64  \n",
            " 11  Booked                           65276 non-null  int64  \n",
            " 12  Occurrence_Category              65111 non-null  object \n",
            " 13  Actions_at_arrest___Concealed_i  65276 non-null  int64  \n",
            " 14  Actions_at_arrest___Combative__  65276 non-null  int64  \n",
            " 15  Actions_at_arrest___Resisted__d  65276 non-null  int64  \n",
            " 16  Actions_at_arrest___Mental_inst  65276 non-null  int64  \n",
            " 17  Actions_at_arrest___Assaulted_o  65276 non-null  int64  \n",
            " 18  Actions_at_arrest___Cooperative  65276 non-null  int64  \n",
            " 19  SearchReason_CauseInjury         7801 non-null   float64\n",
            " 20  SearchReason_AssistEscape        7801 non-null   float64\n",
            " 21  SearchReason_PossessWeapons      7801 non-null   float64\n",
            " 22  SearchReason_PossessEvidence     7801 non-null   float64\n",
            " 23  ItemsFound                       7801 non-null   float64\n",
            " 24  ObjectId                         65276 non-null  int64  \n",
            "dtypes: float64(6), int64(12), object(7)\n",
            "memory usage: 12.5+ MB\n"
          ]
        }
      ]
    },
    {
      "cell_type": "code",
      "source": [
        "# rename some clumns \n",
        "data_raw.rename(columns={'Perceived_Race':'race', 'Age_group__at_arrest_':'age_group', 'Youth_at_arrest__under_18_years':'youth'}, \n",
        "                inplace = True)"
      ],
      "metadata": {
        "id": "trtXQV1UGWgu"
      },
      "execution_count": null,
      "outputs": []
    },
    {
      "cell_type": "code",
      "source": [
        "data_raw.describe()"
      ],
      "metadata": {
        "colab": {
          "base_uri": "https://localhost:8080/",
          "height": 364
        },
        "id": "_g8ZYyNtCoj9",
        "outputId": "45597f6f-c094-4434-fed9-c78896dbd907"
      },
      "execution_count": null,
      "outputs": [
        {
          "output_type": "execute_result",
          "data": {
            "text/plain": [
              "        Arrest_Year       EventID      ArrestID       PersonID   StripSearch  \\\n",
              "count  65276.000000  6.527600e+04  6.480700e+04   65276.000000  65276.000000   \n",
              "mean    2020.510096  1.029998e+06  6.032402e+06  318599.919695      0.119508   \n",
              "std        0.499902  1.731809e+04  1.870751e+04   10815.387928      0.324388   \n",
              "min     2020.000000  1.000000e+06  6.000000e+06  300000.000000      0.000000   \n",
              "25%     2020.000000  1.015001e+06  6.016202e+06  309215.000000      0.000000   \n",
              "50%     2021.000000  1.030006e+06  6.032402e+06  318595.500000      0.000000   \n",
              "75%     2021.000000  1.044996e+06  6.048602e+06  327926.250000      0.000000   \n",
              "max     2021.000000  1.060002e+06  6.064804e+06  337346.000000      1.000000   \n",
              "\n",
              "             Booked  Actions_at_arrest___Concealed_i  \\\n",
              "count  65276.000000                     65276.000000   \n",
              "mean       0.519502                         0.004075   \n",
              "std        0.499623                         0.063706   \n",
              "min        0.000000                         0.000000   \n",
              "25%        0.000000                         0.000000   \n",
              "50%        1.000000                         0.000000   \n",
              "75%        1.000000                         0.000000   \n",
              "max        1.000000                         1.000000   \n",
              "\n",
              "       Actions_at_arrest___Combative__  Actions_at_arrest___Resisted__d  \\\n",
              "count                     65276.000000                     65276.000000   \n",
              "mean                          0.044136                         0.038330   \n",
              "std                           0.205398                         0.191992   \n",
              "min                           0.000000                         0.000000   \n",
              "25%                           0.000000                         0.000000   \n",
              "50%                           0.000000                         0.000000   \n",
              "75%                           0.000000                         0.000000   \n",
              "max                           1.000000                         1.000000   \n",
              "\n",
              "       Actions_at_arrest___Mental_inst  Actions_at_arrest___Assaulted_o  \\\n",
              "count                     65276.000000                     65276.000000   \n",
              "mean                          0.033381                         0.006358   \n",
              "std                           0.179632                         0.079481   \n",
              "min                           0.000000                         0.000000   \n",
              "25%                           0.000000                         0.000000   \n",
              "50%                           0.000000                         0.000000   \n",
              "75%                           0.000000                         0.000000   \n",
              "max                           1.000000                         1.000000   \n",
              "\n",
              "       Actions_at_arrest___Cooperative  SearchReason_CauseInjury  \\\n",
              "count                     65276.000000               7801.000000   \n",
              "mean                          0.445937                  0.765671   \n",
              "std                           0.497072                  0.423606   \n",
              "min                           0.000000                  0.000000   \n",
              "25%                           0.000000                  1.000000   \n",
              "50%                           0.000000                  1.000000   \n",
              "75%                           1.000000                  1.000000   \n",
              "max                           1.000000                  1.000000   \n",
              "\n",
              "       SearchReason_AssistEscape  SearchReason_PossessWeapons  \\\n",
              "count                7801.000000                  7801.000000   \n",
              "mean                    0.343161                     0.453403   \n",
              "std                     0.474795                     0.497856   \n",
              "min                     0.000000                     0.000000   \n",
              "25%                     0.000000                     0.000000   \n",
              "50%                     0.000000                     0.000000   \n",
              "75%                     1.000000                     1.000000   \n",
              "max                     1.000000                     1.000000   \n",
              "\n",
              "       SearchReason_PossessEvidence   ItemsFound      ObjectId  \n",
              "count                   7801.000000  7801.000000  65276.000000  \n",
              "mean                       0.418921     0.373157  32638.500000  \n",
              "std                        0.493414     0.483674  18843.702423  \n",
              "min                        0.000000     0.000000      1.000000  \n",
              "25%                        0.000000     0.000000  16319.750000  \n",
              "50%                        0.000000     0.000000  32638.500000  \n",
              "75%                        1.000000     1.000000  48957.250000  \n",
              "max                        1.000000     1.000000  65276.000000  "
            ],
            "text/html": [
              "\n",
              "  <div id=\"df-640829b3-d668-4a74-a7ee-960aef039bdf\">\n",
              "    <div class=\"colab-df-container\">\n",
              "      <div>\n",
              "<style scoped>\n",
              "    .dataframe tbody tr th:only-of-type {\n",
              "        vertical-align: middle;\n",
              "    }\n",
              "\n",
              "    .dataframe tbody tr th {\n",
              "        vertical-align: top;\n",
              "    }\n",
              "\n",
              "    .dataframe thead th {\n",
              "        text-align: right;\n",
              "    }\n",
              "</style>\n",
              "<table border=\"1\" class=\"dataframe\">\n",
              "  <thead>\n",
              "    <tr style=\"text-align: right;\">\n",
              "      <th></th>\n",
              "      <th>Arrest_Year</th>\n",
              "      <th>EventID</th>\n",
              "      <th>ArrestID</th>\n",
              "      <th>PersonID</th>\n",
              "      <th>StripSearch</th>\n",
              "      <th>Booked</th>\n",
              "      <th>Actions_at_arrest___Concealed_i</th>\n",
              "      <th>Actions_at_arrest___Combative__</th>\n",
              "      <th>Actions_at_arrest___Resisted__d</th>\n",
              "      <th>Actions_at_arrest___Mental_inst</th>\n",
              "      <th>Actions_at_arrest___Assaulted_o</th>\n",
              "      <th>Actions_at_arrest___Cooperative</th>\n",
              "      <th>SearchReason_CauseInjury</th>\n",
              "      <th>SearchReason_AssistEscape</th>\n",
              "      <th>SearchReason_PossessWeapons</th>\n",
              "      <th>SearchReason_PossessEvidence</th>\n",
              "      <th>ItemsFound</th>\n",
              "      <th>ObjectId</th>\n",
              "    </tr>\n",
              "  </thead>\n",
              "  <tbody>\n",
              "    <tr>\n",
              "      <th>count</th>\n",
              "      <td>65276.000000</td>\n",
              "      <td>6.527600e+04</td>\n",
              "      <td>6.480700e+04</td>\n",
              "      <td>65276.000000</td>\n",
              "      <td>65276.000000</td>\n",
              "      <td>65276.000000</td>\n",
              "      <td>65276.000000</td>\n",
              "      <td>65276.000000</td>\n",
              "      <td>65276.000000</td>\n",
              "      <td>65276.000000</td>\n",
              "      <td>65276.000000</td>\n",
              "      <td>65276.000000</td>\n",
              "      <td>7801.000000</td>\n",
              "      <td>7801.000000</td>\n",
              "      <td>7801.000000</td>\n",
              "      <td>7801.000000</td>\n",
              "      <td>7801.000000</td>\n",
              "      <td>65276.000000</td>\n",
              "    </tr>\n",
              "    <tr>\n",
              "      <th>mean</th>\n",
              "      <td>2020.510096</td>\n",
              "      <td>1.029998e+06</td>\n",
              "      <td>6.032402e+06</td>\n",
              "      <td>318599.919695</td>\n",
              "      <td>0.119508</td>\n",
              "      <td>0.519502</td>\n",
              "      <td>0.004075</td>\n",
              "      <td>0.044136</td>\n",
              "      <td>0.038330</td>\n",
              "      <td>0.033381</td>\n",
              "      <td>0.006358</td>\n",
              "      <td>0.445937</td>\n",
              "      <td>0.765671</td>\n",
              "      <td>0.343161</td>\n",
              "      <td>0.453403</td>\n",
              "      <td>0.418921</td>\n",
              "      <td>0.373157</td>\n",
              "      <td>32638.500000</td>\n",
              "    </tr>\n",
              "    <tr>\n",
              "      <th>std</th>\n",
              "      <td>0.499902</td>\n",
              "      <td>1.731809e+04</td>\n",
              "      <td>1.870751e+04</td>\n",
              "      <td>10815.387928</td>\n",
              "      <td>0.324388</td>\n",
              "      <td>0.499623</td>\n",
              "      <td>0.063706</td>\n",
              "      <td>0.205398</td>\n",
              "      <td>0.191992</td>\n",
              "      <td>0.179632</td>\n",
              "      <td>0.079481</td>\n",
              "      <td>0.497072</td>\n",
              "      <td>0.423606</td>\n",
              "      <td>0.474795</td>\n",
              "      <td>0.497856</td>\n",
              "      <td>0.493414</td>\n",
              "      <td>0.483674</td>\n",
              "      <td>18843.702423</td>\n",
              "    </tr>\n",
              "    <tr>\n",
              "      <th>min</th>\n",
              "      <td>2020.000000</td>\n",
              "      <td>1.000000e+06</td>\n",
              "      <td>6.000000e+06</td>\n",
              "      <td>300000.000000</td>\n",
              "      <td>0.000000</td>\n",
              "      <td>0.000000</td>\n",
              "      <td>0.000000</td>\n",
              "      <td>0.000000</td>\n",
              "      <td>0.000000</td>\n",
              "      <td>0.000000</td>\n",
              "      <td>0.000000</td>\n",
              "      <td>0.000000</td>\n",
              "      <td>0.000000</td>\n",
              "      <td>0.000000</td>\n",
              "      <td>0.000000</td>\n",
              "      <td>0.000000</td>\n",
              "      <td>0.000000</td>\n",
              "      <td>1.000000</td>\n",
              "    </tr>\n",
              "    <tr>\n",
              "      <th>25%</th>\n",
              "      <td>2020.000000</td>\n",
              "      <td>1.015001e+06</td>\n",
              "      <td>6.016202e+06</td>\n",
              "      <td>309215.000000</td>\n",
              "      <td>0.000000</td>\n",
              "      <td>0.000000</td>\n",
              "      <td>0.000000</td>\n",
              "      <td>0.000000</td>\n",
              "      <td>0.000000</td>\n",
              "      <td>0.000000</td>\n",
              "      <td>0.000000</td>\n",
              "      <td>0.000000</td>\n",
              "      <td>1.000000</td>\n",
              "      <td>0.000000</td>\n",
              "      <td>0.000000</td>\n",
              "      <td>0.000000</td>\n",
              "      <td>0.000000</td>\n",
              "      <td>16319.750000</td>\n",
              "    </tr>\n",
              "    <tr>\n",
              "      <th>50%</th>\n",
              "      <td>2021.000000</td>\n",
              "      <td>1.030006e+06</td>\n",
              "      <td>6.032402e+06</td>\n",
              "      <td>318595.500000</td>\n",
              "      <td>0.000000</td>\n",
              "      <td>1.000000</td>\n",
              "      <td>0.000000</td>\n",
              "      <td>0.000000</td>\n",
              "      <td>0.000000</td>\n",
              "      <td>0.000000</td>\n",
              "      <td>0.000000</td>\n",
              "      <td>0.000000</td>\n",
              "      <td>1.000000</td>\n",
              "      <td>0.000000</td>\n",
              "      <td>0.000000</td>\n",
              "      <td>0.000000</td>\n",
              "      <td>0.000000</td>\n",
              "      <td>32638.500000</td>\n",
              "    </tr>\n",
              "    <tr>\n",
              "      <th>75%</th>\n",
              "      <td>2021.000000</td>\n",
              "      <td>1.044996e+06</td>\n",
              "      <td>6.048602e+06</td>\n",
              "      <td>327926.250000</td>\n",
              "      <td>0.000000</td>\n",
              "      <td>1.000000</td>\n",
              "      <td>0.000000</td>\n",
              "      <td>0.000000</td>\n",
              "      <td>0.000000</td>\n",
              "      <td>0.000000</td>\n",
              "      <td>0.000000</td>\n",
              "      <td>1.000000</td>\n",
              "      <td>1.000000</td>\n",
              "      <td>1.000000</td>\n",
              "      <td>1.000000</td>\n",
              "      <td>1.000000</td>\n",
              "      <td>1.000000</td>\n",
              "      <td>48957.250000</td>\n",
              "    </tr>\n",
              "    <tr>\n",
              "      <th>max</th>\n",
              "      <td>2021.000000</td>\n",
              "      <td>1.060002e+06</td>\n",
              "      <td>6.064804e+06</td>\n",
              "      <td>337346.000000</td>\n",
              "      <td>1.000000</td>\n",
              "      <td>1.000000</td>\n",
              "      <td>1.000000</td>\n",
              "      <td>1.000000</td>\n",
              "      <td>1.000000</td>\n",
              "      <td>1.000000</td>\n",
              "      <td>1.000000</td>\n",
              "      <td>1.000000</td>\n",
              "      <td>1.000000</td>\n",
              "      <td>1.000000</td>\n",
              "      <td>1.000000</td>\n",
              "      <td>1.000000</td>\n",
              "      <td>1.000000</td>\n",
              "      <td>65276.000000</td>\n",
              "    </tr>\n",
              "  </tbody>\n",
              "</table>\n",
              "</div>\n",
              "      <button class=\"colab-df-convert\" onclick=\"convertToInteractive('df-640829b3-d668-4a74-a7ee-960aef039bdf')\"\n",
              "              title=\"Convert this dataframe to an interactive table.\"\n",
              "              style=\"display:none;\">\n",
              "        \n",
              "  <svg xmlns=\"http://www.w3.org/2000/svg\" height=\"24px\"viewBox=\"0 0 24 24\"\n",
              "       width=\"24px\">\n",
              "    <path d=\"M0 0h24v24H0V0z\" fill=\"none\"/>\n",
              "    <path d=\"M18.56 5.44l.94 2.06.94-2.06 2.06-.94-2.06-.94-.94-2.06-.94 2.06-2.06.94zm-11 1L8.5 8.5l.94-2.06 2.06-.94-2.06-.94L8.5 2.5l-.94 2.06-2.06.94zm10 10l.94 2.06.94-2.06 2.06-.94-2.06-.94-.94-2.06-.94 2.06-2.06.94z\"/><path d=\"M17.41 7.96l-1.37-1.37c-.4-.4-.92-.59-1.43-.59-.52 0-1.04.2-1.43.59L10.3 9.45l-7.72 7.72c-.78.78-.78 2.05 0 2.83L4 21.41c.39.39.9.59 1.41.59.51 0 1.02-.2 1.41-.59l7.78-7.78 2.81-2.81c.8-.78.8-2.07 0-2.86zM5.41 20L4 18.59l7.72-7.72 1.47 1.35L5.41 20z\"/>\n",
              "  </svg>\n",
              "      </button>\n",
              "      \n",
              "  <style>\n",
              "    .colab-df-container {\n",
              "      display:flex;\n",
              "      flex-wrap:wrap;\n",
              "      gap: 12px;\n",
              "    }\n",
              "\n",
              "    .colab-df-convert {\n",
              "      background-color: #E8F0FE;\n",
              "      border: none;\n",
              "      border-radius: 50%;\n",
              "      cursor: pointer;\n",
              "      display: none;\n",
              "      fill: #1967D2;\n",
              "      height: 32px;\n",
              "      padding: 0 0 0 0;\n",
              "      width: 32px;\n",
              "    }\n",
              "\n",
              "    .colab-df-convert:hover {\n",
              "      background-color: #E2EBFA;\n",
              "      box-shadow: 0px 1px 2px rgba(60, 64, 67, 0.3), 0px 1px 3px 1px rgba(60, 64, 67, 0.15);\n",
              "      fill: #174EA6;\n",
              "    }\n",
              "\n",
              "    [theme=dark] .colab-df-convert {\n",
              "      background-color: #3B4455;\n",
              "      fill: #D2E3FC;\n",
              "    }\n",
              "\n",
              "    [theme=dark] .colab-df-convert:hover {\n",
              "      background-color: #434B5C;\n",
              "      box-shadow: 0px 1px 3px 1px rgba(0, 0, 0, 0.15);\n",
              "      filter: drop-shadow(0px 1px 2px rgba(0, 0, 0, 0.3));\n",
              "      fill: #FFFFFF;\n",
              "    }\n",
              "  </style>\n",
              "\n",
              "      <script>\n",
              "        const buttonEl =\n",
              "          document.querySelector('#df-640829b3-d668-4a74-a7ee-960aef039bdf button.colab-df-convert');\n",
              "        buttonEl.style.display =\n",
              "          google.colab.kernel.accessAllowed ? 'block' : 'none';\n",
              "\n",
              "        async function convertToInteractive(key) {\n",
              "          const element = document.querySelector('#df-640829b3-d668-4a74-a7ee-960aef039bdf');\n",
              "          const dataTable =\n",
              "            await google.colab.kernel.invokeFunction('convertToInteractive',\n",
              "                                                     [key], {});\n",
              "          if (!dataTable) return;\n",
              "\n",
              "          const docLinkHtml = 'Like what you see? Visit the ' +\n",
              "            '<a target=\"_blank\" href=https://colab.research.google.com/notebooks/data_table.ipynb>data table notebook</a>'\n",
              "            + ' to learn more about interactive tables.';\n",
              "          element.innerHTML = '';\n",
              "          dataTable['output_type'] = 'display_data';\n",
              "          await google.colab.output.renderOutput(dataTable, element);\n",
              "          const docLink = document.createElement('div');\n",
              "          docLink.innerHTML = docLinkHtml;\n",
              "          element.appendChild(docLink);\n",
              "        }\n",
              "      </script>\n",
              "    </div>\n",
              "  </div>\n",
              "  "
            ]
          },
          "metadata": {},
          "execution_count": 7
        }
      ]
    },
    {
      "cell_type": "code",
      "source": [
        "categorical = data_raw.dtypes[data_raw.dtypes == \"object\"].index\n",
        "print(categorical)\n",
        "\n",
        "data_raw[categorical].describe()"
      ],
      "metadata": {
        "colab": {
          "base_uri": "https://localhost:8080/",
          "height": 227
        },
        "id": "gh8U33uaCozd",
        "outputId": "241f659f-dac6-4b64-bc00-86677a23d2c6"
      },
      "execution_count": null,
      "outputs": [
        {
          "output_type": "stream",
          "name": "stdout",
          "text": [
            "Index(['Arrest_Month', 'race', 'Sex', 'age_group', 'youth', 'ArrestLocDiv',\n",
            "       'Occurrence_Category'],\n",
            "      dtype='object')\n"
          ]
        },
        {
          "output_type": "execute_result",
          "data": {
            "text/plain": [
              "       Arrest_Month   race    Sex            age_group        youth  \\\n",
              "count         65276  65272  65276                65252        65276   \n",
              "unique            4      8      3                    9            3   \n",
              "top         Jan-Mar  White      M  Aged 25 to 34 years  Not a youth   \n",
              "freq          17613  27723  52650                20949        62234   \n",
              "\n",
              "       ArrestLocDiv Occurrence_Category  \n",
              "count         65276               65111  \n",
              "unique           18                  31  \n",
              "top              XX             Assault  \n",
              "freq          29646                7726  "
            ],
            "text/html": [
              "\n",
              "  <div id=\"df-9fd1d5e2-10c9-4ad8-939f-7e32fc3ab378\">\n",
              "    <div class=\"colab-df-container\">\n",
              "      <div>\n",
              "<style scoped>\n",
              "    .dataframe tbody tr th:only-of-type {\n",
              "        vertical-align: middle;\n",
              "    }\n",
              "\n",
              "    .dataframe tbody tr th {\n",
              "        vertical-align: top;\n",
              "    }\n",
              "\n",
              "    .dataframe thead th {\n",
              "        text-align: right;\n",
              "    }\n",
              "</style>\n",
              "<table border=\"1\" class=\"dataframe\">\n",
              "  <thead>\n",
              "    <tr style=\"text-align: right;\">\n",
              "      <th></th>\n",
              "      <th>Arrest_Month</th>\n",
              "      <th>race</th>\n",
              "      <th>Sex</th>\n",
              "      <th>age_group</th>\n",
              "      <th>youth</th>\n",
              "      <th>ArrestLocDiv</th>\n",
              "      <th>Occurrence_Category</th>\n",
              "    </tr>\n",
              "  </thead>\n",
              "  <tbody>\n",
              "    <tr>\n",
              "      <th>count</th>\n",
              "      <td>65276</td>\n",
              "      <td>65272</td>\n",
              "      <td>65276</td>\n",
              "      <td>65252</td>\n",
              "      <td>65276</td>\n",
              "      <td>65276</td>\n",
              "      <td>65111</td>\n",
              "    </tr>\n",
              "    <tr>\n",
              "      <th>unique</th>\n",
              "      <td>4</td>\n",
              "      <td>8</td>\n",
              "      <td>3</td>\n",
              "      <td>9</td>\n",
              "      <td>3</td>\n",
              "      <td>18</td>\n",
              "      <td>31</td>\n",
              "    </tr>\n",
              "    <tr>\n",
              "      <th>top</th>\n",
              "      <td>Jan-Mar</td>\n",
              "      <td>White</td>\n",
              "      <td>M</td>\n",
              "      <td>Aged 25 to 34 years</td>\n",
              "      <td>Not a youth</td>\n",
              "      <td>XX</td>\n",
              "      <td>Assault</td>\n",
              "    </tr>\n",
              "    <tr>\n",
              "      <th>freq</th>\n",
              "      <td>17613</td>\n",
              "      <td>27723</td>\n",
              "      <td>52650</td>\n",
              "      <td>20949</td>\n",
              "      <td>62234</td>\n",
              "      <td>29646</td>\n",
              "      <td>7726</td>\n",
              "    </tr>\n",
              "  </tbody>\n",
              "</table>\n",
              "</div>\n",
              "      <button class=\"colab-df-convert\" onclick=\"convertToInteractive('df-9fd1d5e2-10c9-4ad8-939f-7e32fc3ab378')\"\n",
              "              title=\"Convert this dataframe to an interactive table.\"\n",
              "              style=\"display:none;\">\n",
              "        \n",
              "  <svg xmlns=\"http://www.w3.org/2000/svg\" height=\"24px\"viewBox=\"0 0 24 24\"\n",
              "       width=\"24px\">\n",
              "    <path d=\"M0 0h24v24H0V0z\" fill=\"none\"/>\n",
              "    <path d=\"M18.56 5.44l.94 2.06.94-2.06 2.06-.94-2.06-.94-.94-2.06-.94 2.06-2.06.94zm-11 1L8.5 8.5l.94-2.06 2.06-.94-2.06-.94L8.5 2.5l-.94 2.06-2.06.94zm10 10l.94 2.06.94-2.06 2.06-.94-2.06-.94-.94-2.06-.94 2.06-2.06.94z\"/><path d=\"M17.41 7.96l-1.37-1.37c-.4-.4-.92-.59-1.43-.59-.52 0-1.04.2-1.43.59L10.3 9.45l-7.72 7.72c-.78.78-.78 2.05 0 2.83L4 21.41c.39.39.9.59 1.41.59.51 0 1.02-.2 1.41-.59l7.78-7.78 2.81-2.81c.8-.78.8-2.07 0-2.86zM5.41 20L4 18.59l7.72-7.72 1.47 1.35L5.41 20z\"/>\n",
              "  </svg>\n",
              "      </button>\n",
              "      \n",
              "  <style>\n",
              "    .colab-df-container {\n",
              "      display:flex;\n",
              "      flex-wrap:wrap;\n",
              "      gap: 12px;\n",
              "    }\n",
              "\n",
              "    .colab-df-convert {\n",
              "      background-color: #E8F0FE;\n",
              "      border: none;\n",
              "      border-radius: 50%;\n",
              "      cursor: pointer;\n",
              "      display: none;\n",
              "      fill: #1967D2;\n",
              "      height: 32px;\n",
              "      padding: 0 0 0 0;\n",
              "      width: 32px;\n",
              "    }\n",
              "\n",
              "    .colab-df-convert:hover {\n",
              "      background-color: #E2EBFA;\n",
              "      box-shadow: 0px 1px 2px rgba(60, 64, 67, 0.3), 0px 1px 3px 1px rgba(60, 64, 67, 0.15);\n",
              "      fill: #174EA6;\n",
              "    }\n",
              "\n",
              "    [theme=dark] .colab-df-convert {\n",
              "      background-color: #3B4455;\n",
              "      fill: #D2E3FC;\n",
              "    }\n",
              "\n",
              "    [theme=dark] .colab-df-convert:hover {\n",
              "      background-color: #434B5C;\n",
              "      box-shadow: 0px 1px 3px 1px rgba(0, 0, 0, 0.15);\n",
              "      filter: drop-shadow(0px 1px 2px rgba(0, 0, 0, 0.3));\n",
              "      fill: #FFFFFF;\n",
              "    }\n",
              "  </style>\n",
              "\n",
              "      <script>\n",
              "        const buttonEl =\n",
              "          document.querySelector('#df-9fd1d5e2-10c9-4ad8-939f-7e32fc3ab378 button.colab-df-convert');\n",
              "        buttonEl.style.display =\n",
              "          google.colab.kernel.accessAllowed ? 'block' : 'none';\n",
              "\n",
              "        async function convertToInteractive(key) {\n",
              "          const element = document.querySelector('#df-9fd1d5e2-10c9-4ad8-939f-7e32fc3ab378');\n",
              "          const dataTable =\n",
              "            await google.colab.kernel.invokeFunction('convertToInteractive',\n",
              "                                                     [key], {});\n",
              "          if (!dataTable) return;\n",
              "\n",
              "          const docLinkHtml = 'Like what you see? Visit the ' +\n",
              "            '<a target=\"_blank\" href=https://colab.research.google.com/notebooks/data_table.ipynb>data table notebook</a>'\n",
              "            + ' to learn more about interactive tables.';\n",
              "          element.innerHTML = '';\n",
              "          dataTable['output_type'] = 'display_data';\n",
              "          await google.colab.output.renderOutput(dataTable, element);\n",
              "          const docLink = document.createElement('div');\n",
              "          docLink.innerHTML = docLinkHtml;\n",
              "          element.appendChild(docLink);\n",
              "        }\n",
              "      </script>\n",
              "    </div>\n",
              "  </div>\n",
              "  "
            ]
          },
          "metadata": {},
          "execution_count": 8
        }
      ]
    },
    {
      "cell_type": "code",
      "source": [
        "data_raw.isnull().sum()"
      ],
      "metadata": {
        "id": "S7X0Sq_ORpOa",
        "colab": {
          "base_uri": "https://localhost:8080/"
        },
        "outputId": "db399919-8a96-418e-e4b1-0808b76d48d9"
      },
      "execution_count": null,
      "outputs": [
        {
          "output_type": "execute_result",
          "data": {
            "text/plain": [
              "Arrest_Year                            0\n",
              "Arrest_Month                           0\n",
              "EventID                                0\n",
              "ArrestID                             469\n",
              "PersonID                               0\n",
              "race                                   4\n",
              "Sex                                    0\n",
              "age_group                             24\n",
              "youth                                  0\n",
              "ArrestLocDiv                           0\n",
              "StripSearch                            0\n",
              "Booked                                 0\n",
              "Occurrence_Category                  165\n",
              "Actions_at_arrest___Concealed_i        0\n",
              "Actions_at_arrest___Combative__        0\n",
              "Actions_at_arrest___Resisted__d        0\n",
              "Actions_at_arrest___Mental_inst        0\n",
              "Actions_at_arrest___Assaulted_o        0\n",
              "Actions_at_arrest___Cooperative        0\n",
              "SearchReason_CauseInjury           57475\n",
              "SearchReason_AssistEscape          57475\n",
              "SearchReason_PossessWeapons        57475\n",
              "SearchReason_PossessEvidence       57475\n",
              "ItemsFound                         57475\n",
              "ObjectId                               0\n",
              "dtype: int64"
            ]
          },
          "metadata": {},
          "execution_count": 9
        }
      ]
    },
    {
      "cell_type": "code",
      "source": [
        "# inplace the missing value with unknown\n",
        "data_raw['race'].fillna('Unknown or Legacy',inplace=True)\n",
        "data_raw['age_group'].fillna('Unknown',inplace=True)\n",
        "data_raw['Occurrence_Category'].fillna('Other Offence',inplace=True)"
      ],
      "metadata": {
        "id": "E5xrYfBxpkTj"
      },
      "execution_count": null,
      "outputs": []
    },
    {
      "cell_type": "markdown",
      "source": [
        "Accourding to the summary of the dataset: due to issues with the booking template, there may be some records where a person was strip searched, but the data does not indicate a booking (i.e., value = 0); in those cases, the user should presume a booking took place. Thus, we correct the value in column - booked. "
      ],
      "metadata": {
        "id": "PMrCJC3TRwmF"
      }
    },
    {
      "cell_type": "code",
      "source": [
        "data_raw['StripSearch'].value_counts(dropna=False)"
      ],
      "metadata": {
        "colab": {
          "base_uri": "https://localhost:8080/"
        },
        "id": "UWE-arWLDOft",
        "outputId": "7b157940-ec27-4441-f7bd-8bbd7e5db0da"
      },
      "execution_count": null,
      "outputs": [
        {
          "output_type": "execute_result",
          "data": {
            "text/plain": [
              "0    57475\n",
              "1     7801\n",
              "Name: StripSearch, dtype: int64"
            ]
          },
          "metadata": {},
          "execution_count": 11
        }
      ]
    },
    {
      "cell_type": "code",
      "source": [
        "data_raw['Booked'].value_counts(dropna=False)"
      ],
      "metadata": {
        "colab": {
          "base_uri": "https://localhost:8080/"
        },
        "id": "ZCxgPA2CG12d",
        "outputId": "eff3753c-cbb2-4c8b-9bd3-9221f31746c7"
      },
      "execution_count": null,
      "outputs": [
        {
          "output_type": "execute_result",
          "data": {
            "text/plain": [
              "1    33911\n",
              "0    31365\n",
              "Name: Booked, dtype: int64"
            ]
          },
          "metadata": {},
          "execution_count": 12
        }
      ]
    },
    {
      "cell_type": "code",
      "source": [
        "data_raw.loc[data_raw.StripSearch==1, 'Booked'] = 1"
      ],
      "metadata": {
        "id": "QqqiUa6IG15g"
      },
      "execution_count": null,
      "outputs": []
    },
    {
      "cell_type": "code",
      "source": [
        "data_raw['Booked'].value_counts()"
      ],
      "metadata": {
        "colab": {
          "base_uri": "https://localhost:8080/"
        },
        "id": "FldDlRGHI46_",
        "outputId": "3a210f60-b3d5-4050-df37-fe1dd02b538c"
      },
      "execution_count": null,
      "outputs": [
        {
          "output_type": "execute_result",
          "data": {
            "text/plain": [
              "1    34483\n",
              "0    30793\n",
              "Name: Booked, dtype: int64"
            ]
          },
          "metadata": {},
          "execution_count": 14
        }
      ]
    },
    {
      "cell_type": "markdown",
      "source": [
        "# **Preprocessing**"
      ],
      "metadata": {
        "id": "04102-53FeCi"
      }
    },
    {
      "cell_type": "markdown",
      "source": [
        "## unify the values in Categorical columns"
      ],
      "metadata": {
        "id": "64b5-UQXICKC"
      }
    },
    {
      "cell_type": "code",
      "source": [
        "data_raw.Sex.value_counts(dropna=False)"
      ],
      "metadata": {
        "colab": {
          "base_uri": "https://localhost:8080/"
        },
        "id": "JEB4wznY2Q6B",
        "outputId": "65d01315-1790-41c3-8b58-82b4087bc3c3"
      },
      "execution_count": null,
      "outputs": [
        {
          "output_type": "execute_result",
          "data": {
            "text/plain": [
              "M    52650\n",
              "F    12617\n",
              "U        9\n",
              "Name: Sex, dtype: int64"
            ]
          },
          "metadata": {},
          "execution_count": 15
        }
      ]
    },
    {
      "cell_type": "markdown",
      "source": [
        "### age group"
      ],
      "metadata": {
        "id": "zLMn8xDDF3CU"
      }
    },
    {
      "cell_type": "code",
      "source": [
        "data_raw.age_group.value_counts(dropna=False).sort_index(ascending=True)"
      ],
      "metadata": {
        "colab": {
          "base_uri": "https://localhost:8080/"
        },
        "id": "Yp-lUx582Q64",
        "outputId": "990e8627-b7a9-4a4f-b129-04257cfc787f"
      },
      "execution_count": null,
      "outputs": [
        {
          "output_type": "execute_result",
          "data": {
            "text/plain": [
              "Aged 17 years and under       1361\n",
              "Aged 17 years and younger     1681\n",
              "Aged 18 to 24 years          10041\n",
              "Aged 25 to 34 years          20949\n",
              "Aged 35 to 44 years          16242\n",
              "Aged 45 to 54 years           9066\n",
              "Aged 55 to 64 years           4590\n",
              "Aged 65 and older              624\n",
              "Aged 65 years and older        698\n",
              "Unknown                         24\n",
              "Name: age_group, dtype: int64"
            ]
          },
          "metadata": {},
          "execution_count": 16
        }
      ]
    },
    {
      "cell_type": "code",
      "source": [
        "# unify the name of values\n",
        "data_raw.loc[data_raw['age_group']=='Aged 65 years and older', 'age_group'] = 'Elder(Aged 65 and older)'\n",
        "data_raw.loc[data_raw['age_group']=='Aged 65 and older', 'age_group'] = 'Elder(Aged 65 and older)'\n",
        "data_raw.loc[data_raw['age_group']=='Aged 45 to 54 years', 'age_group']='Middle_age(Aged 45 to 64 years)'\n",
        "data_raw.loc[data_raw['age_group']=='Aged 55 to 64 years', 'age_group'] = 'Middle_age(Aged 45 to 64 years)'            \n",
        "data_raw.loc[data_raw['age_group']=='Aged 35 to 44 years','age_group'] = 'Adult(Aged 25 to 44 years)'\n",
        "data_raw.loc[data_raw['age_group']=='Aged 25 to 34 years', 'age_group'] = 'Adult(Aged 25 to 44 years)'\n",
        "data_raw.loc[data_raw['age_group']=='Aged 18 to 24 years', 'age_group'] = 'Young_adult(Aged 18 to 24 years)'\n",
        "data_raw.loc[data_raw['age_group']=='Aged 17 years and under','age_group'] = 'Youth(Aged 17 years and under)'\n",
        "data_raw.loc[data_raw['age_group']=='Aged 17 years and younger', 'age_group'] = 'Youth(Aged 17 years and under)'"
      ],
      "metadata": {
        "id": "iaz-SPuzW0Vc"
      },
      "execution_count": null,
      "outputs": []
    },
    {
      "cell_type": "code",
      "source": [
        "col_index = ['Youth(Aged 17 years and under)', 'Young_adult(Aged 18 to 24 years)', 'Adult(Aged 25 to 44 years)', 'Middle_age(Aged 45 to 64 years)', 'Elder(Aged 65 and older)']\n",
        "data_raw.age_group.value_counts(dropna=False).reindex(index = col_index)"
      ],
      "metadata": {
        "colab": {
          "base_uri": "https://localhost:8080/"
        },
        "id": "yymTZmqnFiSW",
        "outputId": "23fec225-a23e-4f98-e232-ced2cbeee606"
      },
      "execution_count": null,
      "outputs": [
        {
          "output_type": "execute_result",
          "data": {
            "text/plain": [
              "Youth(Aged 17 years and under)       3042\n",
              "Young_adult(Aged 18 to 24 years)    10041\n",
              "Adult(Aged 25 to 44 years)          37191\n",
              "Middle_age(Aged 45 to 64 years)     13656\n",
              "Elder(Aged 65 and older)             1322\n",
              "Name: age_group, dtype: int64"
            ]
          },
          "metadata": {},
          "execution_count": 50
        }
      ]
    },
    {
      "cell_type": "markdown",
      "source": [
        "### race"
      ],
      "metadata": {
        "id": "7WcmC73eYyUU"
      }
    },
    {
      "cell_type": "code",
      "source": [
        "data_raw.race.value_counts(dropna=False)"
      ],
      "metadata": {
        "colab": {
          "base_uri": "https://localhost:8080/"
        },
        "id": "9giToSJqxooF",
        "outputId": "7bb9c1fc-56ef-4fcf-ab3a-1a3533ede3c2"
      },
      "execution_count": null,
      "outputs": [
        {
          "output_type": "execute_result",
          "data": {
            "text/plain": [
              "White                   27723\n",
              "Black                   17526\n",
              "Unknown or Legacy        5060\n",
              "East/Southeast Asian     4415\n",
              "South Asian              3613\n",
              "Middle-Eastern           3237\n",
              "Indigenous               1934\n",
              "Latino                   1768\n",
              "Name: race, dtype: int64"
            ]
          },
          "metadata": {},
          "execution_count": 19
        }
      ]
    },
    {
      "cell_type": "code",
      "source": [
        "data_raw.loc[data_raw['race']=='East/Southeast Asian', 'race'] = 'Asian'\n",
        "data_raw.loc[data_raw['race']=='South Asian', 'race'] = 'Asian'"
      ],
      "metadata": {
        "id": "FUFzywaUOSJb"
      },
      "execution_count": null,
      "outputs": []
    },
    {
      "cell_type": "code",
      "source": [
        "data_raw.race.value_counts()"
      ],
      "metadata": {
        "id": "bIBh8PtJOTWB",
        "colab": {
          "base_uri": "https://localhost:8080/"
        },
        "outputId": "6c170489-535b-4f0a-f53d-0c2497e06deb"
      },
      "execution_count": null,
      "outputs": [
        {
          "output_type": "execute_result",
          "data": {
            "text/plain": [
              "White                27723\n",
              "Black                17526\n",
              "Asian                 8028\n",
              "Unknown or Legacy     5060\n",
              "Middle-Eastern        3237\n",
              "Indigenous            1934\n",
              "Latino                1768\n",
              "Name: race, dtype: int64"
            ]
          },
          "metadata": {},
          "execution_count": 21
        }
      ]
    },
    {
      "cell_type": "markdown",
      "source": [
        "### Occurrence_Category"
      ],
      "metadata": {
        "id": "vyInjpLwF91-"
      }
    },
    {
      "cell_type": "code",
      "source": [
        "data_raw.Occurrence_Category.value_counts(ascending=True).sort_index(ascending=True)"
      ],
      "metadata": {
        "colab": {
          "base_uri": "https://localhost:8080/"
        },
        "id": "LqJ4lFdHjQkb",
        "outputId": "34c38c65-569b-4e39-bb86-5d13ddc22ea0"
      },
      "execution_count": null,
      "outputs": [
        {
          "output_type": "execute_result",
          "data": {
            "text/plain": [
              "Assault                                            7726\n",
              "Assault & Other crimes against persons             7235\n",
              "Break & Enter                                       916\n",
              "Break and Enter                                     868\n",
              "Crimes against Children                              69\n",
              "Drug Related                                       2751\n",
              "FTA/FTC, Compliance Check & Parollee               3877\n",
              "FTA/FTC/Compliance Check/Parollee                  4246\n",
              "Fraud                                               474\n",
              "Harassment & Threatening                           1268\n",
              "Harassment/Threatening                             1346\n",
              "Homicide                                             73\n",
              "Impaired                                           1362\n",
              "LLA                                                 586\n",
              "Mental Health                                       239\n",
              "Mischief                                           1322\n",
              "Mischief & Fraud                                   1732\n",
              "Other Offence                                      2137\n",
              "Other Statute                                       944\n",
              "Other Statute & Other Incident Type                2344\n",
              "Police Category - Administrative                   3888\n",
              "Police Category - Incident                          564\n",
              "Robbery & Theft                                    4580\n",
              "Robbery/Theft                                      3754\n",
              "Sexual Related Crime                                839\n",
              "Sexual Related Crimes & Crimes Against Children     793\n",
              "Vehicle Related                                     768\n",
              "Vehicle Related (inc. Impaired)                    1977\n",
              "Warrant                                            4385\n",
              "Weapons                                            1108\n",
              "Weapons & Homicide                                 1105\n",
              "Name: Occurrence_Category, dtype: int64"
            ]
          },
          "metadata": {},
          "execution_count": 22
        }
      ]
    },
    {
      "cell_type": "code",
      "source": [
        "data_raw.loc[data_raw['Occurrence_Category']=='Assault', 'Occurrence_Category'] = 'Assault & Other crimes against persons'\n",
        "\n",
        "data_raw.loc[data_raw['Occurrence_Category']=='Break and Enter', 'Occurrence_Category'] = 'Break & Enter'\n",
        "\n",
        "data_raw.loc[data_raw['Occurrence_Category']=='FTA/FTC/Compliance Check/Parollee', 'Occurrence_Category'] = 'FTA/FTC, Compliance Check & Parollee'\n",
        "\n",
        "data_raw.loc[data_raw['Occurrence_Category']=='Harassment/Threatening', 'Occurrence_Category'] = 'Harassment & Threatening'\n",
        "\n",
        "#data_raw.loc[data_raw['Occurrence_Category']=='Fraud', 'Occurrence_Category'] = 'Mischief & Fraud'\n",
        "#data_raw.loc[data_raw['Occurrence_Category']=='Mischief', 'Occurrence_Category'] = 'Mischief & Fraud'\n",
        "\n",
        "data_raw.loc[data_raw['Occurrence_Category']=='Robbery/Theft', 'Occurrence_Category'] = 'Robbery & Theft'\n",
        "\n",
        "#data_raw.loc[data_raw['Occurrence_Category']=='Sexual Related Crime', 'Occurrence_Category'] = 'Sexual Related Crimes & Crimes Against Children'\n",
        "#data_raw.loc[data_raw['Occurrence_Category']=='Crimes against Children', 'Occurrence_Category'] = 'Sexual Related Crimes & Crimes Against Children'\n",
        "\n",
        "data_raw.loc[data_raw['Occurrence_Category']=='Other Statute', 'Occurrence_Category'] = 'Other Statute & Other Incident Type'\n",
        "data_raw.loc[data_raw['Occurrence_Category']=='Other Offence', 'Occurrence_Category'] = 'Other Statute & Other Incident Type'\n",
        "\n",
        "#data_raw.loc[data_raw['Occurrence_Category']=='Vehicle Related', 'Occurrence_Category'] = 'Vehicle Related (inc. Impaired)'\n",
        "data_raw.loc[data_raw['Occurrence_Category']=='Impaired', 'Occurrence_Category'] = 'Vehicle Related (inc. Impaired)'\n",
        "\n",
        "#data_raw.loc[data_raw['Occurrence_Category']=='Weapons', 'Occurrence_Category'] = 'Weapons & Homicide'\n",
        "#data_raw.loc[data_raw['Occurrence_Category']=='Homicide', 'Occurrence_Category'] = 'Weapons & Homicide'\n"
      ],
      "metadata": {
        "id": "t2os2n8uBb20"
      },
      "execution_count": null,
      "outputs": []
    },
    {
      "cell_type": "code",
      "source": [
        "data_raw.Occurrence_Category.value_counts(ascending=True).sort_index(ascending=True)"
      ],
      "metadata": {
        "colab": {
          "base_uri": "https://localhost:8080/"
        },
        "id": "j3vxMKVwFRhJ",
        "outputId": "401eef6a-0a44-435e-c276-52bd96452e17"
      },
      "execution_count": null,
      "outputs": [
        {
          "output_type": "execute_result",
          "data": {
            "text/plain": [
              "Assault & Other crimes against persons             14961\n",
              "Break & Enter                                       1784\n",
              "Crimes against Children                               69\n",
              "Drug Related                                        2751\n",
              "FTA/FTC, Compliance Check & Parollee                8123\n",
              "Fraud                                                474\n",
              "Harassment & Threatening                            2614\n",
              "Homicide                                              73\n",
              "LLA                                                  586\n",
              "Mental Health                                        239\n",
              "Mischief                                            1322\n",
              "Mischief & Fraud                                    1732\n",
              "Other Statute & Other Incident Type                 5425\n",
              "Police Category - Administrative                    3888\n",
              "Police Category - Incident                           564\n",
              "Robbery & Theft                                     8334\n",
              "Sexual Related Crime                                 839\n",
              "Sexual Related Crimes & Crimes Against Children      793\n",
              "Vehicle Related                                      768\n",
              "Vehicle Related (inc. Impaired)                     3339\n",
              "Warrant                                             4385\n",
              "Weapons                                             1108\n",
              "Weapons & Homicide                                  1105\n",
              "Name: Occurrence_Category, dtype: int64"
            ]
          },
          "metadata": {},
          "execution_count": 24
        }
      ]
    },
    {
      "cell_type": "markdown",
      "source": [
        "#generate the continous variable"
      ],
      "metadata": {
        "id": "DdCezzYEpKCd"
      }
    },
    {
      "cell_type": "code",
      "source": [
        "#caculate the number of strip search/custody/Arrest based on categorical variable\n",
        "dr = data_raw.groupby(['Arrest_Year', 'Arrest_Month','Occurrence_Category','youth']).agg({\n",
        "                                        'EventID':'count', 'StripSearch':'sum','Booked':'sum',\n",
        "                                         })\n",
        "       \n",
        "dr.reset_index(inplace=True)\n",
        "dr.head()"
      ],
      "metadata": {
        "colab": {
          "base_uri": "https://localhost:8080/",
          "height": 206
        },
        "id": "kLxXofcfpPrD",
        "outputId": "67816f9a-9449-417a-e30b-ceff72bc4b62"
      },
      "execution_count": null,
      "outputs": [
        {
          "output_type": "execute_result",
          "data": {
            "text/plain": [
              "   Arrest_Year Arrest_Month                     Occurrence_Category  \\\n",
              "0         2020     Apr-June  Assault & Other crimes against persons   \n",
              "1         2020     Apr-June  Assault & Other crimes against persons   \n",
              "2         2020     Apr-June                           Break & Enter   \n",
              "3         2020     Apr-June                           Break & Enter   \n",
              "4         2020     Apr-June                            Drug Related   \n",
              "\n",
              "                         youth  EventID  StripSearch  Booked  \n",
              "0                  Not a youth     1594          381     888  \n",
              "1  Youth (aged 17 and younger)       38            6      11  \n",
              "2                  Not a youth      241          137     173  \n",
              "3  Youth (aged 17 and younger)       13            1       1  \n",
              "4                  Not a youth      347          201     216  "
            ],
            "text/html": [
              "\n",
              "  <div id=\"df-dad156d8-28d4-4539-b71d-ef7b63227ce6\">\n",
              "    <div class=\"colab-df-container\">\n",
              "      <div>\n",
              "<style scoped>\n",
              "    .dataframe tbody tr th:only-of-type {\n",
              "        vertical-align: middle;\n",
              "    }\n",
              "\n",
              "    .dataframe tbody tr th {\n",
              "        vertical-align: top;\n",
              "    }\n",
              "\n",
              "    .dataframe thead th {\n",
              "        text-align: right;\n",
              "    }\n",
              "</style>\n",
              "<table border=\"1\" class=\"dataframe\">\n",
              "  <thead>\n",
              "    <tr style=\"text-align: right;\">\n",
              "      <th></th>\n",
              "      <th>Arrest_Year</th>\n",
              "      <th>Arrest_Month</th>\n",
              "      <th>Occurrence_Category</th>\n",
              "      <th>youth</th>\n",
              "      <th>EventID</th>\n",
              "      <th>StripSearch</th>\n",
              "      <th>Booked</th>\n",
              "    </tr>\n",
              "  </thead>\n",
              "  <tbody>\n",
              "    <tr>\n",
              "      <th>0</th>\n",
              "      <td>2020</td>\n",
              "      <td>Apr-June</td>\n",
              "      <td>Assault &amp; Other crimes against persons</td>\n",
              "      <td>Not a youth</td>\n",
              "      <td>1594</td>\n",
              "      <td>381</td>\n",
              "      <td>888</td>\n",
              "    </tr>\n",
              "    <tr>\n",
              "      <th>1</th>\n",
              "      <td>2020</td>\n",
              "      <td>Apr-June</td>\n",
              "      <td>Assault &amp; Other crimes against persons</td>\n",
              "      <td>Youth (aged 17 and younger)</td>\n",
              "      <td>38</td>\n",
              "      <td>6</td>\n",
              "      <td>11</td>\n",
              "    </tr>\n",
              "    <tr>\n",
              "      <th>2</th>\n",
              "      <td>2020</td>\n",
              "      <td>Apr-June</td>\n",
              "      <td>Break &amp; Enter</td>\n",
              "      <td>Not a youth</td>\n",
              "      <td>241</td>\n",
              "      <td>137</td>\n",
              "      <td>173</td>\n",
              "    </tr>\n",
              "    <tr>\n",
              "      <th>3</th>\n",
              "      <td>2020</td>\n",
              "      <td>Apr-June</td>\n",
              "      <td>Break &amp; Enter</td>\n",
              "      <td>Youth (aged 17 and younger)</td>\n",
              "      <td>13</td>\n",
              "      <td>1</td>\n",
              "      <td>1</td>\n",
              "    </tr>\n",
              "    <tr>\n",
              "      <th>4</th>\n",
              "      <td>2020</td>\n",
              "      <td>Apr-June</td>\n",
              "      <td>Drug Related</td>\n",
              "      <td>Not a youth</td>\n",
              "      <td>347</td>\n",
              "      <td>201</td>\n",
              "      <td>216</td>\n",
              "    </tr>\n",
              "  </tbody>\n",
              "</table>\n",
              "</div>\n",
              "      <button class=\"colab-df-convert\" onclick=\"convertToInteractive('df-dad156d8-28d4-4539-b71d-ef7b63227ce6')\"\n",
              "              title=\"Convert this dataframe to an interactive table.\"\n",
              "              style=\"display:none;\">\n",
              "        \n",
              "  <svg xmlns=\"http://www.w3.org/2000/svg\" height=\"24px\"viewBox=\"0 0 24 24\"\n",
              "       width=\"24px\">\n",
              "    <path d=\"M0 0h24v24H0V0z\" fill=\"none\"/>\n",
              "    <path d=\"M18.56 5.44l.94 2.06.94-2.06 2.06-.94-2.06-.94-.94-2.06-.94 2.06-2.06.94zm-11 1L8.5 8.5l.94-2.06 2.06-.94-2.06-.94L8.5 2.5l-.94 2.06-2.06.94zm10 10l.94 2.06.94-2.06 2.06-.94-2.06-.94-.94-2.06-.94 2.06-2.06.94z\"/><path d=\"M17.41 7.96l-1.37-1.37c-.4-.4-.92-.59-1.43-.59-.52 0-1.04.2-1.43.59L10.3 9.45l-7.72 7.72c-.78.78-.78 2.05 0 2.83L4 21.41c.39.39.9.59 1.41.59.51 0 1.02-.2 1.41-.59l7.78-7.78 2.81-2.81c.8-.78.8-2.07 0-2.86zM5.41 20L4 18.59l7.72-7.72 1.47 1.35L5.41 20z\"/>\n",
              "  </svg>\n",
              "      </button>\n",
              "      \n",
              "  <style>\n",
              "    .colab-df-container {\n",
              "      display:flex;\n",
              "      flex-wrap:wrap;\n",
              "      gap: 12px;\n",
              "    }\n",
              "\n",
              "    .colab-df-convert {\n",
              "      background-color: #E8F0FE;\n",
              "      border: none;\n",
              "      border-radius: 50%;\n",
              "      cursor: pointer;\n",
              "      display: none;\n",
              "      fill: #1967D2;\n",
              "      height: 32px;\n",
              "      padding: 0 0 0 0;\n",
              "      width: 32px;\n",
              "    }\n",
              "\n",
              "    .colab-df-convert:hover {\n",
              "      background-color: #E2EBFA;\n",
              "      box-shadow: 0px 1px 2px rgba(60, 64, 67, 0.3), 0px 1px 3px 1px rgba(60, 64, 67, 0.15);\n",
              "      fill: #174EA6;\n",
              "    }\n",
              "\n",
              "    [theme=dark] .colab-df-convert {\n",
              "      background-color: #3B4455;\n",
              "      fill: #D2E3FC;\n",
              "    }\n",
              "\n",
              "    [theme=dark] .colab-df-convert:hover {\n",
              "      background-color: #434B5C;\n",
              "      box-shadow: 0px 1px 3px 1px rgba(0, 0, 0, 0.15);\n",
              "      filter: drop-shadow(0px 1px 2px rgba(0, 0, 0, 0.3));\n",
              "      fill: #FFFFFF;\n",
              "    }\n",
              "  </style>\n",
              "\n",
              "      <script>\n",
              "        const buttonEl =\n",
              "          document.querySelector('#df-dad156d8-28d4-4539-b71d-ef7b63227ce6 button.colab-df-convert');\n",
              "        buttonEl.style.display =\n",
              "          google.colab.kernel.accessAllowed ? 'block' : 'none';\n",
              "\n",
              "        async function convertToInteractive(key) {\n",
              "          const element = document.querySelector('#df-dad156d8-28d4-4539-b71d-ef7b63227ce6');\n",
              "          const dataTable =\n",
              "            await google.colab.kernel.invokeFunction('convertToInteractive',\n",
              "                                                     [key], {});\n",
              "          if (!dataTable) return;\n",
              "\n",
              "          const docLinkHtml = 'Like what you see? Visit the ' +\n",
              "            '<a target=\"_blank\" href=https://colab.research.google.com/notebooks/data_table.ipynb>data table notebook</a>'\n",
              "            + ' to learn more about interactive tables.';\n",
              "          element.innerHTML = '';\n",
              "          dataTable['output_type'] = 'display_data';\n",
              "          await google.colab.output.renderOutput(dataTable, element);\n",
              "          const docLink = document.createElement('div');\n",
              "          docLink.innerHTML = docLinkHtml;\n",
              "          element.appendChild(docLink);\n",
              "        }\n",
              "      </script>\n",
              "    </div>\n",
              "  </div>\n",
              "  "
            ]
          },
          "metadata": {},
          "execution_count": 63
        }
      ]
    },
    {
      "cell_type": "code",
      "source": [
        "dr.shape"
      ],
      "metadata": {
        "colab": {
          "base_uri": "https://localhost:8080/"
        },
        "id": "ET1QZnaMZ0I-",
        "outputId": "bf6c87c9-c810-4e4b-b3a0-015abb51c4d1"
      },
      "execution_count": null,
      "outputs": [
        {
          "output_type": "execute_result",
          "data": {
            "text/plain": [
              "(251, 7)"
            ]
          },
          "metadata": {},
          "execution_count": 64
        }
      ]
    },
    {
      "cell_type": "code",
      "source": [
        "# caculate the ratio in certain year, certain month, certain Occurrence_Category and youth or not \n",
        "dr['ratio'] = dr.StripSearch/dr.EventID\n",
        "dr"
      ],
      "metadata": {
        "colab": {
          "base_uri": "https://localhost:8080/",
          "height": 424
        },
        "id": "JAel4ctFWp6m",
        "outputId": "74c942b4-e8cd-4781-cae0-71b8f70943bd"
      },
      "execution_count": null,
      "outputs": [
        {
          "output_type": "execute_result",
          "data": {
            "text/plain": [
              "     Arrest_Year Arrest_Month                     Occurrence_Category  \\\n",
              "0           2020     Apr-June  Assault & Other crimes against persons   \n",
              "1           2020     Apr-June  Assault & Other crimes against persons   \n",
              "2           2020     Apr-June                           Break & Enter   \n",
              "3           2020     Apr-June                           Break & Enter   \n",
              "4           2020     Apr-June                            Drug Related   \n",
              "..           ...          ...                                     ...   \n",
              "246         2021      Oct-Dec         Vehicle Related (inc. Impaired)   \n",
              "247         2021      Oct-Dec                                 Warrant   \n",
              "248         2021      Oct-Dec                                 Warrant   \n",
              "249         2021      Oct-Dec                                 Weapons   \n",
              "250         2021      Oct-Dec                                 Weapons   \n",
              "\n",
              "                               youth  EventID  StripSearch  Booked     ratio  \n",
              "0                        Not a youth     1594          381     888  0.239021  \n",
              "1        Youth (aged 17 and younger)       38            6      11  0.157895  \n",
              "2                        Not a youth      241          137     173  0.568465  \n",
              "3        Youth (aged 17 and younger)       13            1       1  0.076923  \n",
              "4                        Not a youth      347          201     216  0.579251  \n",
              "..                               ...      ...          ...     ...       ...  \n",
              "246  Youth (aged 17 years and under)        1            0       1  0.000000  \n",
              "247                      Not a youth      208            1      45  0.004808  \n",
              "248  Youth (aged 17 years and under)        7            0       4  0.000000  \n",
              "249                      Not a youth      192           13     109  0.067708  \n",
              "250  Youth (aged 17 years and under)       39            2      19  0.051282  \n",
              "\n",
              "[251 rows x 8 columns]"
            ],
            "text/html": [
              "\n",
              "  <div id=\"df-3a9584c2-a8b7-4f42-9391-8d135cf265de\">\n",
              "    <div class=\"colab-df-container\">\n",
              "      <div>\n",
              "<style scoped>\n",
              "    .dataframe tbody tr th:only-of-type {\n",
              "        vertical-align: middle;\n",
              "    }\n",
              "\n",
              "    .dataframe tbody tr th {\n",
              "        vertical-align: top;\n",
              "    }\n",
              "\n",
              "    .dataframe thead th {\n",
              "        text-align: right;\n",
              "    }\n",
              "</style>\n",
              "<table border=\"1\" class=\"dataframe\">\n",
              "  <thead>\n",
              "    <tr style=\"text-align: right;\">\n",
              "      <th></th>\n",
              "      <th>Arrest_Year</th>\n",
              "      <th>Arrest_Month</th>\n",
              "      <th>Occurrence_Category</th>\n",
              "      <th>youth</th>\n",
              "      <th>EventID</th>\n",
              "      <th>StripSearch</th>\n",
              "      <th>Booked</th>\n",
              "      <th>ratio</th>\n",
              "    </tr>\n",
              "  </thead>\n",
              "  <tbody>\n",
              "    <tr>\n",
              "      <th>0</th>\n",
              "      <td>2020</td>\n",
              "      <td>Apr-June</td>\n",
              "      <td>Assault &amp; Other crimes against persons</td>\n",
              "      <td>Not a youth</td>\n",
              "      <td>1594</td>\n",
              "      <td>381</td>\n",
              "      <td>888</td>\n",
              "      <td>0.239021</td>\n",
              "    </tr>\n",
              "    <tr>\n",
              "      <th>1</th>\n",
              "      <td>2020</td>\n",
              "      <td>Apr-June</td>\n",
              "      <td>Assault &amp; Other crimes against persons</td>\n",
              "      <td>Youth (aged 17 and younger)</td>\n",
              "      <td>38</td>\n",
              "      <td>6</td>\n",
              "      <td>11</td>\n",
              "      <td>0.157895</td>\n",
              "    </tr>\n",
              "    <tr>\n",
              "      <th>2</th>\n",
              "      <td>2020</td>\n",
              "      <td>Apr-June</td>\n",
              "      <td>Break &amp; Enter</td>\n",
              "      <td>Not a youth</td>\n",
              "      <td>241</td>\n",
              "      <td>137</td>\n",
              "      <td>173</td>\n",
              "      <td>0.568465</td>\n",
              "    </tr>\n",
              "    <tr>\n",
              "      <th>3</th>\n",
              "      <td>2020</td>\n",
              "      <td>Apr-June</td>\n",
              "      <td>Break &amp; Enter</td>\n",
              "      <td>Youth (aged 17 and younger)</td>\n",
              "      <td>13</td>\n",
              "      <td>1</td>\n",
              "      <td>1</td>\n",
              "      <td>0.076923</td>\n",
              "    </tr>\n",
              "    <tr>\n",
              "      <th>4</th>\n",
              "      <td>2020</td>\n",
              "      <td>Apr-June</td>\n",
              "      <td>Drug Related</td>\n",
              "      <td>Not a youth</td>\n",
              "      <td>347</td>\n",
              "      <td>201</td>\n",
              "      <td>216</td>\n",
              "      <td>0.579251</td>\n",
              "    </tr>\n",
              "    <tr>\n",
              "      <th>...</th>\n",
              "      <td>...</td>\n",
              "      <td>...</td>\n",
              "      <td>...</td>\n",
              "      <td>...</td>\n",
              "      <td>...</td>\n",
              "      <td>...</td>\n",
              "      <td>...</td>\n",
              "      <td>...</td>\n",
              "    </tr>\n",
              "    <tr>\n",
              "      <th>246</th>\n",
              "      <td>2021</td>\n",
              "      <td>Oct-Dec</td>\n",
              "      <td>Vehicle Related (inc. Impaired)</td>\n",
              "      <td>Youth (aged 17 years and under)</td>\n",
              "      <td>1</td>\n",
              "      <td>0</td>\n",
              "      <td>1</td>\n",
              "      <td>0.000000</td>\n",
              "    </tr>\n",
              "    <tr>\n",
              "      <th>247</th>\n",
              "      <td>2021</td>\n",
              "      <td>Oct-Dec</td>\n",
              "      <td>Warrant</td>\n",
              "      <td>Not a youth</td>\n",
              "      <td>208</td>\n",
              "      <td>1</td>\n",
              "      <td>45</td>\n",
              "      <td>0.004808</td>\n",
              "    </tr>\n",
              "    <tr>\n",
              "      <th>248</th>\n",
              "      <td>2021</td>\n",
              "      <td>Oct-Dec</td>\n",
              "      <td>Warrant</td>\n",
              "      <td>Youth (aged 17 years and under)</td>\n",
              "      <td>7</td>\n",
              "      <td>0</td>\n",
              "      <td>4</td>\n",
              "      <td>0.000000</td>\n",
              "    </tr>\n",
              "    <tr>\n",
              "      <th>249</th>\n",
              "      <td>2021</td>\n",
              "      <td>Oct-Dec</td>\n",
              "      <td>Weapons</td>\n",
              "      <td>Not a youth</td>\n",
              "      <td>192</td>\n",
              "      <td>13</td>\n",
              "      <td>109</td>\n",
              "      <td>0.067708</td>\n",
              "    </tr>\n",
              "    <tr>\n",
              "      <th>250</th>\n",
              "      <td>2021</td>\n",
              "      <td>Oct-Dec</td>\n",
              "      <td>Weapons</td>\n",
              "      <td>Youth (aged 17 years and under)</td>\n",
              "      <td>39</td>\n",
              "      <td>2</td>\n",
              "      <td>19</td>\n",
              "      <td>0.051282</td>\n",
              "    </tr>\n",
              "  </tbody>\n",
              "</table>\n",
              "<p>251 rows × 8 columns</p>\n",
              "</div>\n",
              "      <button class=\"colab-df-convert\" onclick=\"convertToInteractive('df-3a9584c2-a8b7-4f42-9391-8d135cf265de')\"\n",
              "              title=\"Convert this dataframe to an interactive table.\"\n",
              "              style=\"display:none;\">\n",
              "        \n",
              "  <svg xmlns=\"http://www.w3.org/2000/svg\" height=\"24px\"viewBox=\"0 0 24 24\"\n",
              "       width=\"24px\">\n",
              "    <path d=\"M0 0h24v24H0V0z\" fill=\"none\"/>\n",
              "    <path d=\"M18.56 5.44l.94 2.06.94-2.06 2.06-.94-2.06-.94-.94-2.06-.94 2.06-2.06.94zm-11 1L8.5 8.5l.94-2.06 2.06-.94-2.06-.94L8.5 2.5l-.94 2.06-2.06.94zm10 10l.94 2.06.94-2.06 2.06-.94-2.06-.94-.94-2.06-.94 2.06-2.06.94z\"/><path d=\"M17.41 7.96l-1.37-1.37c-.4-.4-.92-.59-1.43-.59-.52 0-1.04.2-1.43.59L10.3 9.45l-7.72 7.72c-.78.78-.78 2.05 0 2.83L4 21.41c.39.39.9.59 1.41.59.51 0 1.02-.2 1.41-.59l7.78-7.78 2.81-2.81c.8-.78.8-2.07 0-2.86zM5.41 20L4 18.59l7.72-7.72 1.47 1.35L5.41 20z\"/>\n",
              "  </svg>\n",
              "      </button>\n",
              "      \n",
              "  <style>\n",
              "    .colab-df-container {\n",
              "      display:flex;\n",
              "      flex-wrap:wrap;\n",
              "      gap: 12px;\n",
              "    }\n",
              "\n",
              "    .colab-df-convert {\n",
              "      background-color: #E8F0FE;\n",
              "      border: none;\n",
              "      border-radius: 50%;\n",
              "      cursor: pointer;\n",
              "      display: none;\n",
              "      fill: #1967D2;\n",
              "      height: 32px;\n",
              "      padding: 0 0 0 0;\n",
              "      width: 32px;\n",
              "    }\n",
              "\n",
              "    .colab-df-convert:hover {\n",
              "      background-color: #E2EBFA;\n",
              "      box-shadow: 0px 1px 2px rgba(60, 64, 67, 0.3), 0px 1px 3px 1px rgba(60, 64, 67, 0.15);\n",
              "      fill: #174EA6;\n",
              "    }\n",
              "\n",
              "    [theme=dark] .colab-df-convert {\n",
              "      background-color: #3B4455;\n",
              "      fill: #D2E3FC;\n",
              "    }\n",
              "\n",
              "    [theme=dark] .colab-df-convert:hover {\n",
              "      background-color: #434B5C;\n",
              "      box-shadow: 0px 1px 3px 1px rgba(0, 0, 0, 0.15);\n",
              "      filter: drop-shadow(0px 1px 2px rgba(0, 0, 0, 0.3));\n",
              "      fill: #FFFFFF;\n",
              "    }\n",
              "  </style>\n",
              "\n",
              "      <script>\n",
              "        const buttonEl =\n",
              "          document.querySelector('#df-3a9584c2-a8b7-4f42-9391-8d135cf265de button.colab-df-convert');\n",
              "        buttonEl.style.display =\n",
              "          google.colab.kernel.accessAllowed ? 'block' : 'none';\n",
              "\n",
              "        async function convertToInteractive(key) {\n",
              "          const element = document.querySelector('#df-3a9584c2-a8b7-4f42-9391-8d135cf265de');\n",
              "          const dataTable =\n",
              "            await google.colab.kernel.invokeFunction('convertToInteractive',\n",
              "                                                     [key], {});\n",
              "          if (!dataTable) return;\n",
              "\n",
              "          const docLinkHtml = 'Like what you see? Visit the ' +\n",
              "            '<a target=\"_blank\" href=https://colab.research.google.com/notebooks/data_table.ipynb>data table notebook</a>'\n",
              "            + ' to learn more about interactive tables.';\n",
              "          element.innerHTML = '';\n",
              "          dataTable['output_type'] = 'display_data';\n",
              "          await google.colab.output.renderOutput(dataTable, element);\n",
              "          const docLink = document.createElement('div');\n",
              "          docLink.innerHTML = docLinkHtml;\n",
              "          element.appendChild(docLink);\n",
              "        }\n",
              "      </script>\n",
              "    </div>\n",
              "  </div>\n",
              "  "
            ]
          },
          "metadata": {},
          "execution_count": 65
        }
      ]
    },
    {
      "cell_type": "code",
      "source": [
        "# add the ratio back to the raw dataset\n",
        "dr = dr.drop(columns = ['EventID', 'StripSearch','Booked'])\n",
        "dm = pd.merge(data_raw, dr, on=['Occurrence_Category','Arrest_Year','Arrest_Month','youth'])\n",
        "dm"
      ],
      "metadata": {
        "id": "cDqzhzl6Xflf",
        "colab": {
          "base_uri": "https://localhost:8080/",
          "height": 1000
        },
        "outputId": "a8b50157-2acd-420d-ad8d-454be2ebd7d2"
      },
      "execution_count": null,
      "outputs": [
        {
          "output_type": "execute_result",
          "data": {
            "text/plain": [
              "       Arrest_Year Arrest_Month  EventID   ArrestID  PersonID  \\\n",
              "0             2020    July-Sept  1005907  6017884.0    326622   \n",
              "1             2020    July-Sept  1014562  6056669.0    326622   \n",
              "2             2020    July-Sept  1050474  6025215.0    304162   \n",
              "3             2020    July-Sept  1026364  6027584.0    316419   \n",
              "4             2020    July-Sept  1029642  6056350.0    322697   \n",
              "...            ...          ...      ...        ...       ...   \n",
              "65271         2021      Jan-Mar  1010946  6059037.0    314328   \n",
              "65272         2021      Jan-Mar  1043606  6060618.0    310813   \n",
              "65273         2021     Apr-June  1034595  6048747.0    314560   \n",
              "65274         2021      Oct-Dec  1039295  6016033.0    312008   \n",
              "65275         2021      Oct-Dec  1028308  6009832.0    313502   \n",
              "\n",
              "                    race Sex                       age_group  \\\n",
              "0                  White   M      Adult(Aged 25 to 44 years)   \n",
              "1                  White   M      Adult(Aged 25 to 44 years)   \n",
              "2                  White   M      Adult(Aged 25 to 44 years)   \n",
              "3                  Asian   F      Adult(Aged 25 to 44 years)   \n",
              "4      Unknown or Legacy   M      Adult(Aged 25 to 44 years)   \n",
              "...                  ...  ..                             ...   \n",
              "65271  Unknown or Legacy   M  Youth(Aged 17 years and under)   \n",
              "65272              Black   M  Youth(Aged 17 years and under)   \n",
              "65273              White   F  Youth(Aged 17 years and under)   \n",
              "65274  Unknown or Legacy   F  Youth(Aged 17 years and under)   \n",
              "65275              White   M  Youth(Aged 17 years and under)   \n",
              "\n",
              "                                 youth ArrestLocDiv  ...  \\\n",
              "0                          Not a youth           54  ...   \n",
              "1                          Not a youth           54  ...   \n",
              "2                          Not a youth           11  ...   \n",
              "3                          Not a youth           52  ...   \n",
              "4                          Not a youth           XX  ...   \n",
              "...                                ...          ...  ...   \n",
              "65271  Youth (aged 17 years and under)           XX  ...   \n",
              "65272  Youth (aged 17 years and under)           23  ...   \n",
              "65273  Youth (aged 17 years and under)           XX  ...   \n",
              "65274  Youth (aged 17 years and under)           33  ...   \n",
              "65275  Youth (aged 17 years and under)           XX  ...   \n",
              "\n",
              "       Actions_at_arrest___Mental_inst  Actions_at_arrest___Assaulted_o  \\\n",
              "0                                    0                                0   \n",
              "1                                    0                                0   \n",
              "2                                    0                                0   \n",
              "3                                    0                                0   \n",
              "4                                    0                                0   \n",
              "...                                ...                              ...   \n",
              "65271                                0                                0   \n",
              "65272                                0                                0   \n",
              "65273                                0                                0   \n",
              "65274                                0                                0   \n",
              "65275                                0                                0   \n",
              "\n",
              "      Actions_at_arrest___Cooperative  SearchReason_CauseInjury  \\\n",
              "0                                   1                       NaN   \n",
              "1                                   0                       NaN   \n",
              "2                                   0                       NaN   \n",
              "3                                   0                       1.0   \n",
              "4                                   1                       NaN   \n",
              "...                               ...                       ...   \n",
              "65271                               0                       NaN   \n",
              "65272                               0                       NaN   \n",
              "65273                               0                       NaN   \n",
              "65274                               1                       NaN   \n",
              "65275                               1                       NaN   \n",
              "\n",
              "       SearchReason_AssistEscape  SearchReason_PossessWeapons  \\\n",
              "0                            NaN                          NaN   \n",
              "1                            NaN                          NaN   \n",
              "2                            NaN                          NaN   \n",
              "3                            0.0                          0.0   \n",
              "4                            NaN                          NaN   \n",
              "...                          ...                          ...   \n",
              "65271                        NaN                          NaN   \n",
              "65272                        NaN                          NaN   \n",
              "65273                        NaN                          NaN   \n",
              "65274                        NaN                          NaN   \n",
              "65275                        NaN                          NaN   \n",
              "\n",
              "       SearchReason_PossessEvidence  ItemsFound  ObjectId     ratio  \n",
              "0                               NaN         NaN         1  0.247905  \n",
              "1                               NaN         NaN         2  0.247905  \n",
              "2                               NaN         NaN        27  0.247905  \n",
              "3                               0.0         0.0        43  0.247905  \n",
              "4                               NaN         NaN        66  0.247905  \n",
              "...                             ...         ...       ...       ...  \n",
              "65271                           NaN         NaN     60409  0.000000  \n",
              "65272                           NaN         NaN     60774  0.000000  \n",
              "65273                           NaN         NaN     60744  0.000000  \n",
              "65274                           NaN         NaN     63307  0.000000  \n",
              "65275                           NaN         NaN     65258  0.000000  \n",
              "\n",
              "[65276 rows x 26 columns]"
            ],
            "text/html": [
              "\n",
              "  <div id=\"df-3ff23b57-c6e1-43dc-9306-462b873f6157\">\n",
              "    <div class=\"colab-df-container\">\n",
              "      <div>\n",
              "<style scoped>\n",
              "    .dataframe tbody tr th:only-of-type {\n",
              "        vertical-align: middle;\n",
              "    }\n",
              "\n",
              "    .dataframe tbody tr th {\n",
              "        vertical-align: top;\n",
              "    }\n",
              "\n",
              "    .dataframe thead th {\n",
              "        text-align: right;\n",
              "    }\n",
              "</style>\n",
              "<table border=\"1\" class=\"dataframe\">\n",
              "  <thead>\n",
              "    <tr style=\"text-align: right;\">\n",
              "      <th></th>\n",
              "      <th>Arrest_Year</th>\n",
              "      <th>Arrest_Month</th>\n",
              "      <th>EventID</th>\n",
              "      <th>ArrestID</th>\n",
              "      <th>PersonID</th>\n",
              "      <th>race</th>\n",
              "      <th>Sex</th>\n",
              "      <th>age_group</th>\n",
              "      <th>youth</th>\n",
              "      <th>ArrestLocDiv</th>\n",
              "      <th>...</th>\n",
              "      <th>Actions_at_arrest___Mental_inst</th>\n",
              "      <th>Actions_at_arrest___Assaulted_o</th>\n",
              "      <th>Actions_at_arrest___Cooperative</th>\n",
              "      <th>SearchReason_CauseInjury</th>\n",
              "      <th>SearchReason_AssistEscape</th>\n",
              "      <th>SearchReason_PossessWeapons</th>\n",
              "      <th>SearchReason_PossessEvidence</th>\n",
              "      <th>ItemsFound</th>\n",
              "      <th>ObjectId</th>\n",
              "      <th>ratio</th>\n",
              "    </tr>\n",
              "  </thead>\n",
              "  <tbody>\n",
              "    <tr>\n",
              "      <th>0</th>\n",
              "      <td>2020</td>\n",
              "      <td>July-Sept</td>\n",
              "      <td>1005907</td>\n",
              "      <td>6017884.0</td>\n",
              "      <td>326622</td>\n",
              "      <td>White</td>\n",
              "      <td>M</td>\n",
              "      <td>Adult(Aged 25 to 44 years)</td>\n",
              "      <td>Not a youth</td>\n",
              "      <td>54</td>\n",
              "      <td>...</td>\n",
              "      <td>0</td>\n",
              "      <td>0</td>\n",
              "      <td>1</td>\n",
              "      <td>NaN</td>\n",
              "      <td>NaN</td>\n",
              "      <td>NaN</td>\n",
              "      <td>NaN</td>\n",
              "      <td>NaN</td>\n",
              "      <td>1</td>\n",
              "      <td>0.247905</td>\n",
              "    </tr>\n",
              "    <tr>\n",
              "      <th>1</th>\n",
              "      <td>2020</td>\n",
              "      <td>July-Sept</td>\n",
              "      <td>1014562</td>\n",
              "      <td>6056669.0</td>\n",
              "      <td>326622</td>\n",
              "      <td>White</td>\n",
              "      <td>M</td>\n",
              "      <td>Adult(Aged 25 to 44 years)</td>\n",
              "      <td>Not a youth</td>\n",
              "      <td>54</td>\n",
              "      <td>...</td>\n",
              "      <td>0</td>\n",
              "      <td>0</td>\n",
              "      <td>0</td>\n",
              "      <td>NaN</td>\n",
              "      <td>NaN</td>\n",
              "      <td>NaN</td>\n",
              "      <td>NaN</td>\n",
              "      <td>NaN</td>\n",
              "      <td>2</td>\n",
              "      <td>0.247905</td>\n",
              "    </tr>\n",
              "    <tr>\n",
              "      <th>2</th>\n",
              "      <td>2020</td>\n",
              "      <td>July-Sept</td>\n",
              "      <td>1050474</td>\n",
              "      <td>6025215.0</td>\n",
              "      <td>304162</td>\n",
              "      <td>White</td>\n",
              "      <td>M</td>\n",
              "      <td>Adult(Aged 25 to 44 years)</td>\n",
              "      <td>Not a youth</td>\n",
              "      <td>11</td>\n",
              "      <td>...</td>\n",
              "      <td>0</td>\n",
              "      <td>0</td>\n",
              "      <td>0</td>\n",
              "      <td>NaN</td>\n",
              "      <td>NaN</td>\n",
              "      <td>NaN</td>\n",
              "      <td>NaN</td>\n",
              "      <td>NaN</td>\n",
              "      <td>27</td>\n",
              "      <td>0.247905</td>\n",
              "    </tr>\n",
              "    <tr>\n",
              "      <th>3</th>\n",
              "      <td>2020</td>\n",
              "      <td>July-Sept</td>\n",
              "      <td>1026364</td>\n",
              "      <td>6027584.0</td>\n",
              "      <td>316419</td>\n",
              "      <td>Asian</td>\n",
              "      <td>F</td>\n",
              "      <td>Adult(Aged 25 to 44 years)</td>\n",
              "      <td>Not a youth</td>\n",
              "      <td>52</td>\n",
              "      <td>...</td>\n",
              "      <td>0</td>\n",
              "      <td>0</td>\n",
              "      <td>0</td>\n",
              "      <td>1.0</td>\n",
              "      <td>0.0</td>\n",
              "      <td>0.0</td>\n",
              "      <td>0.0</td>\n",
              "      <td>0.0</td>\n",
              "      <td>43</td>\n",
              "      <td>0.247905</td>\n",
              "    </tr>\n",
              "    <tr>\n",
              "      <th>4</th>\n",
              "      <td>2020</td>\n",
              "      <td>July-Sept</td>\n",
              "      <td>1029642</td>\n",
              "      <td>6056350.0</td>\n",
              "      <td>322697</td>\n",
              "      <td>Unknown or Legacy</td>\n",
              "      <td>M</td>\n",
              "      <td>Adult(Aged 25 to 44 years)</td>\n",
              "      <td>Not a youth</td>\n",
              "      <td>XX</td>\n",
              "      <td>...</td>\n",
              "      <td>0</td>\n",
              "      <td>0</td>\n",
              "      <td>1</td>\n",
              "      <td>NaN</td>\n",
              "      <td>NaN</td>\n",
              "      <td>NaN</td>\n",
              "      <td>NaN</td>\n",
              "      <td>NaN</td>\n",
              "      <td>66</td>\n",
              "      <td>0.247905</td>\n",
              "    </tr>\n",
              "    <tr>\n",
              "      <th>...</th>\n",
              "      <td>...</td>\n",
              "      <td>...</td>\n",
              "      <td>...</td>\n",
              "      <td>...</td>\n",
              "      <td>...</td>\n",
              "      <td>...</td>\n",
              "      <td>...</td>\n",
              "      <td>...</td>\n",
              "      <td>...</td>\n",
              "      <td>...</td>\n",
              "      <td>...</td>\n",
              "      <td>...</td>\n",
              "      <td>...</td>\n",
              "      <td>...</td>\n",
              "      <td>...</td>\n",
              "      <td>...</td>\n",
              "      <td>...</td>\n",
              "      <td>...</td>\n",
              "      <td>...</td>\n",
              "      <td>...</td>\n",
              "      <td>...</td>\n",
              "    </tr>\n",
              "    <tr>\n",
              "      <th>65271</th>\n",
              "      <td>2021</td>\n",
              "      <td>Jan-Mar</td>\n",
              "      <td>1010946</td>\n",
              "      <td>6059037.0</td>\n",
              "      <td>314328</td>\n",
              "      <td>Unknown or Legacy</td>\n",
              "      <td>M</td>\n",
              "      <td>Youth(Aged 17 years and under)</td>\n",
              "      <td>Youth (aged 17 years and under)</td>\n",
              "      <td>XX</td>\n",
              "      <td>...</td>\n",
              "      <td>0</td>\n",
              "      <td>0</td>\n",
              "      <td>0</td>\n",
              "      <td>NaN</td>\n",
              "      <td>NaN</td>\n",
              "      <td>NaN</td>\n",
              "      <td>NaN</td>\n",
              "      <td>NaN</td>\n",
              "      <td>60409</td>\n",
              "      <td>0.000000</td>\n",
              "    </tr>\n",
              "    <tr>\n",
              "      <th>65272</th>\n",
              "      <td>2021</td>\n",
              "      <td>Jan-Mar</td>\n",
              "      <td>1043606</td>\n",
              "      <td>6060618.0</td>\n",
              "      <td>310813</td>\n",
              "      <td>Black</td>\n",
              "      <td>M</td>\n",
              "      <td>Youth(Aged 17 years and under)</td>\n",
              "      <td>Youth (aged 17 years and under)</td>\n",
              "      <td>23</td>\n",
              "      <td>...</td>\n",
              "      <td>0</td>\n",
              "      <td>0</td>\n",
              "      <td>0</td>\n",
              "      <td>NaN</td>\n",
              "      <td>NaN</td>\n",
              "      <td>NaN</td>\n",
              "      <td>NaN</td>\n",
              "      <td>NaN</td>\n",
              "      <td>60774</td>\n",
              "      <td>0.000000</td>\n",
              "    </tr>\n",
              "    <tr>\n",
              "      <th>65273</th>\n",
              "      <td>2021</td>\n",
              "      <td>Apr-June</td>\n",
              "      <td>1034595</td>\n",
              "      <td>6048747.0</td>\n",
              "      <td>314560</td>\n",
              "      <td>White</td>\n",
              "      <td>F</td>\n",
              "      <td>Youth(Aged 17 years and under)</td>\n",
              "      <td>Youth (aged 17 years and under)</td>\n",
              "      <td>XX</td>\n",
              "      <td>...</td>\n",
              "      <td>0</td>\n",
              "      <td>0</td>\n",
              "      <td>0</td>\n",
              "      <td>NaN</td>\n",
              "      <td>NaN</td>\n",
              "      <td>NaN</td>\n",
              "      <td>NaN</td>\n",
              "      <td>NaN</td>\n",
              "      <td>60744</td>\n",
              "      <td>0.000000</td>\n",
              "    </tr>\n",
              "    <tr>\n",
              "      <th>65274</th>\n",
              "      <td>2021</td>\n",
              "      <td>Oct-Dec</td>\n",
              "      <td>1039295</td>\n",
              "      <td>6016033.0</td>\n",
              "      <td>312008</td>\n",
              "      <td>Unknown or Legacy</td>\n",
              "      <td>F</td>\n",
              "      <td>Youth(Aged 17 years and under)</td>\n",
              "      <td>Youth (aged 17 years and under)</td>\n",
              "      <td>33</td>\n",
              "      <td>...</td>\n",
              "      <td>0</td>\n",
              "      <td>0</td>\n",
              "      <td>1</td>\n",
              "      <td>NaN</td>\n",
              "      <td>NaN</td>\n",
              "      <td>NaN</td>\n",
              "      <td>NaN</td>\n",
              "      <td>NaN</td>\n",
              "      <td>63307</td>\n",
              "      <td>0.000000</td>\n",
              "    </tr>\n",
              "    <tr>\n",
              "      <th>65275</th>\n",
              "      <td>2021</td>\n",
              "      <td>Oct-Dec</td>\n",
              "      <td>1028308</td>\n",
              "      <td>6009832.0</td>\n",
              "      <td>313502</td>\n",
              "      <td>White</td>\n",
              "      <td>M</td>\n",
              "      <td>Youth(Aged 17 years and under)</td>\n",
              "      <td>Youth (aged 17 years and under)</td>\n",
              "      <td>XX</td>\n",
              "      <td>...</td>\n",
              "      <td>0</td>\n",
              "      <td>0</td>\n",
              "      <td>1</td>\n",
              "      <td>NaN</td>\n",
              "      <td>NaN</td>\n",
              "      <td>NaN</td>\n",
              "      <td>NaN</td>\n",
              "      <td>NaN</td>\n",
              "      <td>65258</td>\n",
              "      <td>0.000000</td>\n",
              "    </tr>\n",
              "  </tbody>\n",
              "</table>\n",
              "<p>65276 rows × 26 columns</p>\n",
              "</div>\n",
              "      <button class=\"colab-df-convert\" onclick=\"convertToInteractive('df-3ff23b57-c6e1-43dc-9306-462b873f6157')\"\n",
              "              title=\"Convert this dataframe to an interactive table.\"\n",
              "              style=\"display:none;\">\n",
              "        \n",
              "  <svg xmlns=\"http://www.w3.org/2000/svg\" height=\"24px\"viewBox=\"0 0 24 24\"\n",
              "       width=\"24px\">\n",
              "    <path d=\"M0 0h24v24H0V0z\" fill=\"none\"/>\n",
              "    <path d=\"M18.56 5.44l.94 2.06.94-2.06 2.06-.94-2.06-.94-.94-2.06-.94 2.06-2.06.94zm-11 1L8.5 8.5l.94-2.06 2.06-.94-2.06-.94L8.5 2.5l-.94 2.06-2.06.94zm10 10l.94 2.06.94-2.06 2.06-.94-2.06-.94-.94-2.06-.94 2.06-2.06.94z\"/><path d=\"M17.41 7.96l-1.37-1.37c-.4-.4-.92-.59-1.43-.59-.52 0-1.04.2-1.43.59L10.3 9.45l-7.72 7.72c-.78.78-.78 2.05 0 2.83L4 21.41c.39.39.9.59 1.41.59.51 0 1.02-.2 1.41-.59l7.78-7.78 2.81-2.81c.8-.78.8-2.07 0-2.86zM5.41 20L4 18.59l7.72-7.72 1.47 1.35L5.41 20z\"/>\n",
              "  </svg>\n",
              "      </button>\n",
              "      \n",
              "  <style>\n",
              "    .colab-df-container {\n",
              "      display:flex;\n",
              "      flex-wrap:wrap;\n",
              "      gap: 12px;\n",
              "    }\n",
              "\n",
              "    .colab-df-convert {\n",
              "      background-color: #E8F0FE;\n",
              "      border: none;\n",
              "      border-radius: 50%;\n",
              "      cursor: pointer;\n",
              "      display: none;\n",
              "      fill: #1967D2;\n",
              "      height: 32px;\n",
              "      padding: 0 0 0 0;\n",
              "      width: 32px;\n",
              "    }\n",
              "\n",
              "    .colab-df-convert:hover {\n",
              "      background-color: #E2EBFA;\n",
              "      box-shadow: 0px 1px 2px rgba(60, 64, 67, 0.3), 0px 1px 3px 1px rgba(60, 64, 67, 0.15);\n",
              "      fill: #174EA6;\n",
              "    }\n",
              "\n",
              "    [theme=dark] .colab-df-convert {\n",
              "      background-color: #3B4455;\n",
              "      fill: #D2E3FC;\n",
              "    }\n",
              "\n",
              "    [theme=dark] .colab-df-convert:hover {\n",
              "      background-color: #434B5C;\n",
              "      box-shadow: 0px 1px 3px 1px rgba(0, 0, 0, 0.15);\n",
              "      filter: drop-shadow(0px 1px 2px rgba(0, 0, 0, 0.3));\n",
              "      fill: #FFFFFF;\n",
              "    }\n",
              "  </style>\n",
              "\n",
              "      <script>\n",
              "        const buttonEl =\n",
              "          document.querySelector('#df-3ff23b57-c6e1-43dc-9306-462b873f6157 button.colab-df-convert');\n",
              "        buttonEl.style.display =\n",
              "          google.colab.kernel.accessAllowed ? 'block' : 'none';\n",
              "\n",
              "        async function convertToInteractive(key) {\n",
              "          const element = document.querySelector('#df-3ff23b57-c6e1-43dc-9306-462b873f6157');\n",
              "          const dataTable =\n",
              "            await google.colab.kernel.invokeFunction('convertToInteractive',\n",
              "                                                     [key], {});\n",
              "          if (!dataTable) return;\n",
              "\n",
              "          const docLinkHtml = 'Like what you see? Visit the ' +\n",
              "            '<a target=\"_blank\" href=https://colab.research.google.com/notebooks/data_table.ipynb>data table notebook</a>'\n",
              "            + ' to learn more about interactive tables.';\n",
              "          element.innerHTML = '';\n",
              "          dataTable['output_type'] = 'display_data';\n",
              "          await google.colab.output.renderOutput(dataTable, element);\n",
              "          const docLink = document.createElement('div');\n",
              "          docLink.innerHTML = docLinkHtml;\n",
              "          element.appendChild(docLink);\n",
              "        }\n",
              "      </script>\n",
              "    </div>\n",
              "  </div>\n",
              "  "
            ]
          },
          "metadata": {},
          "execution_count": 66
        }
      ]
    },
    {
      "cell_type": "code",
      "source": [
        "# we only condider someone are booked in the policy office\n",
        "dm = dm[dm.Booked != 0]\n",
        "dm.shape"
      ],
      "metadata": {
        "colab": {
          "base_uri": "https://localhost:8080/"
        },
        "id": "t9URDTPMNPAR",
        "outputId": "57dcec99-0f37-40cc-ffc5-cf9dfae6a4f3"
      },
      "execution_count": null,
      "outputs": [
        {
          "output_type": "execute_result",
          "data": {
            "text/plain": [
              "(34483, 26)"
            ]
          },
          "metadata": {},
          "execution_count": 67
        }
      ]
    },
    {
      "cell_type": "code",
      "source": [
        "dm.ratio.value_counts(dropna=False).sort_index(ascending=True)"
      ],
      "metadata": {
        "colab": {
          "base_uri": "https://localhost:8080/"
        },
        "id": "p6D4f0eQlH3C",
        "outputId": "96b4c5d9-e457-4ad8-ca45-f81068b00851"
      },
      "execution_count": null,
      "outputs": [
        {
          "output_type": "execute_result",
          "data": {
            "text/plain": [
              "0.000000    1370\n",
              "0.003906     211\n",
              "0.004739     330\n",
              "0.004808      45\n",
              "0.005051      25\n",
              "            ... \n",
              "0.600939     165\n",
              "0.665944     332\n",
              "0.742297     291\n",
              "0.823529      16\n",
              "0.857143       6\n",
              "Name: ratio, Length: 143, dtype: int64"
            ]
          },
          "metadata": {},
          "execution_count": 68
        }
      ]
    },
    {
      "cell_type": "code",
      "source": [
        "dataset = dm"
      ],
      "metadata": {
        "id": "1E_Dq1jg9QV9"
      },
      "execution_count": null,
      "outputs": []
    },
    {
      "cell_type": "markdown",
      "source": [
        "# **EDA**"
      ],
      "metadata": {
        "id": "ovG0ldBnFeOM"
      }
    },
    {
      "cell_type": "markdown",
      "source": [
        "## Data_raw"
      ],
      "metadata": {
        "id": "BSjmAqg-cgcP"
      }
    },
    {
      "cell_type": "code",
      "source": [
        "data_raw.info()"
      ],
      "metadata": {
        "colab": {
          "base_uri": "https://localhost:8080/"
        },
        "id": "FqK8DyKVaNsH",
        "outputId": "2cd9b9d5-02e3-41f6-8535-1e70a6e3eb47"
      },
      "execution_count": null,
      "outputs": [
        {
          "output_type": "stream",
          "name": "stdout",
          "text": [
            "<class 'pandas.core.frame.DataFrame'>\n",
            "RangeIndex: 65276 entries, 0 to 65275\n",
            "Data columns (total 25 columns):\n",
            " #   Column                           Non-Null Count  Dtype  \n",
            "---  ------                           --------------  -----  \n",
            " 0   Arrest_Year                      65276 non-null  int64  \n",
            " 1   Arrest_Month                     65276 non-null  object \n",
            " 2   EventID                          65276 non-null  int64  \n",
            " 3   ArrestID                         64807 non-null  float64\n",
            " 4   PersonID                         65276 non-null  int64  \n",
            " 5   race                             65276 non-null  object \n",
            " 6   Sex                              65276 non-null  object \n",
            " 7   age_group                        65276 non-null  object \n",
            " 8   youth                            65276 non-null  object \n",
            " 9   ArrestLocDiv                     65276 non-null  object \n",
            " 10  StripSearch                      65276 non-null  int64  \n",
            " 11  Booked                           65276 non-null  int64  \n",
            " 12  Occurrence_Category              65276 non-null  object \n",
            " 13  Actions_at_arrest___Concealed_i  65276 non-null  int64  \n",
            " 14  Actions_at_arrest___Combative__  65276 non-null  int64  \n",
            " 15  Actions_at_arrest___Resisted__d  65276 non-null  int64  \n",
            " 16  Actions_at_arrest___Mental_inst  65276 non-null  int64  \n",
            " 17  Actions_at_arrest___Assaulted_o  65276 non-null  int64  \n",
            " 18  Actions_at_arrest___Cooperative  65276 non-null  int64  \n",
            " 19  SearchReason_CauseInjury         7801 non-null   float64\n",
            " 20  SearchReason_AssistEscape        7801 non-null   float64\n",
            " 21  SearchReason_PossessWeapons      7801 non-null   float64\n",
            " 22  SearchReason_PossessEvidence     7801 non-null   float64\n",
            " 23  ItemsFound                       7801 non-null   float64\n",
            " 24  ObjectId                         65276 non-null  int64  \n",
            "dtypes: float64(6), int64(12), object(7)\n",
            "memory usage: 12.5+ MB\n"
          ]
        }
      ]
    },
    {
      "cell_type": "code",
      "source": [
        "data_raw_gender = data_raw[data_raw.Sex !='U']\n",
        "arrest_gender = data_raw_gender.Sex.value_counts()\n",
        "\n",
        "fig = plt.figure(figsize=(6,4))\n",
        "arrest_gender.plot(kind='bar')\n",
        "\n",
        "plt.title('Arrest by sex')\n",
        "plt.ylabel('Total Cases')\n",
        "\n",
        "plt.show()"
      ],
      "metadata": {
        "colab": {
          "base_uri": "https://localhost:8080/",
          "height": 280
        },
        "id": "kjJ_OwWaV9T0",
        "outputId": "b06bd51c-b2a9-4320-930d-cfe245e6d94f"
      },
      "execution_count": null,
      "outputs": [
        {
          "output_type": "display_data",
          "data": {
            "text/plain": [
              "<Figure size 432x288 with 1 Axes>"
            ],
            "image/png": "[encoded data removed]"
          },
          "metadata": {
            "needs_background": "light"
          }
        }
      ]
    },
    {
      "cell_type": "code",
      "source": [
        "data_raw_age = data_raw[data_raw.age_group !='Unknown'] \n",
        "arrest_age = data_raw_age.age_group.value_counts().reindex(index = col_index)\n",
        "\n",
        "fig = plt.figure(figsize=(6,4))\n",
        "arrest_age.plot(kind='bar')\n",
        "\n",
        "plt.title('Arrest by Age Group')\n",
        "plt.ylabel('Total Cases')\n",
        "\n",
        "plt.show()"
      ],
      "metadata": {
        "colab": {
          "base_uri": "https://localhost:8080/",
          "height": 440
        },
        "id": "jv4AH4NWmR-1",
        "outputId": "b53140c9-a0f3-4571-c702-1ae603880009"
      },
      "execution_count": null,
      "outputs": [
        {
          "output_type": "display_data",
          "data": {
            "text/plain": [
              "<Figure size 432x288 with 1 Axes>"
            ],
            "image/png": "[encoded data removed]"
          },
          "metadata": {
            "needs_background": "light"
          }
        }
      ]
    },
    {
      "cell_type": "code",
      "source": [
        "data_raw_race = data_raw[data_raw.race !='Unknown or Legacy']\n",
        "arrest_race = data_raw_race.race.value_counts()\n",
        "\n",
        "fig = plt.figure(figsize=(6,4))\n",
        "arrest_race.plot(kind='bar')\n",
        "\n",
        "plt.title('Arrest by race')\n",
        "plt.ylabel('Total Cases')\n",
        "\n",
        "plt.show()"
      ],
      "metadata": {
        "colab": {
          "base_uri": "https://localhost:8080/",
          "height": 346
        },
        "id": "2JaaiFGrOsgc",
        "outputId": "07784dc5-3e6d-4385-dca5-c436ef411161"
      },
      "execution_count": null,
      "outputs": [
        {
          "output_type": "display_data",
          "data": {
            "text/plain": [
              "<Figure size 432x288 with 1 Axes>"
            ],
            "image/png": "[encoded data removed]"
          },
          "metadata": {
            "needs_background": "light"
          }
        }
      ]
    },
    {
      "cell_type": "code",
      "source": [
        "data_Occ = data_raw.Occurrence_Category.value_counts()\n",
        "\n",
        "fig = plt.figure(figsize=(15,10))\n",
        "data_Occ.plot(kind='bar')\n",
        "\n",
        "plt.title('Arrest by Occurrence_Category')\n",
        "plt.ylabel('Total Cases')\n",
        "\n",
        "plt.show()"
      ],
      "metadata": {
        "colab": {
          "base_uri": "https://localhost:8080/",
          "height": 845
        },
        "id": "jCN0sy43dFpj",
        "outputId": "7156005c-6b2f-49d2-9147-822fa0df2bf8"
      },
      "execution_count": null,
      "outputs": [
        {
          "output_type": "display_data",
          "data": {
            "text/plain": [
              "<Figure size 1080x720 with 1 Axes>"
            ],
            "image/png": "[encoded data removed]"
          },
          "metadata": {
            "needs_background": "light"
          }
        }
      ]
    },
    {
      "cell_type": "markdown",
      "source": [
        "Multivariate"
      ],
      "metadata": {
        "id": "j2aGW6ge_od7"
      }
    },
    {
      "cell_type": "code",
      "source": [
        "sns.barplot(x=\"StripSearch\", y=\"race\", data= data_raw_gender,hue = \"Sex\")\n",
        "plt.title(\"Distribution of stripSearch based on race and Gender\")\n",
        "plt.show()"
      ],
      "metadata": {
        "colab": {
          "base_uri": "https://localhost:8080/",
          "height": 295
        },
        "id": "wNEYpIsL8vPH",
        "outputId": "3e42f660-8013-4e6e-a27f-50d0aef01859"
      },
      "execution_count": null,
      "outputs": [
        {
          "output_type": "display_data",
          "data": {
            "text/plain": [
              "<Figure size 432x288 with 1 Axes>"
            ],
            "image/png": "[encoded data removed]"
          },
          "metadata": {
            "needs_background": "light"
          }
        }
      ]
    },
    {
      "cell_type": "code",
      "source": [
        "sns.barplot(x=\"StripSearch\", y=\"age_group\", data= data_raw_age, hue = 'Sex')\n",
        "plt.title(\"Distribution of stripSearch based on age and Gender\")\n",
        "plt.show()"
      ],
      "metadata": {
        "colab": {
          "base_uri": "https://localhost:8080/",
          "height": 295
        },
        "id": "0oVTzOeF-NCc",
        "outputId": "b5d46ee5-71c6-4ba3-d719-d80d50b16e9f"
      },
      "execution_count": null,
      "outputs": [
        {
          "output_type": "display_data",
          "data": {
            "text/plain": [
              "<Figure size 432x288 with 1 Axes>"
            ],
            "image/png": "[encoded data removed]"
          },
          "metadata": {
            "needs_background": "light"
          }
        }
      ]
    },
    {
      "cell_type": "markdown",
      "source": [
        "# **Dataset**"
      ],
      "metadata": {
        "id": "vCK2uhtfngU1"
      }
    },
    {
      "cell_type": "code",
      "source": [
        "dataset_s = dataset[dataset.Sex !='U']\n",
        "sns.catplot(x='Sex', \n",
        "            y='ratio',\n",
        "            data=dataset_s,\n",
        "            kind='box')"
      ],
      "metadata": {
        "colab": {
          "base_uri": "https://localhost:8080/",
          "height": 386
        },
        "id": "4IJPlR9cupFW",
        "outputId": "3590c408-aae4-4d24-d180-3d1d61cf749d"
      },
      "execution_count": null,
      "outputs": [
        {
          "output_type": "execute_result",
          "data": {
            "text/plain": [
              "<seaborn.axisgrid.FacetGrid at 0x7f24108d8d00>"
            ]
          },
          "metadata": {},
          "execution_count": 167
        },
        {
          "output_type": "display_data",
          "data": {
            "text/plain": [
              "<Figure size 360x360 with 1 Axes>"
            ],
            "image/png": "[encoded data removed]"
          },
          "metadata": {
            "needs_background": "light"
          }
        }
      ]
    },
    {
      "cell_type": "code",
      "source": [
        "dataset_r = dataset[dataset.race !='Unknown or Legacy']\n",
        "sns.catplot(x='ratio', \n",
        "            y='race',\n",
        "            data=dataset_r,\n",
        "            kind='box')"
      ],
      "metadata": {
        "colab": {
          "base_uri": "https://localhost:8080/",
          "height": 369
        },
        "id": "-8orXtmTvamI",
        "outputId": "5b661551-90fc-4217-ce7b-ab6366303e62"
      },
      "execution_count": null,
      "outputs": [
        {
          "output_type": "display_data",
          "data": {
            "text/plain": [
              "<Figure size 360x360 with 1 Axes>"
            ],
            "image/png": "[encoded data removed]"
          },
          "metadata": {
            "needs_background": "light"
          }
        }
      ]
    },
    {
      "cell_type": "code",
      "source": [
        "dataset_a = dataset[dataset.age_group !='Unknown']\n",
        "sns.catplot(x='ratio', \n",
        "            y='age_group',\n",
        "            data=dataset_a,\n",
        "            kind='box')"
      ],
      "metadata": {
        "colab": {
          "base_uri": "https://localhost:8080/",
          "height": 386
        },
        "id": "X3j34ZCDwwd9",
        "outputId": "cbac5bd6-e6cd-4537-9248-37b0bd04cfe4"
      },
      "execution_count": null,
      "outputs": [
        {
          "output_type": "execute_result",
          "data": {
            "text/plain": [
              "<seaborn.axisgrid.FacetGrid at 0x7f2412003460>"
            ]
          },
          "metadata": {},
          "execution_count": 173
        },
        {
          "output_type": "display_data",
          "data": {
            "text/plain": [
              "<Figure size 360x360 with 1 Axes>"
            ],
            "image/png": "[encoded data removed]"
          },
          "metadata": {
            "needs_background": "light"
          }
        }
      ]
    },
    {
      "cell_type": "markdown",
      "source": [
        "# T tests"
      ],
      "metadata": {
        "id": "QeqMs2lApSfY"
      }
    },
    {
      "cell_type": "code",
      "source": [
        "import statsmodels.stats.api as sms"
      ],
      "metadata": {
        "id": "WH8MX5JqsKxS"
      },
      "execution_count": null,
      "outputs": []
    },
    {
      "cell_type": "code",
      "source": [
        "#degrees of freedom code for Welch test \n",
        "#code from https://pythonfordatascienceorg.wordpress.com/welch-t-test-python-pandas/ (values checked against R output)\n",
        "\n",
        "def welch_dof(x, y): \n",
        "    '''\n",
        "    Takes in final grades for binary features\n",
        "    Returns degrees of freedom \n",
        "    '''\n",
        "    dof = (x.var()/x.size + y.var()/y.size)**2 / ((x.var()/x.size)**2 / (x.size-1) + (y.var()/y.size)**2 / (y.size-1))\n",
        "    return dof"
      ],
      "metadata": {
        "id": "eC1ndiVatXrW"
      },
      "execution_count": null,
      "outputs": []
    },
    {
      "cell_type": "markdown",
      "source": [
        "## Gender"
      ],
      "metadata": {
        "id": "F9rV47jCDnNn"
      }
    },
    {
      "cell_type": "code",
      "source": [
        "##Conduct Gender t-test (male, female)##\n",
        "Male = dataset[dataset['Sex']=='M']\n",
        "Female = dataset[dataset['Sex']=='F']\n",
        "\n",
        "StripSearch_male = Male['ratio']\n",
        "StripSearch_female = Female['ratio']\n",
        "\n",
        "#conduct ttest\n",
        "print('Ttest results for gender:',stats.ttest_ind(StripSearch_male, StripSearch_female, equal_var=False)) "
      ],
      "metadata": {
        "colab": {
          "base_uri": "https://localhost:8080/"
        },
        "id": "KCRSI9Wnl1cp",
        "outputId": "57f6c690-802e-4c98-b225-53f1e30dc9a3"
      },
      "execution_count": null,
      "outputs": [
        {
          "output_type": "stream",
          "name": "stdout",
          "text": [
            "Ttest results for gender: Ttest_indResult(statistic=-2.2673278902169773, pvalue=0.023397309167640712)\n"
          ]
        }
      ]
    },
    {
      "cell_type": "code",
      "source": [
        "#calculate mean and standard deviation of groups \n",
        "print('Mean ratio of stripsearch, Male, Female:',StripSearch_male.mean(), StripSearch_female.mean())\n",
        "print('Standard deviation for ratio, Male, Female:',StripSearch_male.std(), StripSearch_female.std())"
      ],
      "metadata": {
        "id": "AQM-6mbOpRb1",
        "colab": {
          "base_uri": "https://localhost:8080/"
        },
        "outputId": "9dbf9b5d-b037-40ae-bb02-06f99fce86b2"
      },
      "execution_count": null,
      "outputs": [
        {
          "output_type": "stream",
          "name": "stdout",
          "text": [
            "Mean ratio of stripsearch, Male, Female: 0.13562751737497045 0.14185108293607662\n",
            "Standard deviation for ratio, Male, Female: 0.16750818660615033 0.1699079728081248\n"
          ]
        }
      ]
    },
    {
      "cell_type": "code",
      "source": [
        "# compute confidence interval \n",
        "import statsmodels.stats.api as sms\n",
        "cm = sms.CompareMeans(sms.DescrStatsW(StripSearch_male), sms.DescrStatsW(StripSearch_female))\n",
        "print('Confidence interval for ratio:',cm.tconfint_diff(usevar='unequal'))"
      ],
      "metadata": {
        "colab": {
          "base_uri": "https://localhost:8080/"
        },
        "outputId": "2b291c81-4e09-4d5a-b071-c64a2d7734e9",
        "id": "usF5gKPmsRz4"
      },
      "execution_count": null,
      "outputs": [
        {
          "output_type": "stream",
          "name": "stdout",
          "text": [
            "Confidence interval for ratio: (-0.010557935643091185, -0.0007668505492774104)\n"
          ]
        }
      ]
    },
    {
      "cell_type": "code",
      "source": [
        "print('DOF for ratio:',welch_dof(StripSearch_male, StripSearch_female))"
      ],
      "metadata": {
        "colab": {
          "base_uri": "https://localhost:8080/"
        },
        "outputId": "b0ca4291-df64-4be1-99a0-4a2bad153631",
        "id": "jz2FATWLsRz4"
      },
      "execution_count": null,
      "outputs": [
        {
          "output_type": "stream",
          "name": "stdout",
          "text": [
            "DOF for ratio: 7839.996493683497\n"
          ]
        }
      ]
    },
    {
      "cell_type": "markdown",
      "source": [
        "## Age_group"
      ],
      "metadata": {
        "id": "VTzIkHwVir3o"
      }
    },
    {
      "cell_type": "code",
      "source": [
        "dataset.age_group.value_counts(dropna=False)"
      ],
      "metadata": {
        "colab": {
          "base_uri": "https://localhost:8080/"
        },
        "id": "Pa75gLVj-PeF",
        "outputId": "73b13d73-d568-4545-9273-c9155505c933"
      },
      "execution_count": null,
      "outputs": [
        {
          "output_type": "execute_result",
          "data": {
            "text/plain": [
              "Adult(Aged 25 to 44 years)          20566\n",
              "Middle_age(Aged 45 to 64 years)      6836\n",
              "Young_adult(Aged 18 to 24 years)     5327\n",
              "Youth(Aged 17 years and under)       1252\n",
              "Elder(Aged 65 and older)              496\n",
              "Unknown                                 6\n",
              "Name: age_group, dtype: int64"
            ]
          },
          "metadata": {},
          "execution_count": 111
        }
      ]
    },
    {
      "cell_type": "code",
      "source": [
        "df_age = dataset[dataset.age_group != 'Unknown']"
      ],
      "metadata": {
        "id": "uKp5HS--GdoV"
      },
      "execution_count": null,
      "outputs": []
    },
    {
      "cell_type": "code",
      "source": [
        "df_age.age_group.value_counts(dropna=False)"
      ],
      "metadata": {
        "colab": {
          "base_uri": "https://localhost:8080/"
        },
        "id": "OFvIG6UhGqRt",
        "outputId": "486de40f-a140-4d24-96b9-1c6cff3c9c31"
      },
      "execution_count": null,
      "outputs": [
        {
          "output_type": "execute_result",
          "data": {
            "text/plain": [
              "Adult(Aged 25 to 44 years)          20566\n",
              "Middle_age(Aged 45 to 64 years)      6836\n",
              "Young_adult(Aged 18 to 24 years)     5327\n",
              "Youth(Aged 17 years and under)       1252\n",
              "Elder(Aged 65 and older)              496\n",
              "Name: age_group, dtype: int64"
            ]
          },
          "metadata": {},
          "execution_count": 113
        }
      ]
    },
    {
      "cell_type": "markdown",
      "source": [
        "### Adult vs other age"
      ],
      "metadata": {
        "id": "M0t2_DFuYJnh"
      }
    },
    {
      "cell_type": "code",
      "source": [
        "# compare adult gorup to other groups\n",
        "Adult = df_age[df_age['age_group']=='Adult']\n",
        "other_age1 = df_age[df_age['age_group']!='Adult']\n",
        "\n",
        "StripSearch_Adult = Adult['ratio']\n",
        "StripSearch_other_age1 = other_age1['ratio']\n",
        "\n",
        "#conduct ttest\n",
        "print('Ttest results for youth:',stats.ttest_ind(StripSearch_Adult, StripSearch_other_age1, equal_var=False))"
      ],
      "metadata": {
        "colab": {
          "base_uri": "https://localhost:8080/",
          "height": 235
        },
        "id": "YlTGAmspirT_",
        "outputId": "c2af6d86-d3f5-474d-a325-69fa64aa4a8f"
      },
      "execution_count": null,
      "outputs": [
        {
          "output_type": "error",
          "ename": "NameError",
          "evalue": "ignored",
          "traceback": [
            "\u001b[0;31m---------------------------------------------------------------------------\u001b[0m",
            "\u001b[0;31mNameError\u001b[0m                                 Traceback (most recent call last)",
            "\u001b[0;32m<ipython-input-110-b1219e62ad35>\u001b[0m in \u001b[0;36m<module>\u001b[0;34m\u001b[0m\n\u001b[1;32m      1\u001b[0m \u001b[0;31m# compare adult gorup to other groups\u001b[0m\u001b[0;34m\u001b[0m\u001b[0;34m\u001b[0m\u001b[0;34m\u001b[0m\u001b[0m\n\u001b[0;32m----> 2\u001b[0;31m \u001b[0mAdult\u001b[0m \u001b[0;34m=\u001b[0m \u001b[0mdf_age\u001b[0m\u001b[0;34m[\u001b[0m\u001b[0mdf_age\u001b[0m\u001b[0;34m[\u001b[0m\u001b[0;34m'age_group'\u001b[0m\u001b[0;34m]\u001b[0m\u001b[0;34m==\u001b[0m\u001b[0;34m'Adult'\u001b[0m\u001b[0;34m]\u001b[0m\u001b[0;34m\u001b[0m\u001b[0;34m\u001b[0m\u001b[0m\n\u001b[0m\u001b[1;32m      3\u001b[0m \u001b[0mother_age1\u001b[0m \u001b[0;34m=\u001b[0m \u001b[0mdf_age\u001b[0m\u001b[0;34m[\u001b[0m\u001b[0mdf_age\u001b[0m\u001b[0;34m[\u001b[0m\u001b[0;34m'age_group'\u001b[0m\u001b[0;34m]\u001b[0m\u001b[0;34m!=\u001b[0m\u001b[0;34m'Adult'\u001b[0m\u001b[0;34m]\u001b[0m\u001b[0;34m\u001b[0m\u001b[0;34m\u001b[0m\u001b[0m\n\u001b[1;32m      4\u001b[0m \u001b[0;34m\u001b[0m\u001b[0m\n\u001b[1;32m      5\u001b[0m \u001b[0mStripSearch_Adult\u001b[0m \u001b[0;34m=\u001b[0m \u001b[0mAdult\u001b[0m\u001b[0;34m[\u001b[0m\u001b[0;34m'ratio'\u001b[0m\u001b[0;34m]\u001b[0m\u001b[0;34m\u001b[0m\u001b[0;34m\u001b[0m\u001b[0m\n",
            "\u001b[0;31mNameError\u001b[0m: name 'df_age' is not defined"
          ]
        }
      ]
    },
    {
      "cell_type": "code",
      "source": [
        "print('Mean stripsearch, youth, adult :',StripSearch_Adult.mean(), StripSearch_other_age1.mean())\n",
        "print('Standard deviation for stripsearch, youth, adult:',StripSearch_Adult.std(), StripSearch_other_age1.std())"
      ],
      "metadata": {
        "colab": {
          "base_uri": "https://localhost:8080/"
        },
        "id": "798AwIpLrqJQ",
        "outputId": "642d7e1c-c9f1-40af-e0a2-a7f055d176cd"
      },
      "execution_count": null,
      "outputs": [
        {
          "output_type": "stream",
          "name": "stdout",
          "text": [
            "Mean stripsearch, youth, adult : 0.1362231922301639 0.1372272595852284\n",
            "Standard deviation for stripsearch, youth, adult: 0.1676976662753514 0.1682259678229904\n"
          ]
        }
      ]
    },
    {
      "cell_type": "code",
      "source": [
        "# compute confidence interval \n",
        "import statsmodels.stats.api as sms\n",
        "cm = sms.CompareMeans(sms.DescrStatsW(StripSearch_Adult), sms.DescrStatsW(StripSearch_other_age1))\n",
        "print('Confidence interval for ratio:',cm.tconfint_diff(usevar='unequal'))"
      ],
      "metadata": {
        "colab": {
          "base_uri": "https://localhost:8080/"
        },
        "outputId": "264a4599-6aea-4aa6-ba4d-287069a34e44",
        "id": "KbmrL7KzsQmJ"
      },
      "execution_count": null,
      "outputs": [
        {
          "output_type": "stream",
          "name": "stdout",
          "text": [
            "Confidence interval for ratio: (-0.004649165828241362, 0.002641031118112689)\n"
          ]
        }
      ]
    },
    {
      "cell_type": "code",
      "source": [
        "print('DOF for ratio:',welch_dof(StripSearch_Adult, StripSearch_other_age1))"
      ],
      "metadata": {
        "colab": {
          "base_uri": "https://localhost:8080/"
        },
        "outputId": "228559c3-d29e-41b0-a16c-a95ff10e8bd4",
        "id": "FH-oqhRRsQmJ"
      },
      "execution_count": null,
      "outputs": [
        {
          "output_type": "stream",
          "name": "stdout",
          "text": [
            "DOF for ratio: 29352.923796627\n"
          ]
        }
      ]
    },
    {
      "cell_type": "markdown",
      "source": [
        "### Young Adult vs other age"
      ],
      "metadata": {
        "id": "odgE68JBYOLi"
      }
    },
    {
      "cell_type": "code",
      "source": [
        "# compare adult gorup to other groups\n",
        "Young_adult = dataset[dataset['age_group']=='Young_adult']\n",
        "other_age2 = dataset[dataset['age_group']!='Young_adult']\n",
        "\n",
        "StripSearch_Young_adult = Young_adult['ratio']\n",
        "StripSearch_other_age2 = other_age2['ratio']\n",
        "\n",
        "#conduct ttest\n",
        "print('Ttest results for youth:',stats.ttest_ind(StripSearch_Young_adult, StripSearch_other_age2, equal_var=False))"
      ],
      "metadata": {
        "colab": {
          "base_uri": "https://localhost:8080/"
        },
        "outputId": "e4cf43a9-07fc-4e55-eab6-9f2cc2fa52f0",
        "id": "YRhyfsUZYVMq"
      },
      "execution_count": null,
      "outputs": [
        {
          "output_type": "stream",
          "name": "stdout",
          "text": [
            "Ttest results for youth: Ttest_indResult(statistic=8.830078639287391, pvalue=1.3065679097557704e-18)\n"
          ]
        }
      ]
    },
    {
      "cell_type": "code",
      "source": [
        "print('Mean stripsearch, youth, adult :',StripSearch_Adult.mean(), StripSearch_other_age2.mean())\n",
        "print('Standard deviation for stripsearch, youth, adult:',StripSearch_Adult.std(), StripSearch_other_age2.std())"
      ],
      "metadata": {
        "colab": {
          "base_uri": "https://localhost:8080/"
        },
        "outputId": "215d877d-9daa-49bf-ad87-2083b923a2ee",
        "id": "DVuSPdiKYVMq"
      },
      "execution_count": null,
      "outputs": [
        {
          "output_type": "stream",
          "name": "stdout",
          "text": [
            "Mean stripsearch, youth, adult : 0.1362231922301639 0.13300125391333925\n",
            "Standard deviation for stripsearch, youth, adult: 0.1676976662753514 0.16553730505822106\n"
          ]
        }
      ]
    },
    {
      "cell_type": "code",
      "source": [
        "# compute confidence interval \n",
        "import statsmodels.stats.api as sms\n",
        "cm = sms.CompareMeans(sms.DescrStatsW(StripSearch_Adult),sms.DescrStatsW(StripSearch_other_age2))\n",
        "print('Confidence interval for ratio:',cm.tconfint_diff(usevar='unequal'))"
      ],
      "metadata": {
        "colab": {
          "base_uri": "https://localhost:8080/"
        },
        "outputId": "78bcaede-f1d2-4ecb-cdcb-7913c560cbcb",
        "id": "RkNPV5u6YVMq"
      },
      "execution_count": null,
      "outputs": [
        {
          "output_type": "stream",
          "name": "stdout",
          "text": [
            "Confidence interval for ratio: (0.0002177590147620246, 0.006226117618887734)\n"
          ]
        }
      ]
    },
    {
      "cell_type": "code",
      "source": [
        "print('DOF for ratio:',welch_dof(StripSearch_other_age2, StripSearch_Adult))"
      ],
      "metadata": {
        "colab": {
          "base_uri": "https://localhost:8080/"
        },
        "outputId": "b66bd356-390c-4af0-c4d0-2b1f5a0ddca3",
        "id": "6JgYX5I0YVMq"
      },
      "execution_count": null,
      "outputs": [
        {
          "output_type": "stream",
          "name": "stdout",
          "text": [
            "DOF for ratio: 43102.53200452768\n"
          ]
        }
      ]
    },
    {
      "cell_type": "markdown",
      "source": [
        "## Race"
      ],
      "metadata": {
        "id": "jIlNXBLIhH0w"
      }
    },
    {
      "cell_type": "code",
      "source": [
        "dataset.race.value_counts(dropna=False)"
      ],
      "metadata": {
        "colab": {
          "base_uri": "https://localhost:8080/"
        },
        "id": "ahhFaHUm9jb5",
        "outputId": "566f6692-d7c3-4b7a-9438-ddfe0ce4ebdf"
      },
      "execution_count": null,
      "outputs": [
        {
          "output_type": "execute_result",
          "data": {
            "text/plain": [
              "White                14250\n",
              "Black                 9668\n",
              "Asian                 3870\n",
              "Unknown or Legacy     2435\n",
              "Middle-Eastern        1630\n",
              "Indigenous            1072\n",
              "Latino                 964\n",
              "Name: race, dtype: int64"
            ]
          },
          "metadata": {},
          "execution_count": 47
        }
      ]
    },
    {
      "cell_type": "code",
      "source": [
        "df_race = dataset[dataset.race!= 'Unknown or Legacy']"
      ],
      "metadata": {
        "id": "BUGyCCAs9qQF"
      },
      "execution_count": null,
      "outputs": []
    },
    {
      "cell_type": "code",
      "source": [
        "df_race.race.value_counts()"
      ],
      "metadata": {
        "colab": {
          "base_uri": "https://localhost:8080/"
        },
        "id": "IIUTQasi-sKj",
        "outputId": "09f8f32d-a6d7-4fa4-ecef-1e93698b3dec"
      },
      "execution_count": null,
      "outputs": [
        {
          "output_type": "execute_result",
          "data": {
            "text/plain": [
              "White             14250\n",
              "Black              9668\n",
              "Asian              3870\n",
              "Middle-Eastern     1630\n",
              "Indigenous         1072\n",
              "Latino              964\n",
              "Name: race, dtype: int64"
            ]
          },
          "metadata": {},
          "execution_count": 66
        }
      ]
    },
    {
      "cell_type": "markdown",
      "source": [
        "### White vs other race"
      ],
      "metadata": {
        "id": "hDVA4z_9Xz_V"
      }
    },
    {
      "cell_type": "code",
      "source": [
        "# compare white people with other race\n",
        "White = df_race[df_race['race']=='White']\n",
        "other_race = df_race[df_race['race'] != 'White']\n",
        "\n",
        "StripSearch_White = White['ratio']\n",
        "StripSearch_other_race = other_race['ratio']\n",
        "print('Ttest results for White and Black:',stats.ttest_ind(StripSearch_White, StripSearch_other_race, equal_var=False))"
      ],
      "metadata": {
        "colab": {
          "base_uri": "https://localhost:8080/"
        },
        "id": "e-t4YyIMBgkd",
        "outputId": "1983c147-4828-4595-e285-82a7822c4340"
      },
      "execution_count": null,
      "outputs": [
        {
          "output_type": "stream",
          "name": "stdout",
          "text": [
            "Ttest results for White and Black: Ttest_indResult(statistic=3.2557000463053907, pvalue=0.0011323832826626396)\n"
          ]
        }
      ]
    },
    {
      "cell_type": "code",
      "source": [
        "#calculate mean and standard deviation of groups \n",
        "print('Mean stripsearch, White, Black:', StripSearch_White.mean(),StripSearch_other_race.mean())\n",
        "print('Standard deviation for stripsearch, White, Black:', StripSearch_White.std(),StripSearch_other_race.std())"
      ],
      "metadata": {
        "colab": {
          "base_uri": "https://localhost:8080/"
        },
        "outputId": "d0b0a50b-79f8-452e-c4b6-abbd61f63752",
        "id": "jbV4mgScXUsM"
      },
      "execution_count": null,
      "outputs": [
        {
          "output_type": "stream",
          "name": "stdout",
          "text": [
            "Mean stripsearch, White, Black: 0.13969059783099222 0.13349281008618594\n",
            "Standard deviation for stripsearch, White, Black: 0.17006891001749777 0.16561272065793986\n"
          ]
        }
      ]
    },
    {
      "cell_type": "code",
      "source": [
        "# compute confidence interval \n",
        "import statsmodels.stats.api as sms\n",
        "cm = sms.CompareMeans(sms.DescrStatsW(StripSearch_White), sms.DescrStatsW(StripSearch_other_race))\n",
        "print('Confidence interval for ratio:',cm.tconfint_diff(usevar='unequal'))"
      ],
      "metadata": {
        "colab": {
          "base_uri": "https://localhost:8080/"
        },
        "outputId": "7e7e3d5d-d2b4-411c-f45f-2a986b63099b",
        "id": "ZabTX1qaXUsM"
      },
      "execution_count": null,
      "outputs": [
        {
          "output_type": "stream",
          "name": "stdout",
          "text": [
            "Confidence interval for ratio: (0.0024665073152826556, 0.009929068174330187)\n"
          ]
        }
      ]
    },
    {
      "cell_type": "code",
      "source": [
        "print('DOF for ratio:',welch_dof(StripSearch_White, StripSearch_other_race))"
      ],
      "metadata": {
        "colab": {
          "base_uri": "https://localhost:8080/"
        },
        "id": "LWoy7hw3mDBG",
        "outputId": "86436e9f-6264-4d6d-ae8d-7d6bd8ee2457"
      },
      "execution_count": null,
      "outputs": [
        {
          "output_type": "stream",
          "name": "stdout",
          "text": [
            "DOF for ratio: 30061.969365714147\n"
          ]
        }
      ]
    },
    {
      "cell_type": "markdown",
      "source": [
        "### White vs Black"
      ],
      "metadata": {
        "id": "e4j25O8wXsXZ"
      }
    },
    {
      "cell_type": "code",
      "source": [
        "# compare white people with other race\n",
        "White = df_race[df_race['race']=='White']\n",
        "Black = df_race[df_race['race'] == 'Black']\n",
        "\n",
        "StripSearch_White = White['ratio']\n",
        "StripSearch_Black = Black['ratio']\n",
        "print('Ttest results for White and Black:',stats.ttest_ind(StripSearch_White, StripSearch_Black, equal_var=False))"
      ],
      "metadata": {
        "colab": {
          "base_uri": "https://localhost:8080/"
        },
        "id": "yBFKAymjmWD0",
        "outputId": "1a0a5573-d26c-4018-a09e-487e04a0af94"
      },
      "execution_count": null,
      "outputs": [
        {
          "output_type": "stream",
          "name": "stdout",
          "text": [
            "Ttest results for White and Black: Ttest_indResult(statistic=-1.8119667126704377, pvalue=0.07000602613126768)\n"
          ]
        }
      ]
    },
    {
      "cell_type": "code",
      "source": [
        "#calculate mean and standard deviation of groups \n",
        "print('Mean stripsearch, White, Black:', StripSearch_White.mean(),StripSearch_Black.mean())\n",
        "print('Standard deviation for stripsearch, White, Black:', StripSearch_White.std(),StripSearch_Black.std())"
      ],
      "metadata": {
        "colab": {
          "base_uri": "https://localhost:8080/"
        },
        "id": "Pp_FNBTAI-FH",
        "outputId": "c0b4cdf5-b6ce-431a-efea-21e4b8215468"
      },
      "execution_count": null,
      "outputs": [
        {
          "output_type": "stream",
          "name": "stdout",
          "text": [
            "Mean stripsearch, White, Black: 0.13969059783099222 0.14381065879109986\n",
            "Standard deviation for stripsearch, White, Black: 0.17006891001749777 0.17424739806658324\n"
          ]
        }
      ]
    },
    {
      "cell_type": "code",
      "source": [
        "# compute confidence interval \n",
        "import statsmodels.stats.api as sms\n",
        "cm = sms.CompareMeans(sms.DescrStatsW(StripSearch_White), sms.DescrStatsW(StripSearch_other_race))\n",
        "print('Confidence interval for ratio:',cm.tconfint_diff(usevar='unequal'))"
      ],
      "metadata": {
        "colab": {
          "base_uri": "https://localhost:8080/"
        },
        "id": "Agol6kQQlyc6",
        "outputId": "da2ed573-1415-465d-90ee-91b3d5cef277"
      },
      "execution_count": null,
      "outputs": [
        {
          "output_type": "stream",
          "name": "stdout",
          "text": [
            "Confidence interval for ratio: (0.0024665073152826556, 0.009929068174330187)\n"
          ]
        }
      ]
    },
    {
      "cell_type": "markdown",
      "source": [
        "# **One Way ANOVA**"
      ],
      "metadata": {
        "id": "-virgmjli8xm"
      }
    },
    {
      "cell_type": "code",
      "source": [
        "import statsmodels.api as sm\n",
        "from statsmodels.formula.api import ols\n",
        "from scipy.stats import f_oneway\n",
        "from statsmodels.stats.multicomp import pairwise_tukeyhsd\n",
        "from statsmodels.stats.multicomp import MultiComparison"
      ],
      "metadata": {
        "id": "7esqMYaki7Gk"
      },
      "execution_count": null,
      "outputs": []
    },
    {
      "cell_type": "markdown",
      "source": [
        "## Age Group"
      ],
      "metadata": {
        "id": "yB-NE7yCG5uR"
      }
    },
    {
      "cell_type": "code",
      "source": [
        "# Model formula\n",
        "age_model = ols('ratio ~ age_group',                 \n",
        "            data = df_age).fit()\n",
        "                \n",
        "age_anova_result = sm.stats.anova_lm(age_model, typ=2)\n",
        "print (age_anova_result)"
      ],
      "metadata": {
        "colab": {
          "base_uri": "https://localhost:8080/",
          "height": 235
        },
        "outputId": "e347bbbe-b6c2-4d0d-f95d-7ac5d4bfb608",
        "id": "WJCJNlUgHEYG"
      },
      "execution_count": null,
      "outputs": [
        {
          "output_type": "error",
          "ename": "NameError",
          "evalue": "ignored",
          "traceback": [
            "\u001b[0;31m---------------------------------------------------------------------------\u001b[0m",
            "\u001b[0;31mNameError\u001b[0m                                 Traceback (most recent call last)",
            "\u001b[0;32m<ipython-input-109-61c3a21534dc>\u001b[0m in \u001b[0;36m<module>\u001b[0;34m\u001b[0m\n\u001b[1;32m      1\u001b[0m \u001b[0;31m# Model formula\u001b[0m\u001b[0;34m\u001b[0m\u001b[0;34m\u001b[0m\u001b[0;34m\u001b[0m\u001b[0m\n\u001b[1;32m      2\u001b[0m age_model = ols('ratio ~ age_group',                 \n\u001b[0;32m----> 3\u001b[0;31m             data = df_age).fit()\n\u001b[0m\u001b[1;32m      4\u001b[0m \u001b[0;34m\u001b[0m\u001b[0m\n\u001b[1;32m      5\u001b[0m \u001b[0mage_anova_result\u001b[0m \u001b[0;34m=\u001b[0m \u001b[0msm\u001b[0m\u001b[0;34m.\u001b[0m\u001b[0mstats\u001b[0m\u001b[0;34m.\u001b[0m\u001b[0manova_lm\u001b[0m\u001b[0;34m(\u001b[0m\u001b[0mage_model\u001b[0m\u001b[0;34m,\u001b[0m \u001b[0mtyp\u001b[0m\u001b[0;34m=\u001b[0m\u001b[0;36m2\u001b[0m\u001b[0;34m)\u001b[0m\u001b[0;34m\u001b[0m\u001b[0;34m\u001b[0m\u001b[0m\n",
            "\u001b[0;31mNameError\u001b[0m: name 'df_age' is not defined"
          ]
        }
      ]
    },
    {
      "cell_type": "code",
      "source": [
        "# perform Tukey's test\n",
        "race_tukey = pairwise_tukeyhsd(endog= df_age['ratio'],\n",
        "                          groups=df_age['age_group'],\n",
        "                          alpha=0.05)\n",
        "\n",
        "#display results\n",
        "print(race_tukey)"
      ],
      "metadata": {
        "colab": {
          "base_uri": "https://localhost:8080/",
          "height": 235
        },
        "outputId": "1a4b9d42-e344-4797-a032-4fbdf91cd493",
        "id": "ZG-5F-aFHEYG"
      },
      "execution_count": null,
      "outputs": [
        {
          "output_type": "error",
          "ename": "NameError",
          "evalue": "ignored",
          "traceback": [
            "\u001b[0;31m---------------------------------------------------------------------------\u001b[0m",
            "\u001b[0;31mNameError\u001b[0m                                 Traceback (most recent call last)",
            "\u001b[0;32m<ipython-input-108-301a1cdf92b4>\u001b[0m in \u001b[0;36m<module>\u001b[0;34m\u001b[0m\n\u001b[1;32m      1\u001b[0m \u001b[0;31m# perform Tukey's test\u001b[0m\u001b[0;34m\u001b[0m\u001b[0;34m\u001b[0m\u001b[0;34m\u001b[0m\u001b[0m\n\u001b[0;32m----> 2\u001b[0;31m race_tukey = pairwise_tukeyhsd(endog= df_age['ratio'],\n\u001b[0m\u001b[1;32m      3\u001b[0m                           \u001b[0mgroups\u001b[0m\u001b[0;34m=\u001b[0m\u001b[0mdf_age\u001b[0m\u001b[0;34m[\u001b[0m\u001b[0;34m'age_group'\u001b[0m\u001b[0;34m]\u001b[0m\u001b[0;34m,\u001b[0m\u001b[0;34m\u001b[0m\u001b[0;34m\u001b[0m\u001b[0m\n\u001b[1;32m      4\u001b[0m                           alpha=0.05)\n\u001b[1;32m      5\u001b[0m \u001b[0;34m\u001b[0m\u001b[0m\n",
            "\u001b[0;31mNameError\u001b[0m: name 'df_age' is not defined"
          ]
        }
      ]
    },
    {
      "cell_type": "markdown",
      "source": [
        "## Race"
      ],
      "metadata": {
        "id": "K23FdbIeH1zz"
      }
    },
    {
      "cell_type": "code",
      "source": [
        "# Model formula\n",
        "race_model = ols('ratio ~ race',                 \n",
        "            data = df_race).fit()\n",
        "                \n",
        "race_anova_result = sm.stats.anova_lm(race_model, typ=2)\n",
        "print (race_anova_result)"
      ],
      "metadata": {
        "colab": {
          "base_uri": "https://localhost:8080/"
        },
        "outputId": "96832c94-a529-4be1-ddda-1988a9f32fd1",
        "id": "UPyvNggFWQO9"
      },
      "execution_count": null,
      "outputs": [
        {
          "output_type": "stream",
          "name": "stdout",
          "text": [
            "              sum_sq       df          F        PR(>F)\n",
            "race        3.824085      5.0  26.758671  4.258317e-27\n",
            "Residual  914.224635  31986.0        NaN           NaN\n"
          ]
        }
      ]
    },
    {
      "cell_type": "code",
      "source": [
        "# perform Tukey's test\n",
        "race_tukey = pairwise_tukeyhsd(endog= df_race['ratio'],\n",
        "                          groups=df_race['race'],\n",
        "                          alpha=0.05)\n",
        "\n",
        "#display results\n",
        "print(race_tukey)"
      ],
      "metadata": {
        "colab": {
          "base_uri": "https://localhost:8080/"
        },
        "outputId": "ff8b642a-1e8f-41ae-e454-f6e34fa052f6",
        "id": "3rR8rk3JWQO9"
      },
      "execution_count": null,
      "outputs": [
        {
          "output_type": "stream",
          "name": "stdout",
          "text": [
            "        Multiple Comparison of Means - Tukey HSD, FWER=0.05         \n",
            "====================================================================\n",
            "    group1         group2     meandiff p-adj   lower   upper  reject\n",
            "--------------------------------------------------------------------\n",
            "         Asian          Black   0.0214  0.001  0.0123  0.0305   True\n",
            "         Asian     Indigenous   0.0153 0.0861 -0.0012  0.0317  False\n",
            "         Asian         Latino  -0.0132 0.2509 -0.0304  0.0041  False\n",
            "         Asian Middle-Eastern  -0.0163 0.0128 -0.0305 -0.0022   True\n",
            "         Asian          White   0.0184  0.001  0.0097  0.0271   True\n",
            "         Black     Indigenous  -0.0061 0.8495 -0.0215  0.0092  False\n",
            "         Black         Latino  -0.0346  0.001 -0.0508 -0.0184   True\n",
            "         Black Middle-Eastern  -0.0378  0.001 -0.0506 -0.0249   True\n",
            "         Black          White   -0.003 0.7176 -0.0093  0.0033  False\n",
            "    Indigenous         Latino  -0.0284 0.0018 -0.0496 -0.0072   True\n",
            "    Indigenous Middle-Eastern  -0.0316  0.001 -0.0504 -0.0129   True\n",
            "    Indigenous          White   0.0031    0.9  -0.012  0.0182  False\n",
            "        Latino Middle-Eastern  -0.0032    0.9 -0.0227  0.0163  False\n",
            "        Latino          White   0.0316  0.001  0.0156  0.0475   True\n",
            "Middle-Eastern          White   0.0347  0.001  0.0222  0.0473   True\n",
            "--------------------------------------------------------------------\n"
          ]
        }
      ]
    },
    {
      "cell_type": "markdown",
      "source": [
        "# Two-Way ANOVA"
      ],
      "metadata": {
        "id": "drgSYu2gjCXQ"
      }
    },
    {
      "cell_type": "code",
      "source": [
        "from statsmodels.stats.anova import anova_lm\n",
        "from statsmodels.graphics.factorplots import interaction_plot\n",
        "import matplotlib.pyplot as plt\n",
        "from statsmodels.stats.multicomp import pairwise_tukeyhsd\n",
        "import statsmodels.stats.multicomp as mc"
      ],
      "metadata": {
        "id": "sIRdFCy3RrXe"
      },
      "execution_count": null,
      "outputs": []
    },
    {
      "cell_type": "markdown",
      "source": [
        "Tukey Test after Two-Way ANOVA"
      ],
      "metadata": {
        "id": "gfj5OCvcgWmw"
      }
    },
    {
      "cell_type": "markdown",
      "source": [
        "## Race & age"
      ],
      "metadata": {
        "id": "99x-qBdbcbZ6"
      }
    },
    {
      "cell_type": "code",
      "source": [
        "df_age_race = dataset[dataset.age_group != 'Unknown']\n",
        "df_age_race = df_age_race[df_age_race.race != 'Unknown or Legacy']"
      ],
      "metadata": {
        "id": "_tmC7GX9ZrJu"
      },
      "execution_count": null,
      "outputs": []
    },
    {
      "cell_type": "code",
      "source": [
        "df_age_race.groupby('age_group')['race'].value_counts(dropna=False)"
      ],
      "metadata": {
        "colab": {
          "base_uri": "https://localhost:8080/"
        },
        "id": "c-RWU-iCZrTs",
        "outputId": "b2f7e0b0-a132-4fb3-c244-bacb223a1250"
      },
      "execution_count": null,
      "outputs": [
        {
          "output_type": "execute_result",
          "data": {
            "text/plain": [
              "age_group                         race          \n",
              "Adult(Aged 25 to 44 years)        White             8888\n",
              "                                  Black             5738\n",
              "                                  Asian             2200\n",
              "                                  Middle-Eastern     890\n",
              "                                  Indigenous         736\n",
              "                                  Latino             613\n",
              "Elder(Aged 65 and older)          White              269\n",
              "                                  Asian               84\n",
              "                                  Black               76\n",
              "                                  Latino              14\n",
              "                                  Middle-Eastern      14\n",
              "                                  Indigenous           6\n",
              "Middle_age(Aged 45 to 64 years)   White             3713\n",
              "                                  Black             1192\n",
              "                                  Asian              817\n",
              "                                  Middle-Eastern     304\n",
              "                                  Indigenous         210\n",
              "                                  Latino             151\n",
              "Young_adult(Aged 18 to 24 years)  Black             2189\n",
              "                                  White             1348\n",
              "                                  Asian              707\n",
              "                                  Middle-Eastern     362\n",
              "                                  Latino             164\n",
              "                                  Indigenous         136\n",
              "Youth(Aged 17 years and under)    Black              638\n",
              "                                  White              314\n",
              "                                  Asian               91\n",
              "                                  Middle-Eastern      79\n",
              "                                  Latino              32\n",
              "                                  Indigenous          11\n",
              "Name: race, dtype: int64"
            ]
          },
          "metadata": {},
          "execution_count": 75
        }
      ]
    },
    {
      "cell_type": "code",
      "source": [
        "model = ols('ratio ~ C(age_group) + C(race) + C(race):C(age_group)', data = df_age_race ).fit()\n",
        "sm.stats.anova_lm(model, typ=2)"
      ],
      "metadata": {
        "colab": {
          "base_uri": "https://localhost:8080/",
          "height": 175
        },
        "id": "f5oVwQircayf",
        "outputId": "fbd7369b-a920-4112-f006-d3dd6735fddf"
      },
      "execution_count": null,
      "outputs": [
        {
          "output_type": "execute_result",
          "data": {
            "text/plain": [
              "                          sum_sq       df          F        PR(>F)\n",
              "C(age_group)            3.372526      4.0  29.628424  1.233407e-24\n",
              "C(race)                 4.067972      5.0  28.590456  4.913169e-29\n",
              "C(race):C(age_group)    1.365106     20.0   2.398555  4.325145e-04\n",
              "Residual              909.367090  31956.0        NaN           NaN"
            ],
            "text/html": [
              "\n",
              "  <div id=\"df-54b64b5c-a594-4b63-b39d-d2cd96dcd285\">\n",
              "    <div class=\"colab-df-container\">\n",
              "      <div>\n",
              "<style scoped>\n",
              "    .dataframe tbody tr th:only-of-type {\n",
              "        vertical-align: middle;\n",
              "    }\n",
              "\n",
              "    .dataframe tbody tr th {\n",
              "        vertical-align: top;\n",
              "    }\n",
              "\n",
              "    .dataframe thead th {\n",
              "        text-align: right;\n",
              "    }\n",
              "</style>\n",
              "<table border=\"1\" class=\"dataframe\">\n",
              "  <thead>\n",
              "    <tr style=\"text-align: right;\">\n",
              "      <th></th>\n",
              "      <th>sum_sq</th>\n",
              "      <th>df</th>\n",
              "      <th>F</th>\n",
              "      <th>PR(&gt;F)</th>\n",
              "    </tr>\n",
              "  </thead>\n",
              "  <tbody>\n",
              "    <tr>\n",
              "      <th>C(age_group)</th>\n",
              "      <td>3.372526</td>\n",
              "      <td>4.0</td>\n",
              "      <td>29.628424</td>\n",
              "      <td>1.233407e-24</td>\n",
              "    </tr>\n",
              "    <tr>\n",
              "      <th>C(race)</th>\n",
              "      <td>4.067972</td>\n",
              "      <td>5.0</td>\n",
              "      <td>28.590456</td>\n",
              "      <td>4.913169e-29</td>\n",
              "    </tr>\n",
              "    <tr>\n",
              "      <th>C(race):C(age_group)</th>\n",
              "      <td>1.365106</td>\n",
              "      <td>20.0</td>\n",
              "      <td>2.398555</td>\n",
              "      <td>4.325145e-04</td>\n",
              "    </tr>\n",
              "    <tr>\n",
              "      <th>Residual</th>\n",
              "      <td>909.367090</td>\n",
              "      <td>31956.0</td>\n",
              "      <td>NaN</td>\n",
              "      <td>NaN</td>\n",
              "    </tr>\n",
              "  </tbody>\n",
              "</table>\n",
              "</div>\n",
              "      <button class=\"colab-df-convert\" onclick=\"convertToInteractive('df-54b64b5c-a594-4b63-b39d-d2cd96dcd285')\"\n",
              "              title=\"Convert this dataframe to an interactive table.\"\n",
              "              style=\"display:none;\">\n",
              "        \n",
              "  <svg xmlns=\"http://www.w3.org/2000/svg\" height=\"24px\"viewBox=\"0 0 24 24\"\n",
              "       width=\"24px\">\n",
              "    <path d=\"M0 0h24v24H0V0z\" fill=\"none\"/>\n",
              "    <path d=\"M18.56 5.44l.94 2.06.94-2.06 2.06-.94-2.06-.94-.94-2.06-.94 2.06-2.06.94zm-11 1L8.5 8.5l.94-2.06 2.06-.94-2.06-.94L8.5 2.5l-.94 2.06-2.06.94zm10 10l.94 2.06.94-2.06 2.06-.94-2.06-.94-.94-2.06-.94 2.06-2.06.94z\"/><path d=\"M17.41 7.96l-1.37-1.37c-.4-.4-.92-.59-1.43-.59-.52 0-1.04.2-1.43.59L10.3 9.45l-7.72 7.72c-.78.78-.78 2.05 0 2.83L4 21.41c.39.39.9.59 1.41.59.51 0 1.02-.2 1.41-.59l7.78-7.78 2.81-2.81c.8-.78.8-2.07 0-2.86zM5.41 20L4 18.59l7.72-7.72 1.47 1.35L5.41 20z\"/>\n",
              "  </svg>\n",
              "      </button>\n",
              "      \n",
              "  <style>\n",
              "    .colab-df-container {\n",
              "      display:flex;\n",
              "      flex-wrap:wrap;\n",
              "      gap: 12px;\n",
              "    }\n",
              "\n",
              "    .colab-df-convert {\n",
              "      background-color: #E8F0FE;\n",
              "      border: none;\n",
              "      border-radius: 50%;\n",
              "      cursor: pointer;\n",
              "      display: none;\n",
              "      fill: #1967D2;\n",
              "      height: 32px;\n",
              "      padding: 0 0 0 0;\n",
              "      width: 32px;\n",
              "    }\n",
              "\n",
              "    .colab-df-convert:hover {\n",
              "      background-color: #E2EBFA;\n",
              "      box-shadow: 0px 1px 2px rgba(60, 64, 67, 0.3), 0px 1px 3px 1px rgba(60, 64, 67, 0.15);\n",
              "      fill: #174EA6;\n",
              "    }\n",
              "\n",
              "    [theme=dark] .colab-df-convert {\n",
              "      background-color: #3B4455;\n",
              "      fill: #D2E3FC;\n",
              "    }\n",
              "\n",
              "    [theme=dark] .colab-df-convert:hover {\n",
              "      background-color: #434B5C;\n",
              "      box-shadow: 0px 1px 3px 1px rgba(0, 0, 0, 0.15);\n",
              "      filter: drop-shadow(0px 1px 2px rgba(0, 0, 0, 0.3));\n",
              "      fill: #FFFFFF;\n",
              "    }\n",
              "  </style>\n",
              "\n",
              "      <script>\n",
              "        const buttonEl =\n",
              "          document.querySelector('#df-54b64b5c-a594-4b63-b39d-d2cd96dcd285 button.colab-df-convert');\n",
              "        buttonEl.style.display =\n",
              "          google.colab.kernel.accessAllowed ? 'block' : 'none';\n",
              "\n",
              "        async function convertToInteractive(key) {\n",
              "          const element = document.querySelector('#df-54b64b5c-a594-4b63-b39d-d2cd96dcd285');\n",
              "          const dataTable =\n",
              "            await google.colab.kernel.invokeFunction('convertToInteractive',\n",
              "                                                     [key], {});\n",
              "          if (!dataTable) return;\n",
              "\n",
              "          const docLinkHtml = 'Like what you see? Visit the ' +\n",
              "            '<a target=\"_blank\" href=https://colab.research.google.com/notebooks/data_table.ipynb>data table notebook</a>'\n",
              "            + ' to learn more about interactive tables.';\n",
              "          element.innerHTML = '';\n",
              "          dataTable['output_type'] = 'display_data';\n",
              "          await google.colab.output.renderOutput(dataTable, element);\n",
              "          const docLink = document.createElement('div');\n",
              "          docLink.innerHTML = docLinkHtml;\n",
              "          element.appendChild(docLink);\n",
              "        }\n",
              "      </script>\n",
              "    </div>\n",
              "  </div>\n",
              "  "
            ]
          },
          "metadata": {},
          "execution_count": 106
        }
      ]
    },
    {
      "cell_type": "code",
      "source": [
        "fig = interaction_plot(x=df_age_race['age_group'], trace=df_age_race['race'], response=df_age_race['ratio'], legendloc = [1,0])\n",
        "\n",
        "fig.autofmt_xdate()\n",
        "plt.show()"
      ],
      "metadata": {
        "colab": {
          "base_uri": "https://localhost:8080/",
          "height": 342
        },
        "id": "MY5j_ZUKcaJ_",
        "outputId": "0cafaa72-cc76-4143-9818-974e2eec971c"
      },
      "execution_count": null,
      "outputs": [
        {
          "output_type": "display_data",
          "data": {
            "text/plain": [
              "<Figure size 432x288 with 1 Axes>"
            ],
            "image/png": "[encoded data removed]"
          },
          "metadata": {
            "needs_background": "light"
          }
        }
      ]
    },
    {
      "cell_type": "markdown",
      "source": [
        "Tukey Test after Two-Way ANOVA"
      ],
      "metadata": {
        "id": "QE6InmQKiov1"
      }
    },
    {
      "cell_type": "code",
      "source": [
        "tukey_results = pairwise_tukeyhsd(df_age_race['ratio'], df_age_race['age_group'] + df_age_race['race'])\n",
        "print(tukey_results)"
      ],
      "metadata": {
        "id": "8HcnQhHzff2Z",
        "colab": {
          "base_uri": "https://localhost:8080/"
        },
        "outputId": "b3297526-a61a-48b9-b1ea-fd489885033d"
      },
      "execution_count": null,
      "outputs": [
        {
          "output_type": "stream",
          "name": "stdout",
          "text": [
            "                                        Multiple Comparison of Means - Tukey HSD, FWER=0.05                                         \n",
            "====================================================================================================================================\n",
            "                    group1                                         group2                     meandiff p-adj   lower   upper  reject\n",
            "------------------------------------------------------------------------------------------------------------------------------------\n",
            "               Adult(Aged 25 to 44 years)Asian                Adult(Aged 25 to 44 years)Black   0.0255  0.001  0.0096  0.0413   True\n",
            "               Adult(Aged 25 to 44 years)Asian           Adult(Aged 25 to 44 years)Indigenous   0.0261  0.073 -0.0008  0.0531  False\n",
            "               Adult(Aged 25 to 44 years)Asian               Adult(Aged 25 to 44 years)Latino  -0.0064    0.9 -0.0353  0.0225  False\n",
            "               Adult(Aged 25 to 44 years)Asian       Adult(Aged 25 to 44 years)Middle-Eastern  -0.0121    0.9 -0.0372   0.013  False\n",
            "               Adult(Aged 25 to 44 years)Asian                Adult(Aged 25 to 44 years)White   0.0301  0.001  0.0151  0.0452   True\n",
            "               Adult(Aged 25 to 44 years)Asian                  Elder(Aged 65 and older)Asian   -0.035    0.9 -0.1053  0.0353  False\n",
            "               Adult(Aged 25 to 44 years)Asian                  Elder(Aged 65 and older)Black   0.0542 0.5686 -0.0196   0.128  False\n",
            "               Adult(Aged 25 to 44 years)Asian             Elder(Aged 65 and older)Indigenous  -0.0577    0.9 -0.3162  0.2009  False\n",
            "               Adult(Aged 25 to 44 years)Asian                 Elder(Aged 65 and older)Latino   0.0363    0.9 -0.1332  0.2059  False\n",
            "               Adult(Aged 25 to 44 years)Asian         Elder(Aged 65 and older)Middle-Eastern  -0.0288    0.9 -0.1983  0.1408  False\n",
            "               Adult(Aged 25 to 44 years)Asian                  Elder(Aged 65 and older)White  -0.0111    0.9 -0.0519  0.0298  False\n",
            "               Adult(Aged 25 to 44 years)Asian           Middle_age(Aged 45 to 64 years)Asian    0.003    0.9 -0.0229  0.0289  False\n",
            "               Adult(Aged 25 to 44 years)Asian           Middle_age(Aged 45 to 64 years)Black    0.016 0.6436 -0.0067  0.0388  False\n",
            "               Adult(Aged 25 to 44 years)Asian      Middle_age(Aged 45 to 64 years)Indigenous   0.0146    0.9 -0.0311  0.0602  False\n",
            "               Adult(Aged 25 to 44 years)Asian          Middle_age(Aged 45 to 64 years)Latino  -0.0232    0.9 -0.0764    0.03  False\n",
            "               Adult(Aged 25 to 44 years)Asian  Middle_age(Aged 45 to 64 years)Middle-Eastern  -0.0141    0.9 -0.0528  0.0246  False\n",
            "               Adult(Aged 25 to 44 years)Asian           Middle_age(Aged 45 to 64 years)White   0.0188 0.0113  0.0018  0.0359   True\n",
            "               Adult(Aged 25 to 44 years)Asian          Young_adult(Aged 18 to 24 years)Asian   0.0413  0.001   0.014  0.0686   True\n",
            "               Adult(Aged 25 to 44 years)Asian          Young_adult(Aged 18 to 24 years)Black   0.0539  0.001  0.0348   0.073   True\n",
            "               Adult(Aged 25 to 44 years)Asian     Young_adult(Aged 18 to 24 years)Indigenous   0.0223    0.9 -0.0336  0.0782  False\n",
            "               Adult(Aged 25 to 44 years)Asian         Young_adult(Aged 18 to 24 years)Latino    0.009    0.9 -0.0422  0.0602  False\n",
            "               Adult(Aged 25 to 44 years)Asian Young_adult(Aged 18 to 24 years)Middle-Eastern   0.0069    0.9  -0.029  0.0428  False\n",
            "               Adult(Aged 25 to 44 years)Asian          Young_adult(Aged 18 to 24 years)White    0.033  0.001  0.0112  0.0549   True\n",
            "               Adult(Aged 25 to 44 years)Asian            Youth(Aged 17 years and under)Asian   0.0126    0.9  -0.055  0.0803  False\n",
            "               Adult(Aged 25 to 44 years)Asian            Youth(Aged 17 years and under)Black  -0.0023    0.9 -0.0307  0.0262  False\n",
            "               Adult(Aged 25 to 44 years)Asian       Youth(Aged 17 years and under)Indigenous   0.0227    0.9 -0.1685  0.2138  False\n",
            "               Adult(Aged 25 to 44 years)Asian           Youth(Aged 17 years and under)Latino   0.0022    0.9 -0.1104  0.1148  False\n",
            "               Adult(Aged 25 to 44 years)Asian   Youth(Aged 17 years and under)Middle-Eastern  -0.0171    0.9 -0.0895  0.0553  False\n",
            "               Adult(Aged 25 to 44 years)Asian            Youth(Aged 17 years and under)White  -0.0033    0.9 -0.0414  0.0349  False\n",
            "               Adult(Aged 25 to 44 years)Black           Adult(Aged 25 to 44 years)Indigenous   0.0007    0.9 -0.0241  0.0254  False\n",
            "               Adult(Aged 25 to 44 years)Black               Adult(Aged 25 to 44 years)Latino  -0.0319 0.0033 -0.0587  -0.005   True\n",
            "               Adult(Aged 25 to 44 years)Black       Adult(Aged 25 to 44 years)Middle-Eastern  -0.0376  0.001 -0.0604 -0.0148   True\n",
            "               Adult(Aged 25 to 44 years)Black                Adult(Aged 25 to 44 years)White   0.0047    0.9  -0.006  0.0154  False\n",
            "               Adult(Aged 25 to 44 years)Black                  Elder(Aged 65 and older)Asian  -0.0605 0.2134   -0.13   0.009  False\n",
            "               Adult(Aged 25 to 44 years)Black                  Elder(Aged 65 and older)Black   0.0287    0.9 -0.0443  0.1017  False\n",
            "               Adult(Aged 25 to 44 years)Black             Elder(Aged 65 and older)Indigenous  -0.0831    0.9 -0.3415  0.1752  False\n",
            "               Adult(Aged 25 to 44 years)Black                 Elder(Aged 65 and older)Latino   0.0109    0.9 -0.1584  0.1801  False\n",
            "               Adult(Aged 25 to 44 years)Black         Elder(Aged 65 and older)Middle-Eastern  -0.0542    0.9 -0.2235   0.115  False\n",
            "               Adult(Aged 25 to 44 years)Black                  Elder(Aged 65 and older)White  -0.0365 0.1213  -0.076  0.0029  False\n",
            "               Adult(Aged 25 to 44 years)Black           Middle_age(Aged 45 to 64 years)Asian  -0.0225 0.0894 -0.0462  0.0011  False\n",
            "               Adult(Aged 25 to 44 years)Black           Middle_age(Aged 45 to 64 years)Black  -0.0094    0.9 -0.0296  0.0107  False\n",
            "               Adult(Aged 25 to 44 years)Black      Middle_age(Aged 45 to 64 years)Indigenous  -0.0109    0.9 -0.0553  0.0335  False\n",
            "               Adult(Aged 25 to 44 years)Black          Middle_age(Aged 45 to 64 years)Latino  -0.0487 0.1116 -0.1008  0.0035  False\n",
            "               Adult(Aged 25 to 44 years)Black  Middle_age(Aged 45 to 64 years)Middle-Eastern  -0.0396 0.0212 -0.0768 -0.0024   True\n",
            "               Adult(Aged 25 to 44 years)Black           Middle_age(Aged 45 to 64 years)White  -0.0066    0.9   -0.02  0.0067  False\n",
            "               Adult(Aged 25 to 44 years)Black          Young_adult(Aged 18 to 24 years)Asian   0.0158 0.8395 -0.0094   0.041  False\n",
            "               Adult(Aged 25 to 44 years)Black          Young_adult(Aged 18 to 24 years)Black   0.0284  0.001  0.0125  0.0443   True\n",
            "               Adult(Aged 25 to 44 years)Black     Young_adult(Aged 18 to 24 years)Indigenous  -0.0032    0.9  -0.058  0.0517  False\n",
            "               Adult(Aged 25 to 44 years)Black         Young_adult(Aged 18 to 24 years)Latino  -0.0165    0.9 -0.0665  0.0336  False\n",
            "               Adult(Aged 25 to 44 years)Black Young_adult(Aged 18 to 24 years)Middle-Eastern  -0.0186    0.9 -0.0528  0.0157  False\n",
            "               Adult(Aged 25 to 44 years)Black          Young_adult(Aged 18 to 24 years)White   0.0076    0.9 -0.0116  0.0267  False\n",
            "               Adult(Aged 25 to 44 years)Black            Youth(Aged 17 years and under)Asian  -0.0128    0.9 -0.0797   0.054  False\n",
            "               Adult(Aged 25 to 44 years)Black            Youth(Aged 17 years and under)Black  -0.0278 0.0252 -0.0541 -0.0014   True\n",
            "               Adult(Aged 25 to 44 years)Black       Youth(Aged 17 years and under)Indigenous  -0.0028    0.9 -0.1937  0.1881  False\n",
            "               Adult(Aged 25 to 44 years)Black           Youth(Aged 17 years and under)Latino  -0.0232    0.9 -0.1354  0.0889  False\n",
            "               Adult(Aged 25 to 44 years)Black   Youth(Aged 17 years and under)Middle-Eastern  -0.0426    0.9 -0.1142   0.029  False\n",
            "               Adult(Aged 25 to 44 years)Black            Youth(Aged 17 years and under)White  -0.0287 0.4382 -0.0654  0.0079  False\n",
            "          Adult(Aged 25 to 44 years)Indigenous               Adult(Aged 25 to 44 years)Latino  -0.0325 0.1028 -0.0671  0.0021  False\n",
            "          Adult(Aged 25 to 44 years)Indigenous       Adult(Aged 25 to 44 years)Middle-Eastern  -0.0382  0.002 -0.0698 -0.0067   True\n",
            "          Adult(Aged 25 to 44 years)Indigenous                Adult(Aged 25 to 44 years)White    0.004    0.9 -0.0202  0.0283  False\n",
            "          Adult(Aged 25 to 44 years)Indigenous                  Elder(Aged 65 and older)Asian  -0.0611 0.2819  -0.134  0.0117  False\n",
            "          Adult(Aged 25 to 44 years)Indigenous                  Elder(Aged 65 and older)Black   0.0281    0.9 -0.0481  0.1043  False\n",
            "          Adult(Aged 25 to 44 years)Indigenous             Elder(Aged 65 and older)Indigenous  -0.0838    0.9  -0.343  0.1754  False\n",
            "          Adult(Aged 25 to 44 years)Indigenous                 Elder(Aged 65 and older)Latino   0.0102    0.9 -0.1604  0.1808  False\n",
            "          Adult(Aged 25 to 44 years)Indigenous         Elder(Aged 65 and older)Middle-Eastern  -0.0549    0.9 -0.2255  0.1157  False\n",
            "          Adult(Aged 25 to 44 years)Indigenous                  Elder(Aged 65 and older)White  -0.0372 0.3162 -0.0823  0.0079  False\n",
            "          Adult(Aged 25 to 44 years)Indigenous           Middle_age(Aged 45 to 64 years)Asian  -0.0232 0.6035 -0.0553   0.009  False\n",
            "          Adult(Aged 25 to 44 years)Indigenous           Middle_age(Aged 45 to 64 years)Black  -0.0101    0.9 -0.0397  0.0196  False\n",
            "          Adult(Aged 25 to 44 years)Indigenous      Middle_age(Aged 45 to 64 years)Indigenous  -0.0116    0.9  -0.061  0.0379  False\n",
            "          Adult(Aged 25 to 44 years)Indigenous          Middle_age(Aged 45 to 64 years)Latino  -0.0493 0.2076 -0.1058  0.0072  False\n",
            "          Adult(Aged 25 to 44 years)Indigenous  Middle_age(Aged 45 to 64 years)Middle-Eastern  -0.0403 0.1113 -0.0834  0.0029  False\n",
            "          Adult(Aged 25 to 44 years)Indigenous           Middle_age(Aged 45 to 64 years)White  -0.0073    0.9 -0.0328  0.0182  False\n",
            "          Adult(Aged 25 to 44 years)Indigenous          Young_adult(Aged 18 to 24 years)Asian   0.0152    0.9 -0.0181  0.0485  False\n",
            "          Adult(Aged 25 to 44 years)Indigenous          Young_adult(Aged 18 to 24 years)Black   0.0277 0.0341  0.0008  0.0547   True\n",
            "          Adult(Aged 25 to 44 years)Indigenous     Young_adult(Aged 18 to 24 years)Indigenous  -0.0038    0.9 -0.0628  0.0552  False\n",
            "          Adult(Aged 25 to 44 years)Indigenous         Young_adult(Aged 18 to 24 years)Latino  -0.0171    0.9 -0.0717  0.0375  False\n",
            "          Adult(Aged 25 to 44 years)Indigenous Young_adult(Aged 18 to 24 years)Middle-Eastern  -0.0192    0.9 -0.0598  0.0214  False\n",
            "          Adult(Aged 25 to 44 years)Indigenous          Young_adult(Aged 18 to 24 years)White   0.0069    0.9 -0.0221  0.0359  False\n",
            "          Adult(Aged 25 to 44 years)Indigenous            Youth(Aged 17 years and under)Asian  -0.0135    0.9 -0.0838  0.0568  False\n",
            "          Adult(Aged 25 to 44 years)Indigenous            Youth(Aged 17 years and under)Black  -0.0284 0.3039 -0.0626  0.0058  False\n",
            "          Adult(Aged 25 to 44 years)Indigenous       Youth(Aged 17 years and under)Indigenous  -0.0035    0.9 -0.1956  0.1886  False\n",
            "          Adult(Aged 25 to 44 years)Indigenous           Youth(Aged 17 years and under)Latino  -0.0239    0.9 -0.1381  0.0903  False\n",
            "          Adult(Aged 25 to 44 years)Indigenous   Youth(Aged 17 years and under)Middle-Eastern  -0.0432    0.9 -0.1181  0.0316  False\n",
            "          Adult(Aged 25 to 44 years)Indigenous            Youth(Aged 17 years and under)White  -0.0294 0.6832  -0.072  0.0132  False\n",
            "              Adult(Aged 25 to 44 years)Latino       Adult(Aged 25 to 44 years)Middle-Eastern  -0.0057    0.9 -0.0389  0.0275  False\n",
            "              Adult(Aged 25 to 44 years)Latino                Adult(Aged 25 to 44 years)White   0.0365  0.001  0.0101  0.0629   True\n",
            "              Adult(Aged 25 to 44 years)Latino                  Elder(Aged 65 and older)Asian  -0.0286    0.9 -0.1022   0.045  False\n",
            "              Adult(Aged 25 to 44 years)Latino                  Elder(Aged 65 and older)Black   0.0606 0.4268 -0.0163  0.1375  False\n",
            "              Adult(Aged 25 to 44 years)Latino             Elder(Aged 65 and older)Indigenous  -0.0513    0.9 -0.3107  0.2082  False\n",
            "              Adult(Aged 25 to 44 years)Latino                 Elder(Aged 65 and older)Latino   0.0427    0.9 -0.1282  0.2137  False\n",
            "              Adult(Aged 25 to 44 years)Latino         Elder(Aged 65 and older)Middle-Eastern  -0.0224    0.9 -0.1933  0.1486  False\n",
            "              Adult(Aged 25 to 44 years)Latino                  Elder(Aged 65 and older)White  -0.0047    0.9 -0.0509  0.0416  False\n",
            "              Adult(Aged 25 to 44 years)Latino           Middle_age(Aged 45 to 64 years)Asian   0.0093    0.9 -0.0244  0.0431  False\n",
            "              Adult(Aged 25 to 44 years)Latino           Middle_age(Aged 45 to 64 years)Black   0.0224 0.6226  -0.009  0.0539  False\n",
            "              Adult(Aged 25 to 44 years)Latino      Middle_age(Aged 45 to 64 years)Indigenous    0.021    0.9 -0.0296  0.0715  False\n",
            "              Adult(Aged 25 to 44 years)Latino          Middle_age(Aged 45 to 64 years)Latino  -0.0168    0.9 -0.0743  0.0406  False\n",
            "              Adult(Aged 25 to 44 years)Latino  Middle_age(Aged 45 to 64 years)Middle-Eastern  -0.0077    0.9 -0.0521  0.0366  False\n",
            "              Adult(Aged 25 to 44 years)Latino           Middle_age(Aged 45 to 64 years)White   0.0252 0.1353 -0.0023  0.0528  False\n",
            "              Adult(Aged 25 to 44 years)Latino          Young_adult(Aged 18 to 24 years)Asian   0.0477  0.001  0.0128  0.0826   True\n",
            "              Adult(Aged 25 to 44 years)Latino          Young_adult(Aged 18 to 24 years)Black   0.0603  0.001  0.0314  0.0892   True\n",
            "              Adult(Aged 25 to 44 years)Latino     Young_adult(Aged 18 to 24 years)Indigenous   0.0287    0.9 -0.0312  0.0887  False\n",
            "              Adult(Aged 25 to 44 years)Latino         Young_adult(Aged 18 to 24 years)Latino   0.0154    0.9 -0.0402   0.071  False\n",
            "              Adult(Aged 25 to 44 years)Latino Young_adult(Aged 18 to 24 years)Middle-Eastern   0.0133    0.9 -0.0286  0.0552  False\n",
            "              Adult(Aged 25 to 44 years)Latino          Young_adult(Aged 18 to 24 years)White   0.0394  0.001  0.0086  0.0702   True\n",
            "              Adult(Aged 25 to 44 years)Latino            Youth(Aged 17 years and under)Asian    0.019    0.9  -0.052  0.0901  False\n",
            "              Adult(Aged 25 to 44 years)Latino            Youth(Aged 17 years and under)Black   0.0041    0.9 -0.0317  0.0399  False\n",
            "              Adult(Aged 25 to 44 years)Latino       Youth(Aged 17 years and under)Indigenous    0.029    0.9 -0.1633  0.2214  False\n",
            "              Adult(Aged 25 to 44 years)Latino           Youth(Aged 17 years and under)Latino   0.0086    0.9 -0.1061  0.1233  False\n",
            "              Adult(Aged 25 to 44 years)Latino   Youth(Aged 17 years and under)Middle-Eastern  -0.0107    0.9 -0.0863  0.0649  False\n",
            "              Adult(Aged 25 to 44 years)Latino            Youth(Aged 17 years and under)White   0.0031    0.9 -0.0408   0.047  False\n",
            "      Adult(Aged 25 to 44 years)Middle-Eastern                Adult(Aged 25 to 44 years)White   0.0423  0.001    0.02  0.0645   True\n",
            "      Adult(Aged 25 to 44 years)Middle-Eastern                  Elder(Aged 65 and older)Asian  -0.0229    0.9 -0.0951  0.0493  False\n",
            "      Adult(Aged 25 to 44 years)Middle-Eastern                  Elder(Aged 65 and older)Black   0.0663 0.1986 -0.0093  0.1419  False\n",
            "      Adult(Aged 25 to 44 years)Middle-Eastern             Elder(Aged 65 and older)Indigenous  -0.0456    0.9 -0.3046  0.2135  False\n",
            "      Adult(Aged 25 to 44 years)Middle-Eastern                 Elder(Aged 65 and older)Latino   0.0485    0.9 -0.1219  0.2188  False\n",
            "      Adult(Aged 25 to 44 years)Middle-Eastern         Elder(Aged 65 and older)Middle-Eastern  -0.0167    0.9  -0.187  0.1537  False\n",
            "      Adult(Aged 25 to 44 years)Middle-Eastern                  Elder(Aged 65 and older)White   0.0011    0.9  -0.043  0.0451  False\n",
            "      Adult(Aged 25 to 44 years)Middle-Eastern           Middle_age(Aged 45 to 64 years)Asian   0.0151    0.9 -0.0156  0.0457  False\n",
            "      Adult(Aged 25 to 44 years)Middle-Eastern           Middle_age(Aged 45 to 64 years)Black   0.0282 0.0471  0.0001  0.0562   True\n",
            "      Adult(Aged 25 to 44 years)Middle-Eastern      Middle_age(Aged 45 to 64 years)Indigenous   0.0267    0.9 -0.0218  0.0752  False\n",
            "      Adult(Aged 25 to 44 years)Middle-Eastern          Middle_age(Aged 45 to 64 years)Latino  -0.0111    0.9 -0.0667  0.0446  False\n",
            "      Adult(Aged 25 to 44 years)Middle-Eastern  Middle_age(Aged 45 to 64 years)Middle-Eastern   -0.002    0.9  -0.044    0.04  False\n",
            "      Adult(Aged 25 to 44 years)Middle-Eastern           Middle_age(Aged 45 to 64 years)White    0.031  0.001  0.0073  0.0546   True\n",
            "      Adult(Aged 25 to 44 years)Middle-Eastern          Young_adult(Aged 18 to 24 years)Asian   0.0534  0.001  0.0216  0.0853   True\n",
            "      Adult(Aged 25 to 44 years)Middle-Eastern          Young_adult(Aged 18 to 24 years)Black    0.066  0.001  0.0408  0.0911   True\n",
            "      Adult(Aged 25 to 44 years)Middle-Eastern     Young_adult(Aged 18 to 24 years)Indigenous   0.0344    0.9 -0.0238  0.0927  False\n",
            "      Adult(Aged 25 to 44 years)Middle-Eastern         Young_adult(Aged 18 to 24 years)Latino   0.0211    0.9 -0.0326  0.0749  False\n",
            "      Adult(Aged 25 to 44 years)Middle-Eastern Young_adult(Aged 18 to 24 years)Middle-Eastern    0.019    0.9 -0.0204  0.0585  False\n",
            "      Adult(Aged 25 to 44 years)Middle-Eastern          Young_adult(Aged 18 to 24 years)White   0.0452  0.001  0.0178  0.0725   True\n",
            "      Adult(Aged 25 to 44 years)Middle-Eastern            Youth(Aged 17 years and under)Asian   0.0247    0.9 -0.0449  0.0943  False\n",
            "      Adult(Aged 25 to 44 years)Middle-Eastern            Youth(Aged 17 years and under)Black   0.0098    0.9  -0.023  0.0426  False\n",
            "      Adult(Aged 25 to 44 years)Middle-Eastern       Youth(Aged 17 years and under)Indigenous   0.0348    0.9 -0.1571  0.2266  False\n",
            "      Adult(Aged 25 to 44 years)Middle-Eastern           Youth(Aged 17 years and under)Latino   0.0143    0.9 -0.0994  0.1281  False\n",
            "      Adult(Aged 25 to 44 years)Middle-Eastern   Youth(Aged 17 years and under)Middle-Eastern   -0.005    0.9 -0.0792  0.0692  False\n",
            "      Adult(Aged 25 to 44 years)Middle-Eastern            Youth(Aged 17 years and under)White   0.0089    0.9 -0.0327  0.0504  False\n",
            "               Adult(Aged 25 to 44 years)White                  Elder(Aged 65 and older)Asian  -0.0651 0.1036 -0.1345  0.0042  False\n",
            "               Adult(Aged 25 to 44 years)White                  Elder(Aged 65 and older)Black   0.0241    0.9 -0.0488  0.0969  False\n",
            "               Adult(Aged 25 to 44 years)White             Elder(Aged 65 and older)Indigenous  -0.0878    0.9 -0.3461  0.1705  False\n",
            "               Adult(Aged 25 to 44 years)White                 Elder(Aged 65 and older)Latino   0.0062    0.9  -0.163  0.1753  False\n",
            "               Adult(Aged 25 to 44 years)White         Elder(Aged 65 and older)Middle-Eastern  -0.0589    0.9 -0.2281  0.1102  False\n",
            "               Adult(Aged 25 to 44 years)White                  Elder(Aged 65 and older)White  -0.0412 0.0247 -0.0803 -0.0021   True\n",
            "               Adult(Aged 25 to 44 years)White           Middle_age(Aged 45 to 64 years)Asian  -0.0272 0.0039 -0.0503 -0.0041   True\n",
            "               Adult(Aged 25 to 44 years)White           Middle_age(Aged 45 to 64 years)Black  -0.0141  0.598 -0.0336  0.0054  False\n",
            "               Adult(Aged 25 to 44 years)White      Middle_age(Aged 45 to 64 years)Indigenous  -0.0156    0.9 -0.0597  0.0286  False\n",
            "               Adult(Aged 25 to 44 years)White          Middle_age(Aged 45 to 64 years)Latino  -0.0533  0.035 -0.1052 -0.0014   True\n",
            "               Adult(Aged 25 to 44 years)White  Middle_age(Aged 45 to 64 years)Middle-Eastern  -0.0443 0.0026 -0.0811 -0.0074   True\n",
            "               Adult(Aged 25 to 44 years)White           Middle_age(Aged 45 to 64 years)White  -0.0113 0.1354 -0.0237  0.0011  False\n",
            "               Adult(Aged 25 to 44 years)White          Young_adult(Aged 18 to 24 years)Asian   0.0112    0.9 -0.0135  0.0359  False\n",
            "               Adult(Aged 25 to 44 years)White          Young_adult(Aged 18 to 24 years)Black   0.0237  0.001  0.0086  0.0388   True\n",
            "               Adult(Aged 25 to 44 years)White     Young_adult(Aged 18 to 24 years)Indigenous  -0.0078    0.9 -0.0625  0.0468  False\n",
            "               Adult(Aged 25 to 44 years)White         Young_adult(Aged 18 to 24 years)Latino  -0.0211    0.9  -0.071  0.0287  False\n",
            "               Adult(Aged 25 to 44 years)White Young_adult(Aged 18 to 24 years)Middle-Eastern  -0.0232 0.6946 -0.0571  0.0107  False\n",
            "               Adult(Aged 25 to 44 years)White          Young_adult(Aged 18 to 24 years)White   0.0029    0.9 -0.0156  0.0214  False\n",
            "               Adult(Aged 25 to 44 years)White            Youth(Aged 17 years and under)Asian  -0.0175    0.9 -0.0841  0.0491  False\n",
            "               Adult(Aged 25 to 44 years)White            Youth(Aged 17 years and under)Black  -0.0324 0.0011 -0.0583 -0.0065   True\n",
            "               Adult(Aged 25 to 44 years)White       Youth(Aged 17 years and under)Indigenous  -0.0075    0.9 -0.1983  0.1833  False\n",
            "               Adult(Aged 25 to 44 years)White           Youth(Aged 17 years and under)Latino  -0.0279    0.9 -0.1399  0.0841  False\n",
            "               Adult(Aged 25 to 44 years)White   Youth(Aged 17 years and under)Middle-Eastern  -0.0473 0.7549 -0.1187  0.0242  False\n",
            "               Adult(Aged 25 to 44 years)White            Youth(Aged 17 years and under)White  -0.0334  0.128 -0.0697  0.0029  False\n",
            "                 Elder(Aged 65 and older)Asian                  Elder(Aged 65 and older)Black   0.0892 0.1746 -0.0109  0.1893  False\n",
            "                 Elder(Aged 65 and older)Asian             Elder(Aged 65 and older)Indigenous  -0.0227    0.9 -0.2899  0.2446  False\n",
            "                 Elder(Aged 65 and older)Asian                 Elder(Aged 65 and older)Latino   0.0713    0.9 -0.1112  0.2539  False\n",
            "                 Elder(Aged 65 and older)Asian         Elder(Aged 65 and older)Middle-Eastern   0.0062    0.9 -0.1763  0.1888  False\n",
            "                 Elder(Aged 65 and older)Asian                  Elder(Aged 65 and older)White   0.0239    0.9 -0.0551   0.103  False\n",
            "                 Elder(Aged 65 and older)Asian           Middle_age(Aged 45 to 64 years)Asian    0.038    0.9 -0.0345  0.1104  False\n",
            "                 Elder(Aged 65 and older)Asian           Middle_age(Aged 45 to 64 years)Black    0.051 0.6186 -0.0204  0.1224  False\n",
            "                 Elder(Aged 65 and older)Asian      Middle_age(Aged 45 to 64 years)Indigenous   0.0496 0.8924 -0.0321  0.1312  False\n",
            "                 Elder(Aged 65 and older)Asian          Middle_age(Aged 45 to 64 years)Latino   0.0118    0.9 -0.0743  0.0979  False\n",
            "                 Elder(Aged 65 and older)Asian  Middle_age(Aged 45 to 64 years)Middle-Eastern   0.0209    0.9 -0.0571  0.0988  False\n",
            "                 Elder(Aged 65 and older)Asian           Middle_age(Aged 45 to 64 years)White   0.0538 0.4735 -0.0159  0.1236  False\n",
            "                 Elder(Aged 65 and older)Asian          Young_adult(Aged 18 to 24 years)Asian   0.0763 0.0274  0.0033  0.1493   True\n",
            "                 Elder(Aged 65 and older)Asian          Young_adult(Aged 18 to 24 years)Black   0.0889  0.001  0.0186  0.1592   True\n",
            "                 Elder(Aged 65 and older)Asian     Young_adult(Aged 18 to 24 years)Indigenous   0.0573 0.7754 -0.0304  0.1451  False\n",
            "                 Elder(Aged 65 and older)Asian         Young_adult(Aged 18 to 24 years)Latino    0.044    0.9 -0.0408  0.1289  False\n",
            "                 Elder(Aged 65 and older)Asian Young_adult(Aged 18 to 24 years)Middle-Eastern   0.0419    0.9 -0.0347  0.1185  False\n",
            "                 Elder(Aged 65 and older)Asian          Young_adult(Aged 18 to 24 years)White    0.068 0.0857 -0.0031  0.1392  False\n",
            "                 Elder(Aged 65 and older)Asian            Youth(Aged 17 years and under)Asian   0.0476    0.9 -0.0481  0.1433  False\n",
            "                 Elder(Aged 65 and older)Asian            Youth(Aged 17 years and under)Black   0.0327    0.9 -0.0407  0.1061  False\n",
            "                 Elder(Aged 65 and older)Asian       Youth(Aged 17 years and under)Indigenous   0.0577    0.9 -0.1451  0.2604  False\n",
            "                 Elder(Aged 65 and older)Asian           Youth(Aged 17 years and under)Latino   0.0372    0.9 -0.0941  0.1686  False\n",
            "                 Elder(Aged 65 and older)Asian   Youth(Aged 17 years and under)Middle-Eastern   0.0179    0.9 -0.0812   0.117  False\n",
            "                 Elder(Aged 65 and older)Asian            Youth(Aged 17 years and under)White   0.0317    0.9 -0.0459  0.1094  False\n",
            "                 Elder(Aged 65 and older)Black             Elder(Aged 65 and older)Indigenous  -0.1119    0.9 -0.3801  0.1563  False\n",
            "                 Elder(Aged 65 and older)Black                 Elder(Aged 65 and older)Latino  -0.0179    0.9 -0.2018  0.1661  False\n",
            "                 Elder(Aged 65 and older)Black         Elder(Aged 65 and older)Middle-Eastern   -0.083    0.9 -0.2669   0.101  False\n",
            "                 Elder(Aged 65 and older)Black                  Elder(Aged 65 and older)White  -0.0653 0.4067 -0.1474  0.0169  False\n",
            "                 Elder(Aged 65 and older)Black           Middle_age(Aged 45 to 64 years)Asian  -0.0512 0.7185 -0.1271  0.0246  False\n",
            "                 Elder(Aged 65 and older)Black           Middle_age(Aged 45 to 64 years)Black  -0.0382    0.9  -0.113  0.0367  False\n",
            "                 Elder(Aged 65 and older)Black      Middle_age(Aged 45 to 64 years)Indigenous  -0.0396    0.9 -0.1243   0.045  False\n",
            "                 Elder(Aged 65 and older)Black          Middle_age(Aged 45 to 64 years)Latino  -0.0774 0.2134 -0.1663  0.0116  False\n",
            "                 Elder(Aged 65 and older)Black  Middle_age(Aged 45 to 64 years)Middle-Eastern  -0.0683 0.2745 -0.1494  0.0128  False\n",
            "                 Elder(Aged 65 and older)Black           Middle_age(Aged 45 to 64 years)White  -0.0354    0.9 -0.1086  0.0379  False\n",
            "                 Elder(Aged 65 and older)Black          Young_adult(Aged 18 to 24 years)Asian  -0.0129    0.9 -0.0892  0.0634  False\n",
            "                 Elder(Aged 65 and older)Black          Young_adult(Aged 18 to 24 years)Black  -0.0003    0.9 -0.0741  0.0735  False\n",
            "                 Elder(Aged 65 and older)Black     Young_adult(Aged 18 to 24 years)Indigenous  -0.0319    0.9 -0.1225  0.0587  False\n",
            "                 Elder(Aged 65 and older)Black         Young_adult(Aged 18 to 24 years)Latino  -0.0452    0.9 -0.1329  0.0426  False\n",
            "                 Elder(Aged 65 and older)Black Young_adult(Aged 18 to 24 years)Middle-Eastern  -0.0473    0.9 -0.1271  0.0325  False\n",
            "                 Elder(Aged 65 and older)Black          Young_adult(Aged 18 to 24 years)White  -0.0212    0.9 -0.0957  0.0534  False\n",
            "                 Elder(Aged 65 and older)Black            Youth(Aged 17 years and under)Asian  -0.0416    0.9 -0.1398  0.0567  False\n",
            "                 Elder(Aged 65 and older)Black            Youth(Aged 17 years and under)Black  -0.0565  0.565 -0.1332  0.0203  False\n",
            "                 Elder(Aged 65 and older)Black       Youth(Aged 17 years and under)Indigenous  -0.0315    0.9 -0.2356  0.1725  False\n",
            "                 Elder(Aged 65 and older)Black           Youth(Aged 17 years and under)Latino   -0.052    0.9 -0.1852  0.0813  False\n",
            "                 Elder(Aged 65 and older)Black   Youth(Aged 17 years and under)Middle-Eastern  -0.0713 0.6517 -0.1729  0.0303  False\n",
            "                 Elder(Aged 65 and older)Black            Youth(Aged 17 years and under)White  -0.0575 0.6291 -0.1383  0.0234  False\n",
            "            Elder(Aged 65 and older)Indigenous                 Elder(Aged 65 and older)Latino    0.094    0.9 -0.2146  0.4026  False\n",
            "            Elder(Aged 65 and older)Indigenous         Elder(Aged 65 and older)Middle-Eastern   0.0289    0.9 -0.2797  0.3375  False\n",
            "            Elder(Aged 65 and older)Indigenous                  Elder(Aged 65 and older)White   0.0466    0.9 -0.2144  0.3077  False\n",
            "            Elder(Aged 65 and older)Indigenous           Middle_age(Aged 45 to 64 years)Asian   0.0606    0.9 -0.1985  0.3198  False\n",
            "            Elder(Aged 65 and older)Indigenous           Middle_age(Aged 45 to 64 years)Black   0.0737    0.9 -0.1851  0.3325  False\n",
            "            Elder(Aged 65 and older)Indigenous      Middle_age(Aged 45 to 64 years)Indigenous   0.0722    0.9 -0.1896  0.3341  False\n",
            "            Elder(Aged 65 and older)Indigenous          Middle_age(Aged 45 to 64 years)Latino   0.0345    0.9 -0.2288  0.2977  False\n",
            "            Elder(Aged 65 and older)Indigenous  Middle_age(Aged 45 to 64 years)Middle-Eastern   0.0436    0.9 -0.2172  0.3043  False\n",
            "            Elder(Aged 65 and older)Indigenous           Middle_age(Aged 45 to 64 years)White   0.0765    0.9 -0.1819  0.3349  False\n",
            "            Elder(Aged 65 and older)Indigenous          Young_adult(Aged 18 to 24 years)Asian    0.099    0.9 -0.1603  0.3583  False\n",
            "            Elder(Aged 65 and older)Indigenous          Young_adult(Aged 18 to 24 years)Black   0.1115    0.9  -0.147  0.3701  False\n",
            "            Elder(Aged 65 and older)Indigenous     Young_adult(Aged 18 to 24 years)Indigenous     0.08    0.9 -0.1838  0.3438  False\n",
            "            Elder(Aged 65 and older)Indigenous         Young_adult(Aged 18 to 24 years)Latino   0.0667    0.9 -0.1962  0.3295  False\n",
            "            Elder(Aged 65 and older)Indigenous Young_adult(Aged 18 to 24 years)Middle-Eastern   0.0646    0.9 -0.1957  0.3249  False\n",
            "            Elder(Aged 65 and older)Indigenous          Young_adult(Aged 18 to 24 years)White   0.0907    0.9  -0.168  0.3495  False\n",
            "            Elder(Aged 65 and older)Indigenous            Youth(Aged 17 years and under)Asian   0.0703    0.9 -0.1963  0.3369  False\n",
            "            Elder(Aged 65 and older)Indigenous            Youth(Aged 17 years and under)Black   0.0554    0.9  -0.204  0.3148  False\n",
            "            Elder(Aged 65 and older)Indigenous       Youth(Aged 17 years and under)Indigenous   0.0803    0.9 -0.2406  0.4013  False\n",
            "            Elder(Aged 65 and older)Indigenous           Youth(Aged 17 years and under)Latino   0.0599    0.9 -0.2214  0.3412  False\n",
            "            Elder(Aged 65 and older)Indigenous   Youth(Aged 17 years and under)Middle-Eastern   0.0406    0.9 -0.2273  0.3084  False\n",
            "            Elder(Aged 65 and older)Indigenous            Youth(Aged 17 years and under)White   0.0544    0.9 -0.2062  0.3151  False\n",
            "                Elder(Aged 65 and older)Latino         Elder(Aged 65 and older)Middle-Eastern  -0.0651    0.9 -0.3041  0.1739  False\n",
            "                Elder(Aged 65 and older)Latino                  Elder(Aged 65 and older)White  -0.0474    0.9 -0.2208   0.126  False\n",
            "                Elder(Aged 65 and older)Latino           Middle_age(Aged 45 to 64 years)Asian  -0.0334    0.9 -0.2038  0.1371  False\n",
            "                Elder(Aged 65 and older)Latino           Middle_age(Aged 45 to 64 years)Black  -0.0203    0.9 -0.1903  0.1497  False\n",
            "                Elder(Aged 65 and older)Latino      Middle_age(Aged 45 to 64 years)Indigenous  -0.0218    0.9 -0.1963  0.1528  False\n",
            "                Elder(Aged 65 and older)Latino          Middle_age(Aged 45 to 64 years)Latino  -0.0595    0.9 -0.2362  0.1172  False\n",
            "                Elder(Aged 65 and older)Latino  Middle_age(Aged 45 to 64 years)Middle-Eastern  -0.0505    0.9 -0.2233  0.1224  False\n",
            "                Elder(Aged 65 and older)Latino           Middle_age(Aged 45 to 64 years)White  -0.0175    0.9 -0.1868  0.1518  False\n",
            "                Elder(Aged 65 and older)Latino          Young_adult(Aged 18 to 24 years)Asian    0.005    0.9 -0.1657  0.1757  False\n",
            "                Elder(Aged 65 and older)Latino          Young_adult(Aged 18 to 24 years)Black   0.0175    0.9  -0.152  0.1871  False\n",
            "                Elder(Aged 65 and older)Latino     Young_adult(Aged 18 to 24 years)Indigenous   -0.014    0.9 -0.1915  0.1635  False\n",
            "                Elder(Aged 65 and older)Latino         Young_adult(Aged 18 to 24 years)Latino  -0.0273    0.9 -0.2034  0.1488  False\n",
            "                Elder(Aged 65 and older)Latino Young_adult(Aged 18 to 24 years)Middle-Eastern  -0.0294    0.9 -0.2017  0.1428  False\n",
            "                Elder(Aged 65 and older)Latino          Young_adult(Aged 18 to 24 years)White  -0.0033    0.9 -0.1732  0.1666  False\n",
            "                Elder(Aged 65 and older)Latino            Youth(Aged 17 years and under)Asian  -0.0237    0.9 -0.2053  0.1578  False\n",
            "                Elder(Aged 65 and older)Latino            Youth(Aged 17 years and under)Black  -0.0386    0.9 -0.2095  0.1323  False\n",
            "                Elder(Aged 65 and older)Latino       Youth(Aged 17 years and under)Indigenous  -0.0137    0.9 -0.2685  0.2411  False\n",
            "                Elder(Aged 65 and older)Latino           Youth(Aged 17 years and under)Latino  -0.0341    0.9 -0.2368  0.1685  False\n",
            "                Elder(Aged 65 and older)Latino   Youth(Aged 17 years and under)Middle-Eastern  -0.0535    0.9 -0.2368  0.1299  False\n",
            "                Elder(Aged 65 and older)Latino            Youth(Aged 17 years and under)White  -0.0396    0.9 -0.2123  0.1332  False\n",
            "        Elder(Aged 65 and older)Middle-Eastern                  Elder(Aged 65 and older)White   0.0177    0.9 -0.1557  0.1911  False\n",
            "        Elder(Aged 65 and older)Middle-Eastern           Middle_age(Aged 45 to 64 years)Asian   0.0317    0.9 -0.1387  0.2022  False\n",
            "        Elder(Aged 65 and older)Middle-Eastern           Middle_age(Aged 45 to 64 years)Black   0.0448    0.9 -0.1252  0.2148  False\n",
            "        Elder(Aged 65 and older)Middle-Eastern      Middle_age(Aged 45 to 64 years)Indigenous   0.0433    0.9 -0.1312  0.2179  False\n",
            "        Elder(Aged 65 and older)Middle-Eastern          Middle_age(Aged 45 to 64 years)Latino   0.0056    0.9 -0.1711  0.1823  False\n",
            "        Elder(Aged 65 and older)Middle-Eastern  Middle_age(Aged 45 to 64 years)Middle-Eastern   0.0146    0.9 -0.1582  0.1875  False\n",
            "        Elder(Aged 65 and older)Middle-Eastern           Middle_age(Aged 45 to 64 years)White   0.0476    0.9 -0.1217  0.2169  False\n",
            "        Elder(Aged 65 and older)Middle-Eastern          Young_adult(Aged 18 to 24 years)Asian   0.0701    0.9 -0.1006  0.2408  False\n",
            "        Elder(Aged 65 and older)Middle-Eastern          Young_adult(Aged 18 to 24 years)Black   0.0826    0.9 -0.0869  0.2522  False\n",
            "        Elder(Aged 65 and older)Middle-Eastern     Young_adult(Aged 18 to 24 years)Indigenous   0.0511    0.9 -0.1264  0.2286  False\n",
            "        Elder(Aged 65 and older)Middle-Eastern         Young_adult(Aged 18 to 24 years)Latino   0.0378    0.9 -0.1383  0.2139  False\n",
            "        Elder(Aged 65 and older)Middle-Eastern Young_adult(Aged 18 to 24 years)Middle-Eastern   0.0357    0.9 -0.1366  0.2079  False\n",
            "        Elder(Aged 65 and older)Middle-Eastern          Young_adult(Aged 18 to 24 years)White   0.0618    0.9 -0.1081  0.2317  False\n",
            "        Elder(Aged 65 and older)Middle-Eastern            Youth(Aged 17 years and under)Asian   0.0414    0.9 -0.1402  0.2229  False\n",
            "        Elder(Aged 65 and older)Middle-Eastern            Youth(Aged 17 years and under)Black   0.0265    0.9 -0.1444  0.1974  False\n",
            "        Elder(Aged 65 and older)Middle-Eastern       Youth(Aged 17 years and under)Indigenous   0.0514    0.9 -0.2034  0.3062  False\n",
            "        Elder(Aged 65 and older)Middle-Eastern           Youth(Aged 17 years and under)Latino    0.031    0.9 -0.1717  0.2336  False\n",
            "        Elder(Aged 65 and older)Middle-Eastern   Youth(Aged 17 years and under)Middle-Eastern   0.0116    0.9 -0.1717   0.195  False\n",
            "        Elder(Aged 65 and older)Middle-Eastern            Youth(Aged 17 years and under)White   0.0255    0.9 -0.1472  0.1983  False\n",
            "                 Elder(Aged 65 and older)White           Middle_age(Aged 45 to 64 years)Asian    0.014    0.9 -0.0304  0.0585  False\n",
            "                 Elder(Aged 65 and older)White           Middle_age(Aged 45 to 64 years)Black   0.0271  0.822 -0.0156  0.0698  False\n",
            "                 Elder(Aged 65 and older)White      Middle_age(Aged 45 to 64 years)Indigenous   0.0256    0.9 -0.0326  0.0839  False\n",
            "                 Elder(Aged 65 and older)White          Middle_age(Aged 45 to 64 years)Latino  -0.0121    0.9 -0.0764  0.0522  False\n",
            "                 Elder(Aged 65 and older)White  Middle_age(Aged 45 to 64 years)Middle-Eastern  -0.0031    0.9  -0.056  0.0499  False\n",
            "                 Elder(Aged 65 and older)White           Middle_age(Aged 45 to 64 years)White   0.0299 0.5325   -0.01  0.0698  False\n",
            "                 Elder(Aged 65 and older)White          Young_adult(Aged 18 to 24 years)Asian   0.0524 0.0053  0.0071  0.0977   True\n",
            "                 Elder(Aged 65 and older)White          Young_adult(Aged 18 to 24 years)Black   0.0649  0.001  0.0241  0.1058   True\n",
            "                 Elder(Aged 65 and older)White     Young_adult(Aged 18 to 24 years)Indigenous   0.0334    0.9 -0.0332  0.0999  False\n",
            "                 Elder(Aged 65 and older)White         Young_adult(Aged 18 to 24 years)Latino   0.0201    0.9 -0.0426  0.0827  False\n",
            "                 Elder(Aged 65 and older)White Young_adult(Aged 18 to 24 years)Middle-Eastern    0.018    0.9 -0.0329  0.0689  False\n",
            "                 Elder(Aged 65 and older)White          Young_adult(Aged 18 to 24 years)White   0.0441 0.0278  0.0019  0.0863   True\n",
            "                 Elder(Aged 65 and older)White            Youth(Aged 17 years and under)Asian   0.0237    0.9  -0.053  0.1004  False\n",
            "                 Elder(Aged 65 and older)White            Youth(Aged 17 years and under)Black   0.0088    0.9 -0.0372  0.0548  False\n",
            "                 Elder(Aged 65 and older)White       Youth(Aged 17 years and under)Indigenous   0.0337    0.9 -0.1608  0.2283  False\n",
            "                 Elder(Aged 65 and older)White           Youth(Aged 17 years and under)Latino   0.0133    0.9  -0.105  0.1316  False\n",
            "                 Elder(Aged 65 and older)White   Youth(Aged 17 years and under)Middle-Eastern  -0.0061    0.9  -0.087  0.0749  False\n",
            "                 Elder(Aged 65 and older)White            Youth(Aged 17 years and under)White   0.0078    0.9 -0.0447  0.0603  False\n",
            "          Middle_age(Aged 45 to 64 years)Asian           Middle_age(Aged 45 to 64 years)Black   0.0131    0.9 -0.0157  0.0418  False\n",
            "          Middle_age(Aged 45 to 64 years)Asian      Middle_age(Aged 45 to 64 years)Indigenous   0.0116    0.9 -0.0373  0.0605  False\n",
            "          Middle_age(Aged 45 to 64 years)Asian          Middle_age(Aged 45 to 64 years)Latino  -0.0262    0.9 -0.0822  0.0299  False\n",
            "          Middle_age(Aged 45 to 64 years)Asian  Middle_age(Aged 45 to 64 years)Middle-Eastern  -0.0171    0.9 -0.0596  0.0254  False\n",
            "          Middle_age(Aged 45 to 64 years)Asian           Middle_age(Aged 45 to 64 years)White   0.0159 0.7848 -0.0086  0.0403  False\n",
            "          Middle_age(Aged 45 to 64 years)Asian          Young_adult(Aged 18 to 24 years)Asian   0.0383 0.0036  0.0059  0.0708   True\n",
            "          Middle_age(Aged 45 to 64 years)Asian          Young_adult(Aged 18 to 24 years)Black   0.0509  0.001   0.025  0.0768   True\n",
            "          Middle_age(Aged 45 to 64 years)Asian     Young_adult(Aged 18 to 24 years)Indigenous   0.0194    0.9 -0.0392  0.0779  False\n",
            "          Middle_age(Aged 45 to 64 years)Asian         Young_adult(Aged 18 to 24 years)Latino    0.006    0.9 -0.0481  0.0602  False\n",
            "          Middle_age(Aged 45 to 64 years)Asian Young_adult(Aged 18 to 24 years)Middle-Eastern   0.0039    0.9  -0.036  0.0439  False\n",
            "          Middle_age(Aged 45 to 64 years)Asian          Young_adult(Aged 18 to 24 years)White   0.0301 0.0187   0.002  0.0581   True\n",
            "          Middle_age(Aged 45 to 64 years)Asian            Youth(Aged 17 years and under)Asian   0.0097    0.9 -0.0602  0.0796  False\n",
            "          Middle_age(Aged 45 to 64 years)Asian            Youth(Aged 17 years and under)Black  -0.0052    0.9 -0.0387  0.0282  False\n",
            "          Middle_age(Aged 45 to 64 years)Asian       Youth(Aged 17 years and under)Indigenous   0.0197    0.9 -0.1723  0.2117  False\n",
            "          Middle_age(Aged 45 to 64 years)Asian           Youth(Aged 17 years and under)Latino  -0.0007    0.9 -0.1147  0.1132  False\n",
            "          Middle_age(Aged 45 to 64 years)Asian   Youth(Aged 17 years and under)Middle-Eastern  -0.0201    0.9 -0.0946  0.0544  False\n",
            "          Middle_age(Aged 45 to 64 years)Asian            Youth(Aged 17 years and under)White  -0.0062    0.9 -0.0482  0.0358  False\n",
            "          Middle_age(Aged 45 to 64 years)Black      Middle_age(Aged 45 to 64 years)Indigenous  -0.0015    0.9 -0.0488  0.0459  False\n",
            "          Middle_age(Aged 45 to 64 years)Black          Middle_age(Aged 45 to 64 years)Latino  -0.0392 0.6105 -0.0939  0.0154  False\n",
            "          Middle_age(Aged 45 to 64 years)Black  Middle_age(Aged 45 to 64 years)Middle-Eastern  -0.0302 0.5492 -0.0708  0.0105  False\n",
            "          Middle_age(Aged 45 to 64 years)Black           Middle_age(Aged 45 to 64 years)White   0.0028    0.9 -0.0183  0.0239  False\n",
            "          Middle_age(Aged 45 to 64 years)Black          Young_adult(Aged 18 to 24 years)Asian   0.0253 0.2763 -0.0048  0.0553  False\n",
            "          Middle_age(Aged 45 to 64 years)Black          Young_adult(Aged 18 to 24 years)Black   0.0378  0.001  0.0151  0.0606   True\n",
            "          Middle_age(Aged 45 to 64 years)Black     Young_adult(Aged 18 to 24 years)Indigenous   0.0063    0.9  -0.051  0.0635  False\n",
            "          Middle_age(Aged 45 to 64 years)Black         Young_adult(Aged 18 to 24 years)Latino   -0.007    0.9 -0.0597  0.0456  False\n",
            "          Middle_age(Aged 45 to 64 years)Black Young_adult(Aged 18 to 24 years)Middle-Eastern  -0.0091    0.9 -0.0471  0.0288  False\n",
            "          Middle_age(Aged 45 to 64 years)Black          Young_adult(Aged 18 to 24 years)White    0.017 0.7166 -0.0081  0.0421  False\n",
            "          Middle_age(Aged 45 to 64 years)Black            Youth(Aged 17 years and under)Asian  -0.0034    0.9 -0.0722  0.0654  False\n",
            "          Middle_age(Aged 45 to 64 years)Black            Youth(Aged 17 years and under)Black  -0.0183    0.9 -0.0493  0.0127  False\n",
            "          Middle_age(Aged 45 to 64 years)Black       Youth(Aged 17 years and under)Indigenous   0.0066    0.9 -0.1849  0.1982  False\n",
            "          Middle_age(Aged 45 to 64 years)Black           Youth(Aged 17 years and under)Latino  -0.0138    0.9 -0.1271  0.0995  False\n",
            "          Middle_age(Aged 45 to 64 years)Black   Youth(Aged 17 years and under)Middle-Eastern  -0.0332    0.9 -0.1066  0.0403  False\n",
            "          Middle_age(Aged 45 to 64 years)Black            Youth(Aged 17 years and under)White  -0.0193    0.9 -0.0594  0.0208  False\n",
            "     Middle_age(Aged 45 to 64 years)Indigenous          Middle_age(Aged 45 to 64 years)Latino  -0.0378    0.9 -0.1052  0.0297  False\n",
            "     Middle_age(Aged 45 to 64 years)Indigenous  Middle_age(Aged 45 to 64 years)Middle-Eastern  -0.0287    0.9 -0.0854  0.0281  False\n",
            "     Middle_age(Aged 45 to 64 years)Indigenous           Middle_age(Aged 45 to 64 years)White   0.0043    0.9 -0.0406  0.0491  False\n",
            "     Middle_age(Aged 45 to 64 years)Indigenous          Young_adult(Aged 18 to 24 years)Asian   0.0267    0.9  -0.023  0.0764  False\n",
            "     Middle_age(Aged 45 to 64 years)Indigenous          Young_adult(Aged 18 to 24 years)Black   0.0393 0.2337 -0.0064   0.085  False\n",
            "     Middle_age(Aged 45 to 64 years)Indigenous     Young_adult(Aged 18 to 24 years)Indigenous   0.0078    0.9 -0.0619  0.0774  False\n",
            "     Middle_age(Aged 45 to 64 years)Indigenous         Young_adult(Aged 18 to 24 years)Latino  -0.0056    0.9 -0.0715  0.0603  False\n",
            "     Middle_age(Aged 45 to 64 years)Indigenous Young_adult(Aged 18 to 24 years)Middle-Eastern  -0.0077    0.9 -0.0625  0.0472  False\n",
            "     Middle_age(Aged 45 to 64 years)Indigenous          Young_adult(Aged 18 to 24 years)White   0.0185    0.9 -0.0284  0.0654  False\n",
            "     Middle_age(Aged 45 to 64 years)Indigenous            Youth(Aged 17 years and under)Asian  -0.0019    0.9 -0.0813  0.0774  False\n",
            "     Middle_age(Aged 45 to 64 years)Indigenous            Youth(Aged 17 years and under)Black  -0.0168    0.9 -0.0672  0.0335  False\n",
            "     Middle_age(Aged 45 to 64 years)Indigenous       Youth(Aged 17 years and under)Indigenous   0.0081    0.9 -0.1875  0.2037  False\n",
            "     Middle_age(Aged 45 to 64 years)Indigenous           Youth(Aged 17 years and under)Latino  -0.0123    0.9 -0.1324  0.1077  False\n",
            "     Middle_age(Aged 45 to 64 years)Indigenous   Youth(Aged 17 years and under)Middle-Eastern  -0.0317    0.9 -0.1152  0.0518  False\n",
            "     Middle_age(Aged 45 to 64 years)Indigenous            Youth(Aged 17 years and under)White  -0.0178    0.9 -0.0742  0.0385  False\n",
            "         Middle_age(Aged 45 to 64 years)Latino  Middle_age(Aged 45 to 64 years)Middle-Eastern   0.0091    0.9 -0.0539   0.072  False\n",
            "         Middle_age(Aged 45 to 64 years)Latino           Middle_age(Aged 45 to 64 years)White    0.042 0.3882 -0.0105  0.0945  False\n",
            "         Middle_age(Aged 45 to 64 years)Latino          Young_adult(Aged 18 to 24 years)Asian   0.0645 0.0071  0.0078  0.1212   True\n",
            "         Middle_age(Aged 45 to 64 years)Latino          Young_adult(Aged 18 to 24 years)Black   0.0771  0.001  0.0239  0.1303   True\n",
            "         Middle_age(Aged 45 to 64 years)Latino     Young_adult(Aged 18 to 24 years)Indigenous   0.0455 0.8882 -0.0292  0.1203  False\n",
            "         Middle_age(Aged 45 to 64 years)Latino         Young_adult(Aged 18 to 24 years)Latino   0.0322    0.9 -0.0391  0.1035  False\n",
            "         Middle_age(Aged 45 to 64 years)Latino Young_adult(Aged 18 to 24 years)Middle-Eastern   0.0301    0.9 -0.0312  0.0914  False\n",
            "         Middle_age(Aged 45 to 64 years)Latino          Young_adult(Aged 18 to 24 years)White   0.0562 0.0312   0.002  0.1105   True\n",
            "         Middle_age(Aged 45 to 64 years)Latino            Youth(Aged 17 years and under)Asian   0.0358    0.9 -0.0481  0.1197  False\n",
            "         Middle_age(Aged 45 to 64 years)Latino            Youth(Aged 17 years and under)Black   0.0209    0.9 -0.0363  0.0781  False\n",
            "         Middle_age(Aged 45 to 64 years)Latino       Youth(Aged 17 years and under)Indigenous   0.0459    0.9 -0.1517  0.2434  False\n",
            "         Middle_age(Aged 45 to 64 years)Latino           Youth(Aged 17 years and under)Latino   0.0254    0.9 -0.0977  0.1485  False\n",
            "         Middle_age(Aged 45 to 64 years)Latino   Youth(Aged 17 years and under)Middle-Eastern   0.0061    0.9 -0.0817  0.0939  False\n",
            "         Middle_age(Aged 45 to 64 years)Latino            Youth(Aged 17 years and under)White   0.0199    0.9 -0.0427  0.0826  False\n",
            " Middle_age(Aged 45 to 64 years)Middle-Eastern           Middle_age(Aged 45 to 64 years)White    0.033 0.2063 -0.0048  0.0707  False\n",
            " Middle_age(Aged 45 to 64 years)Middle-Eastern          Young_adult(Aged 18 to 24 years)Asian   0.0554  0.001  0.0121  0.0988   True\n",
            " Middle_age(Aged 45 to 64 years)Middle-Eastern          Young_adult(Aged 18 to 24 years)Black    0.068  0.001  0.0293  0.1067   True\n",
            " Middle_age(Aged 45 to 64 years)Middle-Eastern     Young_adult(Aged 18 to 24 years)Indigenous   0.0364    0.9 -0.0288  0.1017  False\n",
            " Middle_age(Aged 45 to 64 years)Middle-Eastern         Young_adult(Aged 18 to 24 years)Latino   0.0231    0.9 -0.0381  0.0844  False\n",
            " Middle_age(Aged 45 to 64 years)Middle-Eastern Young_adult(Aged 18 to 24 years)Middle-Eastern    0.021    0.9 -0.0282  0.0702  False\n",
            " Middle_age(Aged 45 to 64 years)Middle-Eastern          Young_adult(Aged 18 to 24 years)White   0.0472 0.0039   0.007  0.0873   True\n",
            " Middle_age(Aged 45 to 64 years)Middle-Eastern            Youth(Aged 17 years and under)Asian   0.0267    0.9 -0.0488  0.1023  False\n",
            " Middle_age(Aged 45 to 64 years)Middle-Eastern            Youth(Aged 17 years and under)Black   0.0118    0.9 -0.0322  0.0559  False\n",
            " Middle_age(Aged 45 to 64 years)Middle-Eastern       Youth(Aged 17 years and under)Indigenous   0.0368    0.9 -0.1573  0.2309  False\n",
            " Middle_age(Aged 45 to 64 years)Middle-Eastern           Youth(Aged 17 years and under)Latino   0.0164    0.9 -0.1012  0.1339  False\n",
            " Middle_age(Aged 45 to 64 years)Middle-Eastern   Youth(Aged 17 years and under)Middle-Eastern   -0.003    0.9 -0.0829  0.0769  False\n",
            " Middle_age(Aged 45 to 64 years)Middle-Eastern            Youth(Aged 17 years and under)White   0.0109    0.9   -0.04  0.0617  False\n",
            "          Middle_age(Aged 45 to 64 years)White          Young_adult(Aged 18 to 24 years)Asian   0.0225 0.2224 -0.0035  0.0484  False\n",
            "          Middle_age(Aged 45 to 64 years)White          Young_adult(Aged 18 to 24 years)Black    0.035  0.001   0.018  0.0521   True\n",
            "          Middle_age(Aged 45 to 64 years)White     Young_adult(Aged 18 to 24 years)Indigenous   0.0035    0.9 -0.0517  0.0587  False\n",
            "          Middle_age(Aged 45 to 64 years)White         Young_adult(Aged 18 to 24 years)Latino  -0.0098    0.9 -0.0603  0.0406  False\n",
            "          Middle_age(Aged 45 to 64 years)White Young_adult(Aged 18 to 24 years)Middle-Eastern  -0.0119    0.9 -0.0467  0.0229  False\n",
            "          Middle_age(Aged 45 to 64 years)White          Young_adult(Aged 18 to 24 years)White   0.0142 0.6402 -0.0059  0.0343  False\n",
            "          Middle_age(Aged 45 to 64 years)White            Youth(Aged 17 years and under)Asian  -0.0062    0.9 -0.0733  0.0609  False\n",
            "          Middle_age(Aged 45 to 64 years)White            Youth(Aged 17 years and under)Black  -0.0211 0.4524 -0.0482   0.006  False\n",
            "          Middle_age(Aged 45 to 64 years)White       Youth(Aged 17 years and under)Indigenous   0.0038    0.9 -0.1871  0.1948  False\n",
            "          Middle_age(Aged 45 to 64 years)White           Youth(Aged 17 years and under)Latino  -0.0166    0.9 -0.1289  0.0957  False\n",
            "          Middle_age(Aged 45 to 64 years)White   Youth(Aged 17 years and under)Middle-Eastern   -0.036    0.9 -0.1079   0.036  False\n",
            "          Middle_age(Aged 45 to 64 years)White            Youth(Aged 17 years and under)White  -0.0221    0.9 -0.0593  0.0151  False\n",
            "         Young_adult(Aged 18 to 24 years)Asian          Young_adult(Aged 18 to 24 years)Black   0.0126    0.9 -0.0148  0.0399  False\n",
            "         Young_adult(Aged 18 to 24 years)Asian     Young_adult(Aged 18 to 24 years)Indigenous   -0.019    0.9 -0.0782  0.0402  False\n",
            "         Young_adult(Aged 18 to 24 years)Asian         Young_adult(Aged 18 to 24 years)Latino  -0.0323    0.9 -0.0871  0.0225  False\n",
            "         Young_adult(Aged 18 to 24 years)Asian Young_adult(Aged 18 to 24 years)Middle-Eastern  -0.0344 0.2769 -0.0753  0.0065  False\n",
            "         Young_adult(Aged 18 to 24 years)Asian          Young_adult(Aged 18 to 24 years)White  -0.0083    0.9 -0.0376  0.0211  False\n",
            "         Young_adult(Aged 18 to 24 years)Asian            Youth(Aged 17 years and under)Asian  -0.0287    0.9 -0.0991  0.0418  False\n",
            "         Young_adult(Aged 18 to 24 years)Asian            Youth(Aged 17 years and under)Black  -0.0436  0.001 -0.0781  -0.009   True\n",
            "         Young_adult(Aged 18 to 24 years)Asian       Youth(Aged 17 years and under)Indigenous  -0.0186    0.9 -0.2108  0.1735  False\n",
            "         Young_adult(Aged 18 to 24 years)Asian           Youth(Aged 17 years and under)Latino  -0.0391    0.9 -0.1534  0.0752  False\n",
            "         Young_adult(Aged 18 to 24 years)Asian   Youth(Aged 17 years and under)Middle-Eastern  -0.0584 0.4534 -0.1334  0.0166  False\n",
            "         Young_adult(Aged 18 to 24 years)Asian            Youth(Aged 17 years and under)White  -0.0446   0.03 -0.0875 -0.0017   True\n",
            "         Young_adult(Aged 18 to 24 years)Black     Young_adult(Aged 18 to 24 years)Indigenous  -0.0316    0.9 -0.0874  0.0243  False\n",
            "         Young_adult(Aged 18 to 24 years)Black         Young_adult(Aged 18 to 24 years)Latino  -0.0449 0.2009 -0.0961  0.0063  False\n",
            "         Young_adult(Aged 18 to 24 years)Black Young_adult(Aged 18 to 24 years)Middle-Eastern   -0.047  0.001 -0.0828 -0.0111   True\n",
            "         Young_adult(Aged 18 to 24 years)Black          Young_adult(Aged 18 to 24 years)White  -0.0208 0.0899 -0.0427  0.0011  False\n",
            "         Young_adult(Aged 18 to 24 years)Black            Youth(Aged 17 years and under)Asian  -0.0412  0.886 -0.1089  0.0264  False\n",
            "         Young_adult(Aged 18 to 24 years)Black            Youth(Aged 17 years and under)Black  -0.0562  0.001 -0.0846 -0.0277   True\n",
            "         Young_adult(Aged 18 to 24 years)Black       Youth(Aged 17 years and under)Indigenous  -0.0312    0.9 -0.2224  0.1599  False\n",
            "         Young_adult(Aged 18 to 24 years)Black           Youth(Aged 17 years and under)Latino  -0.0516    0.9 -0.1643   0.061  False\n",
            "         Young_adult(Aged 18 to 24 years)Black   Youth(Aged 17 years and under)Middle-Eastern   -0.071 0.0645 -0.1434  0.0014  False\n",
            "         Young_adult(Aged 18 to 24 years)Black            Youth(Aged 17 years and under)White  -0.0571  0.001 -0.0953  -0.019   True\n",
            "    Young_adult(Aged 18 to 24 years)Indigenous         Young_adult(Aged 18 to 24 years)Latino  -0.0133    0.9 -0.0867    0.06  False\n",
            "    Young_adult(Aged 18 to 24 years)Indigenous Young_adult(Aged 18 to 24 years)Middle-Eastern  -0.0154    0.9  -0.079  0.0482  False\n",
            "    Young_adult(Aged 18 to 24 years)Indigenous          Young_adult(Aged 18 to 24 years)White   0.0107    0.9 -0.0462  0.0676  False\n",
            "    Young_adult(Aged 18 to 24 years)Indigenous            Youth(Aged 17 years and under)Asian  -0.0097    0.9 -0.0953   0.076  False\n",
            "    Young_adult(Aged 18 to 24 years)Indigenous            Youth(Aged 17 years and under)Black  -0.0246    0.9 -0.0843  0.0351  False\n",
            "    Young_adult(Aged 18 to 24 years)Indigenous       Youth(Aged 17 years and under)Indigenous   0.0003    0.9 -0.1979  0.1986  False\n",
            "    Young_adult(Aged 18 to 24 years)Indigenous           Youth(Aged 17 years and under)Latino  -0.0201    0.9 -0.1443  0.1042  False\n",
            "    Young_adult(Aged 18 to 24 years)Indigenous   Youth(Aged 17 years and under)Middle-Eastern  -0.0394    0.9 -0.1289    0.05  False\n",
            "    Young_adult(Aged 18 to 24 years)Indigenous            Youth(Aged 17 years and under)White  -0.0256    0.9 -0.0905  0.0393  False\n",
            "        Young_adult(Aged 18 to 24 years)Latino Young_adult(Aged 18 to 24 years)Middle-Eastern  -0.0021    0.9 -0.0616  0.0574  False\n",
            "        Young_adult(Aged 18 to 24 years)Latino          Young_adult(Aged 18 to 24 years)White    0.024    0.9 -0.0283  0.0763  False\n",
            "        Young_adult(Aged 18 to 24 years)Latino            Youth(Aged 17 years and under)Asian   0.0036    0.9  -0.079  0.0863  False\n",
            "        Young_adult(Aged 18 to 24 years)Latino            Youth(Aged 17 years and under)Black  -0.0113    0.9 -0.0667  0.0441  False\n",
            "        Young_adult(Aged 18 to 24 years)Latino       Youth(Aged 17 years and under)Indigenous   0.0137    0.9 -0.1833  0.2106  False\n",
            "        Young_adult(Aged 18 to 24 years)Latino           Youth(Aged 17 years and under)Latino  -0.0068    0.9  -0.129  0.1154  False\n",
            "        Young_adult(Aged 18 to 24 years)Latino   Youth(Aged 17 years and under)Middle-Eastern  -0.0261    0.9 -0.1127  0.0605  False\n",
            "        Young_adult(Aged 18 to 24 years)Latino            Youth(Aged 17 years and under)White  -0.0123    0.9 -0.0732  0.0487  False\n",
            "Young_adult(Aged 18 to 24 years)Middle-Eastern          Young_adult(Aged 18 to 24 years)White   0.0261 0.6616 -0.0113  0.0636  False\n",
            "Young_adult(Aged 18 to 24 years)Middle-Eastern            Youth(Aged 17 years and under)Asian   0.0057    0.9 -0.0684  0.0799  False\n",
            "Young_adult(Aged 18 to 24 years)Middle-Eastern            Youth(Aged 17 years and under)Black  -0.0092    0.9 -0.0508  0.0324  False\n",
            "Young_adult(Aged 18 to 24 years)Middle-Eastern       Youth(Aged 17 years and under)Indigenous   0.0157    0.9 -0.1778  0.2093  False\n",
            "Young_adult(Aged 18 to 24 years)Middle-Eastern           Youth(Aged 17 years and under)Latino  -0.0047    0.9 -0.1213  0.1119  False\n",
            "Young_adult(Aged 18 to 24 years)Middle-Eastern   Youth(Aged 17 years and under)Middle-Eastern   -0.024    0.9 -0.1026  0.0545  False\n",
            "Young_adult(Aged 18 to 24 years)Middle-Eastern            Youth(Aged 17 years and under)White  -0.0102    0.9 -0.0589  0.0386  False\n",
            "         Young_adult(Aged 18 to 24 years)White            Youth(Aged 17 years and under)Asian  -0.0204    0.9 -0.0889  0.0481  False\n",
            "         Young_adult(Aged 18 to 24 years)White            Youth(Aged 17 years and under)Black  -0.0353 0.0048 -0.0657 -0.0049   True\n",
            "         Young_adult(Aged 18 to 24 years)White       Youth(Aged 17 years and under)Indigenous  -0.0104    0.9 -0.2018  0.1811  False\n",
            "         Young_adult(Aged 18 to 24 years)White           Youth(Aged 17 years and under)Latino  -0.0308    0.9 -0.1439  0.0823  False\n",
            "         Young_adult(Aged 18 to 24 years)White   Youth(Aged 17 years and under)Middle-Eastern  -0.0502 0.6941 -0.1234   0.023  False\n",
            "         Young_adult(Aged 18 to 24 years)White            Youth(Aged 17 years and under)White  -0.0363 0.1334 -0.0759  0.0033  False\n",
            "           Youth(Aged 17 years and under)Asian            Youth(Aged 17 years and under)Black  -0.0149    0.9 -0.0858   0.056  False\n",
            "           Youth(Aged 17 years and under)Asian       Youth(Aged 17 years and under)Indigenous     0.01    0.9 -0.1918  0.2119  False\n",
            "           Youth(Aged 17 years and under)Asian           Youth(Aged 17 years and under)Latino  -0.0104    0.9 -0.1404  0.1196  False\n",
            "           Youth(Aged 17 years and under)Asian   Youth(Aged 17 years and under)Middle-Eastern  -0.0297    0.9  -0.127  0.0675  False\n",
            "           Youth(Aged 17 years and under)Asian            Youth(Aged 17 years and under)White  -0.0159    0.9 -0.0912  0.0594  False\n",
            "           Youth(Aged 17 years and under)Black       Youth(Aged 17 years and under)Indigenous   0.0249    0.9 -0.1674  0.2173  False\n",
            "           Youth(Aged 17 years and under)Black           Youth(Aged 17 years and under)Latino   0.0045    0.9 -0.1101  0.1191  False\n",
            "           Youth(Aged 17 years and under)Black   Youth(Aged 17 years and under)Middle-Eastern  -0.0148    0.9 -0.0903  0.0606  False\n",
            "           Youth(Aged 17 years and under)Black            Youth(Aged 17 years and under)White   -0.001    0.9 -0.0446  0.0426  False\n",
            "      Youth(Aged 17 years and under)Indigenous           Youth(Aged 17 years and under)Latino  -0.0204    0.9 -0.2415  0.2006  False\n",
            "      Youth(Aged 17 years and under)Indigenous   Youth(Aged 17 years and under)Middle-Eastern  -0.0398    0.9 -0.2433  0.1637  False\n",
            "      Youth(Aged 17 years and under)Indigenous            Youth(Aged 17 years and under)White  -0.0259    0.9 -0.2199  0.1681  False\n",
            "          Youth(Aged 17 years and under)Latino   Youth(Aged 17 years and under)Middle-Eastern  -0.0193    0.9 -0.1519  0.1132  False\n",
            "          Youth(Aged 17 years and under)Latino            Youth(Aged 17 years and under)White  -0.0055    0.9 -0.1228  0.1119  False\n",
            "  Youth(Aged 17 years and under)Middle-Eastern            Youth(Aged 17 years and under)White   0.0139    0.9 -0.0657  0.0935  False\n",
            "------------------------------------------------------------------------------------------------------------------------------------\n"
          ]
        }
      ]
    }
  ]
}