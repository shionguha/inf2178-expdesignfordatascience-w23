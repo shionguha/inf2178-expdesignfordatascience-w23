{
  "nbformat": 4,
  "nbformat_minor": 0,
  "metadata": {
    "colab": {
      "provenance": []
    },
    "kernelspec": {
      "name": "python3",
      "display_name": "Python 3"
    },
    "language_info": {
      "name": "python"
    }
  },
  "cells": [
    {
      "cell_type": "code",
      "execution_count": 2,
      "metadata": {
        "id": "_FxjzeuKh0lv"
      },
      "outputs": [],
      "source": [
        "#Import the following libraries\n",
        "import pandas as pd\n",
        "import numpy as np\n",
        "import matplotlib.pyplot as plt\n",
        "import seaborn as sns\n",
        "\n",
        "import statsmodels.api as sm\n",
        "from statsmodels.formula.api import ols\n",
        "import statsmodels.stats.api as sms\n",
        "from statsmodels.stats.anova import anova_lm\n",
        "from statsmodels.graphics.factorplots import interaction_plot\n",
        "import statsmodels.stats.multicomp as mc\n",
        "from statsmodels.stats.multicomp import pairwise_tukeyhsd\n",
        "\n",
        "from scipy import stats\n",
        "from scipy.stats import f_oneway\n"
      ]
    },
    {
      "cell_type": "markdown",
      "source": [
        "# Data Cleaning and Transformation"
      ],
      "metadata": {
        "id": "qcL1IP-7moMV"
      }
    },
    {
      "cell_type": "code",
      "source": [
        "#Read the file\n",
        "data = pd.read_csv(\"Arrests_and_Strip_Searches_(RBDC-ARR-TBL-001).csv\")"
      ],
      "metadata": {
        "id": "ORJvXLqek7rX"
      },
      "execution_count": 4,
      "outputs": []
    },
    {
      "cell_type": "code",
      "source": [
        "# Calculate the sum of the two columns, 'Actions_at_arrest___Combative__' and 'Actions_at_arrest___Assaulted_o' to a new column \"Aggression_Level\" to measure the aggressiveness level\n",
        "data[\"Aggression_Level\"] = data['Actions_at_arrest___Combative__'] + data['Actions_at_arrest___Assaulted_o']"
      ],
      "metadata": {
        "id": "0xOub9zpvZYi"
      },
      "execution_count": 6,
      "outputs": []
    },
    {
      "cell_type": "code",
      "source": [
        "#Removed all columns except interested ones\n",
        "data = data.loc[:, data.columns.intersection(['Sex','Age_group__at_arrest_','Aggression_Level'])]\n",
        "data.shape\n"
      ],
      "metadata": {
        "id": "xiHBCe-doDJu",
        "colab": {
          "base_uri": "https://localhost:8080/"
        },
        "outputId": "e3984e42-e2ae-40c5-b88c-d552f47bbd33"
      },
      "execution_count": 7,
      "outputs": [
        {
          "output_type": "execute_result",
          "data": {
            "text/plain": [
              "(65276, 3)"
            ]
          },
          "metadata": {},
          "execution_count": 7
        }
      ]
    },
    {
      "cell_type": "code",
      "source": [
        "#Delete rows with unclear sex of gender and nan values\n",
        "data = data.loc[data[\"Sex\"] != \"U\"]\n",
        "data = data.dropna(axis = 0)\n",
        "data.shape"
      ],
      "metadata": {
        "id": "W5Nrbqq0taB-",
        "colab": {
          "base_uri": "https://localhost:8080/"
        },
        "outputId": "4257318b-b3a2-4e39-bee6-958c12be2990"
      },
      "execution_count": 8,
      "outputs": [
        {
          "output_type": "execute_result",
          "data": {
            "text/plain": [
              "(65243, 3)"
            ]
          },
          "metadata": {},
          "execution_count": 8
        }
      ]
    },
    {
      "cell_type": "code",
      "source": [
        "#Change all \"Aged 17 years and under\" and \"Aged 17 years and younger\" to \"Aged 17 and youger\" in the \"Age_group__at_arrest_\" column\n",
        "data['Age_group__at_arrest_'] = data['Age_group__at_arrest_'].replace('Aged 17 years and under','Aged 17 and younger')\n",
        "data['Age_group__at_arrest_'] = data['Age_group__at_arrest_'].replace('Aged 17 years and younger','Aged 17 and younger')"
      ],
      "metadata": {
        "id": "Vlb9kaZDxWvi"
      },
      "execution_count": 9,
      "outputs": []
    },
    {
      "cell_type": "code",
      "source": [
        "#Change all \"Aged 65 years and older\" to \"Aged 65 and older\" in the \"Age_group__at_arrest_\" column\n",
        "data['Age_group__at_arrest_'] = data['Age_group__at_arrest_'].replace('Aged 65 years and older','Aged 65 and older')"
      ],
      "metadata": {
        "id": "pgcgLitM7VRL"
      },
      "execution_count": 10,
      "outputs": []
    },
    {
      "cell_type": "code",
      "source": [
        "data.head"
      ],
      "metadata": {
        "id": "5jeEikkU0Abu",
        "colab": {
          "base_uri": "https://localhost:8080/"
        },
        "outputId": "5bed42b8-baf2-4c4c-beea-36b48d9a6bcc"
      },
      "execution_count": 11,
      "outputs": [
        {
          "output_type": "execute_result",
          "data": {
            "text/plain": [
              "<bound method NDFrame.head of       Sex Age_group__at_arrest_  Aggression_Level\n",
              "0       M   Aged 35 to 44 years                 0\n",
              "1       M   Aged 35 to 44 years                 0\n",
              "2       M   Aged 35 to 44 years                 0\n",
              "3       M   Aged 25 to 34 years                 0\n",
              "4       M   Aged 25 to 34 years                 0\n",
              "...    ..                   ...               ...\n",
              "65271   F   Aged 25 to 34 years                 0\n",
              "65272   M   Aged 35 to 44 years                 0\n",
              "65273   F   Aged 45 to 54 years                 0\n",
              "65274   M   Aged 17 and younger                 0\n",
              "65275   M   Aged 18 to 24 years                 0\n",
              "\n",
              "[65243 rows x 3 columns]>"
            ]
          },
          "metadata": {},
          "execution_count": 11
        }
      ]
    },
    {
      "cell_type": "code",
      "source": [
        "print(data['Age_group__at_arrest_'].unique())"
      ],
      "metadata": {
        "id": "A1-D-ezV77j5",
        "colab": {
          "base_uri": "https://localhost:8080/"
        },
        "outputId": "5ecc6a9d-4e0a-44df-f10a-673c7db62025"
      },
      "execution_count": 12,
      "outputs": [
        {
          "output_type": "stream",
          "name": "stdout",
          "text": [
            "['Aged 35 to 44 years' 'Aged 25 to 34 years' 'Aged 45 to 54 years'\n",
            " 'Aged 55 to 64 years' 'Aged 18 to 24 years' 'Aged 65 and older'\n",
            " 'Aged 17 and younger']\n"
          ]
        }
      ]
    },
    {
      "cell_type": "markdown",
      "source": [
        "# EDA"
      ],
      "metadata": {
        "id": "-X1E0FIBclGf"
      }
    },
    {
      "cell_type": "code",
      "source": [
        "ax = sns.barplot(data=data, x=\"Age_group__at_arrest_\", y=\"Aggression_Level\", hue=\"Sex\")\n",
        "ax.set_xticklabels(ax.get_xticklabels(), rotation=40, ha=\"right\")\n",
        "plt.tight_layout()\n",
        "plt.show()"
      ],
      "metadata": {
        "id": "THv26Xzhcmz1",
        "colab": {
          "base_uri": "https://localhost:8080/",
          "height": 297
        },
        "outputId": "81ccdada-c250-4323-bb86-b67cae21e58c"
      },
      "execution_count": 13,
      "outputs": [
        {
          "output_type": "display_data",
          "data": {
            "text/plain": [
              "<Figure size 432x288 with 1 Axes>"
            ],
            "image/png": "[encoded data removed]"
          },
          "metadata": {
            "needs_background": "light"
          }
        }
      ]
    },
    {
      "cell_type": "code",
      "source": [],
      "metadata": {
        "id": "Fls6HJ4kWvWD"
      },
      "execution_count": 17,
      "outputs": []
    },
    {
      "cell_type": "markdown",
      "source": [
        "# ANOVA"
      ],
      "metadata": {
        "id": "zWg5w87AcnlL"
      }
    },
    {
      "cell_type": "code",
      "source": [
        "#Perform two-way ANOVA with interaction\n",
        "model = ols('Aggression_Level ~ C(Sex) + C(Age_group__at_arrest_) + C(Sex):C(Age_group__at_arrest_)', data = data).fit()\n",
        "sm.stats.anova_lm(model, typ=2)"
      ],
      "metadata": {
        "colab": {
          "base_uri": "https://localhost:8080/",
          "height": 175
        },
        "id": "xzZli0KadDQR",
        "outputId": "1897daa5-2aeb-4d8a-be57-fba275a91360"
      },
      "execution_count": 14,
      "outputs": [
        {
          "output_type": "execute_result",
          "data": {
            "text/plain": [
              "                                      sum_sq       df          F        PR(>F)\n",
              "C(Sex)                              0.100795      1.0   1.784902  1.815532e-01\n",
              "C(Age_group__at_arrest_)            3.666315      6.0  10.820709  4.534492e-12\n",
              "C(Sex):C(Age_group__at_arrest_)     0.404768      6.0   1.194627  3.056266e-01\n",
              "Residual                         3683.523975  65229.0        NaN           NaN"
            ],
            "text/html": [
              "\n",
              "  <div id=\"df-06eb4066-1c9d-4adf-a202-a4b50c40a36b\">\n",
              "    <div class=\"colab-df-container\">\n",
              "      <div>\n",
              "<style scoped>\n",
              "    .dataframe tbody tr th:only-of-type {\n",
              "        vertical-align: middle;\n",
              "    }\n",
              "\n",
              "    .dataframe tbody tr th {\n",
              "        vertical-align: top;\n",
              "    }\n",
              "\n",
              "    .dataframe thead th {\n",
              "        text-align: right;\n",
              "    }\n",
              "</style>\n",
              "<table border=\"1\" class=\"dataframe\">\n",
              "  <thead>\n",
              "    <tr style=\"text-align: right;\">\n",
              "      <th></th>\n",
              "      <th>sum_sq</th>\n",
              "      <th>df</th>\n",
              "      <th>F</th>\n",
              "      <th>PR(&gt;F)</th>\n",
              "    </tr>\n",
              "  </thead>\n",
              "  <tbody>\n",
              "    <tr>\n",
              "      <th>C(Sex)</th>\n",
              "      <td>0.100795</td>\n",
              "      <td>1.0</td>\n",
              "      <td>1.784902</td>\n",
              "      <td>1.815532e-01</td>\n",
              "    </tr>\n",
              "    <tr>\n",
              "      <th>C(Age_group__at_arrest_)</th>\n",
              "      <td>3.666315</td>\n",
              "      <td>6.0</td>\n",
              "      <td>10.820709</td>\n",
              "      <td>4.534492e-12</td>\n",
              "    </tr>\n",
              "    <tr>\n",
              "      <th>C(Sex):C(Age_group__at_arrest_)</th>\n",
              "      <td>0.404768</td>\n",
              "      <td>6.0</td>\n",
              "      <td>1.194627</td>\n",
              "      <td>3.056266e-01</td>\n",
              "    </tr>\n",
              "    <tr>\n",
              "      <th>Residual</th>\n",
              "      <td>3683.523975</td>\n",
              "      <td>65229.0</td>\n",
              "      <td>NaN</td>\n",
              "      <td>NaN</td>\n",
              "    </tr>\n",
              "  </tbody>\n",
              "</table>\n",
              "</div>\n",
              "      <button class=\"colab-df-convert\" onclick=\"convertToInteractive('df-06eb4066-1c9d-4adf-a202-a4b50c40a36b')\"\n",
              "              title=\"Convert this dataframe to an interactive table.\"\n",
              "              style=\"display:none;\">\n",
              "        \n",
              "  <svg xmlns=\"http://www.w3.org/2000/svg\" height=\"24px\"viewBox=\"0 0 24 24\"\n",
              "       width=\"24px\">\n",
              "    <path d=\"M0 0h24v24H0V0z\" fill=\"none\"/>\n",
              "    <path d=\"M18.56 5.44l.94 2.06.94-2.06 2.06-.94-2.06-.94-.94-2.06-.94 2.06-2.06.94zm-11 1L8.5 8.5l.94-2.06 2.06-.94-2.06-.94L8.5 2.5l-.94 2.06-2.06.94zm10 10l.94 2.06.94-2.06 2.06-.94-2.06-.94-.94-2.06-.94 2.06-2.06.94z\"/><path d=\"M17.41 7.96l-1.37-1.37c-.4-.4-.92-.59-1.43-.59-.52 0-1.04.2-1.43.59L10.3 9.45l-7.72 7.72c-.78.78-.78 2.05 0 2.83L4 21.41c.39.39.9.59 1.41.59.51 0 1.02-.2 1.41-.59l7.78-7.78 2.81-2.81c.8-.78.8-2.07 0-2.86zM5.41 20L4 18.59l7.72-7.72 1.47 1.35L5.41 20z\"/>\n",
              "  </svg>\n",
              "      </button>\n",
              "      \n",
              "  <style>\n",
              "    .colab-df-container {\n",
              "      display:flex;\n",
              "      flex-wrap:wrap;\n",
              "      gap: 12px;\n",
              "    }\n",
              "\n",
              "    .colab-df-convert {\n",
              "      background-color: #E8F0FE;\n",
              "      border: none;\n",
              "      border-radius: 50%;\n",
              "      cursor: pointer;\n",
              "      display: none;\n",
              "      fill: #1967D2;\n",
              "      height: 32px;\n",
              "      padding: 0 0 0 0;\n",
              "      width: 32px;\n",
              "    }\n",
              "\n",
              "    .colab-df-convert:hover {\n",
              "      background-color: #E2EBFA;\n",
              "      box-shadow: 0px 1px 2px rgba(60, 64, 67, 0.3), 0px 1px 3px 1px rgba(60, 64, 67, 0.15);\n",
              "      fill: #174EA6;\n",
              "    }\n",
              "\n",
              "    [theme=dark] .colab-df-convert {\n",
              "      background-color: #3B4455;\n",
              "      fill: #D2E3FC;\n",
              "    }\n",
              "\n",
              "    [theme=dark] .colab-df-convert:hover {\n",
              "      background-color: #434B5C;\n",
              "      box-shadow: 0px 1px 3px 1px rgba(0, 0, 0, 0.15);\n",
              "      filter: drop-shadow(0px 1px 2px rgba(0, 0, 0, 0.3));\n",
              "      fill: #FFFFFF;\n",
              "    }\n",
              "  </style>\n",
              "\n",
              "      <script>\n",
              "        const buttonEl =\n",
              "          document.querySelector('#df-06eb4066-1c9d-4adf-a202-a4b50c40a36b button.colab-df-convert');\n",
              "        buttonEl.style.display =\n",
              "          google.colab.kernel.accessAllowed ? 'block' : 'none';\n",
              "\n",
              "        async function convertToInteractive(key) {\n",
              "          const element = document.querySelector('#df-06eb4066-1c9d-4adf-a202-a4b50c40a36b');\n",
              "          const dataTable =\n",
              "            await google.colab.kernel.invokeFunction('convertToInteractive',\n",
              "                                                     [key], {});\n",
              "          if (!dataTable) return;\n",
              "\n",
              "          const docLinkHtml = 'Like what you see? Visit the ' +\n",
              "            '<a target=\"_blank\" href=https://colab.research.google.com/notebooks/data_table.ipynb>data table notebook</a>'\n",
              "            + ' to learn more about interactive tables.';\n",
              "          element.innerHTML = '';\n",
              "          dataTable['output_type'] = 'display_data';\n",
              "          await google.colab.output.renderOutput(dataTable, element);\n",
              "          const docLink = document.createElement('div');\n",
              "          docLink.innerHTML = docLinkHtml;\n",
              "          element.appendChild(docLink);\n",
              "        }\n",
              "      </script>\n",
              "    </div>\n",
              "  </div>\n",
              "  "
            ]
          },
          "metadata": {},
          "execution_count": 14
        }
      ]
    },
    {
      "cell_type": "code",
      "source": [
        "#Plot an interaction plot\n",
        "fig = interaction_plot(x = data['Age_group__at_arrest_'], trace = data['Sex'], response = data['Aggression_Level'])\n",
        "plt.xticks(rotation=45)\n",
        "plt.show()"
      ],
      "metadata": {
        "colab": {
          "base_uri": "https://localhost:8080/",
          "height": 354
        },
        "id": "et-5aOw42I-s",
        "outputId": "4e0d50f8-0d10-4788-8a42-304392a76f21"
      },
      "execution_count": 15,
      "outputs": [
        {
          "output_type": "display_data",
          "data": {
            "text/plain": [
              "<Figure size 432x288 with 1 Axes>"
            ],
            "image/png": "[encoded data removed]"
          },
          "metadata": {
            "needs_background": "light"
          }
        }
      ]
    },
    {
      "cell_type": "code",
      "source": [
        "#Perform two-way ANOVA without interaction\n",
        "model2 = ols('Aggression_Level ~ C(Sex) + C(Age_group__at_arrest_)', data = data).fit()\n",
        "sm.stats.anova_lm(model2, typ=2)"
      ],
      "metadata": {
        "colab": {
          "base_uri": "https://localhost:8080/",
          "height": 143
        },
        "id": "BVOMdojXSXGr",
        "outputId": "67f27537-0a81-4dcb-802d-6c4fae035878"
      },
      "execution_count": 16,
      "outputs": [
        {
          "output_type": "execute_result",
          "data": {
            "text/plain": [
              "                               sum_sq       df          F        PR(>F)\n",
              "C(Sex)                       0.100795      1.0   1.784870  1.815571e-01\n",
              "C(Age_group__at_arrest_)     3.666315      6.0  10.820515  4.536962e-12\n",
              "Residual                  3683.928743  65235.0        NaN           NaN"
            ],
            "text/html": [
              "\n",
              "  <div id=\"df-64287514-dd96-4720-9035-880c6c32fc66\">\n",
              "    <div class=\"colab-df-container\">\n",
              "      <div>\n",
              "<style scoped>\n",
              "    .dataframe tbody tr th:only-of-type {\n",
              "        vertical-align: middle;\n",
              "    }\n",
              "\n",
              "    .dataframe tbody tr th {\n",
              "        vertical-align: top;\n",
              "    }\n",
              "\n",
              "    .dataframe thead th {\n",
              "        text-align: right;\n",
              "    }\n",
              "</style>\n",
              "<table border=\"1\" class=\"dataframe\">\n",
              "  <thead>\n",
              "    <tr style=\"text-align: right;\">\n",
              "      <th></th>\n",
              "      <th>sum_sq</th>\n",
              "      <th>df</th>\n",
              "      <th>F</th>\n",
              "      <th>PR(&gt;F)</th>\n",
              "    </tr>\n",
              "  </thead>\n",
              "  <tbody>\n",
              "    <tr>\n",
              "      <th>C(Sex)</th>\n",
              "      <td>0.100795</td>\n",
              "      <td>1.0</td>\n",
              "      <td>1.784870</td>\n",
              "      <td>1.815571e-01</td>\n",
              "    </tr>\n",
              "    <tr>\n",
              "      <th>C(Age_group__at_arrest_)</th>\n",
              "      <td>3.666315</td>\n",
              "      <td>6.0</td>\n",
              "      <td>10.820515</td>\n",
              "      <td>4.536962e-12</td>\n",
              "    </tr>\n",
              "    <tr>\n",
              "      <th>Residual</th>\n",
              "      <td>3683.928743</td>\n",
              "      <td>65235.0</td>\n",
              "      <td>NaN</td>\n",
              "      <td>NaN</td>\n",
              "    </tr>\n",
              "  </tbody>\n",
              "</table>\n",
              "</div>\n",
              "      <button class=\"colab-df-convert\" onclick=\"convertToInteractive('df-64287514-dd96-4720-9035-880c6c32fc66')\"\n",
              "              title=\"Convert this dataframe to an interactive table.\"\n",
              "              style=\"display:none;\">\n",
              "        \n",
              "  <svg xmlns=\"http://www.w3.org/2000/svg\" height=\"24px\"viewBox=\"0 0 24 24\"\n",
              "       width=\"24px\">\n",
              "    <path d=\"M0 0h24v24H0V0z\" fill=\"none\"/>\n",
              "    <path d=\"M18.56 5.44l.94 2.06.94-2.06 2.06-.94-2.06-.94-.94-2.06-.94 2.06-2.06.94zm-11 1L8.5 8.5l.94-2.06 2.06-.94-2.06-.94L8.5 2.5l-.94 2.06-2.06.94zm10 10l.94 2.06.94-2.06 2.06-.94-2.06-.94-.94-2.06-.94 2.06-2.06.94z\"/><path d=\"M17.41 7.96l-1.37-1.37c-.4-.4-.92-.59-1.43-.59-.52 0-1.04.2-1.43.59L10.3 9.45l-7.72 7.72c-.78.78-.78 2.05 0 2.83L4 21.41c.39.39.9.59 1.41.59.51 0 1.02-.2 1.41-.59l7.78-7.78 2.81-2.81c.8-.78.8-2.07 0-2.86zM5.41 20L4 18.59l7.72-7.72 1.47 1.35L5.41 20z\"/>\n",
              "  </svg>\n",
              "      </button>\n",
              "      \n",
              "  <style>\n",
              "    .colab-df-container {\n",
              "      display:flex;\n",
              "      flex-wrap:wrap;\n",
              "      gap: 12px;\n",
              "    }\n",
              "\n",
              "    .colab-df-convert {\n",
              "      background-color: #E8F0FE;\n",
              "      border: none;\n",
              "      border-radius: 50%;\n",
              "      cursor: pointer;\n",
              "      display: none;\n",
              "      fill: #1967D2;\n",
              "      height: 32px;\n",
              "      padding: 0 0 0 0;\n",
              "      width: 32px;\n",
              "    }\n",
              "\n",
              "    .colab-df-convert:hover {\n",
              "      background-color: #E2EBFA;\n",
              "      box-shadow: 0px 1px 2px rgba(60, 64, 67, 0.3), 0px 1px 3px 1px rgba(60, 64, 67, 0.15);\n",
              "      fill: #174EA6;\n",
              "    }\n",
              "\n",
              "    [theme=dark] .colab-df-convert {\n",
              "      background-color: #3B4455;\n",
              "      fill: #D2E3FC;\n",
              "    }\n",
              "\n",
              "    [theme=dark] .colab-df-convert:hover {\n",
              "      background-color: #434B5C;\n",
              "      box-shadow: 0px 1px 3px 1px rgba(0, 0, 0, 0.15);\n",
              "      filter: drop-shadow(0px 1px 2px rgba(0, 0, 0, 0.3));\n",
              "      fill: #FFFFFF;\n",
              "    }\n",
              "  </style>\n",
              "\n",
              "      <script>\n",
              "        const buttonEl =\n",
              "          document.querySelector('#df-64287514-dd96-4720-9035-880c6c32fc66 button.colab-df-convert');\n",
              "        buttonEl.style.display =\n",
              "          google.colab.kernel.accessAllowed ? 'block' : 'none';\n",
              "\n",
              "        async function convertToInteractive(key) {\n",
              "          const element = document.querySelector('#df-64287514-dd96-4720-9035-880c6c32fc66');\n",
              "          const dataTable =\n",
              "            await google.colab.kernel.invokeFunction('convertToInteractive',\n",
              "                                                     [key], {});\n",
              "          if (!dataTable) return;\n",
              "\n",
              "          const docLinkHtml = 'Like what you see? Visit the ' +\n",
              "            '<a target=\"_blank\" href=https://colab.research.google.com/notebooks/data_table.ipynb>data table notebook</a>'\n",
              "            + ' to learn more about interactive tables.';\n",
              "          element.innerHTML = '';\n",
              "          dataTable['output_type'] = 'display_data';\n",
              "          await google.colab.output.renderOutput(dataTable, element);\n",
              "          const docLink = document.createElement('div');\n",
              "          docLink.innerHTML = docLinkHtml;\n",
              "          element.appendChild(docLink);\n",
              "        }\n",
              "      </script>\n",
              "    </div>\n",
              "  </div>\n",
              "  "
            ]
          },
          "metadata": {},
          "execution_count": 16
        }
      ]
    },
    {
      "cell_type": "code",
      "source": [
        "#Estimate the means of each age group\n",
        "print(data.groupby('Age_group__at_arrest_').mean())"
      ],
      "metadata": {
        "id": "igToEJEjZOG6",
        "colab": {
          "base_uri": "https://localhost:8080/"
        },
        "outputId": "3587b027-50e2-4fb0-84a6-b771d558f9f3"
      },
      "execution_count": 17,
      "outputs": [
        {
          "output_type": "stream",
          "name": "stdout",
          "text": [
            "                       Aggression_Level\n",
            "Age_group__at_arrest_                  \n",
            "Aged 17 and younger            0.025641\n",
            "Aged 18 to 24 years            0.047814\n",
            "Aged 25 to 34 years            0.056099\n",
            "Aged 35 to 44 years            0.055046\n",
            "Aged 45 to 54 years            0.045886\n",
            "Aged 55 to 64 years            0.045118\n",
            "Aged 65 and older              0.033283\n"
          ]
        }
      ]
    },
    {
      "cell_type": "code",
      "source": [
        "#One-way ANOVA on Sex\n",
        "#Samples\n",
        "sample_f = data[data['Sex'] == 'F']['Aggression_Level']\n",
        "sample_m = data[data['Sex'] == 'M']['Aggression_Level']\n",
        "\n",
        "#Implement one-way ANOVA\n",
        "s, p = f_oneway(sample_f, sample_m)\n",
        "\n",
        "print(f'One-way ANOVA: s = {s}, p = {p}')"
      ],
      "metadata": {
        "colab": {
          "base_uri": "https://localhost:8080/"
        },
        "id": "-M8Pg0OZfJ39",
        "outputId": "1c4f5928-dbea-483d-e185-76b9aedf9274"
      },
      "execution_count": null,
      "outputs": [
        {
          "output_type": "stream",
          "name": "stdout",
          "text": [
            "One-way ANOVA: s = 1.7142503323620455, p = 0.1904394500165444\n"
          ]
        }
      ]
    },
    {
      "cell_type": "markdown",
      "source": [
        "#Post-Hoc Tests"
      ],
      "metadata": {
        "id": "qonzDPbYqDbk"
      }
    },
    {
      "cell_type": "code",
      "source": [
        "#Running post hoc tukey test for different age groups\n",
        "tukey = pairwise_tukeyhsd(endog=data[\"Aggression_Level\"], groups=data['Age_group__at_arrest_'], alpha=0.05)\n",
        "print(tukey)"
      ],
      "metadata": {
        "colab": {
          "base_uri": "https://localhost:8080/"
        },
        "id": "4NbQ3-CmgoFn",
        "outputId": "e0cf9a6e-81a7-4538-dc22-c15f7b2de5d1"
      },
      "execution_count": null,
      "outputs": [
        {
          "output_type": "stream",
          "name": "stdout",
          "text": [
            "             Multiple Comparison of Means - Tukey HSD, FWER=0.05              \n",
            "==============================================================================\n",
            "       group1              group2       meandiff p-adj   lower   upper  reject\n",
            "------------------------------------------------------------------------------\n",
            "Aged 17 and younger Aged 18 to 24 years   0.0222  0.001  0.0077  0.0367   True\n",
            "Aged 17 and younger Aged 25 to 34 years   0.0305  0.001  0.0169  0.0441   True\n",
            "Aged 17 and younger Aged 35 to 44 years   0.0294  0.001  0.0156  0.0432   True\n",
            "Aged 17 and younger Aged 45 to 54 years   0.0202  0.001  0.0056  0.0349   True\n",
            "Aged 17 and younger Aged 55 to 64 years   0.0195 0.0083  0.0031  0.0359   True\n",
            "Aged 17 and younger   Aged 65 and older   0.0076    0.9 -0.0154  0.0307  False\n",
            "Aged 18 to 24 years Aged 25 to 34 years   0.0083 0.0622 -0.0002  0.0168  False\n",
            "Aged 18 to 24 years Aged 35 to 44 years   0.0072 0.1995 -0.0017  0.0161  False\n",
            "Aged 18 to 24 years Aged 45 to 54 years  -0.0019    0.9 -0.0121  0.0082  False\n",
            "Aged 18 to 24 years Aged 55 to 64 years  -0.0027    0.9 -0.0152  0.0098  False\n",
            "Aged 18 to 24 years   Aged 65 and older  -0.0145 0.3594  -0.035   0.006  False\n",
            "Aged 25 to 34 years Aged 35 to 44 years  -0.0011    0.9 -0.0084  0.0063  False\n",
            "Aged 25 to 34 years Aged 45 to 54 years  -0.0102 0.0112  -0.019 -0.0014   True\n",
            "Aged 25 to 34 years Aged 55 to 64 years   -0.011  0.069 -0.0224  0.0004  False\n",
            "Aged 25 to 34 years   Aged 65 and older  -0.0228 0.0126 -0.0427 -0.0029   True\n",
            "Aged 35 to 44 years Aged 45 to 54 years  -0.0092 0.0512 -0.0183     0.0  False\n",
            "Aged 35 to 44 years Aged 55 to 64 years  -0.0099 0.1596 -0.0216  0.0018  False\n",
            "Aged 35 to 44 years   Aged 65 and older  -0.0218 0.0231 -0.0418 -0.0017   True\n",
            "Aged 45 to 54 years Aged 55 to 64 years  -0.0008    0.9 -0.0135  0.0119  False\n",
            "Aged 45 to 54 years   Aged 65 and older  -0.0126 0.5403 -0.0332   0.008  False\n",
            "Aged 55 to 64 years   Aged 65 and older  -0.0118 0.6614 -0.0337    0.01  False\n",
            "------------------------------------------------------------------------------\n"
          ]
        }
      ]
    },
    {
      "cell_type": "code",
      "source": [
        "#Running post hoc tukey test for both genders\n",
        "tukey = pairwise_tukeyhsd(endog=data[\"Aggression_Level\"], groups=data['Sex'], alpha=0.05)\n",
        "print(tukey)"
      ],
      "metadata": {
        "id": "kQdOf98JqKt0",
        "colab": {
          "base_uri": "https://localhost:8080/"
        },
        "outputId": "8b4b93de-95e0-4999-8199-b21e8f256a2d"
      },
      "execution_count": 19,
      "outputs": [
        {
          "output_type": "stream",
          "name": "stdout",
          "text": [
            "Multiple Comparison of Means - Tukey HSD, FWER=0.05\n",
            "===================================================\n",
            "group1 group2 meandiff p-adj   lower  upper  reject\n",
            "---------------------------------------------------\n",
            "     F      M  -0.0031 0.1904 -0.0077 0.0015  False\n",
            "---------------------------------------------------\n"
          ]
        }
      ]
    },
    {
      "cell_type": "code",
      "source": [
        "#Research Question 2: Is there a connection between Race, Sex and strip searches and arrests, does being a man or woman or belonging to a specific raceincrease the chances of strip search or getting booked\n",
        "#H0: There is no difference in the mean number of strip searches for men or women\n",
        "#H1: There is statistically significant difference between strip searches for men and women\n",
        "df = pd.read_csv('Arrests_and_Strip_Searches_(RBDC-ARR-TBL-001).csv')\n",
        "df.head()"
      ],
      "metadata": {
        "colab": {
          "base_uri": "https://localhost:8080/",
          "height": 317
        },
        "id": "8lIDh76CW-2R",
        "outputId": "5c7b786c-16ca-4785-cb38-0dce1121367a"
      },
      "execution_count": 20,
      "outputs": [
        {
          "output_type": "execute_result",
          "data": {
            "text/plain": [
              "   Arrest_Year Arrest_Month  EventID   ArrestID  PersonID     Perceived_Race  \\\n",
              "0         2020    July-Sept  1005907  6017884.0    326622              White   \n",
              "1         2020    July-Sept  1014562  6056669.0    326622              White   \n",
              "2         2020      Oct-Dec  1029922  6057065.0    326622  Unknown or Legacy   \n",
              "3         2021      Jan-Mar  1052190  6029059.0    327535              Black   \n",
              "4         2021      Jan-Mar  1015512  6040372.0    327535        South Asian   \n",
              "\n",
              "  Sex Age_group__at_arrest_ Youth_at_arrest__under_18_years ArrestLocDiv  ...  \\\n",
              "0   M   Aged 35 to 44 years                     Not a youth           54  ...   \n",
              "1   M   Aged 35 to 44 years                     Not a youth           54  ...   \n",
              "2   M   Aged 35 to 44 years                     Not a youth           54  ...   \n",
              "3   M   Aged 25 to 34 years                     Not a youth           XX  ...   \n",
              "4   M   Aged 25 to 34 years                     Not a youth           XX  ...   \n",
              "\n",
              "   Actions_at_arrest___Resisted__d  Actions_at_arrest___Mental_inst  \\\n",
              "0                                0                                0   \n",
              "1                                0                                0   \n",
              "2                                0                                0   \n",
              "3                                0                                0   \n",
              "4                                0                                0   \n",
              "\n",
              "  Actions_at_arrest___Assaulted_o  Actions_at_arrest___Cooperative  \\\n",
              "0                               0                                1   \n",
              "1                               0                                0   \n",
              "2                               0                                0   \n",
              "3                               0                                0   \n",
              "4                               0                                0   \n",
              "\n",
              "   SearchReason_CauseInjury  SearchReason_AssistEscape  \\\n",
              "0                       NaN                        NaN   \n",
              "1                       NaN                        NaN   \n",
              "2                       NaN                        NaN   \n",
              "3                       NaN                        NaN   \n",
              "4                       NaN                        NaN   \n",
              "\n",
              "   SearchReason_PossessWeapons  SearchReason_PossessEvidence  ItemsFound  \\\n",
              "0                          NaN                           NaN         NaN   \n",
              "1                          NaN                           NaN         NaN   \n",
              "2                          NaN                           NaN         NaN   \n",
              "3                          NaN                           NaN         NaN   \n",
              "4                          NaN                           NaN         NaN   \n",
              "\n",
              "   ObjectId  \n",
              "0         1  \n",
              "1         2  \n",
              "2         3  \n",
              "3         4  \n",
              "4         5  \n",
              "\n",
              "[5 rows x 25 columns]"
            ],
            "text/html": [
              "\n",
              "  <div id=\"df-3c9aa957-81b4-4be3-acdf-edfbf6244015\">\n",
              "    <div class=\"colab-df-container\">\n",
              "      <div>\n",
              "<style scoped>\n",
              "    .dataframe tbody tr th:only-of-type {\n",
              "        vertical-align: middle;\n",
              "    }\n",
              "\n",
              "    .dataframe tbody tr th {\n",
              "        vertical-align: top;\n",
              "    }\n",
              "\n",
              "    .dataframe thead th {\n",
              "        text-align: right;\n",
              "    }\n",
              "</style>\n",
              "<table border=\"1\" class=\"dataframe\">\n",
              "  <thead>\n",
              "    <tr style=\"text-align: right;\">\n",
              "      <th></th>\n",
              "      <th>Arrest_Year</th>\n",
              "      <th>Arrest_Month</th>\n",
              "      <th>EventID</th>\n",
              "      <th>ArrestID</th>\n",
              "      <th>PersonID</th>\n",
              "      <th>Perceived_Race</th>\n",
              "      <th>Sex</th>\n",
              "      <th>Age_group__at_arrest_</th>\n",
              "      <th>Youth_at_arrest__under_18_years</th>\n",
              "      <th>ArrestLocDiv</th>\n",
              "      <th>...</th>\n",
              "      <th>Actions_at_arrest___Resisted__d</th>\n",
              "      <th>Actions_at_arrest___Mental_inst</th>\n",
              "      <th>Actions_at_arrest___Assaulted_o</th>\n",
              "      <th>Actions_at_arrest___Cooperative</th>\n",
              "      <th>SearchReason_CauseInjury</th>\n",
              "      <th>SearchReason_AssistEscape</th>\n",
              "      <th>SearchReason_PossessWeapons</th>\n",
              "      <th>SearchReason_PossessEvidence</th>\n",
              "      <th>ItemsFound</th>\n",
              "      <th>ObjectId</th>\n",
              "    </tr>\n",
              "  </thead>\n",
              "  <tbody>\n",
              "    <tr>\n",
              "      <th>0</th>\n",
              "      <td>2020</td>\n",
              "      <td>July-Sept</td>\n",
              "      <td>1005907</td>\n",
              "      <td>6017884.0</td>\n",
              "      <td>326622</td>\n",
              "      <td>White</td>\n",
              "      <td>M</td>\n",
              "      <td>Aged 35 to 44 years</td>\n",
              "      <td>Not a youth</td>\n",
              "      <td>54</td>\n",
              "      <td>...</td>\n",
              "      <td>0</td>\n",
              "      <td>0</td>\n",
              "      <td>0</td>\n",
              "      <td>1</td>\n",
              "      <td>NaN</td>\n",
              "      <td>NaN</td>\n",
              "      <td>NaN</td>\n",
              "      <td>NaN</td>\n",
              "      <td>NaN</td>\n",
              "      <td>1</td>\n",
              "    </tr>\n",
              "    <tr>\n",
              "      <th>1</th>\n",
              "      <td>2020</td>\n",
              "      <td>July-Sept</td>\n",
              "      <td>1014562</td>\n",
              "      <td>6056669.0</td>\n",
              "      <td>326622</td>\n",
              "      <td>White</td>\n",
              "      <td>M</td>\n",
              "      <td>Aged 35 to 44 years</td>\n",
              "      <td>Not a youth</td>\n",
              "      <td>54</td>\n",
              "      <td>...</td>\n",
              "      <td>0</td>\n",
              "      <td>0</td>\n",
              "      <td>0</td>\n",
              "      <td>0</td>\n",
              "      <td>NaN</td>\n",
              "      <td>NaN</td>\n",
              "      <td>NaN</td>\n",
              "      <td>NaN</td>\n",
              "      <td>NaN</td>\n",
              "      <td>2</td>\n",
              "    </tr>\n",
              "    <tr>\n",
              "      <th>2</th>\n",
              "      <td>2020</td>\n",
              "      <td>Oct-Dec</td>\n",
              "      <td>1029922</td>\n",
              "      <td>6057065.0</td>\n",
              "      <td>326622</td>\n",
              "      <td>Unknown or Legacy</td>\n",
              "      <td>M</td>\n",
              "      <td>Aged 35 to 44 years</td>\n",
              "      <td>Not a youth</td>\n",
              "      <td>54</td>\n",
              "      <td>...</td>\n",
              "      <td>0</td>\n",
              "      <td>0</td>\n",
              "      <td>0</td>\n",
              "      <td>0</td>\n",
              "      <td>NaN</td>\n",
              "      <td>NaN</td>\n",
              "      <td>NaN</td>\n",
              "      <td>NaN</td>\n",
              "      <td>NaN</td>\n",
              "      <td>3</td>\n",
              "    </tr>\n",
              "    <tr>\n",
              "      <th>3</th>\n",
              "      <td>2021</td>\n",
              "      <td>Jan-Mar</td>\n",
              "      <td>1052190</td>\n",
              "      <td>6029059.0</td>\n",
              "      <td>327535</td>\n",
              "      <td>Black</td>\n",
              "      <td>M</td>\n",
              "      <td>Aged 25 to 34 years</td>\n",
              "      <td>Not a youth</td>\n",
              "      <td>XX</td>\n",
              "      <td>...</td>\n",
              "      <td>0</td>\n",
              "      <td>0</td>\n",
              "      <td>0</td>\n",
              "      <td>0</td>\n",
              "      <td>NaN</td>\n",
              "      <td>NaN</td>\n",
              "      <td>NaN</td>\n",
              "      <td>NaN</td>\n",
              "      <td>NaN</td>\n",
              "      <td>4</td>\n",
              "    </tr>\n",
              "    <tr>\n",
              "      <th>4</th>\n",
              "      <td>2021</td>\n",
              "      <td>Jan-Mar</td>\n",
              "      <td>1015512</td>\n",
              "      <td>6040372.0</td>\n",
              "      <td>327535</td>\n",
              "      <td>South Asian</td>\n",
              "      <td>M</td>\n",
              "      <td>Aged 25 to 34 years</td>\n",
              "      <td>Not a youth</td>\n",
              "      <td>XX</td>\n",
              "      <td>...</td>\n",
              "      <td>0</td>\n",
              "      <td>0</td>\n",
              "      <td>0</td>\n",
              "      <td>0</td>\n",
              "      <td>NaN</td>\n",
              "      <td>NaN</td>\n",
              "      <td>NaN</td>\n",
              "      <td>NaN</td>\n",
              "      <td>NaN</td>\n",
              "      <td>5</td>\n",
              "    </tr>\n",
              "  </tbody>\n",
              "</table>\n",
              "<p>5 rows × 25 columns</p>\n",
              "</div>\n",
              "      <button class=\"colab-df-convert\" onclick=\"convertToInteractive('df-3c9aa957-81b4-4be3-acdf-edfbf6244015')\"\n",
              "              title=\"Convert this dataframe to an interactive table.\"\n",
              "              style=\"display:none;\">\n",
              "        \n",
              "  <svg xmlns=\"http://www.w3.org/2000/svg\" height=\"24px\"viewBox=\"0 0 24 24\"\n",
              "       width=\"24px\">\n",
              "    <path d=\"M0 0h24v24H0V0z\" fill=\"none\"/>\n",
              "    <path d=\"M18.56 5.44l.94 2.06.94-2.06 2.06-.94-2.06-.94-.94-2.06-.94 2.06-2.06.94zm-11 1L8.5 8.5l.94-2.06 2.06-.94-2.06-.94L8.5 2.5l-.94 2.06-2.06.94zm10 10l.94 2.06.94-2.06 2.06-.94-2.06-.94-.94-2.06-.94 2.06-2.06.94z\"/><path d=\"M17.41 7.96l-1.37-1.37c-.4-.4-.92-.59-1.43-.59-.52 0-1.04.2-1.43.59L10.3 9.45l-7.72 7.72c-.78.78-.78 2.05 0 2.83L4 21.41c.39.39.9.59 1.41.59.51 0 1.02-.2 1.41-.59l7.78-7.78 2.81-2.81c.8-.78.8-2.07 0-2.86zM5.41 20L4 18.59l7.72-7.72 1.47 1.35L5.41 20z\"/>\n",
              "  </svg>\n",
              "      </button>\n",
              "      \n",
              "  <style>\n",
              "    .colab-df-container {\n",
              "      display:flex;\n",
              "      flex-wrap:wrap;\n",
              "      gap: 12px;\n",
              "    }\n",
              "\n",
              "    .colab-df-convert {\n",
              "      background-color: #E8F0FE;\n",
              "      border: none;\n",
              "      border-radius: 50%;\n",
              "      cursor: pointer;\n",
              "      display: none;\n",
              "      fill: #1967D2;\n",
              "      height: 32px;\n",
              "      padding: 0 0 0 0;\n",
              "      width: 32px;\n",
              "    }\n",
              "\n",
              "    .colab-df-convert:hover {\n",
              "      background-color: #E2EBFA;\n",
              "      box-shadow: 0px 1px 2px rgba(60, 64, 67, 0.3), 0px 1px 3px 1px rgba(60, 64, 67, 0.15);\n",
              "      fill: #174EA6;\n",
              "    }\n",
              "\n",
              "    [theme=dark] .colab-df-convert {\n",
              "      background-color: #3B4455;\n",
              "      fill: #D2E3FC;\n",
              "    }\n",
              "\n",
              "    [theme=dark] .colab-df-convert:hover {\n",
              "      background-color: #434B5C;\n",
              "      box-shadow: 0px 1px 3px 1px rgba(0, 0, 0, 0.15);\n",
              "      filter: drop-shadow(0px 1px 2px rgba(0, 0, 0, 0.3));\n",
              "      fill: #FFFFFF;\n",
              "    }\n",
              "  </style>\n",
              "\n",
              "      <script>\n",
              "        const buttonEl =\n",
              "          document.querySelector('#df-3c9aa957-81b4-4be3-acdf-edfbf6244015 button.colab-df-convert');\n",
              "        buttonEl.style.display =\n",
              "          google.colab.kernel.accessAllowed ? 'block' : 'none';\n",
              "\n",
              "        async function convertToInteractive(key) {\n",
              "          const element = document.querySelector('#df-3c9aa957-81b4-4be3-acdf-edfbf6244015');\n",
              "          const dataTable =\n",
              "            await google.colab.kernel.invokeFunction('convertToInteractive',\n",
              "                                                     [key], {});\n",
              "          if (!dataTable) return;\n",
              "\n",
              "          const docLinkHtml = 'Like what you see? Visit the ' +\n",
              "            '<a target=\"_blank\" href=https://colab.research.google.com/notebooks/data_table.ipynb>data table notebook</a>'\n",
              "            + ' to learn more about interactive tables.';\n",
              "          element.innerHTML = '';\n",
              "          dataTable['output_type'] = 'display_data';\n",
              "          await google.colab.output.renderOutput(dataTable, element);\n",
              "          const docLink = document.createElement('div');\n",
              "          docLink.innerHTML = docLinkHtml;\n",
              "          element.appendChild(docLink);\n",
              "        }\n",
              "      </script>\n",
              "    </div>\n",
              "  </div>\n",
              "  "
            ]
          },
          "metadata": {},
          "execution_count": 20
        }
      ]
    },
    {
      "cell_type": "code",
      "source": [
        "# Having a look at the data types\n",
        "df.info()"
      ],
      "metadata": {
        "colab": {
          "base_uri": "https://localhost:8080/"
        },
        "id": "I2v8pOykXF2D",
        "outputId": "b56d9916-24f0-4609-dffc-6d6ca69f5938"
      },
      "execution_count": 21,
      "outputs": [
        {
          "output_type": "stream",
          "name": "stdout",
          "text": [
            "<class 'pandas.core.frame.DataFrame'>\n",
            "RangeIndex: 65276 entries, 0 to 65275\n",
            "Data columns (total 25 columns):\n",
            " #   Column                           Non-Null Count  Dtype  \n",
            "---  ------                           --------------  -----  \n",
            " 0   Arrest_Year                      65276 non-null  int64  \n",
            " 1   Arrest_Month                     65276 non-null  object \n",
            " 2   EventID                          65276 non-null  int64  \n",
            " 3   ArrestID                         64807 non-null  float64\n",
            " 4   PersonID                         65276 non-null  int64  \n",
            " 5   Perceived_Race                   65272 non-null  object \n",
            " 6   Sex                              65276 non-null  object \n",
            " 7   Age_group__at_arrest_            65252 non-null  object \n",
            " 8   Youth_at_arrest__under_18_years  65276 non-null  object \n",
            " 9   ArrestLocDiv                     65276 non-null  object \n",
            " 10  StripSearch                      65276 non-null  int64  \n",
            " 11  Booked                           65276 non-null  int64  \n",
            " 12  Occurrence_Category              65111 non-null  object \n",
            " 13  Actions_at_arrest___Concealed_i  65276 non-null  int64  \n",
            " 14  Actions_at_arrest___Combative__  65276 non-null  int64  \n",
            " 15  Actions_at_arrest___Resisted__d  65276 non-null  int64  \n",
            " 16  Actions_at_arrest___Mental_inst  65276 non-null  int64  \n",
            " 17  Actions_at_arrest___Assaulted_o  65276 non-null  int64  \n",
            " 18  Actions_at_arrest___Cooperative  65276 non-null  int64  \n",
            " 19  SearchReason_CauseInjury         7801 non-null   float64\n",
            " 20  SearchReason_AssistEscape        7801 non-null   float64\n",
            " 21  SearchReason_PossessWeapons      7801 non-null   float64\n",
            " 22  SearchReason_PossessEvidence     7801 non-null   float64\n",
            " 23  ItemsFound                       7801 non-null   float64\n",
            " 24  ObjectId                         65276 non-null  int64  \n",
            "dtypes: float64(6), int64(12), object(7)\n",
            "memory usage: 12.5+ MB\n"
          ]
        }
      ]
    },
    {
      "cell_type": "code",
      "source": [
        "# Lets see how many missing values we have in our dataset\n",
        "df.isnull().sum()"
      ],
      "metadata": {
        "colab": {
          "base_uri": "https://localhost:8080/"
        },
        "id": "2EuM4IhiXHzG",
        "outputId": "57fc02b4-6091-4533-ef9a-73c4e9532a43"
      },
      "execution_count": 22,
      "outputs": [
        {
          "output_type": "execute_result",
          "data": {
            "text/plain": [
              "Arrest_Year                            0\n",
              "Arrest_Month                           0\n",
              "EventID                                0\n",
              "ArrestID                             469\n",
              "PersonID                               0\n",
              "Perceived_Race                         4\n",
              "Sex                                    0\n",
              "Age_group__at_arrest_                 24\n",
              "Youth_at_arrest__under_18_years        0\n",
              "ArrestLocDiv                           0\n",
              "StripSearch                            0\n",
              "Booked                                 0\n",
              "Occurrence_Category                  165\n",
              "Actions_at_arrest___Concealed_i        0\n",
              "Actions_at_arrest___Combative__        0\n",
              "Actions_at_arrest___Resisted__d        0\n",
              "Actions_at_arrest___Mental_inst        0\n",
              "Actions_at_arrest___Assaulted_o        0\n",
              "Actions_at_arrest___Cooperative        0\n",
              "SearchReason_CauseInjury           57475\n",
              "SearchReason_AssistEscape          57475\n",
              "SearchReason_PossessWeapons        57475\n",
              "SearchReason_PossessEvidence       57475\n",
              "ItemsFound                         57475\n",
              "ObjectId                               0\n",
              "dtype: int64"
            ]
          },
          "metadata": {},
          "execution_count": 22
        }
      ]
    },
    {
      "cell_type": "code",
      "source": [
        "#Checking some individual columns and seeing if we can optimize them for analysis\n",
        "df['Occurrence_Category'].value_counts()"
      ],
      "metadata": {
        "colab": {
          "base_uri": "https://localhost:8080/"
        },
        "id": "oR99uD6SXIrX",
        "outputId": "746ffe66-b69b-454c-f6fa-ed839fdb1c31"
      },
      "execution_count": 23,
      "outputs": [
        {
          "output_type": "execute_result",
          "data": {
            "text/plain": [
              "Assault                                            7726\n",
              "Assault & Other crimes against persons             7235\n",
              "Robbery & Theft                                    4580\n",
              "Warrant                                            4385\n",
              "FTA/FTC/Compliance Check/Parollee                  4246\n",
              "Police Category - Administrative                   3888\n",
              "FTA/FTC, Compliance Check & Parollee               3877\n",
              "Robbery/Theft                                      3754\n",
              "Drug Related                                       2751\n",
              "Other Statute & Other Incident Type                2344\n",
              "Vehicle Related (inc. Impaired)                    1977\n",
              "Other Offence                                      1972\n",
              "Mischief & Fraud                                   1732\n",
              "Impaired                                           1362\n",
              "Harassment/Threatening                             1346\n",
              "Mischief                                           1322\n",
              "Harassment & Threatening                           1268\n",
              "Weapons                                            1108\n",
              "Weapons & Homicide                                 1105\n",
              "Other Statute                                       944\n",
              "Break & Enter                                       916\n",
              "Break and Enter                                     868\n",
              "Sexual Related Crime                                839\n",
              "Sexual Related Crimes & Crimes Against Children     793\n",
              "Vehicle Related                                     768\n",
              "LLA                                                 586\n",
              "Police Category - Incident                          564\n",
              "Fraud                                               474\n",
              "Mental Health                                       239\n",
              "Homicide                                             73\n",
              "Crimes against Children                              69\n",
              "Name: Occurrence_Category, dtype: int64"
            ]
          },
          "metadata": {},
          "execution_count": 23
        }
      ]
    },
    {
      "cell_type": "code",
      "source": [
        "# Lets assign 99999 to misisng arrest values and others as 0\n",
        "df = df.fillna(value = {\n",
        "    'ArrestID': 99999,\n",
        "    'SearchReason_CauseInjury': 0,\n",
        "    'SearchReason_AssistEscape': 0,\n",
        "    'SearchReason_PossessWeapons': 0,\n",
        "    'SearchReason_PossessEvidence':0,\n",
        "    'ItemsFound': 0\n",
        "    })\n",
        "df['Occurrence_Category'].fillna(value='Other Offence', inplace=True)\n",
        "# Renaming values that are similar\n",
        "df[\"Occurrence_Category\"] = df[\"Occurrence_Category\"].apply(lambda x: x.replace(\"Break and Enter\", \"Break & Enter\"))\n",
        "df[\"Occurrence_Category\"] = df[\"Occurrence_Category\"].apply(lambda x: x.replace(\"Other Statute & Other Incident Type\", \"Other Offence\"))\n",
        "df[\"Occurrence_Category\"] = df[\"Occurrence_Category\"].apply(lambda x: x.replace(\"Other Statute\", \"Other Offence\"))\n",
        "df[\"Occurrence_Category\"] = df[\"Occurrence_Category\"].apply(lambda x: x.replace(\"Harassment/Threatening\", \"Harassment & Threatening\"))\n",
        "df[\"Occurrence_Category\"] = df[\"Occurrence_Category\"].apply(lambda x: x.replace(\"FTA/FTC, Compliance Check & Parollee\", \"FTA/FTC/Compliance Check/Parollee\"))\n",
        "\n",
        "\n",
        "\n"
      ],
      "metadata": {
        "id": "cIve9TptXskJ"
      },
      "execution_count": 24,
      "outputs": []
    },
    {
      "cell_type": "code",
      "source": [
        "# Trying to see if we can optimize the values in this column\n",
        "df['Occurrence_Category'].value_counts()"
      ],
      "metadata": {
        "colab": {
          "base_uri": "https://localhost:8080/"
        },
        "id": "Unpn8kU1X6L4",
        "outputId": "833a6874-9cb0-4ee3-98c3-22b268900264"
      },
      "execution_count": 25,
      "outputs": [
        {
          "output_type": "execute_result",
          "data": {
            "text/plain": [
              "FTA/FTC/Compliance Check/Parollee                  8123\n",
              "Assault                                            7726\n",
              "Assault & Other crimes against persons             7235\n",
              "Other Offence                                      5425\n",
              "Robbery & Theft                                    4580\n",
              "Warrant                                            4385\n",
              "Police Category - Administrative                   3888\n",
              "Robbery/Theft                                      3754\n",
              "Drug Related                                       2751\n",
              "Harassment & Threatening                           2614\n",
              "Vehicle Related (inc. Impaired)                    1977\n",
              "Break & Enter                                      1784\n",
              "Mischief & Fraud                                   1732\n",
              "Impaired                                           1362\n",
              "Mischief                                           1322\n",
              "Weapons                                            1108\n",
              "Weapons & Homicide                                 1105\n",
              "Sexual Related Crime                                839\n",
              "Sexual Related Crimes & Crimes Against Children     793\n",
              "Vehicle Related                                     768\n",
              "LLA                                                 586\n",
              "Police Category - Incident                          564\n",
              "Fraud                                               474\n",
              "Mental Health                                       239\n",
              "Homicide                                             73\n",
              "Crimes against Children                              69\n",
              "Name: Occurrence_Category, dtype: int64"
            ]
          },
          "metadata": {},
          "execution_count": 25
        }
      ]
    },
    {
      "cell_type": "code",
      "source": [
        "df = df.dropna()"
      ],
      "metadata": {
        "id": "rzBjIvqRX8f4"
      },
      "execution_count": 26,
      "outputs": []
    },
    {
      "cell_type": "code",
      "source": [
        "df.isnull().sum()"
      ],
      "metadata": {
        "colab": {
          "base_uri": "https://localhost:8080/"
        },
        "id": "kWVdfUDZX-FT",
        "outputId": "fd408bfa-1064-4c47-b536-5f4dde4b5805"
      },
      "execution_count": 27,
      "outputs": [
        {
          "output_type": "execute_result",
          "data": {
            "text/plain": [
              "Arrest_Year                        0\n",
              "Arrest_Month                       0\n",
              "EventID                            0\n",
              "ArrestID                           0\n",
              "PersonID                           0\n",
              "Perceived_Race                     0\n",
              "Sex                                0\n",
              "Age_group__at_arrest_              0\n",
              "Youth_at_arrest__under_18_years    0\n",
              "ArrestLocDiv                       0\n",
              "StripSearch                        0\n",
              "Booked                             0\n",
              "Occurrence_Category                0\n",
              "Actions_at_arrest___Concealed_i    0\n",
              "Actions_at_arrest___Combative__    0\n",
              "Actions_at_arrest___Resisted__d    0\n",
              "Actions_at_arrest___Mental_inst    0\n",
              "Actions_at_arrest___Assaulted_o    0\n",
              "Actions_at_arrest___Cooperative    0\n",
              "SearchReason_CauseInjury           0\n",
              "SearchReason_AssistEscape          0\n",
              "SearchReason_PossessWeapons        0\n",
              "SearchReason_PossessEvidence       0\n",
              "ItemsFound                         0\n",
              "ObjectId                           0\n",
              "dtype: int64"
            ]
          },
          "metadata": {},
          "execution_count": 27
        }
      ]
    },
    {
      "cell_type": "code",
      "source": [
        "df['Age_group__at_arrest_'].value_counts()"
      ],
      "metadata": {
        "colab": {
          "base_uri": "https://localhost:8080/"
        },
        "id": "-mY5mkv0X_5g",
        "outputId": "609d6c39-34d2-4949-f065-8132c48bb091"
      },
      "execution_count": 28,
      "outputs": [
        {
          "output_type": "execute_result",
          "data": {
            "text/plain": [
              "Aged 25 to 34 years          20948\n",
              "Aged 35 to 44 years          16241\n",
              "Aged 18 to 24 years          10040\n",
              "Aged 45 to 54 years           9065\n",
              "Aged 55 to 64 years           4590\n",
              "Aged 17 years and younger     1681\n",
              "Aged 17 years and under       1361\n",
              "Aged 65 years and older        698\n",
              "Aged 65 and older              624\n",
              "Name: Age_group__at_arrest_, dtype: int64"
            ]
          },
          "metadata": {},
          "execution_count": 28
        }
      ]
    },
    {
      "cell_type": "code",
      "source": [
        "# Updating similar values and renaming categories for easy visualization\n",
        "df[\"Age_group__at_arrest_\"] = df[\"Age_group__at_arrest_\"].apply(lambda x: x.replace(\"Aged 17 years and younger\", \"Under 17\"))\n",
        "df[\"Age_group__at_arrest_\"] = df[\"Age_group__at_arrest_\"].apply(lambda x: x.replace(\"Aged 17 years and under\", \"Under 17\"))\n",
        "df[\"Age_group__at_arrest_\"] = df[\"Age_group__at_arrest_\"].apply(lambda x: x.replace(\"Aged 65 years and older\", \"Over 65\"))\n",
        "df[\"Age_group__at_arrest_\"] = df[\"Age_group__at_arrest_\"].apply(lambda x: x.replace(\"Aged 65 and older\", \"Over 65\"))\n",
        "df[\"Age_group__at_arrest_\"] = df[\"Age_group__at_arrest_\"].apply(lambda x: x.replace(\"Over65\", \"Over 65\"))\n",
        "df[\"Age_group__at_arrest_\"] = df[\"Age_group__at_arrest_\"].apply(lambda x: x.replace(\"Aged 25 to 34 years\", \"Aged 25-34\"))\n",
        "df[\"Age_group__at_arrest_\"] = df[\"Age_group__at_arrest_\"].apply(lambda x: x.replace(\"Aged 35 to 44 years\", \"Aged 35-44\"))\n",
        "df[\"Age_group__at_arrest_\"] = df[\"Age_group__at_arrest_\"].apply(lambda x: x.replace(\"Aged 18 to 24 years\", \"Aged 18-24\"))\n",
        "df[\"Age_group__at_arrest_\"] = df[\"Age_group__at_arrest_\"].apply(lambda x: x.replace(\"Aged 45 to 54 years\", \"Aged 45-54\"))\n",
        "df[\"Age_group__at_arrest_\"] = df[\"Age_group__at_arrest_\"].apply(lambda x: x.replace(\"Aged 55 to 64 years\", \"Aged 55-64\"))\n",
        "\n",
        "\n",
        "df[\"Aggression_Level\"] = df['Actions_at_arrest___Combative__'] + df['Actions_at_arrest___Assaulted_o']\n"
      ],
      "metadata": {
        "id": "dqmUHgL5YByz"
      },
      "execution_count": 29,
      "outputs": []
    },
    {
      "cell_type": "code",
      "source": [
        "df['Age_group__at_arrest_'].value_counts()"
      ],
      "metadata": {
        "colab": {
          "base_uri": "https://localhost:8080/"
        },
        "id": "dh5naN6mYDFw",
        "outputId": "2db8ca19-cf97-4402-c897-0d4ea6c3f9b1"
      },
      "execution_count": 30,
      "outputs": [
        {
          "output_type": "execute_result",
          "data": {
            "text/plain": [
              "Aged 25-34    20948\n",
              "Aged 35-44    16241\n",
              "Aged 18-24    10040\n",
              "Aged 45-54     9065\n",
              "Aged 55-64     4590\n",
              "Under 17       3042\n",
              "Over 65        1322\n",
              "Name: Age_group__at_arrest_, dtype: int64"
            ]
          },
          "metadata": {},
          "execution_count": 30
        }
      ]
    },
    {
      "cell_type": "code",
      "source": [
        "# Creating subset for strip searchs as we focus on Race, Sex, Age group and see data for strip searchs and Items found\n",
        "stripSearchs = df.groupby(['Perceived_Race','Sex','Age_group__at_arrest_'])['StripSearch','ItemsFound', 'Booked'].sum().reset_index()\n",
        "# Removing Unkown Sex\n",
        "stripSearchs.drop(stripSearchs.loc[df['Sex']=='U'].index, inplace=True)\n",
        "stripSearchs.head()\n"
      ],
      "metadata": {
        "colab": {
          "base_uri": "https://localhost:8080/",
          "height": 242
        },
        "id": "DxCQBansYEvZ",
        "outputId": "55733045-298c-4de6-9338-d387531c204f"
      },
      "execution_count": 31,
      "outputs": [
        {
          "output_type": "stream",
          "name": "stderr",
          "text": [
            "<ipython-input-31-2ab096cb26dc>:2: FutureWarning: Indexing with multiple keys (implicitly converted to a tuple of keys) will be deprecated, use a list instead.\n",
            "  stripSearchs = df.groupby(['Perceived_Race','Sex','Age_group__at_arrest_'])['StripSearch','ItemsFound', 'Booked'].sum().reset_index()\n"
          ]
        },
        {
          "output_type": "execute_result",
          "data": {
            "text/plain": [
              "  Perceived_Race Sex Age_group__at_arrest_  StripSearch  ItemsFound  Booked\n",
              "0          Black   F            Aged 18-24           83        41.0     319\n",
              "1          Black   F            Aged 25-34           85        29.0     496\n",
              "2          Black   F            Aged 35-44           42        20.0     267\n",
              "3          Black   F            Aged 45-54           31        15.0     119\n",
              "4          Black   F            Aged 55-64            2         2.0      25"
            ],
            "text/html": [
              "\n",
              "  <div id=\"df-cc324df6-f95d-4f2a-9019-d4e441ba45f5\">\n",
              "    <div class=\"colab-df-container\">\n",
              "      <div>\n",
              "<style scoped>\n",
              "    .dataframe tbody tr th:only-of-type {\n",
              "        vertical-align: middle;\n",
              "    }\n",
              "\n",
              "    .dataframe tbody tr th {\n",
              "        vertical-align: top;\n",
              "    }\n",
              "\n",
              "    .dataframe thead th {\n",
              "        text-align: right;\n",
              "    }\n",
              "</style>\n",
              "<table border=\"1\" class=\"dataframe\">\n",
              "  <thead>\n",
              "    <tr style=\"text-align: right;\">\n",
              "      <th></th>\n",
              "      <th>Perceived_Race</th>\n",
              "      <th>Sex</th>\n",
              "      <th>Age_group__at_arrest_</th>\n",
              "      <th>StripSearch</th>\n",
              "      <th>ItemsFound</th>\n",
              "      <th>Booked</th>\n",
              "    </tr>\n",
              "  </thead>\n",
              "  <tbody>\n",
              "    <tr>\n",
              "      <th>0</th>\n",
              "      <td>Black</td>\n",
              "      <td>F</td>\n",
              "      <td>Aged 18-24</td>\n",
              "      <td>83</td>\n",
              "      <td>41.0</td>\n",
              "      <td>319</td>\n",
              "    </tr>\n",
              "    <tr>\n",
              "      <th>1</th>\n",
              "      <td>Black</td>\n",
              "      <td>F</td>\n",
              "      <td>Aged 25-34</td>\n",
              "      <td>85</td>\n",
              "      <td>29.0</td>\n",
              "      <td>496</td>\n",
              "    </tr>\n",
              "    <tr>\n",
              "      <th>2</th>\n",
              "      <td>Black</td>\n",
              "      <td>F</td>\n",
              "      <td>Aged 35-44</td>\n",
              "      <td>42</td>\n",
              "      <td>20.0</td>\n",
              "      <td>267</td>\n",
              "    </tr>\n",
              "    <tr>\n",
              "      <th>3</th>\n",
              "      <td>Black</td>\n",
              "      <td>F</td>\n",
              "      <td>Aged 45-54</td>\n",
              "      <td>31</td>\n",
              "      <td>15.0</td>\n",
              "      <td>119</td>\n",
              "    </tr>\n",
              "    <tr>\n",
              "      <th>4</th>\n",
              "      <td>Black</td>\n",
              "      <td>F</td>\n",
              "      <td>Aged 55-64</td>\n",
              "      <td>2</td>\n",
              "      <td>2.0</td>\n",
              "      <td>25</td>\n",
              "    </tr>\n",
              "  </tbody>\n",
              "</table>\n",
              "</div>\n",
              "      <button class=\"colab-df-convert\" onclick=\"convertToInteractive('df-cc324df6-f95d-4f2a-9019-d4e441ba45f5')\"\n",
              "              title=\"Convert this dataframe to an interactive table.\"\n",
              "              style=\"display:none;\">\n",
              "        \n",
              "  <svg xmlns=\"http://www.w3.org/2000/svg\" height=\"24px\"viewBox=\"0 0 24 24\"\n",
              "       width=\"24px\">\n",
              "    <path d=\"M0 0h24v24H0V0z\" fill=\"none\"/>\n",
              "    <path d=\"M18.56 5.44l.94 2.06.94-2.06 2.06-.94-2.06-.94-.94-2.06-.94 2.06-2.06.94zm-11 1L8.5 8.5l.94-2.06 2.06-.94-2.06-.94L8.5 2.5l-.94 2.06-2.06.94zm10 10l.94 2.06.94-2.06 2.06-.94-2.06-.94-.94-2.06-.94 2.06-2.06.94z\"/><path d=\"M17.41 7.96l-1.37-1.37c-.4-.4-.92-.59-1.43-.59-.52 0-1.04.2-1.43.59L10.3 9.45l-7.72 7.72c-.78.78-.78 2.05 0 2.83L4 21.41c.39.39.9.59 1.41.59.51 0 1.02-.2 1.41-.59l7.78-7.78 2.81-2.81c.8-.78.8-2.07 0-2.86zM5.41 20L4 18.59l7.72-7.72 1.47 1.35L5.41 20z\"/>\n",
              "  </svg>\n",
              "      </button>\n",
              "      \n",
              "  <style>\n",
              "    .colab-df-container {\n",
              "      display:flex;\n",
              "      flex-wrap:wrap;\n",
              "      gap: 12px;\n",
              "    }\n",
              "\n",
              "    .colab-df-convert {\n",
              "      background-color: #E8F0FE;\n",
              "      border: none;\n",
              "      border-radius: 50%;\n",
              "      cursor: pointer;\n",
              "      display: none;\n",
              "      fill: #1967D2;\n",
              "      height: 32px;\n",
              "      padding: 0 0 0 0;\n",
              "      width: 32px;\n",
              "    }\n",
              "\n",
              "    .colab-df-convert:hover {\n",
              "      background-color: #E2EBFA;\n",
              "      box-shadow: 0px 1px 2px rgba(60, 64, 67, 0.3), 0px 1px 3px 1px rgba(60, 64, 67, 0.15);\n",
              "      fill: #174EA6;\n",
              "    }\n",
              "\n",
              "    [theme=dark] .colab-df-convert {\n",
              "      background-color: #3B4455;\n",
              "      fill: #D2E3FC;\n",
              "    }\n",
              "\n",
              "    [theme=dark] .colab-df-convert:hover {\n",
              "      background-color: #434B5C;\n",
              "      box-shadow: 0px 1px 3px 1px rgba(0, 0, 0, 0.15);\n",
              "      filter: drop-shadow(0px 1px 2px rgba(0, 0, 0, 0.3));\n",
              "      fill: #FFFFFF;\n",
              "    }\n",
              "  </style>\n",
              "\n",
              "      <script>\n",
              "        const buttonEl =\n",
              "          document.querySelector('#df-cc324df6-f95d-4f2a-9019-d4e441ba45f5 button.colab-df-convert');\n",
              "        buttonEl.style.display =\n",
              "          google.colab.kernel.accessAllowed ? 'block' : 'none';\n",
              "\n",
              "        async function convertToInteractive(key) {\n",
              "          const element = document.querySelector('#df-cc324df6-f95d-4f2a-9019-d4e441ba45f5');\n",
              "          const dataTable =\n",
              "            await google.colab.kernel.invokeFunction('convertToInteractive',\n",
              "                                                     [key], {});\n",
              "          if (!dataTable) return;\n",
              "\n",
              "          const docLinkHtml = 'Like what you see? Visit the ' +\n",
              "            '<a target=\"_blank\" href=https://colab.research.google.com/notebooks/data_table.ipynb>data table notebook</a>'\n",
              "            + ' to learn more about interactive tables.';\n",
              "          element.innerHTML = '';\n",
              "          dataTable['output_type'] = 'display_data';\n",
              "          await google.colab.output.renderOutput(dataTable, element);\n",
              "          const docLink = document.createElement('div');\n",
              "          docLink.innerHTML = docLinkHtml;\n",
              "          element.appendChild(docLink);\n",
              "        }\n",
              "      </script>\n",
              "    </div>\n",
              "  </div>\n",
              "  "
            ]
          },
          "metadata": {},
          "execution_count": 31
        }
      ]
    },
    {
      "cell_type": "code",
      "source": [
        "ax = sns.barplot(data=stripSearchs, x=\"Age_group__at_arrest_\", y=\"StripSearch\", hue=\"Sex\")\n",
        "ax.set_xticklabels(ax.get_xticklabels(), rotation=40, ha=\"right\")\n",
        "plt.tight_layout()\n",
        "plt.show()"
      ],
      "metadata": {
        "colab": {
          "base_uri": "https://localhost:8080/",
          "height": 297
        },
        "id": "kgLrxGY3YHJk",
        "outputId": "5c6568dc-bb7b-42d3-cd73-beb3a663e8b9"
      },
      "execution_count": 32,
      "outputs": [
        {
          "output_type": "display_data",
          "data": {
            "text/plain": [
              "<Figure size 432x288 with 1 Axes>"
            ],
            "image/png": "[encoded data removed]"
          },
          "metadata": {
            "needs_background": "light"
          }
        }
      ]
    },
    {
      "cell_type": "code",
      "source": [
        "sns.set(rc={'figure.figsize':(15,10)})\n",
        "sns.boxplot(data=stripSearchs, x=\"StripSearch\", y=\"Perceived_Race\", hue=\"Sex\")\n",
        "sns.stripplot(x='StripSearch', y='Perceived_Race', data=stripSearchs)"
      ],
      "metadata": {
        "colab": {
          "base_uri": "https://localhost:8080/",
          "height": 629
        },
        "id": "yoxXjmpcYI3n",
        "outputId": "44252269-d8aa-441d-fa04-7f176ce26230"
      },
      "execution_count": 33,
      "outputs": [
        {
          "output_type": "execute_result",
          "data": {
            "text/plain": [
              "<AxesSubplot:xlabel='StripSearch', ylabel='Perceived_Race'>"
            ]
          },
          "metadata": {},
          "execution_count": 33
        },
        {
          "output_type": "display_data",
          "data": {
            "text/plain": [
              "<Figure size 1080x720 with 1 Axes>"
            ],
            "image/png": "[encoded data removed]"
          },
          "metadata": {}
        }
      ]
    },
    {
      "cell_type": "code",
      "source": [
        "sns.boxplot(data=stripSearchs, x=\"Booked\", y=\"Perceived_Race\", hue=\"Sex\")\n",
        "sns.stripplot(x='Booked', y='Perceived_Race', data=stripSearchs)"
      ],
      "metadata": {
        "colab": {
          "base_uri": "https://localhost:8080/",
          "height": 629
        },
        "id": "Wo2knB8MYKmL",
        "outputId": "bf7389ed-b435-44e3-8b88-30a66020059b"
      },
      "execution_count": 34,
      "outputs": [
        {
          "output_type": "execute_result",
          "data": {
            "text/plain": [
              "<AxesSubplot:xlabel='Booked', ylabel='Perceived_Race'>"
            ]
          },
          "metadata": {},
          "execution_count": 34
        },
        {
          "output_type": "display_data",
          "data": {
            "text/plain": [
              "<Figure size 1080x720 with 1 Axes>"
            ],
            "image/png": "[encoded data removed]"
          },
          "metadata": {}
        }
      ]
    },
    {
      "cell_type": "code",
      "source": [
        "sns.lineplot(data=stripSearchs, x=\"Perceived_Race\", y=\"StripSearch\", hue=\"Sex\", style=\"Sex\")"
      ],
      "metadata": {
        "colab": {
          "base_uri": "https://localhost:8080/",
          "height": 629
        },
        "id": "s9cQ7Qi5YMPe",
        "outputId": "e575c825-5666-47b9-b94f-77494fa24770"
      },
      "execution_count": 35,
      "outputs": [
        {
          "output_type": "execute_result",
          "data": {
            "text/plain": [
              "<AxesSubplot:xlabel='Perceived_Race', ylabel='StripSearch'>"
            ]
          },
          "metadata": {},
          "execution_count": 35
        },
        {
          "output_type": "display_data",
          "data": {
            "text/plain": [
              "<Figure size 1080x720 with 1 Axes>"
            ],
            "image/png": "[encoded data removed]"
          },
          "metadata": {}
        }
      ]
    },
    {
      "cell_type": "code",
      "source": [
        "plt.scatter(stripSearchs['Booked'], stripSearchs['StripSearch'], color='red')\n",
        "\n",
        "plt.xlabel(\"Arrests\")\n",
        "plt.ylabel(\"Strip Searched\")\n",
        "plt.title(\"Strip Searched vs Arrests\")\n",
        "plt.show()"
      ],
      "metadata": {
        "colab": {
          "base_uri": "https://localhost:8080/",
          "height": 627
        },
        "id": "tzltWYtvYOyE",
        "outputId": "e09bd6fb-458a-4736-9104-24051555d26d"
      },
      "execution_count": 36,
      "outputs": [
        {
          "output_type": "display_data",
          "data": {
            "text/plain": [
              "<Figure size 1080x720 with 1 Axes>"
            ],
            "image/png": "[encoded data removed]"
          },
          "metadata": {}
        }
      ]
    },
    {
      "cell_type": "code",
      "source": [
        "#Two way anova with interaction\n",
        "stripRaceSexIntModel = ols('StripSearch ~ C(Sex) + C(Perceived_Race) + C(Sex):C(Perceived_Race)', data = stripSearchs).fit()\n",
        "sm.stats.anova_lm(stripRaceSexIntModel, typ=2)"
      ],
      "metadata": {
        "colab": {
          "base_uri": "https://localhost:8080/",
          "height": 246
        },
        "id": "5hs4zJjOYQbM",
        "outputId": "e3fcf680-7423-4232-dec2-cd9e86f60036"
      },
      "execution_count": 37,
      "outputs": [
        {
          "output_type": "stream",
          "name": "stderr",
          "text": [
            "/usr/local/lib/python3.8/dist-packages/statsmodels/base/model.py:1832: ValueWarning: covariance of constraints does not have full rank. The number of constraints is 7, but rank is 3\n",
            "  warnings.warn('covariance of constraints does not have full '\n",
            "/usr/local/lib/python3.8/dist-packages/statsmodels/base/model.py:1832: ValueWarning: covariance of constraints does not have full rank. The number of constraints is 14, but rank is 10\n",
            "  warnings.warn('covariance of constraints does not have full '\n"
          ]
        },
        {
          "output_type": "execute_result",
          "data": {
            "text/plain": [
              "                                sum_sq     df         F    PR(>F)\n",
              "C(Sex)                    2.951778e+05    2.0  9.568373  0.000158\n",
              "C(Perceived_Race)         1.072376e+06    7.0  9.931923  0.000009\n",
              "C(Sex):C(Perceived_Race)  6.128018e+05   14.0  2.837765  0.003809\n",
              "Residual                  1.542466e+06  100.0       NaN       NaN"
            ],
            "text/html": [
              "\n",
              "  <div id=\"df-db55d458-6ea1-4117-9c1b-41b6ed338aa5\">\n",
              "    <div class=\"colab-df-container\">\n",
              "      <div>\n",
              "<style scoped>\n",
              "    .dataframe tbody tr th:only-of-type {\n",
              "        vertical-align: middle;\n",
              "    }\n",
              "\n",
              "    .dataframe tbody tr th {\n",
              "        vertical-align: top;\n",
              "    }\n",
              "\n",
              "    .dataframe thead th {\n",
              "        text-align: right;\n",
              "    }\n",
              "</style>\n",
              "<table border=\"1\" class=\"dataframe\">\n",
              "  <thead>\n",
              "    <tr style=\"text-align: right;\">\n",
              "      <th></th>\n",
              "      <th>sum_sq</th>\n",
              "      <th>df</th>\n",
              "      <th>F</th>\n",
              "      <th>PR(&gt;F)</th>\n",
              "    </tr>\n",
              "  </thead>\n",
              "  <tbody>\n",
              "    <tr>\n",
              "      <th>C(Sex)</th>\n",
              "      <td>2.951778e+05</td>\n",
              "      <td>2.0</td>\n",
              "      <td>9.568373</td>\n",
              "      <td>0.000158</td>\n",
              "    </tr>\n",
              "    <tr>\n",
              "      <th>C(Perceived_Race)</th>\n",
              "      <td>1.072376e+06</td>\n",
              "      <td>7.0</td>\n",
              "      <td>9.931923</td>\n",
              "      <td>0.000009</td>\n",
              "    </tr>\n",
              "    <tr>\n",
              "      <th>C(Sex):C(Perceived_Race)</th>\n",
              "      <td>6.128018e+05</td>\n",
              "      <td>14.0</td>\n",
              "      <td>2.837765</td>\n",
              "      <td>0.003809</td>\n",
              "    </tr>\n",
              "    <tr>\n",
              "      <th>Residual</th>\n",
              "      <td>1.542466e+06</td>\n",
              "      <td>100.0</td>\n",
              "      <td>NaN</td>\n",
              "      <td>NaN</td>\n",
              "    </tr>\n",
              "  </tbody>\n",
              "</table>\n",
              "</div>\n",
              "      <button class=\"colab-df-convert\" onclick=\"convertToInteractive('df-db55d458-6ea1-4117-9c1b-41b6ed338aa5')\"\n",
              "              title=\"Convert this dataframe to an interactive table.\"\n",
              "              style=\"display:none;\">\n",
              "        \n",
              "  <svg xmlns=\"http://www.w3.org/2000/svg\" height=\"24px\"viewBox=\"0 0 24 24\"\n",
              "       width=\"24px\">\n",
              "    <path d=\"M0 0h24v24H0V0z\" fill=\"none\"/>\n",
              "    <path d=\"M18.56 5.44l.94 2.06.94-2.06 2.06-.94-2.06-.94-.94-2.06-.94 2.06-2.06.94zm-11 1L8.5 8.5l.94-2.06 2.06-.94-2.06-.94L8.5 2.5l-.94 2.06-2.06.94zm10 10l.94 2.06.94-2.06 2.06-.94-2.06-.94-.94-2.06-.94 2.06-2.06.94z\"/><path d=\"M17.41 7.96l-1.37-1.37c-.4-.4-.92-.59-1.43-.59-.52 0-1.04.2-1.43.59L10.3 9.45l-7.72 7.72c-.78.78-.78 2.05 0 2.83L4 21.41c.39.39.9.59 1.41.59.51 0 1.02-.2 1.41-.59l7.78-7.78 2.81-2.81c.8-.78.8-2.07 0-2.86zM5.41 20L4 18.59l7.72-7.72 1.47 1.35L5.41 20z\"/>\n",
              "  </svg>\n",
              "      </button>\n",
              "      \n",
              "  <style>\n",
              "    .colab-df-container {\n",
              "      display:flex;\n",
              "      flex-wrap:wrap;\n",
              "      gap: 12px;\n",
              "    }\n",
              "\n",
              "    .colab-df-convert {\n",
              "      background-color: #E8F0FE;\n",
              "      border: none;\n",
              "      border-radius: 50%;\n",
              "      cursor: pointer;\n",
              "      display: none;\n",
              "      fill: #1967D2;\n",
              "      height: 32px;\n",
              "      padding: 0 0 0 0;\n",
              "      width: 32px;\n",
              "    }\n",
              "\n",
              "    .colab-df-convert:hover {\n",
              "      background-color: #E2EBFA;\n",
              "      box-shadow: 0px 1px 2px rgba(60, 64, 67, 0.3), 0px 1px 3px 1px rgba(60, 64, 67, 0.15);\n",
              "      fill: #174EA6;\n",
              "    }\n",
              "\n",
              "    [theme=dark] .colab-df-convert {\n",
              "      background-color: #3B4455;\n",
              "      fill: #D2E3FC;\n",
              "    }\n",
              "\n",
              "    [theme=dark] .colab-df-convert:hover {\n",
              "      background-color: #434B5C;\n",
              "      box-shadow: 0px 1px 3px 1px rgba(0, 0, 0, 0.15);\n",
              "      filter: drop-shadow(0px 1px 2px rgba(0, 0, 0, 0.3));\n",
              "      fill: #FFFFFF;\n",
              "    }\n",
              "  </style>\n",
              "\n",
              "      <script>\n",
              "        const buttonEl =\n",
              "          document.querySelector('#df-db55d458-6ea1-4117-9c1b-41b6ed338aa5 button.colab-df-convert');\n",
              "        buttonEl.style.display =\n",
              "          google.colab.kernel.accessAllowed ? 'block' : 'none';\n",
              "\n",
              "        async function convertToInteractive(key) {\n",
              "          const element = document.querySelector('#df-db55d458-6ea1-4117-9c1b-41b6ed338aa5');\n",
              "          const dataTable =\n",
              "            await google.colab.kernel.invokeFunction('convertToInteractive',\n",
              "                                                     [key], {});\n",
              "          if (!dataTable) return;\n",
              "\n",
              "          const docLinkHtml = 'Like what you see? Visit the ' +\n",
              "            '<a target=\"_blank\" href=https://colab.research.google.com/notebooks/data_table.ipynb>data table notebook</a>'\n",
              "            + ' to learn more about interactive tables.';\n",
              "          element.innerHTML = '';\n",
              "          dataTable['output_type'] = 'display_data';\n",
              "          await google.colab.output.renderOutput(dataTable, element);\n",
              "          const docLink = document.createElement('div');\n",
              "          docLink.innerHTML = docLinkHtml;\n",
              "          element.appendChild(docLink);\n",
              "        }\n",
              "      </script>\n",
              "    </div>\n",
              "  </div>\n",
              "  "
            ]
          },
          "metadata": {},
          "execution_count": 37
        }
      ]
    },
    {
      "cell_type": "code",
      "source": [
        "#Plot an interaction plot\n",
        "fig = interaction_plot(x = stripSearchs['Perceived_Race'], trace = stripSearchs['Sex'], response = stripSearchs['StripSearch'])\n",
        "plt.xticks(rotation=45)\n",
        "plt.show()"
      ],
      "metadata": {
        "colab": {
          "base_uri": "https://localhost:8080/",
          "height": 691
        },
        "id": "eDM-MFaaYUwl",
        "outputId": "21ebbf52-4933-492b-9ba2-2acb461b8ab4"
      },
      "execution_count": 38,
      "outputs": [
        {
          "output_type": "display_data",
          "data": {
            "text/plain": [
              "<Figure size 1080x720 with 1 Axes>"
            ],
            "image/png": "[encoded data removed]"
          },
          "metadata": {}
        }
      ]
    },
    {
      "cell_type": "code",
      "source": [
        "#Two-way ANOVA without interaction\n",
        "stripRaceSexModel = ols('StripSearch ~ C(Sex) + C(Perceived_Race)', data = stripSearchs).fit()\n",
        "sm.stats.anova_lm(stripRaceSexModel, typ=2)"
      ],
      "metadata": {
        "colab": {
          "base_uri": "https://localhost:8080/",
          "height": 143
        },
        "id": "DeLswaBsYZVy",
        "outputId": "6fcf2107-bb82-4150-be54-f3db5aa125d7"
      },
      "execution_count": 39,
      "outputs": [
        {
          "output_type": "execute_result",
          "data": {
            "text/plain": [
              "                         sum_sq     df         F    PR(>F)\n",
              "C(Sex)             3.359779e+05    2.0  9.408337  0.000170\n",
              "C(Perceived_Race)  7.608431e+05    7.0  6.087364  0.000005\n",
              "Residual           1.946231e+06  109.0       NaN       NaN"
            ],
            "text/html": [
              "\n",
              "  <div id=\"df-a702f352-5434-42fc-b62a-a3fd62c090c3\">\n",
              "    <div class=\"colab-df-container\">\n",
              "      <div>\n",
              "<style scoped>\n",
              "    .dataframe tbody tr th:only-of-type {\n",
              "        vertical-align: middle;\n",
              "    }\n",
              "\n",
              "    .dataframe tbody tr th {\n",
              "        vertical-align: top;\n",
              "    }\n",
              "\n",
              "    .dataframe thead th {\n",
              "        text-align: right;\n",
              "    }\n",
              "</style>\n",
              "<table border=\"1\" class=\"dataframe\">\n",
              "  <thead>\n",
              "    <tr style=\"text-align: right;\">\n",
              "      <th></th>\n",
              "      <th>sum_sq</th>\n",
              "      <th>df</th>\n",
              "      <th>F</th>\n",
              "      <th>PR(&gt;F)</th>\n",
              "    </tr>\n",
              "  </thead>\n",
              "  <tbody>\n",
              "    <tr>\n",
              "      <th>C(Sex)</th>\n",
              "      <td>3.359779e+05</td>\n",
              "      <td>2.0</td>\n",
              "      <td>9.408337</td>\n",
              "      <td>0.000170</td>\n",
              "    </tr>\n",
              "    <tr>\n",
              "      <th>C(Perceived_Race)</th>\n",
              "      <td>7.608431e+05</td>\n",
              "      <td>7.0</td>\n",
              "      <td>6.087364</td>\n",
              "      <td>0.000005</td>\n",
              "    </tr>\n",
              "    <tr>\n",
              "      <th>Residual</th>\n",
              "      <td>1.946231e+06</td>\n",
              "      <td>109.0</td>\n",
              "      <td>NaN</td>\n",
              "      <td>NaN</td>\n",
              "    </tr>\n",
              "  </tbody>\n",
              "</table>\n",
              "</div>\n",
              "      <button class=\"colab-df-convert\" onclick=\"convertToInteractive('df-a702f352-5434-42fc-b62a-a3fd62c090c3')\"\n",
              "              title=\"Convert this dataframe to an interactive table.\"\n",
              "              style=\"display:none;\">\n",
              "        \n",
              "  <svg xmlns=\"http://www.w3.org/2000/svg\" height=\"24px\"viewBox=\"0 0 24 24\"\n",
              "       width=\"24px\">\n",
              "    <path d=\"M0 0h24v24H0V0z\" fill=\"none\"/>\n",
              "    <path d=\"M18.56 5.44l.94 2.06.94-2.06 2.06-.94-2.06-.94-.94-2.06-.94 2.06-2.06.94zm-11 1L8.5 8.5l.94-2.06 2.06-.94-2.06-.94L8.5 2.5l-.94 2.06-2.06.94zm10 10l.94 2.06.94-2.06 2.06-.94-2.06-.94-.94-2.06-.94 2.06-2.06.94z\"/><path d=\"M17.41 7.96l-1.37-1.37c-.4-.4-.92-.59-1.43-.59-.52 0-1.04.2-1.43.59L10.3 9.45l-7.72 7.72c-.78.78-.78 2.05 0 2.83L4 21.41c.39.39.9.59 1.41.59.51 0 1.02-.2 1.41-.59l7.78-7.78 2.81-2.81c.8-.78.8-2.07 0-2.86zM5.41 20L4 18.59l7.72-7.72 1.47 1.35L5.41 20z\"/>\n",
              "  </svg>\n",
              "      </button>\n",
              "      \n",
              "  <style>\n",
              "    .colab-df-container {\n",
              "      display:flex;\n",
              "      flex-wrap:wrap;\n",
              "      gap: 12px;\n",
              "    }\n",
              "\n",
              "    .colab-df-convert {\n",
              "      background-color: #E8F0FE;\n",
              "      border: none;\n",
              "      border-radius: 50%;\n",
              "      cursor: pointer;\n",
              "      display: none;\n",
              "      fill: #1967D2;\n",
              "      height: 32px;\n",
              "      padding: 0 0 0 0;\n",
              "      width: 32px;\n",
              "    }\n",
              "\n",
              "    .colab-df-convert:hover {\n",
              "      background-color: #E2EBFA;\n",
              "      box-shadow: 0px 1px 2px rgba(60, 64, 67, 0.3), 0px 1px 3px 1px rgba(60, 64, 67, 0.15);\n",
              "      fill: #174EA6;\n",
              "    }\n",
              "\n",
              "    [theme=dark] .colab-df-convert {\n",
              "      background-color: #3B4455;\n",
              "      fill: #D2E3FC;\n",
              "    }\n",
              "\n",
              "    [theme=dark] .colab-df-convert:hover {\n",
              "      background-color: #434B5C;\n",
              "      box-shadow: 0px 1px 3px 1px rgba(0, 0, 0, 0.15);\n",
              "      filter: drop-shadow(0px 1px 2px rgba(0, 0, 0, 0.3));\n",
              "      fill: #FFFFFF;\n",
              "    }\n",
              "  </style>\n",
              "\n",
              "      <script>\n",
              "        const buttonEl =\n",
              "          document.querySelector('#df-a702f352-5434-42fc-b62a-a3fd62c090c3 button.colab-df-convert');\n",
              "        buttonEl.style.display =\n",
              "          google.colab.kernel.accessAllowed ? 'block' : 'none';\n",
              "\n",
              "        async function convertToInteractive(key) {\n",
              "          const element = document.querySelector('#df-a702f352-5434-42fc-b62a-a3fd62c090c3');\n",
              "          const dataTable =\n",
              "            await google.colab.kernel.invokeFunction('convertToInteractive',\n",
              "                                                     [key], {});\n",
              "          if (!dataTable) return;\n",
              "\n",
              "          const docLinkHtml = 'Like what you see? Visit the ' +\n",
              "            '<a target=\"_blank\" href=https://colab.research.google.com/notebooks/data_table.ipynb>data table notebook</a>'\n",
              "            + ' to learn more about interactive tables.';\n",
              "          element.innerHTML = '';\n",
              "          dataTable['output_type'] = 'display_data';\n",
              "          await google.colab.output.renderOutput(dataTable, element);\n",
              "          const docLink = document.createElement('div');\n",
              "          docLink.innerHTML = docLinkHtml;\n",
              "          element.appendChild(docLink);\n",
              "        }\n",
              "      </script>\n",
              "    </div>\n",
              "  </div>\n",
              "  "
            ]
          },
          "metadata": {},
          "execution_count": 39
        }
      ]
    },
    {
      "cell_type": "code",
      "source": [
        "# Factorizing the Sex column to run 1-way anova\n",
        "stripSearchs['Sex'] = pd.factorize(stripSearchs['Sex'])[0]\n",
        "stripSearchs"
      ],
      "metadata": {
        "colab": {
          "base_uri": "https://localhost:8080/",
          "height": 424
        },
        "id": "sOTRoBNjYbPc",
        "outputId": "842d67cd-ad72-4fb3-897f-916b15b300e2"
      },
      "execution_count": 40,
      "outputs": [
        {
          "output_type": "execute_result",
          "data": {
            "text/plain": [
              "    Perceived_Race  Sex Age_group__at_arrest_  StripSearch  ItemsFound  Booked\n",
              "0            Black    0            Aged 18-24           83        41.0     319\n",
              "1            Black    0            Aged 25-34           85        29.0     496\n",
              "2            Black    0            Aged 35-44           42        20.0     267\n",
              "3            Black    0            Aged 45-54           31        15.0     119\n",
              "4            Black    0            Aged 55-64            2         2.0      25\n",
              "..             ...  ...                   ...          ...         ...     ...\n",
              "114          White    1               Over 65           14         5.0     229\n",
              "115          White    1              Under 17           46        17.0     238\n",
              "116          White    2            Aged 18-24            0         0.0       0\n",
              "117          White    2            Aged 25-34            0         0.0       1\n",
              "118          White    2            Aged 55-64            0         0.0       0\n",
              "\n",
              "[119 rows x 6 columns]"
            ],
            "text/html": [
              "\n",
              "  <div id=\"df-3b2830e6-e121-4dd4-84b1-43316d6ec1b5\">\n",
              "    <div class=\"colab-df-container\">\n",
              "      <div>\n",
              "<style scoped>\n",
              "    .dataframe tbody tr th:only-of-type {\n",
              "        vertical-align: middle;\n",
              "    }\n",
              "\n",
              "    .dataframe tbody tr th {\n",
              "        vertical-align: top;\n",
              "    }\n",
              "\n",
              "    .dataframe thead th {\n",
              "        text-align: right;\n",
              "    }\n",
              "</style>\n",
              "<table border=\"1\" class=\"dataframe\">\n",
              "  <thead>\n",
              "    <tr style=\"text-align: right;\">\n",
              "      <th></th>\n",
              "      <th>Perceived_Race</th>\n",
              "      <th>Sex</th>\n",
              "      <th>Age_group__at_arrest_</th>\n",
              "      <th>StripSearch</th>\n",
              "      <th>ItemsFound</th>\n",
              "      <th>Booked</th>\n",
              "    </tr>\n",
              "  </thead>\n",
              "  <tbody>\n",
              "    <tr>\n",
              "      <th>0</th>\n",
              "      <td>Black</td>\n",
              "      <td>0</td>\n",
              "      <td>Aged 18-24</td>\n",
              "      <td>83</td>\n",
              "      <td>41.0</td>\n",
              "      <td>319</td>\n",
              "    </tr>\n",
              "    <tr>\n",
              "      <th>1</th>\n",
              "      <td>Black</td>\n",
              "      <td>0</td>\n",
              "      <td>Aged 25-34</td>\n",
              "      <td>85</td>\n",
              "      <td>29.0</td>\n",
              "      <td>496</td>\n",
              "    </tr>\n",
              "    <tr>\n",
              "      <th>2</th>\n",
              "      <td>Black</td>\n",
              "      <td>0</td>\n",
              "      <td>Aged 35-44</td>\n",
              "      <td>42</td>\n",
              "      <td>20.0</td>\n",
              "      <td>267</td>\n",
              "    </tr>\n",
              "    <tr>\n",
              "      <th>3</th>\n",
              "      <td>Black</td>\n",
              "      <td>0</td>\n",
              "      <td>Aged 45-54</td>\n",
              "      <td>31</td>\n",
              "      <td>15.0</td>\n",
              "      <td>119</td>\n",
              "    </tr>\n",
              "    <tr>\n",
              "      <th>4</th>\n",
              "      <td>Black</td>\n",
              "      <td>0</td>\n",
              "      <td>Aged 55-64</td>\n",
              "      <td>2</td>\n",
              "      <td>2.0</td>\n",
              "      <td>25</td>\n",
              "    </tr>\n",
              "    <tr>\n",
              "      <th>...</th>\n",
              "      <td>...</td>\n",
              "      <td>...</td>\n",
              "      <td>...</td>\n",
              "      <td>...</td>\n",
              "      <td>...</td>\n",
              "      <td>...</td>\n",
              "    </tr>\n",
              "    <tr>\n",
              "      <th>114</th>\n",
              "      <td>White</td>\n",
              "      <td>1</td>\n",
              "      <td>Over 65</td>\n",
              "      <td>14</td>\n",
              "      <td>5.0</td>\n",
              "      <td>229</td>\n",
              "    </tr>\n",
              "    <tr>\n",
              "      <th>115</th>\n",
              "      <td>White</td>\n",
              "      <td>1</td>\n",
              "      <td>Under 17</td>\n",
              "      <td>46</td>\n",
              "      <td>17.0</td>\n",
              "      <td>238</td>\n",
              "    </tr>\n",
              "    <tr>\n",
              "      <th>116</th>\n",
              "      <td>White</td>\n",
              "      <td>2</td>\n",
              "      <td>Aged 18-24</td>\n",
              "      <td>0</td>\n",
              "      <td>0.0</td>\n",
              "      <td>0</td>\n",
              "    </tr>\n",
              "    <tr>\n",
              "      <th>117</th>\n",
              "      <td>White</td>\n",
              "      <td>2</td>\n",
              "      <td>Aged 25-34</td>\n",
              "      <td>0</td>\n",
              "      <td>0.0</td>\n",
              "      <td>1</td>\n",
              "    </tr>\n",
              "    <tr>\n",
              "      <th>118</th>\n",
              "      <td>White</td>\n",
              "      <td>2</td>\n",
              "      <td>Aged 55-64</td>\n",
              "      <td>0</td>\n",
              "      <td>0.0</td>\n",
              "      <td>0</td>\n",
              "    </tr>\n",
              "  </tbody>\n",
              "</table>\n",
              "<p>119 rows × 6 columns</p>\n",
              "</div>\n",
              "      <button class=\"colab-df-convert\" onclick=\"convertToInteractive('df-3b2830e6-e121-4dd4-84b1-43316d6ec1b5')\"\n",
              "              title=\"Convert this dataframe to an interactive table.\"\n",
              "              style=\"display:none;\">\n",
              "        \n",
              "  <svg xmlns=\"http://www.w3.org/2000/svg\" height=\"24px\"viewBox=\"0 0 24 24\"\n",
              "       width=\"24px\">\n",
              "    <path d=\"M0 0h24v24H0V0z\" fill=\"none\"/>\n",
              "    <path d=\"M18.56 5.44l.94 2.06.94-2.06 2.06-.94-2.06-.94-.94-2.06-.94 2.06-2.06.94zm-11 1L8.5 8.5l.94-2.06 2.06-.94-2.06-.94L8.5 2.5l-.94 2.06-2.06.94zm10 10l.94 2.06.94-2.06 2.06-.94-2.06-.94-.94-2.06-.94 2.06-2.06.94z\"/><path d=\"M17.41 7.96l-1.37-1.37c-.4-.4-.92-.59-1.43-.59-.52 0-1.04.2-1.43.59L10.3 9.45l-7.72 7.72c-.78.78-.78 2.05 0 2.83L4 21.41c.39.39.9.59 1.41.59.51 0 1.02-.2 1.41-.59l7.78-7.78 2.81-2.81c.8-.78.8-2.07 0-2.86zM5.41 20L4 18.59l7.72-7.72 1.47 1.35L5.41 20z\"/>\n",
              "  </svg>\n",
              "      </button>\n",
              "      \n",
              "  <style>\n",
              "    .colab-df-container {\n",
              "      display:flex;\n",
              "      flex-wrap:wrap;\n",
              "      gap: 12px;\n",
              "    }\n",
              "\n",
              "    .colab-df-convert {\n",
              "      background-color: #E8F0FE;\n",
              "      border: none;\n",
              "      border-radius: 50%;\n",
              "      cursor: pointer;\n",
              "      display: none;\n",
              "      fill: #1967D2;\n",
              "      height: 32px;\n",
              "      padding: 0 0 0 0;\n",
              "      width: 32px;\n",
              "    }\n",
              "\n",
              "    .colab-df-convert:hover {\n",
              "      background-color: #E2EBFA;\n",
              "      box-shadow: 0px 1px 2px rgba(60, 64, 67, 0.3), 0px 1px 3px 1px rgba(60, 64, 67, 0.15);\n",
              "      fill: #174EA6;\n",
              "    }\n",
              "\n",
              "    [theme=dark] .colab-df-convert {\n",
              "      background-color: #3B4455;\n",
              "      fill: #D2E3FC;\n",
              "    }\n",
              "\n",
              "    [theme=dark] .colab-df-convert:hover {\n",
              "      background-color: #434B5C;\n",
              "      box-shadow: 0px 1px 3px 1px rgba(0, 0, 0, 0.15);\n",
              "      filter: drop-shadow(0px 1px 2px rgba(0, 0, 0, 0.3));\n",
              "      fill: #FFFFFF;\n",
              "    }\n",
              "  </style>\n",
              "\n",
              "      <script>\n",
              "        const buttonEl =\n",
              "          document.querySelector('#df-3b2830e6-e121-4dd4-84b1-43316d6ec1b5 button.colab-df-convert');\n",
              "        buttonEl.style.display =\n",
              "          google.colab.kernel.accessAllowed ? 'block' : 'none';\n",
              "\n",
              "        async function convertToInteractive(key) {\n",
              "          const element = document.querySelector('#df-3b2830e6-e121-4dd4-84b1-43316d6ec1b5');\n",
              "          const dataTable =\n",
              "            await google.colab.kernel.invokeFunction('convertToInteractive',\n",
              "                                                     [key], {});\n",
              "          if (!dataTable) return;\n",
              "\n",
              "          const docLinkHtml = 'Like what you see? Visit the ' +\n",
              "            '<a target=\"_blank\" href=https://colab.research.google.com/notebooks/data_table.ipynb>data table notebook</a>'\n",
              "            + ' to learn more about interactive tables.';\n",
              "          element.innerHTML = '';\n",
              "          dataTable['output_type'] = 'display_data';\n",
              "          await google.colab.output.renderOutput(dataTable, element);\n",
              "          const docLink = document.createElement('div');\n",
              "          docLink.innerHTML = docLinkHtml;\n",
              "          element.appendChild(docLink);\n",
              "        }\n",
              "      </script>\n",
              "    </div>\n",
              "  </div>\n",
              "  "
            ]
          },
          "metadata": {},
          "execution_count": 40
        }
      ]
    },
    {
      "cell_type": "code",
      "source": [
        "#Running the 1 way anova \n",
        "f_oneway(stripSearchs['Sex'], stripSearchs['StripSearch'])"
      ],
      "metadata": {
        "colab": {
          "base_uri": "https://localhost:8080/"
        },
        "id": "xjMM5DMrYca2",
        "outputId": "aa6fa227-b33b-433a-e96c-e886cb4b4cac"
      },
      "execution_count": 41,
      "outputs": [
        {
          "output_type": "execute_result",
          "data": {
            "text/plain": [
              "F_onewayResult(statistic=19.858378400459383, pvalue=1.2888886143426989e-05)"
            ]
          },
          "metadata": {},
          "execution_count": 41
        }
      ]
    },
    {
      "cell_type": "code",
      "source": [
        "tukey = pairwise_tukeyhsd(endog=stripSearchs[\"StripSearch\"], groups=stripSearchs['Sex'], alpha=0.05)\n",
        "print(tukey)"
      ],
      "metadata": {
        "colab": {
          "base_uri": "https://localhost:8080/"
        },
        "id": "ZCAnBQJLYhBo",
        "outputId": "985e228d-08b0-42fd-d98b-9fedcef492e3"
      },
      "execution_count": 42,
      "outputs": [
        {
          "output_type": "stream",
          "name": "stdout",
          "text": [
            "  Multiple Comparison of Means - Tukey HSD, FWER=0.05  \n",
            "=======================================================\n",
            "group1 group2 meandiff p-adj    lower    upper   reject\n",
            "-------------------------------------------------------\n",
            "     0      1  93.4643 0.0045   24.9176  162.011   True\n",
            "     0      2 -22.9107    0.9 -168.3202 122.4987  False\n",
            "     1      2 -116.375 0.1432 -261.7845  29.0345  False\n",
            "-------------------------------------------------------\n"
          ]
        }
      ]
    },
    {
      "cell_type": "code",
      "source": [
        "bookedRaceSexIntModel = ols('Booked ~ C(Sex) + C(Perceived_Race) + C(Sex):C(Perceived_Race)', data = stripSearchs).fit()\n",
        "sm.stats.anova_lm(bookedRaceSexIntModel, typ=2)"
      ],
      "metadata": {
        "colab": {
          "base_uri": "https://localhost:8080/",
          "height": 246
        },
        "id": "a2VdnU5zYiaw",
        "outputId": "7b4eb71f-98da-48a7-9d57-25b86020e708"
      },
      "execution_count": 43,
      "outputs": [
        {
          "output_type": "stream",
          "name": "stderr",
          "text": [
            "/usr/local/lib/python3.8/dist-packages/statsmodels/base/model.py:1832: ValueWarning: covariance of constraints does not have full rank. The number of constraints is 7, but rank is 3\n",
            "  warnings.warn('covariance of constraints does not have full '\n",
            "/usr/local/lib/python3.8/dist-packages/statsmodels/base/model.py:1832: ValueWarning: covariance of constraints does not have full rank. The number of constraints is 14, but rank is 10\n",
            "  warnings.warn('covariance of constraints does not have full '\n"
          ]
        },
        {
          "output_type": "execute_result",
          "data": {
            "text/plain": [
              "                                sum_sq     df          F    PR(>F)\n",
              "C(Sex)                    5.740725e+06    2.0  13.810559  0.000005\n",
              "C(Perceived_Race)         1.521349e+07    7.0  10.456953  0.000005\n",
              "C(Sex):C(Perceived_Race)  9.086819e+06   14.0   3.122902  0.001659\n",
              "Residual                  2.078383e+07  100.0        NaN       NaN"
            ],
            "text/html": [
              "\n",
              "  <div id=\"df-00169074-83d5-4d9f-be06-4290fb83cdf2\">\n",
              "    <div class=\"colab-df-container\">\n",
              "      <div>\n",
              "<style scoped>\n",
              "    .dataframe tbody tr th:only-of-type {\n",
              "        vertical-align: middle;\n",
              "    }\n",
              "\n",
              "    .dataframe tbody tr th {\n",
              "        vertical-align: top;\n",
              "    }\n",
              "\n",
              "    .dataframe thead th {\n",
              "        text-align: right;\n",
              "    }\n",
              "</style>\n",
              "<table border=\"1\" class=\"dataframe\">\n",
              "  <thead>\n",
              "    <tr style=\"text-align: right;\">\n",
              "      <th></th>\n",
              "      <th>sum_sq</th>\n",
              "      <th>df</th>\n",
              "      <th>F</th>\n",
              "      <th>PR(&gt;F)</th>\n",
              "    </tr>\n",
              "  </thead>\n",
              "  <tbody>\n",
              "    <tr>\n",
              "      <th>C(Sex)</th>\n",
              "      <td>5.740725e+06</td>\n",
              "      <td>2.0</td>\n",
              "      <td>13.810559</td>\n",
              "      <td>0.000005</td>\n",
              "    </tr>\n",
              "    <tr>\n",
              "      <th>C(Perceived_Race)</th>\n",
              "      <td>1.521349e+07</td>\n",
              "      <td>7.0</td>\n",
              "      <td>10.456953</td>\n",
              "      <td>0.000005</td>\n",
              "    </tr>\n",
              "    <tr>\n",
              "      <th>C(Sex):C(Perceived_Race)</th>\n",
              "      <td>9.086819e+06</td>\n",
              "      <td>14.0</td>\n",
              "      <td>3.122902</td>\n",
              "      <td>0.001659</td>\n",
              "    </tr>\n",
              "    <tr>\n",
              "      <th>Residual</th>\n",
              "      <td>2.078383e+07</td>\n",
              "      <td>100.0</td>\n",
              "      <td>NaN</td>\n",
              "      <td>NaN</td>\n",
              "    </tr>\n",
              "  </tbody>\n",
              "</table>\n",
              "</div>\n",
              "      <button class=\"colab-df-convert\" onclick=\"convertToInteractive('df-00169074-83d5-4d9f-be06-4290fb83cdf2')\"\n",
              "              title=\"Convert this dataframe to an interactive table.\"\n",
              "              style=\"display:none;\">\n",
              "        \n",
              "  <svg xmlns=\"http://www.w3.org/2000/svg\" height=\"24px\"viewBox=\"0 0 24 24\"\n",
              "       width=\"24px\">\n",
              "    <path d=\"M0 0h24v24H0V0z\" fill=\"none\"/>\n",
              "    <path d=\"M18.56 5.44l.94 2.06.94-2.06 2.06-.94-2.06-.94-.94-2.06-.94 2.06-2.06.94zm-11 1L8.5 8.5l.94-2.06 2.06-.94-2.06-.94L8.5 2.5l-.94 2.06-2.06.94zm10 10l.94 2.06.94-2.06 2.06-.94-2.06-.94-.94-2.06-.94 2.06-2.06.94z\"/><path d=\"M17.41 7.96l-1.37-1.37c-.4-.4-.92-.59-1.43-.59-.52 0-1.04.2-1.43.59L10.3 9.45l-7.72 7.72c-.78.78-.78 2.05 0 2.83L4 21.41c.39.39.9.59 1.41.59.51 0 1.02-.2 1.41-.59l7.78-7.78 2.81-2.81c.8-.78.8-2.07 0-2.86zM5.41 20L4 18.59l7.72-7.72 1.47 1.35L5.41 20z\"/>\n",
              "  </svg>\n",
              "      </button>\n",
              "      \n",
              "  <style>\n",
              "    .colab-df-container {\n",
              "      display:flex;\n",
              "      flex-wrap:wrap;\n",
              "      gap: 12px;\n",
              "    }\n",
              "\n",
              "    .colab-df-convert {\n",
              "      background-color: #E8F0FE;\n",
              "      border: none;\n",
              "      border-radius: 50%;\n",
              "      cursor: pointer;\n",
              "      display: none;\n",
              "      fill: #1967D2;\n",
              "      height: 32px;\n",
              "      padding: 0 0 0 0;\n",
              "      width: 32px;\n",
              "    }\n",
              "\n",
              "    .colab-df-convert:hover {\n",
              "      background-color: #E2EBFA;\n",
              "      box-shadow: 0px 1px 2px rgba(60, 64, 67, 0.3), 0px 1px 3px 1px rgba(60, 64, 67, 0.15);\n",
              "      fill: #174EA6;\n",
              "    }\n",
              "\n",
              "    [theme=dark] .colab-df-convert {\n",
              "      background-color: #3B4455;\n",
              "      fill: #D2E3FC;\n",
              "    }\n",
              "\n",
              "    [theme=dark] .colab-df-convert:hover {\n",
              "      background-color: #434B5C;\n",
              "      box-shadow: 0px 1px 3px 1px rgba(0, 0, 0, 0.15);\n",
              "      filter: drop-shadow(0px 1px 2px rgba(0, 0, 0, 0.3));\n",
              "      fill: #FFFFFF;\n",
              "    }\n",
              "  </style>\n",
              "\n",
              "      <script>\n",
              "        const buttonEl =\n",
              "          document.querySelector('#df-00169074-83d5-4d9f-be06-4290fb83cdf2 button.colab-df-convert');\n",
              "        buttonEl.style.display =\n",
              "          google.colab.kernel.accessAllowed ? 'block' : 'none';\n",
              "\n",
              "        async function convertToInteractive(key) {\n",
              "          const element = document.querySelector('#df-00169074-83d5-4d9f-be06-4290fb83cdf2');\n",
              "          const dataTable =\n",
              "            await google.colab.kernel.invokeFunction('convertToInteractive',\n",
              "                                                     [key], {});\n",
              "          if (!dataTable) return;\n",
              "\n",
              "          const docLinkHtml = 'Like what you see? Visit the ' +\n",
              "            '<a target=\"_blank\" href=https://colab.research.google.com/notebooks/data_table.ipynb>data table notebook</a>'\n",
              "            + ' to learn more about interactive tables.';\n",
              "          element.innerHTML = '';\n",
              "          dataTable['output_type'] = 'display_data';\n",
              "          await google.colab.output.renderOutput(dataTable, element);\n",
              "          const docLink = document.createElement('div');\n",
              "          docLink.innerHTML = docLinkHtml;\n",
              "          element.appendChild(docLink);\n",
              "        }\n",
              "      </script>\n",
              "    </div>\n",
              "  </div>\n",
              "  "
            ]
          },
          "metadata": {},
          "execution_count": 43
        }
      ]
    },
    {
      "cell_type": "code",
      "source": [
        "#Plot an interaction plot\n",
        "fig = interaction_plot(x = stripSearchs['Perceived_Race'], trace = stripSearchs['Sex'], response = stripSearchs['Booked'])\n",
        "plt.xticks(rotation=45)\n",
        "plt.show()"
      ],
      "metadata": {
        "colab": {
          "base_uri": "https://localhost:8080/",
          "height": 691
        },
        "id": "pL3zCmfiYj3N",
        "outputId": "49dc9ec6-35f4-4348-b6f6-f5fd98f4236c"
      },
      "execution_count": 44,
      "outputs": [
        {
          "output_type": "display_data",
          "data": {
            "text/plain": [
              "<Figure size 1080x720 with 1 Axes>"
            ],
            "image/png": "[encoded data removed]"
          },
          "metadata": {}
        }
      ]
    },
    {
      "cell_type": "code",
      "source": [
        "#Two-way ANOVA without interaction\n",
        "bookedRaceSexModel = ols('Booked ~ C(Sex) + C(Perceived_Race)', data = stripSearchs).fit()\n",
        "sm.stats.anova_lm(bookedRaceSexModel, typ=2)"
      ],
      "metadata": {
        "colab": {
          "base_uri": "https://localhost:8080/",
          "height": 143
        },
        "id": "0EgemDrFYlcS",
        "outputId": "17e3610d-b549-49b9-d6a4-cf5d6a8c3314"
      },
      "execution_count": 45,
      "outputs": [
        {
          "output_type": "execute_result",
          "data": {
            "text/plain": [
              "                         sum_sq     df          F    PR(>F)\n",
              "C(Sex)             6.231389e+06    2.0  12.697245  0.000011\n",
              "C(Perceived_Race)  1.113641e+07    7.0   6.483387  0.000002\n",
              "Residual           2.674680e+07  109.0        NaN       NaN"
            ],
            "text/html": [
              "\n",
              "  <div id=\"df-6babe6d2-aa93-4fa6-ace2-97acf7535662\">\n",
              "    <div class=\"colab-df-container\">\n",
              "      <div>\n",
              "<style scoped>\n",
              "    .dataframe tbody tr th:only-of-type {\n",
              "        vertical-align: middle;\n",
              "    }\n",
              "\n",
              "    .dataframe tbody tr th {\n",
              "        vertical-align: top;\n",
              "    }\n",
              "\n",
              "    .dataframe thead th {\n",
              "        text-align: right;\n",
              "    }\n",
              "</style>\n",
              "<table border=\"1\" class=\"dataframe\">\n",
              "  <thead>\n",
              "    <tr style=\"text-align: right;\">\n",
              "      <th></th>\n",
              "      <th>sum_sq</th>\n",
              "      <th>df</th>\n",
              "      <th>F</th>\n",
              "      <th>PR(&gt;F)</th>\n",
              "    </tr>\n",
              "  </thead>\n",
              "  <tbody>\n",
              "    <tr>\n",
              "      <th>C(Sex)</th>\n",
              "      <td>6.231389e+06</td>\n",
              "      <td>2.0</td>\n",
              "      <td>12.697245</td>\n",
              "      <td>0.000011</td>\n",
              "    </tr>\n",
              "    <tr>\n",
              "      <th>C(Perceived_Race)</th>\n",
              "      <td>1.113641e+07</td>\n",
              "      <td>7.0</td>\n",
              "      <td>6.483387</td>\n",
              "      <td>0.000002</td>\n",
              "    </tr>\n",
              "    <tr>\n",
              "      <th>Residual</th>\n",
              "      <td>2.674680e+07</td>\n",
              "      <td>109.0</td>\n",
              "      <td>NaN</td>\n",
              "      <td>NaN</td>\n",
              "    </tr>\n",
              "  </tbody>\n",
              "</table>\n",
              "</div>\n",
              "      <button class=\"colab-df-convert\" onclick=\"convertToInteractive('df-6babe6d2-aa93-4fa6-ace2-97acf7535662')\"\n",
              "              title=\"Convert this dataframe to an interactive table.\"\n",
              "              style=\"display:none;\">\n",
              "        \n",
              "  <svg xmlns=\"http://www.w3.org/2000/svg\" height=\"24px\"viewBox=\"0 0 24 24\"\n",
              "       width=\"24px\">\n",
              "    <path d=\"M0 0h24v24H0V0z\" fill=\"none\"/>\n",
              "    <path d=\"M18.56 5.44l.94 2.06.94-2.06 2.06-.94-2.06-.94-.94-2.06-.94 2.06-2.06.94zm-11 1L8.5 8.5l.94-2.06 2.06-.94-2.06-.94L8.5 2.5l-.94 2.06-2.06.94zm10 10l.94 2.06.94-2.06 2.06-.94-2.06-.94-.94-2.06-.94 2.06-2.06.94z\"/><path d=\"M17.41 7.96l-1.37-1.37c-.4-.4-.92-.59-1.43-.59-.52 0-1.04.2-1.43.59L10.3 9.45l-7.72 7.72c-.78.78-.78 2.05 0 2.83L4 21.41c.39.39.9.59 1.41.59.51 0 1.02-.2 1.41-.59l7.78-7.78 2.81-2.81c.8-.78.8-2.07 0-2.86zM5.41 20L4 18.59l7.72-7.72 1.47 1.35L5.41 20z\"/>\n",
              "  </svg>\n",
              "      </button>\n",
              "      \n",
              "  <style>\n",
              "    .colab-df-container {\n",
              "      display:flex;\n",
              "      flex-wrap:wrap;\n",
              "      gap: 12px;\n",
              "    }\n",
              "\n",
              "    .colab-df-convert {\n",
              "      background-color: #E8F0FE;\n",
              "      border: none;\n",
              "      border-radius: 50%;\n",
              "      cursor: pointer;\n",
              "      display: none;\n",
              "      fill: #1967D2;\n",
              "      height: 32px;\n",
              "      padding: 0 0 0 0;\n",
              "      width: 32px;\n",
              "    }\n",
              "\n",
              "    .colab-df-convert:hover {\n",
              "      background-color: #E2EBFA;\n",
              "      box-shadow: 0px 1px 2px rgba(60, 64, 67, 0.3), 0px 1px 3px 1px rgba(60, 64, 67, 0.15);\n",
              "      fill: #174EA6;\n",
              "    }\n",
              "\n",
              "    [theme=dark] .colab-df-convert {\n",
              "      background-color: #3B4455;\n",
              "      fill: #D2E3FC;\n",
              "    }\n",
              "\n",
              "    [theme=dark] .colab-df-convert:hover {\n",
              "      background-color: #434B5C;\n",
              "      box-shadow: 0px 1px 3px 1px rgba(0, 0, 0, 0.15);\n",
              "      filter: drop-shadow(0px 1px 2px rgba(0, 0, 0, 0.3));\n",
              "      fill: #FFFFFF;\n",
              "    }\n",
              "  </style>\n",
              "\n",
              "      <script>\n",
              "        const buttonEl =\n",
              "          document.querySelector('#df-6babe6d2-aa93-4fa6-ace2-97acf7535662 button.colab-df-convert');\n",
              "        buttonEl.style.display =\n",
              "          google.colab.kernel.accessAllowed ? 'block' : 'none';\n",
              "\n",
              "        async function convertToInteractive(key) {\n",
              "          const element = document.querySelector('#df-6babe6d2-aa93-4fa6-ace2-97acf7535662');\n",
              "          const dataTable =\n",
              "            await google.colab.kernel.invokeFunction('convertToInteractive',\n",
              "                                                     [key], {});\n",
              "          if (!dataTable) return;\n",
              "\n",
              "          const docLinkHtml = 'Like what you see? Visit the ' +\n",
              "            '<a target=\"_blank\" href=https://colab.research.google.com/notebooks/data_table.ipynb>data table notebook</a>'\n",
              "            + ' to learn more about interactive tables.';\n",
              "          element.innerHTML = '';\n",
              "          dataTable['output_type'] = 'display_data';\n",
              "          await google.colab.output.renderOutput(dataTable, element);\n",
              "          const docLink = document.createElement('div');\n",
              "          docLink.innerHTML = docLinkHtml;\n",
              "          element.appendChild(docLink);\n",
              "        }\n",
              "      </script>\n",
              "    </div>\n",
              "  </div>\n",
              "  "
            ]
          },
          "metadata": {},
          "execution_count": 45
        }
      ]
    },
    {
      "cell_type": "code",
      "source": [
        "f_oneway(stripSearchs['Sex'], stripSearchs['StripSearch'])"
      ],
      "metadata": {
        "colab": {
          "base_uri": "https://localhost:8080/"
        },
        "id": "I6-nDD9XYnQI",
        "outputId": "102b0c45-a9b0-4742-b600-203b47911d5e"
      },
      "execution_count": 55,
      "outputs": [
        {
          "output_type": "execute_result",
          "data": {
            "text/plain": [
              "F_onewayResult(statistic=19.858378400459383, pvalue=1.2888886143426989e-05)"
            ]
          },
          "metadata": {},
          "execution_count": 55
        }
      ]
    },
    {
      "cell_type": "code",
      "source": [],
      "metadata": {
        "id": "YBdVsA25a8Nf"
      },
      "execution_count": 57,
      "outputs": []
    },
    {
      "cell_type": "code",
      "source": [
        "# Tukeys HSD test\n",
        "tukey = pairwise_tukeyhsd(endog=stripSearchs[\"StripSearch\"], groups=stripSearchs['Sex'], alpha=0.05)\n",
        "print(tukey)"
      ],
      "metadata": {
        "colab": {
          "base_uri": "https://localhost:8080/"
        },
        "id": "8iRzNZK7YomQ",
        "outputId": "e443b507-ddb5-4435-dfa7-673b25291107"
      },
      "execution_count": 58,
      "outputs": [
        {
          "output_type": "stream",
          "name": "stdout",
          "text": [
            "  Multiple Comparison of Means - Tukey HSD, FWER=0.05  \n",
            "=======================================================\n",
            "group1 group2 meandiff p-adj    lower    upper   reject\n",
            "-------------------------------------------------------\n",
            "     0      1  93.4643 0.0045   24.9176  162.011   True\n",
            "     0      2 -22.9107    0.9 -168.3202 122.4987  False\n",
            "     1      2 -116.375 0.1432 -261.7845  29.0345  False\n",
            "-------------------------------------------------------\n"
          ]
        }
      ]
    },
    {
      "cell_type": "code",
      "source": [
        "f_oneway(stripSearchs['StripSearch'], stripSearchs['Booked'])"
      ],
      "metadata": {
        "colab": {
          "base_uri": "https://localhost:8080/"
        },
        "id": "7NK4Va4AYqso",
        "outputId": "9ddefcd7-45a8-4442-c824-653e5869e040"
      },
      "execution_count": 48,
      "outputs": [
        {
          "output_type": "execute_result",
          "data": {
            "text/plain": [
              "F_onewayResult(statistic=14.63911012133458, pvalue=0.00016673619017817636)"
            ]
          },
          "metadata": {},
          "execution_count": 48
        }
      ]
    },
    {
      "cell_type": "code",
      "source": [
        "#Two-way ANOVA without interaction\n",
        "stripRaceSexModel = ols('Booked ~ C(StripSearch) + C(Perceived_Race)', data = stripSearchs).fit()\n",
        "sm.stats.anova_lm(stripRaceSexModel, typ=2)"
      ],
      "metadata": {
        "colab": {
          "base_uri": "https://localhost:8080/",
          "height": 143
        },
        "id": "VkWFIQSBYsuT",
        "outputId": "e744fd72-a1a0-4e34-96b3-693c474c7870"
      },
      "execution_count": 49,
      "outputs": [
        {
          "output_type": "execute_result",
          "data": {
            "text/plain": [
              "                         sum_sq    df           F        PR(>F)\n",
              "C(StripSearch)     3.291711e+07  53.0  589.751877  1.357488e-64\n",
              "C(Perceived_Race)  1.674163e+04   7.0    2.271032  4.096870e-02\n",
              "Residual           6.108077e+04  58.0         NaN           NaN"
            ],
            "text/html": [
              "\n",
              "  <div id=\"df-0530d79e-81d4-474b-96f6-762c7f988a06\">\n",
              "    <div class=\"colab-df-container\">\n",
              "      <div>\n",
              "<style scoped>\n",
              "    .dataframe tbody tr th:only-of-type {\n",
              "        vertical-align: middle;\n",
              "    }\n",
              "\n",
              "    .dataframe tbody tr th {\n",
              "        vertical-align: top;\n",
              "    }\n",
              "\n",
              "    .dataframe thead th {\n",
              "        text-align: right;\n",
              "    }\n",
              "</style>\n",
              "<table border=\"1\" class=\"dataframe\">\n",
              "  <thead>\n",
              "    <tr style=\"text-align: right;\">\n",
              "      <th></th>\n",
              "      <th>sum_sq</th>\n",
              "      <th>df</th>\n",
              "      <th>F</th>\n",
              "      <th>PR(&gt;F)</th>\n",
              "    </tr>\n",
              "  </thead>\n",
              "  <tbody>\n",
              "    <tr>\n",
              "      <th>C(StripSearch)</th>\n",
              "      <td>3.291711e+07</td>\n",
              "      <td>53.0</td>\n",
              "      <td>589.751877</td>\n",
              "      <td>1.357488e-64</td>\n",
              "    </tr>\n",
              "    <tr>\n",
              "      <th>C(Perceived_Race)</th>\n",
              "      <td>1.674163e+04</td>\n",
              "      <td>7.0</td>\n",
              "      <td>2.271032</td>\n",
              "      <td>4.096870e-02</td>\n",
              "    </tr>\n",
              "    <tr>\n",
              "      <th>Residual</th>\n",
              "      <td>6.108077e+04</td>\n",
              "      <td>58.0</td>\n",
              "      <td>NaN</td>\n",
              "      <td>NaN</td>\n",
              "    </tr>\n",
              "  </tbody>\n",
              "</table>\n",
              "</div>\n",
              "      <button class=\"colab-df-convert\" onclick=\"convertToInteractive('df-0530d79e-81d4-474b-96f6-762c7f988a06')\"\n",
              "              title=\"Convert this dataframe to an interactive table.\"\n",
              "              style=\"display:none;\">\n",
              "        \n",
              "  <svg xmlns=\"http://www.w3.org/2000/svg\" height=\"24px\"viewBox=\"0 0 24 24\"\n",
              "       width=\"24px\">\n",
              "    <path d=\"M0 0h24v24H0V0z\" fill=\"none\"/>\n",
              "    <path d=\"M18.56 5.44l.94 2.06.94-2.06 2.06-.94-2.06-.94-.94-2.06-.94 2.06-2.06.94zm-11 1L8.5 8.5l.94-2.06 2.06-.94-2.06-.94L8.5 2.5l-.94 2.06-2.06.94zm10 10l.94 2.06.94-2.06 2.06-.94-2.06-.94-.94-2.06-.94 2.06-2.06.94z\"/><path d=\"M17.41 7.96l-1.37-1.37c-.4-.4-.92-.59-1.43-.59-.52 0-1.04.2-1.43.59L10.3 9.45l-7.72 7.72c-.78.78-.78 2.05 0 2.83L4 21.41c.39.39.9.59 1.41.59.51 0 1.02-.2 1.41-.59l7.78-7.78 2.81-2.81c.8-.78.8-2.07 0-2.86zM5.41 20L4 18.59l7.72-7.72 1.47 1.35L5.41 20z\"/>\n",
              "  </svg>\n",
              "      </button>\n",
              "      \n",
              "  <style>\n",
              "    .colab-df-container {\n",
              "      display:flex;\n",
              "      flex-wrap:wrap;\n",
              "      gap: 12px;\n",
              "    }\n",
              "\n",
              "    .colab-df-convert {\n",
              "      background-color: #E8F0FE;\n",
              "      border: none;\n",
              "      border-radius: 50%;\n",
              "      cursor: pointer;\n",
              "      display: none;\n",
              "      fill: #1967D2;\n",
              "      height: 32px;\n",
              "      padding: 0 0 0 0;\n",
              "      width: 32px;\n",
              "    }\n",
              "\n",
              "    .colab-df-convert:hover {\n",
              "      background-color: #E2EBFA;\n",
              "      box-shadow: 0px 1px 2px rgba(60, 64, 67, 0.3), 0px 1px 3px 1px rgba(60, 64, 67, 0.15);\n",
              "      fill: #174EA6;\n",
              "    }\n",
              "\n",
              "    [theme=dark] .colab-df-convert {\n",
              "      background-color: #3B4455;\n",
              "      fill: #D2E3FC;\n",
              "    }\n",
              "\n",
              "    [theme=dark] .colab-df-convert:hover {\n",
              "      background-color: #434B5C;\n",
              "      box-shadow: 0px 1px 3px 1px rgba(0, 0, 0, 0.15);\n",
              "      filter: drop-shadow(0px 1px 2px rgba(0, 0, 0, 0.3));\n",
              "      fill: #FFFFFF;\n",
              "    }\n",
              "  </style>\n",
              "\n",
              "      <script>\n",
              "        const buttonEl =\n",
              "          document.querySelector('#df-0530d79e-81d4-474b-96f6-762c7f988a06 button.colab-df-convert');\n",
              "        buttonEl.style.display =\n",
              "          google.colab.kernel.accessAllowed ? 'block' : 'none';\n",
              "\n",
              "        async function convertToInteractive(key) {\n",
              "          const element = document.querySelector('#df-0530d79e-81d4-474b-96f6-762c7f988a06');\n",
              "          const dataTable =\n",
              "            await google.colab.kernel.invokeFunction('convertToInteractive',\n",
              "                                                     [key], {});\n",
              "          if (!dataTable) return;\n",
              "\n",
              "          const docLinkHtml = 'Like what you see? Visit the ' +\n",
              "            '<a target=\"_blank\" href=https://colab.research.google.com/notebooks/data_table.ipynb>data table notebook</a>'\n",
              "            + ' to learn more about interactive tables.';\n",
              "          element.innerHTML = '';\n",
              "          dataTable['output_type'] = 'display_data';\n",
              "          await google.colab.output.renderOutput(dataTable, element);\n",
              "          const docLink = document.createElement('div');\n",
              "          docLink.innerHTML = docLinkHtml;\n",
              "          element.appendChild(docLink);\n",
              "        }\n",
              "      </script>\n",
              "    </div>\n",
              "  </div>\n",
              "  "
            ]
          },
          "metadata": {},
          "execution_count": 49
        }
      ]
    },
    {
      "cell_type": "code",
      "source": [
        "tukey = pairwise_tukeyhsd(endog=stripSearchs[\"Booked\"], groups=stripSearchs['Sex'], alpha=0.05)\n",
        "print(tukey)"
      ],
      "metadata": {
        "colab": {
          "base_uri": "https://localhost:8080/"
        },
        "id": "Ch9-YoshYuCU",
        "outputId": "d9d6f7f0-b6bd-41c9-c1a8-f37250e3d182"
      },
      "execution_count": 50,
      "outputs": [
        {
          "output_type": "stream",
          "name": "stdout",
          "text": [
            "   Multiple Comparison of Means - Tukey HSD, FWER=0.05   \n",
            "=========================================================\n",
            "group1 group2  meandiff p-adj    lower     upper   reject\n",
            "---------------------------------------------------------\n",
            "     0      1  409.3036  0.001   152.8789 665.7282   True\n",
            "     0      2  -97.7679    0.9  -641.7267  446.191  False\n",
            "     1      2 -507.0714 0.0732 -1051.0303  36.8874  False\n",
            "---------------------------------------------------------\n"
          ]
        }
      ]
    },
    {
      "cell_type": "code",
      "source": [
        "tukey = pairwise_tukeyhsd(endog=stripSearchs[\"StripSearch\"], groups=stripSearchs['Perceived_Race'], alpha=0.05)\n",
        "print(tukey)"
      ],
      "metadata": {
        "colab": {
          "base_uri": "https://localhost:8080/"
        },
        "id": "M_kfoYrVYvh8",
        "outputId": "fc12cf0d-072f-4bf9-bc3d-d53a8c0aa489"
      },
      "execution_count": 52,
      "outputs": [
        {
          "output_type": "stream",
          "name": "stdout",
          "text": [
            "                Multiple Comparison of Means - Tukey HSD, FWER=0.05                 \n",
            "====================================================================================\n",
            "       group1               group2         meandiff p-adj    lower    upper   reject\n",
            "------------------------------------------------------------------------------------\n",
            "               Black East/Southeast Asian    -149.5 0.1168 -316.9357  17.9357  False\n",
            "               Black           Indigenous    -152.0 0.1044 -319.4357  15.4357  False\n",
            "               Black               Latino -165.0571 0.0489 -329.6786  -0.4357   True\n",
            "               Black       Middle-Eastern -157.5714 0.0811 -325.0071   9.8643  False\n",
            "               Black          South Asian    -155.5 0.0888 -322.9357  11.9357  False\n",
            "               Black    Unknown or Legacy -142.3277 0.1191  -302.206  17.5505  False\n",
            "               Black                White   35.9076    0.9 -123.9707 195.7858  False\n",
            "East/Southeast Asian           Indigenous      -2.5    0.9 -169.9357 164.9357  False\n",
            "East/Southeast Asian               Latino  -15.5571    0.9 -180.1786 149.0643  False\n",
            "East/Southeast Asian       Middle-Eastern   -8.0714    0.9 -175.5071 159.3643  False\n",
            "East/Southeast Asian          South Asian      -6.0    0.9 -173.4357 161.4357  False\n",
            "East/Southeast Asian    Unknown or Legacy    7.1723    0.9  -152.706 167.0505  False\n",
            "East/Southeast Asian                White  185.4076 0.0115   25.5293 345.2858   True\n",
            "          Indigenous               Latino  -13.0571    0.9 -177.6786 151.5643  False\n",
            "          Indigenous       Middle-Eastern   -5.5714    0.9 -173.0071 161.8643  False\n",
            "          Indigenous          South Asian      -3.5    0.9 -170.9357 163.9357  False\n",
            "          Indigenous    Unknown or Legacy    9.6723    0.9  -150.206 169.5505  False\n",
            "          Indigenous                White  187.9076 0.0098   28.0293 347.7858   True\n",
            "              Latino       Middle-Eastern    7.4857    0.9 -157.1357 172.1072  False\n",
            "              Latino          South Asian    9.5571    0.9 -155.0643 174.1786  False\n",
            "              Latino    Unknown or Legacy   22.7294    0.9 -134.1991  179.658  False\n",
            "              Latino                White  200.9647 0.0033   44.0362 357.8933   True\n",
            "      Middle-Eastern          South Asian    2.0714    0.9 -165.3643 169.5071  False\n",
            "      Middle-Eastern    Unknown or Legacy   15.2437    0.9 -144.6346  175.122  False\n",
            "      Middle-Eastern                White   193.479 0.0069   33.6007 353.3573   True\n",
            "         South Asian    Unknown or Legacy   13.1723    0.9  -146.706 173.0505  False\n",
            "         South Asian                White  191.4076 0.0079   31.5293 351.2858   True\n",
            "   Unknown or Legacy                White  178.2353 0.0101   26.2899 330.1807   True\n",
            "------------------------------------------------------------------------------------\n"
          ]
        }
      ]
    },
    {
      "cell_type": "code",
      "source": [],
      "metadata": {
        "id": "8LJl9wEzYwsI"
      },
      "execution_count": null,
      "outputs": []
    }
  ]
}