{
 "cells": [
  {
   "cell_type": "markdown",
   "id": "6f677184",
   "metadata": {},
   "source": [
    "####         INF2178 Midterm Code - Effect of Multiple Factors on the Level of Cooperation at the Time of Arrest\n",
    "####    This code is contributed by Laien Zhou (1005490434) and Yuelin Liu (1003175164)"
   ]
  },
  {
   "cell_type": "markdown",
   "id": "322a2de2",
   "metadata": {},
   "source": [
    "### Import modules"
   ]
  },
  {
   "cell_type": "code",
   "execution_count": 1,
   "id": "28b0adf2",
   "metadata": {},
   "outputs": [
    {
     "name": "stdout",
     "output_type": "stream",
     "text": [
      "Requirement already satisfied: scikit_posthocs in c:\\users\\yueli\\anaconda3\\lib\\site-packages (0.7.0)\n",
      "Requirement already satisfied: seaborn in c:\\users\\yueli\\anaconda3\\lib\\site-packages (from scikit_posthocs) (0.11.2)\n",
      "Requirement already satisfied: matplotlib in c:\\users\\yueli\\anaconda3\\lib\\site-packages (from scikit_posthocs) (3.4.3)\n",
      "Requirement already satisfied: numpy in c:\\users\\yueli\\anaconda3\\lib\\site-packages (from scikit_posthocs) (1.20.3)\n",
      "Requirement already satisfied: scipy in c:\\users\\yueli\\anaconda3\\lib\\site-packages (from scikit_posthocs) (1.7.1)\n",
      "Requirement already satisfied: pandas>=0.20.0 in c:\\users\\yueli\\anaconda3\\lib\\site-packages (from scikit_posthocs) (1.3.4)\n",
      "Requirement already satisfied: statsmodels in c:\\users\\yueli\\anaconda3\\lib\\site-packages (from scikit_posthocs) (0.12.2)\n",
      "Requirement already satisfied: python-dateutil>=2.7.3 in c:\\users\\yueli\\anaconda3\\lib\\site-packages (from pandas>=0.20.0->scikit_posthocs) (2.8.2)\n",
      "Requirement already satisfied: pytz>=2017.3 in c:\\users\\yueli\\anaconda3\\lib\\site-packages (from pandas>=0.20.0->scikit_posthocs) (2021.3)\n",
      "Requirement already satisfied: six>=1.5 in c:\\users\\yueli\\anaconda3\\lib\\site-packages (from python-dateutil>=2.7.3->pandas>=0.20.0->scikit_posthocs) (1.16.0)\n",
      "Requirement already satisfied: cycler>=0.10 in c:\\users\\yueli\\anaconda3\\lib\\site-packages (from matplotlib->scikit_posthocs) (0.10.0)\n",
      "Requirement already satisfied: pyparsing>=2.2.1 in c:\\users\\yueli\\anaconda3\\lib\\site-packages (from matplotlib->scikit_posthocs) (3.0.4)\n",
      "Requirement already satisfied: pillow>=6.2.0 in c:\\users\\yueli\\anaconda3\\lib\\site-packages (from matplotlib->scikit_posthocs) (8.4.0)\n",
      "Requirement already satisfied: kiwisolver>=1.0.1 in c:\\users\\yueli\\anaconda3\\lib\\site-packages (from matplotlib->scikit_posthocs) (1.3.1)\n",
      "Requirement already satisfied: patsy>=0.5 in c:\\users\\yueli\\anaconda3\\lib\\site-packages (from statsmodels->scikit_posthocs) (0.5.2)\n",
      "Requirement already satisfied: researchpy in c:\\users\\yueli\\anaconda3\\lib\\site-packages (0.3.5)\n",
      "Requirement already satisfied: scipy in c:\\users\\yueli\\anaconda3\\lib\\site-packages (from researchpy) (1.7.1)\n",
      "Requirement already satisfied: numpy in c:\\users\\yueli\\anaconda3\\lib\\site-packages (from researchpy) (1.20.3)\n",
      "Requirement already satisfied: pandas in c:\\users\\yueli\\anaconda3\\lib\\site-packages (from researchpy) (1.3.4)\n",
      "Requirement already satisfied: patsy in c:\\users\\yueli\\anaconda3\\lib\\site-packages (from researchpy) (0.5.2)\n",
      "Requirement already satisfied: statsmodels in c:\\users\\yueli\\anaconda3\\lib\\site-packages (from researchpy) (0.12.2)\n",
      "Requirement already satisfied: python-dateutil>=2.7.3 in c:\\users\\yueli\\anaconda3\\lib\\site-packages (from pandas->researchpy) (2.8.2)\n",
      "Requirement already satisfied: pytz>=2017.3 in c:\\users\\yueli\\anaconda3\\lib\\site-packages (from pandas->researchpy) (2021.3)\n",
      "Requirement already satisfied: six>=1.5 in c:\\users\\yueli\\anaconda3\\lib\\site-packages (from python-dateutil>=2.7.3->pandas->researchpy) (1.16.0)\n"
     ]
    }
   ],
   "source": [
    "import pandas as pd\n",
    "import numpy as np\n",
    "import matplotlib.pyplot as plt\n",
    "import seaborn as sns\n",
    "%matplotlib inline \n",
    "import statsmodels\n",
    "from scipy import stats\n",
    "from scipy.stats import levene\n",
    "import scipy.stats\n",
    "import math\n",
    "import random\n",
    "import statistics\n",
    "import scipy.stats as sp\n",
    "from sklearn import linear_model\n",
    "import statsmodels.api as sm\n",
    "import seaborn as sns\n",
    "import statsmodels.stats.api as sms\n",
    "\n",
    "!pip install scikit_posthocs\n",
    "!pip install researchpy\n",
    "import researchpy as rp"
   ]
  },
  {
   "cell_type": "markdown",
   "id": "b3863d59",
   "metadata": {},
   "source": [
    "### Exploratory Data Analysis (EDA):\n",
    "#### includes descriptive statistics, t-tests, state your hypotheses for your t-tests"
   ]
  },
  {
   "cell_type": "code",
   "execution_count": 2,
   "id": "0e09e5ce",
   "metadata": {},
   "outputs": [],
   "source": [
    "# read the data\n",
    "df = pd.read_csv(\"https://raw.githubusercontent.com/LaienZhou/inf2178-expdesignfordatascience-w23/main/project%20dataset/Arrests_and_Strip_Searches_(RBDC-ARR-TBL-001).csv\")"
   ]
  },
  {
   "cell_type": "code",
   "execution_count": 3,
   "id": "da3b9b6d",
   "metadata": {},
   "outputs": [
    {
     "data": {
      "text/html": [
       "<div>\n",
       "<style scoped>\n",
       "    .dataframe tbody tr th:only-of-type {\n",
       "        vertical-align: middle;\n",
       "    }\n",
       "\n",
       "    .dataframe tbody tr th {\n",
       "        vertical-align: top;\n",
       "    }\n",
       "\n",
       "    .dataframe thead th {\n",
       "        text-align: right;\n",
       "    }\n",
       "</style>\n",
       "<table border=\"1\" class=\"dataframe\">\n",
       "  <thead>\n",
       "    <tr style=\"text-align: right;\">\n",
       "      <th></th>\n",
       "      <th>Arrest_Year</th>\n",
       "      <th>Arrest_Month</th>\n",
       "      <th>EventID</th>\n",
       "      <th>ArrestID</th>\n",
       "      <th>PersonID</th>\n",
       "      <th>Perceived_Race</th>\n",
       "      <th>Sex</th>\n",
       "      <th>Age_group__at_arrest_</th>\n",
       "      <th>Youth_at_arrest__under_18_years</th>\n",
       "      <th>ArrestLocDiv</th>\n",
       "      <th>...</th>\n",
       "      <th>Actions_at_arrest___Resisted__d</th>\n",
       "      <th>Actions_at_arrest___Mental_inst</th>\n",
       "      <th>Actions_at_arrest___Assaulted_o</th>\n",
       "      <th>Actions_at_arrest___Cooperative</th>\n",
       "      <th>SearchReason_CauseInjury</th>\n",
       "      <th>SearchReason_AssistEscape</th>\n",
       "      <th>SearchReason_PossessWeapons</th>\n",
       "      <th>SearchReason_PossessEvidence</th>\n",
       "      <th>ItemsFound</th>\n",
       "      <th>ObjectId</th>\n",
       "    </tr>\n",
       "  </thead>\n",
       "  <tbody>\n",
       "    <tr>\n",
       "      <th>0</th>\n",
       "      <td>2020</td>\n",
       "      <td>July-Sept</td>\n",
       "      <td>1005907</td>\n",
       "      <td>6017884.0</td>\n",
       "      <td>326622</td>\n",
       "      <td>White</td>\n",
       "      <td>M</td>\n",
       "      <td>Aged 35 to 44 years</td>\n",
       "      <td>Not a youth</td>\n",
       "      <td>54</td>\n",
       "      <td>...</td>\n",
       "      <td>0</td>\n",
       "      <td>0</td>\n",
       "      <td>0</td>\n",
       "      <td>1</td>\n",
       "      <td>NaN</td>\n",
       "      <td>NaN</td>\n",
       "      <td>NaN</td>\n",
       "      <td>NaN</td>\n",
       "      <td>NaN</td>\n",
       "      <td>1</td>\n",
       "    </tr>\n",
       "    <tr>\n",
       "      <th>1</th>\n",
       "      <td>2020</td>\n",
       "      <td>July-Sept</td>\n",
       "      <td>1014562</td>\n",
       "      <td>6056669.0</td>\n",
       "      <td>326622</td>\n",
       "      <td>White</td>\n",
       "      <td>M</td>\n",
       "      <td>Aged 35 to 44 years</td>\n",
       "      <td>Not a youth</td>\n",
       "      <td>54</td>\n",
       "      <td>...</td>\n",
       "      <td>0</td>\n",
       "      <td>0</td>\n",
       "      <td>0</td>\n",
       "      <td>0</td>\n",
       "      <td>NaN</td>\n",
       "      <td>NaN</td>\n",
       "      <td>NaN</td>\n",
       "      <td>NaN</td>\n",
       "      <td>NaN</td>\n",
       "      <td>2</td>\n",
       "    </tr>\n",
       "    <tr>\n",
       "      <th>3</th>\n",
       "      <td>2021</td>\n",
       "      <td>Jan-Mar</td>\n",
       "      <td>1052190</td>\n",
       "      <td>6029059.0</td>\n",
       "      <td>327535</td>\n",
       "      <td>Black</td>\n",
       "      <td>M</td>\n",
       "      <td>Aged 25 to 34 years</td>\n",
       "      <td>Not a youth</td>\n",
       "      <td>XX</td>\n",
       "      <td>...</td>\n",
       "      <td>0</td>\n",
       "      <td>0</td>\n",
       "      <td>0</td>\n",
       "      <td>0</td>\n",
       "      <td>NaN</td>\n",
       "      <td>NaN</td>\n",
       "      <td>NaN</td>\n",
       "      <td>NaN</td>\n",
       "      <td>NaN</td>\n",
       "      <td>4</td>\n",
       "    </tr>\n",
       "    <tr>\n",
       "      <th>4</th>\n",
       "      <td>2021</td>\n",
       "      <td>Jan-Mar</td>\n",
       "      <td>1015512</td>\n",
       "      <td>6040372.0</td>\n",
       "      <td>327535</td>\n",
       "      <td>South Asian</td>\n",
       "      <td>M</td>\n",
       "      <td>Aged 25 to 34 years</td>\n",
       "      <td>Not a youth</td>\n",
       "      <td>XX</td>\n",
       "      <td>...</td>\n",
       "      <td>0</td>\n",
       "      <td>0</td>\n",
       "      <td>0</td>\n",
       "      <td>0</td>\n",
       "      <td>NaN</td>\n",
       "      <td>NaN</td>\n",
       "      <td>NaN</td>\n",
       "      <td>NaN</td>\n",
       "      <td>NaN</td>\n",
       "      <td>5</td>\n",
       "    </tr>\n",
       "    <tr>\n",
       "      <th>5</th>\n",
       "      <td>2021</td>\n",
       "      <td>Apr-June</td>\n",
       "      <td>1019145</td>\n",
       "      <td>6060688.0</td>\n",
       "      <td>327535</td>\n",
       "      <td>South Asian</td>\n",
       "      <td>M</td>\n",
       "      <td>Aged 25 to 34 years</td>\n",
       "      <td>Not a youth</td>\n",
       "      <td>42</td>\n",
       "      <td>...</td>\n",
       "      <td>0</td>\n",
       "      <td>0</td>\n",
       "      <td>0</td>\n",
       "      <td>1</td>\n",
       "      <td>NaN</td>\n",
       "      <td>NaN</td>\n",
       "      <td>NaN</td>\n",
       "      <td>NaN</td>\n",
       "      <td>NaN</td>\n",
       "      <td>6</td>\n",
       "    </tr>\n",
       "    <tr>\n",
       "      <th>...</th>\n",
       "      <td>...</td>\n",
       "      <td>...</td>\n",
       "      <td>...</td>\n",
       "      <td>...</td>\n",
       "      <td>...</td>\n",
       "      <td>...</td>\n",
       "      <td>...</td>\n",
       "      <td>...</td>\n",
       "      <td>...</td>\n",
       "      <td>...</td>\n",
       "      <td>...</td>\n",
       "      <td>...</td>\n",
       "      <td>...</td>\n",
       "      <td>...</td>\n",
       "      <td>...</td>\n",
       "      <td>...</td>\n",
       "      <td>...</td>\n",
       "      <td>...</td>\n",
       "      <td>...</td>\n",
       "      <td>...</td>\n",
       "      <td>...</td>\n",
       "    </tr>\n",
       "    <tr>\n",
       "      <th>65270</th>\n",
       "      <td>2021</td>\n",
       "      <td>Oct-Dec</td>\n",
       "      <td>1046034</td>\n",
       "      <td>6029720.0</td>\n",
       "      <td>311475</td>\n",
       "      <td>White</td>\n",
       "      <td>F</td>\n",
       "      <td>Aged 25 to 34 years</td>\n",
       "      <td>Not a youth</td>\n",
       "      <td>XX</td>\n",
       "      <td>...</td>\n",
       "      <td>0</td>\n",
       "      <td>0</td>\n",
       "      <td>0</td>\n",
       "      <td>0</td>\n",
       "      <td>NaN</td>\n",
       "      <td>NaN</td>\n",
       "      <td>NaN</td>\n",
       "      <td>NaN</td>\n",
       "      <td>NaN</td>\n",
       "      <td>65271</td>\n",
       "    </tr>\n",
       "    <tr>\n",
       "      <th>65271</th>\n",
       "      <td>2021</td>\n",
       "      <td>Oct-Dec</td>\n",
       "      <td>1055609</td>\n",
       "      <td>6044336.0</td>\n",
       "      <td>316123</td>\n",
       "      <td>Indigenous</td>\n",
       "      <td>F</td>\n",
       "      <td>Aged 25 to 34 years</td>\n",
       "      <td>Not a youth</td>\n",
       "      <td>XX</td>\n",
       "      <td>...</td>\n",
       "      <td>1</td>\n",
       "      <td>0</td>\n",
       "      <td>0</td>\n",
       "      <td>0</td>\n",
       "      <td>NaN</td>\n",
       "      <td>NaN</td>\n",
       "      <td>NaN</td>\n",
       "      <td>NaN</td>\n",
       "      <td>NaN</td>\n",
       "      <td>65272</td>\n",
       "    </tr>\n",
       "    <tr>\n",
       "      <th>65272</th>\n",
       "      <td>2021</td>\n",
       "      <td>Oct-Dec</td>\n",
       "      <td>1032758</td>\n",
       "      <td>6031692.0</td>\n",
       "      <td>307736</td>\n",
       "      <td>South Asian</td>\n",
       "      <td>M</td>\n",
       "      <td>Aged 35 to 44 years</td>\n",
       "      <td>Not a youth</td>\n",
       "      <td>54</td>\n",
       "      <td>...</td>\n",
       "      <td>0</td>\n",
       "      <td>0</td>\n",
       "      <td>0</td>\n",
       "      <td>0</td>\n",
       "      <td>NaN</td>\n",
       "      <td>NaN</td>\n",
       "      <td>NaN</td>\n",
       "      <td>NaN</td>\n",
       "      <td>NaN</td>\n",
       "      <td>65273</td>\n",
       "    </tr>\n",
       "    <tr>\n",
       "      <th>65273</th>\n",
       "      <td>2021</td>\n",
       "      <td>Oct-Dec</td>\n",
       "      <td>1021067</td>\n",
       "      <td>6064396.0</td>\n",
       "      <td>324057</td>\n",
       "      <td>White</td>\n",
       "      <td>F</td>\n",
       "      <td>Aged 45 to 54 years</td>\n",
       "      <td>Not a youth</td>\n",
       "      <td>XX</td>\n",
       "      <td>...</td>\n",
       "      <td>0</td>\n",
       "      <td>0</td>\n",
       "      <td>0</td>\n",
       "      <td>0</td>\n",
       "      <td>NaN</td>\n",
       "      <td>NaN</td>\n",
       "      <td>NaN</td>\n",
       "      <td>NaN</td>\n",
       "      <td>NaN</td>\n",
       "      <td>65274</td>\n",
       "    </tr>\n",
       "    <tr>\n",
       "      <th>65275</th>\n",
       "      <td>2021</td>\n",
       "      <td>Oct-Dec</td>\n",
       "      <td>1033395</td>\n",
       "      <td>6032145.0</td>\n",
       "      <td>310583</td>\n",
       "      <td>Latino</td>\n",
       "      <td>M</td>\n",
       "      <td>Aged 18 to 24 years</td>\n",
       "      <td>Not a youth</td>\n",
       "      <td>XX</td>\n",
       "      <td>...</td>\n",
       "      <td>0</td>\n",
       "      <td>0</td>\n",
       "      <td>0</td>\n",
       "      <td>1</td>\n",
       "      <td>NaN</td>\n",
       "      <td>NaN</td>\n",
       "      <td>NaN</td>\n",
       "      <td>NaN</td>\n",
       "      <td>NaN</td>\n",
       "      <td>65276</td>\n",
       "    </tr>\n",
       "  </tbody>\n",
       "</table>\n",
       "<p>60210 rows × 25 columns</p>\n",
       "</div>"
      ],
      "text/plain": [
       "       Arrest_Year Arrest_Month  EventID   ArrestID  PersonID Perceived_Race  \\\n",
       "0             2020    July-Sept  1005907  6017884.0    326622          White   \n",
       "1             2020    July-Sept  1014562  6056669.0    326622          White   \n",
       "3             2021      Jan-Mar  1052190  6029059.0    327535          Black   \n",
       "4             2021      Jan-Mar  1015512  6040372.0    327535    South Asian   \n",
       "5             2021     Apr-June  1019145  6060688.0    327535    South Asian   \n",
       "...            ...          ...      ...        ...       ...            ...   \n",
       "65270         2021      Oct-Dec  1046034  6029720.0    311475          White   \n",
       "65271         2021      Oct-Dec  1055609  6044336.0    316123     Indigenous   \n",
       "65272         2021      Oct-Dec  1032758  6031692.0    307736    South Asian   \n",
       "65273         2021      Oct-Dec  1021067  6064396.0    324057          White   \n",
       "65275         2021      Oct-Dec  1033395  6032145.0    310583         Latino   \n",
       "\n",
       "      Sex Age_group__at_arrest_ Youth_at_arrest__under_18_years ArrestLocDiv  \\\n",
       "0       M   Aged 35 to 44 years                     Not a youth           54   \n",
       "1       M   Aged 35 to 44 years                     Not a youth           54   \n",
       "3       M   Aged 25 to 34 years                     Not a youth           XX   \n",
       "4       M   Aged 25 to 34 years                     Not a youth           XX   \n",
       "5       M   Aged 25 to 34 years                     Not a youth           42   \n",
       "...    ..                   ...                             ...          ...   \n",
       "65270   F   Aged 25 to 34 years                     Not a youth           XX   \n",
       "65271   F   Aged 25 to 34 years                     Not a youth           XX   \n",
       "65272   M   Aged 35 to 44 years                     Not a youth           54   \n",
       "65273   F   Aged 45 to 54 years                     Not a youth           XX   \n",
       "65275   M   Aged 18 to 24 years                     Not a youth           XX   \n",
       "\n",
       "       ...  Actions_at_arrest___Resisted__d  Actions_at_arrest___Mental_inst  \\\n",
       "0      ...                                0                                0   \n",
       "1      ...                                0                                0   \n",
       "3      ...                                0                                0   \n",
       "4      ...                                0                                0   \n",
       "5      ...                                0                                0   \n",
       "...    ...                              ...                              ...   \n",
       "65270  ...                                0                                0   \n",
       "65271  ...                                1                                0   \n",
       "65272  ...                                0                                0   \n",
       "65273  ...                                0                                0   \n",
       "65275  ...                                0                                0   \n",
       "\n",
       "      Actions_at_arrest___Assaulted_o  Actions_at_arrest___Cooperative  \\\n",
       "0                                   0                                1   \n",
       "1                                   0                                0   \n",
       "3                                   0                                0   \n",
       "4                                   0                                0   \n",
       "5                                   0                                1   \n",
       "...                               ...                              ...   \n",
       "65270                               0                                0   \n",
       "65271                               0                                0   \n",
       "65272                               0                                0   \n",
       "65273                               0                                0   \n",
       "65275                               0                                1   \n",
       "\n",
       "       SearchReason_CauseInjury  SearchReason_AssistEscape  \\\n",
       "0                           NaN                        NaN   \n",
       "1                           NaN                        NaN   \n",
       "3                           NaN                        NaN   \n",
       "4                           NaN                        NaN   \n",
       "5                           NaN                        NaN   \n",
       "...                         ...                        ...   \n",
       "65270                       NaN                        NaN   \n",
       "65271                       NaN                        NaN   \n",
       "65272                       NaN                        NaN   \n",
       "65273                       NaN                        NaN   \n",
       "65275                       NaN                        NaN   \n",
       "\n",
       "       SearchReason_PossessWeapons  SearchReason_PossessEvidence  ItemsFound  \\\n",
       "0                              NaN                           NaN         NaN   \n",
       "1                              NaN                           NaN         NaN   \n",
       "3                              NaN                           NaN         NaN   \n",
       "4                              NaN                           NaN         NaN   \n",
       "5                              NaN                           NaN         NaN   \n",
       "...                            ...                           ...         ...   \n",
       "65270                          NaN                           NaN         NaN   \n",
       "65271                          NaN                           NaN         NaN   \n",
       "65272                          NaN                           NaN         NaN   \n",
       "65273                          NaN                           NaN         NaN   \n",
       "65275                          NaN                           NaN         NaN   \n",
       "\n",
       "       ObjectId  \n",
       "0             1  \n",
       "1             2  \n",
       "3             4  \n",
       "4             5  \n",
       "5             6  \n",
       "...         ...  \n",
       "65270     65271  \n",
       "65271     65272  \n",
       "65272     65273  \n",
       "65273     65274  \n",
       "65275     65276  \n",
       "\n",
       "[60210 rows x 25 columns]"
      ]
     },
     "execution_count": 3,
     "metadata": {},
     "output_type": "execute_result"
    }
   ],
   "source": [
    "# valid data\n",
    "\n",
    "# sex:\n",
    "valid_sex = (df[\"Sex\"] == \"M\") | (df[\"Sex\"] == \"F\")\n",
    "# perceived_race:\n",
    "valid_race = (df[\"Perceived_Race\"] == \"White\") | (df[\"Perceived_Race\"] == \"Black\") | (df[\"Perceived_Race\"] == \"East/Southeast Asian\") | (df[\"Perceived_Race\"] == \"South Asian\") | (df[\"Perceived_Race\"] == \"Middle-Eastern\") | (df[\"Perceived_Race\"] == \"Latino\") | (df[\"Perceived_Race\"] == \"Indigenous\")\n",
    "\n",
    "valid_data = valid_sex & valid_race\n",
    "df = df[valid_data]\n",
    "df"
   ]
  },
  {
   "cell_type": "code",
   "execution_count": 4,
   "id": "9cf8a46d",
   "metadata": {},
   "outputs": [],
   "source": [
    "# data rename\n",
    "\n",
    "# ArrestLocDiv -> intoronto :\n",
    "df.rename(columns={'ArrestLocDiv':'intoronto'}, inplace=True)\n",
    "df.loc[df[\"intoronto\"] != \"XX\",\"intoronto\"] = \"1\"\n",
    "df.loc[df[\"intoronto\"] == \"XX\",\"intoronto\"] = \"0\""
   ]
  },
  {
   "cell_type": "code",
   "execution_count": 5,
   "id": "4057773f",
   "metadata": {},
   "outputs": [],
   "source": [
    "# data reallocation\n",
    "\n",
    "# Age_group__at_arrest_:\n",
    "df.loc[(df[\"Age_group__at_arrest_\"] == \"Aged 17 years and under\") | (df[\"Age_group__at_arrest_\"] == \"Aged 17 years and younger\") ,[\"Age_group__at_arrest_\"]] = \"-18\"\n",
    "df.loc[(df[\"Age_group__at_arrest_\"] == \"Aged 65 years and older\") | (df[\"Age_group__at_arrest_\"] == \"Aged 65 and older\") ,[\"Age_group__at_arrest_\"]] = \"65+\"\n",
    "df.loc[(df[\"Age_group__at_arrest_\"] == \"Aged 18 to 24 years\") ,[\"Age_group__at_arrest_\"]] = \"18-24\"\n",
    "df.loc[(df[\"Age_group__at_arrest_\"] == \"Aged 25 to 34 years\") ,[\"Age_group__at_arrest_\"]] = \"25-34\"\n",
    "df.loc[(df[\"Age_group__at_arrest_\"] == \"Aged 35 to 44 years\") ,[\"Age_group__at_arrest_\"]] = \"35-44\"\n",
    "df.loc[(df[\"Age_group__at_arrest_\"] == \"Aged 45 to 54 years\") ,[\"Age_group__at_arrest_\"]] = \"45-54\"\n",
    "df.loc[(df[\"Age_group__at_arrest_\"] == \"Aged 55 to 64 years\") ,[\"Age_group__at_arrest_\"]] = \"55-64\""
   ]
  },
  {
   "cell_type": "code",
   "execution_count": 6,
   "id": "1e414d09",
   "metadata": {},
   "outputs": [],
   "source": [
    "# Create new continuous variable \"Cooperation_score\":"
   ]
  },
  {
   "cell_type": "code",
   "execution_count": 7,
   "id": "c9eb94a7",
   "metadata": {},
   "outputs": [],
   "source": [
    "df[\"Cooperation_score\"] = 7.5 + 2.5*df[\"Actions_at_arrest___Cooperative\"] - 0.5*df[\"Actions_at_arrest___Concealed_i\"] - 2*df[\"Actions_at_arrest___Combative__\"] - 1.5*df[\"Actions_at_arrest___Resisted__d\"] - 1*df[\"Actions_at_arrest___Mental_inst\"] - 2.5*df[\"Actions_at_arrest___Assaulted_o\"]"
   ]
  },
  {
   "cell_type": "code",
   "execution_count": 8,
   "id": "6c5a00a9",
   "metadata": {},
   "outputs": [
    {
     "data": {
      "text/html": [
       "<div>\n",
       "<style scoped>\n",
       "    .dataframe tbody tr th:only-of-type {\n",
       "        vertical-align: middle;\n",
       "    }\n",
       "\n",
       "    .dataframe tbody tr th {\n",
       "        vertical-align: top;\n",
       "    }\n",
       "\n",
       "    .dataframe thead th {\n",
       "        text-align: right;\n",
       "    }\n",
       "</style>\n",
       "<table border=\"1\" class=\"dataframe\">\n",
       "  <thead>\n",
       "    <tr style=\"text-align: right;\">\n",
       "      <th></th>\n",
       "      <th>Perceived_Race</th>\n",
       "      <th>Sex</th>\n",
       "      <th>Age_group__at_arrest_</th>\n",
       "      <th>intoronto</th>\n",
       "      <th>Cooperation_score</th>\n",
       "    </tr>\n",
       "  </thead>\n",
       "  <tbody>\n",
       "    <tr>\n",
       "      <th>0</th>\n",
       "      <td>White</td>\n",
       "      <td>M</td>\n",
       "      <td>35-44</td>\n",
       "      <td>1</td>\n",
       "      <td>10.0</td>\n",
       "    </tr>\n",
       "    <tr>\n",
       "      <th>1</th>\n",
       "      <td>White</td>\n",
       "      <td>M</td>\n",
       "      <td>35-44</td>\n",
       "      <td>1</td>\n",
       "      <td>7.5</td>\n",
       "    </tr>\n",
       "    <tr>\n",
       "      <th>3</th>\n",
       "      <td>Black</td>\n",
       "      <td>M</td>\n",
       "      <td>25-34</td>\n",
       "      <td>0</td>\n",
       "      <td>7.5</td>\n",
       "    </tr>\n",
       "    <tr>\n",
       "      <th>4</th>\n",
       "      <td>South Asian</td>\n",
       "      <td>M</td>\n",
       "      <td>25-34</td>\n",
       "      <td>0</td>\n",
       "      <td>7.5</td>\n",
       "    </tr>\n",
       "    <tr>\n",
       "      <th>5</th>\n",
       "      <td>South Asian</td>\n",
       "      <td>M</td>\n",
       "      <td>25-34</td>\n",
       "      <td>1</td>\n",
       "      <td>10.0</td>\n",
       "    </tr>\n",
       "    <tr>\n",
       "      <th>...</th>\n",
       "      <td>...</td>\n",
       "      <td>...</td>\n",
       "      <td>...</td>\n",
       "      <td>...</td>\n",
       "      <td>...</td>\n",
       "    </tr>\n",
       "    <tr>\n",
       "      <th>65270</th>\n",
       "      <td>White</td>\n",
       "      <td>F</td>\n",
       "      <td>25-34</td>\n",
       "      <td>0</td>\n",
       "      <td>7.5</td>\n",
       "    </tr>\n",
       "    <tr>\n",
       "      <th>65271</th>\n",
       "      <td>Indigenous</td>\n",
       "      <td>F</td>\n",
       "      <td>25-34</td>\n",
       "      <td>0</td>\n",
       "      <td>6.0</td>\n",
       "    </tr>\n",
       "    <tr>\n",
       "      <th>65272</th>\n",
       "      <td>South Asian</td>\n",
       "      <td>M</td>\n",
       "      <td>35-44</td>\n",
       "      <td>1</td>\n",
       "      <td>7.5</td>\n",
       "    </tr>\n",
       "    <tr>\n",
       "      <th>65273</th>\n",
       "      <td>White</td>\n",
       "      <td>F</td>\n",
       "      <td>45-54</td>\n",
       "      <td>0</td>\n",
       "      <td>7.5</td>\n",
       "    </tr>\n",
       "    <tr>\n",
       "      <th>65275</th>\n",
       "      <td>Latino</td>\n",
       "      <td>M</td>\n",
       "      <td>18-24</td>\n",
       "      <td>0</td>\n",
       "      <td>10.0</td>\n",
       "    </tr>\n",
       "  </tbody>\n",
       "</table>\n",
       "<p>60187 rows × 5 columns</p>\n",
       "</div>"
      ],
      "text/plain": [
       "      Perceived_Race Sex Age_group__at_arrest_ intoronto  Cooperation_score\n",
       "0              White   M                 35-44         1               10.0\n",
       "1              White   M                 35-44         1                7.5\n",
       "3              Black   M                 25-34         0                7.5\n",
       "4        South Asian   M                 25-34         0                7.5\n",
       "5        South Asian   M                 25-34         1               10.0\n",
       "...              ...  ..                   ...       ...                ...\n",
       "65270          White   F                 25-34         0                7.5\n",
       "65271     Indigenous   F                 25-34         0                6.0\n",
       "65272    South Asian   M                 35-44         1                7.5\n",
       "65273          White   F                 45-54         0                7.5\n",
       "65275         Latino   M                 18-24         0               10.0\n",
       "\n",
       "[60187 rows x 5 columns]"
      ]
     },
     "execution_count": 8,
     "metadata": {},
     "output_type": "execute_result"
    }
   ],
   "source": [
    "# The final version melt data:\n",
    "\n",
    "df = df[[\"Perceived_Race\", \"Sex\", \"Age_group__at_arrest_\", \"intoronto\", \"Cooperation_score\"]].dropna()\n",
    "df"
   ]
  },
  {
   "cell_type": "code",
   "execution_count": 9,
   "id": "fcef11f2",
   "metadata": {},
   "outputs": [
    {
     "name": "stdout",
     "output_type": "stream",
     "text": [
      "White                   27708\n",
      "Black                   17518\n",
      "East/Southeast Asian     4412\n",
      "South Asian              3613\n",
      "Middle-Eastern           3237\n",
      "Indigenous               1932\n",
      "Latino                   1767\n",
      "Name: Perceived_Race, dtype: int64\n",
      "-----------------------------------------\n",
      "M    48505\n",
      "F    11682\n",
      "Name: Sex, dtype: int64\n",
      "-----------------------------------------\n",
      "25-34    19299\n",
      "35-44    15048\n",
      "18-24     9183\n",
      "45-54     8395\n",
      "55-64     4225\n",
      "-18       2825\n",
      "65+       1212\n",
      "Name: Age_group__at_arrest_, dtype: int64\n",
      "-----------------------------------------\n",
      "1    32694\n",
      "0    27493\n",
      "Name: intoronto, dtype: int64\n",
      "-----------------------------------------\n",
      "7.5     28149\n",
      "10.0    26138\n",
      "5.5      1401\n",
      "6.0      1368\n",
      "6.5       770\n",
      "9.0       498\n",
      "4.0       465\n",
      "4.5       371\n",
      "5.0       262\n",
      "3.0       259\n",
      "7.0        99\n",
      "8.5        88\n",
      "1.5        84\n",
      "2.0        68\n",
      "9.5        68\n",
      "8.0        54\n",
      "3.5        30\n",
      "2.5        15\n",
      "Name: Cooperation_score, dtype: int64\n",
      "-----------------------------------------\n"
     ]
    }
   ],
   "source": [
    "# value count\n",
    "for column in df.columns.values.tolist():\n",
    "    print(df[column].value_counts())\n",
    "    print(\"-----------------------------------------\")"
   ]
  },
  {
   "cell_type": "code",
   "execution_count": 10,
   "id": "8660a689",
   "metadata": {},
   "outputs": [
    {
     "data": {
      "text/plain": [
       "<AxesSubplot:xlabel='Cooperation_score', ylabel='count'>"
      ]
     },
     "execution_count": 10,
     "metadata": {},
     "output_type": "execute_result"
    },
    {
     "data": {
      "image/png": "[encoded data removed]",
      "text/plain": [
       "<Figure size 432x288 with 1 Axes>"
      ]
     },
     "metadata": {
      "needs_background": "light"
     },
     "output_type": "display_data"
    }
   ],
   "source": [
    "# Distribution of the Cooperation Scores:\n",
    "sns.countplot(x=df[\"Cooperation_score\"])"
   ]
  },
  {
   "cell_type": "code",
   "execution_count": 11,
   "id": "0b4470f8",
   "metadata": {},
   "outputs": [
    {
     "data": {
      "text/plain": [
       "<seaborn.axisgrid.FacetGrid at 0x189385e7d90>"
      ]
     },
     "execution_count": 11,
     "metadata": {},
     "output_type": "execute_result"
    },
    {
     "data": {
      "image/png": "[encoded data removed]",
      "text/plain": [
       "<Figure size 360x360 with 1 Axes>"
      ]
     },
     "metadata": {
      "needs_background": "light"
     },
     "output_type": "display_data"
    }
   ],
   "source": [
    "# Box plot for 'Sex':\n",
    "\n",
    "sns.catplot(data=df, kind=\"box\", x=\"Sex\", y=\"Cooperation_score\")"
   ]
  },
  {
   "cell_type": "code",
   "execution_count": 12,
   "id": "b9caff0f",
   "metadata": {},
   "outputs": [
    {
     "data": {
      "text/plain": [
       "<seaborn.axisgrid.FacetGrid at 0x18938bb83a0>"
      ]
     },
     "execution_count": 12,
     "metadata": {},
     "output_type": "execute_result"
    },
    {
     "data": {
      "image/png": "[encoded data removed]",
      "text/plain": [
       "<Figure size 360x360 with 1 Axes>"
      ]
     },
     "metadata": {
      "needs_background": "light"
     },
     "output_type": "display_data"
    }
   ],
   "source": [
    "# Box plot for 'Perceived_Race':\n",
    "\n",
    "sns.catplot(data=df, kind=\"box\", x=\"Perceived_Race\", y=\"Cooperation_score\")"
   ]
  },
  {
   "cell_type": "code",
   "execution_count": 13,
   "id": "32900d0d",
   "metadata": {},
   "outputs": [
    {
     "data": {
      "text/plain": [
       "<seaborn.axisgrid.FacetGrid at 0x18938f13d30>"
      ]
     },
     "execution_count": 13,
     "metadata": {},
     "output_type": "execute_result"
    },
    {
     "data": {
      "image/png": "[encoded data removed]",
      "text/plain": [
       "<Figure size 360x360 with 1 Axes>"
      ]
     },
     "metadata": {
      "needs_background": "light"
     },
     "output_type": "display_data"
    }
   ],
   "source": [
    "# Box plot for 'intoronto':\n",
    "\n",
    "sns.catplot(data=df, kind=\"box\", x=\"intoronto\", y=\"Cooperation_score\")"
   ]
  },
  {
   "cell_type": "code",
   "execution_count": 14,
   "id": "a3cf253e",
   "metadata": {},
   "outputs": [
    {
     "data": {
      "text/plain": [
       "<seaborn.axisgrid.FacetGrid at 0x18938fa4670>"
      ]
     },
     "execution_count": 14,
     "metadata": {},
     "output_type": "execute_result"
    },
    {
     "data": {
      "image/png": "[encoded data removed]",
      "text/plain": [
       "<Figure size 360x360 with 1 Axes>"
      ]
     },
     "metadata": {
      "needs_background": "light"
     },
     "output_type": "display_data"
    }
   ],
   "source": [
    "# Box plot for 'Age_group__at_arrest_':\n",
    "\n",
    "sns.catplot(data=df, kind=\"box\", x=\"Age_group__at_arrest_\", y=\"Cooperation_score\")"
   ]
  },
  {
   "cell_type": "markdown",
   "id": "48153881",
   "metadata": {},
   "source": [
    "### T-tests:"
   ]
  },
  {
   "cell_type": "code",
   "execution_count": 15,
   "id": "4dac72e5",
   "metadata": {},
   "outputs": [],
   "source": [
    "def welch_dof(x, y): \n",
    "    '''\n",
    "    Takes in final grades for binary features\n",
    "    Returns degrees of freedom \n",
    "    '''\n",
    "    dof = (x.var()/x.size + y.var()/y.size)**2 / (\n",
    "        (x.var()/x.size)**2 / (x.size-1) + (y.var()/y.size)**2 / (y.size-1))\n",
    "    return dof"
   ]
  },
  {
   "cell_type": "markdown",
   "id": "9ee5dbc3",
   "metadata": {},
   "source": [
    "#### 1. Conduct T-test on 'Sex' category (M is male, F is female):"
   ]
  },
  {
   "cell_type": "code",
   "execution_count": 16,
   "id": "fd27c945",
   "metadata": {
    "scrolled": true
   },
   "outputs": [
    {
     "name": "stdout",
     "output_type": "stream",
     "text": [
      "Ttest results for Cooperation score: Ttest_indResult(statistic=3.0514465837347644, pvalue=0.002280796050205465)\n",
      "Mean score for M_score, F_score: 8.423945984950006 8.374807395993837\n",
      "Standard deviation for M_score, F_score: 1.5548014565348212 1.5643368290218185\n",
      "Confidence interval for Cooperation_score: (0.017574390353293667, 0.08070278755904314)\n",
      "DOF for Cooperation_score: 17659.601610453232\n"
     ]
    }
   ],
   "source": [
    "M_score = df[df[\"Sex\"] == \"M\"]['Cooperation_score']\n",
    "F_score = df[df[\"Sex\"] == \"F\"]['Cooperation_score']\n",
    "print('Ttest results for Cooperation score:',stats.ttest_ind\n",
    "      (M_score, F_score, equal_var=False)) #p-value is significant\n",
    "\n",
    "# calculate mean and standard deviation of groups \n",
    "print('Mean score for M_score, F_score:',M_score.mean(), F_score.mean())\n",
    "print('Standard deviation for M_score, F_score:',M_score.std(), F_score.std())\n",
    "\n",
    "# compute confidence interval \n",
    "cm = sms.CompareMeans(sms.DescrStatsW(M_score), sms.DescrStatsW(F_score))\n",
    "print('Confidence interval for Cooperation_score:',cm.tconfint_diff(usevar='unequal'))\n",
    "\n",
    "# welch dof \n",
    "print('DOF for Cooperation_score:',welch_dof(M_score, F_score))"
   ]
  },
  {
   "cell_type": "markdown",
   "id": "9bf3aeb4",
   "metadata": {},
   "source": [
    "#### 2. Conduct T-test on 'intoronto' category  (1 is in toronto, 0 is not in toronto):"
   ]
  },
  {
   "cell_type": "code",
   "execution_count": 17,
   "id": "33b196d7",
   "metadata": {},
   "outputs": [
    {
     "name": "stdout",
     "output_type": "stream",
     "text": [
      "Ttest results for Cooperation score: Ttest_indResult(statistic=-3.7616145069358002, pvalue=0.00016898027266410852)\n",
      "Mean score for int_score, not_score: 8.392763198140331 8.440148401411268\n",
      "Standard deviation for int_score, not_score: 1.6443393283543064 1.445343322952539\n",
      "Confidence interval for Cooperation_score: (-0.07207544281670118, -0.02269496372517145)\n",
      "DOF for Cooperation_score: 60067.40549784279\n"
     ]
    }
   ],
   "source": [
    "int_score = df[df[\"intoronto\"] == \"1\"]['Cooperation_score']\n",
    "not_score = df[df[\"intoronto\"] == \"0\"]['Cooperation_score']\n",
    "print('Ttest results for Cooperation score:',stats.ttest_ind\n",
    "      (int_score, not_score, equal_var=False)) #p-value is significant\n",
    "\n",
    "# calculate mean and standard deviation of groups \n",
    "print('Mean score for int_score, not_score:',int_score.mean(), not_score.mean())\n",
    "print('Standard deviation for int_score, not_score:',int_score.std(), not_score.std())\n",
    "\n",
    "# compute confidence interval \n",
    "cm = sms.CompareMeans(sms.DescrStatsW(int_score), sms.DescrStatsW(not_score))\n",
    "print('Confidence interval for Cooperation_score:',cm.tconfint_diff(usevar='unequal'))\n",
    "\n",
    "# welch dof \n",
    "print('DOF for Cooperation_score:',welch_dof(int_score, not_score))"
   ]
  },
  {
   "cell_type": "markdown",
   "id": "9719fc35",
   "metadata": {},
   "source": [
    "#### 3. Conduct T-test on 'Perceived_Race' category:"
   ]
  },
  {
   "cell_type": "code",
   "execution_count": 18,
   "id": "52f76104",
   "metadata": {},
   "outputs": [
    {
     "name": "stdout",
     "output_type": "stream",
     "text": [
      "Ttest results for Cooperation score: Ttest_indResult(statistic=-1.1238286609701196, pvalue=0.26109031573124564)\n",
      "Mean score for White_score, notW_score: 8.406687599249315 8.42099510452908\n",
      "Standard deviation for White_score, notW_score: 1.556621228761491 1.5568814864968605\n",
      "Confidence interval for Cooperation_score: (-0.03926039554383341, 0.01064538498430299)\n",
      "DOF for Cooperation_score: 58703.24274146539\n"
     ]
    }
   ],
   "source": [
    "White_score = df[df[\"Perceived_Race\"] == \"White\"]['Cooperation_score']\n",
    "notW_score = df[df[\"Perceived_Race\"] != \"White\"]['Cooperation_score']\n",
    "print('Ttest results for Cooperation score:',stats.ttest_ind\n",
    "      (White_score, notW_score, equal_var=False)) #p-value is NOT significant\n",
    "\n",
    "# calculate mean and standard deviation of groups \n",
    "print('Mean score for White_score, notW_score:',White_score.mean(), notW_score.mean())\n",
    "print('Standard deviation for White_score, notW_score:',\n",
    "      White_score.std(), notW_score.std())\n",
    "\n",
    "# compute confidence interval \n",
    "cm = sms.CompareMeans(sms.DescrStatsW(White_score), sms.DescrStatsW(notW_score))\n",
    "print('Confidence interval for Cooperation_score:',cm.tconfint_diff(usevar='unequal'))\n",
    "\n",
    "# welch dof \n",
    "print('DOF for Cooperation_score:',welch_dof(White_score, notW_score))"
   ]
  },
  {
   "cell_type": "markdown",
   "id": "2c68b17e",
   "metadata": {},
   "source": [
    "#### 4. Conduct T-test on 'Age_group__at_arrest_' category:"
   ]
  },
  {
   "cell_type": "code",
   "execution_count": 19,
   "id": "4d4993f8",
   "metadata": {},
   "outputs": [
    {
     "name": "stdout",
     "output_type": "stream",
     "text": [
      "Ttest results for Cooperation score: Ttest_indResult(statistic=-3.499847584772494, pvalue=0.0004659652780292937)\n",
      "Mean score for younger_score, older_score: 8.385215150967275 8.431376927725088\n",
      "Standard deviation for younger_score, older_score: 1.5650295932095113 1.5517093530104011\n",
      "Confidence interval for Cooperation_score: (-0.07201370396701576, -0.020309849548610842)\n",
      "DOF for Cooperation_score: 45914.73043826855\n"
     ]
    }
   ],
   "source": [
    "younger_score = df[(df[\"Age_group__at_arrest_\"] == \"25-34\") | \n",
    "                   (df[\"Age_group__at_arrest_\"] == \"-18\")]['Cooperation_score']\n",
    "older_score = df[(df[\"Age_group__at_arrest_\"] != \"25-34\") & \n",
    "                 (df[\"Age_group__at_arrest_\"] != \"-18\")]['Cooperation_score']\n",
    "print('Ttest results for Cooperation score:',stats.ttest_ind\n",
    "      (younger_score, older_score, equal_var=False)) #p-value is significant\n",
    "\n",
    "# calculate mean and standard deviation of groups \n",
    "print('Mean score for younger_score, older_score:',younger_score.mean(), \n",
    "      older_score.mean())\n",
    "print('Standard deviation for younger_score, older_score:',younger_score.std(), \n",
    "      older_score.std())\n",
    "\n",
    "# compute confidence interval \n",
    "cm = sms.CompareMeans(sms.DescrStatsW(younger_score), sms.DescrStatsW(older_score))\n",
    "print('Confidence interval for Cooperation_score:',cm.tconfint_diff(usevar='unequal'))\n",
    "\n",
    "# welch dof \n",
    "print('DOF for Cooperation_score:',welch_dof(younger_score, older_score))"
   ]
  },
  {
   "cell_type": "markdown",
   "id": "fc2259c2",
   "metadata": {},
   "source": [
    "### Tukey's HSD:"
   ]
  },
  {
   "cell_type": "markdown",
   "id": "93d88041",
   "metadata": {},
   "source": [
    "#### 1. Conduct Tukey test on 'Sex':"
   ]
  },
  {
   "cell_type": "code",
   "execution_count": 20,
   "id": "b36c7027",
   "metadata": {},
   "outputs": [
    {
     "name": "stdout",
     "output_type": "stream",
     "text": [
      "Multiple Comparison of Means - Tukey HSD, FWER=0.05\n",
      "==================================================\n",
      "group1 group2 meandiff p-adj  lower  upper  reject\n",
      "--------------------------------------------------\n",
      "     F      M   0.0491 0.0022 0.0177 0.0806   True\n",
      "--------------------------------------------------\n"
     ]
    }
   ],
   "source": [
    "from statsmodels.stats.multicomp import pairwise_tukeyhsd\n",
    "\n",
    "tukey = pairwise_tukeyhsd(df['Cooperation_score'],\n",
    "                          groups=df['Sex'],\n",
    "                          alpha=0.05)\n",
    "print(tukey)"
   ]
  },
  {
   "cell_type": "markdown",
   "id": "27341a99",
   "metadata": {},
   "source": [
    "#### 2. Conduct Tukey test on 'intoronto':"
   ]
  },
  {
   "cell_type": "code",
   "execution_count": 21,
   "id": "b93cc089",
   "metadata": {},
   "outputs": [
    {
     "name": "stdout",
     "output_type": "stream",
     "text": [
      "Multiple Comparison of Means - Tukey HSD, FWER=0.05\n",
      "===================================================\n",
      "group1 group2 meandiff p-adj  lower   upper  reject\n",
      "---------------------------------------------------\n",
      "     0      1  -0.0474 0.001 -0.0724 -0.0224   True\n",
      "---------------------------------------------------\n"
     ]
    }
   ],
   "source": [
    "tukey = pairwise_tukeyhsd(df['Cooperation_score'],\n",
    "                          groups=df['intoronto'],\n",
    "                          alpha=0.05)\n",
    "print(tukey)"
   ]
  },
  {
   "cell_type": "markdown",
   "id": "f5dfce17",
   "metadata": {},
   "source": [
    "#### 3. Conduct Tukey test on 'Perceived_Race':"
   ]
  },
  {
   "cell_type": "code",
   "execution_count": 22,
   "id": "77831bfa",
   "metadata": {
    "scrolled": false
   },
   "outputs": [
    {
     "name": "stdout",
     "output_type": "stream",
     "text": [
      "              Multiple Comparison of Means - Tukey HSD, FWER=0.05               \n",
      "================================================================================\n",
      "       group1               group2        meandiff p-adj   lower   upper  reject\n",
      "--------------------------------------------------------------------------------\n",
      "               Black East/Southeast Asian   0.3181  0.001   0.241  0.3953   True\n",
      "               Black           Indigenous  -0.1877  0.001 -0.2975 -0.0779   True\n",
      "               Black               Latino   0.2521  0.001  0.1378  0.3664   True\n",
      "               Black       Middle-Eastern   0.1574  0.001  0.0698  0.2451   True\n",
      "               Black          South Asian   0.1719  0.001  0.0882  0.2556   True\n",
      "               Black                White   0.0663  0.001  0.0221  0.1105   True\n",
      "East/Southeast Asian           Indigenous  -0.5059  0.001 -0.6308 -0.3809   True\n",
      "East/Southeast Asian               Latino   -0.066  0.712  -0.195  0.0629  False\n",
      "East/Southeast Asian       Middle-Eastern  -0.1607  0.001 -0.2667 -0.0547   True\n",
      "East/Southeast Asian          South Asian  -0.1462  0.001  -0.249 -0.0435   True\n",
      "East/Southeast Asian                White  -0.2519  0.001 -0.3261 -0.1776   True\n",
      "          Indigenous               Latino   0.4398  0.001  0.2891  0.5906   True\n",
      "          Indigenous       Middle-Eastern   0.3451  0.001  0.2135  0.4768   True\n",
      "          Indigenous          South Asian   0.3596  0.001  0.2305  0.4887   True\n",
      "          Indigenous                White    0.254  0.001  0.1462  0.3618   True\n",
      "              Latino       Middle-Eastern  -0.0947 0.3778 -0.2302  0.0408  False\n",
      "              Latino          South Asian  -0.0802 0.5537 -0.2132  0.0528  False\n",
      "              Latino                White  -0.1858  0.001 -0.2982 -0.0735   True\n",
      "      Middle-Eastern          South Asian   0.0145    0.9 -0.0964  0.1253  False\n",
      "      Middle-Eastern                White  -0.0911 0.0265 -0.1762 -0.0061   True\n",
      "         South Asian                White  -0.1056 0.0023 -0.1867 -0.0246   True\n",
      "--------------------------------------------------------------------------------\n"
     ]
    }
   ],
   "source": [
    "tukey = pairwise_tukeyhsd(df['Cooperation_score'],\n",
    "                          groups=df['Perceived_Race'],\n",
    "                          alpha=0.05)\n",
    "print(tukey)"
   ]
  },
  {
   "cell_type": "markdown",
   "id": "b2fb6e7f",
   "metadata": {},
   "source": [
    "#### 4. Conduct Tukey test on 'Age_group__at_arrest_':"
   ]
  },
  {
   "cell_type": "code",
   "execution_count": 23,
   "id": "d16ddaf9",
   "metadata": {
    "scrolled": true
   },
   "outputs": [
    {
     "name": "stdout",
     "output_type": "stream",
     "text": [
      "Multiple Comparison of Means - Tukey HSD, FWER=0.05 \n",
      "====================================================\n",
      "group1 group2 meandiff p-adj   lower   upper  reject\n",
      "----------------------------------------------------\n",
      "   -18  18-24  -0.1427  0.001 -0.2414  -0.044   True\n",
      "   -18  25-34  -0.1888  0.001 -0.2812 -0.0964   True\n",
      "   -18  35-44  -0.1513  0.001 -0.2454 -0.0573   True\n",
      "   -18  45-54  -0.0749 0.2878 -0.1747  0.0248  False\n",
      "   -18  55-64  -0.0771 0.3911 -0.1886  0.0344  False\n",
      "   -18    65+   0.0252    0.9 -0.1323  0.1827  False\n",
      " 18-24  25-34  -0.0461 0.2259 -0.1043   0.012  False\n",
      " 18-24  35-44  -0.0086    0.9 -0.0694  0.0521  False\n",
      " 18-24  45-54   0.0678 0.0601 -0.0015   0.137  False\n",
      " 18-24  55-64   0.0656 0.2602 -0.0197  0.1508  False\n",
      " 18-24    65+   0.1679 0.0076  0.0277  0.3081   True\n",
      " 25-34  35-44   0.0375 0.2871 -0.0124  0.0874  False\n",
      " 25-34  45-54   0.1139  0.001  0.0539  0.1739   True\n",
      " 25-34  55-64   0.1117  0.001  0.0338  0.1896   True\n",
      " 25-34    65+    0.214  0.001  0.0781  0.3498   True\n",
      " 35-44  45-54   0.0764 0.0058  0.0139  0.1389   True\n",
      " 35-44  55-64   0.0742 0.0886 -0.0057  0.1541  False\n",
      " 35-44    65+   0.1765 0.0028  0.0395  0.3135   True\n",
      " 45-54  55-64  -0.0022    0.9 -0.0887  0.0843  False\n",
      " 45-54    65+   0.1001  0.357 -0.0409  0.2411  False\n",
      " 55-64    65+   0.1023 0.4052 -0.0472  0.2518  False\n",
      "----------------------------------------------------\n"
     ]
    }
   ],
   "source": [
    "tukey = pairwise_tukeyhsd(df['Cooperation_score'],\n",
    "                          df['Age_group__at_arrest_'],\n",
    "                          alpha=0.05)\n",
    "print(tukey)"
   ]
  },
  {
   "cell_type": "code",
   "execution_count": 24,
   "id": "10d19c26",
   "metadata": {},
   "outputs": [],
   "source": [
    "import statsmodels.api as sm\n",
    "from statsmodels.formula.api import ols\n",
    "from statsmodels.graphics.factorplots import interaction_plot\n",
    "import matplotlib.pyplot as plt"
   ]
  },
  {
   "cell_type": "markdown",
   "id": "617b46f5",
   "metadata": {},
   "source": [
    "### Hypothesis 1: Perceived_Race and Sex vs Cooperation score"
   ]
  },
  {
   "cell_type": "code",
   "execution_count": 25,
   "id": "da28194c",
   "metadata": {
    "scrolled": true
   },
   "outputs": [
    {
     "data": {
      "text/plain": [
       "<AxesSubplot:xlabel='Perceived_Race', ylabel='Cooperation_score'>"
      ]
     },
     "execution_count": 25,
     "metadata": {},
     "output_type": "execute_result"
    },
    {
     "data": {
      "image/png": "[encoded data removed]",
      "text/plain": [
       "<Figure size 720x360 with 1 Axes>"
      ]
     },
     "metadata": {
      "needs_background": "light"
     },
     "output_type": "display_data"
    }
   ],
   "source": [
    "df_1 = df[[\"Perceived_Race\", \"Sex\", \"Cooperation_score\"]]\n",
    "plt.figure(figsize=(10,5))\n",
    "sns.boxplot(x=\"Perceived_Race\", y=\"Cooperation_score\", hue=\"Sex\", data=df_1, palette=\"Set3\")"
   ]
  },
  {
   "cell_type": "markdown",
   "id": "de62897e",
   "metadata": {},
   "source": [
    "#### Interaction plot of Perceived_Race and Sex:"
   ]
  },
  {
   "cell_type": "code",
   "execution_count": 26,
   "id": "e329ea5b",
   "metadata": {},
   "outputs": [
    {
     "data": {
      "image/png": "[encoded data removed]",
      "text/plain": [
       "<Figure size 432x288 with 1 Axes>"
      ]
     },
     "metadata": {
      "needs_background": "light"
     },
     "output_type": "display_data"
    }
   ],
   "source": [
    "fig = interaction_plot(df['Perceived_Race'], df['Sex'], df['Cooperation_score'], colors=['#4c061d','#d17a22'])\n",
    "plt.tick_params(axis=\"x\", labelsize=6)\n",
    "plt.show()"
   ]
  },
  {
   "cell_type": "markdown",
   "id": "5b5cd8e5",
   "metadata": {},
   "source": [
    "#### Two-way ANOVA test and regression models of Hypothesis 1:"
   ]
  },
  {
   "cell_type": "code",
   "execution_count": 27,
   "id": "dfed5eb7",
   "metadata": {},
   "outputs": [
    {
     "data": {
      "text/html": [
       "<div>\n",
       "<style scoped>\n",
       "    .dataframe tbody tr th:only-of-type {\n",
       "        vertical-align: middle;\n",
       "    }\n",
       "\n",
       "    .dataframe tbody tr th {\n",
       "        vertical-align: top;\n",
       "    }\n",
       "\n",
       "    .dataframe thead th {\n",
       "        text-align: right;\n",
       "    }\n",
       "</style>\n",
       "<table border=\"1\" class=\"dataframe\">\n",
       "  <thead>\n",
       "    <tr style=\"text-align: right;\">\n",
       "      <th></th>\n",
       "      <th>sum_sq</th>\n",
       "      <th>df</th>\n",
       "      <th>F</th>\n",
       "      <th>PR(&gt;F)</th>\n",
       "    </tr>\n",
       "  </thead>\n",
       "  <tbody>\n",
       "    <tr>\n",
       "      <th>C(Perceived_Race)</th>\n",
       "      <td>595.531029</td>\n",
       "      <td>6.0</td>\n",
       "      <td>41.127389</td>\n",
       "      <td>2.572650e-50</td>\n",
       "    </tr>\n",
       "    <tr>\n",
       "      <th>C(Sex)</th>\n",
       "      <td>12.188980</td>\n",
       "      <td>1.0</td>\n",
       "      <td>5.050628</td>\n",
       "      <td>2.462063e-02</td>\n",
       "    </tr>\n",
       "    <tr>\n",
       "      <th>C(Perceived_Race):C(Sex)</th>\n",
       "      <td>24.486327</td>\n",
       "      <td>6.0</td>\n",
       "      <td>1.691026</td>\n",
       "      <td>1.186513e-01</td>\n",
       "    </tr>\n",
       "    <tr>\n",
       "      <th>Residual</th>\n",
       "      <td>145219.075199</td>\n",
       "      <td>60173.0</td>\n",
       "      <td>NaN</td>\n",
       "      <td>NaN</td>\n",
       "    </tr>\n",
       "  </tbody>\n",
       "</table>\n",
       "</div>"
      ],
      "text/plain": [
       "                                 sum_sq       df          F        PR(>F)\n",
       "C(Perceived_Race)            595.531029      6.0  41.127389  2.572650e-50\n",
       "C(Sex)                        12.188980      1.0   5.050628  2.462063e-02\n",
       "C(Perceived_Race):C(Sex)      24.486327      6.0   1.691026  1.186513e-01\n",
       "Residual                  145219.075199  60173.0        NaN           NaN"
      ]
     },
     "execution_count": 27,
     "metadata": {},
     "output_type": "execute_result"
    }
   ],
   "source": [
    "model_1 = ols('Cooperation_score ~ C(Perceived_Race) + C(Sex) + C(Perceived_Race):C(Sex) ', data=df).fit()\n",
    "anova_table_1 = sm.stats.anova_lm(model_1, typ=2)\n",
    "anova_table_1"
   ]
  },
  {
   "cell_type": "code",
   "execution_count": 28,
   "id": "c31dc232",
   "metadata": {},
   "outputs": [
    {
     "data": {
      "text/html": [
       "<div>\n",
       "<style scoped>\n",
       "    .dataframe tbody tr th:only-of-type {\n",
       "        vertical-align: middle;\n",
       "    }\n",
       "\n",
       "    .dataframe tbody tr th {\n",
       "        vertical-align: top;\n",
       "    }\n",
       "\n",
       "    .dataframe thead th {\n",
       "        text-align: right;\n",
       "    }\n",
       "</style>\n",
       "<table border=\"1\" class=\"dataframe\">\n",
       "  <thead>\n",
       "    <tr style=\"text-align: right;\">\n",
       "      <th></th>\n",
       "      <th>sum_sq</th>\n",
       "      <th>df</th>\n",
       "      <th>F</th>\n",
       "      <th>PR(&gt;F)</th>\n",
       "    </tr>\n",
       "  </thead>\n",
       "  <tbody>\n",
       "    <tr>\n",
       "      <th>C(Perceived_Race)</th>\n",
       "      <td>595.531029</td>\n",
       "      <td>6.0</td>\n",
       "      <td>41.124556</td>\n",
       "      <td>2.594104e-50</td>\n",
       "    </tr>\n",
       "    <tr>\n",
       "      <th>C(Sex)</th>\n",
       "      <td>12.188980</td>\n",
       "      <td>1.0</td>\n",
       "      <td>5.050280</td>\n",
       "      <td>2.462557e-02</td>\n",
       "    </tr>\n",
       "    <tr>\n",
       "      <th>Residual</th>\n",
       "      <td>145243.561526</td>\n",
       "      <td>60179.0</td>\n",
       "      <td>NaN</td>\n",
       "      <td>NaN</td>\n",
       "    </tr>\n",
       "  </tbody>\n",
       "</table>\n",
       "</div>"
      ],
      "text/plain": [
       "                          sum_sq       df          F        PR(>F)\n",
       "C(Perceived_Race)     595.531029      6.0  41.124556  2.594104e-50\n",
       "C(Sex)                 12.188980      1.0   5.050280  2.462557e-02\n",
       "Residual           145243.561526  60179.0        NaN           NaN"
      ]
     },
     "execution_count": 28,
     "metadata": {},
     "output_type": "execute_result"
    }
   ],
   "source": [
    "# The regression model after fixed:\n",
    "\n",
    "model_1_fix = ols('Cooperation_score ~ C(Perceived_Race) + C(Sex)', data=df).fit()\n",
    "anova_table_1 = sm.stats.anova_lm(model_1_fix, typ=2)\n",
    "anova_table_1"
   ]
  },
  {
   "cell_type": "code",
   "execution_count": 29,
   "id": "b9913313",
   "metadata": {},
   "outputs": [
    {
     "data": {
      "text/html": [
       "<table class=\"simpletable\">\n",
       "<caption>OLS Regression Results</caption>\n",
       "<tr>\n",
       "  <th>Dep. Variable:</th>    <td>Cooperation_score</td> <th>  R-squared:         </th>  <td>   0.004</td>  \n",
       "</tr>\n",
       "<tr>\n",
       "  <th>Model:</th>                   <td>OLS</td>        <th>  Adj. R-squared:    </th>  <td>   0.004</td>  \n",
       "</tr>\n",
       "<tr>\n",
       "  <th>Method:</th>             <td>Least Squares</td>   <th>  F-statistic:       </th>  <td>   36.60</td>  \n",
       "</tr>\n",
       "<tr>\n",
       "  <th>Date:</th>             <td>Sun, 26 Feb 2023</td>  <th>  Prob (F-statistic):</th>  <td>1.75e-51</td>  \n",
       "</tr>\n",
       "<tr>\n",
       "  <th>Time:</th>                 <td>14:25:39</td>      <th>  Log-Likelihood:    </th> <td>-1.1191e+05</td>\n",
       "</tr>\n",
       "<tr>\n",
       "  <th>No. Observations:</th>      <td> 60187</td>       <th>  AIC:               </th>  <td>2.238e+05</td> \n",
       "</tr>\n",
       "<tr>\n",
       "  <th>Df Residuals:</th>          <td> 60179</td>       <th>  BIC:               </th>  <td>2.239e+05</td> \n",
       "</tr>\n",
       "<tr>\n",
       "  <th>Df Model:</th>              <td>     7</td>       <th>                     </th>      <td> </td>     \n",
       "</tr>\n",
       "<tr>\n",
       "  <th>Covariance Type:</th>      <td>nonrobust</td>     <th>                     </th>      <td> </td>     \n",
       "</tr>\n",
       "</table>\n",
       "<table class=\"simpletable\">\n",
       "<tr>\n",
       "                      <td></td>                         <th>coef</th>     <th>std err</th>      <th>t</th>      <th>P>|t|</th>  <th>[0.025</th>    <th>0.975]</th>  \n",
       "</tr>\n",
       "<tr>\n",
       "  <th>Intercept</th>                                 <td>    8.3105</td> <td>    0.018</td> <td>  467.822</td> <td> 0.000</td> <td>    8.276</td> <td>    8.345</td>\n",
       "</tr>\n",
       "<tr>\n",
       "  <th>C(Perceived_Race)[T.East/Southeast Asian]</th> <td>    0.3180</td> <td>    0.026</td> <td>   12.153</td> <td> 0.000</td> <td>    0.267</td> <td>    0.369</td>\n",
       "</tr>\n",
       "<tr>\n",
       "  <th>C(Perceived_Race)[T.Indigenous]</th>           <td>   -0.1822</td> <td>    0.037</td> <td>   -4.881</td> <td> 0.000</td> <td>   -0.255</td> <td>   -0.109</td>\n",
       "</tr>\n",
       "<tr>\n",
       "  <th>C(Perceived_Race)[T.Latino]</th>               <td>    0.2513</td> <td>    0.039</td> <td>    6.480</td> <td> 0.000</td> <td>    0.175</td> <td>    0.327</td>\n",
       "</tr>\n",
       "<tr>\n",
       "  <th>C(Perceived_Race)[T.Middle-Eastern]</th>       <td>    0.1553</td> <td>    0.030</td> <td>    5.221</td> <td> 0.000</td> <td>    0.097</td> <td>    0.214</td>\n",
       "</tr>\n",
       "<tr>\n",
       "  <th>C(Perceived_Race)[T.South Asian]</th>          <td>    0.1708</td> <td>    0.028</td> <td>    6.015</td> <td> 0.000</td> <td>    0.115</td> <td>    0.226</td>\n",
       "</tr>\n",
       "<tr>\n",
       "  <th>C(Perceived_Race)[T.White]</th>                <td>    0.0681</td> <td>    0.015</td> <td>    4.534</td> <td> 0.000</td> <td>    0.039</td> <td>    0.098</td>\n",
       "</tr>\n",
       "<tr>\n",
       "  <th>C(Sex)[T.M]</th>                               <td>    0.0362</td> <td>    0.016</td> <td>    2.247</td> <td> 0.025</td> <td>    0.005</td> <td>    0.068</td>\n",
       "</tr>\n",
       "</table>\n",
       "<table class=\"simpletable\">\n",
       "<tr>\n",
       "  <th>Omnibus:</th>       <td>3589.225</td> <th>  Durbin-Watson:     </th> <td>   1.902</td>\n",
       "</tr>\n",
       "<tr>\n",
       "  <th>Prob(Omnibus):</th>  <td> 0.000</td>  <th>  Jarque-Bera (JB):  </th> <td>4291.338</td>\n",
       "</tr>\n",
       "<tr>\n",
       "  <th>Skew:</th>           <td>-0.622</td>  <th>  Prob(JB):          </th> <td>    0.00</td>\n",
       "</tr>\n",
       "<tr>\n",
       "  <th>Kurtosis:</th>       <td> 3.405</td>  <th>  Cond. No.          </th> <td>    9.55</td>\n",
       "</tr>\n",
       "</table><br/><br/>Notes:<br/>[1] Standard Errors assume that the covariance matrix of the errors is correctly specified."
      ],
      "text/plain": [
       "<class 'statsmodels.iolib.summary.Summary'>\n",
       "\"\"\"\n",
       "                            OLS Regression Results                            \n",
       "==============================================================================\n",
       "Dep. Variable:      Cooperation_score   R-squared:                       0.004\n",
       "Model:                            OLS   Adj. R-squared:                  0.004\n",
       "Method:                 Least Squares   F-statistic:                     36.60\n",
       "Date:                Sun, 26 Feb 2023   Prob (F-statistic):           1.75e-51\n",
       "Time:                        14:25:39   Log-Likelihood:            -1.1191e+05\n",
       "No. Observations:               60187   AIC:                         2.238e+05\n",
       "Df Residuals:                   60179   BIC:                         2.239e+05\n",
       "Df Model:                           7                                         \n",
       "Covariance Type:            nonrobust                                         \n",
       "=============================================================================================================\n",
       "                                                coef    std err          t      P>|t|      [0.025      0.975]\n",
       "-------------------------------------------------------------------------------------------------------------\n",
       "Intercept                                     8.3105      0.018    467.822      0.000       8.276       8.345\n",
       "C(Perceived_Race)[T.East/Southeast Asian]     0.3180      0.026     12.153      0.000       0.267       0.369\n",
       "C(Perceived_Race)[T.Indigenous]              -0.1822      0.037     -4.881      0.000      -0.255      -0.109\n",
       "C(Perceived_Race)[T.Latino]                   0.2513      0.039      6.480      0.000       0.175       0.327\n",
       "C(Perceived_Race)[T.Middle-Eastern]           0.1553      0.030      5.221      0.000       0.097       0.214\n",
       "C(Perceived_Race)[T.South Asian]              0.1708      0.028      6.015      0.000       0.115       0.226\n",
       "C(Perceived_Race)[T.White]                    0.0681      0.015      4.534      0.000       0.039       0.098\n",
       "C(Sex)[T.M]                                   0.0362      0.016      2.247      0.025       0.005       0.068\n",
       "==============================================================================\n",
       "Omnibus:                     3589.225   Durbin-Watson:                   1.902\n",
       "Prob(Omnibus):                  0.000   Jarque-Bera (JB):             4291.338\n",
       "Skew:                          -0.622   Prob(JB):                         0.00\n",
       "Kurtosis:                       3.405   Cond. No.                         9.55\n",
       "==============================================================================\n",
       "\n",
       "Notes:\n",
       "[1] Standard Errors assume that the covariance matrix of the errors is correctly specified.\n",
       "\"\"\""
      ]
     },
     "execution_count": 29,
     "metadata": {},
     "output_type": "execute_result"
    }
   ],
   "source": [
    "model_1_fix.summary()"
   ]
  },
  {
   "cell_type": "markdown",
   "id": "21d3555d",
   "metadata": {},
   "source": [
    "### Hypothesis 2: Located in Toronto or not and Age group at arrest vs Cooperation score"
   ]
  },
  {
   "cell_type": "code",
   "execution_count": 30,
   "id": "7275a240",
   "metadata": {
    "scrolled": true
   },
   "outputs": [
    {
     "data": {
      "text/plain": [
       "<AxesSubplot:xlabel='Age_group__at_arrest_', ylabel='Cooperation_score'>"
      ]
     },
     "execution_count": 30,
     "metadata": {},
     "output_type": "execute_result"
    },
    {
     "data": {
      "image/png": "[encoded data removed]",
      "text/plain": [
       "<Figure size 720x360 with 1 Axes>"
      ]
     },
     "metadata": {
      "needs_background": "light"
     },
     "output_type": "display_data"
    }
   ],
   "source": [
    "df_2 = df[[\"intoronto\", \"Age_group__at_arrest_\", \"Cooperation_score\"]]\n",
    "plt.figure(figsize=(10,5))\n",
    "sns.boxplot(x=\"Age_group__at_arrest_\", y=\"Cooperation_score\", hue=\"intoronto\", data=df_2, palette=\"Set3\")"
   ]
  },
  {
   "cell_type": "markdown",
   "id": "aa4c9b83",
   "metadata": {},
   "source": [
    "#### Interaction plot of Age_group__at_arrest_ and intoronto:"
   ]
  },
  {
   "cell_type": "code",
   "execution_count": 31,
   "id": "b9231d64",
   "metadata": {},
   "outputs": [
    {
     "data": {
      "image/png": "[encoded data removed]",
      "text/plain": [
       "<Figure size 432x288 with 1 Axes>"
      ]
     },
     "metadata": {
      "needs_background": "light"
     },
     "output_type": "display_data"
    }
   ],
   "source": [
    "fig = interaction_plot(df['Age_group__at_arrest_'], df['intoronto'], df['Cooperation_score'], colors=['#4c061d','#d17a22'])\n",
    "plt.show()"
   ]
  },
  {
   "cell_type": "markdown",
   "id": "35512d1f",
   "metadata": {},
   "source": [
    "#### Two-way ANOVA test and regression models of Hypothesis 2:"
   ]
  },
  {
   "cell_type": "code",
   "execution_count": 32,
   "id": "4633f5b9",
   "metadata": {},
   "outputs": [
    {
     "data": {
      "text/html": [
       "<div>\n",
       "<style scoped>\n",
       "    .dataframe tbody tr th:only-of-type {\n",
       "        vertical-align: middle;\n",
       "    }\n",
       "\n",
       "    .dataframe tbody tr th {\n",
       "        vertical-align: top;\n",
       "    }\n",
       "\n",
       "    .dataframe thead th {\n",
       "        text-align: right;\n",
       "    }\n",
       "</style>\n",
       "<table border=\"1\" class=\"dataframe\">\n",
       "  <thead>\n",
       "    <tr style=\"text-align: right;\">\n",
       "      <th></th>\n",
       "      <th>sum_sq</th>\n",
       "      <th>df</th>\n",
       "      <th>F</th>\n",
       "      <th>PR(&gt;F)</th>\n",
       "    </tr>\n",
       "  </thead>\n",
       "  <tbody>\n",
       "    <tr>\n",
       "      <th>C(intoronto)</th>\n",
       "      <td>28.067518</td>\n",
       "      <td>1.0</td>\n",
       "      <td>11.597641</td>\n",
       "      <td>6.607866e-04</td>\n",
       "    </tr>\n",
       "    <tr>\n",
       "      <th>C(Age_group__at_arrest_)</th>\n",
       "      <td>181.964605</td>\n",
       "      <td>6.0</td>\n",
       "      <td>12.531450</td>\n",
       "      <td>3.584600e-14</td>\n",
       "    </tr>\n",
       "    <tr>\n",
       "      <th>C(intoronto):C(Age_group__at_arrest_)</th>\n",
       "      <td>21.299441</td>\n",
       "      <td>6.0</td>\n",
       "      <td>1.466839</td>\n",
       "      <td>1.851015e-01</td>\n",
       "    </tr>\n",
       "    <tr>\n",
       "      <th>Residual</th>\n",
       "      <td>145625.027922</td>\n",
       "      <td>60173.0</td>\n",
       "      <td>NaN</td>\n",
       "      <td>NaN</td>\n",
       "    </tr>\n",
       "  </tbody>\n",
       "</table>\n",
       "</div>"
      ],
      "text/plain": [
       "                                              sum_sq       df          F  \\\n",
       "C(intoronto)                               28.067518      1.0  11.597641   \n",
       "C(Age_group__at_arrest_)                  181.964605      6.0  12.531450   \n",
       "C(intoronto):C(Age_group__at_arrest_)      21.299441      6.0   1.466839   \n",
       "Residual                               145625.027922  60173.0        NaN   \n",
       "\n",
       "                                             PR(>F)  \n",
       "C(intoronto)                           6.607866e-04  \n",
       "C(Age_group__at_arrest_)               3.584600e-14  \n",
       "C(intoronto):C(Age_group__at_arrest_)  1.851015e-01  \n",
       "Residual                                        NaN  "
      ]
     },
     "execution_count": 32,
     "metadata": {},
     "output_type": "execute_result"
    }
   ],
   "source": [
    "model_2 = ols('Cooperation_score ~ C(intoronto) + C(Age_group__at_arrest_) + C(intoronto):C(Age_group__at_arrest_) ', data=df).fit()\n",
    "anova_table_2 = sm.stats.anova_lm(model_2, typ=2)\n",
    "anova_table_2"
   ]
  },
  {
   "cell_type": "code",
   "execution_count": 33,
   "id": "85b58984",
   "metadata": {},
   "outputs": [
    {
     "data": {
      "text/html": [
       "<div>\n",
       "<style scoped>\n",
       "    .dataframe tbody tr th:only-of-type {\n",
       "        vertical-align: middle;\n",
       "    }\n",
       "\n",
       "    .dataframe tbody tr th {\n",
       "        vertical-align: top;\n",
       "    }\n",
       "\n",
       "    .dataframe thead th {\n",
       "        text-align: right;\n",
       "    }\n",
       "</style>\n",
       "<table border=\"1\" class=\"dataframe\">\n",
       "  <thead>\n",
       "    <tr style=\"text-align: right;\">\n",
       "      <th></th>\n",
       "      <th>sum_sq</th>\n",
       "      <th>df</th>\n",
       "      <th>F</th>\n",
       "      <th>PR(&gt;F)</th>\n",
       "    </tr>\n",
       "  </thead>\n",
       "  <tbody>\n",
       "    <tr>\n",
       "      <th>C(intoronto)</th>\n",
       "      <td>28.067518</td>\n",
       "      <td>1.0</td>\n",
       "      <td>11.597101</td>\n",
       "      <td>6.609783e-04</td>\n",
       "    </tr>\n",
       "    <tr>\n",
       "      <th>C(Age_group__at_arrest_)</th>\n",
       "      <td>181.964605</td>\n",
       "      <td>6.0</td>\n",
       "      <td>12.530866</td>\n",
       "      <td>3.590537e-14</td>\n",
       "    </tr>\n",
       "    <tr>\n",
       "      <th>Residual</th>\n",
       "      <td>145646.327362</td>\n",
       "      <td>60179.0</td>\n",
       "      <td>NaN</td>\n",
       "      <td>NaN</td>\n",
       "    </tr>\n",
       "  </tbody>\n",
       "</table>\n",
       "</div>"
      ],
      "text/plain": [
       "                                 sum_sq       df          F        PR(>F)\n",
       "C(intoronto)                  28.067518      1.0  11.597101  6.609783e-04\n",
       "C(Age_group__at_arrest_)     181.964605      6.0  12.530866  3.590537e-14\n",
       "Residual                  145646.327362  60179.0        NaN           NaN"
      ]
     },
     "execution_count": 33,
     "metadata": {},
     "output_type": "execute_result"
    }
   ],
   "source": [
    "# The regression model after fixed:\n",
    "\n",
    "model_2_fix = ols('Cooperation_score ~ C(intoronto) + C(Age_group__at_arrest_)', data=df).fit()\n",
    "anova_table_2 = sm.stats.anova_lm(model_2_fix, typ=2)\n",
    "anova_table_2"
   ]
  },
  {
   "cell_type": "code",
   "execution_count": 34,
   "id": "e1db237f",
   "metadata": {},
   "outputs": [
    {
     "data": {
      "text/html": [
       "<table class=\"simpletable\">\n",
       "<caption>OLS Regression Results</caption>\n",
       "<tr>\n",
       "  <th>Dep. Variable:</th>    <td>Cooperation_score</td> <th>  R-squared:         </th>  <td>   0.001</td>  \n",
       "</tr>\n",
       "<tr>\n",
       "  <th>Model:</th>                   <td>OLS</td>        <th>  Adj. R-squared:    </th>  <td>   0.001</td>  \n",
       "</tr>\n",
       "<tr>\n",
       "  <th>Method:</th>             <td>Least Squares</td>   <th>  F-statistic:       </th>  <td>   12.72</td>  \n",
       "</tr>\n",
       "<tr>\n",
       "  <th>Date:</th>             <td>Sun, 26 Feb 2023</td>  <th>  Prob (F-statistic):</th>  <td>2.01e-16</td>  \n",
       "</tr>\n",
       "<tr>\n",
       "  <th>Time:</th>                 <td>14:25:41</td>      <th>  Log-Likelihood:    </th> <td>-1.1200e+05</td>\n",
       "</tr>\n",
       "<tr>\n",
       "  <th>No. Observations:</th>      <td> 60187</td>       <th>  AIC:               </th>  <td>2.240e+05</td> \n",
       "</tr>\n",
       "<tr>\n",
       "  <th>Df Residuals:</th>          <td> 60179</td>       <th>  BIC:               </th>  <td>2.241e+05</td> \n",
       "</tr>\n",
       "<tr>\n",
       "  <th>Df Model:</th>              <td>     7</td>       <th>                     </th>      <td> </td>     \n",
       "</tr>\n",
       "<tr>\n",
       "  <th>Covariance Type:</th>      <td>nonrobust</td>     <th>                     </th>      <td> </td>     \n",
       "</tr>\n",
       "</table>\n",
       "<table class=\"simpletable\">\n",
       "<tr>\n",
       "                  <td></td>                     <th>coef</th>     <th>std err</th>      <th>t</th>      <th>P>|t|</th>  <th>[0.025</th>    <th>0.975]</th>  \n",
       "</tr>\n",
       "<tr>\n",
       "  <th>Intercept</th>                         <td>    8.5706</td> <td>    0.030</td> <td>  286.679</td> <td> 0.000</td> <td>    8.512</td> <td>    8.629</td>\n",
       "</tr>\n",
       "<tr>\n",
       "  <th>C(intoronto)[T.1]</th>                 <td>   -0.0434</td> <td>    0.013</td> <td>   -3.405</td> <td> 0.001</td> <td>   -0.068</td> <td>   -0.018</td>\n",
       "</tr>\n",
       "<tr>\n",
       "  <th>C(Age_group__at_arrest_)[T.18-24]</th> <td>   -0.1400</td> <td>    0.033</td> <td>   -4.181</td> <td> 0.000</td> <td>   -0.206</td> <td>   -0.074</td>\n",
       "</tr>\n",
       "<tr>\n",
       "  <th>C(Age_group__at_arrest_)[T.25-34]</th> <td>   -0.1855</td> <td>    0.031</td> <td>   -5.916</td> <td> 0.000</td> <td>   -0.247</td> <td>   -0.124</td>\n",
       "</tr>\n",
       "<tr>\n",
       "  <th>C(Age_group__at_arrest_)[T.35-44]</th> <td>   -0.1479</td> <td>    0.032</td> <td>   -4.636</td> <td> 0.000</td> <td>   -0.211</td> <td>   -0.085</td>\n",
       "</tr>\n",
       "<tr>\n",
       "  <th>C(Age_group__at_arrest_)[T.45-54]</th> <td>   -0.0720</td> <td>    0.034</td> <td>   -2.128</td> <td> 0.033</td> <td>   -0.138</td> <td>   -0.006</td>\n",
       "</tr>\n",
       "<tr>\n",
       "  <th>C(Age_group__at_arrest_)[T.55-64]</th> <td>   -0.0754</td> <td>    0.038</td> <td>   -1.995</td> <td> 0.046</td> <td>   -0.150</td> <td>   -0.001</td>\n",
       "</tr>\n",
       "<tr>\n",
       "  <th>C(Age_group__at_arrest_)[T.65+]</th>   <td>    0.0245</td> <td>    0.053</td> <td>    0.458</td> <td> 0.647</td> <td>   -0.080</td> <td>    0.129</td>\n",
       "</tr>\n",
       "</table>\n",
       "<table class=\"simpletable\">\n",
       "<tr>\n",
       "  <th>Omnibus:</th>       <td>3568.398</td> <th>  Durbin-Watson:     </th> <td>   1.900</td>\n",
       "</tr>\n",
       "<tr>\n",
       "  <th>Prob(Omnibus):</th>  <td> 0.000</td>  <th>  Jarque-Bera (JB):  </th> <td>4258.881</td>\n",
       "</tr>\n",
       "<tr>\n",
       "  <th>Skew:</th>           <td>-0.621</td>  <th>  Prob(JB):          </th> <td>    0.00</td>\n",
       "</tr>\n",
       "<tr>\n",
       "  <th>Kurtosis:</th>       <td> 3.394</td>  <th>  Cond. No.          </th> <td>    16.0</td>\n",
       "</tr>\n",
       "</table><br/><br/>Notes:<br/>[1] Standard Errors assume that the covariance matrix of the errors is correctly specified."
      ],
      "text/plain": [
       "<class 'statsmodels.iolib.summary.Summary'>\n",
       "\"\"\"\n",
       "                            OLS Regression Results                            \n",
       "==============================================================================\n",
       "Dep. Variable:      Cooperation_score   R-squared:                       0.001\n",
       "Model:                            OLS   Adj. R-squared:                  0.001\n",
       "Method:                 Least Squares   F-statistic:                     12.72\n",
       "Date:                Sun, 26 Feb 2023   Prob (F-statistic):           2.01e-16\n",
       "Time:                        14:25:41   Log-Likelihood:            -1.1200e+05\n",
       "No. Observations:               60187   AIC:                         2.240e+05\n",
       "Df Residuals:                   60179   BIC:                         2.241e+05\n",
       "Df Model:                           7                                         \n",
       "Covariance Type:            nonrobust                                         \n",
       "=====================================================================================================\n",
       "                                        coef    std err          t      P>|t|      [0.025      0.975]\n",
       "-----------------------------------------------------------------------------------------------------\n",
       "Intercept                             8.5706      0.030    286.679      0.000       8.512       8.629\n",
       "C(intoronto)[T.1]                    -0.0434      0.013     -3.405      0.001      -0.068      -0.018\n",
       "C(Age_group__at_arrest_)[T.18-24]    -0.1400      0.033     -4.181      0.000      -0.206      -0.074\n",
       "C(Age_group__at_arrest_)[T.25-34]    -0.1855      0.031     -5.916      0.000      -0.247      -0.124\n",
       "C(Age_group__at_arrest_)[T.35-44]    -0.1479      0.032     -4.636      0.000      -0.211      -0.085\n",
       "C(Age_group__at_arrest_)[T.45-54]    -0.0720      0.034     -2.128      0.033      -0.138      -0.006\n",
       "C(Age_group__at_arrest_)[T.55-64]    -0.0754      0.038     -1.995      0.046      -0.150      -0.001\n",
       "C(Age_group__at_arrest_)[T.65+]       0.0245      0.053      0.458      0.647      -0.080       0.129\n",
       "==============================================================================\n",
       "Omnibus:                     3568.398   Durbin-Watson:                   1.900\n",
       "Prob(Omnibus):                  0.000   Jarque-Bera (JB):             4258.881\n",
       "Skew:                          -0.621   Prob(JB):                         0.00\n",
       "Kurtosis:                       3.394   Cond. No.                         16.0\n",
       "==============================================================================\n",
       "\n",
       "Notes:\n",
       "[1] Standard Errors assume that the covariance matrix of the errors is correctly specified.\n",
       "\"\"\""
      ]
     },
     "execution_count": 34,
     "metadata": {},
     "output_type": "execute_result"
    }
   ],
   "source": [
    "model_2_fix.summary()"
   ]
  },
  {
   "cell_type": "code",
   "execution_count": null,
   "id": "263e7c46",
   "metadata": {},
   "outputs": [],
   "source": []
  }
 ],
 "metadata": {
  "kernelspec": {
   "display_name": "Python 3 (ipykernel)",
   "language": "python",
   "name": "python3"
  },
  "language_info": {
   "codemirror_mode": {
    "name": "ipython",
    "version": 3
   },
   "file_extension": ".py",
   "mimetype": "text/x-python",
   "name": "python",
   "nbconvert_exporter": "python",
   "pygments_lexer": "ipython3",
   "version": "3.9.7"
  }
 },
 "nbformat": 4,
 "nbformat_minor": 5
}
