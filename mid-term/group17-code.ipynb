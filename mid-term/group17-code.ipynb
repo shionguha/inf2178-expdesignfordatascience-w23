{
  "nbformat": 4,
  "nbformat_minor": 0,
  "metadata": {
    "colab": {
      "provenance": []
    },
    "kernelspec": {
      "name": "python3",
      "display_name": "Python 3"
    },
    "language_info": {
      "name": "python"
    }
  },
  "cells": [
    {
      "cell_type": "code",
      "execution_count": null,
      "metadata": {
        "id": "ocrliF9DdzAH"
      },
      "outputs": [],
      "source": [
        "import pandas as pd\n",
        "import os \n",
        "from os import listdir\n",
        "from os.path import isfile, join \n",
        "import glob\n",
        "import re\n",
        "import matplotlib \n",
        "from matplotlib import pyplot as plt\n",
        "import seaborn as sns\n",
        "import io\n",
        "from scipy.stats import ttest_ind\n",
        "from scipy import stats\n",
        "import numpy as np\n",
        "import statsmodels.api as sm\n",
        "from statsmodels.stats.multicomp import pairwise_tukeyhsd\n",
        "from scipy.stats import f_oneway"
      ]
    },
    {
      "cell_type": "code",
      "source": [
        "path=os.getcwd()\n",
        "print(path)\n",
        "from google.colab import drive\n",
        "drive.mount('/content/drive')"
      ],
      "metadata": {
        "colab": {
          "base_uri": "https://localhost:8080/"
        },
        "id": "S77zqrggW0qq",
        "outputId": "09ab8c62-ddde-4ec2-e206-ec1ebf6829ac"
      },
      "execution_count": null,
      "outputs": [
        {
          "output_type": "stream",
          "name": "stdout",
          "text": [
            "/content\n",
            "Drive already mounted at /content/drive; to attempt to forcibly remount, call drive.mount(\"/content/drive\", force_remount=True).\n"
          ]
        }
      ]
    },
    {
      "cell_type": "code",
      "source": [
        "df = pd.ExcelFile('/content/drive/My Drive/Arrests.xlsx')"
      ],
      "metadata": {
        "id": "EGMT0Wl9W2W5"
      },
      "execution_count": null,
      "outputs": []
    },
    {
      "cell_type": "code",
      "source": [
        "table1 = pd.read_excel(df,'Arrests_and_Strip_Searches_(RBD')\n",
        "table1.head()"
      ],
      "metadata": {
        "id": "jaoJBy6zXpfI",
        "outputId": "c1c62280-66cf-413e-d570-60719f04b613",
        "colab": {
          "base_uri": "https://localhost:8080/",
          "height": 317
        }
      },
      "execution_count": null,
      "outputs": [
        {
          "output_type": "execute_result",
          "data": {
            "text/plain": [
              "   Arrest_Year Arrest_Month  EventID   ArrestID  PersonID     Perceived_Race  \\\n",
              "0         2020    July-Sept  1005907  6017884.0    326622              White   \n",
              "1         2020    July-Sept  1014562  6056669.0    326622              White   \n",
              "2         2020      Oct-Dec  1029922  6057065.0    326622  Unknown or Legacy   \n",
              "3         2021      Jan-Mar  1052190  6029059.0    327535              Black   \n",
              "4         2021      Jan-Mar  1015512  6040372.0    327535        South Asian   \n",
              "\n",
              "  Sex Age_group__at_arrest_ Youth_at_arrest__under_18_years ArrestLocDiv  ...  \\\n",
              "0   M   Aged 35 to 44 years                     Not a youth           54  ...   \n",
              "1   M   Aged 35 to 44 years                     Not a youth           54  ...   \n",
              "2   M   Aged 35 to 44 years                     Not a youth           54  ...   \n",
              "3   M   Aged 25 to 34 years                     Not a youth           XX  ...   \n",
              "4   M   Aged 25 to 34 years                     Not a youth           XX  ...   \n",
              "\n",
              "   Actions_at_arrest___Resisted__d  Actions_at_arrest___Mental_inst  \\\n",
              "0                                0                                0   \n",
              "1                                0                                0   \n",
              "2                                0                                0   \n",
              "3                                0                                0   \n",
              "4                                0                                0   \n",
              "\n",
              "  Actions_at_arrest___Assaulted_o  Actions_at_arrest___Cooperative  \\\n",
              "0                               0                                1   \n",
              "1                               0                                0   \n",
              "2                               0                                0   \n",
              "3                               0                                0   \n",
              "4                               0                                0   \n",
              "\n",
              "   SearchReason_CauseInjury  SearchReason_AssistEscape  \\\n",
              "0                       NaN                        NaN   \n",
              "1                       NaN                        NaN   \n",
              "2                       NaN                        NaN   \n",
              "3                       NaN                        NaN   \n",
              "4                       NaN                        NaN   \n",
              "\n",
              "   SearchReason_PossessWeapons  SearchReason_PossessEvidence  ItemsFound  \\\n",
              "0                          NaN                           NaN         NaN   \n",
              "1                          NaN                           NaN         NaN   \n",
              "2                          NaN                           NaN         NaN   \n",
              "3                          NaN                           NaN         NaN   \n",
              "4                          NaN                           NaN         NaN   \n",
              "\n",
              "   ObjectId  \n",
              "0         1  \n",
              "1         2  \n",
              "2         3  \n",
              "3         4  \n",
              "4         5  \n",
              "\n",
              "[5 rows x 25 columns]"
            ],
            "text/html": [
              "\n",
              "  <div id=\"df-a21daea1-fa82-4399-9514-9ff7d3410ff1\">\n",
              "    <div class=\"colab-df-container\">\n",
              "      <div>\n",
              "<style scoped>\n",
              "    .dataframe tbody tr th:only-of-type {\n",
              "        vertical-align: middle;\n",
              "    }\n",
              "\n",
              "    .dataframe tbody tr th {\n",
              "        vertical-align: top;\n",
              "    }\n",
              "\n",
              "    .dataframe thead th {\n",
              "        text-align: right;\n",
              "    }\n",
              "</style>\n",
              "<table border=\"1\" class=\"dataframe\">\n",
              "  <thead>\n",
              "    <tr style=\"text-align: right;\">\n",
              "      <th></th>\n",
              "      <th>Arrest_Year</th>\n",
              "      <th>Arrest_Month</th>\n",
              "      <th>EventID</th>\n",
              "      <th>ArrestID</th>\n",
              "      <th>PersonID</th>\n",
              "      <th>Perceived_Race</th>\n",
              "      <th>Sex</th>\n",
              "      <th>Age_group__at_arrest_</th>\n",
              "      <th>Youth_at_arrest__under_18_years</th>\n",
              "      <th>ArrestLocDiv</th>\n",
              "      <th>...</th>\n",
              "      <th>Actions_at_arrest___Resisted__d</th>\n",
              "      <th>Actions_at_arrest___Mental_inst</th>\n",
              "      <th>Actions_at_arrest___Assaulted_o</th>\n",
              "      <th>Actions_at_arrest___Cooperative</th>\n",
              "      <th>SearchReason_CauseInjury</th>\n",
              "      <th>SearchReason_AssistEscape</th>\n",
              "      <th>SearchReason_PossessWeapons</th>\n",
              "      <th>SearchReason_PossessEvidence</th>\n",
              "      <th>ItemsFound</th>\n",
              "      <th>ObjectId</th>\n",
              "    </tr>\n",
              "  </thead>\n",
              "  <tbody>\n",
              "    <tr>\n",
              "      <th>0</th>\n",
              "      <td>2020</td>\n",
              "      <td>July-Sept</td>\n",
              "      <td>1005907</td>\n",
              "      <td>6017884.0</td>\n",
              "      <td>326622</td>\n",
              "      <td>White</td>\n",
              "      <td>M</td>\n",
              "      <td>Aged 35 to 44 years</td>\n",
              "      <td>Not a youth</td>\n",
              "      <td>54</td>\n",
              "      <td>...</td>\n",
              "      <td>0</td>\n",
              "      <td>0</td>\n",
              "      <td>0</td>\n",
              "      <td>1</td>\n",
              "      <td>NaN</td>\n",
              "      <td>NaN</td>\n",
              "      <td>NaN</td>\n",
              "      <td>NaN</td>\n",
              "      <td>NaN</td>\n",
              "      <td>1</td>\n",
              "    </tr>\n",
              "    <tr>\n",
              "      <th>1</th>\n",
              "      <td>2020</td>\n",
              "      <td>July-Sept</td>\n",
              "      <td>1014562</td>\n",
              "      <td>6056669.0</td>\n",
              "      <td>326622</td>\n",
              "      <td>White</td>\n",
              "      <td>M</td>\n",
              "      <td>Aged 35 to 44 years</td>\n",
              "      <td>Not a youth</td>\n",
              "      <td>54</td>\n",
              "      <td>...</td>\n",
              "      <td>0</td>\n",
              "      <td>0</td>\n",
              "      <td>0</td>\n",
              "      <td>0</td>\n",
              "      <td>NaN</td>\n",
              "      <td>NaN</td>\n",
              "      <td>NaN</td>\n",
              "      <td>NaN</td>\n",
              "      <td>NaN</td>\n",
              "      <td>2</td>\n",
              "    </tr>\n",
              "    <tr>\n",
              "      <th>2</th>\n",
              "      <td>2020</td>\n",
              "      <td>Oct-Dec</td>\n",
              "      <td>1029922</td>\n",
              "      <td>6057065.0</td>\n",
              "      <td>326622</td>\n",
              "      <td>Unknown or Legacy</td>\n",
              "      <td>M</td>\n",
              "      <td>Aged 35 to 44 years</td>\n",
              "      <td>Not a youth</td>\n",
              "      <td>54</td>\n",
              "      <td>...</td>\n",
              "      <td>0</td>\n",
              "      <td>0</td>\n",
              "      <td>0</td>\n",
              "      <td>0</td>\n",
              "      <td>NaN</td>\n",
              "      <td>NaN</td>\n",
              "      <td>NaN</td>\n",
              "      <td>NaN</td>\n",
              "      <td>NaN</td>\n",
              "      <td>3</td>\n",
              "    </tr>\n",
              "    <tr>\n",
              "      <th>3</th>\n",
              "      <td>2021</td>\n",
              "      <td>Jan-Mar</td>\n",
              "      <td>1052190</td>\n",
              "      <td>6029059.0</td>\n",
              "      <td>327535</td>\n",
              "      <td>Black</td>\n",
              "      <td>M</td>\n",
              "      <td>Aged 25 to 34 years</td>\n",
              "      <td>Not a youth</td>\n",
              "      <td>XX</td>\n",
              "      <td>...</td>\n",
              "      <td>0</td>\n",
              "      <td>0</td>\n",
              "      <td>0</td>\n",
              "      <td>0</td>\n",
              "      <td>NaN</td>\n",
              "      <td>NaN</td>\n",
              "      <td>NaN</td>\n",
              "      <td>NaN</td>\n",
              "      <td>NaN</td>\n",
              "      <td>4</td>\n",
              "    </tr>\n",
              "    <tr>\n",
              "      <th>4</th>\n",
              "      <td>2021</td>\n",
              "      <td>Jan-Mar</td>\n",
              "      <td>1015512</td>\n",
              "      <td>6040372.0</td>\n",
              "      <td>327535</td>\n",
              "      <td>South Asian</td>\n",
              "      <td>M</td>\n",
              "      <td>Aged 25 to 34 years</td>\n",
              "      <td>Not a youth</td>\n",
              "      <td>XX</td>\n",
              "      <td>...</td>\n",
              "      <td>0</td>\n",
              "      <td>0</td>\n",
              "      <td>0</td>\n",
              "      <td>0</td>\n",
              "      <td>NaN</td>\n",
              "      <td>NaN</td>\n",
              "      <td>NaN</td>\n",
              "      <td>NaN</td>\n",
              "      <td>NaN</td>\n",
              "      <td>5</td>\n",
              "    </tr>\n",
              "  </tbody>\n",
              "</table>\n",
              "<p>5 rows × 25 columns</p>\n",
              "</div>\n",
              "      <button class=\"colab-df-convert\" onclick=\"convertToInteractive('df-a21daea1-fa82-4399-9514-9ff7d3410ff1')\"\n",
              "              title=\"Convert this dataframe to an interactive table.\"\n",
              "              style=\"display:none;\">\n",
              "        \n",
              "  <svg xmlns=\"http://www.w3.org/2000/svg\" height=\"24px\"viewBox=\"0 0 24 24\"\n",
              "       width=\"24px\">\n",
              "    <path d=\"M0 0h24v24H0V0z\" fill=\"none\"/>\n",
              "    <path d=\"M18.56 5.44l.94 2.06.94-2.06 2.06-.94-2.06-.94-.94-2.06-.94 2.06-2.06.94zm-11 1L8.5 8.5l.94-2.06 2.06-.94-2.06-.94L8.5 2.5l-.94 2.06-2.06.94zm10 10l.94 2.06.94-2.06 2.06-.94-2.06-.94-.94-2.06-.94 2.06-2.06.94z\"/><path d=\"M17.41 7.96l-1.37-1.37c-.4-.4-.92-.59-1.43-.59-.52 0-1.04.2-1.43.59L10.3 9.45l-7.72 7.72c-.78.78-.78 2.05 0 2.83L4 21.41c.39.39.9.59 1.41.59.51 0 1.02-.2 1.41-.59l7.78-7.78 2.81-2.81c.8-.78.8-2.07 0-2.86zM5.41 20L4 18.59l7.72-7.72 1.47 1.35L5.41 20z\"/>\n",
              "  </svg>\n",
              "      </button>\n",
              "      \n",
              "  <style>\n",
              "    .colab-df-container {\n",
              "      display:flex;\n",
              "      flex-wrap:wrap;\n",
              "      gap: 12px;\n",
              "    }\n",
              "\n",
              "    .colab-df-convert {\n",
              "      background-color: #E8F0FE;\n",
              "      border: none;\n",
              "      border-radius: 50%;\n",
              "      cursor: pointer;\n",
              "      display: none;\n",
              "      fill: #1967D2;\n",
              "      height: 32px;\n",
              "      padding: 0 0 0 0;\n",
              "      width: 32px;\n",
              "    }\n",
              "\n",
              "    .colab-df-convert:hover {\n",
              "      background-color: #E2EBFA;\n",
              "      box-shadow: 0px 1px 2px rgba(60, 64, 67, 0.3), 0px 1px 3px 1px rgba(60, 64, 67, 0.15);\n",
              "      fill: #174EA6;\n",
              "    }\n",
              "\n",
              "    [theme=dark] .colab-df-convert {\n",
              "      background-color: #3B4455;\n",
              "      fill: #D2E3FC;\n",
              "    }\n",
              "\n",
              "    [theme=dark] .colab-df-convert:hover {\n",
              "      background-color: #434B5C;\n",
              "      box-shadow: 0px 1px 3px 1px rgba(0, 0, 0, 0.15);\n",
              "      filter: drop-shadow(0px 1px 2px rgba(0, 0, 0, 0.3));\n",
              "      fill: #FFFFFF;\n",
              "    }\n",
              "  </style>\n",
              "\n",
              "      <script>\n",
              "        const buttonEl =\n",
              "          document.querySelector('#df-a21daea1-fa82-4399-9514-9ff7d3410ff1 button.colab-df-convert');\n",
              "        buttonEl.style.display =\n",
              "          google.colab.kernel.accessAllowed ? 'block' : 'none';\n",
              "\n",
              "        async function convertToInteractive(key) {\n",
              "          const element = document.querySelector('#df-a21daea1-fa82-4399-9514-9ff7d3410ff1');\n",
              "          const dataTable =\n",
              "            await google.colab.kernel.invokeFunction('convertToInteractive',\n",
              "                                                     [key], {});\n",
              "          if (!dataTable) return;\n",
              "\n",
              "          const docLinkHtml = 'Like what you see? Visit the ' +\n",
              "            '<a target=\"_blank\" href=https://colab.research.google.com/notebooks/data_table.ipynb>data table notebook</a>'\n",
              "            + ' to learn more about interactive tables.';\n",
              "          element.innerHTML = '';\n",
              "          dataTable['output_type'] = 'display_data';\n",
              "          await google.colab.output.renderOutput(dataTable, element);\n",
              "          const docLink = document.createElement('div');\n",
              "          docLink.innerHTML = docLinkHtml;\n",
              "          element.appendChild(docLink);\n",
              "        }\n",
              "      </script>\n",
              "    </div>\n",
              "  </div>\n",
              "  "
            ]
          },
          "metadata": {},
          "execution_count": 18
        }
      ]
    },
    {
      "cell_type": "code",
      "source": [
        "booked_yes = table1[table1['Booked'] == 'yes']['Sex']\n",
        "booked_no = table1[table1['Booked'] == 'no']['Sex']"
      ],
      "metadata": {
        "id": "LlJvn7A41Qnp"
      },
      "execution_count": null,
      "outputs": []
    },
    {
      "cell_type": "code",
      "source": [
        "#EDA grapghs\n",
        "# Bar Chart for booked by race \n",
        "grouped_data = table1.groupby('Perceived_Race')['Booked'].value_counts().unstack()\n",
        "grouped_data.plot(kind='bar', stacked=True)\n",
        "plt.title('Booking Status by Race')"
      ],
      "metadata": {
        "id": "WatMn1dvZRDZ",
        "colab": {
          "base_uri": "https://localhost:8080/",
          "height": 410
        },
        "outputId": "eae3e6ab-f6d2-4466-8b30-220a1b49e542"
      },
      "execution_count": null,
      "outputs": [
        {
          "output_type": "execute_result",
          "data": {
            "text/plain": [
              "Text(0.5, 1.0, 'Booking Status by Race')"
            ]
          },
          "metadata": {},
          "execution_count": 20
        },
        {
          "output_type": "display_data",
          "data": {
            "text/plain": [
              "<Figure size 432x288 with 1 Axes>"
            ],
            "image/png": "[encoded data removed]"
          },
          "metadata": {
            "needs_background": "light"
          }
        }
      ]
    },
    {
      "cell_type": "code",
      "source": [
        "table1['Sex'] = table1['Sex'].replace({0: 'male', 1: 'female'})"
      ],
      "metadata": {
        "id": "ft5C4f5XYHD6"
      },
      "execution_count": null,
      "outputs": []
    },
    {
      "cell_type": "code",
      "source": [
        "# Bar Chart for booked by sex \n",
        "grouped_data = table1.groupby('Sex')['Booked'].value_counts().unstack()\n",
        "grouped_data.plot(kind='bar', stacked=True)\n",
        "plt.title('Booking Status by Sex')"
      ],
      "metadata": {
        "id": "CQuFVQb1cnEz",
        "colab": {
          "base_uri": "https://localhost:8080/",
          "height": 312
        },
        "outputId": "a09cf578-a146-4387-f0de-9cee0966fbba"
      },
      "execution_count": null,
      "outputs": [
        {
          "output_type": "execute_result",
          "data": {
            "text/plain": [
              "Text(0.5, 1.0, 'Booking Status by Sex')"
            ]
          },
          "metadata": {},
          "execution_count": 22
        },
        {
          "output_type": "display_data",
          "data": {
            "text/plain": [
              "<Figure size 432x288 with 1 Axes>"
            ],
            "image/png": "[encoded data removed]"
          },
          "metadata": {
            "needs_background": "light"
          }
        }
      ]
    },
    {
      "cell_type": "code",
      "source": [
        "# Bar Chart for booked by age group\n",
        "grouped_data = table1.groupby('Age_group__at_arrest_')['Booked'].value_counts().unstack()\n",
        "grouped_data.plot(kind='bar', stacked=True)\n",
        "plt.title('Booking Status by Age Group ')"
      ],
      "metadata": {
        "id": "glKd71gygiRP",
        "colab": {
          "base_uri": "https://localhost:8080/",
          "height": 443
        },
        "outputId": "51d14565-46d2-4926-b853-609a52bab141"
      },
      "execution_count": null,
      "outputs": [
        {
          "output_type": "execute_result",
          "data": {
            "text/plain": [
              "Text(0.5, 1.0, 'Booking Status by Age Group ')"
            ]
          },
          "metadata": {},
          "execution_count": 23
        },
        {
          "output_type": "display_data",
          "data": {
            "text/plain": [
              "<Figure size 432x288 with 1 Axes>"
            ],
            "image/png": "[encoded data removed]"
          },
          "metadata": {
            "needs_background": "light"
          }
        }
      ]
    },
    {
      "cell_type": "code",
      "source": [],
      "metadata": {
        "id": "E4LdIARr5CLQ"
      },
      "execution_count": null,
      "outputs": []
    },
    {
      "cell_type": "code",
      "source": [
        "# Bar Chart for booked by actions\n",
        "grouped_data = table1.groupby('Actions_at_arrest___Concealed_i')['Booked'].value_counts().unstack()\n",
        "grouped_data.plot(kind='bar', stacked=True)\n",
        "plt.title('Booking Status by Acitions Concealed ')"
      ],
      "metadata": {
        "id": "GcXRwivn5Crg",
        "colab": {
          "base_uri": "https://localhost:8080/",
          "height": 311
        },
        "outputId": "62ef774a-6249-4c22-e368-ee50b62894c0"
      },
      "execution_count": null,
      "outputs": [
        {
          "output_type": "execute_result",
          "data": {
            "text/plain": [
              "Text(0.5, 1.0, 'Booking Status by Acitions Concealed ')"
            ]
          },
          "metadata": {},
          "execution_count": 24
        },
        {
          "output_type": "display_data",
          "data": {
            "text/plain": [
              "<Figure size 432x288 with 1 Axes>"
            ],
            "image/png": "[encoded data removed]"
          },
          "metadata": {
            "needs_background": "light"
          }
        }
      ]
    },
    {
      "cell_type": "code",
      "source": [],
      "metadata": {
        "id": "RCQb1sOD5ZX8"
      },
      "execution_count": null,
      "outputs": []
    },
    {
      "cell_type": "code",
      "source": [
        "# Bar Chart for booked by actions\n",
        "grouped_data = table1.groupby('Actions_at_arrest___Combative__')['Booked'].value_counts().unstack()\n",
        "grouped_data.plot(kind='bar', stacked=True)\n",
        "plt.title('Booking Status by Acitions Combative ')"
      ],
      "metadata": {
        "id": "5phYWMB56Rnm",
        "colab": {
          "base_uri": "https://localhost:8080/",
          "height": 311
        },
        "outputId": "1a285268-05ef-41f9-8222-38a555068ea9"
      },
      "execution_count": null,
      "outputs": [
        {
          "output_type": "execute_result",
          "data": {
            "text/plain": [
              "Text(0.5, 1.0, 'Booking Status by Acitions Combative ')"
            ]
          },
          "metadata": {},
          "execution_count": 25
        },
        {
          "output_type": "display_data",
          "data": {
            "text/plain": [
              "<Figure size 432x288 with 1 Axes>"
            ],
            "image/png": "[encoded data removed]"
          },
          "metadata": {
            "needs_background": "light"
          }
        }
      ]
    },
    {
      "cell_type": "code",
      "source": [
        "# Replace 'M' and 'F' with 0 and 1 respectively\n",
        "table1['Sex'] = table1['Sex'].replace({'M': 0, 'F': 1})\n",
        "\n",
        "# Replace 'U' with NaN\n",
        "table1['Sex'] = table1['Sex'].replace({'U': np.nan})\n",
        "\n",
        "# Drop the NaN values\n",
        "table1 = table1.dropna()\n",
        "\n",
        "# Convert the column to integers\n",
        "table1['Sex'] = table1['Sex'].astype(int)\n",
        "\n",
        "\n",
        "\n",
        "\n",
        "\n",
        "\n",
        "\n",
        "\n"
      ],
      "metadata": {
        "id": "fKKpjk4ShwD3",
        "colab": {
          "base_uri": "https://localhost:8080/"
        },
        "outputId": "56702f4e-41fd-41d6-bd7b-6567bb6b814b"
      },
      "execution_count": null,
      "outputs": [
        {
          "output_type": "stream",
          "name": "stderr",
          "text": [
            "<ipython-input-26-5c93a9592161>:11: SettingWithCopyWarning: \n",
            "A value is trying to be set on a copy of a slice from a DataFrame.\n",
            "Try using .loc[row_indexer,col_indexer] = value instead\n",
            "\n",
            "See the caveats in the documentation: https://pandas.pydata.org/pandas-docs/stable/user_guide/indexing.html#returning-a-view-versus-a-copy\n",
            "  table1['Sex'] = table1['Sex'].astype(int)\n"
          ]
        }
      ]
    },
    {
      "cell_type": "code",
      "source": [
        "# t test for booked and sex\n",
        "tStat, pValue = stats.ttest_ind(table1['Sex'][table1['Booked'] == 1], \n",
        "                                table1['Sex'][table1['Booked'] == 0], equal_var = False)\n",
        "print(\"P-Value:{0} T-Statistic:{1}\".format(pValue,tStat))"
      ],
      "metadata": {
        "id": "9Y7X0mIYroRy",
        "colab": {
          "base_uri": "https://localhost:8080/"
        },
        "outputId": "d1647a75-8bcf-47fe-b45a-0eb1f31a2874"
      },
      "execution_count": null,
      "outputs": [
        {
          "output_type": "stream",
          "name": "stdout",
          "text": [
            "P-Value:0.5822700263828706 T-Statistic:0.5517787523981469\n"
          ]
        }
      ]
    },
    {
      "cell_type": "code",
      "source": [
        "# t test for booked and actions concealed\n",
        "tStat, pValue = stats.ttest_ind(table1['Actions_at_arrest___Concealed_i'][table1['Booked'] == 1], \n",
        "                                table1['Actions_at_arrest___Concealed_i'][table1['Booked'] == 0], equal_var = False)\n",
        "print(\"P-Value:{0} T-Statistic:{1}\".format(pValue,tStat))"
      ],
      "metadata": {
        "id": "6-Ky5G7C3e6F",
        "colab": {
          "base_uri": "https://localhost:8080/"
        },
        "outputId": "4b6b1545-cb7e-4a61-f34b-ae988a0a19dc"
      },
      "execution_count": null,
      "outputs": [
        {
          "output_type": "stream",
          "name": "stdout",
          "text": [
            "P-Value:0.5474659919656182 T-Statistic:0.6034870468926516\n"
          ]
        }
      ]
    },
    {
      "cell_type": "code",
      "source": [
        "# t test for booked and actions combative \n",
        "tStat, pValue = stats.ttest_ind(table1['Actions_at_arrest___Combative__'][table1['Booked'] == 1], \n",
        "                                table1['Actions_at_arrest___Combative__'][table1['Booked'] == 0], equal_var = False)\n",
        "print(\"P-Value:{0} T-Statistic:{1}\".format(pValue,tStat))"
      ],
      "metadata": {
        "id": "hQi5XhGpvK-1",
        "colab": {
          "base_uri": "https://localhost:8080/"
        },
        "outputId": "15f8941c-cc0a-4f02-a4df-912fbd4c6bbe"
      },
      "execution_count": null,
      "outputs": [
        {
          "output_type": "stream",
          "name": "stdout",
          "text": [
            "P-Value:0.15116604656296828 T-Statistic:1.445819223466016\n"
          ]
        }
      ]
    },
    {
      "cell_type": "code",
      "source": [
        "# tukey test for booked and sex \n",
        "tukey_results = pairwise_tukeyhsd(table1['Booked'], table1['Sex'])\n",
        "\n",
        "# Print results\n",
        "print(tukey_results)"
      ],
      "metadata": {
        "id": "1AOmN-HL6ckp",
        "colab": {
          "base_uri": "https://localhost:8080/"
        },
        "outputId": "35d2a145-d06e-45cc-da30-05c053f0c575"
      },
      "execution_count": null,
      "outputs": [
        {
          "output_type": "stream",
          "name": "stdout",
          "text": [
            "Multiple Comparison of Means - Tukey HSD, FWER=0.05\n",
            "===================================================\n",
            "group1 group2 meandiff p-adj   lower  upper  reject\n",
            "---------------------------------------------------\n",
            "     0      1    0.002 0.6071 -0.0053 0.0092  False\n",
            "---------------------------------------------------\n"
          ]
        }
      ]
    },
    {
      "cell_type": "code",
      "source": [
        "# tukey test for booked and actions concealed \n",
        "tukey_results = pairwise_tukeyhsd(table1['Booked'], table1['Actions_at_arrest___Concealed_i'])\n",
        "\n",
        "# Print results\n",
        "print(tukey_results)"
      ],
      "metadata": {
        "id": "hqBsxtLW-K0y",
        "colab": {
          "base_uri": "https://localhost:8080/"
        },
        "outputId": "11964d09-f032-4b9f-afd8-b06773f9a215"
      },
      "execution_count": null,
      "outputs": [
        {
          "output_type": "stream",
          "name": "stdout",
          "text": [
            "Multiple Comparison of Means - Tukey HSD, FWER=0.05\n",
            "===================================================\n",
            "group1 group2 meandiff p-adj   lower  upper  reject\n",
            "---------------------------------------------------\n",
            "     0      1   0.0054 0.6399 -0.0164 0.0271  False\n",
            "---------------------------------------------------\n"
          ]
        }
      ]
    },
    {
      "cell_type": "code",
      "source": [
        "# tukey test for booked and actions combative \n",
        "tukey_results = pairwise_tukeyhsd(table1['Booked'], table1['Actions_at_arrest___Combative__'])\n",
        "\n",
        "# Print results\n",
        "print(tukey_results)"
      ],
      "metadata": {
        "id": "_-fuXBx1-mbA",
        "colab": {
          "base_uri": "https://localhost:8080/"
        },
        "outputId": "ebee65d7-3afa-461c-8916-d45206d4f4a5"
      },
      "execution_count": null,
      "outputs": [
        {
          "output_type": "stream",
          "name": "stdout",
          "text": [
            "Multiple Comparison of Means - Tukey HSD, FWER=0.05\n",
            "==================================================\n",
            "group1 group2 meandiff p-adj   lower  upper reject\n",
            "--------------------------------------------------\n",
            "     0      1   0.0056 0.2367 -0.0037 0.015  False\n",
            "--------------------------------------------------\n"
          ]
        }
      ]
    },
    {
      "cell_type": "code",
      "source": [],
      "metadata": {
        "id": "jQyTfDTZcLD3"
      },
      "execution_count": null,
      "outputs": []
    },
    {
      "cell_type": "code",
      "source": [
        "#interaction plots \n",
        "plt.hist(table1['Sex'], bins=5, alpha=0.5, label='Sex')\n",
        "plt.hist(table1['Booked'], bins=5, alpha=0.5, label='Booked')\n",
        "\n",
        "# add a legend and labels\n",
        "plt.legend(loc='upper right')\n",
        "plt.xlabel('0 male 1 female')\n",
        "plt.ylabel('Frequency')\n",
        "plt.title('Booked given Sex ')\n",
        "\n",
        "# show the plot\n",
        "plt.show()"
      ],
      "metadata": {
        "id": "dja8MIyzhQdh",
        "colab": {
          "base_uri": "https://localhost:8080/",
          "height": 295
        },
        "outputId": "dc91de31-9b4e-42ee-b29f-fee00dbc4666"
      },
      "execution_count": null,
      "outputs": [
        {
          "output_type": "display_data",
          "data": {
            "text/plain": [
              "<Figure size 432x288 with 1 Axes>"
            ],
            "image/png": "[encoded data removed]"
          },
          "metadata": {
            "needs_background": "light"
          }
        }
      ]
    },
    {
      "cell_type": "code",
      "source": [
        "#interaction plots \n",
        "plt.hist(table1['Actions_at_arrest___Concealed_i'], bins=5, alpha=0.5, label='Actions_at_arrest___Concealed_i')\n",
        "plt.hist(table1['Booked'], bins=5, alpha=0.5, label='Booked')\n",
        "\n",
        "# add a legend and labels\n",
        "plt.legend(loc='upper right')\n",
        "plt.xlabel('0 concealed 1 it not  ')\n",
        "plt.ylabel('Frequency')\n",
        "plt.title('Booked given Actions Concealed ')\n",
        "\n",
        "# show the plot\n",
        "plt.show()"
      ],
      "metadata": {
        "id": "mP3H06XJcLmf",
        "colab": {
          "base_uri": "https://localhost:8080/",
          "height": 295
        },
        "outputId": "7b6a66c0-d8b2-4c48-d1ec-5d7866643273"
      },
      "execution_count": null,
      "outputs": [
        {
          "output_type": "display_data",
          "data": {
            "text/plain": [
              "<Figure size 432x288 with 1 Axes>"
            ],
            "image/png": "[encoded data removed]"
          },
          "metadata": {
            "needs_background": "light"
          }
        }
      ]
    },
    {
      "cell_type": "code",
      "source": [],
      "metadata": {
        "id": "H2hBLZVumbkc"
      },
      "execution_count": null,
      "outputs": []
    },
    {
      "cell_type": "code",
      "source": [
        "#interaction plots \n",
        "plt.hist(table1['Actions_at_arrest___Combative__'], bins=5, alpha=0.5, label='Actions_at_arrest___Combative__')\n",
        "plt.hist(table1['Booked'], bins=5, alpha=0.5, label='Booked')\n",
        "\n",
        "# add a legend and labels\n",
        "plt.legend(loc='upper right')\n",
        "plt.xlabel('0 not combative 1 is')\n",
        "plt.ylabel('Frequency')\n",
        "plt.title('Booked given Actions combative ')\n",
        "\n",
        "# show the plot\n",
        "plt.show()"
      ],
      "metadata": {
        "id": "AJvxPEdnmb3l",
        "colab": {
          "base_uri": "https://localhost:8080/",
          "height": 295
        },
        "outputId": "4da4c64a-0c27-4361-84e9-305282c2d0c8"
      },
      "execution_count": null,
      "outputs": [
        {
          "output_type": "display_data",
          "data": {
            "text/plain": [
              "<Figure size 432x288 with 1 Axes>"
            ],
            "image/png": "[encoded data removed]"
          },
          "metadata": {
            "needs_background": "light"
          }
        }
      ]
    }
  ]
}