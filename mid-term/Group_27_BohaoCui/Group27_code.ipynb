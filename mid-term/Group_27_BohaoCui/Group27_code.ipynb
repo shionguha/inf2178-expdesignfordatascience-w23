{
  "cells": [
    {
      "cell_type": "markdown",
      "source": [
        "Colab Link: https://colab.research.google.com/drive/1BnqV9FjDg0dmwcEz9jk8-ZgZVHcs7GzI?usp=sharing"
      ],
      "metadata": {
        "id": "OFKE0rHSRZie"
      }
    },
    {
      "cell_type": "code",
      "execution_count": 80,
      "metadata": {
        "id": "MJPOYz20Hy-0"
      },
      "outputs": [],
      "source": [
        "import numpy as np\n",
        "import pandas as pd\n",
        "import matplotlib.pyplot as plt\n",
        "import statsmodels.api as sm\n",
        "import plotly\n",
        "import seaborn as sns\n",
        "from scipy import stats\n",
        "from scipy.stats import ttest_ind\n",
        "import statsmodels.api as sm\n",
        "from statsmodels.formula.api import ols\n",
        "from statsmodels.stats.multicomp import pairwise_tukeyhsd\n",
        "from statsmodels.stats.multicomp import MultiComparison\n",
        "from scipy.stats import levene\n",
        "from scipy.stats import f_oneway, shapiro"
      ]
    },
    {
      "cell_type": "code",
      "execution_count": 81,
      "metadata": {
        "colab": {
          "base_uri": "https://localhost:8080/"
        },
        "id": "RsI0hvVfI2WC",
        "outputId": "3f64644d-61b5-4b7f-87f3-04a0e185c03b"
      },
      "outputs": [
        {
          "output_type": "stream",
          "name": "stdout",
          "text": [
            "Drive already mounted at /content/drive; to attempt to forcibly remount, call drive.mount(\"/content/drive\", force_remount=True).\n"
          ]
        }
      ],
      "source": [
        "from google.colab import drive\n",
        "drive.mount('/content/drive')"
      ]
    },
    {
      "cell_type": "code",
      "execution_count": 82,
      "metadata": {
        "id": "o5R5SpeuI2mn"
      },
      "outputs": [],
      "source": [
        "def get_table():\n",
        "  return pd.read_csv('/content/drive/My Drive/INF2178/Arrests_and_Strip_Searches_(RBDC-ARR-TBL-001).csv')"
      ]
    },
    {
      "cell_type": "code",
      "source": [
        "def graph_barplot(data,x,y,hue,title_name,colsize):\n",
        "  plt.figure(figsize=(colsize,5),dpi=144)\n",
        "  p=sns.barplot(data=data,x=x,y=y,hue=hue)\n",
        "  p.legend(fontsize=6)\n",
        "  plt.title(title_name,fontsize=9)\n",
        "  plt.show"
      ],
      "metadata": {
        "id": "miySR8mNilLD"
      },
      "execution_count": 83,
      "outputs": []
    },
    {
      "cell_type": "code",
      "source": [
        "def graph_barplot_s(data,x,y,title_name,colsize):\n",
        "  plt.figure(figsize=(colsize,5),dpi=144)\n",
        "  p=sns.barplot(data=data,x=x,y=y)\n",
        "  p.legend(fontsize=1)\n",
        "  plt.title(title_name,fontsize=9)\n",
        "  plt.show"
      ],
      "metadata": {
        "id": "7t1-siGoxQrS"
      },
      "execution_count": 84,
      "outputs": []
    },
    {
      "cell_type": "code",
      "source": [
        "def group_fun(table, col_name, id_vars):\n",
        "  temp = table.groupby(col_name).size().unstack().reset_index(drop=False)\n",
        "  temp2 = pd.melt(temp,id_vars=id_vars)\n",
        "  return temp2"
      ],
      "metadata": {
        "id": "WkFqW1200aLX"
      },
      "execution_count": 85,
      "outputs": []
    },
    {
      "cell_type": "code",
      "source": [
        "def graph_relplot(data,x,y,hue,style,title):\n",
        "  plt.rcParams['font.size'] = '11'\n",
        "  p=sns.relplot(data=data, x=x, y=y, hue=hue,style=style, height=7)\n",
        "  p.set_xticklabels(fontsize=14)\n",
        "  p.set_xticklabels(fontsize=14)\n",
        "  p.set_yticklabels(fontsize=14)\n",
        "  p.set_xlabels(fontsize=14)\n",
        "  p.set_ylabels(fontsize=14)\n",
        "  plt.title(title,fontsize=14)\n",
        "  plt.show()"
      ],
      "metadata": {
        "id": "WD_PoL4q650W"
      },
      "execution_count": 86,
      "outputs": []
    },
    {
      "cell_type": "code",
      "source": [
        "def line_chart(data,x,y,hue,title_name,style,colsize):\n",
        "  plt.figure(figsize=(colsize,5),dpi=144)\n",
        "  p=sns.lineplot(data=data,x=x,y=y,hue=hue,style=style)\n",
        "  p.legend(fontsize=6)\n",
        "  plt.title(title_name,fontsize=9)\n",
        "  plt.show"
      ],
      "metadata": {
        "id": "2TjnqrKlAcSh"
      },
      "execution_count": 87,
      "outputs": []
    },
    {
      "cell_type": "code",
      "source": [
        "def graph_lineplot_m(data,x,y,hue,style,title):\n",
        "  plt.figure(figsize=(7,8),dpi=100)\n",
        "  p=sns.lineplot(x=x, y=y,hue=hue,style=style,data=data)\n",
        "  plt.title(title,fontsize=12)\n",
        "  plt.show()"
      ],
      "metadata": {
        "id": "bQa0mt7T7XOE"
      },
      "execution_count": 88,
      "outputs": []
    },
    {
      "cell_type": "code",
      "source": [
        "ass_table = get_table()\n",
        "#data clean\n",
        "ass_table = ass_table.replace('Aged 65 years and older','Aged 65 and older')\n",
        "ass_table = ass_table.replace('Aged 17 years and under','Aged 17 years and younger')\n",
        "ass_table.loc[ass_table[\"StripSearch\"] == 1, \"Booked\"] = \"1\" \n",
        "ass_table=ass_table.drop(ass_table[ass_table['Sex']=='U'].index)"
      ],
      "metadata": {
        "id": "AwROSCnhKgbk"
      },
      "execution_count": 89,
      "outputs": []
    },
    {
      "cell_type": "code",
      "source": [
        "\n",
        "#ass_table[['StripSearch','Booked']].head(40)\n",
        "#ass_table[ass_table[\"StripSearch\"]==1]['Booked']\n",
        " "
      ],
      "metadata": {
        "id": "R6vXztCk4HDG"
      },
      "execution_count": 90,
      "outputs": []
    },
    {
      "cell_type": "code",
      "source": [
        "ass_table.groupby(['Arrest_Year']).size().plot(kind=\"bar\")"
      ],
      "metadata": {
        "colab": {
          "base_uri": "https://localhost:8080/",
          "height": 314
        },
        "id": "M7nItZNw0zuP",
        "outputId": "34bd682e-d6a3-448f-8220-a6ab50c5ef36"
      },
      "execution_count": 91,
      "outputs": [
        {
          "output_type": "execute_result",
          "data": {
            "text/plain": [
              "<AxesSubplot:xlabel='Arrest_Year'>"
            ]
          },
          "metadata": {},
          "execution_count": 91
        },
        {
          "output_type": "display_data",
          "data": {
            "text/plain": [
              "<Figure size 432x288 with 1 Axes>"
            ],
            "image/png": "[encoded data removed]"
          },
          "metadata": {
            "needs_background": "light"
          }
        }
      ]
    },
    {
      "cell_type": "code",
      "source": [
        "perceived_count=ass_table['Perceived_Race'].value_counts().rename_axis('Perceived_Race').reset_index(name='count')\n",
        "perceived_count"
      ],
      "metadata": {
        "colab": {
          "base_uri": "https://localhost:8080/",
          "height": 300
        },
        "id": "zKNILAAkumEE",
        "outputId": "ae83a90a-784e-4962-a1e1-ce1025952783"
      },
      "execution_count": 92,
      "outputs": [
        {
          "output_type": "execute_result",
          "data": {
            "text/plain": [
              "         Perceived_Race  count\n",
              "0                 White  27718\n",
              "1                 Black  17526\n",
              "2     Unknown or Legacy   5053\n",
              "3  East/Southeast Asian   4415\n",
              "4           South Asian   3613\n",
              "5        Middle-Eastern   3237\n",
              "6            Indigenous   1934\n",
              "7                Latino   1767"
            ],
            "text/html": [
              "\n",
              "  <div id=\"df-8750a6e6-4cc3-4259-8fe5-5faad12b51b0\">\n",
              "    <div class=\"colab-df-container\">\n",
              "      <div>\n",
              "<style scoped>\n",
              "    .dataframe tbody tr th:only-of-type {\n",
              "        vertical-align: middle;\n",
              "    }\n",
              "\n",
              "    .dataframe tbody tr th {\n",
              "        vertical-align: top;\n",
              "    }\n",
              "\n",
              "    .dataframe thead th {\n",
              "        text-align: right;\n",
              "    }\n",
              "</style>\n",
              "<table border=\"1\" class=\"dataframe\">\n",
              "  <thead>\n",
              "    <tr style=\"text-align: right;\">\n",
              "      <th></th>\n",
              "      <th>Perceived_Race</th>\n",
              "      <th>count</th>\n",
              "    </tr>\n",
              "  </thead>\n",
              "  <tbody>\n",
              "    <tr>\n",
              "      <th>0</th>\n",
              "      <td>White</td>\n",
              "      <td>27718</td>\n",
              "    </tr>\n",
              "    <tr>\n",
              "      <th>1</th>\n",
              "      <td>Black</td>\n",
              "      <td>17526</td>\n",
              "    </tr>\n",
              "    <tr>\n",
              "      <th>2</th>\n",
              "      <td>Unknown or Legacy</td>\n",
              "      <td>5053</td>\n",
              "    </tr>\n",
              "    <tr>\n",
              "      <th>3</th>\n",
              "      <td>East/Southeast Asian</td>\n",
              "      <td>4415</td>\n",
              "    </tr>\n",
              "    <tr>\n",
              "      <th>4</th>\n",
              "      <td>South Asian</td>\n",
              "      <td>3613</td>\n",
              "    </tr>\n",
              "    <tr>\n",
              "      <th>5</th>\n",
              "      <td>Middle-Eastern</td>\n",
              "      <td>3237</td>\n",
              "    </tr>\n",
              "    <tr>\n",
              "      <th>6</th>\n",
              "      <td>Indigenous</td>\n",
              "      <td>1934</td>\n",
              "    </tr>\n",
              "    <tr>\n",
              "      <th>7</th>\n",
              "      <td>Latino</td>\n",
              "      <td>1767</td>\n",
              "    </tr>\n",
              "  </tbody>\n",
              "</table>\n",
              "</div>\n",
              "      <button class=\"colab-df-convert\" onclick=\"convertToInteractive('df-8750a6e6-4cc3-4259-8fe5-5faad12b51b0')\"\n",
              "              title=\"Convert this dataframe to an interactive table.\"\n",
              "              style=\"display:none;\">\n",
              "        \n",
              "  <svg xmlns=\"http://www.w3.org/2000/svg\" height=\"24px\"viewBox=\"0 0 24 24\"\n",
              "       width=\"24px\">\n",
              "    <path d=\"M0 0h24v24H0V0z\" fill=\"none\"/>\n",
              "    <path d=\"M18.56 5.44l.94 2.06.94-2.06 2.06-.94-2.06-.94-.94-2.06-.94 2.06-2.06.94zm-11 1L8.5 8.5l.94-2.06 2.06-.94-2.06-.94L8.5 2.5l-.94 2.06-2.06.94zm10 10l.94 2.06.94-2.06 2.06-.94-2.06-.94-.94-2.06-.94 2.06-2.06.94z\"/><path d=\"M17.41 7.96l-1.37-1.37c-.4-.4-.92-.59-1.43-.59-.52 0-1.04.2-1.43.59L10.3 9.45l-7.72 7.72c-.78.78-.78 2.05 0 2.83L4 21.41c.39.39.9.59 1.41.59.51 0 1.02-.2 1.41-.59l7.78-7.78 2.81-2.81c.8-.78.8-2.07 0-2.86zM5.41 20L4 18.59l7.72-7.72 1.47 1.35L5.41 20z\"/>\n",
              "  </svg>\n",
              "      </button>\n",
              "      \n",
              "  <style>\n",
              "    .colab-df-container {\n",
              "      display:flex;\n",
              "      flex-wrap:wrap;\n",
              "      gap: 12px;\n",
              "    }\n",
              "\n",
              "    .colab-df-convert {\n",
              "      background-color: #E8F0FE;\n",
              "      border: none;\n",
              "      border-radius: 50%;\n",
              "      cursor: pointer;\n",
              "      display: none;\n",
              "      fill: #1967D2;\n",
              "      height: 32px;\n",
              "      padding: 0 0 0 0;\n",
              "      width: 32px;\n",
              "    }\n",
              "\n",
              "    .colab-df-convert:hover {\n",
              "      background-color: #E2EBFA;\n",
              "      box-shadow: 0px 1px 2px rgba(60, 64, 67, 0.3), 0px 1px 3px 1px rgba(60, 64, 67, 0.15);\n",
              "      fill: #174EA6;\n",
              "    }\n",
              "\n",
              "    [theme=dark] .colab-df-convert {\n",
              "      background-color: #3B4455;\n",
              "      fill: #D2E3FC;\n",
              "    }\n",
              "\n",
              "    [theme=dark] .colab-df-convert:hover {\n",
              "      background-color: #434B5C;\n",
              "      box-shadow: 0px 1px 3px 1px rgba(0, 0, 0, 0.15);\n",
              "      filter: drop-shadow(0px 1px 2px rgba(0, 0, 0, 0.3));\n",
              "      fill: #FFFFFF;\n",
              "    }\n",
              "  </style>\n",
              "\n",
              "      <script>\n",
              "        const buttonEl =\n",
              "          document.querySelector('#df-8750a6e6-4cc3-4259-8fe5-5faad12b51b0 button.colab-df-convert');\n",
              "        buttonEl.style.display =\n",
              "          google.colab.kernel.accessAllowed ? 'block' : 'none';\n",
              "\n",
              "        async function convertToInteractive(key) {\n",
              "          const element = document.querySelector('#df-8750a6e6-4cc3-4259-8fe5-5faad12b51b0');\n",
              "          const dataTable =\n",
              "            await google.colab.kernel.invokeFunction('convertToInteractive',\n",
              "                                                     [key], {});\n",
              "          if (!dataTable) return;\n",
              "\n",
              "          const docLinkHtml = 'Like what you see? Visit the ' +\n",
              "            '<a target=\"_blank\" href=https://colab.research.google.com/notebooks/data_table.ipynb>data table notebook</a>'\n",
              "            + ' to learn more about interactive tables.';\n",
              "          element.innerHTML = '';\n",
              "          dataTable['output_type'] = 'display_data';\n",
              "          await google.colab.output.renderOutput(dataTable, element);\n",
              "          const docLink = document.createElement('div');\n",
              "          docLink.innerHTML = docLinkHtml;\n",
              "          element.appendChild(docLink);\n",
              "        }\n",
              "      </script>\n",
              "    </div>\n",
              "  </div>\n",
              "  "
            ]
          },
          "metadata": {},
          "execution_count": 92
        }
      ]
    },
    {
      "cell_type": "code",
      "source": [
        "graph_barplot_s(perceived_count,'Perceived_Race','count','Arrestee Number based on Perceived Race',17)"
      ],
      "metadata": {
        "colab": {
          "base_uri": "https://localhost:8080/",
          "height": 348
        },
        "id": "o8zIUPh4vlck",
        "outputId": "6629e07f-a9d4-4189-e3de-3feabdfb08f2"
      },
      "execution_count": 93,
      "outputs": [
        {
          "output_type": "stream",
          "name": "stderr",
          "text": [
            "WARNING:matplotlib.legend:No artists with labels found to put in legend.  Note that artists whose label start with an underscore are ignored when legend() is called with no argument.\n"
          ]
        },
        {
          "output_type": "display_data",
          "data": {
            "text/plain": [
              "<Figure size 2448x720 with 1 Axes>"
            ],
            "image/png": "[encoded data removed]"
          },
          "metadata": {
            "needs_background": "light"
          }
        }
      ]
    },
    {
      "cell_type": "code",
      "source": [
        "#col_name1=['Sex']\n",
        "#id_vars1=['Sex']\n",
        "#sex_table=group_fun(ass_table,col_name1,id_vars1)\n",
        "#sex_table = ass_table.groupby('').size().unstack().reset_index(drop=False)\n",
        "sex_table=ass_table['Sex'].value_counts().rename_axis('Sex').reset_index(name='count')\n",
        "sex_table"
      ],
      "metadata": {
        "colab": {
          "base_uri": "https://localhost:8080/",
          "height": 112
        },
        "id": "OCukVNNW06Mj",
        "outputId": "b5a9fd6b-2ea2-46e5-a19b-7636ad216295"
      },
      "execution_count": 94,
      "outputs": [
        {
          "output_type": "execute_result",
          "data": {
            "text/plain": [
              "  Sex  count\n",
              "0   M  52650\n",
              "1   F  12617"
            ],
            "text/html": [
              "\n",
              "  <div id=\"df-fc7b0308-872c-4128-a0d3-7a37d0b38205\">\n",
              "    <div class=\"colab-df-container\">\n",
              "      <div>\n",
              "<style scoped>\n",
              "    .dataframe tbody tr th:only-of-type {\n",
              "        vertical-align: middle;\n",
              "    }\n",
              "\n",
              "    .dataframe tbody tr th {\n",
              "        vertical-align: top;\n",
              "    }\n",
              "\n",
              "    .dataframe thead th {\n",
              "        text-align: right;\n",
              "    }\n",
              "</style>\n",
              "<table border=\"1\" class=\"dataframe\">\n",
              "  <thead>\n",
              "    <tr style=\"text-align: right;\">\n",
              "      <th></th>\n",
              "      <th>Sex</th>\n",
              "      <th>count</th>\n",
              "    </tr>\n",
              "  </thead>\n",
              "  <tbody>\n",
              "    <tr>\n",
              "      <th>0</th>\n",
              "      <td>M</td>\n",
              "      <td>52650</td>\n",
              "    </tr>\n",
              "    <tr>\n",
              "      <th>1</th>\n",
              "      <td>F</td>\n",
              "      <td>12617</td>\n",
              "    </tr>\n",
              "  </tbody>\n",
              "</table>\n",
              "</div>\n",
              "      <button class=\"colab-df-convert\" onclick=\"convertToInteractive('df-fc7b0308-872c-4128-a0d3-7a37d0b38205')\"\n",
              "              title=\"Convert this dataframe to an interactive table.\"\n",
              "              style=\"display:none;\">\n",
              "        \n",
              "  <svg xmlns=\"http://www.w3.org/2000/svg\" height=\"24px\"viewBox=\"0 0 24 24\"\n",
              "       width=\"24px\">\n",
              "    <path d=\"M0 0h24v24H0V0z\" fill=\"none\"/>\n",
              "    <path d=\"M18.56 5.44l.94 2.06.94-2.06 2.06-.94-2.06-.94-.94-2.06-.94 2.06-2.06.94zm-11 1L8.5 8.5l.94-2.06 2.06-.94-2.06-.94L8.5 2.5l-.94 2.06-2.06.94zm10 10l.94 2.06.94-2.06 2.06-.94-2.06-.94-.94-2.06-.94 2.06-2.06.94z\"/><path d=\"M17.41 7.96l-1.37-1.37c-.4-.4-.92-.59-1.43-.59-.52 0-1.04.2-1.43.59L10.3 9.45l-7.72 7.72c-.78.78-.78 2.05 0 2.83L4 21.41c.39.39.9.59 1.41.59.51 0 1.02-.2 1.41-.59l7.78-7.78 2.81-2.81c.8-.78.8-2.07 0-2.86zM5.41 20L4 18.59l7.72-7.72 1.47 1.35L5.41 20z\"/>\n",
              "  </svg>\n",
              "      </button>\n",
              "      \n",
              "  <style>\n",
              "    .colab-df-container {\n",
              "      display:flex;\n",
              "      flex-wrap:wrap;\n",
              "      gap: 12px;\n",
              "    }\n",
              "\n",
              "    .colab-df-convert {\n",
              "      background-color: #E8F0FE;\n",
              "      border: none;\n",
              "      border-radius: 50%;\n",
              "      cursor: pointer;\n",
              "      display: none;\n",
              "      fill: #1967D2;\n",
              "      height: 32px;\n",
              "      padding: 0 0 0 0;\n",
              "      width: 32px;\n",
              "    }\n",
              "\n",
              "    .colab-df-convert:hover {\n",
              "      background-color: #E2EBFA;\n",
              "      box-shadow: 0px 1px 2px rgba(60, 64, 67, 0.3), 0px 1px 3px 1px rgba(60, 64, 67, 0.15);\n",
              "      fill: #174EA6;\n",
              "    }\n",
              "\n",
              "    [theme=dark] .colab-df-convert {\n",
              "      background-color: #3B4455;\n",
              "      fill: #D2E3FC;\n",
              "    }\n",
              "\n",
              "    [theme=dark] .colab-df-convert:hover {\n",
              "      background-color: #434B5C;\n",
              "      box-shadow: 0px 1px 3px 1px rgba(0, 0, 0, 0.15);\n",
              "      filter: drop-shadow(0px 1px 2px rgba(0, 0, 0, 0.3));\n",
              "      fill: #FFFFFF;\n",
              "    }\n",
              "  </style>\n",
              "\n",
              "      <script>\n",
              "        const buttonEl =\n",
              "          document.querySelector('#df-fc7b0308-872c-4128-a0d3-7a37d0b38205 button.colab-df-convert');\n",
              "        buttonEl.style.display =\n",
              "          google.colab.kernel.accessAllowed ? 'block' : 'none';\n",
              "\n",
              "        async function convertToInteractive(key) {\n",
              "          const element = document.querySelector('#df-fc7b0308-872c-4128-a0d3-7a37d0b38205');\n",
              "          const dataTable =\n",
              "            await google.colab.kernel.invokeFunction('convertToInteractive',\n",
              "                                                     [key], {});\n",
              "          if (!dataTable) return;\n",
              "\n",
              "          const docLinkHtml = 'Like what you see? Visit the ' +\n",
              "            '<a target=\"_blank\" href=https://colab.research.google.com/notebooks/data_table.ipynb>data table notebook</a>'\n",
              "            + ' to learn more about interactive tables.';\n",
              "          element.innerHTML = '';\n",
              "          dataTable['output_type'] = 'display_data';\n",
              "          await google.colab.output.renderOutput(dataTable, element);\n",
              "          const docLink = document.createElement('div');\n",
              "          docLink.innerHTML = docLinkHtml;\n",
              "          element.appendChild(docLink);\n",
              "        }\n",
              "      </script>\n",
              "    </div>\n",
              "  </div>\n",
              "  "
            ]
          },
          "metadata": {},
          "execution_count": 94
        }
      ]
    },
    {
      "cell_type": "code",
      "source": [
        "graph_barplot_s(sex_table,'Sex','count','Arrestee Number based on Sex',5)"
      ],
      "metadata": {
        "colab": {
          "base_uri": "https://localhost:8080/",
          "height": 713
        },
        "id": "d_nQ5bjJzA24",
        "outputId": "efa6db87-6efa-4600-cf80-a2e8156eec59"
      },
      "execution_count": 95,
      "outputs": [
        {
          "output_type": "stream",
          "name": "stderr",
          "text": [
            "WARNING:matplotlib.legend:No artists with labels found to put in legend.  Note that artists whose label start with an underscore are ignored when legend() is called with no argument.\n"
          ]
        },
        {
          "output_type": "display_data",
          "data": {
            "text/plain": [
              "<Figure size 720x720 with 1 Axes>"
            ],
            "image/png": "[encoded data removed]"
          },
          "metadata": {
            "needs_background": "light"
          }
        }
      ]
    },
    {
      "cell_type": "code",
      "source": [
        "#graph_barplot(sex_table,\"Arrest_Year\",\"value\",\"Sex\",\"Arrest Graph for 2020 and 2021\")"
      ],
      "metadata": {
        "id": "JglSRHqDvIEV"
      },
      "execution_count": 96,
      "outputs": []
    },
    {
      "cell_type": "code",
      "source": [
        "col_name2=['Sex','Perceived_Race']\n",
        "id_vars2=['Sex']\n",
        "Perceived_Sex_table=group_fun(ass_table,col_name2,id_vars2)\n",
        "Perceived_Sex_table"
      ],
      "metadata": {
        "colab": {
          "base_uri": "https://localhost:8080/",
          "height": 551
        },
        "id": "-Lx7smLzz3S2",
        "outputId": "f968905f-fe51-4f7f-e16c-42e0f8fb0466"
      },
      "execution_count": 97,
      "outputs": [
        {
          "output_type": "execute_result",
          "data": {
            "text/plain": [
              "   Sex        Perceived_Race  value\n",
              "0    F                 Black   3012\n",
              "1    M                 Black  14514\n",
              "2    F  East/Southeast Asian    745\n",
              "3    M  East/Southeast Asian   3670\n",
              "4    F            Indigenous    629\n",
              "5    M            Indigenous   1305\n",
              "6    F                Latino    264\n",
              "7    M                Latino   1503\n",
              "8    F        Middle-Eastern    364\n",
              "9    M        Middle-Eastern   2873\n",
              "10   F           South Asian    509\n",
              "11   M           South Asian   3104\n",
              "12   F     Unknown or Legacy    926\n",
              "13   M     Unknown or Legacy   4127\n",
              "14   F                 White   6167\n",
              "15   M                 White  21551"
            ],
            "text/html": [
              "\n",
              "  <div id=\"df-ac7c444f-ea2a-492f-b203-38069c250bfa\">\n",
              "    <div class=\"colab-df-container\">\n",
              "      <div>\n",
              "<style scoped>\n",
              "    .dataframe tbody tr th:only-of-type {\n",
              "        vertical-align: middle;\n",
              "    }\n",
              "\n",
              "    .dataframe tbody tr th {\n",
              "        vertical-align: top;\n",
              "    }\n",
              "\n",
              "    .dataframe thead th {\n",
              "        text-align: right;\n",
              "    }\n",
              "</style>\n",
              "<table border=\"1\" class=\"dataframe\">\n",
              "  <thead>\n",
              "    <tr style=\"text-align: right;\">\n",
              "      <th></th>\n",
              "      <th>Sex</th>\n",
              "      <th>Perceived_Race</th>\n",
              "      <th>value</th>\n",
              "    </tr>\n",
              "  </thead>\n",
              "  <tbody>\n",
              "    <tr>\n",
              "      <th>0</th>\n",
              "      <td>F</td>\n",
              "      <td>Black</td>\n",
              "      <td>3012</td>\n",
              "    </tr>\n",
              "    <tr>\n",
              "      <th>1</th>\n",
              "      <td>M</td>\n",
              "      <td>Black</td>\n",
              "      <td>14514</td>\n",
              "    </tr>\n",
              "    <tr>\n",
              "      <th>2</th>\n",
              "      <td>F</td>\n",
              "      <td>East/Southeast Asian</td>\n",
              "      <td>745</td>\n",
              "    </tr>\n",
              "    <tr>\n",
              "      <th>3</th>\n",
              "      <td>M</td>\n",
              "      <td>East/Southeast Asian</td>\n",
              "      <td>3670</td>\n",
              "    </tr>\n",
              "    <tr>\n",
              "      <th>4</th>\n",
              "      <td>F</td>\n",
              "      <td>Indigenous</td>\n",
              "      <td>629</td>\n",
              "    </tr>\n",
              "    <tr>\n",
              "      <th>5</th>\n",
              "      <td>M</td>\n",
              "      <td>Indigenous</td>\n",
              "      <td>1305</td>\n",
              "    </tr>\n",
              "    <tr>\n",
              "      <th>6</th>\n",
              "      <td>F</td>\n",
              "      <td>Latino</td>\n",
              "      <td>264</td>\n",
              "    </tr>\n",
              "    <tr>\n",
              "      <th>7</th>\n",
              "      <td>M</td>\n",
              "      <td>Latino</td>\n",
              "      <td>1503</td>\n",
              "    </tr>\n",
              "    <tr>\n",
              "      <th>8</th>\n",
              "      <td>F</td>\n",
              "      <td>Middle-Eastern</td>\n",
              "      <td>364</td>\n",
              "    </tr>\n",
              "    <tr>\n",
              "      <th>9</th>\n",
              "      <td>M</td>\n",
              "      <td>Middle-Eastern</td>\n",
              "      <td>2873</td>\n",
              "    </tr>\n",
              "    <tr>\n",
              "      <th>10</th>\n",
              "      <td>F</td>\n",
              "      <td>South Asian</td>\n",
              "      <td>509</td>\n",
              "    </tr>\n",
              "    <tr>\n",
              "      <th>11</th>\n",
              "      <td>M</td>\n",
              "      <td>South Asian</td>\n",
              "      <td>3104</td>\n",
              "    </tr>\n",
              "    <tr>\n",
              "      <th>12</th>\n",
              "      <td>F</td>\n",
              "      <td>Unknown or Legacy</td>\n",
              "      <td>926</td>\n",
              "    </tr>\n",
              "    <tr>\n",
              "      <th>13</th>\n",
              "      <td>M</td>\n",
              "      <td>Unknown or Legacy</td>\n",
              "      <td>4127</td>\n",
              "    </tr>\n",
              "    <tr>\n",
              "      <th>14</th>\n",
              "      <td>F</td>\n",
              "      <td>White</td>\n",
              "      <td>6167</td>\n",
              "    </tr>\n",
              "    <tr>\n",
              "      <th>15</th>\n",
              "      <td>M</td>\n",
              "      <td>White</td>\n",
              "      <td>21551</td>\n",
              "    </tr>\n",
              "  </tbody>\n",
              "</table>\n",
              "</div>\n",
              "      <button class=\"colab-df-convert\" onclick=\"convertToInteractive('df-ac7c444f-ea2a-492f-b203-38069c250bfa')\"\n",
              "              title=\"Convert this dataframe to an interactive table.\"\n",
              "              style=\"display:none;\">\n",
              "        \n",
              "  <svg xmlns=\"http://www.w3.org/2000/svg\" height=\"24px\"viewBox=\"0 0 24 24\"\n",
              "       width=\"24px\">\n",
              "    <path d=\"M0 0h24v24H0V0z\" fill=\"none\"/>\n",
              "    <path d=\"M18.56 5.44l.94 2.06.94-2.06 2.06-.94-2.06-.94-.94-2.06-.94 2.06-2.06.94zm-11 1L8.5 8.5l.94-2.06 2.06-.94-2.06-.94L8.5 2.5l-.94 2.06-2.06.94zm10 10l.94 2.06.94-2.06 2.06-.94-2.06-.94-.94-2.06-.94 2.06-2.06.94z\"/><path d=\"M17.41 7.96l-1.37-1.37c-.4-.4-.92-.59-1.43-.59-.52 0-1.04.2-1.43.59L10.3 9.45l-7.72 7.72c-.78.78-.78 2.05 0 2.83L4 21.41c.39.39.9.59 1.41.59.51 0 1.02-.2 1.41-.59l7.78-7.78 2.81-2.81c.8-.78.8-2.07 0-2.86zM5.41 20L4 18.59l7.72-7.72 1.47 1.35L5.41 20z\"/>\n",
              "  </svg>\n",
              "      </button>\n",
              "      \n",
              "  <style>\n",
              "    .colab-df-container {\n",
              "      display:flex;\n",
              "      flex-wrap:wrap;\n",
              "      gap: 12px;\n",
              "    }\n",
              "\n",
              "    .colab-df-convert {\n",
              "      background-color: #E8F0FE;\n",
              "      border: none;\n",
              "      border-radius: 50%;\n",
              "      cursor: pointer;\n",
              "      display: none;\n",
              "      fill: #1967D2;\n",
              "      height: 32px;\n",
              "      padding: 0 0 0 0;\n",
              "      width: 32px;\n",
              "    }\n",
              "\n",
              "    .colab-df-convert:hover {\n",
              "      background-color: #E2EBFA;\n",
              "      box-shadow: 0px 1px 2px rgba(60, 64, 67, 0.3), 0px 1px 3px 1px rgba(60, 64, 67, 0.15);\n",
              "      fill: #174EA6;\n",
              "    }\n",
              "\n",
              "    [theme=dark] .colab-df-convert {\n",
              "      background-color: #3B4455;\n",
              "      fill: #D2E3FC;\n",
              "    }\n",
              "\n",
              "    [theme=dark] .colab-df-convert:hover {\n",
              "      background-color: #434B5C;\n",
              "      box-shadow: 0px 1px 3px 1px rgba(0, 0, 0, 0.15);\n",
              "      filter: drop-shadow(0px 1px 2px rgba(0, 0, 0, 0.3));\n",
              "      fill: #FFFFFF;\n",
              "    }\n",
              "  </style>\n",
              "\n",
              "      <script>\n",
              "        const buttonEl =\n",
              "          document.querySelector('#df-ac7c444f-ea2a-492f-b203-38069c250bfa button.colab-df-convert');\n",
              "        buttonEl.style.display =\n",
              "          google.colab.kernel.accessAllowed ? 'block' : 'none';\n",
              "\n",
              "        async function convertToInteractive(key) {\n",
              "          const element = document.querySelector('#df-ac7c444f-ea2a-492f-b203-38069c250bfa');\n",
              "          const dataTable =\n",
              "            await google.colab.kernel.invokeFunction('convertToInteractive',\n",
              "                                                     [key], {});\n",
              "          if (!dataTable) return;\n",
              "\n",
              "          const docLinkHtml = 'Like what you see? Visit the ' +\n",
              "            '<a target=\"_blank\" href=https://colab.research.google.com/notebooks/data_table.ipynb>data table notebook</a>'\n",
              "            + ' to learn more about interactive tables.';\n",
              "          element.innerHTML = '';\n",
              "          dataTable['output_type'] = 'display_data';\n",
              "          await google.colab.output.renderOutput(dataTable, element);\n",
              "          const docLink = document.createElement('div');\n",
              "          docLink.innerHTML = docLinkHtml;\n",
              "          element.appendChild(docLink);\n",
              "        }\n",
              "      </script>\n",
              "    </div>\n",
              "  </div>\n",
              "  "
            ]
          },
          "metadata": {},
          "execution_count": 97
        }
      ]
    },
    {
      "cell_type": "code",
      "source": [
        "graph_barplot(Perceived_Sex_table,'Perceived_Race','value','Sex','2020 and 2021 Arrest',17)"
      ],
      "metadata": {
        "colab": {
          "base_uri": "https://localhost:8080/",
          "height": 310
        },
        "id": "y89tWT24zz0C",
        "outputId": "63073dbe-8778-4e71-a1d7-f0b35431c0be"
      },
      "execution_count": 98,
      "outputs": [
        {
          "output_type": "display_data",
          "data": {
            "text/plain": [
              "<Figure size 2448x720 with 1 Axes>"
            ],
            "image/png": "[encoded data removed]"
          },
          "metadata": {
            "needs_background": "light"
          }
        }
      ]
    },
    {
      "cell_type": "code",
      "source": [
        "#table_2020_arrest = Perceived_Race_table.loc[Perceived_Race_table[\"Arrest_Year\"]==2020] \n",
        "#table_2021_arrest = Perceived_Race_table.loc[Perceived_Race_table[\"Arrest_Year\"]==2021] "
      ],
      "metadata": {
        "id": "RsGvfBW7-KxZ"
      },
      "execution_count": 99,
      "outputs": []
    },
    {
      "cell_type": "code",
      "source": [
        "\n",
        "#graph_barplot(table_2020_arrest,\"Sex\",\"value\",\"Perceived_Race\",\"Arrest Graph for 2020\")\n",
        "\n",
        "#graph_barplot(table_2021_arrest,\"Sex\",\"value\",\"Perceived_Race\",\"Arrest Graph for 2021\")"
      ],
      "metadata": {
        "id": "6Hf1PcBR7liD"
      },
      "execution_count": 100,
      "outputs": []
    },
    {
      "cell_type": "code",
      "source": [
        "#sns.relplot(data=Perceived_Race_table, x=Perceived_Race_table[\"Arrest_Year\"], y=\"value\", hue=\"Perceived_Race\",style=\"Sex\", height=7)\n",
        "#graph_relplot(Perceived_Race_table,\"Arrest_Year\",\"value\",\"Perceived_Race\",\"Sex\",\"Arrest Graph for 2020 and 2021\")"
      ],
      "metadata": {
        "id": "ftUD1zoP0imq"
      },
      "execution_count": 101,
      "outputs": []
    },
    {
      "cell_type": "code",
      "source": [
        "#a_s_p_table =ass_table.groupby(['Arrest_Year','Sex','Perceived_Race']).size().unstack().reset_index(drop=False)\n",
        "#a_s_p_table2=pd.melt(a_s_p_table,id_vars=['Arrest_Year','Sex'])"
      ],
      "metadata": {
        "id": "FR4t46AYa84R"
      },
      "execution_count": 102,
      "outputs": []
    },
    {
      "cell_type": "code",
      "source": [
        "#a_s_p_table2"
      ],
      "metadata": {
        "id": "SK1MtJW2xcxi"
      },
      "execution_count": 103,
      "outputs": []
    },
    {
      "cell_type": "code",
      "source": [
        "StripSearch_table =ass_table.groupby(['Arrest_Year','Sex','Perceived_Race','StripSearch']).size().unstack().reset_index(drop=False)\n",
        "StripSearch_table.head()"
      ],
      "metadata": {
        "colab": {
          "base_uri": "https://localhost:8080/",
          "height": 206
        },
        "id": "49OgpQN9wFvN",
        "outputId": "7637898f-f895-4115-9f94-8c68994e754e"
      },
      "execution_count": 104,
      "outputs": [
        {
          "output_type": "execute_result",
          "data": {
            "text/plain": [
              "StripSearch  Arrest_Year Sex        Perceived_Race       0      1\n",
              "0                   2020   F                 Black  1243.0  239.0\n",
              "1                   2020   F  East/Southeast Asian   311.0   23.0\n",
              "2                   2020   F            Indigenous   223.0   68.0\n",
              "3                   2020   F                Latino    99.0   10.0\n",
              "4                   2020   F        Middle-Eastern   172.0   15.0"
            ],
            "text/html": [
              "\n",
              "  <div id=\"df-e4d0e605-7f6e-4b28-8b9e-7031a4d197a6\">\n",
              "    <div class=\"colab-df-container\">\n",
              "      <div>\n",
              "<style scoped>\n",
              "    .dataframe tbody tr th:only-of-type {\n",
              "        vertical-align: middle;\n",
              "    }\n",
              "\n",
              "    .dataframe tbody tr th {\n",
              "        vertical-align: top;\n",
              "    }\n",
              "\n",
              "    .dataframe thead th {\n",
              "        text-align: right;\n",
              "    }\n",
              "</style>\n",
              "<table border=\"1\" class=\"dataframe\">\n",
              "  <thead>\n",
              "    <tr style=\"text-align: right;\">\n",
              "      <th>StripSearch</th>\n",
              "      <th>Arrest_Year</th>\n",
              "      <th>Sex</th>\n",
              "      <th>Perceived_Race</th>\n",
              "      <th>0</th>\n",
              "      <th>1</th>\n",
              "    </tr>\n",
              "  </thead>\n",
              "  <tbody>\n",
              "    <tr>\n",
              "      <th>0</th>\n",
              "      <td>2020</td>\n",
              "      <td>F</td>\n",
              "      <td>Black</td>\n",
              "      <td>1243.0</td>\n",
              "      <td>239.0</td>\n",
              "    </tr>\n",
              "    <tr>\n",
              "      <th>1</th>\n",
              "      <td>2020</td>\n",
              "      <td>F</td>\n",
              "      <td>East/Southeast Asian</td>\n",
              "      <td>311.0</td>\n",
              "      <td>23.0</td>\n",
              "    </tr>\n",
              "    <tr>\n",
              "      <th>2</th>\n",
              "      <td>2020</td>\n",
              "      <td>F</td>\n",
              "      <td>Indigenous</td>\n",
              "      <td>223.0</td>\n",
              "      <td>68.0</td>\n",
              "    </tr>\n",
              "    <tr>\n",
              "      <th>3</th>\n",
              "      <td>2020</td>\n",
              "      <td>F</td>\n",
              "      <td>Latino</td>\n",
              "      <td>99.0</td>\n",
              "      <td>10.0</td>\n",
              "    </tr>\n",
              "    <tr>\n",
              "      <th>4</th>\n",
              "      <td>2020</td>\n",
              "      <td>F</td>\n",
              "      <td>Middle-Eastern</td>\n",
              "      <td>172.0</td>\n",
              "      <td>15.0</td>\n",
              "    </tr>\n",
              "  </tbody>\n",
              "</table>\n",
              "</div>\n",
              "      <button class=\"colab-df-convert\" onclick=\"convertToInteractive('df-e4d0e605-7f6e-4b28-8b9e-7031a4d197a6')\"\n",
              "              title=\"Convert this dataframe to an interactive table.\"\n",
              "              style=\"display:none;\">\n",
              "        \n",
              "  <svg xmlns=\"http://www.w3.org/2000/svg\" height=\"24px\"viewBox=\"0 0 24 24\"\n",
              "       width=\"24px\">\n",
              "    <path d=\"M0 0h24v24H0V0z\" fill=\"none\"/>\n",
              "    <path d=\"M18.56 5.44l.94 2.06.94-2.06 2.06-.94-2.06-.94-.94-2.06-.94 2.06-2.06.94zm-11 1L8.5 8.5l.94-2.06 2.06-.94-2.06-.94L8.5 2.5l-.94 2.06-2.06.94zm10 10l.94 2.06.94-2.06 2.06-.94-2.06-.94-.94-2.06-.94 2.06-2.06.94z\"/><path d=\"M17.41 7.96l-1.37-1.37c-.4-.4-.92-.59-1.43-.59-.52 0-1.04.2-1.43.59L10.3 9.45l-7.72 7.72c-.78.78-.78 2.05 0 2.83L4 21.41c.39.39.9.59 1.41.59.51 0 1.02-.2 1.41-.59l7.78-7.78 2.81-2.81c.8-.78.8-2.07 0-2.86zM5.41 20L4 18.59l7.72-7.72 1.47 1.35L5.41 20z\"/>\n",
              "  </svg>\n",
              "      </button>\n",
              "      \n",
              "  <style>\n",
              "    .colab-df-container {\n",
              "      display:flex;\n",
              "      flex-wrap:wrap;\n",
              "      gap: 12px;\n",
              "    }\n",
              "\n",
              "    .colab-df-convert {\n",
              "      background-color: #E8F0FE;\n",
              "      border: none;\n",
              "      border-radius: 50%;\n",
              "      cursor: pointer;\n",
              "      display: none;\n",
              "      fill: #1967D2;\n",
              "      height: 32px;\n",
              "      padding: 0 0 0 0;\n",
              "      width: 32px;\n",
              "    }\n",
              "\n",
              "    .colab-df-convert:hover {\n",
              "      background-color: #E2EBFA;\n",
              "      box-shadow: 0px 1px 2px rgba(60, 64, 67, 0.3), 0px 1px 3px 1px rgba(60, 64, 67, 0.15);\n",
              "      fill: #174EA6;\n",
              "    }\n",
              "\n",
              "    [theme=dark] .colab-df-convert {\n",
              "      background-color: #3B4455;\n",
              "      fill: #D2E3FC;\n",
              "    }\n",
              "\n",
              "    [theme=dark] .colab-df-convert:hover {\n",
              "      background-color: #434B5C;\n",
              "      box-shadow: 0px 1px 3px 1px rgba(0, 0, 0, 0.15);\n",
              "      filter: drop-shadow(0px 1px 2px rgba(0, 0, 0, 0.3));\n",
              "      fill: #FFFFFF;\n",
              "    }\n",
              "  </style>\n",
              "\n",
              "      <script>\n",
              "        const buttonEl =\n",
              "          document.querySelector('#df-e4d0e605-7f6e-4b28-8b9e-7031a4d197a6 button.colab-df-convert');\n",
              "        buttonEl.style.display =\n",
              "          google.colab.kernel.accessAllowed ? 'block' : 'none';\n",
              "\n",
              "        async function convertToInteractive(key) {\n",
              "          const element = document.querySelector('#df-e4d0e605-7f6e-4b28-8b9e-7031a4d197a6');\n",
              "          const dataTable =\n",
              "            await google.colab.kernel.invokeFunction('convertToInteractive',\n",
              "                                                     [key], {});\n",
              "          if (!dataTable) return;\n",
              "\n",
              "          const docLinkHtml = 'Like what you see? Visit the ' +\n",
              "            '<a target=\"_blank\" href=https://colab.research.google.com/notebooks/data_table.ipynb>data table notebook</a>'\n",
              "            + ' to learn more about interactive tables.';\n",
              "          element.innerHTML = '';\n",
              "          dataTable['output_type'] = 'display_data';\n",
              "          await google.colab.output.renderOutput(dataTable, element);\n",
              "          const docLink = document.createElement('div');\n",
              "          docLink.innerHTML = docLinkHtml;\n",
              "          element.appendChild(docLink);\n",
              "        }\n",
              "      </script>\n",
              "    </div>\n",
              "  </div>\n",
              "  "
            ]
          },
          "metadata": {},
          "execution_count": 104
        }
      ]
    },
    {
      "cell_type": "code",
      "source": [
        "# 是否需要更改名字 对youth age and younger 和 youth(aged 17 years and under)\n",
        "age_table =ass_table.groupby(['Arrest_Year','Sex','Perceived_Race','StripSearch','Youth_at_arrest__under_18_years']).size().unstack().reset_index(drop=False)\n",
        "age_table.head()"
      ],
      "metadata": {
        "colab": {
          "base_uri": "https://localhost:8080/",
          "height": 319
        },
        "id": "3tNGoNeea8s0",
        "outputId": "4b76ab9c-b1e0-4e5b-9c4e-78397afe5801"
      },
      "execution_count": 105,
      "outputs": [
        {
          "output_type": "execute_result",
          "data": {
            "text/plain": [
              "Youth_at_arrest__under_18_years  Arrest_Year Sex        Perceived_Race  \\\n",
              "0                                       2020   F                 Black   \n",
              "1                                       2020   F                 Black   \n",
              "2                                       2020   F  East/Southeast Asian   \n",
              "3                                       2020   F  East/Southeast Asian   \n",
              "4                                       2020   F            Indigenous   \n",
              "\n",
              "Youth_at_arrest__under_18_years  StripSearch  Not a youth  \\\n",
              "0                                          0       1059.0   \n",
              "1                                          1        228.0   \n",
              "2                                          0        287.0   \n",
              "3                                          1         22.0   \n",
              "4                                          0        220.0   \n",
              "\n",
              "Youth_at_arrest__under_18_years  Youth (aged 17 and younger)  \\\n",
              "0                                                      184.0   \n",
              "1                                                       11.0   \n",
              "2                                                       24.0   \n",
              "3                                                        1.0   \n",
              "4                                                        3.0   \n",
              "\n",
              "Youth_at_arrest__under_18_years  Youth (aged 17 years and under)  \n",
              "0                                                            NaN  \n",
              "1                                                            NaN  \n",
              "2                                                            NaN  \n",
              "3                                                            NaN  \n",
              "4                                                            NaN  "
            ],
            "text/html": [
              "\n",
              "  <div id=\"df-ae4464e6-06c2-4845-9e9c-d58cafaf9f14\">\n",
              "    <div class=\"colab-df-container\">\n",
              "      <div>\n",
              "<style scoped>\n",
              "    .dataframe tbody tr th:only-of-type {\n",
              "        vertical-align: middle;\n",
              "    }\n",
              "\n",
              "    .dataframe tbody tr th {\n",
              "        vertical-align: top;\n",
              "    }\n",
              "\n",
              "    .dataframe thead th {\n",
              "        text-align: right;\n",
              "    }\n",
              "</style>\n",
              "<table border=\"1\" class=\"dataframe\">\n",
              "  <thead>\n",
              "    <tr style=\"text-align: right;\">\n",
              "      <th>Youth_at_arrest__under_18_years</th>\n",
              "      <th>Arrest_Year</th>\n",
              "      <th>Sex</th>\n",
              "      <th>Perceived_Race</th>\n",
              "      <th>StripSearch</th>\n",
              "      <th>Not a youth</th>\n",
              "      <th>Youth (aged 17 and younger)</th>\n",
              "      <th>Youth (aged 17 years and under)</th>\n",
              "    </tr>\n",
              "  </thead>\n",
              "  <tbody>\n",
              "    <tr>\n",
              "      <th>0</th>\n",
              "      <td>2020</td>\n",
              "      <td>F</td>\n",
              "      <td>Black</td>\n",
              "      <td>0</td>\n",
              "      <td>1059.0</td>\n",
              "      <td>184.0</td>\n",
              "      <td>NaN</td>\n",
              "    </tr>\n",
              "    <tr>\n",
              "      <th>1</th>\n",
              "      <td>2020</td>\n",
              "      <td>F</td>\n",
              "      <td>Black</td>\n",
              "      <td>1</td>\n",
              "      <td>228.0</td>\n",
              "      <td>11.0</td>\n",
              "      <td>NaN</td>\n",
              "    </tr>\n",
              "    <tr>\n",
              "      <th>2</th>\n",
              "      <td>2020</td>\n",
              "      <td>F</td>\n",
              "      <td>East/Southeast Asian</td>\n",
              "      <td>0</td>\n",
              "      <td>287.0</td>\n",
              "      <td>24.0</td>\n",
              "      <td>NaN</td>\n",
              "    </tr>\n",
              "    <tr>\n",
              "      <th>3</th>\n",
              "      <td>2020</td>\n",
              "      <td>F</td>\n",
              "      <td>East/Southeast Asian</td>\n",
              "      <td>1</td>\n",
              "      <td>22.0</td>\n",
              "      <td>1.0</td>\n",
              "      <td>NaN</td>\n",
              "    </tr>\n",
              "    <tr>\n",
              "      <th>4</th>\n",
              "      <td>2020</td>\n",
              "      <td>F</td>\n",
              "      <td>Indigenous</td>\n",
              "      <td>0</td>\n",
              "      <td>220.0</td>\n",
              "      <td>3.0</td>\n",
              "      <td>NaN</td>\n",
              "    </tr>\n",
              "  </tbody>\n",
              "</table>\n",
              "</div>\n",
              "      <button class=\"colab-df-convert\" onclick=\"convertToInteractive('df-ae4464e6-06c2-4845-9e9c-d58cafaf9f14')\"\n",
              "              title=\"Convert this dataframe to an interactive table.\"\n",
              "              style=\"display:none;\">\n",
              "        \n",
              "  <svg xmlns=\"http://www.w3.org/2000/svg\" height=\"24px\"viewBox=\"0 0 24 24\"\n",
              "       width=\"24px\">\n",
              "    <path d=\"M0 0h24v24H0V0z\" fill=\"none\"/>\n",
              "    <path d=\"M18.56 5.44l.94 2.06.94-2.06 2.06-.94-2.06-.94-.94-2.06-.94 2.06-2.06.94zm-11 1L8.5 8.5l.94-2.06 2.06-.94-2.06-.94L8.5 2.5l-.94 2.06-2.06.94zm10 10l.94 2.06.94-2.06 2.06-.94-2.06-.94-.94-2.06-.94 2.06-2.06.94z\"/><path d=\"M17.41 7.96l-1.37-1.37c-.4-.4-.92-.59-1.43-.59-.52 0-1.04.2-1.43.59L10.3 9.45l-7.72 7.72c-.78.78-.78 2.05 0 2.83L4 21.41c.39.39.9.59 1.41.59.51 0 1.02-.2 1.41-.59l7.78-7.78 2.81-2.81c.8-.78.8-2.07 0-2.86zM5.41 20L4 18.59l7.72-7.72 1.47 1.35L5.41 20z\"/>\n",
              "  </svg>\n",
              "      </button>\n",
              "      \n",
              "  <style>\n",
              "    .colab-df-container {\n",
              "      display:flex;\n",
              "      flex-wrap:wrap;\n",
              "      gap: 12px;\n",
              "    }\n",
              "\n",
              "    .colab-df-convert {\n",
              "      background-color: #E8F0FE;\n",
              "      border: none;\n",
              "      border-radius: 50%;\n",
              "      cursor: pointer;\n",
              "      display: none;\n",
              "      fill: #1967D2;\n",
              "      height: 32px;\n",
              "      padding: 0 0 0 0;\n",
              "      width: 32px;\n",
              "    }\n",
              "\n",
              "    .colab-df-convert:hover {\n",
              "      background-color: #E2EBFA;\n",
              "      box-shadow: 0px 1px 2px rgba(60, 64, 67, 0.3), 0px 1px 3px 1px rgba(60, 64, 67, 0.15);\n",
              "      fill: #174EA6;\n",
              "    }\n",
              "\n",
              "    [theme=dark] .colab-df-convert {\n",
              "      background-color: #3B4455;\n",
              "      fill: #D2E3FC;\n",
              "    }\n",
              "\n",
              "    [theme=dark] .colab-df-convert:hover {\n",
              "      background-color: #434B5C;\n",
              "      box-shadow: 0px 1px 3px 1px rgba(0, 0, 0, 0.15);\n",
              "      filter: drop-shadow(0px 1px 2px rgba(0, 0, 0, 0.3));\n",
              "      fill: #FFFFFF;\n",
              "    }\n",
              "  </style>\n",
              "\n",
              "      <script>\n",
              "        const buttonEl =\n",
              "          document.querySelector('#df-ae4464e6-06c2-4845-9e9c-d58cafaf9f14 button.colab-df-convert');\n",
              "        buttonEl.style.display =\n",
              "          google.colab.kernel.accessAllowed ? 'block' : 'none';\n",
              "\n",
              "        async function convertToInteractive(key) {\n",
              "          const element = document.querySelector('#df-ae4464e6-06c2-4845-9e9c-d58cafaf9f14');\n",
              "          const dataTable =\n",
              "            await google.colab.kernel.invokeFunction('convertToInteractive',\n",
              "                                                     [key], {});\n",
              "          if (!dataTable) return;\n",
              "\n",
              "          const docLinkHtml = 'Like what you see? Visit the ' +\n",
              "            '<a target=\"_blank\" href=https://colab.research.google.com/notebooks/data_table.ipynb>data table notebook</a>'\n",
              "            + ' to learn more about interactive tables.';\n",
              "          element.innerHTML = '';\n",
              "          dataTable['output_type'] = 'display_data';\n",
              "          await google.colab.output.renderOutput(dataTable, element);\n",
              "          const docLink = document.createElement('div');\n",
              "          docLink.innerHTML = docLinkHtml;\n",
              "          element.appendChild(docLink);\n",
              "        }\n",
              "      </script>\n",
              "    </div>\n",
              "  </div>\n",
              "  "
            ]
          },
          "metadata": {},
          "execution_count": 105
        }
      ]
    },
    {
      "cell_type": "code",
      "source": [
        "oc_table=ass_table.groupby(['Arrest_Year','Sex','Perceived_Race','StripSearch','Occurrence_Category']).size().unstack().reset_index(drop=False)\n",
        "oc_table.head()"
      ],
      "metadata": {
        "id": "Vpg3wVd6P6Pk",
        "colab": {
          "base_uri": "https://localhost:8080/",
          "height": 421
        },
        "outputId": "0891f777-44cd-4cf0-ef2d-d1a06c110323"
      },
      "execution_count": 106,
      "outputs": [
        {
          "output_type": "execute_result",
          "data": {
            "text/plain": [
              "Occurrence_Category  Arrest_Year Sex        Perceived_Race  StripSearch  \\\n",
              "0                           2020   F                 Black            0   \n",
              "1                           2020   F                 Black            1   \n",
              "2                           2020   F  East/Southeast Asian            0   \n",
              "3                           2020   F  East/Southeast Asian            1   \n",
              "4                           2020   F            Indigenous            0   \n",
              "\n",
              "Occurrence_Category  Assault  Assault & Other crimes against persons  \\\n",
              "0                        NaN                                   361.0   \n",
              "1                        NaN                                    49.0   \n",
              "2                        NaN                                   105.0   \n",
              "3                        NaN                                     4.0   \n",
              "4                        NaN                                    61.0   \n",
              "\n",
              "Occurrence_Category  Break & Enter  Break and Enter  Crimes against Children  \\\n",
              "0                             14.0              NaN                      NaN   \n",
              "1                              6.0              NaN                      NaN   \n",
              "2                              2.0              NaN                      NaN   \n",
              "3                              NaN              NaN                      NaN   \n",
              "4                              5.0              NaN                      NaN   \n",
              "\n",
              "Occurrence_Category  Drug Related  ...  Police Category - Incident  \\\n",
              "0                            33.0  ...                         NaN   \n",
              "1                            28.0  ...                         NaN   \n",
              "2                             7.0  ...                         NaN   \n",
              "3                             5.0  ...                         NaN   \n",
              "4                            10.0  ...                         NaN   \n",
              "\n",
              "Occurrence_Category  Robbery & Theft  Robbery/Theft  Sexual Related Crime  \\\n",
              "0                              255.0            NaN                   NaN   \n",
              "1                               28.0            NaN                   NaN   \n",
              "2                               83.0            NaN                   NaN   \n",
              "3                                1.0            NaN                   NaN   \n",
              "4                               30.0            NaN                   NaN   \n",
              "\n",
              "Occurrence_Category  Sexual Related Crimes & Crimes Against Children  \\\n",
              "0                                                                7.0   \n",
              "1                                                                5.0   \n",
              "2                                                                1.0   \n",
              "3                                                                NaN   \n",
              "4                                                                NaN   \n",
              "\n",
              "Occurrence_Category  Vehicle Related  Vehicle Related (inc. Impaired)  \\\n",
              "0                                NaN                             47.0   \n",
              "1                                NaN                              3.0   \n",
              "2                                NaN                             17.0   \n",
              "3                                NaN                              1.0   \n",
              "4                                NaN                              3.0   \n",
              "\n",
              "Occurrence_Category  Warrant  Weapons  Weapons & Homicide  \n",
              "0                      126.0      NaN                45.0  \n",
              "1                       28.0      NaN                19.0  \n",
              "2                       13.0      NaN                 3.0  \n",
              "3                        3.0      NaN                 1.0  \n",
              "4                       37.0      NaN                 2.0  \n",
              "\n",
              "[5 rows x 35 columns]"
            ],
            "text/html": [
              "\n",
              "  <div id=\"df-658a962b-0405-473f-ba53-c3b25ef9f76d\">\n",
              "    <div class=\"colab-df-container\">\n",
              "      <div>\n",
              "<style scoped>\n",
              "    .dataframe tbody tr th:only-of-type {\n",
              "        vertical-align: middle;\n",
              "    }\n",
              "\n",
              "    .dataframe tbody tr th {\n",
              "        vertical-align: top;\n",
              "    }\n",
              "\n",
              "    .dataframe thead th {\n",
              "        text-align: right;\n",
              "    }\n",
              "</style>\n",
              "<table border=\"1\" class=\"dataframe\">\n",
              "  <thead>\n",
              "    <tr style=\"text-align: right;\">\n",
              "      <th>Occurrence_Category</th>\n",
              "      <th>Arrest_Year</th>\n",
              "      <th>Sex</th>\n",
              "      <th>Perceived_Race</th>\n",
              "      <th>StripSearch</th>\n",
              "      <th>Assault</th>\n",
              "      <th>Assault &amp; Other crimes against persons</th>\n",
              "      <th>Break &amp; Enter</th>\n",
              "      <th>Break and Enter</th>\n",
              "      <th>Crimes against Children</th>\n",
              "      <th>Drug Related</th>\n",
              "      <th>...</th>\n",
              "      <th>Police Category - Incident</th>\n",
              "      <th>Robbery &amp; Theft</th>\n",
              "      <th>Robbery/Theft</th>\n",
              "      <th>Sexual Related Crime</th>\n",
              "      <th>Sexual Related Crimes &amp; Crimes Against Children</th>\n",
              "      <th>Vehicle Related</th>\n",
              "      <th>Vehicle Related (inc. Impaired)</th>\n",
              "      <th>Warrant</th>\n",
              "      <th>Weapons</th>\n",
              "      <th>Weapons &amp; Homicide</th>\n",
              "    </tr>\n",
              "  </thead>\n",
              "  <tbody>\n",
              "    <tr>\n",
              "      <th>0</th>\n",
              "      <td>2020</td>\n",
              "      <td>F</td>\n",
              "      <td>Black</td>\n",
              "      <td>0</td>\n",
              "      <td>NaN</td>\n",
              "      <td>361.0</td>\n",
              "      <td>14.0</td>\n",
              "      <td>NaN</td>\n",
              "      <td>NaN</td>\n",
              "      <td>33.0</td>\n",
              "      <td>...</td>\n",
              "      <td>NaN</td>\n",
              "      <td>255.0</td>\n",
              "      <td>NaN</td>\n",
              "      <td>NaN</td>\n",
              "      <td>7.0</td>\n",
              "      <td>NaN</td>\n",
              "      <td>47.0</td>\n",
              "      <td>126.0</td>\n",
              "      <td>NaN</td>\n",
              "      <td>45.0</td>\n",
              "    </tr>\n",
              "    <tr>\n",
              "      <th>1</th>\n",
              "      <td>2020</td>\n",
              "      <td>F</td>\n",
              "      <td>Black</td>\n",
              "      <td>1</td>\n",
              "      <td>NaN</td>\n",
              "      <td>49.0</td>\n",
              "      <td>6.0</td>\n",
              "      <td>NaN</td>\n",
              "      <td>NaN</td>\n",
              "      <td>28.0</td>\n",
              "      <td>...</td>\n",
              "      <td>NaN</td>\n",
              "      <td>28.0</td>\n",
              "      <td>NaN</td>\n",
              "      <td>NaN</td>\n",
              "      <td>5.0</td>\n",
              "      <td>NaN</td>\n",
              "      <td>3.0</td>\n",
              "      <td>28.0</td>\n",
              "      <td>NaN</td>\n",
              "      <td>19.0</td>\n",
              "    </tr>\n",
              "    <tr>\n",
              "      <th>2</th>\n",
              "      <td>2020</td>\n",
              "      <td>F</td>\n",
              "      <td>East/Southeast Asian</td>\n",
              "      <td>0</td>\n",
              "      <td>NaN</td>\n",
              "      <td>105.0</td>\n",
              "      <td>2.0</td>\n",
              "      <td>NaN</td>\n",
              "      <td>NaN</td>\n",
              "      <td>7.0</td>\n",
              "      <td>...</td>\n",
              "      <td>NaN</td>\n",
              "      <td>83.0</td>\n",
              "      <td>NaN</td>\n",
              "      <td>NaN</td>\n",
              "      <td>1.0</td>\n",
              "      <td>NaN</td>\n",
              "      <td>17.0</td>\n",
              "      <td>13.0</td>\n",
              "      <td>NaN</td>\n",
              "      <td>3.0</td>\n",
              "    </tr>\n",
              "    <tr>\n",
              "      <th>3</th>\n",
              "      <td>2020</td>\n",
              "      <td>F</td>\n",
              "      <td>East/Southeast Asian</td>\n",
              "      <td>1</td>\n",
              "      <td>NaN</td>\n",
              "      <td>4.0</td>\n",
              "      <td>NaN</td>\n",
              "      <td>NaN</td>\n",
              "      <td>NaN</td>\n",
              "      <td>5.0</td>\n",
              "      <td>...</td>\n",
              "      <td>NaN</td>\n",
              "      <td>1.0</td>\n",
              "      <td>NaN</td>\n",
              "      <td>NaN</td>\n",
              "      <td>NaN</td>\n",
              "      <td>NaN</td>\n",
              "      <td>1.0</td>\n",
              "      <td>3.0</td>\n",
              "      <td>NaN</td>\n",
              "      <td>1.0</td>\n",
              "    </tr>\n",
              "    <tr>\n",
              "      <th>4</th>\n",
              "      <td>2020</td>\n",
              "      <td>F</td>\n",
              "      <td>Indigenous</td>\n",
              "      <td>0</td>\n",
              "      <td>NaN</td>\n",
              "      <td>61.0</td>\n",
              "      <td>5.0</td>\n",
              "      <td>NaN</td>\n",
              "      <td>NaN</td>\n",
              "      <td>10.0</td>\n",
              "      <td>...</td>\n",
              "      <td>NaN</td>\n",
              "      <td>30.0</td>\n",
              "      <td>NaN</td>\n",
              "      <td>NaN</td>\n",
              "      <td>NaN</td>\n",
              "      <td>NaN</td>\n",
              "      <td>3.0</td>\n",
              "      <td>37.0</td>\n",
              "      <td>NaN</td>\n",
              "      <td>2.0</td>\n",
              "    </tr>\n",
              "  </tbody>\n",
              "</table>\n",
              "<p>5 rows × 35 columns</p>\n",
              "</div>\n",
              "      <button class=\"colab-df-convert\" onclick=\"convertToInteractive('df-658a962b-0405-473f-ba53-c3b25ef9f76d')\"\n",
              "              title=\"Convert this dataframe to an interactive table.\"\n",
              "              style=\"display:none;\">\n",
              "        \n",
              "  <svg xmlns=\"http://www.w3.org/2000/svg\" height=\"24px\"viewBox=\"0 0 24 24\"\n",
              "       width=\"24px\">\n",
              "    <path d=\"M0 0h24v24H0V0z\" fill=\"none\"/>\n",
              "    <path d=\"M18.56 5.44l.94 2.06.94-2.06 2.06-.94-2.06-.94-.94-2.06-.94 2.06-2.06.94zm-11 1L8.5 8.5l.94-2.06 2.06-.94-2.06-.94L8.5 2.5l-.94 2.06-2.06.94zm10 10l.94 2.06.94-2.06 2.06-.94-2.06-.94-.94-2.06-.94 2.06-2.06.94z\"/><path d=\"M17.41 7.96l-1.37-1.37c-.4-.4-.92-.59-1.43-.59-.52 0-1.04.2-1.43.59L10.3 9.45l-7.72 7.72c-.78.78-.78 2.05 0 2.83L4 21.41c.39.39.9.59 1.41.59.51 0 1.02-.2 1.41-.59l7.78-7.78 2.81-2.81c.8-.78.8-2.07 0-2.86zM5.41 20L4 18.59l7.72-7.72 1.47 1.35L5.41 20z\"/>\n",
              "  </svg>\n",
              "      </button>\n",
              "      \n",
              "  <style>\n",
              "    .colab-df-container {\n",
              "      display:flex;\n",
              "      flex-wrap:wrap;\n",
              "      gap: 12px;\n",
              "    }\n",
              "\n",
              "    .colab-df-convert {\n",
              "      background-color: #E8F0FE;\n",
              "      border: none;\n",
              "      border-radius: 50%;\n",
              "      cursor: pointer;\n",
              "      display: none;\n",
              "      fill: #1967D2;\n",
              "      height: 32px;\n",
              "      padding: 0 0 0 0;\n",
              "      width: 32px;\n",
              "    }\n",
              "\n",
              "    .colab-df-convert:hover {\n",
              "      background-color: #E2EBFA;\n",
              "      box-shadow: 0px 1px 2px rgba(60, 64, 67, 0.3), 0px 1px 3px 1px rgba(60, 64, 67, 0.15);\n",
              "      fill: #174EA6;\n",
              "    }\n",
              "\n",
              "    [theme=dark] .colab-df-convert {\n",
              "      background-color: #3B4455;\n",
              "      fill: #D2E3FC;\n",
              "    }\n",
              "\n",
              "    [theme=dark] .colab-df-convert:hover {\n",
              "      background-color: #434B5C;\n",
              "      box-shadow: 0px 1px 3px 1px rgba(0, 0, 0, 0.15);\n",
              "      filter: drop-shadow(0px 1px 2px rgba(0, 0, 0, 0.3));\n",
              "      fill: #FFFFFF;\n",
              "    }\n",
              "  </style>\n",
              "\n",
              "      <script>\n",
              "        const buttonEl =\n",
              "          document.querySelector('#df-658a962b-0405-473f-ba53-c3b25ef9f76d button.colab-df-convert');\n",
              "        buttonEl.style.display =\n",
              "          google.colab.kernel.accessAllowed ? 'block' : 'none';\n",
              "\n",
              "        async function convertToInteractive(key) {\n",
              "          const element = document.querySelector('#df-658a962b-0405-473f-ba53-c3b25ef9f76d');\n",
              "          const dataTable =\n",
              "            await google.colab.kernel.invokeFunction('convertToInteractive',\n",
              "                                                     [key], {});\n",
              "          if (!dataTable) return;\n",
              "\n",
              "          const docLinkHtml = 'Like what you see? Visit the ' +\n",
              "            '<a target=\"_blank\" href=https://colab.research.google.com/notebooks/data_table.ipynb>data table notebook</a>'\n",
              "            + ' to learn more about interactive tables.';\n",
              "          element.innerHTML = '';\n",
              "          dataTable['output_type'] = 'display_data';\n",
              "          await google.colab.output.renderOutput(dataTable, element);\n",
              "          const docLink = document.createElement('div');\n",
              "          docLink.innerHTML = docLinkHtml;\n",
              "          element.appendChild(docLink);\n",
              "        }\n",
              "      </script>\n",
              "    </div>\n",
              "  </div>\n",
              "  "
            ]
          },
          "metadata": {},
          "execution_count": 106
        }
      ]
    },
    {
      "cell_type": "code",
      "source": [
        "Only_Perceived_table=ass_table.groupby(['Arrest_Year','Perceived_Race']).size().unstack().reset_index(drop=False)"
      ],
      "metadata": {
        "id": "sJlw3NXdSD6V"
      },
      "execution_count": 107,
      "outputs": []
    },
    {
      "cell_type": "code",
      "source": [
        "Only_Perceived_table"
      ],
      "metadata": {
        "colab": {
          "base_uri": "https://localhost:8080/",
          "height": 173
        },
        "id": "85XmY_vwa-HY",
        "outputId": "a3c6580c-da60-405b-a391-4278d0876670"
      },
      "execution_count": 108,
      "outputs": [
        {
          "output_type": "execute_result",
          "data": {
            "text/plain": [
              "Perceived_Race  Arrest_Year  Black  East/Southeast Asian  Indigenous  Latino  \\\n",
              "0                      2020   8648                  2054         999     808   \n",
              "1                      2021   8878                  2361         935     959   \n",
              "\n",
              "Perceived_Race  Middle-Eastern  South Asian  Unknown or Legacy  White  \n",
              "0                         1507         1742               2609  13604  \n",
              "1                         1730         1871               2444  14114  "
            ],
            "text/html": [
              "\n",
              "  <div id=\"df-1d401e32-5bb0-4ec9-b854-8aeabc4d7133\">\n",
              "    <div class=\"colab-df-container\">\n",
              "      <div>\n",
              "<style scoped>\n",
              "    .dataframe tbody tr th:only-of-type {\n",
              "        vertical-align: middle;\n",
              "    }\n",
              "\n",
              "    .dataframe tbody tr th {\n",
              "        vertical-align: top;\n",
              "    }\n",
              "\n",
              "    .dataframe thead th {\n",
              "        text-align: right;\n",
              "    }\n",
              "</style>\n",
              "<table border=\"1\" class=\"dataframe\">\n",
              "  <thead>\n",
              "    <tr style=\"text-align: right;\">\n",
              "      <th>Perceived_Race</th>\n",
              "      <th>Arrest_Year</th>\n",
              "      <th>Black</th>\n",
              "      <th>East/Southeast Asian</th>\n",
              "      <th>Indigenous</th>\n",
              "      <th>Latino</th>\n",
              "      <th>Middle-Eastern</th>\n",
              "      <th>South Asian</th>\n",
              "      <th>Unknown or Legacy</th>\n",
              "      <th>White</th>\n",
              "    </tr>\n",
              "  </thead>\n",
              "  <tbody>\n",
              "    <tr>\n",
              "      <th>0</th>\n",
              "      <td>2020</td>\n",
              "      <td>8648</td>\n",
              "      <td>2054</td>\n",
              "      <td>999</td>\n",
              "      <td>808</td>\n",
              "      <td>1507</td>\n",
              "      <td>1742</td>\n",
              "      <td>2609</td>\n",
              "      <td>13604</td>\n",
              "    </tr>\n",
              "    <tr>\n",
              "      <th>1</th>\n",
              "      <td>2021</td>\n",
              "      <td>8878</td>\n",
              "      <td>2361</td>\n",
              "      <td>935</td>\n",
              "      <td>959</td>\n",
              "      <td>1730</td>\n",
              "      <td>1871</td>\n",
              "      <td>2444</td>\n",
              "      <td>14114</td>\n",
              "    </tr>\n",
              "  </tbody>\n",
              "</table>\n",
              "</div>\n",
              "      <button class=\"colab-df-convert\" onclick=\"convertToInteractive('df-1d401e32-5bb0-4ec9-b854-8aeabc4d7133')\"\n",
              "              title=\"Convert this dataframe to an interactive table.\"\n",
              "              style=\"display:none;\">\n",
              "        \n",
              "  <svg xmlns=\"http://www.w3.org/2000/svg\" height=\"24px\"viewBox=\"0 0 24 24\"\n",
              "       width=\"24px\">\n",
              "    <path d=\"M0 0h24v24H0V0z\" fill=\"none\"/>\n",
              "    <path d=\"M18.56 5.44l.94 2.06.94-2.06 2.06-.94-2.06-.94-.94-2.06-.94 2.06-2.06.94zm-11 1L8.5 8.5l.94-2.06 2.06-.94-2.06-.94L8.5 2.5l-.94 2.06-2.06.94zm10 10l.94 2.06.94-2.06 2.06-.94-2.06-.94-.94-2.06-.94 2.06-2.06.94z\"/><path d=\"M17.41 7.96l-1.37-1.37c-.4-.4-.92-.59-1.43-.59-.52 0-1.04.2-1.43.59L10.3 9.45l-7.72 7.72c-.78.78-.78 2.05 0 2.83L4 21.41c.39.39.9.59 1.41.59.51 0 1.02-.2 1.41-.59l7.78-7.78 2.81-2.81c.8-.78.8-2.07 0-2.86zM5.41 20L4 18.59l7.72-7.72 1.47 1.35L5.41 20z\"/>\n",
              "  </svg>\n",
              "      </button>\n",
              "      \n",
              "  <style>\n",
              "    .colab-df-container {\n",
              "      display:flex;\n",
              "      flex-wrap:wrap;\n",
              "      gap: 12px;\n",
              "    }\n",
              "\n",
              "    .colab-df-convert {\n",
              "      background-color: #E8F0FE;\n",
              "      border: none;\n",
              "      border-radius: 50%;\n",
              "      cursor: pointer;\n",
              "      display: none;\n",
              "      fill: #1967D2;\n",
              "      height: 32px;\n",
              "      padding: 0 0 0 0;\n",
              "      width: 32px;\n",
              "    }\n",
              "\n",
              "    .colab-df-convert:hover {\n",
              "      background-color: #E2EBFA;\n",
              "      box-shadow: 0px 1px 2px rgba(60, 64, 67, 0.3), 0px 1px 3px 1px rgba(60, 64, 67, 0.15);\n",
              "      fill: #174EA6;\n",
              "    }\n",
              "\n",
              "    [theme=dark] .colab-df-convert {\n",
              "      background-color: #3B4455;\n",
              "      fill: #D2E3FC;\n",
              "    }\n",
              "\n",
              "    [theme=dark] .colab-df-convert:hover {\n",
              "      background-color: #434B5C;\n",
              "      box-shadow: 0px 1px 3px 1px rgba(0, 0, 0, 0.15);\n",
              "      filter: drop-shadow(0px 1px 2px rgba(0, 0, 0, 0.3));\n",
              "      fill: #FFFFFF;\n",
              "    }\n",
              "  </style>\n",
              "\n",
              "      <script>\n",
              "        const buttonEl =\n",
              "          document.querySelector('#df-1d401e32-5bb0-4ec9-b854-8aeabc4d7133 button.colab-df-convert');\n",
              "        buttonEl.style.display =\n",
              "          google.colab.kernel.accessAllowed ? 'block' : 'none';\n",
              "\n",
              "        async function convertToInteractive(key) {\n",
              "          const element = document.querySelector('#df-1d401e32-5bb0-4ec9-b854-8aeabc4d7133');\n",
              "          const dataTable =\n",
              "            await google.colab.kernel.invokeFunction('convertToInteractive',\n",
              "                                                     [key], {});\n",
              "          if (!dataTable) return;\n",
              "\n",
              "          const docLinkHtml = 'Like what you see? Visit the ' +\n",
              "            '<a target=\"_blank\" href=https://colab.research.google.com/notebooks/data_table.ipynb>data table notebook</a>'\n",
              "            + ' to learn more about interactive tables.';\n",
              "          element.innerHTML = '';\n",
              "          dataTable['output_type'] = 'display_data';\n",
              "          await google.colab.output.renderOutput(dataTable, element);\n",
              "          const docLink = document.createElement('div');\n",
              "          docLink.innerHTML = docLinkHtml;\n",
              "          element.appendChild(docLink);\n",
              "        }\n",
              "      </script>\n",
              "    </div>\n",
              "  </div>\n",
              "  "
            ]
          },
          "metadata": {},
          "execution_count": 108
        }
      ]
    },
    {
      "cell_type": "code",
      "source": [
        "#table_2020_arrest = Perceived_Race_table.loc[Perceived_Race_table[\"Arrest_Year\"]==2020] \n",
        "Age_group_table = ass_table.groupby(['Arrest_Year','Sex','Age_group__at_arrest_']).size().unstack().reset_index(drop=False)\n",
        "Age_group_table"
      ],
      "metadata": {
        "colab": {
          "base_uri": "https://localhost:8080/",
          "height": 253
        },
        "id": "iGFjt-B2yd9w",
        "outputId": "75d56f38-be66-478b-a033-1df1950f3df1"
      },
      "execution_count": 109,
      "outputs": [
        {
          "output_type": "execute_result",
          "data": {
            "text/plain": [
              "Age_group__at_arrest_  Arrest_Year Sex  Aged 17 years and younger  \\\n",
              "0                             2020   F                        451   \n",
              "1                             2020   M                       1230   \n",
              "2                             2021   F                        282   \n",
              "3                             2021   M                       1079   \n",
              "\n",
              "Age_group__at_arrest_  Aged 18 to 24 years  Aged 25 to 34 years  \\\n",
              "0                                     1068                 2019   \n",
              "1                                     4229                 8137   \n",
              "2                                     1001                 2212   \n",
              "3                                     3741                 8577   \n",
              "\n",
              "Age_group__at_arrest_  Aged 35 to 44 years  Aged 45 to 54 years  \\\n",
              "0                                     1409                  744   \n",
              "1                                     6194                 3626   \n",
              "2                                     1675                  858   \n",
              "3                                     6963                 3838   \n",
              "\n",
              "Age_group__at_arrest_  Aged 55 to 64 years  Aged 65 and older  \n",
              "0                                      335                108  \n",
              "1                                     1896                516  \n",
              "2                                      345                102  \n",
              "3                                     2012                596  "
            ],
            "text/html": [
              "\n",
              "  <div id=\"df-7715269c-7195-4af0-bbe1-1edaa74d1e21\">\n",
              "    <div class=\"colab-df-container\">\n",
              "      <div>\n",
              "<style scoped>\n",
              "    .dataframe tbody tr th:only-of-type {\n",
              "        vertical-align: middle;\n",
              "    }\n",
              "\n",
              "    .dataframe tbody tr th {\n",
              "        vertical-align: top;\n",
              "    }\n",
              "\n",
              "    .dataframe thead th {\n",
              "        text-align: right;\n",
              "    }\n",
              "</style>\n",
              "<table border=\"1\" class=\"dataframe\">\n",
              "  <thead>\n",
              "    <tr style=\"text-align: right;\">\n",
              "      <th>Age_group__at_arrest_</th>\n",
              "      <th>Arrest_Year</th>\n",
              "      <th>Sex</th>\n",
              "      <th>Aged 17 years and younger</th>\n",
              "      <th>Aged 18 to 24 years</th>\n",
              "      <th>Aged 25 to 34 years</th>\n",
              "      <th>Aged 35 to 44 years</th>\n",
              "      <th>Aged 45 to 54 years</th>\n",
              "      <th>Aged 55 to 64 years</th>\n",
              "      <th>Aged 65 and older</th>\n",
              "    </tr>\n",
              "  </thead>\n",
              "  <tbody>\n",
              "    <tr>\n",
              "      <th>0</th>\n",
              "      <td>2020</td>\n",
              "      <td>F</td>\n",
              "      <td>451</td>\n",
              "      <td>1068</td>\n",
              "      <td>2019</td>\n",
              "      <td>1409</td>\n",
              "      <td>744</td>\n",
              "      <td>335</td>\n",
              "      <td>108</td>\n",
              "    </tr>\n",
              "    <tr>\n",
              "      <th>1</th>\n",
              "      <td>2020</td>\n",
              "      <td>M</td>\n",
              "      <td>1230</td>\n",
              "      <td>4229</td>\n",
              "      <td>8137</td>\n",
              "      <td>6194</td>\n",
              "      <td>3626</td>\n",
              "      <td>1896</td>\n",
              "      <td>516</td>\n",
              "    </tr>\n",
              "    <tr>\n",
              "      <th>2</th>\n",
              "      <td>2021</td>\n",
              "      <td>F</td>\n",
              "      <td>282</td>\n",
              "      <td>1001</td>\n",
              "      <td>2212</td>\n",
              "      <td>1675</td>\n",
              "      <td>858</td>\n",
              "      <td>345</td>\n",
              "      <td>102</td>\n",
              "    </tr>\n",
              "    <tr>\n",
              "      <th>3</th>\n",
              "      <td>2021</td>\n",
              "      <td>M</td>\n",
              "      <td>1079</td>\n",
              "      <td>3741</td>\n",
              "      <td>8577</td>\n",
              "      <td>6963</td>\n",
              "      <td>3838</td>\n",
              "      <td>2012</td>\n",
              "      <td>596</td>\n",
              "    </tr>\n",
              "  </tbody>\n",
              "</table>\n",
              "</div>\n",
              "      <button class=\"colab-df-convert\" onclick=\"convertToInteractive('df-7715269c-7195-4af0-bbe1-1edaa74d1e21')\"\n",
              "              title=\"Convert this dataframe to an interactive table.\"\n",
              "              style=\"display:none;\">\n",
              "        \n",
              "  <svg xmlns=\"http://www.w3.org/2000/svg\" height=\"24px\"viewBox=\"0 0 24 24\"\n",
              "       width=\"24px\">\n",
              "    <path d=\"M0 0h24v24H0V0z\" fill=\"none\"/>\n",
              "    <path d=\"M18.56 5.44l.94 2.06.94-2.06 2.06-.94-2.06-.94-.94-2.06-.94 2.06-2.06.94zm-11 1L8.5 8.5l.94-2.06 2.06-.94-2.06-.94L8.5 2.5l-.94 2.06-2.06.94zm10 10l.94 2.06.94-2.06 2.06-.94-2.06-.94-.94-2.06-.94 2.06-2.06.94z\"/><path d=\"M17.41 7.96l-1.37-1.37c-.4-.4-.92-.59-1.43-.59-.52 0-1.04.2-1.43.59L10.3 9.45l-7.72 7.72c-.78.78-.78 2.05 0 2.83L4 21.41c.39.39.9.59 1.41.59.51 0 1.02-.2 1.41-.59l7.78-7.78 2.81-2.81c.8-.78.8-2.07 0-2.86zM5.41 20L4 18.59l7.72-7.72 1.47 1.35L5.41 20z\"/>\n",
              "  </svg>\n",
              "      </button>\n",
              "      \n",
              "  <style>\n",
              "    .colab-df-container {\n",
              "      display:flex;\n",
              "      flex-wrap:wrap;\n",
              "      gap: 12px;\n",
              "    }\n",
              "\n",
              "    .colab-df-convert {\n",
              "      background-color: #E8F0FE;\n",
              "      border: none;\n",
              "      border-radius: 50%;\n",
              "      cursor: pointer;\n",
              "      display: none;\n",
              "      fill: #1967D2;\n",
              "      height: 32px;\n",
              "      padding: 0 0 0 0;\n",
              "      width: 32px;\n",
              "    }\n",
              "\n",
              "    .colab-df-convert:hover {\n",
              "      background-color: #E2EBFA;\n",
              "      box-shadow: 0px 1px 2px rgba(60, 64, 67, 0.3), 0px 1px 3px 1px rgba(60, 64, 67, 0.15);\n",
              "      fill: #174EA6;\n",
              "    }\n",
              "\n",
              "    [theme=dark] .colab-df-convert {\n",
              "      background-color: #3B4455;\n",
              "      fill: #D2E3FC;\n",
              "    }\n",
              "\n",
              "    [theme=dark] .colab-df-convert:hover {\n",
              "      background-color: #434B5C;\n",
              "      box-shadow: 0px 1px 3px 1px rgba(0, 0, 0, 0.15);\n",
              "      filter: drop-shadow(0px 1px 2px rgba(0, 0, 0, 0.3));\n",
              "      fill: #FFFFFF;\n",
              "    }\n",
              "  </style>\n",
              "\n",
              "      <script>\n",
              "        const buttonEl =\n",
              "          document.querySelector('#df-7715269c-7195-4af0-bbe1-1edaa74d1e21 button.colab-df-convert');\n",
              "        buttonEl.style.display =\n",
              "          google.colab.kernel.accessAllowed ? 'block' : 'none';\n",
              "\n",
              "        async function convertToInteractive(key) {\n",
              "          const element = document.querySelector('#df-7715269c-7195-4af0-bbe1-1edaa74d1e21');\n",
              "          const dataTable =\n",
              "            await google.colab.kernel.invokeFunction('convertToInteractive',\n",
              "                                                     [key], {});\n",
              "          if (!dataTable) return;\n",
              "\n",
              "          const docLinkHtml = 'Like what you see? Visit the ' +\n",
              "            '<a target=\"_blank\" href=https://colab.research.google.com/notebooks/data_table.ipynb>data table notebook</a>'\n",
              "            + ' to learn more about interactive tables.';\n",
              "          element.innerHTML = '';\n",
              "          dataTable['output_type'] = 'display_data';\n",
              "          await google.colab.output.renderOutput(dataTable, element);\n",
              "          const docLink = document.createElement('div');\n",
              "          docLink.innerHTML = docLinkHtml;\n",
              "          element.appendChild(docLink);\n",
              "        }\n",
              "      </script>\n",
              "    </div>\n",
              "  </div>\n",
              "  "
            ]
          },
          "metadata": {},
          "execution_count": 109
        }
      ]
    },
    {
      "cell_type": "code",
      "source": [
        "ass_table['Aggregated_Negative_behaviors'] = ass_table['Actions_at_arrest___Concealed_i']+ass_table['Actions_at_arrest___Combative__']+ass_table['Actions_at_arrest___Resisted__d']+ass_table['Actions_at_arrest___Mental_inst']+ass_table['Actions_at_arrest___Mental_inst']\n",
        "Q1_table = ass_table.groupby(['Sex','Perceived_Race','Aggregated_Negative_behaviors']).size().unstack().reset_index(drop=False)\n",
        "Q1_table=Q1_table.fillna(0)\n",
        "Q1_table=Q1_table.drop(Q1_table[Q1_table['Sex']=='U'].index)\n",
        "Q1_table=pd.melt(Q1_table,id_vars=['Sex','Perceived_Race'])\n",
        "Q1_table.head()"
      ],
      "metadata": {
        "id": "BX75O9iuZtyi",
        "colab": {
          "base_uri": "https://localhost:8080/",
          "height": 206
        },
        "outputId": "dd9bc303-1b59-454f-a7f4-0e85acaf20e4"
      },
      "execution_count": 110,
      "outputs": [
        {
          "output_type": "execute_result",
          "data": {
            "text/plain": [
              "  Sex        Perceived_Race Aggregated_Negative_behaviors   value\n",
              "0   F                 Black                             0  2668.0\n",
              "1   F  East/Southeast Asian                             0   707.0\n",
              "2   F            Indigenous                             0   553.0\n",
              "3   F                Latino                             0   242.0\n",
              "4   F        Middle-Eastern                             0   330.0"
            ],
            "text/html": [
              "\n",
              "  <div id=\"df-2d9732a7-34b1-4266-b7fc-0f945281764f\">\n",
              "    <div class=\"colab-df-container\">\n",
              "      <div>\n",
              "<style scoped>\n",
              "    .dataframe tbody tr th:only-of-type {\n",
              "        vertical-align: middle;\n",
              "    }\n",
              "\n",
              "    .dataframe tbody tr th {\n",
              "        vertical-align: top;\n",
              "    }\n",
              "\n",
              "    .dataframe thead th {\n",
              "        text-align: right;\n",
              "    }\n",
              "</style>\n",
              "<table border=\"1\" class=\"dataframe\">\n",
              "  <thead>\n",
              "    <tr style=\"text-align: right;\">\n",
              "      <th></th>\n",
              "      <th>Sex</th>\n",
              "      <th>Perceived_Race</th>\n",
              "      <th>Aggregated_Negative_behaviors</th>\n",
              "      <th>value</th>\n",
              "    </tr>\n",
              "  </thead>\n",
              "  <tbody>\n",
              "    <tr>\n",
              "      <th>0</th>\n",
              "      <td>F</td>\n",
              "      <td>Black</td>\n",
              "      <td>0</td>\n",
              "      <td>2668.0</td>\n",
              "    </tr>\n",
              "    <tr>\n",
              "      <th>1</th>\n",
              "      <td>F</td>\n",
              "      <td>East/Southeast Asian</td>\n",
              "      <td>0</td>\n",
              "      <td>707.0</td>\n",
              "    </tr>\n",
              "    <tr>\n",
              "      <th>2</th>\n",
              "      <td>F</td>\n",
              "      <td>Indigenous</td>\n",
              "      <td>0</td>\n",
              "      <td>553.0</td>\n",
              "    </tr>\n",
              "    <tr>\n",
              "      <th>3</th>\n",
              "      <td>F</td>\n",
              "      <td>Latino</td>\n",
              "      <td>0</td>\n",
              "      <td>242.0</td>\n",
              "    </tr>\n",
              "    <tr>\n",
              "      <th>4</th>\n",
              "      <td>F</td>\n",
              "      <td>Middle-Eastern</td>\n",
              "      <td>0</td>\n",
              "      <td>330.0</td>\n",
              "    </tr>\n",
              "  </tbody>\n",
              "</table>\n",
              "</div>\n",
              "      <button class=\"colab-df-convert\" onclick=\"convertToInteractive('df-2d9732a7-34b1-4266-b7fc-0f945281764f')\"\n",
              "              title=\"Convert this dataframe to an interactive table.\"\n",
              "              style=\"display:none;\">\n",
              "        \n",
              "  <svg xmlns=\"http://www.w3.org/2000/svg\" height=\"24px\"viewBox=\"0 0 24 24\"\n",
              "       width=\"24px\">\n",
              "    <path d=\"M0 0h24v24H0V0z\" fill=\"none\"/>\n",
              "    <path d=\"M18.56 5.44l.94 2.06.94-2.06 2.06-.94-2.06-.94-.94-2.06-.94 2.06-2.06.94zm-11 1L8.5 8.5l.94-2.06 2.06-.94-2.06-.94L8.5 2.5l-.94 2.06-2.06.94zm10 10l.94 2.06.94-2.06 2.06-.94-2.06-.94-.94-2.06-.94 2.06-2.06.94z\"/><path d=\"M17.41 7.96l-1.37-1.37c-.4-.4-.92-.59-1.43-.59-.52 0-1.04.2-1.43.59L10.3 9.45l-7.72 7.72c-.78.78-.78 2.05 0 2.83L4 21.41c.39.39.9.59 1.41.59.51 0 1.02-.2 1.41-.59l7.78-7.78 2.81-2.81c.8-.78.8-2.07 0-2.86zM5.41 20L4 18.59l7.72-7.72 1.47 1.35L5.41 20z\"/>\n",
              "  </svg>\n",
              "      </button>\n",
              "      \n",
              "  <style>\n",
              "    .colab-df-container {\n",
              "      display:flex;\n",
              "      flex-wrap:wrap;\n",
              "      gap: 12px;\n",
              "    }\n",
              "\n",
              "    .colab-df-convert {\n",
              "      background-color: #E8F0FE;\n",
              "      border: none;\n",
              "      border-radius: 50%;\n",
              "      cursor: pointer;\n",
              "      display: none;\n",
              "      fill: #1967D2;\n",
              "      height: 32px;\n",
              "      padding: 0 0 0 0;\n",
              "      width: 32px;\n",
              "    }\n",
              "\n",
              "    .colab-df-convert:hover {\n",
              "      background-color: #E2EBFA;\n",
              "      box-shadow: 0px 1px 2px rgba(60, 64, 67, 0.3), 0px 1px 3px 1px rgba(60, 64, 67, 0.15);\n",
              "      fill: #174EA6;\n",
              "    }\n",
              "\n",
              "    [theme=dark] .colab-df-convert {\n",
              "      background-color: #3B4455;\n",
              "      fill: #D2E3FC;\n",
              "    }\n",
              "\n",
              "    [theme=dark] .colab-df-convert:hover {\n",
              "      background-color: #434B5C;\n",
              "      box-shadow: 0px 1px 3px 1px rgba(0, 0, 0, 0.15);\n",
              "      filter: drop-shadow(0px 1px 2px rgba(0, 0, 0, 0.3));\n",
              "      fill: #FFFFFF;\n",
              "    }\n",
              "  </style>\n",
              "\n",
              "      <script>\n",
              "        const buttonEl =\n",
              "          document.querySelector('#df-2d9732a7-34b1-4266-b7fc-0f945281764f button.colab-df-convert');\n",
              "        buttonEl.style.display =\n",
              "          google.colab.kernel.accessAllowed ? 'block' : 'none';\n",
              "\n",
              "        async function convertToInteractive(key) {\n",
              "          const element = document.querySelector('#df-2d9732a7-34b1-4266-b7fc-0f945281764f');\n",
              "          const dataTable =\n",
              "            await google.colab.kernel.invokeFunction('convertToInteractive',\n",
              "                                                     [key], {});\n",
              "          if (!dataTable) return;\n",
              "\n",
              "          const docLinkHtml = 'Like what you see? Visit the ' +\n",
              "            '<a target=\"_blank\" href=https://colab.research.google.com/notebooks/data_table.ipynb>data table notebook</a>'\n",
              "            + ' to learn more about interactive tables.';\n",
              "          element.innerHTML = '';\n",
              "          dataTable['output_type'] = 'display_data';\n",
              "          await google.colab.output.renderOutput(dataTable, element);\n",
              "          const docLink = document.createElement('div');\n",
              "          docLink.innerHTML = docLinkHtml;\n",
              "          element.appendChild(docLink);\n",
              "        }\n",
              "      </script>\n",
              "    </div>\n",
              "  </div>\n",
              "  "
            ]
          },
          "metadata": {},
          "execution_count": 110
        }
      ]
    },
    {
      "cell_type": "code",
      "source": [
        "line_chart(Q1_table,'Perceived_Race','value','Sex','Aggregated Negative Behaviors by Sex and Perceived Race','Aggregated_Negative_behaviors',15)"
      ],
      "metadata": {
        "colab": {
          "base_uri": "https://localhost:8080/",
          "height": 346
        },
        "id": "B9v-VeFVv9D4",
        "outputId": "b77657be-1f2d-4d7a-b6ff-6cfd2518e4f8"
      },
      "execution_count": 111,
      "outputs": [
        {
          "output_type": "display_data",
          "data": {
            "text/plain": [
              "<Figure size 2160x720 with 1 Axes>"
            ],
            "image/png": "[encoded data removed]"
          },
          "metadata": {
            "needs_background": "light"
          }
        }
      ]
    },
    {
      "cell_type": "code",
      "source": [
        "ass_table['Aggregated_Negative_behaviors'].describe()"
      ],
      "metadata": {
        "colab": {
          "base_uri": "https://localhost:8080/"
        },
        "id": "BST0_tHAL6Ml",
        "outputId": "4d007085-b813-4f22-b56d-bef89ac3538e"
      },
      "execution_count": 112,
      "outputs": [
        {
          "output_type": "execute_result",
          "data": {
            "text/plain": [
              "count    65267.000000\n",
              "mean         0.153247\n",
              "std          0.534204\n",
              "min          0.000000\n",
              "25%          0.000000\n",
              "50%          0.000000\n",
              "75%          0.000000\n",
              "max          4.000000\n",
              "Name: Aggregated_Negative_behaviors, dtype: float64"
            ]
          },
          "metadata": {},
          "execution_count": 112
        }
      ]
    },
    {
      "cell_type": "code",
      "source": [
        "sns.boxplot(x=ass_table['Aggregated_Negative_behaviors'])"
      ],
      "metadata": {
        "colab": {
          "base_uri": "https://localhost:8080/",
          "height": 298
        },
        "id": "V0iOxJYHNUR8",
        "outputId": "cbd20be4-c4ed-430c-9479-c73448549f3e"
      },
      "execution_count": 113,
      "outputs": [
        {
          "output_type": "execute_result",
          "data": {
            "text/plain": [
              "<AxesSubplot:xlabel='Aggregated_Negative_behaviors'>"
            ]
          },
          "metadata": {},
          "execution_count": 113
        },
        {
          "output_type": "display_data",
          "data": {
            "text/plain": [
              "<Figure size 432x288 with 1 Axes>"
            ],
            "image/png": "[encoded data removed]"
          },
          "metadata": {
            "needs_background": "light"
          }
        }
      ]
    },
    {
      "cell_type": "code",
      "source": [
        "arrest_f_table = ass_table.loc[ass_table['Sex'] == \"F\"]\n",
        "arrest_m_table = ass_table.loc[ass_table['Sex'] == \"M\"]\n",
        "arrest_f_table['Aggregated_Negative_behaviors'].describe()"
      ],
      "metadata": {
        "colab": {
          "base_uri": "https://localhost:8080/"
        },
        "id": "2t67Ns89Ck-8",
        "outputId": "6a801fab-9393-4bff-e7f7-9b3db24ef03b"
      },
      "execution_count": 114,
      "outputs": [
        {
          "output_type": "execute_result",
          "data": {
            "text/plain": [
              "count    12617.000000\n",
              "mean         0.160656\n",
              "std          0.555236\n",
              "min          0.000000\n",
              "25%          0.000000\n",
              "50%          0.000000\n",
              "75%          0.000000\n",
              "max          4.000000\n",
              "Name: Aggregated_Negative_behaviors, dtype: float64"
            ]
          },
          "metadata": {},
          "execution_count": 114
        }
      ]
    },
    {
      "cell_type": "code",
      "source": [
        "sns.boxplot(x=arrest_f_table['Aggregated_Negative_behaviors'])"
      ],
      "metadata": {
        "colab": {
          "base_uri": "https://localhost:8080/",
          "height": 298
        },
        "id": "DJKSub6hOSlA",
        "outputId": "385864be-6eac-438b-c267-3c8e852af8ec"
      },
      "execution_count": 115,
      "outputs": [
        {
          "output_type": "execute_result",
          "data": {
            "text/plain": [
              "<AxesSubplot:xlabel='Aggregated_Negative_behaviors'>"
            ]
          },
          "metadata": {},
          "execution_count": 115
        },
        {
          "output_type": "display_data",
          "data": {
            "text/plain": [
              "<Figure size 432x288 with 1 Axes>"
            ],
            "image/png": "[encoded data removed]"
          },
          "metadata": {
            "needs_background": "light"
          }
        }
      ]
    },
    {
      "cell_type": "code",
      "source": [
        "arrest_m_table['Aggregated_Negative_behaviors'].describe()"
      ],
      "metadata": {
        "colab": {
          "base_uri": "https://localhost:8080/"
        },
        "id": "pZQru1shDVBZ",
        "outputId": "3eef3d11-90ae-4820-bf0b-55987f4d422c"
      },
      "execution_count": 116,
      "outputs": [
        {
          "output_type": "execute_result",
          "data": {
            "text/plain": [
              "count    52650.000000\n",
              "mean         0.151472\n",
              "std          0.529030\n",
              "min          0.000000\n",
              "25%          0.000000\n",
              "50%          0.000000\n",
              "75%          0.000000\n",
              "max          4.000000\n",
              "Name: Aggregated_Negative_behaviors, dtype: float64"
            ]
          },
          "metadata": {},
          "execution_count": 116
        }
      ]
    },
    {
      "cell_type": "code",
      "source": [
        "t_test_arrest=ass_table[['Sex','Aggregated_Negative_behaviors']]\n",
        "t_test_arrest.head()"
      ],
      "metadata": {
        "colab": {
          "base_uri": "https://localhost:8080/",
          "height": 206
        },
        "id": "sSO5P8EkDsaR",
        "outputId": "674101a0-e44e-4cb8-ad38-a689d6456cd4"
      },
      "execution_count": 117,
      "outputs": [
        {
          "output_type": "execute_result",
          "data": {
            "text/plain": [
              "  Sex  Aggregated_Negative_behaviors\n",
              "0   M                              0\n",
              "1   M                              0\n",
              "2   M                              0\n",
              "3   M                              0\n",
              "4   M                              0"
            ],
            "text/html": [
              "\n",
              "  <div id=\"df-ca86cd2a-900a-40d0-9e6c-7dd21a5ffc6a\">\n",
              "    <div class=\"colab-df-container\">\n",
              "      <div>\n",
              "<style scoped>\n",
              "    .dataframe tbody tr th:only-of-type {\n",
              "        vertical-align: middle;\n",
              "    }\n",
              "\n",
              "    .dataframe tbody tr th {\n",
              "        vertical-align: top;\n",
              "    }\n",
              "\n",
              "    .dataframe thead th {\n",
              "        text-align: right;\n",
              "    }\n",
              "</style>\n",
              "<table border=\"1\" class=\"dataframe\">\n",
              "  <thead>\n",
              "    <tr style=\"text-align: right;\">\n",
              "      <th></th>\n",
              "      <th>Sex</th>\n",
              "      <th>Aggregated_Negative_behaviors</th>\n",
              "    </tr>\n",
              "  </thead>\n",
              "  <tbody>\n",
              "    <tr>\n",
              "      <th>0</th>\n",
              "      <td>M</td>\n",
              "      <td>0</td>\n",
              "    </tr>\n",
              "    <tr>\n",
              "      <th>1</th>\n",
              "      <td>M</td>\n",
              "      <td>0</td>\n",
              "    </tr>\n",
              "    <tr>\n",
              "      <th>2</th>\n",
              "      <td>M</td>\n",
              "      <td>0</td>\n",
              "    </tr>\n",
              "    <tr>\n",
              "      <th>3</th>\n",
              "      <td>M</td>\n",
              "      <td>0</td>\n",
              "    </tr>\n",
              "    <tr>\n",
              "      <th>4</th>\n",
              "      <td>M</td>\n",
              "      <td>0</td>\n",
              "    </tr>\n",
              "  </tbody>\n",
              "</table>\n",
              "</div>\n",
              "      <button class=\"colab-df-convert\" onclick=\"convertToInteractive('df-ca86cd2a-900a-40d0-9e6c-7dd21a5ffc6a')\"\n",
              "              title=\"Convert this dataframe to an interactive table.\"\n",
              "              style=\"display:none;\">\n",
              "        \n",
              "  <svg xmlns=\"http://www.w3.org/2000/svg\" height=\"24px\"viewBox=\"0 0 24 24\"\n",
              "       width=\"24px\">\n",
              "    <path d=\"M0 0h24v24H0V0z\" fill=\"none\"/>\n",
              "    <path d=\"M18.56 5.44l.94 2.06.94-2.06 2.06-.94-2.06-.94-.94-2.06-.94 2.06-2.06.94zm-11 1L8.5 8.5l.94-2.06 2.06-.94-2.06-.94L8.5 2.5l-.94 2.06-2.06.94zm10 10l.94 2.06.94-2.06 2.06-.94-2.06-.94-.94-2.06-.94 2.06-2.06.94z\"/><path d=\"M17.41 7.96l-1.37-1.37c-.4-.4-.92-.59-1.43-.59-.52 0-1.04.2-1.43.59L10.3 9.45l-7.72 7.72c-.78.78-.78 2.05 0 2.83L4 21.41c.39.39.9.59 1.41.59.51 0 1.02-.2 1.41-.59l7.78-7.78 2.81-2.81c.8-.78.8-2.07 0-2.86zM5.41 20L4 18.59l7.72-7.72 1.47 1.35L5.41 20z\"/>\n",
              "  </svg>\n",
              "      </button>\n",
              "      \n",
              "  <style>\n",
              "    .colab-df-container {\n",
              "      display:flex;\n",
              "      flex-wrap:wrap;\n",
              "      gap: 12px;\n",
              "    }\n",
              "\n",
              "    .colab-df-convert {\n",
              "      background-color: #E8F0FE;\n",
              "      border: none;\n",
              "      border-radius: 50%;\n",
              "      cursor: pointer;\n",
              "      display: none;\n",
              "      fill: #1967D2;\n",
              "      height: 32px;\n",
              "      padding: 0 0 0 0;\n",
              "      width: 32px;\n",
              "    }\n",
              "\n",
              "    .colab-df-convert:hover {\n",
              "      background-color: #E2EBFA;\n",
              "      box-shadow: 0px 1px 2px rgba(60, 64, 67, 0.3), 0px 1px 3px 1px rgba(60, 64, 67, 0.15);\n",
              "      fill: #174EA6;\n",
              "    }\n",
              "\n",
              "    [theme=dark] .colab-df-convert {\n",
              "      background-color: #3B4455;\n",
              "      fill: #D2E3FC;\n",
              "    }\n",
              "\n",
              "    [theme=dark] .colab-df-convert:hover {\n",
              "      background-color: #434B5C;\n",
              "      box-shadow: 0px 1px 3px 1px rgba(0, 0, 0, 0.15);\n",
              "      filter: drop-shadow(0px 1px 2px rgba(0, 0, 0, 0.3));\n",
              "      fill: #FFFFFF;\n",
              "    }\n",
              "  </style>\n",
              "\n",
              "      <script>\n",
              "        const buttonEl =\n",
              "          document.querySelector('#df-ca86cd2a-900a-40d0-9e6c-7dd21a5ffc6a button.colab-df-convert');\n",
              "        buttonEl.style.display =\n",
              "          google.colab.kernel.accessAllowed ? 'block' : 'none';\n",
              "\n",
              "        async function convertToInteractive(key) {\n",
              "          const element = document.querySelector('#df-ca86cd2a-900a-40d0-9e6c-7dd21a5ffc6a');\n",
              "          const dataTable =\n",
              "            await google.colab.kernel.invokeFunction('convertToInteractive',\n",
              "                                                     [key], {});\n",
              "          if (!dataTable) return;\n",
              "\n",
              "          const docLinkHtml = 'Like what you see? Visit the ' +\n",
              "            '<a target=\"_blank\" href=https://colab.research.google.com/notebooks/data_table.ipynb>data table notebook</a>'\n",
              "            + ' to learn more about interactive tables.';\n",
              "          element.innerHTML = '';\n",
              "          dataTable['output_type'] = 'display_data';\n",
              "          await google.colab.output.renderOutput(dataTable, element);\n",
              "          const docLink = document.createElement('div');\n",
              "          docLink.innerHTML = docLinkHtml;\n",
              "          element.appendChild(docLink);\n",
              "        }\n",
              "      </script>\n",
              "    </div>\n",
              "  </div>\n",
              "  "
            ]
          },
          "metadata": {},
          "execution_count": 117
        }
      ]
    },
    {
      "cell_type": "code",
      "source": [
        "arrest_group1 = t_test_arrest[t_test_arrest['Sex']=='F']\n",
        "arrest_group2 = t_test_arrest[t_test_arrest['Sex']=='M']\n",
        "ttest_ind(arrest_group1['Aggregated_Negative_behaviors'], arrest_group2['Aggregated_Negative_behaviors'])"
      ],
      "metadata": {
        "colab": {
          "base_uri": "https://localhost:8080/"
        },
        "id": "aMoPxWRUDYJp",
        "outputId": "12f44936-8d02-41b9-8406-ebe63d6b88c6"
      },
      "execution_count": 118,
      "outputs": [
        {
          "output_type": "execute_result",
          "data": {
            "text/plain": [
              "Ttest_indResult(statistic=1.734501440982696, pvalue=0.0828338716833021)"
            ]
          },
          "metadata": {},
          "execution_count": 118
        }
      ]
    },
    {
      "cell_type": "code",
      "source": [
        "ass_table['Aggregated_Search_Reasons'] = ass_table['SearchReason_CauseInjury']+ass_table['SearchReason_AssistEscape']+ass_table['SearchReason_PossessWeapons']+ass_table['SearchReason_PossessEvidence']"
      ],
      "metadata": {
        "id": "tL76hmN0esxV"
      },
      "execution_count": 119,
      "outputs": []
    },
    {
      "cell_type": "code",
      "source": [
        "temp = ass_table[ass_table.StripSearch==1]\n",
        "Q2_table = temp.groupby(['Sex','Perceived_Race','Aggregated_Search_Reasons']).size().unstack().reset_index(drop=False)\n",
        "Q2_table=Q2_table.fillna(0)\n",
        "Q2_table=Q2_table.drop(Q2_table[Q2_table['Sex']=='U'].index)\n",
        "Q2_table=pd.melt(Q2_table,id_vars=['Sex','Perceived_Race'])\n",
        "Q2_table.head()"
      ],
      "metadata": {
        "id": "r9TH8-7zchoa",
        "colab": {
          "base_uri": "https://localhost:8080/",
          "height": 206
        },
        "outputId": "b0e9e6b8-7ad3-42b2-d895-4d6639c53714"
      },
      "execution_count": 120,
      "outputs": [
        {
          "output_type": "execute_result",
          "data": {
            "text/plain": [
              "  Sex        Perceived_Race Aggregated_Search_Reasons  value\n",
              "0   F                 Black                       0.0   28.0\n",
              "1   F  East/Southeast Asian                       0.0    0.0\n",
              "2   F            Indigenous                       0.0   13.0\n",
              "3   F                Latino                       0.0    1.0\n",
              "4   F        Middle-Eastern                       0.0    2.0"
            ],
            "text/html": [
              "\n",
              "  <div id=\"df-93d13e38-9f06-4757-9992-59dc55c288f9\">\n",
              "    <div class=\"colab-df-container\">\n",
              "      <div>\n",
              "<style scoped>\n",
              "    .dataframe tbody tr th:only-of-type {\n",
              "        vertical-align: middle;\n",
              "    }\n",
              "\n",
              "    .dataframe tbody tr th {\n",
              "        vertical-align: top;\n",
              "    }\n",
              "\n",
              "    .dataframe thead th {\n",
              "        text-align: right;\n",
              "    }\n",
              "</style>\n",
              "<table border=\"1\" class=\"dataframe\">\n",
              "  <thead>\n",
              "    <tr style=\"text-align: right;\">\n",
              "      <th></th>\n",
              "      <th>Sex</th>\n",
              "      <th>Perceived_Race</th>\n",
              "      <th>Aggregated_Search_Reasons</th>\n",
              "      <th>value</th>\n",
              "    </tr>\n",
              "  </thead>\n",
              "  <tbody>\n",
              "    <tr>\n",
              "      <th>0</th>\n",
              "      <td>F</td>\n",
              "      <td>Black</td>\n",
              "      <td>0.0</td>\n",
              "      <td>28.0</td>\n",
              "    </tr>\n",
              "    <tr>\n",
              "      <th>1</th>\n",
              "      <td>F</td>\n",
              "      <td>East/Southeast Asian</td>\n",
              "      <td>0.0</td>\n",
              "      <td>0.0</td>\n",
              "    </tr>\n",
              "    <tr>\n",
              "      <th>2</th>\n",
              "      <td>F</td>\n",
              "      <td>Indigenous</td>\n",
              "      <td>0.0</td>\n",
              "      <td>13.0</td>\n",
              "    </tr>\n",
              "    <tr>\n",
              "      <th>3</th>\n",
              "      <td>F</td>\n",
              "      <td>Latino</td>\n",
              "      <td>0.0</td>\n",
              "      <td>1.0</td>\n",
              "    </tr>\n",
              "    <tr>\n",
              "      <th>4</th>\n",
              "      <td>F</td>\n",
              "      <td>Middle-Eastern</td>\n",
              "      <td>0.0</td>\n",
              "      <td>2.0</td>\n",
              "    </tr>\n",
              "  </tbody>\n",
              "</table>\n",
              "</div>\n",
              "      <button class=\"colab-df-convert\" onclick=\"convertToInteractive('df-93d13e38-9f06-4757-9992-59dc55c288f9')\"\n",
              "              title=\"Convert this dataframe to an interactive table.\"\n",
              "              style=\"display:none;\">\n",
              "        \n",
              "  <svg xmlns=\"http://www.w3.org/2000/svg\" height=\"24px\"viewBox=\"0 0 24 24\"\n",
              "       width=\"24px\">\n",
              "    <path d=\"M0 0h24v24H0V0z\" fill=\"none\"/>\n",
              "    <path d=\"M18.56 5.44l.94 2.06.94-2.06 2.06-.94-2.06-.94-.94-2.06-.94 2.06-2.06.94zm-11 1L8.5 8.5l.94-2.06 2.06-.94-2.06-.94L8.5 2.5l-.94 2.06-2.06.94zm10 10l.94 2.06.94-2.06 2.06-.94-2.06-.94-.94-2.06-.94 2.06-2.06.94z\"/><path d=\"M17.41 7.96l-1.37-1.37c-.4-.4-.92-.59-1.43-.59-.52 0-1.04.2-1.43.59L10.3 9.45l-7.72 7.72c-.78.78-.78 2.05 0 2.83L4 21.41c.39.39.9.59 1.41.59.51 0 1.02-.2 1.41-.59l7.78-7.78 2.81-2.81c.8-.78.8-2.07 0-2.86zM5.41 20L4 18.59l7.72-7.72 1.47 1.35L5.41 20z\"/>\n",
              "  </svg>\n",
              "      </button>\n",
              "      \n",
              "  <style>\n",
              "    .colab-df-container {\n",
              "      display:flex;\n",
              "      flex-wrap:wrap;\n",
              "      gap: 12px;\n",
              "    }\n",
              "\n",
              "    .colab-df-convert {\n",
              "      background-color: #E8F0FE;\n",
              "      border: none;\n",
              "      border-radius: 50%;\n",
              "      cursor: pointer;\n",
              "      display: none;\n",
              "      fill: #1967D2;\n",
              "      height: 32px;\n",
              "      padding: 0 0 0 0;\n",
              "      width: 32px;\n",
              "    }\n",
              "\n",
              "    .colab-df-convert:hover {\n",
              "      background-color: #E2EBFA;\n",
              "      box-shadow: 0px 1px 2px rgba(60, 64, 67, 0.3), 0px 1px 3px 1px rgba(60, 64, 67, 0.15);\n",
              "      fill: #174EA6;\n",
              "    }\n",
              "\n",
              "    [theme=dark] .colab-df-convert {\n",
              "      background-color: #3B4455;\n",
              "      fill: #D2E3FC;\n",
              "    }\n",
              "\n",
              "    [theme=dark] .colab-df-convert:hover {\n",
              "      background-color: #434B5C;\n",
              "      box-shadow: 0px 1px 3px 1px rgba(0, 0, 0, 0.15);\n",
              "      filter: drop-shadow(0px 1px 2px rgba(0, 0, 0, 0.3));\n",
              "      fill: #FFFFFF;\n",
              "    }\n",
              "  </style>\n",
              "\n",
              "      <script>\n",
              "        const buttonEl =\n",
              "          document.querySelector('#df-93d13e38-9f06-4757-9992-59dc55c288f9 button.colab-df-convert');\n",
              "        buttonEl.style.display =\n",
              "          google.colab.kernel.accessAllowed ? 'block' : 'none';\n",
              "\n",
              "        async function convertToInteractive(key) {\n",
              "          const element = document.querySelector('#df-93d13e38-9f06-4757-9992-59dc55c288f9');\n",
              "          const dataTable =\n",
              "            await google.colab.kernel.invokeFunction('convertToInteractive',\n",
              "                                                     [key], {});\n",
              "          if (!dataTable) return;\n",
              "\n",
              "          const docLinkHtml = 'Like what you see? Visit the ' +\n",
              "            '<a target=\"_blank\" href=https://colab.research.google.com/notebooks/data_table.ipynb>data table notebook</a>'\n",
              "            + ' to learn more about interactive tables.';\n",
              "          element.innerHTML = '';\n",
              "          dataTable['output_type'] = 'display_data';\n",
              "          await google.colab.output.renderOutput(dataTable, element);\n",
              "          const docLink = document.createElement('div');\n",
              "          docLink.innerHTML = docLinkHtml;\n",
              "          element.appendChild(docLink);\n",
              "        }\n",
              "      </script>\n",
              "    </div>\n",
              "  </div>\n",
              "  "
            ]
          },
          "metadata": {},
          "execution_count": 120
        }
      ]
    },
    {
      "cell_type": "code",
      "source": [
        "line_chart(Q2_table,'Perceived_Race','value','Sex','Aggregated Search Reasons by Sex and Perceived Race','Aggregated_Search_Reasons',15)"
      ],
      "metadata": {
        "colab": {
          "base_uri": "https://localhost:8080/",
          "height": 351
        },
        "id": "5kYz5MOvAp5o",
        "outputId": "2b6049b8-09cf-4c16-94e7-b851eefccb1a"
      },
      "execution_count": 121,
      "outputs": [
        {
          "output_type": "display_data",
          "data": {
            "text/plain": [
              "<Figure size 2160x720 with 1 Axes>"
            ],
            "image/png": "[encoded data removed]"
          },
          "metadata": {
            "needs_background": "light"
          }
        }
      ]
    },
    {
      "cell_type": "code",
      "source": [
        "Strip_S_table=ass_table[ass_table.StripSearch==1]\n",
        "Strip_S_table['Aggregated_Search_Reasons'].describe()"
      ],
      "metadata": {
        "colab": {
          "base_uri": "https://localhost:8080/"
        },
        "id": "hFA4O37X1Pl4",
        "outputId": "90d88085-63ee-417c-ab9c-73fec4d8503d"
      },
      "execution_count": 122,
      "outputs": [
        {
          "output_type": "execute_result",
          "data": {
            "text/plain": [
              "count    7801.000000\n",
              "mean        1.981156\n",
              "std         1.209695\n",
              "min         0.000000\n",
              "25%         1.000000\n",
              "50%         2.000000\n",
              "75%         3.000000\n",
              "max         4.000000\n",
              "Name: Aggregated_Search_Reasons, dtype: float64"
            ]
          },
          "metadata": {},
          "execution_count": 122
        }
      ]
    },
    {
      "cell_type": "code",
      "source": [],
      "metadata": {
        "id": "Ig-Zjn4ONH3h"
      },
      "execution_count": 122,
      "outputs": []
    },
    {
      "cell_type": "code",
      "source": [
        "Strip_S_table_F=Strip_S_table.loc[Strip_S_table['Sex'] == \"F\"]\n",
        "Strip_S_table_F['Aggregated_Search_Reasons'].describe()"
      ],
      "metadata": {
        "colab": {
          "base_uri": "https://localhost:8080/"
        },
        "id": "evwoY9fCMcuf",
        "outputId": "bb970771-25bb-49e5-ae1f-e38d28f2474c"
      },
      "execution_count": 123,
      "outputs": [
        {
          "output_type": "execute_result",
          "data": {
            "text/plain": [
              "count    1283.000000\n",
              "mean        1.862822\n",
              "std         1.176292\n",
              "min         0.000000\n",
              "25%         1.000000\n",
              "50%         2.000000\n",
              "75%         3.000000\n",
              "max         4.000000\n",
              "Name: Aggregated_Search_Reasons, dtype: float64"
            ]
          },
          "metadata": {},
          "execution_count": 123
        }
      ]
    },
    {
      "cell_type": "code",
      "source": [
        "sns.boxplot(x=Strip_S_table_F['Aggregated_Search_Reasons'])"
      ],
      "metadata": {
        "colab": {
          "base_uri": "https://localhost:8080/",
          "height": 298
        },
        "id": "ZdMLw0q_R6ax",
        "outputId": "2992e17c-efd8-4aaa-dde1-c823818fc94b"
      },
      "execution_count": 124,
      "outputs": [
        {
          "output_type": "execute_result",
          "data": {
            "text/plain": [
              "<AxesSubplot:xlabel='Aggregated_Search_Reasons'>"
            ]
          },
          "metadata": {},
          "execution_count": 124
        },
        {
          "output_type": "display_data",
          "data": {
            "text/plain": [
              "<Figure size 432x288 with 1 Axes>"
            ],
            "image/png": "[encoded data removed]"
          },
          "metadata": {
            "needs_background": "light"
          }
        }
      ]
    },
    {
      "cell_type": "code",
      "source": [
        "Strip_S_table_M=Strip_S_table.loc[Strip_S_table['Sex'] == \"M\"]\n",
        "Strip_S_table_M['Aggregated_Search_Reasons'].describe()"
      ],
      "metadata": {
        "colab": {
          "base_uri": "https://localhost:8080/"
        },
        "id": "gFVMfPPL93X_",
        "outputId": "3c590370-3cdd-4fcb-addb-300bcfb6f89a"
      },
      "execution_count": 125,
      "outputs": [
        {
          "output_type": "execute_result",
          "data": {
            "text/plain": [
              "count    6518.000000\n",
              "mean        2.004449\n",
              "std         1.214893\n",
              "min         0.000000\n",
              "25%         1.000000\n",
              "50%         2.000000\n",
              "75%         3.000000\n",
              "max         4.000000\n",
              "Name: Aggregated_Search_Reasons, dtype: float64"
            ]
          },
          "metadata": {},
          "execution_count": 125
        }
      ]
    },
    {
      "cell_type": "code",
      "source": [
        "sns.boxplot(x=Strip_S_table_M['Aggregated_Search_Reasons'])"
      ],
      "metadata": {
        "colab": {
          "base_uri": "https://localhost:8080/",
          "height": 298
        },
        "id": "OHxGrsuUTErt",
        "outputId": "ec6a6209-4fe5-426f-8ec9-b765b34b428f"
      },
      "execution_count": 126,
      "outputs": [
        {
          "output_type": "execute_result",
          "data": {
            "text/plain": [
              "<AxesSubplot:xlabel='Aggregated_Search_Reasons'>"
            ]
          },
          "metadata": {},
          "execution_count": 126
        },
        {
          "output_type": "display_data",
          "data": {
            "text/plain": [
              "<Figure size 432x288 with 1 Axes>"
            ],
            "image/png": "[encoded data removed]"
          },
          "metadata": {
            "needs_background": "light"
          }
        }
      ]
    },
    {
      "cell_type": "code",
      "source": [
        "sns.boxplot(x=ass_table['Aggregated_Search_Reasons'],y=ass_table['Sex'])"
      ],
      "metadata": {
        "colab": {
          "base_uri": "https://localhost:8080/",
          "height": 298
        },
        "id": "RaMcn9UdSH6U",
        "outputId": "a18d4e22-c776-471d-94a4-3623f31bef53"
      },
      "execution_count": 127,
      "outputs": [
        {
          "output_type": "execute_result",
          "data": {
            "text/plain": [
              "<AxesSubplot:xlabel='Aggregated_Search_Reasons', ylabel='Sex'>"
            ]
          },
          "metadata": {},
          "execution_count": 127
        },
        {
          "output_type": "display_data",
          "data": {
            "text/plain": [
              "<Figure size 432x288 with 1 Axes>"
            ],
            "image/png": "[encoded data removed]"
          },
          "metadata": {
            "needs_background": "light"
          }
        }
      ]
    },
    {
      "cell_type": "code",
      "source": [
        "sns.boxplot(x=ass_table['Aggregated_Search_Reasons'])"
      ],
      "metadata": {
        "colab": {
          "base_uri": "https://localhost:8080/",
          "height": 298
        },
        "id": "_4vvgz47ShRC",
        "outputId": "1a504c3b-5adf-4c31-f499-f583eafb56be"
      },
      "execution_count": 128,
      "outputs": [
        {
          "output_type": "execute_result",
          "data": {
            "text/plain": [
              "<AxesSubplot:xlabel='Aggregated_Search_Reasons'>"
            ]
          },
          "metadata": {},
          "execution_count": 128
        },
        {
          "output_type": "display_data",
          "data": {
            "text/plain": [
              "<Figure size 432x288 with 1 Axes>"
            ],
            "image/png": "[encoded data removed]"
          },
          "metadata": {
            "needs_background": "light"
          }
        }
      ]
    },
    {
      "cell_type": "code",
      "source": [
        "t_test_sex_search=Strip_S_table[['Sex','Aggregated_Search_Reasons']]\n",
        "t_test_sex_search.head()"
      ],
      "metadata": {
        "colab": {
          "base_uri": "https://localhost:8080/",
          "height": 206
        },
        "id": "jSVY0Boe_v2l",
        "outputId": "d8fa0c20-9a55-4a9b-fa6f-3f3d4707fa4f"
      },
      "execution_count": 129,
      "outputs": [
        {
          "output_type": "execute_result",
          "data": {
            "text/plain": [
              "   Sex  Aggregated_Search_Reasons\n",
              "12   M                        3.0\n",
              "14   M                        3.0\n",
              "21   M                        1.0\n",
              "33   M                        2.0\n",
              "38   M                        2.0"
            ],
            "text/html": [
              "\n",
              "  <div id=\"df-53430354-347e-41ff-9b80-0e550ab11fd3\">\n",
              "    <div class=\"colab-df-container\">\n",
              "      <div>\n",
              "<style scoped>\n",
              "    .dataframe tbody tr th:only-of-type {\n",
              "        vertical-align: middle;\n",
              "    }\n",
              "\n",
              "    .dataframe tbody tr th {\n",
              "        vertical-align: top;\n",
              "    }\n",
              "\n",
              "    .dataframe thead th {\n",
              "        text-align: right;\n",
              "    }\n",
              "</style>\n",
              "<table border=\"1\" class=\"dataframe\">\n",
              "  <thead>\n",
              "    <tr style=\"text-align: right;\">\n",
              "      <th></th>\n",
              "      <th>Sex</th>\n",
              "      <th>Aggregated_Search_Reasons</th>\n",
              "    </tr>\n",
              "  </thead>\n",
              "  <tbody>\n",
              "    <tr>\n",
              "      <th>12</th>\n",
              "      <td>M</td>\n",
              "      <td>3.0</td>\n",
              "    </tr>\n",
              "    <tr>\n",
              "      <th>14</th>\n",
              "      <td>M</td>\n",
              "      <td>3.0</td>\n",
              "    </tr>\n",
              "    <tr>\n",
              "      <th>21</th>\n",
              "      <td>M</td>\n",
              "      <td>1.0</td>\n",
              "    </tr>\n",
              "    <tr>\n",
              "      <th>33</th>\n",
              "      <td>M</td>\n",
              "      <td>2.0</td>\n",
              "    </tr>\n",
              "    <tr>\n",
              "      <th>38</th>\n",
              "      <td>M</td>\n",
              "      <td>2.0</td>\n",
              "    </tr>\n",
              "  </tbody>\n",
              "</table>\n",
              "</div>\n",
              "      <button class=\"colab-df-convert\" onclick=\"convertToInteractive('df-53430354-347e-41ff-9b80-0e550ab11fd3')\"\n",
              "              title=\"Convert this dataframe to an interactive table.\"\n",
              "              style=\"display:none;\">\n",
              "        \n",
              "  <svg xmlns=\"http://www.w3.org/2000/svg\" height=\"24px\"viewBox=\"0 0 24 24\"\n",
              "       width=\"24px\">\n",
              "    <path d=\"M0 0h24v24H0V0z\" fill=\"none\"/>\n",
              "    <path d=\"M18.56 5.44l.94 2.06.94-2.06 2.06-.94-2.06-.94-.94-2.06-.94 2.06-2.06.94zm-11 1L8.5 8.5l.94-2.06 2.06-.94-2.06-.94L8.5 2.5l-.94 2.06-2.06.94zm10 10l.94 2.06.94-2.06 2.06-.94-2.06-.94-.94-2.06-.94 2.06-2.06.94z\"/><path d=\"M17.41 7.96l-1.37-1.37c-.4-.4-.92-.59-1.43-.59-.52 0-1.04.2-1.43.59L10.3 9.45l-7.72 7.72c-.78.78-.78 2.05 0 2.83L4 21.41c.39.39.9.59 1.41.59.51 0 1.02-.2 1.41-.59l7.78-7.78 2.81-2.81c.8-.78.8-2.07 0-2.86zM5.41 20L4 18.59l7.72-7.72 1.47 1.35L5.41 20z\"/>\n",
              "  </svg>\n",
              "      </button>\n",
              "      \n",
              "  <style>\n",
              "    .colab-df-container {\n",
              "      display:flex;\n",
              "      flex-wrap:wrap;\n",
              "      gap: 12px;\n",
              "    }\n",
              "\n",
              "    .colab-df-convert {\n",
              "      background-color: #E8F0FE;\n",
              "      border: none;\n",
              "      border-radius: 50%;\n",
              "      cursor: pointer;\n",
              "      display: none;\n",
              "      fill: #1967D2;\n",
              "      height: 32px;\n",
              "      padding: 0 0 0 0;\n",
              "      width: 32px;\n",
              "    }\n",
              "\n",
              "    .colab-df-convert:hover {\n",
              "      background-color: #E2EBFA;\n",
              "      box-shadow: 0px 1px 2px rgba(60, 64, 67, 0.3), 0px 1px 3px 1px rgba(60, 64, 67, 0.15);\n",
              "      fill: #174EA6;\n",
              "    }\n",
              "\n",
              "    [theme=dark] .colab-df-convert {\n",
              "      background-color: #3B4455;\n",
              "      fill: #D2E3FC;\n",
              "    }\n",
              "\n",
              "    [theme=dark] .colab-df-convert:hover {\n",
              "      background-color: #434B5C;\n",
              "      box-shadow: 0px 1px 3px 1px rgba(0, 0, 0, 0.15);\n",
              "      filter: drop-shadow(0px 1px 2px rgba(0, 0, 0, 0.3));\n",
              "      fill: #FFFFFF;\n",
              "    }\n",
              "  </style>\n",
              "\n",
              "      <script>\n",
              "        const buttonEl =\n",
              "          document.querySelector('#df-53430354-347e-41ff-9b80-0e550ab11fd3 button.colab-df-convert');\n",
              "        buttonEl.style.display =\n",
              "          google.colab.kernel.accessAllowed ? 'block' : 'none';\n",
              "\n",
              "        async function convertToInteractive(key) {\n",
              "          const element = document.querySelector('#df-53430354-347e-41ff-9b80-0e550ab11fd3');\n",
              "          const dataTable =\n",
              "            await google.colab.kernel.invokeFunction('convertToInteractive',\n",
              "                                                     [key], {});\n",
              "          if (!dataTable) return;\n",
              "\n",
              "          const docLinkHtml = 'Like what you see? Visit the ' +\n",
              "            '<a target=\"_blank\" href=https://colab.research.google.com/notebooks/data_table.ipynb>data table notebook</a>'\n",
              "            + ' to learn more about interactive tables.';\n",
              "          element.innerHTML = '';\n",
              "          dataTable['output_type'] = 'display_data';\n",
              "          await google.colab.output.renderOutput(dataTable, element);\n",
              "          const docLink = document.createElement('div');\n",
              "          docLink.innerHTML = docLinkHtml;\n",
              "          element.appendChild(docLink);\n",
              "        }\n",
              "      </script>\n",
              "    </div>\n",
              "  </div>\n",
              "  "
            ]
          },
          "metadata": {},
          "execution_count": 129
        }
      ]
    },
    {
      "cell_type": "code",
      "source": [
        "group1 = t_test_sex_search[t_test_sex_search['Sex']=='F']\n",
        "group2 = t_test_sex_search[t_test_sex_search['Sex']=='M']\n",
        "ttest_ind(group1['Aggregated_Search_Reasons'], group2['Aggregated_Search_Reasons'])"
      ],
      "metadata": {
        "colab": {
          "base_uri": "https://localhost:8080/"
        },
        "id": "KjPkh7XcARQ2",
        "outputId": "47e25a2b-c8e3-44bc-fb7a-7f6e5b505790"
      },
      "execution_count": 130,
      "outputs": [
        {
          "output_type": "execute_result",
          "data": {
            "text/plain": [
              "Ttest_indResult(statistic=-3.836623571021187, pvalue=0.00012572162046602353)"
            ]
          },
          "metadata": {},
          "execution_count": 130
        }
      ]
    },
    {
      "cell_type": "code",
      "source": [
        "Strip_Search_Sex = ass_table.groupby(['Sex','Aggregated_Search_Reasons']).size().unstack().reset_index(drop=False)\n",
        "Strip_Search_Sex=Strip_Search_Sex.fillna(0)\n",
        "Strip_Search_Sex=Strip_Search_Sex.drop(Strip_Search_Sex[Strip_Search_Sex['Sex']=='U'].index)\n",
        "Strip_Search_Sex"
      ],
      "metadata": {
        "id": "9uJ4iBtjbs1Y",
        "colab": {
          "base_uri": "https://localhost:8080/",
          "height": 112
        },
        "outputId": "ca1589a2-088e-444d-ca66-d9637c579605"
      },
      "execution_count": 131,
      "outputs": [
        {
          "output_type": "execute_result",
          "data": {
            "text/plain": [
              "Aggregated_Search_Reasons Sex  0.0   1.0   2.0   3.0   4.0\n",
              "0                           F  139   409   385   189   161\n",
              "1                           M  646  1842  1882  1133  1015"
            ],
            "text/html": [
              "\n",
              "  <div id=\"df-716b4c5e-69b0-41ca-93f5-23cc84587ad0\">\n",
              "    <div class=\"colab-df-container\">\n",
              "      <div>\n",
              "<style scoped>\n",
              "    .dataframe tbody tr th:only-of-type {\n",
              "        vertical-align: middle;\n",
              "    }\n",
              "\n",
              "    .dataframe tbody tr th {\n",
              "        vertical-align: top;\n",
              "    }\n",
              "\n",
              "    .dataframe thead th {\n",
              "        text-align: right;\n",
              "    }\n",
              "</style>\n",
              "<table border=\"1\" class=\"dataframe\">\n",
              "  <thead>\n",
              "    <tr style=\"text-align: right;\">\n",
              "      <th>Aggregated_Search_Reasons</th>\n",
              "      <th>Sex</th>\n",
              "      <th>0.0</th>\n",
              "      <th>1.0</th>\n",
              "      <th>2.0</th>\n",
              "      <th>3.0</th>\n",
              "      <th>4.0</th>\n",
              "    </tr>\n",
              "  </thead>\n",
              "  <tbody>\n",
              "    <tr>\n",
              "      <th>0</th>\n",
              "      <td>F</td>\n",
              "      <td>139</td>\n",
              "      <td>409</td>\n",
              "      <td>385</td>\n",
              "      <td>189</td>\n",
              "      <td>161</td>\n",
              "    </tr>\n",
              "    <tr>\n",
              "      <th>1</th>\n",
              "      <td>M</td>\n",
              "      <td>646</td>\n",
              "      <td>1842</td>\n",
              "      <td>1882</td>\n",
              "      <td>1133</td>\n",
              "      <td>1015</td>\n",
              "    </tr>\n",
              "  </tbody>\n",
              "</table>\n",
              "</div>\n",
              "      <button class=\"colab-df-convert\" onclick=\"convertToInteractive('df-716b4c5e-69b0-41ca-93f5-23cc84587ad0')\"\n",
              "              title=\"Convert this dataframe to an interactive table.\"\n",
              "              style=\"display:none;\">\n",
              "        \n",
              "  <svg xmlns=\"http://www.w3.org/2000/svg\" height=\"24px\"viewBox=\"0 0 24 24\"\n",
              "       width=\"24px\">\n",
              "    <path d=\"M0 0h24v24H0V0z\" fill=\"none\"/>\n",
              "    <path d=\"M18.56 5.44l.94 2.06.94-2.06 2.06-.94-2.06-.94-.94-2.06-.94 2.06-2.06.94zm-11 1L8.5 8.5l.94-2.06 2.06-.94-2.06-.94L8.5 2.5l-.94 2.06-2.06.94zm10 10l.94 2.06.94-2.06 2.06-.94-2.06-.94-.94-2.06-.94 2.06-2.06.94z\"/><path d=\"M17.41 7.96l-1.37-1.37c-.4-.4-.92-.59-1.43-.59-.52 0-1.04.2-1.43.59L10.3 9.45l-7.72 7.72c-.78.78-.78 2.05 0 2.83L4 21.41c.39.39.9.59 1.41.59.51 0 1.02-.2 1.41-.59l7.78-7.78 2.81-2.81c.8-.78.8-2.07 0-2.86zM5.41 20L4 18.59l7.72-7.72 1.47 1.35L5.41 20z\"/>\n",
              "  </svg>\n",
              "      </button>\n",
              "      \n",
              "  <style>\n",
              "    .colab-df-container {\n",
              "      display:flex;\n",
              "      flex-wrap:wrap;\n",
              "      gap: 12px;\n",
              "    }\n",
              "\n",
              "    .colab-df-convert {\n",
              "      background-color: #E8F0FE;\n",
              "      border: none;\n",
              "      border-radius: 50%;\n",
              "      cursor: pointer;\n",
              "      display: none;\n",
              "      fill: #1967D2;\n",
              "      height: 32px;\n",
              "      padding: 0 0 0 0;\n",
              "      width: 32px;\n",
              "    }\n",
              "\n",
              "    .colab-df-convert:hover {\n",
              "      background-color: #E2EBFA;\n",
              "      box-shadow: 0px 1px 2px rgba(60, 64, 67, 0.3), 0px 1px 3px 1px rgba(60, 64, 67, 0.15);\n",
              "      fill: #174EA6;\n",
              "    }\n",
              "\n",
              "    [theme=dark] .colab-df-convert {\n",
              "      background-color: #3B4455;\n",
              "      fill: #D2E3FC;\n",
              "    }\n",
              "\n",
              "    [theme=dark] .colab-df-convert:hover {\n",
              "      background-color: #434B5C;\n",
              "      box-shadow: 0px 1px 3px 1px rgba(0, 0, 0, 0.15);\n",
              "      filter: drop-shadow(0px 1px 2px rgba(0, 0, 0, 0.3));\n",
              "      fill: #FFFFFF;\n",
              "    }\n",
              "  </style>\n",
              "\n",
              "      <script>\n",
              "        const buttonEl =\n",
              "          document.querySelector('#df-716b4c5e-69b0-41ca-93f5-23cc84587ad0 button.colab-df-convert');\n",
              "        buttonEl.style.display =\n",
              "          google.colab.kernel.accessAllowed ? 'block' : 'none';\n",
              "\n",
              "        async function convertToInteractive(key) {\n",
              "          const element = document.querySelector('#df-716b4c5e-69b0-41ca-93f5-23cc84587ad0');\n",
              "          const dataTable =\n",
              "            await google.colab.kernel.invokeFunction('convertToInteractive',\n",
              "                                                     [key], {});\n",
              "          if (!dataTable) return;\n",
              "\n",
              "          const docLinkHtml = 'Like what you see? Visit the ' +\n",
              "            '<a target=\"_blank\" href=https://colab.research.google.com/notebooks/data_table.ipynb>data table notebook</a>'\n",
              "            + ' to learn more about interactive tables.';\n",
              "          element.innerHTML = '';\n",
              "          dataTable['output_type'] = 'display_data';\n",
              "          await google.colab.output.renderOutput(dataTable, element);\n",
              "          const docLink = document.createElement('div');\n",
              "          docLink.innerHTML = docLinkHtml;\n",
              "          element.appendChild(docLink);\n",
              "        }\n",
              "      </script>\n",
              "    </div>\n",
              "  </div>\n",
              "  "
            ]
          },
          "metadata": {},
          "execution_count": 131
        }
      ]
    },
    {
      "cell_type": "code",
      "source": [
        "Strip_Search_F=Strip_Search_Sex.loc[Strip_Search_Sex['Sex'] == \"F\"]\n",
        "Strip_Search_M=Strip_Search_Sex.loc[Strip_Search_Sex['Sex'] == \"M\"]\n",
        "Strip_Search_F=np.array(Strip_Search_F.iloc[0])\n",
        "Strip_Search_F=np.delete(Strip_Search_F,0)\n",
        "Strip_Search_M=np.array(Strip_Search_M.iloc[0])\n",
        "Strip_Search_M=np.delete(Strip_Search_M,0)"
      ],
      "metadata": {
        "id": "zDuxA0doCHHV"
      },
      "execution_count": 132,
      "outputs": []
    },
    {
      "cell_type": "code",
      "source": [
        "diffs=Strip_Search_M-Strip_Search_F\n",
        "bound=0.5"
      ],
      "metadata": {
        "id": "0GESQTNMFUTl"
      },
      "execution_count": 133,
      "outputs": []
    },
    {
      "cell_type": "code",
      "source": [
        "_, p_greater = stats.ttest_1samp(diffs, -bound, alternative='greater')\n",
        "_, p_less = stats.ttest_1samp(diffs, bound, alternative='less')\n",
        "pval = max(p_less, p_greater)"
      ],
      "metadata": {
        "id": "YPXRx_yBFat9"
      },
      "execution_count": 134,
      "outputs": []
    },
    {
      "cell_type": "code",
      "source": [
        "print(f'TOST: p = {pval:5.3f}')"
      ],
      "metadata": {
        "colab": {
          "base_uri": "https://localhost:8080/"
        },
        "id": "UaO2FuPRDaKa",
        "outputId": "eab2b553-0145-4275-e0b3-efd374558c84"
      },
      "execution_count": 135,
      "outputs": [
        {
          "output_type": "stream",
          "name": "stdout",
          "text": [
            "TOST: p = 0.998\n"
          ]
        }
      ]
    },
    {
      "cell_type": "code",
      "source": [
        "T_avova1=ass_table[['Sex','Perceived_Race','Aggregated_Negative_behaviors']]\n",
        "# Performing two-way ANOVA\n",
        "model = ols('Aggregated_Negative_behaviors ~ C(Sex) + C(Perceived_Race) +\\\n",
        "C(Sex):C(Perceived_Race)',\n",
        "            data=T_avova1).fit()\n",
        "result = sm.stats.anova_lm(model, type=2)\n",
        "  \n",
        "# Print the result\n",
        "print(result)"
      ],
      "metadata": {
        "id": "I56-jRmtFvUM",
        "colab": {
          "base_uri": "https://localhost:8080/"
        },
        "outputId": "41cd8f14-d07a-47ab-d415-d02d63a64220"
      },
      "execution_count": 136,
      "outputs": [
        {
          "output_type": "stream",
          "name": "stdout",
          "text": [
            "                               df        sum_sq   mean_sq          F  \\\n",
            "C(Sex)                        1.0      0.859223  0.859223   3.019575   \n",
            "C(Perceived_Race)             7.0     53.332993  7.618999  26.775522   \n",
            "C(Sex):C(Perceived_Race)      7.0      4.840069  0.691438   2.429929   \n",
            "Residual                  65247.0  18566.092977  0.284551        NaN   \n",
            "\n",
            "                                PR(>F)  \n",
            "C(Sex)                    8.226976e-02  \n",
            "C(Perceived_Race)         5.959743e-37  \n",
            "C(Sex):C(Perceived_Race)  1.734509e-02  \n",
            "Residual                           NaN  \n"
          ]
        }
      ]
    },
    {
      "cell_type": "code",
      "source": [
        "T_avova1['Perceived_Race'] = T_avova1['Perceived_Race'].apply(str)\n",
        "tukey1 = pairwise_tukeyhsd(T_avova1['Aggregated_Negative_behaviors'],T_avova1['Perceived_Race'],alpha=0.05)\n",
        "print(tukey1)"
      ],
      "metadata": {
        "colab": {
          "base_uri": "https://localhost:8080/"
        },
        "id": "y4hqlx53UhAn",
        "outputId": "38dbe649-58c4-4872-c5b2-48204c0701cc"
      },
      "execution_count": 137,
      "outputs": [
        {
          "output_type": "stream",
          "name": "stdout",
          "text": [
            "              Multiple Comparison of Means - Tukey HSD, FWER=0.05               \n",
            "================================================================================\n",
            "       group1               group2        meandiff p-adj   lower   upper  reject\n",
            "--------------------------------------------------------------------------------\n",
            "               Black East/Southeast Asian  -0.0688  0.001 -0.0967  -0.041   True\n",
            "               Black           Indigenous   0.0565  0.001  0.0169  0.0962   True\n",
            "               Black               Latino  -0.0495 0.0062 -0.0908 -0.0082   True\n",
            "               Black       Middle-Eastern  -0.0331 0.0323 -0.0648 -0.0015   True\n",
            "               Black          South Asian  -0.0661  0.001 -0.0963 -0.0359   True\n",
            "               Black    Unknown or Legacy  -0.0735  0.001 -0.0999  -0.047   True\n",
            "               Black                White  -0.0142 0.1277 -0.0302  0.0018  False\n",
            "               Black                  nan  -0.1746    0.9  -1.002  0.6529  False\n",
            "East/Southeast Asian           Indigenous   0.1254  0.001  0.0802  0.1705   True\n",
            "East/Southeast Asian               Latino   0.0193    0.9 -0.0273  0.0659  False\n",
            "East/Southeast Asian       Middle-Eastern   0.0357   0.09 -0.0026   0.074  False\n",
            "East/Southeast Asian          South Asian   0.0027    0.9 -0.0344  0.0398  False\n",
            "East/Southeast Asian    Unknown or Legacy  -0.0046    0.9 -0.0387  0.0294  False\n",
            "East/Southeast Asian                White   0.0546  0.001  0.0278  0.0814   True\n",
            "East/Southeast Asian                  nan  -0.1058    0.9 -0.9335   0.722  False\n",
            "          Indigenous               Latino  -0.1061  0.001 -0.1605 -0.0516   True\n",
            "          Indigenous       Middle-Eastern  -0.0896  0.001 -0.1372 -0.0421   True\n",
            "          Indigenous          South Asian  -0.1226  0.001 -0.1693  -0.076   True\n",
            "          Indigenous    Unknown or Legacy    -0.13  0.001 -0.1742 -0.0858   True\n",
            "          Indigenous                White  -0.0707  0.001 -0.1096 -0.0318   True\n",
            "          Indigenous                  nan  -0.2311    0.9 -1.0593  0.5971  False\n",
            "              Latino       Middle-Eastern   0.0164    0.9 -0.0325  0.0654  False\n",
            "              Latino          South Asian  -0.0166    0.9 -0.0646  0.0315  False\n",
            "              Latino    Unknown or Legacy  -0.0239 0.7652 -0.0697  0.0218  False\n",
            "              Latino                White   0.0353 0.1478 -0.0053  0.0759  False\n",
            "              Latino                  nan  -0.1251    0.9 -0.9534  0.7032  False\n",
            "      Middle-Eastern          South Asian   -0.033 0.2057  -0.073  0.0071  False\n",
            "      Middle-Eastern    Unknown or Legacy  -0.0404 0.0222 -0.0776 -0.0031   True\n",
            "      Middle-Eastern                White   0.0189 0.5925 -0.0118  0.0496  False\n",
            "      Middle-Eastern                  nan  -0.1415    0.9 -0.9694  0.6864  False\n",
            "         South Asian    Unknown or Legacy  -0.0074    0.9 -0.0434  0.0287  False\n",
            "         South Asian                White   0.0519  0.001  0.0226  0.0812   True\n",
            "         South Asian                  nan  -0.1085    0.9 -0.9363  0.7193  False\n",
            "   Unknown or Legacy                White   0.0593  0.001   0.034  0.0846   True\n",
            "   Unknown or Legacy                  nan  -0.1011    0.9 -0.9288  0.7266  False\n",
            "               White                  nan  -0.1604    0.9 -0.9878   0.667  False\n",
            "--------------------------------------------------------------------------------\n"
          ]
        },
        {
          "output_type": "stream",
          "name": "stderr",
          "text": [
            "<ipython-input-137-f31d8647f4e7>:1: SettingWithCopyWarning: \n",
            "A value is trying to be set on a copy of a slice from a DataFrame.\n",
            "Try using .loc[row_indexer,col_indexer] = value instead\n",
            "\n",
            "See the caveats in the documentation: https://pandas.pydata.org/pandas-docs/stable/user_guide/indexing.html#returning-a-view-versus-a-copy\n",
            "  T_avova1['Perceived_Race'] = T_avova1['Perceived_Race'].apply(str)\n"
          ]
        }
      ]
    },
    {
      "cell_type": "code",
      "source": [],
      "metadata": {
        "id": "cJsYLOZruW-o"
      },
      "execution_count": 137,
      "outputs": []
    },
    {
      "cell_type": "code",
      "source": [
        "levene_test_arr_perceived_race = levene(T_avova1['Aggregated_Negative_behaviors'][T_avova1['Perceived_Race']== 'White'],\n",
        "                     T_avova1['Aggregated_Negative_behaviors'][T_avova1['Perceived_Race']== 'Unknown or Legacy'],\n",
        "                     T_avova1['Aggregated_Negative_behaviors'][T_avova1['Perceived_Race']== 'Black'],\n",
        "                     T_avova1['Aggregated_Negative_behaviors'][T_avova1['Perceived_Race']== 'Middle-Eastern'],\n",
        "                     T_avova1['Aggregated_Negative_behaviors'][T_avova1['Perceived_Race']== 'Indigenous'],\n",
        "                     T_avova1['Aggregated_Negative_behaviors'][T_avova1['Perceived_Race']== 'South Asian'],\n",
        "                     T_avova1['Aggregated_Negative_behaviors'][T_avova1['Perceived_Race']== 'East/Southeast Asian'],\n",
        "                     T_avova1['Aggregated_Negative_behaviors'][T_avova1['Perceived_Race']== 'Latino']  \n",
        "                     )\n",
        "print(f\"Levene's test: statistic={levene_test_arr_perceived_race.statistic:.3f}, p-value={levene_test_arr_perceived_race.pvalue:.3f}\")"
      ],
      "metadata": {
        "colab": {
          "base_uri": "https://localhost:8080/"
        },
        "id": "zORW0dvLdwfR",
        "outputId": "a290351e-a940-412b-af49-ef474d2cd5a9"
      },
      "execution_count": 138,
      "outputs": [
        {
          "output_type": "stream",
          "name": "stdout",
          "text": [
            "Levene's test: statistic=27.056, p-value=0.000\n"
          ]
        }
      ]
    },
    {
      "cell_type": "code",
      "source": [
        "levene_test_arr_sex = levene(T_avova1['Aggregated_Negative_behaviors'][T_avova1['Sex'] == 'F'],\n",
        "                     T_avova1['Aggregated_Negative_behaviors'][T_avova1['Sex'] == 'M'])\n",
        "print(f\"Levene's test: statistic={levene_test_arr_sex.statistic:.3f}, p-value={levene_test_arr_sex.pvalue:.3f}\")"
      ],
      "metadata": {
        "colab": {
          "base_uri": "https://localhost:8080/"
        },
        "id": "d4YNRzKKegYJ",
        "outputId": "9a5afec1-d610-41eb-99c9-b195c0a31f67"
      },
      "execution_count": 139,
      "outputs": [
        {
          "output_type": "stream",
          "name": "stdout",
          "text": [
            "Levene's test: statistic=3.008, p-value=0.083\n"
          ]
        }
      ]
    },
    {
      "cell_type": "code",
      "source": [
        "group11=T_avova1[(T_avova1['Sex'] == 'F') & (T_avova1['Perceived_Race'] == 'Latino')]['Aggregated_Negative_behaviors']\n",
        "group12=T_avova1[(T_avova1['Sex'] == 'F') & (T_avova1['Perceived_Race'] == 'East/Southeast Asian')]['Aggregated_Negative_behaviors']\n",
        "group13=T_avova1[(T_avova1['Sex'] == 'F') & (T_avova1['Perceived_Race'] == 'South Asian')]['Aggregated_Negative_behaviors']\n",
        "group14=T_avova1[(T_avova1['Sex'] == 'F') & (T_avova1['Perceived_Race'] == 'Indigenous')]['Aggregated_Negative_behaviors']\n",
        "group15=T_avova1[(T_avova1['Sex'] == 'F') & (T_avova1['Perceived_Race'] == 'Black')]['Aggregated_Negative_behaviors']\n",
        "group16=T_avova1[(T_avova1['Sex'] == 'F') & (T_avova1['Perceived_Race'] == 'Unknown or Legacy')]['Aggregated_Negative_behaviors']\n",
        "group17=T_avova1[(T_avova1['Sex'] == 'F') & (T_avova1['Perceived_Race'] == 'Middle-Eastern')]['Aggregated_Negative_behaviors']\n",
        "group21=T_avova1[(T_avova1['Sex'] == 'M') & (T_avova1['Perceived_Race'] == 'Latino')]['Aggregated_Negative_behaviors']\n",
        "group22=T_avova1[(T_avova1['Sex'] == 'M') & (T_avova1['Perceived_Race'] == 'East/Southeast Asian')]['Aggregated_Negative_behaviors']\n",
        "group23=T_avova1[(T_avova1['Sex'] == 'M') & (T_avova1['Perceived_Race'] == 'South Asian')]['Aggregated_Negative_behaviors']\n",
        "group24=T_avova1[(T_avova1['Sex'] == 'M') & (T_avova1['Perceived_Race'] == 'Indigenous')]['Aggregated_Negative_behaviors']\n",
        "group25=T_avova1[(T_avova1['Sex'] == 'M') & (T_avova1['Perceived_Race'] == 'Black')]['Aggregated_Negative_behaviors']\n",
        "group26=T_avova1[(T_avova1['Sex'] == 'M') & (T_avova1['Perceived_Race'] == 'Unknown or Legacy')]['Aggregated_Negative_behaviors']\n",
        "group27=T_avova1[(T_avova1['Sex'] == 'M') & (T_avova1['Perceived_Race'] == 'Middle-Eastern')]['Aggregated_Negative_behaviors']\n",
        "\n",
        "shapiro_results11 = stats.shapiro(group11)\n",
        "shapiro_results12 = stats.shapiro(group12)\n",
        "shapiro_results13 = stats.shapiro(group13)\n",
        "shapiro_results14 = stats.shapiro(group14)\n",
        "shapiro_results15 = stats.shapiro(group15)\n",
        "shapiro_results16 = stats.shapiro(group16)\n",
        "shapiro_results17 = stats.shapiro(group17)\n",
        "\n",
        "shapiro_results21 = stats.shapiro(group21)\n",
        "shapiro_results22 = stats.shapiro(group22)\n",
        "shapiro_results23 = stats.shapiro(group23)\n",
        "shapiro_results24 = stats.shapiro(group24)\n",
        "shapiro_results25 = stats.shapiro(group25)\n",
        "shapiro_results26 = stats.shapiro(group26)\n",
        "shapiro_results27 = stats.shapiro(group27)\n",
        "\n",
        "# Check normality assumption\n",
        "alpha = 0.05\n",
        "if all(p > alpha for p in [shapiro_results11[1], shapiro_results12[1],shapiro_results13[1], shapiro_results14[1],shapiro_results15[1], shapiro_results16[1],shapiro_results17[1],\n",
        "                           shapiro_results21[1], shapiro_results22[1],shapiro_results23[1], shapiro_results24[1],shapiro_results25[1], shapiro_results26[1],shapiro_results27[1]]):\n",
        "    print(\"Assumption of normality is met.\")\n",
        "else:\n",
        "    print(\"Assumption of normality is violated.\")"
      ],
      "metadata": {
        "colab": {
          "base_uri": "https://localhost:8080/"
        },
        "id": "xvK2jdE2uKKZ",
        "outputId": "57acc3a5-4fa2-4e06-990c-1d9e4a38eef5"
      },
      "execution_count": 140,
      "outputs": [
        {
          "output_type": "stream",
          "name": "stdout",
          "text": [
            "Assumption of normality is violated.\n"
          ]
        },
        {
          "output_type": "stream",
          "name": "stderr",
          "text": [
            "/usr/local/lib/python3.8/dist-packages/scipy/stats/morestats.py:1760: UserWarning: p-value may not be accurate for N > 5000.\n",
            "  warnings.warn(\"p-value may not be accurate for N > 5000.\")\n"
          ]
        }
      ]
    },
    {
      "cell_type": "code",
      "source": [
        "T_avova2=Strip_S_table[['Sex','Perceived_Race','Aggregated_Search_Reasons']]\n",
        "# Performing two-way ANOVA\n",
        "model = ols('Aggregated_Search_Reasons ~ C(Sex) + C(Perceived_Race) +\\\n",
        "C(Sex):C(Perceived_Race)',\n",
        "            data=T_avova2).fit()\n",
        "result = sm.stats.anova_lm(model, type=2)\n",
        "  \n",
        "# Print the result\n",
        "print(result)"
      ],
      "metadata": {
        "colab": {
          "base_uri": "https://localhost:8080/"
        },
        "id": "4IVUP9YALI6g",
        "outputId": "394d4fea-3901-4f6b-8cd3-993896479da1"
      },
      "execution_count": 141,
      "outputs": [
        {
          "output_type": "stream",
          "name": "stdout",
          "text": [
            "                              df        sum_sq    mean_sq          F    PR(>F)\n",
            "C(Sex)                       1.0     21.455509  21.455509  14.699189  0.000127\n",
            "C(Perceived_Race)            7.0     16.448488   2.349784   1.609839  0.127497\n",
            "C(Sex):C(Perceived_Race)     7.0     13.457549   1.922507   1.317111  0.237430\n",
            "Residual                  7784.0  11361.830249   1.459639        NaN       NaN\n"
          ]
        }
      ]
    },
    {
      "cell_type": "code",
      "source": [
        "tukey2 = pairwise_tukeyhsd(Strip_S_table['Aggregated_Search_Reasons'],Strip_S_table['Sex'],alpha=0.05)\n",
        "print(tukey2)"
      ],
      "metadata": {
        "colab": {
          "base_uri": "https://localhost:8080/"
        },
        "id": "8WyVB4kOQ_Dh",
        "outputId": "4e684bd3-9125-4216-8f9e-d5495d8dd4a7"
      },
      "execution_count": 142,
      "outputs": [
        {
          "output_type": "stream",
          "name": "stdout",
          "text": [
            "Multiple Comparison of Means - Tukey HSD, FWER=0.05\n",
            "================================================\n",
            "group1 group2 meandiff p-adj lower  upper reject\n",
            "------------------------------------------------\n",
            "     F      M   0.1416 0.001 0.0693 0.214   True\n",
            "------------------------------------------------\n"
          ]
        }
      ]
    },
    {
      "cell_type": "code",
      "source": [
        "levene_test_ser_sex = levene(Strip_S_table['Aggregated_Search_Reasons'][Strip_S_table['Sex'] == 'F'],\n",
        "                     Strip_S_table['Aggregated_Search_Reasons'][Strip_S_table['Sex'] == 'M'])\n",
        "print(f\"Levene's test: statistic={levene_test_ser_sex.statistic:.3f}, p-value={levene_test_ser_sex.pvalue:.3f}\")"
      ],
      "metadata": {
        "colab": {
          "base_uri": "https://localhost:8080/"
        },
        "id": "MErNYp3cRz-a",
        "outputId": "60b45da4-07c8-48db-a7bb-cc40aea5554f"
      },
      "execution_count": 143,
      "outputs": [
        {
          "output_type": "stream",
          "name": "stdout",
          "text": [
            "Levene's test: statistic=2.075, p-value=0.150\n"
          ]
        }
      ]
    },
    {
      "cell_type": "code",
      "source": [
        "levene_test_ser_perceived_race = levene(Strip_S_table['Aggregated_Search_Reasons'][Strip_S_table['Perceived_Race']== 'White'],\n",
        "                     Strip_S_table['Aggregated_Search_Reasons'][Strip_S_table['Perceived_Race']== 'Unknown or Legacy'],\n",
        "                     Strip_S_table['Aggregated_Search_Reasons'][Strip_S_table['Perceived_Race']== 'Black'],\n",
        "                     Strip_S_table['Aggregated_Search_Reasons'][Strip_S_table['Perceived_Race']== 'Middle-Eastern'],\n",
        "                     Strip_S_table['Aggregated_Search_Reasons'][Strip_S_table['Perceived_Race']== 'Indigenous'],\n",
        "                     Strip_S_table['Aggregated_Search_Reasons'][Strip_S_table['Perceived_Race']== 'South Asian'],\n",
        "                     Strip_S_table['Aggregated_Search_Reasons'][Strip_S_table['Perceived_Race']== 'East/Southeast Asian'],\n",
        "                     Strip_S_table['Aggregated_Search_Reasons'][Strip_S_table['Perceived_Race']== 'Latino']  \n",
        "                     )\n",
        "print(f\"Levene's test: statistic={levene_test_ser_perceived_race.statistic:.3f}, p-value={levene_test_ser_perceived_race.pvalue:.3f}\")"
      ],
      "metadata": {
        "colab": {
          "base_uri": "https://localhost:8080/"
        },
        "id": "eo4K-UaLSLqK",
        "outputId": "a9fbcb3d-35ae-465c-f29f-30fc558509aa"
      },
      "execution_count": 144,
      "outputs": [
        {
          "output_type": "stream",
          "name": "stdout",
          "text": [
            "Levene's test: statistic=1.165, p-value=0.319\n"
          ]
        }
      ]
    },
    {
      "cell_type": "code",
      "source": [
        "SW_table=Strip_S_table[['Sex','Perceived_Race','Aggregated_Search_Reasons']].reset_index()\n",
        "\n",
        "group11=SW_table[(SW_table['Sex'] == 'F') & (SW_table['Perceived_Race'] == 'Latino')]['Aggregated_Search_Reasons']\n",
        "group12=SW_table[(SW_table['Sex'] == 'F') & (SW_table['Perceived_Race'] == 'East/Southeast Asian')]['Aggregated_Search_Reasons']\n",
        "group13=SW_table[(SW_table['Sex'] == 'F') & (SW_table['Perceived_Race'] == 'South Asian')]['Aggregated_Search_Reasons']\n",
        "group14=SW_table[(SW_table['Sex'] == 'F') & (SW_table['Perceived_Race'] == 'Indigenous')]['Aggregated_Search_Reasons']\n",
        "group15=SW_table[(SW_table['Sex'] == 'F') & (SW_table['Perceived_Race'] == 'Black')]['Aggregated_Search_Reasons']\n",
        "group16=SW_table[(SW_table['Sex'] == 'F') & (SW_table['Perceived_Race'] == 'Unknown or Legacy')]['Aggregated_Search_Reasons']\n",
        "group17=SW_table[(SW_table['Sex'] == 'F') & (SW_table['Perceived_Race'] == 'Middle-Eastern')]['Aggregated_Search_Reasons']\n",
        "group21=SW_table[(SW_table['Sex'] == 'M') & (SW_table['Perceived_Race'] == 'Latino')]['Aggregated_Search_Reasons']\n",
        "group22=SW_table[(SW_table['Sex'] == 'M') & (SW_table['Perceived_Race'] == 'East/Southeast Asian')]['Aggregated_Search_Reasons']\n",
        "group23=SW_table[(SW_table['Sex'] == 'M') & (SW_table['Perceived_Race'] == 'South Asian')]['Aggregated_Search_Reasons']\n",
        "group24=SW_table[(SW_table['Sex'] == 'M') & (SW_table['Perceived_Race'] == 'Indigenous')]['Aggregated_Search_Reasons']\n",
        "group25=SW_table[(SW_table['Sex'] == 'M') & (SW_table['Perceived_Race'] == 'Black')]['Aggregated_Search_Reasons']\n",
        "group26=SW_table[(SW_table['Sex'] == 'M') & (SW_table['Perceived_Race'] == 'Unknown or Legacy')]['Aggregated_Search_Reasons']\n",
        "group27=SW_table[(SW_table['Sex'] == 'M') & (SW_table['Perceived_Race'] == 'Middle-Eastern')]['Aggregated_Search_Reasons']\n",
        "\n",
        "shapiro_results11 = stats.shapiro(group11)\n",
        "shapiro_results12 = stats.shapiro(group12)\n",
        "shapiro_results13 = stats.shapiro(group13)\n",
        "shapiro_results14 = stats.shapiro(group14)\n",
        "shapiro_results15 = stats.shapiro(group15)\n",
        "shapiro_results16 = stats.shapiro(group16)\n",
        "shapiro_results17 = stats.shapiro(group17)\n",
        "\n",
        "shapiro_results21 = stats.shapiro(group21)\n",
        "shapiro_results22 = stats.shapiro(group22)\n",
        "shapiro_results23 = stats.shapiro(group23)\n",
        "shapiro_results24 = stats.shapiro(group24)\n",
        "shapiro_results25 = stats.shapiro(group25)\n",
        "shapiro_results26 = stats.shapiro(group26)\n",
        "shapiro_results27 = stats.shapiro(group27)\n",
        "\n",
        "# Check normality assumption\n",
        "alpha = 0.05\n",
        "if all(p > alpha for p in [shapiro_results11[1], shapiro_results12[1],shapiro_results13[1], shapiro_results14[1],shapiro_results15[1], shapiro_results16[1],shapiro_results17[1],\n",
        "                           shapiro_results21[1], shapiro_results22[1],shapiro_results23[1], shapiro_results24[1],shapiro_results25[1], shapiro_results26[1],shapiro_results27[1]]):\n",
        "    print(\"Assumption of normality is met.\")\n",
        "else:\n",
        "    print(\"Assumption of normality is violated.\")\n"
      ],
      "metadata": {
        "colab": {
          "base_uri": "https://localhost:8080/"
        },
        "id": "Oz7rMVF8iyw2",
        "outputId": "1ad9cddf-ca13-4c20-93e5-f7689e1399d6"
      },
      "execution_count": 145,
      "outputs": [
        {
          "output_type": "stream",
          "name": "stdout",
          "text": [
            "Assumption of normality is violated.\n"
          ]
        }
      ]
    }
  ],
  "metadata": {
    "colab": {
      "provenance": []
    },
    "kernelspec": {
      "display_name": "Python 3",
      "name": "python3"
    },
    "language_info": {
      "name": "python"
    }
  },
  "nbformat": 4,
  "nbformat_minor": 0
}