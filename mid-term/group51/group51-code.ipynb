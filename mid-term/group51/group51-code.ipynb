{
  "nbformat": 4,
  "nbformat_minor": 0,
  "metadata": {
    "colab": {
      "provenance": [],
      "toc_visible": true
    },
    "kernelspec": {
      "name": "python3",
      "display_name": "Python 3"
    },
    "language_info": {
      "name": "python"
    }
  },
  "cells": [
    {
      "cell_type": "markdown",
      "source": [
        "Link:\n",
        "https://drive.google.com/file/d/1JVqwnErkAGPXYHTzHu3LzB08UZ0wlcWJ/view?usp=sharing"
      ],
      "metadata": {
        "id": "i8RV3I3P_WAX"
      }
    },
    {
      "cell_type": "markdown",
      "source": [
        "# Glance at Dataset"
      ],
      "metadata": {
        "id": "jxJOxTE0kGSd"
      }
    },
    {
      "cell_type": "code",
      "execution_count": null,
      "metadata": {
        "id": "J189ukhcs8VG"
      },
      "outputs": [],
      "source": [
        "import pandas as pd\n",
        "import numpy as np\n",
        "#import pingouin as pg\n",
        "import seaborn as sns\n",
        "import matplotlib.pyplot as plt\n",
        "from scipy.stats import ttest_ind\n",
        "from scipy.stats import alpha\n",
        "import statsmodels.api as sm\n",
        "from statsmodels.formula.api import ols\n",
        "from statsmodels.stats.multicomp import pairwise_tukeyhsd\n",
        "from scipy import stats"
      ]
    },
    {
      "cell_type": "code",
      "source": [
        "#df = pd.read_csv(\"/content/Arrests_and_Strip_Searches_(RBDC-ARR-TBL-001).csv\")\n",
        "raw_data = pd.read_csv(\"/content/Arrests_and_Strip_Searches_(RBDC-ARR-TBL-001).csv\",\n",
        "                 error_bad_lines=False)\n",
        "pd.set_option('display.max_columns', None)\n",
        "df = raw_data"
      ],
      "metadata": {
        "id": "q9i420uKs8-f",
        "colab": {
          "base_uri": "https://localhost:8080/"
        },
        "outputId": "fae15297-5d8d-476b-a9ee-f1dc57f62caf"
      },
      "execution_count": null,
      "outputs": [
        {
          "output_type": "stream",
          "name": "stderr",
          "text": [
            "/usr/local/lib/python3.8/dist-packages/IPython/core/interactiveshell.py:3326: FutureWarning: The error_bad_lines argument has been deprecated and will be removed in a future version.\n",
            "\n",
            "\n",
            "  exec(code_obj, self.user_global_ns, self.user_ns)\n"
          ]
        }
      ]
    },
    {
      "cell_type": "code",
      "source": [
        "df.head(5)"
      ],
      "metadata": {
        "colab": {
          "base_uri": "https://localhost:8080/",
          "height": 339
        },
        "id": "CT-RCGTSs_mC",
        "outputId": "d494ad68-1eb9-4857-ed0a-2f472944c492"
      },
      "execution_count": null,
      "outputs": [
        {
          "output_type": "execute_result",
          "data": {
            "text/plain": [
              "   Arrest_Year Arrest_Month  EventID   ArrestID  PersonID     Perceived_Race  \\\n",
              "0         2020    July-Sept  1005907  6017884.0    326622              White   \n",
              "1         2020    July-Sept  1014562  6056669.0    326622              White   \n",
              "2         2020      Oct-Dec  1029922  6057065.0    326622  Unknown or Legacy   \n",
              "3         2021      Jan-Mar  1052190  6029059.0    327535              Black   \n",
              "4         2021      Jan-Mar  1015512  6040372.0    327535        South Asian   \n",
              "\n",
              "  Sex Age_group__at_arrest_ Youth_at_arrest__under_18_years ArrestLocDiv  \\\n",
              "0   M   Aged 35 to 44 years                     Not a youth           54   \n",
              "1   M   Aged 35 to 44 years                     Not a youth           54   \n",
              "2   M   Aged 35 to 44 years                     Not a youth           54   \n",
              "3   M   Aged 25 to 34 years                     Not a youth           XX   \n",
              "4   M   Aged 25 to 34 years                     Not a youth           XX   \n",
              "\n",
              "   StripSearch  Booked                     Occurrence_Category  \\\n",
              "0            0       1  Assault & Other crimes against persons   \n",
              "1            0       1  Assault & Other crimes against persons   \n",
              "2            0       1  Assault & Other crimes against persons   \n",
              "3            0       0                  Harassment/Threatening   \n",
              "4            0       1       FTA/FTC/Compliance Check/Parollee   \n",
              "\n",
              "   Actions_at_arrest___Concealed_i  Actions_at_arrest___Combative__  \\\n",
              "0                                0                                0   \n",
              "1                                0                                0   \n",
              "2                                0                                0   \n",
              "3                                0                                0   \n",
              "4                                0                                0   \n",
              "\n",
              "   Actions_at_arrest___Resisted__d  Actions_at_arrest___Mental_inst  \\\n",
              "0                                0                                0   \n",
              "1                                0                                0   \n",
              "2                                0                                0   \n",
              "3                                0                                0   \n",
              "4                                0                                0   \n",
              "\n",
              "   Actions_at_arrest___Assaulted_o  Actions_at_arrest___Cooperative  \\\n",
              "0                                0                                1   \n",
              "1                                0                                0   \n",
              "2                                0                                0   \n",
              "3                                0                                0   \n",
              "4                                0                                0   \n",
              "\n",
              "   SearchReason_CauseInjury  SearchReason_AssistEscape  \\\n",
              "0                       NaN                        NaN   \n",
              "1                       NaN                        NaN   \n",
              "2                       NaN                        NaN   \n",
              "3                       NaN                        NaN   \n",
              "4                       NaN                        NaN   \n",
              "\n",
              "   SearchReason_PossessWeapons  SearchReason_PossessEvidence  ItemsFound  \\\n",
              "0                          NaN                           NaN         NaN   \n",
              "1                          NaN                           NaN         NaN   \n",
              "2                          NaN                           NaN         NaN   \n",
              "3                          NaN                           NaN         NaN   \n",
              "4                          NaN                           NaN         NaN   \n",
              "\n",
              "   ObjectId  \n",
              "0         1  \n",
              "1         2  \n",
              "2         3  \n",
              "3         4  \n",
              "4         5  "
            ],
            "text/html": [
              "\n",
              "  <div id=\"df-ebf03448-ca46-4d28-a824-d2a9f9819878\">\n",
              "    <div class=\"colab-df-container\">\n",
              "      <div>\n",
              "<style scoped>\n",
              "    .dataframe tbody tr th:only-of-type {\n",
              "        vertical-align: middle;\n",
              "    }\n",
              "\n",
              "    .dataframe tbody tr th {\n",
              "        vertical-align: top;\n",
              "    }\n",
              "\n",
              "    .dataframe thead th {\n",
              "        text-align: right;\n",
              "    }\n",
              "</style>\n",
              "<table border=\"1\" class=\"dataframe\">\n",
              "  <thead>\n",
              "    <tr style=\"text-align: right;\">\n",
              "      <th></th>\n",
              "      <th>Arrest_Year</th>\n",
              "      <th>Arrest_Month</th>\n",
              "      <th>EventID</th>\n",
              "      <th>ArrestID</th>\n",
              "      <th>PersonID</th>\n",
              "      <th>Perceived_Race</th>\n",
              "      <th>Sex</th>\n",
              "      <th>Age_group__at_arrest_</th>\n",
              "      <th>Youth_at_arrest__under_18_years</th>\n",
              "      <th>ArrestLocDiv</th>\n",
              "      <th>StripSearch</th>\n",
              "      <th>Booked</th>\n",
              "      <th>Occurrence_Category</th>\n",
              "      <th>Actions_at_arrest___Concealed_i</th>\n",
              "      <th>Actions_at_arrest___Combative__</th>\n",
              "      <th>Actions_at_arrest___Resisted__d</th>\n",
              "      <th>Actions_at_arrest___Mental_inst</th>\n",
              "      <th>Actions_at_arrest___Assaulted_o</th>\n",
              "      <th>Actions_at_arrest___Cooperative</th>\n",
              "      <th>SearchReason_CauseInjury</th>\n",
              "      <th>SearchReason_AssistEscape</th>\n",
              "      <th>SearchReason_PossessWeapons</th>\n",
              "      <th>SearchReason_PossessEvidence</th>\n",
              "      <th>ItemsFound</th>\n",
              "      <th>ObjectId</th>\n",
              "    </tr>\n",
              "  </thead>\n",
              "  <tbody>\n",
              "    <tr>\n",
              "      <th>0</th>\n",
              "      <td>2020</td>\n",
              "      <td>July-Sept</td>\n",
              "      <td>1005907</td>\n",
              "      <td>6017884.0</td>\n",
              "      <td>326622</td>\n",
              "      <td>White</td>\n",
              "      <td>M</td>\n",
              "      <td>Aged 35 to 44 years</td>\n",
              "      <td>Not a youth</td>\n",
              "      <td>54</td>\n",
              "      <td>0</td>\n",
              "      <td>1</td>\n",
              "      <td>Assault &amp; Other crimes against persons</td>\n",
              "      <td>0</td>\n",
              "      <td>0</td>\n",
              "      <td>0</td>\n",
              "      <td>0</td>\n",
              "      <td>0</td>\n",
              "      <td>1</td>\n",
              "      <td>NaN</td>\n",
              "      <td>NaN</td>\n",
              "      <td>NaN</td>\n",
              "      <td>NaN</td>\n",
              "      <td>NaN</td>\n",
              "      <td>1</td>\n",
              "    </tr>\n",
              "    <tr>\n",
              "      <th>1</th>\n",
              "      <td>2020</td>\n",
              "      <td>July-Sept</td>\n",
              "      <td>1014562</td>\n",
              "      <td>6056669.0</td>\n",
              "      <td>326622</td>\n",
              "      <td>White</td>\n",
              "      <td>M</td>\n",
              "      <td>Aged 35 to 44 years</td>\n",
              "      <td>Not a youth</td>\n",
              "      <td>54</td>\n",
              "      <td>0</td>\n",
              "      <td>1</td>\n",
              "      <td>Assault &amp; Other crimes against persons</td>\n",
              "      <td>0</td>\n",
              "      <td>0</td>\n",
              "      <td>0</td>\n",
              "      <td>0</td>\n",
              "      <td>0</td>\n",
              "      <td>0</td>\n",
              "      <td>NaN</td>\n",
              "      <td>NaN</td>\n",
              "      <td>NaN</td>\n",
              "      <td>NaN</td>\n",
              "      <td>NaN</td>\n",
              "      <td>2</td>\n",
              "    </tr>\n",
              "    <tr>\n",
              "      <th>2</th>\n",
              "      <td>2020</td>\n",
              "      <td>Oct-Dec</td>\n",
              "      <td>1029922</td>\n",
              "      <td>6057065.0</td>\n",
              "      <td>326622</td>\n",
              "      <td>Unknown or Legacy</td>\n",
              "      <td>M</td>\n",
              "      <td>Aged 35 to 44 years</td>\n",
              "      <td>Not a youth</td>\n",
              "      <td>54</td>\n",
              "      <td>0</td>\n",
              "      <td>1</td>\n",
              "      <td>Assault &amp; Other crimes against persons</td>\n",
              "      <td>0</td>\n",
              "      <td>0</td>\n",
              "      <td>0</td>\n",
              "      <td>0</td>\n",
              "      <td>0</td>\n",
              "      <td>0</td>\n",
              "      <td>NaN</td>\n",
              "      <td>NaN</td>\n",
              "      <td>NaN</td>\n",
              "      <td>NaN</td>\n",
              "      <td>NaN</td>\n",
              "      <td>3</td>\n",
              "    </tr>\n",
              "    <tr>\n",
              "      <th>3</th>\n",
              "      <td>2021</td>\n",
              "      <td>Jan-Mar</td>\n",
              "      <td>1052190</td>\n",
              "      <td>6029059.0</td>\n",
              "      <td>327535</td>\n",
              "      <td>Black</td>\n",
              "      <td>M</td>\n",
              "      <td>Aged 25 to 34 years</td>\n",
              "      <td>Not a youth</td>\n",
              "      <td>XX</td>\n",
              "      <td>0</td>\n",
              "      <td>0</td>\n",
              "      <td>Harassment/Threatening</td>\n",
              "      <td>0</td>\n",
              "      <td>0</td>\n",
              "      <td>0</td>\n",
              "      <td>0</td>\n",
              "      <td>0</td>\n",
              "      <td>0</td>\n",
              "      <td>NaN</td>\n",
              "      <td>NaN</td>\n",
              "      <td>NaN</td>\n",
              "      <td>NaN</td>\n",
              "      <td>NaN</td>\n",
              "      <td>4</td>\n",
              "    </tr>\n",
              "    <tr>\n",
              "      <th>4</th>\n",
              "      <td>2021</td>\n",
              "      <td>Jan-Mar</td>\n",
              "      <td>1015512</td>\n",
              "      <td>6040372.0</td>\n",
              "      <td>327535</td>\n",
              "      <td>South Asian</td>\n",
              "      <td>M</td>\n",
              "      <td>Aged 25 to 34 years</td>\n",
              "      <td>Not a youth</td>\n",
              "      <td>XX</td>\n",
              "      <td>0</td>\n",
              "      <td>1</td>\n",
              "      <td>FTA/FTC/Compliance Check/Parollee</td>\n",
              "      <td>0</td>\n",
              "      <td>0</td>\n",
              "      <td>0</td>\n",
              "      <td>0</td>\n",
              "      <td>0</td>\n",
              "      <td>0</td>\n",
              "      <td>NaN</td>\n",
              "      <td>NaN</td>\n",
              "      <td>NaN</td>\n",
              "      <td>NaN</td>\n",
              "      <td>NaN</td>\n",
              "      <td>5</td>\n",
              "    </tr>\n",
              "  </tbody>\n",
              "</table>\n",
              "</div>\n",
              "      <button class=\"colab-df-convert\" onclick=\"convertToInteractive('df-ebf03448-ca46-4d28-a824-d2a9f9819878')\"\n",
              "              title=\"Convert this dataframe to an interactive table.\"\n",
              "              style=\"display:none;\">\n",
              "        \n",
              "  <svg xmlns=\"http://www.w3.org/2000/svg\" height=\"24px\"viewBox=\"0 0 24 24\"\n",
              "       width=\"24px\">\n",
              "    <path d=\"M0 0h24v24H0V0z\" fill=\"none\"/>\n",
              "    <path d=\"M18.56 5.44l.94 2.06.94-2.06 2.06-.94-2.06-.94-.94-2.06-.94 2.06-2.06.94zm-11 1L8.5 8.5l.94-2.06 2.06-.94-2.06-.94L8.5 2.5l-.94 2.06-2.06.94zm10 10l.94 2.06.94-2.06 2.06-.94-2.06-.94-.94-2.06-.94 2.06-2.06.94z\"/><path d=\"M17.41 7.96l-1.37-1.37c-.4-.4-.92-.59-1.43-.59-.52 0-1.04.2-1.43.59L10.3 9.45l-7.72 7.72c-.78.78-.78 2.05 0 2.83L4 21.41c.39.39.9.59 1.41.59.51 0 1.02-.2 1.41-.59l7.78-7.78 2.81-2.81c.8-.78.8-2.07 0-2.86zM5.41 20L4 18.59l7.72-7.72 1.47 1.35L5.41 20z\"/>\n",
              "  </svg>\n",
              "      </button>\n",
              "      \n",
              "  <style>\n",
              "    .colab-df-container {\n",
              "      display:flex;\n",
              "      flex-wrap:wrap;\n",
              "      gap: 12px;\n",
              "    }\n",
              "\n",
              "    .colab-df-convert {\n",
              "      background-color: #E8F0FE;\n",
              "      border: none;\n",
              "      border-radius: 50%;\n",
              "      cursor: pointer;\n",
              "      display: none;\n",
              "      fill: #1967D2;\n",
              "      height: 32px;\n",
              "      padding: 0 0 0 0;\n",
              "      width: 32px;\n",
              "    }\n",
              "\n",
              "    .colab-df-convert:hover {\n",
              "      background-color: #E2EBFA;\n",
              "      box-shadow: 0px 1px 2px rgba(60, 64, 67, 0.3), 0px 1px 3px 1px rgba(60, 64, 67, 0.15);\n",
              "      fill: #174EA6;\n",
              "    }\n",
              "\n",
              "    [theme=dark] .colab-df-convert {\n",
              "      background-color: #3B4455;\n",
              "      fill: #D2E3FC;\n",
              "    }\n",
              "\n",
              "    [theme=dark] .colab-df-convert:hover {\n",
              "      background-color: #434B5C;\n",
              "      box-shadow: 0px 1px 3px 1px rgba(0, 0, 0, 0.15);\n",
              "      filter: drop-shadow(0px 1px 2px rgba(0, 0, 0, 0.3));\n",
              "      fill: #FFFFFF;\n",
              "    }\n",
              "  </style>\n",
              "\n",
              "      <script>\n",
              "        const buttonEl =\n",
              "          document.querySelector('#df-ebf03448-ca46-4d28-a824-d2a9f9819878 button.colab-df-convert');\n",
              "        buttonEl.style.display =\n",
              "          google.colab.kernel.accessAllowed ? 'block' : 'none';\n",
              "\n",
              "        async function convertToInteractive(key) {\n",
              "          const element = document.querySelector('#df-ebf03448-ca46-4d28-a824-d2a9f9819878');\n",
              "          const dataTable =\n",
              "            await google.colab.kernel.invokeFunction('convertToInteractive',\n",
              "                                                     [key], {});\n",
              "          if (!dataTable) return;\n",
              "\n",
              "          const docLinkHtml = 'Like what you see? Visit the ' +\n",
              "            '<a target=\"_blank\" href=https://colab.research.google.com/notebooks/data_table.ipynb>data table notebook</a>'\n",
              "            + ' to learn more about interactive tables.';\n",
              "          element.innerHTML = '';\n",
              "          dataTable['output_type'] = 'display_data';\n",
              "          await google.colab.output.renderOutput(dataTable, element);\n",
              "          const docLink = document.createElement('div');\n",
              "          docLink.innerHTML = docLinkHtml;\n",
              "          element.appendChild(docLink);\n",
              "        }\n",
              "      </script>\n",
              "    </div>\n",
              "  </div>\n",
              "  "
            ]
          },
          "metadata": {},
          "execution_count": 97
        }
      ]
    },
    {
      "cell_type": "code",
      "source": [
        "df.shape "
      ],
      "metadata": {
        "colab": {
          "base_uri": "https://localhost:8080/"
        },
        "id": "qRhkX1QEs62q",
        "outputId": "a41aa28a-6fab-45de-ec11-95b3f5eaeb8f"
      },
      "execution_count": null,
      "outputs": [
        {
          "output_type": "execute_result",
          "data": {
            "text/plain": [
              "(65276, 25)"
            ]
          },
          "metadata": {},
          "execution_count": 98
        }
      ]
    },
    {
      "cell_type": "markdown",
      "source": [
        "# Data Cleaning"
      ],
      "metadata": {
        "id": "aPZD1GORCqsv"
      }
    },
    {
      "cell_type": "code",
      "source": [
        "# Age_group__at_arrest_\n",
        "# Check all possible values of this variable\n",
        "print(df['Age_group__at_arrest_'].unique())\n",
        "# Merge the same group with different names\n",
        "df['Age_group__at_arrest_'] = df['Age_group__at_arrest_'].str.replace('Aged 17 years and younger', 'Aged 17 years and under')\n",
        "df['Age_group__at_arrest_'] = df['Age_group__at_arrest_'].str.replace('Aged 65 years and older', 'Aged 65 and older')\n",
        "# Remove obs when Age_group__at_arrest_ = NaN\n",
        "df = df[df['Age_group__at_arrest_'].notnull()]"
      ],
      "metadata": {
        "id": "QFQUVdZ6CzwP",
        "colab": {
          "base_uri": "https://localhost:8080/"
        },
        "outputId": "7edfba89-9469-4c28-cfe2-3add8db52a63"
      },
      "execution_count": null,
      "outputs": [
        {
          "output_type": "stream",
          "name": "stdout",
          "text": [
            "['Aged 35 to 44 years' 'Aged 25 to 34 years' 'Aged 45 to 54 years'\n",
            " 'Aged 55 to 64 years' 'Aged 18 to 24 years' 'Aged 65 and older'\n",
            " 'Aged 65 years and older' nan 'Aged 17 years and younger'\n",
            " 'Aged 17 years and under']\n"
          ]
        }
      ]
    },
    {
      "cell_type": "code",
      "source": [
        "# Sex\n",
        "# Check all possible values of this variable\n",
        "print(df['Sex'].unique())\n",
        "# Remove obs when sex = \"U\"\n",
        "df = df[df['Sex'] != 'U']"
      ],
      "metadata": {
        "colab": {
          "base_uri": "https://localhost:8080/"
        },
        "id": "cXFHgtY1z9q0",
        "outputId": "6bfcdb79-6770-4c1e-dd44-d9f1b714b70d"
      },
      "execution_count": null,
      "outputs": [
        {
          "output_type": "stream",
          "name": "stdout",
          "text": [
            "['M' 'F' 'U']\n"
          ]
        }
      ]
    },
    {
      "cell_type": "code",
      "source": [
        "# Perceived_Race\n",
        "# Check all possible values of this variable\n",
        "print(df['Perceived_Race'].unique())\n",
        "# Remove obs when Perceived_Race = NaN\n",
        "df = df[df['Perceived_Race'].notnull()]"
      ],
      "metadata": {
        "id": "GoU3rVTqC3tA",
        "colab": {
          "base_uri": "https://localhost:8080/"
        },
        "outputId": "cf691c70-ffb5-4505-b823-2b65c97e6581"
      },
      "execution_count": null,
      "outputs": [
        {
          "output_type": "stream",
          "name": "stdout",
          "text": [
            "['White' 'Unknown or Legacy' 'Black' 'South Asian' 'Indigenous'\n",
            " 'Middle-Eastern' 'Latino' 'East/Southeast Asian' nan]\n"
          ]
        }
      ]
    },
    {
      "cell_type": "code",
      "source": [
        "# Youth_at_arrest__under_18_years\n",
        "# Check all possible values of this variable\n",
        "print(df['Youth_at_arrest__under_18_years'].unique())\n",
        "# Merge the same group with different names\n",
        "df['Youth_at_arrest__under_18_years'] = df['Youth_at_arrest__under_18_years'].replace('Youth (aged 17 and younger)', 'Youth (aged 17 years and under)')"
      ],
      "metadata": {
        "id": "POFD1K2BgHX8",
        "colab": {
          "base_uri": "https://localhost:8080/"
        },
        "outputId": "b72343b5-55d4-4127-d673-22b7c63d6d66"
      },
      "execution_count": null,
      "outputs": [
        {
          "output_type": "stream",
          "name": "stdout",
          "text": [
            "['Not a youth' 'Youth (aged 17 and younger)'\n",
            " 'Youth (aged 17 years and under)']\n"
          ]
        }
      ]
    },
    {
      "cell_type": "code",
      "source": [
        "# Occurrence_Category\n",
        "# Check all possible values of this variable\n",
        "print(df['Occurrence_Category'].unique())\n",
        "# Remove obs when Occurrence_Category = NaN\n",
        "df = df[df['Occurrence_Category'].notnull()]"
      ],
      "metadata": {
        "colab": {
          "base_uri": "https://localhost:8080/"
        },
        "id": "jWLZOSwHHeVX",
        "outputId": "f4a41caa-398a-4a1e-f4ea-96a04edfe91e"
      },
      "execution_count": null,
      "outputs": [
        {
          "output_type": "stream",
          "name": "stdout",
          "text": [
            "['Assault & Other crimes against persons' 'Harassment/Threatening'\n",
            " 'FTA/FTC/Compliance Check/Parollee' 'Assault' 'Robbery/Theft'\n",
            " 'Sexual Related Crime' 'Mischief & Fraud' 'Warrant'\n",
            " 'Police Category - Administrative' 'Robbery & Theft'\n",
            " 'FTA/FTC, Compliance Check & Parollee' 'Drug Related' 'Weapons'\n",
            " 'Vehicle Related (inc. Impaired)' 'Other Offence'\n",
            " 'Harassment & Threatening' 'Weapons & Homicide' 'Break and Enter'\n",
            " 'Mischief' 'Break & Enter'\n",
            " 'Sexual Related Crimes & Crimes Against Children'\n",
            " 'Crimes against Children' 'Police Category - Incident' 'Fraud' 'LLA'\n",
            " 'Mental Health' 'Other Statute' 'Vehicle Related'\n",
            " 'Other Statute & Other Incident Type' 'Impaired' 'Homicide' nan]\n"
          ]
        }
      ]
    },
    {
      "cell_type": "markdown",
      "source": [
        "# Univariate EDA"
      ],
      "metadata": {
        "id": "5NMGh2jQudFU"
      }
    },
    {
      "cell_type": "markdown",
      "source": [
        "It is almost always a good idea to perform univariate EDA on each of the components of a multivariate EDA before performing the multivariate EDA. 课本上说的:(("
      ],
      "metadata": {
        "id": "sDTsKyDEu7bR"
      }
    },
    {
      "cell_type": "code",
      "source": [
        "print(df['Age_group__at_arrest_'].value_counts())"
      ],
      "metadata": {
        "colab": {
          "base_uri": "https://localhost:8080/"
        },
        "id": "xRyILDa2vAxD",
        "outputId": "0d8974ef-556b-4c3d-f88a-a914e586bcb5"
      },
      "execution_count": null,
      "outputs": [
        {
          "output_type": "stream",
          "name": "stdout",
          "text": [
            "Aged 25 to 34 years        20899\n",
            "Aged 35 to 44 years        16193\n",
            "Aged 18 to 24 years        10010\n",
            "Aged 45 to 54 years         9048\n",
            "Aged 55 to 64 years         4576\n",
            "Aged 17 years and under     3031\n",
            "Aged 65 and older           1317\n",
            "Name: Age_group__at_arrest_, dtype: int64\n"
          ]
        }
      ]
    },
    {
      "cell_type": "code",
      "source": [
        "print(df['Sex'].value_counts())"
      ],
      "metadata": {
        "colab": {
          "base_uri": "https://localhost:8080/"
        },
        "id": "L--soeEtwnDa",
        "outputId": "d4466739-a3a1-43e6-9ae6-33fa07ed4587"
      },
      "execution_count": null,
      "outputs": [
        {
          "output_type": "stream",
          "name": "stdout",
          "text": [
            "M    52499\n",
            "F    12575\n",
            "Name: Sex, dtype: int64\n"
          ]
        }
      ]
    },
    {
      "cell_type": "code",
      "source": [
        "# Distribution of `Sex`\n",
        "plt.hist(df['Sex'], color = 'purple')\n",
        "plt.xlabel('Sex')\n",
        "plt.ylabel('Frequency')\n",
        "plt.title('Figure 1. Distribution of Sex')\n",
        "plt.show()"
      ],
      "metadata": {
        "id": "e5DBYH9sXJk3",
        "colab": {
          "base_uri": "https://localhost:8080/",
          "height": 295
        },
        "outputId": "ac2026eb-0372-4f71-ce92-77e35815b4d5"
      },
      "execution_count": null,
      "outputs": [
        {
          "output_type": "display_data",
          "data": {
            "text/plain": [
              "<Figure size 432x288 with 1 Axes>"
            ],
            "image/png": "[encoded data removed]"
          },
          "metadata": {
            "needs_background": "light"
          }
        }
      ]
    },
    {
      "cell_type": "code",
      "source": [
        "print(df['Perceived_Race'].value_counts())"
      ],
      "metadata": {
        "colab": {
          "base_uri": "https://localhost:8080/"
        },
        "id": "4WnRG98LwpA6",
        "outputId": "baaee228-2b72-48e3-878f-fcebd3eaf6e1"
      },
      "execution_count": null,
      "outputs": [
        {
          "output_type": "stream",
          "name": "stdout",
          "text": [
            "White                   27630\n",
            "Black                   17487\n",
            "Unknown or Legacy        5041\n",
            "East/Southeast Asian     4402\n",
            "South Asian              3603\n",
            "Middle-Eastern           3227\n",
            "Indigenous               1926\n",
            "Latino                   1758\n",
            "Name: Perceived_Race, dtype: int64\n"
          ]
        }
      ]
    },
    {
      "cell_type": "code",
      "source": [
        "# Distribution of `Perceived_Race`\n",
        "plt.hist(df['Perceived_Race'], color = 'purple')\n",
        "plt.xlabel('Perceived Race')\n",
        "plt.ylabel('Frequency')\n",
        "plt.title('Figure 2. Distribution of Perceived Race')\n",
        "plt.xticks(rotation=90)\n",
        "plt.show()"
      ],
      "metadata": {
        "colab": {
          "base_uri": "https://localhost:8080/",
          "height": 391
        },
        "id": "s1d6Ssn1XLdY",
        "outputId": "9e6eb623-43ee-4518-cac8-048e07ff96c3"
      },
      "execution_count": null,
      "outputs": [
        {
          "output_type": "display_data",
          "data": {
            "text/plain": [
              "<Figure size 432x288 with 1 Axes>"
            ],
            "image/png": "[encoded data removed]"
          },
          "metadata": {
            "needs_background": "light"
          }
        }
      ]
    },
    {
      "cell_type": "code",
      "source": [
        "print(df['Occurrence_Category'].value_counts())"
      ],
      "metadata": {
        "colab": {
          "base_uri": "https://localhost:8080/"
        },
        "id": "2LnLN52_w6Ls",
        "outputId": "2d2eba15-2309-428f-bc17-98ee424b4b68"
      },
      "execution_count": null,
      "outputs": [
        {
          "output_type": "stream",
          "name": "stdout",
          "text": [
            "Assault                                            7724\n",
            "Assault & Other crimes against persons             7234\n",
            "Robbery & Theft                                    4579\n",
            "Warrant                                            4376\n",
            "FTA/FTC/Compliance Check/Parollee                  4244\n",
            "Police Category - Administrative                   3885\n",
            "FTA/FTC, Compliance Check & Parollee               3876\n",
            "Robbery/Theft                                      3751\n",
            "Drug Related                                       2751\n",
            "Other Statute & Other Incident Type                2338\n",
            "Vehicle Related (inc. Impaired)                    1977\n",
            "Other Offence                                      1972\n",
            "Mischief & Fraud                                   1731\n",
            "Impaired                                           1362\n",
            "Harassment/Threatening                             1346\n",
            "Mischief                                           1321\n",
            "Harassment & Threatening                           1268\n",
            "Weapons                                            1106\n",
            "Weapons & Homicide                                 1105\n",
            "Other Statute                                       944\n",
            "Break & Enter                                       915\n",
            "Break and Enter                                     867\n",
            "Sexual Related Crime                                839\n",
            "Sexual Related Crimes & Crimes Against Children     792\n",
            "Vehicle Related                                     768\n",
            "LLA                                                 586\n",
            "Police Category - Incident                          562\n",
            "Fraud                                               474\n",
            "Mental Health                                       239\n",
            "Homicide                                             73\n",
            "Crimes against Children                              69\n",
            "Name: Occurrence_Category, dtype: int64\n"
          ]
        }
      ]
    },
    {
      "cell_type": "markdown",
      "source": [
        "# EDA - Age Group v.s. Sex"
      ],
      "metadata": {
        "id": "a1J85CSylRy0"
      }
    },
    {
      "cell_type": "code",
      "source": [
        "# Create a contingency table of Sex vs Age Group\n",
        "contingency_table = table = pd.crosstab(df['Age_group__at_arrest_'], df['Sex'])\n",
        "contingency_table_total = contingency_table.copy()\n",
        "contingency_table_total['Total'] = contingency_table_total['F'] + contingency_table_total['M']\n",
        "contingency_table_total"
      ],
      "metadata": {
        "colab": {
          "base_uri": "https://localhost:8080/",
          "height": 300
        },
        "id": "XP03JoH9c-7e",
        "outputId": "1fb415e2-b8ae-493e-f4e3-fabae508b900"
      },
      "execution_count": null,
      "outputs": [
        {
          "output_type": "execute_result",
          "data": {
            "text/plain": [
              "Sex                         F      M  Total\n",
              "Age_group__at_arrest_                      \n",
              "Aged 17 years and under   732   2299   3031\n",
              "Aged 18 to 24 years      2065   7945  10010\n",
              "Aged 25 to 34 years      4218  16681  20899\n",
              "Aged 35 to 44 years      3073  13120  16193\n",
              "Aged 45 to 54 years      1601   7447   9048\n",
              "Aged 55 to 64 years       676   3900   4576\n",
              "Aged 65 and older         210   1107   1317"
            ],
            "text/html": [
              "\n",
              "  <div id=\"df-c439a9e6-0054-46d1-bada-2b3c2b597ac0\">\n",
              "    <div class=\"colab-df-container\">\n",
              "      <div>\n",
              "<style scoped>\n",
              "    .dataframe tbody tr th:only-of-type {\n",
              "        vertical-align: middle;\n",
              "    }\n",
              "\n",
              "    .dataframe tbody tr th {\n",
              "        vertical-align: top;\n",
              "    }\n",
              "\n",
              "    .dataframe thead th {\n",
              "        text-align: right;\n",
              "    }\n",
              "</style>\n",
              "<table border=\"1\" class=\"dataframe\">\n",
              "  <thead>\n",
              "    <tr style=\"text-align: right;\">\n",
              "      <th>Sex</th>\n",
              "      <th>F</th>\n",
              "      <th>M</th>\n",
              "      <th>Total</th>\n",
              "    </tr>\n",
              "    <tr>\n",
              "      <th>Age_group__at_arrest_</th>\n",
              "      <th></th>\n",
              "      <th></th>\n",
              "      <th></th>\n",
              "    </tr>\n",
              "  </thead>\n",
              "  <tbody>\n",
              "    <tr>\n",
              "      <th>Aged 17 years and under</th>\n",
              "      <td>732</td>\n",
              "      <td>2299</td>\n",
              "      <td>3031</td>\n",
              "    </tr>\n",
              "    <tr>\n",
              "      <th>Aged 18 to 24 years</th>\n",
              "      <td>2065</td>\n",
              "      <td>7945</td>\n",
              "      <td>10010</td>\n",
              "    </tr>\n",
              "    <tr>\n",
              "      <th>Aged 25 to 34 years</th>\n",
              "      <td>4218</td>\n",
              "      <td>16681</td>\n",
              "      <td>20899</td>\n",
              "    </tr>\n",
              "    <tr>\n",
              "      <th>Aged 35 to 44 years</th>\n",
              "      <td>3073</td>\n",
              "      <td>13120</td>\n",
              "      <td>16193</td>\n",
              "    </tr>\n",
              "    <tr>\n",
              "      <th>Aged 45 to 54 years</th>\n",
              "      <td>1601</td>\n",
              "      <td>7447</td>\n",
              "      <td>9048</td>\n",
              "    </tr>\n",
              "    <tr>\n",
              "      <th>Aged 55 to 64 years</th>\n",
              "      <td>676</td>\n",
              "      <td>3900</td>\n",
              "      <td>4576</td>\n",
              "    </tr>\n",
              "    <tr>\n",
              "      <th>Aged 65 and older</th>\n",
              "      <td>210</td>\n",
              "      <td>1107</td>\n",
              "      <td>1317</td>\n",
              "    </tr>\n",
              "  </tbody>\n",
              "</table>\n",
              "</div>\n",
              "      <button class=\"colab-df-convert\" onclick=\"convertToInteractive('df-c439a9e6-0054-46d1-bada-2b3c2b597ac0')\"\n",
              "              title=\"Convert this dataframe to an interactive table.\"\n",
              "              style=\"display:none;\">\n",
              "        \n",
              "  <svg xmlns=\"http://www.w3.org/2000/svg\" height=\"24px\"viewBox=\"0 0 24 24\"\n",
              "       width=\"24px\">\n",
              "    <path d=\"M0 0h24v24H0V0z\" fill=\"none\"/>\n",
              "    <path d=\"M18.56 5.44l.94 2.06.94-2.06 2.06-.94-2.06-.94-.94-2.06-.94 2.06-2.06.94zm-11 1L8.5 8.5l.94-2.06 2.06-.94-2.06-.94L8.5 2.5l-.94 2.06-2.06.94zm10 10l.94 2.06.94-2.06 2.06-.94-2.06-.94-.94-2.06-.94 2.06-2.06.94z\"/><path d=\"M17.41 7.96l-1.37-1.37c-.4-.4-.92-.59-1.43-.59-.52 0-1.04.2-1.43.59L10.3 9.45l-7.72 7.72c-.78.78-.78 2.05 0 2.83L4 21.41c.39.39.9.59 1.41.59.51 0 1.02-.2 1.41-.59l7.78-7.78 2.81-2.81c.8-.78.8-2.07 0-2.86zM5.41 20L4 18.59l7.72-7.72 1.47 1.35L5.41 20z\"/>\n",
              "  </svg>\n",
              "      </button>\n",
              "      \n",
              "  <style>\n",
              "    .colab-df-container {\n",
              "      display:flex;\n",
              "      flex-wrap:wrap;\n",
              "      gap: 12px;\n",
              "    }\n",
              "\n",
              "    .colab-df-convert {\n",
              "      background-color: #E8F0FE;\n",
              "      border: none;\n",
              "      border-radius: 50%;\n",
              "      cursor: pointer;\n",
              "      display: none;\n",
              "      fill: #1967D2;\n",
              "      height: 32px;\n",
              "      padding: 0 0 0 0;\n",
              "      width: 32px;\n",
              "    }\n",
              "\n",
              "    .colab-df-convert:hover {\n",
              "      background-color: #E2EBFA;\n",
              "      box-shadow: 0px 1px 2px rgba(60, 64, 67, 0.3), 0px 1px 3px 1px rgba(60, 64, 67, 0.15);\n",
              "      fill: #174EA6;\n",
              "    }\n",
              "\n",
              "    [theme=dark] .colab-df-convert {\n",
              "      background-color: #3B4455;\n",
              "      fill: #D2E3FC;\n",
              "    }\n",
              "\n",
              "    [theme=dark] .colab-df-convert:hover {\n",
              "      background-color: #434B5C;\n",
              "      box-shadow: 0px 1px 3px 1px rgba(0, 0, 0, 0.15);\n",
              "      filter: drop-shadow(0px 1px 2px rgba(0, 0, 0, 0.3));\n",
              "      fill: #FFFFFF;\n",
              "    }\n",
              "  </style>\n",
              "\n",
              "      <script>\n",
              "        const buttonEl =\n",
              "          document.querySelector('#df-c439a9e6-0054-46d1-bada-2b3c2b597ac0 button.colab-df-convert');\n",
              "        buttonEl.style.display =\n",
              "          google.colab.kernel.accessAllowed ? 'block' : 'none';\n",
              "\n",
              "        async function convertToInteractive(key) {\n",
              "          const element = document.querySelector('#df-c439a9e6-0054-46d1-bada-2b3c2b597ac0');\n",
              "          const dataTable =\n",
              "            await google.colab.kernel.invokeFunction('convertToInteractive',\n",
              "                                                     [key], {});\n",
              "          if (!dataTable) return;\n",
              "\n",
              "          const docLinkHtml = 'Like what you see? Visit the ' +\n",
              "            '<a target=\"_blank\" href=https://colab.research.google.com/notebooks/data_table.ipynb>data table notebook</a>'\n",
              "            + ' to learn more about interactive tables.';\n",
              "          element.innerHTML = '';\n",
              "          dataTable['output_type'] = 'display_data';\n",
              "          await google.colab.output.renderOutput(dataTable, element);\n",
              "          const docLink = document.createElement('div');\n",
              "          docLink.innerHTML = docLinkHtml;\n",
              "          element.appendChild(docLink);\n",
              "        }\n",
              "      </script>\n",
              "    </div>\n",
              "  </div>\n",
              "  "
            ]
          },
          "metadata": {},
          "execution_count": 110
        }
      ]
    },
    {
      "cell_type": "code",
      "source": [
        "# Create a stacked bar plot\n",
        "ax = contingency_table.plot(kind='bar', stacked=True)\n",
        "# Set the labels and title\n",
        "ax.set_xlabel('Age group')\n",
        "ax.set_ylabel('Frequency')\n",
        "ax.set_title('Figure 4. Frequency of Arrests in Different Age Groups Grouped by Sex')"
      ],
      "metadata": {
        "colab": {
          "base_uri": "https://localhost:8080/",
          "height": 448
        },
        "id": "YYINUXWWjy2l",
        "outputId": "f83aeb75-7f38-4d9c-9e05-01e148c9a6ab"
      },
      "execution_count": null,
      "outputs": [
        {
          "output_type": "execute_result",
          "data": {
            "text/plain": [
              "Text(0.5, 1.0, 'Figure 4. Frequency of Arrests in Different Age Groups Grouped by Sex')"
            ]
          },
          "metadata": {},
          "execution_count": 111
        },
        {
          "output_type": "display_data",
          "data": {
            "text/plain": [
              "<Figure size 432x288 with 1 Axes>"
            ],
            "image/png": "[encoded data removed]"
          },
          "metadata": {
            "needs_background": "light"
          }
        }
      ]
    },
    {
      "cell_type": "markdown",
      "source": [
        "# Create New Variables - Severity of the Incident (`Score`)\n",
        "\n"
      ],
      "metadata": {
        "id": "D5KIpxXfUdTC"
      }
    },
    {
      "cell_type": "code",
      "source": [
        "df['Occurrence_Category'].unique()"
      ],
      "metadata": {
        "colab": {
          "base_uri": "https://localhost:8080/"
        },
        "id": "lr9xTUVxYYjq",
        "outputId": "a6a01247-a4c3-47a1-dc1f-cd6228e1ce92"
      },
      "execution_count": null,
      "outputs": [
        {
          "output_type": "execute_result",
          "data": {
            "text/plain": [
              "array(['Assault & Other crimes against persons', 'Harassment/Threatening',\n",
              "       'FTA/FTC/Compliance Check/Parollee', 'Assault', 'Robbery/Theft',\n",
              "       'Sexual Related Crime', 'Mischief & Fraud', 'Warrant',\n",
              "       'Police Category - Administrative', 'Robbery & Theft',\n",
              "       'FTA/FTC, Compliance Check & Parollee', 'Drug Related', 'Weapons',\n",
              "       'Vehicle Related (inc. Impaired)', 'Other Offence',\n",
              "       'Harassment & Threatening', 'Weapons & Homicide',\n",
              "       'Break and Enter', 'Mischief', 'Break & Enter',\n",
              "       'Sexual Related Crimes & Crimes Against Children',\n",
              "       'Crimes against Children', 'Police Category - Incident', 'Fraud',\n",
              "       'LLA', 'Mental Health', 'Other Statute', 'Vehicle Related',\n",
              "       'Other Statute & Other Incident Type', 'Impaired', 'Homicide'],\n",
              "      dtype=object)"
            ]
          },
          "metadata": {},
          "execution_count": 112
        }
      ]
    },
    {
      "cell_type": "code",
      "source": [
        "# Replace 'Break & Enter' with 'Break and Enter'\n",
        "df['Occurrence_Category'] = df['Occurrence_Category'].str.replace('Break & Enter', 'Break and Enter')\n",
        "# Replace 'FTA/FTC, Compliance Check & Parollee' with 'FTA/FTC/Compliance Check/Parollee'\n",
        "df['Occurrence_Category'] = df['Occurrence_Category'].str.replace('FTA/FTC, Compliance Check & Parollee', 'FTA/FTC/Compliance Check/Parollee')\n",
        "# Replace 'Other Statute & Other Incident Type' with 'Other Statute/Other Incident Type'\n",
        "df['Occurrence_Category'] = df['Occurrence_Category'].str.replace('Other Statute & Other Incident Type', 'Other Statute/Other Incident Type')\n",
        "# Replace 'Vehicle Related \\(inc\\. Impaired.*\\)' with 'Vehicle Related'\n",
        "df['Occurrence_Category'] = df['Occurrence_Category'].str.replace('Vehicle Related \\(inc\\. Impaired.*\\)', 'Vehicle Related')"
      ],
      "metadata": {
        "id": "vMkg6las07FY",
        "colab": {
          "base_uri": "https://localhost:8080/"
        },
        "outputId": "abcf913d-8612-4e51-86e3-67f6c49f4199"
      },
      "execution_count": null,
      "outputs": [
        {
          "output_type": "stream",
          "name": "stderr",
          "text": [
            "<ipython-input-113-8f9d43e879e6>:8: FutureWarning: The default value of regex will change from True to False in a future version.\n",
            "  df['Occurrence_Category'] = df['Occurrence_Category'].str.replace('Vehicle Related \\(inc\\. Impaired.*\\)', 'Vehicle Related')\n"
          ]
        }
      ]
    },
    {
      "cell_type": "code",
      "source": [
        "df['Occurrence_Category'].unique()"
      ],
      "metadata": {
        "colab": {
          "base_uri": "https://localhost:8080/"
        },
        "id": "Gek89auu0-Yn",
        "outputId": "b9a7203e-f29a-4d0c-b10f-21927e47064f"
      },
      "execution_count": null,
      "outputs": [
        {
          "output_type": "execute_result",
          "data": {
            "text/plain": [
              "array(['Assault & Other crimes against persons', 'Harassment/Threatening',\n",
              "       'FTA/FTC/Compliance Check/Parollee', 'Assault', 'Robbery/Theft',\n",
              "       'Sexual Related Crime', 'Mischief & Fraud', 'Warrant',\n",
              "       'Police Category - Administrative', 'Robbery & Theft',\n",
              "       'Drug Related', 'Weapons', 'Vehicle Related', 'Other Offence',\n",
              "       'Harassment & Threatening', 'Weapons & Homicide',\n",
              "       'Break and Enter', 'Mischief',\n",
              "       'Sexual Related Crimes & Crimes Against Children',\n",
              "       'Crimes against Children', 'Police Category - Incident', 'Fraud',\n",
              "       'LLA', 'Mental Health', 'Other Statute',\n",
              "       'Other Statute/Other Incident Type', 'Impaired', 'Homicide'],\n",
              "      dtype=object)"
            ]
          },
          "metadata": {},
          "execution_count": 114
        }
      ]
    },
    {
      "cell_type": "code",
      "source": [
        "# Split Occurrence_Category\n",
        "df[['Occurrence_Category1', 'Occurrence_Category2']] = df['Occurrence_Category'].str.split(' & ', expand=True)\n",
        "# Unique values\n",
        "unique_values = pd.concat([df['Occurrence_Category1'], df['Occurrence_Category2']]).unique()\n",
        "print(unique_values)"
      ],
      "metadata": {
        "colab": {
          "base_uri": "https://localhost:8080/"
        },
        "id": "q7bUpjWp9Lls",
        "outputId": "6fa4fd94-d355-49c2-f576-94c35560449e"
      },
      "execution_count": null,
      "outputs": [
        {
          "output_type": "stream",
          "name": "stdout",
          "text": [
            "['Assault' 'Harassment/Threatening' 'FTA/FTC/Compliance Check/Parollee'\n",
            " 'Robbery/Theft' 'Sexual Related Crime' 'Mischief' 'Warrant'\n",
            " 'Police Category - Administrative' 'Robbery' 'Drug Related' 'Weapons'\n",
            " 'Vehicle Related' 'Other Offence' 'Harassment' 'Break and Enter'\n",
            " 'Sexual Related Crimes' 'Crimes against Children'\n",
            " 'Police Category - Incident' 'Fraud' 'LLA' 'Mental Health'\n",
            " 'Other Statute' 'Other Statute/Other Incident Type' 'Impaired' 'Homicide'\n",
            " 'Other crimes against persons' None 'Theft' 'Threatening'\n",
            " 'Crimes Against Children']\n"
          ]
        }
      ]
    },
    {
      "cell_type": "code",
      "source": [
        "category_scores = {\n",
        "    'Assault': 10,\n",
        "    'Harassment/Threatening': 10,\n",
        "    'FTA/FTC/Compliance Check/Parollee': 5,\n",
        "    'Robbery/Theft': 15,\n",
        "    'Sexual Related Crime': 15,\n",
        "    'Mischief':10,\n",
        "    'Warrant': 5,\n",
        "    'Police Category - Administrative': 5,\n",
        "    'Robbery': 15,\n",
        "    'Drug Related': 5,\n",
        "    'Weapons': 15,\n",
        "    'Vehicle Related': 10,\n",
        "    'Other Offence': 5,\n",
        "    'Harassment': 5,\n",
        "    'Break and Enter': 15,\n",
        "    'Sexual Related Crimes': 15,\n",
        "    'Crimes against Children': 15,\n",
        "    'Police Category - Incident': 10,\n",
        "    'Fraud': 5,\n",
        "    'LLA': 5,\n",
        "    'Mental Health': 5,\n",
        "    'Other Statute': 5,\n",
        "    'Other Statute/Other Incident Type':5,\n",
        "    'Impaired': 10,\n",
        "    'Homicide': 25,\n",
        "    'Vehicle Related (inc. Impairedheft' : 10,\n",
        "    'Other crimes against persons': 10,\n",
        "    'Theft': 10,\n",
        "    'Threatening': 10,\n",
        "    'Crimes Against Children': 15\n",
        "}"
      ],
      "metadata": {
        "id": "nsfNLNzX-lpe"
      },
      "execution_count": null,
      "outputs": []
    },
    {
      "cell_type": "code",
      "source": [
        "# Define a function to calculate the total score for each row\n",
        "def calculate_score(row):\n",
        "    # Initialize the score to zero\n",
        "    score = 0\n",
        "    # Add up the scores for each category\n",
        "    if row['Occurrence_Category1'] in category_scores:\n",
        "        score += category_scores[row['Occurrence_Category1']]\n",
        "    if row['Occurrence_Category2'] in category_scores:\n",
        "        score += category_scores[row['Occurrence_Category2']]\n",
        "    # Return the total score\n",
        "    return score\n",
        "\n",
        "# Apply the score calculation function to the dataframe\n",
        "df['Score'] = df.apply(calculate_score, axis=1)\n",
        "df.head(5)"
      ],
      "metadata": {
        "colab": {
          "base_uri": "https://localhost:8080/",
          "height": 339
        },
        "id": "AWuMD_rJFjDY",
        "outputId": "43708520-109e-4cde-c707-fe42e9fc8102"
      },
      "execution_count": null,
      "outputs": [
        {
          "output_type": "execute_result",
          "data": {
            "text/plain": [
              "   Arrest_Year Arrest_Month  EventID   ArrestID  PersonID     Perceived_Race  \\\n",
              "0         2020    July-Sept  1005907  6017884.0    326622              White   \n",
              "1         2020    July-Sept  1014562  6056669.0    326622              White   \n",
              "2         2020      Oct-Dec  1029922  6057065.0    326622  Unknown or Legacy   \n",
              "3         2021      Jan-Mar  1052190  6029059.0    327535              Black   \n",
              "4         2021      Jan-Mar  1015512  6040372.0    327535        South Asian   \n",
              "\n",
              "  Sex Age_group__at_arrest_ Youth_at_arrest__under_18_years ArrestLocDiv  \\\n",
              "0   M   Aged 35 to 44 years                     Not a youth           54   \n",
              "1   M   Aged 35 to 44 years                     Not a youth           54   \n",
              "2   M   Aged 35 to 44 years                     Not a youth           54   \n",
              "3   M   Aged 25 to 34 years                     Not a youth           XX   \n",
              "4   M   Aged 25 to 34 years                     Not a youth           XX   \n",
              "\n",
              "   StripSearch  Booked                     Occurrence_Category  \\\n",
              "0            0       1  Assault & Other crimes against persons   \n",
              "1            0       1  Assault & Other crimes against persons   \n",
              "2            0       1  Assault & Other crimes against persons   \n",
              "3            0       0                  Harassment/Threatening   \n",
              "4            0       1       FTA/FTC/Compliance Check/Parollee   \n",
              "\n",
              "   Actions_at_arrest___Concealed_i  Actions_at_arrest___Combative__  \\\n",
              "0                                0                                0   \n",
              "1                                0                                0   \n",
              "2                                0                                0   \n",
              "3                                0                                0   \n",
              "4                                0                                0   \n",
              "\n",
              "   Actions_at_arrest___Resisted__d  Actions_at_arrest___Mental_inst  \\\n",
              "0                                0                                0   \n",
              "1                                0                                0   \n",
              "2                                0                                0   \n",
              "3                                0                                0   \n",
              "4                                0                                0   \n",
              "\n",
              "   Actions_at_arrest___Assaulted_o  Actions_at_arrest___Cooperative  \\\n",
              "0                                0                                1   \n",
              "1                                0                                0   \n",
              "2                                0                                0   \n",
              "3                                0                                0   \n",
              "4                                0                                0   \n",
              "\n",
              "   SearchReason_CauseInjury  SearchReason_AssistEscape  \\\n",
              "0                       NaN                        NaN   \n",
              "1                       NaN                        NaN   \n",
              "2                       NaN                        NaN   \n",
              "3                       NaN                        NaN   \n",
              "4                       NaN                        NaN   \n",
              "\n",
              "   SearchReason_PossessWeapons  SearchReason_PossessEvidence  ItemsFound  \\\n",
              "0                          NaN                           NaN         NaN   \n",
              "1                          NaN                           NaN         NaN   \n",
              "2                          NaN                           NaN         NaN   \n",
              "3                          NaN                           NaN         NaN   \n",
              "4                          NaN                           NaN         NaN   \n",
              "\n",
              "   ObjectId               Occurrence_Category1          Occurrence_Category2  \\\n",
              "0         1                            Assault  Other crimes against persons   \n",
              "1         2                            Assault  Other crimes against persons   \n",
              "2         3                            Assault  Other crimes against persons   \n",
              "3         4             Harassment/Threatening                          None   \n",
              "4         5  FTA/FTC/Compliance Check/Parollee                          None   \n",
              "\n",
              "   Score  \n",
              "0     20  \n",
              "1     20  \n",
              "2     20  \n",
              "3     10  \n",
              "4      5  "
            ],
            "text/html": [
              "\n",
              "  <div id=\"df-84421956-4e46-45ef-907c-d0528a6f0f1b\">\n",
              "    <div class=\"colab-df-container\">\n",
              "      <div>\n",
              "<style scoped>\n",
              "    .dataframe tbody tr th:only-of-type {\n",
              "        vertical-align: middle;\n",
              "    }\n",
              "\n",
              "    .dataframe tbody tr th {\n",
              "        vertical-align: top;\n",
              "    }\n",
              "\n",
              "    .dataframe thead th {\n",
              "        text-align: right;\n",
              "    }\n",
              "</style>\n",
              "<table border=\"1\" class=\"dataframe\">\n",
              "  <thead>\n",
              "    <tr style=\"text-align: right;\">\n",
              "      <th></th>\n",
              "      <th>Arrest_Year</th>\n",
              "      <th>Arrest_Month</th>\n",
              "      <th>EventID</th>\n",
              "      <th>ArrestID</th>\n",
              "      <th>PersonID</th>\n",
              "      <th>Perceived_Race</th>\n",
              "      <th>Sex</th>\n",
              "      <th>Age_group__at_arrest_</th>\n",
              "      <th>Youth_at_arrest__under_18_years</th>\n",
              "      <th>ArrestLocDiv</th>\n",
              "      <th>StripSearch</th>\n",
              "      <th>Booked</th>\n",
              "      <th>Occurrence_Category</th>\n",
              "      <th>Actions_at_arrest___Concealed_i</th>\n",
              "      <th>Actions_at_arrest___Combative__</th>\n",
              "      <th>Actions_at_arrest___Resisted__d</th>\n",
              "      <th>Actions_at_arrest___Mental_inst</th>\n",
              "      <th>Actions_at_arrest___Assaulted_o</th>\n",
              "      <th>Actions_at_arrest___Cooperative</th>\n",
              "      <th>SearchReason_CauseInjury</th>\n",
              "      <th>SearchReason_AssistEscape</th>\n",
              "      <th>SearchReason_PossessWeapons</th>\n",
              "      <th>SearchReason_PossessEvidence</th>\n",
              "      <th>ItemsFound</th>\n",
              "      <th>ObjectId</th>\n",
              "      <th>Occurrence_Category1</th>\n",
              "      <th>Occurrence_Category2</th>\n",
              "      <th>Score</th>\n",
              "    </tr>\n",
              "  </thead>\n",
              "  <tbody>\n",
              "    <tr>\n",
              "      <th>0</th>\n",
              "      <td>2020</td>\n",
              "      <td>July-Sept</td>\n",
              "      <td>1005907</td>\n",
              "      <td>6017884.0</td>\n",
              "      <td>326622</td>\n",
              "      <td>White</td>\n",
              "      <td>M</td>\n",
              "      <td>Aged 35 to 44 years</td>\n",
              "      <td>Not a youth</td>\n",
              "      <td>54</td>\n",
              "      <td>0</td>\n",
              "      <td>1</td>\n",
              "      <td>Assault &amp; Other crimes against persons</td>\n",
              "      <td>0</td>\n",
              "      <td>0</td>\n",
              "      <td>0</td>\n",
              "      <td>0</td>\n",
              "      <td>0</td>\n",
              "      <td>1</td>\n",
              "      <td>NaN</td>\n",
              "      <td>NaN</td>\n",
              "      <td>NaN</td>\n",
              "      <td>NaN</td>\n",
              "      <td>NaN</td>\n",
              "      <td>1</td>\n",
              "      <td>Assault</td>\n",
              "      <td>Other crimes against persons</td>\n",
              "      <td>20</td>\n",
              "    </tr>\n",
              "    <tr>\n",
              "      <th>1</th>\n",
              "      <td>2020</td>\n",
              "      <td>July-Sept</td>\n",
              "      <td>1014562</td>\n",
              "      <td>6056669.0</td>\n",
              "      <td>326622</td>\n",
              "      <td>White</td>\n",
              "      <td>M</td>\n",
              "      <td>Aged 35 to 44 years</td>\n",
              "      <td>Not a youth</td>\n",
              "      <td>54</td>\n",
              "      <td>0</td>\n",
              "      <td>1</td>\n",
              "      <td>Assault &amp; Other crimes against persons</td>\n",
              "      <td>0</td>\n",
              "      <td>0</td>\n",
              "      <td>0</td>\n",
              "      <td>0</td>\n",
              "      <td>0</td>\n",
              "      <td>0</td>\n",
              "      <td>NaN</td>\n",
              "      <td>NaN</td>\n",
              "      <td>NaN</td>\n",
              "      <td>NaN</td>\n",
              "      <td>NaN</td>\n",
              "      <td>2</td>\n",
              "      <td>Assault</td>\n",
              "      <td>Other crimes against persons</td>\n",
              "      <td>20</td>\n",
              "    </tr>\n",
              "    <tr>\n",
              "      <th>2</th>\n",
              "      <td>2020</td>\n",
              "      <td>Oct-Dec</td>\n",
              "      <td>1029922</td>\n",
              "      <td>6057065.0</td>\n",
              "      <td>326622</td>\n",
              "      <td>Unknown or Legacy</td>\n",
              "      <td>M</td>\n",
              "      <td>Aged 35 to 44 years</td>\n",
              "      <td>Not a youth</td>\n",
              "      <td>54</td>\n",
              "      <td>0</td>\n",
              "      <td>1</td>\n",
              "      <td>Assault &amp; Other crimes against persons</td>\n",
              "      <td>0</td>\n",
              "      <td>0</td>\n",
              "      <td>0</td>\n",
              "      <td>0</td>\n",
              "      <td>0</td>\n",
              "      <td>0</td>\n",
              "      <td>NaN</td>\n",
              "      <td>NaN</td>\n",
              "      <td>NaN</td>\n",
              "      <td>NaN</td>\n",
              "      <td>NaN</td>\n",
              "      <td>3</td>\n",
              "      <td>Assault</td>\n",
              "      <td>Other crimes against persons</td>\n",
              "      <td>20</td>\n",
              "    </tr>\n",
              "    <tr>\n",
              "      <th>3</th>\n",
              "      <td>2021</td>\n",
              "      <td>Jan-Mar</td>\n",
              "      <td>1052190</td>\n",
              "      <td>6029059.0</td>\n",
              "      <td>327535</td>\n",
              "      <td>Black</td>\n",
              "      <td>M</td>\n",
              "      <td>Aged 25 to 34 years</td>\n",
              "      <td>Not a youth</td>\n",
              "      <td>XX</td>\n",
              "      <td>0</td>\n",
              "      <td>0</td>\n",
              "      <td>Harassment/Threatening</td>\n",
              "      <td>0</td>\n",
              "      <td>0</td>\n",
              "      <td>0</td>\n",
              "      <td>0</td>\n",
              "      <td>0</td>\n",
              "      <td>0</td>\n",
              "      <td>NaN</td>\n",
              "      <td>NaN</td>\n",
              "      <td>NaN</td>\n",
              "      <td>NaN</td>\n",
              "      <td>NaN</td>\n",
              "      <td>4</td>\n",
              "      <td>Harassment/Threatening</td>\n",
              "      <td>None</td>\n",
              "      <td>10</td>\n",
              "    </tr>\n",
              "    <tr>\n",
              "      <th>4</th>\n",
              "      <td>2021</td>\n",
              "      <td>Jan-Mar</td>\n",
              "      <td>1015512</td>\n",
              "      <td>6040372.0</td>\n",
              "      <td>327535</td>\n",
              "      <td>South Asian</td>\n",
              "      <td>M</td>\n",
              "      <td>Aged 25 to 34 years</td>\n",
              "      <td>Not a youth</td>\n",
              "      <td>XX</td>\n",
              "      <td>0</td>\n",
              "      <td>1</td>\n",
              "      <td>FTA/FTC/Compliance Check/Parollee</td>\n",
              "      <td>0</td>\n",
              "      <td>0</td>\n",
              "      <td>0</td>\n",
              "      <td>0</td>\n",
              "      <td>0</td>\n",
              "      <td>0</td>\n",
              "      <td>NaN</td>\n",
              "      <td>NaN</td>\n",
              "      <td>NaN</td>\n",
              "      <td>NaN</td>\n",
              "      <td>NaN</td>\n",
              "      <td>5</td>\n",
              "      <td>FTA/FTC/Compliance Check/Parollee</td>\n",
              "      <td>None</td>\n",
              "      <td>5</td>\n",
              "    </tr>\n",
              "  </tbody>\n",
              "</table>\n",
              "</div>\n",
              "      <button class=\"colab-df-convert\" onclick=\"convertToInteractive('df-84421956-4e46-45ef-907c-d0528a6f0f1b')\"\n",
              "              title=\"Convert this dataframe to an interactive table.\"\n",
              "              style=\"display:none;\">\n",
              "        \n",
              "  <svg xmlns=\"http://www.w3.org/2000/svg\" height=\"24px\"viewBox=\"0 0 24 24\"\n",
              "       width=\"24px\">\n",
              "    <path d=\"M0 0h24v24H0V0z\" fill=\"none\"/>\n",
              "    <path d=\"M18.56 5.44l.94 2.06.94-2.06 2.06-.94-2.06-.94-.94-2.06-.94 2.06-2.06.94zm-11 1L8.5 8.5l.94-2.06 2.06-.94-2.06-.94L8.5 2.5l-.94 2.06-2.06.94zm10 10l.94 2.06.94-2.06 2.06-.94-2.06-.94-.94-2.06-.94 2.06-2.06.94z\"/><path d=\"M17.41 7.96l-1.37-1.37c-.4-.4-.92-.59-1.43-.59-.52 0-1.04.2-1.43.59L10.3 9.45l-7.72 7.72c-.78.78-.78 2.05 0 2.83L4 21.41c.39.39.9.59 1.41.59.51 0 1.02-.2 1.41-.59l7.78-7.78 2.81-2.81c.8-.78.8-2.07 0-2.86zM5.41 20L4 18.59l7.72-7.72 1.47 1.35L5.41 20z\"/>\n",
              "  </svg>\n",
              "      </button>\n",
              "      \n",
              "  <style>\n",
              "    .colab-df-container {\n",
              "      display:flex;\n",
              "      flex-wrap:wrap;\n",
              "      gap: 12px;\n",
              "    }\n",
              "\n",
              "    .colab-df-convert {\n",
              "      background-color: #E8F0FE;\n",
              "      border: none;\n",
              "      border-radius: 50%;\n",
              "      cursor: pointer;\n",
              "      display: none;\n",
              "      fill: #1967D2;\n",
              "      height: 32px;\n",
              "      padding: 0 0 0 0;\n",
              "      width: 32px;\n",
              "    }\n",
              "\n",
              "    .colab-df-convert:hover {\n",
              "      background-color: #E2EBFA;\n",
              "      box-shadow: 0px 1px 2px rgba(60, 64, 67, 0.3), 0px 1px 3px 1px rgba(60, 64, 67, 0.15);\n",
              "      fill: #174EA6;\n",
              "    }\n",
              "\n",
              "    [theme=dark] .colab-df-convert {\n",
              "      background-color: #3B4455;\n",
              "      fill: #D2E3FC;\n",
              "    }\n",
              "\n",
              "    [theme=dark] .colab-df-convert:hover {\n",
              "      background-color: #434B5C;\n",
              "      box-shadow: 0px 1px 3px 1px rgba(0, 0, 0, 0.15);\n",
              "      filter: drop-shadow(0px 1px 2px rgba(0, 0, 0, 0.3));\n",
              "      fill: #FFFFFF;\n",
              "    }\n",
              "  </style>\n",
              "\n",
              "      <script>\n",
              "        const buttonEl =\n",
              "          document.querySelector('#df-84421956-4e46-45ef-907c-d0528a6f0f1b button.colab-df-convert');\n",
              "        buttonEl.style.display =\n",
              "          google.colab.kernel.accessAllowed ? 'block' : 'none';\n",
              "\n",
              "        async function convertToInteractive(key) {\n",
              "          const element = document.querySelector('#df-84421956-4e46-45ef-907c-d0528a6f0f1b');\n",
              "          const dataTable =\n",
              "            await google.colab.kernel.invokeFunction('convertToInteractive',\n",
              "                                                     [key], {});\n",
              "          if (!dataTable) return;\n",
              "\n",
              "          const docLinkHtml = 'Like what you see? Visit the ' +\n",
              "            '<a target=\"_blank\" href=https://colab.research.google.com/notebooks/data_table.ipynb>data table notebook</a>'\n",
              "            + ' to learn more about interactive tables.';\n",
              "          element.innerHTML = '';\n",
              "          dataTable['output_type'] = 'display_data';\n",
              "          await google.colab.output.renderOutput(dataTable, element);\n",
              "          const docLink = document.createElement('div');\n",
              "          docLink.innerHTML = docLinkHtml;\n",
              "          element.appendChild(docLink);\n",
              "        }\n",
              "      </script>\n",
              "    </div>\n",
              "  </div>\n",
              "  "
            ]
          },
          "metadata": {},
          "execution_count": 117
        }
      ]
    },
    {
      "cell_type": "code",
      "source": [
        "# Distribution of `Score`\n",
        "plt.hist(df['Score'], color = 'purple')\n",
        "plt.xlabel('Score')\n",
        "plt.ylabel('Frequency')\n",
        "plt.title('Figure 3. Distribution of Crime Severity Scores')\n",
        "plt.show()"
      ],
      "metadata": {
        "colab": {
          "base_uri": "https://localhost:8080/",
          "height": 295
        },
        "id": "73Qs8WFNIWbd",
        "outputId": "e38f6796-8806-44eb-e1bc-05bc54599fdc"
      },
      "execution_count": null,
      "outputs": [
        {
          "output_type": "display_data",
          "data": {
            "text/plain": [
              "<Figure size 432x288 with 1 Axes>"
            ],
            "image/png": "[encoded data removed]"
          },
          "metadata": {
            "needs_background": "light"
          }
        }
      ]
    },
    {
      "cell_type": "markdown",
      "source": [
        "# EDA - Youth v.s. Sex"
      ],
      "metadata": {
        "id": "Kbp-5MVkMmt3"
      }
    },
    {
      "cell_type": "code",
      "source": [
        "# Create a contingency table of Sex vs Youth_at_arrest\n",
        "contingency_table = table = pd.crosstab(df['Youth_at_arrest__under_18_years'], df['Sex'])\n",
        "contingency_table_total = contingency_table.copy()\n",
        "contingency_table_total['Total'] = contingency_table_total['F'] + contingency_table_total['M']\n",
        "contingency_table_total"
      ],
      "metadata": {
        "id": "bm0Qx2osgi85",
        "colab": {
          "base_uri": "https://localhost:8080/",
          "height": 143
        },
        "outputId": "5d57297f-ba39-4b4f-db2f-d9792a56ccfb"
      },
      "execution_count": null,
      "outputs": [
        {
          "output_type": "execute_result",
          "data": {
            "text/plain": [
              "Sex                                  F      M  Total\n",
              "Youth_at_arrest__under_18_years                     \n",
              "Not a youth                      11843  50200  62043\n",
              "Youth (aged 17 years and under)    732   2299   3031"
            ],
            "text/html": [
              "\n",
              "  <div id=\"df-e4c4fbea-f85a-46b4-b8a4-d3580fb39c6c\">\n",
              "    <div class=\"colab-df-container\">\n",
              "      <div>\n",
              "<style scoped>\n",
              "    .dataframe tbody tr th:only-of-type {\n",
              "        vertical-align: middle;\n",
              "    }\n",
              "\n",
              "    .dataframe tbody tr th {\n",
              "        vertical-align: top;\n",
              "    }\n",
              "\n",
              "    .dataframe thead th {\n",
              "        text-align: right;\n",
              "    }\n",
              "</style>\n",
              "<table border=\"1\" class=\"dataframe\">\n",
              "  <thead>\n",
              "    <tr style=\"text-align: right;\">\n",
              "      <th>Sex</th>\n",
              "      <th>F</th>\n",
              "      <th>M</th>\n",
              "      <th>Total</th>\n",
              "    </tr>\n",
              "    <tr>\n",
              "      <th>Youth_at_arrest__under_18_years</th>\n",
              "      <th></th>\n",
              "      <th></th>\n",
              "      <th></th>\n",
              "    </tr>\n",
              "  </thead>\n",
              "  <tbody>\n",
              "    <tr>\n",
              "      <th>Not a youth</th>\n",
              "      <td>11843</td>\n",
              "      <td>50200</td>\n",
              "      <td>62043</td>\n",
              "    </tr>\n",
              "    <tr>\n",
              "      <th>Youth (aged 17 years and under)</th>\n",
              "      <td>732</td>\n",
              "      <td>2299</td>\n",
              "      <td>3031</td>\n",
              "    </tr>\n",
              "  </tbody>\n",
              "</table>\n",
              "</div>\n",
              "      <button class=\"colab-df-convert\" onclick=\"convertToInteractive('df-e4c4fbea-f85a-46b4-b8a4-d3580fb39c6c')\"\n",
              "              title=\"Convert this dataframe to an interactive table.\"\n",
              "              style=\"display:none;\">\n",
              "        \n",
              "  <svg xmlns=\"http://www.w3.org/2000/svg\" height=\"24px\"viewBox=\"0 0 24 24\"\n",
              "       width=\"24px\">\n",
              "    <path d=\"M0 0h24v24H0V0z\" fill=\"none\"/>\n",
              "    <path d=\"M18.56 5.44l.94 2.06.94-2.06 2.06-.94-2.06-.94-.94-2.06-.94 2.06-2.06.94zm-11 1L8.5 8.5l.94-2.06 2.06-.94-2.06-.94L8.5 2.5l-.94 2.06-2.06.94zm10 10l.94 2.06.94-2.06 2.06-.94-2.06-.94-.94-2.06-.94 2.06-2.06.94z\"/><path d=\"M17.41 7.96l-1.37-1.37c-.4-.4-.92-.59-1.43-.59-.52 0-1.04.2-1.43.59L10.3 9.45l-7.72 7.72c-.78.78-.78 2.05 0 2.83L4 21.41c.39.39.9.59 1.41.59.51 0 1.02-.2 1.41-.59l7.78-7.78 2.81-2.81c.8-.78.8-2.07 0-2.86zM5.41 20L4 18.59l7.72-7.72 1.47 1.35L5.41 20z\"/>\n",
              "  </svg>\n",
              "      </button>\n",
              "      \n",
              "  <style>\n",
              "    .colab-df-container {\n",
              "      display:flex;\n",
              "      flex-wrap:wrap;\n",
              "      gap: 12px;\n",
              "    }\n",
              "\n",
              "    .colab-df-convert {\n",
              "      background-color: #E8F0FE;\n",
              "      border: none;\n",
              "      border-radius: 50%;\n",
              "      cursor: pointer;\n",
              "      display: none;\n",
              "      fill: #1967D2;\n",
              "      height: 32px;\n",
              "      padding: 0 0 0 0;\n",
              "      width: 32px;\n",
              "    }\n",
              "\n",
              "    .colab-df-convert:hover {\n",
              "      background-color: #E2EBFA;\n",
              "      box-shadow: 0px 1px 2px rgba(60, 64, 67, 0.3), 0px 1px 3px 1px rgba(60, 64, 67, 0.15);\n",
              "      fill: #174EA6;\n",
              "    }\n",
              "\n",
              "    [theme=dark] .colab-df-convert {\n",
              "      background-color: #3B4455;\n",
              "      fill: #D2E3FC;\n",
              "    }\n",
              "\n",
              "    [theme=dark] .colab-df-convert:hover {\n",
              "      background-color: #434B5C;\n",
              "      box-shadow: 0px 1px 3px 1px rgba(0, 0, 0, 0.15);\n",
              "      filter: drop-shadow(0px 1px 2px rgba(0, 0, 0, 0.3));\n",
              "      fill: #FFFFFF;\n",
              "    }\n",
              "  </style>\n",
              "\n",
              "      <script>\n",
              "        const buttonEl =\n",
              "          document.querySelector('#df-e4c4fbea-f85a-46b4-b8a4-d3580fb39c6c button.colab-df-convert');\n",
              "        buttonEl.style.display =\n",
              "          google.colab.kernel.accessAllowed ? 'block' : 'none';\n",
              "\n",
              "        async function convertToInteractive(key) {\n",
              "          const element = document.querySelector('#df-e4c4fbea-f85a-46b4-b8a4-d3580fb39c6c');\n",
              "          const dataTable =\n",
              "            await google.colab.kernel.invokeFunction('convertToInteractive',\n",
              "                                                     [key], {});\n",
              "          if (!dataTable) return;\n",
              "\n",
              "          const docLinkHtml = 'Like what you see? Visit the ' +\n",
              "            '<a target=\"_blank\" href=https://colab.research.google.com/notebooks/data_table.ipynb>data table notebook</a>'\n",
              "            + ' to learn more about interactive tables.';\n",
              "          element.innerHTML = '';\n",
              "          dataTable['output_type'] = 'display_data';\n",
              "          await google.colab.output.renderOutput(dataTable, element);\n",
              "          const docLink = document.createElement('div');\n",
              "          docLink.innerHTML = docLinkHtml;\n",
              "          element.appendChild(docLink);\n",
              "        }\n",
              "      </script>\n",
              "    </div>\n",
              "  </div>\n",
              "  "
            ]
          },
          "metadata": {},
          "execution_count": 119
        }
      ]
    },
    {
      "cell_type": "code",
      "source": [
        "# Create a stacked bar plot\n",
        "ax = contingency_table.plot(kind='bar', stacked=True)\n",
        "# Set the labels and title\n",
        "ax.set_xlabel('Youth Status')\n",
        "ax.set_ylabel('Frequency')\n",
        "ax.set_title('Frequency of Male and Female in Whether or Not The Arrestee Were Youth')"
      ],
      "metadata": {
        "id": "zYGN9xogNc4f",
        "colab": {
          "base_uri": "https://localhost:8080/",
          "height": 485
        },
        "outputId": "ce974dbe-92a6-41c6-bf2d-a75044d9ecae"
      },
      "execution_count": null,
      "outputs": [
        {
          "output_type": "execute_result",
          "data": {
            "text/plain": [
              "Text(0.5, 1.0, 'Frequency of Male and Female in Whether or Not The Arrestee Were Youth')"
            ]
          },
          "metadata": {},
          "execution_count": 120
        },
        {
          "output_type": "display_data",
          "data": {
            "text/plain": [
              "<Figure size 432x288 with 1 Axes>"
            ],
            "image/png": "[encoded data removed]"
          },
          "metadata": {
            "needs_background": "light"
          }
        }
      ]
    },
    {
      "cell_type": "markdown",
      "source": [
        "# EDA - Youth v.s. Incident Severity"
      ],
      "metadata": {
        "id": "a3oEBt_Lgpwz"
      }
    },
    {
      "cell_type": "code",
      "source": [
        "# Group by `Youth_at_arrest__under_18_years` and calculate the quantiles\n",
        "quantiles = df.groupby('Youth_at_arrest__under_18_years')['Score'].quantile([0.25, 0.5, 0.75]).unstack()\n",
        "quantiles.columns = ['Q1', 'Q2', 'Q3']\n",
        "quantiles.index.name = 'Youth or not'\n",
        "print(quantiles)"
      ],
      "metadata": {
        "colab": {
          "base_uri": "https://localhost:8080/"
        },
        "id": "oV1svPiSKyJi",
        "outputId": "50354230-2a40-4042-a766-2cdfa5e5d09f"
      },
      "execution_count": null,
      "outputs": [
        {
          "output_type": "stream",
          "name": "stdout",
          "text": [
            "                                  Q1    Q2    Q3\n",
            "Youth or not                                    \n",
            "Not a youth                      5.0  10.0  15.0\n",
            "Youth (aged 17 years and under)  5.0  15.0  25.0\n"
          ]
        }
      ]
    },
    {
      "cell_type": "code",
      "source": [
        "# Create a boxplot\n",
        "sns.boxplot(x='Youth_at_arrest__under_18_years', y='Score', data=df)\n",
        "# Add axis labels and title\n",
        "plt.xlabel('Youth Status')\n",
        "plt.ylabel('Incident Severity')\n",
        "plt.title('Figure 5. Score by Youth Status')\n",
        "# Show the plot\n",
        "plt.show()"
      ],
      "metadata": {
        "colab": {
          "base_uri": "https://localhost:8080/",
          "height": 295
        },
        "id": "Emmh_LShL2Gc",
        "outputId": "9e63e263-1bc9-409b-cf77-e214c0ea7557"
      },
      "execution_count": null,
      "outputs": [
        {
          "output_type": "display_data",
          "data": {
            "text/plain": [
              "<Figure size 432x288 with 1 Axes>"
            ],
            "image/png": "[encoded data removed]"
          },
          "metadata": {
            "needs_background": "light"
          }
        }
      ]
    },
    {
      "cell_type": "markdown",
      "source": [
        "# EDA - Sex v.s. Incident Severity\n"
      ],
      "metadata": {
        "id": "cibbk7lzg4MC"
      }
    },
    {
      "cell_type": "code",
      "source": [
        "# Group by `Sex` and calculate the incident severity score\n",
        "quantiles = df.groupby('Sex')['Score'].quantile([0.25, 0.5, 0.75]).unstack()\n",
        "quantiles.columns = ['Q1', 'Q2', 'Q3']\n",
        "quantiles.index.name = 'Sex'\n",
        "print(quantiles)"
      ],
      "metadata": {
        "colab": {
          "base_uri": "https://localhost:8080/"
        },
        "id": "uvLDDiIng1wk",
        "outputId": "f8443fee-147f-4c00-85ef-519f06d39620"
      },
      "execution_count": null,
      "outputs": [
        {
          "output_type": "stream",
          "name": "stdout",
          "text": [
            "      Q1    Q2    Q3\n",
            "Sex                 \n",
            "F    5.0  10.0  15.0\n",
            "M    5.0  10.0  15.0\n"
          ]
        }
      ]
    },
    {
      "cell_type": "code",
      "source": [
        "# Create a boxplot\n",
        "sns.boxplot(x='Sex', y='Score', data=df)\n",
        "# Add axis labels and title\n",
        "plt.xlabel('Sex')\n",
        "plt.ylabel('Incident Severity')\n",
        "plt.title('Score by Sex')\n",
        "# Show the plot\n",
        "plt.show()"
      ],
      "metadata": {
        "colab": {
          "base_uri": "https://localhost:8080/",
          "height": 295
        },
        "id": "61U5VlaFn8AN",
        "outputId": "eaa42c4f-64b6-4727-a590-52595ddd5f3d"
      },
      "execution_count": null,
      "outputs": [
        {
          "output_type": "display_data",
          "data": {
            "text/plain": [
              "<Figure size 432x288 with 1 Axes>"
            ],
            "image/png": "[encoded data removed]"
          },
          "metadata": {
            "needs_background": "light"
          }
        }
      ]
    },
    {
      "cell_type": "code",
      "source": [
        "# Create a boxplot to show the distribution of `Score` grouped by Sex and Youth Status\n",
        "sns.boxplot(x='Sex', y='Score', hue='Youth_at_arrest__under_18_years', data=df,color='skyblue' )\n",
        "# Change the title of the legend\n",
        "plt.legend(title='Youth Status', loc = 'upper left')\n",
        "# Add title\n",
        "plt.title('Figure 6. Distribution of Scores Grouped by Sex and Youth Status')\n",
        "# Show the plot\n",
        "plt.show()"
      ],
      "metadata": {
        "colab": {
          "base_uri": "https://localhost:8080/",
          "height": 295
        },
        "id": "598M-4dxpj6t",
        "outputId": "049ab166-b222-4bf8-f66c-8cd3a82c3352"
      },
      "execution_count": null,
      "outputs": [
        {
          "output_type": "display_data",
          "data": {
            "text/plain": [
              "<Figure size 432x288 with 1 Axes>"
            ],
            "image/png": "[encoded data removed]"
          },
          "metadata": {
            "needs_background": "light"
          }
        }
      ]
    },
    {
      "cell_type": "markdown",
      "source": [
        "# Check for Assumptions"
      ],
      "metadata": {
        "id": "CB_r_7kCskdT"
      }
    },
    {
      "cell_type": "code",
      "source": [
        "# Split the data\n",
        "Male_score = df.loc[df['Sex'] == 'M', 'Score']\n",
        "Female_score = df.loc[df['Sex'] == 'F', 'Score']\n",
        "Not_youth_score = df.loc[df['Youth_at_arrest__under_18_years'] == 'Not a youth', 'Score']\n",
        "Youth_score = df.loc[df['Youth_at_arrest__under_18_years'] != 'Not a youth', 'Score']\n",
        "# Check for Normality - Normal QQ Plot\n",
        "stats.probplot(Male_score, dist='norm', plot=plt)\n",
        "plt.title('Figure A1. Normal QQ Plot - Severity Score(Male)')\n",
        "plt.show()\n",
        "plt.savefig('A1.png')\n",
        "stats.probplot(Female_score, dist='norm', plot=plt)\n",
        "plt.title('Figure A2. Normal QQ Plot - Severity Score(Female)')\n",
        "plt.show()\n",
        "plt.savefig('A2.png')\n",
        "stats.probplot(Not_youth_score, dist='norm', plot=plt)\n",
        "plt.title('Figure A3. Normal QQ Plot - Severity Score(Youth)')\n",
        "plt.show()\n",
        "plt.savefig('A3.png')\n",
        "stats.probplot(Youth_score, dist='norm', plot=plt)\n",
        "plt.title('Figure A4. Normal QQ Plot - Severity Score(Adult)')\n",
        "plt.show()\n",
        "plt.savefig('A4.png')\n"
      ],
      "metadata": {
        "colab": {
          "base_uri": "https://localhost:8080/",
          "height": 1000
        },
        "id": "39H8ZonJt_Qu",
        "outputId": "1850a9d7-f761-4ce2-8705-c8dd0f058196"
      },
      "execution_count": null,
      "outputs": [
        {
          "output_type": "display_data",
          "data": {
            "text/plain": [
              "<Figure size 432x288 with 1 Axes>"
            ],
            "image/png": "[encoded data removed]"
          },
          "metadata": {
            "needs_background": "light"
          }
        },
        {
          "output_type": "display_data",
          "data": {
            "text/plain": [
              "<Figure size 432x288 with 1 Axes>"
            ],
            "image/png": "[encoded data removed]"
          },
          "metadata": {
            "needs_background": "light"
          }
        },
        {
          "output_type": "display_data",
          "data": {
            "text/plain": [
              "<Figure size 432x288 with 1 Axes>"
            ],
            "image/png": "[encoded data removed]"
          },
          "metadata": {
            "needs_background": "light"
          }
        },
        {
          "output_type": "display_data",
          "data": {
            "text/plain": [
              "<Figure size 432x288 with 1 Axes>"
            ],
            "image/png": "[encoded data removed]"
          },
          "metadata": {
            "needs_background": "light"
          }
        },
        {
          "output_type": "display_data",
          "data": {
            "text/plain": [
              "<Figure size 432x288 with 0 Axes>"
            ]
          },
          "metadata": {}
        }
      ]
    },
    {
      "cell_type": "code",
      "source": [
        "# Perform the Shapiro-Wilk test for normality\n",
        "stat_M, p_M = stats.shapiro(Male_score)\n",
        "stat_F, p_F = stats.shapiro(Female_score)\n",
        "stat_NY, p_NY = stats.shapiro(Not_youth_score)\n",
        "stat_Y, p_Y = stats.shapiro(Youth_score)\n",
        "print(\"Test statistic(Male):\", stat_M)\n",
        "print(\"p-value(Male):\", p_M)\n",
        "print(\"Test statistic(Female):\", stat_F)\n",
        "print(\"p-value(Female):\", p_F)\n",
        "print(\"Test statistic(NotYouth):\", stat_NY)\n",
        "print(\"p-value(NotYouth):\", p_NY)\n",
        "print(\"Test statistic(Youth):\", stat_Y)\n",
        "print(\"p-value(Youth):\", p_Y)"
      ],
      "metadata": {
        "colab": {
          "base_uri": "https://localhost:8080/"
        },
        "id": "fmWOxfAnsj2P",
        "outputId": "e6c6c35a-d4c2-4b88-869d-04798085a8ce"
      },
      "execution_count": null,
      "outputs": [
        {
          "output_type": "stream",
          "name": "stdout",
          "text": [
            "Test statistic(Male): 0.814173698425293\n",
            "p-value(Male): 0.0\n",
            "Test statistic(Female): 0.835439920425415\n",
            "p-value(Female): 0.0\n",
            "Test statistic(NotYouth): 0.81630539894104\n",
            "p-value(NotYouth): 0.0\n",
            "Test statistic(Youth): 0.8749144673347473\n",
            "p-value(Youth): 4.203895392974451e-44\n"
          ]
        },
        {
          "output_type": "stream",
          "name": "stderr",
          "text": [
            "/usr/local/lib/python3.8/dist-packages/scipy/stats/morestats.py:1760: UserWarning: p-value may not be accurate for N > 5000.\n",
            "  warnings.warn(\"p-value may not be accurate for N > 5000.\")\n"
          ]
        }
      ]
    },
    {
      "cell_type": "code",
      "source": [
        "# Check for Varaince\n",
        "# Create a bar chart of the variances for each group\n",
        "variances = [np.var(Male_score), np.var(Female_score)]\n",
        "labels = ['Male', 'Female']\n",
        "plt.bar(labels, variances)\n",
        "\n",
        "variances = [np.var(Not_youth_score), np.var(Youth_score)]\n",
        "labels = ['Not Youth', 'Youth']\n",
        "plt.bar(labels, variances)\n",
        "plt.title('Figure A5. Variance of Score Grouped by Sex and Youth Status')"
      ],
      "metadata": {
        "colab": {
          "base_uri": "https://localhost:8080/",
          "height": 317
        },
        "id": "rUDBiXIxvMsf",
        "outputId": "6e8dddd0-4f4e-4047-8af2-2bf83edd32ce"
      },
      "execution_count": null,
      "outputs": [
        {
          "output_type": "execute_result",
          "data": {
            "text/plain": [
              "Text(0.5, 1.0, 'Figure A5. Variance of Score Grouped by Sex and Youth Status')"
            ]
          },
          "metadata": {},
          "execution_count": 187
        },
        {
          "output_type": "display_data",
          "data": {
            "text/plain": [
              "<Figure size 432x288 with 1 Axes>"
            ],
            "image/png": "[encoded data removed]"
          },
          "metadata": {
            "needs_background": "light"
          }
        }
      ]
    },
    {
      "cell_type": "markdown",
      "source": [
        "# Welch's Tests & 95% CI(Sex/Race/Youth Status v.s. Score)"
      ],
      "metadata": {
        "id": "v2kopWAj0oIT"
      }
    },
    {
      "cell_type": "code",
      "source": [
        "# Welch's t-test Sex & Score\n",
        "Male_score = df.loc[df['Sex'] == 'M', 'Score']\n",
        "Female_score = df.loc[df['Sex'] == 'F', 'Score']\n",
        "print(ttest_ind(Male_score, Female_score, equal_var=False))\n",
        "# calculate confidence interval\n",
        "ci = stats.t.interval(0.95, len(Male_score)+len(Female_score)-2, \n",
        "                      loc=np.mean(Male_score)-np.mean(Female_score), \n",
        "                      scale=np.sqrt(stats.sem(Male_score)**2 + stats.sem(Female_score)**2))\n",
        "print(ci)\n",
        "\n",
        "# Welch's t-test Race(Indigenous v.s. others) & Score\n",
        "Ind_score = df.loc[df['Perceived_Race'] == 'Indigenous', 'Score']\n",
        "non_Ind_score = df.loc[df['Perceived_Race'] != 'Indigenous', 'Score']\n",
        "print(ttest_ind(Ind_score, non_Ind_score, equal_var=False))\n",
        "# calculate confidence interval\n",
        "ci = stats.t.interval(0.95, len(Ind_score)+len(non_Ind_score)-2, \n",
        "                      loc=np.mean(Ind_score)-np.mean(non_Ind_score), \n",
        "                      scale=np.sqrt(stats.sem(Ind_score)**2 + stats.sem(non_Ind_score)**2))\n",
        "print(ci)\n",
        "\n",
        "\n",
        "# Welch's t-test Race(Black v.s. others) & Score\n",
        "Black_score = df.loc[df['Perceived_Race'] == 'Black', 'Score']\n",
        "non_Black_score = df.loc[df['Perceived_Race'] != 'Black', 'Score']\n",
        "print(ttest_ind(Black_score, non_Black_score, equal_var=False))\n",
        "# calculate confidence interval\n",
        "ci = stats.t.interval(0.95, len(Black_score)+len(non_Black_score)-2, \n",
        "                      loc=np.mean(Black_score)-np.mean(non_Black_score), \n",
        "                      scale=np.sqrt(stats.sem(Black_score)**2 + stats.sem(non_Black_score)**2))\n",
        "print(ci)\n",
        "\n",
        "\n",
        "# Welch's t-test Race(White v.s. others) & Score\n",
        "White_score = df.loc[df['Perceived_Race'] == 'White', 'Score']\n",
        "non_White_score = df.loc[df['Perceived_Race'] != 'White', 'Score']\n",
        "print(ttest_ind(White_score, non_White_score, equal_var=False))\n",
        "# calculate confidence interval\n",
        "ci = stats.t.interval(0.95, len(White_score)+len(non_White_score)-2, \n",
        "                      loc=np.mean(White_score)-np.mean(non_White_score), \n",
        "                      scale=np.sqrt(stats.sem(White_score)**2 + stats.sem(non_White_score)**2))\n",
        "print(ci)\n",
        "\n",
        "\n",
        "# Welch's t-test Youth & Score\n",
        "Not_youth_score = df.loc[df['Youth_at_arrest__under_18_years'] == 'Not a youth', 'Score']\n",
        "Youth_score = df.loc[df['Youth_at_arrest__under_18_years'] != 'Not a youth', 'Score']\n",
        "print(ttest_ind(Not_youth_score, Youth_score, equal_var=False))\n",
        "# calculate confidence interval\n",
        "ci = stats.t.interval(0.95, len(Not_youth_score)+len(Youth_score)-2, \n",
        "                      loc=np.mean(Not_youth_score)-np.mean(Youth_score), \n",
        "                      scale=np.sqrt(stats.sem(Not_youth_score)**2 + stats.sem(Youth_score)**2))\n",
        "print(ci)\n",
        "\n",
        "\n",
        "\n",
        "# Welch's t-test Age & Score\n",
        "Y25_score = df.loc[df['Age_group__at_arrest_'] == 'Aged 25 to 34 years', 'Score']\n",
        "non_Y25_score = df.loc[df['Age_group__at_arrest_'] != 'Aged 25 to 34 years', 'Score']\n",
        "print(ttest_ind(Y25_score, non_Y25_score, equal_var=False))\n",
        "# calculate confidence interval\n",
        "ci = stats.t.interval(0.95, len(Y25_score)+len(non_Y25_score)-2, \n",
        "                      loc=np.mean(Y25_score)-np.mean(non_Y25_score), \n",
        "                      scale=np.sqrt(stats.sem(Y25_score)**2 + stats.sem(non_Y25_score)**2))\n",
        "print(ci)\n"
      ],
      "metadata": {
        "colab": {
          "base_uri": "https://localhost:8080/"
        },
        "id": "9tXpbaJoww1U",
        "outputId": "01756b85-55b6-4877-99a7-8eea97bf229d"
      },
      "execution_count": null,
      "outputs": [
        {
          "output_type": "stream",
          "name": "stdout",
          "text": [
            "Ttest_indResult(statistic=-4.201193766995418, pvalue=2.666993724887672e-05)\n",
            "(-0.45998599435687315, -0.16732430525803885)\n",
            "Ttest_indResult(statistic=-3.051392846178105, pvalue=0.0023070647681573985)\n",
            "(-0.8707672902882941, -0.18963764217154866)\n",
            "Ttest_indResult(statistic=3.166585660216738, pvalue=0.0015440126151219954)\n",
            "(0.0850737253733049, 0.36146454578385434)\n",
            "Ttest_indResult(statistic=-7.872343579259532, pvalue=3.537395379678271e-15)\n",
            "(-0.5895451210682428, -0.3545027557795226)\n",
            "Ttest_indResult(statistic=-20.344055533641278, pvalue=1.1072629175990215e-86)\n",
            "(-3.7309157897398473, -3.0751967938248574)\n",
            "Ttest_indResult(statistic=-9.577970852894254, pvalue=1.0407533678557168e-21)\n",
            "(-0.7265270935897593, -0.47969107922528276)\n"
          ]
        }
      ]
    },
    {
      "cell_type": "markdown",
      "source": [
        "# ANOVA (Score ~ Youth, Sex)"
      ],
      "metadata": {
        "id": "nd03wuY9VwWY"
      }
    },
    {
      "cell_type": "code",
      "source": [
        "# Fit two-way ANOVA model with interaction\n",
        "model1 = ols('Score ~ Youth_at_arrest__under_18_years * Sex', df).fit()\n",
        "anova_table1 = sm.stats.anova_lm(model1, typ=2)\n",
        "# Print ANOVA table\n",
        "print(anova_table1)"
      ],
      "metadata": {
        "colab": {
          "base_uri": "https://localhost:8080/"
        },
        "id": "AySSlU58V3dr",
        "outputId": "14f96871-5da4-4d30-b8be-828df05fb85e"
      },
      "execution_count": null,
      "outputs": [
        {
          "output_type": "stream",
          "name": "stdout",
          "text": [
            "                                           sum_sq       df           F  \\\n",
            "Youth_at_arrest__under_18_years      3.317910e+04      1.0  575.986755   \n",
            "Sex                                  7.107211e+02      1.0   12.338066   \n",
            "Youth_at_arrest__under_18_years:Sex  1.063469e+01      1.0    0.184617   \n",
            "Residual                             3.748288e+06  65070.0         NaN   \n",
            "\n",
            "                                            PR(>F)  \n",
            "Youth_at_arrest__under_18_years      9.983440e-127  \n",
            "Sex                                   4.441153e-04  \n",
            "Youth_at_arrest__under_18_years:Sex   6.674362e-01  \n",
            "Residual                                       NaN  \n"
          ]
        }
      ]
    },
    {
      "cell_type": "code",
      "source": [
        "# Fit two-way ANOVA model with interaction\n",
        "model1 = ols('Score ~ C(Youth_at_arrest__under_18_years) + C(Sex) + C(Youth_at_arrest__under_18_years):C(Sex)', df).fit()\n",
        "anova_table1 = sm.stats.anova_lm(model1, typ=2)\n",
        "# Print ANOVA table\n",
        "print(anova_table1)"
      ],
      "metadata": {
        "colab": {
          "base_uri": "https://localhost:8080/"
        },
        "id": "PvDBetQGTK05",
        "outputId": "4e975963-74af-470c-9cb7-7837e5937e82"
      },
      "execution_count": null,
      "outputs": [
        {
          "output_type": "stream",
          "name": "stdout",
          "text": [
            "                                                 sum_sq       df           F  \\\n",
            "C(Youth_at_arrest__under_18_years)         3.317910e+04      1.0  575.986755   \n",
            "C(Sex)                                     7.107211e+02      1.0   12.338066   \n",
            "C(Youth_at_arrest__under_18_years):C(Sex)  1.063469e+01      1.0    0.184617   \n",
            "Residual                                   3.748288e+06  65070.0         NaN   \n",
            "\n",
            "                                                  PR(>F)  \n",
            "C(Youth_at_arrest__under_18_years)         9.983440e-127  \n",
            "C(Sex)                                      4.441153e-04  \n",
            "C(Youth_at_arrest__under_18_years):C(Sex)   6.674362e-01  \n",
            "Residual                                             NaN  \n"
          ]
        }
      ]
    },
    {
      "cell_type": "code",
      "source": [
        "# Fit two-way ANOVA model without interaction\n",
        "model2 = ols('Score ~ Youth_at_arrest__under_18_years + Sex', df).fit()\n",
        "anova_table2 = sm.stats.anova_lm(model2, typ=2)\n",
        "# Print ANOVA table\n",
        "print(anova_table2)"
      ],
      "metadata": {
        "colab": {
          "base_uri": "https://localhost:8080/"
        },
        "id": "ZgYvPg8EnUxm",
        "outputId": "2835f033-167a-4797-bd0c-2ecb65477741"
      },
      "execution_count": null,
      "outputs": [
        {
          "output_type": "stream",
          "name": "stdout",
          "text": [
            "                                       sum_sq       df           F  \\\n",
            "Youth_at_arrest__under_18_years  3.317910e+04      1.0  575.993972   \n",
            "Sex                              7.107211e+02      1.0   12.338221   \n",
            "Residual                         3.748298e+06  65071.0         NaN   \n",
            "\n",
            "                                        PR(>F)  \n",
            "Youth_at_arrest__under_18_years  9.947537e-127  \n",
            "Sex                               4.440785e-04  \n",
            "Residual                                   NaN  \n"
          ]
        }
      ]
    },
    {
      "cell_type": "code",
      "source": [
        "# Fit two-way ANOVA model with interaction, unbalanced design\n",
        "anova_table1_unbal = sm.stats.anova_lm(model1, typ=3)\n",
        "# Print ANOVA table\n",
        "print(anova_table1_unbal)"
      ],
      "metadata": {
        "colab": {
          "base_uri": "https://localhost:8080/"
        },
        "id": "vr8gx8dhmNVo",
        "outputId": "e38956f8-3b4d-4982-bd6b-a9f16737ae69"
      },
      "execution_count": null,
      "outputs": [
        {
          "output_type": "stream",
          "name": "stdout",
          "text": [
            "                                                 sum_sq       df  \\\n",
            "Intercept                                  1.655459e+06      1.0   \n",
            "C(Youth_at_arrest__under_18_years)         8.435474e+03      1.0   \n",
            "C(Sex)                                     6.328167e+02      1.0   \n",
            "C(Youth_at_arrest__under_18_years):C(Sex)  1.063469e+01      1.0   \n",
            "Residual                                   3.748288e+06  65070.0   \n",
            "\n",
            "                                                      F        PR(>F)  \n",
            "Intercept                                  28738.647002  0.000000e+00  \n",
            "C(Youth_at_arrest__under_18_years)           146.439218  1.131194e-33  \n",
            "C(Sex)                                        10.985652  9.187012e-04  \n",
            "C(Youth_at_arrest__under_18_years):C(Sex)      0.184617  6.674362e-01  \n",
            "Residual                                            NaN           NaN  \n"
          ]
        }
      ]
    },
    {
      "cell_type": "code",
      "source": [
        "# Fit two-way ANOVA model without interaction, unbalanced design\n",
        "anova_table2_unbal = sm.stats.anova_lm(model2, typ=3)\n",
        "# Print ANOVA table\n",
        "print(anova_table2_unbal)"
      ],
      "metadata": {
        "colab": {
          "base_uri": "https://localhost:8080/"
        },
        "id": "4CaY9JZtnVCb",
        "outputId": "0d7f371e-29a2-4fce-8459-7477f3193ee9"
      },
      "execution_count": null,
      "outputs": [
        {
          "output_type": "stream",
          "name": "stdout",
          "text": [
            "                                       sum_sq       df             F  \\\n",
            "Intercept                        1.734069e+06      1.0  30103.696831   \n",
            "Youth_at_arrest__under_18_years  3.317910e+04      1.0    575.993972   \n",
            "Sex                              7.107211e+02      1.0     12.338221   \n",
            "Residual                         3.748298e+06  65071.0           NaN   \n",
            "\n",
            "                                        PR(>F)  \n",
            "Intercept                         0.000000e+00  \n",
            "Youth_at_arrest__under_18_years  9.947537e-127  \n",
            "Sex                               4.440785e-04  \n",
            "Residual                                   NaN  \n"
          ]
        }
      ]
    },
    {
      "cell_type": "code",
      "source": [
        "ss_factor1 = anova_table2_unbal['sum_sq']['Youth_at_arrest__under_18_years']\n",
        "ss_factor2 = anova_table2_unbal['sum_sq']['Sex']\n",
        "ss_error = anova_table2_unbal['sum_sq']['Residual']\n",
        "ss_total = ss_factor1 + ss_factor2 + ss_error\n",
        "eta_squared_factor1 = ss_factor1 / ss_total\n",
        "eta_squared_factor2 = ss_factor2 / ss_total\n",
        "print(eta_squared_factor1)\n",
        "print(eta_squared_factor2)"
      ],
      "metadata": {
        "id": "nYwM4YLmslnq",
        "colab": {
          "base_uri": "https://localhost:8080/"
        },
        "outputId": "a199393e-c0d3-4abf-de4e-ca5220e5c032"
      },
      "execution_count": null,
      "outputs": [
        {
          "output_type": "stream",
          "name": "stdout",
          "text": [
            "0.008772461626630167\n",
            "0.00018791267271973673\n"
          ]
        }
      ]
    },
    {
      "cell_type": "markdown",
      "source": [
        "# Post-Hoc(Tukey's HSD)"
      ],
      "metadata": {
        "id": "eJ_LgkwVmXRl"
      }
    },
    {
      "cell_type": "code",
      "source": [
        "tukey_result1 = pairwise_tukeyhsd(df['Score'], df['Youth_at_arrest__under_18_years'])\n",
        "tukey_result2 = pairwise_tukeyhsd(df['Score'], df['Sex'])\n",
        "tukey_result_interaction = pairwise_tukeyhsd(df['Score'], df['Youth_at_arrest__under_18_years'] + ' x ' + df['Sex'])\n",
        "\n",
        "# Print results\n",
        "print(tukey_result1)\n",
        "print(tukey_result2)\n",
        "print(tukey_result_interaction)"
      ],
      "metadata": {
        "colab": {
          "base_uri": "https://localhost:8080/"
        },
        "id": "CsRQNtT3z569",
        "outputId": "757cfa0d-85dd-4f7b-dd41-92b247497306"
      },
      "execution_count": null,
      "outputs": [
        {
          "output_type": "stream",
          "name": "stdout",
          "text": [
            "              Multiple Comparison of Means - Tukey HSD, FWER=0.05              \n",
            "===============================================================================\n",
            "   group1                group2             meandiff p-adj lower  upper  reject\n",
            "-------------------------------------------------------------------------------\n",
            "Not a youth Youth (aged 17 years and under)   3.4031 0.001 3.1263 3.6798   True\n",
            "-------------------------------------------------------------------------------\n",
            "Multiple Comparison of Means - Tukey HSD, FWER=0.05\n",
            "==================================================\n",
            "group1 group2 meandiff p-adj lower   upper  reject\n",
            "--------------------------------------------------\n",
            "     F      M  -0.3137 0.001 -0.462 -0.1653   True\n",
            "--------------------------------------------------\n",
            "                             Multiple Comparison of Means - Tukey HSD, FWER=0.05                              \n",
            "==============================================================================================================\n",
            "               group1                              group2               meandiff p-adj   lower   upper  reject\n",
            "--------------------------------------------------------------------------------------------------------------\n",
            "                    Not a youth x F                     Not a youth x M   -0.257 0.0051 -0.4562 -0.0578   True\n",
            "                    Not a youth x F Youth (aged 17 years and under) x F    3.498  0.001  2.7554  4.2406   True\n",
            "                    Not a youth x F Youth (aged 17 years and under) x M   3.0987  0.001  2.6543  3.5431   True\n",
            "                    Not a youth x M Youth (aged 17 years and under) x F    3.755  0.001  3.0291  4.4809   True\n",
            "                    Not a youth x M Youth (aged 17 years and under) x M   3.3557  0.001  2.9398  3.7715   True\n",
            "Youth (aged 17 years and under) x F Youth (aged 17 years and under) x M  -0.3993 0.5893 -1.2268  0.4282  False\n",
            "--------------------------------------------------------------------------------------------------------------\n"
          ]
        }
      ]
    },
    {
      "cell_type": "code",
      "source": [
        "# create an interaction plot\n",
        "sns.lineplot(x='Youth_at_arrest__under_18_years', y='Score', hue='Sex', data=df)\n",
        "# set plot title\n",
        "plt.title('Figure 8. Effect of Youth Status and Sex on Incident Severity')\n",
        "# Edit the legend\n",
        "plt.legend(title='Sex', loc = 'upper left')\n",
        "plt.xticks(rotation=45)\n",
        "plt.xlabel('Youth Status')\n",
        "plt.ylabel('Incident Severity')\n",
        "# show the plot\n",
        "plt.show()"
      ],
      "metadata": {
        "colab": {
          "base_uri": "https://localhost:8080/",
          "height": 408
        },
        "id": "cm-3LmVR1HN3",
        "outputId": "7515c3a4-ca8b-4a9d-cdbc-11547d7c2198"
      },
      "execution_count": null,
      "outputs": [
        {
          "output_type": "display_data",
          "data": {
            "text/plain": [
              "<Figure size 432x288 with 1 Axes>"
            ],
            "image/png": "[encoded data removed]"
          },
          "metadata": {
            "needs_background": "light"
          }
        }
      ]
    },
    {
      "cell_type": "markdown",
      "source": [
        "# EDA - Strip Search v.s. Sex\n"
      ],
      "metadata": {
        "id": "cMTr2UBltKML"
      }
    },
    {
      "cell_type": "code",
      "source": [
        "# Create a contingency table of Strip Search vs Sex\n",
        "contingency_table = pd.crosstab(df['Sex'], df['StripSearch'])\n",
        "contingency_table['Proportion'] = contingency_table[1.0]/(contingency_table[1.0] + contingency_table[0.0])\n",
        "contingency_table.sort_values('Proportion', ascending=False)"
      ],
      "metadata": {
        "colab": {
          "base_uri": "https://localhost:8080/",
          "height": 143
        },
        "id": "2tXY9erDtUZC",
        "outputId": "990c67fc-38e9-486c-c7fc-806bb8aebc29"
      },
      "execution_count": null,
      "outputs": [
        {
          "output_type": "execute_result",
          "data": {
            "text/plain": [
              "StripSearch      0     1  Proportion\n",
              "Sex                                 \n",
              "M            45983  6516    0.124117\n",
              "F            11292  1283    0.102028"
            ],
            "text/html": [
              "\n",
              "  <div id=\"df-941b7caa-0c83-43f0-95cc-dbdd6591979f\">\n",
              "    <div class=\"colab-df-container\">\n",
              "      <div>\n",
              "<style scoped>\n",
              "    .dataframe tbody tr th:only-of-type {\n",
              "        vertical-align: middle;\n",
              "    }\n",
              "\n",
              "    .dataframe tbody tr th {\n",
              "        vertical-align: top;\n",
              "    }\n",
              "\n",
              "    .dataframe thead th {\n",
              "        text-align: right;\n",
              "    }\n",
              "</style>\n",
              "<table border=\"1\" class=\"dataframe\">\n",
              "  <thead>\n",
              "    <tr style=\"text-align: right;\">\n",
              "      <th>StripSearch</th>\n",
              "      <th>0</th>\n",
              "      <th>1</th>\n",
              "      <th>Proportion</th>\n",
              "    </tr>\n",
              "    <tr>\n",
              "      <th>Sex</th>\n",
              "      <th></th>\n",
              "      <th></th>\n",
              "      <th></th>\n",
              "    </tr>\n",
              "  </thead>\n",
              "  <tbody>\n",
              "    <tr>\n",
              "      <th>M</th>\n",
              "      <td>45983</td>\n",
              "      <td>6516</td>\n",
              "      <td>0.124117</td>\n",
              "    </tr>\n",
              "    <tr>\n",
              "      <th>F</th>\n",
              "      <td>11292</td>\n",
              "      <td>1283</td>\n",
              "      <td>0.102028</td>\n",
              "    </tr>\n",
              "  </tbody>\n",
              "</table>\n",
              "</div>\n",
              "      <button class=\"colab-df-convert\" onclick=\"convertToInteractive('df-941b7caa-0c83-43f0-95cc-dbdd6591979f')\"\n",
              "              title=\"Convert this dataframe to an interactive table.\"\n",
              "              style=\"display:none;\">\n",
              "        \n",
              "  <svg xmlns=\"http://www.w3.org/2000/svg\" height=\"24px\"viewBox=\"0 0 24 24\"\n",
              "       width=\"24px\">\n",
              "    <path d=\"M0 0h24v24H0V0z\" fill=\"none\"/>\n",
              "    <path d=\"M18.56 5.44l.94 2.06.94-2.06 2.06-.94-2.06-.94-.94-2.06-.94 2.06-2.06.94zm-11 1L8.5 8.5l.94-2.06 2.06-.94-2.06-.94L8.5 2.5l-.94 2.06-2.06.94zm10 10l.94 2.06.94-2.06 2.06-.94-2.06-.94-.94-2.06-.94 2.06-2.06.94z\"/><path d=\"M17.41 7.96l-1.37-1.37c-.4-.4-.92-.59-1.43-.59-.52 0-1.04.2-1.43.59L10.3 9.45l-7.72 7.72c-.78.78-.78 2.05 0 2.83L4 21.41c.39.39.9.59 1.41.59.51 0 1.02-.2 1.41-.59l7.78-7.78 2.81-2.81c.8-.78.8-2.07 0-2.86zM5.41 20L4 18.59l7.72-7.72 1.47 1.35L5.41 20z\"/>\n",
              "  </svg>\n",
              "      </button>\n",
              "      \n",
              "  <style>\n",
              "    .colab-df-container {\n",
              "      display:flex;\n",
              "      flex-wrap:wrap;\n",
              "      gap: 12px;\n",
              "    }\n",
              "\n",
              "    .colab-df-convert {\n",
              "      background-color: #E8F0FE;\n",
              "      border: none;\n",
              "      border-radius: 50%;\n",
              "      cursor: pointer;\n",
              "      display: none;\n",
              "      fill: #1967D2;\n",
              "      height: 32px;\n",
              "      padding: 0 0 0 0;\n",
              "      width: 32px;\n",
              "    }\n",
              "\n",
              "    .colab-df-convert:hover {\n",
              "      background-color: #E2EBFA;\n",
              "      box-shadow: 0px 1px 2px rgba(60, 64, 67, 0.3), 0px 1px 3px 1px rgba(60, 64, 67, 0.15);\n",
              "      fill: #174EA6;\n",
              "    }\n",
              "\n",
              "    [theme=dark] .colab-df-convert {\n",
              "      background-color: #3B4455;\n",
              "      fill: #D2E3FC;\n",
              "    }\n",
              "\n",
              "    [theme=dark] .colab-df-convert:hover {\n",
              "      background-color: #434B5C;\n",
              "      box-shadow: 0px 1px 3px 1px rgba(0, 0, 0, 0.15);\n",
              "      filter: drop-shadow(0px 1px 2px rgba(0, 0, 0, 0.3));\n",
              "      fill: #FFFFFF;\n",
              "    }\n",
              "  </style>\n",
              "\n",
              "      <script>\n",
              "        const buttonEl =\n",
              "          document.querySelector('#df-941b7caa-0c83-43f0-95cc-dbdd6591979f button.colab-df-convert');\n",
              "        buttonEl.style.display =\n",
              "          google.colab.kernel.accessAllowed ? 'block' : 'none';\n",
              "\n",
              "        async function convertToInteractive(key) {\n",
              "          const element = document.querySelector('#df-941b7caa-0c83-43f0-95cc-dbdd6591979f');\n",
              "          const dataTable =\n",
              "            await google.colab.kernel.invokeFunction('convertToInteractive',\n",
              "                                                     [key], {});\n",
              "          if (!dataTable) return;\n",
              "\n",
              "          const docLinkHtml = 'Like what you see? Visit the ' +\n",
              "            '<a target=\"_blank\" href=https://colab.research.google.com/notebooks/data_table.ipynb>data table notebook</a>'\n",
              "            + ' to learn more about interactive tables.';\n",
              "          element.innerHTML = '';\n",
              "          dataTable['output_type'] = 'display_data';\n",
              "          await google.colab.output.renderOutput(dataTable, element);\n",
              "          const docLink = document.createElement('div');\n",
              "          docLink.innerHTML = docLinkHtml;\n",
              "          element.appendChild(docLink);\n",
              "        }\n",
              "      </script>\n",
              "    </div>\n",
              "  </div>\n",
              "  "
            ]
          },
          "metadata": {},
          "execution_count": 139
        }
      ]
    },
    {
      "cell_type": "markdown",
      "source": [
        "# EDA - Strip Search v.s. Race"
      ],
      "metadata": {
        "id": "qL6SEwwkmaTL"
      }
    },
    {
      "cell_type": "code",
      "source": [
        "# Create a contingency table of Strip Search vs Race\n",
        "contingency_table = pd.crosstab(df['Perceived_Race'], df['StripSearch'])\n",
        "contingency_table['Total Number of Arrests'] = contingency_table[1.0] + contingency_table[0.0]\n",
        "contingency_table['Strip_Searched_Prop'] = contingency_table[1.0]/(contingency_table[1.0] + contingency_table[0.0])\n",
        "contingency_table.sort_values('Strip_Searched_Prop', ascending=False)"
      ],
      "metadata": {
        "colab": {
          "base_uri": "https://localhost:8080/",
          "height": 410
        },
        "id": "hFqRhYlGmFK0",
        "outputId": "9adf8268-f666-4046-cd3b-c53044e07a3e"
      },
      "execution_count": null,
      "outputs": [
        {
          "output_type": "execute_result",
          "data": {
            "text/plain": [
              "StripSearch               0     1  Total Number of Arrests  \\\n",
              "Perceived_Race                                               \n",
              "Indigenous             1620   306                     1926   \n",
              "Black                 15053  2434                    17487   \n",
              "White                 24064  3566                    27630   \n",
              "Unknown or Legacy      4506   535                     5041   \n",
              "East/Southeast Asian   4061   341                     4402   \n",
              "Latino                 1626   132                     1758   \n",
              "South Asian            3346   257                     3603   \n",
              "Middle-Eastern         2999   228                     3227   \n",
              "\n",
              "StripSearch           Strip_Searched_Prop  \n",
              "Perceived_Race                             \n",
              "Indigenous                       0.158879  \n",
              "Black                            0.139189  \n",
              "White                            0.129063  \n",
              "Unknown or Legacy                0.106130  \n",
              "East/Southeast Asian             0.077465  \n",
              "Latino                           0.075085  \n",
              "South Asian                      0.071329  \n",
              "Middle-Eastern                   0.070654  "
            ],
            "text/html": [
              "\n",
              "  <div id=\"df-d29020d1-7a5e-4641-8c66-a83dbb5ff680\">\n",
              "    <div class=\"colab-df-container\">\n",
              "      <div>\n",
              "<style scoped>\n",
              "    .dataframe tbody tr th:only-of-type {\n",
              "        vertical-align: middle;\n",
              "    }\n",
              "\n",
              "    .dataframe tbody tr th {\n",
              "        vertical-align: top;\n",
              "    }\n",
              "\n",
              "    .dataframe thead th {\n",
              "        text-align: right;\n",
              "    }\n",
              "</style>\n",
              "<table border=\"1\" class=\"dataframe\">\n",
              "  <thead>\n",
              "    <tr style=\"text-align: right;\">\n",
              "      <th>StripSearch</th>\n",
              "      <th>0</th>\n",
              "      <th>1</th>\n",
              "      <th>Total Number of Arrests</th>\n",
              "      <th>Strip_Searched_Prop</th>\n",
              "    </tr>\n",
              "    <tr>\n",
              "      <th>Perceived_Race</th>\n",
              "      <th></th>\n",
              "      <th></th>\n",
              "      <th></th>\n",
              "      <th></th>\n",
              "    </tr>\n",
              "  </thead>\n",
              "  <tbody>\n",
              "    <tr>\n",
              "      <th>Indigenous</th>\n",
              "      <td>1620</td>\n",
              "      <td>306</td>\n",
              "      <td>1926</td>\n",
              "      <td>0.158879</td>\n",
              "    </tr>\n",
              "    <tr>\n",
              "      <th>Black</th>\n",
              "      <td>15053</td>\n",
              "      <td>2434</td>\n",
              "      <td>17487</td>\n",
              "      <td>0.139189</td>\n",
              "    </tr>\n",
              "    <tr>\n",
              "      <th>White</th>\n",
              "      <td>24064</td>\n",
              "      <td>3566</td>\n",
              "      <td>27630</td>\n",
              "      <td>0.129063</td>\n",
              "    </tr>\n",
              "    <tr>\n",
              "      <th>Unknown or Legacy</th>\n",
              "      <td>4506</td>\n",
              "      <td>535</td>\n",
              "      <td>5041</td>\n",
              "      <td>0.106130</td>\n",
              "    </tr>\n",
              "    <tr>\n",
              "      <th>East/Southeast Asian</th>\n",
              "      <td>4061</td>\n",
              "      <td>341</td>\n",
              "      <td>4402</td>\n",
              "      <td>0.077465</td>\n",
              "    </tr>\n",
              "    <tr>\n",
              "      <th>Latino</th>\n",
              "      <td>1626</td>\n",
              "      <td>132</td>\n",
              "      <td>1758</td>\n",
              "      <td>0.075085</td>\n",
              "    </tr>\n",
              "    <tr>\n",
              "      <th>South Asian</th>\n",
              "      <td>3346</td>\n",
              "      <td>257</td>\n",
              "      <td>3603</td>\n",
              "      <td>0.071329</td>\n",
              "    </tr>\n",
              "    <tr>\n",
              "      <th>Middle-Eastern</th>\n",
              "      <td>2999</td>\n",
              "      <td>228</td>\n",
              "      <td>3227</td>\n",
              "      <td>0.070654</td>\n",
              "    </tr>\n",
              "  </tbody>\n",
              "</table>\n",
              "</div>\n",
              "      <button class=\"colab-df-convert\" onclick=\"convertToInteractive('df-d29020d1-7a5e-4641-8c66-a83dbb5ff680')\"\n",
              "              title=\"Convert this dataframe to an interactive table.\"\n",
              "              style=\"display:none;\">\n",
              "        \n",
              "  <svg xmlns=\"http://www.w3.org/2000/svg\" height=\"24px\"viewBox=\"0 0 24 24\"\n",
              "       width=\"24px\">\n",
              "    <path d=\"M0 0h24v24H0V0z\" fill=\"none\"/>\n",
              "    <path d=\"M18.56 5.44l.94 2.06.94-2.06 2.06-.94-2.06-.94-.94-2.06-.94 2.06-2.06.94zm-11 1L8.5 8.5l.94-2.06 2.06-.94-2.06-.94L8.5 2.5l-.94 2.06-2.06.94zm10 10l.94 2.06.94-2.06 2.06-.94-2.06-.94-.94-2.06-.94 2.06-2.06.94z\"/><path d=\"M17.41 7.96l-1.37-1.37c-.4-.4-.92-.59-1.43-.59-.52 0-1.04.2-1.43.59L10.3 9.45l-7.72 7.72c-.78.78-.78 2.05 0 2.83L4 21.41c.39.39.9.59 1.41.59.51 0 1.02-.2 1.41-.59l7.78-7.78 2.81-2.81c.8-.78.8-2.07 0-2.86zM5.41 20L4 18.59l7.72-7.72 1.47 1.35L5.41 20z\"/>\n",
              "  </svg>\n",
              "      </button>\n",
              "      \n",
              "  <style>\n",
              "    .colab-df-container {\n",
              "      display:flex;\n",
              "      flex-wrap:wrap;\n",
              "      gap: 12px;\n",
              "    }\n",
              "\n",
              "    .colab-df-convert {\n",
              "      background-color: #E8F0FE;\n",
              "      border: none;\n",
              "      border-radius: 50%;\n",
              "      cursor: pointer;\n",
              "      display: none;\n",
              "      fill: #1967D2;\n",
              "      height: 32px;\n",
              "      padding: 0 0 0 0;\n",
              "      width: 32px;\n",
              "    }\n",
              "\n",
              "    .colab-df-convert:hover {\n",
              "      background-color: #E2EBFA;\n",
              "      box-shadow: 0px 1px 2px rgba(60, 64, 67, 0.3), 0px 1px 3px 1px rgba(60, 64, 67, 0.15);\n",
              "      fill: #174EA6;\n",
              "    }\n",
              "\n",
              "    [theme=dark] .colab-df-convert {\n",
              "      background-color: #3B4455;\n",
              "      fill: #D2E3FC;\n",
              "    }\n",
              "\n",
              "    [theme=dark] .colab-df-convert:hover {\n",
              "      background-color: #434B5C;\n",
              "      box-shadow: 0px 1px 3px 1px rgba(0, 0, 0, 0.15);\n",
              "      filter: drop-shadow(0px 1px 2px rgba(0, 0, 0, 0.3));\n",
              "      fill: #FFFFFF;\n",
              "    }\n",
              "  </style>\n",
              "\n",
              "      <script>\n",
              "        const buttonEl =\n",
              "          document.querySelector('#df-d29020d1-7a5e-4641-8c66-a83dbb5ff680 button.colab-df-convert');\n",
              "        buttonEl.style.display =\n",
              "          google.colab.kernel.accessAllowed ? 'block' : 'none';\n",
              "\n",
              "        async function convertToInteractive(key) {\n",
              "          const element = document.querySelector('#df-d29020d1-7a5e-4641-8c66-a83dbb5ff680');\n",
              "          const dataTable =\n",
              "            await google.colab.kernel.invokeFunction('convertToInteractive',\n",
              "                                                     [key], {});\n",
              "          if (!dataTable) return;\n",
              "\n",
              "          const docLinkHtml = 'Like what you see? Visit the ' +\n",
              "            '<a target=\"_blank\" href=https://colab.research.google.com/notebooks/data_table.ipynb>data table notebook</a>'\n",
              "            + ' to learn more about interactive tables.';\n",
              "          element.innerHTML = '';\n",
              "          dataTable['output_type'] = 'display_data';\n",
              "          await google.colab.output.renderOutput(dataTable, element);\n",
              "          const docLink = document.createElement('div');\n",
              "          docLink.innerHTML = docLinkHtml;\n",
              "          element.appendChild(docLink);\n",
              "        }\n",
              "      </script>\n",
              "    </div>\n",
              "  </div>\n",
              "  "
            ]
          },
          "metadata": {},
          "execution_count": 140
        }
      ]
    },
    {
      "cell_type": "markdown",
      "source": [
        "# EDA - Count the Number of Arrests and Strip Searches Grouped by PersonID, Race, and Sex"
      ],
      "metadata": {
        "id": "I0gUKqcm3VVH"
      }
    },
    {
      "cell_type": "code",
      "source": [
        "# Group the data by person ID, sex, and race and count the number of strip searches and arrests\n",
        "arrest_counts = df.groupby(['PersonID', 'Sex', 'Perceived_Race']).size().reset_index(name='Num_of_Arrests')\n",
        "strip_search_counts = df[df['StripSearch'] == 1].groupby(['PersonID', 'Sex', 'Perceived_Race']).size().reset_index(name='Num_of_Strip_Searches')\n",
        "# Merge the two tables on person ID, sex, and race\n",
        "merged_counts = pd.merge(arrest_counts, strip_search_counts, on=['PersonID', 'Sex', 'Perceived_Race'], how='left')\n",
        "# Replace any missing values with 0\n",
        "merged_counts.fillna(0, inplace=True)\n",
        "merged_counts['Strip_Searched_Prop'] = merged_counts['Num_of_Strip_Searches']/merged_counts['Num_of_Arrests']\n",
        "# sort in descending order\n",
        "merged_counts.sort_values('Num_of_Arrests', ascending=False)"
      ],
      "metadata": {
        "colab": {
          "base_uri": "https://localhost:8080/",
          "height": 487
        },
        "id": "VPbX9JjSDTgF",
        "outputId": "1ea123f9-f0c4-4c67-98ff-55ccb1b24822"
      },
      "execution_count": null,
      "outputs": [
        {
          "output_type": "execute_result",
          "data": {
            "text/plain": [
              "       PersonID Sex Perceived_Race  Num_of_Arrests  Num_of_Strip_Searches  \\\n",
              "29676    327486   M          White              53                    2.0   \n",
              "33782    331300   M          Black              41                    8.0   \n",
              "4201     303892   M     Indigenous              37                   13.0   \n",
              "32700    330299   M          Black              35                   10.0   \n",
              "11232    310375   M     Indigenous              33                    7.0   \n",
              "...         ...  ..            ...             ...                    ...   \n",
              "15382    314235   M          White               1                    0.0   \n",
              "15381    314234   M          Black               1                    0.0   \n",
              "15380    314233   M          White               1                    0.0   \n",
              "15379    314232   F          White               1                    0.0   \n",
              "40302    337346   M          White               1                    0.0   \n",
              "\n",
              "       Strip_Searched_Prop  \n",
              "29676             0.037736  \n",
              "33782             0.195122  \n",
              "4201              0.351351  \n",
              "32700             0.285714  \n",
              "11232             0.212121  \n",
              "...                    ...  \n",
              "15382             0.000000  \n",
              "15381             0.000000  \n",
              "15380             0.000000  \n",
              "15379             0.000000  \n",
              "40302             0.000000  \n",
              "\n",
              "[40303 rows x 6 columns]"
            ],
            "text/html": [
              "\n",
              "  <div id=\"df-d9b20496-6b37-4471-807f-c4c9ead7a434\">\n",
              "    <div class=\"colab-df-container\">\n",
              "      <div>\n",
              "<style scoped>\n",
              "    .dataframe tbody tr th:only-of-type {\n",
              "        vertical-align: middle;\n",
              "    }\n",
              "\n",
              "    .dataframe tbody tr th {\n",
              "        vertical-align: top;\n",
              "    }\n",
              "\n",
              "    .dataframe thead th {\n",
              "        text-align: right;\n",
              "    }\n",
              "</style>\n",
              "<table border=\"1\" class=\"dataframe\">\n",
              "  <thead>\n",
              "    <tr style=\"text-align: right;\">\n",
              "      <th></th>\n",
              "      <th>PersonID</th>\n",
              "      <th>Sex</th>\n",
              "      <th>Perceived_Race</th>\n",
              "      <th>Num_of_Arrests</th>\n",
              "      <th>Num_of_Strip_Searches</th>\n",
              "      <th>Strip_Searched_Prop</th>\n",
              "    </tr>\n",
              "  </thead>\n",
              "  <tbody>\n",
              "    <tr>\n",
              "      <th>29676</th>\n",
              "      <td>327486</td>\n",
              "      <td>M</td>\n",
              "      <td>White</td>\n",
              "      <td>53</td>\n",
              "      <td>2.0</td>\n",
              "      <td>0.037736</td>\n",
              "    </tr>\n",
              "    <tr>\n",
              "      <th>33782</th>\n",
              "      <td>331300</td>\n",
              "      <td>M</td>\n",
              "      <td>Black</td>\n",
              "      <td>41</td>\n",
              "      <td>8.0</td>\n",
              "      <td>0.195122</td>\n",
              "    </tr>\n",
              "    <tr>\n",
              "      <th>4201</th>\n",
              "      <td>303892</td>\n",
              "      <td>M</td>\n",
              "      <td>Indigenous</td>\n",
              "      <td>37</td>\n",
              "      <td>13.0</td>\n",
              "      <td>0.351351</td>\n",
              "    </tr>\n",
              "    <tr>\n",
              "      <th>32700</th>\n",
              "      <td>330299</td>\n",
              "      <td>M</td>\n",
              "      <td>Black</td>\n",
              "      <td>35</td>\n",
              "      <td>10.0</td>\n",
              "      <td>0.285714</td>\n",
              "    </tr>\n",
              "    <tr>\n",
              "      <th>11232</th>\n",
              "      <td>310375</td>\n",
              "      <td>M</td>\n",
              "      <td>Indigenous</td>\n",
              "      <td>33</td>\n",
              "      <td>7.0</td>\n",
              "      <td>0.212121</td>\n",
              "    </tr>\n",
              "    <tr>\n",
              "      <th>...</th>\n",
              "      <td>...</td>\n",
              "      <td>...</td>\n",
              "      <td>...</td>\n",
              "      <td>...</td>\n",
              "      <td>...</td>\n",
              "      <td>...</td>\n",
              "    </tr>\n",
              "    <tr>\n",
              "      <th>15382</th>\n",
              "      <td>314235</td>\n",
              "      <td>M</td>\n",
              "      <td>White</td>\n",
              "      <td>1</td>\n",
              "      <td>0.0</td>\n",
              "      <td>0.000000</td>\n",
              "    </tr>\n",
              "    <tr>\n",
              "      <th>15381</th>\n",
              "      <td>314234</td>\n",
              "      <td>M</td>\n",
              "      <td>Black</td>\n",
              "      <td>1</td>\n",
              "      <td>0.0</td>\n",
              "      <td>0.000000</td>\n",
              "    </tr>\n",
              "    <tr>\n",
              "      <th>15380</th>\n",
              "      <td>314233</td>\n",
              "      <td>M</td>\n",
              "      <td>White</td>\n",
              "      <td>1</td>\n",
              "      <td>0.0</td>\n",
              "      <td>0.000000</td>\n",
              "    </tr>\n",
              "    <tr>\n",
              "      <th>15379</th>\n",
              "      <td>314232</td>\n",
              "      <td>F</td>\n",
              "      <td>White</td>\n",
              "      <td>1</td>\n",
              "      <td>0.0</td>\n",
              "      <td>0.000000</td>\n",
              "    </tr>\n",
              "    <tr>\n",
              "      <th>40302</th>\n",
              "      <td>337346</td>\n",
              "      <td>M</td>\n",
              "      <td>White</td>\n",
              "      <td>1</td>\n",
              "      <td>0.0</td>\n",
              "      <td>0.000000</td>\n",
              "    </tr>\n",
              "  </tbody>\n",
              "</table>\n",
              "<p>40303 rows × 6 columns</p>\n",
              "</div>\n",
              "      <button class=\"colab-df-convert\" onclick=\"convertToInteractive('df-d9b20496-6b37-4471-807f-c4c9ead7a434')\"\n",
              "              title=\"Convert this dataframe to an interactive table.\"\n",
              "              style=\"display:none;\">\n",
              "        \n",
              "  <svg xmlns=\"http://www.w3.org/2000/svg\" height=\"24px\"viewBox=\"0 0 24 24\"\n",
              "       width=\"24px\">\n",
              "    <path d=\"M0 0h24v24H0V0z\" fill=\"none\"/>\n",
              "    <path d=\"M18.56 5.44l.94 2.06.94-2.06 2.06-.94-2.06-.94-.94-2.06-.94 2.06-2.06.94zm-11 1L8.5 8.5l.94-2.06 2.06-.94-2.06-.94L8.5 2.5l-.94 2.06-2.06.94zm10 10l.94 2.06.94-2.06 2.06-.94-2.06-.94-.94-2.06-.94 2.06-2.06.94z\"/><path d=\"M17.41 7.96l-1.37-1.37c-.4-.4-.92-.59-1.43-.59-.52 0-1.04.2-1.43.59L10.3 9.45l-7.72 7.72c-.78.78-.78 2.05 0 2.83L4 21.41c.39.39.9.59 1.41.59.51 0 1.02-.2 1.41-.59l7.78-7.78 2.81-2.81c.8-.78.8-2.07 0-2.86zM5.41 20L4 18.59l7.72-7.72 1.47 1.35L5.41 20z\"/>\n",
              "  </svg>\n",
              "      </button>\n",
              "      \n",
              "  <style>\n",
              "    .colab-df-container {\n",
              "      display:flex;\n",
              "      flex-wrap:wrap;\n",
              "      gap: 12px;\n",
              "    }\n",
              "\n",
              "    .colab-df-convert {\n",
              "      background-color: #E8F0FE;\n",
              "      border: none;\n",
              "      border-radius: 50%;\n",
              "      cursor: pointer;\n",
              "      display: none;\n",
              "      fill: #1967D2;\n",
              "      height: 32px;\n",
              "      padding: 0 0 0 0;\n",
              "      width: 32px;\n",
              "    }\n",
              "\n",
              "    .colab-df-convert:hover {\n",
              "      background-color: #E2EBFA;\n",
              "      box-shadow: 0px 1px 2px rgba(60, 64, 67, 0.3), 0px 1px 3px 1px rgba(60, 64, 67, 0.15);\n",
              "      fill: #174EA6;\n",
              "    }\n",
              "\n",
              "    [theme=dark] .colab-df-convert {\n",
              "      background-color: #3B4455;\n",
              "      fill: #D2E3FC;\n",
              "    }\n",
              "\n",
              "    [theme=dark] .colab-df-convert:hover {\n",
              "      background-color: #434B5C;\n",
              "      box-shadow: 0px 1px 3px 1px rgba(0, 0, 0, 0.15);\n",
              "      filter: drop-shadow(0px 1px 2px rgba(0, 0, 0, 0.3));\n",
              "      fill: #FFFFFF;\n",
              "    }\n",
              "  </style>\n",
              "\n",
              "      <script>\n",
              "        const buttonEl =\n",
              "          document.querySelector('#df-d9b20496-6b37-4471-807f-c4c9ead7a434 button.colab-df-convert');\n",
              "        buttonEl.style.display =\n",
              "          google.colab.kernel.accessAllowed ? 'block' : 'none';\n",
              "\n",
              "        async function convertToInteractive(key) {\n",
              "          const element = document.querySelector('#df-d9b20496-6b37-4471-807f-c4c9ead7a434');\n",
              "          const dataTable =\n",
              "            await google.colab.kernel.invokeFunction('convertToInteractive',\n",
              "                                                     [key], {});\n",
              "          if (!dataTable) return;\n",
              "\n",
              "          const docLinkHtml = 'Like what you see? Visit the ' +\n",
              "            '<a target=\"_blank\" href=https://colab.research.google.com/notebooks/data_table.ipynb>data table notebook</a>'\n",
              "            + ' to learn more about interactive tables.';\n",
              "          element.innerHTML = '';\n",
              "          dataTable['output_type'] = 'display_data';\n",
              "          await google.colab.output.renderOutput(dataTable, element);\n",
              "          const docLink = document.createElement('div');\n",
              "          docLink.innerHTML = docLinkHtml;\n",
              "          element.appendChild(docLink);\n",
              "        }\n",
              "      </script>\n",
              "    </div>\n",
              "  </div>\n",
              "  "
            ]
          },
          "metadata": {},
          "execution_count": 141
        }
      ]
    },
    {
      "cell_type": "markdown",
      "source": [
        "# Welch's t-tests & 95% CI(Sex/Race v.s. Number of Strip Searches)"
      ],
      "metadata": {
        "id": "kwP6-cM0FG5L"
      }
    },
    {
      "cell_type": "code",
      "source": [
        "# Welch's t-test sex (Male v.s. Female) & Num_of_Strip_Searches\n",
        "Male_number_of_strip_searches = merged_counts.loc[merged_counts['Sex'] == 'M', 'Num_of_Strip_Searches']\n",
        "Female_number_of_strip_searches = merged_counts.loc[merged_counts['Sex'] == 'F', 'Num_of_Strip_Searches']\n",
        "print(ttest_ind(Male_number_of_strip_searches, Female_number_of_strip_searches, equal_var=False))\n",
        "# calculate confidence interval\n",
        "ci = stats.t.interval(0.95, len(Male_number_of_strip_searches)+len(Female_number_of_strip_searches)-2, \n",
        "                      loc=np.mean(Male_number_of_strip_searches)-np.mean(Female_number_of_strip_searches), \n",
        "                      scale=np.sqrt(stats.sem(Male_number_of_strip_searches)**2 + stats.sem(Female_number_of_strip_searches)**2))\n",
        "print(ci)\n",
        "\n",
        "# Welch's t-test Race(Indigenous v.s. others) & Num_of_Strip_Searches\n",
        "Ind_number_of_strip_searches = merged_counts.loc[merged_counts['Perceived_Race'] == 'Indigenous', 'Num_of_Strip_Searches']\n",
        "non_Ind_number_of_strip_searches = merged_counts.loc[merged_counts['Perceived_Race'] != 'Indigenous', 'Num_of_Strip_Searches']\n",
        "print(ttest_ind(Ind_number_of_strip_searches, non_Ind_number_of_strip_searches, equal_var=False))\n",
        "# calculate confidence interval\n",
        "ci = stats.t.interval(0.95, len(Ind_number_of_strip_searches)+len(non_Ind_number_of_strip_searches)-2, \n",
        "                      loc=np.mean(Ind_number_of_strip_searches)-np.mean(non_Ind_number_of_strip_searches), \n",
        "                      scale=np.sqrt(stats.sem(Ind_number_of_strip_searches)**2 + stats.sem(non_Ind_number_of_strip_searches)**2))\n",
        "print(ci)\n",
        "\n",
        "# Welch's t-test Race(Black v.s. others) & Num_of_Strip_Searches\n",
        "Black_number_of_strip_searches = merged_counts.loc[merged_counts['Perceived_Race'] == 'Black', 'Num_of_Strip_Searches']\n",
        "non_Black_number_of_strip_searches = merged_counts.loc[merged_counts['Perceived_Race'] != 'Black', 'Num_of_Strip_Searches']\n",
        "print(ttest_ind(Black_number_of_strip_searches, non_Black_number_of_strip_searches, equal_var=False))\n",
        "# calculate confidence interval\n",
        "ci = stats.t.interval(0.95, len(Black_number_of_strip_searches)+len(non_Black_number_of_strip_searches)-2, \n",
        "                      loc=np.mean(Black_number_of_strip_searches)-np.mean(non_Black_number_of_strip_searches), \n",
        "                      scale=np.sqrt(stats.sem(Black_number_of_strip_searches)**2 + stats.sem(non_Black_number_of_strip_searches)**2))\n",
        "print(ci)\n",
        "\n",
        "# Welch's t-test Race(White v.s. others) & Num_of_Strip_Searches\n",
        "White_number_of_strip_searches = merged_counts.loc[merged_counts['Perceived_Race'] == 'White', 'Num_of_Strip_Searches']\n",
        "non_White_number_of_strip_searches = merged_counts.loc[merged_counts['Perceived_Race'] != 'White', 'Num_of_Strip_Searches']\n",
        "print(ttest_ind(White_number_of_strip_searches, non_White_number_of_strip_searches, equal_var=False))\n",
        "# calculate confidence interval\n",
        "ci = stats.t.interval(0.95, len(White_number_of_strip_searches)+len(non_White_number_of_strip_searches)-2, \n",
        "                      loc=np.mean(White_number_of_strip_searches)-np.mean(non_White_number_of_strip_searches), \n",
        "                      scale=np.sqrt(stats.sem(White_number_of_strip_searches)**2 + stats.sem(non_White_number_of_strip_searches)**2))\n",
        "print(ci)"
      ],
      "metadata": {
        "colab": {
          "base_uri": "https://localhost:8080/"
        },
        "id": "CwJXwrxOAyQ6",
        "outputId": "4e5c65db-d2b2-47af-ab70-773c70dc38b8"
      },
      "execution_count": null,
      "outputs": [
        {
          "output_type": "stream",
          "name": "stdout",
          "text": [
            "Ttest_indResult(statistic=6.363900944554992, pvalue=2.0277105670420192e-10)\n",
            "(0.0316907683591781, 0.05989982809668838)\n",
            "Ttest_indResult(statistic=5.396737166542, pvalue=8.867413873048523e-08)\n",
            "(0.11826023555506546, 0.2531523113023786)\n",
            "Ttest_indResult(statistic=7.776796120942398, pvalue=7.89264712754751e-15)\n",
            "(0.04463440556290163, 0.07471446910704779)\n",
            "Ttest_indResult(statistic=10.046592474402555, pvalue=1.0530363056374892e-23)\n",
            "(0.05595821684381892, 0.08308452348828187)\n"
          ]
        }
      ]
    },
    {
      "cell_type": "markdown",
      "source": [
        "# Welch's t-tests(Sex/Race v.s. Number of Arrests)"
      ],
      "metadata": {
        "id": "TfGZ9_mo4-60"
      }
    },
    {
      "cell_type": "code",
      "source": [
        "# Welch's t-test sex (Male v.s. Female) & Num_of_Arrests\n",
        "Male_number_of_arrest = merged_counts.loc[merged_counts['Sex'] == 'M', 'Num_of_Arrests']\n",
        "Female_number_of_arrest = merged_counts.loc[merged_counts['Sex'] == 'F', 'Num_of_Arrests']\n",
        "print(ttest_ind(Male_number_of_arrest, Female_number_of_arrest, equal_var=False))\n",
        "\n",
        "# Welch's t-test Race(Indigenous v.s. others) & Num_of_Arrests\n",
        "Ind_number_of_arrest = merged_counts.loc[merged_counts['Perceived_Race'] == 'Indigenous', 'Num_of_Arrests']\n",
        "non_Ind_number_of_arrest = merged_counts.loc[merged_counts['Perceived_Race'] != 'Indigenous', 'Num_of_Arrests']\n",
        "print(ttest_ind(Ind_number_of_arrest, non_Ind_number_of_arrest, equal_var=False))\n",
        "\n",
        "# Welch's t-test Race(Black v.s. others) & Num_of_Arrests\n",
        "Black_number_of_arrest = merged_counts.loc[merged_counts['Perceived_Race'] == 'Black', 'Num_of_Arrests']\n",
        "non_Black_number_of_arrest = merged_counts.loc[merged_counts['Perceived_Race'] != 'Black', 'Num_of_Arrests']\n",
        "print(ttest_ind(Black_number_of_arrest, non_Black_number_of_arrest, equal_var=False))\n",
        "\n",
        "# Welch's t-test Race(White v.s. others) & Num_of_Arrests\n",
        "White_number_of_arrest = merged_counts.loc[merged_counts['Perceived_Race'] == 'White', 'Num_of_Arrests']\n",
        "non_White_number_of_arrest = merged_counts.loc[merged_counts['Perceived_Race'] != 'White', 'Num_of_Arrests']\n",
        "print(ttest_ind(White_number_of_arrest, non_White_number_of_arrest, equal_var=False))"
      ],
      "metadata": {
        "colab": {
          "base_uri": "https://localhost:8080/"
        },
        "id": "_ZJOfQrVan-q",
        "outputId": "84f826d0-1d9c-491c-d5c7-eb87aca7fb63"
      },
      "execution_count": null,
      "outputs": [
        {
          "output_type": "stream",
          "name": "stdout",
          "text": [
            "Ttest_indResult(statistic=4.53414730091322, pvalue=5.834042423406695e-06)\n",
            "Ttest_indResult(statistic=7.43220327491772, pvalue=2.6709762125596526e-13)\n",
            "Ttest_indResult(statistic=6.1452559576431485, pvalue=8.164490682430143e-10)\n",
            "Ttest_indResult(statistic=17.914941248665126, pvalue=2.682123480875926e-71)\n"
          ]
        }
      ]
    },
    {
      "cell_type": "markdown",
      "source": [
        "# ANOVA (Number of Strip Searches ~ Race, Sex)"
      ],
      "metadata": {
        "id": "ELlxeX7on_PP"
      }
    },
    {
      "cell_type": "code",
      "source": [
        "# Fit two-way ANOVA model with interaction\n",
        "model3 = ols('Num_of_Strip_Searches ~ Perceived_Race * Sex', merged_counts).fit()\n",
        "anova_table3 = sm.stats.anova_lm(model3, typ=2)\n",
        "# Print ANOVA table\n",
        "print(anova_table3)"
      ],
      "metadata": {
        "colab": {
          "base_uri": "https://localhost:8080/"
        },
        "id": "UzoeAQwioHJU",
        "outputId": "9ecb8f7b-2209-49ef-e316-2fce657b36a6"
      },
      "execution_count": null,
      "outputs": [
        {
          "output_type": "stream",
          "name": "stdout",
          "text": [
            "                          sum_sq       df          F         PR(>F)\n",
            "Perceived_Race        198.842086      7.0  72.845052  2.840929e-105\n",
            "Sex                    23.076030      1.0  59.176720   1.473994e-14\n",
            "Perceived_Race:Sex     17.354405      7.0   6.357721   1.723438e-07\n",
            "Residual            15709.962163  40287.0        NaN            NaN\n"
          ]
        }
      ]
    },
    {
      "cell_type": "code",
      "source": [
        "# Fit two-way ANOVA model with interaction, unbalanced design\n",
        "anova_table3_unbal = sm.stats.anova_lm(model3, typ=3)\n",
        "# Print ANOVA table\n",
        "print(anova_table3_unbal)"
      ],
      "metadata": {
        "colab": {
          "base_uri": "https://localhost:8080/"
        },
        "id": "iM98aVX3oHmi",
        "outputId": "6d0d1161-44d0-4a21-da2f-0d1670d5727c"
      },
      "execution_count": null,
      "outputs": [
        {
          "output_type": "stream",
          "name": "stdout",
          "text": [
            "                          sum_sq       df          F        PR(>F)\n",
            "Intercept              33.920188      1.0  86.985735  1.146767e-20\n",
            "Perceived_Race         35.772018      7.0  13.104945  5.705875e-17\n",
            "Sex                    26.023355      1.0  66.734909  3.195420e-16\n",
            "Perceived_Race:Sex     17.354405      7.0   6.357721  1.723438e-07\n",
            "Residual            15709.962163  40287.0        NaN           NaN\n"
          ]
        }
      ]
    },
    {
      "cell_type": "code",
      "source": [
        "# Fit two-way ANOVA model without interaction\n",
        "model4 = ols('Num_of_Strip_Searches ~ Perceived_Race + Sex', merged_counts).fit()\n",
        "anova_table4 = sm.stats.anova_lm(model4, typ=2)\n",
        "# Print ANOVA table\n",
        "print(anova_table4)"
      ],
      "metadata": {
        "colab": {
          "base_uri": "https://localhost:8080/"
        },
        "id": "2eiHusTyoHtT",
        "outputId": "941068e2-9833-4cd2-c970-73aa3596ccbd"
      },
      "execution_count": null,
      "outputs": [
        {
          "output_type": "stream",
          "name": "stdout",
          "text": [
            "                      sum_sq       df          F         PR(>F)\n",
            "Perceived_Race    198.842086      7.0  72.777314  3.581192e-105\n",
            "Sex                23.076030      1.0  59.121692   1.515727e-14\n",
            "Residual        15727.316568  40294.0        NaN            NaN\n"
          ]
        }
      ]
    },
    {
      "cell_type": "code",
      "source": [
        "# Fit two-way ANOVA model without interaction, unbalanced design\n",
        "anova_table4_unbal = sm.stats.anova_lm(model4, typ=3)\n",
        "# Print ANOVA table\n",
        "print(anova_table4_unbal)"
      ],
      "metadata": {
        "colab": {
          "base_uri": "https://localhost:8080/"
        },
        "id": "Ctstq10PoHzI",
        "outputId": "9cd8de61-e154-46a0-ab99-2066f92e0068"
      },
      "execution_count": null,
      "outputs": [
        {
          "output_type": "stream",
          "name": "stdout",
          "text": [
            "                      sum_sq       df           F         PR(>F)\n",
            "Intercept         179.230308      1.0  459.195056  2.650997e-101\n",
            "Perceived_Race    198.842086      7.0   72.777314  3.581192e-105\n",
            "Sex                23.076030      1.0   59.121692   1.515727e-14\n",
            "Residual        15727.316568  40294.0         NaN            NaN\n"
          ]
        }
      ]
    },
    {
      "cell_type": "code",
      "source": [
        "ss_factor3 = anova_table4_unbal['sum_sq']['Perceived_Race']\n",
        "ss_factor4 = anova_table4_unbal['sum_sq']['Sex']\n",
        "ss_error2 = anova_table4_unbal['sum_sq']['Residual']\n",
        "ss_total2 = ss_factor3 + ss_factor4 + ss_error2\n",
        "eta_squared_factor3 = ss_factor3 / ss_total2\n",
        "eta_squared_factor4 = ss_factor4 / ss_total2\n",
        "print(eta_squared_factor3)\n",
        "print(eta_squared_factor4)"
      ],
      "metadata": {
        "colab": {
          "base_uri": "https://localhost:8080/"
        },
        "id": "YqjB5Rio5QoY",
        "outputId": "ed017da1-5232-4b13-f7a2-c148de1c7cba"
      },
      "execution_count": null,
      "outputs": [
        {
          "output_type": "stream",
          "name": "stdout",
          "text": [
            "0.012467186658256175\n",
            "0.001446842492692184\n"
          ]
        }
      ]
    },
    {
      "cell_type": "code",
      "source": [
        "tukey_result1 = pairwise_tukeyhsd(merged_counts['Num_of_Strip_Searches'], merged_counts['Perceived_Race'])\n",
        "tukey_result2 = pairwise_tukeyhsd(merged_counts['Num_of_Strip_Searches'], merged_counts['Sex'])\n",
        "tukey_result_interaction = pairwise_tukeyhsd(merged_counts['Num_of_Strip_Searches'], \n",
        "                                             merged_counts['Perceived_Race'] + ' x ' + merged_counts['Sex'])\n",
        "\n",
        "# Print results\n",
        "print(tukey_result1)\n",
        "print(tukey_result2)\n",
        "print(tukey_result_interaction) # horrible:)"
      ],
      "metadata": {
        "colab": {
          "base_uri": "https://localhost:8080/"
        },
        "id": "ISiOIzhx57dh",
        "outputId": "278f10b0-cf15-435e-c1f3-cdc4f730b4e6"
      },
      "execution_count": null,
      "outputs": [
        {
          "output_type": "stream",
          "name": "stdout",
          "text": [
            "              Multiple Comparison of Means - Tukey HSD, FWER=0.05               \n",
            "================================================================================\n",
            "       group1               group2        meandiff p-adj   lower   upper  reject\n",
            "--------------------------------------------------------------------------------\n",
            "               Black East/Southeast Asian  -0.1383  0.001 -0.1757 -0.1008   True\n",
            "               Black           Indigenous   0.1374  0.001  0.0684  0.2064   True\n",
            "               Black               Latino  -0.1347  0.001 -0.1909 -0.0784   True\n",
            "               Black       Middle-Eastern  -0.1406  0.001  -0.184 -0.0972   True\n",
            "               Black          South Asian   -0.147  0.001 -0.1873 -0.1068   True\n",
            "               Black    Unknown or Legacy  -0.1154  0.001 -0.1497 -0.0812   True\n",
            "               Black                White   -0.001    0.9 -0.0252  0.0233  False\n",
            "East/Southeast Asian           Indigenous   0.2757  0.001  0.2018  0.3496   True\n",
            "East/Southeast Asian               Latino   0.0036    0.9 -0.0585  0.0658  False\n",
            "East/Southeast Asian       Middle-Eastern  -0.0023    0.9 -0.0532  0.0485  False\n",
            "East/Southeast Asian          South Asian  -0.0088    0.9 -0.0569  0.0394  False\n",
            "East/Southeast Asian    Unknown or Legacy   0.0229 0.7226 -0.0204  0.0661  False\n",
            "East/Southeast Asian                White   0.1373  0.001  0.1014  0.1732   True\n",
            "          Indigenous               Latino  -0.2721  0.001 -0.3571 -0.1871   True\n",
            "          Indigenous       Middle-Eastern   -0.278  0.001 -0.3551 -0.2009   True\n",
            "          Indigenous          South Asian  -0.2845  0.001 -0.3598 -0.2091   True\n",
            "          Indigenous    Unknown or Legacy  -0.2528  0.001 -0.3252 -0.1805   True\n",
            "          Indigenous                White  -0.1384  0.001 -0.2065 -0.0702   True\n",
            "              Latino       Middle-Eastern  -0.0059    0.9 -0.0719    0.06  False\n",
            "              Latino          South Asian  -0.0124    0.9 -0.0763  0.0515  False\n",
            "              Latino    Unknown or Legacy   0.0193    0.9  -0.041  0.0795  False\n",
            "              Latino                White   0.1337  0.001  0.0785   0.189   True\n",
            "      Middle-Eastern          South Asian  -0.0064    0.9 -0.0594  0.0465  False\n",
            "      Middle-Eastern    Unknown or Legacy   0.0252 0.7395 -0.0234  0.0737  False\n",
            "      Middle-Eastern                White   0.1396  0.001  0.0975  0.1818   True\n",
            "         South Asian    Unknown or Legacy   0.0316 0.4215 -0.0142  0.0774  False\n",
            "         South Asian                White   0.1461  0.001  0.1072  0.1849   True\n",
            "   Unknown or Legacy                White   0.1145  0.001  0.0819   0.147   True\n",
            "--------------------------------------------------------------------------------\n",
            "Multiple Comparison of Means - Tukey HSD, FWER=0.05\n",
            "=================================================\n",
            "group1 group2 meandiff p-adj lower  upper  reject\n",
            "-------------------------------------------------\n",
            "     F      M   0.0458 0.001 0.0305 0.0611   True\n",
            "-------------------------------------------------\n",
            "                  Multiple Comparison of Means - Tukey HSD, FWER=0.05                   \n",
            "========================================================================================\n",
            "         group1                   group2          meandiff p-adj   lower   upper  reject\n",
            "----------------------------------------------------------------------------------------\n",
            "               Black x F                Black x M   0.1293  0.001   0.075  0.1835   True\n",
            "               Black x F East/Southeast Asian x F  -0.0941 0.0736 -0.1916  0.0035  False\n",
            "               Black x F East/Southeast Asian x M  -0.0192    0.9 -0.0827  0.0444  False\n",
            "               Black x F           Indigenous x F    0.112 0.2164 -0.0205  0.2445  False\n",
            "               Black x F           Indigenous x M   0.3192  0.001  0.2129  0.4256   True\n",
            "               Black x F               Latino x F  -0.0838    0.9 -0.2417  0.0742  False\n",
            "               Black x F               Latino x M  -0.0194    0.9  -0.101  0.0621  False\n",
            "               Black x F       Middle-Eastern x F  -0.0716    0.9 -0.2058  0.0626  False\n",
            "               Black x F       Middle-Eastern x M  -0.0304    0.9 -0.0984  0.0376  False\n",
            "               Black x F          South Asian x F  -0.0711 0.7053 -0.1846  0.0424  False\n",
            "               Black x F          South Asian x M  -0.0367 0.8535 -0.1023  0.0289  False\n",
            "               Black x F    Unknown or Legacy x F  -0.0142    0.9  -0.104  0.0755  False\n",
            "               Black x F    Unknown or Legacy x M  -0.0095    0.9 -0.0702  0.0511  False\n",
            "               Black x F                White x F   0.0848  0.001  0.0243  0.1454   True\n",
            "               Black x F                White x M     0.11  0.001  0.0573  0.1628   True\n",
            "               Black x M East/Southeast Asian x F  -0.2233  0.001  -0.311 -0.1357   True\n",
            "               Black x M East/Southeast Asian x M  -0.1484  0.001 -0.1954 -0.1015   True\n",
            "               Black x M           Indigenous x F  -0.0172    0.9 -0.1426  0.1081  False\n",
            "               Black x M           Indigenous x M     0.19  0.001  0.0926  0.2873   True\n",
            "               Black x M               Latino x F   -0.213  0.001  -0.365  -0.061   True\n",
            "               Black x M               Latino x M  -0.1487  0.001 -0.2181 -0.0793   True\n",
            "               Black x M       Middle-Eastern x F  -0.2008  0.001  -0.328 -0.0737   True\n",
            "               Black x M       Middle-Eastern x M  -0.1597  0.001 -0.2125 -0.1069   True\n",
            "               Black x M          South Asian x F  -0.2004  0.001 -0.3055 -0.0952   True\n",
            "               Black x M          South Asian x M   -0.166  0.001 -0.2156 -0.1163   True\n",
            "               Black x M    Unknown or Legacy x F  -0.1435  0.001 -0.2223 -0.0646   True\n",
            "               Black x M    Unknown or Legacy x M  -0.1388  0.001 -0.1817 -0.0959   True\n",
            "               Black x M                White x F  -0.0444  0.033 -0.0872 -0.0016   True\n",
            "               Black x M                White x M  -0.0192 0.7121   -0.05  0.0116  False\n",
            "East/Southeast Asian x F East/Southeast Asian x M   0.0749 0.3063 -0.0188  0.1686  False\n",
            "East/Southeast Asian x F           Indigenous x F   0.2061  0.001  0.0568  0.3554   True\n",
            "East/Southeast Asian x F           Indigenous x M   0.4133  0.001  0.2866    0.54   True\n",
            "East/Southeast Asian x F               Latino x F   0.0103    0.9  -0.162  0.1826  False\n",
            "East/Southeast Asian x F               Latino x M   0.0747  0.543 -0.0321  0.1814  False\n",
            "East/Southeast Asian x F       Middle-Eastern x F   0.0225    0.9 -0.1284  0.1733  False\n",
            "East/Southeast Asian x F       Middle-Eastern x M   0.0636 0.6356 -0.0331  0.1604  False\n",
            "East/Southeast Asian x F          South Asian x F    0.023    0.9 -0.1098  0.1558  False\n",
            "East/Southeast Asian x F          South Asian x M   0.0574 0.7564 -0.0377  0.1525  False\n",
            "East/Southeast Asian x F    Unknown or Legacy x F   0.0799 0.5282 -0.0333   0.193  False\n",
            "East/Southeast Asian x F    Unknown or Legacy x M   0.0845 0.1119 -0.0072  0.1763  False\n",
            "East/Southeast Asian x F                White x F   0.1789  0.001  0.0872  0.2706   True\n",
            "East/Southeast Asian x F                White x M   0.2041  0.001  0.1174  0.2909   True\n",
            "East/Southeast Asian x M           Indigenous x F   0.1312 0.0439  0.0016  0.2608   True\n",
            "East/Southeast Asian x M           Indigenous x M   0.3384  0.001  0.2356  0.4412   True\n",
            "East/Southeast Asian x M               Latino x F  -0.0646    0.9 -0.2201   0.091  False\n",
            "East/Southeast Asian x M               Latino x M  -0.0002    0.9 -0.0771  0.0767  False\n",
            "East/Southeast Asian x M       Middle-Eastern x F  -0.0524    0.9 -0.1838   0.079  False\n",
            "East/Southeast Asian x M       Middle-Eastern x M  -0.0112    0.9 -0.0736  0.0511  False\n",
            "East/Southeast Asian x M          South Asian x F  -0.0519    0.9 -0.1621  0.0583  False\n",
            "East/Southeast Asian x M          South Asian x M  -0.0175    0.9 -0.0772  0.0422  False\n",
            "East/Southeast Asian x M    Unknown or Legacy x F    0.005    0.9 -0.0806  0.0905  False\n",
            "East/Southeast Asian x M    Unknown or Legacy x M   0.0097    0.9 -0.0445  0.0638  False\n",
            "East/Southeast Asian x M                White x F    0.104  0.001  0.0499  0.1582   True\n",
            "East/Southeast Asian x M                White x M   0.1292  0.001   0.084  0.1745   True\n",
            "          Indigenous x F           Indigenous x M   0.2072  0.001   0.052  0.3624   True\n",
            "          Indigenous x F               Latino x F  -0.1958 0.0458   -0.39 -0.0016   True\n",
            "          Indigenous x F               Latino x M  -0.1314   0.09 -0.2708  0.0079  False\n",
            "          Indigenous x F       Middle-Eastern x F  -0.1836 0.0296 -0.3591 -0.0081   True\n",
            "          Indigenous x F       Middle-Eastern x M  -0.1424 0.0198 -0.2743 -0.0105   True\n",
            "          Indigenous x F          South Asian x F  -0.1831 0.0088 -0.3433 -0.0229   True\n",
            "          Indigenous x F          South Asian x M  -0.1487 0.0095 -0.2794  -0.018   True\n",
            "          Indigenous x F    Unknown or Legacy x F  -0.1262 0.1705 -0.2705  0.0181  False\n",
            "          Indigenous x F    Unknown or Legacy x M  -0.1215 0.0869 -0.2498  0.0067  False\n",
            "          Indigenous x F                White x F  -0.0272    0.9 -0.1554  0.1011  False\n",
            "          Indigenous x F                White x M   -0.002    0.9 -0.1267  0.1228  False\n",
            "          Indigenous x M               Latino x F   -0.403  0.001 -0.5804 -0.2256   True\n",
            "          Indigenous x M               Latino x M  -0.3386  0.001 -0.4535 -0.2238   True\n",
            "          Indigenous x M       Middle-Eastern x F  -0.3908  0.001 -0.5475 -0.2341   True\n",
            "          Indigenous x M       Middle-Eastern x M  -0.3497  0.001 -0.4553  -0.244   True\n",
            "          Indigenous x M          South Asian x F  -0.3903  0.001 -0.5297 -0.2509   True\n",
            "          Indigenous x M          South Asian x M  -0.3559  0.001   -0.46 -0.2518   True\n",
            "          Indigenous x M    Unknown or Legacy x F  -0.3334  0.001 -0.4542 -0.2126   True\n",
            "          Indigenous x M    Unknown or Legacy x M  -0.3288  0.001 -0.4298 -0.2277   True\n",
            "          Indigenous x M                White x F  -0.2344  0.001 -0.3354 -0.1333   True\n",
            "          Indigenous x M                White x M  -0.2092  0.001 -0.3057 -0.1126   True\n",
            "              Latino x F               Latino x M   0.0643    0.9 -0.0994  0.2281  False\n",
            "              Latino x F       Middle-Eastern x F   0.0122    0.9 -0.1832  0.2076  False\n",
            "              Latino x F       Middle-Eastern x M   0.0533    0.9 -0.1041  0.2108  False\n",
            "              Latino x F          South Asian x F   0.0127    0.9 -0.1691  0.1945  False\n",
            "              Latino x F          South Asian x M   0.0471    0.9 -0.1094  0.2035  False\n",
            "              Latino x F    Unknown or Legacy x F   0.0696    0.9 -0.0984  0.2375  False\n",
            "              Latino x F    Unknown or Legacy x M   0.0742    0.9 -0.0802  0.2286  False\n",
            "              Latino x F                White x F   0.1686  0.017  0.0142   0.323   True\n",
            "              Latino x F                White x M   0.1938 0.0013  0.0423  0.3453   True\n",
            "              Latino x M       Middle-Eastern x F  -0.0522    0.9 -0.1932  0.0889  False\n",
            "              Latino x M       Middle-Eastern x M   -0.011    0.9 -0.0916  0.0696  False\n",
            "              Latino x M          South Asian x F  -0.0517    0.9 -0.1732  0.0698  False\n",
            "              Latino x M          South Asian x M  -0.0173    0.9 -0.0959  0.0613  False\n",
            "              Latino x M    Unknown or Legacy x F   0.0052    0.9 -0.0944  0.1049  False\n",
            "              Latino x M    Unknown or Legacy x M   0.0099    0.9 -0.0646  0.0844  False\n",
            "              Latino x M                White x F   0.1043  0.001  0.0298  0.1787   True\n",
            "              Latino x M                White x M   0.1295  0.001  0.0612  0.1978   True\n",
            "      Middle-Eastern x F       Middle-Eastern x M   0.0412    0.9 -0.0925  0.1748  False\n",
            "      Middle-Eastern x F          South Asian x F   0.0005    0.9 -0.1611  0.1621  False\n",
            "      Middle-Eastern x F          South Asian x M   0.0349    0.9 -0.0976  0.1673  False\n",
            "      Middle-Eastern x F    Unknown or Legacy x F   0.0574    0.9 -0.0885  0.2033  False\n",
            "      Middle-Eastern x F    Unknown or Legacy x M   0.0621    0.9  -0.068  0.1921  False\n",
            "      Middle-Eastern x F                White x F   0.1564 0.0039  0.0264  0.2865   True\n",
            "      Middle-Eastern x F                White x M   0.1816  0.001   0.055  0.3082   True\n",
            "      Middle-Eastern x M          South Asian x F  -0.0407    0.9 -0.1535  0.0722  False\n",
            "      Middle-Eastern x M          South Asian x M  -0.0063    0.9 -0.0707  0.0582  False\n",
            "      Middle-Eastern x M    Unknown or Legacy x F   0.0162    0.9 -0.0727  0.1051  False\n",
            "      Middle-Eastern x M    Unknown or Legacy x M   0.0209    0.9 -0.0385  0.0803  False\n",
            "      Middle-Eastern x M                White x F   0.1153  0.001   0.056  0.1746   True\n",
            "      Middle-Eastern x M                White x M   0.1405  0.001  0.0891  0.1918   True\n",
            "         South Asian x F          South Asian x M   0.0344    0.9  -0.077  0.1458  False\n",
            "         South Asian x F    Unknown or Legacy x F   0.0569    0.9 -0.0703   0.184  False\n",
            "         South Asian x F    Unknown or Legacy x M   0.0616 0.8367  -0.047  0.1701  False\n",
            "         South Asian x F                White x F   0.1559  0.001  0.0474  0.2645   True\n",
            "         South Asian x F                White x M   0.1811  0.001  0.0767  0.2855   True\n",
            "         South Asian x M    Unknown or Legacy x F   0.0225    0.9 -0.0646  0.1096  False\n",
            "         South Asian x M    Unknown or Legacy x M   0.0272    0.9 -0.0294  0.0838  False\n",
            "         South Asian x M                White x F   0.1216  0.001   0.065  0.1781   True\n",
            "         South Asian x M                White x M   0.1468  0.001  0.0986  0.1949   True\n",
            "   Unknown or Legacy x F    Unknown or Legacy x M   0.0047    0.9 -0.0787  0.0881  False\n",
            "   Unknown or Legacy x F                White x F   0.0991 0.0048  0.0157  0.1824   True\n",
            "   Unknown or Legacy x F                White x M   0.1243  0.001  0.0464  0.2021   True\n",
            "   Unknown or Legacy x M                White x F   0.0944  0.001  0.0437  0.1451   True\n",
            "   Unknown or Legacy x M                White x M   0.1196  0.001  0.0785  0.1607   True\n",
            "               White x F                White x M   0.0252 0.7309 -0.0158  0.0662  False\n",
            "----------------------------------------------------------------------------------------\n"
          ]
        }
      ]
    },
    {
      "cell_type": "code",
      "source": [
        "# create an interaction plot\n",
        "sns.lineplot(x='Perceived_Race', y='Num_of_Strip_Searches', hue='Sex', data=merged_counts)\n",
        "# set plot title\n",
        "plt.title('Figure 7. Effect of Perceived Race and Sex on Number of Strip Searches')\n",
        "# Edit the legend\n",
        "plt.legend(title='Sex', loc = 'upper left')\n",
        "plt.xticks(rotation=45)\n",
        "plt.xlabel('Race')\n",
        "plt.ylabel('Number of Strip Searches')\n",
        "# show the plot\n",
        "plt.show()"
      ],
      "metadata": {
        "colab": {
          "base_uri": "https://localhost:8080/",
          "height": 367
        },
        "id": "bio4dJyAxqZB",
        "outputId": "c357b0c9-cc09-47bb-ba32-678f5b920306"
      },
      "execution_count": null,
      "outputs": [
        {
          "output_type": "display_data",
          "data": {
            "text/plain": [
              "<Figure size 432x288 with 1 Axes>"
            ],
            "image/png": "[encoded data removed]"
          },
          "metadata": {
            "needs_background": "light"
          }
        }
      ]
    },
    {
      "cell_type": "markdown",
      "source": [
        "# Individuals with more than 3 arrests/Outliers"
      ],
      "metadata": {
        "id": "mcCbU4jJJNA-"
      }
    },
    {
      "cell_type": "code",
      "source": [
        "# Individuals with more than 3 arrests\n",
        "count_morethan3 = merged_counts[merged_counts['Num_of_Arrests'] > 3]\n",
        "print(count_morethan3.shape)\n",
        "plt.hist(count_morethan3['Num_of_Arrests'])"
      ],
      "metadata": {
        "colab": {
          "base_uri": "https://localhost:8080/",
          "height": 374
        },
        "id": "-G6S_XnZ_e7V",
        "outputId": "04c2b8b4-15af-4c75-f6dc-5b99fda6206d"
      },
      "execution_count": null,
      "outputs": [
        {
          "output_type": "stream",
          "name": "stdout",
          "text": [
            "(2831, 6)\n"
          ]
        },
        {
          "output_type": "execute_result",
          "data": {
            "text/plain": [
              "(array([2.342e+03, 3.380e+02, 9.300e+01, 3.700e+01, 1.300e+01, 4.000e+00,\n",
              "        2.000e+00, 1.000e+00, 0.000e+00, 1.000e+00]),\n",
              " array([ 4. ,  8.9, 13.8, 18.7, 23.6, 28.5, 33.4, 38.3, 43.2, 48.1, 53. ]),\n",
              " <BarContainer object of 10 artists>)"
            ]
          },
          "metadata": {},
          "execution_count": 151
        },
        {
          "output_type": "display_data",
          "data": {
            "text/plain": [
              "<Figure size 432x288 with 1 Axes>"
            ],
            "image/png": "[encoded data removed]"
          },
          "metadata": {
            "needs_background": "light"
          }
        }
      ]
    },
    {
      "cell_type": "code",
      "source": [
        "# Calculate Q1, Q3, and IQR\n",
        "Q1 = count_morethan3['Num_of_Arrests'].quantile(0.25)\n",
        "Q3 = count_morethan3['Num_of_Arrests'].quantile(0.75)\n",
        "IQR = Q3 - Q1\n",
        "\n",
        "# Calculate the lower and upper outlier bounds\n",
        "lower_bound = Q1 - 1.5 * IQR\n",
        "upper_bound = Q3 + 1.5 * IQR\n",
        "print(lower_bound, upper_bound)"
      ],
      "metadata": {
        "colab": {
          "base_uri": "https://localhost:8080/"
        },
        "id": "6imSXIys8yiX",
        "outputId": "e14067c8-cabe-4737-9c44-e2e5ed0ff9e3"
      },
      "execution_count": null,
      "outputs": [
        {
          "output_type": "stream",
          "name": "stdout",
          "text": [
            "-0.5 11.5\n"
          ]
        }
      ]
    },
    {
      "cell_type": "code",
      "source": [
        "count_morethan3"
      ],
      "metadata": {
        "colab": {
          "base_uri": "https://localhost:8080/",
          "height": 487
        },
        "id": "9Av5FXHBMm2Q",
        "outputId": "68a45188-36d5-48e5-e333-70ac83658dba"
      },
      "execution_count": null,
      "outputs": [
        {
          "output_type": "execute_result",
          "data": {
            "text/plain": [
              "       PersonID Sex Perceived_Race  Num_of_Arrests  Num_of_Strip_Searches  \\\n",
              "3        300003   M          White               8                    1.0   \n",
              "7        300007   M    South Asian               8                    1.0   \n",
              "19       300019   F          White               4                    0.0   \n",
              "45       300043   M          White               9                    2.0   \n",
              "55       300053   M          White               4                    1.0   \n",
              "...         ...  ..            ...             ...                    ...   \n",
              "40260    337310   M          White               9                    4.0   \n",
              "40277    337325   F          White               6                    0.0   \n",
              "40281    337328   M          Black               5                    1.0   \n",
              "40283    337329   M          Black               4                    0.0   \n",
              "40298    337342   M          White               5                    0.0   \n",
              "\n",
              "       Strip_Searched_Prop  \n",
              "3                 0.125000  \n",
              "7                 0.125000  \n",
              "19                0.000000  \n",
              "45                0.222222  \n",
              "55                0.250000  \n",
              "...                    ...  \n",
              "40260             0.444444  \n",
              "40277             0.000000  \n",
              "40281             0.200000  \n",
              "40283             0.000000  \n",
              "40298             0.000000  \n",
              "\n",
              "[2831 rows x 6 columns]"
            ],
            "text/html": [
              "\n",
              "  <div id=\"df-32ec5f8a-dcc6-48e1-9345-359c7d86e174\">\n",
              "    <div class=\"colab-df-container\">\n",
              "      <div>\n",
              "<style scoped>\n",
              "    .dataframe tbody tr th:only-of-type {\n",
              "        vertical-align: middle;\n",
              "    }\n",
              "\n",
              "    .dataframe tbody tr th {\n",
              "        vertical-align: top;\n",
              "    }\n",
              "\n",
              "    .dataframe thead th {\n",
              "        text-align: right;\n",
              "    }\n",
              "</style>\n",
              "<table border=\"1\" class=\"dataframe\">\n",
              "  <thead>\n",
              "    <tr style=\"text-align: right;\">\n",
              "      <th></th>\n",
              "      <th>PersonID</th>\n",
              "      <th>Sex</th>\n",
              "      <th>Perceived_Race</th>\n",
              "      <th>Num_of_Arrests</th>\n",
              "      <th>Num_of_Strip_Searches</th>\n",
              "      <th>Strip_Searched_Prop</th>\n",
              "    </tr>\n",
              "  </thead>\n",
              "  <tbody>\n",
              "    <tr>\n",
              "      <th>3</th>\n",
              "      <td>300003</td>\n",
              "      <td>M</td>\n",
              "      <td>White</td>\n",
              "      <td>8</td>\n",
              "      <td>1.0</td>\n",
              "      <td>0.125000</td>\n",
              "    </tr>\n",
              "    <tr>\n",
              "      <th>7</th>\n",
              "      <td>300007</td>\n",
              "      <td>M</td>\n",
              "      <td>South Asian</td>\n",
              "      <td>8</td>\n",
              "      <td>1.0</td>\n",
              "      <td>0.125000</td>\n",
              "    </tr>\n",
              "    <tr>\n",
              "      <th>19</th>\n",
              "      <td>300019</td>\n",
              "      <td>F</td>\n",
              "      <td>White</td>\n",
              "      <td>4</td>\n",
              "      <td>0.0</td>\n",
              "      <td>0.000000</td>\n",
              "    </tr>\n",
              "    <tr>\n",
              "      <th>45</th>\n",
              "      <td>300043</td>\n",
              "      <td>M</td>\n",
              "      <td>White</td>\n",
              "      <td>9</td>\n",
              "      <td>2.0</td>\n",
              "      <td>0.222222</td>\n",
              "    </tr>\n",
              "    <tr>\n",
              "      <th>55</th>\n",
              "      <td>300053</td>\n",
              "      <td>M</td>\n",
              "      <td>White</td>\n",
              "      <td>4</td>\n",
              "      <td>1.0</td>\n",
              "      <td>0.250000</td>\n",
              "    </tr>\n",
              "    <tr>\n",
              "      <th>...</th>\n",
              "      <td>...</td>\n",
              "      <td>...</td>\n",
              "      <td>...</td>\n",
              "      <td>...</td>\n",
              "      <td>...</td>\n",
              "      <td>...</td>\n",
              "    </tr>\n",
              "    <tr>\n",
              "      <th>40260</th>\n",
              "      <td>337310</td>\n",
              "      <td>M</td>\n",
              "      <td>White</td>\n",
              "      <td>9</td>\n",
              "      <td>4.0</td>\n",
              "      <td>0.444444</td>\n",
              "    </tr>\n",
              "    <tr>\n",
              "      <th>40277</th>\n",
              "      <td>337325</td>\n",
              "      <td>F</td>\n",
              "      <td>White</td>\n",
              "      <td>6</td>\n",
              "      <td>0.0</td>\n",
              "      <td>0.000000</td>\n",
              "    </tr>\n",
              "    <tr>\n",
              "      <th>40281</th>\n",
              "      <td>337328</td>\n",
              "      <td>M</td>\n",
              "      <td>Black</td>\n",
              "      <td>5</td>\n",
              "      <td>1.0</td>\n",
              "      <td>0.200000</td>\n",
              "    </tr>\n",
              "    <tr>\n",
              "      <th>40283</th>\n",
              "      <td>337329</td>\n",
              "      <td>M</td>\n",
              "      <td>Black</td>\n",
              "      <td>4</td>\n",
              "      <td>0.0</td>\n",
              "      <td>0.000000</td>\n",
              "    </tr>\n",
              "    <tr>\n",
              "      <th>40298</th>\n",
              "      <td>337342</td>\n",
              "      <td>M</td>\n",
              "      <td>White</td>\n",
              "      <td>5</td>\n",
              "      <td>0.0</td>\n",
              "      <td>0.000000</td>\n",
              "    </tr>\n",
              "  </tbody>\n",
              "</table>\n",
              "<p>2831 rows × 6 columns</p>\n",
              "</div>\n",
              "      <button class=\"colab-df-convert\" onclick=\"convertToInteractive('df-32ec5f8a-dcc6-48e1-9345-359c7d86e174')\"\n",
              "              title=\"Convert this dataframe to an interactive table.\"\n",
              "              style=\"display:none;\">\n",
              "        \n",
              "  <svg xmlns=\"http://www.w3.org/2000/svg\" height=\"24px\"viewBox=\"0 0 24 24\"\n",
              "       width=\"24px\">\n",
              "    <path d=\"M0 0h24v24H0V0z\" fill=\"none\"/>\n",
              "    <path d=\"M18.56 5.44l.94 2.06.94-2.06 2.06-.94-2.06-.94-.94-2.06-.94 2.06-2.06.94zm-11 1L8.5 8.5l.94-2.06 2.06-.94-2.06-.94L8.5 2.5l-.94 2.06-2.06.94zm10 10l.94 2.06.94-2.06 2.06-.94-2.06-.94-.94-2.06-.94 2.06-2.06.94z\"/><path d=\"M17.41 7.96l-1.37-1.37c-.4-.4-.92-.59-1.43-.59-.52 0-1.04.2-1.43.59L10.3 9.45l-7.72 7.72c-.78.78-.78 2.05 0 2.83L4 21.41c.39.39.9.59 1.41.59.51 0 1.02-.2 1.41-.59l7.78-7.78 2.81-2.81c.8-.78.8-2.07 0-2.86zM5.41 20L4 18.59l7.72-7.72 1.47 1.35L5.41 20z\"/>\n",
              "  </svg>\n",
              "      </button>\n",
              "      \n",
              "  <style>\n",
              "    .colab-df-container {\n",
              "      display:flex;\n",
              "      flex-wrap:wrap;\n",
              "      gap: 12px;\n",
              "    }\n",
              "\n",
              "    .colab-df-convert {\n",
              "      background-color: #E8F0FE;\n",
              "      border: none;\n",
              "      border-radius: 50%;\n",
              "      cursor: pointer;\n",
              "      display: none;\n",
              "      fill: #1967D2;\n",
              "      height: 32px;\n",
              "      padding: 0 0 0 0;\n",
              "      width: 32px;\n",
              "    }\n",
              "\n",
              "    .colab-df-convert:hover {\n",
              "      background-color: #E2EBFA;\n",
              "      box-shadow: 0px 1px 2px rgba(60, 64, 67, 0.3), 0px 1px 3px 1px rgba(60, 64, 67, 0.15);\n",
              "      fill: #174EA6;\n",
              "    }\n",
              "\n",
              "    [theme=dark] .colab-df-convert {\n",
              "      background-color: #3B4455;\n",
              "      fill: #D2E3FC;\n",
              "    }\n",
              "\n",
              "    [theme=dark] .colab-df-convert:hover {\n",
              "      background-color: #434B5C;\n",
              "      box-shadow: 0px 1px 3px 1px rgba(0, 0, 0, 0.15);\n",
              "      filter: drop-shadow(0px 1px 2px rgba(0, 0, 0, 0.3));\n",
              "      fill: #FFFFFF;\n",
              "    }\n",
              "  </style>\n",
              "\n",
              "      <script>\n",
              "        const buttonEl =\n",
              "          document.querySelector('#df-32ec5f8a-dcc6-48e1-9345-359c7d86e174 button.colab-df-convert');\n",
              "        buttonEl.style.display =\n",
              "          google.colab.kernel.accessAllowed ? 'block' : 'none';\n",
              "\n",
              "        async function convertToInteractive(key) {\n",
              "          const element = document.querySelector('#df-32ec5f8a-dcc6-48e1-9345-359c7d86e174');\n",
              "          const dataTable =\n",
              "            await google.colab.kernel.invokeFunction('convertToInteractive',\n",
              "                                                     [key], {});\n",
              "          if (!dataTable) return;\n",
              "\n",
              "          const docLinkHtml = 'Like what you see? Visit the ' +\n",
              "            '<a target=\"_blank\" href=https://colab.research.google.com/notebooks/data_table.ipynb>data table notebook</a>'\n",
              "            + ' to learn more about interactive tables.';\n",
              "          element.innerHTML = '';\n",
              "          dataTable['output_type'] = 'display_data';\n",
              "          await google.colab.output.renderOutput(dataTable, element);\n",
              "          const docLink = document.createElement('div');\n",
              "          docLink.innerHTML = docLinkHtml;\n",
              "          element.appendChild(docLink);\n",
              "        }\n",
              "      </script>\n",
              "    </div>\n",
              "  </div>\n",
              "  "
            ]
          },
          "metadata": {},
          "execution_count": 153
        }
      ]
    },
    {
      "cell_type": "code",
      "source": [
        "# Remove outliers\n",
        "remove_outliers = count_morethan3[(count_morethan3['Num_of_Arrests'] > lower_bound) | (count_morethan3['Num_of_Arrests'] < upper_bound)]\n",
        "avg_number_of_arrests_by_race = remove_outliers.groupby('Perceived_Race')['Num_of_Arrests'].mean().sort_values(ascending=False)\n",
        "avg_number_of_arrests_by_race"
      ],
      "metadata": {
        "colab": {
          "base_uri": "https://localhost:8080/"
        },
        "id": "6EJK2gwo6cPg",
        "outputId": "356eef63-f2da-414d-be82-4280971aa756"
      },
      "execution_count": null,
      "outputs": [
        {
          "output_type": "execute_result",
          "data": {
            "text/plain": [
              "Perceived_Race\n",
              "Indigenous              6.914894\n",
              "White                   6.768672\n",
              "Black                   6.409314\n",
              "Middle-Eastern          5.806452\n",
              "South Asian             5.757143\n",
              "East/Southeast Asian    5.546392\n",
              "Latino                  5.339623\n",
              "Unknown or Legacy       4.854167\n",
              "Name: Num_of_Arrests, dtype: float64"
            ]
          },
          "metadata": {},
          "execution_count": 154
        }
      ]
    },
    {
      "cell_type": "code",
      "source": [
        "# number_of_arrest > 11\n",
        "outliers = count_morethan3[(count_morethan3['Num_of_Arrests'] < lower_bound) | (count_morethan3['Num_of_Arrests'] > upper_bound)]\n",
        "avg_number_of_arrests_by_race = outliers.groupby('Perceived_Race')['Num_of_Arrests'].mean().sort_values(ascending=False)\n",
        "avg_number_of_arrests_by_race"
      ],
      "metadata": {
        "colab": {
          "base_uri": "https://localhost:8080/"
        },
        "id": "tolpcmqW-ksh",
        "outputId": "9ccd5ae4-1580-4c19-a1c9-09c717622413"
      },
      "execution_count": null,
      "outputs": [
        {
          "output_type": "execute_result",
          "data": {
            "text/plain": [
              "Perceived_Race\n",
              "Indigenous              19.545455\n",
              "Black                   17.112903\n",
              "White                   16.458904\n",
              "East/Southeast Asian    14.500000\n",
              "Latino                  14.000000\n",
              "South Asian             12.666667\n",
              "Middle-Eastern          12.000000\n",
              "Name: Num_of_Arrests, dtype: float64"
            ]
          },
          "metadata": {},
          "execution_count": 155
        }
      ]
    },
    {
      "cell_type": "code",
      "source": [
        "# Welch's t-test Sex & Score\n",
        "Male_number_of_arrest = count_morethan3.loc[count_morethan3['Sex'] == 'M', 'Num_of_Arrests']\n",
        "Female_number_of_arrest = count_morethan3.loc[count_morethan3['Sex'] == 'F', 'Num_of_Arrests']\n",
        "print(ttest_ind(Male_number_of_arrest, Female_number_of_arrest, equal_var=False))"
      ],
      "metadata": {
        "colab": {
          "base_uri": "https://localhost:8080/"
        },
        "id": "G1UOtc6g5kGn",
        "outputId": "8dbdaf8d-e4f7-4319-82bc-c6bc4af99ef7"
      },
      "execution_count": null,
      "outputs": [
        {
          "output_type": "stream",
          "name": "stdout",
          "text": [
            "Ttest_indResult(statistic=-1.2369755332780836, pvalue=0.21648993226456623)\n"
          ]
        }
      ]
    },
    {
      "cell_type": "markdown",
      "source": [
        "# Number of Arrests by Quarter"
      ],
      "metadata": {
        "id": "YWKScDLhwbj6"
      }
    },
    {
      "cell_type": "code",
      "source": [
        "# Combine the two columns into a new column\n",
        "df = df[df['Arrest_Year'] != 1]\n",
        "df['Arrest_YearQuarter'] = df.apply(lambda x: str(x['Arrest_Year']) + ' ' + str(x['Arrest_Month']), axis=1)\n",
        "#category_counts = df.groupby('Arrest_YearQuarter').count()\n",
        "counts = df.groupby('Arrest_YearQuarter').size().reset_index(name='Count')\n",
        "counts"
      ],
      "metadata": {
        "colab": {
          "base_uri": "https://localhost:8080/",
          "height": 300
        },
        "id": "Upk5P6TcJMwi",
        "outputId": "fa55624f-09ae-4530-9f20-fe8a5cf6ef11"
      },
      "execution_count": null,
      "outputs": [
        {
          "output_type": "execute_result",
          "data": {
            "text/plain": [
              "  Arrest_YearQuarter  Count\n",
              "0      2020 Apr-June   6919\n",
              "1       2020 Jan-Mar   9509\n",
              "2     2020 July-Sept   8310\n",
              "3       2020 Oct-Dec   7222\n",
              "4      2021 Apr-June   8235\n",
              "5       2021 Jan-Mar   8086\n",
              "6     2021 July-Sept   8434\n",
              "7       2021 Oct-Dec   8359"
            ],
            "text/html": [
              "\n",
              "  <div id=\"df-288290f4-9eff-44df-9c85-f54b38f21c4c\">\n",
              "    <div class=\"colab-df-container\">\n",
              "      <div>\n",
              "<style scoped>\n",
              "    .dataframe tbody tr th:only-of-type {\n",
              "        vertical-align: middle;\n",
              "    }\n",
              "\n",
              "    .dataframe tbody tr th {\n",
              "        vertical-align: top;\n",
              "    }\n",
              "\n",
              "    .dataframe thead th {\n",
              "        text-align: right;\n",
              "    }\n",
              "</style>\n",
              "<table border=\"1\" class=\"dataframe\">\n",
              "  <thead>\n",
              "    <tr style=\"text-align: right;\">\n",
              "      <th></th>\n",
              "      <th>Arrest_YearQuarter</th>\n",
              "      <th>Count</th>\n",
              "    </tr>\n",
              "  </thead>\n",
              "  <tbody>\n",
              "    <tr>\n",
              "      <th>0</th>\n",
              "      <td>2020 Apr-June</td>\n",
              "      <td>6919</td>\n",
              "    </tr>\n",
              "    <tr>\n",
              "      <th>1</th>\n",
              "      <td>2020 Jan-Mar</td>\n",
              "      <td>9509</td>\n",
              "    </tr>\n",
              "    <tr>\n",
              "      <th>2</th>\n",
              "      <td>2020 July-Sept</td>\n",
              "      <td>8310</td>\n",
              "    </tr>\n",
              "    <tr>\n",
              "      <th>3</th>\n",
              "      <td>2020 Oct-Dec</td>\n",
              "      <td>7222</td>\n",
              "    </tr>\n",
              "    <tr>\n",
              "      <th>4</th>\n",
              "      <td>2021 Apr-June</td>\n",
              "      <td>8235</td>\n",
              "    </tr>\n",
              "    <tr>\n",
              "      <th>5</th>\n",
              "      <td>2021 Jan-Mar</td>\n",
              "      <td>8086</td>\n",
              "    </tr>\n",
              "    <tr>\n",
              "      <th>6</th>\n",
              "      <td>2021 July-Sept</td>\n",
              "      <td>8434</td>\n",
              "    </tr>\n",
              "    <tr>\n",
              "      <th>7</th>\n",
              "      <td>2021 Oct-Dec</td>\n",
              "      <td>8359</td>\n",
              "    </tr>\n",
              "  </tbody>\n",
              "</table>\n",
              "</div>\n",
              "      <button class=\"colab-df-convert\" onclick=\"convertToInteractive('df-288290f4-9eff-44df-9c85-f54b38f21c4c')\"\n",
              "              title=\"Convert this dataframe to an interactive table.\"\n",
              "              style=\"display:none;\">\n",
              "        \n",
              "  <svg xmlns=\"http://www.w3.org/2000/svg\" height=\"24px\"viewBox=\"0 0 24 24\"\n",
              "       width=\"24px\">\n",
              "    <path d=\"M0 0h24v24H0V0z\" fill=\"none\"/>\n",
              "    <path d=\"M18.56 5.44l.94 2.06.94-2.06 2.06-.94-2.06-.94-.94-2.06-.94 2.06-2.06.94zm-11 1L8.5 8.5l.94-2.06 2.06-.94-2.06-.94L8.5 2.5l-.94 2.06-2.06.94zm10 10l.94 2.06.94-2.06 2.06-.94-2.06-.94-.94-2.06-.94 2.06-2.06.94z\"/><path d=\"M17.41 7.96l-1.37-1.37c-.4-.4-.92-.59-1.43-.59-.52 0-1.04.2-1.43.59L10.3 9.45l-7.72 7.72c-.78.78-.78 2.05 0 2.83L4 21.41c.39.39.9.59 1.41.59.51 0 1.02-.2 1.41-.59l7.78-7.78 2.81-2.81c.8-.78.8-2.07 0-2.86zM5.41 20L4 18.59l7.72-7.72 1.47 1.35L5.41 20z\"/>\n",
              "  </svg>\n",
              "      </button>\n",
              "      \n",
              "  <style>\n",
              "    .colab-df-container {\n",
              "      display:flex;\n",
              "      flex-wrap:wrap;\n",
              "      gap: 12px;\n",
              "    }\n",
              "\n",
              "    .colab-df-convert {\n",
              "      background-color: #E8F0FE;\n",
              "      border: none;\n",
              "      border-radius: 50%;\n",
              "      cursor: pointer;\n",
              "      display: none;\n",
              "      fill: #1967D2;\n",
              "      height: 32px;\n",
              "      padding: 0 0 0 0;\n",
              "      width: 32px;\n",
              "    }\n",
              "\n",
              "    .colab-df-convert:hover {\n",
              "      background-color: #E2EBFA;\n",
              "      box-shadow: 0px 1px 2px rgba(60, 64, 67, 0.3), 0px 1px 3px 1px rgba(60, 64, 67, 0.15);\n",
              "      fill: #174EA6;\n",
              "    }\n",
              "\n",
              "    [theme=dark] .colab-df-convert {\n",
              "      background-color: #3B4455;\n",
              "      fill: #D2E3FC;\n",
              "    }\n",
              "\n",
              "    [theme=dark] .colab-df-convert:hover {\n",
              "      background-color: #434B5C;\n",
              "      box-shadow: 0px 1px 3px 1px rgba(0, 0, 0, 0.15);\n",
              "      filter: drop-shadow(0px 1px 2px rgba(0, 0, 0, 0.3));\n",
              "      fill: #FFFFFF;\n",
              "    }\n",
              "  </style>\n",
              "\n",
              "      <script>\n",
              "        const buttonEl =\n",
              "          document.querySelector('#df-288290f4-9eff-44df-9c85-f54b38f21c4c button.colab-df-convert');\n",
              "        buttonEl.style.display =\n",
              "          google.colab.kernel.accessAllowed ? 'block' : 'none';\n",
              "\n",
              "        async function convertToInteractive(key) {\n",
              "          const element = document.querySelector('#df-288290f4-9eff-44df-9c85-f54b38f21c4c');\n",
              "          const dataTable =\n",
              "            await google.colab.kernel.invokeFunction('convertToInteractive',\n",
              "                                                     [key], {});\n",
              "          if (!dataTable) return;\n",
              "\n",
              "          const docLinkHtml = 'Like what you see? Visit the ' +\n",
              "            '<a target=\"_blank\" href=https://colab.research.google.com/notebooks/data_table.ipynb>data table notebook</a>'\n",
              "            + ' to learn more about interactive tables.';\n",
              "          element.innerHTML = '';\n",
              "          dataTable['output_type'] = 'display_data';\n",
              "          await google.colab.output.renderOutput(dataTable, element);\n",
              "          const docLink = document.createElement('div');\n",
              "          docLink.innerHTML = docLinkHtml;\n",
              "          element.appendChild(docLink);\n",
              "        }\n",
              "      </script>\n",
              "    </div>\n",
              "  </div>\n",
              "  "
            ]
          },
          "metadata": {},
          "execution_count": 157
        }
      ]
    },
    {
      "cell_type": "code",
      "source": [
        "print(counts['Arrest_YearQuarter'].unique())\n",
        "\n",
        "# Define the order\n",
        "order = ['2020 Jan-Mar', '2020 Apr-June', '2020 July-Sept', '2020 Oct-Dec',\n",
        "         '2021 Jan-Mar', '2021 Apr-June', '2021 July-Sept', '2021 Oct-Dec']\n",
        "  \n",
        "\n",
        "# Create a categorical variable with the desired order\n",
        "counts['Arrest_YearQuarter'] = pd.Categorical(counts['Arrest_YearQuarter'], categories=order, ordered=True)\n",
        "\n",
        "# Sort the data\n",
        "counts = counts.sort_values('Arrest_YearQuarter')\n",
        "\n",
        "# Create a bar plot\n",
        "counts.plot(kind='bar', x='Arrest_YearQuarter', y='Count')\n",
        "\n",
        "# Add labels and title\n",
        "plt.xlabel('Time')\n",
        "plt.ylabel('Quarter')\n",
        "plt.title('Counts by Quarter')\n"
      ],
      "metadata": {
        "colab": {
          "base_uri": "https://localhost:8080/",
          "height": 412
        },
        "id": "Y1U-4u75W5cd",
        "outputId": "5e1127f0-a2d0-44ba-9282-a206ee56e19e"
      },
      "execution_count": null,
      "outputs": [
        {
          "output_type": "stream",
          "name": "stdout",
          "text": [
            "['2020 Apr-June' '2020 Jan-Mar' '2020 July-Sept' '2020 Oct-Dec'\n",
            " '2021 Apr-June' '2021 Jan-Mar' '2021 July-Sept' '2021 Oct-Dec']\n"
          ]
        },
        {
          "output_type": "execute_result",
          "data": {
            "text/plain": [
              "Text(0.5, 1.0, 'Counts by Quarter')"
            ]
          },
          "metadata": {},
          "execution_count": 158
        },
        {
          "output_type": "display_data",
          "data": {
            "text/plain": [
              "<Figure size 432x288 with 1 Axes>"
            ],
            "image/png": "[encoded data removed]"
          },
          "metadata": {
            "needs_background": "light"
          }
        }
      ]
    }
  ]
}