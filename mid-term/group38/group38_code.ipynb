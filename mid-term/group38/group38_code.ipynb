{
  "cells": [
    {
      "cell_type": "markdown",
      "metadata": {
        "id": "view-in-github",
        "colab_type": "text"
      },
      "source": [
        "<a href=\"https://colab.research.google.com/github/karriechou/inf2178-expdesignfordatascience-w23/blob/main/mid-term/group38/group38_code.ipynb\" target=\"_parent\"><img src=\"https://colab.research.google.com/assets/colab-badge.svg\" alt=\"Open In Colab\"/></a>"
      ]
    },
    {
      "cell_type": "code",
      "execution_count": null,
      "metadata": {
        "id": "ywkyosyCl_b8"
      },
      "outputs": [],
      "source": [
        "import pandas as pd\n",
        "import numpy as np"
      ]
    },
    {
      "cell_type": "markdown",
      "metadata": {
        "id": "CDxiVqJ8D4nK"
      },
      "source": [
        "# Data Preprocessing and Cleaning"
      ]
    },
    {
      "cell_type": "code",
      "execution_count": null,
      "metadata": {
        "id": "0Ufb4Yt6lcVW"
      },
      "outputs": [],
      "source": [
        "def test_na_num(df):\n",
        "    for column in df:\n",
        "        print(sum(df[column].isna()), column)"
      ]
    },
    {
      "cell_type": "code",
      "execution_count": null,
      "metadata": {
        "id": "Rzs6mxyA2KGj"
      },
      "outputs": [],
      "source": [
        "data = pd.read_csv(\"Arrests_and_Strip_Searches_(RBDC-ARR-TBL-001).csv\")"
      ]
    },
    {
      "cell_type": "code",
      "execution_count": null,
      "metadata": {
        "colab": {
          "base_uri": "https://localhost:8080/"
        },
        "id": "GOyLMSWycpXV",
        "outputId": "26110a9f-fb0a-4334-db15-7439a66c9360"
      },
      "outputs": [
        {
          "output_type": "stream",
          "name": "stdout",
          "text": [
            "0 Arrest_Year\n",
            "0 Arrest_Month\n",
            "0 EventID\n",
            "469 ArrestID\n",
            "0 PersonID\n",
            "4 Perceived_Race\n",
            "0 Sex\n",
            "24 Age_group__at_arrest_\n",
            "0 Youth_at_arrest__under_18_years\n",
            "0 ArrestLocDiv\n",
            "0 StripSearch\n",
            "0 Booked\n",
            "165 Occurrence_Category\n",
            "0 Actions_at_arrest___Concealed_i\n",
            "0 Actions_at_arrest___Combative__\n",
            "0 Actions_at_arrest___Resisted__d\n",
            "0 Actions_at_arrest___Mental_inst\n",
            "0 Actions_at_arrest___Assaulted_o\n",
            "0 Actions_at_arrest___Cooperative\n",
            "57475 SearchReason_CauseInjury\n",
            "57475 SearchReason_AssistEscape\n",
            "57475 SearchReason_PossessWeapons\n",
            "57475 SearchReason_PossessEvidence\n",
            "57475 ItemsFound\n",
            "0 ObjectId\n"
          ]
        }
      ],
      "source": [
        "test_na_num(data)"
      ]
    },
    {
      "cell_type": "code",
      "execution_count": null,
      "metadata": {
        "colab": {
          "base_uri": "https://localhost:8080/"
        },
        "id": "cV3YknK52WL3",
        "outputId": "77e1d694-10fe-465c-b2ff-d9967768782c"
      },
      "outputs": [
        {
          "output_type": "stream",
          "name": "stdout",
          "text": [
            "Arrest_Year\n",
            "Arrest_Month\n",
            "EventID\n",
            "ArrestID\n",
            "PersonID\n",
            "Perceived_Race\n",
            "Sex\n",
            "Age_group__at_arrest_\n",
            "Youth_at_arrest__under_18_years\n",
            "ArrestLocDiv\n",
            "StripSearch\n",
            "Booked\n",
            "Occurrence_Category\n",
            "Actions_at_arrest___Concealed_i\n",
            "Actions_at_arrest___Combative__\n",
            "Actions_at_arrest___Resisted__d\n",
            "Actions_at_arrest___Mental_inst\n",
            "Actions_at_arrest___Assaulted_o\n",
            "Actions_at_arrest___Cooperative\n",
            "SearchReason_CauseInjury\n",
            "SearchReason_AssistEscape\n",
            "SearchReason_PossessWeapons\n",
            "SearchReason_PossessEvidence\n",
            "ItemsFound\n",
            "ObjectId\n",
            "0 Arrest_Year\n",
            "0 Arrest_Month\n",
            "0 EventID\n",
            "469 ArrestID\n",
            "0 PersonID\n",
            "4 Perceived_Race\n",
            "0 Sex\n",
            "24 Age_group__at_arrest_\n",
            "0 Youth_at_arrest__under_18_years\n",
            "0 ArrestLocDiv\n",
            "0 StripSearch\n",
            "0 Booked\n",
            "165 Occurrence_Category\n",
            "0 Actions_at_arrest___Concealed_i\n",
            "0 Actions_at_arrest___Combative__\n",
            "0 Actions_at_arrest___Resisted__d\n",
            "0 Actions_at_arrest___Mental_inst\n",
            "0 Actions_at_arrest___Assaulted_o\n",
            "0 Actions_at_arrest___Cooperative\n",
            "57475 SearchReason_CauseInjury\n",
            "57475 SearchReason_AssistEscape\n",
            "57475 SearchReason_PossessWeapons\n",
            "57475 SearchReason_PossessEvidence\n",
            "57475 ItemsFound\n",
            "0 ObjectId\n"
          ]
        }
      ],
      "source": [
        "data[0:5] # viewing data before pre-processing and cleaning\n",
        "for feature in data.columns:\n",
        "  print(feature)\n",
        "\n",
        "test_na_num(data)"
      ]
    },
    {
      "cell_type": "code",
      "execution_count": null,
      "metadata": {
        "id": "c2eFoN94cpXW"
      },
      "outputs": [],
      "source": [
        "data=data.dropna(subset=['ArrestID','Age_group__at_arrest_','Perceived_Race','Occurrence_Category'])\n",
        "data=data.fillna(0)"
      ]
    },
    {
      "cell_type": "code",
      "execution_count": null,
      "metadata": {
        "colab": {
          "base_uri": "https://localhost:8080/"
        },
        "id": "qYdLRmdtcpXX",
        "outputId": "12eabb4e-a949-404b-f048-32ded1dbc50c"
      },
      "outputs": [
        {
          "output_type": "stream",
          "name": "stdout",
          "text": [
            "0 Arrest_Year\n",
            "0 Arrest_Month\n",
            "0 EventID\n",
            "0 ArrestID\n",
            "0 PersonID\n",
            "0 Perceived_Race\n",
            "0 Sex\n",
            "0 Age_group__at_arrest_\n",
            "0 Youth_at_arrest__under_18_years\n",
            "0 ArrestLocDiv\n",
            "0 StripSearch\n",
            "0 Booked\n",
            "0 Occurrence_Category\n",
            "0 Actions_at_arrest___Concealed_i\n",
            "0 Actions_at_arrest___Combative__\n",
            "0 Actions_at_arrest___Resisted__d\n",
            "0 Actions_at_arrest___Mental_inst\n",
            "0 Actions_at_arrest___Assaulted_o\n",
            "0 Actions_at_arrest___Cooperative\n",
            "0 SearchReason_CauseInjury\n",
            "0 SearchReason_AssistEscape\n",
            "0 SearchReason_PossessWeapons\n",
            "0 SearchReason_PossessEvidence\n",
            "0 ItemsFound\n",
            "0 ObjectId\n"
          ]
        }
      ],
      "source": [
        "test_na_num(data)"
      ]
    },
    {
      "cell_type": "code",
      "execution_count": null,
      "metadata": {
        "id": "e7DmZ_cLcpXX"
      },
      "outputs": [],
      "source": [
        "# rearrange searchreasons, the attributes contains 5 values, 0 means no search reason, 1 means one search reason, etc.\n",
        "data['SearchReason']=data['SearchReason_CauseInjury']+data['SearchReason_AssistEscape']+data['SearchReason_PossessWeapons']+data['SearchReason_PossessEvidence']"
      ]
    },
    {
      "cell_type": "code",
      "execution_count": null,
      "metadata": {
        "id": "bgsu2WYUcpXY"
      },
      "outputs": [],
      "source": [
        "# exchange 0 and 1, 0 means cooperative, 1 means otherwise.\n",
        "data['Actions_at_arrest___Cooperative'] = data['Actions_at_arrest___Cooperative'].replace({0: 1, 1: 0})"
      ]
    },
    {
      "cell_type": "code",
      "execution_count": null,
      "metadata": {
        "id": "ZcctAkdecpXY"
      },
      "outputs": [],
      "source": [
        "# rearrange action at arrest, the attributes contains 4 values, 0 means cooperative, 1 means have one action that is not cooperative, etc.\n",
        "data['Actions_at_arrest']=data['Actions_at_arrest___Concealed_i']+data['Actions_at_arrest___Combative__']+data['Actions_at_arrest___Resisted__d']+data['Actions_at_arrest___Mental_inst']+data['Actions_at_arrest___Assaulted_o']+data['Actions_at_arrest___Cooperative']"
      ]
    },
    {
      "cell_type": "code",
      "execution_count": null,
      "metadata": {
        "id": "vdlsKp7UcpXZ",
        "outputId": "dad5ba4c-39b8-48cd-b649-0938daab599b",
        "colab": {
          "base_uri": "https://localhost:8080/"
        }
      },
      "outputs": [
        {
          "output_type": "execute_result",
          "data": {
            "text/plain": [
              "array(['Assault & Other crimes against persons', 'Harassment/Threatening',\n",
              "       'FTA/FTC/Compliance Check/Parollee', 'Assault', 'Robbery/Theft',\n",
              "       'Sexual Related Crime', 'Mischief & Fraud', 'Warrant',\n",
              "       'Police Category - Administrative',\n",
              "       'FTA/FTC, Compliance Check & Parollee', 'Drug Related', 'Weapons',\n",
              "       'Vehicle Related (inc. Impaired)', 'Other Offence',\n",
              "       'Harassment & Threatening', 'Weapons & Homicide',\n",
              "       'Robbery & Theft', 'Break and Enter', 'Mischief', 'Break & Enter',\n",
              "       'Sexual Related Crimes & Crimes Against Children',\n",
              "       'Crimes against Children', 'Police Category - Incident', 'Fraud',\n",
              "       'LLA', 'Mental Health', 'Other Statute', 'Vehicle Related',\n",
              "       'Other Statute & Other Incident Type', 'Impaired', 'Homicide'],\n",
              "      dtype=object)"
            ]
          },
          "metadata": {},
          "execution_count": 14
        }
      ],
      "source": [
        "# from here, start to deal with Occurence_Category\n",
        "data['Occurrence_Category'].unique()"
      ]
    },
    {
      "cell_type": "code",
      "execution_count": null,
      "metadata": {
        "id": "VZSMfVPMo-OB"
      },
      "outputs": [],
      "source": [
        "dict_for_replace={'Assault & Other crimes against persons':0,\n",
        "                  'Assault':0,\n",
        "                 'Robbery & Theft':1,\n",
        "                 'Robbery/Theft':1,\n",
        "                 'Warrant':2,\n",
        "                 'FTA/FTC/Compliance Check/Parollee':3,\n",
        "                 'FTA/FTC, Compliance Check & Parollee':3,\n",
        "                 'Police Category - Administrative':4,\n",
        "                 'Drug Related':5}"
      ]
    },
    {
      "cell_type": "code",
      "execution_count": null,
      "metadata": {
        "id": "rBN5E6q4cpXZ"
      },
      "outputs": [],
      "source": [
        "data['Occurrence_Category']=data['Occurrence_Category'].replace(dict_for_replace)"
      ]
    },
    {
      "cell_type": "code",
      "execution_count": null,
      "metadata": {
        "colab": {
          "base_uri": "https://localhost:8080/"
        },
        "id": "nbT63tVYcpXZ",
        "outputId": "061de809-bcfe-4948-af35-07672560fae6"
      },
      "outputs": [
        {
          "output_type": "execute_result",
          "data": {
            "text/plain": [
              "0                             0\n",
              "1                             0\n",
              "2                             0\n",
              "3        Harassment/Threatening\n",
              "4                             3\n",
              "                  ...          \n",
              "65271           Vehicle Related\n",
              "65272                         0\n",
              "65273                         0\n",
              "65274                         1\n",
              "65275                  Mischief\n",
              "Name: Occurrence_Category, Length: 64615, dtype: object"
            ]
          },
          "metadata": {},
          "execution_count": 17
        }
      ],
      "source": [
        "data['Occurrence_Category']"
      ]
    },
    {
      "cell_type": "code",
      "execution_count": null,
      "metadata": {
        "id": "hX2o9_uXcpXa"
      },
      "outputs": [],
      "source": [
        "data['Occurrence_Category'] = data['Occurrence_Category'].where(data['Occurrence_Category'].isin(list(dict_for_replace.values()))==True, 6)\n",
        "# 7 means others"
      ]
    },
    {
      "cell_type": "code",
      "execution_count": null,
      "metadata": {
        "colab": {
          "base_uri": "https://localhost:8080/"
        },
        "id": "3GLbLPdFcpXa",
        "outputId": "c9577141-10e2-4faa-a3d7-d91c12238d91"
      },
      "outputs": [
        {
          "output_type": "execute_result",
          "data": {
            "text/plain": [
              "0        0\n",
              "1        0\n",
              "2        0\n",
              "3        6\n",
              "4        3\n",
              "        ..\n",
              "65271    6\n",
              "65272    0\n",
              "65273    0\n",
              "65274    1\n",
              "65275    6\n",
              "Name: Occurrence_Category, Length: 64615, dtype: object"
            ]
          },
          "metadata": {},
          "execution_count": 19
        }
      ],
      "source": [
        "data['Occurrence_Category']"
      ]
    },
    {
      "cell_type": "code",
      "execution_count": null,
      "metadata": {
        "id": "bG-RbeW_Coz4"
      },
      "outputs": [],
      "source": [
        "data = data[[\"Arrest_Year\", \"Arrest_Month\", \"Perceived_Race\", \"Sex\", \"Age_group__at_arrest_\", \"Youth_at_arrest__under_18_years\", \"StripSearch\",'Booked', \"Occurrence_Category\", \"ItemsFound\",\"SearchReason\",'Actions_at_arrest']]\n",
        "data = data.dropna(subset = [\"Perceived_Race\", \"Age_group__at_arrest_\", \"Occurrence_Category\"])\n"
      ]
    },
    {
      "cell_type": "code",
      "execution_count": null,
      "metadata": {
        "colab": {
          "base_uri": "https://localhost:8080/",
          "height": 287
        },
        "id": "QemuBwyOcpXa",
        "outputId": "c1a8da0f-0034-48f8-83dd-bed93f1ab60d"
      },
      "outputs": [
        {
          "output_type": "execute_result",
          "data": {
            "text/plain": [
              "   Arrest_Year Arrest_Month     Perceived_Race Sex Age_group__at_arrest_  \\\n",
              "0         2020    July-Sept              White   M   Aged 35 to 44 years   \n",
              "1         2020    July-Sept              White   M   Aged 35 to 44 years   \n",
              "2         2020      Oct-Dec  Unknown or Legacy   M   Aged 35 to 44 years   \n",
              "3         2021      Jan-Mar              Black   M   Aged 25 to 34 years   \n",
              "4         2021      Jan-Mar        South Asian   M   Aged 25 to 34 years   \n",
              "\n",
              "  Youth_at_arrest__under_18_years  StripSearch  Booked Occurrence_Category  \\\n",
              "0                     Not a youth            0       1                   0   \n",
              "1                     Not a youth            0       1                   0   \n",
              "2                     Not a youth            0       1                   0   \n",
              "3                     Not a youth            0       0                   6   \n",
              "4                     Not a youth            0       1                   3   \n",
              "\n",
              "   ItemsFound  SearchReason  Actions_at_arrest  \n",
              "0         0.0           0.0                  0  \n",
              "1         0.0           0.0                  1  \n",
              "2         0.0           0.0                  1  \n",
              "3         0.0           0.0                  1  \n",
              "4         0.0           0.0                  1  "
            ],
            "text/html": [
              "\n",
              "  <div id=\"df-75bce666-ea43-4674-9957-12afd9ed4938\">\n",
              "    <div class=\"colab-df-container\">\n",
              "      <div>\n",
              "<style scoped>\n",
              "    .dataframe tbody tr th:only-of-type {\n",
              "        vertical-align: middle;\n",
              "    }\n",
              "\n",
              "    .dataframe tbody tr th {\n",
              "        vertical-align: top;\n",
              "    }\n",
              "\n",
              "    .dataframe thead th {\n",
              "        text-align: right;\n",
              "    }\n",
              "</style>\n",
              "<table border=\"1\" class=\"dataframe\">\n",
              "  <thead>\n",
              "    <tr style=\"text-align: right;\">\n",
              "      <th></th>\n",
              "      <th>Arrest_Year</th>\n",
              "      <th>Arrest_Month</th>\n",
              "      <th>Perceived_Race</th>\n",
              "      <th>Sex</th>\n",
              "      <th>Age_group__at_arrest_</th>\n",
              "      <th>Youth_at_arrest__under_18_years</th>\n",
              "      <th>StripSearch</th>\n",
              "      <th>Booked</th>\n",
              "      <th>Occurrence_Category</th>\n",
              "      <th>ItemsFound</th>\n",
              "      <th>SearchReason</th>\n",
              "      <th>Actions_at_arrest</th>\n",
              "    </tr>\n",
              "  </thead>\n",
              "  <tbody>\n",
              "    <tr>\n",
              "      <th>0</th>\n",
              "      <td>2020</td>\n",
              "      <td>July-Sept</td>\n",
              "      <td>White</td>\n",
              "      <td>M</td>\n",
              "      <td>Aged 35 to 44 years</td>\n",
              "      <td>Not a youth</td>\n",
              "      <td>0</td>\n",
              "      <td>1</td>\n",
              "      <td>0</td>\n",
              "      <td>0.0</td>\n",
              "      <td>0.0</td>\n",
              "      <td>0</td>\n",
              "    </tr>\n",
              "    <tr>\n",
              "      <th>1</th>\n",
              "      <td>2020</td>\n",
              "      <td>July-Sept</td>\n",
              "      <td>White</td>\n",
              "      <td>M</td>\n",
              "      <td>Aged 35 to 44 years</td>\n",
              "      <td>Not a youth</td>\n",
              "      <td>0</td>\n",
              "      <td>1</td>\n",
              "      <td>0</td>\n",
              "      <td>0.0</td>\n",
              "      <td>0.0</td>\n",
              "      <td>1</td>\n",
              "    </tr>\n",
              "    <tr>\n",
              "      <th>2</th>\n",
              "      <td>2020</td>\n",
              "      <td>Oct-Dec</td>\n",
              "      <td>Unknown or Legacy</td>\n",
              "      <td>M</td>\n",
              "      <td>Aged 35 to 44 years</td>\n",
              "      <td>Not a youth</td>\n",
              "      <td>0</td>\n",
              "      <td>1</td>\n",
              "      <td>0</td>\n",
              "      <td>0.0</td>\n",
              "      <td>0.0</td>\n",
              "      <td>1</td>\n",
              "    </tr>\n",
              "    <tr>\n",
              "      <th>3</th>\n",
              "      <td>2021</td>\n",
              "      <td>Jan-Mar</td>\n",
              "      <td>Black</td>\n",
              "      <td>M</td>\n",
              "      <td>Aged 25 to 34 years</td>\n",
              "      <td>Not a youth</td>\n",
              "      <td>0</td>\n",
              "      <td>0</td>\n",
              "      <td>6</td>\n",
              "      <td>0.0</td>\n",
              "      <td>0.0</td>\n",
              "      <td>1</td>\n",
              "    </tr>\n",
              "    <tr>\n",
              "      <th>4</th>\n",
              "      <td>2021</td>\n",
              "      <td>Jan-Mar</td>\n",
              "      <td>South Asian</td>\n",
              "      <td>M</td>\n",
              "      <td>Aged 25 to 34 years</td>\n",
              "      <td>Not a youth</td>\n",
              "      <td>0</td>\n",
              "      <td>1</td>\n",
              "      <td>3</td>\n",
              "      <td>0.0</td>\n",
              "      <td>0.0</td>\n",
              "      <td>1</td>\n",
              "    </tr>\n",
              "  </tbody>\n",
              "</table>\n",
              "</div>\n",
              "      <button class=\"colab-df-convert\" onclick=\"convertToInteractive('df-75bce666-ea43-4674-9957-12afd9ed4938')\"\n",
              "              title=\"Convert this dataframe to an interactive table.\"\n",
              "              style=\"display:none;\">\n",
              "        \n",
              "  <svg xmlns=\"http://www.w3.org/2000/svg\" height=\"24px\"viewBox=\"0 0 24 24\"\n",
              "       width=\"24px\">\n",
              "    <path d=\"M0 0h24v24H0V0z\" fill=\"none\"/>\n",
              "    <path d=\"M18.56 5.44l.94 2.06.94-2.06 2.06-.94-2.06-.94-.94-2.06-.94 2.06-2.06.94zm-11 1L8.5 8.5l.94-2.06 2.06-.94-2.06-.94L8.5 2.5l-.94 2.06-2.06.94zm10 10l.94 2.06.94-2.06 2.06-.94-2.06-.94-.94-2.06-.94 2.06-2.06.94z\"/><path d=\"M17.41 7.96l-1.37-1.37c-.4-.4-.92-.59-1.43-.59-.52 0-1.04.2-1.43.59L10.3 9.45l-7.72 7.72c-.78.78-.78 2.05 0 2.83L4 21.41c.39.39.9.59 1.41.59.51 0 1.02-.2 1.41-.59l7.78-7.78 2.81-2.81c.8-.78.8-2.07 0-2.86zM5.41 20L4 18.59l7.72-7.72 1.47 1.35L5.41 20z\"/>\n",
              "  </svg>\n",
              "      </button>\n",
              "      \n",
              "  <style>\n",
              "    .colab-df-container {\n",
              "      display:flex;\n",
              "      flex-wrap:wrap;\n",
              "      gap: 12px;\n",
              "    }\n",
              "\n",
              "    .colab-df-convert {\n",
              "      background-color: #E8F0FE;\n",
              "      border: none;\n",
              "      border-radius: 50%;\n",
              "      cursor: pointer;\n",
              "      display: none;\n",
              "      fill: #1967D2;\n",
              "      height: 32px;\n",
              "      padding: 0 0 0 0;\n",
              "      width: 32px;\n",
              "    }\n",
              "\n",
              "    .colab-df-convert:hover {\n",
              "      background-color: #E2EBFA;\n",
              "      box-shadow: 0px 1px 2px rgba(60, 64, 67, 0.3), 0px 1px 3px 1px rgba(60, 64, 67, 0.15);\n",
              "      fill: #174EA6;\n",
              "    }\n",
              "\n",
              "    [theme=dark] .colab-df-convert {\n",
              "      background-color: #3B4455;\n",
              "      fill: #D2E3FC;\n",
              "    }\n",
              "\n",
              "    [theme=dark] .colab-df-convert:hover {\n",
              "      background-color: #434B5C;\n",
              "      box-shadow: 0px 1px 3px 1px rgba(0, 0, 0, 0.15);\n",
              "      filter: drop-shadow(0px 1px 2px rgba(0, 0, 0, 0.3));\n",
              "      fill: #FFFFFF;\n",
              "    }\n",
              "  </style>\n",
              "\n",
              "      <script>\n",
              "        const buttonEl =\n",
              "          document.querySelector('#df-75bce666-ea43-4674-9957-12afd9ed4938 button.colab-df-convert');\n",
              "        buttonEl.style.display =\n",
              "          google.colab.kernel.accessAllowed ? 'block' : 'none';\n",
              "\n",
              "        async function convertToInteractive(key) {\n",
              "          const element = document.querySelector('#df-75bce666-ea43-4674-9957-12afd9ed4938');\n",
              "          const dataTable =\n",
              "            await google.colab.kernel.invokeFunction('convertToInteractive',\n",
              "                                                     [key], {});\n",
              "          if (!dataTable) return;\n",
              "\n",
              "          const docLinkHtml = 'Like what you see? Visit the ' +\n",
              "            '<a target=\"_blank\" href=https://colab.research.google.com/notebooks/data_table.ipynb>data table notebook</a>'\n",
              "            + ' to learn more about interactive tables.';\n",
              "          element.innerHTML = '';\n",
              "          dataTable['output_type'] = 'display_data';\n",
              "          await google.colab.output.renderOutput(dataTable, element);\n",
              "          const docLink = document.createElement('div');\n",
              "          docLink.innerHTML = docLinkHtml;\n",
              "          element.appendChild(docLink);\n",
              "        }\n",
              "      </script>\n",
              "    </div>\n",
              "  </div>\n",
              "  "
            ]
          },
          "metadata": {},
          "execution_count": 21
        }
      ],
      "source": [
        "data.head()"
      ]
    },
    {
      "cell_type": "code",
      "execution_count": null,
      "metadata": {
        "colab": {
          "base_uri": "https://localhost:8080/"
        },
        "id": "C-PzhOAYcpXa",
        "outputId": "108a4df4-14d3-4e0b-f3e9-7ab898c3950a"
      },
      "outputs": [
        {
          "output_type": "execute_result",
          "data": {
            "text/plain": [
              "0        0\n",
              "1        0\n",
              "2        0\n",
              "3        6\n",
              "4        3\n",
              "        ..\n",
              "65271    6\n",
              "65272    0\n",
              "65273    0\n",
              "65274    1\n",
              "65275    6\n",
              "Name: Occurrence_Category, Length: 64615, dtype: object"
            ]
          },
          "metadata": {},
          "execution_count": 22
        }
      ],
      "source": [
        "data['Occurrence_Category']"
      ]
    },
    {
      "cell_type": "code",
      "execution_count": null,
      "metadata": {
        "colab": {
          "base_uri": "https://localhost:8080/"
        },
        "id": "PMlZ59wYcpXa",
        "outputId": "3277bb5d-e74d-4ad0-f33a-90d4785d8c06"
      },
      "outputs": [
        {
          "output_type": "execute_result",
          "data": {
            "text/plain": [
              "array([0, 6, 3, 1, 2, 4, 5], dtype=object)"
            ]
          },
          "metadata": {},
          "execution_count": 23
        }
      ],
      "source": [
        "series = pd.Series(data['Occurrence_Category'])\n",
        "unique_values = series.unique()\n",
        "unique_values"
      ]
    },
    {
      "cell_type": "code",
      "execution_count": null,
      "metadata": {
        "colab": {
          "base_uri": "https://localhost:8080/"
        },
        "id": "jh2bpoRlcpXb",
        "outputId": "fbadc885-e12c-4287-b184-40a865862013"
      },
      "outputs": [
        {
          "output_type": "stream",
          "name": "stdout",
          "text": [
            "0 Arrest_Year\n",
            "0 Arrest_Month\n",
            "0 Perceived_Race\n",
            "0 Sex\n",
            "0 Age_group__at_arrest_\n",
            "0 Youth_at_arrest__under_18_years\n",
            "0 StripSearch\n",
            "0 Booked\n",
            "0 Occurrence_Category\n",
            "0 ItemsFound\n",
            "0 SearchReason\n",
            "0 Actions_at_arrest\n"
          ]
        }
      ],
      "source": [
        "test_na_num(data)"
      ]
    },
    {
      "cell_type": "code",
      "execution_count": null,
      "metadata": {
        "colab": {
          "base_uri": "https://localhost:8080/",
          "height": 287
        },
        "id": "mKwXfQWBcpXc",
        "outputId": "e333b57f-1e89-4ba0-8432-c37f799df389"
      },
      "outputs": [
        {
          "output_type": "execute_result",
          "data": {
            "text/plain": [
              "   Arrest_Year Arrest_Month     Perceived_Race Sex Age_group__at_arrest_  \\\n",
              "0         2020    July-Sept              White   M   Aged 35 to 44 years   \n",
              "1         2020    July-Sept              White   M   Aged 35 to 44 years   \n",
              "2         2020      Oct-Dec  Unknown or Legacy   M   Aged 35 to 44 years   \n",
              "3         2021      Jan-Mar              Black   M   Aged 25 to 34 years   \n",
              "4         2021      Jan-Mar        South Asian   M   Aged 25 to 34 years   \n",
              "\n",
              "  Youth_at_arrest__under_18_years  StripSearch  Booked Occurrence_Category  \\\n",
              "0                     Not a youth            0       1                   0   \n",
              "1                     Not a youth            0       1                   0   \n",
              "2                     Not a youth            0       1                   0   \n",
              "3                     Not a youth            0       0                   6   \n",
              "4                     Not a youth            0       1                   3   \n",
              "\n",
              "   ItemsFound  SearchReason  Actions_at_arrest  \n",
              "0         0.0           0.0                  0  \n",
              "1         0.0           0.0                  1  \n",
              "2         0.0           0.0                  1  \n",
              "3         0.0           0.0                  1  \n",
              "4         0.0           0.0                  1  "
            ],
            "text/html": [
              "\n",
              "  <div id=\"df-ccb9273e-7ed3-42a1-9577-d766bb234c0f\">\n",
              "    <div class=\"colab-df-container\">\n",
              "      <div>\n",
              "<style scoped>\n",
              "    .dataframe tbody tr th:only-of-type {\n",
              "        vertical-align: middle;\n",
              "    }\n",
              "\n",
              "    .dataframe tbody tr th {\n",
              "        vertical-align: top;\n",
              "    }\n",
              "\n",
              "    .dataframe thead th {\n",
              "        text-align: right;\n",
              "    }\n",
              "</style>\n",
              "<table border=\"1\" class=\"dataframe\">\n",
              "  <thead>\n",
              "    <tr style=\"text-align: right;\">\n",
              "      <th></th>\n",
              "      <th>Arrest_Year</th>\n",
              "      <th>Arrest_Month</th>\n",
              "      <th>Perceived_Race</th>\n",
              "      <th>Sex</th>\n",
              "      <th>Age_group__at_arrest_</th>\n",
              "      <th>Youth_at_arrest__under_18_years</th>\n",
              "      <th>StripSearch</th>\n",
              "      <th>Booked</th>\n",
              "      <th>Occurrence_Category</th>\n",
              "      <th>ItemsFound</th>\n",
              "      <th>SearchReason</th>\n",
              "      <th>Actions_at_arrest</th>\n",
              "    </tr>\n",
              "  </thead>\n",
              "  <tbody>\n",
              "    <tr>\n",
              "      <th>0</th>\n",
              "      <td>2020</td>\n",
              "      <td>July-Sept</td>\n",
              "      <td>White</td>\n",
              "      <td>M</td>\n",
              "      <td>Aged 35 to 44 years</td>\n",
              "      <td>Not a youth</td>\n",
              "      <td>0</td>\n",
              "      <td>1</td>\n",
              "      <td>0</td>\n",
              "      <td>0.0</td>\n",
              "      <td>0.0</td>\n",
              "      <td>0</td>\n",
              "    </tr>\n",
              "    <tr>\n",
              "      <th>1</th>\n",
              "      <td>2020</td>\n",
              "      <td>July-Sept</td>\n",
              "      <td>White</td>\n",
              "      <td>M</td>\n",
              "      <td>Aged 35 to 44 years</td>\n",
              "      <td>Not a youth</td>\n",
              "      <td>0</td>\n",
              "      <td>1</td>\n",
              "      <td>0</td>\n",
              "      <td>0.0</td>\n",
              "      <td>0.0</td>\n",
              "      <td>1</td>\n",
              "    </tr>\n",
              "    <tr>\n",
              "      <th>2</th>\n",
              "      <td>2020</td>\n",
              "      <td>Oct-Dec</td>\n",
              "      <td>Unknown or Legacy</td>\n",
              "      <td>M</td>\n",
              "      <td>Aged 35 to 44 years</td>\n",
              "      <td>Not a youth</td>\n",
              "      <td>0</td>\n",
              "      <td>1</td>\n",
              "      <td>0</td>\n",
              "      <td>0.0</td>\n",
              "      <td>0.0</td>\n",
              "      <td>1</td>\n",
              "    </tr>\n",
              "    <tr>\n",
              "      <th>3</th>\n",
              "      <td>2021</td>\n",
              "      <td>Jan-Mar</td>\n",
              "      <td>Black</td>\n",
              "      <td>M</td>\n",
              "      <td>Aged 25 to 34 years</td>\n",
              "      <td>Not a youth</td>\n",
              "      <td>0</td>\n",
              "      <td>0</td>\n",
              "      <td>6</td>\n",
              "      <td>0.0</td>\n",
              "      <td>0.0</td>\n",
              "      <td>1</td>\n",
              "    </tr>\n",
              "    <tr>\n",
              "      <th>4</th>\n",
              "      <td>2021</td>\n",
              "      <td>Jan-Mar</td>\n",
              "      <td>South Asian</td>\n",
              "      <td>M</td>\n",
              "      <td>Aged 25 to 34 years</td>\n",
              "      <td>Not a youth</td>\n",
              "      <td>0</td>\n",
              "      <td>1</td>\n",
              "      <td>3</td>\n",
              "      <td>0.0</td>\n",
              "      <td>0.0</td>\n",
              "      <td>1</td>\n",
              "    </tr>\n",
              "  </tbody>\n",
              "</table>\n",
              "</div>\n",
              "      <button class=\"colab-df-convert\" onclick=\"convertToInteractive('df-ccb9273e-7ed3-42a1-9577-d766bb234c0f')\"\n",
              "              title=\"Convert this dataframe to an interactive table.\"\n",
              "              style=\"display:none;\">\n",
              "        \n",
              "  <svg xmlns=\"http://www.w3.org/2000/svg\" height=\"24px\"viewBox=\"0 0 24 24\"\n",
              "       width=\"24px\">\n",
              "    <path d=\"M0 0h24v24H0V0z\" fill=\"none\"/>\n",
              "    <path d=\"M18.56 5.44l.94 2.06.94-2.06 2.06-.94-2.06-.94-.94-2.06-.94 2.06-2.06.94zm-11 1L8.5 8.5l.94-2.06 2.06-.94-2.06-.94L8.5 2.5l-.94 2.06-2.06.94zm10 10l.94 2.06.94-2.06 2.06-.94-2.06-.94-.94-2.06-.94 2.06-2.06.94z\"/><path d=\"M17.41 7.96l-1.37-1.37c-.4-.4-.92-.59-1.43-.59-.52 0-1.04.2-1.43.59L10.3 9.45l-7.72 7.72c-.78.78-.78 2.05 0 2.83L4 21.41c.39.39.9.59 1.41.59.51 0 1.02-.2 1.41-.59l7.78-7.78 2.81-2.81c.8-.78.8-2.07 0-2.86zM5.41 20L4 18.59l7.72-7.72 1.47 1.35L5.41 20z\"/>\n",
              "  </svg>\n",
              "      </button>\n",
              "      \n",
              "  <style>\n",
              "    .colab-df-container {\n",
              "      display:flex;\n",
              "      flex-wrap:wrap;\n",
              "      gap: 12px;\n",
              "    }\n",
              "\n",
              "    .colab-df-convert {\n",
              "      background-color: #E8F0FE;\n",
              "      border: none;\n",
              "      border-radius: 50%;\n",
              "      cursor: pointer;\n",
              "      display: none;\n",
              "      fill: #1967D2;\n",
              "      height: 32px;\n",
              "      padding: 0 0 0 0;\n",
              "      width: 32px;\n",
              "    }\n",
              "\n",
              "    .colab-df-convert:hover {\n",
              "      background-color: #E2EBFA;\n",
              "      box-shadow: 0px 1px 2px rgba(60, 64, 67, 0.3), 0px 1px 3px 1px rgba(60, 64, 67, 0.15);\n",
              "      fill: #174EA6;\n",
              "    }\n",
              "\n",
              "    [theme=dark] .colab-df-convert {\n",
              "      background-color: #3B4455;\n",
              "      fill: #D2E3FC;\n",
              "    }\n",
              "\n",
              "    [theme=dark] .colab-df-convert:hover {\n",
              "      background-color: #434B5C;\n",
              "      box-shadow: 0px 1px 3px 1px rgba(0, 0, 0, 0.15);\n",
              "      filter: drop-shadow(0px 1px 2px rgba(0, 0, 0, 0.3));\n",
              "      fill: #FFFFFF;\n",
              "    }\n",
              "  </style>\n",
              "\n",
              "      <script>\n",
              "        const buttonEl =\n",
              "          document.querySelector('#df-ccb9273e-7ed3-42a1-9577-d766bb234c0f button.colab-df-convert');\n",
              "        buttonEl.style.display =\n",
              "          google.colab.kernel.accessAllowed ? 'block' : 'none';\n",
              "\n",
              "        async function convertToInteractive(key) {\n",
              "          const element = document.querySelector('#df-ccb9273e-7ed3-42a1-9577-d766bb234c0f');\n",
              "          const dataTable =\n",
              "            await google.colab.kernel.invokeFunction('convertToInteractive',\n",
              "                                                     [key], {});\n",
              "          if (!dataTable) return;\n",
              "\n",
              "          const docLinkHtml = 'Like what you see? Visit the ' +\n",
              "            '<a target=\"_blank\" href=https://colab.research.google.com/notebooks/data_table.ipynb>data table notebook</a>'\n",
              "            + ' to learn more about interactive tables.';\n",
              "          element.innerHTML = '';\n",
              "          dataTable['output_type'] = 'display_data';\n",
              "          await google.colab.output.renderOutput(dataTable, element);\n",
              "          const docLink = document.createElement('div');\n",
              "          docLink.innerHTML = docLinkHtml;\n",
              "          element.appendChild(docLink);\n",
              "        }\n",
              "      </script>\n",
              "    </div>\n",
              "  </div>\n",
              "  "
            ]
          },
          "metadata": {},
          "execution_count": 25
        }
      ],
      "source": [
        "data.head() # cleaned data"
      ]
    },
    {
      "cell_type": "markdown",
      "metadata": {
        "id": "od8QaFGkD-G4"
      },
      "source": [
        "# EDA – Visualizations"
      ]
    },
    {
      "cell_type": "code",
      "execution_count": null,
      "metadata": {
        "colab": {
          "base_uri": "https://localhost:8080/",
          "height": 571
        },
        "id": "oz3plCcJBn7v",
        "outputId": "5790206c-23cd-47d5-af17-80c51ee491bb"
      },
      "outputs": [
        {
          "output_type": "stream",
          "name": "stdout",
          "text": [
            "White                   27407\n",
            "Black                   17352\n",
            "Unknown or Legacy        5002\n",
            "East/Southeast Asian     4388\n",
            "South Asian              3594\n",
            "Middle-Eastern           3213\n",
            "Indigenous               1907\n",
            "Latino                   1752\n",
            "Name: Perceived_Race, dtype: int64\n"
          ]
        },
        {
          "output_type": "execute_result",
          "data": {
            "text/plain": [
              "<matplotlib.legend.Legend at 0x7fe0697aa250>"
            ]
          },
          "metadata": {},
          "execution_count": 26
        },
        {
          "output_type": "display_data",
          "data": {
            "text/plain": [
              "<Figure size 432x288 with 1 Axes>"
            ],
            "image/png": "[encoded data removed]"
          },
          "metadata": {
            "needs_background": "light"
          }
        }
      ],
      "source": [
        "import matplotlib.pyplot as plt\n",
        "\n",
        "# Ordered strip searches by perceived race of arrested individual\n",
        "\n",
        "races = data.Perceived_Race.value_counts().index.tolist()\n",
        "race_counts = data.Perceived_Race.value_counts()\n",
        "print(race_counts)\n",
        "colours = {\"Everyone\": \"C0\", \"Strip Searched\": \"C1\"}\n",
        "labels = list(colours.keys())\n",
        "handles = [plt.Rectangle((0, 0), 1, 1, color = colours[label]) for label in labels]\n",
        "\n",
        "plt.bar(races, race_counts, bottom = data.groupby([\"Perceived_Race\"])[\"StripSearch\"].sum().sort_values(ascending = False), color = \"C0\")\n",
        "plt.bar(races, data.groupby([\"Perceived_Race\"])[\"StripSearch\"].sum().sort_values(ascending = False), color = \"C1\")\n",
        "plt.xticks(rotation = 90)\n",
        "plt.title(\"Strip Searches Ordered for Arrested Individuals Based on Perceived Race\")\n",
        "plt.ylabel(\"Count\")\n",
        "plt.xlabel(\"Perceived Race\")\n",
        "plt.legend(handles, labels)"
      ]
    },
    {
      "cell_type": "code",
      "execution_count": null,
      "metadata": {
        "id": "Cz6biM9_n0pT"
      },
      "outputs": [],
      "source": [
        "data[\"Age_group_clean\"] = data[\"Age_group__at_arrest_\"].replace({\"Aged 17 years and younger\": \"Aged 17 years and under\", \"Aged 65 and older\": \"Aged 65 years and older\"})"
      ]
    },
    {
      "cell_type": "code",
      "execution_count": null,
      "metadata": {
        "colab": {
          "base_uri": "https://localhost:8080/",
          "height": 400
        },
        "id": "1oBveWIBMAIB",
        "outputId": "e2ae7147-1c57-4739-c3fc-d1d73a3dde75"
      },
      "outputs": [
        {
          "output_type": "execute_result",
          "data": {
            "text/plain": [
              "<matplotlib.legend.Legend at 0x7fe0698f4340>"
            ]
          },
          "metadata": {},
          "execution_count": 28
        },
        {
          "output_type": "display_data",
          "data": {
            "text/plain": [
              "<Figure size 432x288 with 1 Axes>"
            ],
            "image/png": "[encoded data removed]"
          },
          "metadata": {
            "needs_background": "light"
          }
        }
      ],
      "source": [
        "# Ordered strip searches by age bracket of arrested individual\n",
        "\n",
        "ages = data.Age_group_clean.value_counts().index.tolist()\n",
        "reordered_1 = ages.pop(ages.index(\"Aged 17 years and under\"))\n",
        "reordered_2 = ages.pop(ages.index(\"Aged 18 to 24 years\"))\n",
        "ages.insert(0, reordered_1)\n",
        "ages.insert(1, reordered_2)\n",
        "\n",
        "age_counts = data.Age_group_clean.value_counts().sort_index(ascending = True)\n",
        "\n",
        "plt.bar(x = ages, height = age_counts, bottom = data.groupby([\"Age_group_clean\"])[\"StripSearch\"].sum(), color = \"C0\")\n",
        "plt.bar(x = ages, height = data.groupby([\"Age_group_clean\"])[\"StripSearch\"].sum(), color = \"C1\")\n",
        "plt.xticks(rotation = 90)\n",
        "plt.legend(handles, labels)"
      ]
    },
    {
      "cell_type": "code",
      "execution_count": null,
      "metadata": {
        "id": "8kfPdt12mdlw"
      },
      "outputs": [],
      "source": [
        "# Time series variable\n",
        "data[\"Time_series\"] = np.where((data[\"Arrest_Year\"] == 2020) & (data[\"Arrest_Month\"] == \"Jan-Mar\"), 1, \n",
        "                               (np.where((data[\"Arrest_Year\"] == 2020) & (data[\"Arrest_Month\"] == \"Apr-June\"), 2, \n",
        "                                         (np.where((data[\"Arrest_Year\"] == 2020) & (data[\"Arrest_Month\"] == \"July-Sept\"), 3, \n",
        "                                                   (np.where((data[\"Arrest_Year\"] == 2020) & (data[\"Arrest_Month\"] == \"Oct-Dec\"), 4, \n",
        "                                                             (np.where((data[\"Arrest_Year\"] == 2021) & (data[\"Arrest_Month\"] == \"Jan-Mar\"), 5, \n",
        "                                                                       (np.where((data[\"Arrest_Year\"] == 2021) & (data[\"Arrest_Month\"] == \"Apr-June\"), 6, \n",
        "                                                                                 (np.where((data[\"Arrest_Year\"] == 2021) & (data[\"Arrest_Month\"] == \"July-Sept\"), 7, \n",
        "                                                                                           (np.where((data[\"Arrest_Year\"] == 2021) & (data[\"Arrest_Month\"] == \"Oct-Dec\"), 8, 0)))))))))))))))"
      ]
    },
    {
      "cell_type": "code",
      "execution_count": null,
      "metadata": {
        "colab": {
          "base_uri": "https://localhost:8080/",
          "height": 345
        },
        "id": "DmSjXRxyJxeF",
        "outputId": "3ede8553-22e5-4965-97d7-0384d7f6b418"
      },
      "outputs": [
        {
          "output_type": "execute_result",
          "data": {
            "text/plain": [
              "Text(0, 0.5, 'Number of Strip Searches Booked')"
            ]
          },
          "metadata": {},
          "execution_count": 30
        },
        {
          "output_type": "display_data",
          "data": {
            "text/plain": [
              "<Figure size 432x288 with 1 Axes>"
            ],
            "image/png": "[encoded data removed]"
          },
          "metadata": {
            "needs_background": "light"
          }
        }
      ],
      "source": [
        "# Line chart of strip search counts over time\n",
        "StripSearch_1_data = data[data[\"StripSearch\"] == 1]\n",
        "StripSearch_1_data.groupby([\"Time_series\"])[\"StripSearch\"].value_counts()\n",
        "\n",
        "StripSearch_1_data.groupby([\"Time_series\"])[\"StripSearch\"].value_counts().sort_index(ascending = True).plot()\n",
        "plt.title(\"Strip Searches Booked by Toronto Police Service From January 2020 - December 2021\")\n",
        "axes = plt.gca()\n",
        "axes.set_xticks(ticks = [0, 1, 2, 3, 4, 5, 6, 7])\n",
        "axes.set_xticklabels([\"Q1 2020\", \"Q2 2020\", \"Q3 2020\", \"Q4 2020\", \"Q1 2021\", \"Q2 2021\", \"Q3 2021\", \"Q4 2021\"])\n",
        "plt.xticks(rotation = 60)\n",
        "plt.xlabel(\"Quarter, Year\")\n",
        "plt.ylabel(\"Number of Strip Searches Booked\")"
      ]
    },
    {
      "cell_type": "code",
      "execution_count": null,
      "metadata": {
        "colab": {
          "base_uri": "https://localhost:8080/",
          "height": 313
        },
        "id": "cjbwMUgLTkkS",
        "outputId": "e0d28e06-7d86-4d01-bd4f-35afa2688ba4"
      },
      "outputs": [
        {
          "output_type": "execute_result",
          "data": {
            "text/plain": [
              "Text(0, 0.5, 'Number of Strip Searches Booked')"
            ]
          },
          "metadata": {},
          "execution_count": 31
        },
        {
          "output_type": "display_data",
          "data": {
            "text/plain": [
              "<Figure size 432x288 with 1 Axes>"
            ],
            "image/png": "[encoded data removed]"
          },
          "metadata": {
            "needs_background": "light"
          }
        }
      ],
      "source": [
        "StripSearch_1_2020_data = data[(data[\"Arrest_Year\"] == 2020) & (data[\"StripSearch\"] == 1)]\n",
        "StripSearch_1_2021_data = data[(data[\"Arrest_Year\"] == 2021) & (data[\"StripSearch\"] == 1)]\n",
        "\n",
        "plt1 = StripSearch_1_2020_data.groupby([\"Time_series\"])[\"StripSearch\"].value_counts().sort_index(ascending = True).plot()\n",
        "plt2 = StripSearch_1_2021_data.groupby([\"Time_series\"])[\"StripSearch\"].value_counts().sort_index(ascending = True).plot()\n",
        "plt_axes = plt.gca()\n",
        "plt_axes.set_xticks([0, 1, 2, 3])\n",
        "plt_axes.set_xticklabels([\"Q1\", \"Q2\", \"Q3\", \"Q4\"])\n",
        "\n",
        "colours = {\"2020\": \"C0\", \"2021\": \"C1\"}\n",
        "labels = list(colours.keys())\n",
        "handles = [plt.Rectangle((0, 0), 1, 1, color = colours[label]) for label in labels]\n",
        "plt.legend(handles, labels)\n",
        "\n",
        "plt.title(\"Comparison of Strip Searches Booked in 2020 vs. 2021 by Toronto Police\")\n",
        "plt.xlabel(\"Quarter\")\n",
        "plt.ylabel(\"Number of Strip Searches Booked\")"
      ]
    },
    {
      "cell_type": "code",
      "execution_count": null,
      "metadata": {
        "id": "65VCvtG-cpXf"
      },
      "outputs": [],
      "source": [
        "# 0 in Actions_at_arrest = cooperative\n",
        "# 1+ in Actions_at_arrest = uncooperative"
      ]
    },
    {
      "cell_type": "code",
      "execution_count": null,
      "metadata": {
        "colab": {
          "base_uri": "https://localhost:8080/",
          "height": 313
        },
        "id": "WtHKlm5mx-fe",
        "outputId": "5101d478-f5f0-4feb-feb5-f019a6ff9586"
      },
      "outputs": [
        {
          "output_type": "execute_result",
          "data": {
            "text/plain": [
              "<matplotlib.legend.Legend at 0x7fe066c137c0>"
            ]
          },
          "metadata": {},
          "execution_count": 33
        },
        {
          "output_type": "display_data",
          "data": {
            "text/plain": [
              "<Figure size 432x288 with 1 Axes>"
            ],
            "image/png": "[encoded data removed]"
          },
          "metadata": {
            "needs_background": "light"
          }
        }
      ],
      "source": [
        "Actions_at_arrest_NotStripSearched = data[(data[\"StripSearch\"] == 0)]\n",
        "Actions_at_arrest_StripSearched = data[(data[\"StripSearch\"] == 1)]\n",
        "\n",
        "plt.hist(Actions_at_arrest_NotStripSearched[\"Actions_at_arrest\"], bins = np.arange(6)-0.5, color = \"C0\", edgecolor = \"black\")\n",
        "# plt.xlabel(\"Number of uncooperative actions taken at arrest\")\n",
        "# plt.title(\"Uncooperativeness of Arrested Individuals Who Were Not Strip Searched\")\n",
        "\n",
        "plt.hist(Actions_at_arrest_StripSearched[\"Actions_at_arrest\"], bins = np.arange(6)-0.5, color = \"C1\", edgecolor = \"black\")\n",
        "plt.xlabel(\"Number of uncooperative actions taken at arrest\")\n",
        "plt.title(\"Uncooperativeness of Arrested Individuals Who Were Strip Searched\")\n",
        "\n",
        "colours = {\"Not Strip Searched\": \"C0\", \"Strip Searched\": \"C1\"}\n",
        "labels = list(colours.keys())\n",
        "handles = [plt.Rectangle((0, 0), 1, 1, color = colours[label]) for label in labels]\n",
        "plt.legend(handles, labels)"
      ]
    },
    {
      "cell_type": "code",
      "execution_count": null,
      "metadata": {
        "colab": {
          "base_uri": "https://localhost:8080/",
          "height": 661
        },
        "id": "m8ufSMV1bTzu",
        "outputId": "e582f430-8f1a-429c-d79d-2bbe4a97d8c8"
      },
      "outputs": [
        {
          "output_type": "execute_result",
          "data": {
            "text/plain": [
              "       Arrest_Year Arrest_Month Perceived_Race Sex    Age_group__at_arrest_  \\\n",
              "12            2021     Apr-June          Black   M      Aged 25 to 34 years   \n",
              "14            2020     Apr-June          Black   M      Aged 25 to 34 years   \n",
              "33            2021      Jan-Mar          White   M      Aged 35 to 44 years   \n",
              "38            2020     Apr-June         Latino   M      Aged 18 to 24 years   \n",
              "42            2020    July-Sept    South Asian   F      Aged 25 to 34 years   \n",
              "...            ...          ...            ...  ..                      ...   \n",
              "63915         2021    July-Sept          Black   M      Aged 25 to 34 years   \n",
              "64108         2021      Oct-Dec          White   M      Aged 35 to 44 years   \n",
              "64235         2021    July-Sept    South Asian   M      Aged 25 to 34 years   \n",
              "64347         2021      Oct-Dec          Black   M  Aged 17 years and under   \n",
              "64428         2021      Oct-Dec          Black   M      Aged 25 to 34 years   \n",
              "\n",
              "       Youth_at_arrest__under_18_years  StripSearch  Booked  \\\n",
              "12                         Not a youth            1       1   \n",
              "14                         Not a youth            1       1   \n",
              "33                         Not a youth            1       1   \n",
              "38                         Not a youth            1       1   \n",
              "42                         Not a youth            1       1   \n",
              "...                                ...          ...     ...   \n",
              "63915                      Not a youth            1       1   \n",
              "64108                      Not a youth            1       1   \n",
              "64235                      Not a youth            1       1   \n",
              "64347  Youth (aged 17 years and under)            1       1   \n",
              "64428                      Not a youth            1       1   \n",
              "\n",
              "      Occurrence_Category  ItemsFound  SearchReason  Actions_at_arrest  \\\n",
              "12                      6         0.0           3.0                  0   \n",
              "14                      6         0.0           3.0                  1   \n",
              "33                      6         0.0           2.0                  0   \n",
              "38                      3         0.0           2.0                  0   \n",
              "42                      0         0.0           1.0                  1   \n",
              "...                   ...         ...           ...                ...   \n",
              "63915                   5         0.0           2.0                  0   \n",
              "64108                   6         0.0           0.0                  1   \n",
              "64235                   6         0.0           1.0                  0   \n",
              "64347                   6         1.0           2.0                  1   \n",
              "64428                   0         0.0           1.0                  0   \n",
              "\n",
              "               Age_group_clean  Time_series  \n",
              "12         Aged 25 to 34 years            6  \n",
              "14         Aged 25 to 34 years            2  \n",
              "33         Aged 35 to 44 years            5  \n",
              "38         Aged 18 to 24 years            2  \n",
              "42         Aged 25 to 34 years            3  \n",
              "...                        ...          ...  \n",
              "63915      Aged 25 to 34 years            7  \n",
              "64108      Aged 35 to 44 years            8  \n",
              "64235      Aged 25 to 34 years            7  \n",
              "64347  Aged 17 years and under            8  \n",
              "64428      Aged 25 to 34 years            8  \n",
              "\n",
              "[7331 rows x 14 columns]"
            ],
            "text/html": [
              "\n",
              "  <div id=\"df-f7913e3a-29df-4eab-ae4c-6dfaeed96efb\">\n",
              "    <div class=\"colab-df-container\">\n",
              "      <div>\n",
              "<style scoped>\n",
              "    .dataframe tbody tr th:only-of-type {\n",
              "        vertical-align: middle;\n",
              "    }\n",
              "\n",
              "    .dataframe tbody tr th {\n",
              "        vertical-align: top;\n",
              "    }\n",
              "\n",
              "    .dataframe thead th {\n",
              "        text-align: right;\n",
              "    }\n",
              "</style>\n",
              "<table border=\"1\" class=\"dataframe\">\n",
              "  <thead>\n",
              "    <tr style=\"text-align: right;\">\n",
              "      <th></th>\n",
              "      <th>Arrest_Year</th>\n",
              "      <th>Arrest_Month</th>\n",
              "      <th>Perceived_Race</th>\n",
              "      <th>Sex</th>\n",
              "      <th>Age_group__at_arrest_</th>\n",
              "      <th>Youth_at_arrest__under_18_years</th>\n",
              "      <th>StripSearch</th>\n",
              "      <th>Booked</th>\n",
              "      <th>Occurrence_Category</th>\n",
              "      <th>ItemsFound</th>\n",
              "      <th>SearchReason</th>\n",
              "      <th>Actions_at_arrest</th>\n",
              "      <th>Age_group_clean</th>\n",
              "      <th>Time_series</th>\n",
              "    </tr>\n",
              "  </thead>\n",
              "  <tbody>\n",
              "    <tr>\n",
              "      <th>12</th>\n",
              "      <td>2021</td>\n",
              "      <td>Apr-June</td>\n",
              "      <td>Black</td>\n",
              "      <td>M</td>\n",
              "      <td>Aged 25 to 34 years</td>\n",
              "      <td>Not a youth</td>\n",
              "      <td>1</td>\n",
              "      <td>1</td>\n",
              "      <td>6</td>\n",
              "      <td>0.0</td>\n",
              "      <td>3.0</td>\n",
              "      <td>0</td>\n",
              "      <td>Aged 25 to 34 years</td>\n",
              "      <td>6</td>\n",
              "    </tr>\n",
              "    <tr>\n",
              "      <th>14</th>\n",
              "      <td>2020</td>\n",
              "      <td>Apr-June</td>\n",
              "      <td>Black</td>\n",
              "      <td>M</td>\n",
              "      <td>Aged 25 to 34 years</td>\n",
              "      <td>Not a youth</td>\n",
              "      <td>1</td>\n",
              "      <td>1</td>\n",
              "      <td>6</td>\n",
              "      <td>0.0</td>\n",
              "      <td>3.0</td>\n",
              "      <td>1</td>\n",
              "      <td>Aged 25 to 34 years</td>\n",
              "      <td>2</td>\n",
              "    </tr>\n",
              "    <tr>\n",
              "      <th>33</th>\n",
              "      <td>2021</td>\n",
              "      <td>Jan-Mar</td>\n",
              "      <td>White</td>\n",
              "      <td>M</td>\n",
              "      <td>Aged 35 to 44 years</td>\n",
              "      <td>Not a youth</td>\n",
              "      <td>1</td>\n",
              "      <td>1</td>\n",
              "      <td>6</td>\n",
              "      <td>0.0</td>\n",
              "      <td>2.0</td>\n",
              "      <td>0</td>\n",
              "      <td>Aged 35 to 44 years</td>\n",
              "      <td>5</td>\n",
              "    </tr>\n",
              "    <tr>\n",
              "      <th>38</th>\n",
              "      <td>2020</td>\n",
              "      <td>Apr-June</td>\n",
              "      <td>Latino</td>\n",
              "      <td>M</td>\n",
              "      <td>Aged 18 to 24 years</td>\n",
              "      <td>Not a youth</td>\n",
              "      <td>1</td>\n",
              "      <td>1</td>\n",
              "      <td>3</td>\n",
              "      <td>0.0</td>\n",
              "      <td>2.0</td>\n",
              "      <td>0</td>\n",
              "      <td>Aged 18 to 24 years</td>\n",
              "      <td>2</td>\n",
              "    </tr>\n",
              "    <tr>\n",
              "      <th>42</th>\n",
              "      <td>2020</td>\n",
              "      <td>July-Sept</td>\n",
              "      <td>South Asian</td>\n",
              "      <td>F</td>\n",
              "      <td>Aged 25 to 34 years</td>\n",
              "      <td>Not a youth</td>\n",
              "      <td>1</td>\n",
              "      <td>1</td>\n",
              "      <td>0</td>\n",
              "      <td>0.0</td>\n",
              "      <td>1.0</td>\n",
              "      <td>1</td>\n",
              "      <td>Aged 25 to 34 years</td>\n",
              "      <td>3</td>\n",
              "    </tr>\n",
              "    <tr>\n",
              "      <th>...</th>\n",
              "      <td>...</td>\n",
              "      <td>...</td>\n",
              "      <td>...</td>\n",
              "      <td>...</td>\n",
              "      <td>...</td>\n",
              "      <td>...</td>\n",
              "      <td>...</td>\n",
              "      <td>...</td>\n",
              "      <td>...</td>\n",
              "      <td>...</td>\n",
              "      <td>...</td>\n",
              "      <td>...</td>\n",
              "      <td>...</td>\n",
              "      <td>...</td>\n",
              "    </tr>\n",
              "    <tr>\n",
              "      <th>63915</th>\n",
              "      <td>2021</td>\n",
              "      <td>July-Sept</td>\n",
              "      <td>Black</td>\n",
              "      <td>M</td>\n",
              "      <td>Aged 25 to 34 years</td>\n",
              "      <td>Not a youth</td>\n",
              "      <td>1</td>\n",
              "      <td>1</td>\n",
              "      <td>5</td>\n",
              "      <td>0.0</td>\n",
              "      <td>2.0</td>\n",
              "      <td>0</td>\n",
              "      <td>Aged 25 to 34 years</td>\n",
              "      <td>7</td>\n",
              "    </tr>\n",
              "    <tr>\n",
              "      <th>64108</th>\n",
              "      <td>2021</td>\n",
              "      <td>Oct-Dec</td>\n",
              "      <td>White</td>\n",
              "      <td>M</td>\n",
              "      <td>Aged 35 to 44 years</td>\n",
              "      <td>Not a youth</td>\n",
              "      <td>1</td>\n",
              "      <td>1</td>\n",
              "      <td>6</td>\n",
              "      <td>0.0</td>\n",
              "      <td>0.0</td>\n",
              "      <td>1</td>\n",
              "      <td>Aged 35 to 44 years</td>\n",
              "      <td>8</td>\n",
              "    </tr>\n",
              "    <tr>\n",
              "      <th>64235</th>\n",
              "      <td>2021</td>\n",
              "      <td>July-Sept</td>\n",
              "      <td>South Asian</td>\n",
              "      <td>M</td>\n",
              "      <td>Aged 25 to 34 years</td>\n",
              "      <td>Not a youth</td>\n",
              "      <td>1</td>\n",
              "      <td>1</td>\n",
              "      <td>6</td>\n",
              "      <td>0.0</td>\n",
              "      <td>1.0</td>\n",
              "      <td>0</td>\n",
              "      <td>Aged 25 to 34 years</td>\n",
              "      <td>7</td>\n",
              "    </tr>\n",
              "    <tr>\n",
              "      <th>64347</th>\n",
              "      <td>2021</td>\n",
              "      <td>Oct-Dec</td>\n",
              "      <td>Black</td>\n",
              "      <td>M</td>\n",
              "      <td>Aged 17 years and under</td>\n",
              "      <td>Youth (aged 17 years and under)</td>\n",
              "      <td>1</td>\n",
              "      <td>1</td>\n",
              "      <td>6</td>\n",
              "      <td>1.0</td>\n",
              "      <td>2.0</td>\n",
              "      <td>1</td>\n",
              "      <td>Aged 17 years and under</td>\n",
              "      <td>8</td>\n",
              "    </tr>\n",
              "    <tr>\n",
              "      <th>64428</th>\n",
              "      <td>2021</td>\n",
              "      <td>Oct-Dec</td>\n",
              "      <td>Black</td>\n",
              "      <td>M</td>\n",
              "      <td>Aged 25 to 34 years</td>\n",
              "      <td>Not a youth</td>\n",
              "      <td>1</td>\n",
              "      <td>1</td>\n",
              "      <td>0</td>\n",
              "      <td>0.0</td>\n",
              "      <td>1.0</td>\n",
              "      <td>0</td>\n",
              "      <td>Aged 25 to 34 years</td>\n",
              "      <td>8</td>\n",
              "    </tr>\n",
              "  </tbody>\n",
              "</table>\n",
              "<p>7331 rows × 14 columns</p>\n",
              "</div>\n",
              "      <button class=\"colab-df-convert\" onclick=\"convertToInteractive('df-f7913e3a-29df-4eab-ae4c-6dfaeed96efb')\"\n",
              "              title=\"Convert this dataframe to an interactive table.\"\n",
              "              style=\"display:none;\">\n",
              "        \n",
              "  <svg xmlns=\"http://www.w3.org/2000/svg\" height=\"24px\"viewBox=\"0 0 24 24\"\n",
              "       width=\"24px\">\n",
              "    <path d=\"M0 0h24v24H0V0z\" fill=\"none\"/>\n",
              "    <path d=\"M18.56 5.44l.94 2.06.94-2.06 2.06-.94-2.06-.94-.94-2.06-.94 2.06-2.06.94zm-11 1L8.5 8.5l.94-2.06 2.06-.94-2.06-.94L8.5 2.5l-.94 2.06-2.06.94zm10 10l.94 2.06.94-2.06 2.06-.94-2.06-.94-.94-2.06-.94 2.06-2.06.94z\"/><path d=\"M17.41 7.96l-1.37-1.37c-.4-.4-.92-.59-1.43-.59-.52 0-1.04.2-1.43.59L10.3 9.45l-7.72 7.72c-.78.78-.78 2.05 0 2.83L4 21.41c.39.39.9.59 1.41.59.51 0 1.02-.2 1.41-.59l7.78-7.78 2.81-2.81c.8-.78.8-2.07 0-2.86zM5.41 20L4 18.59l7.72-7.72 1.47 1.35L5.41 20z\"/>\n",
              "  </svg>\n",
              "      </button>\n",
              "      \n",
              "  <style>\n",
              "    .colab-df-container {\n",
              "      display:flex;\n",
              "      flex-wrap:wrap;\n",
              "      gap: 12px;\n",
              "    }\n",
              "\n",
              "    .colab-df-convert {\n",
              "      background-color: #E8F0FE;\n",
              "      border: none;\n",
              "      border-radius: 50%;\n",
              "      cursor: pointer;\n",
              "      display: none;\n",
              "      fill: #1967D2;\n",
              "      height: 32px;\n",
              "      padding: 0 0 0 0;\n",
              "      width: 32px;\n",
              "    }\n",
              "\n",
              "    .colab-df-convert:hover {\n",
              "      background-color: #E2EBFA;\n",
              "      box-shadow: 0px 1px 2px rgba(60, 64, 67, 0.3), 0px 1px 3px 1px rgba(60, 64, 67, 0.15);\n",
              "      fill: #174EA6;\n",
              "    }\n",
              "\n",
              "    [theme=dark] .colab-df-convert {\n",
              "      background-color: #3B4455;\n",
              "      fill: #D2E3FC;\n",
              "    }\n",
              "\n",
              "    [theme=dark] .colab-df-convert:hover {\n",
              "      background-color: #434B5C;\n",
              "      box-shadow: 0px 1px 3px 1px rgba(0, 0, 0, 0.15);\n",
              "      filter: drop-shadow(0px 1px 2px rgba(0, 0, 0, 0.3));\n",
              "      fill: #FFFFFF;\n",
              "    }\n",
              "  </style>\n",
              "\n",
              "      <script>\n",
              "        const buttonEl =\n",
              "          document.querySelector('#df-f7913e3a-29df-4eab-ae4c-6dfaeed96efb button.colab-df-convert');\n",
              "        buttonEl.style.display =\n",
              "          google.colab.kernel.accessAllowed ? 'block' : 'none';\n",
              "\n",
              "        async function convertToInteractive(key) {\n",
              "          const element = document.querySelector('#df-f7913e3a-29df-4eab-ae4c-6dfaeed96efb');\n",
              "          const dataTable =\n",
              "            await google.colab.kernel.invokeFunction('convertToInteractive',\n",
              "                                                     [key], {});\n",
              "          if (!dataTable) return;\n",
              "\n",
              "          const docLinkHtml = 'Like what you see? Visit the ' +\n",
              "            '<a target=\"_blank\" href=https://colab.research.google.com/notebooks/data_table.ipynb>data table notebook</a>'\n",
              "            + ' to learn more about interactive tables.';\n",
              "          element.innerHTML = '';\n",
              "          dataTable['output_type'] = 'display_data';\n",
              "          await google.colab.output.renderOutput(dataTable, element);\n",
              "          const docLink = document.createElement('div');\n",
              "          docLink.innerHTML = docLinkHtml;\n",
              "          element.appendChild(docLink);\n",
              "        }\n",
              "      </script>\n",
              "    </div>\n",
              "  </div>\n",
              "  "
            ]
          },
          "metadata": {},
          "execution_count": 34
        }
      ],
      "source": [
        "Actions_at_arrest_StripSearched"
      ]
    },
    {
      "cell_type": "code",
      "execution_count": null,
      "metadata": {
        "id": "VI1GWfKwzXyd",
        "outputId": "363a4f0a-51fd-40d1-f316-695611fe4121",
        "colab": {
          "base_uri": "https://localhost:8080/",
          "height": 300
        }
      },
      "outputs": [
        {
          "output_type": "execute_result",
          "data": {
            "text/plain": [
              "         Perceived Race      Mean  Standard Deviation\n",
              "0                 White  0.683439            0.726551\n",
              "1                 Black  0.716344            0.748590\n",
              "2     Unknown or Legacy  0.644742            0.664954\n",
              "3  East/Southeast Asian  0.566773            0.645692\n",
              "4           South Asian  0.627156            0.654251\n",
              "5        Middle-Eastern  0.642702            0.695864\n",
              "6            Indigenous  0.807027            0.818310\n",
              "7                Latino  0.599315            0.705781"
            ],
            "text/html": [
              "\n",
              "  <div id=\"df-3768a5cd-44cc-40f4-ad77-30d727513794\">\n",
              "    <div class=\"colab-df-container\">\n",
              "      <div>\n",
              "<style scoped>\n",
              "    .dataframe tbody tr th:only-of-type {\n",
              "        vertical-align: middle;\n",
              "    }\n",
              "\n",
              "    .dataframe tbody tr th {\n",
              "        vertical-align: top;\n",
              "    }\n",
              "\n",
              "    .dataframe thead th {\n",
              "        text-align: right;\n",
              "    }\n",
              "</style>\n",
              "<table border=\"1\" class=\"dataframe\">\n",
              "  <thead>\n",
              "    <tr style=\"text-align: right;\">\n",
              "      <th></th>\n",
              "      <th>Perceived Race</th>\n",
              "      <th>Mean</th>\n",
              "      <th>Standard Deviation</th>\n",
              "    </tr>\n",
              "  </thead>\n",
              "  <tbody>\n",
              "    <tr>\n",
              "      <th>0</th>\n",
              "      <td>White</td>\n",
              "      <td>0.683439</td>\n",
              "      <td>0.726551</td>\n",
              "    </tr>\n",
              "    <tr>\n",
              "      <th>1</th>\n",
              "      <td>Black</td>\n",
              "      <td>0.716344</td>\n",
              "      <td>0.748590</td>\n",
              "    </tr>\n",
              "    <tr>\n",
              "      <th>2</th>\n",
              "      <td>Unknown or Legacy</td>\n",
              "      <td>0.644742</td>\n",
              "      <td>0.664954</td>\n",
              "    </tr>\n",
              "    <tr>\n",
              "      <th>3</th>\n",
              "      <td>East/Southeast Asian</td>\n",
              "      <td>0.566773</td>\n",
              "      <td>0.645692</td>\n",
              "    </tr>\n",
              "    <tr>\n",
              "      <th>4</th>\n",
              "      <td>South Asian</td>\n",
              "      <td>0.627156</td>\n",
              "      <td>0.654251</td>\n",
              "    </tr>\n",
              "    <tr>\n",
              "      <th>5</th>\n",
              "      <td>Middle-Eastern</td>\n",
              "      <td>0.642702</td>\n",
              "      <td>0.695864</td>\n",
              "    </tr>\n",
              "    <tr>\n",
              "      <th>6</th>\n",
              "      <td>Indigenous</td>\n",
              "      <td>0.807027</td>\n",
              "      <td>0.818310</td>\n",
              "    </tr>\n",
              "    <tr>\n",
              "      <th>7</th>\n",
              "      <td>Latino</td>\n",
              "      <td>0.599315</td>\n",
              "      <td>0.705781</td>\n",
              "    </tr>\n",
              "  </tbody>\n",
              "</table>\n",
              "</div>\n",
              "      <button class=\"colab-df-convert\" onclick=\"convertToInteractive('df-3768a5cd-44cc-40f4-ad77-30d727513794')\"\n",
              "              title=\"Convert this dataframe to an interactive table.\"\n",
              "              style=\"display:none;\">\n",
              "        \n",
              "  <svg xmlns=\"http://www.w3.org/2000/svg\" height=\"24px\"viewBox=\"0 0 24 24\"\n",
              "       width=\"24px\">\n",
              "    <path d=\"M0 0h24v24H0V0z\" fill=\"none\"/>\n",
              "    <path d=\"M18.56 5.44l.94 2.06.94-2.06 2.06-.94-2.06-.94-.94-2.06-.94 2.06-2.06.94zm-11 1L8.5 8.5l.94-2.06 2.06-.94-2.06-.94L8.5 2.5l-.94 2.06-2.06.94zm10 10l.94 2.06.94-2.06 2.06-.94-2.06-.94-.94-2.06-.94 2.06-2.06.94z\"/><path d=\"M17.41 7.96l-1.37-1.37c-.4-.4-.92-.59-1.43-.59-.52 0-1.04.2-1.43.59L10.3 9.45l-7.72 7.72c-.78.78-.78 2.05 0 2.83L4 21.41c.39.39.9.59 1.41.59.51 0 1.02-.2 1.41-.59l7.78-7.78 2.81-2.81c.8-.78.8-2.07 0-2.86zM5.41 20L4 18.59l7.72-7.72 1.47 1.35L5.41 20z\"/>\n",
              "  </svg>\n",
              "      </button>\n",
              "      \n",
              "  <style>\n",
              "    .colab-df-container {\n",
              "      display:flex;\n",
              "      flex-wrap:wrap;\n",
              "      gap: 12px;\n",
              "    }\n",
              "\n",
              "    .colab-df-convert {\n",
              "      background-color: #E8F0FE;\n",
              "      border: none;\n",
              "      border-radius: 50%;\n",
              "      cursor: pointer;\n",
              "      display: none;\n",
              "      fill: #1967D2;\n",
              "      height: 32px;\n",
              "      padding: 0 0 0 0;\n",
              "      width: 32px;\n",
              "    }\n",
              "\n",
              "    .colab-df-convert:hover {\n",
              "      background-color: #E2EBFA;\n",
              "      box-shadow: 0px 1px 2px rgba(60, 64, 67, 0.3), 0px 1px 3px 1px rgba(60, 64, 67, 0.15);\n",
              "      fill: #174EA6;\n",
              "    }\n",
              "\n",
              "    [theme=dark] .colab-df-convert {\n",
              "      background-color: #3B4455;\n",
              "      fill: #D2E3FC;\n",
              "    }\n",
              "\n",
              "    [theme=dark] .colab-df-convert:hover {\n",
              "      background-color: #434B5C;\n",
              "      box-shadow: 0px 1px 3px 1px rgba(0, 0, 0, 0.15);\n",
              "      filter: drop-shadow(0px 1px 2px rgba(0, 0, 0, 0.3));\n",
              "      fill: #FFFFFF;\n",
              "    }\n",
              "  </style>\n",
              "\n",
              "      <script>\n",
              "        const buttonEl =\n",
              "          document.querySelector('#df-3768a5cd-44cc-40f4-ad77-30d727513794 button.colab-df-convert');\n",
              "        buttonEl.style.display =\n",
              "          google.colab.kernel.accessAllowed ? 'block' : 'none';\n",
              "\n",
              "        async function convertToInteractive(key) {\n",
              "          const element = document.querySelector('#df-3768a5cd-44cc-40f4-ad77-30d727513794');\n",
              "          const dataTable =\n",
              "            await google.colab.kernel.invokeFunction('convertToInteractive',\n",
              "                                                     [key], {});\n",
              "          if (!dataTable) return;\n",
              "\n",
              "          const docLinkHtml = 'Like what you see? Visit the ' +\n",
              "            '<a target=\"_blank\" href=https://colab.research.google.com/notebooks/data_table.ipynb>data table notebook</a>'\n",
              "            + ' to learn more about interactive tables.';\n",
              "          element.innerHTML = '';\n",
              "          dataTable['output_type'] = 'display_data';\n",
              "          await google.colab.output.renderOutput(dataTable, element);\n",
              "          const docLink = document.createElement('div');\n",
              "          docLink.innerHTML = docLinkHtml;\n",
              "          element.appendChild(docLink);\n",
              "        }\n",
              "      </script>\n",
              "    </div>\n",
              "  </div>\n",
              "  "
            ]
          },
          "metadata": {},
          "execution_count": 35
        }
      ],
      "source": [
        "barplot_races_uncooperative = []\n",
        "for race in races:\n",
        "  barplot_races_uncooperative.append(data[(data[\"Perceived_Race\"] == race)][\"Actions_at_arrest\"])\n",
        "\n",
        "mean_uncooperative_actions_race = []\n",
        "for set in barplot_races_uncooperative: \n",
        "  mean_uncooperative_actions_race.append(np.mean(set))\n",
        "\n",
        "sd_uncooperative_actions_race = []\n",
        "for set in barplot_races_uncooperative: \n",
        "    sd_uncooperative_actions_race.append(np.std(set))\n",
        "\n",
        "barplot_races_uncooperative_data = np.array([races, mean_uncooperative_actions_race, sd_uncooperative_actions_race]).T\n",
        "barplot_races_uncooperative_table = pd.DataFrame(data = barplot_races_uncooperative_data, columns = [\"Perceived Race\", \"Mean\", \"Standard Deviation\"])\n",
        "barplot_races_uncooperative_table[\"Mean\"] = np.float64(barplot_races_uncooperative_table[\"Mean\"])\n",
        "barplot_races_uncooperative_table[\"Standard Deviation\"] = np.float64(barplot_races_uncooperative_table[\"Standard Deviation\"])\n",
        "\n",
        "barplot_races_uncooperative_table"
      ]
    },
    {
      "cell_type": "code",
      "execution_count": null,
      "metadata": {
        "id": "jbmJiF2HzXyd",
        "outputId": "c9f4371f-a469-48f8-b259-f3a1eb610c27",
        "colab": {
          "base_uri": "https://localhost:8080/",
          "height": 409
        }
      },
      "outputs": [
        {
          "output_type": "execute_result",
          "data": {
            "text/plain": [
              "<ErrorbarContainer object of 3 artists>"
            ]
          },
          "metadata": {},
          "execution_count": 36
        },
        {
          "output_type": "display_data",
          "data": {
            "text/plain": [
              "<Figure size 432x288 with 1 Axes>"
            ],
            "image/png": "[encoded data removed]"
          },
          "metadata": {
            "needs_background": "light"
          }
        }
      ],
      "source": [
        "plt.bar(barplot_races_uncooperative_table[\"Perceived Race\"], barplot_races_uncooperative_table[\"Mean\"], yerr = barplot_races_uncooperative_table[\"Standard Deviation\"])\n",
        "plt.xlabel(\"Perceived Race\")\n",
        "plt.xticks(rotation = 90)\n",
        "plt.ylabel(\"Mean Number of Uncooperative Actions\")\n",
        "plt.title(\"Mean Uncooperativeness of Individuals in Different Perceived Race Groups\")\n",
        "\n",
        "axes = plt.subplot()\n",
        "axes.errorbar(barplot_races_uncooperative_table[\"Perceived Race\"], barplot_races_uncooperative_table[\"Mean\"], yerr = barplot_races_uncooperative_table[\"Standard Deviation\"], \n",
        "              elinewidth = 1, capsize = 3.0, fmt = \"none\")"
      ]
    },
    {
      "cell_type": "code",
      "execution_count": null,
      "metadata": {
        "id": "6tUgBozpjAFU"
      },
      "outputs": [],
      "source": [
        "data=data[['Time_series','Perceived_Race','Sex','Age_group_clean','Youth_at_arrest__under_18_years','StripSearch','Booked','Occurrence_Category','ItemsFound','SearchReason','Actions_at_arrest']]"
      ]
    },
    {
      "cell_type": "code",
      "execution_count": null,
      "metadata": {
        "colab": {
          "base_uri": "https://localhost:8080/"
        },
        "id": "mu_drpv6kmVy",
        "outputId": "3f0b1228-3552-4d0e-df42-7d493ab71db4"
      },
      "outputs": [
        {
          "output_type": "execute_result",
          "data": {
            "text/plain": [
              "array(['Aged 35 to 44 years', 'Aged 25 to 34 years',\n",
              "       'Aged 45 to 54 years', 'Aged 55 to 64 years',\n",
              "       'Aged 18 to 24 years', 'Aged 65 years and older',\n",
              "       'Aged 17 years and under'], dtype=object)"
            ]
          },
          "metadata": {},
          "execution_count": 38
        }
      ],
      "source": [
        "data['Age_group_clean'].unique()"
      ]
    },
    {
      "cell_type": "code",
      "execution_count": null,
      "metadata": {
        "colab": {
          "base_uri": "https://localhost:8080/"
        },
        "id": "LvLUR75MrRMR",
        "outputId": "e7356057-7012-435a-8c6a-67cbaee60903"
      },
      "outputs": [
        {
          "output_type": "execute_result",
          "data": {
            "text/plain": [
              "array(['Not a youth', 'Youth (aged 17 and younger)',\n",
              "       'Youth (aged 17 years and under)'], dtype=object)"
            ]
          },
          "metadata": {},
          "execution_count": 39
        }
      ],
      "source": [
        "data['Youth_at_arrest__under_18_years'].unique()"
      ]
    },
    {
      "cell_type": "code",
      "execution_count": null,
      "metadata": {
        "id": "78CBVXlykuu3"
      },
      "outputs": [],
      "source": [
        "# making Perceived_Race numeric\n",
        "\n",
        "race_dict={'White':0,\n",
        "           \"Unknown or Legacy\":1,\n",
        "           \"Black\":2,\n",
        "           \"South Asian\":3,\n",
        "           \"Indigenous\":4,\n",
        "           \"Middle-Eastern\":5,\n",
        "           'Latino':6,\n",
        "           \"East/Southeast Asian\":7}\n",
        "data['Perceived_Race']=data['Perceived_Race'].replace(race_dict)"
      ]
    },
    {
      "cell_type": "code",
      "execution_count": null,
      "metadata": {
        "id": "PirN3Q6todjv"
      },
      "outputs": [],
      "source": [
        "sex_dict={'M':0,'F':1,'U':2}\n",
        "data['Sex']=data['Sex'].replace(sex_dict)"
      ]
    },
    {
      "cell_type": "code",
      "execution_count": null,
      "metadata": {
        "id": "JbttGCQ-p0Lc"
      },
      "outputs": [],
      "source": [
        "age_dict0={}\n",
        "i=0\n",
        "for x in data['Age_group_clean'].unique():\n",
        "  age_dict0[x]=i\n",
        "  i+=1      "
      ]
    },
    {
      "cell_type": "code",
      "execution_count": null,
      "metadata": {
        "id": "S1UZfPrDvQsV"
      },
      "outputs": [],
      "source": [
        "age_dict={'Aged 17 years and under': 0,\n",
        "          'Aged 18 to 24 years': 1,\n",
        "          'Aged 25 to 34 years': 2,\n",
        "          'Aged 35 to 44 years': 3,\n",
        "          'Aged 45 to 54 years': 4,\n",
        "          'Aged 55 to 64 years': 5,\n",
        "          'Aged 65 years and older': 6,\n",
        "          }"
      ]
    },
    {
      "cell_type": "code",
      "execution_count": null,
      "metadata": {
        "id": "suHQo3-YwWo8"
      },
      "outputs": [],
      "source": [
        "data['Age_group_clean']=data['Age_group_clean'].replace(age_dict)"
      ]
    },
    {
      "cell_type": "code",
      "execution_count": null,
      "metadata": {
        "id": "UfTM964rxled"
      },
      "outputs": [],
      "source": [
        "youth_dict={'Youth (aged 17 and younger)':0,\n",
        "            'Youth (aged 17 years and under)':0,\n",
        "'Not a youth':1}"
      ]
    },
    {
      "cell_type": "code",
      "execution_count": null,
      "metadata": {
        "id": "G4xIc2ICyAHj"
      },
      "outputs": [],
      "source": [
        "data['Youth_at_arrest__under_18_years']=data['Youth_at_arrest__under_18_years'].replace(youth_dict)"
      ]
    },
    {
      "cell_type": "code",
      "execution_count": null,
      "metadata": {
        "id": "bdr-tKnC1CPm"
      },
      "outputs": [],
      "source": [
        "data=data.dropna()"
      ]
    },
    {
      "cell_type": "code",
      "execution_count": null,
      "metadata": {
        "colab": {
          "base_uri": "https://localhost:8080/",
          "height": 487
        },
        "id": "LzwRvWxA1R7x",
        "outputId": "3e2422d2-19de-4c85-b5d4-2400b312990a"
      },
      "outputs": [
        {
          "output_type": "execute_result",
          "data": {
            "text/plain": [
              "       Time_series  Perceived_Race  Sex  Age_group_clean  \\\n",
              "0                3               0    0                3   \n",
              "1                3               0    0                3   \n",
              "2                4               1    0                3   \n",
              "3                5               2    0                2   \n",
              "4                5               3    0                2   \n",
              "...            ...             ...  ...              ...   \n",
              "65271            8               4    1                2   \n",
              "65272            8               3    0                3   \n",
              "65273            8               0    1                4   \n",
              "65274            8               1    0                0   \n",
              "65275            8               6    0                1   \n",
              "\n",
              "       Youth_at_arrest__under_18_years  StripSearch  Booked  \\\n",
              "0                                    1            0       1   \n",
              "1                                    1            0       1   \n",
              "2                                    1            0       1   \n",
              "3                                    1            0       0   \n",
              "4                                    1            0       1   \n",
              "...                                ...          ...     ...   \n",
              "65271                                1            0       0   \n",
              "65272                                1            0       1   \n",
              "65273                                1            0       0   \n",
              "65274                                0            0       0   \n",
              "65275                                1            0       0   \n",
              "\n",
              "      Occurrence_Category  ItemsFound  SearchReason  Actions_at_arrest  \n",
              "0                       0         0.0           0.0                  0  \n",
              "1                       0         0.0           0.0                  1  \n",
              "2                       0         0.0           0.0                  1  \n",
              "3                       6         0.0           0.0                  1  \n",
              "4                       3         0.0           0.0                  1  \n",
              "...                   ...         ...           ...                ...  \n",
              "65271                   6         0.0           0.0                  2  \n",
              "65272                   0         0.0           0.0                  1  \n",
              "65273                   0         0.0           0.0                  1  \n",
              "65274                   1         0.0           0.0                  0  \n",
              "65275                   6         0.0           0.0                  0  \n",
              "\n",
              "[64615 rows x 11 columns]"
            ],
            "text/html": [
              "\n",
              "  <div id=\"df-616b97e3-ce7f-4fba-a9aa-25739823d00b\">\n",
              "    <div class=\"colab-df-container\">\n",
              "      <div>\n",
              "<style scoped>\n",
              "    .dataframe tbody tr th:only-of-type {\n",
              "        vertical-align: middle;\n",
              "    }\n",
              "\n",
              "    .dataframe tbody tr th {\n",
              "        vertical-align: top;\n",
              "    }\n",
              "\n",
              "    .dataframe thead th {\n",
              "        text-align: right;\n",
              "    }\n",
              "</style>\n",
              "<table border=\"1\" class=\"dataframe\">\n",
              "  <thead>\n",
              "    <tr style=\"text-align: right;\">\n",
              "      <th></th>\n",
              "      <th>Time_series</th>\n",
              "      <th>Perceived_Race</th>\n",
              "      <th>Sex</th>\n",
              "      <th>Age_group_clean</th>\n",
              "      <th>Youth_at_arrest__under_18_years</th>\n",
              "      <th>StripSearch</th>\n",
              "      <th>Booked</th>\n",
              "      <th>Occurrence_Category</th>\n",
              "      <th>ItemsFound</th>\n",
              "      <th>SearchReason</th>\n",
              "      <th>Actions_at_arrest</th>\n",
              "    </tr>\n",
              "  </thead>\n",
              "  <tbody>\n",
              "    <tr>\n",
              "      <th>0</th>\n",
              "      <td>3</td>\n",
              "      <td>0</td>\n",
              "      <td>0</td>\n",
              "      <td>3</td>\n",
              "      <td>1</td>\n",
              "      <td>0</td>\n",
              "      <td>1</td>\n",
              "      <td>0</td>\n",
              "      <td>0.0</td>\n",
              "      <td>0.0</td>\n",
              "      <td>0</td>\n",
              "    </tr>\n",
              "    <tr>\n",
              "      <th>1</th>\n",
              "      <td>3</td>\n",
              "      <td>0</td>\n",
              "      <td>0</td>\n",
              "      <td>3</td>\n",
              "      <td>1</td>\n",
              "      <td>0</td>\n",
              "      <td>1</td>\n",
              "      <td>0</td>\n",
              "      <td>0.0</td>\n",
              "      <td>0.0</td>\n",
              "      <td>1</td>\n",
              "    </tr>\n",
              "    <tr>\n",
              "      <th>2</th>\n",
              "      <td>4</td>\n",
              "      <td>1</td>\n",
              "      <td>0</td>\n",
              "      <td>3</td>\n",
              "      <td>1</td>\n",
              "      <td>0</td>\n",
              "      <td>1</td>\n",
              "      <td>0</td>\n",
              "      <td>0.0</td>\n",
              "      <td>0.0</td>\n",
              "      <td>1</td>\n",
              "    </tr>\n",
              "    <tr>\n",
              "      <th>3</th>\n",
              "      <td>5</td>\n",
              "      <td>2</td>\n",
              "      <td>0</td>\n",
              "      <td>2</td>\n",
              "      <td>1</td>\n",
              "      <td>0</td>\n",
              "      <td>0</td>\n",
              "      <td>6</td>\n",
              "      <td>0.0</td>\n",
              "      <td>0.0</td>\n",
              "      <td>1</td>\n",
              "    </tr>\n",
              "    <tr>\n",
              "      <th>4</th>\n",
              "      <td>5</td>\n",
              "      <td>3</td>\n",
              "      <td>0</td>\n",
              "      <td>2</td>\n",
              "      <td>1</td>\n",
              "      <td>0</td>\n",
              "      <td>1</td>\n",
              "      <td>3</td>\n",
              "      <td>0.0</td>\n",
              "      <td>0.0</td>\n",
              "      <td>1</td>\n",
              "    </tr>\n",
              "    <tr>\n",
              "      <th>...</th>\n",
              "      <td>...</td>\n",
              "      <td>...</td>\n",
              "      <td>...</td>\n",
              "      <td>...</td>\n",
              "      <td>...</td>\n",
              "      <td>...</td>\n",
              "      <td>...</td>\n",
              "      <td>...</td>\n",
              "      <td>...</td>\n",
              "      <td>...</td>\n",
              "      <td>...</td>\n",
              "    </tr>\n",
              "    <tr>\n",
              "      <th>65271</th>\n",
              "      <td>8</td>\n",
              "      <td>4</td>\n",
              "      <td>1</td>\n",
              "      <td>2</td>\n",
              "      <td>1</td>\n",
              "      <td>0</td>\n",
              "      <td>0</td>\n",
              "      <td>6</td>\n",
              "      <td>0.0</td>\n",
              "      <td>0.0</td>\n",
              "      <td>2</td>\n",
              "    </tr>\n",
              "    <tr>\n",
              "      <th>65272</th>\n",
              "      <td>8</td>\n",
              "      <td>3</td>\n",
              "      <td>0</td>\n",
              "      <td>3</td>\n",
              "      <td>1</td>\n",
              "      <td>0</td>\n",
              "      <td>1</td>\n",
              "      <td>0</td>\n",
              "      <td>0.0</td>\n",
              "      <td>0.0</td>\n",
              "      <td>1</td>\n",
              "    </tr>\n",
              "    <tr>\n",
              "      <th>65273</th>\n",
              "      <td>8</td>\n",
              "      <td>0</td>\n",
              "      <td>1</td>\n",
              "      <td>4</td>\n",
              "      <td>1</td>\n",
              "      <td>0</td>\n",
              "      <td>0</td>\n",
              "      <td>0</td>\n",
              "      <td>0.0</td>\n",
              "      <td>0.0</td>\n",
              "      <td>1</td>\n",
              "    </tr>\n",
              "    <tr>\n",
              "      <th>65274</th>\n",
              "      <td>8</td>\n",
              "      <td>1</td>\n",
              "      <td>0</td>\n",
              "      <td>0</td>\n",
              "      <td>0</td>\n",
              "      <td>0</td>\n",
              "      <td>0</td>\n",
              "      <td>1</td>\n",
              "      <td>0.0</td>\n",
              "      <td>0.0</td>\n",
              "      <td>0</td>\n",
              "    </tr>\n",
              "    <tr>\n",
              "      <th>65275</th>\n",
              "      <td>8</td>\n",
              "      <td>6</td>\n",
              "      <td>0</td>\n",
              "      <td>1</td>\n",
              "      <td>1</td>\n",
              "      <td>0</td>\n",
              "      <td>0</td>\n",
              "      <td>6</td>\n",
              "      <td>0.0</td>\n",
              "      <td>0.0</td>\n",
              "      <td>0</td>\n",
              "    </tr>\n",
              "  </tbody>\n",
              "</table>\n",
              "<p>64615 rows × 11 columns</p>\n",
              "</div>\n",
              "      <button class=\"colab-df-convert\" onclick=\"convertToInteractive('df-616b97e3-ce7f-4fba-a9aa-25739823d00b')\"\n",
              "              title=\"Convert this dataframe to an interactive table.\"\n",
              "              style=\"display:none;\">\n",
              "        \n",
              "  <svg xmlns=\"http://www.w3.org/2000/svg\" height=\"24px\"viewBox=\"0 0 24 24\"\n",
              "       width=\"24px\">\n",
              "    <path d=\"M0 0h24v24H0V0z\" fill=\"none\"/>\n",
              "    <path d=\"M18.56 5.44l.94 2.06.94-2.06 2.06-.94-2.06-.94-.94-2.06-.94 2.06-2.06.94zm-11 1L8.5 8.5l.94-2.06 2.06-.94-2.06-.94L8.5 2.5l-.94 2.06-2.06.94zm10 10l.94 2.06.94-2.06 2.06-.94-2.06-.94-.94-2.06-.94 2.06-2.06.94z\"/><path d=\"M17.41 7.96l-1.37-1.37c-.4-.4-.92-.59-1.43-.59-.52 0-1.04.2-1.43.59L10.3 9.45l-7.72 7.72c-.78.78-.78 2.05 0 2.83L4 21.41c.39.39.9.59 1.41.59.51 0 1.02-.2 1.41-.59l7.78-7.78 2.81-2.81c.8-.78.8-2.07 0-2.86zM5.41 20L4 18.59l7.72-7.72 1.47 1.35L5.41 20z\"/>\n",
              "  </svg>\n",
              "      </button>\n",
              "      \n",
              "  <style>\n",
              "    .colab-df-container {\n",
              "      display:flex;\n",
              "      flex-wrap:wrap;\n",
              "      gap: 12px;\n",
              "    }\n",
              "\n",
              "    .colab-df-convert {\n",
              "      background-color: #E8F0FE;\n",
              "      border: none;\n",
              "      border-radius: 50%;\n",
              "      cursor: pointer;\n",
              "      display: none;\n",
              "      fill: #1967D2;\n",
              "      height: 32px;\n",
              "      padding: 0 0 0 0;\n",
              "      width: 32px;\n",
              "    }\n",
              "\n",
              "    .colab-df-convert:hover {\n",
              "      background-color: #E2EBFA;\n",
              "      box-shadow: 0px 1px 2px rgba(60, 64, 67, 0.3), 0px 1px 3px 1px rgba(60, 64, 67, 0.15);\n",
              "      fill: #174EA6;\n",
              "    }\n",
              "\n",
              "    [theme=dark] .colab-df-convert {\n",
              "      background-color: #3B4455;\n",
              "      fill: #D2E3FC;\n",
              "    }\n",
              "\n",
              "    [theme=dark] .colab-df-convert:hover {\n",
              "      background-color: #434B5C;\n",
              "      box-shadow: 0px 1px 3px 1px rgba(0, 0, 0, 0.15);\n",
              "      filter: drop-shadow(0px 1px 2px rgba(0, 0, 0, 0.3));\n",
              "      fill: #FFFFFF;\n",
              "    }\n",
              "  </style>\n",
              "\n",
              "      <script>\n",
              "        const buttonEl =\n",
              "          document.querySelector('#df-616b97e3-ce7f-4fba-a9aa-25739823d00b button.colab-df-convert');\n",
              "        buttonEl.style.display =\n",
              "          google.colab.kernel.accessAllowed ? 'block' : 'none';\n",
              "\n",
              "        async function convertToInteractive(key) {\n",
              "          const element = document.querySelector('#df-616b97e3-ce7f-4fba-a9aa-25739823d00b');\n",
              "          const dataTable =\n",
              "            await google.colab.kernel.invokeFunction('convertToInteractive',\n",
              "                                                     [key], {});\n",
              "          if (!dataTable) return;\n",
              "\n",
              "          const docLinkHtml = 'Like what you see? Visit the ' +\n",
              "            '<a target=\"_blank\" href=https://colab.research.google.com/notebooks/data_table.ipynb>data table notebook</a>'\n",
              "            + ' to learn more about interactive tables.';\n",
              "          element.innerHTML = '';\n",
              "          dataTable['output_type'] = 'display_data';\n",
              "          await google.colab.output.renderOutput(dataTable, element);\n",
              "          const docLink = document.createElement('div');\n",
              "          docLink.innerHTML = docLinkHtml;\n",
              "          element.appendChild(docLink);\n",
              "        }\n",
              "      </script>\n",
              "    </div>\n",
              "  </div>\n",
              "  "
            ]
          },
          "metadata": {},
          "execution_count": 48
        }
      ],
      "source": [
        "data"
      ]
    },
    {
      "cell_type": "code",
      "execution_count": null,
      "metadata": {
        "colab": {
          "base_uri": "https://localhost:8080/",
          "height": 437
        },
        "id": "c82ubsUVcfH-",
        "outputId": "91504e90-9a52-4de1-99f0-402eaa6476b7"
      },
      "outputs": [
        {
          "output_type": "display_data",
          "data": {
            "text/plain": [
              "<Figure size 432x288 with 2 Axes>"
            ],
            "image/png": "[encoded data removed]"
          },
          "metadata": {
            "needs_background": "light"
          }
        }
      ],
      "source": [
        "import seaborn as sns\n",
        "\n",
        "corr_matrix = data.corr()\n",
        "fig, ax = plt.subplots()\n",
        "sns.heatmap(corr_matrix, annot=True, cmap='coolwarm', ax=ax, fmt = \"0.2f\")\n",
        "ax.set_title('Correlation Heatmap')\n",
        "\n",
        "plt.show()"
      ]
    },
    {
      "cell_type": "code",
      "execution_count": null,
      "metadata": {
        "id": "0tHsDFcQ_CUF"
      },
      "outputs": [],
      "source": [
        "#drop sex=U for convenience, as the number of sex=U is quite small.\n",
        "data=data[data[\"Sex\"]!=2]"
      ]
    },
    {
      "cell_type": "markdown",
      "metadata": {
        "id": "OI6IvD6nEIhx"
      },
      "source": [
        "# EDA – T-tests"
      ]
    },
    {
      "cell_type": "code",
      "execution_count": null,
      "metadata": {
        "id": "J9sXVnqGCYWO"
      },
      "outputs": [],
      "source": [
        "from scipy.stats import ttest_ind"
      ]
    },
    {
      "cell_type": "code",
      "execution_count": null,
      "metadata": {
        "colab": {
          "base_uri": "https://localhost:8080/"
        },
        "id": "6rcINjVM12Hx",
        "outputId": "95c9bbb1-b440-4679-9294-db57b10be90b"
      },
      "outputs": [
        {
          "output_type": "stream",
          "name": "stderr",
          "text": [
            "<ipython-input-52-18ff4f6b1e8e>:4: SettingWithCopyWarning: \n",
            "A value is trying to be set on a copy of a slice from a DataFrame.\n",
            "Try using .loc[row_indexer,col_indexer] = value instead\n",
            "\n",
            "See the caveats in the documentation: https://pandas.pydata.org/pandas-docs/stable/user_guide/indexing.html#returning-a-view-versus-a-copy\n",
            "  data[\"Non_White\"] = np.where((data[\"Perceived_Race\"] == 0), 0, 1)\n"
          ]
        },
        {
          "output_type": "execute_result",
          "data": {
            "text/plain": [
              "Ttest_indResult(statistic=-3.0885229329832646, pvalue=0.0020191899285704772)"
            ]
          },
          "metadata": {},
          "execution_count": 52
        }
      ],
      "source": [
        "#Hypothesis: strip searched None white people and white people act at the same way while arrested, given that they are strip searched.\n",
        "#H0: Mean non_white=Mean white\n",
        "#Ha: Mean non_white!=Mean white\n",
        "data[\"Non_White\"] = np.where((data[\"Perceived_Race\"] == 0), 0, 1)\n",
        "uncoop_race_group1 = data[(data[\"Non_White\"] == 0) & (data[\"StripSearch\"] == 1)] # white\n",
        "uncoop_race_group2 = data[(data[\"Non_White\"] == 1) & (data[\"StripSearch\"] == 1)] # non-white\n",
        "\n",
        "# Welch's t-test: for samples of unequal variance\n",
        "ttest_ind(uncoop_race_group1['Actions_at_arrest'], uncoop_race_group2[\"Actions_at_arrest\"], equal_var=False)\n",
        "\n",
        "# result is significant"
      ]
    },
    {
      "cell_type": "code",
      "execution_count": null,
      "metadata": {
        "colab": {
          "base_uri": "https://localhost:8080/"
        },
        "id": "lUGDckAWzAty",
        "outputId": "f73162b6-b8e9-4f23-af6e-ddc2e048c8e7"
      },
      "outputs": [
        {
          "output_type": "execute_result",
          "data": {
            "text/plain": [
              "Ttest_indResult(statistic=2.9486119222353993, pvalue=0.003193489378729995)"
            ]
          },
          "metadata": {},
          "execution_count": 53
        }
      ],
      "source": [
        "#Hypothesis: strip searched None white people and white people act at the same way while arrested, given that they are not strip searched.\n",
        "#H0: Mean non_white=Mean white\n",
        "#Ha: Mean non_white!=Mean white\n",
        "\n",
        "uncoop_race_non_stripsearch_group1 = data[(data[\"Non_White\"] == 0) & (data[\"StripSearch\"] == 0)] # white\n",
        "uncoop_race_non_stripsearch_group2 = data[(data[\"Non_White\"] == 1) & (data[\"StripSearch\"] == 0)] # non-white\n",
        "\n",
        "# Welch's t-test: for samples of unequal variance\n",
        "ttest_ind(uncoop_race_non_stripsearch_group1['Actions_at_arrest'], uncoop_race_non_stripsearch_group2[\"Actions_at_arrest\"], equal_var=False)\n",
        "\n",
        "# result is significant"
      ]
    },
    {
      "cell_type": "code",
      "execution_count": null,
      "metadata": {
        "colab": {
          "base_uri": "https://localhost:8080/"
        },
        "id": "hM8_ptiT3N6P",
        "outputId": "e3c180b4-e961-4705-c856-127caf9022f2"
      },
      "outputs": [
        {
          "output_type": "execute_result",
          "data": {
            "text/plain": [
              "Ttest_indResult(statistic=3.497863162864763, pvalue=0.0005414117861691657)"
            ]
          },
          "metadata": {},
          "execution_count": 54
        }
      ],
      "source": [
        "#Hypothesis: strip searched Youth and adults act at the same way while arrested, given that they are strip searched.\n",
        "#H0: Mean Youth=Mean adults\n",
        "#Ha: Mean Youth!=Mean adults\n",
        "uncoop_youth_group1 = data[(data[\"Youth_at_arrest__under_18_years\"] == 1) & (data[\"StripSearch\"] == 1)] # youth\n",
        "uncoop_youth_group2 = data[(data[\"Youth_at_arrest__under_18_years\"] == 0) & (data[\"StripSearch\"] == 1)] # adult\n",
        "\n",
        "# Welch's t-test: for samples of unequal variance\n",
        "ttest_ind(uncoop_youth_group1['Actions_at_arrest'], uncoop_youth_group2[\"Actions_at_arrest\"], equal_var=False)\n",
        "\n",
        "# result is significant"
      ]
    },
    {
      "cell_type": "code",
      "source": [
        "youth_group1 = data[(data[\"Youth_at_arrest__under_18_years\"] == 1)] # youth\n",
        "adults_group2 = data[(data[\"Youth_at_arrest__under_18_years\"] == 0)] # adult\n",
        "\n",
        "ttest_ind(youth_group1['Actions_at_arrest'], adults_group2[\"Actions_at_arrest\"],alternative='greater', equal_var=False)\n",
        "# the youth are more uncooperative than adults"
      ],
      "metadata": {
        "id": "lu_LUEHibatB",
        "outputId": "9f6160d8-92e4-42ee-8f56-3e35df7b7dce",
        "colab": {
          "base_uri": "https://localhost:8080/"
        }
      },
      "execution_count": null,
      "outputs": [
        {
          "output_type": "execute_result",
          "data": {
            "text/plain": [
              "Ttest_indResult(statistic=6.642709772978391, pvalue=1.7852599476523315e-11)"
            ]
          },
          "metadata": {},
          "execution_count": 102
        }
      ]
    },
    {
      "cell_type": "code",
      "source": [
        "ttest_ind(youth_group1['Actions_at_arrest'], adults_group2[\"Actions_at_arrest\"],alternative='greater', equal_var=False)\n"
      ],
      "metadata": {
        "id": "qPjInQmSe2EF"
      },
      "execution_count": null,
      "outputs": []
    },
    {
      "cell_type": "code",
      "source": [
        "#Hypothesis: strip searched Youth and adults act at the same way while arrested, given that they not are strip searched.\n",
        "#H0: Mean Youth=Mean adults\n",
        "#Ha: Mean Youth!=Mean adults\n",
        "uncoop_youth_non_stripsearch_group1 = data[(data[\"Youth_at_arrest__under_18_years\"] == 1) & (data[\"StripSearch\"] == 0)] # youth\n",
        "uncoop_youth_non_stripsearch_group2 = data[(data[\"Youth_at_arrest__under_18_years\"] == 0) & (data[\"StripSearch\"] == 0)] # adult\n",
        "\n",
        "# Welch's t-test: for samples of unequal variance\n",
        "ttest_ind(uncoop_youth_non_stripsearch_group1['Actions_at_arrest'], uncoop_youth_non_stripsearch_group2[\"Actions_at_arrest\"], equal_var=False)\n",
        "\n",
        "# result is significant"
      ],
      "metadata": {
        "id": "mzzPbuAS1I1n",
        "outputId": "12ec4f9d-583b-4c21-9e51-b8b4ee99e76d",
        "colab": {
          "base_uri": "https://localhost:8080/"
        }
      },
      "execution_count": null,
      "outputs": [
        {
          "output_type": "execute_result",
          "data": {
            "text/plain": [
              "Ttest_indResult(statistic=5.421998021379758, pvalue=6.345417626270847e-08)"
            ]
          },
          "metadata": {},
          "execution_count": 55
        }
      ]
    },
    {
      "cell_type": "code",
      "source": [
        "data"
      ],
      "metadata": {
        "id": "eyMMoapye9bB",
        "outputId": "ced6c526-ab67-4e84-d4f6-5f14ae708d16",
        "colab": {
          "base_uri": "https://localhost:8080/",
          "height": 487
        }
      },
      "execution_count": null,
      "outputs": [
        {
          "output_type": "execute_result",
          "data": {
            "text/plain": [
              "       Time_series  Perceived_Race  Sex  Age_group_clean  \\\n",
              "0                3               0    0                3   \n",
              "1                3               0    0                3   \n",
              "2                4               1    0                3   \n",
              "3                5               2    0                2   \n",
              "4                5               3    0                2   \n",
              "...            ...             ...  ...              ...   \n",
              "65271            8               4    1                2   \n",
              "65272            8               3    0                3   \n",
              "65273            8               0    1                4   \n",
              "65274            8               1    0                0   \n",
              "65275            8               6    0                1   \n",
              "\n",
              "       Youth_at_arrest__under_18_years  StripSearch  Booked  \\\n",
              "0                                    1            0       1   \n",
              "1                                    1            0       1   \n",
              "2                                    1            0       1   \n",
              "3                                    1            0       0   \n",
              "4                                    1            0       1   \n",
              "...                                ...          ...     ...   \n",
              "65271                                1            0       0   \n",
              "65272                                1            0       1   \n",
              "65273                                1            0       0   \n",
              "65274                                0            0       0   \n",
              "65275                                1            0       0   \n",
              "\n",
              "      Occurrence_Category  ItemsFound  SearchReason  Actions_at_arrest  \\\n",
              "0                       0         0.0           0.0                  0   \n",
              "1                       0         0.0           0.0                  1   \n",
              "2                       0         0.0           0.0                  1   \n",
              "3                       6         0.0           0.0                  1   \n",
              "4                       3         0.0           0.0                  1   \n",
              "...                   ...         ...           ...                ...   \n",
              "65271                   6         0.0           0.0                  2   \n",
              "65272                   0         0.0           0.0                  1   \n",
              "65273                   0         0.0           0.0                  1   \n",
              "65274                   1         0.0           0.0                  0   \n",
              "65275                   6         0.0           0.0                  0   \n",
              "\n",
              "       Non_White  \n",
              "0              0  \n",
              "1              0  \n",
              "2              1  \n",
              "3              1  \n",
              "4              1  \n",
              "...          ...  \n",
              "65271          1  \n",
              "65272          1  \n",
              "65273          0  \n",
              "65274          1  \n",
              "65275          1  \n",
              "\n",
              "[64606 rows x 12 columns]"
            ],
            "text/html": [
              "\n",
              "  <div id=\"df-7b088a1e-85cc-46f8-8c53-5f68729f3854\">\n",
              "    <div class=\"colab-df-container\">\n",
              "      <div>\n",
              "<style scoped>\n",
              "    .dataframe tbody tr th:only-of-type {\n",
              "        vertical-align: middle;\n",
              "    }\n",
              "\n",
              "    .dataframe tbody tr th {\n",
              "        vertical-align: top;\n",
              "    }\n",
              "\n",
              "    .dataframe thead th {\n",
              "        text-align: right;\n",
              "    }\n",
              "</style>\n",
              "<table border=\"1\" class=\"dataframe\">\n",
              "  <thead>\n",
              "    <tr style=\"text-align: right;\">\n",
              "      <th></th>\n",
              "      <th>Time_series</th>\n",
              "      <th>Perceived_Race</th>\n",
              "      <th>Sex</th>\n",
              "      <th>Age_group_clean</th>\n",
              "      <th>Youth_at_arrest__under_18_years</th>\n",
              "      <th>StripSearch</th>\n",
              "      <th>Booked</th>\n",
              "      <th>Occurrence_Category</th>\n",
              "      <th>ItemsFound</th>\n",
              "      <th>SearchReason</th>\n",
              "      <th>Actions_at_arrest</th>\n",
              "      <th>Non_White</th>\n",
              "    </tr>\n",
              "  </thead>\n",
              "  <tbody>\n",
              "    <tr>\n",
              "      <th>0</th>\n",
              "      <td>3</td>\n",
              "      <td>0</td>\n",
              "      <td>0</td>\n",
              "      <td>3</td>\n",
              "      <td>1</td>\n",
              "      <td>0</td>\n",
              "      <td>1</td>\n",
              "      <td>0</td>\n",
              "      <td>0.0</td>\n",
              "      <td>0.0</td>\n",
              "      <td>0</td>\n",
              "      <td>0</td>\n",
              "    </tr>\n",
              "    <tr>\n",
              "      <th>1</th>\n",
              "      <td>3</td>\n",
              "      <td>0</td>\n",
              "      <td>0</td>\n",
              "      <td>3</td>\n",
              "      <td>1</td>\n",
              "      <td>0</td>\n",
              "      <td>1</td>\n",
              "      <td>0</td>\n",
              "      <td>0.0</td>\n",
              "      <td>0.0</td>\n",
              "      <td>1</td>\n",
              "      <td>0</td>\n",
              "    </tr>\n",
              "    <tr>\n",
              "      <th>2</th>\n",
              "      <td>4</td>\n",
              "      <td>1</td>\n",
              "      <td>0</td>\n",
              "      <td>3</td>\n",
              "      <td>1</td>\n",
              "      <td>0</td>\n",
              "      <td>1</td>\n",
              "      <td>0</td>\n",
              "      <td>0.0</td>\n",
              "      <td>0.0</td>\n",
              "      <td>1</td>\n",
              "      <td>1</td>\n",
              "    </tr>\n",
              "    <tr>\n",
              "      <th>3</th>\n",
              "      <td>5</td>\n",
              "      <td>2</td>\n",
              "      <td>0</td>\n",
              "      <td>2</td>\n",
              "      <td>1</td>\n",
              "      <td>0</td>\n",
              "      <td>0</td>\n",
              "      <td>6</td>\n",
              "      <td>0.0</td>\n",
              "      <td>0.0</td>\n",
              "      <td>1</td>\n",
              "      <td>1</td>\n",
              "    </tr>\n",
              "    <tr>\n",
              "      <th>4</th>\n",
              "      <td>5</td>\n",
              "      <td>3</td>\n",
              "      <td>0</td>\n",
              "      <td>2</td>\n",
              "      <td>1</td>\n",
              "      <td>0</td>\n",
              "      <td>1</td>\n",
              "      <td>3</td>\n",
              "      <td>0.0</td>\n",
              "      <td>0.0</td>\n",
              "      <td>1</td>\n",
              "      <td>1</td>\n",
              "    </tr>\n",
              "    <tr>\n",
              "      <th>...</th>\n",
              "      <td>...</td>\n",
              "      <td>...</td>\n",
              "      <td>...</td>\n",
              "      <td>...</td>\n",
              "      <td>...</td>\n",
              "      <td>...</td>\n",
              "      <td>...</td>\n",
              "      <td>...</td>\n",
              "      <td>...</td>\n",
              "      <td>...</td>\n",
              "      <td>...</td>\n",
              "      <td>...</td>\n",
              "    </tr>\n",
              "    <tr>\n",
              "      <th>65271</th>\n",
              "      <td>8</td>\n",
              "      <td>4</td>\n",
              "      <td>1</td>\n",
              "      <td>2</td>\n",
              "      <td>1</td>\n",
              "      <td>0</td>\n",
              "      <td>0</td>\n",
              "      <td>6</td>\n",
              "      <td>0.0</td>\n",
              "      <td>0.0</td>\n",
              "      <td>2</td>\n",
              "      <td>1</td>\n",
              "    </tr>\n",
              "    <tr>\n",
              "      <th>65272</th>\n",
              "      <td>8</td>\n",
              "      <td>3</td>\n",
              "      <td>0</td>\n",
              "      <td>3</td>\n",
              "      <td>1</td>\n",
              "      <td>0</td>\n",
              "      <td>1</td>\n",
              "      <td>0</td>\n",
              "      <td>0.0</td>\n",
              "      <td>0.0</td>\n",
              "      <td>1</td>\n",
              "      <td>1</td>\n",
              "    </tr>\n",
              "    <tr>\n",
              "      <th>65273</th>\n",
              "      <td>8</td>\n",
              "      <td>0</td>\n",
              "      <td>1</td>\n",
              "      <td>4</td>\n",
              "      <td>1</td>\n",
              "      <td>0</td>\n",
              "      <td>0</td>\n",
              "      <td>0</td>\n",
              "      <td>0.0</td>\n",
              "      <td>0.0</td>\n",
              "      <td>1</td>\n",
              "      <td>0</td>\n",
              "    </tr>\n",
              "    <tr>\n",
              "      <th>65274</th>\n",
              "      <td>8</td>\n",
              "      <td>1</td>\n",
              "      <td>0</td>\n",
              "      <td>0</td>\n",
              "      <td>0</td>\n",
              "      <td>0</td>\n",
              "      <td>0</td>\n",
              "      <td>1</td>\n",
              "      <td>0.0</td>\n",
              "      <td>0.0</td>\n",
              "      <td>0</td>\n",
              "      <td>1</td>\n",
              "    </tr>\n",
              "    <tr>\n",
              "      <th>65275</th>\n",
              "      <td>8</td>\n",
              "      <td>6</td>\n",
              "      <td>0</td>\n",
              "      <td>1</td>\n",
              "      <td>1</td>\n",
              "      <td>0</td>\n",
              "      <td>0</td>\n",
              "      <td>6</td>\n",
              "      <td>0.0</td>\n",
              "      <td>0.0</td>\n",
              "      <td>0</td>\n",
              "      <td>1</td>\n",
              "    </tr>\n",
              "  </tbody>\n",
              "</table>\n",
              "<p>64606 rows × 12 columns</p>\n",
              "</div>\n",
              "      <button class=\"colab-df-convert\" onclick=\"convertToInteractive('df-7b088a1e-85cc-46f8-8c53-5f68729f3854')\"\n",
              "              title=\"Convert this dataframe to an interactive table.\"\n",
              "              style=\"display:none;\">\n",
              "        \n",
              "  <svg xmlns=\"http://www.w3.org/2000/svg\" height=\"24px\"viewBox=\"0 0 24 24\"\n",
              "       width=\"24px\">\n",
              "    <path d=\"M0 0h24v24H0V0z\" fill=\"none\"/>\n",
              "    <path d=\"M18.56 5.44l.94 2.06.94-2.06 2.06-.94-2.06-.94-.94-2.06-.94 2.06-2.06.94zm-11 1L8.5 8.5l.94-2.06 2.06-.94-2.06-.94L8.5 2.5l-.94 2.06-2.06.94zm10 10l.94 2.06.94-2.06 2.06-.94-2.06-.94-.94-2.06-.94 2.06-2.06.94z\"/><path d=\"M17.41 7.96l-1.37-1.37c-.4-.4-.92-.59-1.43-.59-.52 0-1.04.2-1.43.59L10.3 9.45l-7.72 7.72c-.78.78-.78 2.05 0 2.83L4 21.41c.39.39.9.59 1.41.59.51 0 1.02-.2 1.41-.59l7.78-7.78 2.81-2.81c.8-.78.8-2.07 0-2.86zM5.41 20L4 18.59l7.72-7.72 1.47 1.35L5.41 20z\"/>\n",
              "  </svg>\n",
              "      </button>\n",
              "      \n",
              "  <style>\n",
              "    .colab-df-container {\n",
              "      display:flex;\n",
              "      flex-wrap:wrap;\n",
              "      gap: 12px;\n",
              "    }\n",
              "\n",
              "    .colab-df-convert {\n",
              "      background-color: #E8F0FE;\n",
              "      border: none;\n",
              "      border-radius: 50%;\n",
              "      cursor: pointer;\n",
              "      display: none;\n",
              "      fill: #1967D2;\n",
              "      height: 32px;\n",
              "      padding: 0 0 0 0;\n",
              "      width: 32px;\n",
              "    }\n",
              "\n",
              "    .colab-df-convert:hover {\n",
              "      background-color: #E2EBFA;\n",
              "      box-shadow: 0px 1px 2px rgba(60, 64, 67, 0.3), 0px 1px 3px 1px rgba(60, 64, 67, 0.15);\n",
              "      fill: #174EA6;\n",
              "    }\n",
              "\n",
              "    [theme=dark] .colab-df-convert {\n",
              "      background-color: #3B4455;\n",
              "      fill: #D2E3FC;\n",
              "    }\n",
              "\n",
              "    [theme=dark] .colab-df-convert:hover {\n",
              "      background-color: #434B5C;\n",
              "      box-shadow: 0px 1px 3px 1px rgba(0, 0, 0, 0.15);\n",
              "      filter: drop-shadow(0px 1px 2px rgba(0, 0, 0, 0.3));\n",
              "      fill: #FFFFFF;\n",
              "    }\n",
              "  </style>\n",
              "\n",
              "      <script>\n",
              "        const buttonEl =\n",
              "          document.querySelector('#df-7b088a1e-85cc-46f8-8c53-5f68729f3854 button.colab-df-convert');\n",
              "        buttonEl.style.display =\n",
              "          google.colab.kernel.accessAllowed ? 'block' : 'none';\n",
              "\n",
              "        async function convertToInteractive(key) {\n",
              "          const element = document.querySelector('#df-7b088a1e-85cc-46f8-8c53-5f68729f3854');\n",
              "          const dataTable =\n",
              "            await google.colab.kernel.invokeFunction('convertToInteractive',\n",
              "                                                     [key], {});\n",
              "          if (!dataTable) return;\n",
              "\n",
              "          const docLinkHtml = 'Like what you see? Visit the ' +\n",
              "            '<a target=\"_blank\" href=https://colab.research.google.com/notebooks/data_table.ipynb>data table notebook</a>'\n",
              "            + ' to learn more about interactive tables.';\n",
              "          element.innerHTML = '';\n",
              "          dataTable['output_type'] = 'display_data';\n",
              "          await google.colab.output.renderOutput(dataTable, element);\n",
              "          const docLink = document.createElement('div');\n",
              "          docLink.innerHTML = docLinkHtml;\n",
              "          element.appendChild(docLink);\n",
              "        }\n",
              "      </script>\n",
              "    </div>\n",
              "  </div>\n",
              "  "
            ]
          },
          "metadata": {},
          "execution_count": 104
        }
      ]
    },
    {
      "cell_type": "code",
      "source": [
        "ttest_ind(youth_group1['ItemsFound'], adults_group2[\"ItemsFound\"],alternative='greater', equal_var=False)\n",
        "#Police found more items on youth."
      ],
      "metadata": {
        "id": "f48Ibd7ucMBO",
        "outputId": "06d29a15-f4a2-436d-9c66-29c4c9f21438",
        "colab": {
          "base_uri": "https://localhost:8080/"
        }
      },
      "execution_count": null,
      "outputs": [
        {
          "output_type": "execute_result",
          "data": {
            "text/plain": [
              "Ttest_indResult(statistic=2.8309913242765377, pvalue=0.0023338437689997466)"
            ]
          },
          "metadata": {},
          "execution_count": 106
        }
      ]
    },
    {
      "cell_type": "code",
      "execution_count": null,
      "metadata": {
        "colab": {
          "base_uri": "https://localhost:8080/"
        },
        "id": "YonoBlD-4ILY",
        "outputId": "98bacf98-dbf7-49fc-a7fb-3ea8bf125165"
      },
      "outputs": [
        {
          "output_type": "execute_result",
          "data": {
            "text/plain": [
              "Ttest_indResult(statistic=-0.9432478045259425, pvalue=0.34568585953999675)"
            ]
          },
          "metadata": {},
          "execution_count": 56
        }
      ],
      "source": [
        "#Hypothesis: stripsearched Male and Female act at the same way while arrested, given that they are strip searched.\n",
        "#H0: Mean stripsearched Male=Mean stripsearched Female\n",
        "#Ha: Mean stripsearched Male!=Mean stripsearched Female\n",
        "uncoop_sex_group1 = data[(data[\"Sex\"] == 1) & (data[\"StripSearch\"] == 1)] # female\n",
        "uncoop_sex_group2 = data[(data[\"Sex\"] == 0) & (data[\"StripSearch\"] == 1)] # male\n",
        "\n",
        "# Welch's t-test: for samples of unequal variance\n",
        "ttest_ind(uncoop_sex_group1['Actions_at_arrest'], uncoop_sex_group2[\"Actions_at_arrest\"], equal_var=False)\n",
        "\n",
        "# result is not significant"
      ]
    },
    {
      "cell_type": "code",
      "source": [
        "#Hypothesis: stripsearched Male and Female act at the same way while arrested, given that they are not strip searched.\n",
        "#H0: Mean non stripsearched Male=Mean non stripsearched Female\n",
        "#Ha: Mean non stripsearched Male!=Mean non stripsearched Female\n",
        "uncoop_sex_non_stripsearch_group1 = data[(data[\"Sex\"] == 1) & (data[\"StripSearch\"] == 0)] # youth\n",
        "uncoop_sex_non_stripsearch_group2 = data[(data[\"Sex\"] == 0) & (data[\"StripSearch\"] == 0)] # adult\n",
        "\n",
        "# Welch's t-test: for samples of unequal variance\n",
        "ttest_ind(uncoop_sex_non_stripsearch_group1['Actions_at_arrest'], uncoop_sex_non_stripsearch_group2[\"Actions_at_arrest\"], equal_var=False)\n",
        "\n",
        "# result is significant"
      ],
      "metadata": {
        "id": "YXKghEml1xc9",
        "outputId": "d951acf9-aa9b-406d-ad3f-801b9f07a4f4",
        "colab": {
          "base_uri": "https://localhost:8080/"
        }
      },
      "execution_count": null,
      "outputs": [
        {
          "output_type": "execute_result",
          "data": {
            "text/plain": [
              "Ttest_indResult(statistic=4.34371463838641, pvalue=1.4090514199255714e-05)"
            ]
          },
          "metadata": {},
          "execution_count": 57
        }
      ]
    },
    {
      "cell_type": "code",
      "execution_count": null,
      "metadata": {
        "colab": {
          "base_uri": "https://localhost:8080/"
        },
        "id": "bnPNczrC44L6",
        "outputId": "3a7a53b9-44a9-45e8-9a5e-0f8aa6338869"
      },
      "outputs": [
        {
          "output_type": "execute_result",
          "data": {
            "text/plain": [
              "Ttest_indResult(statistic=14.998240893135485, pvalue=3.311761565523326e-50)"
            ]
          },
          "metadata": {},
          "execution_count": 58
        }
      ],
      "source": [
        "#Hypothesis: Strip searched people and non Strip searched people act at the same way while arrested.\n",
        "#H0: Mean strip searched=Mean non strip searched\n",
        "#Ha: Mean strip searched!=Mean non strip searched\n",
        "\n",
        "uncoop_stripsearch_group1 = data[(data[\"StripSearch\"] == 1)] # strip searched\n",
        "uncoop_stripsearch_group2 = data[(data[\"StripSearch\"] == 0)] # not strip searched\n",
        "\n",
        "# Welch's t-test: for samples of unequal variance\n",
        "ttest_ind(uncoop_stripsearch_group1['Actions_at_arrest'], uncoop_stripsearch_group2[\"Actions_at_arrest\"], equal_var=False)\n",
        "\n",
        "# result is significant"
      ]
    },
    {
      "cell_type": "code",
      "source": [
        "def get_coop(action):\n",
        "    if action != 0:\n",
        "        return 1\n",
        "    else:\n",
        "        return 0\n",
        "\n",
        "data['coop_or_not'] = data['Actions_at_arrest'].apply(get_coop)"
      ],
      "metadata": {
        "colab": {
          "base_uri": "https://localhost:8080/"
        },
        "id": "MYzhTjfgrhYl",
        "outputId": "fadafbcf-d8a4-42c4-fcec-539859575ca5"
      },
      "execution_count": null,
      "outputs": [
        {
          "output_type": "stream",
          "name": "stderr",
          "text": [
            "<ipython-input-117-09617239c0c6>:7: SettingWithCopyWarning: \n",
            "A value is trying to be set on a copy of a slice from a DataFrame.\n",
            "Try using .loc[row_indexer,col_indexer] = value instead\n",
            "\n",
            "See the caveats in the documentation: https://pandas.pydata.org/pandas-docs/stable/user_guide/indexing.html#returning-a-view-versus-a-copy\n",
            "  data['coop_or_not'] = data['Actions_at_arrest'].apply(get_coop)\n"
          ]
        }
      ]
    },
    {
      "cell_type": "code",
      "source": [
        "# police do strip search based on cooperation while being arrested or not.\n",
        "uncoop_stripsearch_group1 = data[(data[\"coop_or_not\"] == 1)] # strip searched\n",
        "coop_stripsearch_group2 = data[(data[\"coop_or_not\"] == 0)] # not strip searched\n",
        "\n",
        "# Welch's t-test: for samples of unequal variance\n",
        "ttest_ind(uncoop_stripsearch_group1['StripSearch'], coop_stripsearch_group2[\"StripSearch\"],alternative='greater' ,equal_var=False)\n",
        "#conlusion：police deduct more strip search on uncooperative people."
      ],
      "metadata": {
        "colab": {
          "base_uri": "https://localhost:8080/"
        },
        "id": "4f2u8c5fqXXh",
        "outputId": "ccaed81e-5f48-42c7-8b63-b0e3af41b53d"
      },
      "execution_count": null,
      "outputs": [
        {
          "output_type": "execute_result",
          "data": {
            "text/plain": [
              "Ttest_indResult(statistic=3.568155370423262, pvalue=0.00017988790037454702)"
            ]
          },
          "metadata": {},
          "execution_count": 123
        }
      ]
    },
    {
      "cell_type": "markdown",
      "metadata": {
        "id": "bz5rskaN-Vsx"
      },
      "source": [
        "# ANOVA"
      ]
    },
    {
      "cell_type": "code",
      "execution_count": null,
      "metadata": {
        "id": "ImeAfb6f-bjj"
      },
      "outputs": [],
      "source": [
        "from scipy.stats import f\n",
        "import statsmodels.api as sm\n",
        "from statsmodels.formula.api import ols"
      ]
    },
    {
      "cell_type": "code",
      "execution_count": null,
      "metadata": {
        "colab": {
          "base_uri": "https://localhost:8080/",
          "height": 550
        },
        "id": "htZCPF_q29Lm",
        "outputId": "3c9091e5-12db-4156-8963-e160300935fe"
      },
      "outputs": [
        {
          "output_type": "execute_result",
          "data": {
            "text/plain": [
              "    Perceived_Race  Sex  Coop_at_arrest_count\n",
              "0                0    0                  9317\n",
              "1                0    1                  2618\n",
              "2                1    0                  1817\n",
              "3                1    1                   366\n",
              "4                2    0                  6060\n",
              "5                2    1                  1184\n",
              "6                3    0                  1388\n",
              "7                3    1                   235\n",
              "8                4    0                   495\n",
              "9                4    1                   239\n",
              "10               5    0                  1310\n",
              "11               5    1                   159\n",
              "12               6    0                   747\n",
              "13               6    1                   127\n",
              "14               7    0                  1844\n",
              "15               7    1                   357"
            ],
            "text/html": [
              "\n",
              "  <div id=\"df-cddb6a23-680b-4a12-950d-9b20cbf6448a\">\n",
              "    <div class=\"colab-df-container\">\n",
              "      <div>\n",
              "<style scoped>\n",
              "    .dataframe tbody tr th:only-of-type {\n",
              "        vertical-align: middle;\n",
              "    }\n",
              "\n",
              "    .dataframe tbody tr th {\n",
              "        vertical-align: top;\n",
              "    }\n",
              "\n",
              "    .dataframe thead th {\n",
              "        text-align: right;\n",
              "    }\n",
              "</style>\n",
              "<table border=\"1\" class=\"dataframe\">\n",
              "  <thead>\n",
              "    <tr style=\"text-align: right;\">\n",
              "      <th></th>\n",
              "      <th>Perceived_Race</th>\n",
              "      <th>Sex</th>\n",
              "      <th>Coop_at_arrest_count</th>\n",
              "    </tr>\n",
              "  </thead>\n",
              "  <tbody>\n",
              "    <tr>\n",
              "      <th>0</th>\n",
              "      <td>0</td>\n",
              "      <td>0</td>\n",
              "      <td>9317</td>\n",
              "    </tr>\n",
              "    <tr>\n",
              "      <th>1</th>\n",
              "      <td>0</td>\n",
              "      <td>1</td>\n",
              "      <td>2618</td>\n",
              "    </tr>\n",
              "    <tr>\n",
              "      <th>2</th>\n",
              "      <td>1</td>\n",
              "      <td>0</td>\n",
              "      <td>1817</td>\n",
              "    </tr>\n",
              "    <tr>\n",
              "      <th>3</th>\n",
              "      <td>1</td>\n",
              "      <td>1</td>\n",
              "      <td>366</td>\n",
              "    </tr>\n",
              "    <tr>\n",
              "      <th>4</th>\n",
              "      <td>2</td>\n",
              "      <td>0</td>\n",
              "      <td>6060</td>\n",
              "    </tr>\n",
              "    <tr>\n",
              "      <th>5</th>\n",
              "      <td>2</td>\n",
              "      <td>1</td>\n",
              "      <td>1184</td>\n",
              "    </tr>\n",
              "    <tr>\n",
              "      <th>6</th>\n",
              "      <td>3</td>\n",
              "      <td>0</td>\n",
              "      <td>1388</td>\n",
              "    </tr>\n",
              "    <tr>\n",
              "      <th>7</th>\n",
              "      <td>3</td>\n",
              "      <td>1</td>\n",
              "      <td>235</td>\n",
              "    </tr>\n",
              "    <tr>\n",
              "      <th>8</th>\n",
              "      <td>4</td>\n",
              "      <td>0</td>\n",
              "      <td>495</td>\n",
              "    </tr>\n",
              "    <tr>\n",
              "      <th>9</th>\n",
              "      <td>4</td>\n",
              "      <td>1</td>\n",
              "      <td>239</td>\n",
              "    </tr>\n",
              "    <tr>\n",
              "      <th>10</th>\n",
              "      <td>5</td>\n",
              "      <td>0</td>\n",
              "      <td>1310</td>\n",
              "    </tr>\n",
              "    <tr>\n",
              "      <th>11</th>\n",
              "      <td>5</td>\n",
              "      <td>1</td>\n",
              "      <td>159</td>\n",
              "    </tr>\n",
              "    <tr>\n",
              "      <th>12</th>\n",
              "      <td>6</td>\n",
              "      <td>0</td>\n",
              "      <td>747</td>\n",
              "    </tr>\n",
              "    <tr>\n",
              "      <th>13</th>\n",
              "      <td>6</td>\n",
              "      <td>1</td>\n",
              "      <td>127</td>\n",
              "    </tr>\n",
              "    <tr>\n",
              "      <th>14</th>\n",
              "      <td>7</td>\n",
              "      <td>0</td>\n",
              "      <td>1844</td>\n",
              "    </tr>\n",
              "    <tr>\n",
              "      <th>15</th>\n",
              "      <td>7</td>\n",
              "      <td>1</td>\n",
              "      <td>357</td>\n",
              "    </tr>\n",
              "  </tbody>\n",
              "</table>\n",
              "</div>\n",
              "      <button class=\"colab-df-convert\" onclick=\"convertToInteractive('df-cddb6a23-680b-4a12-950d-9b20cbf6448a')\"\n",
              "              title=\"Convert this dataframe to an interactive table.\"\n",
              "              style=\"display:none;\">\n",
              "        \n",
              "  <svg xmlns=\"http://www.w3.org/2000/svg\" height=\"24px\"viewBox=\"0 0 24 24\"\n",
              "       width=\"24px\">\n",
              "    <path d=\"M0 0h24v24H0V0z\" fill=\"none\"/>\n",
              "    <path d=\"M18.56 5.44l.94 2.06.94-2.06 2.06-.94-2.06-.94-.94-2.06-.94 2.06-2.06.94zm-11 1L8.5 8.5l.94-2.06 2.06-.94-2.06-.94L8.5 2.5l-.94 2.06-2.06.94zm10 10l.94 2.06.94-2.06 2.06-.94-2.06-.94-.94-2.06-.94 2.06-2.06.94z\"/><path d=\"M17.41 7.96l-1.37-1.37c-.4-.4-.92-.59-1.43-.59-.52 0-1.04.2-1.43.59L10.3 9.45l-7.72 7.72c-.78.78-.78 2.05 0 2.83L4 21.41c.39.39.9.59 1.41.59.51 0 1.02-.2 1.41-.59l7.78-7.78 2.81-2.81c.8-.78.8-2.07 0-2.86zM5.41 20L4 18.59l7.72-7.72 1.47 1.35L5.41 20z\"/>\n",
              "  </svg>\n",
              "      </button>\n",
              "      \n",
              "  <style>\n",
              "    .colab-df-container {\n",
              "      display:flex;\n",
              "      flex-wrap:wrap;\n",
              "      gap: 12px;\n",
              "    }\n",
              "\n",
              "    .colab-df-convert {\n",
              "      background-color: #E8F0FE;\n",
              "      border: none;\n",
              "      border-radius: 50%;\n",
              "      cursor: pointer;\n",
              "      display: none;\n",
              "      fill: #1967D2;\n",
              "      height: 32px;\n",
              "      padding: 0 0 0 0;\n",
              "      width: 32px;\n",
              "    }\n",
              "\n",
              "    .colab-df-convert:hover {\n",
              "      background-color: #E2EBFA;\n",
              "      box-shadow: 0px 1px 2px rgba(60, 64, 67, 0.3), 0px 1px 3px 1px rgba(60, 64, 67, 0.15);\n",
              "      fill: #174EA6;\n",
              "    }\n",
              "\n",
              "    [theme=dark] .colab-df-convert {\n",
              "      background-color: #3B4455;\n",
              "      fill: #D2E3FC;\n",
              "    }\n",
              "\n",
              "    [theme=dark] .colab-df-convert:hover {\n",
              "      background-color: #434B5C;\n",
              "      box-shadow: 0px 1px 3px 1px rgba(0, 0, 0, 0.15);\n",
              "      filter: drop-shadow(0px 1px 2px rgba(0, 0, 0, 0.3));\n",
              "      fill: #FFFFFF;\n",
              "    }\n",
              "  </style>\n",
              "\n",
              "      <script>\n",
              "        const buttonEl =\n",
              "          document.querySelector('#df-cddb6a23-680b-4a12-950d-9b20cbf6448a button.colab-df-convert');\n",
              "        buttonEl.style.display =\n",
              "          google.colab.kernel.accessAllowed ? 'block' : 'none';\n",
              "\n",
              "        async function convertToInteractive(key) {\n",
              "          const element = document.querySelector('#df-cddb6a23-680b-4a12-950d-9b20cbf6448a');\n",
              "          const dataTable =\n",
              "            await google.colab.kernel.invokeFunction('convertToInteractive',\n",
              "                                                     [key], {});\n",
              "          if (!dataTable) return;\n",
              "\n",
              "          const docLinkHtml = 'Like what you see? Visit the ' +\n",
              "            '<a target=\"_blank\" href=https://colab.research.google.com/notebooks/data_table.ipynb>data table notebook</a>'\n",
              "            + ' to learn more about interactive tables.';\n",
              "          element.innerHTML = '';\n",
              "          dataTable['output_type'] = 'display_data';\n",
              "          await google.colab.output.renderOutput(dataTable, element);\n",
              "          const docLink = document.createElement('div');\n",
              "          docLink.innerHTML = docLinkHtml;\n",
              "          element.appendChild(docLink);\n",
              "        }\n",
              "      </script>\n",
              "    </div>\n",
              "  </div>\n",
              "  "
            ]
          },
          "metadata": {},
          "execution_count": 60
        }
      ],
      "source": [
        "#create y and show a frequency table\n",
        "grouped_data0 = data.groupby(['Perceived_Race', 'Sex'])['Actions_at_arrest'].apply(lambda x: (x == 0).sum()).reset_index()\n",
        "grouped_data0 = grouped_data0.rename(columns={'Actions_at_arrest': 'Coop_at_arrest_count'})\n",
        "grouped_data0"
      ]
    },
    {
      "cell_type": "code",
      "execution_count": null,
      "metadata": {
        "id": "ELL-kAU-0axE"
      },
      "outputs": [],
      "source": [
        "#start anova here"
      ]
    },
    {
      "cell_type": "code",
      "execution_count": null,
      "metadata": {
        "colab": {
          "base_uri": "https://localhost:8080/",
          "height": 550
        },
        "id": "1BUIpMFN0309",
        "outputId": "e4714441-ff50-45fc-dbee-7dea9d03d6c8"
      },
      "outputs": [
        {
          "output_type": "execute_result",
          "data": {
            "text/plain": [
              "    Perceived_Race  Sex  StripSearch_count\n",
              "0                0    0               2611\n",
              "1                0    1                727\n",
              "2                1    0                402\n",
              "3                1    1                 91\n",
              "4                2    0               2055\n",
              "5                2    1                244\n",
              "6                3    0                222\n",
              "7                3    1                 26\n",
              "8                4    0                219\n",
              "9                4    1                 68\n",
              "10               5    0                196\n",
              "11               5    1                 18\n",
              "12               6    0                115\n",
              "13               6    1                 10\n",
              "14               7    0                303\n",
              "15               7    1                 24"
            ],
            "text/html": [
              "\n",
              "  <div id=\"df-5cd93e05-ccbc-4c65-84d2-6a14565a34a5\">\n",
              "    <div class=\"colab-df-container\">\n",
              "      <div>\n",
              "<style scoped>\n",
              "    .dataframe tbody tr th:only-of-type {\n",
              "        vertical-align: middle;\n",
              "    }\n",
              "\n",
              "    .dataframe tbody tr th {\n",
              "        vertical-align: top;\n",
              "    }\n",
              "\n",
              "    .dataframe thead th {\n",
              "        text-align: right;\n",
              "    }\n",
              "</style>\n",
              "<table border=\"1\" class=\"dataframe\">\n",
              "  <thead>\n",
              "    <tr style=\"text-align: right;\">\n",
              "      <th></th>\n",
              "      <th>Perceived_Race</th>\n",
              "      <th>Sex</th>\n",
              "      <th>StripSearch_count</th>\n",
              "    </tr>\n",
              "  </thead>\n",
              "  <tbody>\n",
              "    <tr>\n",
              "      <th>0</th>\n",
              "      <td>0</td>\n",
              "      <td>0</td>\n",
              "      <td>2611</td>\n",
              "    </tr>\n",
              "    <tr>\n",
              "      <th>1</th>\n",
              "      <td>0</td>\n",
              "      <td>1</td>\n",
              "      <td>727</td>\n",
              "    </tr>\n",
              "    <tr>\n",
              "      <th>2</th>\n",
              "      <td>1</td>\n",
              "      <td>0</td>\n",
              "      <td>402</td>\n",
              "    </tr>\n",
              "    <tr>\n",
              "      <th>3</th>\n",
              "      <td>1</td>\n",
              "      <td>1</td>\n",
              "      <td>91</td>\n",
              "    </tr>\n",
              "    <tr>\n",
              "      <th>4</th>\n",
              "      <td>2</td>\n",
              "      <td>0</td>\n",
              "      <td>2055</td>\n",
              "    </tr>\n",
              "    <tr>\n",
              "      <th>5</th>\n",
              "      <td>2</td>\n",
              "      <td>1</td>\n",
              "      <td>244</td>\n",
              "    </tr>\n",
              "    <tr>\n",
              "      <th>6</th>\n",
              "      <td>3</td>\n",
              "      <td>0</td>\n",
              "      <td>222</td>\n",
              "    </tr>\n",
              "    <tr>\n",
              "      <th>7</th>\n",
              "      <td>3</td>\n",
              "      <td>1</td>\n",
              "      <td>26</td>\n",
              "    </tr>\n",
              "    <tr>\n",
              "      <th>8</th>\n",
              "      <td>4</td>\n",
              "      <td>0</td>\n",
              "      <td>219</td>\n",
              "    </tr>\n",
              "    <tr>\n",
              "      <th>9</th>\n",
              "      <td>4</td>\n",
              "      <td>1</td>\n",
              "      <td>68</td>\n",
              "    </tr>\n",
              "    <tr>\n",
              "      <th>10</th>\n",
              "      <td>5</td>\n",
              "      <td>0</td>\n",
              "      <td>196</td>\n",
              "    </tr>\n",
              "    <tr>\n",
              "      <th>11</th>\n",
              "      <td>5</td>\n",
              "      <td>1</td>\n",
              "      <td>18</td>\n",
              "    </tr>\n",
              "    <tr>\n",
              "      <th>12</th>\n",
              "      <td>6</td>\n",
              "      <td>0</td>\n",
              "      <td>115</td>\n",
              "    </tr>\n",
              "    <tr>\n",
              "      <th>13</th>\n",
              "      <td>6</td>\n",
              "      <td>1</td>\n",
              "      <td>10</td>\n",
              "    </tr>\n",
              "    <tr>\n",
              "      <th>14</th>\n",
              "      <td>7</td>\n",
              "      <td>0</td>\n",
              "      <td>303</td>\n",
              "    </tr>\n",
              "    <tr>\n",
              "      <th>15</th>\n",
              "      <td>7</td>\n",
              "      <td>1</td>\n",
              "      <td>24</td>\n",
              "    </tr>\n",
              "  </tbody>\n",
              "</table>\n",
              "</div>\n",
              "      <button class=\"colab-df-convert\" onclick=\"convertToInteractive('df-5cd93e05-ccbc-4c65-84d2-6a14565a34a5')\"\n",
              "              title=\"Convert this dataframe to an interactive table.\"\n",
              "              style=\"display:none;\">\n",
              "        \n",
              "  <svg xmlns=\"http://www.w3.org/2000/svg\" height=\"24px\"viewBox=\"0 0 24 24\"\n",
              "       width=\"24px\">\n",
              "    <path d=\"M0 0h24v24H0V0z\" fill=\"none\"/>\n",
              "    <path d=\"M18.56 5.44l.94 2.06.94-2.06 2.06-.94-2.06-.94-.94-2.06-.94 2.06-2.06.94zm-11 1L8.5 8.5l.94-2.06 2.06-.94-2.06-.94L8.5 2.5l-.94 2.06-2.06.94zm10 10l.94 2.06.94-2.06 2.06-.94-2.06-.94-.94-2.06-.94 2.06-2.06.94z\"/><path d=\"M17.41 7.96l-1.37-1.37c-.4-.4-.92-.59-1.43-.59-.52 0-1.04.2-1.43.59L10.3 9.45l-7.72 7.72c-.78.78-.78 2.05 0 2.83L4 21.41c.39.39.9.59 1.41.59.51 0 1.02-.2 1.41-.59l7.78-7.78 2.81-2.81c.8-.78.8-2.07 0-2.86zM5.41 20L4 18.59l7.72-7.72 1.47 1.35L5.41 20z\"/>\n",
              "  </svg>\n",
              "      </button>\n",
              "      \n",
              "  <style>\n",
              "    .colab-df-container {\n",
              "      display:flex;\n",
              "      flex-wrap:wrap;\n",
              "      gap: 12px;\n",
              "    }\n",
              "\n",
              "    .colab-df-convert {\n",
              "      background-color: #E8F0FE;\n",
              "      border: none;\n",
              "      border-radius: 50%;\n",
              "      cursor: pointer;\n",
              "      display: none;\n",
              "      fill: #1967D2;\n",
              "      height: 32px;\n",
              "      padding: 0 0 0 0;\n",
              "      width: 32px;\n",
              "    }\n",
              "\n",
              "    .colab-df-convert:hover {\n",
              "      background-color: #E2EBFA;\n",
              "      box-shadow: 0px 1px 2px rgba(60, 64, 67, 0.3), 0px 1px 3px 1px rgba(60, 64, 67, 0.15);\n",
              "      fill: #174EA6;\n",
              "    }\n",
              "\n",
              "    [theme=dark] .colab-df-convert {\n",
              "      background-color: #3B4455;\n",
              "      fill: #D2E3FC;\n",
              "    }\n",
              "\n",
              "    [theme=dark] .colab-df-convert:hover {\n",
              "      background-color: #434B5C;\n",
              "      box-shadow: 0px 1px 3px 1px rgba(0, 0, 0, 0.15);\n",
              "      filter: drop-shadow(0px 1px 2px rgba(0, 0, 0, 0.3));\n",
              "      fill: #FFFFFF;\n",
              "    }\n",
              "  </style>\n",
              "\n",
              "      <script>\n",
              "        const buttonEl =\n",
              "          document.querySelector('#df-5cd93e05-ccbc-4c65-84d2-6a14565a34a5 button.colab-df-convert');\n",
              "        buttonEl.style.display =\n",
              "          google.colab.kernel.accessAllowed ? 'block' : 'none';\n",
              "\n",
              "        async function convertToInteractive(key) {\n",
              "          const element = document.querySelector('#df-5cd93e05-ccbc-4c65-84d2-6a14565a34a5');\n",
              "          const dataTable =\n",
              "            await google.colab.kernel.invokeFunction('convertToInteractive',\n",
              "                                                     [key], {});\n",
              "          if (!dataTable) return;\n",
              "\n",
              "          const docLinkHtml = 'Like what you see? Visit the ' +\n",
              "            '<a target=\"_blank\" href=https://colab.research.google.com/notebooks/data_table.ipynb>data table notebook</a>'\n",
              "            + ' to learn more about interactive tables.';\n",
              "          element.innerHTML = '';\n",
              "          dataTable['output_type'] = 'display_data';\n",
              "          await google.colab.output.renderOutput(dataTable, element);\n",
              "          const docLink = document.createElement('div');\n",
              "          docLink.innerHTML = docLinkHtml;\n",
              "          element.appendChild(docLink);\n",
              "        }\n",
              "      </script>\n",
              "    </div>\n",
              "  </div>\n",
              "  "
            ]
          },
          "metadata": {},
          "execution_count": 62
        }
      ],
      "source": [
        "#create y and show a frequency table\n",
        "grouped_data1 = data.groupby(['Perceived_Race', 'Sex'])['StripSearch'].apply(lambda x: (x == 1).sum()).reset_index()\n",
        "grouped_data1 = grouped_data1.rename(columns={'StripSearch': 'StripSearch_count'})\n",
        "grouped_data1"
      ]
    },
    {
      "cell_type": "code",
      "execution_count": null,
      "metadata": {
        "id": "WPlySnhDWIos"
      },
      "outputs": [],
      "source": [
        "#one way anova about strip search count and percieived race\n",
        "sample_0 = grouped_data1[grouped_data1['Perceived_Race'] == 0]['StripSearch_count']\n",
        "sample_1 = grouped_data1[grouped_data1['Perceived_Race'] == 2]['StripSearch_count']\n",
        "sample_2 = grouped_data1[grouped_data1['Perceived_Race'] == 3]['StripSearch_count']"
      ]
    },
    {
      "cell_type": "code",
      "execution_count": null,
      "metadata": {
        "colab": {
          "base_uri": "https://localhost:8080/"
        },
        "id": "2JJuNRn-WIyt",
        "outputId": "89c02558-6d24-49a3-ad62-d8cce5ade693"
      },
      "outputs": [
        {
          "output_type": "stream",
          "name": "stdout",
          "text": [
            "One-way ANOVA: s = 1.080016098799099, p = 0.4433056482344883\n"
          ]
        }
      ],
      "source": [
        "\n",
        "from scipy.stats import f_oneway\n",
        "\n",
        "# One-way ANOVA\n",
        "statistic, pvalue = f_oneway(sample_0, sample_1, sample_2)\n",
        "\n",
        "print(f'One-way ANOVA: s = {statistic}, p = {pvalue}')"
      ]
    },
    {
      "cell_type": "code",
      "execution_count": null,
      "metadata": {
        "colab": {
          "base_uri": "https://localhost:8080/"
        },
        "id": "mzJT7s_DWyYD",
        "outputId": "0b03059e-6b6a-46a1-d684-c8081fe8f722"
      },
      "outputs": [
        {
          "output_type": "stream",
          "name": "stdout",
          "text": [
            "   Multiple Comparison of Means - Tukey HSD, FWER=0.05   \n",
            "=========================================================\n",
            "group1 group2 meandiff p-adj    lower      upper   reject\n",
            "---------------------------------------------------------\n",
            "     0      1  -1422.5 0.4675 -4060.2822 1215.2822  False\n",
            "     0      2   -519.5    0.9 -3157.2822 2118.2822  False\n",
            "     0      3  -1545.0 0.3845 -4182.7822 1092.7822  False\n",
            "     0      4  -1525.5 0.3973 -4163.2822 1112.2822  False\n",
            "     0      5  -1562.0 0.3736 -4199.7822 1075.7822  False\n",
            "     0      6  -1606.5  0.346 -4244.2822 1031.2822  False\n",
            "     0      7  -1505.5 0.4106 -4143.2822 1132.2822  False\n",
            "     1      2    903.0  0.844 -1734.7822 3540.7822  False\n",
            "     1      3   -122.5    0.9 -2760.2822 2515.2822  False\n",
            "     1      4   -103.0    0.9 -2740.7822 2534.7822  False\n",
            "     1      5   -139.5    0.9 -2777.2822 2498.2822  False\n",
            "     1      6   -184.0    0.9 -2821.7822 2453.7822  False\n",
            "     1      7    -83.0    0.9 -2720.7822 2554.7822  False\n",
            "     2      3  -1025.5 0.7549 -3663.2822 1612.2822  False\n",
            "     2      4  -1006.0  0.769 -3643.7822 1631.7822  False\n",
            "     2      5  -1042.5 0.7425 -3680.2822 1595.2822  False\n",
            "     2      6  -1087.0 0.7101 -3724.7822 1550.7822  False\n",
            "     2      7   -986.0 0.7836 -3623.7822 1651.7822  False\n",
            "     3      4     19.5    0.9 -2618.2822 2657.2822  False\n",
            "     3      5    -17.0    0.9 -2654.7822 2620.7822  False\n",
            "     3      6    -61.5    0.9 -2699.2822 2576.2822  False\n",
            "     3      7     39.5    0.9 -2598.2822 2677.2822  False\n",
            "     4      5    -36.5    0.9 -2674.2822 2601.2822  False\n",
            "     4      6    -81.0    0.9 -2718.7822 2556.7822  False\n",
            "     4      7     20.0    0.9 -2617.7822 2657.7822  False\n",
            "     5      6    -44.5    0.9 -2682.2822 2593.2822  False\n",
            "     5      7     56.5    0.9 -2581.2822 2694.2822  False\n",
            "     6      7    101.0    0.9 -2536.7822 2738.7822  False\n",
            "---------------------------------------------------------\n"
          ]
        }
      ],
      "source": [
        "from statsmodels.stats.multicomp import MultiComparison, pairwise_tukeyhsd\n",
        "tukey = pairwise_tukeyhsd(endog=grouped_data1['StripSearch_count'],\n",
        "                          groups=grouped_data1['Perceived_Race'],\n",
        "                          alpha=0.05)\n",
        "\n",
        "#display results\n",
        "print(tukey)\n"
      ]
    },
    {
      "cell_type": "code",
      "execution_count": null,
      "metadata": {
        "id": "4DtzfjX0YG0Y"
      },
      "outputs": [],
      "source": [
        "sample_0 = grouped_data1[grouped_data1['Sex'] == 0]['StripSearch_count']\n",
        "sample_1 = grouped_data1[grouped_data1['Sex'] == 1]['StripSearch_count']\n"
      ]
    },
    {
      "cell_type": "code",
      "execution_count": null,
      "metadata": {
        "colab": {
          "base_uri": "https://localhost:8080/"
        },
        "id": "ljYGJJ7UYa27",
        "outputId": "fa83f316-d3e1-4b2a-89ad-1de72b089055"
      },
      "outputs": [
        {
          "output_type": "stream",
          "name": "stdout",
          "text": [
            "One-way ANOVA: s = 2.945390623047281, p = 0.10815697511427622\n"
          ]
        }
      ],
      "source": [
        "statistic, pvalue = f_oneway(sample_0, sample_1)\n",
        "\n",
        "print(f'One-way ANOVA: s = {statistic}, p = {pvalue}')"
      ]
    },
    {
      "cell_type": "code",
      "execution_count": null,
      "metadata": {
        "colab": {
          "base_uri": "https://localhost:8080/"
        },
        "id": "GUF5aiSmYPl_",
        "outputId": "040e6ddb-aa86-4057-a616-5287ddbd8681"
      },
      "outputs": [
        {
          "output_type": "stream",
          "name": "stdout",
          "text": [
            "  Multiple Comparison of Means - Tukey HSD, FWER=0.05   \n",
            "========================================================\n",
            "group1 group2 meandiff p-adj    lower     upper   reject\n",
            "--------------------------------------------------------\n",
            "     0      1 -614.375 0.1082 -1382.1716 153.4216  False\n",
            "--------------------------------------------------------\n"
          ]
        }
      ],
      "source": [
        "tukey = pairwise_tukeyhsd(endog=grouped_data1['StripSearch_count'],\n",
        "                          groups=grouped_data1['Sex'],\n",
        "                          alpha=0.05)\n",
        "\n",
        "#display results\n",
        "print(tukey)"
      ]
    },
    {
      "cell_type": "code",
      "execution_count": null,
      "metadata": {
        "colab": {
          "base_uri": "https://localhost:8080/",
          "height": 174
        },
        "id": "PbLnsBSrqYft",
        "outputId": "7774086f-dc74-420a-836a-2ce60c39ecc7"
      },
      "outputs": [
        {
          "output_type": "execute_result",
          "data": {
            "text/plain": [
              "                          sum_sq    df         F    PR(>F)\n",
              "Perceived_Race      2.568409e+07   1.0  7.723513  0.016678\n",
              "Sex                 1.956514e+07   1.0  5.883473  0.031989\n",
              "Perceived_Race:Sex  8.269195e+06   1.0  2.486646  0.140800\n",
              "Residual            3.990529e+07  12.0       NaN       NaN"
            ],
            "text/html": [
              "\n",
              "  <div id=\"df-57904cc1-6ca5-4b08-a6bb-41598ca999f5\">\n",
              "    <div class=\"colab-df-container\">\n",
              "      <div>\n",
              "<style scoped>\n",
              "    .dataframe tbody tr th:only-of-type {\n",
              "        vertical-align: middle;\n",
              "    }\n",
              "\n",
              "    .dataframe tbody tr th {\n",
              "        vertical-align: top;\n",
              "    }\n",
              "\n",
              "    .dataframe thead th {\n",
              "        text-align: right;\n",
              "    }\n",
              "</style>\n",
              "<table border=\"1\" class=\"dataframe\">\n",
              "  <thead>\n",
              "    <tr style=\"text-align: right;\">\n",
              "      <th></th>\n",
              "      <th>sum_sq</th>\n",
              "      <th>df</th>\n",
              "      <th>F</th>\n",
              "      <th>PR(&gt;F)</th>\n",
              "    </tr>\n",
              "  </thead>\n",
              "  <tbody>\n",
              "    <tr>\n",
              "      <th>Perceived_Race</th>\n",
              "      <td>2.568409e+07</td>\n",
              "      <td>1.0</td>\n",
              "      <td>7.723513</td>\n",
              "      <td>0.016678</td>\n",
              "    </tr>\n",
              "    <tr>\n",
              "      <th>Sex</th>\n",
              "      <td>1.956514e+07</td>\n",
              "      <td>1.0</td>\n",
              "      <td>5.883473</td>\n",
              "      <td>0.031989</td>\n",
              "    </tr>\n",
              "    <tr>\n",
              "      <th>Perceived_Race:Sex</th>\n",
              "      <td>8.269195e+06</td>\n",
              "      <td>1.0</td>\n",
              "      <td>2.486646</td>\n",
              "      <td>0.140800</td>\n",
              "    </tr>\n",
              "    <tr>\n",
              "      <th>Residual</th>\n",
              "      <td>3.990529e+07</td>\n",
              "      <td>12.0</td>\n",
              "      <td>NaN</td>\n",
              "      <td>NaN</td>\n",
              "    </tr>\n",
              "  </tbody>\n",
              "</table>\n",
              "</div>\n",
              "      <button class=\"colab-df-convert\" onclick=\"convertToInteractive('df-57904cc1-6ca5-4b08-a6bb-41598ca999f5')\"\n",
              "              title=\"Convert this dataframe to an interactive table.\"\n",
              "              style=\"display:none;\">\n",
              "        \n",
              "  <svg xmlns=\"http://www.w3.org/2000/svg\" height=\"24px\"viewBox=\"0 0 24 24\"\n",
              "       width=\"24px\">\n",
              "    <path d=\"M0 0h24v24H0V0z\" fill=\"none\"/>\n",
              "    <path d=\"M18.56 5.44l.94 2.06.94-2.06 2.06-.94-2.06-.94-.94-2.06-.94 2.06-2.06.94zm-11 1L8.5 8.5l.94-2.06 2.06-.94-2.06-.94L8.5 2.5l-.94 2.06-2.06.94zm10 10l.94 2.06.94-2.06 2.06-.94-2.06-.94-.94-2.06-.94 2.06-2.06.94z\"/><path d=\"M17.41 7.96l-1.37-1.37c-.4-.4-.92-.59-1.43-.59-.52 0-1.04.2-1.43.59L10.3 9.45l-7.72 7.72c-.78.78-.78 2.05 0 2.83L4 21.41c.39.39.9.59 1.41.59.51 0 1.02-.2 1.41-.59l7.78-7.78 2.81-2.81c.8-.78.8-2.07 0-2.86zM5.41 20L4 18.59l7.72-7.72 1.47 1.35L5.41 20z\"/>\n",
              "  </svg>\n",
              "      </button>\n",
              "      \n",
              "  <style>\n",
              "    .colab-df-container {\n",
              "      display:flex;\n",
              "      flex-wrap:wrap;\n",
              "      gap: 12px;\n",
              "    }\n",
              "\n",
              "    .colab-df-convert {\n",
              "      background-color: #E8F0FE;\n",
              "      border: none;\n",
              "      border-radius: 50%;\n",
              "      cursor: pointer;\n",
              "      display: none;\n",
              "      fill: #1967D2;\n",
              "      height: 32px;\n",
              "      padding: 0 0 0 0;\n",
              "      width: 32px;\n",
              "    }\n",
              "\n",
              "    .colab-df-convert:hover {\n",
              "      background-color: #E2EBFA;\n",
              "      box-shadow: 0px 1px 2px rgba(60, 64, 67, 0.3), 0px 1px 3px 1px rgba(60, 64, 67, 0.15);\n",
              "      fill: #174EA6;\n",
              "    }\n",
              "\n",
              "    [theme=dark] .colab-df-convert {\n",
              "      background-color: #3B4455;\n",
              "      fill: #D2E3FC;\n",
              "    }\n",
              "\n",
              "    [theme=dark] .colab-df-convert:hover {\n",
              "      background-color: #434B5C;\n",
              "      box-shadow: 0px 1px 3px 1px rgba(0, 0, 0, 0.15);\n",
              "      filter: drop-shadow(0px 1px 2px rgba(0, 0, 0, 0.3));\n",
              "      fill: #FFFFFF;\n",
              "    }\n",
              "  </style>\n",
              "\n",
              "      <script>\n",
              "        const buttonEl =\n",
              "          document.querySelector('#df-57904cc1-6ca5-4b08-a6bb-41598ca999f5 button.colab-df-convert');\n",
              "        buttonEl.style.display =\n",
              "          google.colab.kernel.accessAllowed ? 'block' : 'none';\n",
              "\n",
              "        async function convertToInteractive(key) {\n",
              "          const element = document.querySelector('#df-57904cc1-6ca5-4b08-a6bb-41598ca999f5');\n",
              "          const dataTable =\n",
              "            await google.colab.kernel.invokeFunction('convertToInteractive',\n",
              "                                                     [key], {});\n",
              "          if (!dataTable) return;\n",
              "\n",
              "          const docLinkHtml = 'Like what you see? Visit the ' +\n",
              "            '<a target=\"_blank\" href=https://colab.research.google.com/notebooks/data_table.ipynb>data table notebook</a>'\n",
              "            + ' to learn more about interactive tables.';\n",
              "          element.innerHTML = '';\n",
              "          dataTable['output_type'] = 'display_data';\n",
              "          await google.colab.output.renderOutput(dataTable, element);\n",
              "          const docLink = document.createElement('div');\n",
              "          docLink.innerHTML = docLinkHtml;\n",
              "          element.appendChild(docLink);\n",
              "        }\n",
              "      </script>\n",
              "    </div>\n",
              "  </div>\n",
              "  "
            ]
          },
          "metadata": {},
          "execution_count": 69
        }
      ],
      "source": [
        "model = ols(\"Coop_at_arrest_count ~ Perceived_Race + Sex+Perceived_Race:Sex\", data = grouped_data0).fit()\n",
        "sm.stats.anova_lm(model, typ=2)"
      ]
    },
    {
      "cell_type": "code",
      "execution_count": null,
      "metadata": {
        "colab": {
          "base_uri": "https://localhost:8080/",
          "height": 174
        },
        "id": "og68IwDfs5oj",
        "outputId": "4f3bfa49-8064-4f79-8cb6-97961461de0c"
      },
      "outputs": [
        {
          "output_type": "execute_result",
          "data": {
            "text/plain": [
              "                          sum_sq    df         F    PR(>F)\n",
              "Perceived_Race      2.525987e+06   1.0  8.042183  0.015011\n",
              "Sex                 1.509827e+06   1.0  4.806953  0.048791\n",
              "Perceived_Race:Sex  8.813979e+05   1.0  2.806175  0.119742\n",
              "Residual            3.769107e+06  12.0       NaN       NaN"
            ],
            "text/html": [
              "\n",
              "  <div id=\"df-b5952f68-528c-4078-a18a-dc77f2f48f76\">\n",
              "    <div class=\"colab-df-container\">\n",
              "      <div>\n",
              "<style scoped>\n",
              "    .dataframe tbody tr th:only-of-type {\n",
              "        vertical-align: middle;\n",
              "    }\n",
              "\n",
              "    .dataframe tbody tr th {\n",
              "        vertical-align: top;\n",
              "    }\n",
              "\n",
              "    .dataframe thead th {\n",
              "        text-align: right;\n",
              "    }\n",
              "</style>\n",
              "<table border=\"1\" class=\"dataframe\">\n",
              "  <thead>\n",
              "    <tr style=\"text-align: right;\">\n",
              "      <th></th>\n",
              "      <th>sum_sq</th>\n",
              "      <th>df</th>\n",
              "      <th>F</th>\n",
              "      <th>PR(&gt;F)</th>\n",
              "    </tr>\n",
              "  </thead>\n",
              "  <tbody>\n",
              "    <tr>\n",
              "      <th>Perceived_Race</th>\n",
              "      <td>2.525987e+06</td>\n",
              "      <td>1.0</td>\n",
              "      <td>8.042183</td>\n",
              "      <td>0.015011</td>\n",
              "    </tr>\n",
              "    <tr>\n",
              "      <th>Sex</th>\n",
              "      <td>1.509827e+06</td>\n",
              "      <td>1.0</td>\n",
              "      <td>4.806953</td>\n",
              "      <td>0.048791</td>\n",
              "    </tr>\n",
              "    <tr>\n",
              "      <th>Perceived_Race:Sex</th>\n",
              "      <td>8.813979e+05</td>\n",
              "      <td>1.0</td>\n",
              "      <td>2.806175</td>\n",
              "      <td>0.119742</td>\n",
              "    </tr>\n",
              "    <tr>\n",
              "      <th>Residual</th>\n",
              "      <td>3.769107e+06</td>\n",
              "      <td>12.0</td>\n",
              "      <td>NaN</td>\n",
              "      <td>NaN</td>\n",
              "    </tr>\n",
              "  </tbody>\n",
              "</table>\n",
              "</div>\n",
              "      <button class=\"colab-df-convert\" onclick=\"convertToInteractive('df-b5952f68-528c-4078-a18a-dc77f2f48f76')\"\n",
              "              title=\"Convert this dataframe to an interactive table.\"\n",
              "              style=\"display:none;\">\n",
              "        \n",
              "  <svg xmlns=\"http://www.w3.org/2000/svg\" height=\"24px\"viewBox=\"0 0 24 24\"\n",
              "       width=\"24px\">\n",
              "    <path d=\"M0 0h24v24H0V0z\" fill=\"none\"/>\n",
              "    <path d=\"M18.56 5.44l.94 2.06.94-2.06 2.06-.94-2.06-.94-.94-2.06-.94 2.06-2.06.94zm-11 1L8.5 8.5l.94-2.06 2.06-.94-2.06-.94L8.5 2.5l-.94 2.06-2.06.94zm10 10l.94 2.06.94-2.06 2.06-.94-2.06-.94-.94-2.06-.94 2.06-2.06.94z\"/><path d=\"M17.41 7.96l-1.37-1.37c-.4-.4-.92-.59-1.43-.59-.52 0-1.04.2-1.43.59L10.3 9.45l-7.72 7.72c-.78.78-.78 2.05 0 2.83L4 21.41c.39.39.9.59 1.41.59.51 0 1.02-.2 1.41-.59l7.78-7.78 2.81-2.81c.8-.78.8-2.07 0-2.86zM5.41 20L4 18.59l7.72-7.72 1.47 1.35L5.41 20z\"/>\n",
              "  </svg>\n",
              "      </button>\n",
              "      \n",
              "  <style>\n",
              "    .colab-df-container {\n",
              "      display:flex;\n",
              "      flex-wrap:wrap;\n",
              "      gap: 12px;\n",
              "    }\n",
              "\n",
              "    .colab-df-convert {\n",
              "      background-color: #E8F0FE;\n",
              "      border: none;\n",
              "      border-radius: 50%;\n",
              "      cursor: pointer;\n",
              "      display: none;\n",
              "      fill: #1967D2;\n",
              "      height: 32px;\n",
              "      padding: 0 0 0 0;\n",
              "      width: 32px;\n",
              "    }\n",
              "\n",
              "    .colab-df-convert:hover {\n",
              "      background-color: #E2EBFA;\n",
              "      box-shadow: 0px 1px 2px rgba(60, 64, 67, 0.3), 0px 1px 3px 1px rgba(60, 64, 67, 0.15);\n",
              "      fill: #174EA6;\n",
              "    }\n",
              "\n",
              "    [theme=dark] .colab-df-convert {\n",
              "      background-color: #3B4455;\n",
              "      fill: #D2E3FC;\n",
              "    }\n",
              "\n",
              "    [theme=dark] .colab-df-convert:hover {\n",
              "      background-color: #434B5C;\n",
              "      box-shadow: 0px 1px 3px 1px rgba(0, 0, 0, 0.15);\n",
              "      filter: drop-shadow(0px 1px 2px rgba(0, 0, 0, 0.3));\n",
              "      fill: #FFFFFF;\n",
              "    }\n",
              "  </style>\n",
              "\n",
              "      <script>\n",
              "        const buttonEl =\n",
              "          document.querySelector('#df-b5952f68-528c-4078-a18a-dc77f2f48f76 button.colab-df-convert');\n",
              "        buttonEl.style.display =\n",
              "          google.colab.kernel.accessAllowed ? 'block' : 'none';\n",
              "\n",
              "        async function convertToInteractive(key) {\n",
              "          const element = document.querySelector('#df-b5952f68-528c-4078-a18a-dc77f2f48f76');\n",
              "          const dataTable =\n",
              "            await google.colab.kernel.invokeFunction('convertToInteractive',\n",
              "                                                     [key], {});\n",
              "          if (!dataTable) return;\n",
              "\n",
              "          const docLinkHtml = 'Like what you see? Visit the ' +\n",
              "            '<a target=\"_blank\" href=https://colab.research.google.com/notebooks/data_table.ipynb>data table notebook</a>'\n",
              "            + ' to learn more about interactive tables.';\n",
              "          element.innerHTML = '';\n",
              "          dataTable['output_type'] = 'display_data';\n",
              "          await google.colab.output.renderOutput(dataTable, element);\n",
              "          const docLink = document.createElement('div');\n",
              "          docLink.innerHTML = docLinkHtml;\n",
              "          element.appendChild(docLink);\n",
              "        }\n",
              "      </script>\n",
              "    </div>\n",
              "  </div>\n",
              "  "
            ]
          },
          "metadata": {},
          "execution_count": 70
        }
      ],
      "source": [
        "model_1 = ols(\"StripSearch_count ~ Perceived_Race + Sex+Perceived_Race:Sex\", data = grouped_data1).fit()\n",
        "sm.stats.anova_lm(model_1, typ=2)"
      ]
    },
    {
      "cell_type": "code",
      "execution_count": null,
      "metadata": {
        "colab": {
          "base_uri": "https://localhost:8080/",
          "height": 550
        },
        "id": "lNTKa7EICenu",
        "outputId": "bedd193e-b99d-495a-a2a3-6e1da1043967"
      },
      "outputs": [
        {
          "output_type": "execute_result",
          "data": {
            "text/plain": [
              "    Perceived_Race  Youth_at_arrest__under_18_years  Uncoop_at_arrest_count\n",
              "0                0                                0                     431\n",
              "1                0                                1                   12632\n",
              "2                1                                0                     111\n",
              "3                1                                1                    2405\n",
              "4                2                                0                     663\n",
              "5                2                                1                    7766\n",
              "6                3                                0                      42\n",
              "7                3                                1                    1702\n",
              "8                4                                0                      13\n",
              "9                4                                1                     898\n",
              "10               5                                0                     103\n",
              "11               5                                1                    1394\n",
              "12               6                                0                      30\n",
              "13               6                                1                     720\n",
              "14               7                                0                      76\n",
              "15               7                                1                    1876"
            ],
            "text/html": [
              "\n",
              "  <div id=\"df-afda781a-5b78-485c-a727-c9b7f83b9269\">\n",
              "    <div class=\"colab-df-container\">\n",
              "      <div>\n",
              "<style scoped>\n",
              "    .dataframe tbody tr th:only-of-type {\n",
              "        vertical-align: middle;\n",
              "    }\n",
              "\n",
              "    .dataframe tbody tr th {\n",
              "        vertical-align: top;\n",
              "    }\n",
              "\n",
              "    .dataframe thead th {\n",
              "        text-align: right;\n",
              "    }\n",
              "</style>\n",
              "<table border=\"1\" class=\"dataframe\">\n",
              "  <thead>\n",
              "    <tr style=\"text-align: right;\">\n",
              "      <th></th>\n",
              "      <th>Perceived_Race</th>\n",
              "      <th>Youth_at_arrest__under_18_years</th>\n",
              "      <th>Uncoop_at_arrest_count</th>\n",
              "    </tr>\n",
              "  </thead>\n",
              "  <tbody>\n",
              "    <tr>\n",
              "      <th>0</th>\n",
              "      <td>0</td>\n",
              "      <td>0</td>\n",
              "      <td>431</td>\n",
              "    </tr>\n",
              "    <tr>\n",
              "      <th>1</th>\n",
              "      <td>0</td>\n",
              "      <td>1</td>\n",
              "      <td>12632</td>\n",
              "    </tr>\n",
              "    <tr>\n",
              "      <th>2</th>\n",
              "      <td>1</td>\n",
              "      <td>0</td>\n",
              "      <td>111</td>\n",
              "    </tr>\n",
              "    <tr>\n",
              "      <th>3</th>\n",
              "      <td>1</td>\n",
              "      <td>1</td>\n",
              "      <td>2405</td>\n",
              "    </tr>\n",
              "    <tr>\n",
              "      <th>4</th>\n",
              "      <td>2</td>\n",
              "      <td>0</td>\n",
              "      <td>663</td>\n",
              "    </tr>\n",
              "    <tr>\n",
              "      <th>5</th>\n",
              "      <td>2</td>\n",
              "      <td>1</td>\n",
              "      <td>7766</td>\n",
              "    </tr>\n",
              "    <tr>\n",
              "      <th>6</th>\n",
              "      <td>3</td>\n",
              "      <td>0</td>\n",
              "      <td>42</td>\n",
              "    </tr>\n",
              "    <tr>\n",
              "      <th>7</th>\n",
              "      <td>3</td>\n",
              "      <td>1</td>\n",
              "      <td>1702</td>\n",
              "    </tr>\n",
              "    <tr>\n",
              "      <th>8</th>\n",
              "      <td>4</td>\n",
              "      <td>0</td>\n",
              "      <td>13</td>\n",
              "    </tr>\n",
              "    <tr>\n",
              "      <th>9</th>\n",
              "      <td>4</td>\n",
              "      <td>1</td>\n",
              "      <td>898</td>\n",
              "    </tr>\n",
              "    <tr>\n",
              "      <th>10</th>\n",
              "      <td>5</td>\n",
              "      <td>0</td>\n",
              "      <td>103</td>\n",
              "    </tr>\n",
              "    <tr>\n",
              "      <th>11</th>\n",
              "      <td>5</td>\n",
              "      <td>1</td>\n",
              "      <td>1394</td>\n",
              "    </tr>\n",
              "    <tr>\n",
              "      <th>12</th>\n",
              "      <td>6</td>\n",
              "      <td>0</td>\n",
              "      <td>30</td>\n",
              "    </tr>\n",
              "    <tr>\n",
              "      <th>13</th>\n",
              "      <td>6</td>\n",
              "      <td>1</td>\n",
              "      <td>720</td>\n",
              "    </tr>\n",
              "    <tr>\n",
              "      <th>14</th>\n",
              "      <td>7</td>\n",
              "      <td>0</td>\n",
              "      <td>76</td>\n",
              "    </tr>\n",
              "    <tr>\n",
              "      <th>15</th>\n",
              "      <td>7</td>\n",
              "      <td>1</td>\n",
              "      <td>1876</td>\n",
              "    </tr>\n",
              "  </tbody>\n",
              "</table>\n",
              "</div>\n",
              "      <button class=\"colab-df-convert\" onclick=\"convertToInteractive('df-afda781a-5b78-485c-a727-c9b7f83b9269')\"\n",
              "              title=\"Convert this dataframe to an interactive table.\"\n",
              "              style=\"display:none;\">\n",
              "        \n",
              "  <svg xmlns=\"http://www.w3.org/2000/svg\" height=\"24px\"viewBox=\"0 0 24 24\"\n",
              "       width=\"24px\">\n",
              "    <path d=\"M0 0h24v24H0V0z\" fill=\"none\"/>\n",
              "    <path d=\"M18.56 5.44l.94 2.06.94-2.06 2.06-.94-2.06-.94-.94-2.06-.94 2.06-2.06.94zm-11 1L8.5 8.5l.94-2.06 2.06-.94-2.06-.94L8.5 2.5l-.94 2.06-2.06.94zm10 10l.94 2.06.94-2.06 2.06-.94-2.06-.94-.94-2.06-.94 2.06-2.06.94z\"/><path d=\"M17.41 7.96l-1.37-1.37c-.4-.4-.92-.59-1.43-.59-.52 0-1.04.2-1.43.59L10.3 9.45l-7.72 7.72c-.78.78-.78 2.05 0 2.83L4 21.41c.39.39.9.59 1.41.59.51 0 1.02-.2 1.41-.59l7.78-7.78 2.81-2.81c.8-.78.8-2.07 0-2.86zM5.41 20L4 18.59l7.72-7.72 1.47 1.35L5.41 20z\"/>\n",
              "  </svg>\n",
              "      </button>\n",
              "      \n",
              "  <style>\n",
              "    .colab-df-container {\n",
              "      display:flex;\n",
              "      flex-wrap:wrap;\n",
              "      gap: 12px;\n",
              "    }\n",
              "\n",
              "    .colab-df-convert {\n",
              "      background-color: #E8F0FE;\n",
              "      border: none;\n",
              "      border-radius: 50%;\n",
              "      cursor: pointer;\n",
              "      display: none;\n",
              "      fill: #1967D2;\n",
              "      height: 32px;\n",
              "      padding: 0 0 0 0;\n",
              "      width: 32px;\n",
              "    }\n",
              "\n",
              "    .colab-df-convert:hover {\n",
              "      background-color: #E2EBFA;\n",
              "      box-shadow: 0px 1px 2px rgba(60, 64, 67, 0.3), 0px 1px 3px 1px rgba(60, 64, 67, 0.15);\n",
              "      fill: #174EA6;\n",
              "    }\n",
              "\n",
              "    [theme=dark] .colab-df-convert {\n",
              "      background-color: #3B4455;\n",
              "      fill: #D2E3FC;\n",
              "    }\n",
              "\n",
              "    [theme=dark] .colab-df-convert:hover {\n",
              "      background-color: #434B5C;\n",
              "      box-shadow: 0px 1px 3px 1px rgba(0, 0, 0, 0.15);\n",
              "      filter: drop-shadow(0px 1px 2px rgba(0, 0, 0, 0.3));\n",
              "      fill: #FFFFFF;\n",
              "    }\n",
              "  </style>\n",
              "\n",
              "      <script>\n",
              "        const buttonEl =\n",
              "          document.querySelector('#df-afda781a-5b78-485c-a727-c9b7f83b9269 button.colab-df-convert');\n",
              "        buttonEl.style.display =\n",
              "          google.colab.kernel.accessAllowed ? 'block' : 'none';\n",
              "\n",
              "        async function convertToInteractive(key) {\n",
              "          const element = document.querySelector('#df-afda781a-5b78-485c-a727-c9b7f83b9269');\n",
              "          const dataTable =\n",
              "            await google.colab.kernel.invokeFunction('convertToInteractive',\n",
              "                                                     [key], {});\n",
              "          if (!dataTable) return;\n",
              "\n",
              "          const docLinkHtml = 'Like what you see? Visit the ' +\n",
              "            '<a target=\"_blank\" href=https://colab.research.google.com/notebooks/data_table.ipynb>data table notebook</a>'\n",
              "            + ' to learn more about interactive tables.';\n",
              "          element.innerHTML = '';\n",
              "          dataTable['output_type'] = 'display_data';\n",
              "          await google.colab.output.renderOutput(dataTable, element);\n",
              "          const docLink = document.createElement('div');\n",
              "          docLink.innerHTML = docLinkHtml;\n",
              "          element.appendChild(docLink);\n",
              "        }\n",
              "      </script>\n",
              "    </div>\n",
              "  </div>\n",
              "  "
            ]
          },
          "metadata": {},
          "execution_count": 71
        }
      ],
      "source": [
        "grouped_data2 = data.groupby(['Perceived_Race', 'Youth_at_arrest__under_18_years'])['Actions_at_arrest'].apply(lambda x: (x == 1).sum()).reset_index()\n",
        "grouped_data2 = grouped_data2.rename(columns={'Actions_at_arrest': 'Uncoop_at_arrest_count'})\n",
        "grouped_data2"
      ]
    },
    {
      "cell_type": "code",
      "execution_count": null,
      "metadata": {
        "colab": {
          "base_uri": "https://localhost:8080/",
          "height": 174
        },
        "id": "MicaOA7KDOpE",
        "outputId": "9fa7d2dd-3058-4b0a-c4f3-6de81a9d72ae"
      },
      "outputs": [
        {
          "output_type": "execute_result",
          "data": {
            "text/plain": [
              "                                                      sum_sq    df         F  \\\n",
              "Perceived_Race                                  3.486617e+07   1.0  6.570073   \n",
              "Youth_at_arrest__under_18_years                 4.873436e+07   1.0  9.183353   \n",
              "Perceived_Race:Youth_at_arrest__under_18_years  2.919204e+07   1.0  5.500858   \n",
              "Residual                                        6.368179e+07  12.0       NaN   \n",
              "\n",
              "                                                  PR(>F)  \n",
              "Perceived_Race                                  0.024854  \n",
              "Youth_at_arrest__under_18_years                 0.010459  \n",
              "Perceived_Race:Youth_at_arrest__under_18_years  0.037021  \n",
              "Residual                                             NaN  "
            ],
            "text/html": [
              "\n",
              "  <div id=\"df-2f6616f6-89d0-4877-8653-0a7671dde304\">\n",
              "    <div class=\"colab-df-container\">\n",
              "      <div>\n",
              "<style scoped>\n",
              "    .dataframe tbody tr th:only-of-type {\n",
              "        vertical-align: middle;\n",
              "    }\n",
              "\n",
              "    .dataframe tbody tr th {\n",
              "        vertical-align: top;\n",
              "    }\n",
              "\n",
              "    .dataframe thead th {\n",
              "        text-align: right;\n",
              "    }\n",
              "</style>\n",
              "<table border=\"1\" class=\"dataframe\">\n",
              "  <thead>\n",
              "    <tr style=\"text-align: right;\">\n",
              "      <th></th>\n",
              "      <th>sum_sq</th>\n",
              "      <th>df</th>\n",
              "      <th>F</th>\n",
              "      <th>PR(&gt;F)</th>\n",
              "    </tr>\n",
              "  </thead>\n",
              "  <tbody>\n",
              "    <tr>\n",
              "      <th>Perceived_Race</th>\n",
              "      <td>3.486617e+07</td>\n",
              "      <td>1.0</td>\n",
              "      <td>6.570073</td>\n",
              "      <td>0.024854</td>\n",
              "    </tr>\n",
              "    <tr>\n",
              "      <th>Youth_at_arrest__under_18_years</th>\n",
              "      <td>4.873436e+07</td>\n",
              "      <td>1.0</td>\n",
              "      <td>9.183353</td>\n",
              "      <td>0.010459</td>\n",
              "    </tr>\n",
              "    <tr>\n",
              "      <th>Perceived_Race:Youth_at_arrest__under_18_years</th>\n",
              "      <td>2.919204e+07</td>\n",
              "      <td>1.0</td>\n",
              "      <td>5.500858</td>\n",
              "      <td>0.037021</td>\n",
              "    </tr>\n",
              "    <tr>\n",
              "      <th>Residual</th>\n",
              "      <td>6.368179e+07</td>\n",
              "      <td>12.0</td>\n",
              "      <td>NaN</td>\n",
              "      <td>NaN</td>\n",
              "    </tr>\n",
              "  </tbody>\n",
              "</table>\n",
              "</div>\n",
              "      <button class=\"colab-df-convert\" onclick=\"convertToInteractive('df-2f6616f6-89d0-4877-8653-0a7671dde304')\"\n",
              "              title=\"Convert this dataframe to an interactive table.\"\n",
              "              style=\"display:none;\">\n",
              "        \n",
              "  <svg xmlns=\"http://www.w3.org/2000/svg\" height=\"24px\"viewBox=\"0 0 24 24\"\n",
              "       width=\"24px\">\n",
              "    <path d=\"M0 0h24v24H0V0z\" fill=\"none\"/>\n",
              "    <path d=\"M18.56 5.44l.94 2.06.94-2.06 2.06-.94-2.06-.94-.94-2.06-.94 2.06-2.06.94zm-11 1L8.5 8.5l.94-2.06 2.06-.94-2.06-.94L8.5 2.5l-.94 2.06-2.06.94zm10 10l.94 2.06.94-2.06 2.06-.94-2.06-.94-.94-2.06-.94 2.06-2.06.94z\"/><path d=\"M17.41 7.96l-1.37-1.37c-.4-.4-.92-.59-1.43-.59-.52 0-1.04.2-1.43.59L10.3 9.45l-7.72 7.72c-.78.78-.78 2.05 0 2.83L4 21.41c.39.39.9.59 1.41.59.51 0 1.02-.2 1.41-.59l7.78-7.78 2.81-2.81c.8-.78.8-2.07 0-2.86zM5.41 20L4 18.59l7.72-7.72 1.47 1.35L5.41 20z\"/>\n",
              "  </svg>\n",
              "      </button>\n",
              "      \n",
              "  <style>\n",
              "    .colab-df-container {\n",
              "      display:flex;\n",
              "      flex-wrap:wrap;\n",
              "      gap: 12px;\n",
              "    }\n",
              "\n",
              "    .colab-df-convert {\n",
              "      background-color: #E8F0FE;\n",
              "      border: none;\n",
              "      border-radius: 50%;\n",
              "      cursor: pointer;\n",
              "      display: none;\n",
              "      fill: #1967D2;\n",
              "      height: 32px;\n",
              "      padding: 0 0 0 0;\n",
              "      width: 32px;\n",
              "    }\n",
              "\n",
              "    .colab-df-convert:hover {\n",
              "      background-color: #E2EBFA;\n",
              "      box-shadow: 0px 1px 2px rgba(60, 64, 67, 0.3), 0px 1px 3px 1px rgba(60, 64, 67, 0.15);\n",
              "      fill: #174EA6;\n",
              "    }\n",
              "\n",
              "    [theme=dark] .colab-df-convert {\n",
              "      background-color: #3B4455;\n",
              "      fill: #D2E3FC;\n",
              "    }\n",
              "\n",
              "    [theme=dark] .colab-df-convert:hover {\n",
              "      background-color: #434B5C;\n",
              "      box-shadow: 0px 1px 3px 1px rgba(0, 0, 0, 0.15);\n",
              "      filter: drop-shadow(0px 1px 2px rgba(0, 0, 0, 0.3));\n",
              "      fill: #FFFFFF;\n",
              "    }\n",
              "  </style>\n",
              "\n",
              "      <script>\n",
              "        const buttonEl =\n",
              "          document.querySelector('#df-2f6616f6-89d0-4877-8653-0a7671dde304 button.colab-df-convert');\n",
              "        buttonEl.style.display =\n",
              "          google.colab.kernel.accessAllowed ? 'block' : 'none';\n",
              "\n",
              "        async function convertToInteractive(key) {\n",
              "          const element = document.querySelector('#df-2f6616f6-89d0-4877-8653-0a7671dde304');\n",
              "          const dataTable =\n",
              "            await google.colab.kernel.invokeFunction('convertToInteractive',\n",
              "                                                     [key], {});\n",
              "          if (!dataTable) return;\n",
              "\n",
              "          const docLinkHtml = 'Like what you see? Visit the ' +\n",
              "            '<a target=\"_blank\" href=https://colab.research.google.com/notebooks/data_table.ipynb>data table notebook</a>'\n",
              "            + ' to learn more about interactive tables.';\n",
              "          element.innerHTML = '';\n",
              "          dataTable['output_type'] = 'display_data';\n",
              "          await google.colab.output.renderOutput(dataTable, element);\n",
              "          const docLink = document.createElement('div');\n",
              "          docLink.innerHTML = docLinkHtml;\n",
              "          element.appendChild(docLink);\n",
              "        }\n",
              "      </script>\n",
              "    </div>\n",
              "  </div>\n",
              "  "
            ]
          },
          "metadata": {},
          "execution_count": 72
        }
      ],
      "source": [
        "model_2 = ols(\"Uncoop_at_arrest_count ~ Perceived_Race + Youth_at_arrest__under_18_years+Perceived_Race:Youth_at_arrest__under_18_years\", data = grouped_data2).fit()\n",
        "sm.stats.anova_lm(model_2, typ=2)"
      ]
    },
    {
      "cell_type": "code",
      "execution_count": null,
      "metadata": {
        "colab": {
          "base_uri": "https://localhost:8080/",
          "height": 550
        },
        "id": "xpDAxFKtD4rM",
        "outputId": "ba4c5966-9644-470e-d640-6b81d29c2da5"
      },
      "outputs": [
        {
          "output_type": "execute_result",
          "data": {
            "text/plain": [
              "    Perceived_Race  Sex  Uncoop_at_arrest_count\n",
              "0                0    0                   10114\n",
              "1                0    1                    2949\n",
              "2                1    0                    2017\n",
              "3                1    1                     499\n",
              "4                2    0                    6947\n",
              "5                2    1                    1482\n",
              "6                3    0                    1496\n",
              "7                3    1                     248\n",
              "8                4    0                     599\n",
              "9                4    1                     312\n",
              "10               5    0                    1319\n",
              "11               5    1                     178\n",
              "12               6    0                     633\n",
              "13               6    1                     117\n",
              "14               7    0                    1601\n",
              "15               7    1                     351"
            ],
            "text/html": [
              "\n",
              "  <div id=\"df-a4c16d7c-603c-4c53-9c63-4561fd654233\">\n",
              "    <div class=\"colab-df-container\">\n",
              "      <div>\n",
              "<style scoped>\n",
              "    .dataframe tbody tr th:only-of-type {\n",
              "        vertical-align: middle;\n",
              "    }\n",
              "\n",
              "    .dataframe tbody tr th {\n",
              "        vertical-align: top;\n",
              "    }\n",
              "\n",
              "    .dataframe thead th {\n",
              "        text-align: right;\n",
              "    }\n",
              "</style>\n",
              "<table border=\"1\" class=\"dataframe\">\n",
              "  <thead>\n",
              "    <tr style=\"text-align: right;\">\n",
              "      <th></th>\n",
              "      <th>Perceived_Race</th>\n",
              "      <th>Sex</th>\n",
              "      <th>Uncoop_at_arrest_count</th>\n",
              "    </tr>\n",
              "  </thead>\n",
              "  <tbody>\n",
              "    <tr>\n",
              "      <th>0</th>\n",
              "      <td>0</td>\n",
              "      <td>0</td>\n",
              "      <td>10114</td>\n",
              "    </tr>\n",
              "    <tr>\n",
              "      <th>1</th>\n",
              "      <td>0</td>\n",
              "      <td>1</td>\n",
              "      <td>2949</td>\n",
              "    </tr>\n",
              "    <tr>\n",
              "      <th>2</th>\n",
              "      <td>1</td>\n",
              "      <td>0</td>\n",
              "      <td>2017</td>\n",
              "    </tr>\n",
              "    <tr>\n",
              "      <th>3</th>\n",
              "      <td>1</td>\n",
              "      <td>1</td>\n",
              "      <td>499</td>\n",
              "    </tr>\n",
              "    <tr>\n",
              "      <th>4</th>\n",
              "      <td>2</td>\n",
              "      <td>0</td>\n",
              "      <td>6947</td>\n",
              "    </tr>\n",
              "    <tr>\n",
              "      <th>5</th>\n",
              "      <td>2</td>\n",
              "      <td>1</td>\n",
              "      <td>1482</td>\n",
              "    </tr>\n",
              "    <tr>\n",
              "      <th>6</th>\n",
              "      <td>3</td>\n",
              "      <td>0</td>\n",
              "      <td>1496</td>\n",
              "    </tr>\n",
              "    <tr>\n",
              "      <th>7</th>\n",
              "      <td>3</td>\n",
              "      <td>1</td>\n",
              "      <td>248</td>\n",
              "    </tr>\n",
              "    <tr>\n",
              "      <th>8</th>\n",
              "      <td>4</td>\n",
              "      <td>0</td>\n",
              "      <td>599</td>\n",
              "    </tr>\n",
              "    <tr>\n",
              "      <th>9</th>\n",
              "      <td>4</td>\n",
              "      <td>1</td>\n",
              "      <td>312</td>\n",
              "    </tr>\n",
              "    <tr>\n",
              "      <th>10</th>\n",
              "      <td>5</td>\n",
              "      <td>0</td>\n",
              "      <td>1319</td>\n",
              "    </tr>\n",
              "    <tr>\n",
              "      <th>11</th>\n",
              "      <td>5</td>\n",
              "      <td>1</td>\n",
              "      <td>178</td>\n",
              "    </tr>\n",
              "    <tr>\n",
              "      <th>12</th>\n",
              "      <td>6</td>\n",
              "      <td>0</td>\n",
              "      <td>633</td>\n",
              "    </tr>\n",
              "    <tr>\n",
              "      <th>13</th>\n",
              "      <td>6</td>\n",
              "      <td>1</td>\n",
              "      <td>117</td>\n",
              "    </tr>\n",
              "    <tr>\n",
              "      <th>14</th>\n",
              "      <td>7</td>\n",
              "      <td>0</td>\n",
              "      <td>1601</td>\n",
              "    </tr>\n",
              "    <tr>\n",
              "      <th>15</th>\n",
              "      <td>7</td>\n",
              "      <td>1</td>\n",
              "      <td>351</td>\n",
              "    </tr>\n",
              "  </tbody>\n",
              "</table>\n",
              "</div>\n",
              "      <button class=\"colab-df-convert\" onclick=\"convertToInteractive('df-a4c16d7c-603c-4c53-9c63-4561fd654233')\"\n",
              "              title=\"Convert this dataframe to an interactive table.\"\n",
              "              style=\"display:none;\">\n",
              "        \n",
              "  <svg xmlns=\"http://www.w3.org/2000/svg\" height=\"24px\"viewBox=\"0 0 24 24\"\n",
              "       width=\"24px\">\n",
              "    <path d=\"M0 0h24v24H0V0z\" fill=\"none\"/>\n",
              "    <path d=\"M18.56 5.44l.94 2.06.94-2.06 2.06-.94-2.06-.94-.94-2.06-.94 2.06-2.06.94zm-11 1L8.5 8.5l.94-2.06 2.06-.94-2.06-.94L8.5 2.5l-.94 2.06-2.06.94zm10 10l.94 2.06.94-2.06 2.06-.94-2.06-.94-.94-2.06-.94 2.06-2.06.94z\"/><path d=\"M17.41 7.96l-1.37-1.37c-.4-.4-.92-.59-1.43-.59-.52 0-1.04.2-1.43.59L10.3 9.45l-7.72 7.72c-.78.78-.78 2.05 0 2.83L4 21.41c.39.39.9.59 1.41.59.51 0 1.02-.2 1.41-.59l7.78-7.78 2.81-2.81c.8-.78.8-2.07 0-2.86zM5.41 20L4 18.59l7.72-7.72 1.47 1.35L5.41 20z\"/>\n",
              "  </svg>\n",
              "      </button>\n",
              "      \n",
              "  <style>\n",
              "    .colab-df-container {\n",
              "      display:flex;\n",
              "      flex-wrap:wrap;\n",
              "      gap: 12px;\n",
              "    }\n",
              "\n",
              "    .colab-df-convert {\n",
              "      background-color: #E8F0FE;\n",
              "      border: none;\n",
              "      border-radius: 50%;\n",
              "      cursor: pointer;\n",
              "      display: none;\n",
              "      fill: #1967D2;\n",
              "      height: 32px;\n",
              "      padding: 0 0 0 0;\n",
              "      width: 32px;\n",
              "    }\n",
              "\n",
              "    .colab-df-convert:hover {\n",
              "      background-color: #E2EBFA;\n",
              "      box-shadow: 0px 1px 2px rgba(60, 64, 67, 0.3), 0px 1px 3px 1px rgba(60, 64, 67, 0.15);\n",
              "      fill: #174EA6;\n",
              "    }\n",
              "\n",
              "    [theme=dark] .colab-df-convert {\n",
              "      background-color: #3B4455;\n",
              "      fill: #D2E3FC;\n",
              "    }\n",
              "\n",
              "    [theme=dark] .colab-df-convert:hover {\n",
              "      background-color: #434B5C;\n",
              "      box-shadow: 0px 1px 3px 1px rgba(0, 0, 0, 0.15);\n",
              "      filter: drop-shadow(0px 1px 2px rgba(0, 0, 0, 0.3));\n",
              "      fill: #FFFFFF;\n",
              "    }\n",
              "  </style>\n",
              "\n",
              "      <script>\n",
              "        const buttonEl =\n",
              "          document.querySelector('#df-a4c16d7c-603c-4c53-9c63-4561fd654233 button.colab-df-convert');\n",
              "        buttonEl.style.display =\n",
              "          google.colab.kernel.accessAllowed ? 'block' : 'none';\n",
              "\n",
              "        async function convertToInteractive(key) {\n",
              "          const element = document.querySelector('#df-a4c16d7c-603c-4c53-9c63-4561fd654233');\n",
              "          const dataTable =\n",
              "            await google.colab.kernel.invokeFunction('convertToInteractive',\n",
              "                                                     [key], {});\n",
              "          if (!dataTable) return;\n",
              "\n",
              "          const docLinkHtml = 'Like what you see? Visit the ' +\n",
              "            '<a target=\"_blank\" href=https://colab.research.google.com/notebooks/data_table.ipynb>data table notebook</a>'\n",
              "            + ' to learn more about interactive tables.';\n",
              "          element.innerHTML = '';\n",
              "          dataTable['output_type'] = 'display_data';\n",
              "          await google.colab.output.renderOutput(dataTable, element);\n",
              "          const docLink = document.createElement('div');\n",
              "          docLink.innerHTML = docLinkHtml;\n",
              "          element.appendChild(docLink);\n",
              "        }\n",
              "      </script>\n",
              "    </div>\n",
              "  </div>\n",
              "  "
            ]
          },
          "metadata": {},
          "execution_count": 73
        }
      ],
      "source": [
        "#this is for uncoop data\n",
        "grouped_data3 = data.groupby(['Perceived_Race', 'Sex'])['Actions_at_arrest'].apply(lambda x: (x == 1).sum()).reset_index()\n",
        "grouped_data3 = grouped_data3.rename(columns={'Actions_at_arrest': 'Uncoop_at_arrest_count'})\n",
        "grouped_data3"
      ]
    },
    {
      "cell_type": "code",
      "execution_count": null,
      "metadata": {
        "colab": {
          "base_uri": "https://localhost:8080/",
          "height": 174
        },
        "id": "HElQDU-WD40x",
        "outputId": "2fe44b8b-64e3-4362-cb36-82a83d3af643"
      },
      "outputs": [
        {
          "output_type": "execute_result",
          "data": {
            "text/plain": [
              "                          sum_sq    df         F    PR(>F)\n",
              "Perceived_Race      3.486617e+07   1.0  8.986392  0.011113\n",
              "Sex                 2.159926e+07   1.0  5.566984  0.036088\n",
              "Perceived_Race:Sex  1.083893e+07   1.0  2.793622  0.120492\n",
              "Residual            4.655862e+07  12.0       NaN       NaN"
            ],
            "text/html": [
              "\n",
              "  <div id=\"df-c4bfb880-8e9a-4d4c-9915-3f395b40a13e\">\n",
              "    <div class=\"colab-df-container\">\n",
              "      <div>\n",
              "<style scoped>\n",
              "    .dataframe tbody tr th:only-of-type {\n",
              "        vertical-align: middle;\n",
              "    }\n",
              "\n",
              "    .dataframe tbody tr th {\n",
              "        vertical-align: top;\n",
              "    }\n",
              "\n",
              "    .dataframe thead th {\n",
              "        text-align: right;\n",
              "    }\n",
              "</style>\n",
              "<table border=\"1\" class=\"dataframe\">\n",
              "  <thead>\n",
              "    <tr style=\"text-align: right;\">\n",
              "      <th></th>\n",
              "      <th>sum_sq</th>\n",
              "      <th>df</th>\n",
              "      <th>F</th>\n",
              "      <th>PR(&gt;F)</th>\n",
              "    </tr>\n",
              "  </thead>\n",
              "  <tbody>\n",
              "    <tr>\n",
              "      <th>Perceived_Race</th>\n",
              "      <td>3.486617e+07</td>\n",
              "      <td>1.0</td>\n",
              "      <td>8.986392</td>\n",
              "      <td>0.011113</td>\n",
              "    </tr>\n",
              "    <tr>\n",
              "      <th>Sex</th>\n",
              "      <td>2.159926e+07</td>\n",
              "      <td>1.0</td>\n",
              "      <td>5.566984</td>\n",
              "      <td>0.036088</td>\n",
              "    </tr>\n",
              "    <tr>\n",
              "      <th>Perceived_Race:Sex</th>\n",
              "      <td>1.083893e+07</td>\n",
              "      <td>1.0</td>\n",
              "      <td>2.793622</td>\n",
              "      <td>0.120492</td>\n",
              "    </tr>\n",
              "    <tr>\n",
              "      <th>Residual</th>\n",
              "      <td>4.655862e+07</td>\n",
              "      <td>12.0</td>\n",
              "      <td>NaN</td>\n",
              "      <td>NaN</td>\n",
              "    </tr>\n",
              "  </tbody>\n",
              "</table>\n",
              "</div>\n",
              "      <button class=\"colab-df-convert\" onclick=\"convertToInteractive('df-c4bfb880-8e9a-4d4c-9915-3f395b40a13e')\"\n",
              "              title=\"Convert this dataframe to an interactive table.\"\n",
              "              style=\"display:none;\">\n",
              "        \n",
              "  <svg xmlns=\"http://www.w3.org/2000/svg\" height=\"24px\"viewBox=\"0 0 24 24\"\n",
              "       width=\"24px\">\n",
              "    <path d=\"M0 0h24v24H0V0z\" fill=\"none\"/>\n",
              "    <path d=\"M18.56 5.44l.94 2.06.94-2.06 2.06-.94-2.06-.94-.94-2.06-.94 2.06-2.06.94zm-11 1L8.5 8.5l.94-2.06 2.06-.94-2.06-.94L8.5 2.5l-.94 2.06-2.06.94zm10 10l.94 2.06.94-2.06 2.06-.94-2.06-.94-.94-2.06-.94 2.06-2.06.94z\"/><path d=\"M17.41 7.96l-1.37-1.37c-.4-.4-.92-.59-1.43-.59-.52 0-1.04.2-1.43.59L10.3 9.45l-7.72 7.72c-.78.78-.78 2.05 0 2.83L4 21.41c.39.39.9.59 1.41.59.51 0 1.02-.2 1.41-.59l7.78-7.78 2.81-2.81c.8-.78.8-2.07 0-2.86zM5.41 20L4 18.59l7.72-7.72 1.47 1.35L5.41 20z\"/>\n",
              "  </svg>\n",
              "      </button>\n",
              "      \n",
              "  <style>\n",
              "    .colab-df-container {\n",
              "      display:flex;\n",
              "      flex-wrap:wrap;\n",
              "      gap: 12px;\n",
              "    }\n",
              "\n",
              "    .colab-df-convert {\n",
              "      background-color: #E8F0FE;\n",
              "      border: none;\n",
              "      border-radius: 50%;\n",
              "      cursor: pointer;\n",
              "      display: none;\n",
              "      fill: #1967D2;\n",
              "      height: 32px;\n",
              "      padding: 0 0 0 0;\n",
              "      width: 32px;\n",
              "    }\n",
              "\n",
              "    .colab-df-convert:hover {\n",
              "      background-color: #E2EBFA;\n",
              "      box-shadow: 0px 1px 2px rgba(60, 64, 67, 0.3), 0px 1px 3px 1px rgba(60, 64, 67, 0.15);\n",
              "      fill: #174EA6;\n",
              "    }\n",
              "\n",
              "    [theme=dark] .colab-df-convert {\n",
              "      background-color: #3B4455;\n",
              "      fill: #D2E3FC;\n",
              "    }\n",
              "\n",
              "    [theme=dark] .colab-df-convert:hover {\n",
              "      background-color: #434B5C;\n",
              "      box-shadow: 0px 1px 3px 1px rgba(0, 0, 0, 0.15);\n",
              "      filter: drop-shadow(0px 1px 2px rgba(0, 0, 0, 0.3));\n",
              "      fill: #FFFFFF;\n",
              "    }\n",
              "  </style>\n",
              "\n",
              "      <script>\n",
              "        const buttonEl =\n",
              "          document.querySelector('#df-c4bfb880-8e9a-4d4c-9915-3f395b40a13e button.colab-df-convert');\n",
              "        buttonEl.style.display =\n",
              "          google.colab.kernel.accessAllowed ? 'block' : 'none';\n",
              "\n",
              "        async function convertToInteractive(key) {\n",
              "          const element = document.querySelector('#df-c4bfb880-8e9a-4d4c-9915-3f395b40a13e');\n",
              "          const dataTable =\n",
              "            await google.colab.kernel.invokeFunction('convertToInteractive',\n",
              "                                                     [key], {});\n",
              "          if (!dataTable) return;\n",
              "\n",
              "          const docLinkHtml = 'Like what you see? Visit the ' +\n",
              "            '<a target=\"_blank\" href=https://colab.research.google.com/notebooks/data_table.ipynb>data table notebook</a>'\n",
              "            + ' to learn more about interactive tables.';\n",
              "          element.innerHTML = '';\n",
              "          dataTable['output_type'] = 'display_data';\n",
              "          await google.colab.output.renderOutput(dataTable, element);\n",
              "          const docLink = document.createElement('div');\n",
              "          docLink.innerHTML = docLinkHtml;\n",
              "          element.appendChild(docLink);\n",
              "        }\n",
              "      </script>\n",
              "    </div>\n",
              "  </div>\n",
              "  "
            ]
          },
          "metadata": {},
          "execution_count": 74
        }
      ],
      "source": [
        "#this model3 similar to model, but for uncoop actions\n",
        "model_3 = ols(\"Uncoop_at_arrest_count ~ Perceived_Race + Sex+Perceived_Race:Sex\", data = grouped_data3).fit()\n",
        "sm.stats.anova_lm(model_3, typ=2)"
      ]
    },
    {
      "cell_type": "code",
      "source": [
        "grouped_data4 = data.groupby(['Time_series', 'SearchReason'])['StripSearch'].apply(lambda x: (x == 1).sum()).reset_index()\n",
        "grouped_data4 = grouped_data4.rename(columns={'StripSearch': 'StripSearch_count'})\n",
        "grouped_data4"
      ],
      "metadata": {
        "id": "w08psErX2v3G",
        "outputId": "4df79d68-4f3a-405f-bf86-cb91b619cb13",
        "colab": {
          "base_uri": "https://localhost:8080/",
          "height": 1000
        }
      },
      "execution_count": null,
      "outputs": [
        {
          "output_type": "execute_result",
          "data": {
            "text/plain": [
              "    Time_series  SearchReason  StripSearch_count\n",
              "0             1           0.0                161\n",
              "1             1           1.0                720\n",
              "2             1           2.0                726\n",
              "3             1           3.0                506\n",
              "4             1           4.0                410\n",
              "5             2           0.0                179\n",
              "6             2           1.0                401\n",
              "7             2           2.0                472\n",
              "8             2           3.0                303\n",
              "9             2           4.0                318\n",
              "10            3           0.0                254\n",
              "11            3           1.0                607\n",
              "12            3           2.0                592\n",
              "13            3           3.0                333\n",
              "14            3           4.0                346\n",
              "15            4           0.0                 50\n",
              "16            4           1.0                124\n",
              "17            4           2.0                101\n",
              "18            4           3.0                 52\n",
              "19            4           4.0                 14\n",
              "20            5           0.0                 33\n",
              "21            5           1.0                117\n",
              "22            5           2.0                 88\n",
              "23            5           3.0                 14\n",
              "24            5           4.0                  1\n",
              "25            6           0.0                 21\n",
              "26            6           1.0                 50\n",
              "27            6           2.0                 59\n",
              "28            6           3.0                 22\n",
              "29            6           4.0                  2\n",
              "30            7           0.0                 13\n",
              "31            7           1.0                 52\n",
              "32            7           2.0                 60\n",
              "33            7           3.0                  9\n",
              "34            7           4.0                  1\n",
              "35            8           0.0                 15\n",
              "36            8           1.0                 55\n",
              "37            8           2.0                 36\n",
              "38            8           3.0                 13\n",
              "39            8           4.0                  1"
            ],
            "text/html": [
              "\n",
              "  <div id=\"df-92509730-7670-4b89-84fc-6eb1f467056d\">\n",
              "    <div class=\"colab-df-container\">\n",
              "      <div>\n",
              "<style scoped>\n",
              "    .dataframe tbody tr th:only-of-type {\n",
              "        vertical-align: middle;\n",
              "    }\n",
              "\n",
              "    .dataframe tbody tr th {\n",
              "        vertical-align: top;\n",
              "    }\n",
              "\n",
              "    .dataframe thead th {\n",
              "        text-align: right;\n",
              "    }\n",
              "</style>\n",
              "<table border=\"1\" class=\"dataframe\">\n",
              "  <thead>\n",
              "    <tr style=\"text-align: right;\">\n",
              "      <th></th>\n",
              "      <th>Time_series</th>\n",
              "      <th>SearchReason</th>\n",
              "      <th>StripSearch_count</th>\n",
              "    </tr>\n",
              "  </thead>\n",
              "  <tbody>\n",
              "    <tr>\n",
              "      <th>0</th>\n",
              "      <td>1</td>\n",
              "      <td>0.0</td>\n",
              "      <td>161</td>\n",
              "    </tr>\n",
              "    <tr>\n",
              "      <th>1</th>\n",
              "      <td>1</td>\n",
              "      <td>1.0</td>\n",
              "      <td>720</td>\n",
              "    </tr>\n",
              "    <tr>\n",
              "      <th>2</th>\n",
              "      <td>1</td>\n",
              "      <td>2.0</td>\n",
              "      <td>726</td>\n",
              "    </tr>\n",
              "    <tr>\n",
              "      <th>3</th>\n",
              "      <td>1</td>\n",
              "      <td>3.0</td>\n",
              "      <td>506</td>\n",
              "    </tr>\n",
              "    <tr>\n",
              "      <th>4</th>\n",
              "      <td>1</td>\n",
              "      <td>4.0</td>\n",
              "      <td>410</td>\n",
              "    </tr>\n",
              "    <tr>\n",
              "      <th>5</th>\n",
              "      <td>2</td>\n",
              "      <td>0.0</td>\n",
              "      <td>179</td>\n",
              "    </tr>\n",
              "    <tr>\n",
              "      <th>6</th>\n",
              "      <td>2</td>\n",
              "      <td>1.0</td>\n",
              "      <td>401</td>\n",
              "    </tr>\n",
              "    <tr>\n",
              "      <th>7</th>\n",
              "      <td>2</td>\n",
              "      <td>2.0</td>\n",
              "      <td>472</td>\n",
              "    </tr>\n",
              "    <tr>\n",
              "      <th>8</th>\n",
              "      <td>2</td>\n",
              "      <td>3.0</td>\n",
              "      <td>303</td>\n",
              "    </tr>\n",
              "    <tr>\n",
              "      <th>9</th>\n",
              "      <td>2</td>\n",
              "      <td>4.0</td>\n",
              "      <td>318</td>\n",
              "    </tr>\n",
              "    <tr>\n",
              "      <th>10</th>\n",
              "      <td>3</td>\n",
              "      <td>0.0</td>\n",
              "      <td>254</td>\n",
              "    </tr>\n",
              "    <tr>\n",
              "      <th>11</th>\n",
              "      <td>3</td>\n",
              "      <td>1.0</td>\n",
              "      <td>607</td>\n",
              "    </tr>\n",
              "    <tr>\n",
              "      <th>12</th>\n",
              "      <td>3</td>\n",
              "      <td>2.0</td>\n",
              "      <td>592</td>\n",
              "    </tr>\n",
              "    <tr>\n",
              "      <th>13</th>\n",
              "      <td>3</td>\n",
              "      <td>3.0</td>\n",
              "      <td>333</td>\n",
              "    </tr>\n",
              "    <tr>\n",
              "      <th>14</th>\n",
              "      <td>3</td>\n",
              "      <td>4.0</td>\n",
              "      <td>346</td>\n",
              "    </tr>\n",
              "    <tr>\n",
              "      <th>15</th>\n",
              "      <td>4</td>\n",
              "      <td>0.0</td>\n",
              "      <td>50</td>\n",
              "    </tr>\n",
              "    <tr>\n",
              "      <th>16</th>\n",
              "      <td>4</td>\n",
              "      <td>1.0</td>\n",
              "      <td>124</td>\n",
              "    </tr>\n",
              "    <tr>\n",
              "      <th>17</th>\n",
              "      <td>4</td>\n",
              "      <td>2.0</td>\n",
              "      <td>101</td>\n",
              "    </tr>\n",
              "    <tr>\n",
              "      <th>18</th>\n",
              "      <td>4</td>\n",
              "      <td>3.0</td>\n",
              "      <td>52</td>\n",
              "    </tr>\n",
              "    <tr>\n",
              "      <th>19</th>\n",
              "      <td>4</td>\n",
              "      <td>4.0</td>\n",
              "      <td>14</td>\n",
              "    </tr>\n",
              "    <tr>\n",
              "      <th>20</th>\n",
              "      <td>5</td>\n",
              "      <td>0.0</td>\n",
              "      <td>33</td>\n",
              "    </tr>\n",
              "    <tr>\n",
              "      <th>21</th>\n",
              "      <td>5</td>\n",
              "      <td>1.0</td>\n",
              "      <td>117</td>\n",
              "    </tr>\n",
              "    <tr>\n",
              "      <th>22</th>\n",
              "      <td>5</td>\n",
              "      <td>2.0</td>\n",
              "      <td>88</td>\n",
              "    </tr>\n",
              "    <tr>\n",
              "      <th>23</th>\n",
              "      <td>5</td>\n",
              "      <td>3.0</td>\n",
              "      <td>14</td>\n",
              "    </tr>\n",
              "    <tr>\n",
              "      <th>24</th>\n",
              "      <td>5</td>\n",
              "      <td>4.0</td>\n",
              "      <td>1</td>\n",
              "    </tr>\n",
              "    <tr>\n",
              "      <th>25</th>\n",
              "      <td>6</td>\n",
              "      <td>0.0</td>\n",
              "      <td>21</td>\n",
              "    </tr>\n",
              "    <tr>\n",
              "      <th>26</th>\n",
              "      <td>6</td>\n",
              "      <td>1.0</td>\n",
              "      <td>50</td>\n",
              "    </tr>\n",
              "    <tr>\n",
              "      <th>27</th>\n",
              "      <td>6</td>\n",
              "      <td>2.0</td>\n",
              "      <td>59</td>\n",
              "    </tr>\n",
              "    <tr>\n",
              "      <th>28</th>\n",
              "      <td>6</td>\n",
              "      <td>3.0</td>\n",
              "      <td>22</td>\n",
              "    </tr>\n",
              "    <tr>\n",
              "      <th>29</th>\n",
              "      <td>6</td>\n",
              "      <td>4.0</td>\n",
              "      <td>2</td>\n",
              "    </tr>\n",
              "    <tr>\n",
              "      <th>30</th>\n",
              "      <td>7</td>\n",
              "      <td>0.0</td>\n",
              "      <td>13</td>\n",
              "    </tr>\n",
              "    <tr>\n",
              "      <th>31</th>\n",
              "      <td>7</td>\n",
              "      <td>1.0</td>\n",
              "      <td>52</td>\n",
              "    </tr>\n",
              "    <tr>\n",
              "      <th>32</th>\n",
              "      <td>7</td>\n",
              "      <td>2.0</td>\n",
              "      <td>60</td>\n",
              "    </tr>\n",
              "    <tr>\n",
              "      <th>33</th>\n",
              "      <td>7</td>\n",
              "      <td>3.0</td>\n",
              "      <td>9</td>\n",
              "    </tr>\n",
              "    <tr>\n",
              "      <th>34</th>\n",
              "      <td>7</td>\n",
              "      <td>4.0</td>\n",
              "      <td>1</td>\n",
              "    </tr>\n",
              "    <tr>\n",
              "      <th>35</th>\n",
              "      <td>8</td>\n",
              "      <td>0.0</td>\n",
              "      <td>15</td>\n",
              "    </tr>\n",
              "    <tr>\n",
              "      <th>36</th>\n",
              "      <td>8</td>\n",
              "      <td>1.0</td>\n",
              "      <td>55</td>\n",
              "    </tr>\n",
              "    <tr>\n",
              "      <th>37</th>\n",
              "      <td>8</td>\n",
              "      <td>2.0</td>\n",
              "      <td>36</td>\n",
              "    </tr>\n",
              "    <tr>\n",
              "      <th>38</th>\n",
              "      <td>8</td>\n",
              "      <td>3.0</td>\n",
              "      <td>13</td>\n",
              "    </tr>\n",
              "    <tr>\n",
              "      <th>39</th>\n",
              "      <td>8</td>\n",
              "      <td>4.0</td>\n",
              "      <td>1</td>\n",
              "    </tr>\n",
              "  </tbody>\n",
              "</table>\n",
              "</div>\n",
              "      <button class=\"colab-df-convert\" onclick=\"convertToInteractive('df-92509730-7670-4b89-84fc-6eb1f467056d')\"\n",
              "              title=\"Convert this dataframe to an interactive table.\"\n",
              "              style=\"display:none;\">\n",
              "        \n",
              "  <svg xmlns=\"http://www.w3.org/2000/svg\" height=\"24px\"viewBox=\"0 0 24 24\"\n",
              "       width=\"24px\">\n",
              "    <path d=\"M0 0h24v24H0V0z\" fill=\"none\"/>\n",
              "    <path d=\"M18.56 5.44l.94 2.06.94-2.06 2.06-.94-2.06-.94-.94-2.06-.94 2.06-2.06.94zm-11 1L8.5 8.5l.94-2.06 2.06-.94-2.06-.94L8.5 2.5l-.94 2.06-2.06.94zm10 10l.94 2.06.94-2.06 2.06-.94-2.06-.94-.94-2.06-.94 2.06-2.06.94z\"/><path d=\"M17.41 7.96l-1.37-1.37c-.4-.4-.92-.59-1.43-.59-.52 0-1.04.2-1.43.59L10.3 9.45l-7.72 7.72c-.78.78-.78 2.05 0 2.83L4 21.41c.39.39.9.59 1.41.59.51 0 1.02-.2 1.41-.59l7.78-7.78 2.81-2.81c.8-.78.8-2.07 0-2.86zM5.41 20L4 18.59l7.72-7.72 1.47 1.35L5.41 20z\"/>\n",
              "  </svg>\n",
              "      </button>\n",
              "      \n",
              "  <style>\n",
              "    .colab-df-container {\n",
              "      display:flex;\n",
              "      flex-wrap:wrap;\n",
              "      gap: 12px;\n",
              "    }\n",
              "\n",
              "    .colab-df-convert {\n",
              "      background-color: #E8F0FE;\n",
              "      border: none;\n",
              "      border-radius: 50%;\n",
              "      cursor: pointer;\n",
              "      display: none;\n",
              "      fill: #1967D2;\n",
              "      height: 32px;\n",
              "      padding: 0 0 0 0;\n",
              "      width: 32px;\n",
              "    }\n",
              "\n",
              "    .colab-df-convert:hover {\n",
              "      background-color: #E2EBFA;\n",
              "      box-shadow: 0px 1px 2px rgba(60, 64, 67, 0.3), 0px 1px 3px 1px rgba(60, 64, 67, 0.15);\n",
              "      fill: #174EA6;\n",
              "    }\n",
              "\n",
              "    [theme=dark] .colab-df-convert {\n",
              "      background-color: #3B4455;\n",
              "      fill: #D2E3FC;\n",
              "    }\n",
              "\n",
              "    [theme=dark] .colab-df-convert:hover {\n",
              "      background-color: #434B5C;\n",
              "      box-shadow: 0px 1px 3px 1px rgba(0, 0, 0, 0.15);\n",
              "      filter: drop-shadow(0px 1px 2px rgba(0, 0, 0, 0.3));\n",
              "      fill: #FFFFFF;\n",
              "    }\n",
              "  </style>\n",
              "\n",
              "      <script>\n",
              "        const buttonEl =\n",
              "          document.querySelector('#df-92509730-7670-4b89-84fc-6eb1f467056d button.colab-df-convert');\n",
              "        buttonEl.style.display =\n",
              "          google.colab.kernel.accessAllowed ? 'block' : 'none';\n",
              "\n",
              "        async function convertToInteractive(key) {\n",
              "          const element = document.querySelector('#df-92509730-7670-4b89-84fc-6eb1f467056d');\n",
              "          const dataTable =\n",
              "            await google.colab.kernel.invokeFunction('convertToInteractive',\n",
              "                                                     [key], {});\n",
              "          if (!dataTable) return;\n",
              "\n",
              "          const docLinkHtml = 'Like what you see? Visit the ' +\n",
              "            '<a target=\"_blank\" href=https://colab.research.google.com/notebooks/data_table.ipynb>data table notebook</a>'\n",
              "            + ' to learn more about interactive tables.';\n",
              "          element.innerHTML = '';\n",
              "          dataTable['output_type'] = 'display_data';\n",
              "          await google.colab.output.renderOutput(dataTable, element);\n",
              "          const docLink = document.createElement('div');\n",
              "          docLink.innerHTML = docLinkHtml;\n",
              "          element.appendChild(docLink);\n",
              "        }\n",
              "      </script>\n",
              "    </div>\n",
              "  </div>\n",
              "  "
            ]
          },
          "metadata": {},
          "execution_count": 75
        }
      ]
    },
    {
      "cell_type": "code",
      "source": [
        "#one way anova about time series: differet decision about whether conduct strip search over time?\n",
        "sample_0 = grouped_data4[grouped_data4['Time_series'] == 1]['StripSearch_count']\n",
        "sample_1 = grouped_data4[grouped_data4['Time_series'] == 4]['StripSearch_count']\n",
        "sample_2 = grouped_data4[grouped_data4['Time_series'] == 8]['StripSearch_count']"
      ],
      "metadata": {
        "id": "Wpr0sjXK33W5"
      },
      "execution_count": null,
      "outputs": []
    },
    {
      "cell_type": "code",
      "source": [
        "# One-way ANOVA: strip search number over time\n",
        "statistic, pvalue = f_oneway(sample_0, sample_1, sample_2)\n",
        "\n",
        "print(f'One-way ANOVA: s = {statistic}, p = {pvalue}')"
      ],
      "metadata": {
        "id": "0k4XT2EP5VhE",
        "outputId": "cf260525-7af4-4607-aebd-751e4516c6ec",
        "colab": {
          "base_uri": "https://localhost:8080/"
        }
      },
      "execution_count": null,
      "outputs": [
        {
          "output_type": "stream",
          "name": "stdout",
          "text": [
            "One-way ANOVA: s = 18.250179322711887, p = 0.0002294128687820539\n"
          ]
        }
      ]
    },
    {
      "cell_type": "code",
      "source": [
        "tukey = pairwise_tukeyhsd(endog=grouped_data4['StripSearch_count'],\n",
        "                          groups=grouped_data4['Time_series'],\n",
        "                          alpha=0.05)\n",
        "\n",
        "#display results\n",
        "print(tukey)"
      ],
      "metadata": {
        "id": "CM_HfoZS5waI",
        "outputId": "f9adf037-21ec-4c79-c1a2-36fd75023fdc",
        "colab": {
          "base_uri": "https://localhost:8080/"
        }
      },
      "execution_count": null,
      "outputs": [
        {
          "output_type": "stream",
          "name": "stdout",
          "text": [
            "  Multiple Comparison of Means - Tukey HSD, FWER=0.05   \n",
            "========================================================\n",
            "group1 group2 meandiff p-adj    lower     upper   reject\n",
            "--------------------------------------------------------\n",
            "     1      2   -170.0 0.2746 -399.2444   59.2444  False\n",
            "     1      3    -78.2    0.9 -307.4444  151.0444  False\n",
            "     1      4   -436.4  0.001 -665.6444 -207.1556   True\n",
            "     1      5   -454.0  0.001 -683.2444 -224.7556   True\n",
            "     1      6   -473.8  0.001 -703.0444 -244.5556   True\n",
            "     1      7   -477.6  0.001 -706.8444 -248.3556   True\n",
            "     1      8   -480.6  0.001 -709.8444 -251.3556   True\n",
            "     2      3     91.8 0.8906 -137.4444  321.0444  False\n",
            "     2      4   -266.4 0.0138 -495.6444  -37.1556   True\n",
            "     2      5   -284.0 0.0072 -513.2444  -54.7556   True\n",
            "     2      6   -303.8 0.0034 -533.0444  -74.5556   True\n",
            "     2      7   -307.6 0.0029 -536.8444  -78.3556   True\n",
            "     2      8   -310.6 0.0026 -539.8444  -81.3556   True\n",
            "     3      4   -358.2  0.001 -587.4444 -128.9556   True\n",
            "     3      5   -375.8  0.001 -605.0444 -146.5556   True\n",
            "     3      6   -395.6  0.001 -624.8444 -166.3556   True\n",
            "     3      7   -399.4  0.001 -628.6444 -170.1556   True\n",
            "     3      8   -402.4  0.001 -631.6444 -173.1556   True\n",
            "     4      5    -17.6    0.9 -246.8444  211.6444  False\n",
            "     4      6    -37.4    0.9 -266.6444  191.8444  False\n",
            "     4      7    -41.2    0.9 -270.4444  188.0444  False\n",
            "     4      8    -44.2    0.9 -273.4444  185.0444  False\n",
            "     5      6    -19.8    0.9 -249.0444  209.4444  False\n",
            "     5      7    -23.6    0.9 -252.8444  205.6444  False\n",
            "     5      8    -26.6    0.9 -255.8444  202.6444  False\n",
            "     6      7     -3.8    0.9 -233.0444  225.4444  False\n",
            "     6      8     -6.8    0.9 -236.0444  222.4444  False\n",
            "     7      8     -3.0    0.9 -232.2444  226.2444  False\n",
            "--------------------------------------------------------\n"
          ]
        }
      ]
    },
    {
      "cell_type": "code",
      "source": [
        "# conclusion: the attituede towards strip search did change over time. It is indicated by the data."
      ],
      "metadata": {
        "id": "YinRTSXI6XW9"
      },
      "execution_count": null,
      "outputs": []
    },
    {
      "cell_type": "code",
      "source": [
        "sample_0 = grouped_data4[grouped_data4['SearchReason'] == 0]['StripSearch_count']\n",
        "sample_1 = grouped_data4[grouped_data4['SearchReason'] == 2]['StripSearch_count']\n",
        "sample_2 = grouped_data4[grouped_data4['SearchReason'] == 4]['StripSearch_count']"
      ],
      "metadata": {
        "id": "KDJILtxL-e9L"
      },
      "execution_count": null,
      "outputs": []
    },
    {
      "cell_type": "code",
      "source": [
        "statistic, pvalue = f_oneway(sample_0, sample_1, sample_2)\n",
        "\n",
        "print(f'One-way ANOVA: s = {statistic}, p = {pvalue}')"
      ],
      "metadata": {
        "id": "RSdnYMn2-fPv",
        "outputId": "b6aeda2d-ff22-44cc-b2b7-d6883ccef858",
        "colab": {
          "base_uri": "https://localhost:8080/"
        }
      },
      "execution_count": null,
      "outputs": [
        {
          "output_type": "stream",
          "name": "stdout",
          "text": [
            "One-way ANOVA: s = 1.6316878310862444, p = 0.2194394774555724\n"
          ]
        }
      ]
    },
    {
      "cell_type": "code",
      "source": [
        "tukey = pairwise_tukeyhsd(endog=grouped_data4['StripSearch_count'],\n",
        "                          groups=grouped_data4['SearchReason'],\n",
        "                          alpha=0.05)\n",
        "\n",
        "#display results\n",
        "print(tukey)"
      ],
      "metadata": {
        "id": "4Uf7v1Ob-fSD",
        "outputId": "28d4a025-3da3-4f36-8e5a-49b164f3ec07",
        "colab": {
          "base_uri": "https://localhost:8080/"
        }
      },
      "execution_count": null,
      "outputs": [
        {
          "output_type": "stream",
          "name": "stdout",
          "text": [
            "  Multiple Comparison of Means - Tukey HSD, FWER=0.05  \n",
            "=======================================================\n",
            "group1 group2 meandiff p-adj    lower    upper   reject\n",
            "-------------------------------------------------------\n",
            "   0.0    1.0    175.0 0.4981 -136.6129 486.6129  False\n",
            "   0.0    2.0    176.0 0.4928 -135.6129 487.6129  False\n",
            "   0.0    3.0    65.75    0.9 -245.8629 377.3629  False\n",
            "   0.0    4.0   45.875    0.9 -265.7379 357.4879  False\n",
            "   1.0    2.0      1.0    0.9 -310.6129 312.6129  False\n",
            "   1.0    3.0  -109.25 0.8324 -420.8629 202.3629  False\n",
            "   1.0    4.0 -129.125 0.7314 -440.7379 182.4879  False\n",
            "   2.0    3.0  -110.25 0.8273 -421.8629 201.3629  False\n",
            "   2.0    4.0 -130.125 0.7263 -441.7379 181.4879  False\n",
            "   3.0    4.0  -19.875    0.9 -331.4879 291.7379  False\n",
            "-------------------------------------------------------\n"
          ]
        }
      ]
    },
    {
      "cell_type": "code",
      "source": [
        "# two way anova, strip search over time and search reasonb"
      ],
      "metadata": {
        "id": "bem8ytPu73eF"
      },
      "execution_count": null,
      "outputs": []
    },
    {
      "cell_type": "code",
      "source": [
        "model_4 = ols(\"StripSearch_count ~ Time_series + SearchReason+Time_series:SearchReason\", data = grouped_data4).fit()\n",
        "sm.stats.anova_lm(model_4, typ=2)"
      ],
      "metadata": {
        "id": "p9ct5iKo8Dmo",
        "outputId": "3e182cb7-7fe7-46c1-bb16-d5988b403860",
        "colab": {
          "base_uri": "https://localhost:8080/",
          "height": 174
        }
      },
      "execution_count": null,
      "outputs": [
        {
          "output_type": "execute_result",
          "data": {
            "text/plain": [
              "                                sum_sq    df          F        PR(>F)\n",
              "Time_series               1.109838e+06   1.0  54.856507  9.686273e-09\n",
              "SearchReason              2.450000e+02   1.0   0.012110  9.129855e-01\n",
              "Time_series:SearchReason  7.991010e+03   1.0   0.394975  5.336630e-01\n",
              "Residual                  7.283398e+05  36.0        NaN           NaN"
            ],
            "text/html": [
              "\n",
              "  <div id=\"df-8d732196-938e-421a-a5d2-2c1e2caf6a2c\">\n",
              "    <div class=\"colab-df-container\">\n",
              "      <div>\n",
              "<style scoped>\n",
              "    .dataframe tbody tr th:only-of-type {\n",
              "        vertical-align: middle;\n",
              "    }\n",
              "\n",
              "    .dataframe tbody tr th {\n",
              "        vertical-align: top;\n",
              "    }\n",
              "\n",
              "    .dataframe thead th {\n",
              "        text-align: right;\n",
              "    }\n",
              "</style>\n",
              "<table border=\"1\" class=\"dataframe\">\n",
              "  <thead>\n",
              "    <tr style=\"text-align: right;\">\n",
              "      <th></th>\n",
              "      <th>sum_sq</th>\n",
              "      <th>df</th>\n",
              "      <th>F</th>\n",
              "      <th>PR(&gt;F)</th>\n",
              "    </tr>\n",
              "  </thead>\n",
              "  <tbody>\n",
              "    <tr>\n",
              "      <th>Time_series</th>\n",
              "      <td>1.109838e+06</td>\n",
              "      <td>1.0</td>\n",
              "      <td>54.856507</td>\n",
              "      <td>9.686273e-09</td>\n",
              "    </tr>\n",
              "    <tr>\n",
              "      <th>SearchReason</th>\n",
              "      <td>2.450000e+02</td>\n",
              "      <td>1.0</td>\n",
              "      <td>0.012110</td>\n",
              "      <td>9.129855e-01</td>\n",
              "    </tr>\n",
              "    <tr>\n",
              "      <th>Time_series:SearchReason</th>\n",
              "      <td>7.991010e+03</td>\n",
              "      <td>1.0</td>\n",
              "      <td>0.394975</td>\n",
              "      <td>5.336630e-01</td>\n",
              "    </tr>\n",
              "    <tr>\n",
              "      <th>Residual</th>\n",
              "      <td>7.283398e+05</td>\n",
              "      <td>36.0</td>\n",
              "      <td>NaN</td>\n",
              "      <td>NaN</td>\n",
              "    </tr>\n",
              "  </tbody>\n",
              "</table>\n",
              "</div>\n",
              "      <button class=\"colab-df-convert\" onclick=\"convertToInteractive('df-8d732196-938e-421a-a5d2-2c1e2caf6a2c')\"\n",
              "              title=\"Convert this dataframe to an interactive table.\"\n",
              "              style=\"display:none;\">\n",
              "        \n",
              "  <svg xmlns=\"http://www.w3.org/2000/svg\" height=\"24px\"viewBox=\"0 0 24 24\"\n",
              "       width=\"24px\">\n",
              "    <path d=\"M0 0h24v24H0V0z\" fill=\"none\"/>\n",
              "    <path d=\"M18.56 5.44l.94 2.06.94-2.06 2.06-.94-2.06-.94-.94-2.06-.94 2.06-2.06.94zm-11 1L8.5 8.5l.94-2.06 2.06-.94-2.06-.94L8.5 2.5l-.94 2.06-2.06.94zm10 10l.94 2.06.94-2.06 2.06-.94-2.06-.94-.94-2.06-.94 2.06-2.06.94z\"/><path d=\"M17.41 7.96l-1.37-1.37c-.4-.4-.92-.59-1.43-.59-.52 0-1.04.2-1.43.59L10.3 9.45l-7.72 7.72c-.78.78-.78 2.05 0 2.83L4 21.41c.39.39.9.59 1.41.59.51 0 1.02-.2 1.41-.59l7.78-7.78 2.81-2.81c.8-.78.8-2.07 0-2.86zM5.41 20L4 18.59l7.72-7.72 1.47 1.35L5.41 20z\"/>\n",
              "  </svg>\n",
              "      </button>\n",
              "      \n",
              "  <style>\n",
              "    .colab-df-container {\n",
              "      display:flex;\n",
              "      flex-wrap:wrap;\n",
              "      gap: 12px;\n",
              "    }\n",
              "\n",
              "    .colab-df-convert {\n",
              "      background-color: #E8F0FE;\n",
              "      border: none;\n",
              "      border-radius: 50%;\n",
              "      cursor: pointer;\n",
              "      display: none;\n",
              "      fill: #1967D2;\n",
              "      height: 32px;\n",
              "      padding: 0 0 0 0;\n",
              "      width: 32px;\n",
              "    }\n",
              "\n",
              "    .colab-df-convert:hover {\n",
              "      background-color: #E2EBFA;\n",
              "      box-shadow: 0px 1px 2px rgba(60, 64, 67, 0.3), 0px 1px 3px 1px rgba(60, 64, 67, 0.15);\n",
              "      fill: #174EA6;\n",
              "    }\n",
              "\n",
              "    [theme=dark] .colab-df-convert {\n",
              "      background-color: #3B4455;\n",
              "      fill: #D2E3FC;\n",
              "    }\n",
              "\n",
              "    [theme=dark] .colab-df-convert:hover {\n",
              "      background-color: #434B5C;\n",
              "      box-shadow: 0px 1px 3px 1px rgba(0, 0, 0, 0.15);\n",
              "      filter: drop-shadow(0px 1px 2px rgba(0, 0, 0, 0.3));\n",
              "      fill: #FFFFFF;\n",
              "    }\n",
              "  </style>\n",
              "\n",
              "      <script>\n",
              "        const buttonEl =\n",
              "          document.querySelector('#df-8d732196-938e-421a-a5d2-2c1e2caf6a2c button.colab-df-convert');\n",
              "        buttonEl.style.display =\n",
              "          google.colab.kernel.accessAllowed ? 'block' : 'none';\n",
              "\n",
              "        async function convertToInteractive(key) {\n",
              "          const element = document.querySelector('#df-8d732196-938e-421a-a5d2-2c1e2caf6a2c');\n",
              "          const dataTable =\n",
              "            await google.colab.kernel.invokeFunction('convertToInteractive',\n",
              "                                                     [key], {});\n",
              "          if (!dataTable) return;\n",
              "\n",
              "          const docLinkHtml = 'Like what you see? Visit the ' +\n",
              "            '<a target=\"_blank\" href=https://colab.research.google.com/notebooks/data_table.ipynb>data table notebook</a>'\n",
              "            + ' to learn more about interactive tables.';\n",
              "          element.innerHTML = '';\n",
              "          dataTable['output_type'] = 'display_data';\n",
              "          await google.colab.output.renderOutput(dataTable, element);\n",
              "          const docLink = document.createElement('div');\n",
              "          docLink.innerHTML = docLinkHtml;\n",
              "          element.appendChild(docLink);\n",
              "        }\n",
              "      </script>\n",
              "    </div>\n",
              "  </div>\n",
              "  "
            ]
          },
          "metadata": {},
          "execution_count": 84
        }
      ]
    },
    {
      "cell_type": "markdown",
      "metadata": {
        "id": "ttQcwJI_In8F"
      },
      "source": [
        "# Post-Hoc Testing: Tukey's HSD"
      ]
    },
    {
      "cell_type": "code",
      "execution_count": null,
      "metadata": {
        "colab": {
          "base_uri": "https://localhost:8080/"
        },
        "id": "E3hdZUMW-mDW",
        "outputId": "369d24b9-506c-4a6e-ea9f-76eb9b91fc7e"
      },
      "outputs": [
        {
          "output_type": "stream",
          "name": "stdout",
          "text": [
            "   Multiple Comparison of Means - Tukey HSD, FWER=0.05   \n",
            "=========================================================\n",
            "group1 group2 meandiff p-adj    lower      upper   reject\n",
            "---------------------------------------------------------\n",
            "     0      1  -4876.0 0.4208 -13505.584  3753.584  False\n",
            "     0      2  -2345.5    0.9 -10975.084  6284.084  False\n",
            "     0      3  -5156.0 0.3647 -13785.584  3473.584  False\n",
            "     0      4  -5600.5 0.2878 -14230.084  3029.084  False\n",
            "     0      5  -5233.0 0.3502 -13862.584  3396.584  False\n",
            "     0      6  -5530.5 0.2989 -14160.084  3099.084  False\n",
            "     0      7  -4867.0 0.4227 -13496.584  3762.584  False\n",
            "     1      2   2530.5    0.9  -6099.084 11160.084  False\n",
            "     1      3   -280.0    0.9  -8909.584  8349.584  False\n",
            "     1      4   -724.5    0.9  -9354.084  7905.084  False\n",
            "     1      5   -357.0    0.9  -8986.584  8272.584  False\n",
            "     1      6   -654.5    0.9  -9284.084  7975.084  False\n",
            "     1      7      9.0    0.9  -8620.584  8638.584  False\n",
            "     2      3  -2810.5  0.876 -11440.084  5819.084  False\n",
            "     2      4  -3255.0 0.7771 -11884.584  5374.584  False\n",
            "     2      5  -2887.5 0.8589 -11517.084  5742.084  False\n",
            "     2      6  -3185.0 0.7927 -11814.584  5444.584  False\n",
            "     2      7  -2521.5    0.9 -11151.084  6108.084  False\n",
            "     3      4   -444.5    0.9  -9074.084  8185.084  False\n",
            "     3      5    -77.0    0.9  -8706.584  8552.584  False\n",
            "     3      6   -374.5    0.9  -9004.084  8255.084  False\n",
            "     3      7    289.0    0.9  -8340.584  8918.584  False\n",
            "     4      5    367.5    0.9  -8262.084  8997.084  False\n",
            "     4      6     70.0    0.9  -8559.584  8699.584  False\n",
            "     4      7    733.5    0.9  -7896.084  9363.084  False\n",
            "     5      6   -297.5    0.9  -8927.084  8332.084  False\n",
            "     5      7    366.0    0.9  -8263.584  8995.584  False\n",
            "     6      7    663.5    0.9  -7966.084  9293.084  False\n",
            "---------------------------------------------------------\n"
          ]
        }
      ],
      "source": [
        "from statsmodels.stats.multicomp import MultiComparison, pairwise_tukeyhsd\n",
        "\n",
        "# Perform a Tukey's HSD test to compare individual groups\n",
        "mc = MultiComparison(grouped_data0['Coop_at_arrest_count'], grouped_data0['Perceived_Race'])\n",
        "tukey_results = mc.tukeyhsd(alpha=0.05)\n",
        "print(tukey_results)"
      ]
    },
    {
      "cell_type": "code",
      "execution_count": null,
      "metadata": {
        "colab": {
          "base_uri": "https://localhost:8080/"
        },
        "id": "6dIR66CrAUtk",
        "outputId": "6839137b-7c60-429c-ac5a-580696573969"
      },
      "outputs": [
        {
          "output_type": "stream",
          "name": "stdout",
          "text": [
            "   Multiple Comparison of Means - Tukey HSD, FWER=0.05   \n",
            "=========================================================\n",
            "group1 group2  meandiff p-adj    lower     upper   reject\n",
            "---------------------------------------------------------\n",
            "     0      1 -2211.625 0.0747 -4674.7732 251.5232  False\n",
            "---------------------------------------------------------\n"
          ]
        }
      ],
      "source": [
        "mc = MultiComparison(grouped_data0['Coop_at_arrest_count'], grouped_data0['Sex'])\n",
        "tukey_results = mc.tukeyhsd(alpha=0.05)\n",
        "print(tukey_results)"
      ]
    },
    {
      "cell_type": "code",
      "execution_count": null,
      "metadata": {
        "colab": {
          "base_uri": "https://localhost:8080/"
        },
        "id": "pZE_yq8z6Srn",
        "outputId": "db15a575-c0ef-450d-de36-6efafa0434d4"
      },
      "outputs": [
        {
          "output_type": "stream",
          "name": "stdout",
          "text": [
            "   Multiple Comparison of Means - Tukey HSD, FWER=0.05   \n",
            "=========================================================\n",
            "group1 group2 meandiff p-adj    lower      upper   reject\n",
            "---------------------------------------------------------\n",
            "     0      1  -1422.5 0.4675 -4060.2822 1215.2822  False\n",
            "     0      2   -519.5    0.9 -3157.2822 2118.2822  False\n",
            "     0      3  -1545.0 0.3845 -4182.7822 1092.7822  False\n",
            "     0      4  -1525.5 0.3973 -4163.2822 1112.2822  False\n",
            "     0      5  -1562.0 0.3736 -4199.7822 1075.7822  False\n",
            "     0      6  -1606.5  0.346 -4244.2822 1031.2822  False\n",
            "     0      7  -1505.5 0.4106 -4143.2822 1132.2822  False\n",
            "     1      2    903.0  0.844 -1734.7822 3540.7822  False\n",
            "     1      3   -122.5    0.9 -2760.2822 2515.2822  False\n",
            "     1      4   -103.0    0.9 -2740.7822 2534.7822  False\n",
            "     1      5   -139.5    0.9 -2777.2822 2498.2822  False\n",
            "     1      6   -184.0    0.9 -2821.7822 2453.7822  False\n",
            "     1      7    -83.0    0.9 -2720.7822 2554.7822  False\n",
            "     2      3  -1025.5 0.7549 -3663.2822 1612.2822  False\n",
            "     2      4  -1006.0  0.769 -3643.7822 1631.7822  False\n",
            "     2      5  -1042.5 0.7425 -3680.2822 1595.2822  False\n",
            "     2      6  -1087.0 0.7101 -3724.7822 1550.7822  False\n",
            "     2      7   -986.0 0.7836 -3623.7822 1651.7822  False\n",
            "     3      4     19.5    0.9 -2618.2822 2657.2822  False\n",
            "     3      5    -17.0    0.9 -2654.7822 2620.7822  False\n",
            "     3      6    -61.5    0.9 -2699.2822 2576.2822  False\n",
            "     3      7     39.5    0.9 -2598.2822 2677.2822  False\n",
            "     4      5    -36.5    0.9 -2674.2822 2601.2822  False\n",
            "     4      6    -81.0    0.9 -2718.7822 2556.7822  False\n",
            "     4      7     20.0    0.9 -2617.7822 2657.7822  False\n",
            "     5      6    -44.5    0.9 -2682.2822 2593.2822  False\n",
            "     5      7     56.5    0.9 -2581.2822 2694.2822  False\n",
            "     6      7    101.0    0.9 -2536.7822 2738.7822  False\n",
            "---------------------------------------------------------\n"
          ]
        }
      ],
      "source": [
        "from statsmodels.stats.multicomp import MultiComparison, pairwise_tukeyhsd\n",
        "\n",
        "# Perform a Tukey's HSD test to compare individual groups\n",
        "mc = MultiComparison(grouped_data1['StripSearch_count'], grouped_data1['Perceived_Race'])\n",
        "tukey_results = mc.tukeyhsd(alpha=0.05)\n",
        "print(tukey_results)"
      ]
    },
    {
      "cell_type": "code",
      "execution_count": null,
      "metadata": {
        "colab": {
          "base_uri": "https://localhost:8080/"
        },
        "id": "9PS4HH4VAgPr",
        "outputId": "67691ef3-5a7e-4d6a-9078-afd72f788fa0"
      },
      "outputs": [
        {
          "output_type": "stream",
          "name": "stdout",
          "text": [
            "  Multiple Comparison of Means - Tukey HSD, FWER=0.05   \n",
            "========================================================\n",
            "group1 group2 meandiff p-adj    lower     upper   reject\n",
            "--------------------------------------------------------\n",
            "     0      1 -614.375 0.1082 -1382.1716 153.4216  False\n",
            "--------------------------------------------------------\n"
          ]
        }
      ],
      "source": [
        "mc = MultiComparison(grouped_data1['StripSearch_count'], grouped_data1['Sex'])\n",
        "tukey_results = mc.tukeyhsd(alpha=0.05)\n",
        "print(tukey_results)"
      ]
    },
    {
      "cell_type": "code",
      "execution_count": null,
      "metadata": {
        "colab": {
          "base_uri": "https://localhost:8080/",
          "height": 550
        },
        "id": "T65JrP1AFdZQ",
        "outputId": "7370cee7-6d11-4b49-8d22-fb83f9a99c10"
      },
      "outputs": [
        {
          "output_type": "execute_result",
          "data": {
            "text/plain": [
              "    Perceived_Race  Youth_at_arrest__under_18_years  Uncoop_at_arrest_count\n",
              "0                0                                0                     431\n",
              "1                0                                1                   12632\n",
              "2                1                                0                     111\n",
              "3                1                                1                    2405\n",
              "4                2                                0                     663\n",
              "5                2                                1                    7766\n",
              "6                3                                0                      42\n",
              "7                3                                1                    1702\n",
              "8                4                                0                      13\n",
              "9                4                                1                     898\n",
              "10               5                                0                     103\n",
              "11               5                                1                    1394\n",
              "12               6                                0                      30\n",
              "13               6                                1                     720\n",
              "14               7                                0                      76\n",
              "15               7                                1                    1876"
            ],
            "text/html": [
              "\n",
              "  <div id=\"df-d2b0fa26-b809-41cb-bb18-0874da7d2f2f\">\n",
              "    <div class=\"colab-df-container\">\n",
              "      <div>\n",
              "<style scoped>\n",
              "    .dataframe tbody tr th:only-of-type {\n",
              "        vertical-align: middle;\n",
              "    }\n",
              "\n",
              "    .dataframe tbody tr th {\n",
              "        vertical-align: top;\n",
              "    }\n",
              "\n",
              "    .dataframe thead th {\n",
              "        text-align: right;\n",
              "    }\n",
              "</style>\n",
              "<table border=\"1\" class=\"dataframe\">\n",
              "  <thead>\n",
              "    <tr style=\"text-align: right;\">\n",
              "      <th></th>\n",
              "      <th>Perceived_Race</th>\n",
              "      <th>Youth_at_arrest__under_18_years</th>\n",
              "      <th>Uncoop_at_arrest_count</th>\n",
              "    </tr>\n",
              "  </thead>\n",
              "  <tbody>\n",
              "    <tr>\n",
              "      <th>0</th>\n",
              "      <td>0</td>\n",
              "      <td>0</td>\n",
              "      <td>431</td>\n",
              "    </tr>\n",
              "    <tr>\n",
              "      <th>1</th>\n",
              "      <td>0</td>\n",
              "      <td>1</td>\n",
              "      <td>12632</td>\n",
              "    </tr>\n",
              "    <tr>\n",
              "      <th>2</th>\n",
              "      <td>1</td>\n",
              "      <td>0</td>\n",
              "      <td>111</td>\n",
              "    </tr>\n",
              "    <tr>\n",
              "      <th>3</th>\n",
              "      <td>1</td>\n",
              "      <td>1</td>\n",
              "      <td>2405</td>\n",
              "    </tr>\n",
              "    <tr>\n",
              "      <th>4</th>\n",
              "      <td>2</td>\n",
              "      <td>0</td>\n",
              "      <td>663</td>\n",
              "    </tr>\n",
              "    <tr>\n",
              "      <th>5</th>\n",
              "      <td>2</td>\n",
              "      <td>1</td>\n",
              "      <td>7766</td>\n",
              "    </tr>\n",
              "    <tr>\n",
              "      <th>6</th>\n",
              "      <td>3</td>\n",
              "      <td>0</td>\n",
              "      <td>42</td>\n",
              "    </tr>\n",
              "    <tr>\n",
              "      <th>7</th>\n",
              "      <td>3</td>\n",
              "      <td>1</td>\n",
              "      <td>1702</td>\n",
              "    </tr>\n",
              "    <tr>\n",
              "      <th>8</th>\n",
              "      <td>4</td>\n",
              "      <td>0</td>\n",
              "      <td>13</td>\n",
              "    </tr>\n",
              "    <tr>\n",
              "      <th>9</th>\n",
              "      <td>4</td>\n",
              "      <td>1</td>\n",
              "      <td>898</td>\n",
              "    </tr>\n",
              "    <tr>\n",
              "      <th>10</th>\n",
              "      <td>5</td>\n",
              "      <td>0</td>\n",
              "      <td>103</td>\n",
              "    </tr>\n",
              "    <tr>\n",
              "      <th>11</th>\n",
              "      <td>5</td>\n",
              "      <td>1</td>\n",
              "      <td>1394</td>\n",
              "    </tr>\n",
              "    <tr>\n",
              "      <th>12</th>\n",
              "      <td>6</td>\n",
              "      <td>0</td>\n",
              "      <td>30</td>\n",
              "    </tr>\n",
              "    <tr>\n",
              "      <th>13</th>\n",
              "      <td>6</td>\n",
              "      <td>1</td>\n",
              "      <td>720</td>\n",
              "    </tr>\n",
              "    <tr>\n",
              "      <th>14</th>\n",
              "      <td>7</td>\n",
              "      <td>0</td>\n",
              "      <td>76</td>\n",
              "    </tr>\n",
              "    <tr>\n",
              "      <th>15</th>\n",
              "      <td>7</td>\n",
              "      <td>1</td>\n",
              "      <td>1876</td>\n",
              "    </tr>\n",
              "  </tbody>\n",
              "</table>\n",
              "</div>\n",
              "      <button class=\"colab-df-convert\" onclick=\"convertToInteractive('df-d2b0fa26-b809-41cb-bb18-0874da7d2f2f')\"\n",
              "              title=\"Convert this dataframe to an interactive table.\"\n",
              "              style=\"display:none;\">\n",
              "        \n",
              "  <svg xmlns=\"http://www.w3.org/2000/svg\" height=\"24px\"viewBox=\"0 0 24 24\"\n",
              "       width=\"24px\">\n",
              "    <path d=\"M0 0h24v24H0V0z\" fill=\"none\"/>\n",
              "    <path d=\"M18.56 5.44l.94 2.06.94-2.06 2.06-.94-2.06-.94-.94-2.06-.94 2.06-2.06.94zm-11 1L8.5 8.5l.94-2.06 2.06-.94-2.06-.94L8.5 2.5l-.94 2.06-2.06.94zm10 10l.94 2.06.94-2.06 2.06-.94-2.06-.94-.94-2.06-.94 2.06-2.06.94z\"/><path d=\"M17.41 7.96l-1.37-1.37c-.4-.4-.92-.59-1.43-.59-.52 0-1.04.2-1.43.59L10.3 9.45l-7.72 7.72c-.78.78-.78 2.05 0 2.83L4 21.41c.39.39.9.59 1.41.59.51 0 1.02-.2 1.41-.59l7.78-7.78 2.81-2.81c.8-.78.8-2.07 0-2.86zM5.41 20L4 18.59l7.72-7.72 1.47 1.35L5.41 20z\"/>\n",
              "  </svg>\n",
              "      </button>\n",
              "      \n",
              "  <style>\n",
              "    .colab-df-container {\n",
              "      display:flex;\n",
              "      flex-wrap:wrap;\n",
              "      gap: 12px;\n",
              "    }\n",
              "\n",
              "    .colab-df-convert {\n",
              "      background-color: #E8F0FE;\n",
              "      border: none;\n",
              "      border-radius: 50%;\n",
              "      cursor: pointer;\n",
              "      display: none;\n",
              "      fill: #1967D2;\n",
              "      height: 32px;\n",
              "      padding: 0 0 0 0;\n",
              "      width: 32px;\n",
              "    }\n",
              "\n",
              "    .colab-df-convert:hover {\n",
              "      background-color: #E2EBFA;\n",
              "      box-shadow: 0px 1px 2px rgba(60, 64, 67, 0.3), 0px 1px 3px 1px rgba(60, 64, 67, 0.15);\n",
              "      fill: #174EA6;\n",
              "    }\n",
              "\n",
              "    [theme=dark] .colab-df-convert {\n",
              "      background-color: #3B4455;\n",
              "      fill: #D2E3FC;\n",
              "    }\n",
              "\n",
              "    [theme=dark] .colab-df-convert:hover {\n",
              "      background-color: #434B5C;\n",
              "      box-shadow: 0px 1px 3px 1px rgba(0, 0, 0, 0.15);\n",
              "      filter: drop-shadow(0px 1px 2px rgba(0, 0, 0, 0.3));\n",
              "      fill: #FFFFFF;\n",
              "    }\n",
              "  </style>\n",
              "\n",
              "      <script>\n",
              "        const buttonEl =\n",
              "          document.querySelector('#df-d2b0fa26-b809-41cb-bb18-0874da7d2f2f button.colab-df-convert');\n",
              "        buttonEl.style.display =\n",
              "          google.colab.kernel.accessAllowed ? 'block' : 'none';\n",
              "\n",
              "        async function convertToInteractive(key) {\n",
              "          const element = document.querySelector('#df-d2b0fa26-b809-41cb-bb18-0874da7d2f2f');\n",
              "          const dataTable =\n",
              "            await google.colab.kernel.invokeFunction('convertToInteractive',\n",
              "                                                     [key], {});\n",
              "          if (!dataTable) return;\n",
              "\n",
              "          const docLinkHtml = 'Like what you see? Visit the ' +\n",
              "            '<a target=\"_blank\" href=https://colab.research.google.com/notebooks/data_table.ipynb>data table notebook</a>'\n",
              "            + ' to learn more about interactive tables.';\n",
              "          element.innerHTML = '';\n",
              "          dataTable['output_type'] = 'display_data';\n",
              "          await google.colab.output.renderOutput(dataTable, element);\n",
              "          const docLink = document.createElement('div');\n",
              "          docLink.innerHTML = docLinkHtml;\n",
              "          element.appendChild(docLink);\n",
              "        }\n",
              "      </script>\n",
              "    </div>\n",
              "  </div>\n",
              "  "
            ]
          },
          "metadata": {},
          "execution_count": 89
        }
      ],
      "source": [
        "grouped_data2"
      ]
    },
    {
      "cell_type": "code",
      "execution_count": null,
      "metadata": {
        "colab": {
          "base_uri": "https://localhost:8080/"
        },
        "id": "WfDZQqXNFRpD",
        "outputId": "2c393710-9f45-437c-a1a6-c3731234d937"
      },
      "outputs": [
        {
          "output_type": "stream",
          "name": "stdout",
          "text": [
            "    Multiple Comparison of Means - Tukey HSD, FWER=0.05    \n",
            "===========================================================\n",
            "group1 group2 meandiff p-adj     lower      upper    reject\n",
            "-----------------------------------------------------------\n",
            "     0      1  -5273.5 0.8009 -19730.4098  9183.4098  False\n",
            "     0      2  -2317.0    0.9 -16773.9098 12139.9098  False\n",
            "     0      3  -5659.5 0.7497 -20116.4098  8797.4098  False\n",
            "     0      4  -6076.0 0.6943 -20532.9098  8380.9098  False\n",
            "     0      5  -5783.0 0.7333 -20239.9098  8673.9098  False\n",
            "     0      6  -6156.5 0.6837 -20613.4098  8300.4098  False\n",
            "     0      7  -5555.5 0.7635 -20012.4098  8901.4098  False\n",
            "     1      2   2956.5    0.9 -11500.4098 17413.4098  False\n",
            "     1      3   -386.0    0.9 -14842.9098 14070.9098  False\n",
            "     1      4   -802.5    0.9 -15259.4098 13654.4098  False\n",
            "     1      5   -509.5    0.9 -14966.4098 13947.4098  False\n",
            "     1      6   -883.0    0.9 -15339.9098 13573.9098  False\n",
            "     1      7   -282.0    0.9 -14738.9098 14174.9098  False\n",
            "     2      3  -3342.5    0.9 -17799.4098 11114.4098  False\n",
            "     2      4  -3759.0    0.9 -18215.9098 10697.9098  False\n",
            "     2      5  -3466.0    0.9 -17922.9098 10990.9098  False\n",
            "     2      6  -3839.5    0.9 -18296.4098 10617.4098  False\n",
            "     2      7  -3238.5    0.9 -17695.4098 11218.4098  False\n",
            "     3      4   -416.5    0.9 -14873.4098 14040.4098  False\n",
            "     3      5   -123.5    0.9 -14580.4098 14333.4098  False\n",
            "     3      6   -497.0    0.9 -14953.9098 13959.9098  False\n",
            "     3      7    104.0    0.9 -14352.9098 14560.9098  False\n",
            "     4      5    293.0    0.9 -14163.9098 14749.9098  False\n",
            "     4      6    -80.5    0.9 -14537.4098 14376.4098  False\n",
            "     4      7    520.5    0.9 -13936.4098 14977.4098  False\n",
            "     5      6   -373.5    0.9 -14830.4098 14083.4098  False\n",
            "     5      7    227.5    0.9 -14229.4098 14684.4098  False\n",
            "     6      7    601.0    0.9 -13855.9098 15057.9098  False\n",
            "-----------------------------------------------------------\n"
          ]
        }
      ],
      "source": [
        "# Perform a Tukey's HSD test to compare individual groups\n",
        "mc = MultiComparison(grouped_data2['Uncoop_at_arrest_count'], grouped_data2['Perceived_Race'])\n",
        "tukey_results = mc.tukeyhsd(alpha=0.05)\n",
        "print(tukey_results)"
      ]
    },
    {
      "cell_type": "code",
      "execution_count": null,
      "metadata": {
        "colab": {
          "base_uri": "https://localhost:8080/"
        },
        "id": "stWx0flbFSv3",
        "outputId": "64434824-a120-466a-c041-580dbd688288"
      },
      "outputs": [
        {
          "output_type": "stream",
          "name": "stdout",
          "text": [
            "  Multiple Comparison of Means - Tukey HSD, FWER=0.05  \n",
            "=======================================================\n",
            "group1 group2 meandiff p-adj   lower     upper   reject\n",
            "-------------------------------------------------------\n",
            "     0      1   3490.5 0.0366 251.1824 6729.8176   True\n",
            "-------------------------------------------------------\n"
          ]
        }
      ],
      "source": [
        "mc = MultiComparison(grouped_data2['Uncoop_at_arrest_count'], grouped_data2['Youth_at_arrest__under_18_years'])\n",
        "tukey_results = mc.tukeyhsd(alpha=0.05)\n",
        "print(tukey_results)"
      ]
    },
    {
      "cell_type": "code",
      "execution_count": null,
      "metadata": {
        "colab": {
          "base_uri": "https://localhost:8080/",
          "height": 550
        },
        "id": "ugvAL28kFzVI",
        "outputId": "7fad524f-af97-4e34-dfde-5ceff7087c76"
      },
      "outputs": [
        {
          "output_type": "execute_result",
          "data": {
            "text/plain": [
              "    Perceived_Race  Sex  Uncoop_at_arrest_count\n",
              "0                0    0                   10114\n",
              "1                0    1                    2949\n",
              "2                1    0                    2017\n",
              "3                1    1                     499\n",
              "4                2    0                    6947\n",
              "5                2    1                    1482\n",
              "6                3    0                    1496\n",
              "7                3    1                     248\n",
              "8                4    0                     599\n",
              "9                4    1                     312\n",
              "10               5    0                    1319\n",
              "11               5    1                     178\n",
              "12               6    0                     633\n",
              "13               6    1                     117\n",
              "14               7    0                    1601\n",
              "15               7    1                     351"
            ],
            "text/html": [
              "\n",
              "  <div id=\"df-4e2109e5-b377-4c93-a6d7-6e57ad1e61cd\">\n",
              "    <div class=\"colab-df-container\">\n",
              "      <div>\n",
              "<style scoped>\n",
              "    .dataframe tbody tr th:only-of-type {\n",
              "        vertical-align: middle;\n",
              "    }\n",
              "\n",
              "    .dataframe tbody tr th {\n",
              "        vertical-align: top;\n",
              "    }\n",
              "\n",
              "    .dataframe thead th {\n",
              "        text-align: right;\n",
              "    }\n",
              "</style>\n",
              "<table border=\"1\" class=\"dataframe\">\n",
              "  <thead>\n",
              "    <tr style=\"text-align: right;\">\n",
              "      <th></th>\n",
              "      <th>Perceived_Race</th>\n",
              "      <th>Sex</th>\n",
              "      <th>Uncoop_at_arrest_count</th>\n",
              "    </tr>\n",
              "  </thead>\n",
              "  <tbody>\n",
              "    <tr>\n",
              "      <th>0</th>\n",
              "      <td>0</td>\n",
              "      <td>0</td>\n",
              "      <td>10114</td>\n",
              "    </tr>\n",
              "    <tr>\n",
              "      <th>1</th>\n",
              "      <td>0</td>\n",
              "      <td>1</td>\n",
              "      <td>2949</td>\n",
              "    </tr>\n",
              "    <tr>\n",
              "      <th>2</th>\n",
              "      <td>1</td>\n",
              "      <td>0</td>\n",
              "      <td>2017</td>\n",
              "    </tr>\n",
              "    <tr>\n",
              "      <th>3</th>\n",
              "      <td>1</td>\n",
              "      <td>1</td>\n",
              "      <td>499</td>\n",
              "    </tr>\n",
              "    <tr>\n",
              "      <th>4</th>\n",
              "      <td>2</td>\n",
              "      <td>0</td>\n",
              "      <td>6947</td>\n",
              "    </tr>\n",
              "    <tr>\n",
              "      <th>5</th>\n",
              "      <td>2</td>\n",
              "      <td>1</td>\n",
              "      <td>1482</td>\n",
              "    </tr>\n",
              "    <tr>\n",
              "      <th>6</th>\n",
              "      <td>3</td>\n",
              "      <td>0</td>\n",
              "      <td>1496</td>\n",
              "    </tr>\n",
              "    <tr>\n",
              "      <th>7</th>\n",
              "      <td>3</td>\n",
              "      <td>1</td>\n",
              "      <td>248</td>\n",
              "    </tr>\n",
              "    <tr>\n",
              "      <th>8</th>\n",
              "      <td>4</td>\n",
              "      <td>0</td>\n",
              "      <td>599</td>\n",
              "    </tr>\n",
              "    <tr>\n",
              "      <th>9</th>\n",
              "      <td>4</td>\n",
              "      <td>1</td>\n",
              "      <td>312</td>\n",
              "    </tr>\n",
              "    <tr>\n",
              "      <th>10</th>\n",
              "      <td>5</td>\n",
              "      <td>0</td>\n",
              "      <td>1319</td>\n",
              "    </tr>\n",
              "    <tr>\n",
              "      <th>11</th>\n",
              "      <td>5</td>\n",
              "      <td>1</td>\n",
              "      <td>178</td>\n",
              "    </tr>\n",
              "    <tr>\n",
              "      <th>12</th>\n",
              "      <td>6</td>\n",
              "      <td>0</td>\n",
              "      <td>633</td>\n",
              "    </tr>\n",
              "    <tr>\n",
              "      <th>13</th>\n",
              "      <td>6</td>\n",
              "      <td>1</td>\n",
              "      <td>117</td>\n",
              "    </tr>\n",
              "    <tr>\n",
              "      <th>14</th>\n",
              "      <td>7</td>\n",
              "      <td>0</td>\n",
              "      <td>1601</td>\n",
              "    </tr>\n",
              "    <tr>\n",
              "      <th>15</th>\n",
              "      <td>7</td>\n",
              "      <td>1</td>\n",
              "      <td>351</td>\n",
              "    </tr>\n",
              "  </tbody>\n",
              "</table>\n",
              "</div>\n",
              "      <button class=\"colab-df-convert\" onclick=\"convertToInteractive('df-4e2109e5-b377-4c93-a6d7-6e57ad1e61cd')\"\n",
              "              title=\"Convert this dataframe to an interactive table.\"\n",
              "              style=\"display:none;\">\n",
              "        \n",
              "  <svg xmlns=\"http://www.w3.org/2000/svg\" height=\"24px\"viewBox=\"0 0 24 24\"\n",
              "       width=\"24px\">\n",
              "    <path d=\"M0 0h24v24H0V0z\" fill=\"none\"/>\n",
              "    <path d=\"M18.56 5.44l.94 2.06.94-2.06 2.06-.94-2.06-.94-.94-2.06-.94 2.06-2.06.94zm-11 1L8.5 8.5l.94-2.06 2.06-.94-2.06-.94L8.5 2.5l-.94 2.06-2.06.94zm10 10l.94 2.06.94-2.06 2.06-.94-2.06-.94-.94-2.06-.94 2.06-2.06.94z\"/><path d=\"M17.41 7.96l-1.37-1.37c-.4-.4-.92-.59-1.43-.59-.52 0-1.04.2-1.43.59L10.3 9.45l-7.72 7.72c-.78.78-.78 2.05 0 2.83L4 21.41c.39.39.9.59 1.41.59.51 0 1.02-.2 1.41-.59l7.78-7.78 2.81-2.81c.8-.78.8-2.07 0-2.86zM5.41 20L4 18.59l7.72-7.72 1.47 1.35L5.41 20z\"/>\n",
              "  </svg>\n",
              "      </button>\n",
              "      \n",
              "  <style>\n",
              "    .colab-df-container {\n",
              "      display:flex;\n",
              "      flex-wrap:wrap;\n",
              "      gap: 12px;\n",
              "    }\n",
              "\n",
              "    .colab-df-convert {\n",
              "      background-color: #E8F0FE;\n",
              "      border: none;\n",
              "      border-radius: 50%;\n",
              "      cursor: pointer;\n",
              "      display: none;\n",
              "      fill: #1967D2;\n",
              "      height: 32px;\n",
              "      padding: 0 0 0 0;\n",
              "      width: 32px;\n",
              "    }\n",
              "\n",
              "    .colab-df-convert:hover {\n",
              "      background-color: #E2EBFA;\n",
              "      box-shadow: 0px 1px 2px rgba(60, 64, 67, 0.3), 0px 1px 3px 1px rgba(60, 64, 67, 0.15);\n",
              "      fill: #174EA6;\n",
              "    }\n",
              "\n",
              "    [theme=dark] .colab-df-convert {\n",
              "      background-color: #3B4455;\n",
              "      fill: #D2E3FC;\n",
              "    }\n",
              "\n",
              "    [theme=dark] .colab-df-convert:hover {\n",
              "      background-color: #434B5C;\n",
              "      box-shadow: 0px 1px 3px 1px rgba(0, 0, 0, 0.15);\n",
              "      filter: drop-shadow(0px 1px 2px rgba(0, 0, 0, 0.3));\n",
              "      fill: #FFFFFF;\n",
              "    }\n",
              "  </style>\n",
              "\n",
              "      <script>\n",
              "        const buttonEl =\n",
              "          document.querySelector('#df-4e2109e5-b377-4c93-a6d7-6e57ad1e61cd button.colab-df-convert');\n",
              "        buttonEl.style.display =\n",
              "          google.colab.kernel.accessAllowed ? 'block' : 'none';\n",
              "\n",
              "        async function convertToInteractive(key) {\n",
              "          const element = document.querySelector('#df-4e2109e5-b377-4c93-a6d7-6e57ad1e61cd');\n",
              "          const dataTable =\n",
              "            await google.colab.kernel.invokeFunction('convertToInteractive',\n",
              "                                                     [key], {});\n",
              "          if (!dataTable) return;\n",
              "\n",
              "          const docLinkHtml = 'Like what you see? Visit the ' +\n",
              "            '<a target=\"_blank\" href=https://colab.research.google.com/notebooks/data_table.ipynb>data table notebook</a>'\n",
              "            + ' to learn more about interactive tables.';\n",
              "          element.innerHTML = '';\n",
              "          dataTable['output_type'] = 'display_data';\n",
              "          await google.colab.output.renderOutput(dataTable, element);\n",
              "          const docLink = document.createElement('div');\n",
              "          docLink.innerHTML = docLinkHtml;\n",
              "          element.appendChild(docLink);\n",
              "        }\n",
              "      </script>\n",
              "    </div>\n",
              "  </div>\n",
              "  "
            ]
          },
          "metadata": {},
          "execution_count": 92
        }
      ],
      "source": [
        "grouped_data3"
      ]
    },
    {
      "cell_type": "code",
      "execution_count": null,
      "metadata": {
        "colab": {
          "base_uri": "https://localhost:8080/"
        },
        "id": "zqfTqDhiFTLD",
        "outputId": "e43c9d62-9d52-4d73-adae-8b169126586d"
      },
      "outputs": [
        {
          "output_type": "stream",
          "name": "stdout",
          "text": [
            "    Multiple Comparison of Means - Tukey HSD, FWER=0.05    \n",
            "===========================================================\n",
            "group1 group2 meandiff p-adj     lower      upper    reject\n",
            "-----------------------------------------------------------\n",
            "     0      1  -5273.5 0.4168 -14569.6346  4022.6346  False\n",
            "     0      2  -2317.0    0.9 -11613.1346  6979.1346  False\n",
            "     0      3  -5659.5 0.3463 -14955.6346  3636.6346  False\n",
            "     0      4  -6076.0 0.2816 -15372.1346  3220.1346  False\n",
            "     0      5  -5783.0 0.3257 -15079.1346  3513.1346  False\n",
            "     0      6  -6156.5 0.2703 -15452.6346  3139.6346  False\n",
            "     0      7  -5555.5 0.3645 -14851.6346  3740.6346  False\n",
            "     1      2   2956.5 0.8907  -6339.6346 12252.6346  False\n",
            "     1      3   -386.0    0.9  -9682.1346  8910.1346  False\n",
            "     1      4   -802.5    0.9 -10098.6346  8493.6346  False\n",
            "     1      5   -509.5    0.9  -9805.6346  8786.6346  False\n",
            "     1      6   -883.0    0.9 -10179.1346  8413.1346  False\n",
            "     1      7   -282.0    0.9  -9578.1346  9014.1346  False\n",
            "     2      3  -3342.5  0.811 -12638.6346  5953.6346  False\n",
            "     2      4  -3759.0 0.7249 -13055.1346  5537.1346  False\n",
            "     2      5  -3466.0 0.7854 -12762.1346  5830.1346  False\n",
            "     2      6  -3839.5 0.7083 -13135.6346  5456.6346  False\n",
            "     2      7  -3238.5 0.8324 -12534.6346  6057.6346  False\n",
            "     3      4   -416.5    0.9  -9712.6346  8879.6346  False\n",
            "     3      5   -123.5    0.9  -9419.6346  9172.6346  False\n",
            "     3      6   -497.0    0.9  -9793.1346  8799.1346  False\n",
            "     3      7    104.0    0.9  -9192.1346  9400.1346  False\n",
            "     4      5    293.0    0.9  -9003.1346  9589.1346  False\n",
            "     4      6    -80.5    0.9  -9376.6346  9215.6346  False\n",
            "     4      7    520.5    0.9  -8775.6346  9816.6346  False\n",
            "     5      6   -373.5    0.9  -9669.6346  8922.6346  False\n",
            "     5      7    227.5    0.9  -9068.6346  9523.6346  False\n",
            "     6      7    601.0    0.9  -8695.1346  9897.1346  False\n",
            "-----------------------------------------------------------\n"
          ]
        }
      ],
      "source": [
        "# Perform a Tukey's HSD test to compare individual groups\n",
        "mc = MultiComparison(grouped_data3['Uncoop_at_arrest_count'], grouped_data3['Perceived_Race'])\n",
        "tukey_results = mc.tukeyhsd(alpha=0.05)\n",
        "print(tukey_results)"
      ]
    },
    {
      "cell_type": "code",
      "execution_count": null,
      "metadata": {
        "colab": {
          "base_uri": "https://localhost:8080/"
        },
        "id": "l44VdFtTFTr4",
        "outputId": "93e1930a-a6c7-4344-ea72-ce86f71583da"
      },
      "outputs": [
        {
          "output_type": "stream",
          "name": "stdout",
          "text": [
            "  Multiple Comparison of Means - Tukey HSD, FWER=0.05   \n",
            "========================================================\n",
            "group1 group2 meandiff p-adj    lower     upper   reject\n",
            "--------------------------------------------------------\n",
            "     0      1 -2323.75 0.0917 -5076.7459 429.2459  False\n",
            "--------------------------------------------------------\n"
          ]
        }
      ],
      "source": [
        "# Perform a Tukey's HSD test to compare individual groups\n",
        "mc = MultiComparison(grouped_data3['Uncoop_at_arrest_count'], grouped_data3['Sex'])\n",
        "tukey_results = mc.tukeyhsd(alpha=0.05)\n",
        "print(tukey_results)"
      ]
    },
    {
      "cell_type": "code",
      "source": [
        "mc = MultiComparison(grouped_data4['StripSearch_count'], grouped_data4['SearchReason'])\n",
        "tukey_results = mc.tukeyhsd(alpha=0.05)\n",
        "print(tukey_results)"
      ],
      "metadata": {
        "id": "YkfgJn_f98ZG",
        "outputId": "cc74caf8-e165-4ff3-b5ab-f14526d154f9",
        "colab": {
          "base_uri": "https://localhost:8080/"
        }
      },
      "execution_count": null,
      "outputs": [
        {
          "output_type": "stream",
          "name": "stdout",
          "text": [
            "  Multiple Comparison of Means - Tukey HSD, FWER=0.05  \n",
            "=======================================================\n",
            "group1 group2 meandiff p-adj    lower    upper   reject\n",
            "-------------------------------------------------------\n",
            "   0.0    1.0    175.0 0.4981 -136.6129 486.6129  False\n",
            "   0.0    2.0    176.0 0.4928 -135.6129 487.6129  False\n",
            "   0.0    3.0    65.75    0.9 -245.8629 377.3629  False\n",
            "   0.0    4.0   45.875    0.9 -265.7379 357.4879  False\n",
            "   1.0    2.0      1.0    0.9 -310.6129 312.6129  False\n",
            "   1.0    3.0  -109.25 0.8324 -420.8629 202.3629  False\n",
            "   1.0    4.0 -129.125 0.7314 -440.7379 182.4879  False\n",
            "   2.0    3.0  -110.25 0.8273 -421.8629 201.3629  False\n",
            "   2.0    4.0 -130.125 0.7263 -441.7379 181.4879  False\n",
            "   3.0    4.0  -19.875    0.9 -331.4879 291.7379  False\n",
            "-------------------------------------------------------\n"
          ]
        }
      ]
    },
    {
      "cell_type": "markdown",
      "metadata": {
        "id": "WOt1ETZGI0WO"
      },
      "source": [
        "# Post-Hoc Testing: Interaction Plots"
      ]
    },
    {
      "cell_type": "code",
      "execution_count": null,
      "metadata": {
        "colab": {
          "base_uri": "https://localhost:8080/",
          "height": 394
        },
        "id": "miPBWsZII39b",
        "outputId": "ec62aee0-20a4-4228-c22a-158f839aa063"
      },
      "outputs": [
        {
          "output_type": "execute_result",
          "data": {
            "text/plain": [
              "<matplotlib.legend.Legend at 0x7fe0946a6b20>"
            ]
          },
          "metadata": {},
          "execution_count": 96
        },
        {
          "output_type": "display_data",
          "data": {
            "text/plain": [
              "<Figure size 432x288 with 1 Axes>"
            ],
            "image/png": "[encoded data removed]"
          },
          "metadata": {
            "needs_background": "light"
          }
        }
      ],
      "source": [
        "from statsmodels.graphics.factorplots import interaction_plot\n",
        "from scipy import stats\n",
        "\n",
        "interaction_plot(x=grouped_data0['Perceived_Race'], trace=grouped_data0['Sex'], response=grouped_data0['Coop_at_arrest_count'], colors = [\"deepskyblue\", \"hotpink\"])\n",
        "\n",
        "interaction_axes = plt.gca()\n",
        "interaction_axes.set_xticks(ticks = [0, 1, 2, 3, 4, 5, 6, 7])\n",
        "interaction_axes.set_xticklabels(race_dict.keys())\n",
        "plt.xticks(rotation = 90)\n",
        "\n",
        "plt.legend(labels = sex_dict.keys(), bbox_to_anchor = (1, 1))"
      ]
    },
    {
      "cell_type": "code",
      "execution_count": null,
      "metadata": {
        "colab": {
          "base_uri": "https://localhost:8080/",
          "height": 394
        },
        "id": "phH4cENEVpgQ",
        "outputId": "d6e89228-f2a5-402c-e003-c923e493c5a7"
      },
      "outputs": [
        {
          "output_type": "execute_result",
          "data": {
            "text/plain": [
              "<matplotlib.legend.Legend at 0x7fe0946f6cd0>"
            ]
          },
          "metadata": {},
          "execution_count": 97
        },
        {
          "output_type": "display_data",
          "data": {
            "text/plain": [
              "<Figure size 432x288 with 1 Axes>"
            ],
            "image/png": "[encoded data removed]"
          },
          "metadata": {
            "needs_background": "light"
          }
        }
      ],
      "source": [
        "interaction_plot(x=grouped_data1['Perceived_Race'], trace=grouped_data1['Sex'], response=grouped_data1['StripSearch_count'], colors = [\"deepskyblue\", \"hotpink\"])\n",
        "\n",
        "interaction_axes = plt.gca()\n",
        "interaction_axes.set_xticks(ticks = [0, 1, 2, 3, 4, 5, 6, 7])\n",
        "interaction_axes.set_xticklabels(race_dict.keys())\n",
        "plt.xticks(rotation = 90)\n",
        "\n",
        "plt.legend(labels = sex_dict.keys(), bbox_to_anchor = (1, 1))"
      ]
    },
    {
      "cell_type": "code",
      "source": [
        "interaction_plot(x=grouped_data3['Perceived_Race'], trace=grouped_data3['Sex'], response=grouped_data3['Uncoop_at_arrest_count'], colors = [\"deepskyblue\", \"hotpink\"])\n",
        "\n",
        "interaction_axes = plt.gca()\n",
        "interaction_axes.set_xticks(ticks = [0, 1, 2, 3, 4, 5, 6, 7])\n",
        "interaction_axes.set_xticklabels(race_dict.keys())\n",
        "plt.xticks(rotation = 90)\n",
        "\n",
        "plt.legend(labels = sex_dict.keys(), bbox_to_anchor = (1, 1))"
      ],
      "metadata": {
        "id": "pnR7_p8lFyij",
        "outputId": "6ed92a71-7066-48ec-dcae-ac57d64937f9",
        "colab": {
          "base_uri": "https://localhost:8080/",
          "height": 394
        }
      },
      "execution_count": null,
      "outputs": [
        {
          "output_type": "execute_result",
          "data": {
            "text/plain": [
              "<matplotlib.legend.Legend at 0x7fe054e22520>"
            ]
          },
          "metadata": {},
          "execution_count": 98
        },
        {
          "output_type": "display_data",
          "data": {
            "text/plain": [
              "<Figure size 432x288 with 1 Axes>"
            ],
            "image/png": "[encoded data removed]"
          },
          "metadata": {
            "needs_background": "light"
          }
        }
      ]
    },
    {
      "cell_type": "code",
      "execution_count": null,
      "metadata": {
        "colab": {
          "base_uri": "https://localhost:8080/",
          "height": 330
        },
        "id": "OtdLkC38VWvX",
        "outputId": "4772b9d0-73a1-45c7-cced-24a088d082ae"
      },
      "outputs": [
        {
          "output_type": "execute_result",
          "data": {
            "text/plain": [
              "<matplotlib.legend.Legend at 0x7fe054ce8070>"
            ]
          },
          "metadata": {},
          "execution_count": 99
        },
        {
          "output_type": "display_data",
          "data": {
            "text/plain": [
              "<Figure size 432x288 with 1 Axes>"
            ],
            "image/png": "[encoded data removed]"
          },
          "metadata": {
            "needs_background": "light"
          }
        }
      ],
      "source": [
        "interaction_plot(x=grouped_data4['Time_series'], trace=grouped_data4['SearchReason'], response=grouped_data4['StripSearch_count'])\n",
        "\n",
        "interaction_axes = plt.gca()\n",
        "interaction_axes.set_xticks(ticks = [0, 1, 2, 3, 4, 5, 6, 7, 8])\n",
        "interaction_axes.set_xticklabels([\"\", \"Q1 2020\", \"Q2 2020\", \"Q3 2020\", \"Q4 2020\", \"Q1 2021\", \"Q2 2021\", \"Q3 2021\", \"Q4 2021\"])\n",
        "plt.xticks(rotation = 60)\n",
        "\n",
        "plt.legend(labels = [\"0 Documented Search Reasons\", \"1 Search Reason\", \"2 Search Reasons\", \"3 Search Reasons\", \"4 Search Reasons\"])"
      ]
    }
  ],
  "metadata": {
    "colab": {
      "provenance": [],
      "include_colab_link": true
    },
    "kernelspec": {
      "display_name": "Python 3 (ipykernel)",
      "language": "python",
      "name": "python3"
    },
    "language_info": {
      "codemirror_mode": {
        "name": "ipython",
        "version": 3
      },
      "file_extension": ".py",
      "mimetype": "text/x-python",
      "name": "python",
      "nbconvert_exporter": "python",
      "pygments_lexer": "ipython3",
      "version": "3.10.8"
    }
  },
  "nbformat": 4,
  "nbformat_minor": 0
}