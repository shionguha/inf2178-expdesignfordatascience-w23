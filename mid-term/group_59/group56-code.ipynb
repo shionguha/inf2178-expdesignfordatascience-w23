{
 "cells": [
  {
   "cell_type": "markdown",
   "metadata": {
    "colab_type": "text",
    "id": "view-in-github"
   },
   "source": [
    "<a href=\"https://colab.research.google.com/github/shionguha/inf2178-expdesignfordatascience-w23/blob/main/notebooks/t_tests.ipynb\" target=\"_parent\"><img src=\"https://colab.research.google.com/assets/colab-badge.svg\" alt=\"Open In Colab\"/></a>"
   ]
  },
  {
   "cell_type": "markdown",
   "metadata": {},
   "source": [
    "***Class***\n",
    "INF2178 \n",
    "\n",
    "***Authors***\n",
    "Yu Wan, Kristina Foster\n",
    "\n",
    "***Date***\n",
    "February 28, 2023"
   ]
  },
  {
   "cell_type": "markdown",
   "metadata": {},
   "source": [
    "# Imports and Preprocessing"
   ]
  },
  {
   "cell_type": "code",
   "execution_count": null,
   "metadata": {
    "colab": {
     "base_uri": "https://localhost:8080/"
    },
    "id": "NOHSRmy0UORF",
    "outputId": "1a82fde9-73c4-45ed-c4b4-aa4170ad1e8b"
   },
   "outputs": [],
   "source": [
    "# import libraries\n",
    "import numpy as np\n",
    "import pandas as pd\n",
    "import statsmodels.api as sm\n",
    "import matplotlib.pyplot as plt\n",
    "import seaborn as sns\n",
    "import plotly.express as px\n",
    "from statsmodels.stats.proportion import proportions_ztest\n",
    "from scipy.stats import chi2_contingency\n",
    "from scipy import stats \n",
    "from scipy.stats import ttest_ind\n",
    "from statsmodels.formula.api import ols\n",
    "from statsmodels.stats.anova import anova_lm\n",
    "from statsmodels.graphics.factorplots import interaction_plot\n",
    "import matplotlib.pyplot as plt\n",
    "from scipy import stats\n",
    "\n",
    "#Clean data\n",
    "def cleandata(filename):\n",
    "    \"\"\"\n",
    "    Takes in csv file name in the format 'file_name.csv'\n",
    "    Collapses Action at Arrest variables into a list of actions associated with each arrest\n",
    "    Returns cleaned dataframe \n",
    "    \"\"\"\n",
    "    event_data = pd.read_csv(filename)\n",
    "    \n",
    "    #Remove U type genders because the population size is only 9 and not a good representation of the whole.\n",
    "\n",
    "    # Checking for duplicate rows\n",
    "    duplicate_rows_df = event_data[event_data.duplicated()]\n",
    "    print('Number of duplicate rows: ', duplicate_rows_df.shape)\n",
    "    \n",
    "    return event_data"
   ]
  },
  {
   "cell_type": "markdown",
   "metadata": {},
   "source": [
    "# Experimental Design Analysis"
   ]
  },
  {
   "cell_type": "markdown",
   "metadata": {},
   "source": [
    "### Attributes and levels for arrest_data\n",
    "\n",
    "#### Observational units\n",
    "\n",
    "* Arrest \n",
    "\n",
    "#### Occurrence_Category\n",
    "Represents the categories of the type of occurrence related to the arrest\n",
    "\n",
    "dataset = Object\n",
    "* 'Assault & Other crimes against persons'\n",
    "* 'Harassment/Threatening',\n",
    "* 'FTA/FTC/Compliance Check/Parollee', \n",
    "* 'Assault', \n",
    "* 'Robbery/Theft',\n",
    "* 'Sexual Related Crime', \n",
    "* 'Mischief & Fraud', \n",
    "* 'Warrant',\n",
    "* 'Police Category - Administrative', \n",
    "* 'Robbery & Theft',\n",
    "* 'FTA/FTC, Compliance Check & Parollee', \n",
    "* 'Drug Related', \n",
    "* 'Weapons',\n",
    "* 'Vehicle Related (inc. Impaired)', \n",
    "* 'Other Offence',\n",
    "* 'Harassment & Threatening', \n",
    "* 'Weapons & Homicide',\n",
    "* 'Break and Enter', \n",
    "* 'Mischief', \n",
    "* 'Break & Enter',\n",
    "* 'Sexual Related Crimes & Crimes Against Children',\n",
    "* 'Crimes against Children', \n",
    "* 'Police Category - Incident', \n",
    "* 'Fraud',\n",
    "* 'LLA', \n",
    "* 'Mental Health', \n",
    "* 'Other Statute', \n",
    "* *'Vehicle Related',\n",
    "* 'Other Statute & Other Incident Type', \n",
    "* 'Impaired', \n",
    "* 'Homicide', \n",
    "* NaN\n",
    "\n",
    "#### Sex\n",
    "Represents the sex assigned at birth for the arrestee.\n",
    "\n",
    "dataType = Object\n",
    "* F — Female\n",
    "* M — Male\n",
    "\n",
    "#### Race\n",
    "Represents the race that the officers perceived when looking at the arrestee.\n",
    "\n",
    "dataType = Object\n",
    "* 'White'\n",
    "* 'Unknown or Legacy'\n",
    "* 'Black'\n",
    "* 'South Asian'\n",
    "* 'Indigenous',\n",
    "* 'Middle-Eastern'\n",
    "* 'Latino', \n",
    "* 'East/Southeast Asian'\n",
    "* NaN\n",
    "\n",
    "#### StripSearch\n",
    "Represents if the individual has been strip searched or not.\n",
    "\n",
    "dataType = Integer\n",
    "* 0 — Has not been strip-searched\n",
    "* 1 — Was strip-searched"
   ]
  },
  {
   "cell_type": "markdown",
   "metadata": {},
   "source": [
    "### Exploring frequency across discrete variables"
   ]
  },
  {
   "cell_type": "code",
   "execution_count": null,
   "metadata": {},
   "outputs": [],
   "source": [
    "#Generate raw dataset\n",
    "arrest_data = pd.read_csv('inf2178_midterm_data.csv')\n",
    "\n",
    "#for event in event_arrests_data:\n",
    "arrest_data = cleandata('inf2178_midterm_data.csv')\n",
    "print(\"Number of unique arrests: \" + str(arrest_data.shape[0]))"
   ]
  },
  {
   "cell_type": "markdown",
   "metadata": {},
   "source": [
    "#### Sex <> Occurrence Category"
   ]
  },
  {
   "cell_type": "code",
   "execution_count": null,
   "metadata": {},
   "outputs": [],
   "source": [
    "gender_counts = arrest_data.groupby(['Occurrence_Category', 'Sex'])['Sex'].count().unstack()\n",
    "print(gender_counts)"
   ]
  },
  {
   "cell_type": "code",
   "execution_count": null,
   "metadata": {},
   "outputs": [],
   "source": [
    "arrest_data = arrest_data[arrest_data['Sex'] != 'U']"
   ]
  },
  {
   "cell_type": "markdown",
   "metadata": {},
   "source": [
    "#### Sex <> Occurrence Type for Strip Search Population Bar Chart (Figure 3)"
   ]
  },
  {
   "cell_type": "code",
   "execution_count": null,
   "metadata": {},
   "outputs": [],
   "source": [
    "#to see how many people get arrest by male and female in each type Occurrence\n",
    "gender_counts = arrest_data.groupby(['Occurrence_Category', 'Sex'])['Sex'].count().unstack()\n",
    "\n",
    "gender = gender_counts.reset_index()\n",
    "width=0.4\n",
    "male_amount = gender_counts['M']\n",
    "female_amount = gender_counts['F']\n",
    "\n",
    "category= gender['Occurrence_Category']\n",
    "values=np.arange(len(category))\n",
    "\n",
    "plt.bar(values,male_amount, color='#4682B4', label='Male',width = 0.4)\n",
    "plt.bar(values+width,female_amount, color='#DC143C', label='Female', width =0.4)\n",
    "\n",
    "plt.xticks(values,category,rotation = 90)\n",
    "\n",
    "plt.xlabel('Occurrence_Category')\n",
    "plt.ylabel('Number of Arrest')\n",
    "plt.title('Arrested by Gender and Occurrence_Category')\n",
    "plt.legend(title='Gender')\n",
    "plt.grid(False)\n",
    "plt.show()"
   ]
  },
  {
   "cell_type": "markdown",
   "metadata": {},
   "source": [
    "#### Occurrence Type <> Strip Searched Bar chart (Figure 4) "
   ]
  },
  {
   "cell_type": "code",
   "execution_count": null,
   "metadata": {},
   "outputs": [],
   "source": [
    "# count in each category, how many male and female received strip search\n",
    "strip_data = arrest_data[arrest_data['StripSearch'] == 1]\n",
    "strip_counts = strip_data.groupby(['Occurrence_Category', 'Sex'])['Sex'].count().unstack()\n",
    "strip_counts = strip_counts.fillna(0)\n",
    "\n",
    "# merge the result with Occurrence_Category to create a new \n",
    "result4 = strip_counts.merge(gender['Occurrence_Category'], on='Occurrence_Category')\n",
    "male_strip = strip_counts['M']\n",
    "female_strip = strip_counts['F']\n",
    "category1= result4['Occurrence_Category']\n",
    "width=0.4\n",
    "values=np.arange(len(category1))\n",
    "\n",
    "plt.bar(values,male_strip, color='#4682B4', label='Male',width = 0.4)\n",
    "plt.bar(values+width,female_strip, color='#DC143C', label='Female', width =0.4)\n",
    "\n",
    "plt.xticks(values,category1,rotation = 90)\n",
    "\n",
    "plt.xlabel('Occurrence_Category')\n",
    "plt.ylabel('Number of Strip Search')\n",
    "plt.title('Strip Search by Gender and Occurrence_Category')\n",
    "plt.legend(title='Gender')\n",
    "plt.grid(False)\n",
    "plt.show()"
   ]
  },
  {
   "cell_type": "markdown",
   "metadata": {},
   "source": [
    "## Discrete probability distributions by variable"
   ]
  },
  {
   "cell_type": "code",
   "execution_count": null,
   "metadata": {},
   "outputs": [],
   "source": [
    "#Create discrete continuous variable for joint distribution across arrest reasons\n",
    "\n",
    "#Function to return a PMF of an array of variables\n",
    "#Source: https://allendowney.github.io/BiteSizeBayes/10_joint.html\n",
    "def pmf_from_seq(seq):\n",
    "    \"\"\"Make a PMF from a sequence of values.\n",
    "    \n",
    "    seq: sequence\n",
    "    \n",
    "    returns: Series representing a PMF\n",
    "    \"\"\"\n",
    "    pmf = pd.Series(seq).value_counts(sort=False).sort_index()\n",
    "    pmf /= pmf.sum()\n",
    "    return pmf"
   ]
  },
  {
   "cell_type": "code",
   "execution_count": null,
   "metadata": {},
   "outputs": [],
   "source": [
    "#PMF for Sex\n",
    "sex_arrest = pmf_from_seq(arrest_data[\"Sex\"])\n",
    "sex_arrest.plot.bar(color='C0', alpha=0.5)\n",
    "plt.xlabel('Sex')\n",
    "plt.ylabel('Probability')\n",
    "plt.title('Distribution for Probability of Sex');"
   ]
  },
  {
   "cell_type": "code",
   "execution_count": null,
   "metadata": {},
   "outputs": [],
   "source": [
    "#PMF for Race\n",
    "race_arrest = pmf_from_seq(arrest_data[\"Perceived_Race\"])\n",
    "race_arrest.plot.bar(color='C1', alpha=0.5)\n",
    "plt.xlabel('Race')\n",
    "plt.ylabel('Probability')\n",
    "plt.title('Distribution for Probability of Race');"
   ]
  },
  {
   "cell_type": "code",
   "execution_count": null,
   "metadata": {},
   "outputs": [],
   "source": [
    "#PMF for Occurrance Category\n",
    "occurrance_arrest = pmf_from_seq(arrest_data[\"Occurrence_Category\"])\n",
    "occurrance_arrest.plot.bar(color='C2', alpha=0.5)\n",
    "plt.xlabel('Occurrance_Category')\n",
    "plt.ylabel('Probability')\n",
    "plt.title('Frequency of the Probability for types of Occurrences');"
   ]
  },
  {
   "cell_type": "code",
   "execution_count": null,
   "metadata": {},
   "outputs": [],
   "source": [
    "#PMF for Strip Searched\n",
    "stripped_arrest = pmf_from_seq(arrest_data[\"StripSearch\"])\n",
    "stripped_arrest.plot.bar(color='C3', alpha=0.5)\n",
    "plt.xlabel('Probability of Strip Search')\n",
    "plt.ylabel('Probability')\n",
    "plt.title('Distribution of Probability for Strip Searches');"
   ]
  },
  {
   "cell_type": "markdown",
   "metadata": {},
   "source": [
    "## Joint Distribution"
   ]
  },
  {
   "cell_type": "code",
   "execution_count": null,
   "metadata": {},
   "outputs": [],
   "source": [
    "#Source: https://allendowney.github.io/BiteSizeBayes/10_joint.html\n",
    "def plot_heatmap(xtab):\n",
    "    \"\"\"Make a heatmap to represent a cross tabulation.\n",
    "    xtab: DataFrame containing a cross tabulation\n",
    "    \"\"\"\n",
    "    plt.pcolormesh(xtab)\n",
    "\n",
    "    # label the y axis\n",
    "    ys = xtab.index\n",
    "    plt.ylabel(ys.name)\n",
    "    locs = np.arange(len(ys)) + 0.5\n",
    "    plt.yticks(locs, ys)\n",
    "\n",
    "    # label the x axis\n",
    "    xs = xtab.columns\n",
    "    plt.xlabel(xs.name)\n",
    "    locs = np.arange(len(xs)) + 0.5\n",
    "    plt.xticks(locs, xs)\n",
    "    \n",
    "    plt.colorbar()\n",
    "    plt.gca().invert_yaxis()\n"
   ]
  },
  {
   "cell_type": "markdown",
   "metadata": {},
   "source": [
    "### Occurrance Type <> Strip Searches"
   ]
  },
  {
   "cell_type": "code",
   "execution_count": null,
   "metadata": {},
   "outputs": [],
   "source": [
    "#Constructing crosstab for Joint PMF\n",
    "ct_type_stripsearch = pd.crosstab(index=arrest_data[\"Occurrence_Category\"], columns=arrest_data[\"StripSearch\"], normalize=True)\n",
    "\n",
    "#Display header of Joint PMF\n",
    "ct_type_stripsearch.head()"
   ]
  },
  {
   "cell_type": "code",
   "execution_count": null,
   "metadata": {},
   "outputs": [],
   "source": [
    "plot_heatmap(ct_type_stripsearch)"
   ]
  },
  {
   "cell_type": "markdown",
   "metadata": {},
   "source": [
    "### 1.2 Sex <> Strip Searches"
   ]
  },
  {
   "cell_type": "code",
   "execution_count": null,
   "metadata": {},
   "outputs": [],
   "source": [
    "#Constructing crosstab for Joint PMF\n",
    "ct_sex_stripsearch = pd.crosstab(index=arrest_data[\"Sex\"], columns=arrest_data[\"StripSearch\"], normalize=True)\n",
    "\n",
    "#Display header of Joint PMF\n",
    "ct_sex_stripsearch.head()"
   ]
  },
  {
   "cell_type": "code",
   "execution_count": null,
   "metadata": {},
   "outputs": [],
   "source": [
    "plot_heatmap(ct_sex_stripsearch)"
   ]
  },
  {
   "cell_type": "markdown",
   "metadata": {},
   "source": [
    "### Perceived Race <> Strip Searches"
   ]
  },
  {
   "cell_type": "code",
   "execution_count": null,
   "metadata": {},
   "outputs": [],
   "source": [
    "#Constructing crosstab for Joint PMF\n",
    "ct_race_stripsearch = pd.crosstab(index=arrest_data[\"Perceived_Race\"], columns=arrest_data[\"StripSearch\"], normalize=True)\n",
    "\n",
    "#Display header of Joint PMF\n",
    "ct_race_stripsearch.head()"
   ]
  },
  {
   "cell_type": "code",
   "execution_count": null,
   "metadata": {},
   "outputs": [],
   "source": [
    "plot_heatmap(ct_race_stripsearch)"
   ]
  },
  {
   "cell_type": "markdown",
   "metadata": {},
   "source": [
    "### Joint Distribution Visualization"
   ]
  },
  {
   "cell_type": "markdown",
   "metadata": {},
   "source": [
    "#### Occurrance Type <> Strip Searches"
   ]
  },
  {
   "cell_type": "code",
   "execution_count": null,
   "metadata": {},
   "outputs": [],
   "source": [
    "#Create Occurrence Category joint marginal distributions for occurrence type and strip-searches\n",
    "stripped = arrest_data[arrest_data['StripSearch'] == 1].copy()\n",
    "not_stripped = arrest_data[arrest_data[\"StripSearch\"] != 1].copy()\n",
    "\n",
    "#determine joint marginal distribution for arrests\n",
    "joint_margin_freq_stripped = stripped['Occurrence_Category'].value_counts(normalize=True)\n",
    "joint_margin_freq_not_stripped = not_stripped['Occurrence_Category'].value_counts(normalize=True)\n",
    "\n",
    "#Add columns store joint marginal distributions of frequency Occurence Type\n",
    "stripped['Occurrence_Category_joint_margin'] = stripped['Occurrence_Category'].map(joint_margin_freq_stripped)\n",
    "not_stripped['Occurrence_Category_joint_margin2'] = not_stripped['Occurrence_Category'].map(joint_margin_freq_not_stripped)\n",
    "                                                 \n",
    "#Concatenate datasets\n",
    "arrest_data = pd.concat([stripped,not_stripped]).copy()\n",
    "\n",
    "#Merge both marginal distributions into one column\n",
    "arrest_data['Occurrence_Category_joint_margin_merged'] = arrest_data[['Occurrence_Category_joint_margin','Occurrence_Category_joint_margin2']].bfill(axis=1).iloc[:, 0]\n",
    "\n",
    "#Add a categorical scale for occurrence category\n",
    "arrest_data[\"Occurrence_Category\"] = arrest_data[\"Occurrence_Category\"].astype('category')\n",
    "arrest_data[\"Occurrence_Category_Num\"] = arrest_data[\"Occurrence_Category\"].cat.codes\n",
    "\n",
    "arrest_data.head()"
   ]
  },
  {
   "cell_type": "code",
   "execution_count": null,
   "metadata": {},
   "outputs": [],
   "source": [
    "#Compare frequency of an occurrence of being strip searched based off of the occurrence type\n",
    "sns.catplot(data=arrest_data, kind=\"box\", x=\"Occurrence_Category_joint_margin_merged\", y=\"Occurrence_Category\", hue=\"StripSearch\")\n",
    "plt.xlabel(\"Strip Searched\")\n",
    "plt.ylabel(\"Frequency of the Marginal Distribution for Occurrence Type\")\n",
    "plt.figure(figsize=(15,35))"
   ]
  },
  {
   "cell_type": "markdown",
   "metadata": {},
   "source": [
    "#### Perceived Race <> Strip Searches"
   ]
  },
  {
   "cell_type": "code",
   "execution_count": null,
   "metadata": {},
   "outputs": [],
   "source": [
    "#Create Occurrence Category joint marginal distributions for race and strip-searches\n",
    "stripped = arrest_data[arrest_data['StripSearch'] == 1].copy()\n",
    "not_stripped = arrest_data[arrest_data[\"StripSearch\"] != 1].copy()\n",
    "\n",
    "#determine joint marginal distribution for arrests\n",
    "joint_margin_freq_stripped = stripped['Perceived_Race'].value_counts(normalize=True)\n",
    "joint_margin_freq_not_stripped = not_stripped['Perceived_Race'].value_counts(normalize=True)\n",
    "\n",
    "#Add columns store joint marginal distributions of frequency race\n",
    "stripped['Race_joint_margin'] = stripped['Perceived_Race'].map(joint_margin_freq_stripped)\n",
    "not_stripped['Race_joint_margin2'] = not_stripped['Perceived_Race'].map(joint_margin_freq_not_stripped)\n",
    "                                                 \n",
    "#Concatenate datasets\n",
    "arrest_data = pd.concat([stripped,not_stripped]).copy()\n",
    "\n",
    "#Merge both marginal distributions into one column\n",
    "arrest_data['Perceived_Race_joint_margin_merged'] = arrest_data[['Race_joint_margin','Race_joint_margin2']].bfill(axis=1).iloc[:, 0]\n",
    "\n",
    "#Add a categorical scale for race\n",
    "arrest_data[\"Perceived_Race\"] = arrest_data[\"Perceived_Race\"].astype('category')\n",
    "arrest_data[\"Perceived_Race_Category\"] = arrest_data[\"Perceived_Race\"].cat.codes\n",
    "\n",
    "arrest_data.head()"
   ]
  },
  {
   "cell_type": "code",
   "execution_count": null,
   "metadata": {
    "scrolled": false
   },
   "outputs": [],
   "source": [
    "#Compare frequency of an occurrence of being strip searched based off of the person's race.\n",
    "sns.catplot(data=arrest_data, kind=\"box\", x=\"Perceived_Race_joint_margin_merged\", y=\"Perceived_Race\", hue=\"StripSearch\")\n",
    "plt.xlabel(\"Strip Searched\")\n",
    "plt.ylabel(\"Frequency of the Marginal Distribution for Perceived Race\")"
   ]
  },
  {
   "cell_type": "markdown",
   "metadata": {},
   "source": [
    "## T-Tests across variables\n",
    "\n",
    "### Is there any difference between male and female being strip-searched?"
   ]
  },
  {
   "cell_type": "code",
   "execution_count": null,
   "metadata": {},
   "outputs": [],
   "source": [
    "#probability of male and female being strip searched.\n",
    "gender_strip_probs = arrest_data.groupby('Sex')['StripSearch'].mean()\n",
    "print(gender_strip_probs)"
   ]
  },
  {
   "cell_type": "code",
   "execution_count": null,
   "metadata": {},
   "outputs": [],
   "source": [
    "male_arrest = arrest_data[arrest_data[\"Sex\"] == \"M\"]\n",
    "female_arrest = arrest_data[arrest_data[\"Sex\"] == \"F\"]\n",
    "t_stat, p_val = stats.ttest_ind(male_arrest[\"StripSearch\"], female_arrest[\"StripSearch\"])\n",
    "print('t_stat:',t_stat)\n",
    "print('p value:',p_val)"
   ]
  },
  {
   "cell_type": "code",
   "execution_count": null,
   "metadata": {},
   "outputs": [],
   "source": [
    "# There is a significant difference between male and female being strip searched since p_val <0.05"
   ]
  },
  {
   "cell_type": "markdown",
   "metadata": {},
   "source": [
    "### Is there any difference between male and female being strip-searched if they caught by the reason Break and Enter?"
   ]
  },
  {
   "cell_type": "code",
   "execution_count": null,
   "metadata": {},
   "outputs": [],
   "source": [
    "break_and_enter_data = arrest_data[arrest_data['Occurrence_Category'] == 'Break & Enter']\n",
    "gender_strip_probs_break = break_and_enter_data.groupby('Sex')['StripSearch'].mean()\n",
    "print(gender_strip_probs_break)"
   ]
  },
  {
   "cell_type": "code",
   "execution_count": null,
   "metadata": {
    "scrolled": true
   },
   "outputs": [],
   "source": [
    "male_break_and_enter = break_and_enter_data[break_and_enter_data[\"Sex\"] == \"M\"]\n",
    "male_strip_search_prop_break = male_break_and_enter['StripSearch'].mean()\n",
    "female_break_and_enter = break_and_enter_data[break_and_enter_data[\"Sex\"] == \"F\"]\n",
    "female_strip_search_prop_break = female_break_and_enter['StripSearch'].mean()\n",
    "t_stat, p_val = stats.ttest_ind(male_break_and_enter[\"StripSearch\"], female_break_and_enter[\"StripSearch\"])\n",
    "print('mean for male being strip searched under break and enter:',male_strip_search_prop_break)\n",
    "print('mean for female being strip searched under break and enter:',female_strip_search_prop_break)\n",
    "print('t-stat:',t_stat)\n",
    "print('p_val:',p_val)"
   ]
  },
  {
   "cell_type": "markdown",
   "metadata": {},
   "source": [
    "#### Results\n",
    "No difference since p-val > 0.05"
   ]
  },
  {
   "cell_type": "markdown",
   "metadata": {},
   "source": [
    "### Is there any difference between male and female being strip-searched if they caught by the reason Drug Related?"
   ]
  },
  {
   "cell_type": "code",
   "execution_count": null,
   "metadata": {},
   "outputs": [],
   "source": [
    "drug_related_data = arrest_data[arrest_data['Occurrence_Category'] == 'Drug Related']\n",
    "gender_strip_probs_drug = drug_related_data.groupby('Sex')['StripSearch'].mean()\n",
    "print(gender_strip_probs_drug)"
   ]
  },
  {
   "cell_type": "code",
   "execution_count": null,
   "metadata": {},
   "outputs": [],
   "source": [
    "male_drug_related = drug_related_data[drug_related_data['Sex'] == 'M']\n",
    "male_strip_search_prop_drug = male_drug_related['StripSearch'].mean()\n",
    "female_drug_related = drug_related_data[drug_related_data['Sex'] == 'F']\n",
    "female_strip_search_prop_drug = female_drug_related['StripSearch'].mean()\n",
    "t_stat, p_val = stats.ttest_ind(male_drug_related['StripSearch'], female_drug_related['StripSearch'])\n",
    "print('mean for male being strip searched under drug and related:',male_strip_search_prop_drug)\n",
    "print('mean for female being strip searched under drug and related:',female_strip_search_prop_drug)\n",
    "print('t_stat:',t_stat)\n",
    "print('p_val:',p_val)"
   ]
  },
  {
   "cell_type": "markdown",
   "metadata": {},
   "source": [
    "#### Results\n",
    "There is a significantly difference, since p-value < 0.05"
   ]
  },
  {
   "cell_type": "markdown",
   "metadata": {},
   "source": [
    "### Is there any difference between male and female being strip-searched if they caught by the reason of Weapons & Homicide?"
   ]
  },
  {
   "cell_type": "code",
   "execution_count": null,
   "metadata": {},
   "outputs": [],
   "source": [
    "weapons_homicide_data = arrest_data[arrest_data['Occurrence_Category'] == 'Weapons & Homicide']\n",
    "gender_strip_probs_weapons_homicide = weapons_homicide_data.groupby('Sex')['StripSearch'].mean()\n",
    "print(gender_strip_probs_weapons_homicide)"
   ]
  },
  {
   "cell_type": "code",
   "execution_count": null,
   "metadata": {},
   "outputs": [],
   "source": [
    "male_weapons_homicide = weapons_homicide_data[weapons_homicide_data[\"Sex\"] == \"M\"]\n",
    "male_weapons_homicide_prop = male_weapons_homicide['StripSearch'].mean()\n",
    "female_weapons_homicide = weapons_homicide_data[weapons_homicide_data[\"Sex\"] == \"F\"]\n",
    "female_weapons_homicide_prop = female_weapons_homicide['StripSearch'].mean()\n",
    "\n",
    "t_stat, p_val = stats.ttest_ind(male_weapons_homicide[\"StripSearch\"], female_weapons_homicide[\"StripSearch\"])\n",
    "print('mean for male being strip searched under weapons and homicide:',male_weapons_homicide_prop)\n",
    "print('mean for female being strip searched nder weapons and homicide:',female_weapons_homicide_prop)\n",
    "print('t_stat:',t_stat)\n",
    "print('p_val:',p_val)"
   ]
  },
  {
   "cell_type": "markdown",
   "metadata": {},
   "source": [
    "#### Results\n",
    "No difference since p-val > 0.05"
   ]
  },
  {
   "cell_type": "markdown",
   "metadata": {},
   "source": [
    "### Is there any difference between the mean of indigenous and all other races strip-searched "
   ]
  },
  {
   "cell_type": "code",
   "execution_count": null,
   "metadata": {},
   "outputs": [],
   "source": [
    "# Divide the data into two subset that include only Indigenous and the rest of the races\n",
    "indigenous = arrest_data[arrest_data['Perceived_Race'] == 'Indigenous']\n",
    "rest_race = arrest_data[arrest_data['Perceived_Race'] != 'Indigenous']\n",
    "\n",
    "# Caculate the mean  for each subset\n",
    "indigenous_prob1 = indigenous['StripSearch'].mean()\n",
    "rest_race_prob1 = rest_race['StripSearch'].mean()\n",
    "\n",
    "# Calculate the t-test and get p-value\n",
    "t_stat, p_value = ttest_ind(indigenous['StripSearch'], rest_race['StripSearch'], equal_var=False)\n",
    "\n",
    "print('mean of indigenous people:',indigenous_prob1)\n",
    "print('mean of rest race:',rest_race_prob1)\n",
    "print('t_stat:',t_stat)\n",
    "print('p_val:',p_value)"
   ]
  },
  {
   "cell_type": "markdown",
   "metadata": {},
   "source": [
    "#### Results\n",
    "There is a significantly difference, since p-value < 0.05"
   ]
  },
  {
   "cell_type": "markdown",
   "metadata": {},
   "source": [
    "## Two-Way ANOVA: Perceived Race <> Sex"
   ]
  },
  {
   "cell_type": "code",
   "execution_count": null,
   "metadata": {},
   "outputs": [],
   "source": [
    "#Two-Way ANOVA\n",
    "from statsmodels.formula.api import ols\n",
    "import statsmodels.api as sm\n",
    "# Specify the model formula\n",
    "model = ols('Perceived_Race_joint_margin_merged~Perceived_Race + Sex + Sex:Perceived_Race', data=arrest_data)\n",
    "\n",
    "# Fit the model\n",
    "results = model.fit()\n",
    "\n",
    "# Print the ANOVA table\n",
    "print(sm.stats.anova_lm(results, typ=2))"
   ]
  },
  {
   "cell_type": "code",
   "execution_count": null,
   "metadata": {},
   "outputs": [],
   "source": [
    "#Interaction for Joint Marginal Race <> StripSearch\n",
    "strip_search = arrest_data[\"StripSearch\"].astype(\"category\")\n",
    "joint_margin_occur_freq = arrest_data[\"Perceived_Race_joint_margin_merged\"].values\n",
    "\n",
    "interaction_plot_freq = interaction_plot(arrest_data[\"Perceived_Race_Category\"], strip_search, joint_margin_occur_freq, ms=10)\n",
    "plt.ylabel('Mean Frequencies for Joint Marginal Distribution')\n",
    "plt.xlabel('Race Category')\n",
    "plt.title('Joint marginal mean frequency of race separated by strip search', fontweight='bold')\n",
    "plt.show()"
   ]
  }
 ],
 "metadata": {
  "colab": {
   "authorship_tag": "ABX9TyOF0Ig69mesCnTYsfVy6Rv+",
   "include_colab_link": true,
   "provenance": []
  },
  "kernelspec": {
   "display_name": "Python 3 (ipykernel)",
   "language": "python",
   "name": "python3"
  },
  "language_info": {
   "codemirror_mode": {
    "name": "ipython",
    "version": 3
   },
   "file_extension": ".py",
   "mimetype": "text/x-python",
   "name": "python",
   "nbconvert_exporter": "python",
   "pygments_lexer": "ipython3",
   "version": "3.9.13"
  }
 },
 "nbformat": 4,
 "nbformat_minor": 1
}
