{
  "nbformat": 4,
  "nbformat_minor": 0,
  "metadata": {
    "colab": {
      "provenance": []
    },
    "kernelspec": {
      "name": "python3",
      "display_name": "Python 3"
    },
    "language_info": {
      "name": "python"
    }
  },
  "cells": [
    {
      "cell_type": "code",
      "source": [
        "# Colab link: https://colab.research.google.com/drive/1lqrcMx2s7V93QCXF-ZH-N2GPscwppQlC?usp=sharing\n",
        "# colab link: https://colab.research.google.com/drive/1lqrcMx2s7V93QCXF-ZH-N2GPscwppQlC#scrollTo=hgO3V4BWLWkk"
      ],
      "metadata": {
        "id": "hgO3V4BWLWkk"
      },
      "execution_count": null,
      "outputs": []
    },
    {
      "cell_type": "code",
      "source": [],
      "metadata": {
        "id": "r7krPvQu90a3"
      },
      "execution_count": null,
      "outputs": []
    },
    {
      "cell_type": "code",
      "execution_count": null,
      "metadata": {
        "id": "25yaNDhmV9qt"
      },
      "outputs": [],
      "source": [
        "# load libraries\n",
        "import pandas as pd\n",
        "import numpy as np"
      ]
    },
    {
      "cell_type": "code",
      "source": [
        "# data visualization\n",
        "import seaborn as sns\n",
        "import matplotlib.pyplot as plt\n",
        "%matplotlib inline\n",
        "from matplotlib import rcParams\n",
        "plt.style.use(\"ggplot\")\n",
        "rcParams[\"figure.figsize\"] = (12, 6)"
      ],
      "metadata": {
        "id": "MPp-4Cv4I7tX"
      },
      "execution_count": null,
      "outputs": []
    },
    {
      "cell_type": "code",
      "source": [
        "# load the dataset\n",
        "df = pd.read_csv(\"https://raw.githubusercontent.com/shionguha/inf2178-expdesignfordatascience-w23/main/project%20dataset/Arrests_and_Strip_Searches_(RBDC-ARR-TBL-001).csv\")\n",
        "df"
      ],
      "metadata": {
        "id": "NcappUVIWLqe",
        "colab": {
          "base_uri": "https://localhost:8080/",
          "height": 522
        },
        "outputId": "94e6e3f3-d623-4eeb-f510-3fdbb993c0bd"
      },
      "execution_count": null,
      "outputs": [
        {
          "output_type": "execute_result",
          "data": {
            "text/plain": [
              "       Arrest_Year Arrest_Month  EventID   ArrestID  PersonID  \\\n",
              "0             2020    July-Sept  1005907  6017884.0    326622   \n",
              "1             2020    July-Sept  1014562  6056669.0    326622   \n",
              "2             2020      Oct-Dec  1029922  6057065.0    326622   \n",
              "3             2021      Jan-Mar  1052190  6029059.0    327535   \n",
              "4             2021      Jan-Mar  1015512  6040372.0    327535   \n",
              "...            ...          ...      ...        ...       ...   \n",
              "65271         2021      Oct-Dec  1055609  6044336.0    316123   \n",
              "65272         2021      Oct-Dec  1032758  6031692.0    307736   \n",
              "65273         2021      Oct-Dec  1021067  6064396.0    324057   \n",
              "65274         2021      Oct-Dec  1008998  6008662.0    331870   \n",
              "65275         2021      Oct-Dec  1033395  6032145.0    310583   \n",
              "\n",
              "          Perceived_Race Sex    Age_group__at_arrest_  \\\n",
              "0                  White   M      Aged 35 to 44 years   \n",
              "1                  White   M      Aged 35 to 44 years   \n",
              "2      Unknown or Legacy   M      Aged 35 to 44 years   \n",
              "3                  Black   M      Aged 25 to 34 years   \n",
              "4            South Asian   M      Aged 25 to 34 years   \n",
              "...                  ...  ..                      ...   \n",
              "65271         Indigenous   F      Aged 25 to 34 years   \n",
              "65272        South Asian   M      Aged 35 to 44 years   \n",
              "65273              White   F      Aged 45 to 54 years   \n",
              "65274  Unknown or Legacy   M  Aged 17 years and under   \n",
              "65275             Latino   M      Aged 18 to 24 years   \n",
              "\n",
              "       Youth_at_arrest__under_18_years ArrestLocDiv  ...  \\\n",
              "0                          Not a youth           54  ...   \n",
              "1                          Not a youth           54  ...   \n",
              "2                          Not a youth           54  ...   \n",
              "3                          Not a youth           XX  ...   \n",
              "4                          Not a youth           XX  ...   \n",
              "...                                ...          ...  ...   \n",
              "65271                      Not a youth           XX  ...   \n",
              "65272                      Not a youth           54  ...   \n",
              "65273                      Not a youth           XX  ...   \n",
              "65274  Youth (aged 17 years and under)           XX  ...   \n",
              "65275                      Not a youth           XX  ...   \n",
              "\n",
              "       Actions_at_arrest___Resisted__d  Actions_at_arrest___Mental_inst  \\\n",
              "0                                    0                                0   \n",
              "1                                    0                                0   \n",
              "2                                    0                                0   \n",
              "3                                    0                                0   \n",
              "4                                    0                                0   \n",
              "...                                ...                              ...   \n",
              "65271                                1                                0   \n",
              "65272                                0                                0   \n",
              "65273                                0                                0   \n",
              "65274                                0                                0   \n",
              "65275                                0                                0   \n",
              "\n",
              "      Actions_at_arrest___Assaulted_o  Actions_at_arrest___Cooperative  \\\n",
              "0                                   0                                1   \n",
              "1                                   0                                0   \n",
              "2                                   0                                0   \n",
              "3                                   0                                0   \n",
              "4                                   0                                0   \n",
              "...                               ...                              ...   \n",
              "65271                               0                                0   \n",
              "65272                               0                                0   \n",
              "65273                               0                                0   \n",
              "65274                               0                                1   \n",
              "65275                               0                                1   \n",
              "\n",
              "       SearchReason_CauseInjury  SearchReason_AssistEscape  \\\n",
              "0                           NaN                        NaN   \n",
              "1                           NaN                        NaN   \n",
              "2                           NaN                        NaN   \n",
              "3                           NaN                        NaN   \n",
              "4                           NaN                        NaN   \n",
              "...                         ...                        ...   \n",
              "65271                       NaN                        NaN   \n",
              "65272                       NaN                        NaN   \n",
              "65273                       NaN                        NaN   \n",
              "65274                       NaN                        NaN   \n",
              "65275                       NaN                        NaN   \n",
              "\n",
              "       SearchReason_PossessWeapons  SearchReason_PossessEvidence  ItemsFound  \\\n",
              "0                              NaN                           NaN         NaN   \n",
              "1                              NaN                           NaN         NaN   \n",
              "2                              NaN                           NaN         NaN   \n",
              "3                              NaN                           NaN         NaN   \n",
              "4                              NaN                           NaN         NaN   \n",
              "...                            ...                           ...         ...   \n",
              "65271                          NaN                           NaN         NaN   \n",
              "65272                          NaN                           NaN         NaN   \n",
              "65273                          NaN                           NaN         NaN   \n",
              "65274                          NaN                           NaN         NaN   \n",
              "65275                          NaN                           NaN         NaN   \n",
              "\n",
              "       ObjectId  \n",
              "0             1  \n",
              "1             2  \n",
              "2             3  \n",
              "3             4  \n",
              "4             5  \n",
              "...         ...  \n",
              "65271     65272  \n",
              "65272     65273  \n",
              "65273     65274  \n",
              "65274     65275  \n",
              "65275     65276  \n",
              "\n",
              "[65276 rows x 25 columns]"
            ],
            "text/html": [
              "\n",
              "  <div id=\"df-6ea96680-1448-4eaf-aa37-8dacebe6d013\">\n",
              "    <div class=\"colab-df-container\">\n",
              "      <div>\n",
              "<style scoped>\n",
              "    .dataframe tbody tr th:only-of-type {\n",
              "        vertical-align: middle;\n",
              "    }\n",
              "\n",
              "    .dataframe tbody tr th {\n",
              "        vertical-align: top;\n",
              "    }\n",
              "\n",
              "    .dataframe thead th {\n",
              "        text-align: right;\n",
              "    }\n",
              "</style>\n",
              "<table border=\"1\" class=\"dataframe\">\n",
              "  <thead>\n",
              "    <tr style=\"text-align: right;\">\n",
              "      <th></th>\n",
              "      <th>Arrest_Year</th>\n",
              "      <th>Arrest_Month</th>\n",
              "      <th>EventID</th>\n",
              "      <th>ArrestID</th>\n",
              "      <th>PersonID</th>\n",
              "      <th>Perceived_Race</th>\n",
              "      <th>Sex</th>\n",
              "      <th>Age_group__at_arrest_</th>\n",
              "      <th>Youth_at_arrest__under_18_years</th>\n",
              "      <th>ArrestLocDiv</th>\n",
              "      <th>...</th>\n",
              "      <th>Actions_at_arrest___Resisted__d</th>\n",
              "      <th>Actions_at_arrest___Mental_inst</th>\n",
              "      <th>Actions_at_arrest___Assaulted_o</th>\n",
              "      <th>Actions_at_arrest___Cooperative</th>\n",
              "      <th>SearchReason_CauseInjury</th>\n",
              "      <th>SearchReason_AssistEscape</th>\n",
              "      <th>SearchReason_PossessWeapons</th>\n",
              "      <th>SearchReason_PossessEvidence</th>\n",
              "      <th>ItemsFound</th>\n",
              "      <th>ObjectId</th>\n",
              "    </tr>\n",
              "  </thead>\n",
              "  <tbody>\n",
              "    <tr>\n",
              "      <th>0</th>\n",
              "      <td>2020</td>\n",
              "      <td>July-Sept</td>\n",
              "      <td>1005907</td>\n",
              "      <td>6017884.0</td>\n",
              "      <td>326622</td>\n",
              "      <td>White</td>\n",
              "      <td>M</td>\n",
              "      <td>Aged 35 to 44 years</td>\n",
              "      <td>Not a youth</td>\n",
              "      <td>54</td>\n",
              "      <td>...</td>\n",
              "      <td>0</td>\n",
              "      <td>0</td>\n",
              "      <td>0</td>\n",
              "      <td>1</td>\n",
              "      <td>NaN</td>\n",
              "      <td>NaN</td>\n",
              "      <td>NaN</td>\n",
              "      <td>NaN</td>\n",
              "      <td>NaN</td>\n",
              "      <td>1</td>\n",
              "    </tr>\n",
              "    <tr>\n",
              "      <th>1</th>\n",
              "      <td>2020</td>\n",
              "      <td>July-Sept</td>\n",
              "      <td>1014562</td>\n",
              "      <td>6056669.0</td>\n",
              "      <td>326622</td>\n",
              "      <td>White</td>\n",
              "      <td>M</td>\n",
              "      <td>Aged 35 to 44 years</td>\n",
              "      <td>Not a youth</td>\n",
              "      <td>54</td>\n",
              "      <td>...</td>\n",
              "      <td>0</td>\n",
              "      <td>0</td>\n",
              "      <td>0</td>\n",
              "      <td>0</td>\n",
              "      <td>NaN</td>\n",
              "      <td>NaN</td>\n",
              "      <td>NaN</td>\n",
              "      <td>NaN</td>\n",
              "      <td>NaN</td>\n",
              "      <td>2</td>\n",
              "    </tr>\n",
              "    <tr>\n",
              "      <th>2</th>\n",
              "      <td>2020</td>\n",
              "      <td>Oct-Dec</td>\n",
              "      <td>1029922</td>\n",
              "      <td>6057065.0</td>\n",
              "      <td>326622</td>\n",
              "      <td>Unknown or Legacy</td>\n",
              "      <td>M</td>\n",
              "      <td>Aged 35 to 44 years</td>\n",
              "      <td>Not a youth</td>\n",
              "      <td>54</td>\n",
              "      <td>...</td>\n",
              "      <td>0</td>\n",
              "      <td>0</td>\n",
              "      <td>0</td>\n",
              "      <td>0</td>\n",
              "      <td>NaN</td>\n",
              "      <td>NaN</td>\n",
              "      <td>NaN</td>\n",
              "      <td>NaN</td>\n",
              "      <td>NaN</td>\n",
              "      <td>3</td>\n",
              "    </tr>\n",
              "    <tr>\n",
              "      <th>3</th>\n",
              "      <td>2021</td>\n",
              "      <td>Jan-Mar</td>\n",
              "      <td>1052190</td>\n",
              "      <td>6029059.0</td>\n",
              "      <td>327535</td>\n",
              "      <td>Black</td>\n",
              "      <td>M</td>\n",
              "      <td>Aged 25 to 34 years</td>\n",
              "      <td>Not a youth</td>\n",
              "      <td>XX</td>\n",
              "      <td>...</td>\n",
              "      <td>0</td>\n",
              "      <td>0</td>\n",
              "      <td>0</td>\n",
              "      <td>0</td>\n",
              "      <td>NaN</td>\n",
              "      <td>NaN</td>\n",
              "      <td>NaN</td>\n",
              "      <td>NaN</td>\n",
              "      <td>NaN</td>\n",
              "      <td>4</td>\n",
              "    </tr>\n",
              "    <tr>\n",
              "      <th>4</th>\n",
              "      <td>2021</td>\n",
              "      <td>Jan-Mar</td>\n",
              "      <td>1015512</td>\n",
              "      <td>6040372.0</td>\n",
              "      <td>327535</td>\n",
              "      <td>South Asian</td>\n",
              "      <td>M</td>\n",
              "      <td>Aged 25 to 34 years</td>\n",
              "      <td>Not a youth</td>\n",
              "      <td>XX</td>\n",
              "      <td>...</td>\n",
              "      <td>0</td>\n",
              "      <td>0</td>\n",
              "      <td>0</td>\n",
              "      <td>0</td>\n",
              "      <td>NaN</td>\n",
              "      <td>NaN</td>\n",
              "      <td>NaN</td>\n",
              "      <td>NaN</td>\n",
              "      <td>NaN</td>\n",
              "      <td>5</td>\n",
              "    </tr>\n",
              "    <tr>\n",
              "      <th>...</th>\n",
              "      <td>...</td>\n",
              "      <td>...</td>\n",
              "      <td>...</td>\n",
              "      <td>...</td>\n",
              "      <td>...</td>\n",
              "      <td>...</td>\n",
              "      <td>...</td>\n",
              "      <td>...</td>\n",
              "      <td>...</td>\n",
              "      <td>...</td>\n",
              "      <td>...</td>\n",
              "      <td>...</td>\n",
              "      <td>...</td>\n",
              "      <td>...</td>\n",
              "      <td>...</td>\n",
              "      <td>...</td>\n",
              "      <td>...</td>\n",
              "      <td>...</td>\n",
              "      <td>...</td>\n",
              "      <td>...</td>\n",
              "      <td>...</td>\n",
              "    </tr>\n",
              "    <tr>\n",
              "      <th>65271</th>\n",
              "      <td>2021</td>\n",
              "      <td>Oct-Dec</td>\n",
              "      <td>1055609</td>\n",
              "      <td>6044336.0</td>\n",
              "      <td>316123</td>\n",
              "      <td>Indigenous</td>\n",
              "      <td>F</td>\n",
              "      <td>Aged 25 to 34 years</td>\n",
              "      <td>Not a youth</td>\n",
              "      <td>XX</td>\n",
              "      <td>...</td>\n",
              "      <td>1</td>\n",
              "      <td>0</td>\n",
              "      <td>0</td>\n",
              "      <td>0</td>\n",
              "      <td>NaN</td>\n",
              "      <td>NaN</td>\n",
              "      <td>NaN</td>\n",
              "      <td>NaN</td>\n",
              "      <td>NaN</td>\n",
              "      <td>65272</td>\n",
              "    </tr>\n",
              "    <tr>\n",
              "      <th>65272</th>\n",
              "      <td>2021</td>\n",
              "      <td>Oct-Dec</td>\n",
              "      <td>1032758</td>\n",
              "      <td>6031692.0</td>\n",
              "      <td>307736</td>\n",
              "      <td>South Asian</td>\n",
              "      <td>M</td>\n",
              "      <td>Aged 35 to 44 years</td>\n",
              "      <td>Not a youth</td>\n",
              "      <td>54</td>\n",
              "      <td>...</td>\n",
              "      <td>0</td>\n",
              "      <td>0</td>\n",
              "      <td>0</td>\n",
              "      <td>0</td>\n",
              "      <td>NaN</td>\n",
              "      <td>NaN</td>\n",
              "      <td>NaN</td>\n",
              "      <td>NaN</td>\n",
              "      <td>NaN</td>\n",
              "      <td>65273</td>\n",
              "    </tr>\n",
              "    <tr>\n",
              "      <th>65273</th>\n",
              "      <td>2021</td>\n",
              "      <td>Oct-Dec</td>\n",
              "      <td>1021067</td>\n",
              "      <td>6064396.0</td>\n",
              "      <td>324057</td>\n",
              "      <td>White</td>\n",
              "      <td>F</td>\n",
              "      <td>Aged 45 to 54 years</td>\n",
              "      <td>Not a youth</td>\n",
              "      <td>XX</td>\n",
              "      <td>...</td>\n",
              "      <td>0</td>\n",
              "      <td>0</td>\n",
              "      <td>0</td>\n",
              "      <td>0</td>\n",
              "      <td>NaN</td>\n",
              "      <td>NaN</td>\n",
              "      <td>NaN</td>\n",
              "      <td>NaN</td>\n",
              "      <td>NaN</td>\n",
              "      <td>65274</td>\n",
              "    </tr>\n",
              "    <tr>\n",
              "      <th>65274</th>\n",
              "      <td>2021</td>\n",
              "      <td>Oct-Dec</td>\n",
              "      <td>1008998</td>\n",
              "      <td>6008662.0</td>\n",
              "      <td>331870</td>\n",
              "      <td>Unknown or Legacy</td>\n",
              "      <td>M</td>\n",
              "      <td>Aged 17 years and under</td>\n",
              "      <td>Youth (aged 17 years and under)</td>\n",
              "      <td>XX</td>\n",
              "      <td>...</td>\n",
              "      <td>0</td>\n",
              "      <td>0</td>\n",
              "      <td>0</td>\n",
              "      <td>1</td>\n",
              "      <td>NaN</td>\n",
              "      <td>NaN</td>\n",
              "      <td>NaN</td>\n",
              "      <td>NaN</td>\n",
              "      <td>NaN</td>\n",
              "      <td>65275</td>\n",
              "    </tr>\n",
              "    <tr>\n",
              "      <th>65275</th>\n",
              "      <td>2021</td>\n",
              "      <td>Oct-Dec</td>\n",
              "      <td>1033395</td>\n",
              "      <td>6032145.0</td>\n",
              "      <td>310583</td>\n",
              "      <td>Latino</td>\n",
              "      <td>M</td>\n",
              "      <td>Aged 18 to 24 years</td>\n",
              "      <td>Not a youth</td>\n",
              "      <td>XX</td>\n",
              "      <td>...</td>\n",
              "      <td>0</td>\n",
              "      <td>0</td>\n",
              "      <td>0</td>\n",
              "      <td>1</td>\n",
              "      <td>NaN</td>\n",
              "      <td>NaN</td>\n",
              "      <td>NaN</td>\n",
              "      <td>NaN</td>\n",
              "      <td>NaN</td>\n",
              "      <td>65276</td>\n",
              "    </tr>\n",
              "  </tbody>\n",
              "</table>\n",
              "<p>65276 rows × 25 columns</p>\n",
              "</div>\n",
              "      <button class=\"colab-df-convert\" onclick=\"convertToInteractive('df-6ea96680-1448-4eaf-aa37-8dacebe6d013')\"\n",
              "              title=\"Convert this dataframe to an interactive table.\"\n",
              "              style=\"display:none;\">\n",
              "        \n",
              "  <svg xmlns=\"http://www.w3.org/2000/svg\" height=\"24px\"viewBox=\"0 0 24 24\"\n",
              "       width=\"24px\">\n",
              "    <path d=\"M0 0h24v24H0V0z\" fill=\"none\"/>\n",
              "    <path d=\"M18.56 5.44l.94 2.06.94-2.06 2.06-.94-2.06-.94-.94-2.06-.94 2.06-2.06.94zm-11 1L8.5 8.5l.94-2.06 2.06-.94-2.06-.94L8.5 2.5l-.94 2.06-2.06.94zm10 10l.94 2.06.94-2.06 2.06-.94-2.06-.94-.94-2.06-.94 2.06-2.06.94z\"/><path d=\"M17.41 7.96l-1.37-1.37c-.4-.4-.92-.59-1.43-.59-.52 0-1.04.2-1.43.59L10.3 9.45l-7.72 7.72c-.78.78-.78 2.05 0 2.83L4 21.41c.39.39.9.59 1.41.59.51 0 1.02-.2 1.41-.59l7.78-7.78 2.81-2.81c.8-.78.8-2.07 0-2.86zM5.41 20L4 18.59l7.72-7.72 1.47 1.35L5.41 20z\"/>\n",
              "  </svg>\n",
              "      </button>\n",
              "      \n",
              "  <style>\n",
              "    .colab-df-container {\n",
              "      display:flex;\n",
              "      flex-wrap:wrap;\n",
              "      gap: 12px;\n",
              "    }\n",
              "\n",
              "    .colab-df-convert {\n",
              "      background-color: #E8F0FE;\n",
              "      border: none;\n",
              "      border-radius: 50%;\n",
              "      cursor: pointer;\n",
              "      display: none;\n",
              "      fill: #1967D2;\n",
              "      height: 32px;\n",
              "      padding: 0 0 0 0;\n",
              "      width: 32px;\n",
              "    }\n",
              "\n",
              "    .colab-df-convert:hover {\n",
              "      background-color: #E2EBFA;\n",
              "      box-shadow: 0px 1px 2px rgba(60, 64, 67, 0.3), 0px 1px 3px 1px rgba(60, 64, 67, 0.15);\n",
              "      fill: #174EA6;\n",
              "    }\n",
              "\n",
              "    [theme=dark] .colab-df-convert {\n",
              "      background-color: #3B4455;\n",
              "      fill: #D2E3FC;\n",
              "    }\n",
              "\n",
              "    [theme=dark] .colab-df-convert:hover {\n",
              "      background-color: #434B5C;\n",
              "      box-shadow: 0px 1px 3px 1px rgba(0, 0, 0, 0.15);\n",
              "      filter: drop-shadow(0px 1px 2px rgba(0, 0, 0, 0.3));\n",
              "      fill: #FFFFFF;\n",
              "    }\n",
              "  </style>\n",
              "\n",
              "      <script>\n",
              "        const buttonEl =\n",
              "          document.querySelector('#df-6ea96680-1448-4eaf-aa37-8dacebe6d013 button.colab-df-convert');\n",
              "        buttonEl.style.display =\n",
              "          google.colab.kernel.accessAllowed ? 'block' : 'none';\n",
              "\n",
              "        async function convertToInteractive(key) {\n",
              "          const element = document.querySelector('#df-6ea96680-1448-4eaf-aa37-8dacebe6d013');\n",
              "          const dataTable =\n",
              "            await google.colab.kernel.invokeFunction('convertToInteractive',\n",
              "                                                     [key], {});\n",
              "          if (!dataTable) return;\n",
              "\n",
              "          const docLinkHtml = 'Like what you see? Visit the ' +\n",
              "            '<a target=\"_blank\" href=https://colab.research.google.com/notebooks/data_table.ipynb>data table notebook</a>'\n",
              "            + ' to learn more about interactive tables.';\n",
              "          element.innerHTML = '';\n",
              "          dataTable['output_type'] = 'display_data';\n",
              "          await google.colab.output.renderOutput(dataTable, element);\n",
              "          const docLink = document.createElement('div');\n",
              "          docLink.innerHTML = docLinkHtml;\n",
              "          element.appendChild(docLink);\n",
              "        }\n",
              "      </script>\n",
              "    </div>\n",
              "  </div>\n",
              "  "
            ]
          },
          "metadata": {},
          "execution_count": 72
        }
      ]
    },
    {
      "cell_type": "code",
      "source": [
        "# view the dataset for the first 5\n",
        "df.head()"
      ],
      "metadata": {
        "colab": {
          "base_uri": "https://localhost:8080/",
          "height": 317
        },
        "id": "8y8i2cgmKDpP",
        "outputId": "3a06cab2-0a9d-464a-bf2d-454b946302a4"
      },
      "execution_count": null,
      "outputs": [
        {
          "output_type": "execute_result",
          "data": {
            "text/plain": [
              "   Arrest_Year Arrest_Month  EventID   ArrestID  PersonID     Perceived_Race  \\\n",
              "0         2020    July-Sept  1005907  6017884.0    326622              White   \n",
              "1         2020    July-Sept  1014562  6056669.0    326622              White   \n",
              "2         2020      Oct-Dec  1029922  6057065.0    326622  Unknown or Legacy   \n",
              "3         2021      Jan-Mar  1052190  6029059.0    327535              Black   \n",
              "4         2021      Jan-Mar  1015512  6040372.0    327535        South Asian   \n",
              "\n",
              "  Sex Age_group__at_arrest_ Youth_at_arrest__under_18_years ArrestLocDiv  ...  \\\n",
              "0   M   Aged 35 to 44 years                     Not a youth           54  ...   \n",
              "1   M   Aged 35 to 44 years                     Not a youth           54  ...   \n",
              "2   M   Aged 35 to 44 years                     Not a youth           54  ...   \n",
              "3   M   Aged 25 to 34 years                     Not a youth           XX  ...   \n",
              "4   M   Aged 25 to 34 years                     Not a youth           XX  ...   \n",
              "\n",
              "   Actions_at_arrest___Resisted__d  Actions_at_arrest___Mental_inst  \\\n",
              "0                                0                                0   \n",
              "1                                0                                0   \n",
              "2                                0                                0   \n",
              "3                                0                                0   \n",
              "4                                0                                0   \n",
              "\n",
              "  Actions_at_arrest___Assaulted_o  Actions_at_arrest___Cooperative  \\\n",
              "0                               0                                1   \n",
              "1                               0                                0   \n",
              "2                               0                                0   \n",
              "3                               0                                0   \n",
              "4                               0                                0   \n",
              "\n",
              "   SearchReason_CauseInjury  SearchReason_AssistEscape  \\\n",
              "0                       NaN                        NaN   \n",
              "1                       NaN                        NaN   \n",
              "2                       NaN                        NaN   \n",
              "3                       NaN                        NaN   \n",
              "4                       NaN                        NaN   \n",
              "\n",
              "   SearchReason_PossessWeapons  SearchReason_PossessEvidence  ItemsFound  \\\n",
              "0                          NaN                           NaN         NaN   \n",
              "1                          NaN                           NaN         NaN   \n",
              "2                          NaN                           NaN         NaN   \n",
              "3                          NaN                           NaN         NaN   \n",
              "4                          NaN                           NaN         NaN   \n",
              "\n",
              "   ObjectId  \n",
              "0         1  \n",
              "1         2  \n",
              "2         3  \n",
              "3         4  \n",
              "4         5  \n",
              "\n",
              "[5 rows x 25 columns]"
            ],
            "text/html": [
              "\n",
              "  <div id=\"df-88854624-fe22-4e81-8d9b-89c4eb6d8ecf\">\n",
              "    <div class=\"colab-df-container\">\n",
              "      <div>\n",
              "<style scoped>\n",
              "    .dataframe tbody tr th:only-of-type {\n",
              "        vertical-align: middle;\n",
              "    }\n",
              "\n",
              "    .dataframe tbody tr th {\n",
              "        vertical-align: top;\n",
              "    }\n",
              "\n",
              "    .dataframe thead th {\n",
              "        text-align: right;\n",
              "    }\n",
              "</style>\n",
              "<table border=\"1\" class=\"dataframe\">\n",
              "  <thead>\n",
              "    <tr style=\"text-align: right;\">\n",
              "      <th></th>\n",
              "      <th>Arrest_Year</th>\n",
              "      <th>Arrest_Month</th>\n",
              "      <th>EventID</th>\n",
              "      <th>ArrestID</th>\n",
              "      <th>PersonID</th>\n",
              "      <th>Perceived_Race</th>\n",
              "      <th>Sex</th>\n",
              "      <th>Age_group__at_arrest_</th>\n",
              "      <th>Youth_at_arrest__under_18_years</th>\n",
              "      <th>ArrestLocDiv</th>\n",
              "      <th>...</th>\n",
              "      <th>Actions_at_arrest___Resisted__d</th>\n",
              "      <th>Actions_at_arrest___Mental_inst</th>\n",
              "      <th>Actions_at_arrest___Assaulted_o</th>\n",
              "      <th>Actions_at_arrest___Cooperative</th>\n",
              "      <th>SearchReason_CauseInjury</th>\n",
              "      <th>SearchReason_AssistEscape</th>\n",
              "      <th>SearchReason_PossessWeapons</th>\n",
              "      <th>SearchReason_PossessEvidence</th>\n",
              "      <th>ItemsFound</th>\n",
              "      <th>ObjectId</th>\n",
              "    </tr>\n",
              "  </thead>\n",
              "  <tbody>\n",
              "    <tr>\n",
              "      <th>0</th>\n",
              "      <td>2020</td>\n",
              "      <td>July-Sept</td>\n",
              "      <td>1005907</td>\n",
              "      <td>6017884.0</td>\n",
              "      <td>326622</td>\n",
              "      <td>White</td>\n",
              "      <td>M</td>\n",
              "      <td>Aged 35 to 44 years</td>\n",
              "      <td>Not a youth</td>\n",
              "      <td>54</td>\n",
              "      <td>...</td>\n",
              "      <td>0</td>\n",
              "      <td>0</td>\n",
              "      <td>0</td>\n",
              "      <td>1</td>\n",
              "      <td>NaN</td>\n",
              "      <td>NaN</td>\n",
              "      <td>NaN</td>\n",
              "      <td>NaN</td>\n",
              "      <td>NaN</td>\n",
              "      <td>1</td>\n",
              "    </tr>\n",
              "    <tr>\n",
              "      <th>1</th>\n",
              "      <td>2020</td>\n",
              "      <td>July-Sept</td>\n",
              "      <td>1014562</td>\n",
              "      <td>6056669.0</td>\n",
              "      <td>326622</td>\n",
              "      <td>White</td>\n",
              "      <td>M</td>\n",
              "      <td>Aged 35 to 44 years</td>\n",
              "      <td>Not a youth</td>\n",
              "      <td>54</td>\n",
              "      <td>...</td>\n",
              "      <td>0</td>\n",
              "      <td>0</td>\n",
              "      <td>0</td>\n",
              "      <td>0</td>\n",
              "      <td>NaN</td>\n",
              "      <td>NaN</td>\n",
              "      <td>NaN</td>\n",
              "      <td>NaN</td>\n",
              "      <td>NaN</td>\n",
              "      <td>2</td>\n",
              "    </tr>\n",
              "    <tr>\n",
              "      <th>2</th>\n",
              "      <td>2020</td>\n",
              "      <td>Oct-Dec</td>\n",
              "      <td>1029922</td>\n",
              "      <td>6057065.0</td>\n",
              "      <td>326622</td>\n",
              "      <td>Unknown or Legacy</td>\n",
              "      <td>M</td>\n",
              "      <td>Aged 35 to 44 years</td>\n",
              "      <td>Not a youth</td>\n",
              "      <td>54</td>\n",
              "      <td>...</td>\n",
              "      <td>0</td>\n",
              "      <td>0</td>\n",
              "      <td>0</td>\n",
              "      <td>0</td>\n",
              "      <td>NaN</td>\n",
              "      <td>NaN</td>\n",
              "      <td>NaN</td>\n",
              "      <td>NaN</td>\n",
              "      <td>NaN</td>\n",
              "      <td>3</td>\n",
              "    </tr>\n",
              "    <tr>\n",
              "      <th>3</th>\n",
              "      <td>2021</td>\n",
              "      <td>Jan-Mar</td>\n",
              "      <td>1052190</td>\n",
              "      <td>6029059.0</td>\n",
              "      <td>327535</td>\n",
              "      <td>Black</td>\n",
              "      <td>M</td>\n",
              "      <td>Aged 25 to 34 years</td>\n",
              "      <td>Not a youth</td>\n",
              "      <td>XX</td>\n",
              "      <td>...</td>\n",
              "      <td>0</td>\n",
              "      <td>0</td>\n",
              "      <td>0</td>\n",
              "      <td>0</td>\n",
              "      <td>NaN</td>\n",
              "      <td>NaN</td>\n",
              "      <td>NaN</td>\n",
              "      <td>NaN</td>\n",
              "      <td>NaN</td>\n",
              "      <td>4</td>\n",
              "    </tr>\n",
              "    <tr>\n",
              "      <th>4</th>\n",
              "      <td>2021</td>\n",
              "      <td>Jan-Mar</td>\n",
              "      <td>1015512</td>\n",
              "      <td>6040372.0</td>\n",
              "      <td>327535</td>\n",
              "      <td>South Asian</td>\n",
              "      <td>M</td>\n",
              "      <td>Aged 25 to 34 years</td>\n",
              "      <td>Not a youth</td>\n",
              "      <td>XX</td>\n",
              "      <td>...</td>\n",
              "      <td>0</td>\n",
              "      <td>0</td>\n",
              "      <td>0</td>\n",
              "      <td>0</td>\n",
              "      <td>NaN</td>\n",
              "      <td>NaN</td>\n",
              "      <td>NaN</td>\n",
              "      <td>NaN</td>\n",
              "      <td>NaN</td>\n",
              "      <td>5</td>\n",
              "    </tr>\n",
              "  </tbody>\n",
              "</table>\n",
              "<p>5 rows × 25 columns</p>\n",
              "</div>\n",
              "      <button class=\"colab-df-convert\" onclick=\"convertToInteractive('df-88854624-fe22-4e81-8d9b-89c4eb6d8ecf')\"\n",
              "              title=\"Convert this dataframe to an interactive table.\"\n",
              "              style=\"display:none;\">\n",
              "        \n",
              "  <svg xmlns=\"http://www.w3.org/2000/svg\" height=\"24px\"viewBox=\"0 0 24 24\"\n",
              "       width=\"24px\">\n",
              "    <path d=\"M0 0h24v24H0V0z\" fill=\"none\"/>\n",
              "    <path d=\"M18.56 5.44l.94 2.06.94-2.06 2.06-.94-2.06-.94-.94-2.06-.94 2.06-2.06.94zm-11 1L8.5 8.5l.94-2.06 2.06-.94-2.06-.94L8.5 2.5l-.94 2.06-2.06.94zm10 10l.94 2.06.94-2.06 2.06-.94-2.06-.94-.94-2.06-.94 2.06-2.06.94z\"/><path d=\"M17.41 7.96l-1.37-1.37c-.4-.4-.92-.59-1.43-.59-.52 0-1.04.2-1.43.59L10.3 9.45l-7.72 7.72c-.78.78-.78 2.05 0 2.83L4 21.41c.39.39.9.59 1.41.59.51 0 1.02-.2 1.41-.59l7.78-7.78 2.81-2.81c.8-.78.8-2.07 0-2.86zM5.41 20L4 18.59l7.72-7.72 1.47 1.35L5.41 20z\"/>\n",
              "  </svg>\n",
              "      </button>\n",
              "      \n",
              "  <style>\n",
              "    .colab-df-container {\n",
              "      display:flex;\n",
              "      flex-wrap:wrap;\n",
              "      gap: 12px;\n",
              "    }\n",
              "\n",
              "    .colab-df-convert {\n",
              "      background-color: #E8F0FE;\n",
              "      border: none;\n",
              "      border-radius: 50%;\n",
              "      cursor: pointer;\n",
              "      display: none;\n",
              "      fill: #1967D2;\n",
              "      height: 32px;\n",
              "      padding: 0 0 0 0;\n",
              "      width: 32px;\n",
              "    }\n",
              "\n",
              "    .colab-df-convert:hover {\n",
              "      background-color: #E2EBFA;\n",
              "      box-shadow: 0px 1px 2px rgba(60, 64, 67, 0.3), 0px 1px 3px 1px rgba(60, 64, 67, 0.15);\n",
              "      fill: #174EA6;\n",
              "    }\n",
              "\n",
              "    [theme=dark] .colab-df-convert {\n",
              "      background-color: #3B4455;\n",
              "      fill: #D2E3FC;\n",
              "    }\n",
              "\n",
              "    [theme=dark] .colab-df-convert:hover {\n",
              "      background-color: #434B5C;\n",
              "      box-shadow: 0px 1px 3px 1px rgba(0, 0, 0, 0.15);\n",
              "      filter: drop-shadow(0px 1px 2px rgba(0, 0, 0, 0.3));\n",
              "      fill: #FFFFFF;\n",
              "    }\n",
              "  </style>\n",
              "\n",
              "      <script>\n",
              "        const buttonEl =\n",
              "          document.querySelector('#df-88854624-fe22-4e81-8d9b-89c4eb6d8ecf button.colab-df-convert');\n",
              "        buttonEl.style.display =\n",
              "          google.colab.kernel.accessAllowed ? 'block' : 'none';\n",
              "\n",
              "        async function convertToInteractive(key) {\n",
              "          const element = document.querySelector('#df-88854624-fe22-4e81-8d9b-89c4eb6d8ecf');\n",
              "          const dataTable =\n",
              "            await google.colab.kernel.invokeFunction('convertToInteractive',\n",
              "                                                     [key], {});\n",
              "          if (!dataTable) return;\n",
              "\n",
              "          const docLinkHtml = 'Like what you see? Visit the ' +\n",
              "            '<a target=\"_blank\" href=https://colab.research.google.com/notebooks/data_table.ipynb>data table notebook</a>'\n",
              "            + ' to learn more about interactive tables.';\n",
              "          element.innerHTML = '';\n",
              "          dataTable['output_type'] = 'display_data';\n",
              "          await google.colab.output.renderOutput(dataTable, element);\n",
              "          const docLink = document.createElement('div');\n",
              "          docLink.innerHTML = docLinkHtml;\n",
              "          element.appendChild(docLink);\n",
              "        }\n",
              "      </script>\n",
              "    </div>\n",
              "  </div>\n",
              "  "
            ]
          },
          "metadata": {},
          "execution_count": 73
        }
      ]
    },
    {
      "cell_type": "code",
      "source": [
        "# view the dataset for the last 5\n",
        "df.tail(5)"
      ],
      "metadata": {
        "colab": {
          "base_uri": "https://localhost:8080/",
          "height": 317
        },
        "id": "4qk7wummKLA7",
        "outputId": "44a9d91d-1f4c-4f5b-c93e-085aad37a6a8"
      },
      "execution_count": null,
      "outputs": [
        {
          "output_type": "execute_result",
          "data": {
            "text/plain": [
              "       Arrest_Year Arrest_Month  EventID   ArrestID  PersonID  \\\n",
              "65271         2021      Oct-Dec  1055609  6044336.0    316123   \n",
              "65272         2021      Oct-Dec  1032758  6031692.0    307736   \n",
              "65273         2021      Oct-Dec  1021067  6064396.0    324057   \n",
              "65274         2021      Oct-Dec  1008998  6008662.0    331870   \n",
              "65275         2021      Oct-Dec  1033395  6032145.0    310583   \n",
              "\n",
              "          Perceived_Race Sex    Age_group__at_arrest_  \\\n",
              "65271         Indigenous   F      Aged 25 to 34 years   \n",
              "65272        South Asian   M      Aged 35 to 44 years   \n",
              "65273              White   F      Aged 45 to 54 years   \n",
              "65274  Unknown or Legacy   M  Aged 17 years and under   \n",
              "65275             Latino   M      Aged 18 to 24 years   \n",
              "\n",
              "       Youth_at_arrest__under_18_years ArrestLocDiv  ...  \\\n",
              "65271                      Not a youth           XX  ...   \n",
              "65272                      Not a youth           54  ...   \n",
              "65273                      Not a youth           XX  ...   \n",
              "65274  Youth (aged 17 years and under)           XX  ...   \n",
              "65275                      Not a youth           XX  ...   \n",
              "\n",
              "       Actions_at_arrest___Resisted__d  Actions_at_arrest___Mental_inst  \\\n",
              "65271                                1                                0   \n",
              "65272                                0                                0   \n",
              "65273                                0                                0   \n",
              "65274                                0                                0   \n",
              "65275                                0                                0   \n",
              "\n",
              "      Actions_at_arrest___Assaulted_o  Actions_at_arrest___Cooperative  \\\n",
              "65271                               0                                0   \n",
              "65272                               0                                0   \n",
              "65273                               0                                0   \n",
              "65274                               0                                1   \n",
              "65275                               0                                1   \n",
              "\n",
              "       SearchReason_CauseInjury  SearchReason_AssistEscape  \\\n",
              "65271                       NaN                        NaN   \n",
              "65272                       NaN                        NaN   \n",
              "65273                       NaN                        NaN   \n",
              "65274                       NaN                        NaN   \n",
              "65275                       NaN                        NaN   \n",
              "\n",
              "       SearchReason_PossessWeapons  SearchReason_PossessEvidence  ItemsFound  \\\n",
              "65271                          NaN                           NaN         NaN   \n",
              "65272                          NaN                           NaN         NaN   \n",
              "65273                          NaN                           NaN         NaN   \n",
              "65274                          NaN                           NaN         NaN   \n",
              "65275                          NaN                           NaN         NaN   \n",
              "\n",
              "       ObjectId  \n",
              "65271     65272  \n",
              "65272     65273  \n",
              "65273     65274  \n",
              "65274     65275  \n",
              "65275     65276  \n",
              "\n",
              "[5 rows x 25 columns]"
            ],
            "text/html": [
              "\n",
              "  <div id=\"df-456765d9-420e-439a-9014-30330febad8d\">\n",
              "    <div class=\"colab-df-container\">\n",
              "      <div>\n",
              "<style scoped>\n",
              "    .dataframe tbody tr th:only-of-type {\n",
              "        vertical-align: middle;\n",
              "    }\n",
              "\n",
              "    .dataframe tbody tr th {\n",
              "        vertical-align: top;\n",
              "    }\n",
              "\n",
              "    .dataframe thead th {\n",
              "        text-align: right;\n",
              "    }\n",
              "</style>\n",
              "<table border=\"1\" class=\"dataframe\">\n",
              "  <thead>\n",
              "    <tr style=\"text-align: right;\">\n",
              "      <th></th>\n",
              "      <th>Arrest_Year</th>\n",
              "      <th>Arrest_Month</th>\n",
              "      <th>EventID</th>\n",
              "      <th>ArrestID</th>\n",
              "      <th>PersonID</th>\n",
              "      <th>Perceived_Race</th>\n",
              "      <th>Sex</th>\n",
              "      <th>Age_group__at_arrest_</th>\n",
              "      <th>Youth_at_arrest__under_18_years</th>\n",
              "      <th>ArrestLocDiv</th>\n",
              "      <th>...</th>\n",
              "      <th>Actions_at_arrest___Resisted__d</th>\n",
              "      <th>Actions_at_arrest___Mental_inst</th>\n",
              "      <th>Actions_at_arrest___Assaulted_o</th>\n",
              "      <th>Actions_at_arrest___Cooperative</th>\n",
              "      <th>SearchReason_CauseInjury</th>\n",
              "      <th>SearchReason_AssistEscape</th>\n",
              "      <th>SearchReason_PossessWeapons</th>\n",
              "      <th>SearchReason_PossessEvidence</th>\n",
              "      <th>ItemsFound</th>\n",
              "      <th>ObjectId</th>\n",
              "    </tr>\n",
              "  </thead>\n",
              "  <tbody>\n",
              "    <tr>\n",
              "      <th>65271</th>\n",
              "      <td>2021</td>\n",
              "      <td>Oct-Dec</td>\n",
              "      <td>1055609</td>\n",
              "      <td>6044336.0</td>\n",
              "      <td>316123</td>\n",
              "      <td>Indigenous</td>\n",
              "      <td>F</td>\n",
              "      <td>Aged 25 to 34 years</td>\n",
              "      <td>Not a youth</td>\n",
              "      <td>XX</td>\n",
              "      <td>...</td>\n",
              "      <td>1</td>\n",
              "      <td>0</td>\n",
              "      <td>0</td>\n",
              "      <td>0</td>\n",
              "      <td>NaN</td>\n",
              "      <td>NaN</td>\n",
              "      <td>NaN</td>\n",
              "      <td>NaN</td>\n",
              "      <td>NaN</td>\n",
              "      <td>65272</td>\n",
              "    </tr>\n",
              "    <tr>\n",
              "      <th>65272</th>\n",
              "      <td>2021</td>\n",
              "      <td>Oct-Dec</td>\n",
              "      <td>1032758</td>\n",
              "      <td>6031692.0</td>\n",
              "      <td>307736</td>\n",
              "      <td>South Asian</td>\n",
              "      <td>M</td>\n",
              "      <td>Aged 35 to 44 years</td>\n",
              "      <td>Not a youth</td>\n",
              "      <td>54</td>\n",
              "      <td>...</td>\n",
              "      <td>0</td>\n",
              "      <td>0</td>\n",
              "      <td>0</td>\n",
              "      <td>0</td>\n",
              "      <td>NaN</td>\n",
              "      <td>NaN</td>\n",
              "      <td>NaN</td>\n",
              "      <td>NaN</td>\n",
              "      <td>NaN</td>\n",
              "      <td>65273</td>\n",
              "    </tr>\n",
              "    <tr>\n",
              "      <th>65273</th>\n",
              "      <td>2021</td>\n",
              "      <td>Oct-Dec</td>\n",
              "      <td>1021067</td>\n",
              "      <td>6064396.0</td>\n",
              "      <td>324057</td>\n",
              "      <td>White</td>\n",
              "      <td>F</td>\n",
              "      <td>Aged 45 to 54 years</td>\n",
              "      <td>Not a youth</td>\n",
              "      <td>XX</td>\n",
              "      <td>...</td>\n",
              "      <td>0</td>\n",
              "      <td>0</td>\n",
              "      <td>0</td>\n",
              "      <td>0</td>\n",
              "      <td>NaN</td>\n",
              "      <td>NaN</td>\n",
              "      <td>NaN</td>\n",
              "      <td>NaN</td>\n",
              "      <td>NaN</td>\n",
              "      <td>65274</td>\n",
              "    </tr>\n",
              "    <tr>\n",
              "      <th>65274</th>\n",
              "      <td>2021</td>\n",
              "      <td>Oct-Dec</td>\n",
              "      <td>1008998</td>\n",
              "      <td>6008662.0</td>\n",
              "      <td>331870</td>\n",
              "      <td>Unknown or Legacy</td>\n",
              "      <td>M</td>\n",
              "      <td>Aged 17 years and under</td>\n",
              "      <td>Youth (aged 17 years and under)</td>\n",
              "      <td>XX</td>\n",
              "      <td>...</td>\n",
              "      <td>0</td>\n",
              "      <td>0</td>\n",
              "      <td>0</td>\n",
              "      <td>1</td>\n",
              "      <td>NaN</td>\n",
              "      <td>NaN</td>\n",
              "      <td>NaN</td>\n",
              "      <td>NaN</td>\n",
              "      <td>NaN</td>\n",
              "      <td>65275</td>\n",
              "    </tr>\n",
              "    <tr>\n",
              "      <th>65275</th>\n",
              "      <td>2021</td>\n",
              "      <td>Oct-Dec</td>\n",
              "      <td>1033395</td>\n",
              "      <td>6032145.0</td>\n",
              "      <td>310583</td>\n",
              "      <td>Latino</td>\n",
              "      <td>M</td>\n",
              "      <td>Aged 18 to 24 years</td>\n",
              "      <td>Not a youth</td>\n",
              "      <td>XX</td>\n",
              "      <td>...</td>\n",
              "      <td>0</td>\n",
              "      <td>0</td>\n",
              "      <td>0</td>\n",
              "      <td>1</td>\n",
              "      <td>NaN</td>\n",
              "      <td>NaN</td>\n",
              "      <td>NaN</td>\n",
              "      <td>NaN</td>\n",
              "      <td>NaN</td>\n",
              "      <td>65276</td>\n",
              "    </tr>\n",
              "  </tbody>\n",
              "</table>\n",
              "<p>5 rows × 25 columns</p>\n",
              "</div>\n",
              "      <button class=\"colab-df-convert\" onclick=\"convertToInteractive('df-456765d9-420e-439a-9014-30330febad8d')\"\n",
              "              title=\"Convert this dataframe to an interactive table.\"\n",
              "              style=\"display:none;\">\n",
              "        \n",
              "  <svg xmlns=\"http://www.w3.org/2000/svg\" height=\"24px\"viewBox=\"0 0 24 24\"\n",
              "       width=\"24px\">\n",
              "    <path d=\"M0 0h24v24H0V0z\" fill=\"none\"/>\n",
              "    <path d=\"M18.56 5.44l.94 2.06.94-2.06 2.06-.94-2.06-.94-.94-2.06-.94 2.06-2.06.94zm-11 1L8.5 8.5l.94-2.06 2.06-.94-2.06-.94L8.5 2.5l-.94 2.06-2.06.94zm10 10l.94 2.06.94-2.06 2.06-.94-2.06-.94-.94-2.06-.94 2.06-2.06.94z\"/><path d=\"M17.41 7.96l-1.37-1.37c-.4-.4-.92-.59-1.43-.59-.52 0-1.04.2-1.43.59L10.3 9.45l-7.72 7.72c-.78.78-.78 2.05 0 2.83L4 21.41c.39.39.9.59 1.41.59.51 0 1.02-.2 1.41-.59l7.78-7.78 2.81-2.81c.8-.78.8-2.07 0-2.86zM5.41 20L4 18.59l7.72-7.72 1.47 1.35L5.41 20z\"/>\n",
              "  </svg>\n",
              "      </button>\n",
              "      \n",
              "  <style>\n",
              "    .colab-df-container {\n",
              "      display:flex;\n",
              "      flex-wrap:wrap;\n",
              "      gap: 12px;\n",
              "    }\n",
              "\n",
              "    .colab-df-convert {\n",
              "      background-color: #E8F0FE;\n",
              "      border: none;\n",
              "      border-radius: 50%;\n",
              "      cursor: pointer;\n",
              "      display: none;\n",
              "      fill: #1967D2;\n",
              "      height: 32px;\n",
              "      padding: 0 0 0 0;\n",
              "      width: 32px;\n",
              "    }\n",
              "\n",
              "    .colab-df-convert:hover {\n",
              "      background-color: #E2EBFA;\n",
              "      box-shadow: 0px 1px 2px rgba(60, 64, 67, 0.3), 0px 1px 3px 1px rgba(60, 64, 67, 0.15);\n",
              "      fill: #174EA6;\n",
              "    }\n",
              "\n",
              "    [theme=dark] .colab-df-convert {\n",
              "      background-color: #3B4455;\n",
              "      fill: #D2E3FC;\n",
              "    }\n",
              "\n",
              "    [theme=dark] .colab-df-convert:hover {\n",
              "      background-color: #434B5C;\n",
              "      box-shadow: 0px 1px 3px 1px rgba(0, 0, 0, 0.15);\n",
              "      filter: drop-shadow(0px 1px 2px rgba(0, 0, 0, 0.3));\n",
              "      fill: #FFFFFF;\n",
              "    }\n",
              "  </style>\n",
              "\n",
              "      <script>\n",
              "        const buttonEl =\n",
              "          document.querySelector('#df-456765d9-420e-439a-9014-30330febad8d button.colab-df-convert');\n",
              "        buttonEl.style.display =\n",
              "          google.colab.kernel.accessAllowed ? 'block' : 'none';\n",
              "\n",
              "        async function convertToInteractive(key) {\n",
              "          const element = document.querySelector('#df-456765d9-420e-439a-9014-30330febad8d');\n",
              "          const dataTable =\n",
              "            await google.colab.kernel.invokeFunction('convertToInteractive',\n",
              "                                                     [key], {});\n",
              "          if (!dataTable) return;\n",
              "\n",
              "          const docLinkHtml = 'Like what you see? Visit the ' +\n",
              "            '<a target=\"_blank\" href=https://colab.research.google.com/notebooks/data_table.ipynb>data table notebook</a>'\n",
              "            + ' to learn more about interactive tables.';\n",
              "          element.innerHTML = '';\n",
              "          dataTable['output_type'] = 'display_data';\n",
              "          await google.colab.output.renderOutput(dataTable, element);\n",
              "          const docLink = document.createElement('div');\n",
              "          docLink.innerHTML = docLinkHtml;\n",
              "          element.appendChild(docLink);\n",
              "        }\n",
              "      </script>\n",
              "    </div>\n",
              "  </div>\n",
              "  "
            ]
          },
          "metadata": {},
          "execution_count": 74
        }
      ]
    },
    {
      "cell_type": "code",
      "source": [
        "# check\n",
        "type(df)"
      ],
      "metadata": {
        "id": "uGs_O43nWOdW",
        "colab": {
          "base_uri": "https://localhost:8080/"
        },
        "outputId": "f54f71cd-74f9-48f5-eab9-7e8e586823c6"
      },
      "execution_count": null,
      "outputs": [
        {
          "output_type": "execute_result",
          "data": {
            "text/plain": [
              "pandas.core.frame.DataFrame"
            ]
          },
          "metadata": {},
          "execution_count": 75
        }
      ]
    },
    {
      "cell_type": "code",
      "source": [
        "# index range\n",
        "df.index"
      ],
      "metadata": {
        "colab": {
          "base_uri": "https://localhost:8080/"
        },
        "id": "IZ3yrvftJwUC",
        "outputId": "ea148d6b-d541-444c-942b-60500d803f1c"
      },
      "execution_count": null,
      "outputs": [
        {
          "output_type": "execute_result",
          "data": {
            "text/plain": [
              "RangeIndex(start=0, stop=65276, step=1)"
            ]
          },
          "metadata": {},
          "execution_count": 76
        }
      ]
    },
    {
      "cell_type": "code",
      "source": [
        "# shape of the dataset\n",
        "df.shape"
      ],
      "metadata": {
        "colab": {
          "base_uri": "https://localhost:8080/"
        },
        "id": "VWY5BRWTJ1A5",
        "outputId": "0336d37d-d066-46ff-ada4-11c0f28fd160"
      },
      "execution_count": null,
      "outputs": [
        {
          "output_type": "execute_result",
          "data": {
            "text/plain": [
              "(65276, 25)"
            ]
          },
          "metadata": {},
          "execution_count": 77
        }
      ]
    },
    {
      "cell_type": "code",
      "source": [
        "# dateset structure: check for incorrect datatypes, missing values\n",
        "df.info()"
      ],
      "metadata": {
        "colab": {
          "base_uri": "https://localhost:8080/"
        },
        "id": "-B-q3BzxKAMs",
        "outputId": "3dbcf203-7afa-41f3-ff95-ee4df0d16a81"
      },
      "execution_count": null,
      "outputs": [
        {
          "output_type": "stream",
          "name": "stdout",
          "text": [
            "<class 'pandas.core.frame.DataFrame'>\n",
            "RangeIndex: 65276 entries, 0 to 65275\n",
            "Data columns (total 25 columns):\n",
            " #   Column                           Non-Null Count  Dtype  \n",
            "---  ------                           --------------  -----  \n",
            " 0   Arrest_Year                      65276 non-null  int64  \n",
            " 1   Arrest_Month                     65276 non-null  object \n",
            " 2   EventID                          65276 non-null  int64  \n",
            " 3   ArrestID                         64807 non-null  float64\n",
            " 4   PersonID                         65276 non-null  int64  \n",
            " 5   Perceived_Race                   65272 non-null  object \n",
            " 6   Sex                              65276 non-null  object \n",
            " 7   Age_group__at_arrest_            65252 non-null  object \n",
            " 8   Youth_at_arrest__under_18_years  65276 non-null  object \n",
            " 9   ArrestLocDiv                     65276 non-null  object \n",
            " 10  StripSearch                      65276 non-null  int64  \n",
            " 11  Booked                           65276 non-null  int64  \n",
            " 12  Occurrence_Category              65111 non-null  object \n",
            " 13  Actions_at_arrest___Concealed_i  65276 non-null  int64  \n",
            " 14  Actions_at_arrest___Combative__  65276 non-null  int64  \n",
            " 15  Actions_at_arrest___Resisted__d  65276 non-null  int64  \n",
            " 16  Actions_at_arrest___Mental_inst  65276 non-null  int64  \n",
            " 17  Actions_at_arrest___Assaulted_o  65276 non-null  int64  \n",
            " 18  Actions_at_arrest___Cooperative  65276 non-null  int64  \n",
            " 19  SearchReason_CauseInjury         7801 non-null   float64\n",
            " 20  SearchReason_AssistEscape        7801 non-null   float64\n",
            " 21  SearchReason_PossessWeapons      7801 non-null   float64\n",
            " 22  SearchReason_PossessEvidence     7801 non-null   float64\n",
            " 23  ItemsFound                       7801 non-null   float64\n",
            " 24  ObjectId                         65276 non-null  int64  \n",
            "dtypes: float64(6), int64(12), object(7)\n",
            "memory usage: 12.5+ MB\n"
          ]
        }
      ]
    },
    {
      "cell_type": "code",
      "source": [
        "# checking for null values in the original dataset\n",
        "df.isnull().sum()"
      ],
      "metadata": {
        "colab": {
          "base_uri": "https://localhost:8080/"
        },
        "id": "hhaGRRbDKaEA",
        "outputId": "ce0e8f32-91a6-49e2-c4d1-0269270be89f"
      },
      "execution_count": null,
      "outputs": [
        {
          "output_type": "execute_result",
          "data": {
            "text/plain": [
              "Arrest_Year                            0\n",
              "Arrest_Month                           0\n",
              "EventID                                0\n",
              "ArrestID                             469\n",
              "PersonID                               0\n",
              "Perceived_Race                         4\n",
              "Sex                                    0\n",
              "Age_group__at_arrest_                 24\n",
              "Youth_at_arrest__under_18_years        0\n",
              "ArrestLocDiv                           0\n",
              "StripSearch                            0\n",
              "Booked                                 0\n",
              "Occurrence_Category                  165\n",
              "Actions_at_arrest___Concealed_i        0\n",
              "Actions_at_arrest___Combative__        0\n",
              "Actions_at_arrest___Resisted__d        0\n",
              "Actions_at_arrest___Mental_inst        0\n",
              "Actions_at_arrest___Assaulted_o        0\n",
              "Actions_at_arrest___Cooperative        0\n",
              "SearchReason_CauseInjury           57475\n",
              "SearchReason_AssistEscape          57475\n",
              "SearchReason_PossessWeapons        57475\n",
              "SearchReason_PossessEvidence       57475\n",
              "ItemsFound                         57475\n",
              "ObjectId                               0\n",
              "dtype: int64"
            ]
          },
          "metadata": {},
          "execution_count": 79
        }
      ]
    },
    {
      "cell_type": "code",
      "source": [
        "# preliminary analysis\n",
        "# duplicate values in tpd\n",
        "df.duplicated().sum()"
      ],
      "metadata": {
        "colab": {
          "base_uri": "https://localhost:8080/"
        },
        "id": "L6VQwXUzKhXS",
        "outputId": "7d928210-9070-4288-d653-82b8d6fad06e"
      },
      "execution_count": null,
      "outputs": [
        {
          "output_type": "execute_result",
          "data": {
            "text/plain": [
              "0"
            ]
          },
          "metadata": {},
          "execution_count": 80
        }
      ]
    },
    {
      "cell_type": "code",
      "source": [
        "# model features' dataset\n",
        "dfd = pd.DataFrame(df)\n",
        "dfd = dfd[['Perceived_Race', 'Sex', 'ArrestLocDiv', 'Occurrence_Category','StripSearch' ]]\n",
        "tpd = dfd\n",
        "tpd"
      ],
      "metadata": {
        "colab": {
          "base_uri": "https://localhost:8080/",
          "height": 468
        },
        "id": "hu5QnlB7bCmj",
        "outputId": "22fa641d-40d3-4dc2-96f4-1b61a280c94f"
      },
      "execution_count": null,
      "outputs": [
        {
          "output_type": "execute_result",
          "data": {
            "text/plain": [
              "          Perceived_Race Sex ArrestLocDiv  \\\n",
              "0                  White   M           54   \n",
              "1                  White   M           54   \n",
              "2      Unknown or Legacy   M           54   \n",
              "3                  Black   M           XX   \n",
              "4            South Asian   M           XX   \n",
              "...                  ...  ..          ...   \n",
              "65271         Indigenous   F           XX   \n",
              "65272        South Asian   M           54   \n",
              "65273              White   F           XX   \n",
              "65274  Unknown or Legacy   M           XX   \n",
              "65275             Latino   M           XX   \n",
              "\n",
              "                          Occurrence_Category  StripSearch  \n",
              "0      Assault & Other crimes against persons            0  \n",
              "1      Assault & Other crimes against persons            0  \n",
              "2      Assault & Other crimes against persons            0  \n",
              "3                      Harassment/Threatening            0  \n",
              "4           FTA/FTC/Compliance Check/Parollee            0  \n",
              "...                                       ...          ...  \n",
              "65271                         Vehicle Related            0  \n",
              "65272                                 Assault            0  \n",
              "65273                                 Assault            0  \n",
              "65274                           Robbery/Theft            0  \n",
              "65275                                Mischief            0  \n",
              "\n",
              "[65276 rows x 5 columns]"
            ],
            "text/html": [
              "\n",
              "  <div id=\"df-55957c2d-6627-4c3b-ad68-4f3f67162e20\">\n",
              "    <div class=\"colab-df-container\">\n",
              "      <div>\n",
              "<style scoped>\n",
              "    .dataframe tbody tr th:only-of-type {\n",
              "        vertical-align: middle;\n",
              "    }\n",
              "\n",
              "    .dataframe tbody tr th {\n",
              "        vertical-align: top;\n",
              "    }\n",
              "\n",
              "    .dataframe thead th {\n",
              "        text-align: right;\n",
              "    }\n",
              "</style>\n",
              "<table border=\"1\" class=\"dataframe\">\n",
              "  <thead>\n",
              "    <tr style=\"text-align: right;\">\n",
              "      <th></th>\n",
              "      <th>Perceived_Race</th>\n",
              "      <th>Sex</th>\n",
              "      <th>ArrestLocDiv</th>\n",
              "      <th>Occurrence_Category</th>\n",
              "      <th>StripSearch</th>\n",
              "    </tr>\n",
              "  </thead>\n",
              "  <tbody>\n",
              "    <tr>\n",
              "      <th>0</th>\n",
              "      <td>White</td>\n",
              "      <td>M</td>\n",
              "      <td>54</td>\n",
              "      <td>Assault &amp; Other crimes against persons</td>\n",
              "      <td>0</td>\n",
              "    </tr>\n",
              "    <tr>\n",
              "      <th>1</th>\n",
              "      <td>White</td>\n",
              "      <td>M</td>\n",
              "      <td>54</td>\n",
              "      <td>Assault &amp; Other crimes against persons</td>\n",
              "      <td>0</td>\n",
              "    </tr>\n",
              "    <tr>\n",
              "      <th>2</th>\n",
              "      <td>Unknown or Legacy</td>\n",
              "      <td>M</td>\n",
              "      <td>54</td>\n",
              "      <td>Assault &amp; Other crimes against persons</td>\n",
              "      <td>0</td>\n",
              "    </tr>\n",
              "    <tr>\n",
              "      <th>3</th>\n",
              "      <td>Black</td>\n",
              "      <td>M</td>\n",
              "      <td>XX</td>\n",
              "      <td>Harassment/Threatening</td>\n",
              "      <td>0</td>\n",
              "    </tr>\n",
              "    <tr>\n",
              "      <th>4</th>\n",
              "      <td>South Asian</td>\n",
              "      <td>M</td>\n",
              "      <td>XX</td>\n",
              "      <td>FTA/FTC/Compliance Check/Parollee</td>\n",
              "      <td>0</td>\n",
              "    </tr>\n",
              "    <tr>\n",
              "      <th>...</th>\n",
              "      <td>...</td>\n",
              "      <td>...</td>\n",
              "      <td>...</td>\n",
              "      <td>...</td>\n",
              "      <td>...</td>\n",
              "    </tr>\n",
              "    <tr>\n",
              "      <th>65271</th>\n",
              "      <td>Indigenous</td>\n",
              "      <td>F</td>\n",
              "      <td>XX</td>\n",
              "      <td>Vehicle Related</td>\n",
              "      <td>0</td>\n",
              "    </tr>\n",
              "    <tr>\n",
              "      <th>65272</th>\n",
              "      <td>South Asian</td>\n",
              "      <td>M</td>\n",
              "      <td>54</td>\n",
              "      <td>Assault</td>\n",
              "      <td>0</td>\n",
              "    </tr>\n",
              "    <tr>\n",
              "      <th>65273</th>\n",
              "      <td>White</td>\n",
              "      <td>F</td>\n",
              "      <td>XX</td>\n",
              "      <td>Assault</td>\n",
              "      <td>0</td>\n",
              "    </tr>\n",
              "    <tr>\n",
              "      <th>65274</th>\n",
              "      <td>Unknown or Legacy</td>\n",
              "      <td>M</td>\n",
              "      <td>XX</td>\n",
              "      <td>Robbery/Theft</td>\n",
              "      <td>0</td>\n",
              "    </tr>\n",
              "    <tr>\n",
              "      <th>65275</th>\n",
              "      <td>Latino</td>\n",
              "      <td>M</td>\n",
              "      <td>XX</td>\n",
              "      <td>Mischief</td>\n",
              "      <td>0</td>\n",
              "    </tr>\n",
              "  </tbody>\n",
              "</table>\n",
              "<p>65276 rows × 5 columns</p>\n",
              "</div>\n",
              "      <button class=\"colab-df-convert\" onclick=\"convertToInteractive('df-55957c2d-6627-4c3b-ad68-4f3f67162e20')\"\n",
              "              title=\"Convert this dataframe to an interactive table.\"\n",
              "              style=\"display:none;\">\n",
              "        \n",
              "  <svg xmlns=\"http://www.w3.org/2000/svg\" height=\"24px\"viewBox=\"0 0 24 24\"\n",
              "       width=\"24px\">\n",
              "    <path d=\"M0 0h24v24H0V0z\" fill=\"none\"/>\n",
              "    <path d=\"M18.56 5.44l.94 2.06.94-2.06 2.06-.94-2.06-.94-.94-2.06-.94 2.06-2.06.94zm-11 1L8.5 8.5l.94-2.06 2.06-.94-2.06-.94L8.5 2.5l-.94 2.06-2.06.94zm10 10l.94 2.06.94-2.06 2.06-.94-2.06-.94-.94-2.06-.94 2.06-2.06.94z\"/><path d=\"M17.41 7.96l-1.37-1.37c-.4-.4-.92-.59-1.43-.59-.52 0-1.04.2-1.43.59L10.3 9.45l-7.72 7.72c-.78.78-.78 2.05 0 2.83L4 21.41c.39.39.9.59 1.41.59.51 0 1.02-.2 1.41-.59l7.78-7.78 2.81-2.81c.8-.78.8-2.07 0-2.86zM5.41 20L4 18.59l7.72-7.72 1.47 1.35L5.41 20z\"/>\n",
              "  </svg>\n",
              "      </button>\n",
              "      \n",
              "  <style>\n",
              "    .colab-df-container {\n",
              "      display:flex;\n",
              "      flex-wrap:wrap;\n",
              "      gap: 12px;\n",
              "    }\n",
              "\n",
              "    .colab-df-convert {\n",
              "      background-color: #E8F0FE;\n",
              "      border: none;\n",
              "      border-radius: 50%;\n",
              "      cursor: pointer;\n",
              "      display: none;\n",
              "      fill: #1967D2;\n",
              "      height: 32px;\n",
              "      padding: 0 0 0 0;\n",
              "      width: 32px;\n",
              "    }\n",
              "\n",
              "    .colab-df-convert:hover {\n",
              "      background-color: #E2EBFA;\n",
              "      box-shadow: 0px 1px 2px rgba(60, 64, 67, 0.3), 0px 1px 3px 1px rgba(60, 64, 67, 0.15);\n",
              "      fill: #174EA6;\n",
              "    }\n",
              "\n",
              "    [theme=dark] .colab-df-convert {\n",
              "      background-color: #3B4455;\n",
              "      fill: #D2E3FC;\n",
              "    }\n",
              "\n",
              "    [theme=dark] .colab-df-convert:hover {\n",
              "      background-color: #434B5C;\n",
              "      box-shadow: 0px 1px 3px 1px rgba(0, 0, 0, 0.15);\n",
              "      filter: drop-shadow(0px 1px 2px rgba(0, 0, 0, 0.3));\n",
              "      fill: #FFFFFF;\n",
              "    }\n",
              "  </style>\n",
              "\n",
              "      <script>\n",
              "        const buttonEl =\n",
              "          document.querySelector('#df-55957c2d-6627-4c3b-ad68-4f3f67162e20 button.colab-df-convert');\n",
              "        buttonEl.style.display =\n",
              "          google.colab.kernel.accessAllowed ? 'block' : 'none';\n",
              "\n",
              "        async function convertToInteractive(key) {\n",
              "          const element = document.querySelector('#df-55957c2d-6627-4c3b-ad68-4f3f67162e20');\n",
              "          const dataTable =\n",
              "            await google.colab.kernel.invokeFunction('convertToInteractive',\n",
              "                                                     [key], {});\n",
              "          if (!dataTable) return;\n",
              "\n",
              "          const docLinkHtml = 'Like what you see? Visit the ' +\n",
              "            '<a target=\"_blank\" href=https://colab.research.google.com/notebooks/data_table.ipynb>data table notebook</a>'\n",
              "            + ' to learn more about interactive tables.';\n",
              "          element.innerHTML = '';\n",
              "          dataTable['output_type'] = 'display_data';\n",
              "          await google.colab.output.renderOutput(dataTable, element);\n",
              "          const docLink = document.createElement('div');\n",
              "          docLink.innerHTML = docLinkHtml;\n",
              "          element.appendChild(docLink);\n",
              "        }\n",
              "      </script>\n",
              "    </div>\n",
              "  </div>\n",
              "  "
            ]
          },
          "metadata": {},
          "execution_count": 81
        }
      ]
    },
    {
      "cell_type": "code",
      "source": [
        "#Check unique values of each variable feature\n",
        "tpd.Perceived_Race.unique()"
      ],
      "metadata": {
        "colab": {
          "base_uri": "https://localhost:8080/"
        },
        "id": "cZWooZMtbK10",
        "outputId": "431dbf5c-35bf-427a-a9ab-ffebc8ad6285"
      },
      "execution_count": null,
      "outputs": [
        {
          "output_type": "execute_result",
          "data": {
            "text/plain": [
              "array(['White', 'Unknown or Legacy', 'Black', 'South Asian', 'Indigenous',\n",
              "       'Middle-Eastern', 'Latino', 'East/Southeast Asian', nan],\n",
              "      dtype=object)"
            ]
          },
          "metadata": {},
          "execution_count": 82
        }
      ]
    },
    {
      "cell_type": "code",
      "source": [
        "# check null values\n",
        "tpd.Perceived_Race.isnull().sum()"
      ],
      "metadata": {
        "colab": {
          "base_uri": "https://localhost:8080/"
        },
        "id": "fij83N_0bNf2",
        "outputId": "a1f729f9-bda4-4e3a-a184-ef2d972abfa4"
      },
      "execution_count": null,
      "outputs": [
        {
          "output_type": "execute_result",
          "data": {
            "text/plain": [
              "4"
            ]
          },
          "metadata": {},
          "execution_count": 83
        }
      ]
    },
    {
      "cell_type": "code",
      "source": [
        "# drop rows with missing values in Perceived_Race\n",
        "tpd = tpd[~tpd.Perceived_Race.isnull()].copy()\n",
        "\n",
        "tpd.Perceived_Race.isnull().sum()\n",
        "\n",
        "#tpd.isnull().sum()"
      ],
      "metadata": {
        "colab": {
          "base_uri": "https://localhost:8080/"
        },
        "id": "pBM0LaQhbR3R",
        "outputId": "a722c018-0dc2-46ae-ea9e-76aa5348e0f8"
      },
      "execution_count": null,
      "outputs": [
        {
          "output_type": "execute_result",
          "data": {
            "text/plain": [
              "0"
            ]
          },
          "metadata": {},
          "execution_count": 84
        }
      ]
    },
    {
      "cell_type": "code",
      "source": [
        "# check distribution of values\n",
        "tpd.Perceived_Race.value_counts()"
      ],
      "metadata": {
        "colab": {
          "base_uri": "https://localhost:8080/"
        },
        "id": "iMWqYjlGbhkc",
        "outputId": "c187e606-6e2a-4614-8223-c72870f97e8a"
      },
      "execution_count": null,
      "outputs": [
        {
          "output_type": "execute_result",
          "data": {
            "text/plain": [
              "White                   27723\n",
              "Black                   17526\n",
              "Unknown or Legacy        5056\n",
              "East/Southeast Asian     4415\n",
              "South Asian              3613\n",
              "Middle-Eastern           3237\n",
              "Indigenous               1934\n",
              "Latino                   1768\n",
              "Name: Perceived_Race, dtype: int64"
            ]
          },
          "metadata": {},
          "execution_count": 85
        }
      ]
    },
    {
      "cell_type": "code",
      "source": [
        "#tpd['Perceived_Race'] = pd.factorize(tpd['Perceived_Race'])[0]"
      ],
      "metadata": {
        "id": "KB9Lah1hbnLT"
      },
      "execution_count": null,
      "outputs": []
    },
    {
      "cell_type": "code",
      "source": [
        "# calculate percentage of Perceived_Race\n",
        "tpd.Perceived_Race.value_counts(normalize=True)"
      ],
      "metadata": {
        "colab": {
          "base_uri": "https://localhost:8080/"
        },
        "id": "yB3ENk64bpYu",
        "outputId": "4e10cce4-d21c-4b7d-eef1-818e16bfb9ed"
      },
      "execution_count": null,
      "outputs": [
        {
          "output_type": "execute_result",
          "data": {
            "text/plain": [
              "White                   0.424730\n",
              "Black                   0.268507\n",
              "Unknown or Legacy       0.077460\n",
              "East/Southeast Asian    0.067640\n",
              "South Asian             0.055353\n",
              "Middle-Eastern          0.049592\n",
              "Indigenous              0.029630\n",
              "Latino                  0.027087\n",
              "Name: Perceived_Race, dtype: float64"
            ]
          },
          "metadata": {},
          "execution_count": 87
        }
      ]
    },
    {
      "cell_type": "code",
      "source": [
        "# Change ArrestLocDiv datatype to int:\n",
        "# step1: check for unique value types\n",
        "tpd.ArrestLocDiv.unique()"
      ],
      "metadata": {
        "colab": {
          "base_uri": "https://localhost:8080/"
        },
        "id": "Ayxxc9AnbraK",
        "outputId": "8990157e-fba9-41c3-c1da-daf97a158849"
      },
      "execution_count": null,
      "outputs": [
        {
          "output_type": "execute_result",
          "data": {
            "text/plain": [
              "array(['54', 'XX', '42', '52', '14', '51', '53', '31', '11', '12', '13',\n",
              "       '41', '22', '55', '43', '23', '33', '32'], dtype=object)"
            ]
          },
          "metadata": {},
          "execution_count": 88
        }
      ]
    },
    {
      "cell_type": "code",
      "source": [
        "# step 2: check for number of values in each type of ArrestLocDiv \n",
        "tpd.ArrestLocDiv.value_counts()"
      ],
      "metadata": {
        "colab": {
          "base_uri": "https://localhost:8080/"
        },
        "id": "f6rgUfV-btQp",
        "outputId": "183420d4-0cfd-41b8-ab17-50a31e03dd18"
      },
      "execution_count": null,
      "outputs": [
        {
          "output_type": "execute_result",
          "data": {
            "text/plain": [
              "XX    29643\n",
              "51     5025\n",
              "14     3117\n",
              "41     2640\n",
              "43     2607\n",
              "52     2340\n",
              "31     2266\n",
              "32     2088\n",
              "12     1902\n",
              "22     1849\n",
              "42     1846\n",
              "11     1789\n",
              "23     1738\n",
              "55     1552\n",
              "54     1437\n",
              "53     1376\n",
              "13     1102\n",
              "33      955\n",
              "Name: ArrestLocDiv, dtype: int64"
            ]
          },
          "metadata": {},
          "execution_count": 89
        }
      ]
    },
    {
      "cell_type": "code",
      "source": [
        "tpd.ArrestLocDiv.isnull().sum()"
      ],
      "metadata": {
        "colab": {
          "base_uri": "https://localhost:8080/"
        },
        "id": "Zg_S6UA3byrt",
        "outputId": "9b8506ef-5ab0-42f0-956d-bf3a4a30b4f4"
      },
      "execution_count": null,
      "outputs": [
        {
          "output_type": "execute_result",
          "data": {
            "text/plain": [
              "0"
            ]
          },
          "metadata": {},
          "execution_count": 90
        }
      ]
    },
    {
      "cell_type": "code",
      "source": [
        "# step 3: factorize ArrestLocDiv to change from object to int (XX to a numeric value)\n",
        "tpd['ArrestLocDiv'] = pd.factorize(tpd['ArrestLocDiv'])[0]"
      ],
      "metadata": {
        "id": "gYY_QBpRbz28"
      },
      "execution_count": null,
      "outputs": []
    },
    {
      "cell_type": "code",
      "source": [
        "tpd.ArrestLocDiv.unique()"
      ],
      "metadata": {
        "colab": {
          "base_uri": "https://localhost:8080/"
        },
        "id": "wVsJRVEeb4JM",
        "outputId": "e316d30c-4156-422c-c48c-30a5e8f8fc7f"
      },
      "execution_count": null,
      "outputs": [
        {
          "output_type": "execute_result",
          "data": {
            "text/plain": [
              "array([ 0,  1,  2,  3,  4,  5,  6,  7,  8,  9, 10, 11, 12, 13, 14, 15, 16,\n",
              "       17])"
            ]
          },
          "metadata": {},
          "execution_count": 92
        }
      ]
    },
    {
      "cell_type": "code",
      "source": [
        "# step 4: check if XX is changed to numeric value\n",
        "tpd.ArrestLocDiv.value_counts()"
      ],
      "metadata": {
        "colab": {
          "base_uri": "https://localhost:8080/"
        },
        "id": "gNT3l9Nbb5_H",
        "outputId": "67d0e023-4106-4b77-b0a0-5b4557c34e92"
      },
      "execution_count": null,
      "outputs": [
        {
          "output_type": "execute_result",
          "data": {
            "text/plain": [
              "1     29643\n",
              "5      5025\n",
              "4      3117\n",
              "11     2640\n",
              "14     2607\n",
              "3      2340\n",
              "7      2266\n",
              "17     2088\n",
              "9      1902\n",
              "12     1849\n",
              "2      1846\n",
              "8      1789\n",
              "15     1738\n",
              "13     1552\n",
              "0      1437\n",
              "6      1376\n",
              "10     1102\n",
              "16      955\n",
              "Name: ArrestLocDiv, dtype: int64"
            ]
          },
          "metadata": {},
          "execution_count": 93
        }
      ]
    },
    {
      "cell_type": "code",
      "source": [
        "# check for unique categories\n",
        "tpd.Occurrence_Category.unique()"
      ],
      "metadata": {
        "colab": {
          "base_uri": "https://localhost:8080/"
        },
        "id": "h9EnWtamb7NA",
        "outputId": "34b3fb9b-2e65-4848-9f53-3c4a59c2eb44"
      },
      "execution_count": null,
      "outputs": [
        {
          "output_type": "execute_result",
          "data": {
            "text/plain": [
              "array(['Assault & Other crimes against persons', 'Harassment/Threatening',\n",
              "       'FTA/FTC/Compliance Check/Parollee', 'Assault', 'Robbery/Theft',\n",
              "       'Sexual Related Crime', 'Mischief & Fraud', 'Warrant',\n",
              "       'Police Category - Administrative', 'Robbery & Theft',\n",
              "       'FTA/FTC, Compliance Check & Parollee', 'Drug Related', 'Weapons',\n",
              "       'Vehicle Related (inc. Impaired)', 'Other Offence',\n",
              "       'Harassment & Threatening', 'Weapons & Homicide',\n",
              "       'Break and Enter', 'Mischief', 'Break & Enter',\n",
              "       'Sexual Related Crimes & Crimes Against Children',\n",
              "       'Crimes against Children', 'Police Category - Incident', 'Fraud',\n",
              "       'LLA', 'Mental Health', 'Other Statute', 'Vehicle Related',\n",
              "       'Other Statute & Other Incident Type', 'Impaired', 'Homicide', nan],\n",
              "      dtype=object)"
            ]
          },
          "metadata": {},
          "execution_count": 94
        }
      ]
    },
    {
      "cell_type": "code",
      "source": [
        "tpd.Occurrence_Category.value_counts()"
      ],
      "metadata": {
        "colab": {
          "base_uri": "https://localhost:8080/"
        },
        "id": "lxprAHtfb-z-",
        "outputId": "1340f62c-53bd-4e36-a2d6-501786689008"
      },
      "execution_count": null,
      "outputs": [
        {
          "output_type": "execute_result",
          "data": {
            "text/plain": [
              "Assault                                            7726\n",
              "Assault & Other crimes against persons             7235\n",
              "Robbery & Theft                                    4580\n",
              "Warrant                                            4384\n",
              "FTA/FTC/Compliance Check/Parollee                  4246\n",
              "Police Category - Administrative                   3888\n",
              "FTA/FTC, Compliance Check & Parollee               3877\n",
              "Robbery/Theft                                      3753\n",
              "Drug Related                                       2751\n",
              "Other Statute & Other Incident Type                2344\n",
              "Vehicle Related (inc. Impaired)                    1977\n",
              "Other Offence                                      1972\n",
              "Mischief & Fraud                                   1731\n",
              "Impaired                                           1362\n",
              "Harassment/Threatening                             1346\n",
              "Mischief                                           1322\n",
              "Harassment & Threatening                           1268\n",
              "Weapons                                            1108\n",
              "Weapons & Homicide                                 1105\n",
              "Other Statute                                       944\n",
              "Break & Enter                                       916\n",
              "Break and Enter                                     867\n",
              "Sexual Related Crime                                839\n",
              "Sexual Related Crimes & Crimes Against Children     793\n",
              "Vehicle Related                                     768\n",
              "LLA                                                 586\n",
              "Police Category - Incident                          564\n",
              "Fraud                                               474\n",
              "Mental Health                                       239\n",
              "Homicide                                             73\n",
              "Crimes against Children                              69\n",
              "Name: Occurrence_Category, dtype: int64"
            ]
          },
          "metadata": {},
          "execution_count": 95
        }
      ]
    },
    {
      "cell_type": "code",
      "source": [
        "tpd = tpd[~tpd.Occurrence_Category.isnull()].copy()\n",
        "tpd.Occurrence_Category.isnull().sum()"
      ],
      "metadata": {
        "colab": {
          "base_uri": "https://localhost:8080/"
        },
        "id": "JY8bP_pNb-9E",
        "outputId": "cc2840ff-6059-42db-b0ec-1833540ff172"
      },
      "execution_count": null,
      "outputs": [
        {
          "output_type": "execute_result",
          "data": {
            "text/plain": [
              "0"
            ]
          },
          "metadata": {},
          "execution_count": 96
        }
      ]
    },
    {
      "cell_type": "code",
      "source": [
        "tpd.StripSearch.unique()"
      ],
      "metadata": {
        "colab": {
          "base_uri": "https://localhost:8080/"
        },
        "id": "M8eEP50pcEVo",
        "outputId": "c256def3-fe11-4e3d-8ac7-0df7415ee5f3"
      },
      "execution_count": null,
      "outputs": [
        {
          "output_type": "execute_result",
          "data": {
            "text/plain": [
              "array([0, 1])"
            ]
          },
          "metadata": {},
          "execution_count": 97
        }
      ]
    },
    {
      "cell_type": "code",
      "source": [
        "#number of values of StripSearch\n",
        "tpd.StripSearch.value_counts()"
      ],
      "metadata": {
        "colab": {
          "base_uri": "https://localhost:8080/"
        },
        "id": "XmmSOqKKcFQm",
        "outputId": "66dabf57-38fb-483d-df62-34bad1006422"
      },
      "execution_count": null,
      "outputs": [
        {
          "output_type": "execute_result",
          "data": {
            "text/plain": [
              "0    57308\n",
              "1     7799\n",
              "Name: StripSearch, dtype: int64"
            ]
          },
          "metadata": {},
          "execution_count": 98
        }
      ]
    },
    {
      "cell_type": "code",
      "source": [
        "# calculate percentage of StripSearch\n",
        "tpd.StripSearch.value_counts(normalize=True)"
      ],
      "metadata": {
        "colab": {
          "base_uri": "https://localhost:8080/"
        },
        "id": "PQjGj5n5cIv7",
        "outputId": "5cc43bba-43e4-4f2b-e7fa-001eb6a76c36"
      },
      "execution_count": null,
      "outputs": [
        {
          "output_type": "execute_result",
          "data": {
            "text/plain": [
              "0    0.880213\n",
              "1    0.119787\n",
              "Name: StripSearch, dtype: float64"
            ]
          },
          "metadata": {},
          "execution_count": 99
        }
      ]
    },
    {
      "cell_type": "code",
      "source": [
        "tpd.StripSearch.isnull().sum()"
      ],
      "metadata": {
        "colab": {
          "base_uri": "https://localhost:8080/"
        },
        "id": "PEqQRSVdcJrA",
        "outputId": "9a0b503f-ae0d-449e-b68e-9f3bed516155"
      },
      "execution_count": null,
      "outputs": [
        {
          "output_type": "execute_result",
          "data": {
            "text/plain": [
              "0"
            ]
          },
          "metadata": {},
          "execution_count": 100
        }
      ]
    },
    {
      "cell_type": "code",
      "source": [
        "# check unique Sex categories\n",
        "tpd.Sex.unique()"
      ],
      "metadata": {
        "colab": {
          "base_uri": "https://localhost:8080/"
        },
        "id": "4--e4D8ScLW1",
        "outputId": "0253491a-93a2-4c10-9733-7607d337a58d"
      },
      "execution_count": null,
      "outputs": [
        {
          "output_type": "execute_result",
          "data": {
            "text/plain": [
              "array(['M', 'F', 'U'], dtype=object)"
            ]
          },
          "metadata": {},
          "execution_count": 101
        }
      ]
    },
    {
      "cell_type": "code",
      "source": [
        "tpd['Sex'] = pd.factorize(tpd['Sex'])[0]"
      ],
      "metadata": {
        "id": "eouyX1vOcPFo"
      },
      "execution_count": null,
      "outputs": []
    },
    {
      "cell_type": "code",
      "source": [
        "#number of values of Sex in each category\n",
        "tpd.Sex.value_counts()"
      ],
      "metadata": {
        "colab": {
          "base_uri": "https://localhost:8080/"
        },
        "id": "i3nCjgPvcQwp",
        "outputId": "c690007d-b156-4ac3-90f4-d8a309e4a36b"
      },
      "execution_count": null,
      "outputs": [
        {
          "output_type": "execute_result",
          "data": {
            "text/plain": [
              "0    52515\n",
              "1    12583\n",
              "2        9\n",
              "Name: Sex, dtype: int64"
            ]
          },
          "metadata": {},
          "execution_count": 103
        }
      ]
    },
    {
      "cell_type": "code",
      "source": [
        "# calculate percentage of Sex in each category\n",
        "tpd.Sex.value_counts(normalize=True)"
      ],
      "metadata": {
        "colab": {
          "base_uri": "https://localhost:8080/"
        },
        "id": "7Lms2tAgccNf",
        "outputId": "56e33d3c-8d6d-46fe-f88b-eaeb030d80b1"
      },
      "execution_count": null,
      "outputs": [
        {
          "output_type": "execute_result",
          "data": {
            "text/plain": [
              "0    0.806595\n",
              "1    0.193266\n",
              "2    0.000138\n",
              "Name: Sex, dtype: float64"
            ]
          },
          "metadata": {},
          "execution_count": 104
        }
      ]
    },
    {
      "cell_type": "code",
      "source": [
        "#check changed datatypes for ArrestLocDiv and Occurrence_Category\n",
        "tpd.dtypes"
      ],
      "metadata": {
        "colab": {
          "base_uri": "https://localhost:8080/"
        },
        "id": "5Bsmczq_cerz",
        "outputId": "ac90caf4-37d7-4df4-e4ef-e4bc68e7ac55"
      },
      "execution_count": null,
      "outputs": [
        {
          "output_type": "execute_result",
          "data": {
            "text/plain": [
              "Perceived_Race         object\n",
              "Sex                     int64\n",
              "ArrestLocDiv            int64\n",
              "Occurrence_Category    object\n",
              "StripSearch             int64\n",
              "dtype: object"
            ]
          },
          "metadata": {},
          "execution_count": 105
        }
      ]
    },
    {
      "cell_type": "code",
      "source": [
        "# desctiptive statistics of tpd\n",
        "tpd.describe()"
      ],
      "metadata": {
        "colab": {
          "base_uri": "https://localhost:8080/",
          "height": 300
        },
        "id": "wZ2Nl5ZHcg9I",
        "outputId": "71723945-6bae-40c7-b2b0-5484627aa717"
      },
      "execution_count": null,
      "outputs": [
        {
          "output_type": "execute_result",
          "data": {
            "text/plain": [
              "                Sex  ArrestLocDiv   StripSearch\n",
              "count  65107.000000  65107.000000  65107.000000\n",
              "mean       0.193543      5.051700      0.119787\n",
              "std        0.395428      5.119414      0.324715\n",
              "min        0.000000      0.000000      0.000000\n",
              "25%        0.000000      1.000000      0.000000\n",
              "50%        0.000000      2.000000      0.000000\n",
              "75%        0.000000      9.000000      0.000000\n",
              "max        2.000000     17.000000      1.000000"
            ],
            "text/html": [
              "\n",
              "  <div id=\"df-52e1132c-1d3f-44ac-bf69-44960eaac0b7\">\n",
              "    <div class=\"colab-df-container\">\n",
              "      <div>\n",
              "<style scoped>\n",
              "    .dataframe tbody tr th:only-of-type {\n",
              "        vertical-align: middle;\n",
              "    }\n",
              "\n",
              "    .dataframe tbody tr th {\n",
              "        vertical-align: top;\n",
              "    }\n",
              "\n",
              "    .dataframe thead th {\n",
              "        text-align: right;\n",
              "    }\n",
              "</style>\n",
              "<table border=\"1\" class=\"dataframe\">\n",
              "  <thead>\n",
              "    <tr style=\"text-align: right;\">\n",
              "      <th></th>\n",
              "      <th>Sex</th>\n",
              "      <th>ArrestLocDiv</th>\n",
              "      <th>StripSearch</th>\n",
              "    </tr>\n",
              "  </thead>\n",
              "  <tbody>\n",
              "    <tr>\n",
              "      <th>count</th>\n",
              "      <td>65107.000000</td>\n",
              "      <td>65107.000000</td>\n",
              "      <td>65107.000000</td>\n",
              "    </tr>\n",
              "    <tr>\n",
              "      <th>mean</th>\n",
              "      <td>0.193543</td>\n",
              "      <td>5.051700</td>\n",
              "      <td>0.119787</td>\n",
              "    </tr>\n",
              "    <tr>\n",
              "      <th>std</th>\n",
              "      <td>0.395428</td>\n",
              "      <td>5.119414</td>\n",
              "      <td>0.324715</td>\n",
              "    </tr>\n",
              "    <tr>\n",
              "      <th>min</th>\n",
              "      <td>0.000000</td>\n",
              "      <td>0.000000</td>\n",
              "      <td>0.000000</td>\n",
              "    </tr>\n",
              "    <tr>\n",
              "      <th>25%</th>\n",
              "      <td>0.000000</td>\n",
              "      <td>1.000000</td>\n",
              "      <td>0.000000</td>\n",
              "    </tr>\n",
              "    <tr>\n",
              "      <th>50%</th>\n",
              "      <td>0.000000</td>\n",
              "      <td>2.000000</td>\n",
              "      <td>0.000000</td>\n",
              "    </tr>\n",
              "    <tr>\n",
              "      <th>75%</th>\n",
              "      <td>0.000000</td>\n",
              "      <td>9.000000</td>\n",
              "      <td>0.000000</td>\n",
              "    </tr>\n",
              "    <tr>\n",
              "      <th>max</th>\n",
              "      <td>2.000000</td>\n",
              "      <td>17.000000</td>\n",
              "      <td>1.000000</td>\n",
              "    </tr>\n",
              "  </tbody>\n",
              "</table>\n",
              "</div>\n",
              "      <button class=\"colab-df-convert\" onclick=\"convertToInteractive('df-52e1132c-1d3f-44ac-bf69-44960eaac0b7')\"\n",
              "              title=\"Convert this dataframe to an interactive table.\"\n",
              "              style=\"display:none;\">\n",
              "        \n",
              "  <svg xmlns=\"http://www.w3.org/2000/svg\" height=\"24px\"viewBox=\"0 0 24 24\"\n",
              "       width=\"24px\">\n",
              "    <path d=\"M0 0h24v24H0V0z\" fill=\"none\"/>\n",
              "    <path d=\"M18.56 5.44l.94 2.06.94-2.06 2.06-.94-2.06-.94-.94-2.06-.94 2.06-2.06.94zm-11 1L8.5 8.5l.94-2.06 2.06-.94-2.06-.94L8.5 2.5l-.94 2.06-2.06.94zm10 10l.94 2.06.94-2.06 2.06-.94-2.06-.94-.94-2.06-.94 2.06-2.06.94z\"/><path d=\"M17.41 7.96l-1.37-1.37c-.4-.4-.92-.59-1.43-.59-.52 0-1.04.2-1.43.59L10.3 9.45l-7.72 7.72c-.78.78-.78 2.05 0 2.83L4 21.41c.39.39.9.59 1.41.59.51 0 1.02-.2 1.41-.59l7.78-7.78 2.81-2.81c.8-.78.8-2.07 0-2.86zM5.41 20L4 18.59l7.72-7.72 1.47 1.35L5.41 20z\"/>\n",
              "  </svg>\n",
              "      </button>\n",
              "      \n",
              "  <style>\n",
              "    .colab-df-container {\n",
              "      display:flex;\n",
              "      flex-wrap:wrap;\n",
              "      gap: 12px;\n",
              "    }\n",
              "\n",
              "    .colab-df-convert {\n",
              "      background-color: #E8F0FE;\n",
              "      border: none;\n",
              "      border-radius: 50%;\n",
              "      cursor: pointer;\n",
              "      display: none;\n",
              "      fill: #1967D2;\n",
              "      height: 32px;\n",
              "      padding: 0 0 0 0;\n",
              "      width: 32px;\n",
              "    }\n",
              "\n",
              "    .colab-df-convert:hover {\n",
              "      background-color: #E2EBFA;\n",
              "      box-shadow: 0px 1px 2px rgba(60, 64, 67, 0.3), 0px 1px 3px 1px rgba(60, 64, 67, 0.15);\n",
              "      fill: #174EA6;\n",
              "    }\n",
              "\n",
              "    [theme=dark] .colab-df-convert {\n",
              "      background-color: #3B4455;\n",
              "      fill: #D2E3FC;\n",
              "    }\n",
              "\n",
              "    [theme=dark] .colab-df-convert:hover {\n",
              "      background-color: #434B5C;\n",
              "      box-shadow: 0px 1px 3px 1px rgba(0, 0, 0, 0.15);\n",
              "      filter: drop-shadow(0px 1px 2px rgba(0, 0, 0, 0.3));\n",
              "      fill: #FFFFFF;\n",
              "    }\n",
              "  </style>\n",
              "\n",
              "      <script>\n",
              "        const buttonEl =\n",
              "          document.querySelector('#df-52e1132c-1d3f-44ac-bf69-44960eaac0b7 button.colab-df-convert');\n",
              "        buttonEl.style.display =\n",
              "          google.colab.kernel.accessAllowed ? 'block' : 'none';\n",
              "\n",
              "        async function convertToInteractive(key) {\n",
              "          const element = document.querySelector('#df-52e1132c-1d3f-44ac-bf69-44960eaac0b7');\n",
              "          const dataTable =\n",
              "            await google.colab.kernel.invokeFunction('convertToInteractive',\n",
              "                                                     [key], {});\n",
              "          if (!dataTable) return;\n",
              "\n",
              "          const docLinkHtml = 'Like what you see? Visit the ' +\n",
              "            '<a target=\"_blank\" href=https://colab.research.google.com/notebooks/data_table.ipynb>data table notebook</a>'\n",
              "            + ' to learn more about interactive tables.';\n",
              "          element.innerHTML = '';\n",
              "          dataTable['output_type'] = 'display_data';\n",
              "          await google.colab.output.renderOutput(dataTable, element);\n",
              "          const docLink = document.createElement('div');\n",
              "          docLink.innerHTML = docLinkHtml;\n",
              "          element.appendChild(docLink);\n",
              "        }\n",
              "      </script>\n",
              "    </div>\n",
              "  </div>\n",
              "  "
            ]
          },
          "metadata": {},
          "execution_count": 106
        }
      ]
    },
    {
      "cell_type": "code",
      "source": [
        "#calculate median, variance and mode\n",
        "tpd.Sex.median()"
      ],
      "metadata": {
        "colab": {
          "base_uri": "https://localhost:8080/"
        },
        "id": "Yo4bg-aOcjdB",
        "outputId": "2077ed17-05a7-4e6e-b9d1-44e78989603c"
      },
      "execution_count": null,
      "outputs": [
        {
          "output_type": "execute_result",
          "data": {
            "text/plain": [
              "0.0"
            ]
          },
          "metadata": {},
          "execution_count": 107
        }
      ]
    },
    {
      "cell_type": "code",
      "source": [
        "tpd.Perceived_Race.value_counts(normalize=True)"
      ],
      "metadata": {
        "colab": {
          "base_uri": "https://localhost:8080/"
        },
        "id": "2Y04TqiBclP2",
        "outputId": "7ee86422-b029-4266-80c1-f5d1a1d3e738"
      },
      "execution_count": null,
      "outputs": [
        {
          "output_type": "execute_result",
          "data": {
            "text/plain": [
              "White                   0.424609\n",
              "Black                   0.268712\n",
              "Unknown or Legacy       0.077488\n",
              "East/Southeast Asian    0.067658\n",
              "South Asian             0.055340\n",
              "Middle-Eastern          0.049565\n",
              "Indigenous              0.029613\n",
              "Latino                  0.027017\n",
              "Name: Perceived_Race, dtype: float64"
            ]
          },
          "metadata": {},
          "execution_count": 108
        }
      ]
    },
    {
      "cell_type": "code",
      "source": [
        "tpd.Occurrence_Category.value_counts().plot.barh()\n",
        "plt.show()"
      ],
      "metadata": {
        "colab": {
          "base_uri": "https://localhost:8080/",
          "height": 308
        },
        "id": "7dS0CYKQcn6i",
        "outputId": "583bbfde-b428-4765-fece-9e20cded1a8e"
      },
      "execution_count": null,
      "outputs": [
        {
          "output_type": "display_data",
          "data": {
            "text/plain": [
              "<Figure size 1200x600 with 1 Axes>"
            ],
            "image/png": "[encoded data removed]"
          },
          "metadata": {}
        }
      ]
    },
    {
      "cell_type": "code",
      "source": [
        "plt.scatter(tpd.Sex,tpd.StripSearch)\n",
        "plt.show()"
      ],
      "metadata": {
        "colab": {
          "base_uri": "https://localhost:8080/",
          "height": 405
        },
        "id": "qtku9_Mdcqde",
        "outputId": "c74d72e3-1b26-4307-e934-b4ab73871160"
      },
      "execution_count": null,
      "outputs": [
        {
          "output_type": "display_data",
          "data": {
            "text/plain": [
              "<Figure size 1200x600 with 1 Axes>"
            ],
            "image/png": "[encoded data removed]"
          },
          "metadata": {}
        }
      ]
    },
    {
      "cell_type": "code",
      "source": [],
      "metadata": {
        "id": "5zNgw_hGct7X"
      },
      "execution_count": null,
      "outputs": []
    },
    {
      "cell_type": "code",
      "source": [
        "tpd.plot.hist(x = \"Sex\", y = \"ArrestLocDiv\")\n",
        "plt.show()"
      ],
      "metadata": {
        "colab": {
          "base_uri": "https://localhost:8080/",
          "height": 326
        },
        "id": "qnFRLJc9cwpF",
        "outputId": "f1e1093b-9c1d-42d7-ad4b-f6502f3b84d9"
      },
      "execution_count": null,
      "outputs": [
        {
          "output_type": "display_data",
          "data": {
            "text/plain": [
              "<Figure size 1200x600 with 1 Axes>"
            ],
            "image/png": "[encoded data removed]"
          },
          "metadata": {}
        }
      ]
    },
    {
      "cell_type": "code",
      "source": [],
      "metadata": {
        "id": "otrOZEiacy17"
      },
      "execution_count": null,
      "outputs": []
    },
    {
      "cell_type": "code",
      "source": [],
      "metadata": {
        "id": "o5V8siZm9Efv"
      },
      "execution_count": null,
      "outputs": []
    },
    {
      "cell_type": "code",
      "source": [
        "tpd[['ArrestLocDiv', 'StripSearch', 'Sex']].corr()"
      ],
      "metadata": {
        "colab": {
          "base_uri": "https://localhost:8080/",
          "height": 143
        },
        "id": "qejaiN62c19b",
        "outputId": "0dc55c9e-a92c-45ac-ccce-9fdf663dc7fb"
      },
      "execution_count": null,
      "outputs": [
        {
          "output_type": "execute_result",
          "data": {
            "text/plain": [
              "              ArrestLocDiv  StripSearch       Sex\n",
              "ArrestLocDiv      1.000000     0.085594 -0.044579\n",
              "StripSearch       0.085594     1.000000 -0.027087\n",
              "Sex              -0.044579    -0.027087  1.000000"
            ],
            "text/html": [
              "\n",
              "  <div id=\"df-b0647d86-8505-41fc-9915-2d533b87bdf0\">\n",
              "    <div class=\"colab-df-container\">\n",
              "      <div>\n",
              "<style scoped>\n",
              "    .dataframe tbody tr th:only-of-type {\n",
              "        vertical-align: middle;\n",
              "    }\n",
              "\n",
              "    .dataframe tbody tr th {\n",
              "        vertical-align: top;\n",
              "    }\n",
              "\n",
              "    .dataframe thead th {\n",
              "        text-align: right;\n",
              "    }\n",
              "</style>\n",
              "<table border=\"1\" class=\"dataframe\">\n",
              "  <thead>\n",
              "    <tr style=\"text-align: right;\">\n",
              "      <th></th>\n",
              "      <th>ArrestLocDiv</th>\n",
              "      <th>StripSearch</th>\n",
              "      <th>Sex</th>\n",
              "    </tr>\n",
              "  </thead>\n",
              "  <tbody>\n",
              "    <tr>\n",
              "      <th>ArrestLocDiv</th>\n",
              "      <td>1.000000</td>\n",
              "      <td>0.085594</td>\n",
              "      <td>-0.044579</td>\n",
              "    </tr>\n",
              "    <tr>\n",
              "      <th>StripSearch</th>\n",
              "      <td>0.085594</td>\n",
              "      <td>1.000000</td>\n",
              "      <td>-0.027087</td>\n",
              "    </tr>\n",
              "    <tr>\n",
              "      <th>Sex</th>\n",
              "      <td>-0.044579</td>\n",
              "      <td>-0.027087</td>\n",
              "      <td>1.000000</td>\n",
              "    </tr>\n",
              "  </tbody>\n",
              "</table>\n",
              "</div>\n",
              "      <button class=\"colab-df-convert\" onclick=\"convertToInteractive('df-b0647d86-8505-41fc-9915-2d533b87bdf0')\"\n",
              "              title=\"Convert this dataframe to an interactive table.\"\n",
              "              style=\"display:none;\">\n",
              "        \n",
              "  <svg xmlns=\"http://www.w3.org/2000/svg\" height=\"24px\"viewBox=\"0 0 24 24\"\n",
              "       width=\"24px\">\n",
              "    <path d=\"M0 0h24v24H0V0z\" fill=\"none\"/>\n",
              "    <path d=\"M18.56 5.44l.94 2.06.94-2.06 2.06-.94-2.06-.94-.94-2.06-.94 2.06-2.06.94zm-11 1L8.5 8.5l.94-2.06 2.06-.94-2.06-.94L8.5 2.5l-.94 2.06-2.06.94zm10 10l.94 2.06.94-2.06 2.06-.94-2.06-.94-.94-2.06-.94 2.06-2.06.94z\"/><path d=\"M17.41 7.96l-1.37-1.37c-.4-.4-.92-.59-1.43-.59-.52 0-1.04.2-1.43.59L10.3 9.45l-7.72 7.72c-.78.78-.78 2.05 0 2.83L4 21.41c.39.39.9.59 1.41.59.51 0 1.02-.2 1.41-.59l7.78-7.78 2.81-2.81c.8-.78.8-2.07 0-2.86zM5.41 20L4 18.59l7.72-7.72 1.47 1.35L5.41 20z\"/>\n",
              "  </svg>\n",
              "      </button>\n",
              "      \n",
              "  <style>\n",
              "    .colab-df-container {\n",
              "      display:flex;\n",
              "      flex-wrap:wrap;\n",
              "      gap: 12px;\n",
              "    }\n",
              "\n",
              "    .colab-df-convert {\n",
              "      background-color: #E8F0FE;\n",
              "      border: none;\n",
              "      border-radius: 50%;\n",
              "      cursor: pointer;\n",
              "      display: none;\n",
              "      fill: #1967D2;\n",
              "      height: 32px;\n",
              "      padding: 0 0 0 0;\n",
              "      width: 32px;\n",
              "    }\n",
              "\n",
              "    .colab-df-convert:hover {\n",
              "      background-color: #E2EBFA;\n",
              "      box-shadow: 0px 1px 2px rgba(60, 64, 67, 0.3), 0px 1px 3px 1px rgba(60, 64, 67, 0.15);\n",
              "      fill: #174EA6;\n",
              "    }\n",
              "\n",
              "    [theme=dark] .colab-df-convert {\n",
              "      background-color: #3B4455;\n",
              "      fill: #D2E3FC;\n",
              "    }\n",
              "\n",
              "    [theme=dark] .colab-df-convert:hover {\n",
              "      background-color: #434B5C;\n",
              "      box-shadow: 0px 1px 3px 1px rgba(0, 0, 0, 0.15);\n",
              "      filter: drop-shadow(0px 1px 2px rgba(0, 0, 0, 0.3));\n",
              "      fill: #FFFFFF;\n",
              "    }\n",
              "  </style>\n",
              "\n",
              "      <script>\n",
              "        const buttonEl =\n",
              "          document.querySelector('#df-b0647d86-8505-41fc-9915-2d533b87bdf0 button.colab-df-convert');\n",
              "        buttonEl.style.display =\n",
              "          google.colab.kernel.accessAllowed ? 'block' : 'none';\n",
              "\n",
              "        async function convertToInteractive(key) {\n",
              "          const element = document.querySelector('#df-b0647d86-8505-41fc-9915-2d533b87bdf0');\n",
              "          const dataTable =\n",
              "            await google.colab.kernel.invokeFunction('convertToInteractive',\n",
              "                                                     [key], {});\n",
              "          if (!dataTable) return;\n",
              "\n",
              "          const docLinkHtml = 'Like what you see? Visit the ' +\n",
              "            '<a target=\"_blank\" href=https://colab.research.google.com/notebooks/data_table.ipynb>data table notebook</a>'\n",
              "            + ' to learn more about interactive tables.';\n",
              "          element.innerHTML = '';\n",
              "          dataTable['output_type'] = 'display_data';\n",
              "          await google.colab.output.renderOutput(dataTable, element);\n",
              "          const docLink = document.createElement('div');\n",
              "          docLink.innerHTML = docLinkHtml;\n",
              "          element.appendChild(docLink);\n",
              "        }\n",
              "      </script>\n",
              "    </div>\n",
              "  </div>\n",
              "  "
            ]
          },
          "metadata": {},
          "execution_count": 54
        }
      ]
    },
    {
      "cell_type": "code",
      "source": [
        "sns.heatmap(tpd[['ArrestLocDiv', 'StripSearch', 'Sex']].corr(), annot=True, cmap = 'Blues')\n",
        "plt.show()"
      ],
      "metadata": {
        "colab": {
          "base_uri": "https://localhost:8080/",
          "height": 379
        },
        "id": "vTlQeydsc5wC",
        "outputId": "02cc80df-f629-4fc2-cdb3-2512f3deab10"
      },
      "execution_count": null,
      "outputs": [
        {
          "output_type": "display_data",
          "data": {
            "text/plain": [
              "<Figure size 1200x600 with 2 Axes>"
            ],
            "image/png": "[encoded data removed]"
          },
          "metadata": {}
        }
      ]
    },
    {
      "cell_type": "code",
      "source": [
        "tpd.groupby('StripSearch')['ArrestLocDiv'].mean()"
      ],
      "metadata": {
        "colab": {
          "base_uri": "https://localhost:8080/"
        },
        "id": "k1MhgIHDc64B",
        "outputId": "76c797db-3eb6-4f77-e7cb-a6eba150dd89"
      },
      "execution_count": null,
      "outputs": [
        {
          "output_type": "execute_result",
          "data": {
            "text/plain": [
              "StripSearch\n",
              "0    4.890050\n",
              "1    6.239518\n",
              "Name: ArrestLocDiv, dtype: float64"
            ]
          },
          "metadata": {},
          "execution_count": 56
        }
      ]
    },
    {
      "cell_type": "code",
      "source": [
        "tpd.groupby('StripSearch')['ArrestLocDiv'].median()"
      ],
      "metadata": {
        "colab": {
          "base_uri": "https://localhost:8080/"
        },
        "id": "WiaGCeunc8r5",
        "outputId": "74f0f279-0fa6-46fe-8e1e-110120b58e5c"
      },
      "execution_count": null,
      "outputs": [
        {
          "output_type": "execute_result",
          "data": {
            "text/plain": [
              "StripSearch\n",
              "0    1.0\n",
              "1    5.0\n",
              "Name: ArrestLocDiv, dtype: float64"
            ]
          },
          "metadata": {},
          "execution_count": 57
        }
      ]
    },
    {
      "cell_type": "code",
      "source": [
        "tpd.groupby('StripSearch')['Sex'].mean()"
      ],
      "metadata": {
        "colab": {
          "base_uri": "https://localhost:8080/"
        },
        "id": "t-EyvdhEc-b3",
        "outputId": "09c4b548-0c30-4935-e2ff-f16ff798334b"
      },
      "execution_count": null,
      "outputs": [
        {
          "output_type": "execute_result",
          "data": {
            "text/plain": [
              "StripSearch\n",
              "0    0.197494\n",
              "1    0.164508\n",
              "Name: Sex, dtype: float64"
            ]
          },
          "metadata": {},
          "execution_count": 58
        }
      ]
    },
    {
      "cell_type": "code",
      "source": [
        "tpd.groupby('StripSearch')['Sex'].median()"
      ],
      "metadata": {
        "colab": {
          "base_uri": "https://localhost:8080/"
        },
        "id": "3JSOEPXOdBOP",
        "outputId": "3c45b94d-4419-4ac8-ea6d-7697cee45d90"
      },
      "execution_count": null,
      "outputs": [
        {
          "output_type": "execute_result",
          "data": {
            "text/plain": [
              "StripSearch\n",
              "0    0.0\n",
              "1    0.0\n",
              "Name: Sex, dtype: float64"
            ]
          },
          "metadata": {},
          "execution_count": 59
        }
      ]
    },
    {
      "cell_type": "code",
      "source": [
        "sns.boxplot(tpd.StripSearch,tpd.ArrestLocDiv)\n",
        "plt.show()"
      ],
      "metadata": {
        "colab": {
          "base_uri": "https://localhost:8080/",
          "height": 244
        },
        "id": "0j-Pcq7VdEQw",
        "outputId": "3f80da37-3f6a-4a2d-9385-f7181f1bbaf5"
      },
      "execution_count": null,
      "outputs": [
        {
          "output_type": "error",
          "ename": "TypeError",
          "evalue": "ignored",
          "traceback": [
            "\u001b[0;31m---------------------------------------------------------------------------\u001b[0m",
            "\u001b[0;31mTypeError\u001b[0m                                 Traceback (most recent call last)",
            "\u001b[0;32m<ipython-input-61-f06490819e20>\u001b[0m in \u001b[0;36m<cell line: 1>\u001b[0;34m()\u001b[0m\n\u001b[0;32m----> 1\u001b[0;31m \u001b[0msns\u001b[0m\u001b[0;34m.\u001b[0m\u001b[0mboxplot\u001b[0m\u001b[0;34m(\u001b[0m\u001b[0mtpd\u001b[0m\u001b[0;34m.\u001b[0m\u001b[0mStripSearch\u001b[0m\u001b[0;34m,\u001b[0m\u001b[0mtpd\u001b[0m\u001b[0;34m.\u001b[0m\u001b[0mArrestLocDiv\u001b[0m\u001b[0;34m)\u001b[0m\u001b[0;34m\u001b[0m\u001b[0;34m\u001b[0m\u001b[0m\n\u001b[0m\u001b[1;32m      2\u001b[0m \u001b[0mplt\u001b[0m\u001b[0;34m.\u001b[0m\u001b[0mshow\u001b[0m\u001b[0;34m(\u001b[0m\u001b[0;34m)\u001b[0m\u001b[0;34m\u001b[0m\u001b[0;34m\u001b[0m\u001b[0m\n",
            "\u001b[0;31mTypeError\u001b[0m: boxplot() takes from 0 to 1 positional arguments but 2 were given"
          ]
        }
      ]
    },
    {
      "cell_type": "code",
      "source": [
        "tpd.Sex.value_counts().plot(kind='bar')\n",
        "plt.title('Value counts of the target variable')\n",
        "plt.xlabel('Sex')\n",
        "plt.xticks(rotation=0)\n",
        "#plt = ylabel(Count)\n",
        "plt.show()"
      ],
      "metadata": {
        "colab": {
          "base_uri": "https://localhost:8080/",
          "height": 363
        },
        "id": "jsVrsXUjdZqC",
        "outputId": "4adfdb8b-7e85-463d-ee6b-09d2ff72bfc5"
      },
      "execution_count": null,
      "outputs": [
        {
          "output_type": "display_data",
          "data": {
            "text/plain": [
              "<Figure size 1200x600 with 1 Axes>"
            ],
            "image/png": "[encoded data removed]"
          },
          "metadata": {}
        }
      ]
    },
    {
      "cell_type": "code",
      "source": [
        "#plot unique values for 'sex'\n",
        "\n",
        "sns.countplot(tpd['Perceived_Race'])"
      ],
      "metadata": {
        "colab": {
          "base_uri": "https://localhost:8080/",
          "height": 429
        },
        "id": "C_r_2kQJdgJ8",
        "outputId": "05a018d9-083d-4864-8529-97db64f50f67"
      },
      "execution_count": null,
      "outputs": [
        {
          "output_type": "error",
          "ename": "ValueError",
          "evalue": "ignored",
          "traceback": [
            "\u001b[0;31m---------------------------------------------------------------------------\u001b[0m",
            "\u001b[0;31mValueError\u001b[0m                                Traceback (most recent call last)",
            "\u001b[0;32m<ipython-input-63-089a4b31bb62>\u001b[0m in \u001b[0;36m<cell line: 3>\u001b[0;34m()\u001b[0m\n\u001b[1;32m      1\u001b[0m \u001b[0;31m#plot unique values for 'sex'\u001b[0m\u001b[0;34m\u001b[0m\u001b[0;34m\u001b[0m\u001b[0m\n\u001b[1;32m      2\u001b[0m \u001b[0;34m\u001b[0m\u001b[0m\n\u001b[0;32m----> 3\u001b[0;31m \u001b[0msns\u001b[0m\u001b[0;34m.\u001b[0m\u001b[0mcountplot\u001b[0m\u001b[0;34m(\u001b[0m\u001b[0mtpd\u001b[0m\u001b[0;34m[\u001b[0m\u001b[0;34m'Perceived_Race'\u001b[0m\u001b[0;34m]\u001b[0m\u001b[0;34m)\u001b[0m\u001b[0;34m\u001b[0m\u001b[0;34m\u001b[0m\u001b[0m\n\u001b[0m",
            "\u001b[0;32m/usr/local/lib/python3.9/dist-packages/seaborn/categorical.py\u001b[0m in \u001b[0;36mcountplot\u001b[0;34m(data, x, y, hue, order, hue_order, orient, color, palette, saturation, width, dodge, ax, **kwargs)\u001b[0m\n\u001b[1;32m   2941\u001b[0m         \u001b[0;32mraise\u001b[0m \u001b[0mValueError\u001b[0m\u001b[0;34m(\u001b[0m\u001b[0;34m\"Cannot pass values for both `x` and `y`\"\u001b[0m\u001b[0;34m)\u001b[0m\u001b[0;34m\u001b[0m\u001b[0;34m\u001b[0m\u001b[0m\n\u001b[1;32m   2942\u001b[0m \u001b[0;34m\u001b[0m\u001b[0m\n\u001b[0;32m-> 2943\u001b[0;31m     plotter = _CountPlotter(\n\u001b[0m\u001b[1;32m   2944\u001b[0m         \u001b[0mx\u001b[0m\u001b[0;34m,\u001b[0m \u001b[0my\u001b[0m\u001b[0;34m,\u001b[0m \u001b[0mhue\u001b[0m\u001b[0;34m,\u001b[0m \u001b[0mdata\u001b[0m\u001b[0;34m,\u001b[0m \u001b[0morder\u001b[0m\u001b[0;34m,\u001b[0m \u001b[0mhue_order\u001b[0m\u001b[0;34m,\u001b[0m\u001b[0;34m\u001b[0m\u001b[0;34m\u001b[0m\u001b[0m\n\u001b[1;32m   2945\u001b[0m         \u001b[0mestimator\u001b[0m\u001b[0;34m,\u001b[0m \u001b[0merrorbar\u001b[0m\u001b[0;34m,\u001b[0m \u001b[0mn_boot\u001b[0m\u001b[0;34m,\u001b[0m \u001b[0munits\u001b[0m\u001b[0;34m,\u001b[0m \u001b[0mseed\u001b[0m\u001b[0;34m,\u001b[0m\u001b[0;34m\u001b[0m\u001b[0;34m\u001b[0m\u001b[0m\n",
            "\u001b[0;32m/usr/local/lib/python3.9/dist-packages/seaborn/categorical.py\u001b[0m in \u001b[0;36m__init__\u001b[0;34m(self, x, y, hue, data, order, hue_order, estimator, errorbar, n_boot, units, seed, orient, color, palette, saturation, width, errcolor, errwidth, capsize, dodge)\u001b[0m\n\u001b[1;32m   1528\u001b[0m                  errcolor, errwidth, capsize, dodge):\n\u001b[1;32m   1529\u001b[0m         \u001b[0;34m\"\"\"Initialize the plotter.\"\"\"\u001b[0m\u001b[0;34m\u001b[0m\u001b[0;34m\u001b[0m\u001b[0m\n\u001b[0;32m-> 1530\u001b[0;31m         self.establish_variables(x, y, hue, data, orient,\n\u001b[0m\u001b[1;32m   1531\u001b[0m                                  order, hue_order, units)\n\u001b[1;32m   1532\u001b[0m         \u001b[0mself\u001b[0m\u001b[0;34m.\u001b[0m\u001b[0mestablish_colors\u001b[0m\u001b[0;34m(\u001b[0m\u001b[0mcolor\u001b[0m\u001b[0;34m,\u001b[0m \u001b[0mpalette\u001b[0m\u001b[0;34m,\u001b[0m \u001b[0msaturation\u001b[0m\u001b[0;34m)\u001b[0m\u001b[0;34m\u001b[0m\u001b[0;34m\u001b[0m\u001b[0m\n",
            "\u001b[0;32m/usr/local/lib/python3.9/dist-packages/seaborn/categorical.py\u001b[0m in \u001b[0;36mestablish_variables\u001b[0;34m(self, x, y, hue, data, orient, order, hue_order, units)\u001b[0m\n\u001b[1;32m    514\u001b[0m \u001b[0;34m\u001b[0m\u001b[0m\n\u001b[1;32m    515\u001b[0m                 \u001b[0;31m# Convert to a list of arrays, the common representation\u001b[0m\u001b[0;34m\u001b[0m\u001b[0;34m\u001b[0m\u001b[0m\n\u001b[0;32m--> 516\u001b[0;31m                 \u001b[0mplot_data\u001b[0m \u001b[0;34m=\u001b[0m \u001b[0;34m[\u001b[0m\u001b[0mnp\u001b[0m\u001b[0;34m.\u001b[0m\u001b[0masarray\u001b[0m\u001b[0;34m(\u001b[0m\u001b[0md\u001b[0m\u001b[0;34m,\u001b[0m \u001b[0mfloat\u001b[0m\u001b[0;34m)\u001b[0m \u001b[0;32mfor\u001b[0m \u001b[0md\u001b[0m \u001b[0;32min\u001b[0m \u001b[0mplot_data\u001b[0m\u001b[0;34m]\u001b[0m\u001b[0;34m\u001b[0m\u001b[0;34m\u001b[0m\u001b[0m\n\u001b[0m\u001b[1;32m    517\u001b[0m \u001b[0;34m\u001b[0m\u001b[0m\n\u001b[1;32m    518\u001b[0m                 \u001b[0;31m# The group names will just be numeric indices\u001b[0m\u001b[0;34m\u001b[0m\u001b[0;34m\u001b[0m\u001b[0m\n",
            "\u001b[0;32m/usr/local/lib/python3.9/dist-packages/seaborn/categorical.py\u001b[0m in \u001b[0;36m<listcomp>\u001b[0;34m(.0)\u001b[0m\n\u001b[1;32m    514\u001b[0m \u001b[0;34m\u001b[0m\u001b[0m\n\u001b[1;32m    515\u001b[0m                 \u001b[0;31m# Convert to a list of arrays, the common representation\u001b[0m\u001b[0;34m\u001b[0m\u001b[0;34m\u001b[0m\u001b[0m\n\u001b[0;32m--> 516\u001b[0;31m                 \u001b[0mplot_data\u001b[0m \u001b[0;34m=\u001b[0m \u001b[0;34m[\u001b[0m\u001b[0mnp\u001b[0m\u001b[0;34m.\u001b[0m\u001b[0masarray\u001b[0m\u001b[0;34m(\u001b[0m\u001b[0md\u001b[0m\u001b[0;34m,\u001b[0m \u001b[0mfloat\u001b[0m\u001b[0;34m)\u001b[0m \u001b[0;32mfor\u001b[0m \u001b[0md\u001b[0m \u001b[0;32min\u001b[0m \u001b[0mplot_data\u001b[0m\u001b[0;34m]\u001b[0m\u001b[0;34m\u001b[0m\u001b[0;34m\u001b[0m\u001b[0m\n\u001b[0m\u001b[1;32m    517\u001b[0m \u001b[0;34m\u001b[0m\u001b[0m\n\u001b[1;32m    518\u001b[0m                 \u001b[0;31m# The group names will just be numeric indices\u001b[0m\u001b[0;34m\u001b[0m\u001b[0;34m\u001b[0m\u001b[0m\n",
            "\u001b[0;32m/usr/local/lib/python3.9/dist-packages/pandas/core/series.py\u001b[0m in \u001b[0;36m__array__\u001b[0;34m(self, dtype)\u001b[0m\n\u001b[1;32m    891\u001b[0m               dtype='datetime64[ns]')\n\u001b[1;32m    892\u001b[0m         \"\"\"\n\u001b[0;32m--> 893\u001b[0;31m         \u001b[0;32mreturn\u001b[0m \u001b[0mnp\u001b[0m\u001b[0;34m.\u001b[0m\u001b[0masarray\u001b[0m\u001b[0;34m(\u001b[0m\u001b[0mself\u001b[0m\u001b[0;34m.\u001b[0m\u001b[0m_values\u001b[0m\u001b[0;34m,\u001b[0m \u001b[0mdtype\u001b[0m\u001b[0;34m)\u001b[0m\u001b[0;34m\u001b[0m\u001b[0;34m\u001b[0m\u001b[0m\n\u001b[0m\u001b[1;32m    894\u001b[0m \u001b[0;34m\u001b[0m\u001b[0m\n\u001b[1;32m    895\u001b[0m     \u001b[0;31m# ----------------------------------------------------------------------\u001b[0m\u001b[0;34m\u001b[0m\u001b[0;34m\u001b[0m\u001b[0m\n",
            "\u001b[0;31mValueError\u001b[0m: could not convert string to float: 'White'"
          ]
        }
      ]
    },
    {
      "cell_type": "code",
      "source": [
        "tpd['StripSearch'].unique()"
      ],
      "metadata": {
        "id": "rcNziqD5diUA"
      },
      "execution_count": null,
      "outputs": []
    },
    {
      "cell_type": "code",
      "source": [
        "sns.countplot(tpd['StripSearch'])"
      ],
      "metadata": {
        "id": "kYw-niEDdjE6"
      },
      "execution_count": null,
      "outputs": []
    },
    {
      "cell_type": "code",
      "source": [
        "sns.countplot(tpd['Occurrence_Category'])\n",
        "plt.show()"
      ],
      "metadata": {
        "id": "Oe9HUhStdk1u"
      },
      "execution_count": null,
      "outputs": []
    },
    {
      "cell_type": "code",
      "source": [
        "sns.pairplot(tpd, hue = 'Perceived_Race')\n",
        "plt.show()\n",
        "# Pairsplot showing relationships between both Perceived_Race and Sex, ArrestLocDiv and StripSearch variables. "
      ],
      "metadata": {
        "id": "de_LrJ0HxNDY"
      },
      "execution_count": null,
      "outputs": []
    },
    {
      "cell_type": "code",
      "source": [
        "tpd.info()"
      ],
      "metadata": {
        "id": "peDemBcxdoKc"
      },
      "execution_count": null,
      "outputs": []
    },
    {
      "cell_type": "code",
      "source": [
        "# EDA - ttests"
      ],
      "metadata": {
        "id": "vNUPAZWjd0Mi"
      },
      "execution_count": null,
      "outputs": []
    },
    {
      "cell_type": "code",
      "source": [
        "# ttest 1. Female and Male\n",
        "from scipy import stats\n",
        "\n",
        "a = df[df[\"Sex\"]=='M']\n",
        "b = df[df[\"Sex\"]==\"F\"]\n",
        "p_value = stats.ttest_ind(a['StripSearch'], b['StripSearch'], equal_var=False)\n",
        "p_value"
      ],
      "metadata": {
        "colab": {
          "base_uri": "https://localhost:8080/"
        },
        "id": "VduVx7bpCVFb",
        "outputId": "f11a8538-3032-4268-acd1-191dc9e42f18"
      },
      "execution_count": null,
      "outputs": [
        {
          "output_type": "execute_result",
          "data": {
            "text/plain": [
              "Ttest_indResult(statistic=7.249950648506358, pvalue=4.317911044176134e-13)"
            ]
          },
          "metadata": {},
          "execution_count": 64
        }
      ]
    },
    {
      "cell_type": "code",
      "source": [
        "# ttest 2. Black and White\n",
        "\n",
        "a = df[df[\"Perceived_Race\"]== 'White']\n",
        "b = df[df[\"Perceived_Race\"]=='Black']\n",
        "p_value = stats.ttest_ind(a['StripSearch'], b['StripSearch'], equal_var = False)\n",
        "p_value"
      ],
      "metadata": {
        "colab": {
          "base_uri": "https://localhost:8080/"
        },
        "id": "1VCiXsK5NSXQ",
        "outputId": "c53fa246-c602-4bd7-afe0-587817a37ccd"
      },
      "execution_count": null,
      "outputs": [
        {
          "output_type": "execute_result",
          "data": {
            "text/plain": [
              "Ttest_indResult(statistic=-3.1092300312269794, pvalue=0.0018772038967764877)"
            ]
          },
          "metadata": {},
          "execution_count": 65
        }
      ]
    },
    {
      "cell_type": "code",
      "source": [
        "# ttest 3. Indigenous group and Black group\n",
        "from scipy import stats\n",
        "\n",
        "IND = df[df[\"Perceived_Race\"]=='Indigenous']\n",
        "BLA = df[df[\"Perceived_Race\"]==\"Black\"]\n",
        "p_value = stats.ttest_ind(IND['StripSearch'], BLA['StripSearch'], equal_var=False)\n",
        "p_value"
      ],
      "metadata": {
        "colab": {
          "base_uri": "https://localhost:8080/"
        },
        "id": "8puH8cyLYB6E",
        "outputId": "04553cd9-d325-4390-ec19-667faebe00fa"
      },
      "execution_count": null,
      "outputs": [
        {
          "output_type": "execute_result",
          "data": {
            "text/plain": [
              "Ttest_indResult(statistic=2.222681877526963, pvalue=0.026332805163130597)"
            ]
          },
          "metadata": {},
          "execution_count": 66
        }
      ]
    },
    {
      "cell_type": "code",
      "source": [
        "# ttest 4. Black female and black male\n",
        "black = df[df['Perceived_Race'] == 'Black']\n",
        "black_Female = black[black['Sex'] == 'F']\n",
        "black_Male = black[black['Sex'] == 'M']\n",
        "\n",
        "p_value = stats.ttest_ind(black_Female['StripSearch'], black_Male['StripSearch'], equal_var=False)\n",
        "p_value"
      ],
      "metadata": {
        "colab": {
          "base_uri": "https://localhost:8080/"
        },
        "id": "CHUm-NGOlOBB",
        "outputId": "9a0f4f8f-5c06-4623-8586-1488fae16e5e"
      },
      "execution_count": null,
      "outputs": [
        {
          "output_type": "execute_result",
          "data": {
            "text/plain": [
              "Ttest_indResult(statistic=-11.141685448786642, pvalue=1.6288297409514183e-28)"
            ]
          },
          "metadata": {},
          "execution_count": 67
        }
      ]
    },
    {
      "cell_type": "code",
      "source": [
        "# ANOVA"
      ],
      "metadata": {
        "id": "Od8T7GMseA0R"
      },
      "execution_count": null,
      "outputs": []
    },
    {
      "cell_type": "code",
      "source": [
        "# oneway ANOVA #1. Gender and stripsearch\n",
        "import statsmodels.api as sm\n",
        "from statsmodels.formula.api import ols\n",
        "\n",
        "model = ols('StripSearch ~ C(Sex)', data=df).fit()\n",
        "anova_table = sm.stats.anova_lm(model, typ=2)\n",
        "anova_table"
      ],
      "metadata": {
        "id": "sh5zYxneCkZQ"
      },
      "execution_count": null,
      "outputs": []
    },
    {
      "cell_type": "code",
      "source": [
        "from statsmodels.stats.multicomp import pairwise_tukeyhsd\n",
        "# Tukey's HSD test 1 for one-way ANOVA #1\n",
        "tukey_hsd1 = pairwise_tukeyhsd(endog = df['StripSearch'], groups = df['Sex'], alpha = 0.05)\n",
        "print(tukey_hsd1)"
      ],
      "metadata": {
        "id": "NxvKcl9dRxLb"
      },
      "execution_count": null,
      "outputs": []
    },
    {
      "cell_type": "code",
      "source": [
        "# oneway anova 2. Perceived race and strip search\n",
        "model = ols('StripSearch ~ C(Perceived_Race)', data=df).fit()\n",
        "anova_table = sm.stats.anova_lm(model, typ=2)\n",
        "anova_table"
      ],
      "metadata": {
        "id": "k0eBgIxNCxgy"
      },
      "execution_count": null,
      "outputs": []
    },
    {
      "cell_type": "code",
      "source": [
        "from statsmodels.stats.multicomp import pairwise_tukeyhsd\n",
        "# Tukey's HSD test 2 for one-way ANOVA #2\n",
        "df = df.dropna(subset=['Perceived_Race'])\n",
        "tukey_hsd2 = pairwise_tukeyhsd(endog = df['StripSearch'], groups = df['Perceived_Race'], alpha = 0.05)\n",
        "print(tukey_hsd2)"
      ],
      "metadata": {
        "id": "ZSjaU19cX3IW"
      },
      "execution_count": null,
      "outputs": []
    },
    {
      "cell_type": "code",
      "source": [
        "# Two-way ANOVA interaction between sex and perceived race\n",
        "\n",
        "model = ols('StripSearch ~ C(Sex) + C(Perceived_Race) + C(Sex):C(Perceived_Race)', data = df).fit()\n",
        "twowayanova = sm.stats.anova_lm(model, typ = 2)\n",
        "twowayanova"
      ],
      "metadata": {
        "id": "wUII7q_eHRvR"
      },
      "execution_count": null,
      "outputs": []
    },
    {
      "cell_type": "code",
      "source": [
        "from statsmodels.stats.multicomp import pairwise_tukeyhsd\n",
        "# Tukey's HSD test 3 \n",
        "df = df.dropna(subset=['Perceived_Race'])\n",
        "tukey_hsd2 = pairwise_tukeyhsd(endog = df['StripSearch'], groups = df['Perceived_Race'], alpha = 0.05)\n",
        "print(tukey_hsd2)"
      ],
      "metadata": {
        "id": "PtDOiU_-yz8t"
      },
      "execution_count": null,
      "outputs": []
    },
    {
      "cell_type": "code",
      "source": [
        "# interaction plot\n",
        "from statsmodels.graphics.factorplots import interaction_plot\n",
        "import matplotlib.pyplot as plt\n",
        "fig = interaction_plot(x = df['Sex'], trace = df['Perceived_Race'], response = df['StripSearch'])\n",
        "plt.title('Interation plot - StripSearch by Sex and Perceived race')\n",
        "plt.show()"
      ],
      "metadata": {
        "id": "NF5RL6EfNjCz"
      },
      "execution_count": null,
      "outputs": []
    },
    {
      "cell_type": "code",
      "source": [],
      "metadata": {
        "id": "OpDFqnFd96VH"
      },
      "execution_count": null,
      "outputs": []
    },
    {
      "cell_type": "code",
      "execution_count": null,
      "metadata": {
        "id": "51970429"
      },
      "outputs": [],
      "source": [
        "#load libraries\n",
        "import pandas as pd\n",
        "import numpy as np\n",
        "import scipy.stats as stats\n",
        "from scipy.stats import f_oneway\n",
        "import statsmodels.api as sm\n",
        "from statsmodels.formula.api import ols\n",
        "#from bioinfokit.analys import stat\n",
        "from statsmodels.graphics.factorplots import interaction_plot\n",
        "import matplotlib.pyplot as plt\n",
        "\n",
        "# data vizualization\n",
        "import seaborn as sns\n",
        "import matplotlib.pyplot as plt\n",
        "%matplotlib inline\n",
        "from matplotlib import rcParams\n",
        "plt.style.use(\"ggplot\")\n",
        "rcParams[\"figure.figsize\"] = (12, 6)"
      ]
    },
    {
      "cell_type": "code",
      "execution_count": null,
      "metadata": {
        "id": "0e632ceb",
        "outputId": "834cfb4e-1ce7-4dbe-cb04-48bcc9d0093c",
        "colab": {
          "base_uri": "https://localhost:8080/",
          "height": 360
        }
      },
      "outputs": [
        {
          "output_type": "error",
          "ename": "FileNotFoundError",
          "evalue": "ignored",
          "traceback": [
            "\u001b[0;31m---------------------------------------------------------------------------\u001b[0m",
            "\u001b[0;31mFileNotFoundError\u001b[0m                         Traceback (most recent call last)",
            "\u001b[0;32m<ipython-input-2-32414fee0431>\u001b[0m in \u001b[0;36m<cell line: 2>\u001b[0;34m()\u001b[0m\n\u001b[1;32m      1\u001b[0m \u001b[0;31m#load the dataset\u001b[0m\u001b[0;34m\u001b[0m\u001b[0;34m\u001b[0m\u001b[0m\n\u001b[0;32m----> 2\u001b[0;31m \u001b[0mdf\u001b[0m \u001b[0;34m=\u001b[0m \u001b[0mpd\u001b[0m\u001b[0;34m.\u001b[0m\u001b[0mread_csv\u001b[0m\u001b[0;34m(\u001b[0m\u001b[0;34m'Arrests_and_Strip_Searches_(RBDC-ARR-TBL-001).csv'\u001b[0m\u001b[0;34m)\u001b[0m\u001b[0;34m\u001b[0m\u001b[0;34m\u001b[0m\u001b[0m\n\u001b[0m\u001b[1;32m      3\u001b[0m \u001b[0mdf\u001b[0m\u001b[0;34m\u001b[0m\u001b[0;34m\u001b[0m\u001b[0m\n",
            "\u001b[0;32m/usr/local/lib/python3.9/dist-packages/pandas/util/_decorators.py\u001b[0m in \u001b[0;36mwrapper\u001b[0;34m(*args, **kwargs)\u001b[0m\n\u001b[1;32m    209\u001b[0m                 \u001b[0;32melse\u001b[0m\u001b[0;34m:\u001b[0m\u001b[0;34m\u001b[0m\u001b[0;34m\u001b[0m\u001b[0m\n\u001b[1;32m    210\u001b[0m                     \u001b[0mkwargs\u001b[0m\u001b[0;34m[\u001b[0m\u001b[0mnew_arg_name\u001b[0m\u001b[0;34m]\u001b[0m \u001b[0;34m=\u001b[0m \u001b[0mnew_arg_value\u001b[0m\u001b[0;34m\u001b[0m\u001b[0;34m\u001b[0m\u001b[0m\n\u001b[0;32m--> 211\u001b[0;31m             \u001b[0;32mreturn\u001b[0m \u001b[0mfunc\u001b[0m\u001b[0;34m(\u001b[0m\u001b[0;34m*\u001b[0m\u001b[0margs\u001b[0m\u001b[0;34m,\u001b[0m \u001b[0;34m**\u001b[0m\u001b[0mkwargs\u001b[0m\u001b[0;34m)\u001b[0m\u001b[0;34m\u001b[0m\u001b[0;34m\u001b[0m\u001b[0m\n\u001b[0m\u001b[1;32m    212\u001b[0m \u001b[0;34m\u001b[0m\u001b[0m\n\u001b[1;32m    213\u001b[0m         \u001b[0;32mreturn\u001b[0m \u001b[0mcast\u001b[0m\u001b[0;34m(\u001b[0m\u001b[0mF\u001b[0m\u001b[0;34m,\u001b[0m \u001b[0mwrapper\u001b[0m\u001b[0;34m)\u001b[0m\u001b[0;34m\u001b[0m\u001b[0;34m\u001b[0m\u001b[0m\n",
            "\u001b[0;32m/usr/local/lib/python3.9/dist-packages/pandas/util/_decorators.py\u001b[0m in \u001b[0;36mwrapper\u001b[0;34m(*args, **kwargs)\u001b[0m\n\u001b[1;32m    329\u001b[0m                     \u001b[0mstacklevel\u001b[0m\u001b[0;34m=\u001b[0m\u001b[0mfind_stack_level\u001b[0m\u001b[0;34m(\u001b[0m\u001b[0;34m)\u001b[0m\u001b[0;34m,\u001b[0m\u001b[0;34m\u001b[0m\u001b[0;34m\u001b[0m\u001b[0m\n\u001b[1;32m    330\u001b[0m                 )\n\u001b[0;32m--> 331\u001b[0;31m             \u001b[0;32mreturn\u001b[0m \u001b[0mfunc\u001b[0m\u001b[0;34m(\u001b[0m\u001b[0;34m*\u001b[0m\u001b[0margs\u001b[0m\u001b[0;34m,\u001b[0m \u001b[0;34m**\u001b[0m\u001b[0mkwargs\u001b[0m\u001b[0;34m)\u001b[0m\u001b[0;34m\u001b[0m\u001b[0;34m\u001b[0m\u001b[0m\n\u001b[0m\u001b[1;32m    332\u001b[0m \u001b[0;34m\u001b[0m\u001b[0m\n\u001b[1;32m    333\u001b[0m         \u001b[0;31m# error: \"Callable[[VarArg(Any), KwArg(Any)], Any]\" has no\u001b[0m\u001b[0;34m\u001b[0m\u001b[0;34m\u001b[0m\u001b[0m\n",
            "\u001b[0;32m/usr/local/lib/python3.9/dist-packages/pandas/io/parsers/readers.py\u001b[0m in \u001b[0;36mread_csv\u001b[0;34m(filepath_or_buffer, sep, delimiter, header, names, index_col, usecols, squeeze, prefix, mangle_dupe_cols, dtype, engine, converters, true_values, false_values, skipinitialspace, skiprows, skipfooter, nrows, na_values, keep_default_na, na_filter, verbose, skip_blank_lines, parse_dates, infer_datetime_format, keep_date_col, date_parser, dayfirst, cache_dates, iterator, chunksize, compression, thousands, decimal, lineterminator, quotechar, quoting, doublequote, escapechar, comment, encoding, encoding_errors, dialect, error_bad_lines, warn_bad_lines, on_bad_lines, delim_whitespace, low_memory, memory_map, float_precision, storage_options)\u001b[0m\n\u001b[1;32m    948\u001b[0m     \u001b[0mkwds\u001b[0m\u001b[0;34m.\u001b[0m\u001b[0mupdate\u001b[0m\u001b[0;34m(\u001b[0m\u001b[0mkwds_defaults\u001b[0m\u001b[0;34m)\u001b[0m\u001b[0;34m\u001b[0m\u001b[0;34m\u001b[0m\u001b[0m\n\u001b[1;32m    949\u001b[0m \u001b[0;34m\u001b[0m\u001b[0m\n\u001b[0;32m--> 950\u001b[0;31m     \u001b[0;32mreturn\u001b[0m \u001b[0m_read\u001b[0m\u001b[0;34m(\u001b[0m\u001b[0mfilepath_or_buffer\u001b[0m\u001b[0;34m,\u001b[0m \u001b[0mkwds\u001b[0m\u001b[0;34m)\u001b[0m\u001b[0;34m\u001b[0m\u001b[0;34m\u001b[0m\u001b[0m\n\u001b[0m\u001b[1;32m    951\u001b[0m \u001b[0;34m\u001b[0m\u001b[0m\n\u001b[1;32m    952\u001b[0m \u001b[0;34m\u001b[0m\u001b[0m\n",
            "\u001b[0;32m/usr/local/lib/python3.9/dist-packages/pandas/io/parsers/readers.py\u001b[0m in \u001b[0;36m_read\u001b[0;34m(filepath_or_buffer, kwds)\u001b[0m\n\u001b[1;32m    603\u001b[0m \u001b[0;34m\u001b[0m\u001b[0m\n\u001b[1;32m    604\u001b[0m     \u001b[0;31m# Create the parser.\u001b[0m\u001b[0;34m\u001b[0m\u001b[0;34m\u001b[0m\u001b[0m\n\u001b[0;32m--> 605\u001b[0;31m     \u001b[0mparser\u001b[0m \u001b[0;34m=\u001b[0m \u001b[0mTextFileReader\u001b[0m\u001b[0;34m(\u001b[0m\u001b[0mfilepath_or_buffer\u001b[0m\u001b[0;34m,\u001b[0m \u001b[0;34m**\u001b[0m\u001b[0mkwds\u001b[0m\u001b[0;34m)\u001b[0m\u001b[0;34m\u001b[0m\u001b[0;34m\u001b[0m\u001b[0m\n\u001b[0m\u001b[1;32m    606\u001b[0m \u001b[0;34m\u001b[0m\u001b[0m\n\u001b[1;32m    607\u001b[0m     \u001b[0;32mif\u001b[0m \u001b[0mchunksize\u001b[0m \u001b[0;32mor\u001b[0m \u001b[0miterator\u001b[0m\u001b[0;34m:\u001b[0m\u001b[0;34m\u001b[0m\u001b[0;34m\u001b[0m\u001b[0m\n",
            "\u001b[0;32m/usr/local/lib/python3.9/dist-packages/pandas/io/parsers/readers.py\u001b[0m in \u001b[0;36m__init__\u001b[0;34m(self, f, engine, **kwds)\u001b[0m\n\u001b[1;32m   1440\u001b[0m \u001b[0;34m\u001b[0m\u001b[0m\n\u001b[1;32m   1441\u001b[0m         \u001b[0mself\u001b[0m\u001b[0;34m.\u001b[0m\u001b[0mhandles\u001b[0m\u001b[0;34m:\u001b[0m \u001b[0mIOHandles\u001b[0m \u001b[0;34m|\u001b[0m \u001b[0;32mNone\u001b[0m \u001b[0;34m=\u001b[0m \u001b[0;32mNone\u001b[0m\u001b[0;34m\u001b[0m\u001b[0;34m\u001b[0m\u001b[0m\n\u001b[0;32m-> 1442\u001b[0;31m         \u001b[0mself\u001b[0m\u001b[0;34m.\u001b[0m\u001b[0m_engine\u001b[0m \u001b[0;34m=\u001b[0m \u001b[0mself\u001b[0m\u001b[0;34m.\u001b[0m\u001b[0m_make_engine\u001b[0m\u001b[0;34m(\u001b[0m\u001b[0mf\u001b[0m\u001b[0;34m,\u001b[0m \u001b[0mself\u001b[0m\u001b[0;34m.\u001b[0m\u001b[0mengine\u001b[0m\u001b[0;34m)\u001b[0m\u001b[0;34m\u001b[0m\u001b[0;34m\u001b[0m\u001b[0m\n\u001b[0m\u001b[1;32m   1443\u001b[0m \u001b[0;34m\u001b[0m\u001b[0m\n\u001b[1;32m   1444\u001b[0m     \u001b[0;32mdef\u001b[0m \u001b[0mclose\u001b[0m\u001b[0;34m(\u001b[0m\u001b[0mself\u001b[0m\u001b[0;34m)\u001b[0m \u001b[0;34m->\u001b[0m \u001b[0;32mNone\u001b[0m\u001b[0;34m:\u001b[0m\u001b[0;34m\u001b[0m\u001b[0;34m\u001b[0m\u001b[0m\n",
            "\u001b[0;32m/usr/local/lib/python3.9/dist-packages/pandas/io/parsers/readers.py\u001b[0m in \u001b[0;36m_make_engine\u001b[0;34m(self, f, engine)\u001b[0m\n\u001b[1;32m   1733\u001b[0m                 \u001b[0;32mif\u001b[0m \u001b[0;34m\"b\"\u001b[0m \u001b[0;32mnot\u001b[0m \u001b[0;32min\u001b[0m \u001b[0mmode\u001b[0m\u001b[0;34m:\u001b[0m\u001b[0;34m\u001b[0m\u001b[0;34m\u001b[0m\u001b[0m\n\u001b[1;32m   1734\u001b[0m                     \u001b[0mmode\u001b[0m \u001b[0;34m+=\u001b[0m \u001b[0;34m\"b\"\u001b[0m\u001b[0;34m\u001b[0m\u001b[0;34m\u001b[0m\u001b[0m\n\u001b[0;32m-> 1735\u001b[0;31m             self.handles = get_handle(\n\u001b[0m\u001b[1;32m   1736\u001b[0m                 \u001b[0mf\u001b[0m\u001b[0;34m,\u001b[0m\u001b[0;34m\u001b[0m\u001b[0;34m\u001b[0m\u001b[0m\n\u001b[1;32m   1737\u001b[0m                 \u001b[0mmode\u001b[0m\u001b[0;34m,\u001b[0m\u001b[0;34m\u001b[0m\u001b[0;34m\u001b[0m\u001b[0m\n",
            "\u001b[0;32m/usr/local/lib/python3.9/dist-packages/pandas/io/common.py\u001b[0m in \u001b[0;36mget_handle\u001b[0;34m(path_or_buf, mode, encoding, compression, memory_map, is_text, errors, storage_options)\u001b[0m\n\u001b[1;32m    854\u001b[0m         \u001b[0;32mif\u001b[0m \u001b[0mioargs\u001b[0m\u001b[0;34m.\u001b[0m\u001b[0mencoding\u001b[0m \u001b[0;32mand\u001b[0m \u001b[0;34m\"b\"\u001b[0m \u001b[0;32mnot\u001b[0m \u001b[0;32min\u001b[0m \u001b[0mioargs\u001b[0m\u001b[0;34m.\u001b[0m\u001b[0mmode\u001b[0m\u001b[0;34m:\u001b[0m\u001b[0;34m\u001b[0m\u001b[0;34m\u001b[0m\u001b[0m\n\u001b[1;32m    855\u001b[0m             \u001b[0;31m# Encoding\u001b[0m\u001b[0;34m\u001b[0m\u001b[0;34m\u001b[0m\u001b[0m\n\u001b[0;32m--> 856\u001b[0;31m             handle = open(\n\u001b[0m\u001b[1;32m    857\u001b[0m                 \u001b[0mhandle\u001b[0m\u001b[0;34m,\u001b[0m\u001b[0;34m\u001b[0m\u001b[0;34m\u001b[0m\u001b[0m\n\u001b[1;32m    858\u001b[0m                 \u001b[0mioargs\u001b[0m\u001b[0;34m.\u001b[0m\u001b[0mmode\u001b[0m\u001b[0;34m,\u001b[0m\u001b[0;34m\u001b[0m\u001b[0;34m\u001b[0m\u001b[0m\n",
            "\u001b[0;31mFileNotFoundError\u001b[0m: [Errno 2] No such file or directory: 'Arrests_and_Strip_Searches_(RBDC-ARR-TBL-001).csv'"
          ]
        }
      ],
      "source": [
        "#load the dataset\n",
        "df = pd.read_csv('Arrests_and_Strip_Searches_(RBDC-ARR-TBL-001).csv')\n",
        "df"
      ]
    },
    {
      "cell_type": "code",
      "execution_count": null,
      "metadata": {
        "id": "dffbd07d"
      },
      "outputs": [],
      "source": [
        "#POWER ANALYSIS -- Shamina -- just for reference \n",
        "\n",
        "#load libraries\n",
        "import pandas as pd\n",
        "import numpy as np\n",
        "import scipy.stats as stats\n",
        "from scipy.stats import f_oneway\n",
        "import statsmodels.api as sm\n",
        "from statsmodels.formula.api import ols\n",
        "#from bioinfokit.analys import stat\n",
        "from statsmodels.graphics.factorplots import interaction_plot\n",
        "import matplotlib.pyplot as plt\n",
        "\n",
        "# data vizualization\n",
        "import seaborn as sns\n",
        "import matplotlib.pyplot as plt\n",
        "%matplotlib inline\n",
        "from matplotlib import rcParams\n",
        "plt.style.use(\"ggplot\")\n",
        "rcParams[\"figure.figsize\"] = (12, 6)\n",
        "\n"
      ]
    },
    {
      "cell_type": "code",
      "execution_count": null,
      "metadata": {
        "id": "aa0ee723"
      },
      "outputs": [],
      "source": [
        "#load the dataset\n",
        "df = pd.read_csv('Arrests_and_Strip_Searches_(RBDC-ARR-TBL-001).csv')\n",
        "df\n",
        "\n"
      ]
    },
    {
      "cell_type": "code",
      "execution_count": null,
      "metadata": {
        "id": "54591764"
      },
      "outputs": [],
      "source": [
        "# dataset variables\n",
        "dfd = pd.DataFrame(df)\n",
        "dfd = dfd[['Perceived_Race', 'Sex', 'ArrestLocDiv', 'Occurrence_Category','StripSearch' ]]\n",
        "tpd = dfd"
      ]
    },
    {
      "cell_type": "code",
      "execution_count": null,
      "metadata": {
        "id": "44ab29e5"
      },
      "outputs": [],
      "source": [
        "tpd.info()"
      ]
    },
    {
      "cell_type": "code",
      "execution_count": null,
      "metadata": {
        "id": "dff45047"
      },
      "outputs": [],
      "source": [
        "#review dataset\n",
        "\n",
        "tpd"
      ]
    },
    {
      "cell_type": "code",
      "execution_count": null,
      "metadata": {
        "id": "7223b9f3"
      },
      "outputs": [],
      "source": [
        "tpd.Occurrence_Category.unique()"
      ]
    },
    {
      "cell_type": "code",
      "execution_count": null,
      "metadata": {
        "id": "50ab0e49"
      },
      "outputs": [],
      "source": [
        "tpd.Occurrence_Category.value_counts()"
      ]
    },
    {
      "cell_type": "code",
      "execution_count": null,
      "metadata": {
        "id": "537581b8"
      },
      "outputs": [],
      "source": [
        "#chk for null values\n",
        "tpd.Occurrence_Category.isnull().sum()"
      ]
    },
    {
      "cell_type": "code",
      "execution_count": null,
      "metadata": {
        "id": "a843ffbb"
      },
      "outputs": [],
      "source": [
        "#drop null values \n",
        "tpd = tpd[~tpd.Occurrence_Category.isnull()].copy()\n",
        "tpd.Occurrence_Category.isnull().sum()"
      ]
    },
    {
      "cell_type": "code",
      "execution_count": null,
      "metadata": {
        "id": "80f4e4cd"
      },
      "outputs": [],
      "source": [
        "#categorize Occurrence_Category values to Severe, Medium,. Mild\n",
        "#reference: https://www.projectpro.io/recipes/map-values-in-pandas-dataframe\n",
        "Occurrence_Level = {'Assault': 'Severe', 'Assault & Other crimes against persons': 'Severe', 'Sexual Related Crime':'Severe',\\\n",
        "                'Drug Related': 'Severe', 'Weapons': 'Severe', 'Weapons & Homicide': 'Severe', \\\n",
        "                'Sexual Related Crimes & Crimes Against Children':'Severe','Crimes against Children': 'Severe', 'Mental Health': 'Severe',\\\n",
        "                'Homicide':'Severe','Robbery/Theft': 'Moderate', 'Robbery & Theft': 'Moderate','Vehicle Related (inc. Impaired)':'Moderate',\\\n",
        "                  'Break and Enter':'Moderate', 'Break & Enter': 'Moderate', 'Vehicle Related' : 'Moderate', 'Impaired': 'Moderate',\\\n",
        "                'Harassment/Threatening': 'Moderate','Harassment & Threatening': 'Moderate', 'Mischief & Fraud': 'Moderate', 'Mischief':'Moderate',\\\n",
        "                 'Fraud':'Moderate', 'FTA/FTC/Compliance Check/Parollee': 'Mild','Warrant': 'Mild',\\\n",
        "       'Police Category - Administrative': 'Mild','FTA/FTC, Compliance Check & Parollee': 'Mild',\\\n",
        "       'Other Offence': 'Mild','Police Category - Incident': 'Mild', 'LLA': 'Mild', 'Other Statute': 'Mild',\\\n",
        "       'Other Statute & Other Incident Type': 'Mild'}\n",
        "\n",
        "print(Occurrence_Level)\n"
      ]
    },
    {
      "cell_type": "code",
      "execution_count": null,
      "metadata": {
        "id": "83fb9dc2"
      },
      "outputs": [],
      "source": [
        "#Create new column Occurrence_Level\n",
        "#reference: https://www.projectpro.io/recipes/map-values-in-pandas-dataframe\n",
        "tpd['Occurrence_Level'] = tpd['Occurrence_Category'].map(Occurrence_Level)\n",
        "\n",
        "tpd   "
      ]
    },
    {
      "cell_type": "code",
      "execution_count": null,
      "metadata": {
        "id": "b1fb87ad"
      },
      "outputs": [],
      "source": [
        "tpd.Occurrence_Level.unique()"
      ]
    },
    {
      "cell_type": "code",
      "execution_count": null,
      "metadata": {
        "id": "68a4cf0a"
      },
      "outputs": [],
      "source": [
        "#create new dataset -- extract relevant columns\n",
        "tpd_dum = tpd[['ArrestLocDiv','Occurrence_Level', 'StripSearch', 'Perceived_Race']]\n",
        "tpd_dum"
      ]
    },
    {
      "cell_type": "code",
      "execution_count": null,
      "metadata": {
        "id": "896c43b8"
      },
      "outputs": [],
      "source": [
        "#source: https://www.statology.org/one-hot-encoding-in-python/\n",
        "\n",
        "#import relevant libraries/ modules\n",
        "#onehotencode Occurrence_Level values\n",
        "\n",
        "from sklearn.preprocessing import OneHotEncoder\n",
        "\n",
        "#creating instance of one-hot-encoder\n",
        "encoder = OneHotEncoder(handle_unknown='ignore')\n",
        "\n",
        "#perform one-hot encoding on 'team' column \n",
        "encoder_tpd_d = pd.DataFrame(encoder.fit_transform(tpd_dum[['Occurrence_Level']]).toarray())\n",
        "\n",
        "#merge one-hot encoded columns back with original DataFrame\n",
        "final_tpd = tpd_dum.join(encoder_tpd_d)\n",
        "\n",
        "print(final_tpd)"
      ]
    },
    {
      "cell_type": "code",
      "execution_count": null,
      "metadata": {
        "id": "94f11ca7"
      },
      "outputs": [],
      "source": [
        "#drop reference column\n",
        "final_tpd.drop('Occurrence_Level', axis=1, inplace=True)\n",
        "final_tpd"
      ]
    },
    {
      "cell_type": "code",
      "execution_count": null,
      "metadata": {
        "id": "db86b4d6"
      },
      "outputs": [],
      "source": [
        "#rename onehotencoded columns\n",
        "#view final dataset\n",
        "final_tpd.columns = ['ArrestLocDiv','StripSearch', 'Perceived_Race','Mild', 'Moderate', 'Severe']\n",
        "final_tpd"
      ]
    },
    {
      "cell_type": "code",
      "execution_count": null,
      "metadata": {
        "id": "bd6085ee"
      },
      "outputs": [],
      "source": [
        "# check for NaN and null values for Mild\n",
        "final_tpd.Mild.isna().sum()"
      ]
    },
    {
      "cell_type": "code",
      "execution_count": null,
      "metadata": {
        "id": "0de29b57"
      },
      "outputs": [],
      "source": [
        "final_tpd.Mild.isnull().sum()"
      ]
    },
    {
      "cell_type": "code",
      "execution_count": null,
      "metadata": {
        "id": "63a3cc62"
      },
      "outputs": [],
      "source": [
        "#drop null and NaN values for Mild\n",
        "final_tpd= final_tpd[~final_tpd.Mild.isna()].copy()\n",
        "final_tpd.Mild.isna().sum()"
      ]
    },
    {
      "cell_type": "code",
      "execution_count": null,
      "metadata": {
        "id": "ef255508"
      },
      "outputs": [],
      "source": [
        "final_tpd= final_tpd[~final_tpd.Mild.isnull()].copy()\n",
        "final_tpd.Mild.isnull().sum()"
      ]
    },
    {
      "cell_type": "code",
      "execution_count": null,
      "metadata": {
        "id": "5d56bbe5"
      },
      "outputs": [],
      "source": [
        "# check for NaN and null values for Moderate\n",
        "final_tpd.Moderate.isnull().sum()"
      ]
    },
    {
      "cell_type": "code",
      "execution_count": null,
      "metadata": {
        "id": "92e71c22"
      },
      "outputs": [],
      "source": [
        "final_tpd.Moderate.isna().sum()"
      ]
    },
    {
      "cell_type": "code",
      "execution_count": null,
      "metadata": {
        "id": "7fd66af2"
      },
      "outputs": [],
      "source": [
        "#drop null and NaN values for Moderate\n",
        "final_tpd= final_tpd[~final_tpd.Moderate.isnull()].copy()\n",
        "final_tpd= final_tpd[~final_tpd.Moderate.isna()].copy()\n",
        "final_tpd.Moderate.isna().sum()\n",
        "final_tpd.Moderate.isnull().sum()"
      ]
    },
    {
      "cell_type": "code",
      "execution_count": null,
      "metadata": {
        "id": "eb82d405"
      },
      "outputs": [],
      "source": [
        "#check for null and NaN values for Severe\n",
        "#final_tpd.Severe.isna().sum()\n",
        "final_tpd.Severe.isnull().sum()"
      ]
    },
    {
      "cell_type": "code",
      "execution_count": null,
      "metadata": {
        "id": "eec27fba"
      },
      "outputs": [],
      "source": [
        "#view new and cleaned dataset\n",
        "final_tpd"
      ]
    },
    {
      "cell_type": "code",
      "execution_count": null,
      "metadata": {
        "id": "2b98fe6a"
      },
      "outputs": [],
      "source": [
        "final_tpd.info()"
      ]
    },
    {
      "cell_type": "code",
      "execution_count": null,
      "metadata": {
        "id": "86e344c1"
      },
      "outputs": [],
      "source": [
        "print(final_tpd.shape[0])"
      ]
    },
    {
      "cell_type": "code",
      "execution_count": null,
      "metadata": {
        "id": "d9f3d6ce"
      },
      "outputs": [],
      "source": [
        "# source: https://github.com/shamina-v/inf2178-expdesignfordatascience-w23/blob/main/Lab/Power_analysis_example03_13.ipynb\n",
        "\n",
        "# Power Calculation\n",
        "\n",
        "## import relevant libraries\n",
        "import pandas as pd\n",
        "import numpy as np\n",
        "import matplotlib.pyplot as plt\n",
        "import seaborn as sns\n",
        "%matplotlib inline \n",
        "import statsmodels\n",
        "pd.options.display.max_columns = None #show all columns in data\n",
        "\n",
        "\n",
        "##code for Cohen's D \n",
        "\n",
        "##function to calculate the pooled standard deviation of 2 samples\n",
        "def pooled_standard_deviation(sample1,sample2):\n",
        "    #calculate the sample size\n",
        "    n1, n2 = len(sample1), len(sample2)\n",
        "    #calculate the variances\n",
        "    var1, var2 = np.var(sample1, ddof=1), np.var(sample2, ddof=1)\n",
        "    #calculate the pooled standard deviation\n",
        "    numerator = ((n1-1) * var1) + ((n2-1) * var2)\n",
        "    denominator = n1+n2-2\n",
        "    return np.sqrt(numerator/denominator)\n",
        "\n",
        "## function to calculate Cohen's d for independent samples\n",
        "def Cohens_d(sample1, sample2):\n",
        "    u1, u2 = np.mean(sample1), np.mean(sample2)\n",
        "    s_pooled = pooled_standard_deviation(sample1, sample2)\n",
        "    #print(s_pooled)\n",
        "    return ((u1 - u2) / s_pooled)"
      ]
    },
    {
      "cell_type": "code",
      "execution_count": null,
      "metadata": {
        "id": "c41894fe"
      },
      "outputs": [],
      "source": [
        "# power analysis t-test\n",
        "\n",
        "np.random.seed(12345)\n",
        "\n",
        "import scipy.stats\n",
        "import statsmodels.stats.power as smp\n",
        "import matplotlib.pyplot as plt\n",
        "\n",
        "power_analysis = smp.TTestIndPower()\n",
        "sample_size = power_analysis.solve_power(effect_size=0.5, power=0.8, alpha=0.05)\n",
        "sample_size\n",
        "\n",
        "\n"
      ]
    },
    {
      "cell_type": "code",
      "execution_count": null,
      "metadata": {
        "id": "26b6f1d0"
      },
      "outputs": [],
      "source": [
        "# reference: https://github.com/shamina-v/inf2178-expdesignfordatascience-w23/blob/main/Lab/Power_analysis_example03_13.ipynb\n",
        "\n",
        "#create race based categories from dataset \n",
        "#create two different datasets one with Perceived_Race White and the other with Indigenous for moderate level crimes\n",
        "\n",
        "PR_White = final_tpd[final_tpd['Perceived_Race']=='White']\n",
        "PR_Indigenous = final_tpd[final_tpd['Perceived_Race']=='Indigenous']\n",
        "                                     \n",
        "PWR_Modl = PR_White['Moderate']                                 \n",
        "IND_Modl = PR_Indigenous['Moderate'] \n",
        "\n",
        "PR_Indigenous\n"
      ]
    },
    {
      "cell_type": "code",
      "execution_count": null,
      "metadata": {
        "id": "431e1807"
      },
      "outputs": [],
      "source": [
        "#source : https://github.com/shamina-v/inf2178-expdesignfordatascience-w23/blob/main/Lab/Power_analysis_example03_13.ipynb\n",
        "#conduct power analysis \n",
        "from statsmodels.stats.power import TTestIndPower\n",
        "effect_size = Cohens_d(PWR_Modl,IND_Modl)\n",
        "alpha = 0.05\n",
        "power = 0.8\n",
        "ratio_ =len(PWR_Modl)/len(IND_Modl) #NB: ratio = nobs2/nobs1\n",
        "print('Effect size (Cohen\\'s D) for crime level Moderate:',effect_size)\n"
      ]
    },
    {
      "cell_type": "code",
      "execution_count": null,
      "metadata": {
        "id": "920c4b2d"
      },
      "outputs": [],
      "source": [
        "#https://www.statsmodels.org/dev/generated/statsmodels.stats.power.TTestIndPower.solve_power.html\n",
        "analysis = TTestIndPower()\n",
        "sample_size = analysis.solve_power(effect_size, power=power, nobs1=None, ratio=ratio_, alpha=alpha)\n",
        "print('Sample Size of nobs1: %.3f' % sample_size, 'needed for IND_Modl ') \n",
        "print('Actual size of IND_Modl:', len(IND_Modl))\n",
        "nobs2 =ratio_*sample_size\n",
        "print('Sample Size of nobs2: %.3f' % nobs2, 'needed for PWR_Modl')\n",
        "print('Actual size of PWR_Modl:', len(PWR_Modl))"
      ]
    },
    {
      "cell_type": "code",
      "execution_count": null,
      "metadata": {
        "id": "5c87e4c4"
      },
      "outputs": [],
      "source": [
        "effect_sizes = np.array([0.2, 0.5, 0.8])\n",
        "sample_sizes = np.array(range(5, 100))\n",
        "  \n",
        "# plot power curves\n",
        "analysis.plot_power(dep_var='nobs', nobs=sample_sizes,\n",
        "               effect_size=effect_sizes)\n",
        "  \n",
        "plt.show()"
      ]
    },
    {
      "cell_type": "code",
      "execution_count": null,
      "metadata": {
        "id": "76390db7"
      },
      "outputs": [],
      "source": [
        "#Logistic Regression "
      ]
    },
    {
      "cell_type": "code",
      "source": [
        "tpd"
      ],
      "metadata": {
        "id": "mZuv_fied1hq"
      },
      "execution_count": null,
      "outputs": []
    },
    {
      "cell_type": "code",
      "source": [
        "final_tpd"
      ],
      "metadata": {
        "id": "CzRDalMad2-R"
      },
      "execution_count": null,
      "outputs": []
    },
    {
      "cell_type": "code",
      "source": [
        "import pandas as pd \n",
        "from sklearn.model_selection import train_test_split\n",
        "from sklearn.preprocessing import OneHotEncoder\n",
        "import numpy as np\n",
        "pd.options.display.max_columns = None #show all columns in data\n",
        "\n",
        "#select random predictor numerical features.  \n",
        "x = tpd[['ArrestLocDiv', 'Perceived_Race', 'Sex', 'Occurrence_Level']].copy()\n",
        "\n",
        "\n",
        "# Select the response column \n",
        "y = tpd['StripSearch']"
      ],
      "metadata": {
        "id": "JxeW7liKd6yz"
      },
      "execution_count": null,
      "outputs": []
    },
    {
      "cell_type": "code",
      "source": [
        "x.groupby('Occurrence_Level').size()"
      ],
      "metadata": {
        "id": "7lEgzg5td-jZ"
      },
      "execution_count": null,
      "outputs": []
    },
    {
      "cell_type": "code",
      "source": [
        "x.info()"
      ],
      "metadata": {
        "id": "1C5k0aR1eCiG"
      },
      "execution_count": null,
      "outputs": []
    },
    {
      "cell_type": "code",
      "source": [
        "#yes.unique()\n",
        "y.info()"
      ],
      "metadata": {
        "id": "KoKTISAFeGw3"
      },
      "execution_count": null,
      "outputs": []
    },
    {
      "cell_type": "code",
      "source": [
        "y_train"
      ],
      "metadata": {
        "id": "uGHX5yq9eW6q"
      },
      "execution_count": null,
      "outputs": []
    },
    {
      "cell_type": "code",
      "source": [
        "#building the model with statsmodels\n",
        "import statsmodels.formula.api as smf\n",
        "\n",
        "# Create the formula string \n",
        "all_columns = ' + '.join(x)\n",
        "formula = \"StripSearch ~ \" + all_columns \n",
        "print(\"Formula: \", formula, \"\\n\")\n",
        "\n",
        "# Put the training predictors and responses into one DataFrame to be input into the model\n",
        "trainingdata = pd.concat([x_train,y_train], axis = 1)\n",
        "\n",
        "# Build the model\n",
        "log_reg_1 = smf.logit(formula, data=trainingdata).fit()"
      ],
      "metadata": {
        "id": "klvdVWDvekWf"
      },
      "execution_count": null,
      "outputs": []
    },
    {
      "cell_type": "code",
      "source": [
        "log_reg_1.summary()\n"
      ],
      "metadata": {
        "id": "IwgHmppje5Jw"
      },
      "execution_count": null,
      "outputs": []
    },
    {
      "cell_type": "code",
      "source": [
        "reg = smf.logit('StripSearch ~ ArrestLocDiv + Perceived_Race + Sex + Occurrence_Level', data=trainingdata).fit()\n",
        "print(reg.summary())\n",
        "                "
      ],
      "metadata": {
        "id": "kohwY-cgfJsC"
      },
      "execution_count": null,
      "outputs": []
    },
    {
      "cell_type": "code",
      "source": [
        "#getting odds ratio \n",
        "np.exp(reg.params)"
      ],
      "metadata": {
        "id": "8b2k9RphfK4A"
      },
      "execution_count": null,
      "outputs": []
    },
    {
      "cell_type": "code",
      "source": [
        "params = reg.params\n",
        "conf = reg.conf_int()\n",
        "conf['OR'] = params\n",
        "conf.columns = [\"Lower CI\", \"Upper CI\", \"OR\"]\n",
        "np.exp(conf)"
      ],
      "metadata": {
        "id": "oAq6hSb6fcPg"
      },
      "execution_count": null,
      "outputs": []
    },
    {
      "cell_type": "code",
      "source": [
        "from sklearn.metrics import confusion_matrix, accuracy_score\n",
        "# Predict responses \n",
        "pred_1 = log_reg_1.predict(x_test)\n",
        "# round() rounds to nearest integer;\n",
        "# 0.5 rounds to 0; 0.501 rounds to 1\n",
        "prediction_1 = list(map(round, pred_1))"
      ],
      "metadata": {
        "id": "QPluI00zf0Qd"
      },
      "execution_count": null,
      "outputs": []
    },
    {
      "cell_type": "code",
      "source": [
        "# Accuracy score\n",
        "print('\\nTest accuracy = ', accuracy_score(y_test, prediction_1))"
      ],
      "metadata": {
        "id": "XP5uKjGdgAac"
      },
      "execution_count": null,
      "outputs": []
    },
    {
      "cell_type": "code",
      "source": [
        "# Confusion matrix\n",
        "#https://scikit-learn.org/stable/modules/generated/sklearn.metrics.confusion_matrix.html\n",
        "#C0,0 is true negative, C1,0 is false negative, C1,1 is true positive, C0,1 false positive \n",
        "\n",
        "cm = confusion_matrix(y_test, prediction_1) \n",
        "print (\"\\nConfusion Matrix : \\n\", cm) "
      ],
      "metadata": {
        "id": "7smNrlOjgGcf"
      },
      "execution_count": null,
      "outputs": []
    },
    {
      "cell_type": "code",
      "source": [
        "#source: https://www.w3schools.com/python/python_ml_confusion_matrix.asp\n",
        "import matplotlib.pyplot as plt\n",
        "import numpy\n",
        "from sklearn import metrics\n",
        "\n",
        "actual = numpy.random.binomial(1,.9,size = 1000)\n",
        "predicted = numpy.random.binomial(1,.9,size = 1000)\n",
        "\n",
        "confusion_matrix = metrics.confusion_matrix(y_test, prediction_1)\n",
        "\n",
        "cm_display = metrics.ConfusionMatrixDisplay(confusion_matrix = confusion_matrix, display_labels = [False, True])\n",
        "\n",
        "cm_display.plot()\n",
        "plt.show()"
      ],
      "metadata": {
        "id": "DLvG8OaaJBk5"
      },
      "execution_count": null,
      "outputs": []
    }
  ]
}