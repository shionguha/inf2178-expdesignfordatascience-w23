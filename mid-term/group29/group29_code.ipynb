{
  "nbformat": 4,
  "nbformat_minor": 0,
  "metadata": {
    "colab": {
      "provenance": [],
      "include_colab_link": true
    },
    "kernelspec": {
      "name": "python3",
      "display_name": "Python 3"
    },
    "language_info": {
      "name": "python"
    }
  },
  "cells": [
    {
      "cell_type": "markdown",
      "metadata": {
        "id": "view-in-github",
        "colab_type": "text"
      },
      "source": [
        "<a href=\"https://colab.research.google.com/github/vgorchkova/inf2178-expdesignfordatascience-w23/blob/main/mid-term/group29/group29_code.ipynb\" target=\"_parent\"><img src=\"https://colab.research.google.com/assets/colab-badge.svg\" alt=\"Open In Colab\"/></a>"
      ]
    },
    {
      "cell_type": "code",
      "execution_count": null,
      "metadata": {
        "id": "zojA3X5vXOXp"
      },
      "outputs": [],
      "source": [
        "import pandas as pd\n",
        "import numpy as np\n",
        "import matplotlib.pyplot as plt\n",
        "import seaborn as sns\n",
        "from scipy import stats\n",
        "from scipy.stats import levene"
      ]
    },
    {
      "cell_type": "markdown",
      "source": [
        "# **Clean the Dataset**"
      ],
      "metadata": {
        "id": "CX6HfrOyh5DT"
      }
    },
    {
      "cell_type": "markdown",
      "source": [
        "The dataset needed to be imported and prepared for data analysis.\n",
        "\n",
        "The dataset is collected and maintained by the Toronto Police Service and documents arrests and strip searches conducted by the TPS.\n",
        "\n",
        "Demographic information about the individuals arrested is collected by the TPS."
      ],
      "metadata": {
        "id": "82cJhlnSIen0"
      }
    },
    {
      "cell_type": "code",
      "source": [
        "# Import the dataset\n",
        "url = \"https://raw.githubusercontent.com/shionguha/inf2178-expdesignfordatascience-w23/main/project%20dataset/Arrests_and_Strip_Searches_(RBDC-ARR-TBL-001).csv\"\n",
        "df = pd.read_csv(url)\n",
        "\n",
        "# Remove columns unnecessary to analysis\n",
        "col = ['Arrest_Year', 'Arrest_Month', 'EventID', 'ArrestID', 'PersonID',\\\n",
        "       'Booked', 'Occurrence_Category','Actions_at_arrest___Concealed_i',\\\n",
        "       'Actions_at_arrest___Combative__', 'Actions_at_arrest___Resisted__d',\\\n",
        "       'Actions_at_arrest___Assaulted_o', 'Actions_at_arrest___Cooperative',\\\n",
        "       'SearchReason_CauseInjury', 'SearchReason_AssistEscape', \\\n",
        "       'SearchReason_PossessWeapons', 'SearchReason_PossessEvidence',\\\n",
        "       'ItemsFound', 'ObjectId','ArrestLocDiv']\n",
        "df_cleaned = df.drop(columns=col)\n",
        "\n",
        "# Remove columns with null values (if any).\n",
        "df_cleaned.dropna(axis=0)\n",
        "\n",
        "# Remove columns with 'Unknown or Legacy' for perceived race.\n",
        "df_cleaned.drop(df_cleaned[df_cleaned['Perceived_Race'] == \"Unknown or Legacy\"].index, inplace = True)\n",
        "\n",
        "# Remove the 'U' Sex, since there are only 6 in the entire dataset.\n",
        "df_cleaned.drop(df_cleaned[df_cleaned['Sex'] == \"U\"].index, inplace = True)\n",
        "\n",
        "# Make the Youth_at_arrest__under_18_years a boolean value\n",
        "df_cleaned.replace(\"Not a youth\", 0, inplace=True)\n",
        "df_cleaned.replace(['Youth (aged 17 and younger)',\\\n",
        "                    'Youth (aged 17 years and under)'], 1,inplace=True)\n",
        "\n",
        "\n",
        "\n",
        "\n",
        "#Rename columns to be more legible\n",
        "df_cleaned.rename(columns={'Perceived_Race':'Race',\\\n",
        "                           \"Actions_at_arrest___Mental_inst\":\"MH_Incident\",\n",
        "                           \"Age_group__at_arrest_\":\"Age_Group\",\\\n",
        "                           \"Youth_at_arrest__under_18_years\":\"Minor\"}, inplace=True)\n",
        "df_cleaned.head(10)"
      ],
      "metadata": {
        "id": "eF1FCdc2Xtc0",
        "colab": {
          "base_uri": "https://localhost:8080/",
          "height": 363
        },
        "outputId": "41511683-4f55-46c9-8480-0bad49da923c"
      },
      "execution_count": null,
      "outputs": [
        {
          "output_type": "execute_result",
          "data": {
            "text/plain": [
              "           Race Sex            Age_Group  Minor  StripSearch  MH_Incident\n",
              "0         White   M  Aged 35 to 44 years      0            0            0\n",
              "1         White   M  Aged 35 to 44 years      0            0            0\n",
              "3         Black   M  Aged 25 to 34 years      0            0            0\n",
              "4   South Asian   M  Aged 25 to 34 years      0            0            0\n",
              "5   South Asian   M  Aged 25 to 34 years      0            0            0\n",
              "6         Black   M  Aged 25 to 34 years      0            0            0\n",
              "7         Black   M  Aged 25 to 34 years      0            0            0\n",
              "8         Black   M  Aged 25 to 34 years      0            0            0\n",
              "9         Black   M  Aged 25 to 34 years      0            0            0\n",
              "10        Black   M  Aged 25 to 34 years      0            0            0"
            ],
            "text/html": [
              "\n",
              "  <div id=\"df-dcff182f-3fc5-4548-8d18-3e4df248d638\">\n",
              "    <div class=\"colab-df-container\">\n",
              "      <div>\n",
              "<style scoped>\n",
              "    .dataframe tbody tr th:only-of-type {\n",
              "        vertical-align: middle;\n",
              "    }\n",
              "\n",
              "    .dataframe tbody tr th {\n",
              "        vertical-align: top;\n",
              "    }\n",
              "\n",
              "    .dataframe thead th {\n",
              "        text-align: right;\n",
              "    }\n",
              "</style>\n",
              "<table border=\"1\" class=\"dataframe\">\n",
              "  <thead>\n",
              "    <tr style=\"text-align: right;\">\n",
              "      <th></th>\n",
              "      <th>Race</th>\n",
              "      <th>Sex</th>\n",
              "      <th>Age_Group</th>\n",
              "      <th>Minor</th>\n",
              "      <th>StripSearch</th>\n",
              "      <th>MH_Incident</th>\n",
              "    </tr>\n",
              "  </thead>\n",
              "  <tbody>\n",
              "    <tr>\n",
              "      <th>0</th>\n",
              "      <td>White</td>\n",
              "      <td>M</td>\n",
              "      <td>Aged 35 to 44 years</td>\n",
              "      <td>0</td>\n",
              "      <td>0</td>\n",
              "      <td>0</td>\n",
              "    </tr>\n",
              "    <tr>\n",
              "      <th>1</th>\n",
              "      <td>White</td>\n",
              "      <td>M</td>\n",
              "      <td>Aged 35 to 44 years</td>\n",
              "      <td>0</td>\n",
              "      <td>0</td>\n",
              "      <td>0</td>\n",
              "    </tr>\n",
              "    <tr>\n",
              "      <th>3</th>\n",
              "      <td>Black</td>\n",
              "      <td>M</td>\n",
              "      <td>Aged 25 to 34 years</td>\n",
              "      <td>0</td>\n",
              "      <td>0</td>\n",
              "      <td>0</td>\n",
              "    </tr>\n",
              "    <tr>\n",
              "      <th>4</th>\n",
              "      <td>South Asian</td>\n",
              "      <td>M</td>\n",
              "      <td>Aged 25 to 34 years</td>\n",
              "      <td>0</td>\n",
              "      <td>0</td>\n",
              "      <td>0</td>\n",
              "    </tr>\n",
              "    <tr>\n",
              "      <th>5</th>\n",
              "      <td>South Asian</td>\n",
              "      <td>M</td>\n",
              "      <td>Aged 25 to 34 years</td>\n",
              "      <td>0</td>\n",
              "      <td>0</td>\n",
              "      <td>0</td>\n",
              "    </tr>\n",
              "    <tr>\n",
              "      <th>6</th>\n",
              "      <td>Black</td>\n",
              "      <td>M</td>\n",
              "      <td>Aged 25 to 34 years</td>\n",
              "      <td>0</td>\n",
              "      <td>0</td>\n",
              "      <td>0</td>\n",
              "    </tr>\n",
              "    <tr>\n",
              "      <th>7</th>\n",
              "      <td>Black</td>\n",
              "      <td>M</td>\n",
              "      <td>Aged 25 to 34 years</td>\n",
              "      <td>0</td>\n",
              "      <td>0</td>\n",
              "      <td>0</td>\n",
              "    </tr>\n",
              "    <tr>\n",
              "      <th>8</th>\n",
              "      <td>Black</td>\n",
              "      <td>M</td>\n",
              "      <td>Aged 25 to 34 years</td>\n",
              "      <td>0</td>\n",
              "      <td>0</td>\n",
              "      <td>0</td>\n",
              "    </tr>\n",
              "    <tr>\n",
              "      <th>9</th>\n",
              "      <td>Black</td>\n",
              "      <td>M</td>\n",
              "      <td>Aged 25 to 34 years</td>\n",
              "      <td>0</td>\n",
              "      <td>0</td>\n",
              "      <td>0</td>\n",
              "    </tr>\n",
              "    <tr>\n",
              "      <th>10</th>\n",
              "      <td>Black</td>\n",
              "      <td>M</td>\n",
              "      <td>Aged 25 to 34 years</td>\n",
              "      <td>0</td>\n",
              "      <td>0</td>\n",
              "      <td>0</td>\n",
              "    </tr>\n",
              "  </tbody>\n",
              "</table>\n",
              "</div>\n",
              "      <button class=\"colab-df-convert\" onclick=\"convertToInteractive('df-dcff182f-3fc5-4548-8d18-3e4df248d638')\"\n",
              "              title=\"Convert this dataframe to an interactive table.\"\n",
              "              style=\"display:none;\">\n",
              "        \n",
              "  <svg xmlns=\"http://www.w3.org/2000/svg\" height=\"24px\"viewBox=\"0 0 24 24\"\n",
              "       width=\"24px\">\n",
              "    <path d=\"M0 0h24v24H0V0z\" fill=\"none\"/>\n",
              "    <path d=\"M18.56 5.44l.94 2.06.94-2.06 2.06-.94-2.06-.94-.94-2.06-.94 2.06-2.06.94zm-11 1L8.5 8.5l.94-2.06 2.06-.94-2.06-.94L8.5 2.5l-.94 2.06-2.06.94zm10 10l.94 2.06.94-2.06 2.06-.94-2.06-.94-.94-2.06-.94 2.06-2.06.94z\"/><path d=\"M17.41 7.96l-1.37-1.37c-.4-.4-.92-.59-1.43-.59-.52 0-1.04.2-1.43.59L10.3 9.45l-7.72 7.72c-.78.78-.78 2.05 0 2.83L4 21.41c.39.39.9.59 1.41.59.51 0 1.02-.2 1.41-.59l7.78-7.78 2.81-2.81c.8-.78.8-2.07 0-2.86zM5.41 20L4 18.59l7.72-7.72 1.47 1.35L5.41 20z\"/>\n",
              "  </svg>\n",
              "      </button>\n",
              "      \n",
              "  <style>\n",
              "    .colab-df-container {\n",
              "      display:flex;\n",
              "      flex-wrap:wrap;\n",
              "      gap: 12px;\n",
              "    }\n",
              "\n",
              "    .colab-df-convert {\n",
              "      background-color: #E8F0FE;\n",
              "      border: none;\n",
              "      border-radius: 50%;\n",
              "      cursor: pointer;\n",
              "      display: none;\n",
              "      fill: #1967D2;\n",
              "      height: 32px;\n",
              "      padding: 0 0 0 0;\n",
              "      width: 32px;\n",
              "    }\n",
              "\n",
              "    .colab-df-convert:hover {\n",
              "      background-color: #E2EBFA;\n",
              "      box-shadow: 0px 1px 2px rgba(60, 64, 67, 0.3), 0px 1px 3px 1px rgba(60, 64, 67, 0.15);\n",
              "      fill: #174EA6;\n",
              "    }\n",
              "\n",
              "    [theme=dark] .colab-df-convert {\n",
              "      background-color: #3B4455;\n",
              "      fill: #D2E3FC;\n",
              "    }\n",
              "\n",
              "    [theme=dark] .colab-df-convert:hover {\n",
              "      background-color: #434B5C;\n",
              "      box-shadow: 0px 1px 3px 1px rgba(0, 0, 0, 0.15);\n",
              "      filter: drop-shadow(0px 1px 2px rgba(0, 0, 0, 0.3));\n",
              "      fill: #FFFFFF;\n",
              "    }\n",
              "  </style>\n",
              "\n",
              "      <script>\n",
              "        const buttonEl =\n",
              "          document.querySelector('#df-dcff182f-3fc5-4548-8d18-3e4df248d638 button.colab-df-convert');\n",
              "        buttonEl.style.display =\n",
              "          google.colab.kernel.accessAllowed ? 'block' : 'none';\n",
              "\n",
              "        async function convertToInteractive(key) {\n",
              "          const element = document.querySelector('#df-dcff182f-3fc5-4548-8d18-3e4df248d638');\n",
              "          const dataTable =\n",
              "            await google.colab.kernel.invokeFunction('convertToInteractive',\n",
              "                                                     [key], {});\n",
              "          if (!dataTable) return;\n",
              "\n",
              "          const docLinkHtml = 'Like what you see? Visit the ' +\n",
              "            '<a target=\"_blank\" href=https://colab.research.google.com/notebooks/data_table.ipynb>data table notebook</a>'\n",
              "            + ' to learn more about interactive tables.';\n",
              "          element.innerHTML = '';\n",
              "          dataTable['output_type'] = 'display_data';\n",
              "          await google.colab.output.renderOutput(dataTable, element);\n",
              "          const docLink = document.createElement('div');\n",
              "          docLink.innerHTML = docLinkHtml;\n",
              "          element.appendChild(docLink);\n",
              "        }\n",
              "      </script>\n",
              "    </div>\n",
              "  </div>\n",
              "  "
            ]
          },
          "metadata": {},
          "execution_count": 2
        }
      ]
    },
    {
      "cell_type": "markdown",
      "source": [
        "# **Exploratory Data Analysis**"
      ],
      "metadata": {
        "id": "qWwaxVrnP_Lq"
      }
    },
    {
      "cell_type": "markdown",
      "source": [
        "**Count table and bar plot for related variables (Race, StripSearch and MH_Icident)**\n",
        "\n",
        "\n",
        "\n"
      ],
      "metadata": {
        "id": "YIJ1NEvIhWiB"
      }
    },
    {
      "cell_type": "markdown",
      "source": [
        "A count table of Race to understand the distribution"
      ],
      "metadata": {
        "id": "uKSpMA1xnQmM"
      }
    },
    {
      "cell_type": "code",
      "source": [
        "count_table_race = df_cleaned.value_counts(df_cleaned[\"Race\"])\n",
        "count_table_race"
      ],
      "metadata": {
        "id": "kDnQ7QeMP_j5",
        "colab": {
          "base_uri": "https://localhost:8080/"
        },
        "outputId": "375a22c5-438b-43ba-a93a-147b550c3797"
      },
      "execution_count": null,
      "outputs": [
        {
          "output_type": "execute_result",
          "data": {
            "text/plain": [
              "Race\n",
              "White                   27718\n",
              "Black                   17526\n",
              "East/Southeast Asian     4415\n",
              "South Asian              3613\n",
              "Middle-Eastern           3237\n",
              "Indigenous               1934\n",
              "Latino                   1767\n",
              "dtype: int64"
            ]
          },
          "metadata": {},
          "execution_count": 3
        }
      ]
    },
    {
      "cell_type": "code",
      "source": [
        "# Create a bar plot of the count table\n",
        "race_bar = count_table_race.plot.bar(figsize=(10, 6),fontsize = 14, color='#25355A')\n",
        "\n",
        "# Set the title and axis labels\n",
        "race_bar.set_title('Race Count',fontsize = 14)\n",
        "race_bar.set_xlabel('Race',fontsize = 14)\n",
        "race_bar.set_ylabel('Count',fontsize = 14)\n",
        "\n",
        "# Add a legend\n",
        "race_bar.legend(['Race'],fontsize = 14)"
      ],
      "metadata": {
        "colab": {
          "base_uri": "https://localhost:8080/",
          "height": 565
        },
        "id": "6vohB2KGnAIH",
        "outputId": "f01202ef-cfc2-46f2-e0c7-aa07c44f839c"
      },
      "execution_count": null,
      "outputs": [
        {
          "output_type": "execute_result",
          "data": {
            "text/plain": [
              "<matplotlib.legend.Legend at 0x7f4b0753b3d0>"
            ]
          },
          "metadata": {},
          "execution_count": 4
        },
        {
          "output_type": "display_data",
          "data": {
            "text/plain": [
              "<Figure size 720x432 with 1 Axes>"
            ],
            "image/png": "[encoded data removed]"
          },
          "metadata": {
            "needs_background": "light"
          }
        }
      ]
    },
    {
      "cell_type": "markdown",
      "source": [
        "# Strip Search"
      ],
      "metadata": {
        "id": "rCVLZovwnno2"
      }
    },
    {
      "cell_type": "code",
      "source": [
        "count_table_strip = df_cleaned.value_counts(df_cleaned[\"StripSearch\"])\n",
        "count_table_strip"
      ],
      "metadata": {
        "colab": {
          "base_uri": "https://localhost:8080/"
        },
        "id": "puJxQjWanqIH",
        "outputId": "f3481b21-f158-4c81-bd4c-7c202ab8dfd2"
      },
      "execution_count": null,
      "outputs": [
        {
          "output_type": "execute_result",
          "data": {
            "text/plain": [
              "StripSearch\n",
              "0    52949\n",
              "1     7265\n",
              "dtype: int64"
            ]
          },
          "metadata": {},
          "execution_count": 5
        }
      ]
    },
    {
      "cell_type": "code",
      "source": [
        "strip_bar = count_table_strip.plot.bar(figsize=(10, 6),color='#25355A')\n",
        "\n",
        "strip_bar.set_title('StripSearch count')\n",
        "strip_bar.set_xlabel('Strip Searched')\n",
        "strip_bar.set_ylabel('Count')"
      ],
      "metadata": {
        "colab": {
          "base_uri": "https://localhost:8080/",
          "height": 417
        },
        "id": "YS_36PqlnsCM",
        "outputId": "397141a4-4925-432e-f4ef-f19d13599fe4"
      },
      "execution_count": null,
      "outputs": [
        {
          "output_type": "execute_result",
          "data": {
            "text/plain": [
              "Text(0, 0.5, 'Count')"
            ]
          },
          "metadata": {},
          "execution_count": 6
        },
        {
          "output_type": "display_data",
          "data": {
            "text/plain": [
              "<Figure size 720x432 with 1 Axes>"
            ],
            "image/png": "[encoded data removed]"
          },
          "metadata": {
            "needs_background": "light"
          }
        }
      ]
    },
    {
      "cell_type": "markdown",
      "source": [
        "#Gender\n"
      ],
      "metadata": {
        "id": "6eEzyi_9Dklb"
      }
    },
    {
      "cell_type": "code",
      "source": [
        "count_table_Sex = df_cleaned.value_counts(df_cleaned[\"Sex\"])\n",
        "count_table_Sex"
      ],
      "metadata": {
        "colab": {
          "base_uri": "https://localhost:8080/"
        },
        "id": "moXnvv92Drz6",
        "outputId": "73fe028a-3ac0-43c1-c943-298190d75d0d"
      },
      "execution_count": null,
      "outputs": [
        {
          "output_type": "execute_result",
          "data": {
            "text/plain": [
              "Sex\n",
              "M    48523\n",
              "F    11691\n",
              "dtype: int64"
            ]
          },
          "metadata": {},
          "execution_count": 7
        }
      ]
    },
    {
      "cell_type": "code",
      "source": [
        "count_table_Sex = count_table_Sex.plot.bar(figsize=(10, 6),color='#25355A')\n",
        "\n",
        "count_table_Sex.set_title('Gender Count')\n",
        "count_table_Sex.set_xlabel('Gender')\n",
        "count_table_Sex.set_ylabel('Count')"
      ],
      "metadata": {
        "colab": {
          "base_uri": "https://localhost:8080/",
          "height": 421
        },
        "id": "1N3ph76WD0N-",
        "outputId": "0ba943b4-7192-4f2e-d624-3dd77c0eaeb5"
      },
      "execution_count": null,
      "outputs": [
        {
          "output_type": "execute_result",
          "data": {
            "text/plain": [
              "Text(0, 0.5, 'Count')"
            ]
          },
          "metadata": {},
          "execution_count": 10
        },
        {
          "output_type": "display_data",
          "data": {
            "text/plain": [
              "<Figure size 720x432 with 1 Axes>"
            ],
            "image/png": "[encoded data removed]"
          },
          "metadata": {
            "needs_background": "light"
          }
        }
      ]
    },
    {
      "cell_type": "markdown",
      "source": [
        "# Mental Health Incident"
      ],
      "metadata": {
        "id": "dyA1krbIn2UP"
      }
    },
    {
      "cell_type": "code",
      "source": [
        "count_table_MH_I = df_cleaned.value_counts(df_cleaned[\"MH_Incident\"])\n",
        "count_table_MH_I"
      ],
      "metadata": {
        "colab": {
          "base_uri": "https://localhost:8080/"
        },
        "id": "gSUXgiz6oHSC",
        "outputId": "319fab12-170e-46a0-f6fb-1a649c3c506d"
      },
      "execution_count": null,
      "outputs": [
        {
          "output_type": "execute_result",
          "data": {
            "text/plain": [
              "MH_Incident\n",
              "0    58139\n",
              "1     2075\n",
              "dtype: int64"
            ]
          },
          "metadata": {},
          "execution_count": 8
        }
      ]
    },
    {
      "cell_type": "code",
      "source": [
        "MH_I_bar = count_table_strip.plot.bar(figsize=(10, 6),color='#25355A')\n",
        "\n",
        "MH_I_bar.set_title('Mental Health Incident Count')\n",
        "MH_I_bar.set_xlabel('Mental Health Incident at Arrest')\n",
        "MH_I_bar.set_ylabel('Count')"
      ],
      "metadata": {
        "colab": {
          "base_uri": "https://localhost:8080/",
          "height": 417
        },
        "id": "pi916nCuoO6n",
        "outputId": "3b26226b-15ef-4b35-cb08-ddb0e070cd72"
      },
      "execution_count": null,
      "outputs": [
        {
          "output_type": "execute_result",
          "data": {
            "text/plain": [
              "Text(0, 0.5, 'Count')"
            ]
          },
          "metadata": {},
          "execution_count": 9
        },
        {
          "output_type": "display_data",
          "data": {
            "text/plain": [
              "<Figure size 720x432 with 1 Axes>"
            ],
            "image/png": "[encoded data removed]"
          },
          "metadata": {
            "needs_background": "light"
          }
        }
      ]
    },
    {
      "cell_type": "markdown",
      "source": [
        "# **Pivot Tables and Barplots of Probability**"
      ],
      "metadata": {
        "id": "WYW0p-rD_oJJ"
      }
    },
    {
      "cell_type": "markdown",
      "source": [
        "# Race vs. StripSearch\n",
        "Tp start, we can look at the absolute value counts of strip searches by race. "
      ],
      "metadata": {
        "id": "2YR6s6UHUKgF"
      }
    },
    {
      "cell_type": "code",
      "source": [
        "df_cleaned.groupby('Race').StripSearch.value_counts().plot.barh(color='#25355A')"
      ],
      "metadata": {
        "colab": {
          "base_uri": "https://localhost:8080/",
          "height": 282
        },
        "id": "72-J3p0aULtg",
        "outputId": "11f7549f-1119-48c5-9f7b-a574f75c1430"
      },
      "execution_count": null,
      "outputs": [
        {
          "output_type": "execute_result",
          "data": {
            "text/plain": [
              "<AxesSubplot:ylabel='Race,StripSearch'>"
            ]
          },
          "metadata": {},
          "execution_count": 10
        },
        {
          "output_type": "display_data",
          "data": {
            "text/plain": [
              "<Figure size 432x288 with 1 Axes>"
            ],
            "image/png": "[encoded data removed]"
          },
          "metadata": {
            "needs_background": "light"
          }
        }
      ]
    },
    {
      "cell_type": "markdown",
      "source": [
        "But this kind of data is difficult to interpret, so we might want to calculate the likelihood of someone of a particular race to be Strip searched upon arrest, by calculating the relative frequency."
      ],
      "metadata": {
        "id": "DIpbf4Uu_6Si"
      }
    },
    {
      "cell_type": "code",
      "source": [
        "pivot_Race_SS = pd.pivot_table(df_cleaned,index ='Race', values='StripSearch')\n",
        "pivot_Race_SS"
      ],
      "metadata": {
        "colab": {
          "base_uri": "https://localhost:8080/",
          "height": 300
        },
        "id": "8Gq5rak8_uf8",
        "outputId": "8180759c-3960-432d-87c9-c1f5bb981386"
      },
      "execution_count": null,
      "outputs": [
        {
          "output_type": "execute_result",
          "data": {
            "text/plain": [
              "                      StripSearch\n",
              "Race                             \n",
              "Black                    0.138879\n",
              "East/Southeast Asian     0.077237\n",
              "Indigenous               0.158221\n",
              "Latino                   0.074703\n",
              "Middle-Eastern           0.070436\n",
              "South Asian              0.071132\n",
              "White                    0.128653"
            ],
            "text/html": [
              "\n",
              "  <div id=\"df-93e149ad-4f56-48a7-a555-b3b1f2fe10cb\">\n",
              "    <div class=\"colab-df-container\">\n",
              "      <div>\n",
              "<style scoped>\n",
              "    .dataframe tbody tr th:only-of-type {\n",
              "        vertical-align: middle;\n",
              "    }\n",
              "\n",
              "    .dataframe tbody tr th {\n",
              "        vertical-align: top;\n",
              "    }\n",
              "\n",
              "    .dataframe thead th {\n",
              "        text-align: right;\n",
              "    }\n",
              "</style>\n",
              "<table border=\"1\" class=\"dataframe\">\n",
              "  <thead>\n",
              "    <tr style=\"text-align: right;\">\n",
              "      <th></th>\n",
              "      <th>StripSearch</th>\n",
              "    </tr>\n",
              "    <tr>\n",
              "      <th>Race</th>\n",
              "      <th></th>\n",
              "    </tr>\n",
              "  </thead>\n",
              "  <tbody>\n",
              "    <tr>\n",
              "      <th>Black</th>\n",
              "      <td>0.138879</td>\n",
              "    </tr>\n",
              "    <tr>\n",
              "      <th>East/Southeast Asian</th>\n",
              "      <td>0.077237</td>\n",
              "    </tr>\n",
              "    <tr>\n",
              "      <th>Indigenous</th>\n",
              "      <td>0.158221</td>\n",
              "    </tr>\n",
              "    <tr>\n",
              "      <th>Latino</th>\n",
              "      <td>0.074703</td>\n",
              "    </tr>\n",
              "    <tr>\n",
              "      <th>Middle-Eastern</th>\n",
              "      <td>0.070436</td>\n",
              "    </tr>\n",
              "    <tr>\n",
              "      <th>South Asian</th>\n",
              "      <td>0.071132</td>\n",
              "    </tr>\n",
              "    <tr>\n",
              "      <th>White</th>\n",
              "      <td>0.128653</td>\n",
              "    </tr>\n",
              "  </tbody>\n",
              "</table>\n",
              "</div>\n",
              "      <button class=\"colab-df-convert\" onclick=\"convertToInteractive('df-93e149ad-4f56-48a7-a555-b3b1f2fe10cb')\"\n",
              "              title=\"Convert this dataframe to an interactive table.\"\n",
              "              style=\"display:none;\">\n",
              "        \n",
              "  <svg xmlns=\"http://www.w3.org/2000/svg\" height=\"24px\"viewBox=\"0 0 24 24\"\n",
              "       width=\"24px\">\n",
              "    <path d=\"M0 0h24v24H0V0z\" fill=\"none\"/>\n",
              "    <path d=\"M18.56 5.44l.94 2.06.94-2.06 2.06-.94-2.06-.94-.94-2.06-.94 2.06-2.06.94zm-11 1L8.5 8.5l.94-2.06 2.06-.94-2.06-.94L8.5 2.5l-.94 2.06-2.06.94zm10 10l.94 2.06.94-2.06 2.06-.94-2.06-.94-.94-2.06-.94 2.06-2.06.94z\"/><path d=\"M17.41 7.96l-1.37-1.37c-.4-.4-.92-.59-1.43-.59-.52 0-1.04.2-1.43.59L10.3 9.45l-7.72 7.72c-.78.78-.78 2.05 0 2.83L4 21.41c.39.39.9.59 1.41.59.51 0 1.02-.2 1.41-.59l7.78-7.78 2.81-2.81c.8-.78.8-2.07 0-2.86zM5.41 20L4 18.59l7.72-7.72 1.47 1.35L5.41 20z\"/>\n",
              "  </svg>\n",
              "      </button>\n",
              "      \n",
              "  <style>\n",
              "    .colab-df-container {\n",
              "      display:flex;\n",
              "      flex-wrap:wrap;\n",
              "      gap: 12px;\n",
              "    }\n",
              "\n",
              "    .colab-df-convert {\n",
              "      background-color: #E8F0FE;\n",
              "      border: none;\n",
              "      border-radius: 50%;\n",
              "      cursor: pointer;\n",
              "      display: none;\n",
              "      fill: #1967D2;\n",
              "      height: 32px;\n",
              "      padding: 0 0 0 0;\n",
              "      width: 32px;\n",
              "    }\n",
              "\n",
              "    .colab-df-convert:hover {\n",
              "      background-color: #E2EBFA;\n",
              "      box-shadow: 0px 1px 2px rgba(60, 64, 67, 0.3), 0px 1px 3px 1px rgba(60, 64, 67, 0.15);\n",
              "      fill: #174EA6;\n",
              "    }\n",
              "\n",
              "    [theme=dark] .colab-df-convert {\n",
              "      background-color: #3B4455;\n",
              "      fill: #D2E3FC;\n",
              "    }\n",
              "\n",
              "    [theme=dark] .colab-df-convert:hover {\n",
              "      background-color: #434B5C;\n",
              "      box-shadow: 0px 1px 3px 1px rgba(0, 0, 0, 0.15);\n",
              "      filter: drop-shadow(0px 1px 2px rgba(0, 0, 0, 0.3));\n",
              "      fill: #FFFFFF;\n",
              "    }\n",
              "  </style>\n",
              "\n",
              "      <script>\n",
              "        const buttonEl =\n",
              "          document.querySelector('#df-93e149ad-4f56-48a7-a555-b3b1f2fe10cb button.colab-df-convert');\n",
              "        buttonEl.style.display =\n",
              "          google.colab.kernel.accessAllowed ? 'block' : 'none';\n",
              "\n",
              "        async function convertToInteractive(key) {\n",
              "          const element = document.querySelector('#df-93e149ad-4f56-48a7-a555-b3b1f2fe10cb');\n",
              "          const dataTable =\n",
              "            await google.colab.kernel.invokeFunction('convertToInteractive',\n",
              "                                                     [key], {});\n",
              "          if (!dataTable) return;\n",
              "\n",
              "          const docLinkHtml = 'Like what you see? Visit the ' +\n",
              "            '<a target=\"_blank\" href=https://colab.research.google.com/notebooks/data_table.ipynb>data table notebook</a>'\n",
              "            + ' to learn more about interactive tables.';\n",
              "          element.innerHTML = '';\n",
              "          dataTable['output_type'] = 'display_data';\n",
              "          await google.colab.output.renderOutput(dataTable, element);\n",
              "          const docLink = document.createElement('div');\n",
              "          docLink.innerHTML = docLinkHtml;\n",
              "          element.appendChild(docLink);\n",
              "        }\n",
              "      </script>\n",
              "    </div>\n",
              "  </div>\n",
              "  "
            ]
          },
          "metadata": {},
          "execution_count": 11
        }
      ]
    },
    {
      "cell_type": "code",
      "source": [
        "race_SS_bar = pivot_Race_SS.plot.bar(figsize=(10, 6),fontsize = 14, color='#25355A')\n",
        "\n",
        "race_SS_bar.set_title('Race VS. StripSearch',fontsize = 14)\n",
        "race_SS_bar.set_xlabel('Race',fontsize = 14)\n",
        "race_SS_bar.set_ylabel('Probability of StripSearch',fontsize = 14)\n",
        "race_SS_bar.legend().remove()"
      ],
      "metadata": {
        "colab": {
          "base_uri": "https://localhost:8080/",
          "height": 548
        },
        "id": "T23GkTDAAIXm",
        "outputId": "e9eda5f2-2e7a-4197-c20c-fd635449a905"
      },
      "execution_count": null,
      "outputs": [
        {
          "output_type": "display_data",
          "data": {
            "text/plain": [
              "<Figure size 720x432 with 1 Axes>"
            ],
            "image/png": "[encoded data removed]"
          },
          "metadata": {
            "needs_background": "light"
          }
        }
      ]
    },
    {
      "cell_type": "markdown",
      "source": [
        "#Sex vs StripSearch"
      ],
      "metadata": {
        "id": "qBGSoj1zD-ym"
      }
    },
    {
      "cell_type": "code",
      "source": [
        "pivot_Sex_SS = pd.pivot_table(df_cleaned,index ='Sex', values='StripSearch')\n",
        "pivot_Sex_SS"
      ],
      "metadata": {
        "colab": {
          "base_uri": "https://localhost:8080/",
          "height": 143
        },
        "id": "V0HMCRe8EBfZ",
        "outputId": "149c1aac-e9f4-42a7-fddd-435aba2ceead"
      },
      "execution_count": null,
      "outputs": [
        {
          "output_type": "execute_result",
          "data": {
            "text/plain": [
              "     StripSearch\n",
              "Sex             \n",
              "F       0.101531\n",
              "M       0.125260"
            ],
            "text/html": [
              "\n",
              "  <div id=\"df-74ecdc30-2e87-462e-b303-4f5a6a960303\">\n",
              "    <div class=\"colab-df-container\">\n",
              "      <div>\n",
              "<style scoped>\n",
              "    .dataframe tbody tr th:only-of-type {\n",
              "        vertical-align: middle;\n",
              "    }\n",
              "\n",
              "    .dataframe tbody tr th {\n",
              "        vertical-align: top;\n",
              "    }\n",
              "\n",
              "    .dataframe thead th {\n",
              "        text-align: right;\n",
              "    }\n",
              "</style>\n",
              "<table border=\"1\" class=\"dataframe\">\n",
              "  <thead>\n",
              "    <tr style=\"text-align: right;\">\n",
              "      <th></th>\n",
              "      <th>StripSearch</th>\n",
              "    </tr>\n",
              "    <tr>\n",
              "      <th>Sex</th>\n",
              "      <th></th>\n",
              "    </tr>\n",
              "  </thead>\n",
              "  <tbody>\n",
              "    <tr>\n",
              "      <th>F</th>\n",
              "      <td>0.101531</td>\n",
              "    </tr>\n",
              "    <tr>\n",
              "      <th>M</th>\n",
              "      <td>0.125260</td>\n",
              "    </tr>\n",
              "  </tbody>\n",
              "</table>\n",
              "</div>\n",
              "      <button class=\"colab-df-convert\" onclick=\"convertToInteractive('df-74ecdc30-2e87-462e-b303-4f5a6a960303')\"\n",
              "              title=\"Convert this dataframe to an interactive table.\"\n",
              "              style=\"display:none;\">\n",
              "        \n",
              "  <svg xmlns=\"http://www.w3.org/2000/svg\" height=\"24px\"viewBox=\"0 0 24 24\"\n",
              "       width=\"24px\">\n",
              "    <path d=\"M0 0h24v24H0V0z\" fill=\"none\"/>\n",
              "    <path d=\"M18.56 5.44l.94 2.06.94-2.06 2.06-.94-2.06-.94-.94-2.06-.94 2.06-2.06.94zm-11 1L8.5 8.5l.94-2.06 2.06-.94-2.06-.94L8.5 2.5l-.94 2.06-2.06.94zm10 10l.94 2.06.94-2.06 2.06-.94-2.06-.94-.94-2.06-.94 2.06-2.06.94z\"/><path d=\"M17.41 7.96l-1.37-1.37c-.4-.4-.92-.59-1.43-.59-.52 0-1.04.2-1.43.59L10.3 9.45l-7.72 7.72c-.78.78-.78 2.05 0 2.83L4 21.41c.39.39.9.59 1.41.59.51 0 1.02-.2 1.41-.59l7.78-7.78 2.81-2.81c.8-.78.8-2.07 0-2.86zM5.41 20L4 18.59l7.72-7.72 1.47 1.35L5.41 20z\"/>\n",
              "  </svg>\n",
              "      </button>\n",
              "      \n",
              "  <style>\n",
              "    .colab-df-container {\n",
              "      display:flex;\n",
              "      flex-wrap:wrap;\n",
              "      gap: 12px;\n",
              "    }\n",
              "\n",
              "    .colab-df-convert {\n",
              "      background-color: #E8F0FE;\n",
              "      border: none;\n",
              "      border-radius: 50%;\n",
              "      cursor: pointer;\n",
              "      display: none;\n",
              "      fill: #1967D2;\n",
              "      height: 32px;\n",
              "      padding: 0 0 0 0;\n",
              "      width: 32px;\n",
              "    }\n",
              "\n",
              "    .colab-df-convert:hover {\n",
              "      background-color: #E2EBFA;\n",
              "      box-shadow: 0px 1px 2px rgba(60, 64, 67, 0.3), 0px 1px 3px 1px rgba(60, 64, 67, 0.15);\n",
              "      fill: #174EA6;\n",
              "    }\n",
              "\n",
              "    [theme=dark] .colab-df-convert {\n",
              "      background-color: #3B4455;\n",
              "      fill: #D2E3FC;\n",
              "    }\n",
              "\n",
              "    [theme=dark] .colab-df-convert:hover {\n",
              "      background-color: #434B5C;\n",
              "      box-shadow: 0px 1px 3px 1px rgba(0, 0, 0, 0.15);\n",
              "      filter: drop-shadow(0px 1px 2px rgba(0, 0, 0, 0.3));\n",
              "      fill: #FFFFFF;\n",
              "    }\n",
              "  </style>\n",
              "\n",
              "      <script>\n",
              "        const buttonEl =\n",
              "          document.querySelector('#df-74ecdc30-2e87-462e-b303-4f5a6a960303 button.colab-df-convert');\n",
              "        buttonEl.style.display =\n",
              "          google.colab.kernel.accessAllowed ? 'block' : 'none';\n",
              "\n",
              "        async function convertToInteractive(key) {\n",
              "          const element = document.querySelector('#df-74ecdc30-2e87-462e-b303-4f5a6a960303');\n",
              "          const dataTable =\n",
              "            await google.colab.kernel.invokeFunction('convertToInteractive',\n",
              "                                                     [key], {});\n",
              "          if (!dataTable) return;\n",
              "\n",
              "          const docLinkHtml = 'Like what you see? Visit the ' +\n",
              "            '<a target=\"_blank\" href=https://colab.research.google.com/notebooks/data_table.ipynb>data table notebook</a>'\n",
              "            + ' to learn more about interactive tables.';\n",
              "          element.innerHTML = '';\n",
              "          dataTable['output_type'] = 'display_data';\n",
              "          await google.colab.output.renderOutput(dataTable, element);\n",
              "          const docLink = document.createElement('div');\n",
              "          docLink.innerHTML = docLinkHtml;\n",
              "          element.appendChild(docLink);\n",
              "        }\n",
              "      </script>\n",
              "    </div>\n",
              "  </div>\n",
              "  "
            ]
          },
          "metadata": {},
          "execution_count": 13
        }
      ]
    },
    {
      "cell_type": "markdown",
      "source": [
        "# Mental Health Incident vs. StripSearch"
      ],
      "metadata": {
        "id": "luee1ttHXMkX"
      }
    },
    {
      "cell_type": "markdown",
      "source": [
        "The following table calculates the likelihood of someone experiencing a mental health incident to be Strip searched upon arrest, based on a relative frequency.\n"
      ],
      "metadata": {
        "id": "HiAYnOaUAhbb"
      }
    },
    {
      "cell_type": "code",
      "source": [
        "pivot_MH_Incident_SS = pd.pivot_table(df_cleaned,index ='MH_Incident', values='StripSearch')\n",
        "pivot_MH_Incident_SS"
      ],
      "metadata": {
        "colab": {
          "base_uri": "https://localhost:8080/",
          "height": 143
        },
        "id": "W2cZHBL4AbCy",
        "outputId": "1d1ce42d-41bd-4a18-cf31-32db9ae9670c"
      },
      "execution_count": null,
      "outputs": [
        {
          "output_type": "execute_result",
          "data": {
            "text/plain": [
              "             StripSearch\n",
              "MH_Incident             \n",
              "0               0.115293\n",
              "1               0.270843"
            ],
            "text/html": [
              "\n",
              "  <div id=\"df-4660705f-705c-4436-a833-ff512a666171\">\n",
              "    <div class=\"colab-df-container\">\n",
              "      <div>\n",
              "<style scoped>\n",
              "    .dataframe tbody tr th:only-of-type {\n",
              "        vertical-align: middle;\n",
              "    }\n",
              "\n",
              "    .dataframe tbody tr th {\n",
              "        vertical-align: top;\n",
              "    }\n",
              "\n",
              "    .dataframe thead th {\n",
              "        text-align: right;\n",
              "    }\n",
              "</style>\n",
              "<table border=\"1\" class=\"dataframe\">\n",
              "  <thead>\n",
              "    <tr style=\"text-align: right;\">\n",
              "      <th></th>\n",
              "      <th>StripSearch</th>\n",
              "    </tr>\n",
              "    <tr>\n",
              "      <th>MH_Incident</th>\n",
              "      <th></th>\n",
              "    </tr>\n",
              "  </thead>\n",
              "  <tbody>\n",
              "    <tr>\n",
              "      <th>0</th>\n",
              "      <td>0.115293</td>\n",
              "    </tr>\n",
              "    <tr>\n",
              "      <th>1</th>\n",
              "      <td>0.270843</td>\n",
              "    </tr>\n",
              "  </tbody>\n",
              "</table>\n",
              "</div>\n",
              "      <button class=\"colab-df-convert\" onclick=\"convertToInteractive('df-4660705f-705c-4436-a833-ff512a666171')\"\n",
              "              title=\"Convert this dataframe to an interactive table.\"\n",
              "              style=\"display:none;\">\n",
              "        \n",
              "  <svg xmlns=\"http://www.w3.org/2000/svg\" height=\"24px\"viewBox=\"0 0 24 24\"\n",
              "       width=\"24px\">\n",
              "    <path d=\"M0 0h24v24H0V0z\" fill=\"none\"/>\n",
              "    <path d=\"M18.56 5.44l.94 2.06.94-2.06 2.06-.94-2.06-.94-.94-2.06-.94 2.06-2.06.94zm-11 1L8.5 8.5l.94-2.06 2.06-.94-2.06-.94L8.5 2.5l-.94 2.06-2.06.94zm10 10l.94 2.06.94-2.06 2.06-.94-2.06-.94-.94-2.06-.94 2.06-2.06.94z\"/><path d=\"M17.41 7.96l-1.37-1.37c-.4-.4-.92-.59-1.43-.59-.52 0-1.04.2-1.43.59L10.3 9.45l-7.72 7.72c-.78.78-.78 2.05 0 2.83L4 21.41c.39.39.9.59 1.41.59.51 0 1.02-.2 1.41-.59l7.78-7.78 2.81-2.81c.8-.78.8-2.07 0-2.86zM5.41 20L4 18.59l7.72-7.72 1.47 1.35L5.41 20z\"/>\n",
              "  </svg>\n",
              "      </button>\n",
              "      \n",
              "  <style>\n",
              "    .colab-df-container {\n",
              "      display:flex;\n",
              "      flex-wrap:wrap;\n",
              "      gap: 12px;\n",
              "    }\n",
              "\n",
              "    .colab-df-convert {\n",
              "      background-color: #E8F0FE;\n",
              "      border: none;\n",
              "      border-radius: 50%;\n",
              "      cursor: pointer;\n",
              "      display: none;\n",
              "      fill: #1967D2;\n",
              "      height: 32px;\n",
              "      padding: 0 0 0 0;\n",
              "      width: 32px;\n",
              "    }\n",
              "\n",
              "    .colab-df-convert:hover {\n",
              "      background-color: #E2EBFA;\n",
              "      box-shadow: 0px 1px 2px rgba(60, 64, 67, 0.3), 0px 1px 3px 1px rgba(60, 64, 67, 0.15);\n",
              "      fill: #174EA6;\n",
              "    }\n",
              "\n",
              "    [theme=dark] .colab-df-convert {\n",
              "      background-color: #3B4455;\n",
              "      fill: #D2E3FC;\n",
              "    }\n",
              "\n",
              "    [theme=dark] .colab-df-convert:hover {\n",
              "      background-color: #434B5C;\n",
              "      box-shadow: 0px 1px 3px 1px rgba(0, 0, 0, 0.15);\n",
              "      filter: drop-shadow(0px 1px 2px rgba(0, 0, 0, 0.3));\n",
              "      fill: #FFFFFF;\n",
              "    }\n",
              "  </style>\n",
              "\n",
              "      <script>\n",
              "        const buttonEl =\n",
              "          document.querySelector('#df-4660705f-705c-4436-a833-ff512a666171 button.colab-df-convert');\n",
              "        buttonEl.style.display =\n",
              "          google.colab.kernel.accessAllowed ? 'block' : 'none';\n",
              "\n",
              "        async function convertToInteractive(key) {\n",
              "          const element = document.querySelector('#df-4660705f-705c-4436-a833-ff512a666171');\n",
              "          const dataTable =\n",
              "            await google.colab.kernel.invokeFunction('convertToInteractive',\n",
              "                                                     [key], {});\n",
              "          if (!dataTable) return;\n",
              "\n",
              "          const docLinkHtml = 'Like what you see? Visit the ' +\n",
              "            '<a target=\"_blank\" href=https://colab.research.google.com/notebooks/data_table.ipynb>data table notebook</a>'\n",
              "            + ' to learn more about interactive tables.';\n",
              "          element.innerHTML = '';\n",
              "          dataTable['output_type'] = 'display_data';\n",
              "          await google.colab.output.renderOutput(dataTable, element);\n",
              "          const docLink = document.createElement('div');\n",
              "          docLink.innerHTML = docLinkHtml;\n",
              "          element.appendChild(docLink);\n",
              "        }\n",
              "      </script>\n",
              "    </div>\n",
              "  </div>\n",
              "  "
            ]
          },
          "metadata": {},
          "execution_count": 14
        }
      ]
    },
    {
      "cell_type": "code",
      "source": [
        "MH_Incident_SS_bar = pivot_MH_Incident_SS.plot.bar(figsize=(10, 6),\\\n",
        "                                                   fontsize = 14,\\\n",
        "                                                   color='#25355A')\n",
        "\n",
        "MH_Incident_SS_bar.set_title('Mental Health Incident VS. StripSearch',fontsize = 14)\n",
        "MH_Incident_SS_bar.set_xlabel('Mental Health Incident When Arrested',fontsize = 14)\n",
        "MH_Incident_SS_bar.set_ylabel('Probability of StripSearch',fontsize = 14)\n",
        "MH_Incident_SS_bar.legend().remove()"
      ],
      "metadata": {
        "colab": {
          "base_uri": "https://localhost:8080/",
          "height": 408
        },
        "id": "DUJIbeXkAsjY",
        "outputId": "7bcf52ca-b5d1-49a3-bae5-cbbee01683c9"
      },
      "execution_count": null,
      "outputs": [
        {
          "output_type": "display_data",
          "data": {
            "text/plain": [
              "<Figure size 720x432 with 1 Axes>"
            ],
            "image/png": "[encoded data removed]"
          },
          "metadata": {
            "needs_background": "light"
          }
        }
      ]
    },
    {
      "cell_type": "markdown",
      "source": [
        "# Race vs. Mental Health Incident\n",
        "First a value count chart."
      ],
      "metadata": {
        "id": "a3NHx0aHBAxX"
      }
    },
    {
      "cell_type": "code",
      "source": [
        "df_cleaned.groupby('Race').MH_Incident.value_counts().plot.barh(color='#25355A')"
      ],
      "metadata": {
        "colab": {
          "base_uri": "https://localhost:8080/",
          "height": 282
        },
        "id": "pIOmJjhRXwBx",
        "outputId": "ea097c29-0982-4b43-8917-72353fd059ea"
      },
      "execution_count": null,
      "outputs": [
        {
          "output_type": "execute_result",
          "data": {
            "text/plain": [
              "<AxesSubplot:ylabel='Race,MH_Incident'>"
            ]
          },
          "metadata": {},
          "execution_count": 16
        },
        {
          "output_type": "display_data",
          "data": {
            "text/plain": [
              "<Figure size 432x288 with 1 Axes>"
            ],
            "image/png": "[encoded data removed]"
          },
          "metadata": {
            "needs_background": "light"
          }
        }
      ]
    },
    {
      "cell_type": "markdown",
      "source": [
        "The likelihood of someone of a particular race to have been arrested while experiencing a mental health incident."
      ],
      "metadata": {
        "id": "r2FRbFuvXwYP"
      }
    },
    {
      "cell_type": "code",
      "source": [
        "pivot_Race_MH_Incident = pd.pivot_table(df_cleaned,index ='Race', values='MH_Incident')\n",
        "pivot_Race_MH_Incident"
      ],
      "metadata": {
        "colab": {
          "base_uri": "https://localhost:8080/",
          "height": 300
        },
        "id": "KtmC9qDwA_kH",
        "outputId": "287ce6d6-5c9d-48e3-abcd-5da9d60df77b"
      },
      "execution_count": null,
      "outputs": [
        {
          "output_type": "execute_result",
          "data": {
            "text/plain": [
              "                      MH_Incident\n",
              "Race                             \n",
              "Black                    0.037944\n",
              "East/Southeast Asian     0.024009\n",
              "Indigenous               0.040331\n",
              "Latino                   0.023769\n",
              "Middle-Eastern           0.033982\n",
              "South Asian              0.022696\n",
              "White                    0.035789"
            ],
            "text/html": [
              "\n",
              "  <div id=\"df-eb16d48e-c7c9-44c8-b31c-72bfdca7ee42\">\n",
              "    <div class=\"colab-df-container\">\n",
              "      <div>\n",
              "<style scoped>\n",
              "    .dataframe tbody tr th:only-of-type {\n",
              "        vertical-align: middle;\n",
              "    }\n",
              "\n",
              "    .dataframe tbody tr th {\n",
              "        vertical-align: top;\n",
              "    }\n",
              "\n",
              "    .dataframe thead th {\n",
              "        text-align: right;\n",
              "    }\n",
              "</style>\n",
              "<table border=\"1\" class=\"dataframe\">\n",
              "  <thead>\n",
              "    <tr style=\"text-align: right;\">\n",
              "      <th></th>\n",
              "      <th>MH_Incident</th>\n",
              "    </tr>\n",
              "    <tr>\n",
              "      <th>Race</th>\n",
              "      <th></th>\n",
              "    </tr>\n",
              "  </thead>\n",
              "  <tbody>\n",
              "    <tr>\n",
              "      <th>Black</th>\n",
              "      <td>0.037944</td>\n",
              "    </tr>\n",
              "    <tr>\n",
              "      <th>East/Southeast Asian</th>\n",
              "      <td>0.024009</td>\n",
              "    </tr>\n",
              "    <tr>\n",
              "      <th>Indigenous</th>\n",
              "      <td>0.040331</td>\n",
              "    </tr>\n",
              "    <tr>\n",
              "      <th>Latino</th>\n",
              "      <td>0.023769</td>\n",
              "    </tr>\n",
              "    <tr>\n",
              "      <th>Middle-Eastern</th>\n",
              "      <td>0.033982</td>\n",
              "    </tr>\n",
              "    <tr>\n",
              "      <th>South Asian</th>\n",
              "      <td>0.022696</td>\n",
              "    </tr>\n",
              "    <tr>\n",
              "      <th>White</th>\n",
              "      <td>0.035789</td>\n",
              "    </tr>\n",
              "  </tbody>\n",
              "</table>\n",
              "</div>\n",
              "      <button class=\"colab-df-convert\" onclick=\"convertToInteractive('df-eb16d48e-c7c9-44c8-b31c-72bfdca7ee42')\"\n",
              "              title=\"Convert this dataframe to an interactive table.\"\n",
              "              style=\"display:none;\">\n",
              "        \n",
              "  <svg xmlns=\"http://www.w3.org/2000/svg\" height=\"24px\"viewBox=\"0 0 24 24\"\n",
              "       width=\"24px\">\n",
              "    <path d=\"M0 0h24v24H0V0z\" fill=\"none\"/>\n",
              "    <path d=\"M18.56 5.44l.94 2.06.94-2.06 2.06-.94-2.06-.94-.94-2.06-.94 2.06-2.06.94zm-11 1L8.5 8.5l.94-2.06 2.06-.94-2.06-.94L8.5 2.5l-.94 2.06-2.06.94zm10 10l.94 2.06.94-2.06 2.06-.94-2.06-.94-.94-2.06-.94 2.06-2.06.94z\"/><path d=\"M17.41 7.96l-1.37-1.37c-.4-.4-.92-.59-1.43-.59-.52 0-1.04.2-1.43.59L10.3 9.45l-7.72 7.72c-.78.78-.78 2.05 0 2.83L4 21.41c.39.39.9.59 1.41.59.51 0 1.02-.2 1.41-.59l7.78-7.78 2.81-2.81c.8-.78.8-2.07 0-2.86zM5.41 20L4 18.59l7.72-7.72 1.47 1.35L5.41 20z\"/>\n",
              "  </svg>\n",
              "      </button>\n",
              "      \n",
              "  <style>\n",
              "    .colab-df-container {\n",
              "      display:flex;\n",
              "      flex-wrap:wrap;\n",
              "      gap: 12px;\n",
              "    }\n",
              "\n",
              "    .colab-df-convert {\n",
              "      background-color: #E8F0FE;\n",
              "      border: none;\n",
              "      border-radius: 50%;\n",
              "      cursor: pointer;\n",
              "      display: none;\n",
              "      fill: #1967D2;\n",
              "      height: 32px;\n",
              "      padding: 0 0 0 0;\n",
              "      width: 32px;\n",
              "    }\n",
              "\n",
              "    .colab-df-convert:hover {\n",
              "      background-color: #E2EBFA;\n",
              "      box-shadow: 0px 1px 2px rgba(60, 64, 67, 0.3), 0px 1px 3px 1px rgba(60, 64, 67, 0.15);\n",
              "      fill: #174EA6;\n",
              "    }\n",
              "\n",
              "    [theme=dark] .colab-df-convert {\n",
              "      background-color: #3B4455;\n",
              "      fill: #D2E3FC;\n",
              "    }\n",
              "\n",
              "    [theme=dark] .colab-df-convert:hover {\n",
              "      background-color: #434B5C;\n",
              "      box-shadow: 0px 1px 3px 1px rgba(0, 0, 0, 0.15);\n",
              "      filter: drop-shadow(0px 1px 2px rgba(0, 0, 0, 0.3));\n",
              "      fill: #FFFFFF;\n",
              "    }\n",
              "  </style>\n",
              "\n",
              "      <script>\n",
              "        const buttonEl =\n",
              "          document.querySelector('#df-eb16d48e-c7c9-44c8-b31c-72bfdca7ee42 button.colab-df-convert');\n",
              "        buttonEl.style.display =\n",
              "          google.colab.kernel.accessAllowed ? 'block' : 'none';\n",
              "\n",
              "        async function convertToInteractive(key) {\n",
              "          const element = document.querySelector('#df-eb16d48e-c7c9-44c8-b31c-72bfdca7ee42');\n",
              "          const dataTable =\n",
              "            await google.colab.kernel.invokeFunction('convertToInteractive',\n",
              "                                                     [key], {});\n",
              "          if (!dataTable) return;\n",
              "\n",
              "          const docLinkHtml = 'Like what you see? Visit the ' +\n",
              "            '<a target=\"_blank\" href=https://colab.research.google.com/notebooks/data_table.ipynb>data table notebook</a>'\n",
              "            + ' to learn more about interactive tables.';\n",
              "          element.innerHTML = '';\n",
              "          dataTable['output_type'] = 'display_data';\n",
              "          await google.colab.output.renderOutput(dataTable, element);\n",
              "          const docLink = document.createElement('div');\n",
              "          docLink.innerHTML = docLinkHtml;\n",
              "          element.appendChild(docLink);\n",
              "        }\n",
              "      </script>\n",
              "    </div>\n",
              "  </div>\n",
              "  "
            ]
          },
          "metadata": {},
          "execution_count": 17
        }
      ]
    },
    {
      "cell_type": "code",
      "source": [
        "MH_Incident_Race_bar = pivot_Race_MH_Incident.plot.bar(figsize=(10, 6),\\\n",
        "                                                       fontsize = 14, \\\n",
        "                                                       color='#25355A')\n",
        "\n",
        "# Set the title and axis labels\n",
        "MH_Incident_Race_bar.set_title('Race VS. Mental Health Incident',fontsize = 14)\n",
        "\n",
        "MH_Incident_Race_bar.set_ylabel('Probability of Mental Health Incident',fontsize = 14)\n",
        "MH_Incident_Race_bar.set_xlabel('Race',fontsize = 14)\n",
        "MH_Incident_Race_bar.legend().remove()"
      ],
      "metadata": {
        "colab": {
          "base_uri": "https://localhost:8080/",
          "height": 548
        },
        "id": "hqO98mtUBLR5",
        "outputId": "8d4dd2dc-0bd2-446f-b694-8612afbc9893"
      },
      "execution_count": null,
      "outputs": [
        {
          "output_type": "display_data",
          "data": {
            "text/plain": [
              "<Figure size 720x432 with 1 Axes>"
            ],
            "image/png": "[encoded data removed]"
          },
          "metadata": {
            "needs_background": "light"
          }
        }
      ]
    },
    {
      "cell_type": "markdown",
      "source": [
        "# Chi-square test: relationship of Race and stripsearch"
      ],
      "metadata": {
        "id": "8RnPXs5PO_mN"
      }
    },
    {
      "cell_type": "code",
      "source": [
        "from scipy.stats import chi2_contingency\n",
        "# create a contingency table\n",
        "table = pd.crosstab(df_cleaned['StripSearch'], df_cleaned['Race'])\n",
        "\n",
        "# perform the chi-square test\n",
        "stat, p, dof, expected = chi2_contingency(table)\n",
        "\n",
        "\n",
        "# print the results\n",
        "print('Chi-square test statistic:', stat)\n",
        "print('p-value:', p)\n",
        "print('Degrees of freedom:', dof)\n",
        "print('Expected frequencies:', expected)"
      ],
      "metadata": {
        "colab": {
          "base_uri": "https://localhost:8080/"
        },
        "id": "ClCoUjRRPUCp",
        "outputId": "369fbd6b-daff-4e5b-c677-9cf3028fdecf"
      },
      "execution_count": null,
      "outputs": [
        {
          "output_type": "stream",
          "name": "stdout",
          "text": [
            "Chi-square test statistic: 371.4036228826853\n",
            "p-value: 3.9084767974984385e-77\n",
            "Degrees of freedom: 6\n",
            "Expected frequencies: [[15411.58604883  3882.35492443  1700.67370869  1553.82132536\n",
            "   2846.47404086  3177.11174224 24373.9782096 ]\n",
            " [ 2114.41395117   532.64507557   233.32629131   213.17867464\n",
            "    390.52595914   435.88825776  3344.0217904 ]]\n"
          ]
        }
      ]
    },
    {
      "cell_type": "markdown",
      "source": [
        "# Chi-square test: relationship of Sex and stripsearch\n",
        "\n",
        "\n",
        "\n"
      ],
      "metadata": {
        "id": "YGu7nddwYjS1"
      }
    },
    {
      "cell_type": "code",
      "source": [
        "from scipy.stats import chi2_contingency\n",
        "# create a contingency table\n",
        "table_SSS = pd.crosstab(df_cleaned['StripSearch'], df_cleaned['Sex'])\n",
        "\n",
        "# perform the chi-square test\n",
        "stat, p, dof, expected = chi2_contingency(table_SSS)\n",
        "\n",
        "\n",
        "# print the results\n",
        "print('Chi-square test statistic:', stat)\n",
        "print('p-value:', p)\n",
        "print('Degrees of freedom:', dof)\n",
        "print('Expected frequencies:', expected)"
      ],
      "metadata": {
        "colab": {
          "base_uri": "https://localhost:8080/"
        },
        "id": "Y_Nzygm8Yqe_",
        "outputId": "5670e23d-90c0-4fe8-cf1d-fdbad8a6b8b9"
      },
      "execution_count": null,
      "outputs": [
        {
          "output_type": "stream",
          "name": "stdout",
          "text": [
            "Chi-square test statistic: 49.776097486009675\n",
            "p-value: 1.7233064582757726e-12\n",
            "Degrees of freedom: 1\n",
            "Expected frequencies: [[10280.44572691 42668.55427309]\n",
            " [ 1410.55427309  5854.44572691]]\n"
          ]
        }
      ]
    },
    {
      "cell_type": "markdown",
      "source": [
        "# T test: Race vs total search reasons\n"
      ],
      "metadata": {
        "id": "Tm0h92bhBxkt"
      }
    },
    {
      "cell_type": "markdown",
      "source": [
        "Organize the table to be able to conduct a t-test (add quantitative data) \n",
        "\n",
        "Logic behind the table:\n",
        "\n",
        "There are four columns regarding Search reasons, they can be added up to a new column called total number of search reasons.\n",
        "\n",
        "As White people and Black people represent the majority of arrestees, I wonder whether the police will have more reasons to perform a strip search for a Black arrestee.\n",
        "\n",
        "So t test will be used.\n",
        "\n",
        "H0: the sample means of the number of reasons to perform strip search for White and Black arrestees are equal. <br>\n",
        "HA: The sample means of the number of reasons to perform a strip search White and Black arresteses are not equal\n"
      ],
      "metadata": {
        "id": "y6nFIGqBGVM2"
      }
    },
    {
      "cell_type": "code",
      "source": [
        "# Remove columns unnecessary to analysis\n",
        "col1 = ['Arrest_Year', 'Arrest_Month', 'EventID', 'ArrestID', 'PersonID','Age_group__at_arrest_',\\\n",
        "       'Youth_at_arrest__under_18_years','Booked', 'Occurrence_Category','Actions_at_arrest___Concealed_i',\\\n",
        "       'Actions_at_arrest___Combative__', 'Actions_at_arrest___Resisted__d','Actions_at_arrest___Mental_inst',\\\n",
        "       'Actions_at_arrest___Assaulted_o', 'Actions_at_arrest___Cooperative',\\\n",
        "       'ItemsFound', 'ObjectId','ArrestLocDiv']\n",
        "# Remove NaN\n",
        "df_cleaned1 = df.drop(columns=col1).dropna(axis=0)\n",
        "# Add a column called total number of SearchReasons, adding up reasons\n",
        "df_cleaned1['Total_SearchReason'] = df_cleaned1.apply(lambda row: row['SearchReason_CauseInjury'] + row['SearchReason_AssistEscape'] + \\\n",
        "                                    row['SearchReason_PossessWeapons'] + row['SearchReason_PossessEvidence'], axis=1)"
      ],
      "metadata": {
        "id": "h4D0cgJCEhUS"
      },
      "execution_count": null,
      "outputs": []
    },
    {
      "cell_type": "code",
      "source": [
        "# Keep only White and Black races for a two samples to t test with\n",
        "df_cleaned1_1 = df_cleaned1.loc[df_cleaned1['Perceived_Race'].isin(['Black', 'White','Indigenous'])]\n",
        "df_cleaned1_1"
      ],
      "metadata": {
        "colab": {
          "base_uri": "https://localhost:8080/",
          "height": 423
        },
        "id": "ww-lQLewIPTx",
        "outputId": "8bf03f15-d384-4ae0-b092-c10620efc0e4"
      },
      "execution_count": null,
      "outputs": [
        {
          "output_type": "execute_result",
          "data": {
            "text/plain": [
              "      Perceived_Race Sex  StripSearch  SearchReason_CauseInjury  \\\n",
              "12             Black   M            1                       1.0   \n",
              "14             Black   M            1                       1.0   \n",
              "33             White   M            1                       0.0   \n",
              "52             White   M            1                       1.0   \n",
              "56             White   F            1                       1.0   \n",
              "...              ...  ..          ...                       ...   \n",
              "63602          White   M            1                       1.0   \n",
              "63915          Black   M            1                       1.0   \n",
              "64108          White   M            1                       0.0   \n",
              "64347          Black   M            1                       0.0   \n",
              "64428          Black   M            1                       0.0   \n",
              "\n",
              "       SearchReason_AssistEscape  SearchReason_PossessWeapons  \\\n",
              "12                           1.0                          1.0   \n",
              "14                           1.0                          1.0   \n",
              "33                           0.0                          1.0   \n",
              "52                           1.0                          1.0   \n",
              "56                           0.0                          0.0   \n",
              "...                          ...                          ...   \n",
              "63602                        0.0                          1.0   \n",
              "63915                        0.0                          0.0   \n",
              "64108                        0.0                          0.0   \n",
              "64347                        0.0                          1.0   \n",
              "64428                        0.0                          1.0   \n",
              "\n",
              "       SearchReason_PossessEvidence  Total_SearchReason  \n",
              "12                              0.0                 3.0  \n",
              "14                              0.0                 3.0  \n",
              "33                              1.0                 2.0  \n",
              "52                              1.0                 4.0  \n",
              "56                              1.0                 2.0  \n",
              "...                             ...                 ...  \n",
              "63602                           1.0                 3.0  \n",
              "63915                           1.0                 2.0  \n",
              "64108                           0.0                 0.0  \n",
              "64347                           1.0                 2.0  \n",
              "64428                           0.0                 1.0  \n",
              "\n",
              "[6306 rows x 8 columns]"
            ],
            "text/html": [
              "\n",
              "  <div id=\"df-add31e5b-3897-4c65-bb8d-1768d96d5d81\">\n",
              "    <div class=\"colab-df-container\">\n",
              "      <div>\n",
              "<style scoped>\n",
              "    .dataframe tbody tr th:only-of-type {\n",
              "        vertical-align: middle;\n",
              "    }\n",
              "\n",
              "    .dataframe tbody tr th {\n",
              "        vertical-align: top;\n",
              "    }\n",
              "\n",
              "    .dataframe thead th {\n",
              "        text-align: right;\n",
              "    }\n",
              "</style>\n",
              "<table border=\"1\" class=\"dataframe\">\n",
              "  <thead>\n",
              "    <tr style=\"text-align: right;\">\n",
              "      <th></th>\n",
              "      <th>Perceived_Race</th>\n",
              "      <th>Sex</th>\n",
              "      <th>StripSearch</th>\n",
              "      <th>SearchReason_CauseInjury</th>\n",
              "      <th>SearchReason_AssistEscape</th>\n",
              "      <th>SearchReason_PossessWeapons</th>\n",
              "      <th>SearchReason_PossessEvidence</th>\n",
              "      <th>Total_SearchReason</th>\n",
              "    </tr>\n",
              "  </thead>\n",
              "  <tbody>\n",
              "    <tr>\n",
              "      <th>12</th>\n",
              "      <td>Black</td>\n",
              "      <td>M</td>\n",
              "      <td>1</td>\n",
              "      <td>1.0</td>\n",
              "      <td>1.0</td>\n",
              "      <td>1.0</td>\n",
              "      <td>0.0</td>\n",
              "      <td>3.0</td>\n",
              "    </tr>\n",
              "    <tr>\n",
              "      <th>14</th>\n",
              "      <td>Black</td>\n",
              "      <td>M</td>\n",
              "      <td>1</td>\n",
              "      <td>1.0</td>\n",
              "      <td>1.0</td>\n",
              "      <td>1.0</td>\n",
              "      <td>0.0</td>\n",
              "      <td>3.0</td>\n",
              "    </tr>\n",
              "    <tr>\n",
              "      <th>33</th>\n",
              "      <td>White</td>\n",
              "      <td>M</td>\n",
              "      <td>1</td>\n",
              "      <td>0.0</td>\n",
              "      <td>0.0</td>\n",
              "      <td>1.0</td>\n",
              "      <td>1.0</td>\n",
              "      <td>2.0</td>\n",
              "    </tr>\n",
              "    <tr>\n",
              "      <th>52</th>\n",
              "      <td>White</td>\n",
              "      <td>M</td>\n",
              "      <td>1</td>\n",
              "      <td>1.0</td>\n",
              "      <td>1.0</td>\n",
              "      <td>1.0</td>\n",
              "      <td>1.0</td>\n",
              "      <td>4.0</td>\n",
              "    </tr>\n",
              "    <tr>\n",
              "      <th>56</th>\n",
              "      <td>White</td>\n",
              "      <td>F</td>\n",
              "      <td>1</td>\n",
              "      <td>1.0</td>\n",
              "      <td>0.0</td>\n",
              "      <td>0.0</td>\n",
              "      <td>1.0</td>\n",
              "      <td>2.0</td>\n",
              "    </tr>\n",
              "    <tr>\n",
              "      <th>...</th>\n",
              "      <td>...</td>\n",
              "      <td>...</td>\n",
              "      <td>...</td>\n",
              "      <td>...</td>\n",
              "      <td>...</td>\n",
              "      <td>...</td>\n",
              "      <td>...</td>\n",
              "      <td>...</td>\n",
              "    </tr>\n",
              "    <tr>\n",
              "      <th>63602</th>\n",
              "      <td>White</td>\n",
              "      <td>M</td>\n",
              "      <td>1</td>\n",
              "      <td>1.0</td>\n",
              "      <td>0.0</td>\n",
              "      <td>1.0</td>\n",
              "      <td>1.0</td>\n",
              "      <td>3.0</td>\n",
              "    </tr>\n",
              "    <tr>\n",
              "      <th>63915</th>\n",
              "      <td>Black</td>\n",
              "      <td>M</td>\n",
              "      <td>1</td>\n",
              "      <td>1.0</td>\n",
              "      <td>0.0</td>\n",
              "      <td>0.0</td>\n",
              "      <td>1.0</td>\n",
              "      <td>2.0</td>\n",
              "    </tr>\n",
              "    <tr>\n",
              "      <th>64108</th>\n",
              "      <td>White</td>\n",
              "      <td>M</td>\n",
              "      <td>1</td>\n",
              "      <td>0.0</td>\n",
              "      <td>0.0</td>\n",
              "      <td>0.0</td>\n",
              "      <td>0.0</td>\n",
              "      <td>0.0</td>\n",
              "    </tr>\n",
              "    <tr>\n",
              "      <th>64347</th>\n",
              "      <td>Black</td>\n",
              "      <td>M</td>\n",
              "      <td>1</td>\n",
              "      <td>0.0</td>\n",
              "      <td>0.0</td>\n",
              "      <td>1.0</td>\n",
              "      <td>1.0</td>\n",
              "      <td>2.0</td>\n",
              "    </tr>\n",
              "    <tr>\n",
              "      <th>64428</th>\n",
              "      <td>Black</td>\n",
              "      <td>M</td>\n",
              "      <td>1</td>\n",
              "      <td>0.0</td>\n",
              "      <td>0.0</td>\n",
              "      <td>1.0</td>\n",
              "      <td>0.0</td>\n",
              "      <td>1.0</td>\n",
              "    </tr>\n",
              "  </tbody>\n",
              "</table>\n",
              "<p>6306 rows × 8 columns</p>\n",
              "</div>\n",
              "      <button class=\"colab-df-convert\" onclick=\"convertToInteractive('df-add31e5b-3897-4c65-bb8d-1768d96d5d81')\"\n",
              "              title=\"Convert this dataframe to an interactive table.\"\n",
              "              style=\"display:none;\">\n",
              "        \n",
              "  <svg xmlns=\"http://www.w3.org/2000/svg\" height=\"24px\"viewBox=\"0 0 24 24\"\n",
              "       width=\"24px\">\n",
              "    <path d=\"M0 0h24v24H0V0z\" fill=\"none\"/>\n",
              "    <path d=\"M18.56 5.44l.94 2.06.94-2.06 2.06-.94-2.06-.94-.94-2.06-.94 2.06-2.06.94zm-11 1L8.5 8.5l.94-2.06 2.06-.94-2.06-.94L8.5 2.5l-.94 2.06-2.06.94zm10 10l.94 2.06.94-2.06 2.06-.94-2.06-.94-.94-2.06-.94 2.06-2.06.94z\"/><path d=\"M17.41 7.96l-1.37-1.37c-.4-.4-.92-.59-1.43-.59-.52 0-1.04.2-1.43.59L10.3 9.45l-7.72 7.72c-.78.78-.78 2.05 0 2.83L4 21.41c.39.39.9.59 1.41.59.51 0 1.02-.2 1.41-.59l7.78-7.78 2.81-2.81c.8-.78.8-2.07 0-2.86zM5.41 20L4 18.59l7.72-7.72 1.47 1.35L5.41 20z\"/>\n",
              "  </svg>\n",
              "      </button>\n",
              "      \n",
              "  <style>\n",
              "    .colab-df-container {\n",
              "      display:flex;\n",
              "      flex-wrap:wrap;\n",
              "      gap: 12px;\n",
              "    }\n",
              "\n",
              "    .colab-df-convert {\n",
              "      background-color: #E8F0FE;\n",
              "      border: none;\n",
              "      border-radius: 50%;\n",
              "      cursor: pointer;\n",
              "      display: none;\n",
              "      fill: #1967D2;\n",
              "      height: 32px;\n",
              "      padding: 0 0 0 0;\n",
              "      width: 32px;\n",
              "    }\n",
              "\n",
              "    .colab-df-convert:hover {\n",
              "      background-color: #E2EBFA;\n",
              "      box-shadow: 0px 1px 2px rgba(60, 64, 67, 0.3), 0px 1px 3px 1px rgba(60, 64, 67, 0.15);\n",
              "      fill: #174EA6;\n",
              "    }\n",
              "\n",
              "    [theme=dark] .colab-df-convert {\n",
              "      background-color: #3B4455;\n",
              "      fill: #D2E3FC;\n",
              "    }\n",
              "\n",
              "    [theme=dark] .colab-df-convert:hover {\n",
              "      background-color: #434B5C;\n",
              "      box-shadow: 0px 1px 3px 1px rgba(0, 0, 0, 0.15);\n",
              "      filter: drop-shadow(0px 1px 2px rgba(0, 0, 0, 0.3));\n",
              "      fill: #FFFFFF;\n",
              "    }\n",
              "  </style>\n",
              "\n",
              "      <script>\n",
              "        const buttonEl =\n",
              "          document.querySelector('#df-add31e5b-3897-4c65-bb8d-1768d96d5d81 button.colab-df-convert');\n",
              "        buttonEl.style.display =\n",
              "          google.colab.kernel.accessAllowed ? 'block' : 'none';\n",
              "\n",
              "        async function convertToInteractive(key) {\n",
              "          const element = document.querySelector('#df-add31e5b-3897-4c65-bb8d-1768d96d5d81');\n",
              "          const dataTable =\n",
              "            await google.colab.kernel.invokeFunction('convertToInteractive',\n",
              "                                                     [key], {});\n",
              "          if (!dataTable) return;\n",
              "\n",
              "          const docLinkHtml = 'Like what you see? Visit the ' +\n",
              "            '<a target=\"_blank\" href=https://colab.research.google.com/notebooks/data_table.ipynb>data table notebook</a>'\n",
              "            + ' to learn more about interactive tables.';\n",
              "          element.innerHTML = '';\n",
              "          dataTable['output_type'] = 'display_data';\n",
              "          await google.colab.output.renderOutput(dataTable, element);\n",
              "          const docLink = document.createElement('div');\n",
              "          docLink.innerHTML = docLinkHtml;\n",
              "          element.appendChild(docLink);\n",
              "        }\n",
              "      </script>\n",
              "    </div>\n",
              "  </div>\n",
              "  "
            ]
          },
          "metadata": {},
          "execution_count": 22
        }
      ]
    },
    {
      "cell_type": "markdown",
      "source": [
        "Levene test to test whether the population variance is equal or not, to choose t test  (Maybe we do not need this step...)\n",
        "\n",
        "H0: The population variances are equal<br>\n",
        "HA: The population variances are not equal"
      ],
      "metadata": {
        "id": "tRX3a1irHq4D"
      }
    },
    {
      "cell_type": "code",
      "source": [
        "# levene to test whether have same population variance\n",
        "from scipy.stats import levene\n",
        "\n",
        "# data for two groups\n",
        "white_data = df_cleaned1_1[df_cleaned1_1['Perceived_Race']=='White']\n",
        "black_data = df_cleaned1_1[df_cleaned1_1['Perceived_Race']=='Black']\n",
        "white = white_data['Total_SearchReason']\n",
        "black = black_data['Total_SearchReason']\n",
        "# conduct Levene's test\n",
        "stat, pvalue = levene(white, black)\n",
        "\n",
        "# print the test statistic and p-value\n",
        "print('Test statistic:', stat)\n",
        "print('P-value:', pvalue)\n"
      ],
      "metadata": {
        "colab": {
          "base_uri": "https://localhost:8080/"
        },
        "id": "GqrwmejJHO16",
        "outputId": "ac74a960-c7ad-4fa9-879f-68ee90936c23"
      },
      "execution_count": null,
      "outputs": [
        {
          "output_type": "stream",
          "name": "stdout",
          "text": [
            "Test statistic: 1.930249992122145\n",
            "P-value: 0.16478266968593444\n"
          ]
        }
      ]
    },
    {
      "cell_type": "markdown",
      "source": [
        "Since the p-value is greater than 0.05, we can not reject H0, meaning the population variances are equal, and we should use normal t-test."
      ],
      "metadata": {
        "id": "3CvIcKdyIabv"
      }
    },
    {
      "cell_type": "markdown",
      "source": [
        "**Normal t test** **Race vs. total search reasons**\n"
      ],
      "metadata": {
        "id": "RRnerF7dJtK3"
      }
    },
    {
      "cell_type": "code",
      "source": [
        "#CI for race vs total search reason\n",
        "from scipy.stats import ttest_ind\n",
        "\n",
        "#calculate the t-statistic and p-value\n",
        "t_p = ttest_ind(white,black)\n",
        "print('Ttest results for # of reasons for strip searching White and Black arrestees:',t_p)\n",
        "\n",
        "#degrees of freedom\n",
        "df = len(white) + len(black) - 2\n",
        "\n",
        "#calculate the confidence interval for the difference in means\n",
        "mean_difference = np.mean(white) - np.mean(black)\n",
        "sd_difference = np.sqrt((np.var(white) / len(white)) + (np.var(black) / len(black)))\n",
        "#95% CI\n",
        "margin_error = 1.96 * sd_difference \n",
        "CI_RR = (mean_difference - margin_error, mean_difference + margin_error)\n",
        "\n",
        "# print the results\n",
        "print(\"degrees of freedom: \", df)\n",
        "print(\"Mean of total number of reasons for the White arrestees: \", np.mean(white))\n",
        "print(\"Mean of total number of reasons for the Black arrestees: \", np.mean(black))\n",
        "print(\"Standard deviation of total number of reasons for the White arrestees: \", np.std(white))\n",
        "print(\"Standard deviation of total number of reasons for the Black arrestees: \", np.std(black))\n",
        "print(\"confidence interval: \", CI_RR)"
      ],
      "metadata": {
        "colab": {
          "base_uri": "https://localhost:8080/"
        },
        "id": "hZP7boo9s7UK",
        "outputId": "1632c864-9a0b-45da-ef89-fffb2afb6c69"
      },
      "execution_count": null,
      "outputs": [
        {
          "output_type": "stream",
          "name": "stdout",
          "text": [
            "Ttest results for # of reasons for strip searching White and Black arrestees: Ttest_indResult(statistic=-2.0180774278207982, pvalue=0.04362763265896725)\n",
            "degrees of freedom:  5998\n",
            "Mean of total number of reasons for the White arrestees:  1.9649467190128995\n",
            "Mean of total number of reasons for the Black arrestees:  2.0291700903861956\n",
            "Standard deviation of total number of reasons for the White arrestees:  1.2127360152573845\n",
            "Standard deviation of total number of reasons for the Black arrestees:  1.206482239164465\n",
            "confidence interval:  (-0.1265272859404273, -0.001919456806164753)\n"
          ]
        }
      ]
    },
    {
      "cell_type": "markdown",
      "source": [],
      "metadata": {
        "id": "3Sh2SA3w09h9"
      }
    },
    {
      "cell_type": "markdown",
      "source": [
        "# T test: race vs total actions"
      ],
      "metadata": {
        "id": "s9d5yLuvwNa6"
      }
    },
    {
      "cell_type": "code",
      "source": [
        "# Remove columns unnecessary to analysis\n",
        "# We also remove \"Actions_at_arrest___Cooperative\", since it seems not to contribute to strip searches.\n",
        "col2 = ['Arrest_Year', 'Arrest_Month', 'EventID', 'ArrestID', 'PersonID','Age_group__at_arrest_',\\\n",
        "       'Youth_at_arrest__under_18_years','Booked', 'Occurrence_Category',\\\n",
        "       'Actions_at_arrest___Cooperative',\\\n",
        "       'SearchReason_CauseInjury', 'SearchReason_AssistEscape', \\\n",
        "       'SearchReason_PossessWeapons', 'SearchReason_PossessEvidence',\\\n",
        "       'ItemsFound', 'ObjectId','ArrestLocDiv']\n",
        "\n",
        "df = pd.read_csv(url)\n",
        "# Remove NaN\n",
        "df_cleaned2 = df.drop(columns=col2).dropna(axis=0)\n",
        "# Add a column called total number of SearchReasons, adding up reasons\n",
        "\n",
        "df_cleaned2['total_actions'] = df_cleaned2.apply(lambda row: row['Actions_at_arrest___Concealed_i'] + row['Actions_at_arrest___Combative__'] + \\\n",
        "                                    row['Actions_at_arrest___Resisted__d'] + row['Actions_at_arrest___Mental_inst'] + \\\n",
        "                                                      row['Actions_at_arrest___Assaulted_o'], axis=1)\n",
        "# only for white and black people who are strip searched\n",
        "df_cleaned2_1 = df_cleaned2.loc[df_cleaned2['Perceived_Race'].isin(['Black', 'White','Indigenous'])].loc[df_cleaned2['StripSearch'].isin([1])]\n",
        "df_cleaned2_1"
      ],
      "metadata": {
        "id": "pa3VC0VKKCTn",
        "colab": {
          "base_uri": "https://localhost:8080/",
          "height": 487
        },
        "outputId": "04b7bc85-3df1-4c8b-ce46-128ea3b41279"
      },
      "execution_count": null,
      "outputs": [
        {
          "output_type": "execute_result",
          "data": {
            "text/plain": [
              "      Perceived_Race Sex  StripSearch  Actions_at_arrest___Concealed_i  \\\n",
              "12             Black   M            1                                0   \n",
              "14             Black   M            1                                0   \n",
              "33             White   M            1                                0   \n",
              "52             White   M            1                                0   \n",
              "56             White   F            1                                0   \n",
              "...              ...  ..          ...                              ...   \n",
              "63602          White   M            1                                0   \n",
              "63915          Black   M            1                                0   \n",
              "64108          White   M            1                                0   \n",
              "64347          Black   M            1                                0   \n",
              "64428          Black   M            1                                0   \n",
              "\n",
              "       Actions_at_arrest___Combative__  Actions_at_arrest___Resisted__d  \\\n",
              "12                                   0                                0   \n",
              "14                                   0                                0   \n",
              "33                                   0                                0   \n",
              "52                                   0                                0   \n",
              "56                                   0                                0   \n",
              "...                                ...                              ...   \n",
              "63602                                0                                0   \n",
              "63915                                0                                0   \n",
              "64108                                0                                0   \n",
              "64347                                0                                0   \n",
              "64428                                0                                0   \n",
              "\n",
              "       Actions_at_arrest___Mental_inst  Actions_at_arrest___Assaulted_o  \\\n",
              "12                                   0                                0   \n",
              "14                                   0                                0   \n",
              "33                                   0                                0   \n",
              "52                                   0                                0   \n",
              "56                                   0                                0   \n",
              "...                                ...                              ...   \n",
              "63602                                0                                0   \n",
              "63915                                0                                0   \n",
              "64108                                0                                0   \n",
              "64347                                0                                0   \n",
              "64428                                0                                0   \n",
              "\n",
              "       total_actions  \n",
              "12                 0  \n",
              "14                 0  \n",
              "33                 0  \n",
              "52                 0  \n",
              "56                 0  \n",
              "...              ...  \n",
              "63602              0  \n",
              "63915              0  \n",
              "64108              0  \n",
              "64347              0  \n",
              "64428              0  \n",
              "\n",
              "[6306 rows x 9 columns]"
            ],
            "text/html": [
              "\n",
              "  <div id=\"df-2c4e8594-b4a3-4eae-96d4-1e6b58f0128e\">\n",
              "    <div class=\"colab-df-container\">\n",
              "      <div>\n",
              "<style scoped>\n",
              "    .dataframe tbody tr th:only-of-type {\n",
              "        vertical-align: middle;\n",
              "    }\n",
              "\n",
              "    .dataframe tbody tr th {\n",
              "        vertical-align: top;\n",
              "    }\n",
              "\n",
              "    .dataframe thead th {\n",
              "        text-align: right;\n",
              "    }\n",
              "</style>\n",
              "<table border=\"1\" class=\"dataframe\">\n",
              "  <thead>\n",
              "    <tr style=\"text-align: right;\">\n",
              "      <th></th>\n",
              "      <th>Perceived_Race</th>\n",
              "      <th>Sex</th>\n",
              "      <th>StripSearch</th>\n",
              "      <th>Actions_at_arrest___Concealed_i</th>\n",
              "      <th>Actions_at_arrest___Combative__</th>\n",
              "      <th>Actions_at_arrest___Resisted__d</th>\n",
              "      <th>Actions_at_arrest___Mental_inst</th>\n",
              "      <th>Actions_at_arrest___Assaulted_o</th>\n",
              "      <th>total_actions</th>\n",
              "    </tr>\n",
              "  </thead>\n",
              "  <tbody>\n",
              "    <tr>\n",
              "      <th>12</th>\n",
              "      <td>Black</td>\n",
              "      <td>M</td>\n",
              "      <td>1</td>\n",
              "      <td>0</td>\n",
              "      <td>0</td>\n",
              "      <td>0</td>\n",
              "      <td>0</td>\n",
              "      <td>0</td>\n",
              "      <td>0</td>\n",
              "    </tr>\n",
              "    <tr>\n",
              "      <th>14</th>\n",
              "      <td>Black</td>\n",
              "      <td>M</td>\n",
              "      <td>1</td>\n",
              "      <td>0</td>\n",
              "      <td>0</td>\n",
              "      <td>0</td>\n",
              "      <td>0</td>\n",
              "      <td>0</td>\n",
              "      <td>0</td>\n",
              "    </tr>\n",
              "    <tr>\n",
              "      <th>33</th>\n",
              "      <td>White</td>\n",
              "      <td>M</td>\n",
              "      <td>1</td>\n",
              "      <td>0</td>\n",
              "      <td>0</td>\n",
              "      <td>0</td>\n",
              "      <td>0</td>\n",
              "      <td>0</td>\n",
              "      <td>0</td>\n",
              "    </tr>\n",
              "    <tr>\n",
              "      <th>52</th>\n",
              "      <td>White</td>\n",
              "      <td>M</td>\n",
              "      <td>1</td>\n",
              "      <td>0</td>\n",
              "      <td>0</td>\n",
              "      <td>0</td>\n",
              "      <td>0</td>\n",
              "      <td>0</td>\n",
              "      <td>0</td>\n",
              "    </tr>\n",
              "    <tr>\n",
              "      <th>56</th>\n",
              "      <td>White</td>\n",
              "      <td>F</td>\n",
              "      <td>1</td>\n",
              "      <td>0</td>\n",
              "      <td>0</td>\n",
              "      <td>0</td>\n",
              "      <td>0</td>\n",
              "      <td>0</td>\n",
              "      <td>0</td>\n",
              "    </tr>\n",
              "    <tr>\n",
              "      <th>...</th>\n",
              "      <td>...</td>\n",
              "      <td>...</td>\n",
              "      <td>...</td>\n",
              "      <td>...</td>\n",
              "      <td>...</td>\n",
              "      <td>...</td>\n",
              "      <td>...</td>\n",
              "      <td>...</td>\n",
              "      <td>...</td>\n",
              "    </tr>\n",
              "    <tr>\n",
              "      <th>63602</th>\n",
              "      <td>White</td>\n",
              "      <td>M</td>\n",
              "      <td>1</td>\n",
              "      <td>0</td>\n",
              "      <td>0</td>\n",
              "      <td>0</td>\n",
              "      <td>0</td>\n",
              "      <td>0</td>\n",
              "      <td>0</td>\n",
              "    </tr>\n",
              "    <tr>\n",
              "      <th>63915</th>\n",
              "      <td>Black</td>\n",
              "      <td>M</td>\n",
              "      <td>1</td>\n",
              "      <td>0</td>\n",
              "      <td>0</td>\n",
              "      <td>0</td>\n",
              "      <td>0</td>\n",
              "      <td>0</td>\n",
              "      <td>0</td>\n",
              "    </tr>\n",
              "    <tr>\n",
              "      <th>64108</th>\n",
              "      <td>White</td>\n",
              "      <td>M</td>\n",
              "      <td>1</td>\n",
              "      <td>0</td>\n",
              "      <td>0</td>\n",
              "      <td>0</td>\n",
              "      <td>0</td>\n",
              "      <td>0</td>\n",
              "      <td>0</td>\n",
              "    </tr>\n",
              "    <tr>\n",
              "      <th>64347</th>\n",
              "      <td>Black</td>\n",
              "      <td>M</td>\n",
              "      <td>1</td>\n",
              "      <td>0</td>\n",
              "      <td>0</td>\n",
              "      <td>0</td>\n",
              "      <td>0</td>\n",
              "      <td>0</td>\n",
              "      <td>0</td>\n",
              "    </tr>\n",
              "    <tr>\n",
              "      <th>64428</th>\n",
              "      <td>Black</td>\n",
              "      <td>M</td>\n",
              "      <td>1</td>\n",
              "      <td>0</td>\n",
              "      <td>0</td>\n",
              "      <td>0</td>\n",
              "      <td>0</td>\n",
              "      <td>0</td>\n",
              "      <td>0</td>\n",
              "    </tr>\n",
              "  </tbody>\n",
              "</table>\n",
              "<p>6306 rows × 9 columns</p>\n",
              "</div>\n",
              "      <button class=\"colab-df-convert\" onclick=\"convertToInteractive('df-2c4e8594-b4a3-4eae-96d4-1e6b58f0128e')\"\n",
              "              title=\"Convert this dataframe to an interactive table.\"\n",
              "              style=\"display:none;\">\n",
              "        \n",
              "  <svg xmlns=\"http://www.w3.org/2000/svg\" height=\"24px\"viewBox=\"0 0 24 24\"\n",
              "       width=\"24px\">\n",
              "    <path d=\"M0 0h24v24H0V0z\" fill=\"none\"/>\n",
              "    <path d=\"M18.56 5.44l.94 2.06.94-2.06 2.06-.94-2.06-.94-.94-2.06-.94 2.06-2.06.94zm-11 1L8.5 8.5l.94-2.06 2.06-.94-2.06-.94L8.5 2.5l-.94 2.06-2.06.94zm10 10l.94 2.06.94-2.06 2.06-.94-2.06-.94-.94-2.06-.94 2.06-2.06.94z\"/><path d=\"M17.41 7.96l-1.37-1.37c-.4-.4-.92-.59-1.43-.59-.52 0-1.04.2-1.43.59L10.3 9.45l-7.72 7.72c-.78.78-.78 2.05 0 2.83L4 21.41c.39.39.9.59 1.41.59.51 0 1.02-.2 1.41-.59l7.78-7.78 2.81-2.81c.8-.78.8-2.07 0-2.86zM5.41 20L4 18.59l7.72-7.72 1.47 1.35L5.41 20z\"/>\n",
              "  </svg>\n",
              "      </button>\n",
              "      \n",
              "  <style>\n",
              "    .colab-df-container {\n",
              "      display:flex;\n",
              "      flex-wrap:wrap;\n",
              "      gap: 12px;\n",
              "    }\n",
              "\n",
              "    .colab-df-convert {\n",
              "      background-color: #E8F0FE;\n",
              "      border: none;\n",
              "      border-radius: 50%;\n",
              "      cursor: pointer;\n",
              "      display: none;\n",
              "      fill: #1967D2;\n",
              "      height: 32px;\n",
              "      padding: 0 0 0 0;\n",
              "      width: 32px;\n",
              "    }\n",
              "\n",
              "    .colab-df-convert:hover {\n",
              "      background-color: #E2EBFA;\n",
              "      box-shadow: 0px 1px 2px rgba(60, 64, 67, 0.3), 0px 1px 3px 1px rgba(60, 64, 67, 0.15);\n",
              "      fill: #174EA6;\n",
              "    }\n",
              "\n",
              "    [theme=dark] .colab-df-convert {\n",
              "      background-color: #3B4455;\n",
              "      fill: #D2E3FC;\n",
              "    }\n",
              "\n",
              "    [theme=dark] .colab-df-convert:hover {\n",
              "      background-color: #434B5C;\n",
              "      box-shadow: 0px 1px 3px 1px rgba(0, 0, 0, 0.15);\n",
              "      filter: drop-shadow(0px 1px 2px rgba(0, 0, 0, 0.3));\n",
              "      fill: #FFFFFF;\n",
              "    }\n",
              "  </style>\n",
              "\n",
              "      <script>\n",
              "        const buttonEl =\n",
              "          document.querySelector('#df-2c4e8594-b4a3-4eae-96d4-1e6b58f0128e button.colab-df-convert');\n",
              "        buttonEl.style.display =\n",
              "          google.colab.kernel.accessAllowed ? 'block' : 'none';\n",
              "\n",
              "        async function convertToInteractive(key) {\n",
              "          const element = document.querySelector('#df-2c4e8594-b4a3-4eae-96d4-1e6b58f0128e');\n",
              "          const dataTable =\n",
              "            await google.colab.kernel.invokeFunction('convertToInteractive',\n",
              "                                                     [key], {});\n",
              "          if (!dataTable) return;\n",
              "\n",
              "          const docLinkHtml = 'Like what you see? Visit the ' +\n",
              "            '<a target=\"_blank\" href=https://colab.research.google.com/notebooks/data_table.ipynb>data table notebook</a>'\n",
              "            + ' to learn more about interactive tables.';\n",
              "          element.innerHTML = '';\n",
              "          dataTable['output_type'] = 'display_data';\n",
              "          await google.colab.output.renderOutput(dataTable, element);\n",
              "          const docLink = document.createElement('div');\n",
              "          docLink.innerHTML = docLinkHtml;\n",
              "          element.appendChild(docLink);\n",
              "        }\n",
              "      </script>\n",
              "    </div>\n",
              "  </div>\n",
              "  "
            ]
          },
          "metadata": {},
          "execution_count": 25
        }
      ]
    },
    {
      "cell_type": "code",
      "source": [
        "# data for two groups\n",
        "white_data_1 = df_cleaned2_1[df_cleaned2_1['Perceived_Race']=='White']\n",
        "black_data_1 = df_cleaned2_1[df_cleaned2_1['Perceived_Race']=='Black']\n",
        "white_1 = white_data_1['total_actions']\n",
        "black_1 = black_data_1['total_actions']\n",
        "\n",
        "# levene to test whether have same population variance\n",
        "from scipy.stats import levene\n",
        "\n",
        "\n",
        "# conduct Levene's test\n",
        "stat, pvalue = levene(white_1, black_1)\n",
        "\n",
        "# print the test statistic and p-value\n",
        "print('Test statistic:', stat)\n",
        "print('Levene test P-value:', pvalue)\n",
        "\n",
        "\n",
        "\n",
        "#since population variance might uneuqal, so use weltch t test\n",
        "#degree of freedom\n",
        "def welch_dof(x, y): \n",
        "    '''\n",
        "    Takes in final grades for binary features\n",
        "    Returns degrees of freedom \n",
        "    '''\n",
        "    dof = (x.var()/x.size + y.var()/y.size)**2 / ((x.var()/x.size)**2 / (x.size-1) + (y.var()/y.size)**2 / (y.size-1))\n",
        "    return dof\n",
        "welch_dof(white_1,black_1)"
      ],
      "metadata": {
        "colab": {
          "base_uri": "https://localhost:8080/"
        },
        "id": "qCQHFNgN-zf3",
        "outputId": "d9b0438d-f9ab-4494-fd50-b51c56e5edd1"
      },
      "execution_count": null,
      "outputs": [
        {
          "output_type": "stream",
          "name": "stdout",
          "text": [
            "Test statistic: 19.53306036861891\n",
            "Levene test P-value: 1.0061556389580791e-05\n"
          ]
        },
        {
          "output_type": "execute_result",
          "data": {
            "text/plain": [
              "4762.8666557312845"
            ]
          },
          "metadata": {},
          "execution_count": 26
        }
      ]
    },
    {
      "cell_type": "code",
      "source": [
        "#weltch t test\n",
        "t_p_action = stats.ttest_ind(white_1, black_1, equal_var=False)\n",
        "print('Ttest results for # of actions the White and Black who are strip searched :',t_p_action) "
      ],
      "metadata": {
        "colab": {
          "base_uri": "https://localhost:8080/"
        },
        "id": "FSVOQQ6y_Ho8",
        "outputId": "1481e52e-f4ef-4aa3-c40b-7916f883cac2"
      },
      "execution_count": null,
      "outputs": [
        {
          "output_type": "stream",
          "name": "stdout",
          "text": [
            "Ttest results for # of actions the White and Black who are strip searched : Ttest_indResult(statistic=-4.312218150819922, pvalue=1.6489231098716865e-05)\n"
          ]
        }
      ]
    },
    {
      "cell_type": "code",
      "source": [
        "# mean and sd\n",
        "print('Mean of total number of actions for White and Black who are strip searched:',white_1.mean(), black_1.mean())\n",
        "print('Standard deviation of total number of actions for white and black who are strip searched :',white_1.std(), black_1.std())"
      ],
      "metadata": {
        "colab": {
          "base_uri": "https://localhost:8080/"
        },
        "id": "GqVRFz3a_LE7",
        "outputId": "73abc5cd-907c-4ace-cd29-80e6e4ed8978"
      },
      "execution_count": null,
      "outputs": [
        {
          "output_type": "stream",
          "name": "stdout",
          "text": [
            "Mean of total number of actions for White and Black who are strip searched: 0.23022994952327538 0.3011503697617091\n",
            "Standard deviation of total number of actions for white and black who are strip searched : 0.5762920629149696 0.6570171291528663\n"
          ]
        }
      ]
    },
    {
      "cell_type": "code",
      "source": [
        "#Confidence interval\n",
        "import statsmodels.stats.api as sms\n",
        "CI_action = sms.CompareMeans(sms.DescrStatsW(white_1), sms.DescrStatsW(black_1))\n",
        "print('Confidence interval :',CI_action.tconfint_diff(usevar='unequal'))"
      ],
      "metadata": {
        "colab": {
          "base_uri": "https://localhost:8080/"
        },
        "id": "CKQxCGYH_Oh7",
        "outputId": "386c1f32-9a3b-4d7e-98bd-629c819915d2"
      },
      "execution_count": null,
      "outputs": [
        {
          "output_type": "stream",
          "name": "stdout",
          "text": [
            "Confidence interval : (-0.10316294535720323, -0.03867789511966423)\n"
          ]
        }
      ]
    },
    {
      "cell_type": "markdown",
      "source": [
        "# T test: Total search reasons for Male vs Female\n"
      ],
      "metadata": {
        "id": "BBSyLtrjFZIn"
      }
    },
    {
      "cell_type": "code",
      "source": [
        "# For those searched\n",
        "df_cleaned_fm = df_cleaned1.loc[df_cleaned1['StripSearch'].isin([1])]\n",
        "female = df_cleaned_fm[df_cleaned_fm[\"Sex\"]==\"F\"]\n",
        "male = df_cleaned_fm[df_cleaned_fm[\"Sex\"]==\"M\"]\n",
        "# conduct Levene's test\n",
        "stat, pvalue = levene(female[\"Total_SearchReason\"], male[\"Total_SearchReason\"])\n",
        "\n",
        "# print the test statistic and p-value\n",
        "print('Test statistic for variances:', stat)\n",
        "print('P-value for variances:', pvalue)\n",
        "\n",
        "\n",
        "print('Mean of total number of reasons for Females and Males who are strip searched:',female[\"Total_SearchReason\"].mean(), male[\"Total_SearchReason\"].mean())\n",
        "print('Standard deviation of total number of reasons for Females and Males who are strip searched :',female[\"Total_SearchReason\"].std(), male[\"Total_SearchReason\"].std())\n",
        "\n",
        "t_p = stats.ttest_ind(female['Total_SearchReason'], male[\"Total_SearchReason\"])\n",
        "print('Ttest results for # of reasons for strip searching female and male arrestees:',t_p)\n",
        "\n",
        "#Confidence interval\n",
        "import statsmodels.stats.api as sms\n",
        "CI_SS = sms.CompareMeans(sms.DescrStatsW(female[\"Total_SearchReason\"]), sms.DescrStatsW(male[\"Total_SearchReason\"]))\n",
        "print('Confidence interval :',CI_SS.tconfint_diff(usevar='pooled'))\n",
        "#dof\n",
        "dof_g_s = len(female[\"Total_SearchReason\"]) + len(male[\"Total_SearchReason\"]) - 2\n",
        "print('degree of freedom',dof_g_s)"
      ],
      "metadata": {
        "colab": {
          "base_uri": "https://localhost:8080/"
        },
        "id": "h6NzW1QYLg62",
        "outputId": "5f60616b-9b5f-4680-bb4c-76fc2755e708"
      },
      "execution_count": null,
      "outputs": [
        {
          "output_type": "stream",
          "name": "stdout",
          "text": [
            "Test statistic for variances: 2.074194249440296\n",
            "P-value for variances: 0.14984918047998277\n",
            "Mean of total number of reasons for Females and Males who are strip searched: 1.86282151208106 2.004296455424275\n",
            "Standard deviation of total number of reasons for Females and Males who are strip searched : 1.176292261182499 1.2149240591485009\n",
            "Ttest results for # of reasons for strip searching female and male arrestees: Ttest_indResult(statistic=-3.8323579838957222, pvalue=0.00012791819737753462)\n",
            "Confidence interval : (-0.21384000951097437, -0.06910987717545514)\n",
            "degree of freedom 7798\n"
          ]
        }
      ]
    },
    {
      "cell_type": "markdown",
      "source": [
        "# T test: total actions for male vs. female\n",
        "\n",
        "\n",
        "\n"
      ],
      "metadata": {
        "id": "7XGGFCxn6RFA"
      }
    },
    {
      "cell_type": "code",
      "source": [
        "# For those searched\n",
        "df_cleaned_fm_1 = df_cleaned2.loc[df_cleaned2['StripSearch'].isin([1])]\n",
        "female_1 = df_cleaned_fm_1[df_cleaned_fm_1[\"Sex\"]==\"F\"]\n",
        "male_1 = df_cleaned_fm_1[df_cleaned_fm_1[\"Sex\"]==\"M\"]\n",
        "\n",
        "# conduct Levene's test\n",
        "stat, pvalue = levene(female_1[\"total_actions\"], male_1[\"total_actions\"])\n",
        "\n",
        "# print the test statistic and p-value\n",
        "print('Test statistic for variances:', stat)\n",
        "print('P-value for variances:', pvalue)\n",
        "\n",
        "\n",
        "print('Mean of total number of actions for Females and Males who are strip searched:',female_1[\"total_actions\"].mean(), male_1[\"total_actions\"].mean())\n",
        "print('Standard deviation of total number of actions for Females and Males who are strip searched :',female_1[\"total_actions\"].std(), male_1[\"total_actions\"].std())\n",
        "\n",
        "t_p_1 = stats.ttest_ind(female_1['total_actions'], male_1[\"total_actions\"])\n",
        "print('Ttest results for # of actions for strip searching White and Black arrestees:',t_p_1)\n",
        "#Confidence interval\n",
        "import statsmodels.stats.api as sms\n",
        "CI_SA = sms.CompareMeans(sms.DescrStatsW(female_1[\"total_actions\"]), sms.DescrStatsW(male_1[\"total_actions\"]))\n",
        "print('Confidence interval :',CI_SA.tconfint_diff(usevar='pooled'))\n",
        "#dof\n",
        "dof_g_a = len(female_1[\"total_actions\"]) + len(male_1[\"total_actions\"]) - 2\n",
        "print('degree of freedom',dof_g_a)"
      ],
      "metadata": {
        "colab": {
          "base_uri": "https://localhost:8080/"
        },
        "id": "y5bhndS06wNr",
        "outputId": "d14a5be2-0ad7-4922-8f18-ca00356e05e3"
      },
      "execution_count": null,
      "outputs": [
        {
          "output_type": "stream",
          "name": "stdout",
          "text": [
            "Test statistic for variances: 0.6522215663664344\n",
            "P-value for variances: 0.4193441629972747\n",
            "Mean of total number of actions for Females and Males who are strip searched: 0.24162120031176929 0.2565597667638484\n",
            "Standard deviation of total number of actions for Females and Males who are strip searched : 0.5944998998905323 0.6077855918458743\n",
            "Ttest results for # of actions for strip searching White and Black arrestees: Ttest_indResult(statistic=-0.8076023565879649, pvalue=0.41934416300024346)\n",
            "Confidence interval : (-0.05119848721928853, 0.02132135431513031)\n",
            "degree of freedom 7798\n"
          ]
        }
      ]
    },
    {
      "cell_type": "code",
      "source": [
        "df_cleaned_fm_1"
      ],
      "metadata": {
        "colab": {
          "base_uri": "https://localhost:8080/",
          "height": 505
        },
        "id": "BaacNhg4Cg2j",
        "outputId": "30582333-62ee-4cc0-8b8f-b6fb611fe81f"
      },
      "execution_count": null,
      "outputs": [
        {
          "output_type": "execute_result",
          "data": {
            "text/plain": [
              "          Perceived_Race Sex  StripSearch  Actions_at_arrest___Concealed_i  \\\n",
              "12                 Black   M            1                                0   \n",
              "14                 Black   M            1                                0   \n",
              "21     Unknown or Legacy   M            1                                0   \n",
              "33                 White   M            1                                0   \n",
              "38                Latino   M            1                                0   \n",
              "...                  ...  ..          ...                              ...   \n",
              "63915              Black   M            1                                0   \n",
              "64108              White   M            1                                0   \n",
              "64235        South Asian   M            1                                0   \n",
              "64347              Black   M            1                                0   \n",
              "64428              Black   M            1                                0   \n",
              "\n",
              "       Actions_at_arrest___Combative__  Actions_at_arrest___Resisted__d  \\\n",
              "12                                   0                                0   \n",
              "14                                   0                                0   \n",
              "21                                   0                                0   \n",
              "33                                   0                                0   \n",
              "38                                   0                                0   \n",
              "...                                ...                              ...   \n",
              "63915                                0                                0   \n",
              "64108                                0                                0   \n",
              "64235                                0                                0   \n",
              "64347                                0                                0   \n",
              "64428                                0                                0   \n",
              "\n",
              "       Actions_at_arrest___Mental_inst  Actions_at_arrest___Assaulted_o  \\\n",
              "12                                   0                                0   \n",
              "14                                   0                                0   \n",
              "21                                   0                                0   \n",
              "33                                   0                                0   \n",
              "38                                   0                                0   \n",
              "...                                ...                              ...   \n",
              "63915                                0                                0   \n",
              "64108                                0                                0   \n",
              "64235                                0                                0   \n",
              "64347                                0                                0   \n",
              "64428                                0                                0   \n",
              "\n",
              "       total_actions  \n",
              "12                 0  \n",
              "14                 0  \n",
              "21                 0  \n",
              "33                 0  \n",
              "38                 0  \n",
              "...              ...  \n",
              "63915              0  \n",
              "64108              0  \n",
              "64235              0  \n",
              "64347              0  \n",
              "64428              0  \n",
              "\n",
              "[7800 rows x 9 columns]"
            ],
            "text/html": [
              "\n",
              "  <div id=\"df-eb4b06c2-a349-4e9f-ad21-61f7a5f7f4b6\">\n",
              "    <div class=\"colab-df-container\">\n",
              "      <div>\n",
              "<style scoped>\n",
              "    .dataframe tbody tr th:only-of-type {\n",
              "        vertical-align: middle;\n",
              "    }\n",
              "\n",
              "    .dataframe tbody tr th {\n",
              "        vertical-align: top;\n",
              "    }\n",
              "\n",
              "    .dataframe thead th {\n",
              "        text-align: right;\n",
              "    }\n",
              "</style>\n",
              "<table border=\"1\" class=\"dataframe\">\n",
              "  <thead>\n",
              "    <tr style=\"text-align: right;\">\n",
              "      <th></th>\n",
              "      <th>Perceived_Race</th>\n",
              "      <th>Sex</th>\n",
              "      <th>StripSearch</th>\n",
              "      <th>Actions_at_arrest___Concealed_i</th>\n",
              "      <th>Actions_at_arrest___Combative__</th>\n",
              "      <th>Actions_at_arrest___Resisted__d</th>\n",
              "      <th>Actions_at_arrest___Mental_inst</th>\n",
              "      <th>Actions_at_arrest___Assaulted_o</th>\n",
              "      <th>total_actions</th>\n",
              "    </tr>\n",
              "  </thead>\n",
              "  <tbody>\n",
              "    <tr>\n",
              "      <th>12</th>\n",
              "      <td>Black</td>\n",
              "      <td>M</td>\n",
              "      <td>1</td>\n",
              "      <td>0</td>\n",
              "      <td>0</td>\n",
              "      <td>0</td>\n",
              "      <td>0</td>\n",
              "      <td>0</td>\n",
              "      <td>0</td>\n",
              "    </tr>\n",
              "    <tr>\n",
              "      <th>14</th>\n",
              "      <td>Black</td>\n",
              "      <td>M</td>\n",
              "      <td>1</td>\n",
              "      <td>0</td>\n",
              "      <td>0</td>\n",
              "      <td>0</td>\n",
              "      <td>0</td>\n",
              "      <td>0</td>\n",
              "      <td>0</td>\n",
              "    </tr>\n",
              "    <tr>\n",
              "      <th>21</th>\n",
              "      <td>Unknown or Legacy</td>\n",
              "      <td>M</td>\n",
              "      <td>1</td>\n",
              "      <td>0</td>\n",
              "      <td>0</td>\n",
              "      <td>0</td>\n",
              "      <td>0</td>\n",
              "      <td>0</td>\n",
              "      <td>0</td>\n",
              "    </tr>\n",
              "    <tr>\n",
              "      <th>33</th>\n",
              "      <td>White</td>\n",
              "      <td>M</td>\n",
              "      <td>1</td>\n",
              "      <td>0</td>\n",
              "      <td>0</td>\n",
              "      <td>0</td>\n",
              "      <td>0</td>\n",
              "      <td>0</td>\n",
              "      <td>0</td>\n",
              "    </tr>\n",
              "    <tr>\n",
              "      <th>38</th>\n",
              "      <td>Latino</td>\n",
              "      <td>M</td>\n",
              "      <td>1</td>\n",
              "      <td>0</td>\n",
              "      <td>0</td>\n",
              "      <td>0</td>\n",
              "      <td>0</td>\n",
              "      <td>0</td>\n",
              "      <td>0</td>\n",
              "    </tr>\n",
              "    <tr>\n",
              "      <th>...</th>\n",
              "      <td>...</td>\n",
              "      <td>...</td>\n",
              "      <td>...</td>\n",
              "      <td>...</td>\n",
              "      <td>...</td>\n",
              "      <td>...</td>\n",
              "      <td>...</td>\n",
              "      <td>...</td>\n",
              "      <td>...</td>\n",
              "    </tr>\n",
              "    <tr>\n",
              "      <th>63915</th>\n",
              "      <td>Black</td>\n",
              "      <td>M</td>\n",
              "      <td>1</td>\n",
              "      <td>0</td>\n",
              "      <td>0</td>\n",
              "      <td>0</td>\n",
              "      <td>0</td>\n",
              "      <td>0</td>\n",
              "      <td>0</td>\n",
              "    </tr>\n",
              "    <tr>\n",
              "      <th>64108</th>\n",
              "      <td>White</td>\n",
              "      <td>M</td>\n",
              "      <td>1</td>\n",
              "      <td>0</td>\n",
              "      <td>0</td>\n",
              "      <td>0</td>\n",
              "      <td>0</td>\n",
              "      <td>0</td>\n",
              "      <td>0</td>\n",
              "    </tr>\n",
              "    <tr>\n",
              "      <th>64235</th>\n",
              "      <td>South Asian</td>\n",
              "      <td>M</td>\n",
              "      <td>1</td>\n",
              "      <td>0</td>\n",
              "      <td>0</td>\n",
              "      <td>0</td>\n",
              "      <td>0</td>\n",
              "      <td>0</td>\n",
              "      <td>0</td>\n",
              "    </tr>\n",
              "    <tr>\n",
              "      <th>64347</th>\n",
              "      <td>Black</td>\n",
              "      <td>M</td>\n",
              "      <td>1</td>\n",
              "      <td>0</td>\n",
              "      <td>0</td>\n",
              "      <td>0</td>\n",
              "      <td>0</td>\n",
              "      <td>0</td>\n",
              "      <td>0</td>\n",
              "    </tr>\n",
              "    <tr>\n",
              "      <th>64428</th>\n",
              "      <td>Black</td>\n",
              "      <td>M</td>\n",
              "      <td>1</td>\n",
              "      <td>0</td>\n",
              "      <td>0</td>\n",
              "      <td>0</td>\n",
              "      <td>0</td>\n",
              "      <td>0</td>\n",
              "      <td>0</td>\n",
              "    </tr>\n",
              "  </tbody>\n",
              "</table>\n",
              "<p>7800 rows × 9 columns</p>\n",
              "</div>\n",
              "      <button class=\"colab-df-convert\" onclick=\"convertToInteractive('df-eb4b06c2-a349-4e9f-ad21-61f7a5f7f4b6')\"\n",
              "              title=\"Convert this dataframe to an interactive table.\"\n",
              "              style=\"display:none;\">\n",
              "        \n",
              "  <svg xmlns=\"http://www.w3.org/2000/svg\" height=\"24px\"viewBox=\"0 0 24 24\"\n",
              "       width=\"24px\">\n",
              "    <path d=\"M0 0h24v24H0V0z\" fill=\"none\"/>\n",
              "    <path d=\"M18.56 5.44l.94 2.06.94-2.06 2.06-.94-2.06-.94-.94-2.06-.94 2.06-2.06.94zm-11 1L8.5 8.5l.94-2.06 2.06-.94-2.06-.94L8.5 2.5l-.94 2.06-2.06.94zm10 10l.94 2.06.94-2.06 2.06-.94-2.06-.94-.94-2.06-.94 2.06-2.06.94z\"/><path d=\"M17.41 7.96l-1.37-1.37c-.4-.4-.92-.59-1.43-.59-.52 0-1.04.2-1.43.59L10.3 9.45l-7.72 7.72c-.78.78-.78 2.05 0 2.83L4 21.41c.39.39.9.59 1.41.59.51 0 1.02-.2 1.41-.59l7.78-7.78 2.81-2.81c.8-.78.8-2.07 0-2.86zM5.41 20L4 18.59l7.72-7.72 1.47 1.35L5.41 20z\"/>\n",
              "  </svg>\n",
              "      </button>\n",
              "      \n",
              "  <style>\n",
              "    .colab-df-container {\n",
              "      display:flex;\n",
              "      flex-wrap:wrap;\n",
              "      gap: 12px;\n",
              "    }\n",
              "\n",
              "    .colab-df-convert {\n",
              "      background-color: #E8F0FE;\n",
              "      border: none;\n",
              "      border-radius: 50%;\n",
              "      cursor: pointer;\n",
              "      display: none;\n",
              "      fill: #1967D2;\n",
              "      height: 32px;\n",
              "      padding: 0 0 0 0;\n",
              "      width: 32px;\n",
              "    }\n",
              "\n",
              "    .colab-df-convert:hover {\n",
              "      background-color: #E2EBFA;\n",
              "      box-shadow: 0px 1px 2px rgba(60, 64, 67, 0.3), 0px 1px 3px 1px rgba(60, 64, 67, 0.15);\n",
              "      fill: #174EA6;\n",
              "    }\n",
              "\n",
              "    [theme=dark] .colab-df-convert {\n",
              "      background-color: #3B4455;\n",
              "      fill: #D2E3FC;\n",
              "    }\n",
              "\n",
              "    [theme=dark] .colab-df-convert:hover {\n",
              "      background-color: #434B5C;\n",
              "      box-shadow: 0px 1px 3px 1px rgba(0, 0, 0, 0.15);\n",
              "      filter: drop-shadow(0px 1px 2px rgba(0, 0, 0, 0.3));\n",
              "      fill: #FFFFFF;\n",
              "    }\n",
              "  </style>\n",
              "\n",
              "      <script>\n",
              "        const buttonEl =\n",
              "          document.querySelector('#df-eb4b06c2-a349-4e9f-ad21-61f7a5f7f4b6 button.colab-df-convert');\n",
              "        buttonEl.style.display =\n",
              "          google.colab.kernel.accessAllowed ? 'block' : 'none';\n",
              "\n",
              "        async function convertToInteractive(key) {\n",
              "          const element = document.querySelector('#df-eb4b06c2-a349-4e9f-ad21-61f7a5f7f4b6');\n",
              "          const dataTable =\n",
              "            await google.colab.kernel.invokeFunction('convertToInteractive',\n",
              "                                                     [key], {});\n",
              "          if (!dataTable) return;\n",
              "\n",
              "          const docLinkHtml = 'Like what you see? Visit the ' +\n",
              "            '<a target=\"_blank\" href=https://colab.research.google.com/notebooks/data_table.ipynb>data table notebook</a>'\n",
              "            + ' to learn more about interactive tables.';\n",
              "          element.innerHTML = '';\n",
              "          dataTable['output_type'] = 'display_data';\n",
              "          await google.colab.output.renderOutput(dataTable, element);\n",
              "          const docLink = document.createElement('div');\n",
              "          docLink.innerHTML = docLinkHtml;\n",
              "          element.appendChild(docLink);\n",
              "        }\n",
              "      </script>\n",
              "    </div>\n",
              "  </div>\n",
              "  "
            ]
          },
          "metadata": {},
          "execution_count": 32
        }
      ]
    },
    {
      "cell_type": "markdown",
      "source": [
        "# **Conduct One Way and Two Way ANOVA on the features of interest.**"
      ],
      "metadata": {
        "id": "XhtFbj8xJlCS"
      }
    },
    {
      "cell_type": "code",
      "source": [
        "import statsmodels.api as sm\n",
        "from statsmodels.formula.api import ols\n",
        "from scipy.stats import f_oneway\n",
        "from statsmodels.stats.multicomp import pairwise_tukeyhsd"
      ],
      "metadata": {
        "id": "fC2O-gQOYEAz"
      },
      "execution_count": null,
      "outputs": []
    },
    {
      "cell_type": "code",
      "source": [
        "# Remove columns unnecessary to analysis\n",
        "# We also remove \"Actions_at_arrest___Cooperative\", since it seems not to contribute to strip searches.\n",
        "col3 = ['Arrest_Year', 'Arrest_Month', 'EventID', 'ArrestID', 'PersonID','Age_group__at_arrest_',\\\n",
        "       'Youth_at_arrest__under_18_years','Booked', 'Occurrence_Category',\\\n",
        "       'Actions_at_arrest___Cooperative',\\\n",
        "       'ItemsFound', 'ObjectId','ArrestLocDiv']\n",
        "# Remove NaN\n",
        "df_cleaned3 = df.drop(columns=col3).dropna(axis=0)\n",
        "\n",
        "# Add a column called total number of SearchReasons, adding up reasons\n",
        "\n",
        "df_cleaned3['Total_Actions'] = df_cleaned3.apply(lambda row: row['Actions_at_arrest___Concealed_i'] + row['Actions_at_arrest___Combative__'] + \\\n",
        "                                    row['Actions_at_arrest___Resisted__d'] + row['Actions_at_arrest___Mental_inst'] + \\\n",
        "                                                      row['Actions_at_arrest___Assaulted_o'], axis=1)\n",
        "df_cleaned3['Total_Search'] = df_cleaned3['Total_SearchReason'] = df_cleaned3.apply(lambda row: row['SearchReason_CauseInjury'] + row['SearchReason_AssistEscape'] + \\\n",
        "                                    row['SearchReason_PossessWeapons'] + row['SearchReason_PossessEvidence'], axis=1)\n",
        "\n",
        "# Only those strip searched\n",
        "df_cleaned3 = df_cleaned3.loc[df_cleaned3['StripSearch'].isin([1])]\n",
        "df_cleaned3"
      ],
      "metadata": {
        "id": "rn_KEOyKhDS9",
        "colab": {
          "base_uri": "https://localhost:8080/",
          "height": 505
        },
        "outputId": "658828ef-7b44-4745-86f8-973224e781bd"
      },
      "execution_count": null,
      "outputs": [
        {
          "output_type": "execute_result",
          "data": {
            "text/plain": [
              "          Perceived_Race Sex  StripSearch  Actions_at_arrest___Concealed_i  \\\n",
              "12                 Black   M            1                                0   \n",
              "14                 Black   M            1                                0   \n",
              "21     Unknown or Legacy   M            1                                0   \n",
              "33                 White   M            1                                0   \n",
              "38                Latino   M            1                                0   \n",
              "...                  ...  ..          ...                              ...   \n",
              "63915              Black   M            1                                0   \n",
              "64108              White   M            1                                0   \n",
              "64235        South Asian   M            1                                0   \n",
              "64347              Black   M            1                                0   \n",
              "64428              Black   M            1                                0   \n",
              "\n",
              "       Actions_at_arrest___Combative__  Actions_at_arrest___Resisted__d  \\\n",
              "12                                   0                                0   \n",
              "14                                   0                                0   \n",
              "21                                   0                                0   \n",
              "33                                   0                                0   \n",
              "38                                   0                                0   \n",
              "...                                ...                              ...   \n",
              "63915                                0                                0   \n",
              "64108                                0                                0   \n",
              "64235                                0                                0   \n",
              "64347                                0                                0   \n",
              "64428                                0                                0   \n",
              "\n",
              "       Actions_at_arrest___Mental_inst  Actions_at_arrest___Assaulted_o  \\\n",
              "12                                   0                                0   \n",
              "14                                   0                                0   \n",
              "21                                   0                                0   \n",
              "33                                   0                                0   \n",
              "38                                   0                                0   \n",
              "...                                ...                              ...   \n",
              "63915                                0                                0   \n",
              "64108                                0                                0   \n",
              "64235                                0                                0   \n",
              "64347                                0                                0   \n",
              "64428                                0                                0   \n",
              "\n",
              "       SearchReason_CauseInjury  SearchReason_AssistEscape  \\\n",
              "12                          1.0                        1.0   \n",
              "14                          1.0                        1.0   \n",
              "21                          1.0                        0.0   \n",
              "33                          0.0                        0.0   \n",
              "38                          1.0                        0.0   \n",
              "...                         ...                        ...   \n",
              "63915                       1.0                        0.0   \n",
              "64108                       0.0                        0.0   \n",
              "64235                       0.0                        0.0   \n",
              "64347                       0.0                        0.0   \n",
              "64428                       0.0                        0.0   \n",
              "\n",
              "       SearchReason_PossessWeapons  SearchReason_PossessEvidence  \\\n",
              "12                             1.0                           0.0   \n",
              "14                             1.0                           0.0   \n",
              "21                             0.0                           0.0   \n",
              "33                             1.0                           1.0   \n",
              "38                             1.0                           0.0   \n",
              "...                            ...                           ...   \n",
              "63915                          0.0                           1.0   \n",
              "64108                          0.0                           0.0   \n",
              "64235                          0.0                           1.0   \n",
              "64347                          1.0                           1.0   \n",
              "64428                          1.0                           0.0   \n",
              "\n",
              "       Total_Actions  Total_Search  Total_SearchReason  \n",
              "12                 0           3.0                 3.0  \n",
              "14                 0           3.0                 3.0  \n",
              "21                 0           1.0                 1.0  \n",
              "33                 0           2.0                 2.0  \n",
              "38                 0           2.0                 2.0  \n",
              "...              ...           ...                 ...  \n",
              "63915              0           2.0                 2.0  \n",
              "64108              0           0.0                 0.0  \n",
              "64235              0           1.0                 1.0  \n",
              "64347              0           2.0                 2.0  \n",
              "64428              0           1.0                 1.0  \n",
              "\n",
              "[7800 rows x 15 columns]"
            ],
            "text/html": [
              "\n",
              "  <div id=\"df-8ea649f6-7277-458e-85ef-d33009cfedb8\">\n",
              "    <div class=\"colab-df-container\">\n",
              "      <div>\n",
              "<style scoped>\n",
              "    .dataframe tbody tr th:only-of-type {\n",
              "        vertical-align: middle;\n",
              "    }\n",
              "\n",
              "    .dataframe tbody tr th {\n",
              "        vertical-align: top;\n",
              "    }\n",
              "\n",
              "    .dataframe thead th {\n",
              "        text-align: right;\n",
              "    }\n",
              "</style>\n",
              "<table border=\"1\" class=\"dataframe\">\n",
              "  <thead>\n",
              "    <tr style=\"text-align: right;\">\n",
              "      <th></th>\n",
              "      <th>Perceived_Race</th>\n",
              "      <th>Sex</th>\n",
              "      <th>StripSearch</th>\n",
              "      <th>Actions_at_arrest___Concealed_i</th>\n",
              "      <th>Actions_at_arrest___Combative__</th>\n",
              "      <th>Actions_at_arrest___Resisted__d</th>\n",
              "      <th>Actions_at_arrest___Mental_inst</th>\n",
              "      <th>Actions_at_arrest___Assaulted_o</th>\n",
              "      <th>SearchReason_CauseInjury</th>\n",
              "      <th>SearchReason_AssistEscape</th>\n",
              "      <th>SearchReason_PossessWeapons</th>\n",
              "      <th>SearchReason_PossessEvidence</th>\n",
              "      <th>Total_Actions</th>\n",
              "      <th>Total_Search</th>\n",
              "      <th>Total_SearchReason</th>\n",
              "    </tr>\n",
              "  </thead>\n",
              "  <tbody>\n",
              "    <tr>\n",
              "      <th>12</th>\n",
              "      <td>Black</td>\n",
              "      <td>M</td>\n",
              "      <td>1</td>\n",
              "      <td>0</td>\n",
              "      <td>0</td>\n",
              "      <td>0</td>\n",
              "      <td>0</td>\n",
              "      <td>0</td>\n",
              "      <td>1.0</td>\n",
              "      <td>1.0</td>\n",
              "      <td>1.0</td>\n",
              "      <td>0.0</td>\n",
              "      <td>0</td>\n",
              "      <td>3.0</td>\n",
              "      <td>3.0</td>\n",
              "    </tr>\n",
              "    <tr>\n",
              "      <th>14</th>\n",
              "      <td>Black</td>\n",
              "      <td>M</td>\n",
              "      <td>1</td>\n",
              "      <td>0</td>\n",
              "      <td>0</td>\n",
              "      <td>0</td>\n",
              "      <td>0</td>\n",
              "      <td>0</td>\n",
              "      <td>1.0</td>\n",
              "      <td>1.0</td>\n",
              "      <td>1.0</td>\n",
              "      <td>0.0</td>\n",
              "      <td>0</td>\n",
              "      <td>3.0</td>\n",
              "      <td>3.0</td>\n",
              "    </tr>\n",
              "    <tr>\n",
              "      <th>21</th>\n",
              "      <td>Unknown or Legacy</td>\n",
              "      <td>M</td>\n",
              "      <td>1</td>\n",
              "      <td>0</td>\n",
              "      <td>0</td>\n",
              "      <td>0</td>\n",
              "      <td>0</td>\n",
              "      <td>0</td>\n",
              "      <td>1.0</td>\n",
              "      <td>0.0</td>\n",
              "      <td>0.0</td>\n",
              "      <td>0.0</td>\n",
              "      <td>0</td>\n",
              "      <td>1.0</td>\n",
              "      <td>1.0</td>\n",
              "    </tr>\n",
              "    <tr>\n",
              "      <th>33</th>\n",
              "      <td>White</td>\n",
              "      <td>M</td>\n",
              "      <td>1</td>\n",
              "      <td>0</td>\n",
              "      <td>0</td>\n",
              "      <td>0</td>\n",
              "      <td>0</td>\n",
              "      <td>0</td>\n",
              "      <td>0.0</td>\n",
              "      <td>0.0</td>\n",
              "      <td>1.0</td>\n",
              "      <td>1.0</td>\n",
              "      <td>0</td>\n",
              "      <td>2.0</td>\n",
              "      <td>2.0</td>\n",
              "    </tr>\n",
              "    <tr>\n",
              "      <th>38</th>\n",
              "      <td>Latino</td>\n",
              "      <td>M</td>\n",
              "      <td>1</td>\n",
              "      <td>0</td>\n",
              "      <td>0</td>\n",
              "      <td>0</td>\n",
              "      <td>0</td>\n",
              "      <td>0</td>\n",
              "      <td>1.0</td>\n",
              "      <td>0.0</td>\n",
              "      <td>1.0</td>\n",
              "      <td>0.0</td>\n",
              "      <td>0</td>\n",
              "      <td>2.0</td>\n",
              "      <td>2.0</td>\n",
              "    </tr>\n",
              "    <tr>\n",
              "      <th>...</th>\n",
              "      <td>...</td>\n",
              "      <td>...</td>\n",
              "      <td>...</td>\n",
              "      <td>...</td>\n",
              "      <td>...</td>\n",
              "      <td>...</td>\n",
              "      <td>...</td>\n",
              "      <td>...</td>\n",
              "      <td>...</td>\n",
              "      <td>...</td>\n",
              "      <td>...</td>\n",
              "      <td>...</td>\n",
              "      <td>...</td>\n",
              "      <td>...</td>\n",
              "      <td>...</td>\n",
              "    </tr>\n",
              "    <tr>\n",
              "      <th>63915</th>\n",
              "      <td>Black</td>\n",
              "      <td>M</td>\n",
              "      <td>1</td>\n",
              "      <td>0</td>\n",
              "      <td>0</td>\n",
              "      <td>0</td>\n",
              "      <td>0</td>\n",
              "      <td>0</td>\n",
              "      <td>1.0</td>\n",
              "      <td>0.0</td>\n",
              "      <td>0.0</td>\n",
              "      <td>1.0</td>\n",
              "      <td>0</td>\n",
              "      <td>2.0</td>\n",
              "      <td>2.0</td>\n",
              "    </tr>\n",
              "    <tr>\n",
              "      <th>64108</th>\n",
              "      <td>White</td>\n",
              "      <td>M</td>\n",
              "      <td>1</td>\n",
              "      <td>0</td>\n",
              "      <td>0</td>\n",
              "      <td>0</td>\n",
              "      <td>0</td>\n",
              "      <td>0</td>\n",
              "      <td>0.0</td>\n",
              "      <td>0.0</td>\n",
              "      <td>0.0</td>\n",
              "      <td>0.0</td>\n",
              "      <td>0</td>\n",
              "      <td>0.0</td>\n",
              "      <td>0.0</td>\n",
              "    </tr>\n",
              "    <tr>\n",
              "      <th>64235</th>\n",
              "      <td>South Asian</td>\n",
              "      <td>M</td>\n",
              "      <td>1</td>\n",
              "      <td>0</td>\n",
              "      <td>0</td>\n",
              "      <td>0</td>\n",
              "      <td>0</td>\n",
              "      <td>0</td>\n",
              "      <td>0.0</td>\n",
              "      <td>0.0</td>\n",
              "      <td>0.0</td>\n",
              "      <td>1.0</td>\n",
              "      <td>0</td>\n",
              "      <td>1.0</td>\n",
              "      <td>1.0</td>\n",
              "    </tr>\n",
              "    <tr>\n",
              "      <th>64347</th>\n",
              "      <td>Black</td>\n",
              "      <td>M</td>\n",
              "      <td>1</td>\n",
              "      <td>0</td>\n",
              "      <td>0</td>\n",
              "      <td>0</td>\n",
              "      <td>0</td>\n",
              "      <td>0</td>\n",
              "      <td>0.0</td>\n",
              "      <td>0.0</td>\n",
              "      <td>1.0</td>\n",
              "      <td>1.0</td>\n",
              "      <td>0</td>\n",
              "      <td>2.0</td>\n",
              "      <td>2.0</td>\n",
              "    </tr>\n",
              "    <tr>\n",
              "      <th>64428</th>\n",
              "      <td>Black</td>\n",
              "      <td>M</td>\n",
              "      <td>1</td>\n",
              "      <td>0</td>\n",
              "      <td>0</td>\n",
              "      <td>0</td>\n",
              "      <td>0</td>\n",
              "      <td>0</td>\n",
              "      <td>0.0</td>\n",
              "      <td>0.0</td>\n",
              "      <td>1.0</td>\n",
              "      <td>0.0</td>\n",
              "      <td>0</td>\n",
              "      <td>1.0</td>\n",
              "      <td>1.0</td>\n",
              "    </tr>\n",
              "  </tbody>\n",
              "</table>\n",
              "<p>7800 rows × 15 columns</p>\n",
              "</div>\n",
              "      <button class=\"colab-df-convert\" onclick=\"convertToInteractive('df-8ea649f6-7277-458e-85ef-d33009cfedb8')\"\n",
              "              title=\"Convert this dataframe to an interactive table.\"\n",
              "              style=\"display:none;\">\n",
              "        \n",
              "  <svg xmlns=\"http://www.w3.org/2000/svg\" height=\"24px\"viewBox=\"0 0 24 24\"\n",
              "       width=\"24px\">\n",
              "    <path d=\"M0 0h24v24H0V0z\" fill=\"none\"/>\n",
              "    <path d=\"M18.56 5.44l.94 2.06.94-2.06 2.06-.94-2.06-.94-.94-2.06-.94 2.06-2.06.94zm-11 1L8.5 8.5l.94-2.06 2.06-.94-2.06-.94L8.5 2.5l-.94 2.06-2.06.94zm10 10l.94 2.06.94-2.06 2.06-.94-2.06-.94-.94-2.06-.94 2.06-2.06.94z\"/><path d=\"M17.41 7.96l-1.37-1.37c-.4-.4-.92-.59-1.43-.59-.52 0-1.04.2-1.43.59L10.3 9.45l-7.72 7.72c-.78.78-.78 2.05 0 2.83L4 21.41c.39.39.9.59 1.41.59.51 0 1.02-.2 1.41-.59l7.78-7.78 2.81-2.81c.8-.78.8-2.07 0-2.86zM5.41 20L4 18.59l7.72-7.72 1.47 1.35L5.41 20z\"/>\n",
              "  </svg>\n",
              "      </button>\n",
              "      \n",
              "  <style>\n",
              "    .colab-df-container {\n",
              "      display:flex;\n",
              "      flex-wrap:wrap;\n",
              "      gap: 12px;\n",
              "    }\n",
              "\n",
              "    .colab-df-convert {\n",
              "      background-color: #E8F0FE;\n",
              "      border: none;\n",
              "      border-radius: 50%;\n",
              "      cursor: pointer;\n",
              "      display: none;\n",
              "      fill: #1967D2;\n",
              "      height: 32px;\n",
              "      padding: 0 0 0 0;\n",
              "      width: 32px;\n",
              "    }\n",
              "\n",
              "    .colab-df-convert:hover {\n",
              "      background-color: #E2EBFA;\n",
              "      box-shadow: 0px 1px 2px rgba(60, 64, 67, 0.3), 0px 1px 3px 1px rgba(60, 64, 67, 0.15);\n",
              "      fill: #174EA6;\n",
              "    }\n",
              "\n",
              "    [theme=dark] .colab-df-convert {\n",
              "      background-color: #3B4455;\n",
              "      fill: #D2E3FC;\n",
              "    }\n",
              "\n",
              "    [theme=dark] .colab-df-convert:hover {\n",
              "      background-color: #434B5C;\n",
              "      box-shadow: 0px 1px 3px 1px rgba(0, 0, 0, 0.15);\n",
              "      filter: drop-shadow(0px 1px 2px rgba(0, 0, 0, 0.3));\n",
              "      fill: #FFFFFF;\n",
              "    }\n",
              "  </style>\n",
              "\n",
              "      <script>\n",
              "        const buttonEl =\n",
              "          document.querySelector('#df-8ea649f6-7277-458e-85ef-d33009cfedb8 button.colab-df-convert');\n",
              "        buttonEl.style.display =\n",
              "          google.colab.kernel.accessAllowed ? 'block' : 'none';\n",
              "\n",
              "        async function convertToInteractive(key) {\n",
              "          const element = document.querySelector('#df-8ea649f6-7277-458e-85ef-d33009cfedb8');\n",
              "          const dataTable =\n",
              "            await google.colab.kernel.invokeFunction('convertToInteractive',\n",
              "                                                     [key], {});\n",
              "          if (!dataTable) return;\n",
              "\n",
              "          const docLinkHtml = 'Like what you see? Visit the ' +\n",
              "            '<a target=\"_blank\" href=https://colab.research.google.com/notebooks/data_table.ipynb>data table notebook</a>'\n",
              "            + ' to learn more about interactive tables.';\n",
              "          element.innerHTML = '';\n",
              "          dataTable['output_type'] = 'display_data';\n",
              "          await google.colab.output.renderOutput(dataTable, element);\n",
              "          const docLink = document.createElement('div');\n",
              "          docLink.innerHTML = docLinkHtml;\n",
              "          element.appendChild(docLink);\n",
              "        }\n",
              "      </script>\n",
              "    </div>\n",
              "  </div>\n",
              "  "
            ]
          },
          "metadata": {},
          "execution_count": 114
        }
      ]
    },
    {
      "cell_type": "markdown",
      "source": [
        "#7.1.1 Race and Actions at Arrest"
      ],
      "metadata": {
        "id": "uj8rmiJIA58R"
      }
    },
    {
      "cell_type": "code",
      "source": [
        "# ANOVA on Race and Actions at Arrest\n",
        "mod = ols('Total_Actions ~ Perceived_Race', df_cleaned3).fit()\n",
        "sm.stats.anova_lm(mod, typ=2, robust=\"hc3\")"
      ],
      "metadata": {
        "colab": {
          "base_uri": "https://localhost:8080/",
          "height": 112
        },
        "id": "vc_IlGTZA8qI",
        "outputId": "d72a2eb7-6ea3-43e4-9e26-403417c6c80c"
      },
      "execution_count": null,
      "outputs": [
        {
          "output_type": "execute_result",
          "data": {
            "text/plain": [
              "                     sum_sq      df        F    PR(>F)\n",
              "Perceived_Race    12.474214     7.0  4.87638  0.000017\n",
              "Residual        2847.518265  7792.0      NaN       NaN"
            ],
            "text/html": [
              "\n",
              "  <div id=\"df-99664650-bcf7-4ad7-b287-3130bd36d9d2\">\n",
              "    <div class=\"colab-df-container\">\n",
              "      <div>\n",
              "<style scoped>\n",
              "    .dataframe tbody tr th:only-of-type {\n",
              "        vertical-align: middle;\n",
              "    }\n",
              "\n",
              "    .dataframe tbody tr th {\n",
              "        vertical-align: top;\n",
              "    }\n",
              "\n",
              "    .dataframe thead th {\n",
              "        text-align: right;\n",
              "    }\n",
              "</style>\n",
              "<table border=\"1\" class=\"dataframe\">\n",
              "  <thead>\n",
              "    <tr style=\"text-align: right;\">\n",
              "      <th></th>\n",
              "      <th>sum_sq</th>\n",
              "      <th>df</th>\n",
              "      <th>F</th>\n",
              "      <th>PR(&gt;F)</th>\n",
              "    </tr>\n",
              "  </thead>\n",
              "  <tbody>\n",
              "    <tr>\n",
              "      <th>Perceived_Race</th>\n",
              "      <td>12.474214</td>\n",
              "      <td>7.0</td>\n",
              "      <td>4.87638</td>\n",
              "      <td>0.000017</td>\n",
              "    </tr>\n",
              "    <tr>\n",
              "      <th>Residual</th>\n",
              "      <td>2847.518265</td>\n",
              "      <td>7792.0</td>\n",
              "      <td>NaN</td>\n",
              "      <td>NaN</td>\n",
              "    </tr>\n",
              "  </tbody>\n",
              "</table>\n",
              "</div>\n",
              "      <button class=\"colab-df-convert\" onclick=\"convertToInteractive('df-99664650-bcf7-4ad7-b287-3130bd36d9d2')\"\n",
              "              title=\"Convert this dataframe to an interactive table.\"\n",
              "              style=\"display:none;\">\n",
              "        \n",
              "  <svg xmlns=\"http://www.w3.org/2000/svg\" height=\"24px\"viewBox=\"0 0 24 24\"\n",
              "       width=\"24px\">\n",
              "    <path d=\"M0 0h24v24H0V0z\" fill=\"none\"/>\n",
              "    <path d=\"M18.56 5.44l.94 2.06.94-2.06 2.06-.94-2.06-.94-.94-2.06-.94 2.06-2.06.94zm-11 1L8.5 8.5l.94-2.06 2.06-.94-2.06-.94L8.5 2.5l-.94 2.06-2.06.94zm10 10l.94 2.06.94-2.06 2.06-.94-2.06-.94-.94-2.06-.94 2.06-2.06.94z\"/><path d=\"M17.41 7.96l-1.37-1.37c-.4-.4-.92-.59-1.43-.59-.52 0-1.04.2-1.43.59L10.3 9.45l-7.72 7.72c-.78.78-.78 2.05 0 2.83L4 21.41c.39.39.9.59 1.41.59.51 0 1.02-.2 1.41-.59l7.78-7.78 2.81-2.81c.8-.78.8-2.07 0-2.86zM5.41 20L4 18.59l7.72-7.72 1.47 1.35L5.41 20z\"/>\n",
              "  </svg>\n",
              "      </button>\n",
              "      \n",
              "  <style>\n",
              "    .colab-df-container {\n",
              "      display:flex;\n",
              "      flex-wrap:wrap;\n",
              "      gap: 12px;\n",
              "    }\n",
              "\n",
              "    .colab-df-convert {\n",
              "      background-color: #E8F0FE;\n",
              "      border: none;\n",
              "      border-radius: 50%;\n",
              "      cursor: pointer;\n",
              "      display: none;\n",
              "      fill: #1967D2;\n",
              "      height: 32px;\n",
              "      padding: 0 0 0 0;\n",
              "      width: 32px;\n",
              "    }\n",
              "\n",
              "    .colab-df-convert:hover {\n",
              "      background-color: #E2EBFA;\n",
              "      box-shadow: 0px 1px 2px rgba(60, 64, 67, 0.3), 0px 1px 3px 1px rgba(60, 64, 67, 0.15);\n",
              "      fill: #174EA6;\n",
              "    }\n",
              "\n",
              "    [theme=dark] .colab-df-convert {\n",
              "      background-color: #3B4455;\n",
              "      fill: #D2E3FC;\n",
              "    }\n",
              "\n",
              "    [theme=dark] .colab-df-convert:hover {\n",
              "      background-color: #434B5C;\n",
              "      box-shadow: 0px 1px 3px 1px rgba(0, 0, 0, 0.15);\n",
              "      filter: drop-shadow(0px 1px 2px rgba(0, 0, 0, 0.3));\n",
              "      fill: #FFFFFF;\n",
              "    }\n",
              "  </style>\n",
              "\n",
              "      <script>\n",
              "        const buttonEl =\n",
              "          document.querySelector('#df-99664650-bcf7-4ad7-b287-3130bd36d9d2 button.colab-df-convert');\n",
              "        buttonEl.style.display =\n",
              "          google.colab.kernel.accessAllowed ? 'block' : 'none';\n",
              "\n",
              "        async function convertToInteractive(key) {\n",
              "          const element = document.querySelector('#df-99664650-bcf7-4ad7-b287-3130bd36d9d2');\n",
              "          const dataTable =\n",
              "            await google.colab.kernel.invokeFunction('convertToInteractive',\n",
              "                                                     [key], {});\n",
              "          if (!dataTable) return;\n",
              "\n",
              "          const docLinkHtml = 'Like what you see? Visit the ' +\n",
              "            '<a target=\"_blank\" href=https://colab.research.google.com/notebooks/data_table.ipynb>data table notebook</a>'\n",
              "            + ' to learn more about interactive tables.';\n",
              "          element.innerHTML = '';\n",
              "          dataTable['output_type'] = 'display_data';\n",
              "          await google.colab.output.renderOutput(dataTable, element);\n",
              "          const docLink = document.createElement('div');\n",
              "          docLink.innerHTML = docLinkHtml;\n",
              "          element.appendChild(docLink);\n",
              "        }\n",
              "      </script>\n",
              "    </div>\n",
              "  </div>\n",
              "  "
            ]
          },
          "metadata": {},
          "execution_count": 35
        }
      ]
    },
    {
      "cell_type": "code",
      "source": [
        "# Tukey HSD on the Total Actions and Perceived Race\n",
        "print(pairwise_tukeyhsd(endog=df_cleaned3['Total_Actions'],groups=df_cleaned3['Perceived_Race'], alpha=0.05))"
      ],
      "metadata": {
        "colab": {
          "base_uri": "https://localhost:8080/"
        },
        "id": "R3QMXy3EBCXQ",
        "outputId": "11446bc3-cda2-4ece-d037-5576cd738142"
      },
      "execution_count": null,
      "outputs": [
        {
          "output_type": "stream",
          "name": "stdout",
          "text": [
            "              Multiple Comparison of Means - Tukey HSD, FWER=0.05               \n",
            "================================================================================\n",
            "       group1               group2        meandiff p-adj   lower   upper  reject\n",
            "--------------------------------------------------------------------------------\n",
            "               Black East/Southeast Asian  -0.1252 0.0082 -0.2312 -0.0192   True\n",
            "               Black           Indigenous   0.0387    0.9 -0.0724  0.1499  False\n",
            "               Black               Latino  -0.0587    0.9 -0.2225  0.1051  False\n",
            "               Black       Middle-Eastern  -0.0424    0.9 -0.1693  0.0846  False\n",
            "               Black          South Asian  -0.0716 0.6002 -0.1918  0.0486  False\n",
            "               Black    Unknown or Legacy  -0.0885 0.0451 -0.1759  -0.001   True\n",
            "               Black                White  -0.0709  0.001 -0.1191 -0.0227   True\n",
            "East/Southeast Asian           Indigenous   0.1639 0.0134  0.0196  0.3082   True\n",
            "East/Southeast Asian               Latino   0.0665    0.9 -0.1214  0.2543  False\n",
            "East/Southeast Asian       Middle-Eastern   0.0828  0.722  -0.074  0.2396  False\n",
            "East/Southeast Asian          South Asian   0.0536    0.9 -0.0978   0.205  False\n",
            "East/Southeast Asian    Unknown or Legacy   0.0367    0.9 -0.0902  0.1637  False\n",
            "East/Southeast Asian                White   0.0543 0.7324 -0.0496  0.1582  False\n",
            "          Indigenous               Latino  -0.0974  0.754 -0.2883  0.0934  False\n",
            "          Indigenous       Middle-Eastern  -0.0811 0.7627 -0.2414  0.0792  False\n",
            "          Indigenous          South Asian  -0.1103 0.3803 -0.2654  0.0448  False\n",
            "          Indigenous    Unknown or Legacy  -0.1272 0.0659 -0.2585  0.0041  False\n",
            "          Indigenous                White  -0.1096 0.0481 -0.2188 -0.0005   True\n",
            "              Latino       Middle-Eastern   0.0163    0.9 -0.1841  0.2168  False\n",
            "              Latino          South Asian  -0.0129    0.9 -0.2091  0.1834  False\n",
            "              Latino    Unknown or Legacy  -0.0297    0.9 -0.2078  0.1483  False\n",
            "              Latino                White  -0.0122    0.9 -0.1746  0.1502  False\n",
            "      Middle-Eastern          South Asian  -0.0292    0.9 -0.1959  0.1375  False\n",
            "      Middle-Eastern    Unknown or Legacy  -0.0461    0.9  -0.191  0.0988  False\n",
            "      Middle-Eastern                White  -0.0285    0.9 -0.1537  0.0967  False\n",
            "         South Asian    Unknown or Legacy  -0.0169    0.9 -0.1559  0.1222  False\n",
            "         South Asian                White   0.0007    0.9 -0.1177   0.119  False\n",
            "   Unknown or Legacy                White   0.0175    0.9 -0.0674  0.1024  False\n",
            "--------------------------------------------------------------------------------\n"
          ]
        }
      ]
    },
    {
      "cell_type": "code",
      "source": [
        "#Calculate means and confidence intervals for rejected null hypotheses\n",
        "mean_white = df_cleaned3[df_cleaned3['Perceived_Race']=='White'][\"Total_Actions\"].mean()\n",
        "mean_black = df_cleaned3[df_cleaned3['Perceived_Race']=='Black'][\"Total_Actions\"].mean()\n",
        "mean_eseasian = df_cleaned3[df_cleaned3['Perceived_Race']=='East/Southeast Asian'][\"Total_Actions\"].mean()\n",
        "mean_indigenous = df_cleaned3[df_cleaned3['Perceived_Race']=='Indigenous'][\"Total_Actions\"].mean()\n",
        "mean_unknown = df_cleaned3[df_cleaned3['Perceived_Race']=='Unknown or Legacy'][\"Total_Actions\"].mean()\n",
        "\n",
        "print(f\"The mean actions for a White arrestee is: {mean_white}\")\n",
        "print(f\"The mean actions for a Black arrestee is: {mean_black}\")\n",
        "print(f\"The mean actions for an East/Southeast Asian arrestee is: {mean_eseasian}\")\n",
        "print(f\"The mean actions for an Indigenous arrestee is: {mean_indigenous}\")\n",
        "print(f\"The mean actions for an Unknown or Legacy arrestee is: {mean_unknown}\")\n",
        "\n",
        "# Calculate confidence intervals\n",
        "CI_white = sms.DescrStatsW(df_cleaned3['Total_Actions'][df['Perceived_Race']==\"White\"]).tconfint_mean()\n",
        "CI_black = sms.DescrStatsW(df_cleaned3['Total_Actions'][df['Perceived_Race']==\"Black\"]).tconfint_mean()\n",
        "CI_eseasian = sms.DescrStatsW(df_cleaned3['Total_Actions'][df['Perceived_Race']==\"East/Southeast Asian\"]).tconfint_mean()\n",
        "CI_indigenous = sms.DescrStatsW(df_cleaned3['Total_Actions'][df['Perceived_Race']==\"Indigenous\"]).tconfint_mean()\n",
        "CI_unknown = sms.DescrStatsW(df_cleaned3['Total_Actions'][df['Perceived_Race']==\"Unknown or Legacy\"]).tconfint_mean()\n",
        "\n",
        "print(f'Confidence interval for mean search reasons for a white arrestee is: {CI_white}')\n",
        "print(f'Confidence interval for mean search reasons for a black arrestee is: {CI_black}')\n",
        "print(f'Confidence interval for mean search reasons for an east/southeast asian arrestee is: {CI_eseasian}')\n",
        "print(f'Confidence interval for mean search reasons for an indigenous arrestee is: {CI_indigenous}')\n",
        "print(f'Confidence interval for mean search reasons for an unknown or legacy arrestee is: {CI_unknown}')"
      ],
      "metadata": {
        "colab": {
          "base_uri": "https://localhost:8080/"
        },
        "id": "1tnVvLthQ9pF",
        "outputId": "2126cc6b-4642-4f0c-9789-b992744adad4"
      },
      "execution_count": null,
      "outputs": [
        {
          "output_type": "stream",
          "name": "stdout",
          "text": [
            "The mean actions for a White arrestee is: 0.23022994952327538\n",
            "The mean actions for a Black arrestee is: 0.3011503697617091\n",
            "The mean actions for an East/Southeast Asian arrestee is: 0.17595307917888564\n",
            "The mean actions for an Indigenous arrestee is: 0.33986928104575165\n",
            "The mean actions for an Unknown or Legacy arrestee is: 0.2126865671641791\n",
            "Confidence interval for mean search reasons for a white arrestee is: (0.21130879934562793, 0.24915109970092283)\n",
            "Confidence interval for mean search reasons for a black arrestee is: (0.2750359367921776, 0.32726480273124064)\n",
            "Confidence interval for mean search reasons for an east/southeast asian arrestee is: (0.12382082127994531, 0.22808533707782597)\n",
            "Confidence interval for mean search reasons for an indigenous arrestee is: (0.2592508383739315, 0.4204877237175718)\n",
            "Confidence interval for mean search reasons for an unknown or legacy arrestee is: (0.16433177941752408, 0.26104135491083413)\n"
          ]
        }
      ]
    },
    {
      "cell_type": "markdown",
      "source": [
        "#7.1.2 Sex and Actions at Arrest\n"
      ],
      "metadata": {
        "id": "li-vx5RUBfBk"
      }
    },
    {
      "cell_type": "code",
      "source": [
        "# ANOVA on Sex and Actions at Arrest\n",
        "mod = ols('Total_Actions ~ Sex', df_cleaned3).fit()\n",
        "sm.stats.anova_lm(mod, typ=2, robust=\"hc3\")"
      ],
      "metadata": {
        "colab": {
          "base_uri": "https://localhost:8080/",
          "height": 112
        },
        "id": "xg-JY8XNBkpi",
        "outputId": "0ec359f3-7c63-47f4-afbd-a4cae0d6a6ef"
      },
      "execution_count": null,
      "outputs": [
        {
          "output_type": "execute_result",
          "data": {
            "text/plain": [
              "               sum_sq      df         F    PR(>F)\n",
              "Sex          0.246256     1.0  0.671406  0.412587\n",
              "Residual  2860.129498  7798.0       NaN       NaN"
            ],
            "text/html": [
              "\n",
              "  <div id=\"df-17482b35-2e08-42ed-99a4-63894b1f1d5a\">\n",
              "    <div class=\"colab-df-container\">\n",
              "      <div>\n",
              "<style scoped>\n",
              "    .dataframe tbody tr th:only-of-type {\n",
              "        vertical-align: middle;\n",
              "    }\n",
              "\n",
              "    .dataframe tbody tr th {\n",
              "        vertical-align: top;\n",
              "    }\n",
              "\n",
              "    .dataframe thead th {\n",
              "        text-align: right;\n",
              "    }\n",
              "</style>\n",
              "<table border=\"1\" class=\"dataframe\">\n",
              "  <thead>\n",
              "    <tr style=\"text-align: right;\">\n",
              "      <th></th>\n",
              "      <th>sum_sq</th>\n",
              "      <th>df</th>\n",
              "      <th>F</th>\n",
              "      <th>PR(&gt;F)</th>\n",
              "    </tr>\n",
              "  </thead>\n",
              "  <tbody>\n",
              "    <tr>\n",
              "      <th>Sex</th>\n",
              "      <td>0.246256</td>\n",
              "      <td>1.0</td>\n",
              "      <td>0.671406</td>\n",
              "      <td>0.412587</td>\n",
              "    </tr>\n",
              "    <tr>\n",
              "      <th>Residual</th>\n",
              "      <td>2860.129498</td>\n",
              "      <td>7798.0</td>\n",
              "      <td>NaN</td>\n",
              "      <td>NaN</td>\n",
              "    </tr>\n",
              "  </tbody>\n",
              "</table>\n",
              "</div>\n",
              "      <button class=\"colab-df-convert\" onclick=\"convertToInteractive('df-17482b35-2e08-42ed-99a4-63894b1f1d5a')\"\n",
              "              title=\"Convert this dataframe to an interactive table.\"\n",
              "              style=\"display:none;\">\n",
              "        \n",
              "  <svg xmlns=\"http://www.w3.org/2000/svg\" height=\"24px\"viewBox=\"0 0 24 24\"\n",
              "       width=\"24px\">\n",
              "    <path d=\"M0 0h24v24H0V0z\" fill=\"none\"/>\n",
              "    <path d=\"M18.56 5.44l.94 2.06.94-2.06 2.06-.94-2.06-.94-.94-2.06-.94 2.06-2.06.94zm-11 1L8.5 8.5l.94-2.06 2.06-.94-2.06-.94L8.5 2.5l-.94 2.06-2.06.94zm10 10l.94 2.06.94-2.06 2.06-.94-2.06-.94-.94-2.06-.94 2.06-2.06.94z\"/><path d=\"M17.41 7.96l-1.37-1.37c-.4-.4-.92-.59-1.43-.59-.52 0-1.04.2-1.43.59L10.3 9.45l-7.72 7.72c-.78.78-.78 2.05 0 2.83L4 21.41c.39.39.9.59 1.41.59.51 0 1.02-.2 1.41-.59l7.78-7.78 2.81-2.81c.8-.78.8-2.07 0-2.86zM5.41 20L4 18.59l7.72-7.72 1.47 1.35L5.41 20z\"/>\n",
              "  </svg>\n",
              "      </button>\n",
              "      \n",
              "  <style>\n",
              "    .colab-df-container {\n",
              "      display:flex;\n",
              "      flex-wrap:wrap;\n",
              "      gap: 12px;\n",
              "    }\n",
              "\n",
              "    .colab-df-convert {\n",
              "      background-color: #E8F0FE;\n",
              "      border: none;\n",
              "      border-radius: 50%;\n",
              "      cursor: pointer;\n",
              "      display: none;\n",
              "      fill: #1967D2;\n",
              "      height: 32px;\n",
              "      padding: 0 0 0 0;\n",
              "      width: 32px;\n",
              "    }\n",
              "\n",
              "    .colab-df-convert:hover {\n",
              "      background-color: #E2EBFA;\n",
              "      box-shadow: 0px 1px 2px rgba(60, 64, 67, 0.3), 0px 1px 3px 1px rgba(60, 64, 67, 0.15);\n",
              "      fill: #174EA6;\n",
              "    }\n",
              "\n",
              "    [theme=dark] .colab-df-convert {\n",
              "      background-color: #3B4455;\n",
              "      fill: #D2E3FC;\n",
              "    }\n",
              "\n",
              "    [theme=dark] .colab-df-convert:hover {\n",
              "      background-color: #434B5C;\n",
              "      box-shadow: 0px 1px 3px 1px rgba(0, 0, 0, 0.15);\n",
              "      filter: drop-shadow(0px 1px 2px rgba(0, 0, 0, 0.3));\n",
              "      fill: #FFFFFF;\n",
              "    }\n",
              "  </style>\n",
              "\n",
              "      <script>\n",
              "        const buttonEl =\n",
              "          document.querySelector('#df-17482b35-2e08-42ed-99a4-63894b1f1d5a button.colab-df-convert');\n",
              "        buttonEl.style.display =\n",
              "          google.colab.kernel.accessAllowed ? 'block' : 'none';\n",
              "\n",
              "        async function convertToInteractive(key) {\n",
              "          const element = document.querySelector('#df-17482b35-2e08-42ed-99a4-63894b1f1d5a');\n",
              "          const dataTable =\n",
              "            await google.colab.kernel.invokeFunction('convertToInteractive',\n",
              "                                                     [key], {});\n",
              "          if (!dataTable) return;\n",
              "\n",
              "          const docLinkHtml = 'Like what you see? Visit the ' +\n",
              "            '<a target=\"_blank\" href=https://colab.research.google.com/notebooks/data_table.ipynb>data table notebook</a>'\n",
              "            + ' to learn more about interactive tables.';\n",
              "          element.innerHTML = '';\n",
              "          dataTable['output_type'] = 'display_data';\n",
              "          await google.colab.output.renderOutput(dataTable, element);\n",
              "          const docLink = document.createElement('div');\n",
              "          docLink.innerHTML = docLinkHtml;\n",
              "          element.appendChild(docLink);\n",
              "        }\n",
              "      </script>\n",
              "    </div>\n",
              "  </div>\n",
              "  "
            ]
          },
          "metadata": {},
          "execution_count": 38
        }
      ]
    },
    {
      "cell_type": "markdown",
      "source": [
        "As there is no statistically significant difference in means, post-hoc tests are not required.\n"
      ],
      "metadata": {
        "id": "PZ52vwItCDu4"
      }
    },
    {
      "cell_type": "markdown",
      "source": [
        "#7.1.3 Race and Total Search Reasons"
      ],
      "metadata": {
        "id": "zviq0OFSZe_k"
      }
    },
    {
      "cell_type": "code",
      "source": [
        "# Checking Total_Search Means by Perceived Race\n",
        "mod = ols('Total_Search ~ Perceived_Race', df_cleaned3).fit()\n",
        "sm.stats.anova_lm(mod, typ=2, robust=\"hc3\")"
      ],
      "metadata": {
        "colab": {
          "base_uri": "https://localhost:8080/",
          "height": 112
        },
        "id": "hAtr6PgnZiir",
        "outputId": "bde7ac03-54a8-4249-dc38-2411158e5568"
      },
      "execution_count": null,
      "outputs": [
        {
          "output_type": "execute_result",
          "data": {
            "text/plain": [
              "                      sum_sq      df         F    PR(>F)\n",
              "Perceived_Race     18.128132     7.0  1.770831  0.088443\n",
              "Residual        11395.330340  7792.0       NaN       NaN"
            ],
            "text/html": [
              "\n",
              "  <div id=\"df-af50b56f-4266-4dcf-acc4-d3539d446a1d\">\n",
              "    <div class=\"colab-df-container\">\n",
              "      <div>\n",
              "<style scoped>\n",
              "    .dataframe tbody tr th:only-of-type {\n",
              "        vertical-align: middle;\n",
              "    }\n",
              "\n",
              "    .dataframe tbody tr th {\n",
              "        vertical-align: top;\n",
              "    }\n",
              "\n",
              "    .dataframe thead th {\n",
              "        text-align: right;\n",
              "    }\n",
              "</style>\n",
              "<table border=\"1\" class=\"dataframe\">\n",
              "  <thead>\n",
              "    <tr style=\"text-align: right;\">\n",
              "      <th></th>\n",
              "      <th>sum_sq</th>\n",
              "      <th>df</th>\n",
              "      <th>F</th>\n",
              "      <th>PR(&gt;F)</th>\n",
              "    </tr>\n",
              "  </thead>\n",
              "  <tbody>\n",
              "    <tr>\n",
              "      <th>Perceived_Race</th>\n",
              "      <td>18.128132</td>\n",
              "      <td>7.0</td>\n",
              "      <td>1.770831</td>\n",
              "      <td>0.088443</td>\n",
              "    </tr>\n",
              "    <tr>\n",
              "      <th>Residual</th>\n",
              "      <td>11395.330340</td>\n",
              "      <td>7792.0</td>\n",
              "      <td>NaN</td>\n",
              "      <td>NaN</td>\n",
              "    </tr>\n",
              "  </tbody>\n",
              "</table>\n",
              "</div>\n",
              "      <button class=\"colab-df-convert\" onclick=\"convertToInteractive('df-af50b56f-4266-4dcf-acc4-d3539d446a1d')\"\n",
              "              title=\"Convert this dataframe to an interactive table.\"\n",
              "              style=\"display:none;\">\n",
              "        \n",
              "  <svg xmlns=\"http://www.w3.org/2000/svg\" height=\"24px\"viewBox=\"0 0 24 24\"\n",
              "       width=\"24px\">\n",
              "    <path d=\"M0 0h24v24H0V0z\" fill=\"none\"/>\n",
              "    <path d=\"M18.56 5.44l.94 2.06.94-2.06 2.06-.94-2.06-.94-.94-2.06-.94 2.06-2.06.94zm-11 1L8.5 8.5l.94-2.06 2.06-.94-2.06-.94L8.5 2.5l-.94 2.06-2.06.94zm10 10l.94 2.06.94-2.06 2.06-.94-2.06-.94-.94-2.06-.94 2.06-2.06.94z\"/><path d=\"M17.41 7.96l-1.37-1.37c-.4-.4-.92-.59-1.43-.59-.52 0-1.04.2-1.43.59L10.3 9.45l-7.72 7.72c-.78.78-.78 2.05 0 2.83L4 21.41c.39.39.9.59 1.41.59.51 0 1.02-.2 1.41-.59l7.78-7.78 2.81-2.81c.8-.78.8-2.07 0-2.86zM5.41 20L4 18.59l7.72-7.72 1.47 1.35L5.41 20z\"/>\n",
              "  </svg>\n",
              "      </button>\n",
              "      \n",
              "  <style>\n",
              "    .colab-df-container {\n",
              "      display:flex;\n",
              "      flex-wrap:wrap;\n",
              "      gap: 12px;\n",
              "    }\n",
              "\n",
              "    .colab-df-convert {\n",
              "      background-color: #E8F0FE;\n",
              "      border: none;\n",
              "      border-radius: 50%;\n",
              "      cursor: pointer;\n",
              "      display: none;\n",
              "      fill: #1967D2;\n",
              "      height: 32px;\n",
              "      padding: 0 0 0 0;\n",
              "      width: 32px;\n",
              "    }\n",
              "\n",
              "    .colab-df-convert:hover {\n",
              "      background-color: #E2EBFA;\n",
              "      box-shadow: 0px 1px 2px rgba(60, 64, 67, 0.3), 0px 1px 3px 1px rgba(60, 64, 67, 0.15);\n",
              "      fill: #174EA6;\n",
              "    }\n",
              "\n",
              "    [theme=dark] .colab-df-convert {\n",
              "      background-color: #3B4455;\n",
              "      fill: #D2E3FC;\n",
              "    }\n",
              "\n",
              "    [theme=dark] .colab-df-convert:hover {\n",
              "      background-color: #434B5C;\n",
              "      box-shadow: 0px 1px 3px 1px rgba(0, 0, 0, 0.15);\n",
              "      filter: drop-shadow(0px 1px 2px rgba(0, 0, 0, 0.3));\n",
              "      fill: #FFFFFF;\n",
              "    }\n",
              "  </style>\n",
              "\n",
              "      <script>\n",
              "        const buttonEl =\n",
              "          document.querySelector('#df-af50b56f-4266-4dcf-acc4-d3539d446a1d button.colab-df-convert');\n",
              "        buttonEl.style.display =\n",
              "          google.colab.kernel.accessAllowed ? 'block' : 'none';\n",
              "\n",
              "        async function convertToInteractive(key) {\n",
              "          const element = document.querySelector('#df-af50b56f-4266-4dcf-acc4-d3539d446a1d');\n",
              "          const dataTable =\n",
              "            await google.colab.kernel.invokeFunction('convertToInteractive',\n",
              "                                                     [key], {});\n",
              "          if (!dataTable) return;\n",
              "\n",
              "          const docLinkHtml = 'Like what you see? Visit the ' +\n",
              "            '<a target=\"_blank\" href=https://colab.research.google.com/notebooks/data_table.ipynb>data table notebook</a>'\n",
              "            + ' to learn more about interactive tables.';\n",
              "          element.innerHTML = '';\n",
              "          dataTable['output_type'] = 'display_data';\n",
              "          await google.colab.output.renderOutput(dataTable, element);\n",
              "          const docLink = document.createElement('div');\n",
              "          docLink.innerHTML = docLinkHtml;\n",
              "          element.appendChild(docLink);\n",
              "        }\n",
              "      </script>\n",
              "    </div>\n",
              "  </div>\n",
              "  "
            ]
          },
          "metadata": {},
          "execution_count": 39
        }
      ]
    },
    {
      "cell_type": "markdown",
      "source": [
        "As the ANOVA did not indicate a statistically significant difference in means, post-hoc tests are not required.\n"
      ],
      "metadata": {
        "id": "8otzvBudc7Wf"
      }
    },
    {
      "cell_type": "markdown",
      "source": [
        "#7.1.4 Sex and Total Search Reasons"
      ],
      "metadata": {
        "id": "wBxp68apeMTT"
      }
    },
    {
      "cell_type": "code",
      "source": [
        "# To make the model to run ANOVA\n",
        "mod = ols('Total_Search ~ Sex', df_cleaned3).fit()\n",
        "sm.stats.anova_lm(mod, typ=2, robust=\"hc3\")"
      ],
      "metadata": {
        "colab": {
          "base_uri": "https://localhost:8080/",
          "height": 112
        },
        "id": "WvugVoXpeRnP",
        "outputId": "893a86b9-efd5-403d-df2d-c9bca37cdf81"
      },
      "execution_count": null,
      "outputs": [
        {
          "output_type": "execute_result",
          "data": {
            "text/plain": [
              "                sum_sq      df          F    PR(>F)\n",
              "Sex          22.391354     1.0  15.327583  0.000091\n",
              "Residual  11391.736285  7798.0        NaN       NaN"
            ],
            "text/html": [
              "\n",
              "  <div id=\"df-b9f120c9-5de5-49f9-99af-f31c4b08dde9\">\n",
              "    <div class=\"colab-df-container\">\n",
              "      <div>\n",
              "<style scoped>\n",
              "    .dataframe tbody tr th:only-of-type {\n",
              "        vertical-align: middle;\n",
              "    }\n",
              "\n",
              "    .dataframe tbody tr th {\n",
              "        vertical-align: top;\n",
              "    }\n",
              "\n",
              "    .dataframe thead th {\n",
              "        text-align: right;\n",
              "    }\n",
              "</style>\n",
              "<table border=\"1\" class=\"dataframe\">\n",
              "  <thead>\n",
              "    <tr style=\"text-align: right;\">\n",
              "      <th></th>\n",
              "      <th>sum_sq</th>\n",
              "      <th>df</th>\n",
              "      <th>F</th>\n",
              "      <th>PR(&gt;F)</th>\n",
              "    </tr>\n",
              "  </thead>\n",
              "  <tbody>\n",
              "    <tr>\n",
              "      <th>Sex</th>\n",
              "      <td>22.391354</td>\n",
              "      <td>1.0</td>\n",
              "      <td>15.327583</td>\n",
              "      <td>0.000091</td>\n",
              "    </tr>\n",
              "    <tr>\n",
              "      <th>Residual</th>\n",
              "      <td>11391.736285</td>\n",
              "      <td>7798.0</td>\n",
              "      <td>NaN</td>\n",
              "      <td>NaN</td>\n",
              "    </tr>\n",
              "  </tbody>\n",
              "</table>\n",
              "</div>\n",
              "      <button class=\"colab-df-convert\" onclick=\"convertToInteractive('df-b9f120c9-5de5-49f9-99af-f31c4b08dde9')\"\n",
              "              title=\"Convert this dataframe to an interactive table.\"\n",
              "              style=\"display:none;\">\n",
              "        \n",
              "  <svg xmlns=\"http://www.w3.org/2000/svg\" height=\"24px\"viewBox=\"0 0 24 24\"\n",
              "       width=\"24px\">\n",
              "    <path d=\"M0 0h24v24H0V0z\" fill=\"none\"/>\n",
              "    <path d=\"M18.56 5.44l.94 2.06.94-2.06 2.06-.94-2.06-.94-.94-2.06-.94 2.06-2.06.94zm-11 1L8.5 8.5l.94-2.06 2.06-.94-2.06-.94L8.5 2.5l-.94 2.06-2.06.94zm10 10l.94 2.06.94-2.06 2.06-.94-2.06-.94-.94-2.06-.94 2.06-2.06.94z\"/><path d=\"M17.41 7.96l-1.37-1.37c-.4-.4-.92-.59-1.43-.59-.52 0-1.04.2-1.43.59L10.3 9.45l-7.72 7.72c-.78.78-.78 2.05 0 2.83L4 21.41c.39.39.9.59 1.41.59.51 0 1.02-.2 1.41-.59l7.78-7.78 2.81-2.81c.8-.78.8-2.07 0-2.86zM5.41 20L4 18.59l7.72-7.72 1.47 1.35L5.41 20z\"/>\n",
              "  </svg>\n",
              "      </button>\n",
              "      \n",
              "  <style>\n",
              "    .colab-df-container {\n",
              "      display:flex;\n",
              "      flex-wrap:wrap;\n",
              "      gap: 12px;\n",
              "    }\n",
              "\n",
              "    .colab-df-convert {\n",
              "      background-color: #E8F0FE;\n",
              "      border: none;\n",
              "      border-radius: 50%;\n",
              "      cursor: pointer;\n",
              "      display: none;\n",
              "      fill: #1967D2;\n",
              "      height: 32px;\n",
              "      padding: 0 0 0 0;\n",
              "      width: 32px;\n",
              "    }\n",
              "\n",
              "    .colab-df-convert:hover {\n",
              "      background-color: #E2EBFA;\n",
              "      box-shadow: 0px 1px 2px rgba(60, 64, 67, 0.3), 0px 1px 3px 1px rgba(60, 64, 67, 0.15);\n",
              "      fill: #174EA6;\n",
              "    }\n",
              "\n",
              "    [theme=dark] .colab-df-convert {\n",
              "      background-color: #3B4455;\n",
              "      fill: #D2E3FC;\n",
              "    }\n",
              "\n",
              "    [theme=dark] .colab-df-convert:hover {\n",
              "      background-color: #434B5C;\n",
              "      box-shadow: 0px 1px 3px 1px rgba(0, 0, 0, 0.15);\n",
              "      filter: drop-shadow(0px 1px 2px rgba(0, 0, 0, 0.3));\n",
              "      fill: #FFFFFF;\n",
              "    }\n",
              "  </style>\n",
              "\n",
              "      <script>\n",
              "        const buttonEl =\n",
              "          document.querySelector('#df-b9f120c9-5de5-49f9-99af-f31c4b08dde9 button.colab-df-convert');\n",
              "        buttonEl.style.display =\n",
              "          google.colab.kernel.accessAllowed ? 'block' : 'none';\n",
              "\n",
              "        async function convertToInteractive(key) {\n",
              "          const element = document.querySelector('#df-b9f120c9-5de5-49f9-99af-f31c4b08dde9');\n",
              "          const dataTable =\n",
              "            await google.colab.kernel.invokeFunction('convertToInteractive',\n",
              "                                                     [key], {});\n",
              "          if (!dataTable) return;\n",
              "\n",
              "          const docLinkHtml = 'Like what you see? Visit the ' +\n",
              "            '<a target=\"_blank\" href=https://colab.research.google.com/notebooks/data_table.ipynb>data table notebook</a>'\n",
              "            + ' to learn more about interactive tables.';\n",
              "          element.innerHTML = '';\n",
              "          dataTable['output_type'] = 'display_data';\n",
              "          await google.colab.output.renderOutput(dataTable, element);\n",
              "          const docLink = document.createElement('div');\n",
              "          docLink.innerHTML = docLinkHtml;\n",
              "          element.appendChild(docLink);\n",
              "        }\n",
              "      </script>\n",
              "    </div>\n",
              "  </div>\n",
              "  "
            ]
          },
          "metadata": {},
          "execution_count": 40
        }
      ]
    },
    {
      "cell_type": "code",
      "source": [
        "# Tukey HSD since we have determined there are unequal variances, and we want a conservative estimate.\n",
        "print(pairwise_tukeyhsd(endog=df_cleaned3['Total_Search'],groups=df_cleaned3['Sex'], alpha=0.05))"
      ],
      "metadata": {
        "colab": {
          "base_uri": "https://localhost:8080/"
        },
        "id": "JCm5Q_XmjCFX",
        "outputId": "e7f4214a-484f-470e-e1ad-60e0a74105b2"
      },
      "execution_count": null,
      "outputs": [
        {
          "output_type": "stream",
          "name": "stdout",
          "text": [
            "Multiple Comparison of Means - Tukey HSD, FWER=0.05\n",
            "=================================================\n",
            "group1 group2 meandiff p-adj lower  upper  reject\n",
            "-------------------------------------------------\n",
            "     F      M   0.1415 0.001 0.0691 0.2138   True\n",
            "-------------------------------------------------\n"
          ]
        }
      ]
    },
    {
      "cell_type": "code",
      "source": [
        "# Caluclate the confidence interval as means have already been calculated\n",
        "CI_Female = sms.DescrStatsW(df_cleaned3['Total_Search'][df['Sex']==\"F\"]).tconfint_mean()\n",
        "CI_Male = sms.DescrStatsW(df_cleaned3['Total_Search'][df['Sex']==\"M\"]).tconfint_mean()\n",
        "print(f'Confidence interval for mean search reasons for women is: {CI_Female}')\n",
        "print(f'Confidence interval for mean search reasons for men is: {CI_Male}')"
      ],
      "metadata": {
        "colab": {
          "base_uri": "https://localhost:8080/"
        },
        "id": "IhigMEfTM1V3",
        "outputId": "40250b7a-4368-4549-9605-b284cbe93d30"
      },
      "execution_count": null,
      "outputs": [
        {
          "output_type": "stream",
          "name": "stdout",
          "text": [
            "Confidence interval for mean search reasons for women is: (1.7983956532369325, 1.9272473709251876)\n",
            "Confidence interval for mean search reasons for men is: (1.974794279961762, 2.0337986308867877)\n"
          ]
        }
      ]
    },
    {
      "cell_type": "markdown",
      "source": [
        "#7.2 Interaction with Two Way ANOVA"
      ],
      "metadata": {
        "id": "6A_VTDG_gRDu"
      }
    },
    {
      "cell_type": "code",
      "source": [
        "formula = 'Total_Actions ~ + C(Perceived_Race) + C(Sex) + C(Perceived_Race):C(Sex) '\n",
        "mod = ols(formula, df_cleaned3).fit()\n",
        "print(sm.stats.anova_lm(mod, typ=2, robust=\"hc3\"))"
      ],
      "metadata": {
        "id": "DxCXJKKegQeC",
        "colab": {
          "base_uri": "https://localhost:8080/"
        },
        "outputId": "7a75086d-3c6b-443f-abd4-a72a7aab1f69"
      },
      "execution_count": null,
      "outputs": [
        {
          "output_type": "stream",
          "name": "stdout",
          "text": [
            "                               sum_sq      df         F    PR(>F)\n",
            "C(Perceived_Race)           12.456495     7.0  4.869146  0.000017\n",
            "C(Sex)                       0.307261     1.0  0.840741  0.359213\n",
            "C(Perceived_Race):C(Sex)     2.667133     7.0  1.042561  0.398640\n",
            "Residual                  2844.774504  7784.0       NaN       NaN\n"
          ]
        }
      ]
    },
    {
      "cell_type": "code",
      "source": [
        "formula = 'Total_Search ~ + C(Perceived_Race) + C(Sex) + C(Perceived_Race):C(Sex) '\n",
        "mod = ols(formula, df_cleaned3).fit()\n",
        "print(sm.stats.anova_lm(mod, typ=2, robust=\"hc3\"))"
      ],
      "metadata": {
        "id": "11Ho3o9pheRn",
        "colab": {
          "base_uri": "https://localhost:8080/"
        },
        "outputId": "f0382309-924b-4507-e369-c9281d941724"
      },
      "execution_count": null,
      "outputs": [
        {
          "output_type": "stream",
          "name": "stdout",
          "text": [
            "                                sum_sq      df          F    PR(>F)\n",
            "C(Perceived_Race)            16.463711     7.0   1.611329  0.127075\n",
            "C(Sex)                       20.588048     1.0  14.104890  0.000174\n",
            "C(Perceived_Race):C(Sex)     14.290093     7.0   1.398594  0.200960\n",
            "Residual                  11361.830249  7784.0        NaN       NaN\n"
          ]
        }
      ]
    },
    {
      "cell_type": "markdown",
      "source": [
        "interaction_plot number of total actions by Race  and Sex"
      ],
      "metadata": {
        "id": "4zg625Bd7gvC"
      }
    },
    {
      "cell_type": "code",
      "source": [
        "from statsmodels.graphics.factorplots import interaction_plot\n",
        "import matplotlib.pyplot as plt\n",
        "df_cleaned3_1 = df_cleaned3.reset_index(inplace=False)\n",
        "Sex = df_cleaned3_1['Sex'].astype(\"category\")\n",
        "Total_Actions = df_cleaned3_1['Total_Actions']\n",
        "Perceived_Race = df_cleaned3_1['Perceived_Race']\n",
        "fig, ax = plt.subplots(figsize=(14, 6))\n",
        "fig = interaction_plot(Perceived_Race, Sex, Total_Actions, colors=['red', 'blue'], markers=['o', 's'], ms=10, ax=ax)\n",
        "plt.title('Interaction Plot to show number of total actions by Race  and Sex', fontweight='bold')\n",
        "plt.show()\n"
      ],
      "metadata": {
        "colab": {
          "base_uri": "https://localhost:8080/",
          "height": 405
        },
        "id": "xgkRm3cpe8uL",
        "outputId": "821e12af-78fd-4291-95e2-a3cd386a4cb6"
      },
      "execution_count": null,
      "outputs": [
        {
          "output_type": "display_data",
          "data": {
            "text/plain": [
              "<Figure size 1008x432 with 1 Axes>"
            ],
            "image/png": "[encoded data removed]"
          },
          "metadata": {
            "needs_background": "light"
          }
        }
      ]
    },
    {
      "cell_type": "markdown",
      "source": [
        "Interaction Plot to show number of total search reasons by Race  and Sex"
      ],
      "metadata": {
        "id": "g6L1fpvc8U00"
      }
    },
    {
      "cell_type": "code",
      "source": [
        "#Interaction Plot to show number of total search questions by Race  and Sex\n",
        "fig, ax = plt.subplots(figsize=(14, 6))\n",
        "Total_SearchReason = df_cleaned3_1['Total_SearchReason']\n",
        "fig = interaction_plot(Perceived_Race, Sex, Total_SearchReason, colors=['red', 'blue'], markers=['o', 's'], ms=10, ax=ax)\n",
        "plt.title('Interaction Plot to show number of total search reasons by Race  and Sex', fontweight='bold')\n",
        "plt.show()"
      ],
      "metadata": {
        "colab": {
          "base_uri": "https://localhost:8080/",
          "height": 405
        },
        "id": "oHnXBsOb7pAj",
        "outputId": "74d7f007-512d-4bdf-8ccf-92fdec9ebb77"
      },
      "execution_count": 76,
      "outputs": [
        {
          "output_type": "display_data",
          "data": {
            "text/plain": [
              "<Figure size 1008x432 with 1 Axes>"
            ],
            "image/png": "[encoded data removed]"
          },
          "metadata": {
            "needs_background": "light"
          }
        }
      ]
    },
    {
      "cell_type": "markdown",
      "source": [
        "# Add some plot based on df-cleaned3.(eda part)"
      ],
      "metadata": {
        "id": "rjvOXb6_oBFI"
      }
    },
    {
      "cell_type": "code",
      "source": [
        "df_cleaned3"
      ],
      "metadata": {
        "colab": {
          "base_uri": "https://localhost:8080/",
          "height": 505
        },
        "id": "dYNgEu90oNye",
        "outputId": "e649abab-e0f0-4804-ad94-505c6bce9a0c"
      },
      "execution_count": null,
      "outputs": [
        {
          "output_type": "execute_result",
          "data": {
            "text/plain": [
              "          Perceived_Race Sex  StripSearch  Actions_at_arrest___Concealed_i  \\\n",
              "12                 Black   M            1                                0   \n",
              "14                 Black   M            1                                0   \n",
              "21     Unknown or Legacy   M            1                                0   \n",
              "33                 White   M            1                                0   \n",
              "38                Latino   M            1                                0   \n",
              "...                  ...  ..          ...                              ...   \n",
              "63915              Black   M            1                                0   \n",
              "64108              White   M            1                                0   \n",
              "64235        South Asian   M            1                                0   \n",
              "64347              Black   M            1                                0   \n",
              "64428              Black   M            1                                0   \n",
              "\n",
              "       Actions_at_arrest___Combative__  Actions_at_arrest___Resisted__d  \\\n",
              "12                                   0                                0   \n",
              "14                                   0                                0   \n",
              "21                                   0                                0   \n",
              "33                                   0                                0   \n",
              "38                                   0                                0   \n",
              "...                                ...                              ...   \n",
              "63915                                0                                0   \n",
              "64108                                0                                0   \n",
              "64235                                0                                0   \n",
              "64347                                0                                0   \n",
              "64428                                0                                0   \n",
              "\n",
              "       Actions_at_arrest___Mental_inst  Actions_at_arrest___Assaulted_o  \\\n",
              "12                                   0                                0   \n",
              "14                                   0                                0   \n",
              "21                                   0                                0   \n",
              "33                                   0                                0   \n",
              "38                                   0                                0   \n",
              "...                                ...                              ...   \n",
              "63915                                0                                0   \n",
              "64108                                0                                0   \n",
              "64235                                0                                0   \n",
              "64347                                0                                0   \n",
              "64428                                0                                0   \n",
              "\n",
              "       SearchReason_CauseInjury  SearchReason_AssistEscape  \\\n",
              "12                          1.0                        1.0   \n",
              "14                          1.0                        1.0   \n",
              "21                          1.0                        0.0   \n",
              "33                          0.0                        0.0   \n",
              "38                          1.0                        0.0   \n",
              "...                         ...                        ...   \n",
              "63915                       1.0                        0.0   \n",
              "64108                       0.0                        0.0   \n",
              "64235                       0.0                        0.0   \n",
              "64347                       0.0                        0.0   \n",
              "64428                       0.0                        0.0   \n",
              "\n",
              "       SearchReason_PossessWeapons  SearchReason_PossessEvidence  \\\n",
              "12                             1.0                           0.0   \n",
              "14                             1.0                           0.0   \n",
              "21                             0.0                           0.0   \n",
              "33                             1.0                           1.0   \n",
              "38                             1.0                           0.0   \n",
              "...                            ...                           ...   \n",
              "63915                          0.0                           1.0   \n",
              "64108                          0.0                           0.0   \n",
              "64235                          0.0                           1.0   \n",
              "64347                          1.0                           1.0   \n",
              "64428                          1.0                           0.0   \n",
              "\n",
              "       Total_Actions  Total_Search  Total_SearchReason  \n",
              "12                 0           3.0                 3.0  \n",
              "14                 0           3.0                 3.0  \n",
              "21                 0           1.0                 1.0  \n",
              "33                 0           2.0                 2.0  \n",
              "38                 0           2.0                 2.0  \n",
              "...              ...           ...                 ...  \n",
              "63915              0           2.0                 2.0  \n",
              "64108              0           0.0                 0.0  \n",
              "64235              0           1.0                 1.0  \n",
              "64347              0           2.0                 2.0  \n",
              "64428              0           1.0                 1.0  \n",
              "\n",
              "[7800 rows x 15 columns]"
            ],
            "text/html": [
              "\n",
              "  <div id=\"df-9672d7ae-0dc5-41e0-a85c-b0283907c026\">\n",
              "    <div class=\"colab-df-container\">\n",
              "      <div>\n",
              "<style scoped>\n",
              "    .dataframe tbody tr th:only-of-type {\n",
              "        vertical-align: middle;\n",
              "    }\n",
              "\n",
              "    .dataframe tbody tr th {\n",
              "        vertical-align: top;\n",
              "    }\n",
              "\n",
              "    .dataframe thead th {\n",
              "        text-align: right;\n",
              "    }\n",
              "</style>\n",
              "<table border=\"1\" class=\"dataframe\">\n",
              "  <thead>\n",
              "    <tr style=\"text-align: right;\">\n",
              "      <th></th>\n",
              "      <th>Perceived_Race</th>\n",
              "      <th>Sex</th>\n",
              "      <th>StripSearch</th>\n",
              "      <th>Actions_at_arrest___Concealed_i</th>\n",
              "      <th>Actions_at_arrest___Combative__</th>\n",
              "      <th>Actions_at_arrest___Resisted__d</th>\n",
              "      <th>Actions_at_arrest___Mental_inst</th>\n",
              "      <th>Actions_at_arrest___Assaulted_o</th>\n",
              "      <th>SearchReason_CauseInjury</th>\n",
              "      <th>SearchReason_AssistEscape</th>\n",
              "      <th>SearchReason_PossessWeapons</th>\n",
              "      <th>SearchReason_PossessEvidence</th>\n",
              "      <th>Total_Actions</th>\n",
              "      <th>Total_Search</th>\n",
              "      <th>Total_SearchReason</th>\n",
              "    </tr>\n",
              "  </thead>\n",
              "  <tbody>\n",
              "    <tr>\n",
              "      <th>12</th>\n",
              "      <td>Black</td>\n",
              "      <td>M</td>\n",
              "      <td>1</td>\n",
              "      <td>0</td>\n",
              "      <td>0</td>\n",
              "      <td>0</td>\n",
              "      <td>0</td>\n",
              "      <td>0</td>\n",
              "      <td>1.0</td>\n",
              "      <td>1.0</td>\n",
              "      <td>1.0</td>\n",
              "      <td>0.0</td>\n",
              "      <td>0</td>\n",
              "      <td>3.0</td>\n",
              "      <td>3.0</td>\n",
              "    </tr>\n",
              "    <tr>\n",
              "      <th>14</th>\n",
              "      <td>Black</td>\n",
              "      <td>M</td>\n",
              "      <td>1</td>\n",
              "      <td>0</td>\n",
              "      <td>0</td>\n",
              "      <td>0</td>\n",
              "      <td>0</td>\n",
              "      <td>0</td>\n",
              "      <td>1.0</td>\n",
              "      <td>1.0</td>\n",
              "      <td>1.0</td>\n",
              "      <td>0.0</td>\n",
              "      <td>0</td>\n",
              "      <td>3.0</td>\n",
              "      <td>3.0</td>\n",
              "    </tr>\n",
              "    <tr>\n",
              "      <th>21</th>\n",
              "      <td>Unknown or Legacy</td>\n",
              "      <td>M</td>\n",
              "      <td>1</td>\n",
              "      <td>0</td>\n",
              "      <td>0</td>\n",
              "      <td>0</td>\n",
              "      <td>0</td>\n",
              "      <td>0</td>\n",
              "      <td>1.0</td>\n",
              "      <td>0.0</td>\n",
              "      <td>0.0</td>\n",
              "      <td>0.0</td>\n",
              "      <td>0</td>\n",
              "      <td>1.0</td>\n",
              "      <td>1.0</td>\n",
              "    </tr>\n",
              "    <tr>\n",
              "      <th>33</th>\n",
              "      <td>White</td>\n",
              "      <td>M</td>\n",
              "      <td>1</td>\n",
              "      <td>0</td>\n",
              "      <td>0</td>\n",
              "      <td>0</td>\n",
              "      <td>0</td>\n",
              "      <td>0</td>\n",
              "      <td>0.0</td>\n",
              "      <td>0.0</td>\n",
              "      <td>1.0</td>\n",
              "      <td>1.0</td>\n",
              "      <td>0</td>\n",
              "      <td>2.0</td>\n",
              "      <td>2.0</td>\n",
              "    </tr>\n",
              "    <tr>\n",
              "      <th>38</th>\n",
              "      <td>Latino</td>\n",
              "      <td>M</td>\n",
              "      <td>1</td>\n",
              "      <td>0</td>\n",
              "      <td>0</td>\n",
              "      <td>0</td>\n",
              "      <td>0</td>\n",
              "      <td>0</td>\n",
              "      <td>1.0</td>\n",
              "      <td>0.0</td>\n",
              "      <td>1.0</td>\n",
              "      <td>0.0</td>\n",
              "      <td>0</td>\n",
              "      <td>2.0</td>\n",
              "      <td>2.0</td>\n",
              "    </tr>\n",
              "    <tr>\n",
              "      <th>...</th>\n",
              "      <td>...</td>\n",
              "      <td>...</td>\n",
              "      <td>...</td>\n",
              "      <td>...</td>\n",
              "      <td>...</td>\n",
              "      <td>...</td>\n",
              "      <td>...</td>\n",
              "      <td>...</td>\n",
              "      <td>...</td>\n",
              "      <td>...</td>\n",
              "      <td>...</td>\n",
              "      <td>...</td>\n",
              "      <td>...</td>\n",
              "      <td>...</td>\n",
              "      <td>...</td>\n",
              "    </tr>\n",
              "    <tr>\n",
              "      <th>63915</th>\n",
              "      <td>Black</td>\n",
              "      <td>M</td>\n",
              "      <td>1</td>\n",
              "      <td>0</td>\n",
              "      <td>0</td>\n",
              "      <td>0</td>\n",
              "      <td>0</td>\n",
              "      <td>0</td>\n",
              "      <td>1.0</td>\n",
              "      <td>0.0</td>\n",
              "      <td>0.0</td>\n",
              "      <td>1.0</td>\n",
              "      <td>0</td>\n",
              "      <td>2.0</td>\n",
              "      <td>2.0</td>\n",
              "    </tr>\n",
              "    <tr>\n",
              "      <th>64108</th>\n",
              "      <td>White</td>\n",
              "      <td>M</td>\n",
              "      <td>1</td>\n",
              "      <td>0</td>\n",
              "      <td>0</td>\n",
              "      <td>0</td>\n",
              "      <td>0</td>\n",
              "      <td>0</td>\n",
              "      <td>0.0</td>\n",
              "      <td>0.0</td>\n",
              "      <td>0.0</td>\n",
              "      <td>0.0</td>\n",
              "      <td>0</td>\n",
              "      <td>0.0</td>\n",
              "      <td>0.0</td>\n",
              "    </tr>\n",
              "    <tr>\n",
              "      <th>64235</th>\n",
              "      <td>South Asian</td>\n",
              "      <td>M</td>\n",
              "      <td>1</td>\n",
              "      <td>0</td>\n",
              "      <td>0</td>\n",
              "      <td>0</td>\n",
              "      <td>0</td>\n",
              "      <td>0</td>\n",
              "      <td>0.0</td>\n",
              "      <td>0.0</td>\n",
              "      <td>0.0</td>\n",
              "      <td>1.0</td>\n",
              "      <td>0</td>\n",
              "      <td>1.0</td>\n",
              "      <td>1.0</td>\n",
              "    </tr>\n",
              "    <tr>\n",
              "      <th>64347</th>\n",
              "      <td>Black</td>\n",
              "      <td>M</td>\n",
              "      <td>1</td>\n",
              "      <td>0</td>\n",
              "      <td>0</td>\n",
              "      <td>0</td>\n",
              "      <td>0</td>\n",
              "      <td>0</td>\n",
              "      <td>0.0</td>\n",
              "      <td>0.0</td>\n",
              "      <td>1.0</td>\n",
              "      <td>1.0</td>\n",
              "      <td>0</td>\n",
              "      <td>2.0</td>\n",
              "      <td>2.0</td>\n",
              "    </tr>\n",
              "    <tr>\n",
              "      <th>64428</th>\n",
              "      <td>Black</td>\n",
              "      <td>M</td>\n",
              "      <td>1</td>\n",
              "      <td>0</td>\n",
              "      <td>0</td>\n",
              "      <td>0</td>\n",
              "      <td>0</td>\n",
              "      <td>0</td>\n",
              "      <td>0.0</td>\n",
              "      <td>0.0</td>\n",
              "      <td>1.0</td>\n",
              "      <td>0.0</td>\n",
              "      <td>0</td>\n",
              "      <td>1.0</td>\n",
              "      <td>1.0</td>\n",
              "    </tr>\n",
              "  </tbody>\n",
              "</table>\n",
              "<p>7800 rows × 15 columns</p>\n",
              "</div>\n",
              "      <button class=\"colab-df-convert\" onclick=\"convertToInteractive('df-9672d7ae-0dc5-41e0-a85c-b0283907c026')\"\n",
              "              title=\"Convert this dataframe to an interactive table.\"\n",
              "              style=\"display:none;\">\n",
              "        \n",
              "  <svg xmlns=\"http://www.w3.org/2000/svg\" height=\"24px\"viewBox=\"0 0 24 24\"\n",
              "       width=\"24px\">\n",
              "    <path d=\"M0 0h24v24H0V0z\" fill=\"none\"/>\n",
              "    <path d=\"M18.56 5.44l.94 2.06.94-2.06 2.06-.94-2.06-.94-.94-2.06-.94 2.06-2.06.94zm-11 1L8.5 8.5l.94-2.06 2.06-.94-2.06-.94L8.5 2.5l-.94 2.06-2.06.94zm10 10l.94 2.06.94-2.06 2.06-.94-2.06-.94-.94-2.06-.94 2.06-2.06.94z\"/><path d=\"M17.41 7.96l-1.37-1.37c-.4-.4-.92-.59-1.43-.59-.52 0-1.04.2-1.43.59L10.3 9.45l-7.72 7.72c-.78.78-.78 2.05 0 2.83L4 21.41c.39.39.9.59 1.41.59.51 0 1.02-.2 1.41-.59l7.78-7.78 2.81-2.81c.8-.78.8-2.07 0-2.86zM5.41 20L4 18.59l7.72-7.72 1.47 1.35L5.41 20z\"/>\n",
              "  </svg>\n",
              "      </button>\n",
              "      \n",
              "  <style>\n",
              "    .colab-df-container {\n",
              "      display:flex;\n",
              "      flex-wrap:wrap;\n",
              "      gap: 12px;\n",
              "    }\n",
              "\n",
              "    .colab-df-convert {\n",
              "      background-color: #E8F0FE;\n",
              "      border: none;\n",
              "      border-radius: 50%;\n",
              "      cursor: pointer;\n",
              "      display: none;\n",
              "      fill: #1967D2;\n",
              "      height: 32px;\n",
              "      padding: 0 0 0 0;\n",
              "      width: 32px;\n",
              "    }\n",
              "\n",
              "    .colab-df-convert:hover {\n",
              "      background-color: #E2EBFA;\n",
              "      box-shadow: 0px 1px 2px rgba(60, 64, 67, 0.3), 0px 1px 3px 1px rgba(60, 64, 67, 0.15);\n",
              "      fill: #174EA6;\n",
              "    }\n",
              "\n",
              "    [theme=dark] .colab-df-convert {\n",
              "      background-color: #3B4455;\n",
              "      fill: #D2E3FC;\n",
              "    }\n",
              "\n",
              "    [theme=dark] .colab-df-convert:hover {\n",
              "      background-color: #434B5C;\n",
              "      box-shadow: 0px 1px 3px 1px rgba(0, 0, 0, 0.15);\n",
              "      filter: drop-shadow(0px 1px 2px rgba(0, 0, 0, 0.3));\n",
              "      fill: #FFFFFF;\n",
              "    }\n",
              "  </style>\n",
              "\n",
              "      <script>\n",
              "        const buttonEl =\n",
              "          document.querySelector('#df-9672d7ae-0dc5-41e0-a85c-b0283907c026 button.colab-df-convert');\n",
              "        buttonEl.style.display =\n",
              "          google.colab.kernel.accessAllowed ? 'block' : 'none';\n",
              "\n",
              "        async function convertToInteractive(key) {\n",
              "          const element = document.querySelector('#df-9672d7ae-0dc5-41e0-a85c-b0283907c026');\n",
              "          const dataTable =\n",
              "            await google.colab.kernel.invokeFunction('convertToInteractive',\n",
              "                                                     [key], {});\n",
              "          if (!dataTable) return;\n",
              "\n",
              "          const docLinkHtml = 'Like what you see? Visit the ' +\n",
              "            '<a target=\"_blank\" href=https://colab.research.google.com/notebooks/data_table.ipynb>data table notebook</a>'\n",
              "            + ' to learn more about interactive tables.';\n",
              "          element.innerHTML = '';\n",
              "          dataTable['output_type'] = 'display_data';\n",
              "          await google.colab.output.renderOutput(dataTable, element);\n",
              "          const docLink = document.createElement('div');\n",
              "          docLink.innerHTML = docLinkHtml;\n",
              "          element.appendChild(docLink);\n",
              "        }\n",
              "      </script>\n",
              "    </div>\n",
              "  </div>\n",
              "  "
            ]
          },
          "metadata": {},
          "execution_count": 129
        }
      ]
    },
    {
      "cell_type": "markdown",
      "source": [
        "box plot: gender,total search reason, race"
      ],
      "metadata": {
        "id": "NPCz0LwBqNjQ"
      }
    },
    {
      "cell_type": "code",
      "source": [
        "import seaborn as sns\n",
        "sns.catplot(data=df_cleaned3, kind=\"box\", x=\"Perceived_Race\", y=\"Total_SearchReason\", hue=\"Sex\",height=6, aspect=2)"
      ],
      "metadata": {
        "colab": {
          "base_uri": "https://localhost:8080/",
          "height": 458
        },
        "id": "YD4dKGl8oYSG",
        "outputId": "606886b8-8c6d-4b79-86d9-4d234a280eb1"
      },
      "execution_count": null,
      "outputs": [
        {
          "output_type": "execute_result",
          "data": {
            "text/plain": [
              "<seaborn.axisgrid.FacetGrid at 0x7f4afb9dfbb0>"
            ]
          },
          "metadata": {},
          "execution_count": 107
        },
        {
          "output_type": "display_data",
          "data": {
            "text/plain": [
              "<Figure size 908.625x432 with 1 Axes>"
            ],
            "image/png": "[encoded data removed]"
          },
          "metadata": {
            "needs_background": "light"
          }
        }
      ]
    },
    {
      "cell_type": "code",
      "source": [],
      "metadata": {
        "id": "sruAGRhbipzj"
      },
      "execution_count": null,
      "outputs": []
    }
  ]
}