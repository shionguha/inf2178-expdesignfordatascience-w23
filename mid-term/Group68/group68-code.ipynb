{
  "nbformat": 4,
  "nbformat_minor": 0,
  "metadata": {
    "colab": {
      "provenance": []
    },
    "kernelspec": {
      "name": "python3",
      "display_name": "Python 3"
    },
    "language_info": {
      "name": "python"
    }
  },
  "cells": [
    {
      "cell_type": "markdown",
      "source": [
        "# Mid-Term Data Analysis \n",
        "\n",
        "link: https://colab.research.google.com/github/jclutian/inf2178-expdesignfordatascience-w23/blob/main/mid-term/Group68/group68_code.ipynb\n",
        "\n",
        "## EDA part\n",
        "\n",
        "To answer these three questions, we should focus on three variables, crime type, race, and count to write summary statistics table and plot histograms, as well as explore the relationship among these three. \n",
        "\n",
        "The t-test can be conducted to determine whether two groups counts are similar or not.\n",
        "\n",
        "We can also explore other features, such as year, youth, etc. if we have time and space.\n",
        "\n",
        "## Method\n",
        "\n",
        "These two questions will lead to two separable one-way ANOVA tests. If we found p-values for either ANOVA test is smaller than 0.05, we can start doing a post-hoc test to determine which level of the selected variable has a major difference. After that, we can do a two-way ANOVA to figure out whether there is an interaction or not.\n",
        "\n",
        "## Results and findings\n",
        "\n",
        " Show the results from above section. Remember to include an interaction plot in this part."
      ],
      "metadata": {
        "id": "_Pyl_AFaGgG_"
      }
    },
    {
      "cell_type": "code",
      "execution_count": null,
      "metadata": {
        "id": "yygz_C2dz187"
      },
      "outputs": [],
      "source": [
        "import pandas as pd\n",
        "import numpy as np\n",
        "import matplotlib.pyplot as plt\n",
        "import seaborn as sns\n",
        "from scipy import stats\n",
        "from tabulate import tabulate\n",
        "import statsmodels.stats.api as sms\n",
        "\n",
        "\n",
        "#for multiple comparison ttests\n",
        "from scipy import stats\n",
        "import statsmodels.stats.multicomp as mc\n",
        "\n",
        "# for one-way anova and hsd\n",
        "from scipy.stats import f_oneway\n",
        "from statsmodels.stats.multicomp import pairwise_tukeyhsd\n",
        "\n",
        "# for two-way anova\n",
        "import statsmodels.api as sm\n",
        "from statsmodels.formula.api import ols  "
      ]
    },
    {
      "cell_type": "markdown",
      "source": [
        "## Dataset"
      ],
      "metadata": {
        "id": "-3A94RMu5QoR"
      }
    },
    {
      "cell_type": "code",
      "source": [
        "url = \"https://raw.githubusercontent.com/shionguha/inf2178-expdesignfordatascience-w23/main/project%20dataset/Arrests_and_Strip_Searches_(RBDC-ARR-TBL-001).csv\"\n",
        "dataset = pd.read_csv(url, delimiter = \",\")\n",
        "dataset"
      ],
      "metadata": {
        "id": "36njUH4g6PIo",
        "colab": {
          "base_uri": "https://localhost:8080/",
          "height": 522
        },
        "outputId": "83b29204-f982-46f3-cd8b-bfe2b45ce4f7"
      },
      "execution_count": null,
      "outputs": [
        {
          "output_type": "execute_result",
          "data": {
            "text/plain": [
              "       Arrest_Year Arrest_Month  EventID   ArrestID  PersonID  \\\n",
              "0             2020    July-Sept  1005907  6017884.0    326622   \n",
              "1             2020    July-Sept  1014562  6056669.0    326622   \n",
              "2             2020      Oct-Dec  1029922  6057065.0    326622   \n",
              "3             2021      Jan-Mar  1052190  6029059.0    327535   \n",
              "4             2021      Jan-Mar  1015512  6040372.0    327535   \n",
              "...            ...          ...      ...        ...       ...   \n",
              "65271         2021      Oct-Dec  1055609  6044336.0    316123   \n",
              "65272         2021      Oct-Dec  1032758  6031692.0    307736   \n",
              "65273         2021      Oct-Dec  1021067  6064396.0    324057   \n",
              "65274         2021      Oct-Dec  1008998  6008662.0    331870   \n",
              "65275         2021      Oct-Dec  1033395  6032145.0    310583   \n",
              "\n",
              "          Perceived_Race Sex    Age_group__at_arrest_  \\\n",
              "0                  White   M      Aged 35 to 44 years   \n",
              "1                  White   M      Aged 35 to 44 years   \n",
              "2      Unknown or Legacy   M      Aged 35 to 44 years   \n",
              "3                  Black   M      Aged 25 to 34 years   \n",
              "4            South Asian   M      Aged 25 to 34 years   \n",
              "...                  ...  ..                      ...   \n",
              "65271         Indigenous   F      Aged 25 to 34 years   \n",
              "65272        South Asian   M      Aged 35 to 44 years   \n",
              "65273              White   F      Aged 45 to 54 years   \n",
              "65274  Unknown or Legacy   M  Aged 17 years and under   \n",
              "65275             Latino   M      Aged 18 to 24 years   \n",
              "\n",
              "       Youth_at_arrest__under_18_years ArrestLocDiv  ...  \\\n",
              "0                          Not a youth           54  ...   \n",
              "1                          Not a youth           54  ...   \n",
              "2                          Not a youth           54  ...   \n",
              "3                          Not a youth           XX  ...   \n",
              "4                          Not a youth           XX  ...   \n",
              "...                                ...          ...  ...   \n",
              "65271                      Not a youth           XX  ...   \n",
              "65272                      Not a youth           54  ...   \n",
              "65273                      Not a youth           XX  ...   \n",
              "65274  Youth (aged 17 years and under)           XX  ...   \n",
              "65275                      Not a youth           XX  ...   \n",
              "\n",
              "       Actions_at_arrest___Resisted__d  Actions_at_arrest___Mental_inst  \\\n",
              "0                                    0                                0   \n",
              "1                                    0                                0   \n",
              "2                                    0                                0   \n",
              "3                                    0                                0   \n",
              "4                                    0                                0   \n",
              "...                                ...                              ...   \n",
              "65271                                1                                0   \n",
              "65272                                0                                0   \n",
              "65273                                0                                0   \n",
              "65274                                0                                0   \n",
              "65275                                0                                0   \n",
              "\n",
              "      Actions_at_arrest___Assaulted_o  Actions_at_arrest___Cooperative  \\\n",
              "0                                   0                                1   \n",
              "1                                   0                                0   \n",
              "2                                   0                                0   \n",
              "3                                   0                                0   \n",
              "4                                   0                                0   \n",
              "...                               ...                              ...   \n",
              "65271                               0                                0   \n",
              "65272                               0                                0   \n",
              "65273                               0                                0   \n",
              "65274                               0                                1   \n",
              "65275                               0                                1   \n",
              "\n",
              "       SearchReason_CauseInjury  SearchReason_AssistEscape  \\\n",
              "0                           NaN                        NaN   \n",
              "1                           NaN                        NaN   \n",
              "2                           NaN                        NaN   \n",
              "3                           NaN                        NaN   \n",
              "4                           NaN                        NaN   \n",
              "...                         ...                        ...   \n",
              "65271                       NaN                        NaN   \n",
              "65272                       NaN                        NaN   \n",
              "65273                       NaN                        NaN   \n",
              "65274                       NaN                        NaN   \n",
              "65275                       NaN                        NaN   \n",
              "\n",
              "       SearchReason_PossessWeapons  SearchReason_PossessEvidence  ItemsFound  \\\n",
              "0                              NaN                           NaN         NaN   \n",
              "1                              NaN                           NaN         NaN   \n",
              "2                              NaN                           NaN         NaN   \n",
              "3                              NaN                           NaN         NaN   \n",
              "4                              NaN                           NaN         NaN   \n",
              "...                            ...                           ...         ...   \n",
              "65271                          NaN                           NaN         NaN   \n",
              "65272                          NaN                           NaN         NaN   \n",
              "65273                          NaN                           NaN         NaN   \n",
              "65274                          NaN                           NaN         NaN   \n",
              "65275                          NaN                           NaN         NaN   \n",
              "\n",
              "       ObjectId  \n",
              "0             1  \n",
              "1             2  \n",
              "2             3  \n",
              "3             4  \n",
              "4             5  \n",
              "...         ...  \n",
              "65271     65272  \n",
              "65272     65273  \n",
              "65273     65274  \n",
              "65274     65275  \n",
              "65275     65276  \n",
              "\n",
              "[65276 rows x 25 columns]"
            ],
            "text/html": [
              "\n",
              "  <div id=\"df-7238e15c-286b-4e0e-a34e-528e6aa20b80\">\n",
              "    <div class=\"colab-df-container\">\n",
              "      <div>\n",
              "<style scoped>\n",
              "    .dataframe tbody tr th:only-of-type {\n",
              "        vertical-align: middle;\n",
              "    }\n",
              "\n",
              "    .dataframe tbody tr th {\n",
              "        vertical-align: top;\n",
              "    }\n",
              "\n",
              "    .dataframe thead th {\n",
              "        text-align: right;\n",
              "    }\n",
              "</style>\n",
              "<table border=\"1\" class=\"dataframe\">\n",
              "  <thead>\n",
              "    <tr style=\"text-align: right;\">\n",
              "      <th></th>\n",
              "      <th>Arrest_Year</th>\n",
              "      <th>Arrest_Month</th>\n",
              "      <th>EventID</th>\n",
              "      <th>ArrestID</th>\n",
              "      <th>PersonID</th>\n",
              "      <th>Perceived_Race</th>\n",
              "      <th>Sex</th>\n",
              "      <th>Age_group__at_arrest_</th>\n",
              "      <th>Youth_at_arrest__under_18_years</th>\n",
              "      <th>ArrestLocDiv</th>\n",
              "      <th>...</th>\n",
              "      <th>Actions_at_arrest___Resisted__d</th>\n",
              "      <th>Actions_at_arrest___Mental_inst</th>\n",
              "      <th>Actions_at_arrest___Assaulted_o</th>\n",
              "      <th>Actions_at_arrest___Cooperative</th>\n",
              "      <th>SearchReason_CauseInjury</th>\n",
              "      <th>SearchReason_AssistEscape</th>\n",
              "      <th>SearchReason_PossessWeapons</th>\n",
              "      <th>SearchReason_PossessEvidence</th>\n",
              "      <th>ItemsFound</th>\n",
              "      <th>ObjectId</th>\n",
              "    </tr>\n",
              "  </thead>\n",
              "  <tbody>\n",
              "    <tr>\n",
              "      <th>0</th>\n",
              "      <td>2020</td>\n",
              "      <td>July-Sept</td>\n",
              "      <td>1005907</td>\n",
              "      <td>6017884.0</td>\n",
              "      <td>326622</td>\n",
              "      <td>White</td>\n",
              "      <td>M</td>\n",
              "      <td>Aged 35 to 44 years</td>\n",
              "      <td>Not a youth</td>\n",
              "      <td>54</td>\n",
              "      <td>...</td>\n",
              "      <td>0</td>\n",
              "      <td>0</td>\n",
              "      <td>0</td>\n",
              "      <td>1</td>\n",
              "      <td>NaN</td>\n",
              "      <td>NaN</td>\n",
              "      <td>NaN</td>\n",
              "      <td>NaN</td>\n",
              "      <td>NaN</td>\n",
              "      <td>1</td>\n",
              "    </tr>\n",
              "    <tr>\n",
              "      <th>1</th>\n",
              "      <td>2020</td>\n",
              "      <td>July-Sept</td>\n",
              "      <td>1014562</td>\n",
              "      <td>6056669.0</td>\n",
              "      <td>326622</td>\n",
              "      <td>White</td>\n",
              "      <td>M</td>\n",
              "      <td>Aged 35 to 44 years</td>\n",
              "      <td>Not a youth</td>\n",
              "      <td>54</td>\n",
              "      <td>...</td>\n",
              "      <td>0</td>\n",
              "      <td>0</td>\n",
              "      <td>0</td>\n",
              "      <td>0</td>\n",
              "      <td>NaN</td>\n",
              "      <td>NaN</td>\n",
              "      <td>NaN</td>\n",
              "      <td>NaN</td>\n",
              "      <td>NaN</td>\n",
              "      <td>2</td>\n",
              "    </tr>\n",
              "    <tr>\n",
              "      <th>2</th>\n",
              "      <td>2020</td>\n",
              "      <td>Oct-Dec</td>\n",
              "      <td>1029922</td>\n",
              "      <td>6057065.0</td>\n",
              "      <td>326622</td>\n",
              "      <td>Unknown or Legacy</td>\n",
              "      <td>M</td>\n",
              "      <td>Aged 35 to 44 years</td>\n",
              "      <td>Not a youth</td>\n",
              "      <td>54</td>\n",
              "      <td>...</td>\n",
              "      <td>0</td>\n",
              "      <td>0</td>\n",
              "      <td>0</td>\n",
              "      <td>0</td>\n",
              "      <td>NaN</td>\n",
              "      <td>NaN</td>\n",
              "      <td>NaN</td>\n",
              "      <td>NaN</td>\n",
              "      <td>NaN</td>\n",
              "      <td>3</td>\n",
              "    </tr>\n",
              "    <tr>\n",
              "      <th>3</th>\n",
              "      <td>2021</td>\n",
              "      <td>Jan-Mar</td>\n",
              "      <td>1052190</td>\n",
              "      <td>6029059.0</td>\n",
              "      <td>327535</td>\n",
              "      <td>Black</td>\n",
              "      <td>M</td>\n",
              "      <td>Aged 25 to 34 years</td>\n",
              "      <td>Not a youth</td>\n",
              "      <td>XX</td>\n",
              "      <td>...</td>\n",
              "      <td>0</td>\n",
              "      <td>0</td>\n",
              "      <td>0</td>\n",
              "      <td>0</td>\n",
              "      <td>NaN</td>\n",
              "      <td>NaN</td>\n",
              "      <td>NaN</td>\n",
              "      <td>NaN</td>\n",
              "      <td>NaN</td>\n",
              "      <td>4</td>\n",
              "    </tr>\n",
              "    <tr>\n",
              "      <th>4</th>\n",
              "      <td>2021</td>\n",
              "      <td>Jan-Mar</td>\n",
              "      <td>1015512</td>\n",
              "      <td>6040372.0</td>\n",
              "      <td>327535</td>\n",
              "      <td>South Asian</td>\n",
              "      <td>M</td>\n",
              "      <td>Aged 25 to 34 years</td>\n",
              "      <td>Not a youth</td>\n",
              "      <td>XX</td>\n",
              "      <td>...</td>\n",
              "      <td>0</td>\n",
              "      <td>0</td>\n",
              "      <td>0</td>\n",
              "      <td>0</td>\n",
              "      <td>NaN</td>\n",
              "      <td>NaN</td>\n",
              "      <td>NaN</td>\n",
              "      <td>NaN</td>\n",
              "      <td>NaN</td>\n",
              "      <td>5</td>\n",
              "    </tr>\n",
              "    <tr>\n",
              "      <th>...</th>\n",
              "      <td>...</td>\n",
              "      <td>...</td>\n",
              "      <td>...</td>\n",
              "      <td>...</td>\n",
              "      <td>...</td>\n",
              "      <td>...</td>\n",
              "      <td>...</td>\n",
              "      <td>...</td>\n",
              "      <td>...</td>\n",
              "      <td>...</td>\n",
              "      <td>...</td>\n",
              "      <td>...</td>\n",
              "      <td>...</td>\n",
              "      <td>...</td>\n",
              "      <td>...</td>\n",
              "      <td>...</td>\n",
              "      <td>...</td>\n",
              "      <td>...</td>\n",
              "      <td>...</td>\n",
              "      <td>...</td>\n",
              "      <td>...</td>\n",
              "    </tr>\n",
              "    <tr>\n",
              "      <th>65271</th>\n",
              "      <td>2021</td>\n",
              "      <td>Oct-Dec</td>\n",
              "      <td>1055609</td>\n",
              "      <td>6044336.0</td>\n",
              "      <td>316123</td>\n",
              "      <td>Indigenous</td>\n",
              "      <td>F</td>\n",
              "      <td>Aged 25 to 34 years</td>\n",
              "      <td>Not a youth</td>\n",
              "      <td>XX</td>\n",
              "      <td>...</td>\n",
              "      <td>1</td>\n",
              "      <td>0</td>\n",
              "      <td>0</td>\n",
              "      <td>0</td>\n",
              "      <td>NaN</td>\n",
              "      <td>NaN</td>\n",
              "      <td>NaN</td>\n",
              "      <td>NaN</td>\n",
              "      <td>NaN</td>\n",
              "      <td>65272</td>\n",
              "    </tr>\n",
              "    <tr>\n",
              "      <th>65272</th>\n",
              "      <td>2021</td>\n",
              "      <td>Oct-Dec</td>\n",
              "      <td>1032758</td>\n",
              "      <td>6031692.0</td>\n",
              "      <td>307736</td>\n",
              "      <td>South Asian</td>\n",
              "      <td>M</td>\n",
              "      <td>Aged 35 to 44 years</td>\n",
              "      <td>Not a youth</td>\n",
              "      <td>54</td>\n",
              "      <td>...</td>\n",
              "      <td>0</td>\n",
              "      <td>0</td>\n",
              "      <td>0</td>\n",
              "      <td>0</td>\n",
              "      <td>NaN</td>\n",
              "      <td>NaN</td>\n",
              "      <td>NaN</td>\n",
              "      <td>NaN</td>\n",
              "      <td>NaN</td>\n",
              "      <td>65273</td>\n",
              "    </tr>\n",
              "    <tr>\n",
              "      <th>65273</th>\n",
              "      <td>2021</td>\n",
              "      <td>Oct-Dec</td>\n",
              "      <td>1021067</td>\n",
              "      <td>6064396.0</td>\n",
              "      <td>324057</td>\n",
              "      <td>White</td>\n",
              "      <td>F</td>\n",
              "      <td>Aged 45 to 54 years</td>\n",
              "      <td>Not a youth</td>\n",
              "      <td>XX</td>\n",
              "      <td>...</td>\n",
              "      <td>0</td>\n",
              "      <td>0</td>\n",
              "      <td>0</td>\n",
              "      <td>0</td>\n",
              "      <td>NaN</td>\n",
              "      <td>NaN</td>\n",
              "      <td>NaN</td>\n",
              "      <td>NaN</td>\n",
              "      <td>NaN</td>\n",
              "      <td>65274</td>\n",
              "    </tr>\n",
              "    <tr>\n",
              "      <th>65274</th>\n",
              "      <td>2021</td>\n",
              "      <td>Oct-Dec</td>\n",
              "      <td>1008998</td>\n",
              "      <td>6008662.0</td>\n",
              "      <td>331870</td>\n",
              "      <td>Unknown or Legacy</td>\n",
              "      <td>M</td>\n",
              "      <td>Aged 17 years and under</td>\n",
              "      <td>Youth (aged 17 years and under)</td>\n",
              "      <td>XX</td>\n",
              "      <td>...</td>\n",
              "      <td>0</td>\n",
              "      <td>0</td>\n",
              "      <td>0</td>\n",
              "      <td>1</td>\n",
              "      <td>NaN</td>\n",
              "      <td>NaN</td>\n",
              "      <td>NaN</td>\n",
              "      <td>NaN</td>\n",
              "      <td>NaN</td>\n",
              "      <td>65275</td>\n",
              "    </tr>\n",
              "    <tr>\n",
              "      <th>65275</th>\n",
              "      <td>2021</td>\n",
              "      <td>Oct-Dec</td>\n",
              "      <td>1033395</td>\n",
              "      <td>6032145.0</td>\n",
              "      <td>310583</td>\n",
              "      <td>Latino</td>\n",
              "      <td>M</td>\n",
              "      <td>Aged 18 to 24 years</td>\n",
              "      <td>Not a youth</td>\n",
              "      <td>XX</td>\n",
              "      <td>...</td>\n",
              "      <td>0</td>\n",
              "      <td>0</td>\n",
              "      <td>0</td>\n",
              "      <td>1</td>\n",
              "      <td>NaN</td>\n",
              "      <td>NaN</td>\n",
              "      <td>NaN</td>\n",
              "      <td>NaN</td>\n",
              "      <td>NaN</td>\n",
              "      <td>65276</td>\n",
              "    </tr>\n",
              "  </tbody>\n",
              "</table>\n",
              "<p>65276 rows × 25 columns</p>\n",
              "</div>\n",
              "      <button class=\"colab-df-convert\" onclick=\"convertToInteractive('df-7238e15c-286b-4e0e-a34e-528e6aa20b80')\"\n",
              "              title=\"Convert this dataframe to an interactive table.\"\n",
              "              style=\"display:none;\">\n",
              "        \n",
              "  <svg xmlns=\"http://www.w3.org/2000/svg\" height=\"24px\"viewBox=\"0 0 24 24\"\n",
              "       width=\"24px\">\n",
              "    <path d=\"M0 0h24v24H0V0z\" fill=\"none\"/>\n",
              "    <path d=\"M18.56 5.44l.94 2.06.94-2.06 2.06-.94-2.06-.94-.94-2.06-.94 2.06-2.06.94zm-11 1L8.5 8.5l.94-2.06 2.06-.94-2.06-.94L8.5 2.5l-.94 2.06-2.06.94zm10 10l.94 2.06.94-2.06 2.06-.94-2.06-.94-.94-2.06-.94 2.06-2.06.94z\"/><path d=\"M17.41 7.96l-1.37-1.37c-.4-.4-.92-.59-1.43-.59-.52 0-1.04.2-1.43.59L10.3 9.45l-7.72 7.72c-.78.78-.78 2.05 0 2.83L4 21.41c.39.39.9.59 1.41.59.51 0 1.02-.2 1.41-.59l7.78-7.78 2.81-2.81c.8-.78.8-2.07 0-2.86zM5.41 20L4 18.59l7.72-7.72 1.47 1.35L5.41 20z\"/>\n",
              "  </svg>\n",
              "      </button>\n",
              "      \n",
              "  <style>\n",
              "    .colab-df-container {\n",
              "      display:flex;\n",
              "      flex-wrap:wrap;\n",
              "      gap: 12px;\n",
              "    }\n",
              "\n",
              "    .colab-df-convert {\n",
              "      background-color: #E8F0FE;\n",
              "      border: none;\n",
              "      border-radius: 50%;\n",
              "      cursor: pointer;\n",
              "      display: none;\n",
              "      fill: #1967D2;\n",
              "      height: 32px;\n",
              "      padding: 0 0 0 0;\n",
              "      width: 32px;\n",
              "    }\n",
              "\n",
              "    .colab-df-convert:hover {\n",
              "      background-color: #E2EBFA;\n",
              "      box-shadow: 0px 1px 2px rgba(60, 64, 67, 0.3), 0px 1px 3px 1px rgba(60, 64, 67, 0.15);\n",
              "      fill: #174EA6;\n",
              "    }\n",
              "\n",
              "    [theme=dark] .colab-df-convert {\n",
              "      background-color: #3B4455;\n",
              "      fill: #D2E3FC;\n",
              "    }\n",
              "\n",
              "    [theme=dark] .colab-df-convert:hover {\n",
              "      background-color: #434B5C;\n",
              "      box-shadow: 0px 1px 3px 1px rgba(0, 0, 0, 0.15);\n",
              "      filter: drop-shadow(0px 1px 2px rgba(0, 0, 0, 0.3));\n",
              "      fill: #FFFFFF;\n",
              "    }\n",
              "  </style>\n",
              "\n",
              "      <script>\n",
              "        const buttonEl =\n",
              "          document.querySelector('#df-7238e15c-286b-4e0e-a34e-528e6aa20b80 button.colab-df-convert');\n",
              "        buttonEl.style.display =\n",
              "          google.colab.kernel.accessAllowed ? 'block' : 'none';\n",
              "\n",
              "        async function convertToInteractive(key) {\n",
              "          const element = document.querySelector('#df-7238e15c-286b-4e0e-a34e-528e6aa20b80');\n",
              "          const dataTable =\n",
              "            await google.colab.kernel.invokeFunction('convertToInteractive',\n",
              "                                                     [key], {});\n",
              "          if (!dataTable) return;\n",
              "\n",
              "          const docLinkHtml = 'Like what you see? Visit the ' +\n",
              "            '<a target=\"_blank\" href=https://colab.research.google.com/notebooks/data_table.ipynb>data table notebook</a>'\n",
              "            + ' to learn more about interactive tables.';\n",
              "          element.innerHTML = '';\n",
              "          dataTable['output_type'] = 'display_data';\n",
              "          await google.colab.output.renderOutput(dataTable, element);\n",
              "          const docLink = document.createElement('div');\n",
              "          docLink.innerHTML = docLinkHtml;\n",
              "          element.appendChild(docLink);\n",
              "        }\n",
              "      </script>\n",
              "    </div>\n",
              "  </div>\n",
              "  "
            ]
          },
          "metadata": {},
          "execution_count": 2
        }
      ]
    },
    {
      "cell_type": "markdown",
      "source": [
        "## Data cleaning"
      ],
      "metadata": {
        "id": "fxsc96WvrhHk"
      }
    },
    {
      "cell_type": "code",
      "source": [
        "# pick variable of interests\n",
        "df = dataset[['Arrest_Year','Perceived_Race','Sex','Age_group__at_arrest_','Occurrence_Category','StripSearch']]\n",
        "df.columns = ['Year','Race','Sex','Age','Crime_Type','Strip']\n"
      ],
      "metadata": {
        "id": "8WMrOBqJhTV1"
      },
      "execution_count": null,
      "outputs": []
    },
    {
      "cell_type": "code",
      "source": [
        "# combine some levels of race\n",
        "df['Race'] = df['Race'].replace('East/Southeast Asian', 'Asian')\n",
        "df['Race'] = df['Race'].replace('South Asian', 'Asian')\n",
        "df['Race'] = df['Race'].replace('Middle-Eastern', 'Asian')\n",
        "df['Race'].value_counts()"
      ],
      "metadata": {
        "id": "5E3Ln3xROSiH",
        "colab": {
          "base_uri": "https://localhost:8080/"
        },
        "outputId": "448b5976-b5dc-466b-e300-98f8289b8f7a"
      },
      "execution_count": null,
      "outputs": [
        {
          "output_type": "stream",
          "name": "stderr",
          "text": [
            "<ipython-input-4-e0881cae9f6f>:2: SettingWithCopyWarning: \n",
            "A value is trying to be set on a copy of a slice from a DataFrame.\n",
            "Try using .loc[row_indexer,col_indexer] = value instead\n",
            "\n",
            "See the caveats in the documentation: https://pandas.pydata.org/pandas-docs/stable/user_guide/indexing.html#returning-a-view-versus-a-copy\n",
            "  df['Race'] = df['Race'].replace('East/Southeast Asian', 'Asian')\n",
            "<ipython-input-4-e0881cae9f6f>:3: SettingWithCopyWarning: \n",
            "A value is trying to be set on a copy of a slice from a DataFrame.\n",
            "Try using .loc[row_indexer,col_indexer] = value instead\n",
            "\n",
            "See the caveats in the documentation: https://pandas.pydata.org/pandas-docs/stable/user_guide/indexing.html#returning-a-view-versus-a-copy\n",
            "  df['Race'] = df['Race'].replace('South Asian', 'Asian')\n",
            "<ipython-input-4-e0881cae9f6f>:4: SettingWithCopyWarning: \n",
            "A value is trying to be set on a copy of a slice from a DataFrame.\n",
            "Try using .loc[row_indexer,col_indexer] = value instead\n",
            "\n",
            "See the caveats in the documentation: https://pandas.pydata.org/pandas-docs/stable/user_guide/indexing.html#returning-a-view-versus-a-copy\n",
            "  df['Race'] = df['Race'].replace('Middle-Eastern', 'Asian')\n"
          ]
        },
        {
          "output_type": "execute_result",
          "data": {
            "text/plain": [
              "White                27723\n",
              "Black                17526\n",
              "Asian                11265\n",
              "Unknown or Legacy     5056\n",
              "Indigenous            1934\n",
              "Latino                1768\n",
              "Name: Race, dtype: int64"
            ]
          },
          "metadata": {},
          "execution_count": 4
        }
      ]
    },
    {
      "cell_type": "code",
      "source": [
        "# combine some levels of Crime_Type that may have similar meanings,\n",
        "df['Crime_Type'] = df['Crime_Type'].replace('Assault', 'Violent')\n",
        "df['Crime_Type'] = df['Crime_Type'].replace('Assault & Other crimes against persons', 'Violent')\n",
        "df['Crime_Type'] = df['Crime_Type'].replace('Robbery & Theft', 'Property')\n",
        "df['Crime_Type'] = df['Crime_Type'].replace('Warrant', 'Other')\n",
        "df['Crime_Type'] = df['Crime_Type'].replace('FTA/FTC/Compliance Check/Parollee', 'Other')\n",
        "df['Crime_Type'] = df['Crime_Type'].replace('Police Category - Administrative', 'Other')\n",
        "df['Crime_Type'] = df['Crime_Type'].replace('FTA/FTC, Compliance Check & Parollee', 'Other')\n",
        "df['Crime_Type'] = df['Crime_Type'].replace('Robbery/Theft', 'Property')\n",
        "df['Crime_Type'] = df['Crime_Type'].replace('Drug Related', 'Other') \n",
        "df['Crime_Type'] = df['Crime_Type'].replace('Other Statute & Other Incident Type', 'Other')\n",
        "df['Crime_Type'] = df['Crime_Type'].replace('Vehicle Related (inc. Impaired)', 'Property')\n",
        "df['Crime_Type'] = df['Crime_Type'].replace('Other Offence', 'Violent')\n",
        "df['Crime_Type'] = df['Crime_Type'].replace('Mischief & Fraud', 'Property')\n",
        "df['Crime_Type'] = df['Crime_Type'].replace('Impaired', 'Property')\n",
        "df['Crime_Type'] = df['Crime_Type'].replace('Harassment/Threatening', 'Violent')\n",
        "df['Crime_Type'] = df['Crime_Type'].replace('Mischief', 'Property')\n",
        "df['Crime_Type'] = df['Crime_Type'].replace('Harassment & Threatening', 'Violent')\n",
        "df['Crime_Type'] = df['Crime_Type'].replace('Weapons', 'Violent')\n",
        "df['Crime_Type'] = df['Crime_Type'].replace('Weapons & Homicide', 'Violent')\n",
        "df['Crime_Type'] = df['Crime_Type'].replace('Other Statute', 'Other')\n",
        "df['Crime_Type'] = df['Crime_Type'].replace('Break & Enter', 'Property')\n",
        "df['Crime_Type'] = df['Crime_Type'].replace('Break and Enter', 'Property')\n",
        "df['Crime_Type'] = df['Crime_Type'].replace('Sexual Related Crime', 'Violent')\n",
        "df['Crime_Type'] = df['Crime_Type'].replace('Sexual Related Crimes & Crimes Against Children', 'Violent')\n",
        "df['Crime_Type'] = df['Crime_Type'].replace('Vehicle Related', 'Property')\n",
        "df['Crime_Type'] = df['Crime_Type'].replace('LLA', 'Other')\n",
        "df['Crime_Type'] = df['Crime_Type'].replace('Police Category - Incident', 'Other')\n",
        "df['Crime_Type'] = df['Crime_Type'].replace('Fraud', 'Property')\n",
        "df['Crime_Type'] = df['Crime_Type'].replace('Mental Health', 'Other')\n",
        "df['Crime_Type'] = df['Crime_Type'].replace('Homicide', 'Violent')\n",
        "df['Crime_Type'] = df['Crime_Type'].replace('Crimes against Children', 'Violent')\n"
      ],
      "metadata": {
        "id": "5sQ_X3N5OQVA",
        "colab": {
          "base_uri": "https://localhost:8080/"
        },
        "outputId": "5a2e6416-b4e0-4ee8-9a09-43baca974f12"
      },
      "execution_count": null,
      "outputs": [
        {
          "output_type": "stream",
          "name": "stderr",
          "text": [
            "<ipython-input-5-cd02e515a57b>:2: SettingWithCopyWarning: \n",
            "A value is trying to be set on a copy of a slice from a DataFrame.\n",
            "Try using .loc[row_indexer,col_indexer] = value instead\n",
            "\n",
            "See the caveats in the documentation: https://pandas.pydata.org/pandas-docs/stable/user_guide/indexing.html#returning-a-view-versus-a-copy\n",
            "  df['Crime_Type'] = df['Crime_Type'].replace('Assault', 'Violent')\n",
            "<ipython-input-5-cd02e515a57b>:3: SettingWithCopyWarning: \n",
            "A value is trying to be set on a copy of a slice from a DataFrame.\n",
            "Try using .loc[row_indexer,col_indexer] = value instead\n",
            "\n",
            "See the caveats in the documentation: https://pandas.pydata.org/pandas-docs/stable/user_guide/indexing.html#returning-a-view-versus-a-copy\n",
            "  df['Crime_Type'] = df['Crime_Type'].replace('Assault & Other crimes against persons', 'Violent')\n",
            "<ipython-input-5-cd02e515a57b>:4: SettingWithCopyWarning: \n",
            "A value is trying to be set on a copy of a slice from a DataFrame.\n",
            "Try using .loc[row_indexer,col_indexer] = value instead\n",
            "\n",
            "See the caveats in the documentation: https://pandas.pydata.org/pandas-docs/stable/user_guide/indexing.html#returning-a-view-versus-a-copy\n",
            "  df['Crime_Type'] = df['Crime_Type'].replace('Robbery & Theft', 'Property')\n",
            "<ipython-input-5-cd02e515a57b>:5: SettingWithCopyWarning: \n",
            "A value is trying to be set on a copy of a slice from a DataFrame.\n",
            "Try using .loc[row_indexer,col_indexer] = value instead\n",
            "\n",
            "See the caveats in the documentation: https://pandas.pydata.org/pandas-docs/stable/user_guide/indexing.html#returning-a-view-versus-a-copy\n",
            "  df['Crime_Type'] = df['Crime_Type'].replace('Warrant', 'Other')\n",
            "<ipython-input-5-cd02e515a57b>:6: SettingWithCopyWarning: \n",
            "A value is trying to be set on a copy of a slice from a DataFrame.\n",
            "Try using .loc[row_indexer,col_indexer] = value instead\n",
            "\n",
            "See the caveats in the documentation: https://pandas.pydata.org/pandas-docs/stable/user_guide/indexing.html#returning-a-view-versus-a-copy\n",
            "  df['Crime_Type'] = df['Crime_Type'].replace('FTA/FTC/Compliance Check/Parollee', 'Other')\n",
            "<ipython-input-5-cd02e515a57b>:7: SettingWithCopyWarning: \n",
            "A value is trying to be set on a copy of a slice from a DataFrame.\n",
            "Try using .loc[row_indexer,col_indexer] = value instead\n",
            "\n",
            "See the caveats in the documentation: https://pandas.pydata.org/pandas-docs/stable/user_guide/indexing.html#returning-a-view-versus-a-copy\n",
            "  df['Crime_Type'] = df['Crime_Type'].replace('Police Category - Administrative', 'Other')\n",
            "<ipython-input-5-cd02e515a57b>:8: SettingWithCopyWarning: \n",
            "A value is trying to be set on a copy of a slice from a DataFrame.\n",
            "Try using .loc[row_indexer,col_indexer] = value instead\n",
            "\n",
            "See the caveats in the documentation: https://pandas.pydata.org/pandas-docs/stable/user_guide/indexing.html#returning-a-view-versus-a-copy\n",
            "  df['Crime_Type'] = df['Crime_Type'].replace('FTA/FTC, Compliance Check & Parollee', 'Other')\n",
            "<ipython-input-5-cd02e515a57b>:9: SettingWithCopyWarning: \n",
            "A value is trying to be set on a copy of a slice from a DataFrame.\n",
            "Try using .loc[row_indexer,col_indexer] = value instead\n",
            "\n",
            "See the caveats in the documentation: https://pandas.pydata.org/pandas-docs/stable/user_guide/indexing.html#returning-a-view-versus-a-copy\n",
            "  df['Crime_Type'] = df['Crime_Type'].replace('Robbery/Theft', 'Property')\n",
            "<ipython-input-5-cd02e515a57b>:10: SettingWithCopyWarning: \n",
            "A value is trying to be set on a copy of a slice from a DataFrame.\n",
            "Try using .loc[row_indexer,col_indexer] = value instead\n",
            "\n",
            "See the caveats in the documentation: https://pandas.pydata.org/pandas-docs/stable/user_guide/indexing.html#returning-a-view-versus-a-copy\n",
            "  df['Crime_Type'] = df['Crime_Type'].replace('Drug Related', 'Other')\n",
            "<ipython-input-5-cd02e515a57b>:11: SettingWithCopyWarning: \n",
            "A value is trying to be set on a copy of a slice from a DataFrame.\n",
            "Try using .loc[row_indexer,col_indexer] = value instead\n",
            "\n",
            "See the caveats in the documentation: https://pandas.pydata.org/pandas-docs/stable/user_guide/indexing.html#returning-a-view-versus-a-copy\n",
            "  df['Crime_Type'] = df['Crime_Type'].replace('Other Statute & Other Incident Type', 'Other')\n",
            "<ipython-input-5-cd02e515a57b>:12: SettingWithCopyWarning: \n",
            "A value is trying to be set on a copy of a slice from a DataFrame.\n",
            "Try using .loc[row_indexer,col_indexer] = value instead\n",
            "\n",
            "See the caveats in the documentation: https://pandas.pydata.org/pandas-docs/stable/user_guide/indexing.html#returning-a-view-versus-a-copy\n",
            "  df['Crime_Type'] = df['Crime_Type'].replace('Vehicle Related (inc. Impaired)', 'Property')\n",
            "<ipython-input-5-cd02e515a57b>:13: SettingWithCopyWarning: \n",
            "A value is trying to be set on a copy of a slice from a DataFrame.\n",
            "Try using .loc[row_indexer,col_indexer] = value instead\n",
            "\n",
            "See the caveats in the documentation: https://pandas.pydata.org/pandas-docs/stable/user_guide/indexing.html#returning-a-view-versus-a-copy\n",
            "  df['Crime_Type'] = df['Crime_Type'].replace('Other Offence', 'Violent')\n",
            "<ipython-input-5-cd02e515a57b>:14: SettingWithCopyWarning: \n",
            "A value is trying to be set on a copy of a slice from a DataFrame.\n",
            "Try using .loc[row_indexer,col_indexer] = value instead\n",
            "\n",
            "See the caveats in the documentation: https://pandas.pydata.org/pandas-docs/stable/user_guide/indexing.html#returning-a-view-versus-a-copy\n",
            "  df['Crime_Type'] = df['Crime_Type'].replace('Mischief & Fraud', 'Property')\n",
            "<ipython-input-5-cd02e515a57b>:15: SettingWithCopyWarning: \n",
            "A value is trying to be set on a copy of a slice from a DataFrame.\n",
            "Try using .loc[row_indexer,col_indexer] = value instead\n",
            "\n",
            "See the caveats in the documentation: https://pandas.pydata.org/pandas-docs/stable/user_guide/indexing.html#returning-a-view-versus-a-copy\n",
            "  df['Crime_Type'] = df['Crime_Type'].replace('Impaired', 'Property')\n",
            "<ipython-input-5-cd02e515a57b>:16: SettingWithCopyWarning: \n",
            "A value is trying to be set on a copy of a slice from a DataFrame.\n",
            "Try using .loc[row_indexer,col_indexer] = value instead\n",
            "\n",
            "See the caveats in the documentation: https://pandas.pydata.org/pandas-docs/stable/user_guide/indexing.html#returning-a-view-versus-a-copy\n",
            "  df['Crime_Type'] = df['Crime_Type'].replace('Harassment/Threatening', 'Violent')\n",
            "<ipython-input-5-cd02e515a57b>:17: SettingWithCopyWarning: \n",
            "A value is trying to be set on a copy of a slice from a DataFrame.\n",
            "Try using .loc[row_indexer,col_indexer] = value instead\n",
            "\n",
            "See the caveats in the documentation: https://pandas.pydata.org/pandas-docs/stable/user_guide/indexing.html#returning-a-view-versus-a-copy\n",
            "  df['Crime_Type'] = df['Crime_Type'].replace('Mischief', 'Property')\n",
            "<ipython-input-5-cd02e515a57b>:18: SettingWithCopyWarning: \n",
            "A value is trying to be set on a copy of a slice from a DataFrame.\n",
            "Try using .loc[row_indexer,col_indexer] = value instead\n",
            "\n",
            "See the caveats in the documentation: https://pandas.pydata.org/pandas-docs/stable/user_guide/indexing.html#returning-a-view-versus-a-copy\n",
            "  df['Crime_Type'] = df['Crime_Type'].replace('Harassment & Threatening', 'Violent')\n",
            "<ipython-input-5-cd02e515a57b>:19: SettingWithCopyWarning: \n",
            "A value is trying to be set on a copy of a slice from a DataFrame.\n",
            "Try using .loc[row_indexer,col_indexer] = value instead\n",
            "\n",
            "See the caveats in the documentation: https://pandas.pydata.org/pandas-docs/stable/user_guide/indexing.html#returning-a-view-versus-a-copy\n",
            "  df['Crime_Type'] = df['Crime_Type'].replace('Weapons', 'Violent')\n",
            "<ipython-input-5-cd02e515a57b>:20: SettingWithCopyWarning: \n",
            "A value is trying to be set on a copy of a slice from a DataFrame.\n",
            "Try using .loc[row_indexer,col_indexer] = value instead\n",
            "\n",
            "See the caveats in the documentation: https://pandas.pydata.org/pandas-docs/stable/user_guide/indexing.html#returning-a-view-versus-a-copy\n",
            "  df['Crime_Type'] = df['Crime_Type'].replace('Weapons & Homicide', 'Violent')\n",
            "<ipython-input-5-cd02e515a57b>:21: SettingWithCopyWarning: \n",
            "A value is trying to be set on a copy of a slice from a DataFrame.\n",
            "Try using .loc[row_indexer,col_indexer] = value instead\n",
            "\n",
            "See the caveats in the documentation: https://pandas.pydata.org/pandas-docs/stable/user_guide/indexing.html#returning-a-view-versus-a-copy\n",
            "  df['Crime_Type'] = df['Crime_Type'].replace('Other Statute', 'Other')\n",
            "<ipython-input-5-cd02e515a57b>:22: SettingWithCopyWarning: \n",
            "A value is trying to be set on a copy of a slice from a DataFrame.\n",
            "Try using .loc[row_indexer,col_indexer] = value instead\n",
            "\n",
            "See the caveats in the documentation: https://pandas.pydata.org/pandas-docs/stable/user_guide/indexing.html#returning-a-view-versus-a-copy\n",
            "  df['Crime_Type'] = df['Crime_Type'].replace('Break & Enter', 'Property')\n",
            "<ipython-input-5-cd02e515a57b>:23: SettingWithCopyWarning: \n",
            "A value is trying to be set on a copy of a slice from a DataFrame.\n",
            "Try using .loc[row_indexer,col_indexer] = value instead\n",
            "\n",
            "See the caveats in the documentation: https://pandas.pydata.org/pandas-docs/stable/user_guide/indexing.html#returning-a-view-versus-a-copy\n",
            "  df['Crime_Type'] = df['Crime_Type'].replace('Break and Enter', 'Property')\n",
            "<ipython-input-5-cd02e515a57b>:24: SettingWithCopyWarning: \n",
            "A value is trying to be set on a copy of a slice from a DataFrame.\n",
            "Try using .loc[row_indexer,col_indexer] = value instead\n",
            "\n",
            "See the caveats in the documentation: https://pandas.pydata.org/pandas-docs/stable/user_guide/indexing.html#returning-a-view-versus-a-copy\n",
            "  df['Crime_Type'] = df['Crime_Type'].replace('Sexual Related Crime', 'Violent')\n",
            "<ipython-input-5-cd02e515a57b>:25: SettingWithCopyWarning: \n",
            "A value is trying to be set on a copy of a slice from a DataFrame.\n",
            "Try using .loc[row_indexer,col_indexer] = value instead\n",
            "\n",
            "See the caveats in the documentation: https://pandas.pydata.org/pandas-docs/stable/user_guide/indexing.html#returning-a-view-versus-a-copy\n",
            "  df['Crime_Type'] = df['Crime_Type'].replace('Sexual Related Crimes & Crimes Against Children', 'Violent')\n",
            "<ipython-input-5-cd02e515a57b>:26: SettingWithCopyWarning: \n",
            "A value is trying to be set on a copy of a slice from a DataFrame.\n",
            "Try using .loc[row_indexer,col_indexer] = value instead\n",
            "\n",
            "See the caveats in the documentation: https://pandas.pydata.org/pandas-docs/stable/user_guide/indexing.html#returning-a-view-versus-a-copy\n",
            "  df['Crime_Type'] = df['Crime_Type'].replace('Vehicle Related', 'Property')\n",
            "<ipython-input-5-cd02e515a57b>:27: SettingWithCopyWarning: \n",
            "A value is trying to be set on a copy of a slice from a DataFrame.\n",
            "Try using .loc[row_indexer,col_indexer] = value instead\n",
            "\n",
            "See the caveats in the documentation: https://pandas.pydata.org/pandas-docs/stable/user_guide/indexing.html#returning-a-view-versus-a-copy\n",
            "  df['Crime_Type'] = df['Crime_Type'].replace('LLA', 'Other')\n",
            "<ipython-input-5-cd02e515a57b>:28: SettingWithCopyWarning: \n",
            "A value is trying to be set on a copy of a slice from a DataFrame.\n",
            "Try using .loc[row_indexer,col_indexer] = value instead\n",
            "\n",
            "See the caveats in the documentation: https://pandas.pydata.org/pandas-docs/stable/user_guide/indexing.html#returning-a-view-versus-a-copy\n",
            "  df['Crime_Type'] = df['Crime_Type'].replace('Police Category - Incident', 'Other')\n",
            "<ipython-input-5-cd02e515a57b>:29: SettingWithCopyWarning: \n",
            "A value is trying to be set on a copy of a slice from a DataFrame.\n",
            "Try using .loc[row_indexer,col_indexer] = value instead\n",
            "\n",
            "See the caveats in the documentation: https://pandas.pydata.org/pandas-docs/stable/user_guide/indexing.html#returning-a-view-versus-a-copy\n",
            "  df['Crime_Type'] = df['Crime_Type'].replace('Fraud', 'Property')\n",
            "<ipython-input-5-cd02e515a57b>:30: SettingWithCopyWarning: \n",
            "A value is trying to be set on a copy of a slice from a DataFrame.\n",
            "Try using .loc[row_indexer,col_indexer] = value instead\n",
            "\n",
            "See the caveats in the documentation: https://pandas.pydata.org/pandas-docs/stable/user_guide/indexing.html#returning-a-view-versus-a-copy\n",
            "  df['Crime_Type'] = df['Crime_Type'].replace('Mental Health', 'Other')\n",
            "<ipython-input-5-cd02e515a57b>:31: SettingWithCopyWarning: \n",
            "A value is trying to be set on a copy of a slice from a DataFrame.\n",
            "Try using .loc[row_indexer,col_indexer] = value instead\n",
            "\n",
            "See the caveats in the documentation: https://pandas.pydata.org/pandas-docs/stable/user_guide/indexing.html#returning-a-view-versus-a-copy\n",
            "  df['Crime_Type'] = df['Crime_Type'].replace('Homicide', 'Violent')\n",
            "<ipython-input-5-cd02e515a57b>:32: SettingWithCopyWarning: \n",
            "A value is trying to be set on a copy of a slice from a DataFrame.\n",
            "Try using .loc[row_indexer,col_indexer] = value instead\n",
            "\n",
            "See the caveats in the documentation: https://pandas.pydata.org/pandas-docs/stable/user_guide/indexing.html#returning-a-view-versus-a-copy\n",
            "  df['Crime_Type'] = df['Crime_Type'].replace('Crimes against Children', 'Violent')\n"
          ]
        }
      ]
    },
    {
      "cell_type": "code",
      "source": [
        "df['Crime_Type'].value_counts()"
      ],
      "metadata": {
        "colab": {
          "base_uri": "https://localhost:8080/"
        },
        "id": "dCtDK-HRTmDd",
        "outputId": "92121dce-e63d-4443-85af-31d1837c26eb"
      },
      "execution_count": null,
      "outputs": [
        {
          "output_type": "execute_result",
          "data": {
            "text/plain": [
              "Other       23824\n",
              "Violent     23534\n",
              "Property    17753\n",
              "Name: Crime_Type, dtype: int64"
            ]
          },
          "metadata": {},
          "execution_count": 6
        }
      ]
    },
    {
      "cell_type": "code",
      "source": [
        "df_res=df.groupby(['Year','Race','Sex','Age','Crime_Type'],as_index=False).count()\n",
        "df_res.columns = [['Year','Race','Sex','Age','Crime_Type','Count']]\n",
        "df_res"
      ],
      "metadata": {
        "id": "zcWvXm5pumFM",
        "colab": {
          "base_uri": "https://localhost:8080/",
          "height": 424
        },
        "outputId": "acedc0e3-bcef-4f77-e558-ccee2bc749da"
      },
      "execution_count": null,
      "outputs": [
        {
          "output_type": "execute_result",
          "data": {
            "text/plain": [
              "     Year   Race Sex                        Age Crime_Type Count\n",
              "0    2020  Asian   F  Aged 17 years and younger      Other    18\n",
              "1    2020  Asian   F  Aged 17 years and younger   Property    38\n",
              "2    2020  Asian   F  Aged 17 years and younger    Violent     6\n",
              "3    2020  Asian   F        Aged 18 to 24 years      Other    35\n",
              "4    2020  Asian   F        Aged 18 to 24 years   Property    74\n",
              "..    ...    ...  ..                        ...        ...   ...\n",
              "491  2021  White   M        Aged 55 to 64 years    Violent   365\n",
              "492  2021  White   M    Aged 65 years and older      Other    80\n",
              "493  2021  White   M    Aged 65 years and older   Property    85\n",
              "494  2021  White   M    Aged 65 years and older    Violent   129\n",
              "495  2021  White   U        Aged 25 to 34 years      Other     2\n",
              "\n",
              "[496 rows x 6 columns]"
            ],
            "text/html": [
              "\n",
              "  <div id=\"df-ec99e0f1-37f6-401d-81e1-2dce5c2db0cf\">\n",
              "    <div class=\"colab-df-container\">\n",
              "      <div>\n",
              "<style scoped>\n",
              "    .dataframe tbody tr th:only-of-type {\n",
              "        vertical-align: middle;\n",
              "    }\n",
              "\n",
              "    .dataframe tbody tr th {\n",
              "        vertical-align: top;\n",
              "    }\n",
              "\n",
              "    .dataframe thead tr th {\n",
              "        text-align: left;\n",
              "    }\n",
              "</style>\n",
              "<table border=\"1\" class=\"dataframe\">\n",
              "  <thead>\n",
              "    <tr>\n",
              "      <th></th>\n",
              "      <th>Year</th>\n",
              "      <th>Race</th>\n",
              "      <th>Sex</th>\n",
              "      <th>Age</th>\n",
              "      <th>Crime_Type</th>\n",
              "      <th>Count</th>\n",
              "    </tr>\n",
              "  </thead>\n",
              "  <tbody>\n",
              "    <tr>\n",
              "      <th>0</th>\n",
              "      <td>2020</td>\n",
              "      <td>Asian</td>\n",
              "      <td>F</td>\n",
              "      <td>Aged 17 years and younger</td>\n",
              "      <td>Other</td>\n",
              "      <td>18</td>\n",
              "    </tr>\n",
              "    <tr>\n",
              "      <th>1</th>\n",
              "      <td>2020</td>\n",
              "      <td>Asian</td>\n",
              "      <td>F</td>\n",
              "      <td>Aged 17 years and younger</td>\n",
              "      <td>Property</td>\n",
              "      <td>38</td>\n",
              "    </tr>\n",
              "    <tr>\n",
              "      <th>2</th>\n",
              "      <td>2020</td>\n",
              "      <td>Asian</td>\n",
              "      <td>F</td>\n",
              "      <td>Aged 17 years and younger</td>\n",
              "      <td>Violent</td>\n",
              "      <td>6</td>\n",
              "    </tr>\n",
              "    <tr>\n",
              "      <th>3</th>\n",
              "      <td>2020</td>\n",
              "      <td>Asian</td>\n",
              "      <td>F</td>\n",
              "      <td>Aged 18 to 24 years</td>\n",
              "      <td>Other</td>\n",
              "      <td>35</td>\n",
              "    </tr>\n",
              "    <tr>\n",
              "      <th>4</th>\n",
              "      <td>2020</td>\n",
              "      <td>Asian</td>\n",
              "      <td>F</td>\n",
              "      <td>Aged 18 to 24 years</td>\n",
              "      <td>Property</td>\n",
              "      <td>74</td>\n",
              "    </tr>\n",
              "    <tr>\n",
              "      <th>...</th>\n",
              "      <td>...</td>\n",
              "      <td>...</td>\n",
              "      <td>...</td>\n",
              "      <td>...</td>\n",
              "      <td>...</td>\n",
              "      <td>...</td>\n",
              "    </tr>\n",
              "    <tr>\n",
              "      <th>491</th>\n",
              "      <td>2021</td>\n",
              "      <td>White</td>\n",
              "      <td>M</td>\n",
              "      <td>Aged 55 to 64 years</td>\n",
              "      <td>Violent</td>\n",
              "      <td>365</td>\n",
              "    </tr>\n",
              "    <tr>\n",
              "      <th>492</th>\n",
              "      <td>2021</td>\n",
              "      <td>White</td>\n",
              "      <td>M</td>\n",
              "      <td>Aged 65 years and older</td>\n",
              "      <td>Other</td>\n",
              "      <td>80</td>\n",
              "    </tr>\n",
              "    <tr>\n",
              "      <th>493</th>\n",
              "      <td>2021</td>\n",
              "      <td>White</td>\n",
              "      <td>M</td>\n",
              "      <td>Aged 65 years and older</td>\n",
              "      <td>Property</td>\n",
              "      <td>85</td>\n",
              "    </tr>\n",
              "    <tr>\n",
              "      <th>494</th>\n",
              "      <td>2021</td>\n",
              "      <td>White</td>\n",
              "      <td>M</td>\n",
              "      <td>Aged 65 years and older</td>\n",
              "      <td>Violent</td>\n",
              "      <td>129</td>\n",
              "    </tr>\n",
              "    <tr>\n",
              "      <th>495</th>\n",
              "      <td>2021</td>\n",
              "      <td>White</td>\n",
              "      <td>U</td>\n",
              "      <td>Aged 25 to 34 years</td>\n",
              "      <td>Other</td>\n",
              "      <td>2</td>\n",
              "    </tr>\n",
              "  </tbody>\n",
              "</table>\n",
              "<p>496 rows × 6 columns</p>\n",
              "</div>\n",
              "      <button class=\"colab-df-convert\" onclick=\"convertToInteractive('df-ec99e0f1-37f6-401d-81e1-2dce5c2db0cf')\"\n",
              "              title=\"Convert this dataframe to an interactive table.\"\n",
              "              style=\"display:none;\">\n",
              "        \n",
              "  <svg xmlns=\"http://www.w3.org/2000/svg\" height=\"24px\"viewBox=\"0 0 24 24\"\n",
              "       width=\"24px\">\n",
              "    <path d=\"M0 0h24v24H0V0z\" fill=\"none\"/>\n",
              "    <path d=\"M18.56 5.44l.94 2.06.94-2.06 2.06-.94-2.06-.94-.94-2.06-.94 2.06-2.06.94zm-11 1L8.5 8.5l.94-2.06 2.06-.94-2.06-.94L8.5 2.5l-.94 2.06-2.06.94zm10 10l.94 2.06.94-2.06 2.06-.94-2.06-.94-.94-2.06-.94 2.06-2.06.94z\"/><path d=\"M17.41 7.96l-1.37-1.37c-.4-.4-.92-.59-1.43-.59-.52 0-1.04.2-1.43.59L10.3 9.45l-7.72 7.72c-.78.78-.78 2.05 0 2.83L4 21.41c.39.39.9.59 1.41.59.51 0 1.02-.2 1.41-.59l7.78-7.78 2.81-2.81c.8-.78.8-2.07 0-2.86zM5.41 20L4 18.59l7.72-7.72 1.47 1.35L5.41 20z\"/>\n",
              "  </svg>\n",
              "      </button>\n",
              "      \n",
              "  <style>\n",
              "    .colab-df-container {\n",
              "      display:flex;\n",
              "      flex-wrap:wrap;\n",
              "      gap: 12px;\n",
              "    }\n",
              "\n",
              "    .colab-df-convert {\n",
              "      background-color: #E8F0FE;\n",
              "      border: none;\n",
              "      border-radius: 50%;\n",
              "      cursor: pointer;\n",
              "      display: none;\n",
              "      fill: #1967D2;\n",
              "      height: 32px;\n",
              "      padding: 0 0 0 0;\n",
              "      width: 32px;\n",
              "    }\n",
              "\n",
              "    .colab-df-convert:hover {\n",
              "      background-color: #E2EBFA;\n",
              "      box-shadow: 0px 1px 2px rgba(60, 64, 67, 0.3), 0px 1px 3px 1px rgba(60, 64, 67, 0.15);\n",
              "      fill: #174EA6;\n",
              "    }\n",
              "\n",
              "    [theme=dark] .colab-df-convert {\n",
              "      background-color: #3B4455;\n",
              "      fill: #D2E3FC;\n",
              "    }\n",
              "\n",
              "    [theme=dark] .colab-df-convert:hover {\n",
              "      background-color: #434B5C;\n",
              "      box-shadow: 0px 1px 3px 1px rgba(0, 0, 0, 0.15);\n",
              "      filter: drop-shadow(0px 1px 2px rgba(0, 0, 0, 0.3));\n",
              "      fill: #FFFFFF;\n",
              "    }\n",
              "  </style>\n",
              "\n",
              "      <script>\n",
              "        const buttonEl =\n",
              "          document.querySelector('#df-ec99e0f1-37f6-401d-81e1-2dce5c2db0cf button.colab-df-convert');\n",
              "        buttonEl.style.display =\n",
              "          google.colab.kernel.accessAllowed ? 'block' : 'none';\n",
              "\n",
              "        async function convertToInteractive(key) {\n",
              "          const element = document.querySelector('#df-ec99e0f1-37f6-401d-81e1-2dce5c2db0cf');\n",
              "          const dataTable =\n",
              "            await google.colab.kernel.invokeFunction('convertToInteractive',\n",
              "                                                     [key], {});\n",
              "          if (!dataTable) return;\n",
              "\n",
              "          const docLinkHtml = 'Like what you see? Visit the ' +\n",
              "            '<a target=\"_blank\" href=https://colab.research.google.com/notebooks/data_table.ipynb>data table notebook</a>'\n",
              "            + ' to learn more about interactive tables.';\n",
              "          element.innerHTML = '';\n",
              "          dataTable['output_type'] = 'display_data';\n",
              "          await google.colab.output.renderOutput(dataTable, element);\n",
              "          const docLink = document.createElement('div');\n",
              "          docLink.innerHTML = docLinkHtml;\n",
              "          element.appendChild(docLink);\n",
              "        }\n",
              "      </script>\n",
              "    </div>\n",
              "  </div>\n",
              "  "
            ]
          },
          "metadata": {},
          "execution_count": 7
        }
      ]
    },
    {
      "cell_type": "code",
      "source": [
        "df1=df[df.Strip == 1]\n",
        "a=df1.groupby(['Year','Race','Sex','Age','Crime_Type'],as_index=False).count()\n",
        "df2=df[df.Strip == 0]\n",
        "b=df2.groupby(['Year','Race','Sex','Age','Crime_Type'],as_index=False).count()\n",
        "c=df.groupby(['Year','Race','Sex','Age','Crime_Type'],as_index=False).count()"
      ],
      "metadata": {
        "id": "8HUhOn94kTVk"
      },
      "execution_count": null,
      "outputs": []
    },
    {
      "cell_type": "code",
      "source": [
        "d=pd.merge(a, b, how=\"outer\", on=['Year','Race','Sex','Age','Crime_Type'])\n",
        "df_res = pd.merge(c,d, how=\"outer\", on=['Year','Race','Sex','Age','Crime_Type'])\n",
        "df_res.columns = ['Year','Race','Sex','Age','Crime_Type','Count','StripYesCount','StripNoCount']\n",
        "df_res['StripYesCount'] = df_res['StripYesCount'].fillna(0)\n",
        "df_res['StripNoCount'] = df_res['StripNoCount'].fillna(0)\n",
        "df_res['Strip_prop'] = df_res['StripYesCount']/df_res['Count']\n",
        "df_res"
      ],
      "metadata": {
        "colab": {
          "base_uri": "https://localhost:8080/",
          "height": 424
        },
        "id": "9YR9DHAcm3A8",
        "outputId": "36f4de7f-fc89-4e4b-99f1-3ff1abfe87e9"
      },
      "execution_count": null,
      "outputs": [
        {
          "output_type": "execute_result",
          "data": {
            "text/plain": [
              "     Year   Race Sex                        Age Crime_Type  Count  \\\n",
              "0    2020  Asian   F  Aged 17 years and younger      Other     18   \n",
              "1    2020  Asian   F  Aged 17 years and younger   Property     38   \n",
              "2    2020  Asian   F  Aged 17 years and younger    Violent      6   \n",
              "3    2020  Asian   F        Aged 18 to 24 years      Other     35   \n",
              "4    2020  Asian   F        Aged 18 to 24 years   Property     74   \n",
              "..    ...    ...  ..                        ...        ...    ...   \n",
              "491  2021  White   M        Aged 55 to 64 years    Violent    365   \n",
              "492  2021  White   M    Aged 65 years and older      Other     80   \n",
              "493  2021  White   M    Aged 65 years and older   Property     85   \n",
              "494  2021  White   M    Aged 65 years and older    Violent    129   \n",
              "495  2021  White   U        Aged 25 to 34 years      Other      2   \n",
              "\n",
              "     StripYesCount  StripNoCount  Strip_prop  \n",
              "0              2.0          16.0    0.111111  \n",
              "1              0.0          38.0    0.000000  \n",
              "2              0.0           6.0    0.000000  \n",
              "3              6.0          29.0    0.171429  \n",
              "4              3.0          71.0    0.040541  \n",
              "..             ...           ...         ...  \n",
              "491            3.0         362.0    0.008219  \n",
              "492            2.0          78.0    0.025000  \n",
              "493            0.0          85.0    0.000000  \n",
              "494            1.0         128.0    0.007752  \n",
              "495            0.0           2.0    0.000000  \n",
              "\n",
              "[496 rows x 9 columns]"
            ],
            "text/html": [
              "\n",
              "  <div id=\"df-84bdecd1-66fb-49a7-8263-79d7119e6eab\">\n",
              "    <div class=\"colab-df-container\">\n",
              "      <div>\n",
              "<style scoped>\n",
              "    .dataframe tbody tr th:only-of-type {\n",
              "        vertical-align: middle;\n",
              "    }\n",
              "\n",
              "    .dataframe tbody tr th {\n",
              "        vertical-align: top;\n",
              "    }\n",
              "\n",
              "    .dataframe thead th {\n",
              "        text-align: right;\n",
              "    }\n",
              "</style>\n",
              "<table border=\"1\" class=\"dataframe\">\n",
              "  <thead>\n",
              "    <tr style=\"text-align: right;\">\n",
              "      <th></th>\n",
              "      <th>Year</th>\n",
              "      <th>Race</th>\n",
              "      <th>Sex</th>\n",
              "      <th>Age</th>\n",
              "      <th>Crime_Type</th>\n",
              "      <th>Count</th>\n",
              "      <th>StripYesCount</th>\n",
              "      <th>StripNoCount</th>\n",
              "      <th>Strip_prop</th>\n",
              "    </tr>\n",
              "  </thead>\n",
              "  <tbody>\n",
              "    <tr>\n",
              "      <th>0</th>\n",
              "      <td>2020</td>\n",
              "      <td>Asian</td>\n",
              "      <td>F</td>\n",
              "      <td>Aged 17 years and younger</td>\n",
              "      <td>Other</td>\n",
              "      <td>18</td>\n",
              "      <td>2.0</td>\n",
              "      <td>16.0</td>\n",
              "      <td>0.111111</td>\n",
              "    </tr>\n",
              "    <tr>\n",
              "      <th>1</th>\n",
              "      <td>2020</td>\n",
              "      <td>Asian</td>\n",
              "      <td>F</td>\n",
              "      <td>Aged 17 years and younger</td>\n",
              "      <td>Property</td>\n",
              "      <td>38</td>\n",
              "      <td>0.0</td>\n",
              "      <td>38.0</td>\n",
              "      <td>0.000000</td>\n",
              "    </tr>\n",
              "    <tr>\n",
              "      <th>2</th>\n",
              "      <td>2020</td>\n",
              "      <td>Asian</td>\n",
              "      <td>F</td>\n",
              "      <td>Aged 17 years and younger</td>\n",
              "      <td>Violent</td>\n",
              "      <td>6</td>\n",
              "      <td>0.0</td>\n",
              "      <td>6.0</td>\n",
              "      <td>0.000000</td>\n",
              "    </tr>\n",
              "    <tr>\n",
              "      <th>3</th>\n",
              "      <td>2020</td>\n",
              "      <td>Asian</td>\n",
              "      <td>F</td>\n",
              "      <td>Aged 18 to 24 years</td>\n",
              "      <td>Other</td>\n",
              "      <td>35</td>\n",
              "      <td>6.0</td>\n",
              "      <td>29.0</td>\n",
              "      <td>0.171429</td>\n",
              "    </tr>\n",
              "    <tr>\n",
              "      <th>4</th>\n",
              "      <td>2020</td>\n",
              "      <td>Asian</td>\n",
              "      <td>F</td>\n",
              "      <td>Aged 18 to 24 years</td>\n",
              "      <td>Property</td>\n",
              "      <td>74</td>\n",
              "      <td>3.0</td>\n",
              "      <td>71.0</td>\n",
              "      <td>0.040541</td>\n",
              "    </tr>\n",
              "    <tr>\n",
              "      <th>...</th>\n",
              "      <td>...</td>\n",
              "      <td>...</td>\n",
              "      <td>...</td>\n",
              "      <td>...</td>\n",
              "      <td>...</td>\n",
              "      <td>...</td>\n",
              "      <td>...</td>\n",
              "      <td>...</td>\n",
              "      <td>...</td>\n",
              "    </tr>\n",
              "    <tr>\n",
              "      <th>491</th>\n",
              "      <td>2021</td>\n",
              "      <td>White</td>\n",
              "      <td>M</td>\n",
              "      <td>Aged 55 to 64 years</td>\n",
              "      <td>Violent</td>\n",
              "      <td>365</td>\n",
              "      <td>3.0</td>\n",
              "      <td>362.0</td>\n",
              "      <td>0.008219</td>\n",
              "    </tr>\n",
              "    <tr>\n",
              "      <th>492</th>\n",
              "      <td>2021</td>\n",
              "      <td>White</td>\n",
              "      <td>M</td>\n",
              "      <td>Aged 65 years and older</td>\n",
              "      <td>Other</td>\n",
              "      <td>80</td>\n",
              "      <td>2.0</td>\n",
              "      <td>78.0</td>\n",
              "      <td>0.025000</td>\n",
              "    </tr>\n",
              "    <tr>\n",
              "      <th>493</th>\n",
              "      <td>2021</td>\n",
              "      <td>White</td>\n",
              "      <td>M</td>\n",
              "      <td>Aged 65 years and older</td>\n",
              "      <td>Property</td>\n",
              "      <td>85</td>\n",
              "      <td>0.0</td>\n",
              "      <td>85.0</td>\n",
              "      <td>0.000000</td>\n",
              "    </tr>\n",
              "    <tr>\n",
              "      <th>494</th>\n",
              "      <td>2021</td>\n",
              "      <td>White</td>\n",
              "      <td>M</td>\n",
              "      <td>Aged 65 years and older</td>\n",
              "      <td>Violent</td>\n",
              "      <td>129</td>\n",
              "      <td>1.0</td>\n",
              "      <td>128.0</td>\n",
              "      <td>0.007752</td>\n",
              "    </tr>\n",
              "    <tr>\n",
              "      <th>495</th>\n",
              "      <td>2021</td>\n",
              "      <td>White</td>\n",
              "      <td>U</td>\n",
              "      <td>Aged 25 to 34 years</td>\n",
              "      <td>Other</td>\n",
              "      <td>2</td>\n",
              "      <td>0.0</td>\n",
              "      <td>2.0</td>\n",
              "      <td>0.000000</td>\n",
              "    </tr>\n",
              "  </tbody>\n",
              "</table>\n",
              "<p>496 rows × 9 columns</p>\n",
              "</div>\n",
              "      <button class=\"colab-df-convert\" onclick=\"convertToInteractive('df-84bdecd1-66fb-49a7-8263-79d7119e6eab')\"\n",
              "              title=\"Convert this dataframe to an interactive table.\"\n",
              "              style=\"display:none;\">\n",
              "        \n",
              "  <svg xmlns=\"http://www.w3.org/2000/svg\" height=\"24px\"viewBox=\"0 0 24 24\"\n",
              "       width=\"24px\">\n",
              "    <path d=\"M0 0h24v24H0V0z\" fill=\"none\"/>\n",
              "    <path d=\"M18.56 5.44l.94 2.06.94-2.06 2.06-.94-2.06-.94-.94-2.06-.94 2.06-2.06.94zm-11 1L8.5 8.5l.94-2.06 2.06-.94-2.06-.94L8.5 2.5l-.94 2.06-2.06.94zm10 10l.94 2.06.94-2.06 2.06-.94-2.06-.94-.94-2.06-.94 2.06-2.06.94z\"/><path d=\"M17.41 7.96l-1.37-1.37c-.4-.4-.92-.59-1.43-.59-.52 0-1.04.2-1.43.59L10.3 9.45l-7.72 7.72c-.78.78-.78 2.05 0 2.83L4 21.41c.39.39.9.59 1.41.59.51 0 1.02-.2 1.41-.59l7.78-7.78 2.81-2.81c.8-.78.8-2.07 0-2.86zM5.41 20L4 18.59l7.72-7.72 1.47 1.35L5.41 20z\"/>\n",
              "  </svg>\n",
              "      </button>\n",
              "      \n",
              "  <style>\n",
              "    .colab-df-container {\n",
              "      display:flex;\n",
              "      flex-wrap:wrap;\n",
              "      gap: 12px;\n",
              "    }\n",
              "\n",
              "    .colab-df-convert {\n",
              "      background-color: #E8F0FE;\n",
              "      border: none;\n",
              "      border-radius: 50%;\n",
              "      cursor: pointer;\n",
              "      display: none;\n",
              "      fill: #1967D2;\n",
              "      height: 32px;\n",
              "      padding: 0 0 0 0;\n",
              "      width: 32px;\n",
              "    }\n",
              "\n",
              "    .colab-df-convert:hover {\n",
              "      background-color: #E2EBFA;\n",
              "      box-shadow: 0px 1px 2px rgba(60, 64, 67, 0.3), 0px 1px 3px 1px rgba(60, 64, 67, 0.15);\n",
              "      fill: #174EA6;\n",
              "    }\n",
              "\n",
              "    [theme=dark] .colab-df-convert {\n",
              "      background-color: #3B4455;\n",
              "      fill: #D2E3FC;\n",
              "    }\n",
              "\n",
              "    [theme=dark] .colab-df-convert:hover {\n",
              "      background-color: #434B5C;\n",
              "      box-shadow: 0px 1px 3px 1px rgba(0, 0, 0, 0.15);\n",
              "      filter: drop-shadow(0px 1px 2px rgba(0, 0, 0, 0.3));\n",
              "      fill: #FFFFFF;\n",
              "    }\n",
              "  </style>\n",
              "\n",
              "      <script>\n",
              "        const buttonEl =\n",
              "          document.querySelector('#df-84bdecd1-66fb-49a7-8263-79d7119e6eab button.colab-df-convert');\n",
              "        buttonEl.style.display =\n",
              "          google.colab.kernel.accessAllowed ? 'block' : 'none';\n",
              "\n",
              "        async function convertToInteractive(key) {\n",
              "          const element = document.querySelector('#df-84bdecd1-66fb-49a7-8263-79d7119e6eab');\n",
              "          const dataTable =\n",
              "            await google.colab.kernel.invokeFunction('convertToInteractive',\n",
              "                                                     [key], {});\n",
              "          if (!dataTable) return;\n",
              "\n",
              "          const docLinkHtml = 'Like what you see? Visit the ' +\n",
              "            '<a target=\"_blank\" href=https://colab.research.google.com/notebooks/data_table.ipynb>data table notebook</a>'\n",
              "            + ' to learn more about interactive tables.';\n",
              "          element.innerHTML = '';\n",
              "          dataTable['output_type'] = 'display_data';\n",
              "          await google.colab.output.renderOutput(dataTable, element);\n",
              "          const docLink = document.createElement('div');\n",
              "          docLink.innerHTML = docLinkHtml;\n",
              "          element.appendChild(docLink);\n",
              "        }\n",
              "      </script>\n",
              "    </div>\n",
              "  </div>\n",
              "  "
            ]
          },
          "metadata": {},
          "execution_count": 9
        }
      ]
    },
    {
      "cell_type": "markdown",
      "source": [
        "## EDA"
      ],
      "metadata": {
        "id": "6IKPGIDR3Yyu"
      }
    },
    {
      "cell_type": "markdown",
      "source": [
        "Race Descriptive Statistics"
      ],
      "metadata": {
        "id": "EoPIx3mLNRj7"
      }
    },
    {
      "cell_type": "code",
      "source": [
        "plot1 = dataset['Perceived_Race'].value_counts().plot(kind ='bar', title = 'Strip Search Count by Race', rot= 45, color = 'darkseagreen')\n",
        "plot1.set_xlabel(\"Race\")\n",
        "plot1.set_ylabel(\"Strip Search Count\")"
      ],
      "metadata": {
        "colab": {
          "base_uri": "https://localhost:8080/",
          "height": 385
        },
        "id": "UWMsX_fi3YNv",
        "outputId": "77c52396-dfb7-4bdf-aa4a-84506ce4014c"
      },
      "execution_count": null,
      "outputs": [
        {
          "output_type": "execute_result",
          "data": {
            "text/plain": [
              "Text(0, 0.5, 'Strip Search Count')"
            ]
          },
          "metadata": {},
          "execution_count": 10
        },
        {
          "output_type": "display_data",
          "data": {
            "text/plain": [
              "<Figure size 432x288 with 1 Axes>"
            ],
            "image/png": "[encoded data removed]"
          },
          "metadata": {
            "needs_background": "light"
          }
        }
      ]
    },
    {
      "cell_type": "code",
      "source": [
        "plot2 = sns.catplot(data=df_res, kind=\"bar\", x=\"Race\", \n",
        "                    y=\"Count\", height = 5, aspect = 2,   \n",
        "                    palette=sns.color_palette (['darkseagreen','royalblue', 'salmon', 'yellow','navajowhite', 'thistle'] ) )\n",
        "plot2.set_axis_labels('Race', 'Strip Search Count')\n",
        "plot2.fig.suptitle('Strip Search Counts by Race', fontsize = 15)\n"
      ],
      "metadata": {
        "colab": {
          "base_uri": "https://localhost:8080/",
          "height": 391
        },
        "id": "Q8GZ4EsNBJcC",
        "outputId": "5461e6ad-6278-41b9-dc77-9091064effcb"
      },
      "execution_count": null,
      "outputs": [
        {
          "output_type": "execute_result",
          "data": {
            "text/plain": [
              "Text(0.5, 0.98, 'Strip Search Counts by Race')"
            ]
          },
          "metadata": {},
          "execution_count": 11
        },
        {
          "output_type": "display_data",
          "data": {
            "text/plain": [
              "<Figure size 720x360 with 1 Axes>"
            ],
            "image/png": "[encoded data removed]"
          },
          "metadata": {
            "needs_background": "light"
          }
        }
      ]
    },
    {
      "cell_type": "code",
      "source": [
        "plot2 = sns.catplot(data=df_res, kind=\"bar\", x=\"Race\", \n",
        "                    y=\"Strip_prop\", height = 5, aspect = 2, \n",
        "                    palette=sns.color_palette (['darkseagreen','royalblue', 'salmon', 'yellow','navajowhite', 'thistle'] ))\n",
        "plot2.set_axis_labels('Race', 'Proportion of Strip Search')\n",
        "plot2.fig.suptitle('Proportion of Strip Search by Race', fontsize = 15)"
      ],
      "metadata": {
        "colab": {
          "base_uri": "https://localhost:8080/",
          "height": 391
        },
        "id": "keNt4FrrOMPe",
        "outputId": "d5cfb097-9157-4b13-e79a-ac5b6f0e4463"
      },
      "execution_count": null,
      "outputs": [
        {
          "output_type": "execute_result",
          "data": {
            "text/plain": [
              "Text(0.5, 0.98, 'Proportion of Strip Search by Race')"
            ]
          },
          "metadata": {},
          "execution_count": 12
        },
        {
          "output_type": "display_data",
          "data": {
            "text/plain": [
              "<Figure size 720x360 with 1 Axes>"
            ],
            "image/png": "[encoded data removed]"
          },
          "metadata": {
            "needs_background": "light"
          }
        }
      ]
    },
    {
      "cell_type": "code",
      "source": [
        "#counts means and std\n",
        "White = df_res[(df_res['Race'] == 'White')]\n",
        "Unknown = df_res[(df_res['Race'] == 'Unknown or Legacy')]\n",
        "Black = df_res[(df_res['Race'] == 'Black')]\n",
        "Latino = df_res[(df_res['Race'] == 'Latino')]\n",
        "Indigenous = df_res[(df_res['Race'] == 'Indigenous')]\n",
        "Asian = df_res[(df_res['Race'] == 'Asian')]\n",
        "\n",
        "race_stat = [Asian, Black, Indigenous, Latino, Unknown, White]\n",
        "std_race = []\n",
        "mean_race = []\n",
        "\n",
        "for i in range (len (df_res['Race'].unique())): \n",
        "  std_race.append(race_stat[i]['Count'].std())\n",
        "  mean_race.append (race_stat[i]['Count'].mean() )\n",
        "\n",
        "#combine them together to become a dataframe \n",
        "df_race = pd.DataFrame ({'Race': df_res['Race'].unique(), 'Mean': mean_race, \"Std\": std_race})\n",
        "\n",
        "print(tabulate(df_race.round(2), headers='keys', tablefmt='psql'))\n"
      ],
      "metadata": {
        "colab": {
          "base_uri": "https://localhost:8080/"
        },
        "id": "aQwCzI1IULfO",
        "outputId": "d8cdca79-1615-4dd1-8e0c-954478fd951f"
      },
      "execution_count": null,
      "outputs": [
        {
          "output_type": "stream",
          "name": "stdout",
          "text": [
            "+----+-------------------+--------+--------+\n",
            "|    | Race              |   Mean |    Std |\n",
            "|----+-------------------+--------+--------|\n",
            "|  0 | Asian             | 133.71 | 153.85 |\n",
            "|  1 | Black             | 208.18 | 259.63 |\n",
            "|  2 | Indigenous        |  25.34 |  27.03 |\n",
            "|  3 | Latino            |  22.27 |  28.11 |\n",
            "|  4 | Unknown or Legacy |  58.65 |  64.8  |\n",
            "|  5 | White             | 317.64 | 338.46 |\n",
            "+----+-------------------+--------+--------+\n"
          ]
        }
      ]
    },
    {
      "cell_type": "code",
      "source": [
        "#proportion means and std\n",
        "\n",
        "race_stat = [Asian, Black, Indigenous, Latino, Unknown, White]\n",
        "std_prop_race = []\n",
        "mean_prop_race = []\n",
        "sum_race = []\n",
        "count_race = []\n",
        "\n",
        "for i in range (len (df_res['Race'].unique())): \n",
        "  std_prop_race.append(race_stat[i]['Strip_prop'].std())\n",
        "  mean_prop_race.append (race_stat[i]['Strip_prop'].mean() )\n",
        "  sum_race.append (race_stat[i]['StripYesCount'].sum())\n",
        "  count_race.append (race_stat[i]['Count'].sum())\n",
        "\n",
        "#combine them together to become a dataframe \n",
        "df_prop_race = pd.DataFrame ({'Race': df_res['Race'].unique(), 'Mean Proportion': mean_prop_race, \n",
        "                              \"Std Proportion\": std_prop_race,\n",
        "                              'Strip Searches per Race': sum_race, 'Total Arrests': count_race})\n",
        "\n",
        "print(tabulate(df_prop_race.round(3), headers='keys', tablefmt='psql'))"
      ],
      "metadata": {
        "colab": {
          "base_uri": "https://localhost:8080/"
        },
        "id": "KL04SrSbaJrI",
        "outputId": "d43e65b4-e35b-4b6d-9e1a-126d423846bf"
      },
      "execution_count": null,
      "outputs": [
        {
          "output_type": "stream",
          "name": "stdout",
          "text": [
            "+----+-------------------+-------------------+------------------+---------------------------+-----------------+\n",
            "|    | Race              |   Mean Proportion |   Std Proportion |   Strip Searches per Race |   Total Arrests |\n",
            "|----+-------------------+-------------------+------------------+---------------------------+-----------------|\n",
            "|  0 | Asian             |             0.058 |            0.073 |                       826 |           11232 |\n",
            "|  1 | Black             |             0.096 |            0.114 |                      2434 |           17487 |\n",
            "|  2 | Indigenous        |             0.134 |            0.179 |                       306 |            1926 |\n",
            "|  3 | Latino            |             0.081 |            0.162 |                       132 |            1759 |\n",
            "|  4 | Unknown or Legacy |             0.077 |            0.106 |                       535 |            5044 |\n",
            "|  5 | White             |             0.095 |            0.106 |                      3566 |           27635 |\n",
            "+----+-------------------+-------------------+------------------+---------------------------+-----------------+\n"
          ]
        }
      ]
    },
    {
      "cell_type": "markdown",
      "source": [
        "Crime_Type Descriptive Statistics "
      ],
      "metadata": {
        "id": "zfyXCFxhTmEZ"
      }
    },
    {
      "cell_type": "code",
      "source": [
        "plot5 = dataset['Occurrence_Category'].value_counts().plot(kind= 'bar', rot = 90, title = 'Strip Search Count by Crime Type',color = 'darkseagreen')\n",
        "plot5.set_xlabel(\"Crime Type\")\n",
        "plot5.set_ylabel(\"Strip Search Count\")"
      ],
      "metadata": {
        "colab": {
          "base_uri": "https://localhost:8080/",
          "height": 551
        },
        "id": "m89WmGfk3zRh",
        "outputId": "6f52973a-b609-4086-a50b-5ceed8cc22d1"
      },
      "execution_count": null,
      "outputs": [
        {
          "output_type": "execute_result",
          "data": {
            "text/plain": [
              "Text(0, 0.5, 'Strip Search Count')"
            ]
          },
          "metadata": {},
          "execution_count": 15
        },
        {
          "output_type": "display_data",
          "data": {
            "text/plain": [
              "<Figure size 432x288 with 1 Axes>"
            ],
            "image/png": "[encoded data removed]"
          },
          "metadata": {
            "needs_background": "light"
          }
        }
      ]
    },
    {
      "cell_type": "code",
      "source": [
        "plot3= sns.catplot(data=df_res, kind=\"bar\", x=\"Crime_Type\", y=\"Strip_prop\", height = 5, \n",
        "                   aspect = 2, \n",
        "                   palette=sns.color_palette (['darkseagreen','royalblue', 'salmon'] ) )\n",
        "\n",
        "plot3.set_axis_labels('Crime Type', 'Proportion of Strip Search')\n",
        "plot3.fig.suptitle('Proportion of Strip Search by Crime Type', fontsize = 15)"
      ],
      "metadata": {
        "colab": {
          "base_uri": "https://localhost:8080/",
          "height": 390
        },
        "id": "IvY1ISnTOoxq",
        "outputId": "a3746c50-c69c-4c94-a5b5-fb9f691c77b6"
      },
      "execution_count": null,
      "outputs": [
        {
          "output_type": "execute_result",
          "data": {
            "text/plain": [
              "Text(0.5, 0.98, 'Proportion of Strip Search by Crime Type')"
            ]
          },
          "metadata": {},
          "execution_count": 16
        },
        {
          "output_type": "display_data",
          "data": {
            "text/plain": [
              "<Figure size 720x360 with 1 Axes>"
            ],
            "image/png": "[encoded data removed]"
          },
          "metadata": {
            "needs_background": "light"
          }
        }
      ]
    },
    {
      "cell_type": "code",
      "source": [
        "#mean and standard deviations\n",
        "\n",
        "Other = df_res[(df_res['Crime_Type'] == 'Other')]\n",
        "Property = df_res[(df_res['Crime_Type'] == 'Property')]\n",
        "Violent = df_res[(df_res['Crime_Type'] == 'Violent')]\n",
        "\n",
        "crime_stat = [Other, Property, Violent]\n",
        "std_crime = []\n",
        "mean_crime = []\n",
        "sum_crime = []\n",
        "count_crime = []\n",
        "for i in range (len (df_res['Crime_Type'].unique())): \n",
        "  std_crime.append(crime_stat[i]['Strip_prop'].std())\n",
        "  mean_crime.append (crime_stat[i]['Strip_prop'].mean())\n",
        "  sum_crime.append (crime_stat[i]['StripYesCount'].sum())\n",
        "  count_crime.append (crime_stat[i]['Count'].sum())\n",
        "\n",
        "#combine them together to become a dataframe \n",
        "\n",
        "\n",
        "df_crime = pd.DataFrame ({'Crime Type': df_res['Crime_Type'].unique(), \n",
        "                          'Mean': mean_crime, \"Std\": std_crime,\n",
        "                          'Total Strip Searches': sum_crime,\n",
        "                          'Total Arrests:': count_crime})\n",
        "\n",
        "print(tabulate(df_crime.round(3), headers='keys', tablefmt='psql'))\n"
      ],
      "metadata": {
        "colab": {
          "base_uri": "https://localhost:8080/"
        },
        "id": "blRYaznoLSmO",
        "outputId": "e44fbfc3-2056-4ca9-f312-01c032dbc12f"
      },
      "execution_count": null,
      "outputs": [
        {
          "output_type": "stream",
          "name": "stdout",
          "text": [
            "+----+--------------+--------+-------+------------------------+------------------+\n",
            "|    | Crime Type   |   Mean |   Std |   Total Strip Searches |   Total Arrests: |\n",
            "|----+--------------+--------+-------+------------------------+------------------|\n",
            "|  0 | Other        |  0.113 | 0.138 |                   3401 |            23806 |\n",
            "|  1 | Property     |  0.061 | 0.097 |                   1714 |            17748 |\n",
            "|  2 | Violent      |  0.096 | 0.142 |                   2684 |            23529 |\n",
            "+----+--------------+--------+-------+------------------------+------------------+\n"
          ]
        }
      ]
    },
    {
      "cell_type": "code",
      "source": [
        "#grouped by race showing crime type \n",
        "plot4 = sns.catplot (kind = 'bar', data = df_res, x = 'Race',\n",
        "                    y = 'Strip_prop', col= 'Crime_Type',                      \n",
        "                    height = 5 ,aspect = 0.7, \n",
        "                    palette=sns.color_palette (['darkseagreen','royalblue', 'salmon', 'yellow','navajowhite', 'thistle']))\n",
        "\n",
        "\n",
        "plot4.set_axis_labels('Crime Type', 'Proportion of Strip Search')\n",
        "plot4.set_xticklabels(rotation=90)\n",
        "plot4.fig.suptitle('Proportion of Strip Search by Crime Type', fontsize = 15,y=1.1)\n",
        "plot4.set_titles(\"{col_name}\")\n",
        "plot4.despine(left=True)"
      ],
      "metadata": {
        "colab": {
          "base_uri": "https://localhost:8080/",
          "height": 522
        },
        "id": "Z9lFLd43Y-bA",
        "outputId": "9dc945bd-f4bb-42fd-f320-032d64359ddb"
      },
      "execution_count": null,
      "outputs": [
        {
          "output_type": "execute_result",
          "data": {
            "text/plain": [
              "<seaborn.axisgrid.FacetGrid at 0x7fa2875e22b0>"
            ]
          },
          "metadata": {},
          "execution_count": 19
        },
        {
          "output_type": "display_data",
          "data": {
            "text/plain": [
              "<Figure size 756x360 with 3 Axes>"
            ],
            "image/png": "[encoded data removed]"
          },
          "metadata": {
            "needs_background": "light"
          }
        }
      ]
    },
    {
      "cell_type": "markdown",
      "source": [
        "### Histogram for `Count`"
      ],
      "metadata": {
        "id": "ZXpZIECL4Rog"
      }
    },
    {
      "cell_type": "code",
      "source": [
        "#plt.hist(df_res['Count'])\n",
        "#plt.show() \n",
        "\n",
        "ax = df_res.hist(column = 'Count', grid = False, color = 'darkseagreen' )\n"
      ],
      "metadata": {
        "id": "9QZbRxL837K_",
        "colab": {
          "base_uri": "https://localhost:8080/",
          "height": 281
        },
        "outputId": "20aeceb9-8ac6-4674-9d10-b239602a0049"
      },
      "execution_count": null,
      "outputs": [
        {
          "output_type": "display_data",
          "data": {
            "text/plain": [
              "<Figure size 432x288 with 1 Axes>"
            ],
            "image/png": "[encoded data removed]"
          },
          "metadata": {
            "needs_background": "light"
          }
        }
      ]
    },
    {
      "cell_type": "markdown",
      "source": [
        "### T-tests"
      ],
      "metadata": {
        "id": "A4pIj5M043R5"
      }
    },
    {
      "cell_type": "markdown",
      "source": [
        "Testing for assumptions using Welch's Test. Because the data is not necessarily continous, it might not show that it passes all assumptions. "
      ],
      "metadata": {
        "id": "clA214QDH3Ig"
      }
    },
    {
      "cell_type": "markdown",
      "source": [
        "t-tests for **race**"
      ],
      "metadata": {
        "id": "buZJIHtbiGxY"
      }
    },
    {
      "cell_type": "code",
      "source": [
        "#Race Shapiro-Wilk; Test for Normalization \n",
        "shapiro_table = []\n",
        "for i in range (len (df_res['Race'].unique())):\n",
        "  temp = stats.shapiro (race_stat[i]['Strip_prop'])\n",
        "  sig = \"Accept\"\n",
        "  if temp[1] < 0.05: \n",
        "    sig = \"Reject\"\n",
        "  shapiro_table.append ([temp[0], temp[1], sig])\n",
        "\n",
        "shapiro_table = pd.DataFrame (shapiro_table)\n",
        "shapiro_table.insert(0, 'Race',df_res['Race'].unique())\n",
        "shapiro_table.columns = ['Race','Statistic', 'P-Value', 'H0']\n",
        "print (\"Test of Data Normalization for Race Groups:\",\"\\n\",tabulate (shapiro_table, headers = 'keys', tablefmt='psql'))"
      ],
      "metadata": {
        "id": "3_JkMS5GqD4T",
        "colab": {
          "base_uri": "https://localhost:8080/"
        },
        "outputId": "5427f76d-b626-408c-a526-f555395887cf"
      },
      "execution_count": null,
      "outputs": [
        {
          "output_type": "stream",
          "name": "stdout",
          "text": [
            "Test of Data Normalization for Race Groups: \n",
            " +----+-------------------+-------------+-------------+--------+\n",
            "|    | Race              |   Statistic |     P-Value | H0     |\n",
            "|----+-------------------+-------------+-------------+--------|\n",
            "|  0 | Asian             |    0.791636 | 1.4847e-09  | Reject |\n",
            "|  1 | Black             |    0.785485 | 1.0037e-09  | Reject |\n",
            "|  2 | Indigenous        |    0.770801 | 1.52535e-09 | Reject |\n",
            "|  3 | Latino            |    0.56353  | 5.78918e-14 | Reject |\n",
            "|  4 | Unknown or Legacy |    0.760972 | 1.63082e-10 | Reject |\n",
            "|  5 | White             |    0.804897 | 2.26113e-09 | Reject |\n",
            "+----+-------------------+-------------+-------------+--------+\n"
          ]
        }
      ]
    },
    {
      "cell_type": "markdown",
      "source": [
        "As expected, all the race groups do not have a normalized distribution "
      ],
      "metadata": {
        "id": "ttoBgxj7nlO6"
      }
    },
    {
      "cell_type": "code",
      "source": [
        "#ttest\n",
        "\n",
        "race_comp = mc.MultiComparison(df_res['Strip_prop'],df_res['Race'])\n",
        "summary, p_val, p_val_corr =race_comp.allpairtest(stats.ttest_ind, method= \"bonf\")\n",
        "\n",
        "print (summary)\n"
      ],
      "metadata": {
        "id": "RzZZTcaY42Xj",
        "colab": {
          "base_uri": "https://localhost:8080/"
        },
        "outputId": "55e79fe2-987c-4fae-816f-c4c4ae405263"
      },
      "execution_count": null,
      "outputs": [
        {
          "output_type": "stream",
          "name": "stdout",
          "text": [
            "Test Multiple Comparison ttest_ind \n",
            "FWER=0.05 method=bonf\n",
            "alphacSidak=0.00, alphacBonf=0.003\n",
            "===================================================================\n",
            "      group1            group2        stat   pval  pval_corr reject\n",
            "-------------------------------------------------------------------\n",
            "            Asian             Black -2.5462 0.0118     0.177  False\n",
            "            Asian        Indigenous -3.5664 0.0005    0.0072   True\n",
            "            Asian            Latino -1.1677 0.2447       1.0  False\n",
            "            Asian Unknown or Legacy -1.3512 0.1784       1.0  False\n",
            "            Asian             White -2.6097 0.0099    0.1481  False\n",
            "            Black        Indigenous -1.6235 0.1065       1.0  False\n",
            "            Black            Latino  0.6841 0.4949       1.0  False\n",
            "            Black Unknown or Legacy  1.1073 0.2697       1.0  False\n",
            "            Black             White  0.0657 0.9477       1.0  False\n",
            "       Indigenous            Latino  1.9386 0.0544    0.8158  False\n",
            "       Indigenous Unknown or Legacy  2.4919 0.0137    0.2059  False\n",
            "       Indigenous             White  1.7274  0.086       1.0  False\n",
            "           Latino Unknown or Legacy  0.1791 0.8581       1.0  False\n",
            "           Latino             White -0.6561 0.5127       1.0  False\n",
            "Unknown or Legacy             White -1.0897 0.2774       1.0  False\n",
            "-------------------------------------------------------------------\n"
          ]
        }
      ]
    },
    {
      "cell_type": "code",
      "source": [
        "df_res['Race'].value_counts()"
      ],
      "metadata": {
        "id": "0tvO520IrmKP",
        "colab": {
          "base_uri": "https://localhost:8080/"
        },
        "outputId": "54ee5c07-d135-4535-c2dd-a13db90830fc"
      },
      "execution_count": null,
      "outputs": [
        {
          "output_type": "execute_result",
          "data": {
            "text/plain": [
              "White                87\n",
              "Unknown or Legacy    86\n",
              "Asian                84\n",
              "Black                84\n",
              "Latino               79\n",
              "Indigenous           76\n",
              "Name: Race, dtype: int64"
            ]
          },
          "metadata": {},
          "execution_count": 24
        }
      ]
    },
    {
      "cell_type": "markdown",
      "source": [
        "t-tests for crime type "
      ],
      "metadata": {
        "id": "wr45R5AOiAef"
      }
    },
    {
      "cell_type": "code",
      "source": [
        "#Crime Shapiro-Wilk; Test for Normalization \n",
        "shapiro_table = []\n",
        "for i in range (len (df_res['Race'].unique())):\n",
        "  temp = stats.shapiro (race_stat[i]['Strip_prop'])\n",
        "  sig = \"Accept\"\n",
        "  if temp[1] < 0.05: \n",
        "    sig = \"Reject\"\n",
        "  shapiro_table.append ([temp[0], temp[1], sig])\n",
        "\n",
        "shapiro_table = pd.DataFrame (shapiro_table)\n",
        "shapiro_table.insert(0, 'Race',df_res['Race'].unique())\n",
        "shapiro_table.columns = ['Race','Statistic', 'P-Value', 'H0']\n",
        "print (\"Test of Data Normalization for Race Groups:\",\"\\n\",tabulate (shapiro_table, headers = 'keys', tablefmt='psql'))"
      ],
      "metadata": {
        "id": "Qqcwyb0ksyWf",
        "colab": {
          "base_uri": "https://localhost:8080/"
        },
        "outputId": "693f0bb8-4701-4f37-90b5-e72d224c6a98"
      },
      "execution_count": null,
      "outputs": [
        {
          "output_type": "stream",
          "name": "stdout",
          "text": [
            "Test of Data Normalization for Race Groups: \n",
            " +----+-------------------+-------------+-------------+--------+\n",
            "|    | Race              |   Statistic |     P-Value | H0     |\n",
            "|----+-------------------+-------------+-------------+--------|\n",
            "|  0 | Asian             |    0.791636 | 1.4847e-09  | Reject |\n",
            "|  1 | Black             |    0.785485 | 1.0037e-09  | Reject |\n",
            "|  2 | Indigenous        |    0.770801 | 1.52535e-09 | Reject |\n",
            "|  3 | Latino            |    0.56353  | 5.78918e-14 | Reject |\n",
            "|  4 | Unknown or Legacy |    0.760972 | 1.63082e-10 | Reject |\n",
            "|  5 | White             |    0.804897 | 2.26113e-09 | Reject |\n",
            "+----+-------------------+-------------+-------------+--------+\n"
          ]
        }
      ]
    },
    {
      "cell_type": "code",
      "source": [
        "#ttest\n",
        "\n",
        "crime_comp = mc.MultiComparison(df_res['Strip_prop'],df_res['Crime_Type'])\n",
        "summary1, p_val1, p_val_corr1 = crime_comp.allpairtest(stats.ttest_ind, method= \"bonf\")\n",
        "print (summary1)"
      ],
      "metadata": {
        "id": "sFZnxPamh_8b",
        "colab": {
          "base_uri": "https://localhost:8080/"
        },
        "outputId": "003ec64b-47e3-4f92-c72e-61f85212b371"
      },
      "execution_count": null,
      "outputs": [
        {
          "output_type": "stream",
          "name": "stdout",
          "text": [
            "Test Multiple Comparison ttest_ind \n",
            "FWER=0.05 method=bonf\n",
            "alphacSidak=0.02, alphacBonf=0.017\n",
            "================================================\n",
            " group1   group2   stat   pval  pval_corr reject\n",
            "------------------------------------------------\n",
            "   Other Property 3.9657 0.0001    0.0003   True\n",
            "   Other  Violent 1.0884 0.2772    0.8316  False\n",
            "Property  Violent -2.648 0.0085    0.0255   True\n",
            "------------------------------------------------\n"
          ]
        }
      ]
    },
    {
      "cell_type": "markdown",
      "source": [
        "## One-way ANOVA"
      ],
      "metadata": {
        "id": "K2anYr3VrN0a"
      }
    },
    {
      "cell_type": "code",
      "source": [
        "## ANOVA on Race vs. Strip_prop\n",
        "a = df_res[df_res.Race=='Black'].Strip_prop\n",
        "b = df_res[df_res.Race==\"White\"].Strip_prop\n",
        "c = df_res[df_res.Race==\"Asian\"].Strip_prop\n",
        "\n",
        "d = df_res[df_res.Race==\"Latino\"].Strip_prop\n",
        "e = df_res[df_res.Race==\"Indigenous\"].Strip_prop\n",
        "f = df_res[df_res.Race==\"Unknown or Legacy\"].Strip_prop\n",
        "# perform one-way ANOVA\n",
        "f_oneway(a,b,c,d,e,f)"
      ],
      "metadata": {
        "id": "0ZXeM-7OHHgS",
        "colab": {
          "base_uri": "https://localhost:8080/"
        },
        "outputId": "ff718e96-1980-4430-db7b-96bcc792d163"
      },
      "execution_count": null,
      "outputs": [
        {
          "output_type": "execute_result",
          "data": {
            "text/plain": [
              "F_onewayResult(statistic=3.1966970023564545, pvalue=0.0075126486729193715)"
            ]
          },
          "metadata": {},
          "execution_count": 27
        }
      ]
    },
    {
      "cell_type": "code",
      "source": [
        "# perform Tukey's test\n",
        "tukey = pairwise_tukeyhsd(endog=df_res['Strip_prop'],\n",
        "                          groups=df_res['Race'],\n",
        "                          alpha=0.05)\n",
        "\n",
        "#display results\n",
        "print(tukey)"
      ],
      "metadata": {
        "id": "X1qe17rFuir0",
        "colab": {
          "base_uri": "https://localhost:8080/"
        },
        "outputId": "478d0201-49b7-4154-8ac0-f7cf56a60cf5"
      },
      "execution_count": null,
      "outputs": [
        {
          "output_type": "stream",
          "name": "stdout",
          "text": [
            "           Multiple Comparison of Means - Tukey HSD, FWER=0.05           \n",
            "=========================================================================\n",
            "      group1            group2      meandiff p-adj   lower  upper  reject\n",
            "-------------------------------------------------------------------------\n",
            "            Asian             Black   0.0377  0.391 -0.0184 0.0938  False\n",
            "            Asian        Indigenous   0.0759 0.0025  0.0183 0.1334   True\n",
            "            Asian            Latino   0.0228 0.8485 -0.0342 0.0797  False\n",
            "            Asian Unknown or Legacy    0.019    0.9 -0.0368 0.0747  False\n",
            "            Asian             White   0.0366 0.4162  -0.019 0.0922  False\n",
            "            Black        Indigenous   0.0382 0.4061 -0.0194 0.0957  False\n",
            "            Black            Latino  -0.0149    0.9 -0.0719  0.042  False\n",
            "            Black Unknown or Legacy  -0.0187    0.9 -0.0745  0.037  False\n",
            "            Black             White  -0.0011    0.9 -0.0567 0.0545  False\n",
            "       Indigenous            Latino  -0.0531 0.0986 -0.1115 0.0053  False\n",
            "       Indigenous Unknown or Legacy  -0.0569 0.0523 -0.1141 0.0003  False\n",
            "       Indigenous             White  -0.0393  0.362 -0.0964 0.0178  False\n",
            "           Latino Unknown or Legacy  -0.0038    0.9 -0.0604 0.0528  False\n",
            "           Latino             White   0.0138    0.9 -0.0427 0.0703  False\n",
            "Unknown or Legacy             White   0.0176    0.9 -0.0377 0.0729  False\n",
            "-------------------------------------------------------------------------\n"
          ]
        }
      ]
    },
    {
      "cell_type": "code",
      "source": [
        "a = df_res[df_res.Crime_Type=='Violent'].Strip_prop\n",
        "b = df_res[df_res.Crime_Type==\"Property\"].Strip_prop\n",
        "c = df_res[df_res.Crime_Type==\"Other\"].Strip_prop\n",
        "f_oneway(a,b,c)"
      ],
      "metadata": {
        "id": "ZJ2Yx0YotMB9",
        "colab": {
          "base_uri": "https://localhost:8080/"
        },
        "outputId": "532a571e-d9ca-4728-efc0-dd649ec13106"
      },
      "execution_count": null,
      "outputs": [
        {
          "output_type": "execute_result",
          "data": {
            "text/plain": [
              "F_onewayResult(statistic=7.194189184672411, pvalue=0.0008323931809533964)"
            ]
          },
          "metadata": {},
          "execution_count": 29
        }
      ]
    },
    {
      "cell_type": "code",
      "source": [
        "# perform Tukey's test\n",
        "tukey = pairwise_tukeyhsd(endog=df_res['Strip_prop'],\n",
        "                          groups=df_res['Crime_Type'],\n",
        "                          alpha=0.05)\n",
        "\n",
        "#display results\n",
        "print(tukey)"
      ],
      "metadata": {
        "id": "_VnZ0zJ_13Qe",
        "colab": {
          "base_uri": "https://localhost:8080/"
        },
        "outputId": "1ec13eb2-83ab-403f-e3a9-f41741701b12"
      },
      "execution_count": null,
      "outputs": [
        {
          "output_type": "stream",
          "name": "stdout",
          "text": [
            "  Multiple Comparison of Means - Tukey HSD, FWER=0.05  \n",
            "=======================================================\n",
            " group1   group2  meandiff p-adj   lower  upper  reject\n",
            "-------------------------------------------------------\n",
            "   Other Property  -0.0519  0.001 -0.0848 -0.019   True\n",
            "   Other  Violent  -0.0167 0.4567 -0.0496 0.0161  False\n",
            "Property  Violent   0.0352 0.0314  0.0025 0.0679   True\n",
            "-------------------------------------------------------\n"
          ]
        }
      ]
    },
    {
      "cell_type": "markdown",
      "source": [
        "## Two-way ANOVA"
      ],
      "metadata": {
        "id": "COOpA1SlrQhF"
      }
    },
    {
      "cell_type": "code",
      "source": [
        "# two-way anova\n",
        "model = ols('Strip_prop ~ C(Race) + C(Crime_Type) + C(Race):C(Crime_Type)', data=df_res).fit()\n",
        "sm.stats.anova_lm(model, typ=2)"
      ],
      "metadata": {
        "id": "ffsj4xnEwr9K",
        "colab": {
          "base_uri": "https://localhost:8080/",
          "height": 175
        },
        "outputId": "459b359d-8c40-4a13-bd4f-72121d6c4409"
      },
      "execution_count": null,
      "outputs": [
        {
          "output_type": "execute_result",
          "data": {
            "text/plain": [
              "                         sum_sq     df         F    PR(>F)\n",
              "C(Race)                0.257399    5.0  3.230002  0.007039\n",
              "C(Crime_Type)          0.231017    2.0  7.247340  0.000793\n",
              "C(Race):C(Crime_Type)  0.057601   10.0  0.361408  0.962479\n",
              "Residual               7.618384  478.0       NaN       NaN"
            ],
            "text/html": [
              "\n",
              "  <div id=\"df-757a66fc-0f21-4047-a552-cf41bedc4990\">\n",
              "    <div class=\"colab-df-container\">\n",
              "      <div>\n",
              "<style scoped>\n",
              "    .dataframe tbody tr th:only-of-type {\n",
              "        vertical-align: middle;\n",
              "    }\n",
              "\n",
              "    .dataframe tbody tr th {\n",
              "        vertical-align: top;\n",
              "    }\n",
              "\n",
              "    .dataframe thead th {\n",
              "        text-align: right;\n",
              "    }\n",
              "</style>\n",
              "<table border=\"1\" class=\"dataframe\">\n",
              "  <thead>\n",
              "    <tr style=\"text-align: right;\">\n",
              "      <th></th>\n",
              "      <th>sum_sq</th>\n",
              "      <th>df</th>\n",
              "      <th>F</th>\n",
              "      <th>PR(&gt;F)</th>\n",
              "    </tr>\n",
              "  </thead>\n",
              "  <tbody>\n",
              "    <tr>\n",
              "      <th>C(Race)</th>\n",
              "      <td>0.257399</td>\n",
              "      <td>5.0</td>\n",
              "      <td>3.230002</td>\n",
              "      <td>0.007039</td>\n",
              "    </tr>\n",
              "    <tr>\n",
              "      <th>C(Crime_Type)</th>\n",
              "      <td>0.231017</td>\n",
              "      <td>2.0</td>\n",
              "      <td>7.247340</td>\n",
              "      <td>0.000793</td>\n",
              "    </tr>\n",
              "    <tr>\n",
              "      <th>C(Race):C(Crime_Type)</th>\n",
              "      <td>0.057601</td>\n",
              "      <td>10.0</td>\n",
              "      <td>0.361408</td>\n",
              "      <td>0.962479</td>\n",
              "    </tr>\n",
              "    <tr>\n",
              "      <th>Residual</th>\n",
              "      <td>7.618384</td>\n",
              "      <td>478.0</td>\n",
              "      <td>NaN</td>\n",
              "      <td>NaN</td>\n",
              "    </tr>\n",
              "  </tbody>\n",
              "</table>\n",
              "</div>\n",
              "      <button class=\"colab-df-convert\" onclick=\"convertToInteractive('df-757a66fc-0f21-4047-a552-cf41bedc4990')\"\n",
              "              title=\"Convert this dataframe to an interactive table.\"\n",
              "              style=\"display:none;\">\n",
              "        \n",
              "  <svg xmlns=\"http://www.w3.org/2000/svg\" height=\"24px\"viewBox=\"0 0 24 24\"\n",
              "       width=\"24px\">\n",
              "    <path d=\"M0 0h24v24H0V0z\" fill=\"none\"/>\n",
              "    <path d=\"M18.56 5.44l.94 2.06.94-2.06 2.06-.94-2.06-.94-.94-2.06-.94 2.06-2.06.94zm-11 1L8.5 8.5l.94-2.06 2.06-.94-2.06-.94L8.5 2.5l-.94 2.06-2.06.94zm10 10l.94 2.06.94-2.06 2.06-.94-2.06-.94-.94-2.06-.94 2.06-2.06.94z\"/><path d=\"M17.41 7.96l-1.37-1.37c-.4-.4-.92-.59-1.43-.59-.52 0-1.04.2-1.43.59L10.3 9.45l-7.72 7.72c-.78.78-.78 2.05 0 2.83L4 21.41c.39.39.9.59 1.41.59.51 0 1.02-.2 1.41-.59l7.78-7.78 2.81-2.81c.8-.78.8-2.07 0-2.86zM5.41 20L4 18.59l7.72-7.72 1.47 1.35L5.41 20z\"/>\n",
              "  </svg>\n",
              "      </button>\n",
              "      \n",
              "  <style>\n",
              "    .colab-df-container {\n",
              "      display:flex;\n",
              "      flex-wrap:wrap;\n",
              "      gap: 12px;\n",
              "    }\n",
              "\n",
              "    .colab-df-convert {\n",
              "      background-color: #E8F0FE;\n",
              "      border: none;\n",
              "      border-radius: 50%;\n",
              "      cursor: pointer;\n",
              "      display: none;\n",
              "      fill: #1967D2;\n",
              "      height: 32px;\n",
              "      padding: 0 0 0 0;\n",
              "      width: 32px;\n",
              "    }\n",
              "\n",
              "    .colab-df-convert:hover {\n",
              "      background-color: #E2EBFA;\n",
              "      box-shadow: 0px 1px 2px rgba(60, 64, 67, 0.3), 0px 1px 3px 1px rgba(60, 64, 67, 0.15);\n",
              "      fill: #174EA6;\n",
              "    }\n",
              "\n",
              "    [theme=dark] .colab-df-convert {\n",
              "      background-color: #3B4455;\n",
              "      fill: #D2E3FC;\n",
              "    }\n",
              "\n",
              "    [theme=dark] .colab-df-convert:hover {\n",
              "      background-color: #434B5C;\n",
              "      box-shadow: 0px 1px 3px 1px rgba(0, 0, 0, 0.15);\n",
              "      filter: drop-shadow(0px 1px 2px rgba(0, 0, 0, 0.3));\n",
              "      fill: #FFFFFF;\n",
              "    }\n",
              "  </style>\n",
              "\n",
              "      <script>\n",
              "        const buttonEl =\n",
              "          document.querySelector('#df-757a66fc-0f21-4047-a552-cf41bedc4990 button.colab-df-convert');\n",
              "        buttonEl.style.display =\n",
              "          google.colab.kernel.accessAllowed ? 'block' : 'none';\n",
              "\n",
              "        async function convertToInteractive(key) {\n",
              "          const element = document.querySelector('#df-757a66fc-0f21-4047-a552-cf41bedc4990');\n",
              "          const dataTable =\n",
              "            await google.colab.kernel.invokeFunction('convertToInteractive',\n",
              "                                                     [key], {});\n",
              "          if (!dataTable) return;\n",
              "\n",
              "          const docLinkHtml = 'Like what you see? Visit the ' +\n",
              "            '<a target=\"_blank\" href=https://colab.research.google.com/notebooks/data_table.ipynb>data table notebook</a>'\n",
              "            + ' to learn more about interactive tables.';\n",
              "          element.innerHTML = '';\n",
              "          dataTable['output_type'] = 'display_data';\n",
              "          await google.colab.output.renderOutput(dataTable, element);\n",
              "          const docLink = document.createElement('div');\n",
              "          docLink.innerHTML = docLinkHtml;\n",
              "          element.appendChild(docLink);\n",
              "        }\n",
              "      </script>\n",
              "    </div>\n",
              "  </div>\n",
              "  "
            ]
          },
          "metadata": {},
          "execution_count": 31
        }
      ]
    },
    {
      "cell_type": "markdown",
      "source": [
        "## Interaction plot"
      ],
      "metadata": {
        "id": "FnGRcASYxHeE"
      }
    },
    {
      "cell_type": "code",
      "source": [
        "from statsmodels.graphics.factorplots import interaction_plot\n",
        "import matplotlib.pyplot as plt\n",
        "\n",
        "fig, ax = plt.subplots(figsize=(10, 5))\n",
        " \n",
        "plt.xticks (rotation = 45)\n",
        "plt.title(\"Interaction between Race and Crime Type\")\n",
        "\n",
        "fig = interaction_plot(x=df_res['Race'], trace=df_res['Crime_Type'], response=df_res['Strip_prop'], \n",
        "                       colors=['darkseagreen','royalblue', 'salmon'], \n",
        "                       ylabel = 'Proportion of Strip Searches', markers=[\"o\", \"^\", \"*\"],ax = ax, ms = 10)\n",
        "\n",
        "  \n",
        "\n",
        "plt.show()\n"
      ],
      "metadata": {
        "id": "PpqmLjGXxFzl",
        "colab": {
          "base_uri": "https://localhost:8080/",
          "height": 416
        },
        "outputId": "35cff2f1-da15-48fe-e949-ed960464c72e"
      },
      "execution_count": null,
      "outputs": [
        {
          "output_type": "display_data",
          "data": {
            "text/plain": [
              "<Figure size 720x360 with 1 Axes>"
            ],
            "image/png": "[encoded data removed]"
          },
          "metadata": {
            "needs_background": "light"
          }
        }
      ]
    }
  ]
}