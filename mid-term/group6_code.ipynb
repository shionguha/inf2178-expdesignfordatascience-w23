{
  "nbformat": 4,
  "nbformat_minor": 0,
  "metadata": {
    "colab": {
      "provenance": [],
      "include_colab_link": true
    },
    "kernelspec": {
      "name": "python3",
      "display_name": "Python 3"
    },
    "language_info": {
      "name": "python"
    }
  },
  "cells": [
    {
      "cell_type": "markdown",
      "metadata": {
        "id": "view-in-github",
        "colab_type": "text"
      },
      "source": [
        "<a href=\"https://colab.research.google.com/github/KAILAI-Y/inf2178-expdesignfordatascience-w23/blob/main/2178_Assignment1.ipynb\" target=\"_parent\"><img src=\"https://colab.research.google.com/assets/colab-badge.svg\" alt=\"Open In Colab\"/></a>"
      ]
    },
    {
      "cell_type": "code",
      "execution_count": null,
      "metadata": {
        "id": "6OLJizEz-gO3"
      },
      "outputs": [],
      "source": [
        "import pandas as pd\n",
        "# load data file\n",
        "# data = pd.read_csv(\"Arrests_and_Strip_Searches_(RBDC-ARR-TBL-001).csv\")\n",
        "url = \"https://raw.githubusercontent.com/shionguha/inf2178-expdesignfordatascience-w23/main/project%20dataset/Arrests_and_Strip_Searches_(RBDC-ARR-TBL-001).csv\"\n",
        "data = pd.read_csv(url)\n",
        "\n",
        "# Number of rows\n",
        "# print(df.shape[0])\n",
        "\n",
        "# drop na row\n",
        "df = data.dropna(subset=['ArrestID','Age_group__at_arrest_','Perceived_Race','Occurrence_Category'])\n",
        "# print(df.shape[0])"
      ]
    },
    {
      "cell_type": "code",
      "source": [
        "dict_for_replace={'Aged 25 to 34 years': '25 - 34', 'Aged 35 to 44 years': '35 - 44', 'Aged 18 to 24 years': '18 - 24', \n",
        "                     'Aged 45 to 54 years': '45 - 54', 'Aged 55 to 64 years': '55 - 64', 'Aged 17 years and younger': '17 and under',\n",
        "                     'Aged 17 years and under': '17 and under', 'Aged 65 years and older': '65 and older', 'Aged 65 and older': '65 and older'}\n",
        "df.loc[:, 'Age_group__at_arrest_']=df.loc[:, 'Age_group__at_arrest_'].replace(dict_for_replace)\n",
        "# df"
      ],
      "metadata": {
        "id": "Ltxisqu3lqur",
        "colab": {
          "base_uri": "https://localhost:8080/"
        },
        "outputId": "7a3bfd2d-6090-4bdd-e118-7f45cb398462"
      },
      "execution_count": null,
      "outputs": [
        {
          "output_type": "stream",
          "name": "stderr",
          "text": [
            "/usr/local/lib/python3.8/dist-packages/pandas/core/indexing.py:1773: SettingWithCopyWarning: \n",
            "A value is trying to be set on a copy of a slice from a DataFrame.\n",
            "Try using .loc[row_indexer,col_indexer] = value instead\n",
            "\n",
            "See the caveats in the documentation: https://pandas.pydata.org/pandas-docs/stable/user_guide/indexing.html#returning-a-view-versus-a-copy\n",
            "  self._setitem_single_column(ilocs[0], value, pi)\n"
          ]
        }
      ]
    },
    {
      "cell_type": "code",
      "source": [
        "df1 = df[[\"Arrest_Year\", \"Arrest_Month\", \"Perceived_Race\", \"Sex\", \"Age_group__at_arrest_\", \"Youth_at_arrest__under_18_years\", \"StripSearch\",'Booked', \"Occurrence_Category\", \"ItemsFound\"]]\n",
        "df1 = df1.dropna(subset = [\"Perceived_Race\", \"Age_group__at_arrest_\", \"Occurrence_Category\"])\n",
        "df1 = df1.fillna(0)\n",
        "df1"
      ],
      "metadata": {
        "colab": {
          "base_uri": "https://localhost:8080/",
          "height": 424
        },
        "id": "84RMrla9SGpm",
        "outputId": "c61d0c77-fbb4-4b76-ce72-c05cb3b6f1d3"
      },
      "execution_count": null,
      "outputs": [
        {
          "output_type": "execute_result",
          "data": {
            "text/plain": [
              "       Arrest_Year Arrest_Month     Perceived_Race Sex Age_group__at_arrest_  \\\n",
              "0             2020    July-Sept              White   M               35 - 44   \n",
              "1             2020    July-Sept              White   M               35 - 44   \n",
              "2             2020      Oct-Dec  Unknown or Legacy   M               35 - 44   \n",
              "3             2021      Jan-Mar              Black   M               25 - 34   \n",
              "4             2021      Jan-Mar        South Asian   M               25 - 34   \n",
              "...            ...          ...                ...  ..                   ...   \n",
              "65271         2021      Oct-Dec         Indigenous   F               25 - 34   \n",
              "65272         2021      Oct-Dec        South Asian   M               35 - 44   \n",
              "65273         2021      Oct-Dec              White   F               45 - 54   \n",
              "65274         2021      Oct-Dec  Unknown or Legacy   M          17 and under   \n",
              "65275         2021      Oct-Dec             Latino   M               18 - 24   \n",
              "\n",
              "       Youth_at_arrest__under_18_years  StripSearch  Booked  \\\n",
              "0                          Not a youth            0       1   \n",
              "1                          Not a youth            0       1   \n",
              "2                          Not a youth            0       1   \n",
              "3                          Not a youth            0       0   \n",
              "4                          Not a youth            0       1   \n",
              "...                                ...          ...     ...   \n",
              "65271                      Not a youth            0       0   \n",
              "65272                      Not a youth            0       1   \n",
              "65273                      Not a youth            0       0   \n",
              "65274  Youth (aged 17 years and under)            0       0   \n",
              "65275                      Not a youth            0       0   \n",
              "\n",
              "                          Occurrence_Category  ItemsFound  \n",
              "0      Assault & Other crimes against persons         0.0  \n",
              "1      Assault & Other crimes against persons         0.0  \n",
              "2      Assault & Other crimes against persons         0.0  \n",
              "3                      Harassment/Threatening         0.0  \n",
              "4           FTA/FTC/Compliance Check/Parollee         0.0  \n",
              "...                                       ...         ...  \n",
              "65271                         Vehicle Related         0.0  \n",
              "65272                                 Assault         0.0  \n",
              "65273                                 Assault         0.0  \n",
              "65274                           Robbery/Theft         0.0  \n",
              "65275                                Mischief         0.0  \n",
              "\n",
              "[64615 rows x 10 columns]"
            ],
            "text/html": [
              "\n",
              "  <div id=\"df-968519cf-69db-4e23-aac9-8bec11950e4f\">\n",
              "    <div class=\"colab-df-container\">\n",
              "      <div>\n",
              "<style scoped>\n",
              "    .dataframe tbody tr th:only-of-type {\n",
              "        vertical-align: middle;\n",
              "    }\n",
              "\n",
              "    .dataframe tbody tr th {\n",
              "        vertical-align: top;\n",
              "    }\n",
              "\n",
              "    .dataframe thead th {\n",
              "        text-align: right;\n",
              "    }\n",
              "</style>\n",
              "<table border=\"1\" class=\"dataframe\">\n",
              "  <thead>\n",
              "    <tr style=\"text-align: right;\">\n",
              "      <th></th>\n",
              "      <th>Arrest_Year</th>\n",
              "      <th>Arrest_Month</th>\n",
              "      <th>Perceived_Race</th>\n",
              "      <th>Sex</th>\n",
              "      <th>Age_group__at_arrest_</th>\n",
              "      <th>Youth_at_arrest__under_18_years</th>\n",
              "      <th>StripSearch</th>\n",
              "      <th>Booked</th>\n",
              "      <th>Occurrence_Category</th>\n",
              "      <th>ItemsFound</th>\n",
              "    </tr>\n",
              "  </thead>\n",
              "  <tbody>\n",
              "    <tr>\n",
              "      <th>0</th>\n",
              "      <td>2020</td>\n",
              "      <td>July-Sept</td>\n",
              "      <td>White</td>\n",
              "      <td>M</td>\n",
              "      <td>35 - 44</td>\n",
              "      <td>Not a youth</td>\n",
              "      <td>0</td>\n",
              "      <td>1</td>\n",
              "      <td>Assault &amp; Other crimes against persons</td>\n",
              "      <td>0.0</td>\n",
              "    </tr>\n",
              "    <tr>\n",
              "      <th>1</th>\n",
              "      <td>2020</td>\n",
              "      <td>July-Sept</td>\n",
              "      <td>White</td>\n",
              "      <td>M</td>\n",
              "      <td>35 - 44</td>\n",
              "      <td>Not a youth</td>\n",
              "      <td>0</td>\n",
              "      <td>1</td>\n",
              "      <td>Assault &amp; Other crimes against persons</td>\n",
              "      <td>0.0</td>\n",
              "    </tr>\n",
              "    <tr>\n",
              "      <th>2</th>\n",
              "      <td>2020</td>\n",
              "      <td>Oct-Dec</td>\n",
              "      <td>Unknown or Legacy</td>\n",
              "      <td>M</td>\n",
              "      <td>35 - 44</td>\n",
              "      <td>Not a youth</td>\n",
              "      <td>0</td>\n",
              "      <td>1</td>\n",
              "      <td>Assault &amp; Other crimes against persons</td>\n",
              "      <td>0.0</td>\n",
              "    </tr>\n",
              "    <tr>\n",
              "      <th>3</th>\n",
              "      <td>2021</td>\n",
              "      <td>Jan-Mar</td>\n",
              "      <td>Black</td>\n",
              "      <td>M</td>\n",
              "      <td>25 - 34</td>\n",
              "      <td>Not a youth</td>\n",
              "      <td>0</td>\n",
              "      <td>0</td>\n",
              "      <td>Harassment/Threatening</td>\n",
              "      <td>0.0</td>\n",
              "    </tr>\n",
              "    <tr>\n",
              "      <th>4</th>\n",
              "      <td>2021</td>\n",
              "      <td>Jan-Mar</td>\n",
              "      <td>South Asian</td>\n",
              "      <td>M</td>\n",
              "      <td>25 - 34</td>\n",
              "      <td>Not a youth</td>\n",
              "      <td>0</td>\n",
              "      <td>1</td>\n",
              "      <td>FTA/FTC/Compliance Check/Parollee</td>\n",
              "      <td>0.0</td>\n",
              "    </tr>\n",
              "    <tr>\n",
              "      <th>...</th>\n",
              "      <td>...</td>\n",
              "      <td>...</td>\n",
              "      <td>...</td>\n",
              "      <td>...</td>\n",
              "      <td>...</td>\n",
              "      <td>...</td>\n",
              "      <td>...</td>\n",
              "      <td>...</td>\n",
              "      <td>...</td>\n",
              "      <td>...</td>\n",
              "    </tr>\n",
              "    <tr>\n",
              "      <th>65271</th>\n",
              "      <td>2021</td>\n",
              "      <td>Oct-Dec</td>\n",
              "      <td>Indigenous</td>\n",
              "      <td>F</td>\n",
              "      <td>25 - 34</td>\n",
              "      <td>Not a youth</td>\n",
              "      <td>0</td>\n",
              "      <td>0</td>\n",
              "      <td>Vehicle Related</td>\n",
              "      <td>0.0</td>\n",
              "    </tr>\n",
              "    <tr>\n",
              "      <th>65272</th>\n",
              "      <td>2021</td>\n",
              "      <td>Oct-Dec</td>\n",
              "      <td>South Asian</td>\n",
              "      <td>M</td>\n",
              "      <td>35 - 44</td>\n",
              "      <td>Not a youth</td>\n",
              "      <td>0</td>\n",
              "      <td>1</td>\n",
              "      <td>Assault</td>\n",
              "      <td>0.0</td>\n",
              "    </tr>\n",
              "    <tr>\n",
              "      <th>65273</th>\n",
              "      <td>2021</td>\n",
              "      <td>Oct-Dec</td>\n",
              "      <td>White</td>\n",
              "      <td>F</td>\n",
              "      <td>45 - 54</td>\n",
              "      <td>Not a youth</td>\n",
              "      <td>0</td>\n",
              "      <td>0</td>\n",
              "      <td>Assault</td>\n",
              "      <td>0.0</td>\n",
              "    </tr>\n",
              "    <tr>\n",
              "      <th>65274</th>\n",
              "      <td>2021</td>\n",
              "      <td>Oct-Dec</td>\n",
              "      <td>Unknown or Legacy</td>\n",
              "      <td>M</td>\n",
              "      <td>17 and under</td>\n",
              "      <td>Youth (aged 17 years and under)</td>\n",
              "      <td>0</td>\n",
              "      <td>0</td>\n",
              "      <td>Robbery/Theft</td>\n",
              "      <td>0.0</td>\n",
              "    </tr>\n",
              "    <tr>\n",
              "      <th>65275</th>\n",
              "      <td>2021</td>\n",
              "      <td>Oct-Dec</td>\n",
              "      <td>Latino</td>\n",
              "      <td>M</td>\n",
              "      <td>18 - 24</td>\n",
              "      <td>Not a youth</td>\n",
              "      <td>0</td>\n",
              "      <td>0</td>\n",
              "      <td>Mischief</td>\n",
              "      <td>0.0</td>\n",
              "    </tr>\n",
              "  </tbody>\n",
              "</table>\n",
              "<p>64615 rows × 10 columns</p>\n",
              "</div>\n",
              "      <button class=\"colab-df-convert\" onclick=\"convertToInteractive('df-968519cf-69db-4e23-aac9-8bec11950e4f')\"\n",
              "              title=\"Convert this dataframe to an interactive table.\"\n",
              "              style=\"display:none;\">\n",
              "        \n",
              "  <svg xmlns=\"http://www.w3.org/2000/svg\" height=\"24px\"viewBox=\"0 0 24 24\"\n",
              "       width=\"24px\">\n",
              "    <path d=\"M0 0h24v24H0V0z\" fill=\"none\"/>\n",
              "    <path d=\"M18.56 5.44l.94 2.06.94-2.06 2.06-.94-2.06-.94-.94-2.06-.94 2.06-2.06.94zm-11 1L8.5 8.5l.94-2.06 2.06-.94-2.06-.94L8.5 2.5l-.94 2.06-2.06.94zm10 10l.94 2.06.94-2.06 2.06-.94-2.06-.94-.94-2.06-.94 2.06-2.06.94z\"/><path d=\"M17.41 7.96l-1.37-1.37c-.4-.4-.92-.59-1.43-.59-.52 0-1.04.2-1.43.59L10.3 9.45l-7.72 7.72c-.78.78-.78 2.05 0 2.83L4 21.41c.39.39.9.59 1.41.59.51 0 1.02-.2 1.41-.59l7.78-7.78 2.81-2.81c.8-.78.8-2.07 0-2.86zM5.41 20L4 18.59l7.72-7.72 1.47 1.35L5.41 20z\"/>\n",
              "  </svg>\n",
              "      </button>\n",
              "      \n",
              "  <style>\n",
              "    .colab-df-container {\n",
              "      display:flex;\n",
              "      flex-wrap:wrap;\n",
              "      gap: 12px;\n",
              "    }\n",
              "\n",
              "    .colab-df-convert {\n",
              "      background-color: #E8F0FE;\n",
              "      border: none;\n",
              "      border-radius: 50%;\n",
              "      cursor: pointer;\n",
              "      display: none;\n",
              "      fill: #1967D2;\n",
              "      height: 32px;\n",
              "      padding: 0 0 0 0;\n",
              "      width: 32px;\n",
              "    }\n",
              "\n",
              "    .colab-df-convert:hover {\n",
              "      background-color: #E2EBFA;\n",
              "      box-shadow: 0px 1px 2px rgba(60, 64, 67, 0.3), 0px 1px 3px 1px rgba(60, 64, 67, 0.15);\n",
              "      fill: #174EA6;\n",
              "    }\n",
              "\n",
              "    [theme=dark] .colab-df-convert {\n",
              "      background-color: #3B4455;\n",
              "      fill: #D2E3FC;\n",
              "    }\n",
              "\n",
              "    [theme=dark] .colab-df-convert:hover {\n",
              "      background-color: #434B5C;\n",
              "      box-shadow: 0px 1px 3px 1px rgba(0, 0, 0, 0.15);\n",
              "      filter: drop-shadow(0px 1px 2px rgba(0, 0, 0, 0.3));\n",
              "      fill: #FFFFFF;\n",
              "    }\n",
              "  </style>\n",
              "\n",
              "      <script>\n",
              "        const buttonEl =\n",
              "          document.querySelector('#df-968519cf-69db-4e23-aac9-8bec11950e4f button.colab-df-convert');\n",
              "        buttonEl.style.display =\n",
              "          google.colab.kernel.accessAllowed ? 'block' : 'none';\n",
              "\n",
              "        async function convertToInteractive(key) {\n",
              "          const element = document.querySelector('#df-968519cf-69db-4e23-aac9-8bec11950e4f');\n",
              "          const dataTable =\n",
              "            await google.colab.kernel.invokeFunction('convertToInteractive',\n",
              "                                                     [key], {});\n",
              "          if (!dataTable) return;\n",
              "\n",
              "          const docLinkHtml = 'Like what you see? Visit the ' +\n",
              "            '<a target=\"_blank\" href=https://colab.research.google.com/notebooks/data_table.ipynb>data table notebook</a>'\n",
              "            + ' to learn more about interactive tables.';\n",
              "          element.innerHTML = '';\n",
              "          dataTable['output_type'] = 'display_data';\n",
              "          await google.colab.output.renderOutput(dataTable, element);\n",
              "          const docLink = document.createElement('div');\n",
              "          docLink.innerHTML = docLinkHtml;\n",
              "          element.appendChild(docLink);\n",
              "        }\n",
              "      </script>\n",
              "    </div>\n",
              "  </div>\n",
              "  "
            ]
          },
          "metadata": {},
          "execution_count": 170
        }
      ]
    },
    {
      "cell_type": "markdown",
      "source": [
        "# Plot"
      ],
      "metadata": {
        "id": "Vt5GnUf-ShDe"
      }
    },
    {
      "cell_type": "code",
      "source": [
        "import matplotlib.pyplot as plt\n",
        "import numpy as np"
      ],
      "metadata": {
        "id": "ck931gE-SgE3"
      },
      "execution_count": null,
      "outputs": []
    },
    {
      "cell_type": "code",
      "source": [
        "# race plot\n",
        "races = df1.Perceived_Race.value_counts().index.tolist()\n",
        "race_counts = df1.Perceived_Race.value_counts()\n",
        "print(race_counts)\n",
        "\n",
        "# total number in each races\n",
        "grouped_data = df.groupby([\"Perceived_Race\"])[\"StripSearch\"]\n",
        "# got the strip search number in each races\n",
        "Searched = grouped_data.sum().sort_values(ascending = False)\n",
        "\n",
        "notSearched = (race_counts - Searched).sort_values(ascending = False)\n",
        "\n",
        "races_counts1 = {\n",
        "    'Not Strip Searched': notSearched.to_numpy(),\n",
        "    'Strip Searched': Searched.to_numpy()\n",
        "}\n",
        "\n",
        "\n",
        "width = 0.6\n",
        "fig, ax = plt.subplots(figsize =(16, 9))\n",
        "\n",
        "bottom = np.zeros(8)\n",
        "for race, race_count in races_counts1.items():\n",
        "    p = ax.bar(races, race_count, width, label=race, bottom=bottom)\n",
        "    bottom += race_count\n",
        "    ax.bar_label(p, label_type='center')\n",
        "\n",
        "ax.set_title('Striped Search based on races')\n",
        "ax.legend()\n",
        "plt.show()"
      ],
      "metadata": {
        "colab": {
          "base_uri": "https://localhost:8080/",
          "height": 712
        },
        "id": "wxZx4OWdhkUm",
        "outputId": "99e829c7-f1f0-4d4a-9f94-f6404a44e79e"
      },
      "execution_count": null,
      "outputs": [
        {
          "output_type": "stream",
          "name": "stdout",
          "text": [
            "White                   27407\n",
            "Black                   17352\n",
            "Unknown or Legacy        5002\n",
            "East/Southeast Asian     4388\n",
            "South Asian              3594\n",
            "Middle-Eastern           3213\n",
            "Indigenous               1907\n",
            "Latino                   1752\n",
            "Name: Perceived_Race, dtype: int64\n"
          ]
        },
        {
          "output_type": "display_data",
          "data": {
            "text/plain": [
              "<Figure size 1152x648 with 1 Axes>"
            ],
            "image/png": "[encoded data removed]"
          },
          "metadata": {}
        }
      ]
    },
    {
      "cell_type": "code",
      "source": [
        "# age plot\n",
        "ages = df1.Age_group__at_arrest_.value_counts().index.tolist()\n",
        "ages_counts = df1.Age_group__at_arrest_.value_counts()\n",
        "print(ages_counts)\n",
        "\n",
        "# total number in each age groups\n",
        "grouped_data = df.groupby([\"Age_group__at_arrest_\"])[\"StripSearch\"]\n",
        "# got the strip search number in each age groups\n",
        "Searched = grouped_data.sum().sort_values(ascending = False)\n",
        "\n",
        "notSearched = (ages_counts - Searched).sort_values(ascending = False)\n",
        "\n",
        "ages_counts1 = {\n",
        "    'Not Strip Searched': notSearched.to_numpy(),\n",
        "    'Strip Searched': Searched.to_numpy()\n",
        "}\n",
        "\n",
        "\n",
        "width = 0.6\n",
        "fig, ax = plt.subplots(figsize =(16, 9))\n",
        "\n",
        "bottom = np.zeros(7)\n",
        "for age, ages_count in ages_counts1.items():\n",
        "    p = ax.bar(ages, ages_count, width, label=age, bottom=bottom)\n",
        "    bottom += ages_count\n",
        "    ax.bar_label(p, label_type='center')\n",
        "\n",
        "ax.set_title('Striped Search based on ages')\n",
        "ax.legend()\n",
        "plt.show()"
      ],
      "metadata": {
        "colab": {
          "base_uri": "https://localhost:8080/",
          "height": 694
        },
        "id": "8MErU738Sk2s",
        "outputId": "e8dbcf5e-8a96-4902-cd52-0b6abd9daf22"
      },
      "execution_count": null,
      "outputs": [
        {
          "output_type": "stream",
          "name": "stdout",
          "text": [
            "25 - 34         20725\n",
            "35 - 44         16072\n",
            "18 - 24          9934\n",
            "45 - 54          9003\n",
            "55 - 64          4553\n",
            "17 and under     3012\n",
            "65 and older     1316\n",
            "Name: Age_group__at_arrest_, dtype: int64\n"
          ]
        },
        {
          "output_type": "display_data",
          "data": {
            "text/plain": [
              "<Figure size 1152x648 with 1 Axes>"
            ],
            "image/png": "[encoded data removed]"
          },
          "metadata": {}
        }
      ]
    },
    {
      "cell_type": "code",
      "source": [
        "# sex plot\n",
        "sexs = df1.Sex.value_counts().index.tolist()\n",
        "sexs_counts = df1.Sex.value_counts()\n",
        "print(sexs_counts)\n",
        "\n",
        "# total number in each sexs groups\n",
        "grouped_data = df.groupby([\"Sex\"])[\"StripSearch\"]\n",
        "# got the strip search number in each sexs\n",
        "Searched = grouped_data.sum().sort_values(ascending = False)\n",
        "\n",
        "notSearched = (sexs_counts - Searched).sort_values(ascending = False)\n",
        "\n",
        "sexs_counts1 = {\n",
        "    'Not Strip Searched': notSearched.to_numpy(),\n",
        "    'Strip Searched': Searched.to_numpy()\n",
        "}\n",
        "\n",
        "\n",
        "width = 0.6\n",
        "fig, ax = plt.subplots(figsize =(16, 9))\n",
        "\n",
        "bottom = np.zeros(3)\n",
        "for sex, sexs_count in sexs_counts1.items():\n",
        "    p = ax.bar(sexs, sexs_count, width, label=sex, bottom=bottom)\n",
        "    bottom += sexs_count\n",
        "    ax.bar_label(p, label_type='center')\n",
        "\n",
        "ax.set_title('Striped Search based on sexs')\n",
        "ax.legend()\n",
        "plt.show()"
      ],
      "metadata": {
        "colab": {
          "base_uri": "https://localhost:8080/",
          "height": 625
        },
        "id": "zslShPhrmp3C",
        "outputId": "a334e792-b36a-476b-e80c-a8b9260fb393"
      },
      "execution_count": null,
      "outputs": [
        {
          "output_type": "stream",
          "name": "stdout",
          "text": [
            "M    52106\n",
            "F    12500\n",
            "U        9\n",
            "Name: Sex, dtype: int64\n"
          ]
        },
        {
          "output_type": "display_data",
          "data": {
            "text/plain": [
              "<Figure size 1152x648 with 1 Axes>"
            ],
            "image/png": "[encoded data removed]"
          },
          "metadata": {}
        }
      ]
    },
    {
      "cell_type": "markdown",
      "source": [
        "# df with categorical varaibles"
      ],
      "metadata": {
        "id": "gC4vvBO0Sr60"
      }
    },
    {
      "cell_type": "code",
      "source": [
        "df = df1[['Arrest_Year', 'StripSearch', 'Perceived_Race', 'Sex', 'Age_group__at_arrest_', 'Youth_at_arrest__under_18_years']]\n",
        "df.loc[:, ('Non_White')] = np.where((df.Perceived_Race == 'White'), 0, 1)\n",
        "df.head()"
      ],
      "metadata": {
        "colab": {
          "base_uri": "https://localhost:8080/",
          "height": 310
        },
        "id": "R-9CoKAJSqyy",
        "outputId": "d394efeb-360c-4611-a815-c8220e03e18a"
      },
      "execution_count": null,
      "outputs": [
        {
          "output_type": "stream",
          "name": "stderr",
          "text": [
            "/usr/local/lib/python3.8/dist-packages/pandas/core/indexing.py:1667: SettingWithCopyWarning: \n",
            "A value is trying to be set on a copy of a slice from a DataFrame.\n",
            "Try using .loc[row_indexer,col_indexer] = value instead\n",
            "\n",
            "See the caveats in the documentation: https://pandas.pydata.org/pandas-docs/stable/user_guide/indexing.html#returning-a-view-versus-a-copy\n",
            "  self.obj[key] = value\n"
          ]
        },
        {
          "output_type": "execute_result",
          "data": {
            "text/plain": [
              "   Arrest_Year  StripSearch     Perceived_Race Sex Age_group__at_arrest_  \\\n",
              "0         2020            0              White   M               35 - 44   \n",
              "1         2020            0              White   M               35 - 44   \n",
              "2         2020            0  Unknown or Legacy   M               35 - 44   \n",
              "3         2021            0              Black   M               25 - 34   \n",
              "4         2021            0        South Asian   M               25 - 34   \n",
              "\n",
              "  Youth_at_arrest__under_18_years  Non_White  \n",
              "0                     Not a youth          0  \n",
              "1                     Not a youth          0  \n",
              "2                     Not a youth          1  \n",
              "3                     Not a youth          1  \n",
              "4                     Not a youth          1  "
            ],
            "text/html": [
              "\n",
              "  <div id=\"df-2969e1e7-cbff-4dee-949b-1caa8e92aa1d\">\n",
              "    <div class=\"colab-df-container\">\n",
              "      <div>\n",
              "<style scoped>\n",
              "    .dataframe tbody tr th:only-of-type {\n",
              "        vertical-align: middle;\n",
              "    }\n",
              "\n",
              "    .dataframe tbody tr th {\n",
              "        vertical-align: top;\n",
              "    }\n",
              "\n",
              "    .dataframe thead th {\n",
              "        text-align: right;\n",
              "    }\n",
              "</style>\n",
              "<table border=\"1\" class=\"dataframe\">\n",
              "  <thead>\n",
              "    <tr style=\"text-align: right;\">\n",
              "      <th></th>\n",
              "      <th>Arrest_Year</th>\n",
              "      <th>StripSearch</th>\n",
              "      <th>Perceived_Race</th>\n",
              "      <th>Sex</th>\n",
              "      <th>Age_group__at_arrest_</th>\n",
              "      <th>Youth_at_arrest__under_18_years</th>\n",
              "      <th>Non_White</th>\n",
              "    </tr>\n",
              "  </thead>\n",
              "  <tbody>\n",
              "    <tr>\n",
              "      <th>0</th>\n",
              "      <td>2020</td>\n",
              "      <td>0</td>\n",
              "      <td>White</td>\n",
              "      <td>M</td>\n",
              "      <td>35 - 44</td>\n",
              "      <td>Not a youth</td>\n",
              "      <td>0</td>\n",
              "    </tr>\n",
              "    <tr>\n",
              "      <th>1</th>\n",
              "      <td>2020</td>\n",
              "      <td>0</td>\n",
              "      <td>White</td>\n",
              "      <td>M</td>\n",
              "      <td>35 - 44</td>\n",
              "      <td>Not a youth</td>\n",
              "      <td>0</td>\n",
              "    </tr>\n",
              "    <tr>\n",
              "      <th>2</th>\n",
              "      <td>2020</td>\n",
              "      <td>0</td>\n",
              "      <td>Unknown or Legacy</td>\n",
              "      <td>M</td>\n",
              "      <td>35 - 44</td>\n",
              "      <td>Not a youth</td>\n",
              "      <td>1</td>\n",
              "    </tr>\n",
              "    <tr>\n",
              "      <th>3</th>\n",
              "      <td>2021</td>\n",
              "      <td>0</td>\n",
              "      <td>Black</td>\n",
              "      <td>M</td>\n",
              "      <td>25 - 34</td>\n",
              "      <td>Not a youth</td>\n",
              "      <td>1</td>\n",
              "    </tr>\n",
              "    <tr>\n",
              "      <th>4</th>\n",
              "      <td>2021</td>\n",
              "      <td>0</td>\n",
              "      <td>South Asian</td>\n",
              "      <td>M</td>\n",
              "      <td>25 - 34</td>\n",
              "      <td>Not a youth</td>\n",
              "      <td>1</td>\n",
              "    </tr>\n",
              "  </tbody>\n",
              "</table>\n",
              "</div>\n",
              "      <button class=\"colab-df-convert\" onclick=\"convertToInteractive('df-2969e1e7-cbff-4dee-949b-1caa8e92aa1d')\"\n",
              "              title=\"Convert this dataframe to an interactive table.\"\n",
              "              style=\"display:none;\">\n",
              "        \n",
              "  <svg xmlns=\"http://www.w3.org/2000/svg\" height=\"24px\"viewBox=\"0 0 24 24\"\n",
              "       width=\"24px\">\n",
              "    <path d=\"M0 0h24v24H0V0z\" fill=\"none\"/>\n",
              "    <path d=\"M18.56 5.44l.94 2.06.94-2.06 2.06-.94-2.06-.94-.94-2.06-.94 2.06-2.06.94zm-11 1L8.5 8.5l.94-2.06 2.06-.94-2.06-.94L8.5 2.5l-.94 2.06-2.06.94zm10 10l.94 2.06.94-2.06 2.06-.94-2.06-.94-.94-2.06-.94 2.06-2.06.94z\"/><path d=\"M17.41 7.96l-1.37-1.37c-.4-.4-.92-.59-1.43-.59-.52 0-1.04.2-1.43.59L10.3 9.45l-7.72 7.72c-.78.78-.78 2.05 0 2.83L4 21.41c.39.39.9.59 1.41.59.51 0 1.02-.2 1.41-.59l7.78-7.78 2.81-2.81c.8-.78.8-2.07 0-2.86zM5.41 20L4 18.59l7.72-7.72 1.47 1.35L5.41 20z\"/>\n",
              "  </svg>\n",
              "      </button>\n",
              "      \n",
              "  <style>\n",
              "    .colab-df-container {\n",
              "      display:flex;\n",
              "      flex-wrap:wrap;\n",
              "      gap: 12px;\n",
              "    }\n",
              "\n",
              "    .colab-df-convert {\n",
              "      background-color: #E8F0FE;\n",
              "      border: none;\n",
              "      border-radius: 50%;\n",
              "      cursor: pointer;\n",
              "      display: none;\n",
              "      fill: #1967D2;\n",
              "      height: 32px;\n",
              "      padding: 0 0 0 0;\n",
              "      width: 32px;\n",
              "    }\n",
              "\n",
              "    .colab-df-convert:hover {\n",
              "      background-color: #E2EBFA;\n",
              "      box-shadow: 0px 1px 2px rgba(60, 64, 67, 0.3), 0px 1px 3px 1px rgba(60, 64, 67, 0.15);\n",
              "      fill: #174EA6;\n",
              "    }\n",
              "\n",
              "    [theme=dark] .colab-df-convert {\n",
              "      background-color: #3B4455;\n",
              "      fill: #D2E3FC;\n",
              "    }\n",
              "\n",
              "    [theme=dark] .colab-df-convert:hover {\n",
              "      background-color: #434B5C;\n",
              "      box-shadow: 0px 1px 3px 1px rgba(0, 0, 0, 0.15);\n",
              "      filter: drop-shadow(0px 1px 2px rgba(0, 0, 0, 0.3));\n",
              "      fill: #FFFFFF;\n",
              "    }\n",
              "  </style>\n",
              "\n",
              "      <script>\n",
              "        const buttonEl =\n",
              "          document.querySelector('#df-2969e1e7-cbff-4dee-949b-1caa8e92aa1d button.colab-df-convert');\n",
              "        buttonEl.style.display =\n",
              "          google.colab.kernel.accessAllowed ? 'block' : 'none';\n",
              "\n",
              "        async function convertToInteractive(key) {\n",
              "          const element = document.querySelector('#df-2969e1e7-cbff-4dee-949b-1caa8e92aa1d');\n",
              "          const dataTable =\n",
              "            await google.colab.kernel.invokeFunction('convertToInteractive',\n",
              "                                                     [key], {});\n",
              "          if (!dataTable) return;\n",
              "\n",
              "          const docLinkHtml = 'Like what you see? Visit the ' +\n",
              "            '<a target=\"_blank\" href=https://colab.research.google.com/notebooks/data_table.ipynb>data table notebook</a>'\n",
              "            + ' to learn more about interactive tables.';\n",
              "          element.innerHTML = '';\n",
              "          dataTable['output_type'] = 'display_data';\n",
              "          await google.colab.output.renderOutput(dataTable, element);\n",
              "          const docLink = document.createElement('div');\n",
              "          docLink.innerHTML = docLinkHtml;\n",
              "          element.appendChild(docLink);\n",
              "        }\n",
              "      </script>\n",
              "    </div>\n",
              "  </div>\n",
              "  "
            ]
          },
          "metadata": {},
          "execution_count": 175
        }
      ]
    },
    {
      "cell_type": "code",
      "source": [
        "# white_or_non plot\n",
        "label = [\"Non_White\", \"White\"]\n",
        "white_or_non_counts = df.Non_White.value_counts()\n",
        "print(white_or_non_counts)\n",
        "\n",
        "# total number in each races\n",
        "grouped_data = df.groupby([\"Non_White\"])[\"StripSearch\"]\n",
        "# got the strip search number in each races\n",
        "Searched = grouped_data.sum().sort_values(ascending = False)\n",
        "\n",
        "notSearched = (white_or_non_counts - Searched).sort_values(ascending = False)\n",
        "\n",
        "white_or_non_counts1 = {\n",
        "    'Not Strip Searched': notSearched.to_numpy(),\n",
        "    'Strip Searched': Searched.to_numpy()\n",
        "}\n",
        "\n",
        "\n",
        "width = 0.6\n",
        "fig, ax = plt.subplots(figsize =(16, 9))\n",
        "\n",
        "bottom = np.zeros(2)\n",
        "for white_or_non, white_or_non_count in white_or_non_counts1.items():\n",
        "    p = ax.bar(label, white_or_non_count, width, label=white_or_non, bottom=bottom)\n",
        "    bottom += white_or_non_count\n",
        "    ax.bar_label(p, label_type='center')\n",
        "\n",
        "ax.set_title('Striped Search based on white and non white')\n",
        "ax.legend()\n",
        "plt.show()"
      ],
      "metadata": {
        "colab": {
          "base_uri": "https://localhost:8080/",
          "height": 609
        },
        "id": "70rWwMcoLEew",
        "outputId": "fbc94845-90bf-43fe-8adb-ba9371c80bb8"
      },
      "execution_count": null,
      "outputs": [
        {
          "output_type": "stream",
          "name": "stdout",
          "text": [
            "1    37208\n",
            "0    27407\n",
            "Name: Non_White, dtype: int64\n"
          ]
        },
        {
          "output_type": "display_data",
          "data": {
            "text/plain": [
              "<Figure size 1152x648 with 1 Axes>"
            ],
            "image/png": "[encoded data removed]"
          },
          "metadata": {}
        }
      ]
    },
    {
      "cell_type": "markdown",
      "source": [
        "transfer categorical to numerical"
      ],
      "metadata": {
        "id": "AC7lLH25S78c"
      }
    },
    {
      "cell_type": "code",
      "source": [
        "from sklearn.preprocessing import LabelEncoder\n",
        "\n",
        "enc = LabelEncoder()\n",
        "df.loc[:, ('en_Arrest_Year')] = enc.fit_transform(df.loc[:, ('Arrest_Year')]) \n",
        "# {2020: 0, 2021: 1}\n",
        "df.loc[:, ('en_Perceived_Race')] = enc.fit_transform(df.loc[:, ('Perceived_Race')])\n",
        "# {'White': 7, 'Unknown or Legacy': 6, 'Black': 0, 'South Asian': 5, 'Indigenous': 2, 'Middle-Eastern': 4, 'Latino': 3, 'East/Southeast Asian': 1}\n",
        "df.loc[:, ('en_Sex')] = enc.fit_transform(df.loc[:, ('Sex')])\n",
        "# {'M': 1, 'F': 0, 'U': 2}\n",
        "df.loc[:, ('en_Age_group__at_arrest_')] = enc.fit_transform(df.loc[:, ('Age_group__at_arrest_')])\n",
        "# {3: '35 - 44', 2: '25 - 34', 4: '45 - 54', 5: '55 - 64', 1: '18 - 24', 6: '65 and older', 0: '17 and under'}\n",
        "df.loc[:, ('en_Youth_at_arrest__under_18_years')] = enc.fit_transform(df.loc[:, ('Youth_at_arrest__under_18_years')])\n",
        "# {0: 'Not a youth', 1: 'Youth (aged 17 and younger)', 2: 'Youth (aged 17 years and under)'}\n",
        "# df.head()\n",
        "# print(dict(zip(df.en_Age_group__at_arrest_, df.Age_group__at_arrest_)))\n",
        "\n",
        "df_en = df[['en_Arrest_Year', 'en_Perceived_Race', 'en_Sex', 'en_Age_group__at_arrest_', 'en_Youth_at_arrest__under_18_years']]\n",
        "df.head()"
      ],
      "metadata": {
        "colab": {
          "base_uri": "https://localhost:8080/",
          "height": 354
        },
        "id": "8gBsqAO6S_MB",
        "outputId": "fd45e3b3-12c3-4353-845e-fc4b4fcfd23a"
      },
      "execution_count": null,
      "outputs": [
        {
          "output_type": "stream",
          "name": "stderr",
          "text": [
            "/usr/local/lib/python3.8/dist-packages/pandas/core/indexing.py:1667: SettingWithCopyWarning: \n",
            "A value is trying to be set on a copy of a slice from a DataFrame.\n",
            "Try using .loc[row_indexer,col_indexer] = value instead\n",
            "\n",
            "See the caveats in the documentation: https://pandas.pydata.org/pandas-docs/stable/user_guide/indexing.html#returning-a-view-versus-a-copy\n",
            "  self.obj[key] = value\n"
          ]
        },
        {
          "output_type": "execute_result",
          "data": {
            "text/plain": [
              "   Arrest_Year  StripSearch     Perceived_Race Sex Age_group__at_arrest_  \\\n",
              "0         2020            0              White   M               35 - 44   \n",
              "1         2020            0              White   M               35 - 44   \n",
              "2         2020            0  Unknown or Legacy   M               35 - 44   \n",
              "3         2021            0              Black   M               25 - 34   \n",
              "4         2021            0        South Asian   M               25 - 34   \n",
              "\n",
              "  Youth_at_arrest__under_18_years  Non_White  en_Arrest_Year  \\\n",
              "0                     Not a youth          0               0   \n",
              "1                     Not a youth          0               0   \n",
              "2                     Not a youth          1               0   \n",
              "3                     Not a youth          1               1   \n",
              "4                     Not a youth          1               1   \n",
              "\n",
              "   en_Perceived_Race  en_Sex  en_Age_group__at_arrest_  \\\n",
              "0                  7       1                         3   \n",
              "1                  7       1                         3   \n",
              "2                  6       1                         3   \n",
              "3                  0       1                         2   \n",
              "4                  5       1                         2   \n",
              "\n",
              "   en_Youth_at_arrest__under_18_years  \n",
              "0                                   0  \n",
              "1                                   0  \n",
              "2                                   0  \n",
              "3                                   0  \n",
              "4                                   0  "
            ],
            "text/html": [
              "\n",
              "  <div id=\"df-7416ba38-4a1a-4475-9743-c45ad3f0d38c\">\n",
              "    <div class=\"colab-df-container\">\n",
              "      <div>\n",
              "<style scoped>\n",
              "    .dataframe tbody tr th:only-of-type {\n",
              "        vertical-align: middle;\n",
              "    }\n",
              "\n",
              "    .dataframe tbody tr th {\n",
              "        vertical-align: top;\n",
              "    }\n",
              "\n",
              "    .dataframe thead th {\n",
              "        text-align: right;\n",
              "    }\n",
              "</style>\n",
              "<table border=\"1\" class=\"dataframe\">\n",
              "  <thead>\n",
              "    <tr style=\"text-align: right;\">\n",
              "      <th></th>\n",
              "      <th>Arrest_Year</th>\n",
              "      <th>StripSearch</th>\n",
              "      <th>Perceived_Race</th>\n",
              "      <th>Sex</th>\n",
              "      <th>Age_group__at_arrest_</th>\n",
              "      <th>Youth_at_arrest__under_18_years</th>\n",
              "      <th>Non_White</th>\n",
              "      <th>en_Arrest_Year</th>\n",
              "      <th>en_Perceived_Race</th>\n",
              "      <th>en_Sex</th>\n",
              "      <th>en_Age_group__at_arrest_</th>\n",
              "      <th>en_Youth_at_arrest__under_18_years</th>\n",
              "    </tr>\n",
              "  </thead>\n",
              "  <tbody>\n",
              "    <tr>\n",
              "      <th>0</th>\n",
              "      <td>2020</td>\n",
              "      <td>0</td>\n",
              "      <td>White</td>\n",
              "      <td>M</td>\n",
              "      <td>35 - 44</td>\n",
              "      <td>Not a youth</td>\n",
              "      <td>0</td>\n",
              "      <td>0</td>\n",
              "      <td>7</td>\n",
              "      <td>1</td>\n",
              "      <td>3</td>\n",
              "      <td>0</td>\n",
              "    </tr>\n",
              "    <tr>\n",
              "      <th>1</th>\n",
              "      <td>2020</td>\n",
              "      <td>0</td>\n",
              "      <td>White</td>\n",
              "      <td>M</td>\n",
              "      <td>35 - 44</td>\n",
              "      <td>Not a youth</td>\n",
              "      <td>0</td>\n",
              "      <td>0</td>\n",
              "      <td>7</td>\n",
              "      <td>1</td>\n",
              "      <td>3</td>\n",
              "      <td>0</td>\n",
              "    </tr>\n",
              "    <tr>\n",
              "      <th>2</th>\n",
              "      <td>2020</td>\n",
              "      <td>0</td>\n",
              "      <td>Unknown or Legacy</td>\n",
              "      <td>M</td>\n",
              "      <td>35 - 44</td>\n",
              "      <td>Not a youth</td>\n",
              "      <td>1</td>\n",
              "      <td>0</td>\n",
              "      <td>6</td>\n",
              "      <td>1</td>\n",
              "      <td>3</td>\n",
              "      <td>0</td>\n",
              "    </tr>\n",
              "    <tr>\n",
              "      <th>3</th>\n",
              "      <td>2021</td>\n",
              "      <td>0</td>\n",
              "      <td>Black</td>\n",
              "      <td>M</td>\n",
              "      <td>25 - 34</td>\n",
              "      <td>Not a youth</td>\n",
              "      <td>1</td>\n",
              "      <td>1</td>\n",
              "      <td>0</td>\n",
              "      <td>1</td>\n",
              "      <td>2</td>\n",
              "      <td>0</td>\n",
              "    </tr>\n",
              "    <tr>\n",
              "      <th>4</th>\n",
              "      <td>2021</td>\n",
              "      <td>0</td>\n",
              "      <td>South Asian</td>\n",
              "      <td>M</td>\n",
              "      <td>25 - 34</td>\n",
              "      <td>Not a youth</td>\n",
              "      <td>1</td>\n",
              "      <td>1</td>\n",
              "      <td>5</td>\n",
              "      <td>1</td>\n",
              "      <td>2</td>\n",
              "      <td>0</td>\n",
              "    </tr>\n",
              "  </tbody>\n",
              "</table>\n",
              "</div>\n",
              "      <button class=\"colab-df-convert\" onclick=\"convertToInteractive('df-7416ba38-4a1a-4475-9743-c45ad3f0d38c')\"\n",
              "              title=\"Convert this dataframe to an interactive table.\"\n",
              "              style=\"display:none;\">\n",
              "        \n",
              "  <svg xmlns=\"http://www.w3.org/2000/svg\" height=\"24px\"viewBox=\"0 0 24 24\"\n",
              "       width=\"24px\">\n",
              "    <path d=\"M0 0h24v24H0V0z\" fill=\"none\"/>\n",
              "    <path d=\"M18.56 5.44l.94 2.06.94-2.06 2.06-.94-2.06-.94-.94-2.06-.94 2.06-2.06.94zm-11 1L8.5 8.5l.94-2.06 2.06-.94-2.06-.94L8.5 2.5l-.94 2.06-2.06.94zm10 10l.94 2.06.94-2.06 2.06-.94-2.06-.94-.94-2.06-.94 2.06-2.06.94z\"/><path d=\"M17.41 7.96l-1.37-1.37c-.4-.4-.92-.59-1.43-.59-.52 0-1.04.2-1.43.59L10.3 9.45l-7.72 7.72c-.78.78-.78 2.05 0 2.83L4 21.41c.39.39.9.59 1.41.59.51 0 1.02-.2 1.41-.59l7.78-7.78 2.81-2.81c.8-.78.8-2.07 0-2.86zM5.41 20L4 18.59l7.72-7.72 1.47 1.35L5.41 20z\"/>\n",
              "  </svg>\n",
              "      </button>\n",
              "      \n",
              "  <style>\n",
              "    .colab-df-container {\n",
              "      display:flex;\n",
              "      flex-wrap:wrap;\n",
              "      gap: 12px;\n",
              "    }\n",
              "\n",
              "    .colab-df-convert {\n",
              "      background-color: #E8F0FE;\n",
              "      border: none;\n",
              "      border-radius: 50%;\n",
              "      cursor: pointer;\n",
              "      display: none;\n",
              "      fill: #1967D2;\n",
              "      height: 32px;\n",
              "      padding: 0 0 0 0;\n",
              "      width: 32px;\n",
              "    }\n",
              "\n",
              "    .colab-df-convert:hover {\n",
              "      background-color: #E2EBFA;\n",
              "      box-shadow: 0px 1px 2px rgba(60, 64, 67, 0.3), 0px 1px 3px 1px rgba(60, 64, 67, 0.15);\n",
              "      fill: #174EA6;\n",
              "    }\n",
              "\n",
              "    [theme=dark] .colab-df-convert {\n",
              "      background-color: #3B4455;\n",
              "      fill: #D2E3FC;\n",
              "    }\n",
              "\n",
              "    [theme=dark] .colab-df-convert:hover {\n",
              "      background-color: #434B5C;\n",
              "      box-shadow: 0px 1px 3px 1px rgba(0, 0, 0, 0.15);\n",
              "      filter: drop-shadow(0px 1px 2px rgba(0, 0, 0, 0.3));\n",
              "      fill: #FFFFFF;\n",
              "    }\n",
              "  </style>\n",
              "\n",
              "      <script>\n",
              "        const buttonEl =\n",
              "          document.querySelector('#df-7416ba38-4a1a-4475-9743-c45ad3f0d38c button.colab-df-convert');\n",
              "        buttonEl.style.display =\n",
              "          google.colab.kernel.accessAllowed ? 'block' : 'none';\n",
              "\n",
              "        async function convertToInteractive(key) {\n",
              "          const element = document.querySelector('#df-7416ba38-4a1a-4475-9743-c45ad3f0d38c');\n",
              "          const dataTable =\n",
              "            await google.colab.kernel.invokeFunction('convertToInteractive',\n",
              "                                                     [key], {});\n",
              "          if (!dataTable) return;\n",
              "\n",
              "          const docLinkHtml = 'Like what you see? Visit the ' +\n",
              "            '<a target=\"_blank\" href=https://colab.research.google.com/notebooks/data_table.ipynb>data table notebook</a>'\n",
              "            + ' to learn more about interactive tables.';\n",
              "          element.innerHTML = '';\n",
              "          dataTable['output_type'] = 'display_data';\n",
              "          await google.colab.output.renderOutput(dataTable, element);\n",
              "          const docLink = document.createElement('div');\n",
              "          docLink.innerHTML = docLinkHtml;\n",
              "          element.appendChild(docLink);\n",
              "        }\n",
              "      </script>\n",
              "    </div>\n",
              "  </div>\n",
              "  "
            ]
          },
          "metadata": {},
          "execution_count": 177
        }
      ]
    },
    {
      "cell_type": "markdown",
      "source": [
        "# correlation plot"
      ],
      "metadata": {
        "id": "wVanKHjxTP1K"
      }
    },
    {
      "cell_type": "code",
      "source": [
        "import matplotlib.pyplot as plt\n",
        "import seaborn as sns\n",
        "\n",
        "corr = df_en.corr()\n",
        "sns.heatmap(corr,\n",
        "            annot=True,\n",
        "            xticklabels=corr.columns,\n",
        "            yticklabels=corr.columns)\n",
        "plt.show()"
      ],
      "metadata": {
        "colab": {
          "base_uri": "https://localhost:8080/",
          "height": 737
        },
        "id": "NW5oBpgpTUzD",
        "outputId": "aa11ea39-1f96-473f-fea8-b28d09aaddeb"
      },
      "execution_count": null,
      "outputs": [
        {
          "output_type": "display_data",
          "data": {
            "text/plain": [
              "<Figure size 1152x648 with 2 Axes>"
            ],
            "image/png": "[encoded data removed]"
          },
          "metadata": {}
        }
      ]
    },
    {
      "cell_type": "markdown",
      "source": [
        "# Grouped data"
      ],
      "metadata": {
        "id": "JGCQ6tA1TqmR"
      }
    },
    {
      "cell_type": "markdown",
      "source": [
        "grouped data with categorical variables"
      ],
      "metadata": {
        "id": "yzj5Si4eToYt"
      }
    },
    {
      "cell_type": "code",
      "source": [
        "ca_non_strip_data = df.groupby(['Arrest_Year','Perceived_Race', 'Sex', 'Age_group__at_arrest_', 'Youth_at_arrest__under_18_years', 'Non_White'])['StripSearch'].apply(lambda x: (x == 0).sum()).reset_index() \n",
        "ca_non_strip_data = ca_non_strip_data.rename(columns={'StripSearch': 'Non_Search_count'})\n",
        "ca_strip_data = df.groupby(['Arrest_Year','Perceived_Race', 'Sex', 'Age_group__at_arrest_', 'Youth_at_arrest__under_18_years', 'Non_White'])['StripSearch'].apply(lambda x: (x == 1).sum()).reset_index() \n",
        "ca_strip_data = ca_strip_data.rename(columns={'StripSearch': 'Search_count'})\n"
      ],
      "metadata": {
        "id": "H2B9xw6_TkVA"
      },
      "execution_count": null,
      "outputs": []
    },
    {
      "cell_type": "code",
      "source": [
        "search_rate = ca_strip_data['Search_count']/(ca_strip_data['Search_count'] + ca_non_strip_data['Non_Search_count']) *100\n",
        "ca_strip_data['search_rate'] = search_rate\n",
        "ca_strip_data"
      ],
      "metadata": {
        "colab": {
          "base_uri": "https://localhost:8080/",
          "height": 424
        },
        "id": "l7nC0IYyUAMd",
        "outputId": "31697e0a-3b7c-41e4-de8e-a1d79ebe2482"
      },
      "execution_count": null,
      "outputs": [
        {
          "output_type": "execute_result",
          "data": {
            "text/plain": [
              "     Arrest_Year Perceived_Race Sex Age_group__at_arrest_  \\\n",
              "0           2020          Black   F          17 and under   \n",
              "1           2020          Black   F               18 - 24   \n",
              "2           2020          Black   F               25 - 34   \n",
              "3           2020          Black   F               35 - 44   \n",
              "4           2020          Black   F               45 - 54   \n",
              "..           ...            ...  ..                   ...   \n",
              "225         2021          White   M               35 - 44   \n",
              "226         2021          White   M               45 - 54   \n",
              "227         2021          White   M               55 - 64   \n",
              "228         2021          White   M          65 and older   \n",
              "229         2021          White   U               25 - 34   \n",
              "\n",
              "    Youth_at_arrest__under_18_years  Non_White  Search_count  search_rate  \n",
              "0       Youth (aged 17 and younger)          1            11     5.641026  \n",
              "1                       Not a youth          1            75    20.661157  \n",
              "2                       Not a youth          1            72    14.784394  \n",
              "3                       Not a youth          1            41    16.803279  \n",
              "4                       Not a youth          1            28    21.052632  \n",
              "..                              ...        ...           ...          ...  \n",
              "225                     Not a youth          0           102     3.192488  \n",
              "226                     Not a youth          0            20     1.031460  \n",
              "227                     Not a youth          0            11     1.011029  \n",
              "228                     Not a youth          0             3     1.020408  \n",
              "229                     Not a youth          0             0     0.000000  \n",
              "\n",
              "[230 rows x 8 columns]"
            ],
            "text/html": [
              "\n",
              "  <div id=\"df-6e9da15c-d743-40a0-b157-a5cb0d1c688b\">\n",
              "    <div class=\"colab-df-container\">\n",
              "      <div>\n",
              "<style scoped>\n",
              "    .dataframe tbody tr th:only-of-type {\n",
              "        vertical-align: middle;\n",
              "    }\n",
              "\n",
              "    .dataframe tbody tr th {\n",
              "        vertical-align: top;\n",
              "    }\n",
              "\n",
              "    .dataframe thead th {\n",
              "        text-align: right;\n",
              "    }\n",
              "</style>\n",
              "<table border=\"1\" class=\"dataframe\">\n",
              "  <thead>\n",
              "    <tr style=\"text-align: right;\">\n",
              "      <th></th>\n",
              "      <th>Arrest_Year</th>\n",
              "      <th>Perceived_Race</th>\n",
              "      <th>Sex</th>\n",
              "      <th>Age_group__at_arrest_</th>\n",
              "      <th>Youth_at_arrest__under_18_years</th>\n",
              "      <th>Non_White</th>\n",
              "      <th>Search_count</th>\n",
              "      <th>search_rate</th>\n",
              "    </tr>\n",
              "  </thead>\n",
              "  <tbody>\n",
              "    <tr>\n",
              "      <th>0</th>\n",
              "      <td>2020</td>\n",
              "      <td>Black</td>\n",
              "      <td>F</td>\n",
              "      <td>17 and under</td>\n",
              "      <td>Youth (aged 17 and younger)</td>\n",
              "      <td>1</td>\n",
              "      <td>11</td>\n",
              "      <td>5.641026</td>\n",
              "    </tr>\n",
              "    <tr>\n",
              "      <th>1</th>\n",
              "      <td>2020</td>\n",
              "      <td>Black</td>\n",
              "      <td>F</td>\n",
              "      <td>18 - 24</td>\n",
              "      <td>Not a youth</td>\n",
              "      <td>1</td>\n",
              "      <td>75</td>\n",
              "      <td>20.661157</td>\n",
              "    </tr>\n",
              "    <tr>\n",
              "      <th>2</th>\n",
              "      <td>2020</td>\n",
              "      <td>Black</td>\n",
              "      <td>F</td>\n",
              "      <td>25 - 34</td>\n",
              "      <td>Not a youth</td>\n",
              "      <td>1</td>\n",
              "      <td>72</td>\n",
              "      <td>14.784394</td>\n",
              "    </tr>\n",
              "    <tr>\n",
              "      <th>3</th>\n",
              "      <td>2020</td>\n",
              "      <td>Black</td>\n",
              "      <td>F</td>\n",
              "      <td>35 - 44</td>\n",
              "      <td>Not a youth</td>\n",
              "      <td>1</td>\n",
              "      <td>41</td>\n",
              "      <td>16.803279</td>\n",
              "    </tr>\n",
              "    <tr>\n",
              "      <th>4</th>\n",
              "      <td>2020</td>\n",
              "      <td>Black</td>\n",
              "      <td>F</td>\n",
              "      <td>45 - 54</td>\n",
              "      <td>Not a youth</td>\n",
              "      <td>1</td>\n",
              "      <td>28</td>\n",
              "      <td>21.052632</td>\n",
              "    </tr>\n",
              "    <tr>\n",
              "      <th>...</th>\n",
              "      <td>...</td>\n",
              "      <td>...</td>\n",
              "      <td>...</td>\n",
              "      <td>...</td>\n",
              "      <td>...</td>\n",
              "      <td>...</td>\n",
              "      <td>...</td>\n",
              "      <td>...</td>\n",
              "    </tr>\n",
              "    <tr>\n",
              "      <th>225</th>\n",
              "      <td>2021</td>\n",
              "      <td>White</td>\n",
              "      <td>M</td>\n",
              "      <td>35 - 44</td>\n",
              "      <td>Not a youth</td>\n",
              "      <td>0</td>\n",
              "      <td>102</td>\n",
              "      <td>3.192488</td>\n",
              "    </tr>\n",
              "    <tr>\n",
              "      <th>226</th>\n",
              "      <td>2021</td>\n",
              "      <td>White</td>\n",
              "      <td>M</td>\n",
              "      <td>45 - 54</td>\n",
              "      <td>Not a youth</td>\n",
              "      <td>0</td>\n",
              "      <td>20</td>\n",
              "      <td>1.031460</td>\n",
              "    </tr>\n",
              "    <tr>\n",
              "      <th>227</th>\n",
              "      <td>2021</td>\n",
              "      <td>White</td>\n",
              "      <td>M</td>\n",
              "      <td>55 - 64</td>\n",
              "      <td>Not a youth</td>\n",
              "      <td>0</td>\n",
              "      <td>11</td>\n",
              "      <td>1.011029</td>\n",
              "    </tr>\n",
              "    <tr>\n",
              "      <th>228</th>\n",
              "      <td>2021</td>\n",
              "      <td>White</td>\n",
              "      <td>M</td>\n",
              "      <td>65 and older</td>\n",
              "      <td>Not a youth</td>\n",
              "      <td>0</td>\n",
              "      <td>3</td>\n",
              "      <td>1.020408</td>\n",
              "    </tr>\n",
              "    <tr>\n",
              "      <th>229</th>\n",
              "      <td>2021</td>\n",
              "      <td>White</td>\n",
              "      <td>U</td>\n",
              "      <td>25 - 34</td>\n",
              "      <td>Not a youth</td>\n",
              "      <td>0</td>\n",
              "      <td>0</td>\n",
              "      <td>0.000000</td>\n",
              "    </tr>\n",
              "  </tbody>\n",
              "</table>\n",
              "<p>230 rows × 8 columns</p>\n",
              "</div>\n",
              "      <button class=\"colab-df-convert\" onclick=\"convertToInteractive('df-6e9da15c-d743-40a0-b157-a5cb0d1c688b')\"\n",
              "              title=\"Convert this dataframe to an interactive table.\"\n",
              "              style=\"display:none;\">\n",
              "        \n",
              "  <svg xmlns=\"http://www.w3.org/2000/svg\" height=\"24px\"viewBox=\"0 0 24 24\"\n",
              "       width=\"24px\">\n",
              "    <path d=\"M0 0h24v24H0V0z\" fill=\"none\"/>\n",
              "    <path d=\"M18.56 5.44l.94 2.06.94-2.06 2.06-.94-2.06-.94-.94-2.06-.94 2.06-2.06.94zm-11 1L8.5 8.5l.94-2.06 2.06-.94-2.06-.94L8.5 2.5l-.94 2.06-2.06.94zm10 10l.94 2.06.94-2.06 2.06-.94-2.06-.94-.94-2.06-.94 2.06-2.06.94z\"/><path d=\"M17.41 7.96l-1.37-1.37c-.4-.4-.92-.59-1.43-.59-.52 0-1.04.2-1.43.59L10.3 9.45l-7.72 7.72c-.78.78-.78 2.05 0 2.83L4 21.41c.39.39.9.59 1.41.59.51 0 1.02-.2 1.41-.59l7.78-7.78 2.81-2.81c.8-.78.8-2.07 0-2.86zM5.41 20L4 18.59l7.72-7.72 1.47 1.35L5.41 20z\"/>\n",
              "  </svg>\n",
              "      </button>\n",
              "      \n",
              "  <style>\n",
              "    .colab-df-container {\n",
              "      display:flex;\n",
              "      flex-wrap:wrap;\n",
              "      gap: 12px;\n",
              "    }\n",
              "\n",
              "    .colab-df-convert {\n",
              "      background-color: #E8F0FE;\n",
              "      border: none;\n",
              "      border-radius: 50%;\n",
              "      cursor: pointer;\n",
              "      display: none;\n",
              "      fill: #1967D2;\n",
              "      height: 32px;\n",
              "      padding: 0 0 0 0;\n",
              "      width: 32px;\n",
              "    }\n",
              "\n",
              "    .colab-df-convert:hover {\n",
              "      background-color: #E2EBFA;\n",
              "      box-shadow: 0px 1px 2px rgba(60, 64, 67, 0.3), 0px 1px 3px 1px rgba(60, 64, 67, 0.15);\n",
              "      fill: #174EA6;\n",
              "    }\n",
              "\n",
              "    [theme=dark] .colab-df-convert {\n",
              "      background-color: #3B4455;\n",
              "      fill: #D2E3FC;\n",
              "    }\n",
              "\n",
              "    [theme=dark] .colab-df-convert:hover {\n",
              "      background-color: #434B5C;\n",
              "      box-shadow: 0px 1px 3px 1px rgba(0, 0, 0, 0.15);\n",
              "      filter: drop-shadow(0px 1px 2px rgba(0, 0, 0, 0.3));\n",
              "      fill: #FFFFFF;\n",
              "    }\n",
              "  </style>\n",
              "\n",
              "      <script>\n",
              "        const buttonEl =\n",
              "          document.querySelector('#df-6e9da15c-d743-40a0-b157-a5cb0d1c688b button.colab-df-convert');\n",
              "        buttonEl.style.display =\n",
              "          google.colab.kernel.accessAllowed ? 'block' : 'none';\n",
              "\n",
              "        async function convertToInteractive(key) {\n",
              "          const element = document.querySelector('#df-6e9da15c-d743-40a0-b157-a5cb0d1c688b');\n",
              "          const dataTable =\n",
              "            await google.colab.kernel.invokeFunction('convertToInteractive',\n",
              "                                                     [key], {});\n",
              "          if (!dataTable) return;\n",
              "\n",
              "          const docLinkHtml = 'Like what you see? Visit the ' +\n",
              "            '<a target=\"_blank\" href=https://colab.research.google.com/notebooks/data_table.ipynb>data table notebook</a>'\n",
              "            + ' to learn more about interactive tables.';\n",
              "          element.innerHTML = '';\n",
              "          dataTable['output_type'] = 'display_data';\n",
              "          await google.colab.output.renderOutput(dataTable, element);\n",
              "          const docLink = document.createElement('div');\n",
              "          docLink.innerHTML = docLinkHtml;\n",
              "          element.appendChild(docLink);\n",
              "        }\n",
              "      </script>\n",
              "    </div>\n",
              "  </div>\n",
              "  "
            ]
          },
          "metadata": {},
          "execution_count": 180
        }
      ]
    },
    {
      "cell_type": "markdown",
      "source": [
        "# T-Test "
      ],
      "metadata": {
        "id": "qFDD_DECUB0X"
      }
    },
    {
      "cell_type": "code",
      "source": [
        "import pandas as pd\n",
        "from scipy import stats"
      ],
      "metadata": {
        "id": "PQZMZH3GT24-"
      },
      "execution_count": null,
      "outputs": []
    },
    {
      "cell_type": "markdown",
      "source": [
        "## t test 1"
      ],
      "metadata": {
        "id": "8RzUVhiUwlUE"
      }
    },
    {
      "cell_type": "code",
      "source": [
        "#Hypothesis: white and non white  has the same search rate\n",
        "#H0: Mean search rate white  = Mean search rate non white\n",
        "#Ha: Mean search rate white != Mean search rate non white\n",
        "sample_white = ca_strip_data[ca_strip_data['Non_White'] == 0]['search_rate']\n",
        "sample_white_non = ca_strip_data[ca_strip_data['Non_White'] == 1]['search_rate']"
      ],
      "metadata": {
        "id": "nQYpWrB8UF5o"
      },
      "execution_count": null,
      "outputs": []
    },
    {
      "cell_type": "code",
      "source": [
        "import matplotlib.pyplot as plt\n",
        "df_white = sample_white.to_frame()\n",
        "df_white_non = sample_white_non.to_frame()\n",
        "fig, ax = plt.subplots(figsize =(16, 9))\n",
        "ax.boxplot([df_white['search_rate'], df_white_non['search_rate']])\n",
        "ax.set_xlabel('Races')\n",
        "ax.set_ylabel('Saerch rates')\n",
        "ax.set_title('Box plot for white and non white search rates')\n",
        "ax.set_xticklabels(['white', 'non white'])"
      ],
      "metadata": {
        "colab": {
          "base_uri": "https://localhost:8080/",
          "height": 590
        },
        "id": "ga0_plGJtzHe",
        "outputId": "93a2f6f2-46a0-4121-8400-d328e6596ff2"
      },
      "execution_count": null,
      "outputs": [
        {
          "output_type": "execute_result",
          "data": {
            "text/plain": [
              "[Text(1, 0, 'white'), Text(2, 0, 'non white')]"
            ]
          },
          "metadata": {},
          "execution_count": 183
        },
        {
          "output_type": "display_data",
          "data": {
            "text/plain": [
              "<Figure size 1152x648 with 1 Axes>"
            ],
            "image/png": "[encoded data removed]"
          },
          "metadata": {}
        }
      ]
    },
    {
      "cell_type": "code",
      "source": [
        "# perform t-test\n",
        "tstatistic, pvalue = stats.ttest_ind(sample_white, sample_white_non)\n",
        "\n",
        "# print the results\n",
        "print(\"t-statistic:\", tstatistic)\n",
        "print(\"p-value:\", pvalue)"
      ],
      "metadata": {
        "colab": {
          "base_uri": "https://localhost:8080/"
        },
        "id": "IOoiOlXCgQKx",
        "outputId": "2430a33a-243b-44c8-ff93-032fce6a8a33"
      },
      "execution_count": null,
      "outputs": [
        {
          "output_type": "stream",
          "name": "stdout",
          "text": [
            "t-statistic: 0.7246589760865609\n",
            "p-value: 0.4694042597367569\n"
          ]
        }
      ]
    },
    {
      "cell_type": "code",
      "source": [
        "# perform one-way ANOVA\n",
        "f_statistic, p_value = stats.f_oneway(sample_white, sample_white_non)\n",
        "\n",
        "# print the results\n",
        "print(\"f-statistic:\", f_statistic)\n",
        "print(\"p-value:\", p_value)"
      ],
      "metadata": {
        "colab": {
          "base_uri": "https://localhost:8080/"
        },
        "id": "9Y_pjqNppdGK",
        "outputId": "914f528a-8fcb-428a-a2bf-94149c8aadae"
      },
      "execution_count": null,
      "outputs": [
        {
          "output_type": "stream",
          "name": "stdout",
          "text": [
            "f-statistic: 0.5251306316228227\n",
            "p-value: 0.4694042597367529\n"
          ]
        }
      ]
    },
    {
      "cell_type": "markdown",
      "source": [
        "Based on the p-value, which is greater than the common significance level of 0.05, we can not reject the null hypothesis that white and non white  has the same search rate"
      ],
      "metadata": {
        "id": "3QxQAjrcUII-"
      }
    },
    {
      "cell_type": "markdown",
      "source": [
        "## t test 2"
      ],
      "metadata": {
        "id": "FCc-C9LEwt4I"
      }
    },
    {
      "cell_type": "code",
      "source": [
        "#Hypothesis: female and male has the same search rate\n",
        "#H0: Mean search rate female = Mean search rate male \n",
        "#Ha: Mean search rate female != Mean search rate male \n",
        "sample_sex_F = ca_strip_data[ca_strip_data['Sex'] == 'F']['search_rate']\n",
        "sample_sex_M= ca_strip_data[ca_strip_data['Sex'] == 'M']['search_rate']\n"
      ],
      "metadata": {
        "id": "mzKBqetqULdB"
      },
      "execution_count": null,
      "outputs": []
    },
    {
      "cell_type": "code",
      "source": [
        "import matplotlib.pyplot as plt\n",
        "df_sex_F = sample_sex_F.to_frame()\n",
        "df_sex_M = sample_sex_M.to_frame()\n",
        "fig, ax = plt.subplots(figsize =(16, 9))\n",
        "ax.boxplot([df_sex_F['search_rate'], df_sex_M['search_rate']])\n",
        "ax.set_xlabel('Sex')\n",
        "ax.set_ylabel('Saerch rates')\n",
        "ax.set_title('Box plot for female and male search rates')\n",
        "ax.set_xticklabels(['Female', 'Male'])"
      ],
      "metadata": {
        "colab": {
          "base_uri": "https://localhost:8080/",
          "height": 590
        },
        "id": "QrZTIbbvz-EQ",
        "outputId": "fe77e622-9284-4a9d-b9d0-0d1084f46b02"
      },
      "execution_count": null,
      "outputs": [
        {
          "output_type": "execute_result",
          "data": {
            "text/plain": [
              "[Text(1, 0, 'Female'), Text(2, 0, 'Male')]"
            ]
          },
          "metadata": {},
          "execution_count": 187
        },
        {
          "output_type": "display_data",
          "data": {
            "text/plain": [
              "<Figure size 1152x648 with 1 Axes>"
            ],
            "image/png": "[encoded data removed]"
          },
          "metadata": {}
        }
      ]
    },
    {
      "cell_type": "code",
      "source": [
        "# perform t-test\n",
        "tstatistic, pvalue = stats.ttest_ind(sample_sex_F, sample_sex_M)\n",
        "\n",
        "# print the results\n",
        "print(\"t-statistic:\", tstatistic)\n",
        "print(\"p-value:\", pvalue)"
      ],
      "metadata": {
        "colab": {
          "base_uri": "https://localhost:8080/"
        },
        "id": "WsfjwDfmhATh",
        "outputId": "db7fb701-16c7-4ba2-aaca-041655231770"
      },
      "execution_count": null,
      "outputs": [
        {
          "output_type": "stream",
          "name": "stdout",
          "text": [
            "t-statistic: -2.575685017939926\n",
            "p-value: 0.010656056197281561\n"
          ]
        }
      ]
    },
    {
      "cell_type": "code",
      "source": [
        "# perform one-way ANOVA\n",
        "f_statistic, p_value = stats.f_oneway(sample_sex_F, sample_sex_M)\n",
        "\n",
        "# print the results\n",
        "print(\"f-statistic:\", f_statistic)\n",
        "print(\"p-value:\", p_value)"
      ],
      "metadata": {
        "colab": {
          "base_uri": "https://localhost:8080/"
        },
        "id": "8mfWmZbKp0zw",
        "outputId": "248a7739-007b-43ec-8bae-c614033f19fe"
      },
      "execution_count": null,
      "outputs": [
        {
          "output_type": "stream",
          "name": "stdout",
          "text": [
            "f-statistic: 6.634153311640197\n",
            "p-value: 0.010656056197281464\n"
          ]
        }
      ]
    },
    {
      "cell_type": "markdown",
      "source": [
        "Based on the p-value, which is smaller than the common significance level of 0.05, we can reject the null hypothesis that female and male has the same search rate"
      ],
      "metadata": {
        "id": "-GVpt_igUOpJ"
      }
    },
    {
      "cell_type": "markdown",
      "source": [
        "## test 3"
      ],
      "metadata": {
        "id": "RY6rexK3wzX1"
      }
    },
    {
      "cell_type": "code",
      "source": [
        "#Hypothesis:  adult and youth has the same search rate\n",
        "#H0: Mean search rate adult = Mean search rate youth\n",
        "#Ha: Mean search rate adult != Mean search rate youth\n",
        "sample_year_not_youth = ca_strip_data[(ca_strip_data['Youth_at_arrest__under_18_years'] == 'Not a youth')]['search_rate']\n",
        "sample_year_youth = ca_strip_data[(ca_strip_data['Youth_at_arrest__under_18_years'] != 'Not a youth')]['search_rate']"
      ],
      "metadata": {
        "id": "ByVapAQjURlx"
      },
      "execution_count": null,
      "outputs": []
    },
    {
      "cell_type": "code",
      "source": [
        "import matplotlib.pyplot as plt\n",
        "df_not_youth = sample_year_not_youth.to_frame()\n",
        "df_youth = sample_year_youth.to_frame()\n",
        "fig, ax = plt.subplots(figsize =(16, 9))\n",
        "ax.boxplot([df_not_youth['search_rate'], df_youth['search_rate']])\n",
        "ax.set_xlabel('Age Group')\n",
        "ax.set_ylabel('Saerch rates')\n",
        "ax.set_title('Box plot for adult and youth search rates')\n",
        "ax.set_xticklabels(['Adult', 'Youth'])"
      ],
      "metadata": {
        "colab": {
          "base_uri": "https://localhost:8080/",
          "height": 158
        },
        "id": "P5Si5DUq0T2O",
        "outputId": "398e32ec-c31d-4eb9-f71c-7048361829b5"
      },
      "execution_count": null,
      "outputs": [
        {
          "output_type": "execute_result",
          "data": {
            "text/plain": [
              "[Text(1, 0, 'Adult'), Text(2, 0, 'Youth')]"
            ]
          },
          "metadata": {},
          "execution_count": 191
        },
        {
          "output_type": "display_data",
          "data": {
            "text/plain": [
              "<Figure size 1152x648 with 1 Axes>"
            ],
            "image/png": "[encoded data removed]"
          },
          "metadata": {}
        }
      ]
    },
    {
      "cell_type": "code",
      "source": [
        "# perform t-test\n",
        "tstatistic, pvalue = stats.ttest_ind(sample_year_not_youth, sample_year_youth)\n",
        "\n",
        "# print the results\n",
        "print(\"t-statistic:\", tstatistic)\n",
        "print(\"p-value:\", pvalue)"
      ],
      "metadata": {
        "colab": {
          "base_uri": "https://localhost:8080/"
        },
        "id": "dPLFr7X1hZzb",
        "outputId": "eac9d9c0-e001-4382-9050-7365dc185df3"
      },
      "execution_count": null,
      "outputs": [
        {
          "output_type": "stream",
          "name": "stdout",
          "text": [
            "t-statistic: -0.1936989163956314\n",
            "p-value: 0.8465840952362469\n"
          ]
        }
      ]
    },
    {
      "cell_type": "code",
      "source": [
        "# perform one-way ANOVA\n",
        "f_statistic, p_value = stats.f_oneway(sample_year_not_youth, sample_year_youth)\n",
        "\n",
        "# print the results\n",
        "print(\"f-statistic:\", f_statistic)\n",
        "print(\"p-value:\", p_value)"
      ],
      "metadata": {
        "colab": {
          "base_uri": "https://localhost:8080/"
        },
        "id": "YDKaea2tqA6Z",
        "outputId": "a2879c35-2688-4059-f01a-85de35988ed5"
      },
      "execution_count": null,
      "outputs": [
        {
          "output_type": "stream",
          "name": "stdout",
          "text": [
            "f-statistic: 0.03751927021284174\n",
            "p-value: 0.8465840952362751\n"
          ]
        }
      ]
    },
    {
      "cell_type": "markdown",
      "source": [
        "Based on the p-value, which is greater than the common significance level of 0.05, we can reject the null hypothesis that adult and youth has the same search rate"
      ],
      "metadata": {
        "id": "K7KX8xsaUU2X"
      }
    },
    {
      "cell_type": "markdown",
      "source": [
        "## t test 4"
      ],
      "metadata": {
        "id": "9xN6sHtzw4id"
      }
    },
    {
      "cell_type": "code",
      "source": [
        "#Hypothesis:  white female and white male has the same search rate\n",
        "#H0: Mean search rate white female = Mean search rate white male \n",
        "#Ha: Mean search rate white female != Mean search rate white male \n",
        "sample_white_female= ca_strip_data[(ca_strip_data['Non_White'] == 0) & (ca_strip_data['Sex'] == 'F')]['search_rate']\n",
        "sample_white_male = ca_strip_data[(ca_strip_data['Non_White'] == 0) & (ca_strip_data['Sex'] == 'M')]['search_rate']"
      ],
      "metadata": {
        "id": "Rb554s7rsEdM"
      },
      "execution_count": null,
      "outputs": []
    },
    {
      "cell_type": "code",
      "source": [
        "import matplotlib.pyplot as plt\n",
        "df_white_female = sample_white_female.to_frame()\n",
        "df_white_male = sample_white_male.to_frame()\n",
        "fig, ax = plt.subplots(figsize =(16, 9))\n",
        "ax.boxplot([df_white_female ['search_rate'], df_white_male['search_rate']])\n",
        "ax.set_xlabel('white female and male')\n",
        "ax.set_ylabel('Saerch rates')\n",
        "ax.set_title('Box plot for white female and white male search rates')\n",
        "ax.set_xticklabels(['white female', 'white male'])"
      ],
      "metadata": {
        "colab": {
          "base_uri": "https://localhost:8080/",
          "height": 590
        },
        "id": "R45Jgwx_sbtc",
        "outputId": "194c2c64-3763-45b9-cad6-be1d272d80c0"
      },
      "execution_count": null,
      "outputs": [
        {
          "output_type": "execute_result",
          "data": {
            "text/plain": [
              "[Text(1, 0, 'white female'), Text(2, 0, 'white male')]"
            ]
          },
          "metadata": {},
          "execution_count": 196
        },
        {
          "output_type": "display_data",
          "data": {
            "text/plain": [
              "<Figure size 1152x648 with 1 Axes>"
            ],
            "image/png": "[encoded data removed]"
          },
          "metadata": {}
        }
      ]
    },
    {
      "cell_type": "code",
      "source": [
        "# perform t-test\n",
        "tstatistic, pvalue = stats.ttest_ind(sample_white_female, sample_white_male)\n",
        "\n",
        "# print the results\n",
        "print(\"t-statistic:\", tstatistic)\n",
        "print(\"p-value:\", pvalue)"
      ],
      "metadata": {
        "colab": {
          "base_uri": "https://localhost:8080/"
        },
        "id": "RiHpTQa0s7Yl",
        "outputId": "04629306-f266-4847-cb97-f381f3dc00d3"
      },
      "execution_count": null,
      "outputs": [
        {
          "output_type": "stream",
          "name": "stdout",
          "text": [
            "t-statistic: -0.3078998597138327\n",
            "p-value: 0.760611664046764\n"
          ]
        }
      ]
    },
    {
      "cell_type": "code",
      "source": [
        "# perform one-way ANOVA\n",
        "f_statistic, p_value = stats.f_oneway(sample_2020, sample_2021)\n",
        "\n",
        "# print the results\n",
        "print(\"f-statistic:\", f_statistic)\n",
        "print(\"p-value:\", p_value)"
      ],
      "metadata": {
        "colab": {
          "base_uri": "https://localhost:8080/"
        },
        "id": "Vg2INZlst0Z0",
        "outputId": "376e5094-eb97-4af9-b0cf-e887bb15777e"
      },
      "execution_count": null,
      "outputs": [
        {
          "output_type": "stream",
          "name": "stdout",
          "text": [
            "f-statistic: 0.09480232361179801\n",
            "p-value: 0.7606116640467631\n"
          ]
        }
      ]
    },
    {
      "cell_type": "markdown",
      "source": [
        "Based on the p-value, which is greater than the common significance level of 0.05, we can reject the null hypothesis that white female and white male has the same search rate"
      ],
      "metadata": {
        "id": "Xi8xVqoM1WIv"
      }
    },
    {
      "cell_type": "markdown",
      "source": [
        "## t test 5"
      ],
      "metadata": {
        "id": "N3uF4y_Nw9gi"
      }
    },
    {
      "cell_type": "code",
      "source": [
        "#Hypothesis:  white and black has the same search rate\n",
        "#H0: Mean search rate white = Mean search rate black\n",
        "#Ha: Mean search rate white != Mean search rate black\n",
        "sample_white = ca_strip_data[ca_strip_data['Perceived_Race'] == 'White']['search_rate']\n",
        "sample_black = ca_strip_data[ca_strip_data['Perceived_Race'] == 'Black']['search_rate']"
      ],
      "metadata": {
        "id": "R3SolSjouFHs"
      },
      "execution_count": null,
      "outputs": []
    },
    {
      "cell_type": "code",
      "source": [
        "import matplotlib.pyplot as plt\n",
        "df_white = sample_white.to_frame()\n",
        "df_black = sample_black.to_frame()\n",
        "fig, ax = plt.subplots(figsize =(16, 9))\n",
        "ax.boxplot([df_white['search_rate'], df_black['search_rate']])\n",
        "ax.set_xlabel('races')\n",
        "ax.set_ylabel('Saerch rates')\n",
        "ax.set_title('Box plot for white and black search rates')\n",
        "ax.set_xticklabels(['white', 'black'])"
      ],
      "metadata": {
        "colab": {
          "base_uri": "https://localhost:8080/",
          "height": 590
        },
        "id": "CC26E0QmvZ8g",
        "outputId": "df89f3f0-618e-4da3-beab-7451094d9d18"
      },
      "execution_count": null,
      "outputs": [
        {
          "output_type": "execute_result",
          "data": {
            "text/plain": [
              "[Text(1, 0, 'white'), Text(2, 0, 'black')]"
            ]
          },
          "metadata": {},
          "execution_count": 200
        },
        {
          "output_type": "display_data",
          "data": {
            "text/plain": [
              "<Figure size 1152x648 with 1 Axes>"
            ],
            "image/png": "[encoded data removed]"
          },
          "metadata": {}
        }
      ]
    },
    {
      "cell_type": "code",
      "source": [
        "# perform t-test\n",
        "tstatistic, pvalue = stats.ttest_ind(sample_white, sample_black)\n",
        "\n",
        "# print the results\n",
        "print(\"t-statistic:\", tstatistic)\n",
        "print(\"p-value:\", pvalue)"
      ],
      "metadata": {
        "colab": {
          "base_uri": "https://localhost:8080/"
        },
        "id": "xferZ7c9vuki",
        "outputId": "af4a7f48-31b3-4d2a-8b7b-d47a374dc045"
      },
      "execution_count": null,
      "outputs": [
        {
          "output_type": "stream",
          "name": "stdout",
          "text": [
            "t-statistic: -0.4515601238010063\n",
            "p-value: 0.6532994129721228\n"
          ]
        }
      ]
    },
    {
      "cell_type": "code",
      "source": [
        "# perform one-way ANOVA\n",
        "f_statistic, p_value = stats.f_oneway(sample_white, sample_black)\n",
        "\n",
        "# print the results\n",
        "print(\"f-statistic:\", f_statistic)\n",
        "print(\"p-value:\", p_value)"
      ],
      "metadata": {
        "colab": {
          "base_uri": "https://localhost:8080/"
        },
        "id": "kK01VUrAwdLZ",
        "outputId": "6e86f5dd-5ef3-4c71-e355-4887043f7f7f"
      },
      "execution_count": null,
      "outputs": [
        {
          "output_type": "stream",
          "name": "stdout",
          "text": [
            "f-statistic: 0.2039065454071803\n",
            "p-value: 0.6532994129721241\n"
          ]
        }
      ]
    },
    {
      "cell_type": "markdown",
      "source": [
        "Based on the p-value, which is greater than the common significance level of 0.05, we can reject the null hypothesis that white and black has the same search rate"
      ],
      "metadata": {
        "id": "RQa_jz_VwUXG"
      }
    },
    {
      "cell_type": "markdown",
      "source": [
        "# tukey hsd"
      ],
      "metadata": {
        "id": "INJWsqKMCphX"
      }
    },
    {
      "cell_type": "code",
      "source": [
        "#1 way anova with tukey hsd\n",
        "from scipy.stats import f_oneway\n",
        "import statsmodels.api as sm\n",
        "from statsmodels.formula.api import ols\n",
        "from statsmodels.stats.multicomp import pairwise_tukeyhsd"
      ],
      "metadata": {
        "id": "opA6q9hA6d9J"
      },
      "execution_count": null,
      "outputs": []
    },
    {
      "cell_type": "code",
      "source": [
        "tukey = pairwise_tukeyhsd(endog=ca_strip_data['search_rate'], groups=ca_strip_data['Sex'], alpha=0.05)\n",
        "\n",
        "print(tukey)"
      ],
      "metadata": {
        "colab": {
          "base_uri": "https://localhost:8080/"
        },
        "id": "46SghT2blsHE",
        "outputId": "2812fda7-71d5-4a36-c11b-7b9fbd13a04c"
      },
      "execution_count": null,
      "outputs": [
        {
          "output_type": "stream",
          "name": "stdout",
          "text": [
            " Multiple Comparison of Means - Tukey HSD, FWER=0.05 \n",
            "=====================================================\n",
            "group1 group2 meandiff p-adj   lower    upper  reject\n",
            "-----------------------------------------------------\n",
            "     F      M   3.2094  0.026   0.3087  6.1101   True\n",
            "     F      U  -5.8975 0.2278 -14.3377  2.5427  False\n",
            "     M      U  -9.1068 0.0309 -17.5448 -0.6689   True\n",
            "-----------------------------------------------------\n"
          ]
        }
      ]
    },
    {
      "cell_type": "code",
      "source": [
        "# we will use bioinfokit (v1.0.3 or later) for performing tukey HSD test\n",
        "# check documentation here https://github.com/reneshbedre/bioinfokit\n",
        "!pip install bioinfokit\n",
        "from bioinfokit.analys import stat"
      ],
      "metadata": {
        "id": "KfavM5g0mjIw"
      },
      "execution_count": null,
      "outputs": []
    },
    {
      "cell_type": "code",
      "source": [
        "# perform multiple pairwise comparison (Tukey HSD)\n",
        "# unequal sample size data, tukey_hsd uses Tukey-Kramer test\n",
        "res = stat()\n",
        "res.tukey_hsd(df=ca_strip_data, res_var='search_rate', xfac_var='Perceived_Race', anova_model='search_rate ~ C(Perceived_Race)+C(Arrest_Year)+C(Perceived_Race):C(Arrest_Year)')\n",
        "res.tukey_summary\n",
        "# output"
      ],
      "metadata": {
        "colab": {
          "base_uri": "https://localhost:8080/",
          "height": 981
        },
        "id": "yiTQ3LxvnDGo",
        "outputId": "b59c183c-b3c9-425a-a422-90022c760d88"
      },
      "execution_count": null,
      "outputs": [
        {
          "output_type": "stream",
          "name": "stderr",
          "text": [
            "/usr/local/lib/python3.8/dist-packages/bioinfokit/analys.py:402: FutureWarning: Dropping of nuisance columns in DataFrame reductions (with 'numeric_only=None') is deprecated; in a future version this will raise TypeError.  Select only valid columns before calling the reduction.\n",
            "  mult_group[ele] = df[df[xfac_var] == ele].mean().loc[res_var]\n"
          ]
        },
        {
          "output_type": "execute_result",
          "data": {
            "text/plain": [
              "                  group1                group2      Diff     Lower      Upper  \\\n",
              "0                  Black  East/Southeast Asian  4.511982 -0.689241   9.713205   \n",
              "1                  Black            Indigenous  2.426062 -2.775161   7.627285   \n",
              "2                  Black                Latino  3.119559 -2.081665   8.320782   \n",
              "3                  Black        Middle-Eastern  4.740543 -0.460680   9.941766   \n",
              "4                  Black           South Asian  4.540926 -0.660297   9.742149   \n",
              "5                  Black     Unknown or Legacy  2.988863 -2.084964   8.062690   \n",
              "6                  Black                 White  1.192165 -3.881662   6.265992   \n",
              "7   East/Southeast Asian            Indigenous  6.938044  1.736821  12.139267   \n",
              "8   East/Southeast Asian                Latino  1.392424 -3.808799   6.593647   \n",
              "9   East/Southeast Asian        Middle-Eastern  0.228561 -4.972662   5.429784   \n",
              "10  East/Southeast Asian           South Asian  0.028944 -5.172279   5.230167   \n",
              "11  East/Southeast Asian     Unknown or Legacy  1.523119 -3.550708   6.596946   \n",
              "12  East/Southeast Asian                 White  3.319817 -1.754010   8.393644   \n",
              "13            Indigenous                Latino  5.545621  0.344397  10.746844   \n",
              "14            Indigenous        Middle-Eastern  7.166605  1.965382  12.367828   \n",
              "15            Indigenous           South Asian  6.966988  1.765765  12.168211   \n",
              "16            Indigenous     Unknown or Legacy  5.414925  0.341098  10.488752   \n",
              "17            Indigenous                 White  3.618227 -1.455599   8.692054   \n",
              "18                Latino        Middle-Eastern  1.620985 -3.580239   6.822208   \n",
              "19                Latino           South Asian  1.421368 -3.779855   6.622591   \n",
              "20                Latino     Unknown or Legacy  0.130695 -4.943132   5.204522   \n",
              "21                Latino                 White  1.927393 -3.146434   7.001220   \n",
              "22        Middle-Eastern           South Asian  0.199617 -5.001606   5.400840   \n",
              "23        Middle-Eastern     Unknown or Legacy  1.751680 -3.322147   6.825507   \n",
              "24        Middle-Eastern                 White  3.548378 -1.525449   8.622205   \n",
              "25           South Asian     Unknown or Legacy  1.552063 -3.521764   6.625890   \n",
              "26           South Asian                 White  3.348761 -1.725066   8.422588   \n",
              "27     Unknown or Legacy                 White  1.796698 -3.146451   6.739846   \n",
              "\n",
              "     q-value   p-value  \n",
              "0   3.755408  0.142166  \n",
              "1   2.019257  0.824285  \n",
              "2   2.596467  0.582866  \n",
              "3   3.945644  0.102984  \n",
              "4   3.779499  0.136510  \n",
              "5   2.550149  0.602237  \n",
              "6   1.017176  0.900000  \n",
              "7   5.774665  0.001595  \n",
              "8   1.158941  0.900000  \n",
              "9   0.190236  0.900000  \n",
              "10  0.024091  0.900000  \n",
              "11  1.299551  0.900000  \n",
              "12  2.832525  0.483332  \n",
              "13  4.615725  0.027538  \n",
              "14  5.964901  0.001000  \n",
              "15  5.798756  0.001492  \n",
              "16  4.620107  0.027274  \n",
              "17  3.087134  0.367445  \n",
              "18  1.349176  0.900000  \n",
              "19  1.183031  0.900000  \n",
              "20  0.111511  0.900000  \n",
              "21  1.644485  0.900000  \n",
              "22  0.166145  0.900000  \n",
              "23  1.494563  0.900000  \n",
              "24  3.027537  0.394383  \n",
              "25  1.324247  0.900000  \n",
              "26  2.857220  0.472299  \n",
              "27  1.573500  0.900000  "
            ],
            "text/html": [
              "\n",
              "  <div id=\"df-df26f5dc-a9c2-482c-b654-9868d17ca18b\">\n",
              "    <div class=\"colab-df-container\">\n",
              "      <div>\n",
              "<style scoped>\n",
              "    .dataframe tbody tr th:only-of-type {\n",
              "        vertical-align: middle;\n",
              "    }\n",
              "\n",
              "    .dataframe tbody tr th {\n",
              "        vertical-align: top;\n",
              "    }\n",
              "\n",
              "    .dataframe thead th {\n",
              "        text-align: right;\n",
              "    }\n",
              "</style>\n",
              "<table border=\"1\" class=\"dataframe\">\n",
              "  <thead>\n",
              "    <tr style=\"text-align: right;\">\n",
              "      <th></th>\n",
              "      <th>group1</th>\n",
              "      <th>group2</th>\n",
              "      <th>Diff</th>\n",
              "      <th>Lower</th>\n",
              "      <th>Upper</th>\n",
              "      <th>q-value</th>\n",
              "      <th>p-value</th>\n",
              "    </tr>\n",
              "  </thead>\n",
              "  <tbody>\n",
              "    <tr>\n",
              "      <th>0</th>\n",
              "      <td>Black</td>\n",
              "      <td>East/Southeast Asian</td>\n",
              "      <td>4.511982</td>\n",
              "      <td>-0.689241</td>\n",
              "      <td>9.713205</td>\n",
              "      <td>3.755408</td>\n",
              "      <td>0.142166</td>\n",
              "    </tr>\n",
              "    <tr>\n",
              "      <th>1</th>\n",
              "      <td>Black</td>\n",
              "      <td>Indigenous</td>\n",
              "      <td>2.426062</td>\n",
              "      <td>-2.775161</td>\n",
              "      <td>7.627285</td>\n",
              "      <td>2.019257</td>\n",
              "      <td>0.824285</td>\n",
              "    </tr>\n",
              "    <tr>\n",
              "      <th>2</th>\n",
              "      <td>Black</td>\n",
              "      <td>Latino</td>\n",
              "      <td>3.119559</td>\n",
              "      <td>-2.081665</td>\n",
              "      <td>8.320782</td>\n",
              "      <td>2.596467</td>\n",
              "      <td>0.582866</td>\n",
              "    </tr>\n",
              "    <tr>\n",
              "      <th>3</th>\n",
              "      <td>Black</td>\n",
              "      <td>Middle-Eastern</td>\n",
              "      <td>4.740543</td>\n",
              "      <td>-0.460680</td>\n",
              "      <td>9.941766</td>\n",
              "      <td>3.945644</td>\n",
              "      <td>0.102984</td>\n",
              "    </tr>\n",
              "    <tr>\n",
              "      <th>4</th>\n",
              "      <td>Black</td>\n",
              "      <td>South Asian</td>\n",
              "      <td>4.540926</td>\n",
              "      <td>-0.660297</td>\n",
              "      <td>9.742149</td>\n",
              "      <td>3.779499</td>\n",
              "      <td>0.136510</td>\n",
              "    </tr>\n",
              "    <tr>\n",
              "      <th>5</th>\n",
              "      <td>Black</td>\n",
              "      <td>Unknown or Legacy</td>\n",
              "      <td>2.988863</td>\n",
              "      <td>-2.084964</td>\n",
              "      <td>8.062690</td>\n",
              "      <td>2.550149</td>\n",
              "      <td>0.602237</td>\n",
              "    </tr>\n",
              "    <tr>\n",
              "      <th>6</th>\n",
              "      <td>Black</td>\n",
              "      <td>White</td>\n",
              "      <td>1.192165</td>\n",
              "      <td>-3.881662</td>\n",
              "      <td>6.265992</td>\n",
              "      <td>1.017176</td>\n",
              "      <td>0.900000</td>\n",
              "    </tr>\n",
              "    <tr>\n",
              "      <th>7</th>\n",
              "      <td>East/Southeast Asian</td>\n",
              "      <td>Indigenous</td>\n",
              "      <td>6.938044</td>\n",
              "      <td>1.736821</td>\n",
              "      <td>12.139267</td>\n",
              "      <td>5.774665</td>\n",
              "      <td>0.001595</td>\n",
              "    </tr>\n",
              "    <tr>\n",
              "      <th>8</th>\n",
              "      <td>East/Southeast Asian</td>\n",
              "      <td>Latino</td>\n",
              "      <td>1.392424</td>\n",
              "      <td>-3.808799</td>\n",
              "      <td>6.593647</td>\n",
              "      <td>1.158941</td>\n",
              "      <td>0.900000</td>\n",
              "    </tr>\n",
              "    <tr>\n",
              "      <th>9</th>\n",
              "      <td>East/Southeast Asian</td>\n",
              "      <td>Middle-Eastern</td>\n",
              "      <td>0.228561</td>\n",
              "      <td>-4.972662</td>\n",
              "      <td>5.429784</td>\n",
              "      <td>0.190236</td>\n",
              "      <td>0.900000</td>\n",
              "    </tr>\n",
              "    <tr>\n",
              "      <th>10</th>\n",
              "      <td>East/Southeast Asian</td>\n",
              "      <td>South Asian</td>\n",
              "      <td>0.028944</td>\n",
              "      <td>-5.172279</td>\n",
              "      <td>5.230167</td>\n",
              "      <td>0.024091</td>\n",
              "      <td>0.900000</td>\n",
              "    </tr>\n",
              "    <tr>\n",
              "      <th>11</th>\n",
              "      <td>East/Southeast Asian</td>\n",
              "      <td>Unknown or Legacy</td>\n",
              "      <td>1.523119</td>\n",
              "      <td>-3.550708</td>\n",
              "      <td>6.596946</td>\n",
              "      <td>1.299551</td>\n",
              "      <td>0.900000</td>\n",
              "    </tr>\n",
              "    <tr>\n",
              "      <th>12</th>\n",
              "      <td>East/Southeast Asian</td>\n",
              "      <td>White</td>\n",
              "      <td>3.319817</td>\n",
              "      <td>-1.754010</td>\n",
              "      <td>8.393644</td>\n",
              "      <td>2.832525</td>\n",
              "      <td>0.483332</td>\n",
              "    </tr>\n",
              "    <tr>\n",
              "      <th>13</th>\n",
              "      <td>Indigenous</td>\n",
              "      <td>Latino</td>\n",
              "      <td>5.545621</td>\n",
              "      <td>0.344397</td>\n",
              "      <td>10.746844</td>\n",
              "      <td>4.615725</td>\n",
              "      <td>0.027538</td>\n",
              "    </tr>\n",
              "    <tr>\n",
              "      <th>14</th>\n",
              "      <td>Indigenous</td>\n",
              "      <td>Middle-Eastern</td>\n",
              "      <td>7.166605</td>\n",
              "      <td>1.965382</td>\n",
              "      <td>12.367828</td>\n",
              "      <td>5.964901</td>\n",
              "      <td>0.001000</td>\n",
              "    </tr>\n",
              "    <tr>\n",
              "      <th>15</th>\n",
              "      <td>Indigenous</td>\n",
              "      <td>South Asian</td>\n",
              "      <td>6.966988</td>\n",
              "      <td>1.765765</td>\n",
              "      <td>12.168211</td>\n",
              "      <td>5.798756</td>\n",
              "      <td>0.001492</td>\n",
              "    </tr>\n",
              "    <tr>\n",
              "      <th>16</th>\n",
              "      <td>Indigenous</td>\n",
              "      <td>Unknown or Legacy</td>\n",
              "      <td>5.414925</td>\n",
              "      <td>0.341098</td>\n",
              "      <td>10.488752</td>\n",
              "      <td>4.620107</td>\n",
              "      <td>0.027274</td>\n",
              "    </tr>\n",
              "    <tr>\n",
              "      <th>17</th>\n",
              "      <td>Indigenous</td>\n",
              "      <td>White</td>\n",
              "      <td>3.618227</td>\n",
              "      <td>-1.455599</td>\n",
              "      <td>8.692054</td>\n",
              "      <td>3.087134</td>\n",
              "      <td>0.367445</td>\n",
              "    </tr>\n",
              "    <tr>\n",
              "      <th>18</th>\n",
              "      <td>Latino</td>\n",
              "      <td>Middle-Eastern</td>\n",
              "      <td>1.620985</td>\n",
              "      <td>-3.580239</td>\n",
              "      <td>6.822208</td>\n",
              "      <td>1.349176</td>\n",
              "      <td>0.900000</td>\n",
              "    </tr>\n",
              "    <tr>\n",
              "      <th>19</th>\n",
              "      <td>Latino</td>\n",
              "      <td>South Asian</td>\n",
              "      <td>1.421368</td>\n",
              "      <td>-3.779855</td>\n",
              "      <td>6.622591</td>\n",
              "      <td>1.183031</td>\n",
              "      <td>0.900000</td>\n",
              "    </tr>\n",
              "    <tr>\n",
              "      <th>20</th>\n",
              "      <td>Latino</td>\n",
              "      <td>Unknown or Legacy</td>\n",
              "      <td>0.130695</td>\n",
              "      <td>-4.943132</td>\n",
              "      <td>5.204522</td>\n",
              "      <td>0.111511</td>\n",
              "      <td>0.900000</td>\n",
              "    </tr>\n",
              "    <tr>\n",
              "      <th>21</th>\n",
              "      <td>Latino</td>\n",
              "      <td>White</td>\n",
              "      <td>1.927393</td>\n",
              "      <td>-3.146434</td>\n",
              "      <td>7.001220</td>\n",
              "      <td>1.644485</td>\n",
              "      <td>0.900000</td>\n",
              "    </tr>\n",
              "    <tr>\n",
              "      <th>22</th>\n",
              "      <td>Middle-Eastern</td>\n",
              "      <td>South Asian</td>\n",
              "      <td>0.199617</td>\n",
              "      <td>-5.001606</td>\n",
              "      <td>5.400840</td>\n",
              "      <td>0.166145</td>\n",
              "      <td>0.900000</td>\n",
              "    </tr>\n",
              "    <tr>\n",
              "      <th>23</th>\n",
              "      <td>Middle-Eastern</td>\n",
              "      <td>Unknown or Legacy</td>\n",
              "      <td>1.751680</td>\n",
              "      <td>-3.322147</td>\n",
              "      <td>6.825507</td>\n",
              "      <td>1.494563</td>\n",
              "      <td>0.900000</td>\n",
              "    </tr>\n",
              "    <tr>\n",
              "      <th>24</th>\n",
              "      <td>Middle-Eastern</td>\n",
              "      <td>White</td>\n",
              "      <td>3.548378</td>\n",
              "      <td>-1.525449</td>\n",
              "      <td>8.622205</td>\n",
              "      <td>3.027537</td>\n",
              "      <td>0.394383</td>\n",
              "    </tr>\n",
              "    <tr>\n",
              "      <th>25</th>\n",
              "      <td>South Asian</td>\n",
              "      <td>Unknown or Legacy</td>\n",
              "      <td>1.552063</td>\n",
              "      <td>-3.521764</td>\n",
              "      <td>6.625890</td>\n",
              "      <td>1.324247</td>\n",
              "      <td>0.900000</td>\n",
              "    </tr>\n",
              "    <tr>\n",
              "      <th>26</th>\n",
              "      <td>South Asian</td>\n",
              "      <td>White</td>\n",
              "      <td>3.348761</td>\n",
              "      <td>-1.725066</td>\n",
              "      <td>8.422588</td>\n",
              "      <td>2.857220</td>\n",
              "      <td>0.472299</td>\n",
              "    </tr>\n",
              "    <tr>\n",
              "      <th>27</th>\n",
              "      <td>Unknown or Legacy</td>\n",
              "      <td>White</td>\n",
              "      <td>1.796698</td>\n",
              "      <td>-3.146451</td>\n",
              "      <td>6.739846</td>\n",
              "      <td>1.573500</td>\n",
              "      <td>0.900000</td>\n",
              "    </tr>\n",
              "  </tbody>\n",
              "</table>\n",
              "</div>\n",
              "      <button class=\"colab-df-convert\" onclick=\"convertToInteractive('df-df26f5dc-a9c2-482c-b654-9868d17ca18b')\"\n",
              "              title=\"Convert this dataframe to an interactive table.\"\n",
              "              style=\"display:none;\">\n",
              "        \n",
              "  <svg xmlns=\"http://www.w3.org/2000/svg\" height=\"24px\"viewBox=\"0 0 24 24\"\n",
              "       width=\"24px\">\n",
              "    <path d=\"M0 0h24v24H0V0z\" fill=\"none\"/>\n",
              "    <path d=\"M18.56 5.44l.94 2.06.94-2.06 2.06-.94-2.06-.94-.94-2.06-.94 2.06-2.06.94zm-11 1L8.5 8.5l.94-2.06 2.06-.94-2.06-.94L8.5 2.5l-.94 2.06-2.06.94zm10 10l.94 2.06.94-2.06 2.06-.94-2.06-.94-.94-2.06-.94 2.06-2.06.94z\"/><path d=\"M17.41 7.96l-1.37-1.37c-.4-.4-.92-.59-1.43-.59-.52 0-1.04.2-1.43.59L10.3 9.45l-7.72 7.72c-.78.78-.78 2.05 0 2.83L4 21.41c.39.39.9.59 1.41.59.51 0 1.02-.2 1.41-.59l7.78-7.78 2.81-2.81c.8-.78.8-2.07 0-2.86zM5.41 20L4 18.59l7.72-7.72 1.47 1.35L5.41 20z\"/>\n",
              "  </svg>\n",
              "      </button>\n",
              "      \n",
              "  <style>\n",
              "    .colab-df-container {\n",
              "      display:flex;\n",
              "      flex-wrap:wrap;\n",
              "      gap: 12px;\n",
              "    }\n",
              "\n",
              "    .colab-df-convert {\n",
              "      background-color: #E8F0FE;\n",
              "      border: none;\n",
              "      border-radius: 50%;\n",
              "      cursor: pointer;\n",
              "      display: none;\n",
              "      fill: #1967D2;\n",
              "      height: 32px;\n",
              "      padding: 0 0 0 0;\n",
              "      width: 32px;\n",
              "    }\n",
              "\n",
              "    .colab-df-convert:hover {\n",
              "      background-color: #E2EBFA;\n",
              "      box-shadow: 0px 1px 2px rgba(60, 64, 67, 0.3), 0px 1px 3px 1px rgba(60, 64, 67, 0.15);\n",
              "      fill: #174EA6;\n",
              "    }\n",
              "\n",
              "    [theme=dark] .colab-df-convert {\n",
              "      background-color: #3B4455;\n",
              "      fill: #D2E3FC;\n",
              "    }\n",
              "\n",
              "    [theme=dark] .colab-df-convert:hover {\n",
              "      background-color: #434B5C;\n",
              "      box-shadow: 0px 1px 3px 1px rgba(0, 0, 0, 0.15);\n",
              "      filter: drop-shadow(0px 1px 2px rgba(0, 0, 0, 0.3));\n",
              "      fill: #FFFFFF;\n",
              "    }\n",
              "  </style>\n",
              "\n",
              "      <script>\n",
              "        const buttonEl =\n",
              "          document.querySelector('#df-df26f5dc-a9c2-482c-b654-9868d17ca18b button.colab-df-convert');\n",
              "        buttonEl.style.display =\n",
              "          google.colab.kernel.accessAllowed ? 'block' : 'none';\n",
              "\n",
              "        async function convertToInteractive(key) {\n",
              "          const element = document.querySelector('#df-df26f5dc-a9c2-482c-b654-9868d17ca18b');\n",
              "          const dataTable =\n",
              "            await google.colab.kernel.invokeFunction('convertToInteractive',\n",
              "                                                     [key], {});\n",
              "          if (!dataTable) return;\n",
              "\n",
              "          const docLinkHtml = 'Like what you see? Visit the ' +\n",
              "            '<a target=\"_blank\" href=https://colab.research.google.com/notebooks/data_table.ipynb>data table notebook</a>'\n",
              "            + ' to learn more about interactive tables.';\n",
              "          element.innerHTML = '';\n",
              "          dataTable['output_type'] = 'display_data';\n",
              "          await google.colab.output.renderOutput(dataTable, element);\n",
              "          const docLink = document.createElement('div');\n",
              "          docLink.innerHTML = docLinkHtml;\n",
              "          element.appendChild(docLink);\n",
              "        }\n",
              "      </script>\n",
              "    </div>\n",
              "  </div>\n",
              "  "
            ]
          },
          "metadata": {},
          "execution_count": 206
        }
      ]
    },
    {
      "cell_type": "code",
      "source": [
        "res.tukey_hsd(df=ca_strip_data, res_var='search_rate', xfac_var='Arrest_Year', anova_model='search_rate ~ C(Perceived_Race) + C(Arrest_Year) + C(Perceived_Race):C(Arrest_Year)')\n",
        "res.tukey_summary\n",
        "# output\n"
      ],
      "metadata": {
        "colab": {
          "base_uri": "https://localhost:8080/",
          "height": 136
        },
        "id": "Hk7A-aGjnLD7",
        "outputId": "03bcf9a5-a4d9-4032-e65c-a86dbe5b0090"
      },
      "execution_count": null,
      "outputs": [
        {
          "output_type": "stream",
          "name": "stderr",
          "text": [
            "/usr/local/lib/python3.8/dist-packages/bioinfokit/analys.py:402: FutureWarning: Dropping of nuisance columns in DataFrame reductions (with 'numeric_only=None') is deprecated; in a future version this will raise TypeError.  Select only valid columns before calling the reduction.\n",
            "  mult_group[ele] = df[df[xfac_var] == ele].mean().loc[res_var]\n"
          ]
        },
        {
          "output_type": "execute_result",
          "data": {
            "text/plain": [
              "   group1  group2       Diff      Lower      Upper    q-value  p-value\n",
              "0    2020    2021  12.471741  10.819083  14.124399  21.036346    0.001"
            ],
            "text/html": [
              "\n",
              "  <div id=\"df-34f907f3-88ca-456d-89ce-5512a47b53da\">\n",
              "    <div class=\"colab-df-container\">\n",
              "      <div>\n",
              "<style scoped>\n",
              "    .dataframe tbody tr th:only-of-type {\n",
              "        vertical-align: middle;\n",
              "    }\n",
              "\n",
              "    .dataframe tbody tr th {\n",
              "        vertical-align: top;\n",
              "    }\n",
              "\n",
              "    .dataframe thead th {\n",
              "        text-align: right;\n",
              "    }\n",
              "</style>\n",
              "<table border=\"1\" class=\"dataframe\">\n",
              "  <thead>\n",
              "    <tr style=\"text-align: right;\">\n",
              "      <th></th>\n",
              "      <th>group1</th>\n",
              "      <th>group2</th>\n",
              "      <th>Diff</th>\n",
              "      <th>Lower</th>\n",
              "      <th>Upper</th>\n",
              "      <th>q-value</th>\n",
              "      <th>p-value</th>\n",
              "    </tr>\n",
              "  </thead>\n",
              "  <tbody>\n",
              "    <tr>\n",
              "      <th>0</th>\n",
              "      <td>2020</td>\n",
              "      <td>2021</td>\n",
              "      <td>12.471741</td>\n",
              "      <td>10.819083</td>\n",
              "      <td>14.124399</td>\n",
              "      <td>21.036346</td>\n",
              "      <td>0.001</td>\n",
              "    </tr>\n",
              "  </tbody>\n",
              "</table>\n",
              "</div>\n",
              "      <button class=\"colab-df-convert\" onclick=\"convertToInteractive('df-34f907f3-88ca-456d-89ce-5512a47b53da')\"\n",
              "              title=\"Convert this dataframe to an interactive table.\"\n",
              "              style=\"display:none;\">\n",
              "        \n",
              "  <svg xmlns=\"http://www.w3.org/2000/svg\" height=\"24px\"viewBox=\"0 0 24 24\"\n",
              "       width=\"24px\">\n",
              "    <path d=\"M0 0h24v24H0V0z\" fill=\"none\"/>\n",
              "    <path d=\"M18.56 5.44l.94 2.06.94-2.06 2.06-.94-2.06-.94-.94-2.06-.94 2.06-2.06.94zm-11 1L8.5 8.5l.94-2.06 2.06-.94-2.06-.94L8.5 2.5l-.94 2.06-2.06.94zm10 10l.94 2.06.94-2.06 2.06-.94-2.06-.94-.94-2.06-.94 2.06-2.06.94z\"/><path d=\"M17.41 7.96l-1.37-1.37c-.4-.4-.92-.59-1.43-.59-.52 0-1.04.2-1.43.59L10.3 9.45l-7.72 7.72c-.78.78-.78 2.05 0 2.83L4 21.41c.39.39.9.59 1.41.59.51 0 1.02-.2 1.41-.59l7.78-7.78 2.81-2.81c.8-.78.8-2.07 0-2.86zM5.41 20L4 18.59l7.72-7.72 1.47 1.35L5.41 20z\"/>\n",
              "  </svg>\n",
              "      </button>\n",
              "      \n",
              "  <style>\n",
              "    .colab-df-container {\n",
              "      display:flex;\n",
              "      flex-wrap:wrap;\n",
              "      gap: 12px;\n",
              "    }\n",
              "\n",
              "    .colab-df-convert {\n",
              "      background-color: #E8F0FE;\n",
              "      border: none;\n",
              "      border-radius: 50%;\n",
              "      cursor: pointer;\n",
              "      display: none;\n",
              "      fill: #1967D2;\n",
              "      height: 32px;\n",
              "      padding: 0 0 0 0;\n",
              "      width: 32px;\n",
              "    }\n",
              "\n",
              "    .colab-df-convert:hover {\n",
              "      background-color: #E2EBFA;\n",
              "      box-shadow: 0px 1px 2px rgba(60, 64, 67, 0.3), 0px 1px 3px 1px rgba(60, 64, 67, 0.15);\n",
              "      fill: #174EA6;\n",
              "    }\n",
              "\n",
              "    [theme=dark] .colab-df-convert {\n",
              "      background-color: #3B4455;\n",
              "      fill: #D2E3FC;\n",
              "    }\n",
              "\n",
              "    [theme=dark] .colab-df-convert:hover {\n",
              "      background-color: #434B5C;\n",
              "      box-shadow: 0px 1px 3px 1px rgba(0, 0, 0, 0.15);\n",
              "      filter: drop-shadow(0px 1px 2px rgba(0, 0, 0, 0.3));\n",
              "      fill: #FFFFFF;\n",
              "    }\n",
              "  </style>\n",
              "\n",
              "      <script>\n",
              "        const buttonEl =\n",
              "          document.querySelector('#df-34f907f3-88ca-456d-89ce-5512a47b53da button.colab-df-convert');\n",
              "        buttonEl.style.display =\n",
              "          google.colab.kernel.accessAllowed ? 'block' : 'none';\n",
              "\n",
              "        async function convertToInteractive(key) {\n",
              "          const element = document.querySelector('#df-34f907f3-88ca-456d-89ce-5512a47b53da');\n",
              "          const dataTable =\n",
              "            await google.colab.kernel.invokeFunction('convertToInteractive',\n",
              "                                                     [key], {});\n",
              "          if (!dataTable) return;\n",
              "\n",
              "          const docLinkHtml = 'Like what you see? Visit the ' +\n",
              "            '<a target=\"_blank\" href=https://colab.research.google.com/notebooks/data_table.ipynb>data table notebook</a>'\n",
              "            + ' to learn more about interactive tables.';\n",
              "          element.innerHTML = '';\n",
              "          dataTable['output_type'] = 'display_data';\n",
              "          await google.colab.output.renderOutput(dataTable, element);\n",
              "          const docLink = document.createElement('div');\n",
              "          docLink.innerHTML = docLinkHtml;\n",
              "          element.appendChild(docLink);\n",
              "        }\n",
              "      </script>\n",
              "    </div>\n",
              "  </div>\n",
              "  "
            ]
          },
          "metadata": {},
          "execution_count": 207
        }
      ]
    },
    {
      "cell_type": "code",
      "source": [
        "res.tukey_hsd(df=ca_strip_data, res_var='search_rate', xfac_var=['Perceived_Race','Arrest_Year'], anova_model='search_rate ~ C(Perceived_Race) + C(Arrest_Year) + C(Perceived_Race):C(Arrest_Year)')\n",
        "res.tukey_summary.head()\n",
        "# output\n"
      ],
      "metadata": {
        "colab": {
          "base_uri": "https://localhost:8080/",
          "height": 261
        },
        "id": "W2N49qLbnmfA",
        "outputId": "218d277f-d80b-404b-f4b6-c899306b0aa7"
      },
      "execution_count": null,
      "outputs": [
        {
          "output_type": "stream",
          "name": "stderr",
          "text": [
            "/usr/local/lib/python3.8/dist-packages/bioinfokit/analys.py:368: FutureWarning: Dropping of nuisance columns in DataFrame reductions (with 'numeric_only=None') is deprecated; in a future version this will raise TypeError.  Select only valid columns before calling the reduction.\n",
            "  mult_group[(ele1, ele2)] = df[(df[xfac_var[0]] == ele1) &\n"
          ]
        },
        {
          "output_type": "execute_result",
          "data": {
            "text/plain": [
              "          group1                        group2       Diff     Lower  \\\n",
              "0  (Black, 2020)                 (Black, 2021)  16.340336  8.008030   \n",
              "1  (Black, 2020)  (East/Southeast Asian, 2020)   8.420506  0.088200   \n",
              "2  (Black, 2020)  (East/Southeast Asian, 2021)  16.943795  8.611488   \n",
              "3  (Black, 2020)            (Indigenous, 2020)   5.279076 -3.053231   \n",
              "4  (Black, 2020)            (Indigenous, 2021)  16.767288  8.434981   \n",
              "\n",
              "       Upper   q-value   p-value  \n",
              "0  24.672643  9.616914  0.001000  \n",
              "1  16.752812  4.955790  0.044764  \n",
              "2  25.276101  9.972072  0.001000  \n",
              "3  13.611382  3.106938  0.671650  \n",
              "4  25.099594  9.868191  0.001000  "
            ],
            "text/html": [
              "\n",
              "  <div id=\"df-a2523a6c-226a-4250-af45-ca3ca20eea4f\">\n",
              "    <div class=\"colab-df-container\">\n",
              "      <div>\n",
              "<style scoped>\n",
              "    .dataframe tbody tr th:only-of-type {\n",
              "        vertical-align: middle;\n",
              "    }\n",
              "\n",
              "    .dataframe tbody tr th {\n",
              "        vertical-align: top;\n",
              "    }\n",
              "\n",
              "    .dataframe thead th {\n",
              "        text-align: right;\n",
              "    }\n",
              "</style>\n",
              "<table border=\"1\" class=\"dataframe\">\n",
              "  <thead>\n",
              "    <tr style=\"text-align: right;\">\n",
              "      <th></th>\n",
              "      <th>group1</th>\n",
              "      <th>group2</th>\n",
              "      <th>Diff</th>\n",
              "      <th>Lower</th>\n",
              "      <th>Upper</th>\n",
              "      <th>q-value</th>\n",
              "      <th>p-value</th>\n",
              "    </tr>\n",
              "  </thead>\n",
              "  <tbody>\n",
              "    <tr>\n",
              "      <th>0</th>\n",
              "      <td>(Black, 2020)</td>\n",
              "      <td>(Black, 2021)</td>\n",
              "      <td>16.340336</td>\n",
              "      <td>8.008030</td>\n",
              "      <td>24.672643</td>\n",
              "      <td>9.616914</td>\n",
              "      <td>0.001000</td>\n",
              "    </tr>\n",
              "    <tr>\n",
              "      <th>1</th>\n",
              "      <td>(Black, 2020)</td>\n",
              "      <td>(East/Southeast Asian, 2020)</td>\n",
              "      <td>8.420506</td>\n",
              "      <td>0.088200</td>\n",
              "      <td>16.752812</td>\n",
              "      <td>4.955790</td>\n",
              "      <td>0.044764</td>\n",
              "    </tr>\n",
              "    <tr>\n",
              "      <th>2</th>\n",
              "      <td>(Black, 2020)</td>\n",
              "      <td>(East/Southeast Asian, 2021)</td>\n",
              "      <td>16.943795</td>\n",
              "      <td>8.611488</td>\n",
              "      <td>25.276101</td>\n",
              "      <td>9.972072</td>\n",
              "      <td>0.001000</td>\n",
              "    </tr>\n",
              "    <tr>\n",
              "      <th>3</th>\n",
              "      <td>(Black, 2020)</td>\n",
              "      <td>(Indigenous, 2020)</td>\n",
              "      <td>5.279076</td>\n",
              "      <td>-3.053231</td>\n",
              "      <td>13.611382</td>\n",
              "      <td>3.106938</td>\n",
              "      <td>0.671650</td>\n",
              "    </tr>\n",
              "    <tr>\n",
              "      <th>4</th>\n",
              "      <td>(Black, 2020)</td>\n",
              "      <td>(Indigenous, 2021)</td>\n",
              "      <td>16.767288</td>\n",
              "      <td>8.434981</td>\n",
              "      <td>25.099594</td>\n",
              "      <td>9.868191</td>\n",
              "      <td>0.001000</td>\n",
              "    </tr>\n",
              "  </tbody>\n",
              "</table>\n",
              "</div>\n",
              "      <button class=\"colab-df-convert\" onclick=\"convertToInteractive('df-a2523a6c-226a-4250-af45-ca3ca20eea4f')\"\n",
              "              title=\"Convert this dataframe to an interactive table.\"\n",
              "              style=\"display:none;\">\n",
              "        \n",
              "  <svg xmlns=\"http://www.w3.org/2000/svg\" height=\"24px\"viewBox=\"0 0 24 24\"\n",
              "       width=\"24px\">\n",
              "    <path d=\"M0 0h24v24H0V0z\" fill=\"none\"/>\n",
              "    <path d=\"M18.56 5.44l.94 2.06.94-2.06 2.06-.94-2.06-.94-.94-2.06-.94 2.06-2.06.94zm-11 1L8.5 8.5l.94-2.06 2.06-.94-2.06-.94L8.5 2.5l-.94 2.06-2.06.94zm10 10l.94 2.06.94-2.06 2.06-.94-2.06-.94-.94-2.06-.94 2.06-2.06.94z\"/><path d=\"M17.41 7.96l-1.37-1.37c-.4-.4-.92-.59-1.43-.59-.52 0-1.04.2-1.43.59L10.3 9.45l-7.72 7.72c-.78.78-.78 2.05 0 2.83L4 21.41c.39.39.9.59 1.41.59.51 0 1.02-.2 1.41-.59l7.78-7.78 2.81-2.81c.8-.78.8-2.07 0-2.86zM5.41 20L4 18.59l7.72-7.72 1.47 1.35L5.41 20z\"/>\n",
              "  </svg>\n",
              "      </button>\n",
              "      \n",
              "  <style>\n",
              "    .colab-df-container {\n",
              "      display:flex;\n",
              "      flex-wrap:wrap;\n",
              "      gap: 12px;\n",
              "    }\n",
              "\n",
              "    .colab-df-convert {\n",
              "      background-color: #E8F0FE;\n",
              "      border: none;\n",
              "      border-radius: 50%;\n",
              "      cursor: pointer;\n",
              "      display: none;\n",
              "      fill: #1967D2;\n",
              "      height: 32px;\n",
              "      padding: 0 0 0 0;\n",
              "      width: 32px;\n",
              "    }\n",
              "\n",
              "    .colab-df-convert:hover {\n",
              "      background-color: #E2EBFA;\n",
              "      box-shadow: 0px 1px 2px rgba(60, 64, 67, 0.3), 0px 1px 3px 1px rgba(60, 64, 67, 0.15);\n",
              "      fill: #174EA6;\n",
              "    }\n",
              "\n",
              "    [theme=dark] .colab-df-convert {\n",
              "      background-color: #3B4455;\n",
              "      fill: #D2E3FC;\n",
              "    }\n",
              "\n",
              "    [theme=dark] .colab-df-convert:hover {\n",
              "      background-color: #434B5C;\n",
              "      box-shadow: 0px 1px 3px 1px rgba(0, 0, 0, 0.15);\n",
              "      filter: drop-shadow(0px 1px 2px rgba(0, 0, 0, 0.3));\n",
              "      fill: #FFFFFF;\n",
              "    }\n",
              "  </style>\n",
              "\n",
              "      <script>\n",
              "        const buttonEl =\n",
              "          document.querySelector('#df-a2523a6c-226a-4250-af45-ca3ca20eea4f button.colab-df-convert');\n",
              "        buttonEl.style.display =\n",
              "          google.colab.kernel.accessAllowed ? 'block' : 'none';\n",
              "\n",
              "        async function convertToInteractive(key) {\n",
              "          const element = document.querySelector('#df-a2523a6c-226a-4250-af45-ca3ca20eea4f');\n",
              "          const dataTable =\n",
              "            await google.colab.kernel.invokeFunction('convertToInteractive',\n",
              "                                                     [key], {});\n",
              "          if (!dataTable) return;\n",
              "\n",
              "          const docLinkHtml = 'Like what you see? Visit the ' +\n",
              "            '<a target=\"_blank\" href=https://colab.research.google.com/notebooks/data_table.ipynb>data table notebook</a>'\n",
              "            + ' to learn more about interactive tables.';\n",
              "          element.innerHTML = '';\n",
              "          dataTable['output_type'] = 'display_data';\n",
              "          await google.colab.output.renderOutput(dataTable, element);\n",
              "          const docLink = document.createElement('div');\n",
              "          docLink.innerHTML = docLinkHtml;\n",
              "          element.appendChild(docLink);\n",
              "        }\n",
              "      </script>\n",
              "    </div>\n",
              "  </div>\n",
              "  "
            ]
          },
          "metadata": {},
          "execution_count": 208
        }
      ]
    },
    {
      "cell_type": "markdown",
      "source": [
        "# Two-way Anova"
      ],
      "metadata": {
        "id": "7MvhOXLHUdG4"
      }
    },
    {
      "cell_type": "markdown",
      "source": [
        "## race & year -> search count"
      ],
      "metadata": {
        "id": "uYcQ2KIlUi6j"
      }
    },
    {
      "cell_type": "code",
      "source": [
        "import seaborn as sns\n",
        "sns.set(rc={'figure.figsize':(16,9)})\n",
        "sns.boxplot(x=\"Perceived_Race\", y=\"search_rate\", hue=\"Arrest_Year\", data=ca_strip_data, palette=\"Set3\") "
      ],
      "metadata": {
        "id": "0HZLQ2W8UbyV",
        "colab": {
          "base_uri": "https://localhost:8080/",
          "height": 574
        },
        "outputId": "87e9f8ba-c94b-4697-cb66-4484692bc2dc"
      },
      "execution_count": null,
      "outputs": [
        {
          "output_type": "execute_result",
          "data": {
            "text/plain": [
              "<AxesSubplot:xlabel='Perceived_Race', ylabel='search_rate'>"
            ]
          },
          "metadata": {},
          "execution_count": 209
        },
        {
          "output_type": "display_data",
          "data": {
            "text/plain": [
              "<Figure size 1152x648 with 1 Axes>"
            ],
            "image/png": "[encoded data removed]"
          },
          "metadata": {}
        }
      ]
    },
    {
      "cell_type": "code",
      "source": [
        "from statsmodels.graphics.factorplots import interaction_plot\n",
        "import matplotlib.pyplot as plt\n",
        "fig = interaction_plot(x=ca_strip_data['Perceived_Race'], trace=ca_strip_data['Arrest_Year'], response=ca_strip_data['search_rate'], \n",
        "    colors=['#4c061d','#d17a22'])\n",
        "plt.show()"
      ],
      "metadata": {
        "id": "SEyhdx-HUw0b",
        "colab": {
          "base_uri": "https://localhost:8080/",
          "height": 557
        },
        "outputId": "b8ba163d-91ce-4046-9c49-91c506fa1f42"
      },
      "execution_count": null,
      "outputs": [
        {
          "output_type": "display_data",
          "data": {
            "text/plain": [
              "<Figure size 1152x648 with 1 Axes>"
            ],
            "image/png": "[encoded data removed]"
          },
          "metadata": {}
        }
      ]
    },
    {
      "cell_type": "code",
      "source": [
        "import statsmodels.api as sm\n",
        "from statsmodels.formula.api import ols\n",
        "model_year_race = ols('search_rate ~ C(Perceived_Race) + C(Arrest_Year) + C(Perceived_Race):C(Arrest_Year)', data=ca_strip_data).fit()\n",
        "anova_table_year_race = sm.stats.anova_lm(model_year_race, typ=2)\n",
        "anova_table_year_race"
      ],
      "metadata": {
        "id": "SpmlilA_U4ZU",
        "colab": {
          "base_uri": "https://localhost:8080/",
          "height": 174
        },
        "outputId": "ff8fd8db-2dc9-4f4b-a363-545155dff78f"
      },
      "execution_count": null,
      "outputs": [
        {
          "output_type": "execute_result",
          "data": {
            "text/plain": [
              "                                       sum_sq     df           F        PR(>F)\n",
              "C(Perceived_Race)                 1297.575355    7.0    4.586232  8.520835e-05\n",
              "C(Arrest_Year)                    8951.400772    1.0  221.468752  7.362095e-35\n",
              "C(Perceived_Race):C(Arrest_Year)  1195.590896    7.0    4.225772  2.175314e-04\n",
              "Residual                          8649.526164  214.0         NaN           NaN"
            ],
            "text/html": [
              "\n",
              "  <div id=\"df-a3e1dcab-6ed2-415a-9263-bd9f31411927\">\n",
              "    <div class=\"colab-df-container\">\n",
              "      <div>\n",
              "<style scoped>\n",
              "    .dataframe tbody tr th:only-of-type {\n",
              "        vertical-align: middle;\n",
              "    }\n",
              "\n",
              "    .dataframe tbody tr th {\n",
              "        vertical-align: top;\n",
              "    }\n",
              "\n",
              "    .dataframe thead th {\n",
              "        text-align: right;\n",
              "    }\n",
              "</style>\n",
              "<table border=\"1\" class=\"dataframe\">\n",
              "  <thead>\n",
              "    <tr style=\"text-align: right;\">\n",
              "      <th></th>\n",
              "      <th>sum_sq</th>\n",
              "      <th>df</th>\n",
              "      <th>F</th>\n",
              "      <th>PR(&gt;F)</th>\n",
              "    </tr>\n",
              "  </thead>\n",
              "  <tbody>\n",
              "    <tr>\n",
              "      <th>C(Perceived_Race)</th>\n",
              "      <td>1297.575355</td>\n",
              "      <td>7.0</td>\n",
              "      <td>4.586232</td>\n",
              "      <td>8.520835e-05</td>\n",
              "    </tr>\n",
              "    <tr>\n",
              "      <th>C(Arrest_Year)</th>\n",
              "      <td>8951.400772</td>\n",
              "      <td>1.0</td>\n",
              "      <td>221.468752</td>\n",
              "      <td>7.362095e-35</td>\n",
              "    </tr>\n",
              "    <tr>\n",
              "      <th>C(Perceived_Race):C(Arrest_Year)</th>\n",
              "      <td>1195.590896</td>\n",
              "      <td>7.0</td>\n",
              "      <td>4.225772</td>\n",
              "      <td>2.175314e-04</td>\n",
              "    </tr>\n",
              "    <tr>\n",
              "      <th>Residual</th>\n",
              "      <td>8649.526164</td>\n",
              "      <td>214.0</td>\n",
              "      <td>NaN</td>\n",
              "      <td>NaN</td>\n",
              "    </tr>\n",
              "  </tbody>\n",
              "</table>\n",
              "</div>\n",
              "      <button class=\"colab-df-convert\" onclick=\"convertToInteractive('df-a3e1dcab-6ed2-415a-9263-bd9f31411927')\"\n",
              "              title=\"Convert this dataframe to an interactive table.\"\n",
              "              style=\"display:none;\">\n",
              "        \n",
              "  <svg xmlns=\"http://www.w3.org/2000/svg\" height=\"24px\"viewBox=\"0 0 24 24\"\n",
              "       width=\"24px\">\n",
              "    <path d=\"M0 0h24v24H0V0z\" fill=\"none\"/>\n",
              "    <path d=\"M18.56 5.44l.94 2.06.94-2.06 2.06-.94-2.06-.94-.94-2.06-.94 2.06-2.06.94zm-11 1L8.5 8.5l.94-2.06 2.06-.94-2.06-.94L8.5 2.5l-.94 2.06-2.06.94zm10 10l.94 2.06.94-2.06 2.06-.94-2.06-.94-.94-2.06-.94 2.06-2.06.94z\"/><path d=\"M17.41 7.96l-1.37-1.37c-.4-.4-.92-.59-1.43-.59-.52 0-1.04.2-1.43.59L10.3 9.45l-7.72 7.72c-.78.78-.78 2.05 0 2.83L4 21.41c.39.39.9.59 1.41.59.51 0 1.02-.2 1.41-.59l7.78-7.78 2.81-2.81c.8-.78.8-2.07 0-2.86zM5.41 20L4 18.59l7.72-7.72 1.47 1.35L5.41 20z\"/>\n",
              "  </svg>\n",
              "      </button>\n",
              "      \n",
              "  <style>\n",
              "    .colab-df-container {\n",
              "      display:flex;\n",
              "      flex-wrap:wrap;\n",
              "      gap: 12px;\n",
              "    }\n",
              "\n",
              "    .colab-df-convert {\n",
              "      background-color: #E8F0FE;\n",
              "      border: none;\n",
              "      border-radius: 50%;\n",
              "      cursor: pointer;\n",
              "      display: none;\n",
              "      fill: #1967D2;\n",
              "      height: 32px;\n",
              "      padding: 0 0 0 0;\n",
              "      width: 32px;\n",
              "    }\n",
              "\n",
              "    .colab-df-convert:hover {\n",
              "      background-color: #E2EBFA;\n",
              "      box-shadow: 0px 1px 2px rgba(60, 64, 67, 0.3), 0px 1px 3px 1px rgba(60, 64, 67, 0.15);\n",
              "      fill: #174EA6;\n",
              "    }\n",
              "\n",
              "    [theme=dark] .colab-df-convert {\n",
              "      background-color: #3B4455;\n",
              "      fill: #D2E3FC;\n",
              "    }\n",
              "\n",
              "    [theme=dark] .colab-df-convert:hover {\n",
              "      background-color: #434B5C;\n",
              "      box-shadow: 0px 1px 3px 1px rgba(0, 0, 0, 0.15);\n",
              "      filter: drop-shadow(0px 1px 2px rgba(0, 0, 0, 0.3));\n",
              "      fill: #FFFFFF;\n",
              "    }\n",
              "  </style>\n",
              "\n",
              "      <script>\n",
              "        const buttonEl =\n",
              "          document.querySelector('#df-a3e1dcab-6ed2-415a-9263-bd9f31411927 button.colab-df-convert');\n",
              "        buttonEl.style.display =\n",
              "          google.colab.kernel.accessAllowed ? 'block' : 'none';\n",
              "\n",
              "        async function convertToInteractive(key) {\n",
              "          const element = document.querySelector('#df-a3e1dcab-6ed2-415a-9263-bd9f31411927');\n",
              "          const dataTable =\n",
              "            await google.colab.kernel.invokeFunction('convertToInteractive',\n",
              "                                                     [key], {});\n",
              "          if (!dataTable) return;\n",
              "\n",
              "          const docLinkHtml = 'Like what you see? Visit the ' +\n",
              "            '<a target=\"_blank\" href=https://colab.research.google.com/notebooks/data_table.ipynb>data table notebook</a>'\n",
              "            + ' to learn more about interactive tables.';\n",
              "          element.innerHTML = '';\n",
              "          dataTable['output_type'] = 'display_data';\n",
              "          await google.colab.output.renderOutput(dataTable, element);\n",
              "          const docLink = document.createElement('div');\n",
              "          docLink.innerHTML = docLinkHtml;\n",
              "          element.appendChild(docLink);\n",
              "        }\n",
              "      </script>\n",
              "    </div>\n",
              "  </div>\n",
              "  "
            ]
          },
          "metadata": {},
          "execution_count": 211
        }
      ]
    },
    {
      "cell_type": "markdown",
      "source": [
        "## sex & year -> search count"
      ],
      "metadata": {
        "id": "OjGV_XQpVE4z"
      }
    },
    {
      "cell_type": "code",
      "source": [
        "sns.boxplot(x=\"Sex\", y=\"Search_count\", hue=\"Arrest_Year\", data=ca_strip_data, palette=\"Set3\") "
      ],
      "metadata": {
        "id": "ZosimS8kVMJW",
        "colab": {
          "base_uri": "https://localhost:8080/",
          "height": 89
        },
        "outputId": "81565764-5aef-46ab-f744-2244a3a25d59"
      },
      "execution_count": null,
      "outputs": [
        {
          "output_type": "execute_result",
          "data": {
            "text/plain": [
              "<AxesSubplot:xlabel='Sex', ylabel='Search_count'>"
            ]
          },
          "metadata": {},
          "execution_count": 212
        },
        {
          "output_type": "display_data",
          "data": {
            "text/plain": [
              "<Figure size 1152x648 with 1 Axes>"
            ],
            "image/png": "[encoded data removed]"
          },
          "metadata": {}
        }
      ]
    },
    {
      "cell_type": "code",
      "source": [
        "fig = interaction_plot(x=ca_strip_data['Sex'], trace=ca_strip_data['Arrest_Year'], response=ca_strip_data['Search_count'], \n",
        "    colors=['#4c061d','#d17a22'])\n",
        "plt.show()"
      ],
      "metadata": {
        "id": "Qtqksq0GVOfQ",
        "colab": {
          "base_uri": "https://localhost:8080/",
          "height": 54
        },
        "outputId": "9aced50a-cef5-4b96-8d92-0c1073eef808"
      },
      "execution_count": null,
      "outputs": [
        {
          "output_type": "display_data",
          "data": {
            "text/plain": [
              "<Figure size 1152x648 with 1 Axes>"
            ],
            "image/png": "[encoded data removed]"
          },
          "metadata": {}
        }
      ]
    },
    {
      "cell_type": "code",
      "source": [
        "model_year_sex = ols('Search_count ~ C(Sex) + C(Arrest_Year) + C(Sex):C(Arrest_Year)', data=ca_strip_data).fit()\n",
        "anova_table_year_sex = sm.stats.anova_lm(model_year_sex, typ=2)\n",
        "anova_table_year_sex"
      ],
      "metadata": {
        "id": "Di2fn_9pVQ7k",
        "colab": {
          "base_uri": "https://localhost:8080/",
          "height": 238
        },
        "outputId": "c3507bde-a152-49a0-fb71-52468bad0138"
      },
      "execution_count": null,
      "outputs": [
        {
          "output_type": "execute_result",
          "data": {
            "text/plain": [
              "                             sum_sq     df          F    PR(>F)\n",
              "C(Sex)                 1.189820e+05    2.0   6.809750  0.001346\n",
              "C(Arrest_Year)         1.583475e+05    1.0  18.125548  0.000030\n",
              "C(Sex):C(Arrest_Year)  7.512693e+04    2.0   4.299773  0.014709\n",
              "Residual               1.956898e+06  224.0        NaN       NaN"
            ],
            "text/html": [
              "\n",
              "  <div id=\"df-032a8307-5d31-468e-a88b-6cbb3bcd3a1b\">\n",
              "    <div class=\"colab-df-container\">\n",
              "      <div>\n",
              "<style scoped>\n",
              "    .dataframe tbody tr th:only-of-type {\n",
              "        vertical-align: middle;\n",
              "    }\n",
              "\n",
              "    .dataframe tbody tr th {\n",
              "        vertical-align: top;\n",
              "    }\n",
              "\n",
              "    .dataframe thead th {\n",
              "        text-align: right;\n",
              "    }\n",
              "</style>\n",
              "<table border=\"1\" class=\"dataframe\">\n",
              "  <thead>\n",
              "    <tr style=\"text-align: right;\">\n",
              "      <th></th>\n",
              "      <th>sum_sq</th>\n",
              "      <th>df</th>\n",
              "      <th>F</th>\n",
              "      <th>PR(&gt;F)</th>\n",
              "    </tr>\n",
              "  </thead>\n",
              "  <tbody>\n",
              "    <tr>\n",
              "      <th>C(Sex)</th>\n",
              "      <td>1.189820e+05</td>\n",
              "      <td>2.0</td>\n",
              "      <td>6.809750</td>\n",
              "      <td>0.001346</td>\n",
              "    </tr>\n",
              "    <tr>\n",
              "      <th>C(Arrest_Year)</th>\n",
              "      <td>1.583475e+05</td>\n",
              "      <td>1.0</td>\n",
              "      <td>18.125548</td>\n",
              "      <td>0.000030</td>\n",
              "    </tr>\n",
              "    <tr>\n",
              "      <th>C(Sex):C(Arrest_Year)</th>\n",
              "      <td>7.512693e+04</td>\n",
              "      <td>2.0</td>\n",
              "      <td>4.299773</td>\n",
              "      <td>0.014709</td>\n",
              "    </tr>\n",
              "    <tr>\n",
              "      <th>Residual</th>\n",
              "      <td>1.956898e+06</td>\n",
              "      <td>224.0</td>\n",
              "      <td>NaN</td>\n",
              "      <td>NaN</td>\n",
              "    </tr>\n",
              "  </tbody>\n",
              "</table>\n",
              "</div>\n",
              "      <button class=\"colab-df-convert\" onclick=\"convertToInteractive('df-032a8307-5d31-468e-a88b-6cbb3bcd3a1b')\"\n",
              "              title=\"Convert this dataframe to an interactive table.\"\n",
              "              style=\"display:none;\">\n",
              "        \n",
              "  <svg xmlns=\"http://www.w3.org/2000/svg\" height=\"24px\"viewBox=\"0 0 24 24\"\n",
              "       width=\"24px\">\n",
              "    <path d=\"M0 0h24v24H0V0z\" fill=\"none\"/>\n",
              "    <path d=\"M18.56 5.44l.94 2.06.94-2.06 2.06-.94-2.06-.94-.94-2.06-.94 2.06-2.06.94zm-11 1L8.5 8.5l.94-2.06 2.06-.94-2.06-.94L8.5 2.5l-.94 2.06-2.06.94zm10 10l.94 2.06.94-2.06 2.06-.94-2.06-.94-.94-2.06-.94 2.06-2.06.94z\"/><path d=\"M17.41 7.96l-1.37-1.37c-.4-.4-.92-.59-1.43-.59-.52 0-1.04.2-1.43.59L10.3 9.45l-7.72 7.72c-.78.78-.78 2.05 0 2.83L4 21.41c.39.39.9.59 1.41.59.51 0 1.02-.2 1.41-.59l7.78-7.78 2.81-2.81c.8-.78.8-2.07 0-2.86zM5.41 20L4 18.59l7.72-7.72 1.47 1.35L5.41 20z\"/>\n",
              "  </svg>\n",
              "      </button>\n",
              "      \n",
              "  <style>\n",
              "    .colab-df-container {\n",
              "      display:flex;\n",
              "      flex-wrap:wrap;\n",
              "      gap: 12px;\n",
              "    }\n",
              "\n",
              "    .colab-df-convert {\n",
              "      background-color: #E8F0FE;\n",
              "      border: none;\n",
              "      border-radius: 50%;\n",
              "      cursor: pointer;\n",
              "      display: none;\n",
              "      fill: #1967D2;\n",
              "      height: 32px;\n",
              "      padding: 0 0 0 0;\n",
              "      width: 32px;\n",
              "    }\n",
              "\n",
              "    .colab-df-convert:hover {\n",
              "      background-color: #E2EBFA;\n",
              "      box-shadow: 0px 1px 2px rgba(60, 64, 67, 0.3), 0px 1px 3px 1px rgba(60, 64, 67, 0.15);\n",
              "      fill: #174EA6;\n",
              "    }\n",
              "\n",
              "    [theme=dark] .colab-df-convert {\n",
              "      background-color: #3B4455;\n",
              "      fill: #D2E3FC;\n",
              "    }\n",
              "\n",
              "    [theme=dark] .colab-df-convert:hover {\n",
              "      background-color: #434B5C;\n",
              "      box-shadow: 0px 1px 3px 1px rgba(0, 0, 0, 0.15);\n",
              "      filter: drop-shadow(0px 1px 2px rgba(0, 0, 0, 0.3));\n",
              "      fill: #FFFFFF;\n",
              "    }\n",
              "  </style>\n",
              "\n",
              "      <script>\n",
              "        const buttonEl =\n",
              "          document.querySelector('#df-032a8307-5d31-468e-a88b-6cbb3bcd3a1b button.colab-df-convert');\n",
              "        buttonEl.style.display =\n",
              "          google.colab.kernel.accessAllowed ? 'block' : 'none';\n",
              "\n",
              "        async function convertToInteractive(key) {\n",
              "          const element = document.querySelector('#df-032a8307-5d31-468e-a88b-6cbb3bcd3a1b');\n",
              "          const dataTable =\n",
              "            await google.colab.kernel.invokeFunction('convertToInteractive',\n",
              "                                                     [key], {});\n",
              "          if (!dataTable) return;\n",
              "\n",
              "          const docLinkHtml = 'Like what you see? Visit the ' +\n",
              "            '<a target=\"_blank\" href=https://colab.research.google.com/notebooks/data_table.ipynb>data table notebook</a>'\n",
              "            + ' to learn more about interactive tables.';\n",
              "          element.innerHTML = '';\n",
              "          dataTable['output_type'] = 'display_data';\n",
              "          await google.colab.output.renderOutput(dataTable, element);\n",
              "          const docLink = document.createElement('div');\n",
              "          docLink.innerHTML = docLinkHtml;\n",
              "          element.appendChild(docLink);\n",
              "        }\n",
              "      </script>\n",
              "    </div>\n",
              "  </div>\n",
              "  "
            ]
          },
          "metadata": {},
          "execution_count": 214
        }
      ]
    },
    {
      "cell_type": "markdown",
      "source": [
        "## sex & races -> search count"
      ],
      "metadata": {
        "id": "ENT0Fu1EVThN"
      }
    },
    {
      "cell_type": "code",
      "source": [
        "sns.boxplot(x=\"Perceived_Race\", y=\"Search_count\", hue=\"Sex\", data=ca_strip_data, palette=\"Set3\") "
      ],
      "metadata": {
        "id": "mkm717fVVY2J",
        "colab": {
          "base_uri": "https://localhost:8080/",
          "height": 89
        },
        "outputId": "19c72c20-fc96-4cbf-c875-585da1bb7984"
      },
      "execution_count": null,
      "outputs": [
        {
          "output_type": "execute_result",
          "data": {
            "text/plain": [
              "<AxesSubplot:xlabel='Perceived_Race', ylabel='Search_count'>"
            ]
          },
          "metadata": {},
          "execution_count": 215
        },
        {
          "output_type": "display_data",
          "data": {
            "text/plain": [
              "<Figure size 1152x648 with 1 Axes>"
            ],
            "image/png": "[encoded data removed]"
          },
          "metadata": {}
        }
      ]
    },
    {
      "cell_type": "code",
      "source": [
        "fig = interaction_plot(x=ca_strip_data['Perceived_Race'], trace=ca_strip_data['Sex'], response=ca_strip_data['Search_count'], \n",
        "    colors=['#4c061d','#d17a22', '#b4c292'])\n",
        "plt.show()"
      ],
      "metadata": {
        "id": "tmWSeWo9VbOQ",
        "colab": {
          "base_uri": "https://localhost:8080/",
          "height": 54
        },
        "outputId": "d99bff10-a228-4c61-ebf0-530752fb2c15"
      },
      "execution_count": null,
      "outputs": [
        {
          "output_type": "display_data",
          "data": {
            "text/plain": [
              "<Figure size 1152x648 with 1 Axes>"
            ],
            "image/png": "[encoded data removed]"
          },
          "metadata": {}
        }
      ]
    },
    {
      "cell_type": "code",
      "source": [
        "model_sex_races = ols('Search_count ~ C(Perceived_Race) + C(Sex) + C(Perceived_Race):C(Sex)', data=ca_strip_data).fit()\n",
        "anova_table_sex_races = sm.stats.anova_lm(model_sex_races, typ=2)\n",
        "anova_table_sex_races"
      ],
      "metadata": {
        "id": "CMx-xuzPVdP6",
        "colab": {
          "base_uri": "https://localhost:8080/",
          "height": 308
        },
        "outputId": "e162d4ea-6cc2-4545-9308-d9ecdffa9482"
      },
      "execution_count": null,
      "outputs": [
        {
          "output_type": "stream",
          "name": "stderr",
          "text": [
            "/usr/local/lib/python3.8/dist-packages/statsmodels/base/model.py:1832: ValueWarning: covariance of constraints does not have full rank. The number of constraints is 7, but rank is 3\n",
            "  warnings.warn('covariance of constraints does not have full '\n",
            "/usr/local/lib/python3.8/dist-packages/statsmodels/base/model.py:1832: ValueWarning: covariance of constraints does not have full rank. The number of constraints is 14, but rank is 10\n",
            "  warnings.warn('covariance of constraints does not have full '\n"
          ]
        },
        {
          "output_type": "execute_result",
          "data": {
            "text/plain": [
              "                                sum_sq     df         F    PR(>F)\n",
              "C(Perceived_Race)         5.045575e+05    7.0  9.064285  0.000011\n",
              "C(Sex)                    4.811451e+04    2.0  3.025290  0.050655\n",
              "C(Perceived_Race):C(Sex)  2.399798e+05   14.0  2.155597  0.021739\n",
              "Residual                  1.677883e+06  211.0       NaN       NaN"
            ],
            "text/html": [
              "\n",
              "  <div id=\"df-b6b457a2-1636-4896-b0f1-dd053bf5fc18\">\n",
              "    <div class=\"colab-df-container\">\n",
              "      <div>\n",
              "<style scoped>\n",
              "    .dataframe tbody tr th:only-of-type {\n",
              "        vertical-align: middle;\n",
              "    }\n",
              "\n",
              "    .dataframe tbody tr th {\n",
              "        vertical-align: top;\n",
              "    }\n",
              "\n",
              "    .dataframe thead th {\n",
              "        text-align: right;\n",
              "    }\n",
              "</style>\n",
              "<table border=\"1\" class=\"dataframe\">\n",
              "  <thead>\n",
              "    <tr style=\"text-align: right;\">\n",
              "      <th></th>\n",
              "      <th>sum_sq</th>\n",
              "      <th>df</th>\n",
              "      <th>F</th>\n",
              "      <th>PR(&gt;F)</th>\n",
              "    </tr>\n",
              "  </thead>\n",
              "  <tbody>\n",
              "    <tr>\n",
              "      <th>C(Perceived_Race)</th>\n",
              "      <td>5.045575e+05</td>\n",
              "      <td>7.0</td>\n",
              "      <td>9.064285</td>\n",
              "      <td>0.000011</td>\n",
              "    </tr>\n",
              "    <tr>\n",
              "      <th>C(Sex)</th>\n",
              "      <td>4.811451e+04</td>\n",
              "      <td>2.0</td>\n",
              "      <td>3.025290</td>\n",
              "      <td>0.050655</td>\n",
              "    </tr>\n",
              "    <tr>\n",
              "      <th>C(Perceived_Race):C(Sex)</th>\n",
              "      <td>2.399798e+05</td>\n",
              "      <td>14.0</td>\n",
              "      <td>2.155597</td>\n",
              "      <td>0.021739</td>\n",
              "    </tr>\n",
              "    <tr>\n",
              "      <th>Residual</th>\n",
              "      <td>1.677883e+06</td>\n",
              "      <td>211.0</td>\n",
              "      <td>NaN</td>\n",
              "      <td>NaN</td>\n",
              "    </tr>\n",
              "  </tbody>\n",
              "</table>\n",
              "</div>\n",
              "      <button class=\"colab-df-convert\" onclick=\"convertToInteractive('df-b6b457a2-1636-4896-b0f1-dd053bf5fc18')\"\n",
              "              title=\"Convert this dataframe to an interactive table.\"\n",
              "              style=\"display:none;\">\n",
              "        \n",
              "  <svg xmlns=\"http://www.w3.org/2000/svg\" height=\"24px\"viewBox=\"0 0 24 24\"\n",
              "       width=\"24px\">\n",
              "    <path d=\"M0 0h24v24H0V0z\" fill=\"none\"/>\n",
              "    <path d=\"M18.56 5.44l.94 2.06.94-2.06 2.06-.94-2.06-.94-.94-2.06-.94 2.06-2.06.94zm-11 1L8.5 8.5l.94-2.06 2.06-.94-2.06-.94L8.5 2.5l-.94 2.06-2.06.94zm10 10l.94 2.06.94-2.06 2.06-.94-2.06-.94-.94-2.06-.94 2.06-2.06.94z\"/><path d=\"M17.41 7.96l-1.37-1.37c-.4-.4-.92-.59-1.43-.59-.52 0-1.04.2-1.43.59L10.3 9.45l-7.72 7.72c-.78.78-.78 2.05 0 2.83L4 21.41c.39.39.9.59 1.41.59.51 0 1.02-.2 1.41-.59l7.78-7.78 2.81-2.81c.8-.78.8-2.07 0-2.86zM5.41 20L4 18.59l7.72-7.72 1.47 1.35L5.41 20z\"/>\n",
              "  </svg>\n",
              "      </button>\n",
              "      \n",
              "  <style>\n",
              "    .colab-df-container {\n",
              "      display:flex;\n",
              "      flex-wrap:wrap;\n",
              "      gap: 12px;\n",
              "    }\n",
              "\n",
              "    .colab-df-convert {\n",
              "      background-color: #E8F0FE;\n",
              "      border: none;\n",
              "      border-radius: 50%;\n",
              "      cursor: pointer;\n",
              "      display: none;\n",
              "      fill: #1967D2;\n",
              "      height: 32px;\n",
              "      padding: 0 0 0 0;\n",
              "      width: 32px;\n",
              "    }\n",
              "\n",
              "    .colab-df-convert:hover {\n",
              "      background-color: #E2EBFA;\n",
              "      box-shadow: 0px 1px 2px rgba(60, 64, 67, 0.3), 0px 1px 3px 1px rgba(60, 64, 67, 0.15);\n",
              "      fill: #174EA6;\n",
              "    }\n",
              "\n",
              "    [theme=dark] .colab-df-convert {\n",
              "      background-color: #3B4455;\n",
              "      fill: #D2E3FC;\n",
              "    }\n",
              "\n",
              "    [theme=dark] .colab-df-convert:hover {\n",
              "      background-color: #434B5C;\n",
              "      box-shadow: 0px 1px 3px 1px rgba(0, 0, 0, 0.15);\n",
              "      filter: drop-shadow(0px 1px 2px rgba(0, 0, 0, 0.3));\n",
              "      fill: #FFFFFF;\n",
              "    }\n",
              "  </style>\n",
              "\n",
              "      <script>\n",
              "        const buttonEl =\n",
              "          document.querySelector('#df-b6b457a2-1636-4896-b0f1-dd053bf5fc18 button.colab-df-convert');\n",
              "        buttonEl.style.display =\n",
              "          google.colab.kernel.accessAllowed ? 'block' : 'none';\n",
              "\n",
              "        async function convertToInteractive(key) {\n",
              "          const element = document.querySelector('#df-b6b457a2-1636-4896-b0f1-dd053bf5fc18');\n",
              "          const dataTable =\n",
              "            await google.colab.kernel.invokeFunction('convertToInteractive',\n",
              "                                                     [key], {});\n",
              "          if (!dataTable) return;\n",
              "\n",
              "          const docLinkHtml = 'Like what you see? Visit the ' +\n",
              "            '<a target=\"_blank\" href=https://colab.research.google.com/notebooks/data_table.ipynb>data table notebook</a>'\n",
              "            + ' to learn more about interactive tables.';\n",
              "          element.innerHTML = '';\n",
              "          dataTable['output_type'] = 'display_data';\n",
              "          await google.colab.output.renderOutput(dataTable, element);\n",
              "          const docLink = document.createElement('div');\n",
              "          docLink.innerHTML = docLinkHtml;\n",
              "          element.appendChild(docLink);\n",
              "        }\n",
              "      </script>\n",
              "    </div>\n",
              "  </div>\n",
              "  "
            ]
          },
          "metadata": {},
          "execution_count": 217
        }
      ]
    }
  ]
}