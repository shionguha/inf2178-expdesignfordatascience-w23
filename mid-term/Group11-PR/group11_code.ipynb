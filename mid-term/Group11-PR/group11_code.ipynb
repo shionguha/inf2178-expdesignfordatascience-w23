{
  "cells": [
    {
      "cell_type": "markdown",
      "source": [
        "https://colab.research.google.com/drive/1VpvwkPrMoNZ1dCageJ0zk5Us555pL1C7?usp=sharing"
      ],
      "metadata": {
        "id": "8c-mzyua7Eu3"
      }
    },
    {
      "cell_type": "code",
      "execution_count": 123,
      "metadata": {
        "id": "wqXyKwbPEjSv"
      },
      "outputs": [],
      "source": [
        "# import packages\n",
        "import pandas as pd\n",
        "import numpy as np\n",
        "import seaborn as sns\n",
        "import statsmodels.api as sm\n",
        "import matplotlib.pyplot as plt\n",
        "from scipy import stats\n",
        "from scipy.stats import f_oneway\n",
        "from statsmodels.stats.multicomp import pairwise_tukeyhsd\n",
        "from statsmodels.formula.api import ols\n",
        "from statsmodels.stats.anova import anova_lm\n",
        "from statsmodels.graphics.factorplots import interaction_plot"
      ]
    },
    {
      "cell_type": "markdown",
      "metadata": {
        "id": "dI9SHX7jcHKC"
      },
      "source": [
        "# Data Pre-processing"
      ]
    },
    {
      "cell_type": "code",
      "execution_count": 124,
      "metadata": {
        "colab": {
          "base_uri": "https://localhost:8080/",
          "height": 110
        },
        "id": "wRj4VmtLpJPe",
        "outputId": "e82b1578-627d-4e48-f203-20426f714a02"
      },
      "outputs": [
        {
          "output_type": "display_data",
          "data": {
            "text/plain": [
              "<IPython.core.display.HTML object>"
            ],
            "text/html": [
              "\n",
              "     <input type=\"file\" id=\"files-dfecaf66-afd6-4d6f-bdd7-934eb55a2364\" name=\"files[]\" multiple disabled\n",
              "        style=\"border:none\" />\n",
              "     <output id=\"result-dfecaf66-afd6-4d6f-bdd7-934eb55a2364\">\n",
              "      Upload widget is only available when the cell has been executed in the\n",
              "      current browser session. Please rerun this cell to enable.\n",
              "      </output>\n",
              "      <script>// Copyright 2017 Google LLC\n",
              "//\n",
              "// Licensed under the Apache License, Version 2.0 (the \"License\");\n",
              "// you may not use this file except in compliance with the License.\n",
              "// You may obtain a copy of the License at\n",
              "//\n",
              "//      http://www.apache.org/licenses/LICENSE-2.0\n",
              "//\n",
              "// Unless required by applicable law or agreed to in writing, software\n",
              "// distributed under the License is distributed on an \"AS IS\" BASIS,\n",
              "// WITHOUT WARRANTIES OR CONDITIONS OF ANY KIND, either express or implied.\n",
              "// See the License for the specific language governing permissions and\n",
              "// limitations under the License.\n",
              "\n",
              "/**\n",
              " * @fileoverview Helpers for google.colab Python module.\n",
              " */\n",
              "(function(scope) {\n",
              "function span(text, styleAttributes = {}) {\n",
              "  const element = document.createElement('span');\n",
              "  element.textContent = text;\n",
              "  for (const key of Object.keys(styleAttributes)) {\n",
              "    element.style[key] = styleAttributes[key];\n",
              "  }\n",
              "  return element;\n",
              "}\n",
              "\n",
              "// Max number of bytes which will be uploaded at a time.\n",
              "const MAX_PAYLOAD_SIZE = 100 * 1024;\n",
              "\n",
              "function _uploadFiles(inputId, outputId) {\n",
              "  const steps = uploadFilesStep(inputId, outputId);\n",
              "  const outputElement = document.getElementById(outputId);\n",
              "  // Cache steps on the outputElement to make it available for the next call\n",
              "  // to uploadFilesContinue from Python.\n",
              "  outputElement.steps = steps;\n",
              "\n",
              "  return _uploadFilesContinue(outputId);\n",
              "}\n",
              "\n",
              "// This is roughly an async generator (not supported in the browser yet),\n",
              "// where there are multiple asynchronous steps and the Python side is going\n",
              "// to poll for completion of each step.\n",
              "// This uses a Promise to block the python side on completion of each step,\n",
              "// then passes the result of the previous step as the input to the next step.\n",
              "function _uploadFilesContinue(outputId) {\n",
              "  const outputElement = document.getElementById(outputId);\n",
              "  const steps = outputElement.steps;\n",
              "\n",
              "  const next = steps.next(outputElement.lastPromiseValue);\n",
              "  return Promise.resolve(next.value.promise).then((value) => {\n",
              "    // Cache the last promise value to make it available to the next\n",
              "    // step of the generator.\n",
              "    outputElement.lastPromiseValue = value;\n",
              "    return next.value.response;\n",
              "  });\n",
              "}\n",
              "\n",
              "/**\n",
              " * Generator function which is called between each async step of the upload\n",
              " * process.\n",
              " * @param {string} inputId Element ID of the input file picker element.\n",
              " * @param {string} outputId Element ID of the output display.\n",
              " * @return {!Iterable<!Object>} Iterable of next steps.\n",
              " */\n",
              "function* uploadFilesStep(inputId, outputId) {\n",
              "  const inputElement = document.getElementById(inputId);\n",
              "  inputElement.disabled = false;\n",
              "\n",
              "  const outputElement = document.getElementById(outputId);\n",
              "  outputElement.innerHTML = '';\n",
              "\n",
              "  const pickedPromise = new Promise((resolve) => {\n",
              "    inputElement.addEventListener('change', (e) => {\n",
              "      resolve(e.target.files);\n",
              "    });\n",
              "  });\n",
              "\n",
              "  const cancel = document.createElement('button');\n",
              "  inputElement.parentElement.appendChild(cancel);\n",
              "  cancel.textContent = 'Cancel upload';\n",
              "  const cancelPromise = new Promise((resolve) => {\n",
              "    cancel.onclick = () => {\n",
              "      resolve(null);\n",
              "    };\n",
              "  });\n",
              "\n",
              "  // Wait for the user to pick the files.\n",
              "  const files = yield {\n",
              "    promise: Promise.race([pickedPromise, cancelPromise]),\n",
              "    response: {\n",
              "      action: 'starting',\n",
              "    }\n",
              "  };\n",
              "\n",
              "  cancel.remove();\n",
              "\n",
              "  // Disable the input element since further picks are not allowed.\n",
              "  inputElement.disabled = true;\n",
              "\n",
              "  if (!files) {\n",
              "    return {\n",
              "      response: {\n",
              "        action: 'complete',\n",
              "      }\n",
              "    };\n",
              "  }\n",
              "\n",
              "  for (const file of files) {\n",
              "    const li = document.createElement('li');\n",
              "    li.append(span(file.name, {fontWeight: 'bold'}));\n",
              "    li.append(span(\n",
              "        `(${file.type || 'n/a'}) - ${file.size} bytes, ` +\n",
              "        `last modified: ${\n",
              "            file.lastModifiedDate ? file.lastModifiedDate.toLocaleDateString() :\n",
              "                                    'n/a'} - `));\n",
              "    const percent = span('0% done');\n",
              "    li.appendChild(percent);\n",
              "\n",
              "    outputElement.appendChild(li);\n",
              "\n",
              "    const fileDataPromise = new Promise((resolve) => {\n",
              "      const reader = new FileReader();\n",
              "      reader.onload = (e) => {\n",
              "        resolve(e.target.result);\n",
              "      };\n",
              "      reader.readAsArrayBuffer(file);\n",
              "    });\n",
              "    // Wait for the data to be ready.\n",
              "    let fileData = yield {\n",
              "      promise: fileDataPromise,\n",
              "      response: {\n",
              "        action: 'continue',\n",
              "      }\n",
              "    };\n",
              "\n",
              "    // Use a chunked sending to avoid message size limits. See b/62115660.\n",
              "    let position = 0;\n",
              "    do {\n",
              "      const length = Math.min(fileData.byteLength - position, MAX_PAYLOAD_SIZE);\n",
              "      const chunk = new Uint8Array(fileData, position, length);\n",
              "      position += length;\n",
              "\n",
              "      const base64 = btoa(String.fromCharCode.apply(null, chunk));\n",
              "      yield {\n",
              "        response: {\n",
              "          action: 'append',\n",
              "          file: file.name,\n",
              "          data: base64,\n",
              "        },\n",
              "      };\n",
              "\n",
              "      let percentDone = fileData.byteLength === 0 ?\n",
              "          100 :\n",
              "          Math.round((position / fileData.byteLength) * 100);\n",
              "      percent.textContent = `${percentDone}% done`;\n",
              "\n",
              "    } while (position < fileData.byteLength);\n",
              "  }\n",
              "\n",
              "  // All done.\n",
              "  yield {\n",
              "    response: {\n",
              "      action: 'complete',\n",
              "    }\n",
              "  };\n",
              "}\n",
              "\n",
              "scope.google = scope.google || {};\n",
              "scope.google.colab = scope.google.colab || {};\n",
              "scope.google.colab._files = {\n",
              "  _uploadFiles,\n",
              "  _uploadFilesContinue,\n",
              "};\n",
              "})(self);\n",
              "</script> "
            ]
          },
          "metadata": {}
        },
        {
          "output_type": "stream",
          "name": "stdout",
          "text": [
            "Saving Arrests_and_Strip_Searches_(RBDC-ARR-TBL-001).csv to Arrests_and_Strip_Searches_(RBDC-ARR-TBL-001) (2).csv\n"
          ]
        }
      ],
      "source": [
        "from google.colab import files\n",
        "uploaded = files.upload()"
      ]
    },
    {
      "cell_type": "code",
      "execution_count": 125,
      "metadata": {
        "id": "ACXbSHldFvLk"
      },
      "outputs": [],
      "source": [
        "# check if there any missing values in the dataset\n",
        "def ViewingData(df):\n",
        "  for column in df:\n",
        "    print(\"{}\\t\\t\\t\\t{}\".format(column, sum(df[column].isna())))"
      ]
    },
    {
      "cell_type": "code",
      "execution_count": 126,
      "metadata": {
        "colab": {
          "base_uri": "https://localhost:8080/"
        },
        "id": "6QxdfOdkp62Q",
        "outputId": "e994ca4c-1181-4da7-dc91-4f93ec677e0a"
      },
      "outputs": [
        {
          "output_type": "stream",
          "name": "stdout",
          "text": [
            "Index(['ArrestID', 'Perceived_Race', 'Age_group__at_arrest_',\n",
            "       'Occurrence_Category', 'SearchReason_CauseInjury',\n",
            "       'SearchReason_AssistEscape', 'SearchReason_PossessWeapons',\n",
            "       'SearchReason_PossessEvidence', 'ItemsFound'],\n",
            "      dtype='object')\n"
          ]
        }
      ],
      "source": [
        "# import the csv file\n",
        "df=pd.read_csv('Arrests_and_Strip_Searches_(RBDC-ARR-TBL-001).csv')\n",
        "nullcols = df.columns[df.isnull().any()]\n",
        "print(nullcols)"
      ]
    },
    {
      "cell_type": "code",
      "source": [
        "df.head()"
      ],
      "metadata": {
        "colab": {
          "base_uri": "https://localhost:8080/",
          "height": 317
        },
        "id": "bQl-O8iaMGke",
        "outputId": "9776398f-dd6b-461e-aed2-012636427620"
      },
      "execution_count": 127,
      "outputs": [
        {
          "output_type": "execute_result",
          "data": {
            "text/plain": [
              "   Arrest_Year Arrest_Month  EventID   ArrestID  PersonID     Perceived_Race  \\\n",
              "0         2020    July-Sept  1005907  6017884.0    326622              White   \n",
              "1         2020    July-Sept  1014562  6056669.0    326622              White   \n",
              "2         2020      Oct-Dec  1029922  6057065.0    326622  Unknown or Legacy   \n",
              "3         2021      Jan-Mar  1052190  6029059.0    327535              Black   \n",
              "4         2021      Jan-Mar  1015512  6040372.0    327535        South Asian   \n",
              "\n",
              "  Sex Age_group__at_arrest_ Youth_at_arrest__under_18_years ArrestLocDiv  ...  \\\n",
              "0   M   Aged 35 to 44 years                     Not a youth           54  ...   \n",
              "1   M   Aged 35 to 44 years                     Not a youth           54  ...   \n",
              "2   M   Aged 35 to 44 years                     Not a youth           54  ...   \n",
              "3   M   Aged 25 to 34 years                     Not a youth           XX  ...   \n",
              "4   M   Aged 25 to 34 years                     Not a youth           XX  ...   \n",
              "\n",
              "   Actions_at_arrest___Resisted__d  Actions_at_arrest___Mental_inst  \\\n",
              "0                                0                                0   \n",
              "1                                0                                0   \n",
              "2                                0                                0   \n",
              "3                                0                                0   \n",
              "4                                0                                0   \n",
              "\n",
              "  Actions_at_arrest___Assaulted_o  Actions_at_arrest___Cooperative  \\\n",
              "0                               0                                1   \n",
              "1                               0                                0   \n",
              "2                               0                                0   \n",
              "3                               0                                0   \n",
              "4                               0                                0   \n",
              "\n",
              "   SearchReason_CauseInjury  SearchReason_AssistEscape  \\\n",
              "0                       NaN                        NaN   \n",
              "1                       NaN                        NaN   \n",
              "2                       NaN                        NaN   \n",
              "3                       NaN                        NaN   \n",
              "4                       NaN                        NaN   \n",
              "\n",
              "   SearchReason_PossessWeapons  SearchReason_PossessEvidence  ItemsFound  \\\n",
              "0                          NaN                           NaN         NaN   \n",
              "1                          NaN                           NaN         NaN   \n",
              "2                          NaN                           NaN         NaN   \n",
              "3                          NaN                           NaN         NaN   \n",
              "4                          NaN                           NaN         NaN   \n",
              "\n",
              "   ObjectId  \n",
              "0         1  \n",
              "1         2  \n",
              "2         3  \n",
              "3         4  \n",
              "4         5  \n",
              "\n",
              "[5 rows x 25 columns]"
            ],
            "text/html": [
              "\n",
              "  <div id=\"df-7f018bc4-edd4-4ed3-b102-e514d61d7d58\">\n",
              "    <div class=\"colab-df-container\">\n",
              "      <div>\n",
              "<style scoped>\n",
              "    .dataframe tbody tr th:only-of-type {\n",
              "        vertical-align: middle;\n",
              "    }\n",
              "\n",
              "    .dataframe tbody tr th {\n",
              "        vertical-align: top;\n",
              "    }\n",
              "\n",
              "    .dataframe thead th {\n",
              "        text-align: right;\n",
              "    }\n",
              "</style>\n",
              "<table border=\"1\" class=\"dataframe\">\n",
              "  <thead>\n",
              "    <tr style=\"text-align: right;\">\n",
              "      <th></th>\n",
              "      <th>Arrest_Year</th>\n",
              "      <th>Arrest_Month</th>\n",
              "      <th>EventID</th>\n",
              "      <th>ArrestID</th>\n",
              "      <th>PersonID</th>\n",
              "      <th>Perceived_Race</th>\n",
              "      <th>Sex</th>\n",
              "      <th>Age_group__at_arrest_</th>\n",
              "      <th>Youth_at_arrest__under_18_years</th>\n",
              "      <th>ArrestLocDiv</th>\n",
              "      <th>...</th>\n",
              "      <th>Actions_at_arrest___Resisted__d</th>\n",
              "      <th>Actions_at_arrest___Mental_inst</th>\n",
              "      <th>Actions_at_arrest___Assaulted_o</th>\n",
              "      <th>Actions_at_arrest___Cooperative</th>\n",
              "      <th>SearchReason_CauseInjury</th>\n",
              "      <th>SearchReason_AssistEscape</th>\n",
              "      <th>SearchReason_PossessWeapons</th>\n",
              "      <th>SearchReason_PossessEvidence</th>\n",
              "      <th>ItemsFound</th>\n",
              "      <th>ObjectId</th>\n",
              "    </tr>\n",
              "  </thead>\n",
              "  <tbody>\n",
              "    <tr>\n",
              "      <th>0</th>\n",
              "      <td>2020</td>\n",
              "      <td>July-Sept</td>\n",
              "      <td>1005907</td>\n",
              "      <td>6017884.0</td>\n",
              "      <td>326622</td>\n",
              "      <td>White</td>\n",
              "      <td>M</td>\n",
              "      <td>Aged 35 to 44 years</td>\n",
              "      <td>Not a youth</td>\n",
              "      <td>54</td>\n",
              "      <td>...</td>\n",
              "      <td>0</td>\n",
              "      <td>0</td>\n",
              "      <td>0</td>\n",
              "      <td>1</td>\n",
              "      <td>NaN</td>\n",
              "      <td>NaN</td>\n",
              "      <td>NaN</td>\n",
              "      <td>NaN</td>\n",
              "      <td>NaN</td>\n",
              "      <td>1</td>\n",
              "    </tr>\n",
              "    <tr>\n",
              "      <th>1</th>\n",
              "      <td>2020</td>\n",
              "      <td>July-Sept</td>\n",
              "      <td>1014562</td>\n",
              "      <td>6056669.0</td>\n",
              "      <td>326622</td>\n",
              "      <td>White</td>\n",
              "      <td>M</td>\n",
              "      <td>Aged 35 to 44 years</td>\n",
              "      <td>Not a youth</td>\n",
              "      <td>54</td>\n",
              "      <td>...</td>\n",
              "      <td>0</td>\n",
              "      <td>0</td>\n",
              "      <td>0</td>\n",
              "      <td>0</td>\n",
              "      <td>NaN</td>\n",
              "      <td>NaN</td>\n",
              "      <td>NaN</td>\n",
              "      <td>NaN</td>\n",
              "      <td>NaN</td>\n",
              "      <td>2</td>\n",
              "    </tr>\n",
              "    <tr>\n",
              "      <th>2</th>\n",
              "      <td>2020</td>\n",
              "      <td>Oct-Dec</td>\n",
              "      <td>1029922</td>\n",
              "      <td>6057065.0</td>\n",
              "      <td>326622</td>\n",
              "      <td>Unknown or Legacy</td>\n",
              "      <td>M</td>\n",
              "      <td>Aged 35 to 44 years</td>\n",
              "      <td>Not a youth</td>\n",
              "      <td>54</td>\n",
              "      <td>...</td>\n",
              "      <td>0</td>\n",
              "      <td>0</td>\n",
              "      <td>0</td>\n",
              "      <td>0</td>\n",
              "      <td>NaN</td>\n",
              "      <td>NaN</td>\n",
              "      <td>NaN</td>\n",
              "      <td>NaN</td>\n",
              "      <td>NaN</td>\n",
              "      <td>3</td>\n",
              "    </tr>\n",
              "    <tr>\n",
              "      <th>3</th>\n",
              "      <td>2021</td>\n",
              "      <td>Jan-Mar</td>\n",
              "      <td>1052190</td>\n",
              "      <td>6029059.0</td>\n",
              "      <td>327535</td>\n",
              "      <td>Black</td>\n",
              "      <td>M</td>\n",
              "      <td>Aged 25 to 34 years</td>\n",
              "      <td>Not a youth</td>\n",
              "      <td>XX</td>\n",
              "      <td>...</td>\n",
              "      <td>0</td>\n",
              "      <td>0</td>\n",
              "      <td>0</td>\n",
              "      <td>0</td>\n",
              "      <td>NaN</td>\n",
              "      <td>NaN</td>\n",
              "      <td>NaN</td>\n",
              "      <td>NaN</td>\n",
              "      <td>NaN</td>\n",
              "      <td>4</td>\n",
              "    </tr>\n",
              "    <tr>\n",
              "      <th>4</th>\n",
              "      <td>2021</td>\n",
              "      <td>Jan-Mar</td>\n",
              "      <td>1015512</td>\n",
              "      <td>6040372.0</td>\n",
              "      <td>327535</td>\n",
              "      <td>South Asian</td>\n",
              "      <td>M</td>\n",
              "      <td>Aged 25 to 34 years</td>\n",
              "      <td>Not a youth</td>\n",
              "      <td>XX</td>\n",
              "      <td>...</td>\n",
              "      <td>0</td>\n",
              "      <td>0</td>\n",
              "      <td>0</td>\n",
              "      <td>0</td>\n",
              "      <td>NaN</td>\n",
              "      <td>NaN</td>\n",
              "      <td>NaN</td>\n",
              "      <td>NaN</td>\n",
              "      <td>NaN</td>\n",
              "      <td>5</td>\n",
              "    </tr>\n",
              "  </tbody>\n",
              "</table>\n",
              "<p>5 rows × 25 columns</p>\n",
              "</div>\n",
              "      <button class=\"colab-df-convert\" onclick=\"convertToInteractive('df-7f018bc4-edd4-4ed3-b102-e514d61d7d58')\"\n",
              "              title=\"Convert this dataframe to an interactive table.\"\n",
              "              style=\"display:none;\">\n",
              "        \n",
              "  <svg xmlns=\"http://www.w3.org/2000/svg\" height=\"24px\"viewBox=\"0 0 24 24\"\n",
              "       width=\"24px\">\n",
              "    <path d=\"M0 0h24v24H0V0z\" fill=\"none\"/>\n",
              "    <path d=\"M18.56 5.44l.94 2.06.94-2.06 2.06-.94-2.06-.94-.94-2.06-.94 2.06-2.06.94zm-11 1L8.5 8.5l.94-2.06 2.06-.94-2.06-.94L8.5 2.5l-.94 2.06-2.06.94zm10 10l.94 2.06.94-2.06 2.06-.94-2.06-.94-.94-2.06-.94 2.06-2.06.94z\"/><path d=\"M17.41 7.96l-1.37-1.37c-.4-.4-.92-.59-1.43-.59-.52 0-1.04.2-1.43.59L10.3 9.45l-7.72 7.72c-.78.78-.78 2.05 0 2.83L4 21.41c.39.39.9.59 1.41.59.51 0 1.02-.2 1.41-.59l7.78-7.78 2.81-2.81c.8-.78.8-2.07 0-2.86zM5.41 20L4 18.59l7.72-7.72 1.47 1.35L5.41 20z\"/>\n",
              "  </svg>\n",
              "      </button>\n",
              "      \n",
              "  <style>\n",
              "    .colab-df-container {\n",
              "      display:flex;\n",
              "      flex-wrap:wrap;\n",
              "      gap: 12px;\n",
              "    }\n",
              "\n",
              "    .colab-df-convert {\n",
              "      background-color: #E8F0FE;\n",
              "      border: none;\n",
              "      border-radius: 50%;\n",
              "      cursor: pointer;\n",
              "      display: none;\n",
              "      fill: #1967D2;\n",
              "      height: 32px;\n",
              "      padding: 0 0 0 0;\n",
              "      width: 32px;\n",
              "    }\n",
              "\n",
              "    .colab-df-convert:hover {\n",
              "      background-color: #E2EBFA;\n",
              "      box-shadow: 0px 1px 2px rgba(60, 64, 67, 0.3), 0px 1px 3px 1px rgba(60, 64, 67, 0.15);\n",
              "      fill: #174EA6;\n",
              "    }\n",
              "\n",
              "    [theme=dark] .colab-df-convert {\n",
              "      background-color: #3B4455;\n",
              "      fill: #D2E3FC;\n",
              "    }\n",
              "\n",
              "    [theme=dark] .colab-df-convert:hover {\n",
              "      background-color: #434B5C;\n",
              "      box-shadow: 0px 1px 3px 1px rgba(0, 0, 0, 0.15);\n",
              "      filter: drop-shadow(0px 1px 2px rgba(0, 0, 0, 0.3));\n",
              "      fill: #FFFFFF;\n",
              "    }\n",
              "  </style>\n",
              "\n",
              "      <script>\n",
              "        const buttonEl =\n",
              "          document.querySelector('#df-7f018bc4-edd4-4ed3-b102-e514d61d7d58 button.colab-df-convert');\n",
              "        buttonEl.style.display =\n",
              "          google.colab.kernel.accessAllowed ? 'block' : 'none';\n",
              "\n",
              "        async function convertToInteractive(key) {\n",
              "          const element = document.querySelector('#df-7f018bc4-edd4-4ed3-b102-e514d61d7d58');\n",
              "          const dataTable =\n",
              "            await google.colab.kernel.invokeFunction('convertToInteractive',\n",
              "                                                     [key], {});\n",
              "          if (!dataTable) return;\n",
              "\n",
              "          const docLinkHtml = 'Like what you see? Visit the ' +\n",
              "            '<a target=\"_blank\" href=https://colab.research.google.com/notebooks/data_table.ipynb>data table notebook</a>'\n",
              "            + ' to learn more about interactive tables.';\n",
              "          element.innerHTML = '';\n",
              "          dataTable['output_type'] = 'display_data';\n",
              "          await google.colab.output.renderOutput(dataTable, element);\n",
              "          const docLink = document.createElement('div');\n",
              "          docLink.innerHTML = docLinkHtml;\n",
              "          element.appendChild(docLink);\n",
              "        }\n",
              "      </script>\n",
              "    </div>\n",
              "  </div>\n",
              "  "
            ]
          },
          "metadata": {},
          "execution_count": 127
        }
      ]
    },
    {
      "cell_type": "markdown",
      "source": [
        "This table displays a sample of the first five rows of the Arrests and Strip Searches dataset."
      ],
      "metadata": {
        "id": "1DFE5ASXr81E"
      }
    },
    {
      "cell_type": "code",
      "execution_count": 128,
      "metadata": {
        "colab": {
          "base_uri": "https://localhost:8080/"
        },
        "id": "HErZcMT8GXYS",
        "outputId": "7ec14712-50cf-4d25-cad8-8cff6b6bf770"
      },
      "outputs": [
        {
          "output_type": "stream",
          "name": "stdout",
          "text": [
            "Arrest_Year\t\t\t\t0\n",
            "Arrest_Month\t\t\t\t0\n",
            "EventID\t\t\t\t0\n",
            "ArrestID\t\t\t\t469\n",
            "PersonID\t\t\t\t0\n",
            "Perceived_Race\t\t\t\t4\n",
            "Sex\t\t\t\t0\n",
            "Age_group__at_arrest_\t\t\t\t24\n",
            "Youth_at_arrest__under_18_years\t\t\t\t0\n",
            "ArrestLocDiv\t\t\t\t0\n",
            "StripSearch\t\t\t\t0\n",
            "Booked\t\t\t\t0\n",
            "Occurrence_Category\t\t\t\t165\n",
            "Actions_at_arrest___Concealed_i\t\t\t\t0\n",
            "Actions_at_arrest___Combative__\t\t\t\t0\n",
            "Actions_at_arrest___Resisted__d\t\t\t\t0\n",
            "Actions_at_arrest___Mental_inst\t\t\t\t0\n",
            "Actions_at_arrest___Assaulted_o\t\t\t\t0\n",
            "Actions_at_arrest___Cooperative\t\t\t\t0\n",
            "SearchReason_CauseInjury\t\t\t\t57475\n",
            "SearchReason_AssistEscape\t\t\t\t57475\n",
            "SearchReason_PossessWeapons\t\t\t\t57475\n",
            "SearchReason_PossessEvidence\t\t\t\t57475\n",
            "ItemsFound\t\t\t\t57475\n",
            "ObjectId\t\t\t\t0\n"
          ]
        }
      ],
      "source": [
        "# we can see the nan values for each attribute\n",
        "ViewingData(df)"
      ]
    },
    {
      "cell_type": "code",
      "execution_count": 129,
      "metadata": {
        "colab": {
          "base_uri": "https://localhost:8080/"
        },
        "id": "_LQhvV3NIlgJ",
        "outputId": "5c386639-2ff3-4c38-e793-baa416f8b279"
      },
      "outputs": [
        {
          "output_type": "stream",
          "name": "stdout",
          "text": [
            "Arrest_Year\t\t\t\t0\n",
            "Arrest_Month\t\t\t\t0\n",
            "EventID\t\t\t\t0\n",
            "ArrestID\t\t\t\t0\n",
            "PersonID\t\t\t\t0\n",
            "Perceived_Race\t\t\t\t0\n",
            "Sex\t\t\t\t0\n",
            "Age_group__at_arrest_\t\t\t\t0\n",
            "Youth_at_arrest__under_18_years\t\t\t\t0\n",
            "ArrestLocDiv\t\t\t\t0\n",
            "StripSearch\t\t\t\t0\n",
            "Booked\t\t\t\t0\n",
            "Occurrence_Category\t\t\t\t0\n",
            "Actions_at_arrest___Concealed_i\t\t\t\t0\n",
            "Actions_at_arrest___Combative__\t\t\t\t0\n",
            "Actions_at_arrest___Resisted__d\t\t\t\t0\n",
            "Actions_at_arrest___Mental_inst\t\t\t\t0\n",
            "Actions_at_arrest___Assaulted_o\t\t\t\t0\n",
            "Actions_at_arrest___Cooperative\t\t\t\t0\n",
            "SearchReason_CauseInjury\t\t\t\t0\n",
            "SearchReason_AssistEscape\t\t\t\t0\n",
            "SearchReason_PossessWeapons\t\t\t\t0\n",
            "SearchReason_PossessEvidence\t\t\t\t0\n",
            "ItemsFound\t\t\t\t0\n",
            "ObjectId\t\t\t\t0\n"
          ]
        }
      ],
      "source": [
        "# remove all the nan values in ['ArrestID', 'Perceived_Race', 'Age_group__at_arrest_', 'Occurrence_Category']\n",
        "# for 'searchreason', we fill nan value with 0 \n",
        "df = df.dropna(subset = ['ArrestID', 'Perceived_Race', 'Age_group__at_arrest_', 'Occurrence_Category'])\n",
        "df = df.fillna(0)\n",
        "ViewingData(df)"
      ]
    },
    {
      "cell_type": "markdown",
      "source": [
        "Data cleaning done."
      ],
      "metadata": {
        "id": "4czeKEdxsAvc"
      }
    },
    {
      "cell_type": "code",
      "execution_count": 130,
      "metadata": {
        "id": "BFVUqZdmQfEu"
      },
      "outputs": [],
      "source": [
        "# As we need the number of arrest for each quarter of the past two years, we need to assign a label to these eight quarters.\n",
        "df[\"Quarter\"] = np.where((df[\"Arrest_Year\"] == 2020) & (df[\"Arrest_Month\"] == \"Jan-Mar\"), 1, \n",
        "                               (np.where((df[\"Arrest_Year\"] == 2020) & (df[\"Arrest_Month\"] == \"Apr-June\"), 2, \n",
        "                                         (np.where((df[\"Arrest_Year\"] == 2020) & (df[\"Arrest_Month\"] == \"July-Sept\"), 3, \n",
        "                                                   (np.where((df[\"Arrest_Year\"] == 2020) & (df[\"Arrest_Month\"] == \"Oct-Dec\"), 4, \n",
        "                                                             (np.where((df[\"Arrest_Year\"] == 2021) & (df[\"Arrest_Month\"] == \"Jan-Mar\"), 5, \n",
        "                                                                       (np.where((df[\"Arrest_Year\"] == 2021) & (df[\"Arrest_Month\"] == \"Apr-June\"), 6, \n",
        "                                                                                 (np.where((df[\"Arrest_Year\"] == 2021) & (df[\"Arrest_Month\"] == \"July-Sept\"), 7, \n",
        "                                                                                           (np.where((df[\"Arrest_Year\"] == 2021) & (df[\"Arrest_Month\"] == \"Oct-Dec\"), 8, 0)))))))))))))))"
      ]
    },
    {
      "cell_type": "code",
      "execution_count": 131,
      "metadata": {
        "colab": {
          "base_uri": "https://localhost:8080/"
        },
        "id": "lkpQBxw1Q-sv",
        "outputId": "0df5814b-d693-44da-9d71-4ba499ddccee"
      },
      "outputs": [
        {
          "output_type": "execute_result",
          "data": {
            "text/plain": [
              "array(['Assault & Other crimes against persons', 'Harassment/Threatening',\n",
              "       'FTA/FTC/Compliance Check/Parollee', 'Assault', 'Robbery/Theft',\n",
              "       'Sexual Related Crime', 'Mischief & Fraud', 'Warrant',\n",
              "       'Police Category - Administrative',\n",
              "       'FTA/FTC, Compliance Check & Parollee', 'Drug Related', 'Weapons',\n",
              "       'Vehicle Related (inc. Impaired)', 'Other Offence',\n",
              "       'Harassment & Threatening', 'Weapons & Homicide',\n",
              "       'Robbery & Theft', 'Break and Enter', 'Mischief', 'Break & Enter',\n",
              "       'Sexual Related Crimes & Crimes Against Children',\n",
              "       'Crimes against Children', 'Police Category - Incident', 'Fraud',\n",
              "       'LLA', 'Mental Health', 'Other Statute', 'Vehicle Related',\n",
              "       'Other Statute & Other Incident Type', 'Impaired', 'Homicide'],\n",
              "      dtype=object)"
            ]
          },
          "metadata": {},
          "execution_count": 131
        }
      ],
      "source": [
        "# check 'Occurrence_Category'\n",
        "df['Occurrence_Category'].unique()"
      ]
    },
    {
      "cell_type": "code",
      "execution_count": 132,
      "metadata": {
        "colab": {
          "base_uri": "https://localhost:8080/"
        },
        "id": "jVGdG3ukRGeS",
        "outputId": "57aac22e-b814-47b7-e7dd-8f6059dff1d6"
      },
      "outputs": [
        {
          "output_type": "execute_result",
          "data": {
            "text/plain": [
              "array(['assault', 'harassment', 'fta', 'robbery', 'sexual and children',\n",
              "       'mischief', 'warrant', 'police', 'drug', 'weapons and homicide',\n",
              "       'vehicle', 'other', 'break', 'LLA', 'impaired'], dtype=object)"
            ]
          },
          "metadata": {},
          "execution_count": 132
        }
      ],
      "source": [
        "# classify the 'Occurrence_Category'\n",
        "display_List = {\n",
        "    \"Assault & Other crimes against persons\": \"assault\",\n",
        "    \"Assault\": \"assault\",\n",
        "    \"Mischief & Fraud\": \"mischief\",\n",
        "    \"Mischief & Fraud\": \"mischief\",\n",
        "    \"Mischief\": \"mischief\",\n",
        "    \"Fraud\": \"mischief\",\n",
        "    \"FTA/FTC/Compliance Check/Parollee\": \"fta\",\n",
        "    \"FTA/FTC, Compliance Check & Parollee\": \"fta\",\n",
        "    \"Robbery/Theft\": \"robbery\",\n",
        "    \"Robbery & Theft\": \"robbery\",\n",
        "    \"Sexual Related Crime\": \"sexual and children\",\n",
        "    \"Sexual Related Crimes & Crimes Against Children\": \"sexual and children\",\n",
        "    \"Crimes against Children\": \"sexual and children\",\n",
        "    \"Warrant\": \"warrant\",\n",
        "    \"Police Category - Administrative\": \"police\",\n",
        "    \"Police Category - Incident\": \"police\",\n",
        "    \"Drug Related\": \"drug\",\n",
        "    \"Weapons\": \"weapons and homicide\",\n",
        "    \"Weapons & Homicide\": \"weapons and homicide\",\n",
        "    \"Homicide\": \"weapons and homicide\",\n",
        "    \"Vehicle Related (inc. Impaired)\": \"vehicle\",\n",
        "    \"Vehicle Related\": \"vehicle\",\n",
        "    \"Harassment & Threatening\": \"harassment\",\n",
        "    \"Harassment/Threatening\": \"harassment\",\n",
        "    \"Break and Enter\": \"break\",\n",
        "    \"Break & Enter\": \"break\",\n",
        "    \"Impaired\": \"impaired\",\n",
        "    \"Mental Health\": \"other\",\n",
        "    \"Other Offence\": \"other\",\n",
        "    \"Other Statute\": \"other\",\n",
        "    \"Other Statute & Other Incident Type\": \"other\"\n",
        "}\n",
        "\n",
        "df['Occurrence_Category'] = df['Occurrence_Category'].replace(display_List)\n",
        "\n",
        "df['Occurrence_Category'].unique()"
      ]
    },
    {
      "cell_type": "markdown",
      "metadata": {
        "id": "RVwr5o97cOkp"
      },
      "source": [
        "# Exploratory Data Analysis"
      ]
    },
    {
      "cell_type": "code",
      "execution_count": 133,
      "metadata": {
        "colab": {
          "base_uri": "https://localhost:8080/",
          "height": 708
        },
        "id": "pxhVBUGoqRfn",
        "outputId": "01709696-125c-45a6-feaa-1e63142b7c63"
      },
      "outputs": [
        {
          "output_type": "execute_result",
          "data": {
            "text/plain": [
              "    Arrest_Year Arrest_Month Sex  ObjectId\n",
              "0          2020     Apr-June   F      1172\n",
              "1          2020     Apr-June   M      5615\n",
              "2          2020     Apr-June   U         1\n",
              "3          2020      Jan-Mar   F      2060\n",
              "4          2020      Jan-Mar   M      7265\n",
              "5          2020    July-Sept   F      1522\n",
              "6          2020    July-Sept   M      6673\n",
              "7          2020    July-Sept   U         1\n",
              "8          2020      Oct-Dec   F      1309\n",
              "9          2020      Oct-Dec   M      5899\n",
              "10         2020      Oct-Dec   U         4\n",
              "11         2021     Apr-June   F      1619\n",
              "12         2021     Apr-June   M      6616\n",
              "13         2021     Apr-June   U         1\n",
              "14         2021      Jan-Mar   F      1572\n",
              "15         2021      Jan-Mar   M      6491\n",
              "16         2021    July-Sept   F      1631\n",
              "17         2021    July-Sept   M      6803\n",
              "18         2021    July-Sept   U         2\n",
              "19         2021      Oct-Dec   F      1615\n",
              "20         2021      Oct-Dec   M      6744"
            ],
            "text/html": [
              "\n",
              "  <div id=\"df-54eca66e-4f9d-40dc-8e0b-37a72bf0ae49\">\n",
              "    <div class=\"colab-df-container\">\n",
              "      <div>\n",
              "<style scoped>\n",
              "    .dataframe tbody tr th:only-of-type {\n",
              "        vertical-align: middle;\n",
              "    }\n",
              "\n",
              "    .dataframe tbody tr th {\n",
              "        vertical-align: top;\n",
              "    }\n",
              "\n",
              "    .dataframe thead th {\n",
              "        text-align: right;\n",
              "    }\n",
              "</style>\n",
              "<table border=\"1\" class=\"dataframe\">\n",
              "  <thead>\n",
              "    <tr style=\"text-align: right;\">\n",
              "      <th></th>\n",
              "      <th>Arrest_Year</th>\n",
              "      <th>Arrest_Month</th>\n",
              "      <th>Sex</th>\n",
              "      <th>ObjectId</th>\n",
              "    </tr>\n",
              "  </thead>\n",
              "  <tbody>\n",
              "    <tr>\n",
              "      <th>0</th>\n",
              "      <td>2020</td>\n",
              "      <td>Apr-June</td>\n",
              "      <td>F</td>\n",
              "      <td>1172</td>\n",
              "    </tr>\n",
              "    <tr>\n",
              "      <th>1</th>\n",
              "      <td>2020</td>\n",
              "      <td>Apr-June</td>\n",
              "      <td>M</td>\n",
              "      <td>5615</td>\n",
              "    </tr>\n",
              "    <tr>\n",
              "      <th>2</th>\n",
              "      <td>2020</td>\n",
              "      <td>Apr-June</td>\n",
              "      <td>U</td>\n",
              "      <td>1</td>\n",
              "    </tr>\n",
              "    <tr>\n",
              "      <th>3</th>\n",
              "      <td>2020</td>\n",
              "      <td>Jan-Mar</td>\n",
              "      <td>F</td>\n",
              "      <td>2060</td>\n",
              "    </tr>\n",
              "    <tr>\n",
              "      <th>4</th>\n",
              "      <td>2020</td>\n",
              "      <td>Jan-Mar</td>\n",
              "      <td>M</td>\n",
              "      <td>7265</td>\n",
              "    </tr>\n",
              "    <tr>\n",
              "      <th>5</th>\n",
              "      <td>2020</td>\n",
              "      <td>July-Sept</td>\n",
              "      <td>F</td>\n",
              "      <td>1522</td>\n",
              "    </tr>\n",
              "    <tr>\n",
              "      <th>6</th>\n",
              "      <td>2020</td>\n",
              "      <td>July-Sept</td>\n",
              "      <td>M</td>\n",
              "      <td>6673</td>\n",
              "    </tr>\n",
              "    <tr>\n",
              "      <th>7</th>\n",
              "      <td>2020</td>\n",
              "      <td>July-Sept</td>\n",
              "      <td>U</td>\n",
              "      <td>1</td>\n",
              "    </tr>\n",
              "    <tr>\n",
              "      <th>8</th>\n",
              "      <td>2020</td>\n",
              "      <td>Oct-Dec</td>\n",
              "      <td>F</td>\n",
              "      <td>1309</td>\n",
              "    </tr>\n",
              "    <tr>\n",
              "      <th>9</th>\n",
              "      <td>2020</td>\n",
              "      <td>Oct-Dec</td>\n",
              "      <td>M</td>\n",
              "      <td>5899</td>\n",
              "    </tr>\n",
              "    <tr>\n",
              "      <th>10</th>\n",
              "      <td>2020</td>\n",
              "      <td>Oct-Dec</td>\n",
              "      <td>U</td>\n",
              "      <td>4</td>\n",
              "    </tr>\n",
              "    <tr>\n",
              "      <th>11</th>\n",
              "      <td>2021</td>\n",
              "      <td>Apr-June</td>\n",
              "      <td>F</td>\n",
              "      <td>1619</td>\n",
              "    </tr>\n",
              "    <tr>\n",
              "      <th>12</th>\n",
              "      <td>2021</td>\n",
              "      <td>Apr-June</td>\n",
              "      <td>M</td>\n",
              "      <td>6616</td>\n",
              "    </tr>\n",
              "    <tr>\n",
              "      <th>13</th>\n",
              "      <td>2021</td>\n",
              "      <td>Apr-June</td>\n",
              "      <td>U</td>\n",
              "      <td>1</td>\n",
              "    </tr>\n",
              "    <tr>\n",
              "      <th>14</th>\n",
              "      <td>2021</td>\n",
              "      <td>Jan-Mar</td>\n",
              "      <td>F</td>\n",
              "      <td>1572</td>\n",
              "    </tr>\n",
              "    <tr>\n",
              "      <th>15</th>\n",
              "      <td>2021</td>\n",
              "      <td>Jan-Mar</td>\n",
              "      <td>M</td>\n",
              "      <td>6491</td>\n",
              "    </tr>\n",
              "    <tr>\n",
              "      <th>16</th>\n",
              "      <td>2021</td>\n",
              "      <td>July-Sept</td>\n",
              "      <td>F</td>\n",
              "      <td>1631</td>\n",
              "    </tr>\n",
              "    <tr>\n",
              "      <th>17</th>\n",
              "      <td>2021</td>\n",
              "      <td>July-Sept</td>\n",
              "      <td>M</td>\n",
              "      <td>6803</td>\n",
              "    </tr>\n",
              "    <tr>\n",
              "      <th>18</th>\n",
              "      <td>2021</td>\n",
              "      <td>July-Sept</td>\n",
              "      <td>U</td>\n",
              "      <td>2</td>\n",
              "    </tr>\n",
              "    <tr>\n",
              "      <th>19</th>\n",
              "      <td>2021</td>\n",
              "      <td>Oct-Dec</td>\n",
              "      <td>F</td>\n",
              "      <td>1615</td>\n",
              "    </tr>\n",
              "    <tr>\n",
              "      <th>20</th>\n",
              "      <td>2021</td>\n",
              "      <td>Oct-Dec</td>\n",
              "      <td>M</td>\n",
              "      <td>6744</td>\n",
              "    </tr>\n",
              "  </tbody>\n",
              "</table>\n",
              "</div>\n",
              "      <button class=\"colab-df-convert\" onclick=\"convertToInteractive('df-54eca66e-4f9d-40dc-8e0b-37a72bf0ae49')\"\n",
              "              title=\"Convert this dataframe to an interactive table.\"\n",
              "              style=\"display:none;\">\n",
              "        \n",
              "  <svg xmlns=\"http://www.w3.org/2000/svg\" height=\"24px\"viewBox=\"0 0 24 24\"\n",
              "       width=\"24px\">\n",
              "    <path d=\"M0 0h24v24H0V0z\" fill=\"none\"/>\n",
              "    <path d=\"M18.56 5.44l.94 2.06.94-2.06 2.06-.94-2.06-.94-.94-2.06-.94 2.06-2.06.94zm-11 1L8.5 8.5l.94-2.06 2.06-.94-2.06-.94L8.5 2.5l-.94 2.06-2.06.94zm10 10l.94 2.06.94-2.06 2.06-.94-2.06-.94-.94-2.06-.94 2.06-2.06.94z\"/><path d=\"M17.41 7.96l-1.37-1.37c-.4-.4-.92-.59-1.43-.59-.52 0-1.04.2-1.43.59L10.3 9.45l-7.72 7.72c-.78.78-.78 2.05 0 2.83L4 21.41c.39.39.9.59 1.41.59.51 0 1.02-.2 1.41-.59l7.78-7.78 2.81-2.81c.8-.78.8-2.07 0-2.86zM5.41 20L4 18.59l7.72-7.72 1.47 1.35L5.41 20z\"/>\n",
              "  </svg>\n",
              "      </button>\n",
              "      \n",
              "  <style>\n",
              "    .colab-df-container {\n",
              "      display:flex;\n",
              "      flex-wrap:wrap;\n",
              "      gap: 12px;\n",
              "    }\n",
              "\n",
              "    .colab-df-convert {\n",
              "      background-color: #E8F0FE;\n",
              "      border: none;\n",
              "      border-radius: 50%;\n",
              "      cursor: pointer;\n",
              "      display: none;\n",
              "      fill: #1967D2;\n",
              "      height: 32px;\n",
              "      padding: 0 0 0 0;\n",
              "      width: 32px;\n",
              "    }\n",
              "\n",
              "    .colab-df-convert:hover {\n",
              "      background-color: #E2EBFA;\n",
              "      box-shadow: 0px 1px 2px rgba(60, 64, 67, 0.3), 0px 1px 3px 1px rgba(60, 64, 67, 0.15);\n",
              "      fill: #174EA6;\n",
              "    }\n",
              "\n",
              "    [theme=dark] .colab-df-convert {\n",
              "      background-color: #3B4455;\n",
              "      fill: #D2E3FC;\n",
              "    }\n",
              "\n",
              "    [theme=dark] .colab-df-convert:hover {\n",
              "      background-color: #434B5C;\n",
              "      box-shadow: 0px 1px 3px 1px rgba(0, 0, 0, 0.15);\n",
              "      filter: drop-shadow(0px 1px 2px rgba(0, 0, 0, 0.3));\n",
              "      fill: #FFFFFF;\n",
              "    }\n",
              "  </style>\n",
              "\n",
              "      <script>\n",
              "        const buttonEl =\n",
              "          document.querySelector('#df-54eca66e-4f9d-40dc-8e0b-37a72bf0ae49 button.colab-df-convert');\n",
              "        buttonEl.style.display =\n",
              "          google.colab.kernel.accessAllowed ? 'block' : 'none';\n",
              "\n",
              "        async function convertToInteractive(key) {\n",
              "          const element = document.querySelector('#df-54eca66e-4f9d-40dc-8e0b-37a72bf0ae49');\n",
              "          const dataTable =\n",
              "            await google.colab.kernel.invokeFunction('convertToInteractive',\n",
              "                                                     [key], {});\n",
              "          if (!dataTable) return;\n",
              "\n",
              "          const docLinkHtml = 'Like what you see? Visit the ' +\n",
              "            '<a target=\"_blank\" href=https://colab.research.google.com/notebooks/data_table.ipynb>data table notebook</a>'\n",
              "            + ' to learn more about interactive tables.';\n",
              "          element.innerHTML = '';\n",
              "          dataTable['output_type'] = 'display_data';\n",
              "          await google.colab.output.renderOutput(dataTable, element);\n",
              "          const docLink = document.createElement('div');\n",
              "          docLink.innerHTML = docLinkHtml;\n",
              "          element.appendChild(docLink);\n",
              "        }\n",
              "      </script>\n",
              "    </div>\n",
              "  </div>\n",
              "  "
            ]
          },
          "metadata": {},
          "execution_count": 133
        }
      ],
      "source": [
        "# select columns and group data\n",
        "sub = df[['Arrest_Year','Arrest_Month','Sex', 'StripSearch','ObjectId']]\n",
        "sexsub = sub.groupby(['Arrest_Year','Arrest_Month','Sex']).agg({'ObjectId': 'count'})\n",
        "sexsub = sexsub.reset_index()\n",
        "sexsub"
      ]
    },
    {
      "cell_type": "code",
      "source": [
        "# Group the data by sex and sum the arrest counts\n",
        "arrests_by_sex = sexsub.groupby(['Sex']).sum()['ObjectId']\n",
        "\n",
        "# Calculate the total number of arrests\n",
        "total_arrests = arrests_by_sex.sum()\n",
        "\n",
        "# Calculate the percentage of arrests for each sex\n",
        "percent_arrests_by_sex = 100 * arrests_by_sex / total_arrests\n",
        "\n",
        "# Create a bar chart\n",
        "fig, ax = plt.subplots()\n",
        "ax.bar(arrests_by_sex.index, arrests_by_sex.values, color=['pink', 'skyblue', 'gray'])\n",
        "# Set the axis labels and title\n",
        "ax.set_xlabel('Sex')\n",
        "ax.set_ylabel('Number of Arrests')\n",
        "ax.set_title('Number of Arrests by Sex')\n",
        "# Show the percentages on the bars\n",
        "for i, v in enumerate(arrests_by_sex.values):\n",
        "    ax.text(i, v+1, str(round(percent_arrests_by_sex[i], 2)) + '%', ha='center')\n",
        "plt.show()"
      ],
      "metadata": {
        "colab": {
          "base_uri": "https://localhost:8080/",
          "height": 295
        },
        "id": "ruC5LdUV3OV5",
        "outputId": "0ad19b66-e112-4b92-d135-9b2149754309"
      },
      "execution_count": 134,
      "outputs": [
        {
          "output_type": "display_data",
          "data": {
            "text/plain": [
              "<Figure size 432x288 with 1 Axes>"
            ],
            "image/png": "[encoded data removed]"
          },
          "metadata": {
            "needs_background": "light"
          }
        }
      ]
    },
    {
      "cell_type": "markdown",
      "source": [
        "As shown, 80.64% of the arrested individuals were male, 19.35% were female, and the unknown sex group accounted for only 0.01%."
      ],
      "metadata": {
        "id": "ASdSlFO_If0G"
      }
    },
    {
      "cell_type": "code",
      "execution_count": 135,
      "metadata": {
        "colab": {
          "base_uri": "https://localhost:8080/"
        },
        "id": "Ve934JPdxbgt",
        "outputId": "8b972786-ab7c-4bc2-eae1-38095fbc55c8"
      },
      "outputs": [
        {
          "output_type": "stream",
          "name": "stdout",
          "text": [
            "Unkown 9\n",
            "Female 12500\n",
            "Male 52106\n"
          ]
        }
      ],
      "source": [
        "# count arrests by sex\n",
        "ucount = df['Sex'].value_counts()['U']\n",
        "print('Unkown', ucount)\n",
        "fcount = df['Sex'].value_counts()['F']\n",
        "print('Female', fcount)\n",
        "mcount = df['Sex'].value_counts()['M']\n",
        "print('Male', mcount)"
      ]
    },
    {
      "cell_type": "code",
      "execution_count": 136,
      "metadata": {
        "colab": {
          "base_uri": "https://localhost:8080/"
        },
        "id": "CmSsdsRV7IVd",
        "outputId": "9f0ab249-917c-4693-909e-b2cfb760a2d1"
      },
      "outputs": [
        {
          "output_type": "stream",
          "name": "stdout",
          "text": [
            "8\n",
            "8\n",
            "5\n"
          ]
        }
      ],
      "source": [
        "import scipy.stats as stats\n",
        "# Create separate subsets of different sex\n",
        "M = sexsub[sexsub['Sex'] == 'M'][['ObjectId']]\n",
        "F = sexsub[sexsub['Sex'] == 'F'][['ObjectId']]\n",
        "U = sexsub[sexsub['Sex'] == 'U'][['ObjectId']]\n",
        "print(M.shape[0])\n",
        "print(F.shape[0])\n",
        "print(U.shape[0])"
      ]
    },
    {
      "cell_type": "code",
      "execution_count": 137,
      "metadata": {
        "colab": {
          "base_uri": "https://localhost:8080/",
          "height": 551
        },
        "id": "TeScuLNuurJv",
        "outputId": "1d1bac4b-cf17-429a-a850-1b1c4013e584"
      },
      "outputs": [
        {
          "output_type": "execute_result",
          "data": {
            "text/plain": [
              "    Arrest_Year Arrest_Month  StripSearch  ObjectId\n",
              "0          2020     Apr-June            0      5115\n",
              "1          2020     Apr-June            1      1673\n",
              "2          2020      Jan-Mar            0      6802\n",
              "3          2020      Jan-Mar            1      2523\n",
              "4          2020    July-Sept            0      6064\n",
              "5          2020    July-Sept            1      2132\n",
              "6          2020      Oct-Dec            0      6871\n",
              "7          2020      Oct-Dec            1       341\n",
              "8          2021     Apr-June            0      8082\n",
              "9          2021     Apr-June            1       154\n",
              "10         2021      Jan-Mar            0      7810\n",
              "11         2021      Jan-Mar            1       253\n",
              "12         2021    July-Sept            0      8301\n",
              "13         2021    July-Sept            1       135\n",
              "14         2021      Oct-Dec            0      8239\n",
              "15         2021      Oct-Dec            1       120"
            ],
            "text/html": [
              "\n",
              "  <div id=\"df-2fe427e3-a151-4793-9b73-641dd5819671\">\n",
              "    <div class=\"colab-df-container\">\n",
              "      <div>\n",
              "<style scoped>\n",
              "    .dataframe tbody tr th:only-of-type {\n",
              "        vertical-align: middle;\n",
              "    }\n",
              "\n",
              "    .dataframe tbody tr th {\n",
              "        vertical-align: top;\n",
              "    }\n",
              "\n",
              "    .dataframe thead th {\n",
              "        text-align: right;\n",
              "    }\n",
              "</style>\n",
              "<table border=\"1\" class=\"dataframe\">\n",
              "  <thead>\n",
              "    <tr style=\"text-align: right;\">\n",
              "      <th></th>\n",
              "      <th>Arrest_Year</th>\n",
              "      <th>Arrest_Month</th>\n",
              "      <th>StripSearch</th>\n",
              "      <th>ObjectId</th>\n",
              "    </tr>\n",
              "  </thead>\n",
              "  <tbody>\n",
              "    <tr>\n",
              "      <th>0</th>\n",
              "      <td>2020</td>\n",
              "      <td>Apr-June</td>\n",
              "      <td>0</td>\n",
              "      <td>5115</td>\n",
              "    </tr>\n",
              "    <tr>\n",
              "      <th>1</th>\n",
              "      <td>2020</td>\n",
              "      <td>Apr-June</td>\n",
              "      <td>1</td>\n",
              "      <td>1673</td>\n",
              "    </tr>\n",
              "    <tr>\n",
              "      <th>2</th>\n",
              "      <td>2020</td>\n",
              "      <td>Jan-Mar</td>\n",
              "      <td>0</td>\n",
              "      <td>6802</td>\n",
              "    </tr>\n",
              "    <tr>\n",
              "      <th>3</th>\n",
              "      <td>2020</td>\n",
              "      <td>Jan-Mar</td>\n",
              "      <td>1</td>\n",
              "      <td>2523</td>\n",
              "    </tr>\n",
              "    <tr>\n",
              "      <th>4</th>\n",
              "      <td>2020</td>\n",
              "      <td>July-Sept</td>\n",
              "      <td>0</td>\n",
              "      <td>6064</td>\n",
              "    </tr>\n",
              "    <tr>\n",
              "      <th>5</th>\n",
              "      <td>2020</td>\n",
              "      <td>July-Sept</td>\n",
              "      <td>1</td>\n",
              "      <td>2132</td>\n",
              "    </tr>\n",
              "    <tr>\n",
              "      <th>6</th>\n",
              "      <td>2020</td>\n",
              "      <td>Oct-Dec</td>\n",
              "      <td>0</td>\n",
              "      <td>6871</td>\n",
              "    </tr>\n",
              "    <tr>\n",
              "      <th>7</th>\n",
              "      <td>2020</td>\n",
              "      <td>Oct-Dec</td>\n",
              "      <td>1</td>\n",
              "      <td>341</td>\n",
              "    </tr>\n",
              "    <tr>\n",
              "      <th>8</th>\n",
              "      <td>2021</td>\n",
              "      <td>Apr-June</td>\n",
              "      <td>0</td>\n",
              "      <td>8082</td>\n",
              "    </tr>\n",
              "    <tr>\n",
              "      <th>9</th>\n",
              "      <td>2021</td>\n",
              "      <td>Apr-June</td>\n",
              "      <td>1</td>\n",
              "      <td>154</td>\n",
              "    </tr>\n",
              "    <tr>\n",
              "      <th>10</th>\n",
              "      <td>2021</td>\n",
              "      <td>Jan-Mar</td>\n",
              "      <td>0</td>\n",
              "      <td>7810</td>\n",
              "    </tr>\n",
              "    <tr>\n",
              "      <th>11</th>\n",
              "      <td>2021</td>\n",
              "      <td>Jan-Mar</td>\n",
              "      <td>1</td>\n",
              "      <td>253</td>\n",
              "    </tr>\n",
              "    <tr>\n",
              "      <th>12</th>\n",
              "      <td>2021</td>\n",
              "      <td>July-Sept</td>\n",
              "      <td>0</td>\n",
              "      <td>8301</td>\n",
              "    </tr>\n",
              "    <tr>\n",
              "      <th>13</th>\n",
              "      <td>2021</td>\n",
              "      <td>July-Sept</td>\n",
              "      <td>1</td>\n",
              "      <td>135</td>\n",
              "    </tr>\n",
              "    <tr>\n",
              "      <th>14</th>\n",
              "      <td>2021</td>\n",
              "      <td>Oct-Dec</td>\n",
              "      <td>0</td>\n",
              "      <td>8239</td>\n",
              "    </tr>\n",
              "    <tr>\n",
              "      <th>15</th>\n",
              "      <td>2021</td>\n",
              "      <td>Oct-Dec</td>\n",
              "      <td>1</td>\n",
              "      <td>120</td>\n",
              "    </tr>\n",
              "  </tbody>\n",
              "</table>\n",
              "</div>\n",
              "      <button class=\"colab-df-convert\" onclick=\"convertToInteractive('df-2fe427e3-a151-4793-9b73-641dd5819671')\"\n",
              "              title=\"Convert this dataframe to an interactive table.\"\n",
              "              style=\"display:none;\">\n",
              "        \n",
              "  <svg xmlns=\"http://www.w3.org/2000/svg\" height=\"24px\"viewBox=\"0 0 24 24\"\n",
              "       width=\"24px\">\n",
              "    <path d=\"M0 0h24v24H0V0z\" fill=\"none\"/>\n",
              "    <path d=\"M18.56 5.44l.94 2.06.94-2.06 2.06-.94-2.06-.94-.94-2.06-.94 2.06-2.06.94zm-11 1L8.5 8.5l.94-2.06 2.06-.94-2.06-.94L8.5 2.5l-.94 2.06-2.06.94zm10 10l.94 2.06.94-2.06 2.06-.94-2.06-.94-.94-2.06-.94 2.06-2.06.94z\"/><path d=\"M17.41 7.96l-1.37-1.37c-.4-.4-.92-.59-1.43-.59-.52 0-1.04.2-1.43.59L10.3 9.45l-7.72 7.72c-.78.78-.78 2.05 0 2.83L4 21.41c.39.39.9.59 1.41.59.51 0 1.02-.2 1.41-.59l7.78-7.78 2.81-2.81c.8-.78.8-2.07 0-2.86zM5.41 20L4 18.59l7.72-7.72 1.47 1.35L5.41 20z\"/>\n",
              "  </svg>\n",
              "      </button>\n",
              "      \n",
              "  <style>\n",
              "    .colab-df-container {\n",
              "      display:flex;\n",
              "      flex-wrap:wrap;\n",
              "      gap: 12px;\n",
              "    }\n",
              "\n",
              "    .colab-df-convert {\n",
              "      background-color: #E8F0FE;\n",
              "      border: none;\n",
              "      border-radius: 50%;\n",
              "      cursor: pointer;\n",
              "      display: none;\n",
              "      fill: #1967D2;\n",
              "      height: 32px;\n",
              "      padding: 0 0 0 0;\n",
              "      width: 32px;\n",
              "    }\n",
              "\n",
              "    .colab-df-convert:hover {\n",
              "      background-color: #E2EBFA;\n",
              "      box-shadow: 0px 1px 2px rgba(60, 64, 67, 0.3), 0px 1px 3px 1px rgba(60, 64, 67, 0.15);\n",
              "      fill: #174EA6;\n",
              "    }\n",
              "\n",
              "    [theme=dark] .colab-df-convert {\n",
              "      background-color: #3B4455;\n",
              "      fill: #D2E3FC;\n",
              "    }\n",
              "\n",
              "    [theme=dark] .colab-df-convert:hover {\n",
              "      background-color: #434B5C;\n",
              "      box-shadow: 0px 1px 3px 1px rgba(0, 0, 0, 0.15);\n",
              "      filter: drop-shadow(0px 1px 2px rgba(0, 0, 0, 0.3));\n",
              "      fill: #FFFFFF;\n",
              "    }\n",
              "  </style>\n",
              "\n",
              "      <script>\n",
              "        const buttonEl =\n",
              "          document.querySelector('#df-2fe427e3-a151-4793-9b73-641dd5819671 button.colab-df-convert');\n",
              "        buttonEl.style.display =\n",
              "          google.colab.kernel.accessAllowed ? 'block' : 'none';\n",
              "\n",
              "        async function convertToInteractive(key) {\n",
              "          const element = document.querySelector('#df-2fe427e3-a151-4793-9b73-641dd5819671');\n",
              "          const dataTable =\n",
              "            await google.colab.kernel.invokeFunction('convertToInteractive',\n",
              "                                                     [key], {});\n",
              "          if (!dataTable) return;\n",
              "\n",
              "          const docLinkHtml = 'Like what you see? Visit the ' +\n",
              "            '<a target=\"_blank\" href=https://colab.research.google.com/notebooks/data_table.ipynb>data table notebook</a>'\n",
              "            + ' to learn more about interactive tables.';\n",
              "          element.innerHTML = '';\n",
              "          dataTable['output_type'] = 'display_data';\n",
              "          await google.colab.output.renderOutput(dataTable, element);\n",
              "          const docLink = document.createElement('div');\n",
              "          docLink.innerHTML = docLinkHtml;\n",
              "          element.appendChild(docLink);\n",
              "        }\n",
              "      </script>\n",
              "    </div>\n",
              "  </div>\n",
              "  "
            ]
          },
          "metadata": {},
          "execution_count": 137
        }
      ],
      "source": [
        "# new DataFrame called sssub that groups arrest year & month, strip search, and objectid\n",
        "sssub = sub.groupby(['Arrest_Year','Arrest_Month','StripSearch']).agg({'ObjectId': 'count'}).reset_index()\n",
        "sssub"
      ]
    },
    {
      "cell_type": "code",
      "source": [
        "# Group the data by strip search status\n",
        "substrip = df.groupby(['StripSearch']).agg({'ObjectId': 'count'})\n",
        "\n",
        "# Calculate the percentage of arrests for each strip search status\n",
        "substrip['Percentage'] = substrip['ObjectId'] / substrip['ObjectId'].sum() * 100\n",
        "\n",
        "# Create a bar chart\n",
        "fig, ax = plt.subplots()\n",
        "ax.bar(substrip.index, substrip['ObjectId'], color=['palegreen', 'orange'])\n",
        "ax.set_xticks([0, 1])\n",
        "ax.set_xticklabels(['No', 'Yes'])\n",
        "# Set the axis labels and title\n",
        "ax.set_xlabel('Strip Search')\n",
        "ax.set_ylabel('Number of Arrests')\n",
        "ax.set_title('Number of Arrests by Strip Search Status (Yes or No)')\n",
        "\n",
        "# Add percentage labels to the chart\n",
        "for i, v in enumerate(substrip['Percentage']):\n",
        "    ax.text(i, substrip.iloc[i]['ObjectId'] + 200, f'{v:.1f}%', ha='center')\n",
        "\n",
        "# Show the plot\n",
        "plt.show()"
      ],
      "metadata": {
        "colab": {
          "base_uri": "https://localhost:8080/",
          "height": 295
        },
        "id": "x0adskCJ0PqX",
        "outputId": "cca5709e-d4ed-4044-f0fb-8f3c2b023b85"
      },
      "execution_count": 138,
      "outputs": [
        {
          "output_type": "display_data",
          "data": {
            "text/plain": [
              "<Figure size 432x288 with 1 Axes>"
            ],
            "image/png": "[encoded data removed]"
          },
          "metadata": {
            "needs_background": "light"
          }
        }
      ]
    },
    {
      "cell_type": "markdown",
      "source": [
        "As we can see from the bar chart above, 11.3% of the arrested individuals were subjected to the strip search. Based on the dataset, we found that 1,208 females and 6,123 males were subjected to a strip search after being arrested, while no people from unknown sex group were subjected to a strip search."
      ],
      "metadata": {
        "id": "Kftx53PvIZfB"
      }
    },
    {
      "cell_type": "code",
      "source": [
        "# Number of female were subjected to the strip search\n",
        "female_stripsearch = df.loc[df['Sex'] == 'F'].groupby(['StripSearch']).count()['ObjectId']\n",
        "print(female_stripsearch)"
      ],
      "metadata": {
        "colab": {
          "base_uri": "https://localhost:8080/"
        },
        "id": "hvCtv9mGvUlB",
        "outputId": "9c70d78d-d808-4421-9153-83135d0ab9c6"
      },
      "execution_count": 139,
      "outputs": [
        {
          "output_type": "stream",
          "name": "stdout",
          "text": [
            "StripSearch\n",
            "0    11292\n",
            "1     1208\n",
            "Name: ObjectId, dtype: int64\n"
          ]
        }
      ]
    },
    {
      "cell_type": "code",
      "source": [
        "# Number of male were subjected to the strip search\n",
        "male_stripsearch = df.loc[df['Sex'] == 'M'].groupby(['StripSearch']).count()['ObjectId']\n",
        "print(male_stripsearch)"
      ],
      "metadata": {
        "colab": {
          "base_uri": "https://localhost:8080/"
        },
        "id": "d7nPinm7vaS9",
        "outputId": "8d5cd09a-7a4c-4237-f5a0-f98aae45fe67"
      },
      "execution_count": 140,
      "outputs": [
        {
          "output_type": "stream",
          "name": "stdout",
          "text": [
            "StripSearch\n",
            "0    45983\n",
            "1     6123\n",
            "Name: ObjectId, dtype: int64\n"
          ]
        }
      ]
    },
    {
      "cell_type": "code",
      "source": [
        "# Number of unknown sex group were subjected to the strip search\n",
        "unknown_stripsearch = df.loc[df['Sex'] == 'U'].groupby(['StripSearch']).count()['ObjectId']\n",
        "print(unknown_stripsearch)"
      ],
      "metadata": {
        "colab": {
          "base_uri": "https://localhost:8080/"
        },
        "id": "beucMEiUy5FT",
        "outputId": "a26c07a3-5f59-4620-f48d-4b61f889ffc8"
      },
      "execution_count": 141,
      "outputs": [
        {
          "output_type": "stream",
          "name": "stdout",
          "text": [
            "StripSearch\n",
            "0    9\n",
            "Name: ObjectId, dtype: int64\n"
          ]
        }
      ]
    },
    {
      "cell_type": "code",
      "source": [
        "# Filter the dataframe to include only rows with male, female, or unknown sex\n",
        "subsex = df[(df['Sex'] == 'M') | (df['Sex'] == 'F') | (df['Sex'] == 'U')]\n",
        "\n",
        "# Group the data by sex and strip search status\n",
        "substrip = subsex.groupby(['Sex', 'StripSearch']).agg({'ObjectId': 'count'})\n",
        "\n",
        "# Reshape the data to create a stacked bar chart\n",
        "substrip = substrip.unstack('StripSearch')\n",
        "\n",
        "# Create a stacked bar chart with 2 colors\n",
        "colors = ['palegreen', 'orange']\n",
        "substrip.plot(kind='bar', stacked=True, color=colors)\n",
        "\n",
        "# Set the axis labels and title\n",
        "plt.xlabel('Sex')\n",
        "plt.ylabel('Number of Arrests')\n",
        "plt.title('Number of Arrests by Sex and Strip Search Status')\n",
        "\n",
        "# Set the legend labels\n",
        "leg_labels = ['No', 'Yes']\n",
        "plt.legend(leg_labels, loc='upper right')\n",
        "\n",
        "# Set the y-axis label orientation to horizontal\n",
        "plt.xticks(rotation=0)\n",
        "\n",
        "# Show the plot\n",
        "plt.show()"
      ],
      "metadata": {
        "colab": {
          "base_uri": "https://localhost:8080/",
          "height": 295
        },
        "id": "t8nIdIjnw_b6",
        "outputId": "50118582-b816-434c-c983-8ee2898a6d5c"
      },
      "execution_count": 142,
      "outputs": [
        {
          "output_type": "display_data",
          "data": {
            "text/plain": [
              "<Figure size 432x288 with 1 Axes>"
            ],
            "image/png": "[encoded data removed]"
          },
          "metadata": {
            "needs_background": "light"
          }
        }
      ]
    },
    {
      "cell_type": "markdown",
      "source": [
        "The chart provides an overview of the number of arrests based on the sex and strip search status "
      ],
      "metadata": {
        "id": "pi6OG0rGrxLM"
      }
    },
    {
      "cell_type": "code",
      "execution_count": 143,
      "metadata": {
        "colab": {
          "base_uri": "https://localhost:8080/",
          "height": 522
        },
        "id": "DIMfisUVE7CR",
        "outputId": "6d15ed72-945b-4300-e610-70f18a37ed51"
      },
      "outputs": [
        {
          "output_type": "execute_result",
          "data": {
            "text/plain": [
              "       Arrest_Year Arrest_Month  ObjectId     Perceived_Race  StripSearch  \\\n",
              "0             2020    July-Sept         1              White            0   \n",
              "1             2020    July-Sept         2              White            0   \n",
              "2             2020      Oct-Dec         3  Unknown or Legacy            0   \n",
              "3             2021      Jan-Mar         4              Black            0   \n",
              "4             2021      Jan-Mar         5        South Asian            0   \n",
              "...            ...          ...       ...                ...          ...   \n",
              "65271         2021      Oct-Dec     65272         Indigenous            0   \n",
              "65272         2021      Oct-Dec     65273        South Asian            0   \n",
              "65273         2021      Oct-Dec     65274              White            0   \n",
              "65274         2021      Oct-Dec     65275  Unknown or Legacy            0   \n",
              "65275         2021      Oct-Dec     65276             Latino            0   \n",
              "\n",
              "       Actions_at_arrest___Combative__  Actions_at_arrest___Cooperative  \n",
              "0                                    0                                1  \n",
              "1                                    0                                0  \n",
              "2                                    0                                0  \n",
              "3                                    0                                0  \n",
              "4                                    0                                0  \n",
              "...                                ...                              ...  \n",
              "65271                                0                                0  \n",
              "65272                                0                                0  \n",
              "65273                                0                                0  \n",
              "65274                                0                                1  \n",
              "65275                                0                                1  \n",
              "\n",
              "[64615 rows x 7 columns]"
            ],
            "text/html": [
              "\n",
              "  <div id=\"df-89182d37-5c86-4389-be78-c20317ad995f\">\n",
              "    <div class=\"colab-df-container\">\n",
              "      <div>\n",
              "<style scoped>\n",
              "    .dataframe tbody tr th:only-of-type {\n",
              "        vertical-align: middle;\n",
              "    }\n",
              "\n",
              "    .dataframe tbody tr th {\n",
              "        vertical-align: top;\n",
              "    }\n",
              "\n",
              "    .dataframe thead th {\n",
              "        text-align: right;\n",
              "    }\n",
              "</style>\n",
              "<table border=\"1\" class=\"dataframe\">\n",
              "  <thead>\n",
              "    <tr style=\"text-align: right;\">\n",
              "      <th></th>\n",
              "      <th>Arrest_Year</th>\n",
              "      <th>Arrest_Month</th>\n",
              "      <th>ObjectId</th>\n",
              "      <th>Perceived_Race</th>\n",
              "      <th>StripSearch</th>\n",
              "      <th>Actions_at_arrest___Combative__</th>\n",
              "      <th>Actions_at_arrest___Cooperative</th>\n",
              "    </tr>\n",
              "  </thead>\n",
              "  <tbody>\n",
              "    <tr>\n",
              "      <th>0</th>\n",
              "      <td>2020</td>\n",
              "      <td>July-Sept</td>\n",
              "      <td>1</td>\n",
              "      <td>White</td>\n",
              "      <td>0</td>\n",
              "      <td>0</td>\n",
              "      <td>1</td>\n",
              "    </tr>\n",
              "    <tr>\n",
              "      <th>1</th>\n",
              "      <td>2020</td>\n",
              "      <td>July-Sept</td>\n",
              "      <td>2</td>\n",
              "      <td>White</td>\n",
              "      <td>0</td>\n",
              "      <td>0</td>\n",
              "      <td>0</td>\n",
              "    </tr>\n",
              "    <tr>\n",
              "      <th>2</th>\n",
              "      <td>2020</td>\n",
              "      <td>Oct-Dec</td>\n",
              "      <td>3</td>\n",
              "      <td>Unknown or Legacy</td>\n",
              "      <td>0</td>\n",
              "      <td>0</td>\n",
              "      <td>0</td>\n",
              "    </tr>\n",
              "    <tr>\n",
              "      <th>3</th>\n",
              "      <td>2021</td>\n",
              "      <td>Jan-Mar</td>\n",
              "      <td>4</td>\n",
              "      <td>Black</td>\n",
              "      <td>0</td>\n",
              "      <td>0</td>\n",
              "      <td>0</td>\n",
              "    </tr>\n",
              "    <tr>\n",
              "      <th>4</th>\n",
              "      <td>2021</td>\n",
              "      <td>Jan-Mar</td>\n",
              "      <td>5</td>\n",
              "      <td>South Asian</td>\n",
              "      <td>0</td>\n",
              "      <td>0</td>\n",
              "      <td>0</td>\n",
              "    </tr>\n",
              "    <tr>\n",
              "      <th>...</th>\n",
              "      <td>...</td>\n",
              "      <td>...</td>\n",
              "      <td>...</td>\n",
              "      <td>...</td>\n",
              "      <td>...</td>\n",
              "      <td>...</td>\n",
              "      <td>...</td>\n",
              "    </tr>\n",
              "    <tr>\n",
              "      <th>65271</th>\n",
              "      <td>2021</td>\n",
              "      <td>Oct-Dec</td>\n",
              "      <td>65272</td>\n",
              "      <td>Indigenous</td>\n",
              "      <td>0</td>\n",
              "      <td>0</td>\n",
              "      <td>0</td>\n",
              "    </tr>\n",
              "    <tr>\n",
              "      <th>65272</th>\n",
              "      <td>2021</td>\n",
              "      <td>Oct-Dec</td>\n",
              "      <td>65273</td>\n",
              "      <td>South Asian</td>\n",
              "      <td>0</td>\n",
              "      <td>0</td>\n",
              "      <td>0</td>\n",
              "    </tr>\n",
              "    <tr>\n",
              "      <th>65273</th>\n",
              "      <td>2021</td>\n",
              "      <td>Oct-Dec</td>\n",
              "      <td>65274</td>\n",
              "      <td>White</td>\n",
              "      <td>0</td>\n",
              "      <td>0</td>\n",
              "      <td>0</td>\n",
              "    </tr>\n",
              "    <tr>\n",
              "      <th>65274</th>\n",
              "      <td>2021</td>\n",
              "      <td>Oct-Dec</td>\n",
              "      <td>65275</td>\n",
              "      <td>Unknown or Legacy</td>\n",
              "      <td>0</td>\n",
              "      <td>0</td>\n",
              "      <td>1</td>\n",
              "    </tr>\n",
              "    <tr>\n",
              "      <th>65275</th>\n",
              "      <td>2021</td>\n",
              "      <td>Oct-Dec</td>\n",
              "      <td>65276</td>\n",
              "      <td>Latino</td>\n",
              "      <td>0</td>\n",
              "      <td>0</td>\n",
              "      <td>1</td>\n",
              "    </tr>\n",
              "  </tbody>\n",
              "</table>\n",
              "<p>64615 rows × 7 columns</p>\n",
              "</div>\n",
              "      <button class=\"colab-df-convert\" onclick=\"convertToInteractive('df-89182d37-5c86-4389-be78-c20317ad995f')\"\n",
              "              title=\"Convert this dataframe to an interactive table.\"\n",
              "              style=\"display:none;\">\n",
              "        \n",
              "  <svg xmlns=\"http://www.w3.org/2000/svg\" height=\"24px\"viewBox=\"0 0 24 24\"\n",
              "       width=\"24px\">\n",
              "    <path d=\"M0 0h24v24H0V0z\" fill=\"none\"/>\n",
              "    <path d=\"M18.56 5.44l.94 2.06.94-2.06 2.06-.94-2.06-.94-.94-2.06-.94 2.06-2.06.94zm-11 1L8.5 8.5l.94-2.06 2.06-.94-2.06-.94L8.5 2.5l-.94 2.06-2.06.94zm10 10l.94 2.06.94-2.06 2.06-.94-2.06-.94-.94-2.06-.94 2.06-2.06.94z\"/><path d=\"M17.41 7.96l-1.37-1.37c-.4-.4-.92-.59-1.43-.59-.52 0-1.04.2-1.43.59L10.3 9.45l-7.72 7.72c-.78.78-.78 2.05 0 2.83L4 21.41c.39.39.9.59 1.41.59.51 0 1.02-.2 1.41-.59l7.78-7.78 2.81-2.81c.8-.78.8-2.07 0-2.86zM5.41 20L4 18.59l7.72-7.72 1.47 1.35L5.41 20z\"/>\n",
              "  </svg>\n",
              "      </button>\n",
              "      \n",
              "  <style>\n",
              "    .colab-df-container {\n",
              "      display:flex;\n",
              "      flex-wrap:wrap;\n",
              "      gap: 12px;\n",
              "    }\n",
              "\n",
              "    .colab-df-convert {\n",
              "      background-color: #E8F0FE;\n",
              "      border: none;\n",
              "      border-radius: 50%;\n",
              "      cursor: pointer;\n",
              "      display: none;\n",
              "      fill: #1967D2;\n",
              "      height: 32px;\n",
              "      padding: 0 0 0 0;\n",
              "      width: 32px;\n",
              "    }\n",
              "\n",
              "    .colab-df-convert:hover {\n",
              "      background-color: #E2EBFA;\n",
              "      box-shadow: 0px 1px 2px rgba(60, 64, 67, 0.3), 0px 1px 3px 1px rgba(60, 64, 67, 0.15);\n",
              "      fill: #174EA6;\n",
              "    }\n",
              "\n",
              "    [theme=dark] .colab-df-convert {\n",
              "      background-color: #3B4455;\n",
              "      fill: #D2E3FC;\n",
              "    }\n",
              "\n",
              "    [theme=dark] .colab-df-convert:hover {\n",
              "      background-color: #434B5C;\n",
              "      box-shadow: 0px 1px 3px 1px rgba(0, 0, 0, 0.15);\n",
              "      filter: drop-shadow(0px 1px 2px rgba(0, 0, 0, 0.3));\n",
              "      fill: #FFFFFF;\n",
              "    }\n",
              "  </style>\n",
              "\n",
              "      <script>\n",
              "        const buttonEl =\n",
              "          document.querySelector('#df-89182d37-5c86-4389-be78-c20317ad995f button.colab-df-convert');\n",
              "        buttonEl.style.display =\n",
              "          google.colab.kernel.accessAllowed ? 'block' : 'none';\n",
              "\n",
              "        async function convertToInteractive(key) {\n",
              "          const element = document.querySelector('#df-89182d37-5c86-4389-be78-c20317ad995f');\n",
              "          const dataTable =\n",
              "            await google.colab.kernel.invokeFunction('convertToInteractive',\n",
              "                                                     [key], {});\n",
              "          if (!dataTable) return;\n",
              "\n",
              "          const docLinkHtml = 'Like what you see? Visit the ' +\n",
              "            '<a target=\"_blank\" href=https://colab.research.google.com/notebooks/data_table.ipynb>data table notebook</a>'\n",
              "            + ' to learn more about interactive tables.';\n",
              "          element.innerHTML = '';\n",
              "          dataTable['output_type'] = 'display_data';\n",
              "          await google.colab.output.renderOutput(dataTable, element);\n",
              "          const docLink = document.createElement('div');\n",
              "          docLink.innerHTML = docLinkHtml;\n",
              "          element.appendChild(docLink);\n",
              "        }\n",
              "      </script>\n",
              "    </div>\n",
              "  </div>\n",
              "  "
            ]
          },
          "metadata": {},
          "execution_count": 143
        }
      ],
      "source": [
        "# display the selected columns\n",
        "racesub=df[['Arrest_Year','Arrest_Month','ObjectId','Perceived_Race','StripSearch','Actions_at_arrest___Combative__','Actions_at_arrest___Cooperative']].dropna()\n",
        "racesub"
      ]
    },
    {
      "cell_type": "code",
      "execution_count": 144,
      "metadata": {
        "colab": {
          "base_uri": "https://localhost:8080/"
        },
        "id": "5McCOGutIRr6",
        "outputId": "6267f719-07d8-4b26-e5c4-30120dda1735"
      },
      "outputs": [
        {
          "output_type": "stream",
          "name": "stdout",
          "text": [
            "['White' 'Unknown or Legacy' 'Black' 'South Asian' 'Indigenous'\n",
            " 'Middle-Eastern' 'Latino' 'East/Southeast Asian']\n"
          ]
        }
      ],
      "source": [
        "print(racesub['Perceived_Race'].unique())\n"
      ]
    },
    {
      "cell_type": "code",
      "execution_count": 145,
      "metadata": {
        "colab": {
          "base_uri": "https://localhost:8080/",
          "height": 467
        },
        "id": "RGBHygIUGVCY",
        "outputId": "e59369de-2124-47bf-9cd3-91297be0eb91"
      },
      "outputs": [
        {
          "output_type": "execute_result",
          "data": {
            "text/plain": [
              "     Arrest_Year Arrest_Month  Actions_at_arrest___Cooperative  \\\n",
              "0           2020     Apr-June                                0   \n",
              "1           2020     Apr-June                                0   \n",
              "2           2020     Apr-June                                0   \n",
              "3           2020     Apr-June                                0   \n",
              "4           2020     Apr-June                                0   \n",
              "..           ...          ...                              ...   \n",
              "123         2021      Oct-Dec                                1   \n",
              "124         2021      Oct-Dec                                1   \n",
              "125         2021      Oct-Dec                                1   \n",
              "126         2021      Oct-Dec                                1   \n",
              "127         2021      Oct-Dec                                1   \n",
              "\n",
              "     Perceived_Race  ObjectId  \n",
              "0                 3      1063  \n",
              "1                 8       197  \n",
              "2                 5       128  \n",
              "3                 7        73  \n",
              "4                 6       184  \n",
              "..              ...       ...  \n",
              "123               7       138  \n",
              "124               6       214  \n",
              "125               4       229  \n",
              "126               2       252  \n",
              "127               1      1514  \n",
              "\n",
              "[128 rows x 5 columns]"
            ],
            "text/html": [
              "\n",
              "  <div id=\"df-c72bb3b5-ec2a-485c-95a2-f5a5848d7f5d\">\n",
              "    <div class=\"colab-df-container\">\n",
              "      <div>\n",
              "<style scoped>\n",
              "    .dataframe tbody tr th:only-of-type {\n",
              "        vertical-align: middle;\n",
              "    }\n",
              "\n",
              "    .dataframe tbody tr th {\n",
              "        vertical-align: top;\n",
              "    }\n",
              "\n",
              "    .dataframe thead th {\n",
              "        text-align: right;\n",
              "    }\n",
              "</style>\n",
              "<table border=\"1\" class=\"dataframe\">\n",
              "  <thead>\n",
              "    <tr style=\"text-align: right;\">\n",
              "      <th></th>\n",
              "      <th>Arrest_Year</th>\n",
              "      <th>Arrest_Month</th>\n",
              "      <th>Actions_at_arrest___Cooperative</th>\n",
              "      <th>Perceived_Race</th>\n",
              "      <th>ObjectId</th>\n",
              "    </tr>\n",
              "  </thead>\n",
              "  <tbody>\n",
              "    <tr>\n",
              "      <th>0</th>\n",
              "      <td>2020</td>\n",
              "      <td>Apr-June</td>\n",
              "      <td>0</td>\n",
              "      <td>3</td>\n",
              "      <td>1063</td>\n",
              "    </tr>\n",
              "    <tr>\n",
              "      <th>1</th>\n",
              "      <td>2020</td>\n",
              "      <td>Apr-June</td>\n",
              "      <td>0</td>\n",
              "      <td>8</td>\n",
              "      <td>197</td>\n",
              "    </tr>\n",
              "    <tr>\n",
              "      <th>2</th>\n",
              "      <td>2020</td>\n",
              "      <td>Apr-June</td>\n",
              "      <td>0</td>\n",
              "      <td>5</td>\n",
              "      <td>128</td>\n",
              "    </tr>\n",
              "    <tr>\n",
              "      <th>3</th>\n",
              "      <td>2020</td>\n",
              "      <td>Apr-June</td>\n",
              "      <td>0</td>\n",
              "      <td>7</td>\n",
              "      <td>73</td>\n",
              "    </tr>\n",
              "    <tr>\n",
              "      <th>4</th>\n",
              "      <td>2020</td>\n",
              "      <td>Apr-June</td>\n",
              "      <td>0</td>\n",
              "      <td>6</td>\n",
              "      <td>184</td>\n",
              "    </tr>\n",
              "    <tr>\n",
              "      <th>...</th>\n",
              "      <td>...</td>\n",
              "      <td>...</td>\n",
              "      <td>...</td>\n",
              "      <td>...</td>\n",
              "      <td>...</td>\n",
              "    </tr>\n",
              "    <tr>\n",
              "      <th>123</th>\n",
              "      <td>2021</td>\n",
              "      <td>Oct-Dec</td>\n",
              "      <td>1</td>\n",
              "      <td>7</td>\n",
              "      <td>138</td>\n",
              "    </tr>\n",
              "    <tr>\n",
              "      <th>124</th>\n",
              "      <td>2021</td>\n",
              "      <td>Oct-Dec</td>\n",
              "      <td>1</td>\n",
              "      <td>6</td>\n",
              "      <td>214</td>\n",
              "    </tr>\n",
              "    <tr>\n",
              "      <th>125</th>\n",
              "      <td>2021</td>\n",
              "      <td>Oct-Dec</td>\n",
              "      <td>1</td>\n",
              "      <td>4</td>\n",
              "      <td>229</td>\n",
              "    </tr>\n",
              "    <tr>\n",
              "      <th>126</th>\n",
              "      <td>2021</td>\n",
              "      <td>Oct-Dec</td>\n",
              "      <td>1</td>\n",
              "      <td>2</td>\n",
              "      <td>252</td>\n",
              "    </tr>\n",
              "    <tr>\n",
              "      <th>127</th>\n",
              "      <td>2021</td>\n",
              "      <td>Oct-Dec</td>\n",
              "      <td>1</td>\n",
              "      <td>1</td>\n",
              "      <td>1514</td>\n",
              "    </tr>\n",
              "  </tbody>\n",
              "</table>\n",
              "<p>128 rows × 5 columns</p>\n",
              "</div>\n",
              "      <button class=\"colab-df-convert\" onclick=\"convertToInteractive('df-c72bb3b5-ec2a-485c-95a2-f5a5848d7f5d')\"\n",
              "              title=\"Convert this dataframe to an interactive table.\"\n",
              "              style=\"display:none;\">\n",
              "        \n",
              "  <svg xmlns=\"http://www.w3.org/2000/svg\" height=\"24px\"viewBox=\"0 0 24 24\"\n",
              "       width=\"24px\">\n",
              "    <path d=\"M0 0h24v24H0V0z\" fill=\"none\"/>\n",
              "    <path d=\"M18.56 5.44l.94 2.06.94-2.06 2.06-.94-2.06-.94-.94-2.06-.94 2.06-2.06.94zm-11 1L8.5 8.5l.94-2.06 2.06-.94-2.06-.94L8.5 2.5l-.94 2.06-2.06.94zm10 10l.94 2.06.94-2.06 2.06-.94-2.06-.94-.94-2.06-.94 2.06-2.06.94z\"/><path d=\"M17.41 7.96l-1.37-1.37c-.4-.4-.92-.59-1.43-.59-.52 0-1.04.2-1.43.59L10.3 9.45l-7.72 7.72c-.78.78-.78 2.05 0 2.83L4 21.41c.39.39.9.59 1.41.59.51 0 1.02-.2 1.41-.59l7.78-7.78 2.81-2.81c.8-.78.8-2.07 0-2.86zM5.41 20L4 18.59l7.72-7.72 1.47 1.35L5.41 20z\"/>\n",
              "  </svg>\n",
              "      </button>\n",
              "      \n",
              "  <style>\n",
              "    .colab-df-container {\n",
              "      display:flex;\n",
              "      flex-wrap:wrap;\n",
              "      gap: 12px;\n",
              "    }\n",
              "\n",
              "    .colab-df-convert {\n",
              "      background-color: #E8F0FE;\n",
              "      border: none;\n",
              "      border-radius: 50%;\n",
              "      cursor: pointer;\n",
              "      display: none;\n",
              "      fill: #1967D2;\n",
              "      height: 32px;\n",
              "      padding: 0 0 0 0;\n",
              "      width: 32px;\n",
              "    }\n",
              "\n",
              "    .colab-df-convert:hover {\n",
              "      background-color: #E2EBFA;\n",
              "      box-shadow: 0px 1px 2px rgba(60, 64, 67, 0.3), 0px 1px 3px 1px rgba(60, 64, 67, 0.15);\n",
              "      fill: #174EA6;\n",
              "    }\n",
              "\n",
              "    [theme=dark] .colab-df-convert {\n",
              "      background-color: #3B4455;\n",
              "      fill: #D2E3FC;\n",
              "    }\n",
              "\n",
              "    [theme=dark] .colab-df-convert:hover {\n",
              "      background-color: #434B5C;\n",
              "      box-shadow: 0px 1px 3px 1px rgba(0, 0, 0, 0.15);\n",
              "      filter: drop-shadow(0px 1px 2px rgba(0, 0, 0, 0.3));\n",
              "      fill: #FFFFFF;\n",
              "    }\n",
              "  </style>\n",
              "\n",
              "      <script>\n",
              "        const buttonEl =\n",
              "          document.querySelector('#df-c72bb3b5-ec2a-485c-95a2-f5a5848d7f5d button.colab-df-convert');\n",
              "        buttonEl.style.display =\n",
              "          google.colab.kernel.accessAllowed ? 'block' : 'none';\n",
              "\n",
              "        async function convertToInteractive(key) {\n",
              "          const element = document.querySelector('#df-c72bb3b5-ec2a-485c-95a2-f5a5848d7f5d');\n",
              "          const dataTable =\n",
              "            await google.colab.kernel.invokeFunction('convertToInteractive',\n",
              "                                                     [key], {});\n",
              "          if (!dataTable) return;\n",
              "\n",
              "          const docLinkHtml = 'Like what you see? Visit the ' +\n",
              "            '<a target=\"_blank\" href=https://colab.research.google.com/notebooks/data_table.ipynb>data table notebook</a>'\n",
              "            + ' to learn more about interactive tables.';\n",
              "          element.innerHTML = '';\n",
              "          dataTable['output_type'] = 'display_data';\n",
              "          await google.colab.output.renderOutput(dataTable, element);\n",
              "          const docLink = document.createElement('div');\n",
              "          docLink.innerHTML = docLinkHtml;\n",
              "          element.appendChild(docLink);\n",
              "        }\n",
              "      </script>\n",
              "    </div>\n",
              "  </div>\n",
              "  "
            ]
          },
          "metadata": {},
          "execution_count": 145
        }
      ],
      "source": [
        "racec = racesub.groupby(['Arrest_Year','Arrest_Month','Actions_at_arrest___Cooperative','Perceived_Race']).agg({'ObjectId': 'count'}).reset_index()\n",
        "\n",
        "race_to_number = {\n",
        "    'White': 1,\n",
        "    'Unknown or Legacy': 2,\n",
        "    'Black': 3,\n",
        "    'South Asian': 4,\n",
        "    'Indigenous': 5,\n",
        "    'Middle-Eastern': 6,\n",
        "    'Latino': 7,\n",
        "    'East/Southeast Asian': 8\n",
        "}\n",
        "\n",
        "# Map race names to numbers\n",
        "racec['Perceived_Race'] = racec['Perceived_Race'].map(race_to_number)\n",
        "racec"
      ]
    },
    {
      "cell_type": "code",
      "execution_count": 146,
      "metadata": {
        "colab": {
          "base_uri": "https://localhost:8080/",
          "height": 295
        },
        "id": "OMQjcVanK28K",
        "outputId": "e770d2f8-b2d3-4f62-d196-0a590cdfdb2b"
      },
      "outputs": [
        {
          "output_type": "display_data",
          "data": {
            "text/plain": [
              "<Figure size 432x288 with 1 Axes>"
            ],
            "image/png": "[encoded data removed]"
          },
          "metadata": {
            "needs_background": "light"
          }
        }
      ],
      "source": [
        "# group arrests people by perceived race\n",
        "racetotal = racec.groupby('Perceived_Race')['ObjectId'].sum().reset_index()\n",
        "fig, ax = plt.subplots()\n",
        "\n",
        "ax.bar(racetotal['Perceived_Race'], racetotal['ObjectId'])\n",
        "ax.set_xlabel('Perceived Race')\n",
        "ax.set_ylabel('Number of Arrests')\n",
        "ax.set_title('Number of Arrests by Perceived Race')\n",
        "plt.show()"
      ]
    },
    {
      "cell_type": "markdown",
      "source": [
        "Based on the chart, it is evident that White and Black are the racial groups with the highest number of arrests, while Latino are arrested the least. "
      ],
      "metadata": {
        "id": "nWZuReiUIIUQ"
      }
    },
    {
      "cell_type": "code",
      "source": [
        "# group arrests people by perceived race\n",
        "races_people = df.Perceived_Race.value_counts().index.tolist()\n",
        "race_number = df.Perceived_Race.value_counts()\n",
        "print(race_number)"
      ],
      "metadata": {
        "id": "XI_3Afrju8w9",
        "colab": {
          "base_uri": "https://localhost:8080/"
        },
        "outputId": "b81628b6-bd9c-4d54-bc92-e8eb2e09b189"
      },
      "execution_count": 147,
      "outputs": [
        {
          "output_type": "stream",
          "name": "stdout",
          "text": [
            "White                   27407\n",
            "Black                   17352\n",
            "Unknown or Legacy        5002\n",
            "East/Southeast Asian     4388\n",
            "South Asian              3594\n",
            "Middle-Eastern           3213\n",
            "Indigenous               1907\n",
            "Latino                   1752\n",
            "Name: Perceived_Race, dtype: int64\n"
          ]
        }
      ]
    },
    {
      "cell_type": "code",
      "execution_count": 148,
      "metadata": {
        "colab": {
          "base_uri": "https://localhost:8080/",
          "height": 295
        },
        "id": "xU8SUSq6MXli",
        "outputId": "3d0a37f5-adcc-4b29-c407-043ae39ab645"
      },
      "outputs": [
        {
          "output_type": "display_data",
          "data": {
            "text/plain": [
              "<Figure size 432x288 with 1 Axes>"
            ],
            "image/png": "[encoded data removed]"
          },
          "metadata": {
            "needs_background": "light"
          }
        }
      ],
      "source": [
        "# group arrests people by perceived race\n",
        "agg_df = racec.groupby(['Perceived_Race', 'Actions_at_arrest___Cooperative']).sum()['ObjectId'].unstack().reset_index()\n",
        "\n",
        "# plot the bar chart\n",
        "fig, ax = plt.subplots()\n",
        "ax.bar(agg_df['Perceived_Race'], agg_df[0], color='orange', label='Not Cooperative')\n",
        "ax.bar(agg_df['Perceived_Race'], agg_df[1], color='blue', label='Cooperative')\n",
        "ax.set_xlabel('Perceived Race')\n",
        "ax.set_ylabel('Number of Arrests')\n",
        "ax.set_title('Number of Arrests by Perceived Race & Actions_at_arrest___Cooperative')\n",
        "ax.legend()\n",
        "plt.show()"
      ]
    },
    {
      "cell_type": "markdown",
      "source": [
        "As shown, the plot displays the sum of arrests grouped by perceived race and denotes whether they cooperate or not respectively."
      ],
      "metadata": {
        "id": "CHY0Y9Y8roY8"
      }
    },
    {
      "cell_type": "code",
      "source": [
        "# group cooperative or not ordered for arrested people by perceived race\n",
        "race_coop = df.groupby('Perceived_Race').agg({'Actions_at_arrest___Cooperative': 'sum', 'ObjectId': 'count'})\n",
        "race_coop_percent = (race_coop['Actions_at_arrest___Cooperative'] / race_coop['ObjectId']) * 100\n",
        "\n",
        "# create a table to display the results\n",
        "race_coop_table = pd.concat([race_coop['ObjectId'], race_coop['Actions_at_arrest___Cooperative'], race_coop_percent], axis=1, sort=False)\n",
        "race_coop_table.columns = ['Total Arrests', 'Actions_at_arrest___Cooperative', 'Actions_at_arrest___Cooperative %']\n",
        "race_coop_table.index.name = 'Perceived Race'\n",
        "race_coop_table = race_coop_table.round(2)\n",
        "\n",
        "race_coop_table"
      ],
      "metadata": {
        "colab": {
          "base_uri": "https://localhost:8080/",
          "height": 445
        },
        "id": "8MlB6gm-wXDH",
        "outputId": "4f42c4c2-0ad3-4f1f-c80d-942703eeec8a"
      },
      "execution_count": 149,
      "outputs": [
        {
          "output_type": "execute_result",
          "data": {
            "text/plain": [
              "                      Total Arrests  Actions_at_arrest___Cooperative  \\\n",
              "Perceived Race                                                         \n",
              "Black                         17352                             7453   \n",
              "East/Southeast Asian           4388                             2267   \n",
              "Indigenous                     1907                              758   \n",
              "Latino                         1752                              892   \n",
              "Middle-Eastern                 3213                             1509   \n",
              "South Asian                    3594                             1662   \n",
              "Unknown or Legacy              5002                             2214   \n",
              "White                         27407                            12283   \n",
              "\n",
              "                      Actions_at_arrest___Cooperative %  \n",
              "Perceived Race                                           \n",
              "Black                                             42.95  \n",
              "East/Southeast Asian                              51.66  \n",
              "Indigenous                                        39.75  \n",
              "Latino                                            50.91  \n",
              "Middle-Eastern                                    46.97  \n",
              "South Asian                                       46.24  \n",
              "Unknown or Legacy                                 44.26  \n",
              "White                                             44.82  "
            ],
            "text/html": [
              "\n",
              "  <div id=\"df-e60659eb-5876-4a3d-ba6a-3eafee1fe8bb\">\n",
              "    <div class=\"colab-df-container\">\n",
              "      <div>\n",
              "<style scoped>\n",
              "    .dataframe tbody tr th:only-of-type {\n",
              "        vertical-align: middle;\n",
              "    }\n",
              "\n",
              "    .dataframe tbody tr th {\n",
              "        vertical-align: top;\n",
              "    }\n",
              "\n",
              "    .dataframe thead th {\n",
              "        text-align: right;\n",
              "    }\n",
              "</style>\n",
              "<table border=\"1\" class=\"dataframe\">\n",
              "  <thead>\n",
              "    <tr style=\"text-align: right;\">\n",
              "      <th></th>\n",
              "      <th>Total Arrests</th>\n",
              "      <th>Actions_at_arrest___Cooperative</th>\n",
              "      <th>Actions_at_arrest___Cooperative %</th>\n",
              "    </tr>\n",
              "    <tr>\n",
              "      <th>Perceived Race</th>\n",
              "      <th></th>\n",
              "      <th></th>\n",
              "      <th></th>\n",
              "    </tr>\n",
              "  </thead>\n",
              "  <tbody>\n",
              "    <tr>\n",
              "      <th>Black</th>\n",
              "      <td>17352</td>\n",
              "      <td>7453</td>\n",
              "      <td>42.95</td>\n",
              "    </tr>\n",
              "    <tr>\n",
              "      <th>East/Southeast Asian</th>\n",
              "      <td>4388</td>\n",
              "      <td>2267</td>\n",
              "      <td>51.66</td>\n",
              "    </tr>\n",
              "    <tr>\n",
              "      <th>Indigenous</th>\n",
              "      <td>1907</td>\n",
              "      <td>758</td>\n",
              "      <td>39.75</td>\n",
              "    </tr>\n",
              "    <tr>\n",
              "      <th>Latino</th>\n",
              "      <td>1752</td>\n",
              "      <td>892</td>\n",
              "      <td>50.91</td>\n",
              "    </tr>\n",
              "    <tr>\n",
              "      <th>Middle-Eastern</th>\n",
              "      <td>3213</td>\n",
              "      <td>1509</td>\n",
              "      <td>46.97</td>\n",
              "    </tr>\n",
              "    <tr>\n",
              "      <th>South Asian</th>\n",
              "      <td>3594</td>\n",
              "      <td>1662</td>\n",
              "      <td>46.24</td>\n",
              "    </tr>\n",
              "    <tr>\n",
              "      <th>Unknown or Legacy</th>\n",
              "      <td>5002</td>\n",
              "      <td>2214</td>\n",
              "      <td>44.26</td>\n",
              "    </tr>\n",
              "    <tr>\n",
              "      <th>White</th>\n",
              "      <td>27407</td>\n",
              "      <td>12283</td>\n",
              "      <td>44.82</td>\n",
              "    </tr>\n",
              "  </tbody>\n",
              "</table>\n",
              "</div>\n",
              "      <button class=\"colab-df-convert\" onclick=\"convertToInteractive('df-e60659eb-5876-4a3d-ba6a-3eafee1fe8bb')\"\n",
              "              title=\"Convert this dataframe to an interactive table.\"\n",
              "              style=\"display:none;\">\n",
              "        \n",
              "  <svg xmlns=\"http://www.w3.org/2000/svg\" height=\"24px\"viewBox=\"0 0 24 24\"\n",
              "       width=\"24px\">\n",
              "    <path d=\"M0 0h24v24H0V0z\" fill=\"none\"/>\n",
              "    <path d=\"M18.56 5.44l.94 2.06.94-2.06 2.06-.94-2.06-.94-.94-2.06-.94 2.06-2.06.94zm-11 1L8.5 8.5l.94-2.06 2.06-.94-2.06-.94L8.5 2.5l-.94 2.06-2.06.94zm10 10l.94 2.06.94-2.06 2.06-.94-2.06-.94-.94-2.06-.94 2.06-2.06.94z\"/><path d=\"M17.41 7.96l-1.37-1.37c-.4-.4-.92-.59-1.43-.59-.52 0-1.04.2-1.43.59L10.3 9.45l-7.72 7.72c-.78.78-.78 2.05 0 2.83L4 21.41c.39.39.9.59 1.41.59.51 0 1.02-.2 1.41-.59l7.78-7.78 2.81-2.81c.8-.78.8-2.07 0-2.86zM5.41 20L4 18.59l7.72-7.72 1.47 1.35L5.41 20z\"/>\n",
              "  </svg>\n",
              "      </button>\n",
              "      \n",
              "  <style>\n",
              "    .colab-df-container {\n",
              "      display:flex;\n",
              "      flex-wrap:wrap;\n",
              "      gap: 12px;\n",
              "    }\n",
              "\n",
              "    .colab-df-convert {\n",
              "      background-color: #E8F0FE;\n",
              "      border: none;\n",
              "      border-radius: 50%;\n",
              "      cursor: pointer;\n",
              "      display: none;\n",
              "      fill: #1967D2;\n",
              "      height: 32px;\n",
              "      padding: 0 0 0 0;\n",
              "      width: 32px;\n",
              "    }\n",
              "\n",
              "    .colab-df-convert:hover {\n",
              "      background-color: #E2EBFA;\n",
              "      box-shadow: 0px 1px 2px rgba(60, 64, 67, 0.3), 0px 1px 3px 1px rgba(60, 64, 67, 0.15);\n",
              "      fill: #174EA6;\n",
              "    }\n",
              "\n",
              "    [theme=dark] .colab-df-convert {\n",
              "      background-color: #3B4455;\n",
              "      fill: #D2E3FC;\n",
              "    }\n",
              "\n",
              "    [theme=dark] .colab-df-convert:hover {\n",
              "      background-color: #434B5C;\n",
              "      box-shadow: 0px 1px 3px 1px rgba(0, 0, 0, 0.15);\n",
              "      filter: drop-shadow(0px 1px 2px rgba(0, 0, 0, 0.3));\n",
              "      fill: #FFFFFF;\n",
              "    }\n",
              "  </style>\n",
              "\n",
              "      <script>\n",
              "        const buttonEl =\n",
              "          document.querySelector('#df-e60659eb-5876-4a3d-ba6a-3eafee1fe8bb button.colab-df-convert');\n",
              "        buttonEl.style.display =\n",
              "          google.colab.kernel.accessAllowed ? 'block' : 'none';\n",
              "\n",
              "        async function convertToInteractive(key) {\n",
              "          const element = document.querySelector('#df-e60659eb-5876-4a3d-ba6a-3eafee1fe8bb');\n",
              "          const dataTable =\n",
              "            await google.colab.kernel.invokeFunction('convertToInteractive',\n",
              "                                                     [key], {});\n",
              "          if (!dataTable) return;\n",
              "\n",
              "          const docLinkHtml = 'Like what you see? Visit the ' +\n",
              "            '<a target=\"_blank\" href=https://colab.research.google.com/notebooks/data_table.ipynb>data table notebook</a>'\n",
              "            + ' to learn more about interactive tables.';\n",
              "          element.innerHTML = '';\n",
              "          dataTable['output_type'] = 'display_data';\n",
              "          await google.colab.output.renderOutput(dataTable, element);\n",
              "          const docLink = document.createElement('div');\n",
              "          docLink.innerHTML = docLinkHtml;\n",
              "          element.appendChild(docLink);\n",
              "        }\n",
              "      </script>\n",
              "    </div>\n",
              "  </div>\n",
              "  "
            ]
          },
          "metadata": {},
          "execution_count": 149
        }
      ]
    },
    {
      "cell_type": "markdown",
      "source": [
        "We found that East/Southeast Asian has the highest cooperation rate (51.66%) while Black people have the lowest cooperation rate (42.95%).\n"
      ],
      "metadata": {
        "id": "U_2pkckhH-LE"
      }
    },
    {
      "cell_type": "code",
      "source": [
        "# group strip searches ordered for arrested people by perceived race\n",
        "colors_race = {\"All Race\": \"skyblue\", \"Strip Searched\": \"orange\"}\n",
        "labels_race = list(colors_race.keys())\n",
        "handles_race = [plt.Rectangle((0, 0), 1, 1, color = colors_race[label]) for label in labels_race]\n",
        "\n",
        "plt.bar(races_people, race_number, bottom = df.groupby([\"Perceived_Race\"])[\"StripSearch\"].sum().sort_values(ascending = False), color = \"skyblue\")\n",
        "plt.bar(races_people, df.groupby([\"Perceived_Race\"])[\"StripSearch\"].sum().sort_values(ascending = False), color = \"orange\")\n",
        "plt.xticks(rotation = 90)\n",
        "plt.title(\"Number of Strip Searches Conducted on People of Different Races\")\n",
        "plt.ylabel(\"Count\")\n",
        "plt.xlabel(\"Perceived Race\")\n",
        "plt.legend(handles_race, labels_race)"
      ],
      "metadata": {
        "colab": {
          "base_uri": "https://localhost:8080/",
          "height": 408
        },
        "id": "NOpQUbeLFQE6",
        "outputId": "6df43339-c30e-4ddf-837c-f4591e15fca0"
      },
      "execution_count": 150,
      "outputs": [
        {
          "output_type": "execute_result",
          "data": {
            "text/plain": [
              "<matplotlib.legend.Legend at 0x7fbf1509a280>"
            ]
          },
          "metadata": {},
          "execution_count": 150
        },
        {
          "output_type": "display_data",
          "data": {
            "text/plain": [
              "<Figure size 432x288 with 1 Axes>"
            ],
            "image/png": "[encoded data removed]"
          },
          "metadata": {
            "needs_background": "light"
          }
        }
      ]
    },
    {
      "cell_type": "code",
      "source": [
        "# group strip searches ordered for arrested people by perceived race\n",
        "race_stripsearch = df.groupby('Perceived_Race').agg({'StripSearch': 'sum', 'ObjectId': 'count'})\n",
        "race_stripsearch_percent = (race_stripsearch['StripSearch'] / race_stripsearch['ObjectId']) * 100\n",
        "\n",
        "# create a table to display the results\n",
        "race_stripsearch_table = pd.concat([race_stripsearch['ObjectId'], race_stripsearch['StripSearch'], race_stripsearch_percent], axis=1, sort=False)\n",
        "race_stripsearch_table.columns = ['Total Arrests', 'Strip Searched', 'Strip Searched %']\n",
        "race_stripsearch_table.index.name = 'Perceived Race'\n",
        "race_stripsearch_table = race_stripsearch_table.round(2)\n",
        "\n",
        "race_stripsearch_table"
      ],
      "metadata": {
        "colab": {
          "base_uri": "https://localhost:8080/",
          "height": 331
        },
        "id": "aat35zSAkwD0",
        "outputId": "4cdba585-5192-4d2b-93df-889392db06c5"
      },
      "execution_count": 151,
      "outputs": [
        {
          "output_type": "execute_result",
          "data": {
            "text/plain": [
              "                      Total Arrests  Strip Searched  Strip Searched %\n",
              "Perceived Race                                                       \n",
              "Black                         17352            2299             13.25\n",
              "East/Southeast Asian           4388             327              7.45\n",
              "Indigenous                     1907             287             15.05\n",
              "Latino                         1752             125              7.13\n",
              "Middle-Eastern                 3213             214              6.66\n",
              "South Asian                    3594             248              6.90\n",
              "Unknown or Legacy              5002             493              9.86\n",
              "White                         27407            3338             12.18"
            ],
            "text/html": [
              "\n",
              "  <div id=\"df-d7d5e604-354c-423a-88c1-fec17af2972d\">\n",
              "    <div class=\"colab-df-container\">\n",
              "      <div>\n",
              "<style scoped>\n",
              "    .dataframe tbody tr th:only-of-type {\n",
              "        vertical-align: middle;\n",
              "    }\n",
              "\n",
              "    .dataframe tbody tr th {\n",
              "        vertical-align: top;\n",
              "    }\n",
              "\n",
              "    .dataframe thead th {\n",
              "        text-align: right;\n",
              "    }\n",
              "</style>\n",
              "<table border=\"1\" class=\"dataframe\">\n",
              "  <thead>\n",
              "    <tr style=\"text-align: right;\">\n",
              "      <th></th>\n",
              "      <th>Total Arrests</th>\n",
              "      <th>Strip Searched</th>\n",
              "      <th>Strip Searched %</th>\n",
              "    </tr>\n",
              "    <tr>\n",
              "      <th>Perceived Race</th>\n",
              "      <th></th>\n",
              "      <th></th>\n",
              "      <th></th>\n",
              "    </tr>\n",
              "  </thead>\n",
              "  <tbody>\n",
              "    <tr>\n",
              "      <th>Black</th>\n",
              "      <td>17352</td>\n",
              "      <td>2299</td>\n",
              "      <td>13.25</td>\n",
              "    </tr>\n",
              "    <tr>\n",
              "      <th>East/Southeast Asian</th>\n",
              "      <td>4388</td>\n",
              "      <td>327</td>\n",
              "      <td>7.45</td>\n",
              "    </tr>\n",
              "    <tr>\n",
              "      <th>Indigenous</th>\n",
              "      <td>1907</td>\n",
              "      <td>287</td>\n",
              "      <td>15.05</td>\n",
              "    </tr>\n",
              "    <tr>\n",
              "      <th>Latino</th>\n",
              "      <td>1752</td>\n",
              "      <td>125</td>\n",
              "      <td>7.13</td>\n",
              "    </tr>\n",
              "    <tr>\n",
              "      <th>Middle-Eastern</th>\n",
              "      <td>3213</td>\n",
              "      <td>214</td>\n",
              "      <td>6.66</td>\n",
              "    </tr>\n",
              "    <tr>\n",
              "      <th>South Asian</th>\n",
              "      <td>3594</td>\n",
              "      <td>248</td>\n",
              "      <td>6.90</td>\n",
              "    </tr>\n",
              "    <tr>\n",
              "      <th>Unknown or Legacy</th>\n",
              "      <td>5002</td>\n",
              "      <td>493</td>\n",
              "      <td>9.86</td>\n",
              "    </tr>\n",
              "    <tr>\n",
              "      <th>White</th>\n",
              "      <td>27407</td>\n",
              "      <td>3338</td>\n",
              "      <td>12.18</td>\n",
              "    </tr>\n",
              "  </tbody>\n",
              "</table>\n",
              "</div>\n",
              "      <button class=\"colab-df-convert\" onclick=\"convertToInteractive('df-d7d5e604-354c-423a-88c1-fec17af2972d')\"\n",
              "              title=\"Convert this dataframe to an interactive table.\"\n",
              "              style=\"display:none;\">\n",
              "        \n",
              "  <svg xmlns=\"http://www.w3.org/2000/svg\" height=\"24px\"viewBox=\"0 0 24 24\"\n",
              "       width=\"24px\">\n",
              "    <path d=\"M0 0h24v24H0V0z\" fill=\"none\"/>\n",
              "    <path d=\"M18.56 5.44l.94 2.06.94-2.06 2.06-.94-2.06-.94-.94-2.06-.94 2.06-2.06.94zm-11 1L8.5 8.5l.94-2.06 2.06-.94-2.06-.94L8.5 2.5l-.94 2.06-2.06.94zm10 10l.94 2.06.94-2.06 2.06-.94-2.06-.94-.94-2.06-.94 2.06-2.06.94z\"/><path d=\"M17.41 7.96l-1.37-1.37c-.4-.4-.92-.59-1.43-.59-.52 0-1.04.2-1.43.59L10.3 9.45l-7.72 7.72c-.78.78-.78 2.05 0 2.83L4 21.41c.39.39.9.59 1.41.59.51 0 1.02-.2 1.41-.59l7.78-7.78 2.81-2.81c.8-.78.8-2.07 0-2.86zM5.41 20L4 18.59l7.72-7.72 1.47 1.35L5.41 20z\"/>\n",
              "  </svg>\n",
              "      </button>\n",
              "      \n",
              "  <style>\n",
              "    .colab-df-container {\n",
              "      display:flex;\n",
              "      flex-wrap:wrap;\n",
              "      gap: 12px;\n",
              "    }\n",
              "\n",
              "    .colab-df-convert {\n",
              "      background-color: #E8F0FE;\n",
              "      border: none;\n",
              "      border-radius: 50%;\n",
              "      cursor: pointer;\n",
              "      display: none;\n",
              "      fill: #1967D2;\n",
              "      height: 32px;\n",
              "      padding: 0 0 0 0;\n",
              "      width: 32px;\n",
              "    }\n",
              "\n",
              "    .colab-df-convert:hover {\n",
              "      background-color: #E2EBFA;\n",
              "      box-shadow: 0px 1px 2px rgba(60, 64, 67, 0.3), 0px 1px 3px 1px rgba(60, 64, 67, 0.15);\n",
              "      fill: #174EA6;\n",
              "    }\n",
              "\n",
              "    [theme=dark] .colab-df-convert {\n",
              "      background-color: #3B4455;\n",
              "      fill: #D2E3FC;\n",
              "    }\n",
              "\n",
              "    [theme=dark] .colab-df-convert:hover {\n",
              "      background-color: #434B5C;\n",
              "      box-shadow: 0px 1px 3px 1px rgba(0, 0, 0, 0.15);\n",
              "      filter: drop-shadow(0px 1px 2px rgba(0, 0, 0, 0.3));\n",
              "      fill: #FFFFFF;\n",
              "    }\n",
              "  </style>\n",
              "\n",
              "      <script>\n",
              "        const buttonEl =\n",
              "          document.querySelector('#df-d7d5e604-354c-423a-88c1-fec17af2972d button.colab-df-convert');\n",
              "        buttonEl.style.display =\n",
              "          google.colab.kernel.accessAllowed ? 'block' : 'none';\n",
              "\n",
              "        async function convertToInteractive(key) {\n",
              "          const element = document.querySelector('#df-d7d5e604-354c-423a-88c1-fec17af2972d');\n",
              "          const dataTable =\n",
              "            await google.colab.kernel.invokeFunction('convertToInteractive',\n",
              "                                                     [key], {});\n",
              "          if (!dataTable) return;\n",
              "\n",
              "          const docLinkHtml = 'Like what you see? Visit the ' +\n",
              "            '<a target=\"_blank\" href=https://colab.research.google.com/notebooks/data_table.ipynb>data table notebook</a>'\n",
              "            + ' to learn more about interactive tables.';\n",
              "          element.innerHTML = '';\n",
              "          dataTable['output_type'] = 'display_data';\n",
              "          await google.colab.output.renderOutput(dataTable, element);\n",
              "          const docLink = document.createElement('div');\n",
              "          docLink.innerHTML = docLinkHtml;\n",
              "          element.appendChild(docLink);\n",
              "        }\n",
              "      </script>\n",
              "    </div>\n",
              "  </div>\n",
              "  "
            ]
          },
          "metadata": {},
          "execution_count": 151
        }
      ]
    },
    {
      "cell_type": "markdown",
      "source": [
        "It is obvious that Indigenous people have the highest strip search rate at 15.05%, followed by Black people at 13.25% and White people at 12.18%."
      ],
      "metadata": {
        "id": "UKWBqE8RH3lK"
      }
    },
    {
      "cell_type": "code",
      "execution_count": 152,
      "metadata": {
        "colab": {
          "base_uri": "https://localhost:8080/",
          "height": 396
        },
        "id": "ZSPdNc1ucCff",
        "outputId": "da70062b-dd40-49e5-8391-bc30e0c280dc"
      },
      "outputs": [
        {
          "output_type": "display_data",
          "data": {
            "text/plain": [
              "<Figure size 1152x432 with 2 Axes>"
            ],
            "image/png": "[encoded data removed]"
          },
          "metadata": {
            "needs_background": "light"
          }
        }
      ],
      "source": [
        "plt.figure(figsize=(16, 6))\n",
        "heatmap = sns.heatmap(df.corr(), vmin=-1, vmax=1, annot=True, cmap='BrBG')\n",
        "heatmap.set_title('Correlation Heatmap', fontdict={'fontsize':18}, pad=12);"
      ]
    },
    {
      "cell_type": "markdown",
      "source": [
        "The heatmap indicated a strong correlation between strip searches and the reason for the search, particularly when the reason was to cause injury. "
      ],
      "metadata": {
        "id": "D2rOd54oJazc"
      }
    },
    {
      "cell_type": "markdown",
      "metadata": {
        "id": "LoJu7wegb7si"
      },
      "source": [
        "# T-test"
      ]
    },
    {
      "cell_type": "markdown",
      "metadata": {
        "id": "k9HMiyvjb59r"
      },
      "source": [
        "\n",
        "## T-test #1: Number of Arrests Male vs Female"
      ]
    },
    {
      "cell_type": "markdown",
      "source": [
        "H0 (Null Hypothesis): The mean number of arrests among sex groups is equal.\n",
        "\n",
        "Ha (Alternative Hypothesis): The mean number of arrests among sex groups is not equal."
      ],
      "metadata": {
        "id": "A-d5q_cFGOi2"
      }
    },
    {
      "cell_type": "code",
      "execution_count": 153,
      "metadata": {
        "id": "dQO9evYYNd94",
        "colab": {
          "base_uri": "https://localhost:8080/"
        },
        "outputId": "868b82f4-499e-4f1d-81e4-aef87b2646e0"
      },
      "outputs": [
        {
          "output_type": "stream",
          "name": "stdout",
          "text": [
            "0.44916629791259766\n",
            "0.3535520136356354\n"
          ]
        }
      ],
      "source": [
        "# check normality\n",
        "stat, p = stats.shapiro(M)\n",
        "print(p)\n",
        "stat, p = stats.shapiro(F)\n",
        "print(p)\n",
        "#satisfied normality"
      ]
    },
    {
      "cell_type": "code",
      "execution_count": 154,
      "metadata": {
        "id": "ixWLXPHfNs5E",
        "colab": {
          "base_uri": "https://localhost:8080/"
        },
        "outputId": "ba773d06-01d6-4cbd-ac57-9fd28767b237"
      },
      "outputs": [
        {
          "output_type": "stream",
          "name": "stdout",
          "text": [
            "0.23324344778964115\n"
          ]
        }
      ],
      "source": [
        "# check equal variance\n",
        "M = M.values.flatten()\n",
        "F = F.values.flatten()\n",
        "stat, p = stats.levene(M,F)\n",
        "# equal variance\n",
        "print(p)"
      ]
    },
    {
      "cell_type": "code",
      "source": [
        "# Mean and STD for male and female\n",
        "print(\"Male - mean: {:.2f}, std: {:.2f}\".format(np.mean(M), np.std(M)))\n",
        "print(\"Female - mean: {:.2f}, std: {:.2f}\".format(np.mean(F), np.std(F)))"
      ],
      "metadata": {
        "colab": {
          "base_uri": "https://localhost:8080/"
        },
        "id": "yB798FQ2biXZ",
        "outputId": "768cfbf7-c1d4-4000-cedf-b856914eb565"
      },
      "execution_count": 155,
      "outputs": [
        {
          "output_type": "stream",
          "name": "stdout",
          "text": [
            "Male - mean: 6513.25, std: 490.29\n",
            "Female - mean: 1562.50, std: 244.09\n"
          ]
        }
      ]
    },
    {
      "cell_type": "code",
      "execution_count": 156,
      "metadata": {
        "id": "uvCRWsDbN2qY",
        "colab": {
          "base_uri": "https://localhost:8080/"
        },
        "outputId": "50df7b75-d6c0-45fd-b13d-23a9f813e97e"
      },
      "outputs": [
        {
          "output_type": "stream",
          "name": "stdout",
          "text": [
            "23.915951554182907 9.407420494715217e-13\n"
          ]
        }
      ],
      "source": [
        "# t-test Female vs Male of arrested\n",
        "t_statistic, p_value = stats.ttest_ind(M, F)\n",
        "print(t_statistic,p_value)"
      ]
    },
    {
      "cell_type": "markdown",
      "source": [
        "The P-value of the T-test evidenced the means of arrests between sex is signficantly different. We have enough evidence to reject the null hypothesis that means of arrest between sex are not equal.\n"
      ],
      "metadata": {
        "id": "T5pOO59UHf2N"
      }
    },
    {
      "cell_type": "markdown",
      "metadata": {
        "id": "e88jJ56_b0j0"
      },
      "source": [
        "## T-test #2: Comparing Mean Arrests of Cooperative Arrested People across Different Race Groups"
      ]
    },
    {
      "cell_type": "markdown",
      "source": [
        "H0 (Null Hypothesis): The mean of cooperative arrests is equal.\n",
        "\n",
        "Ha (Alternative Hypothesis): The mean of cooperative arrests is not equal."
      ],
      "metadata": {
        "id": "DhTDxG8QGTxm"
      }
    },
    {
      "cell_type": "code",
      "execution_count": 157,
      "metadata": {
        "id": "JqVNnLzLAsy-",
        "colab": {
          "base_uri": "https://localhost:8080/",
          "height": 467
        },
        "outputId": "13e68a67-9a32-4d59-aa42-efbfb921b694"
      },
      "outputs": [
        {
          "output_type": "execute_result",
          "data": {
            "text/plain": [
              "    Arrest_Year Arrest_Month  Perceived_Race  Actions_at_arrest___Cooperative  \\\n",
              "0          2020     Apr-June               1                                1   \n",
              "1          2020     Apr-June               2                                1   \n",
              "2          2020     Apr-June               3                                1   \n",
              "3          2020     Apr-June               4                                1   \n",
              "4          2020     Apr-June               5                                1   \n",
              "..          ...          ...             ...                              ...   \n",
              "59         2021      Oct-Dec               4                                1   \n",
              "60         2021      Oct-Dec               5                                1   \n",
              "61         2021      Oct-Dec               6                                1   \n",
              "62         2021      Oct-Dec               7                                1   \n",
              "63         2021      Oct-Dec               8                                1   \n",
              "\n",
              "    ObjectId  \n",
              "0       1395  \n",
              "1        242  \n",
              "2        740  \n",
              "3        170  \n",
              "4         68  \n",
              "..       ...  \n",
              "59       229  \n",
              "60        87  \n",
              "61       214  \n",
              "62       138  \n",
              "63       345  \n",
              "\n",
              "[64 rows x 5 columns]"
            ],
            "text/html": [
              "\n",
              "  <div id=\"df-3b1f301f-8738-40bf-b593-cee9d5503ef2\">\n",
              "    <div class=\"colab-df-container\">\n",
              "      <div>\n",
              "<style scoped>\n",
              "    .dataframe tbody tr th:only-of-type {\n",
              "        vertical-align: middle;\n",
              "    }\n",
              "\n",
              "    .dataframe tbody tr th {\n",
              "        vertical-align: top;\n",
              "    }\n",
              "\n",
              "    .dataframe thead th {\n",
              "        text-align: right;\n",
              "    }\n",
              "</style>\n",
              "<table border=\"1\" class=\"dataframe\">\n",
              "  <thead>\n",
              "    <tr style=\"text-align: right;\">\n",
              "      <th></th>\n",
              "      <th>Arrest_Year</th>\n",
              "      <th>Arrest_Month</th>\n",
              "      <th>Perceived_Race</th>\n",
              "      <th>Actions_at_arrest___Cooperative</th>\n",
              "      <th>ObjectId</th>\n",
              "    </tr>\n",
              "  </thead>\n",
              "  <tbody>\n",
              "    <tr>\n",
              "      <th>0</th>\n",
              "      <td>2020</td>\n",
              "      <td>Apr-June</td>\n",
              "      <td>1</td>\n",
              "      <td>1</td>\n",
              "      <td>1395</td>\n",
              "    </tr>\n",
              "    <tr>\n",
              "      <th>1</th>\n",
              "      <td>2020</td>\n",
              "      <td>Apr-June</td>\n",
              "      <td>2</td>\n",
              "      <td>1</td>\n",
              "      <td>242</td>\n",
              "    </tr>\n",
              "    <tr>\n",
              "      <th>2</th>\n",
              "      <td>2020</td>\n",
              "      <td>Apr-June</td>\n",
              "      <td>3</td>\n",
              "      <td>1</td>\n",
              "      <td>740</td>\n",
              "    </tr>\n",
              "    <tr>\n",
              "      <th>3</th>\n",
              "      <td>2020</td>\n",
              "      <td>Apr-June</td>\n",
              "      <td>4</td>\n",
              "      <td>1</td>\n",
              "      <td>170</td>\n",
              "    </tr>\n",
              "    <tr>\n",
              "      <th>4</th>\n",
              "      <td>2020</td>\n",
              "      <td>Apr-June</td>\n",
              "      <td>5</td>\n",
              "      <td>1</td>\n",
              "      <td>68</td>\n",
              "    </tr>\n",
              "    <tr>\n",
              "      <th>...</th>\n",
              "      <td>...</td>\n",
              "      <td>...</td>\n",
              "      <td>...</td>\n",
              "      <td>...</td>\n",
              "      <td>...</td>\n",
              "    </tr>\n",
              "    <tr>\n",
              "      <th>59</th>\n",
              "      <td>2021</td>\n",
              "      <td>Oct-Dec</td>\n",
              "      <td>4</td>\n",
              "      <td>1</td>\n",
              "      <td>229</td>\n",
              "    </tr>\n",
              "    <tr>\n",
              "      <th>60</th>\n",
              "      <td>2021</td>\n",
              "      <td>Oct-Dec</td>\n",
              "      <td>5</td>\n",
              "      <td>1</td>\n",
              "      <td>87</td>\n",
              "    </tr>\n",
              "    <tr>\n",
              "      <th>61</th>\n",
              "      <td>2021</td>\n",
              "      <td>Oct-Dec</td>\n",
              "      <td>6</td>\n",
              "      <td>1</td>\n",
              "      <td>214</td>\n",
              "    </tr>\n",
              "    <tr>\n",
              "      <th>62</th>\n",
              "      <td>2021</td>\n",
              "      <td>Oct-Dec</td>\n",
              "      <td>7</td>\n",
              "      <td>1</td>\n",
              "      <td>138</td>\n",
              "    </tr>\n",
              "    <tr>\n",
              "      <th>63</th>\n",
              "      <td>2021</td>\n",
              "      <td>Oct-Dec</td>\n",
              "      <td>8</td>\n",
              "      <td>1</td>\n",
              "      <td>345</td>\n",
              "    </tr>\n",
              "  </tbody>\n",
              "</table>\n",
              "<p>64 rows × 5 columns</p>\n",
              "</div>\n",
              "      <button class=\"colab-df-convert\" onclick=\"convertToInteractive('df-3b1f301f-8738-40bf-b593-cee9d5503ef2')\"\n",
              "              title=\"Convert this dataframe to an interactive table.\"\n",
              "              style=\"display:none;\">\n",
              "        \n",
              "  <svg xmlns=\"http://www.w3.org/2000/svg\" height=\"24px\"viewBox=\"0 0 24 24\"\n",
              "       width=\"24px\">\n",
              "    <path d=\"M0 0h24v24H0V0z\" fill=\"none\"/>\n",
              "    <path d=\"M18.56 5.44l.94 2.06.94-2.06 2.06-.94-2.06-.94-.94-2.06-.94 2.06-2.06.94zm-11 1L8.5 8.5l.94-2.06 2.06-.94-2.06-.94L8.5 2.5l-.94 2.06-2.06.94zm10 10l.94 2.06.94-2.06 2.06-.94-2.06-.94-.94-2.06-.94 2.06-2.06.94z\"/><path d=\"M17.41 7.96l-1.37-1.37c-.4-.4-.92-.59-1.43-.59-.52 0-1.04.2-1.43.59L10.3 9.45l-7.72 7.72c-.78.78-.78 2.05 0 2.83L4 21.41c.39.39.9.59 1.41.59.51 0 1.02-.2 1.41-.59l7.78-7.78 2.81-2.81c.8-.78.8-2.07 0-2.86zM5.41 20L4 18.59l7.72-7.72 1.47 1.35L5.41 20z\"/>\n",
              "  </svg>\n",
              "      </button>\n",
              "      \n",
              "  <style>\n",
              "    .colab-df-container {\n",
              "      display:flex;\n",
              "      flex-wrap:wrap;\n",
              "      gap: 12px;\n",
              "    }\n",
              "\n",
              "    .colab-df-convert {\n",
              "      background-color: #E8F0FE;\n",
              "      border: none;\n",
              "      border-radius: 50%;\n",
              "      cursor: pointer;\n",
              "      display: none;\n",
              "      fill: #1967D2;\n",
              "      height: 32px;\n",
              "      padding: 0 0 0 0;\n",
              "      width: 32px;\n",
              "    }\n",
              "\n",
              "    .colab-df-convert:hover {\n",
              "      background-color: #E2EBFA;\n",
              "      box-shadow: 0px 1px 2px rgba(60, 64, 67, 0.3), 0px 1px 3px 1px rgba(60, 64, 67, 0.15);\n",
              "      fill: #174EA6;\n",
              "    }\n",
              "\n",
              "    [theme=dark] .colab-df-convert {\n",
              "      background-color: #3B4455;\n",
              "      fill: #D2E3FC;\n",
              "    }\n",
              "\n",
              "    [theme=dark] .colab-df-convert:hover {\n",
              "      background-color: #434B5C;\n",
              "      box-shadow: 0px 1px 3px 1px rgba(0, 0, 0, 0.15);\n",
              "      filter: drop-shadow(0px 1px 2px rgba(0, 0, 0, 0.3));\n",
              "      fill: #FFFFFF;\n",
              "    }\n",
              "  </style>\n",
              "\n",
              "      <script>\n",
              "        const buttonEl =\n",
              "          document.querySelector('#df-3b1f301f-8738-40bf-b593-cee9d5503ef2 button.colab-df-convert');\n",
              "        buttonEl.style.display =\n",
              "          google.colab.kernel.accessAllowed ? 'block' : 'none';\n",
              "\n",
              "        async function convertToInteractive(key) {\n",
              "          const element = document.querySelector('#df-3b1f301f-8738-40bf-b593-cee9d5503ef2');\n",
              "          const dataTable =\n",
              "            await google.colab.kernel.invokeFunction('convertToInteractive',\n",
              "                                                     [key], {});\n",
              "          if (!dataTable) return;\n",
              "\n",
              "          const docLinkHtml = 'Like what you see? Visit the ' +\n",
              "            '<a target=\"_blank\" href=https://colab.research.google.com/notebooks/data_table.ipynb>data table notebook</a>'\n",
              "            + ' to learn more about interactive tables.';\n",
              "          element.innerHTML = '';\n",
              "          dataTable['output_type'] = 'display_data';\n",
              "          await google.colab.output.renderOutput(dataTable, element);\n",
              "          const docLink = document.createElement('div');\n",
              "          docLink.innerHTML = docLinkHtml;\n",
              "          element.appendChild(docLink);\n",
              "        }\n",
              "      </script>\n",
              "    </div>\n",
              "  </div>\n",
              "  "
            ]
          },
          "metadata": {},
          "execution_count": 157
        }
      ],
      "source": [
        "# create separate subsets of different race\n",
        "ncoop = racec[racec['Actions_at_arrest___Cooperative'] == 1]\n",
        "groupednc = ncoop.groupby(['Arrest_Year', 'Arrest_Month', 'Perceived_Race','Actions_at_arrest___Cooperative']).agg({'ObjectId': 'sum'}).reset_index()\n",
        "groupednc\n"
      ]
    },
    {
      "cell_type": "code",
      "execution_count": 158,
      "metadata": {
        "id": "E1OhxvBlC4ZB",
        "colab": {
          "base_uri": "https://localhost:8080/"
        },
        "outputId": "0e9142e9-9efc-4174-dbb5-106dd562b54e"
      },
      "outputs": [
        {
          "output_type": "execute_result",
          "data": {
            "text/plain": [
              "{1: [1395, 1921, 1555, 1357, 1519, 1500, 1522, 1514],\n",
              " 2: [242, 442, 263, 199, 276, 249, 291, 252],\n",
              " 3: [740, 1168, 1003, 831, 914, 988, 885, 924],\n",
              " 4: [170, 242, 224, 204, 205, 192, 196, 229],\n",
              " 5: [68, 115, 103, 100, 82, 116, 87, 87],\n",
              " 6: [155, 188, 188, 174, 199, 173, 218, 214],\n",
              " 7: [97, 91, 112, 100, 112, 103, 139, 138],\n",
              " 8: [226, 312, 291, 261, 263, 291, 278, 345]}"
            ]
          },
          "metadata": {},
          "execution_count": 158
        }
      ],
      "source": [
        "# create a dictionary with race as keys and number of cases as values\n",
        "race_object_dict = {i: [] for i in range(1, 9)}\n",
        "\n",
        "# Iterate through each row and append the object ID to the corresponding list in the dictionary\n",
        "for index, row in groupednc.iterrows():\n",
        "    race = row['Perceived_Race']\n",
        "    obj_id = row['ObjectId']\n",
        "    race_object_dict[race].append(obj_id)\n",
        "race_object_dict"
      ]
    },
    {
      "cell_type": "code",
      "execution_count": 159,
      "metadata": {
        "id": "auOwHsRQEWS6",
        "colab": {
          "base_uri": "https://localhost:8080/"
        },
        "outputId": "41597576-4a63-4d76-eae2-547a0e6041bf"
      },
      "outputs": [
        {
          "output_type": "stream",
          "name": "stdout",
          "text": [
            "Perceived Race 1 doesn't follow a normal distribution (p-value: 0.014748751185834408)\n",
            "Perceived Race 2 doesn't follow a normal distribution (p-value: 0.01561455987393856)\n",
            "Perceived Race 3 follows a normal distribution (p-value: 0.9032807350158691)\n",
            "Perceived Race 4 follows a normal distribution (p-value: 0.9320558309555054)\n",
            "Perceived Race 5 follows a normal distribution (p-value: 0.6737602353096008)\n",
            "Perceived Race 6 follows a normal distribution (p-value: 0.8120182156562805)\n",
            "Perceived Race 7 follows a normal distribution (p-value: 0.14385639131069183)\n",
            "Perceived Race 8 follows a normal distribution (p-value: 0.964289128780365)\n"
          ]
        }
      ],
      "source": [
        "# use a loop to check normality of all races\n",
        "for race in range(1, 9):\n",
        "  # we don't care about the test statistic\n",
        "    _, p_value = stats.shapiro(race_object_dict[race])\n",
        "    if p_value > 0.05:\n",
        "        print(f\"Perceived Race {race} follows a normal distribution (p-value: {p_value})\")\n",
        "    else:\n",
        "        print(f\"Perceived Race {race} doesn't follow a normal distribution (p-value: {p_value})\")"
      ]
    },
    {
      "cell_type": "code",
      "execution_count": 160,
      "metadata": {
        "id": "Y93LCX3hFh5D",
        "colab": {
          "base_uri": "https://localhost:8080/"
        },
        "outputId": "4bebf846-24d7-430c-acf6-b4b35d5a69c9"
      },
      "outputs": [
        {
          "output_type": "stream",
          "name": "stdout",
          "text": [
            "Perceived Race 1 and 2s' means are significantly different (p-value: 1.7893882111715004e-11)\n",
            "Perceived Race 1 and 3s' means are significantly different (p-value: 1.3045942557294891e-06)\n",
            "Perceived Race 1 and 4s' means are significantly different (p-value: 3.2039290914641213e-12)\n",
            "Perceived Race 1 and 5s' means are significantly different (p-value: 9.902788533585298e-13)\n",
            "Perceived Race 1 and 6s' means are significantly different (p-value: 2.5916528805598022e-12)\n",
            "Perceived Race 1 and 7s' means are significantly different (p-value: 1.1752976368404241e-12)\n",
            "Perceived Race 1 and 8s' means are significantly different (p-value: 8.437135158673093e-12)\n",
            "Perceived Race 2 and 3s' means are significantly different (p-value: 4.6956635945973466e-09)\n",
            "Perceived Race 2 and 4s' means are significantly different (p-value: 0.02181337341150806)\n",
            "Perceived Race 2 and 5s' means are significantly different (p-value: 6.655638312561267e-06)\n",
            "Perceived Race 2 and 6s' means are significantly different (p-value: 0.005092463683378551)\n",
            "Perceived Race 2 and 7s' means are significantly different (p-value: 1.9823936544471078e-05)\n",
            "Perceived Race 2 and 8s' means are not significantly different (p-value: 0.8191951136754432)\n",
            "Perceived Race 3 and 4s' means are significantly different (p-value: 2.5129072222742045e-10)\n",
            "Perceived Race 3 and 5s' means are significantly different (p-value: 3.251626329135332e-11)\n",
            "Perceived Race 3 and 6s' means are significantly different (p-value: 1.7238289380375808e-10)\n",
            "Perceived Race 3 and 7s' means are significantly different (p-value: 4.354395039298881e-11)\n",
            "Perceived Race 3 and 8s' means are significantly different (p-value: 1.4415112201291694e-09)\n",
            "Perceived Race 4 and 5s' means are significantly different (p-value: 2.197612447575192e-08)\n",
            "Perceived Race 4 and 6s' means are not significantly different (p-value: 0.10749062051750687)\n",
            "Perceived Race 4 and 7s' means are significantly different (p-value: 2.3175778012735109e-07)\n",
            "Perceived Race 4 and 8s' means are significantly different (p-value: 0.00018623241625084487)\n",
            "Perceived Race 5 and 6s' means are significantly different (p-value: 1.2293967941162886e-07)\n",
            "Perceived Race 5 and 7s' means are not significantly different (p-value: 0.0750851324465448)\n",
            "Perceived Race 5 and 8s' means are significantly different (p-value: 2.0254291345339396e-09)\n",
            "Perceived Race 6 and 7s' means are significantly different (p-value: 1.8811090931414813e-06)\n",
            "Perceived Race 6 and 8s' means are significantly different (p-value: 1.5837057955749985e-05)\n",
            "Perceived Race 7 and 8s' means are significantly different (p-value: 8.240668204496394e-09)\n"
          ]
        }
      ],
      "source": [
        "# loop to use t-test to check the means of arrested with cooperative or not between races with the same sample size\n",
        "for i in range(1, 8):\n",
        "    for j in range(i+1, 9):\n",
        "        if len(race_object_dict[i]) == len(race_object_dict[j]):\n",
        "            _, p_value = stats.ttest_ind(race_object_dict[i], race_object_dict[j])\n",
        "            if p_value > 0.05:\n",
        "                print(f\"Perceived Race {i} and {j}s' means are not significantly different (p-value: {p_value})\")\n",
        "            else:\n",
        "                print(f\"Perceived Race {i} and {j}s' means are significantly different (p-value: {p_value})\")\n"
      ]
    },
    {
      "cell_type": "markdown",
      "source": [
        "Among all races, only white and unknown races fail normality. A loop was applied to carry out T-Tests between the perceived races with equal sample sizes. Note that there are not enough evidence to prove the mean of cooperative arrests is significantly different between unknown races and East/Southeast Asian, South Asian and Middle Eastern, Indigenous and Latino. "
      ],
      "metadata": {
        "id": "vRPMZg9XHp8n"
      }
    },
    {
      "cell_type": "markdown",
      "metadata": {
        "id": "80ioszn1bvEE"
      },
      "source": [
        "## T-test #3: Comparison of Drug-related Arrests’ Mean between Two Age Groups: 18-24 vs. 45-54"
      ]
    },
    {
      "cell_type": "markdown",
      "source": [
        "H0 (Null Hypothesis): The mean number of drug-related arrests per quarter for the two age groups (18-24 and 45-54 years old) is equal.\n",
        "\n",
        "Ha (Alternative Hypothesis): The mean number of drug-related arrests per quarter for the two age groups (18-24 and 45-54 years old) is not equal.\n"
      ],
      "metadata": {
        "id": "Uuk5k9u7Gbyd"
      }
    },
    {
      "cell_type": "code",
      "execution_count": 161,
      "metadata": {
        "id": "NKMtNrE7PY0O",
        "colab": {
          "base_uri": "https://localhost:8080/",
          "height": 344
        },
        "outputId": "92c52f0b-d004-4951-8fd4-dcdfab97b2b8"
      },
      "outputs": [
        {
          "output_type": "execute_result",
          "data": {
            "text/plain": [
              "Text(0.5, 0, 'Quarter, Year')"
            ]
          },
          "metadata": {},
          "execution_count": 161
        },
        {
          "output_type": "display_data",
          "data": {
            "text/plain": [
              "<Figure size 432x288 with 1 Axes>"
            ],
            "image/png": "[encoded data removed]"
          },
          "metadata": {
            "needs_background": "light"
          }
        }
      ],
      "source": [
        "# Extract the quantity of drug-related arrests for the two age groups\n",
        "Aged18_to_24_drug = df[(df['Occurrence_Category'] == 'drug') & (df['Age_group__at_arrest_'] == \"Aged 18 to 24 years\")]\n",
        "Aged45_to_54_drug = df[(df['Occurrence_Category'] == 'drug') & (df['Age_group__at_arrest_'] == \"Aged 45 to 54 years\")]\n",
        "Aged18_to_24_drug_Num = Aged18_to_24_drug.groupby([\"Quarter\"])[\"Occurrence_Category\"].value_counts()\n",
        "Aged45_to_54_drug_Num = Aged45_to_54_drug.groupby([\"Quarter\"])[\"Occurrence_Category\"].value_counts()\n",
        "Aged18_to_24_drug_Num.sort_index(ascending = True).plot(label='Aged18_to_24_drug')\n",
        "Aged45_to_54_drug_Num.sort_index(ascending = True).plot(label='Aged45_to_54_drug')\n",
        "plt.legend()\n",
        "\n",
        "# add x-axis & y-axis\n",
        "axes = plt.gca()\n",
        "axes.set_xticks(ticks = [0, 1, 2, 3, 4, 5, 6, 7])\n",
        "axes.set_xticklabels([\"Q1 2020\", \"Q2 2020\", \"Q3 2020\", \"Q4 2020\", \"Q1 2021\", \"Q2 2021\", \"Q3 2021\", \"Q4 2021\"])\n",
        "plt.xticks(rotation = 60)\n",
        "plt.title(\"Drug Arrests by Quarter\")\n",
        "plt.ylabel(\"Number of Arrests\")\n",
        "plt.xlabel(\"Quarter, Year\")"
      ]
    },
    {
      "cell_type": "markdown",
      "source": [
        "As we can see from the above chart, the number of drug-related arrests is higher in the 18-24 age group than in the 45-54 age group."
      ],
      "metadata": {
        "id": "RfbqyMfisfaZ"
      }
    },
    {
      "cell_type": "code",
      "source": [
        "# Mean and STD of two age groups\n",
        "print(\"18-24 - mean: {:.2f}, std: {:.2f}\".format(np.mean(Aged18_to_24_drug_Num), np.std(Aged18_to_24_drug_Num)))\n",
        "print(\"45-54 - mean: {:.2f}, std: {:.2f}\".format(np.mean(Aged45_to_54_drug_Num), np.std(Aged45_to_54_drug_Num)))"
      ],
      "metadata": {
        "colab": {
          "base_uri": "https://localhost:8080/"
        },
        "id": "n2la9WOfC1z8",
        "outputId": "47c2e939-2deb-4ee1-96cd-a2d39eab2715"
      },
      "execution_count": 162,
      "outputs": [
        {
          "output_type": "stream",
          "name": "stdout",
          "text": [
            "18-24 - mean: 70.38, std: 16.32\n",
            "45-54 - mean: 39.25, std: 7.34\n"
          ]
        }
      ]
    },
    {
      "cell_type": "code",
      "execution_count": 163,
      "metadata": {
        "id": "UBNHGvrqPY9N",
        "colab": {
          "base_uri": "https://localhost:8080/"
        },
        "outputId": "3ae2a18b-bd4c-418b-ef5a-c4c7e19039df"
      },
      "outputs": [
        {
          "output_type": "execute_result",
          "data": {
            "text/plain": [
              "LeveneResult(statistic=4.054183419490714, pvalue=0.06369915689802944)"
            ]
          },
          "metadata": {},
          "execution_count": 163
        }
      ],
      "source": [
        "# check equal variance\n",
        "stats.levene(Aged18_to_24_drug_Num, Aged45_to_54_drug_Num)"
      ]
    },
    {
      "cell_type": "code",
      "execution_count": 164,
      "metadata": {
        "id": "lgpRziZuPY_p",
        "colab": {
          "base_uri": "https://localhost:8080/"
        },
        "outputId": "b5439419-b5cf-423c-8606-df353f956f28"
      },
      "outputs": [
        {
          "output_type": "execute_result",
          "data": {
            "text/plain": [
              "Ttest_indResult(statistic=4.600418077897046, pvalue=0.00041213578600516004)"
            ]
          },
          "metadata": {},
          "execution_count": 164
        }
      ],
      "source": [
        "# t-test #3\n",
        "stats.ttest_ind(Aged18_to_24_drug_Num, Aged45_to_54_drug_Num)\n",
        "# The results indicate that there is a significant difference in the average number of drug-related arrests per quarter between the two age groups, 18-24 years and 45-54 years old. \n",
        "# From the graph, it can be seen that young people are more likely to be arrested for drug-related offenses on average than middle-aged individuals."
      ]
    },
    {
      "cell_type": "markdown",
      "source": [
        "Our results indicate the P-value is 0.000412, which is less than 0.05. Therefore, we can reject the null hypothesis. There is a significant difference in the mean number of drug-related arrests per quarter between the two age groups: 18-24 and 45-54 years old. "
      ],
      "metadata": {
        "id": "4KOc9sEbHKe8"
      }
    },
    {
      "cell_type": "markdown",
      "metadata": {
        "id": "SUtqqYclbppa"
      },
      "source": [
        "## T-test #4: Comparison of Mean of Arrests in Different Arrest Location between The Two Age Groups: 18-24 vs. 45-54\n"
      ]
    },
    {
      "cell_type": "markdown",
      "source": [
        "H0 (Null Hypothesis): The mean number of arrests in different arrest location for the two age groups (18-24 and 45-54 years old) is equal.\n",
        "\n",
        "Ha (Alternative Hypothesis):  The mean number of arrests in different arrest location for the two age groups (18-24 and 45-54 years old) is not equal.\n"
      ],
      "metadata": {
        "id": "eczjfsPQGfF1"
      }
    },
    {
      "cell_type": "code",
      "execution_count": 165,
      "metadata": {
        "id": "sysoa21pUGYp",
        "colab": {
          "base_uri": "https://localhost:8080/",
          "height": 382
        },
        "outputId": "a411a359-aafc-497e-eded-71889730bcc3"
      },
      "outputs": [
        {
          "output_type": "stream",
          "name": "stdout",
          "text": [
            "young_arrest\n",
            "[310, 175, 254, 304, 147, 237, 184, 187, 170, 209, 119, 150, 135, 135, 93, 80, 153]\n",
            "old_arrest\n",
            "[122, 120, 82, 79, 53, 91, 66, 87, 85, 92, 74, 77, 62, 87, 52, 52, 41]\n"
          ]
        },
        {
          "output_type": "execute_result",
          "data": {
            "text/plain": [
              "Text(0.5, 0, 'Area Number')"
            ]
          },
          "metadata": {},
          "execution_count": 165
        },
        {
          "output_type": "display_data",
          "data": {
            "text/plain": [
              "<Figure size 432x288 with 1 Axes>"
            ],
            "image/png": "[encoded data removed]"
          },
          "metadata": {
            "needs_background": "light"
          }
        }
      ],
      "source": [
        "# initialize empty lists to store the number of arrests for young and old age groups in each location\n",
        "young_arrest = [0, 0, 0, 0, 0, 0, 0, 0, 0, 0, 0, 0, 0, 0, 0, 0, 0]\n",
        "old_arrest = [0, 0, 0, 0, 0, 0, 0, 0, 0, 0, 0, 0, 0, 0, 0, 0, 0]\n",
        "my_data = pd.read_csv(\"Arrests_and_Strip_Searches_(RBDC-ARR-TBL-001).csv\")\n",
        "\n",
        "# loop through the data to count the number of arrests in each location for each age group\n",
        "num = 0\n",
        "for i in range(len(my_data)):\n",
        "    \n",
        "    if pd.isnull(my_data[\"Sex\"][i]) or pd.isnull(my_data[\"Age_group__at_arrest_\"][i]) or pd.isnull(my_data[\"ArrestLocDiv\"][i]):\n",
        "        continue\n",
        "    # assign a number to each location for indexing the lists\n",
        "    if my_data[\"ArrestLocDiv\"][i] == '51':\n",
        "        num = 0\n",
        "    elif my_data[\"ArrestLocDiv\"][i] == '14':\n",
        "        num = 1\n",
        "    elif my_data[\"ArrestLocDiv\"][i] == '41':\n",
        "        num = 2\n",
        "    elif my_data[\"ArrestLocDiv\"][i] == '43':\n",
        "        num = 3\n",
        "    elif my_data[\"ArrestLocDiv\"][i] == '52':\n",
        "        num = 4\n",
        "    elif my_data[\"ArrestLocDiv\"][i] == '31':\n",
        "        num = 5\n",
        "    elif my_data[\"ArrestLocDiv\"][i] == '32':\n",
        "        num = 6\n",
        "    elif my_data[\"ArrestLocDiv\"][i] == '12':\n",
        "        num = 7\n",
        "    elif my_data[\"ArrestLocDiv\"][i] == '22':\n",
        "        num = 8\n",
        "    elif my_data[\"ArrestLocDiv\"][i] == '42':\n",
        "        num = 9\n",
        "    elif my_data[\"ArrestLocDiv\"][i] == '11':\n",
        "        num = 10\n",
        "    elif my_data[\"ArrestLocDiv\"][i] == '23':\n",
        "        num = 11\n",
        "    elif my_data[\"ArrestLocDiv\"][i] == '55':\n",
        "        num = 12\n",
        "    elif my_data[\"ArrestLocDiv\"][i] == '54':\n",
        "        num = 13\n",
        "    elif my_data[\"ArrestLocDiv\"][i] == '53':\n",
        "        num = 14\n",
        "    elif my_data[\"ArrestLocDiv\"][i] == '13':\n",
        "        num = 15\n",
        "    elif my_data[\"ArrestLocDiv\"][i] == '33':\n",
        "        num = 16 \n",
        "    # increment the counter for each age group in each location\n",
        "    if my_data[\"Age_group__at_arrest_\"][i].startswith(\"Aged 17\"):\n",
        "        young_arrest[num] += 1\n",
        "    elif my_data[\"Age_group__at_arrest_\"][i].startswith(\"Aged 65\"):\n",
        "        old_arrest[num] += 1\n",
        "\n",
        "print(\"young_arrest\")\n",
        "print(young_arrest)\n",
        "print(\"old_arrest\")\n",
        "print(old_arrest)\n",
        "\n",
        "plt.plot(young_arrest, label=\"young_arrest\")\n",
        "plt.plot(old_arrest, label=\"old_arrest\")\n",
        "plt.legend()\n",
        "\n",
        "# add x-axis and y-axis\n",
        "axes = plt.gca()\n",
        "axes.set_xticks(ticks = [0, 1, 2, 3, 4, 5, 6, 7, 8, 9, 10, 11, 12, 13, 14, 15, 16])\n",
        "axes.set_xticklabels([\"51\", \"14\", \"41\", \"43\", \"52\", \"31\", \"32\", \"12\", \"22\", \"42\", \"11\", \"23\", \"55\", \"54\", \"53\", \"13\", \"33\"])\n",
        "plt.title(\"Number of Arrest for 18-24 and 45-54 Age Groups in Different ArrestLocDic\")  \n",
        "plt.ylabel(\"Number of arrests\")\n",
        "plt.xlabel(\"Area Number\")"
      ]
    },
    {
      "cell_type": "markdown",
      "source": [
        "The line chart above clearly shows that the number of arrests in 18-24 age group is higher than in the 45-54 age group across all locations."
      ],
      "metadata": {
        "id": "4cr8JKg3soWc"
      }
    },
    {
      "cell_type": "code",
      "source": [
        "# Mean and STD of two age groups in different locations\n",
        "print(\"18-24&Locations - mean: {:.2f}, std: {:.2f}\".format(np.mean(young_arrest), np.std(young_arrest)))\n",
        "print(\"45-54&Locations - mean: {:.2f}, std: {:.2f}\".format(np.mean(old_arrest), np.std(old_arrest)))"
      ],
      "metadata": {
        "colab": {
          "base_uri": "https://localhost:8080/"
        },
        "id": "PvXGtQ5bDxWD",
        "outputId": "7c7c265b-b558-4a49-c594-bdd3fed38240"
      },
      "execution_count": 166,
      "outputs": [
        {
          "output_type": "stream",
          "name": "stdout",
          "text": [
            "18-24&Locations - mean: 178.94, std: 64.20\n",
            "45-54&Locations - mean: 77.76, std: 21.77\n"
          ]
        }
      ]
    },
    {
      "cell_type": "code",
      "execution_count": 167,
      "metadata": {
        "id": "SzTclSzgUGhS",
        "colab": {
          "base_uri": "https://localhost:8080/"
        },
        "outputId": "f58cdb87-e4ab-41b2-e214-7a0463bc5223"
      },
      "outputs": [
        {
          "output_type": "execute_result",
          "data": {
            "text/plain": [
              "LeveneResult(statistic=9.105886038370896, pvalue=0.004966249297639591)"
            ]
          },
          "metadata": {},
          "execution_count": 167
        }
      ],
      "source": [
        "# check equal variance\n",
        "stats.levene(young_arrest, old_arrest) "
      ]
    },
    {
      "cell_type": "code",
      "execution_count": 168,
      "metadata": {
        "id": "m23cGAbPUGkb",
        "colab": {
          "base_uri": "https://localhost:8080/"
        },
        "outputId": "cc8b2b14-9c7a-4967-f128-915ebb72c29f"
      },
      "outputs": [
        {
          "output_type": "execute_result",
          "data": {
            "text/plain": [
              "Ttest_indResult(statistic=5.96988799200853, pvalue=1.1842984727517885e-06)"
            ]
          },
          "metadata": {},
          "execution_count": 168
        }
      ],
      "source": [
        "# t-test #4\n",
        "stats.ttest_ind(young_arrest, old_arrest)\n",
        "# Number of arrest in 18-24 age group is higher than that of 45-54 age group in different ArrestLocDic"
      ]
    },
    {
      "cell_type": "markdown",
      "source": [
        "As the p-value is 1.18e-6, which is less than 0.05. Therefore, we can reject the null hypothesis. This indicates that there is a significant difference in the number of arrests in different locations differ between two age groups. "
      ],
      "metadata": {
        "id": "KNIQO9xWHDJ0"
      }
    },
    {
      "cell_type": "markdown",
      "metadata": {
        "id": "XkbRSn3vbhOd"
      },
      "source": [
        "## T-test #5: Comparison of Mean of Arrests in Location 41 and 43\n"
      ]
    },
    {
      "cell_type": "markdown",
      "source": [
        "H0 (Null Hypothesis): The mean number of arrests in both locations is equal.\n",
        "\n",
        "Ha (Alternative Hypothesis): The mean number of arrests in both locations is not equal."
      ],
      "metadata": {
        "id": "P65FtiLsGi35"
      }
    },
    {
      "cell_type": "code",
      "execution_count": 169,
      "metadata": {
        "id": "i5yrp3pTYbq-",
        "colab": {
          "base_uri": "https://localhost:8080/",
          "height": 344
        },
        "outputId": "89dbc457-7c82-48a4-d100-8357b8d14f4c"
      },
      "outputs": [
        {
          "output_type": "execute_result",
          "data": {
            "text/plain": [
              "Text(0.5, 0, 'Quarter, Year')"
            ]
          },
          "metadata": {},
          "execution_count": 169
        },
        {
          "output_type": "display_data",
          "data": {
            "text/plain": [
              "<Figure size 432x288 with 1 Axes>"
            ],
            "image/png": "[encoded data removed]"
          },
          "metadata": {
            "needs_background": "light"
          }
        }
      ],
      "source": [
        "# extract the number of arrests in ArrestLocDic 41 and 43\n",
        "arrestLoc_41 = df[df['ArrestLocDiv'] == '41']\n",
        "arrestLoc_43 = df[df['ArrestLocDiv'] == '43']\n",
        "# number of arrests in ArrestLocDic 41 and 43 for each quarter\n",
        "arrestLoc_41_Num = arrestLoc_41.groupby([\"Quarter\"])[\"ArrestLocDiv\"].value_counts()\n",
        "arrestLoc_43_Num = arrestLoc_43.groupby([\"Quarter\"])[\"ArrestLocDiv\"].value_counts()\n",
        "arrestLoc_41_Num.sort_index(ascending = True).plot(label='Area 41')\n",
        "arrestLoc_43_Num.sort_index(ascending = True).plot(label='Area 43')\n",
        "plt.legend()\n",
        "\n",
        "axes = plt.gca()\n",
        "axes.set_xticks(ticks = [0, 1, 2, 3, 4, 5, 6, 7])\n",
        "axes.set_xticklabels([\"Q1 2020\", \"Q2 2020\", \"Q3 2020\", \"Q4 2020\", \"Q1 2021\", \"Q2 2021\", \"Q3 2021\", \"Q4 2021\"])\n",
        "plt.xticks(rotation = 60)\n",
        "plt.title(\"Number of arrests in ArrestLocDiv 41 and 43 over 8 quarters\") \n",
        "plt.ylabel(\"Num of arrest\")\n",
        "plt.xlabel(\"Quarter, Year\")"
      ]
    },
    {
      "cell_type": "markdown",
      "source": [
        "As we can see from the chart, the number of arrests in location 41 started off lower than that in location 43, but in the last few quarters, the number of arrests in location 42 surpassed that in location 43. We need to conduct a t-test to determine whether there is a significant difference in the mean number of arrests between the location 41 and 43."
      ],
      "metadata": {
        "id": "I3fm3c4OsjLH"
      }
    },
    {
      "cell_type": "code",
      "source": [
        "# Mean and STD of number of arrests in location 41 and 43\n",
        "print(\"Location41 - mean: {:.2f}, std: {:.2f}\".format(np.mean(arrestLoc_41_Num), np.std(arrestLoc_41_Num)))\n",
        "print(\"Location43 - mean: {:.2f}, std: {:.2f}\".format(np.mean(arrestLoc_43_Num), np.std(arrestLoc_43_Num)))"
      ],
      "metadata": {
        "colab": {
          "base_uri": "https://localhost:8080/"
        },
        "id": "daZaRiyLEij4",
        "outputId": "8f9e9f1a-39f7-425c-b3c3-d69780ad60cf"
      },
      "execution_count": 170,
      "outputs": [
        {
          "output_type": "stream",
          "name": "stdout",
          "text": [
            "Location41 - mean: 330.00, std: 33.29\n",
            "Location43 - mean: 325.62, std: 49.86\n"
          ]
        }
      ]
    },
    {
      "cell_type": "code",
      "execution_count": 171,
      "metadata": {
        "id": "OSkh3iB9YbuQ",
        "colab": {
          "base_uri": "https://localhost:8080/"
        },
        "outputId": "4fbe0a3f-7e79-4e7a-c56f-fb24642a6874"
      },
      "outputs": [
        {
          "output_type": "execute_result",
          "data": {
            "text/plain": [
              "LeveneResult(statistic=0.03354081357670087, pvalue=0.8573127865520122)"
            ]
          },
          "metadata": {},
          "execution_count": 171
        }
      ],
      "source": [
        "# check equal variance\n",
        "stats.levene(arrestLoc_41_Num, arrestLoc_43_Num) "
      ]
    },
    {
      "cell_type": "code",
      "execution_count": 172,
      "metadata": {
        "id": "Vf5e2GdFYbw1",
        "colab": {
          "base_uri": "https://localhost:8080/"
        },
        "outputId": "f0b3c6b7-6be8-4031-b930-3dcfa9fb85af"
      },
      "outputs": [
        {
          "output_type": "execute_result",
          "data": {
            "text/plain": [
              "Ttest_indResult(statistic=0.19306061042927, pvalue=0.849684268064064)"
            ]
          },
          "metadata": {},
          "execution_count": 172
        }
      ],
      "source": [
        "# t-test #5\n",
        "stats.ttest_ind(arrestLoc_41_Num, arrestLoc_43_Num) \n",
        "# there is no significant difference between number of arrests in ArrestLocDic 41 and 43"
      ]
    },
    {
      "cell_type": "markdown",
      "source": [
        "The results of the t-test indicated that the P-value is 0.85, which is much greater than the significance level of 0.05. Therefore,we cannot reject the null hypothesis and the findings indicate that there is no significant difference in the mean number of arrests between location 41 and 43. \n"
      ],
      "metadata": {
        "id": "tAWsTXmQG4-a"
      }
    },
    {
      "cell_type": "markdown",
      "metadata": {
        "id": "nwrIVpA8bcz5"
      },
      "source": [
        "# One Way ANOVA #1: Perceived_Race & Number of Arrest \n",
        "\n",
        "\n"
      ]
    },
    {
      "cell_type": "markdown",
      "source": [
        "H_0 (Null Hypothesis): The mean number of arrests across difference races is equal.\n",
        "\n",
        "H_a (Alternative Hypothesis): The mean number of arrests across difference races is not equal."
      ],
      "metadata": {
        "id": "--cBjVkm_GHR"
      }
    },
    {
      "cell_type": "code",
      "execution_count": 173,
      "metadata": {
        "id": "XZOZXYn8HfI8",
        "colab": {
          "base_uri": "https://localhost:8080/"
        },
        "outputId": "0030f152-0072-4caf-d487-6176747913b3"
      },
      "outputs": [
        {
          "output_type": "stream",
          "name": "stdout",
          "text": [
            "One or more means of the perceived races is significantly different than others(p-value: 1.4460e-42)\n"
          ]
        }
      ],
      "source": [
        "from scipy.stats import f_oneway\n",
        "# perform Welch's test to check the difference of mean\n",
        "stat, p = f_oneway(*race_object_dict.values())\n",
        "\n",
        "# print results\n",
        "if p > 0.05:\n",
        "    print(\"There is no significant difference in the means of the perceived races  (p-value: {:.4e})\".format(p))\n",
        "else:\n",
        "    print(\"One or more means of the perceived races is significantly different than others(p-value: {:.4e})\".format(p))\n"
      ]
    },
    {
      "cell_type": "markdown",
      "source": [
        "The one-way ANOVA test we performed indicated a significant difference in the mean number of arrests among different perceived races. Therefore, we can conclude that the number of arrests may be associated with the perceived race of the individuals. The findings are consistent with our literature review, which has shown that people from certain racial groups are more likely to be overrepresented in the criminal justice system. \n"
      ],
      "metadata": {
        "id": "kLVeonRRFrNT"
      }
    },
    {
      "cell_type": "markdown",
      "source": [
        "# One Way ANOVA #2: Comparison of the Mean Number of Arrests Among 6 locations (51,41,43,52,31,32)\n"
      ],
      "metadata": {
        "id": "SKulqj7zNvyk"
      }
    },
    {
      "cell_type": "markdown",
      "source": [
        "H_0 (Null Hypothesis): The mean number of arrests across difference locations is equal.\n",
        "\n",
        "H_a (Alternative Hypothesis): The mean number of arrests across difference locations is not equal."
      ],
      "metadata": {
        "id": "wy_GPXuFAdkz"
      }
    },
    {
      "cell_type": "code",
      "source": [
        "# based on T-test #5, we want to compare the mean number of arrests among 6 locations\n",
        "arrestLoc_51 = df[df['ArrestLocDiv'] == '51']\n",
        "arrestLoc_41 = df[df['ArrestLocDiv'] == '41']\n",
        "arrestLoc_43 = df[df['ArrestLocDiv'] == '43']\n",
        "arrestLoc_52 = df[df['ArrestLocDiv'] == '52']\n",
        "arrestLoc_31 = df[df['ArrestLocDiv'] == '31']\n",
        "arrestLoc_32 = df[df['ArrestLocDiv'] == '32']\n",
        "\n",
        "# counts the number of arrests for each location over 8 quarters\n",
        "arrestLoc_51_Num = arrestLoc_51.groupby([\"Quarter\"])[\"ArrestLocDiv\"].value_counts()\n",
        "arrestLoc_41_Num = arrestLoc_41.groupby([\"Quarter\"])[\"ArrestLocDiv\"].value_counts()\n",
        "arrestLoc_43_Num = arrestLoc_43.groupby([\"Quarter\"])[\"ArrestLocDiv\"].value_counts()\n",
        "arrestLoc_52_Num = arrestLoc_52.groupby([\"Quarter\"])[\"ArrestLocDiv\"].value_counts()\n",
        "arrestLoc_31_Num = arrestLoc_31.groupby([\"Quarter\"])[\"ArrestLocDiv\"].value_counts()\n",
        "arrestLoc_32_Num = arrestLoc_32.groupby([\"Quarter\"])[\"ArrestLocDiv\"].value_counts()\n",
        "arrestLoc_51_Num.sort_index(ascending = True).plot(label='Loc 51')\n",
        "arrestLoc_41_Num.sort_index(ascending = True).plot(label='Loc 41')\n",
        "arrestLoc_43_Num.sort_index(ascending = True).plot(label='Loc 43')\n",
        "arrestLoc_52_Num.sort_index(ascending = True).plot(label='Loc 52')\n",
        "arrestLoc_31_Num.sort_index(ascending = True).plot(label='Loc 31')\n",
        "arrestLoc_32_Num.sort_index(ascending = True).plot(label='Loc 32')\n",
        "plt.legend()\n",
        "\n",
        "# plot the line chart to visualize the number of arrests\n",
        "axes = plt.gca()\n",
        "axes.set_xticks(ticks = [0, 1, 2, 3, 4, 5, 6, 7])\n",
        "axes.set_xticklabels([\"Q1 2020\", \"Q2 2020\", \"Q3 2020\", \"Q4 2020\", \"Q1 2021\", \"Q2 2021\", \"Q3 2021\", \"Q4 2021\"])\n",
        "plt.xticks(rotation = 60)\n",
        "plt.title(\"Number of Arrests for 6 locations over 8 quarters\")\n",
        "plt.ylabel(\"Number of Arrests\")\n",
        "plt.xlabel(\"Quarter, Year\")"
      ],
      "metadata": {
        "colab": {
          "base_uri": "https://localhost:8080/",
          "height": 344
        },
        "id": "TXd60RXmNv_9",
        "outputId": "9fec97a3-9a4b-4c37-a66b-de94d85b6faa"
      },
      "execution_count": 174,
      "outputs": [
        {
          "output_type": "execute_result",
          "data": {
            "text/plain": [
              "Text(0.5, 0, 'Quarter, Year')"
            ]
          },
          "metadata": {},
          "execution_count": 174
        },
        {
          "output_type": "display_data",
          "data": {
            "text/plain": [
              "<Figure size 432x288 with 1 Axes>"
            ],
            "image/png": "[encoded data removed]"
          },
          "metadata": {
            "needs_background": "light"
          }
        }
      ]
    },
    {
      "cell_type": "markdown",
      "source": [
        "As shown in the line chart above, Location 51 has a higher number of arrests compared to the other five locations."
      ],
      "metadata": {
        "id": "KHIKW8-Js8lz"
      }
    },
    {
      "cell_type": "code",
      "source": [
        "statistic, pVal = stats.f_oneway(arrestLoc_51_Num, arrestLoc_41_Num, arrestLoc_43_Num, arrestLoc_52_Num, arrestLoc_31_Num, arrestLoc_32_Num)\n",
        "print(\"statistic:%.2f \"% statistic)\n",
        "print(\"pVal:%e\" % pVal)\n",
        "# The P value is 1.13e-17, which is much smaller than 0.05.\n",
        "# There is a significant difference in the mean number of arrests among 6 locations."
      ],
      "metadata": {
        "colab": {
          "base_uri": "https://localhost:8080/"
        },
        "id": "aNmGNBABPcN6",
        "outputId": "d15fd047-a73a-4fa7-f62a-b2a76d468d94"
      },
      "execution_count": 175,
      "outputs": [
        {
          "output_type": "stream",
          "name": "stdout",
          "text": [
            "statistic:57.30 \n",
            "pVal:1.130738e-17\n"
          ]
        }
      ]
    },
    {
      "cell_type": "code",
      "source": [
        "df_loc = pd.DataFrame({\n",
        "    \"Location\": np.repeat(['Area 51', 'Area 41', 'Area 43', 'Area 52', 'Area 31', 'Area 32'], repeats=8),\n",
        "    \"arrestArea\": arrestLoc_51_Num.tolist() + arrestLoc_41_Num.tolist() + arrestLoc_43_Num.tolist() + arrestLoc_52_Num.tolist() + arrestLoc_31_Num.tolist() + arrestLoc_32_Num.tolist()\n",
        "})\n",
        "# print(df_loc)\n",
        "\n",
        "tukey_loc = pairwise_tukeyhsd(endog=df_loc['arrestArea'], groups=df_loc['Location'], alpha=0.05)\n",
        "\n",
        "print(tukey_loc)\n",
        "\n",
        "# Location 51 exhibits a significant difference in the number of arrests compared to the other five locations."
      ],
      "metadata": {
        "colab": {
          "base_uri": "https://localhost:8080/"
        },
        "id": "oSPWEVRPQjdp",
        "outputId": "693023e0-1c46-4f2f-8896-44acc60c0f3d"
      },
      "execution_count": 176,
      "outputs": [
        {
          "output_type": "stream",
          "name": "stdout",
          "text": [
            "   Multiple Comparison of Means - Tukey HSD, FWER=0.05    \n",
            "==========================================================\n",
            " group1  group2 meandiff p-adj    lower     upper   reject\n",
            "----------------------------------------------------------\n",
            "Area 31 Area 32  -22.375    0.9  -98.9093   54.1593  False\n",
            "Area 31 Area 41   47.125 0.4551  -29.4093  123.6593  False\n",
            "Area 31 Area 43    42.75 0.5527  -33.7843  119.2843  False\n",
            "Area 31 Area 51   345.25  0.001  268.7157  421.7843   True\n",
            "Area 31 Area 52     9.25    0.9  -67.2843   85.7843  False\n",
            "Area 32 Area 41     69.5 0.0942   -7.0343  146.0343  False\n",
            "Area 32 Area 43   65.125 0.1354  -11.4093  141.6593  False\n",
            "Area 32 Area 51  367.625  0.001  291.0907  444.1593   True\n",
            "Area 32 Area 52   31.625 0.7948  -44.9093  108.1593  False\n",
            "Area 41 Area 43   -4.375    0.9  -80.9093   72.1593  False\n",
            "Area 41 Area 51  298.125  0.001  221.5907  374.6593   True\n",
            "Area 41 Area 52  -37.875 0.6587 -114.4093   38.6593  False\n",
            "Area 43 Area 51    302.5  0.001  225.9657  379.0343   True\n",
            "Area 43 Area 52    -33.5  0.754 -110.0343   43.0343  False\n",
            "Area 51 Area 52   -336.0  0.001 -412.5343 -259.4657   True\n",
            "----------------------------------------------------------\n"
          ]
        }
      ]
    },
    {
      "cell_type": "markdown",
      "source": [
        "Location 51 exhibits a significant difference in the number of arrests compared to the other five locations."
      ],
      "metadata": {
        "id": "tzoq3vqutrmM"
      }
    },
    {
      "cell_type": "markdown",
      "metadata": {
        "id": "27wKAkwXcdPr"
      },
      "source": [
        "# Two Way ANOVA #*1*: Perceived_Race & Actions_at_arrest___Cooperative & Number of Arrest "
      ]
    },
    {
      "cell_type": "markdown",
      "source": [
        "H_0 (Null Hypothesis): There is no significant interaction effect or main effect of perceived race, cooperation on number of arrests.\n",
        "\n",
        "H_a (Alternative Hypothesis): There is a significant interaction effect or main effect of perceived race, cooperation on number of arrests."
      ],
      "metadata": {
        "id": "_kLu5B5y_LRd"
      }
    },
    {
      "cell_type": "code",
      "execution_count": 177,
      "metadata": {
        "id": "yyxq7Q_iMxis",
        "colab": {
          "base_uri": "https://localhost:8080/",
          "height": 291
        },
        "outputId": "2d9929a3-86d1-4da9-ae55-328d0c3e4a76"
      },
      "outputs": [
        {
          "output_type": "execute_result",
          "data": {
            "text/plain": [
              "                                                          sum_sq     df  \\\n",
              "C(Perceived_Race)                                   3.778557e+07    7.0   \n",
              "C(Actions_at_arrest___Cooperative)                  3.340509e+05    1.0   \n",
              "C(Perceived_Race):C(Actions_at_arrest___Coopera...  5.828127e+05    7.0   \n",
              "Residual                                            7.915886e+05  112.0   \n",
              "\n",
              "                                                             F        PR(>F)  \n",
              "C(Perceived_Race)                                   763.741623  2.195836e-91  \n",
              "C(Actions_at_arrest___Cooperative)                   47.264077  3.708155e-10  \n",
              "C(Perceived_Race):C(Actions_at_arrest___Coopera...   11.780114  3.617279e-11  \n",
              "Residual                                                   NaN           NaN  "
            ],
            "text/html": [
              "\n",
              "  <div id=\"df-3761903d-fdea-47d7-8657-2b654405331d\">\n",
              "    <div class=\"colab-df-container\">\n",
              "      <div>\n",
              "<style scoped>\n",
              "    .dataframe tbody tr th:only-of-type {\n",
              "        vertical-align: middle;\n",
              "    }\n",
              "\n",
              "    .dataframe tbody tr th {\n",
              "        vertical-align: top;\n",
              "    }\n",
              "\n",
              "    .dataframe thead th {\n",
              "        text-align: right;\n",
              "    }\n",
              "</style>\n",
              "<table border=\"1\" class=\"dataframe\">\n",
              "  <thead>\n",
              "    <tr style=\"text-align: right;\">\n",
              "      <th></th>\n",
              "      <th>sum_sq</th>\n",
              "      <th>df</th>\n",
              "      <th>F</th>\n",
              "      <th>PR(&gt;F)</th>\n",
              "    </tr>\n",
              "  </thead>\n",
              "  <tbody>\n",
              "    <tr>\n",
              "      <th>C(Perceived_Race)</th>\n",
              "      <td>3.778557e+07</td>\n",
              "      <td>7.0</td>\n",
              "      <td>763.741623</td>\n",
              "      <td>2.195836e-91</td>\n",
              "    </tr>\n",
              "    <tr>\n",
              "      <th>C(Actions_at_arrest___Cooperative)</th>\n",
              "      <td>3.340509e+05</td>\n",
              "      <td>1.0</td>\n",
              "      <td>47.264077</td>\n",
              "      <td>3.708155e-10</td>\n",
              "    </tr>\n",
              "    <tr>\n",
              "      <th>C(Perceived_Race):C(Actions_at_arrest___Cooperative)</th>\n",
              "      <td>5.828127e+05</td>\n",
              "      <td>7.0</td>\n",
              "      <td>11.780114</td>\n",
              "      <td>3.617279e-11</td>\n",
              "    </tr>\n",
              "    <tr>\n",
              "      <th>Residual</th>\n",
              "      <td>7.915886e+05</td>\n",
              "      <td>112.0</td>\n",
              "      <td>NaN</td>\n",
              "      <td>NaN</td>\n",
              "    </tr>\n",
              "  </tbody>\n",
              "</table>\n",
              "</div>\n",
              "      <button class=\"colab-df-convert\" onclick=\"convertToInteractive('df-3761903d-fdea-47d7-8657-2b654405331d')\"\n",
              "              title=\"Convert this dataframe to an interactive table.\"\n",
              "              style=\"display:none;\">\n",
              "        \n",
              "  <svg xmlns=\"http://www.w3.org/2000/svg\" height=\"24px\"viewBox=\"0 0 24 24\"\n",
              "       width=\"24px\">\n",
              "    <path d=\"M0 0h24v24H0V0z\" fill=\"none\"/>\n",
              "    <path d=\"M18.56 5.44l.94 2.06.94-2.06 2.06-.94-2.06-.94-.94-2.06-.94 2.06-2.06.94zm-11 1L8.5 8.5l.94-2.06 2.06-.94-2.06-.94L8.5 2.5l-.94 2.06-2.06.94zm10 10l.94 2.06.94-2.06 2.06-.94-2.06-.94-.94-2.06-.94 2.06-2.06.94z\"/><path d=\"M17.41 7.96l-1.37-1.37c-.4-.4-.92-.59-1.43-.59-.52 0-1.04.2-1.43.59L10.3 9.45l-7.72 7.72c-.78.78-.78 2.05 0 2.83L4 21.41c.39.39.9.59 1.41.59.51 0 1.02-.2 1.41-.59l7.78-7.78 2.81-2.81c.8-.78.8-2.07 0-2.86zM5.41 20L4 18.59l7.72-7.72 1.47 1.35L5.41 20z\"/>\n",
              "  </svg>\n",
              "      </button>\n",
              "      \n",
              "  <style>\n",
              "    .colab-df-container {\n",
              "      display:flex;\n",
              "      flex-wrap:wrap;\n",
              "      gap: 12px;\n",
              "    }\n",
              "\n",
              "    .colab-df-convert {\n",
              "      background-color: #E8F0FE;\n",
              "      border: none;\n",
              "      border-radius: 50%;\n",
              "      cursor: pointer;\n",
              "      display: none;\n",
              "      fill: #1967D2;\n",
              "      height: 32px;\n",
              "      padding: 0 0 0 0;\n",
              "      width: 32px;\n",
              "    }\n",
              "\n",
              "    .colab-df-convert:hover {\n",
              "      background-color: #E2EBFA;\n",
              "      box-shadow: 0px 1px 2px rgba(60, 64, 67, 0.3), 0px 1px 3px 1px rgba(60, 64, 67, 0.15);\n",
              "      fill: #174EA6;\n",
              "    }\n",
              "\n",
              "    [theme=dark] .colab-df-convert {\n",
              "      background-color: #3B4455;\n",
              "      fill: #D2E3FC;\n",
              "    }\n",
              "\n",
              "    [theme=dark] .colab-df-convert:hover {\n",
              "      background-color: #434B5C;\n",
              "      box-shadow: 0px 1px 3px 1px rgba(0, 0, 0, 0.15);\n",
              "      filter: drop-shadow(0px 1px 2px rgba(0, 0, 0, 0.3));\n",
              "      fill: #FFFFFF;\n",
              "    }\n",
              "  </style>\n",
              "\n",
              "      <script>\n",
              "        const buttonEl =\n",
              "          document.querySelector('#df-3761903d-fdea-47d7-8657-2b654405331d button.colab-df-convert');\n",
              "        buttonEl.style.display =\n",
              "          google.colab.kernel.accessAllowed ? 'block' : 'none';\n",
              "\n",
              "        async function convertToInteractive(key) {\n",
              "          const element = document.querySelector('#df-3761903d-fdea-47d7-8657-2b654405331d');\n",
              "          const dataTable =\n",
              "            await google.colab.kernel.invokeFunction('convertToInteractive',\n",
              "                                                     [key], {});\n",
              "          if (!dataTable) return;\n",
              "\n",
              "          const docLinkHtml = 'Like what you see? Visit the ' +\n",
              "            '<a target=\"_blank\" href=https://colab.research.google.com/notebooks/data_table.ipynb>data table notebook</a>'\n",
              "            + ' to learn more about interactive tables.';\n",
              "          element.innerHTML = '';\n",
              "          dataTable['output_type'] = 'display_data';\n",
              "          await google.colab.output.renderOutput(dataTable, element);\n",
              "          const docLink = document.createElement('div');\n",
              "          docLink.innerHTML = docLinkHtml;\n",
              "          element.appendChild(docLink);\n",
              "        }\n",
              "      </script>\n",
              "    </div>\n",
              "  </div>\n",
              "  "
            ]
          },
          "metadata": {},
          "execution_count": 177
        }
      ],
      "source": [
        "import statsmodels.api as sm\n",
        "from statsmodels.formula.api import ols\n",
        "\n",
        "# 2 way ANOVA model\n",
        "model = ols('ObjectId ~ C(Perceived_Race) + C(Actions_at_arrest___Cooperative) + C(Perceived_Race):C(Actions_at_arrest___Cooperative)', data=racec).fit()\n",
        "\n",
        "# generate the ANOVA table\n",
        "sm.stats.anova_lm(model, typ=2)\n"
      ]
    },
    {
      "cell_type": "markdown",
      "source": [
        "Based on the test results, perceived race, cooperative or not at arrests and their interaction effects are all statistically significant, as evidenced by their P-values being smaller than 0.05. Among them, the effect of perceived race seems to be the most significant, with a high F statistic, while the interaction effect was relatively small. To further investigate the effects, a Tukey HSD is carried out."
      ],
      "metadata": {
        "id": "gX8gkkKGuKtF"
      }
    },
    {
      "cell_type": "code",
      "execution_count": 178,
      "metadata": {
        "id": "VCQJwpcUORRB",
        "colab": {
          "base_uri": "https://localhost:8080/"
        },
        "outputId": "7e0e7447-4714-473b-ec12-14d4bf6b464f"
      },
      "outputs": [
        {
          "output_type": "stream",
          "name": "stdout",
          "text": [
            "Tukey test for Perceived Race:\n",
            "    Multiple Comparison of Means - Tukey HSD, FWER=0.05     \n",
            "============================================================\n",
            "group1 group2  meandiff  p-adj    lower      upper    reject\n",
            "------------------------------------------------------------\n",
            "     1      2 -1400.3125  0.001 -1530.4567 -1270.1683   True\n",
            "     1      3  -628.4375  0.001  -758.5817  -498.2933   True\n",
            "     1      4 -1488.3125  0.001 -1618.4567 -1358.1683   True\n",
            "     1      5   -1593.75  0.001 -1723.8942 -1463.6058   True\n",
            "     1      6  -1512.125  0.001 -1642.2692 -1381.9808   True\n",
            "     1      7 -1603.4375  0.001 -1733.5817 -1473.2933   True\n",
            "     1      8 -1438.6875  0.001 -1568.8317 -1308.5433   True\n",
            "     2      3    771.875  0.001   641.7308   902.0192   True\n",
            "     2      4      -88.0 0.4325  -218.1442    42.1442  False\n",
            "     2      5  -193.4375  0.001  -323.5817   -63.2933   True\n",
            "     2      6  -111.8125 0.1485  -241.9567    18.3317  False\n",
            "     2      7   -203.125  0.001  -333.2692   -72.9808   True\n",
            "     2      8    -38.375    0.9  -168.5192    91.7692  False\n",
            "     3      4   -859.875  0.001  -990.0192  -729.7308   True\n",
            "     3      5  -965.3125  0.001 -1095.4567  -835.1683   True\n",
            "     3      6  -883.6875  0.001 -1013.8317  -753.5433   True\n",
            "     3      7     -975.0  0.001 -1105.1442  -844.8558   True\n",
            "     3      8    -810.25  0.001  -940.3942  -680.1058   True\n",
            "     4      5  -105.4375 0.2058  -235.5817    24.7067  False\n",
            "     4      6   -23.8125    0.9  -153.9567   106.3317  False\n",
            "     4      7   -115.125 0.1245  -245.2692    15.0192  False\n",
            "     4      8     49.625    0.9   -80.5192   179.7692  False\n",
            "     5      6     81.625 0.5257   -48.5192   211.7692  False\n",
            "     5      7    -9.6875    0.9  -139.8317   120.4567  False\n",
            "     5      8   155.0625 0.0083    24.9183   285.2067   True\n",
            "     6      7   -91.3125 0.3823  -221.4567    38.8317  False\n",
            "     6      8    73.4375 0.6396   -56.7067   203.5817  False\n",
            "     7      8     164.75 0.0038    34.6058   294.8942   True\n",
            "------------------------------------------------------------\n",
            "\n",
            "Tukey test for Cooperation:\n",
            "  Multiple Comparison of Means - Tukey HSD, FWER=0.05  \n",
            "=======================================================\n",
            "group1 group2  meandiff p-adj    lower    upper  reject\n",
            "-------------------------------------------------------\n",
            "     0      1 -102.1719 0.3018 -297.2014 92.8576  False\n",
            "-------------------------------------------------------\n"
          ]
        }
      ],
      "source": [
        "# tukey\n",
        "from statsmodels.stats.multicomp import pairwise_tukeyhsd\n",
        "tukey_race = pairwise_tukeyhsd(endog=racec['ObjectId'], groups=racec['Perceived_Race'], alpha=0.05)\n",
        "tukey_strip = pairwise_tukeyhsd(endog=racec['ObjectId'], groups=racec['Actions_at_arrest___Cooperative'], alpha=0.05)\n",
        "print(\"Tukey test for Perceived Race:\")\n",
        "print(tukey_race)\n",
        "print()\n",
        "print(\"Tukey test for Cooperation:\")\n",
        "print(tukey_strip)"
      ]
    },
    {
      "cell_type": "markdown",
      "source": [
        "The result suggests that the comparison between strip searched or not was not significant, while all possible comparisons of means of perceived race were significant except for two groups. These findings suggest that there are significant differences in the mean values of the dependent variable among different groups based on their perceived race."
      ],
      "metadata": {
        "id": "k2J7of7juOPY"
      }
    },
    {
      "cell_type": "code",
      "source": [
        "# Create the interaction plot\n",
        "fig, ax = plt.subplots(figsize=(12, 8))\n",
        "interaction_plot(x=df[\"Actions_at_arrest___Cooperative\"], trace=df[\"Perceived_Race\"], response=df[\"ObjectId\"], ax=ax)\n",
        "\n",
        "# Rotate x-axis labels\n",
        "plt.xticks(rotation=90)\n",
        "\n",
        "# Add title\n",
        "ax.set_title(\"Interaction between Perceived Race and Cooperation on Number of Arrests\")\n",
        "\n",
        "# Move legend to the right\n",
        "ax.legend(loc='center left', bbox_to_anchor=(1.0, 0.5))\n",
        "\n",
        "# Show the plot\n",
        "plt.show()"
      ],
      "metadata": {
        "colab": {
          "base_uri": "https://localhost:8080/",
          "height": 417
        },
        "id": "sv2yMv0eXcAP",
        "outputId": "d8ddf3d7-840e-4005-9750-8e4f05fbd77e"
      },
      "execution_count": 179,
      "outputs": [
        {
          "output_type": "display_data",
          "data": {
            "text/plain": [
              "<Figure size 864x576 with 1 Axes>"
            ],
            "image/png": "[encoded data removed]"
          },
          "metadata": {
            "needs_background": "light"
          }
        }
      ]
    },
    {
      "cell_type": "markdown",
      "source": [
        "The two-way ANOVA test we performed revealed that perceived race, cooperative or not during arrests and their interaction effects are all statistically significant in relation to the toal number of arrests, which is consistent to the interaction plot where the lines are not parallel. The lines trend in the same direction, indicating a possible positive interaction effect. To further investigate the effects, we conducted a Tukey HSD test, which suggests that there are significant differences in the number of arrests based on perceived race among most groups, while the level of cooperation during arrests did not differ significantly."
      ],
      "metadata": {
        "id": "FYBRslieF4KG"
      }
    },
    {
      "cell_type": "markdown",
      "source": [
        "# Two Way ANOVA #*2*:Perceived_Race & Actions_at_arrest___Cooperative & Strip Search"
      ],
      "metadata": {
        "id": "omNh7gnLt-Cs"
      }
    },
    {
      "cell_type": "markdown",
      "source": [
        "H_0 (Null Hypothesis): There is no significant interaction effect or main effect of perceived race, cooperation on number of strip searches.\n",
        "\n",
        "H_a (Alternative Hypothesis): There is a significant interaction effect or main effect of perceived race, cooperation on number of strip searches.\n"
      ],
      "metadata": {
        "id": "1tgT03hOAWxA"
      }
    },
    {
      "cell_type": "code",
      "source": [
        "# Filter the dataframe by StripSearch == 1\n",
        "ssracec = racesub[racesub['StripSearch'] == 1]\n",
        "# Group the dataframe\n",
        "ssracec = ssracec.groupby(['Arrest_Year','Arrest_Month','Actions_at_arrest___Cooperative','Perceived_Race']).agg({'ObjectId': 'count'}).reset_index()\n",
        "\n",
        "# Create a dictionary to map race names to numbers\n",
        "race_to_number = {\n",
        "    'White': 1,\n",
        "    'Unknown or Legacy': 2,\n",
        "    'Black': 3,\n",
        "    'South Asian': 4,\n",
        "    'Indigenous': 5,\n",
        "    'Middle-Eastern': 6,\n",
        "    'Latino': 7,\n",
        "    'East/Southeast Asian': 8\n",
        "}\n",
        "\n",
        "# Map race names to numbers\n",
        "ssracec['Perceived_Race'] = ssracec['Perceived_Race'].map(race_to_number)\n",
        "ssracec"
      ],
      "metadata": {
        "colab": {
          "base_uri": "https://localhost:8080/",
          "height": 467
        },
        "id": "VaZ_4tD1wZIh",
        "outputId": "c4f08a3b-c26e-4cf2-e797-2a44e23ba3b6"
      },
      "execution_count": 180,
      "outputs": [
        {
          "output_type": "execute_result",
          "data": {
            "text/plain": [
              "     Arrest_Year Arrest_Month  Actions_at_arrest___Cooperative  \\\n",
              "0           2020     Apr-June                                0   \n",
              "1           2020     Apr-June                                0   \n",
              "2           2020     Apr-June                                0   \n",
              "3           2020     Apr-June                                0   \n",
              "4           2020     Apr-June                                0   \n",
              "..           ...          ...                              ...   \n",
              "116         2021      Oct-Dec                                1   \n",
              "117         2021      Oct-Dec                                1   \n",
              "118         2021      Oct-Dec                                1   \n",
              "119         2021      Oct-Dec                                1   \n",
              "120         2021      Oct-Dec                                1   \n",
              "\n",
              "     Perceived_Race  ObjectId  \n",
              "0                 3       298  \n",
              "1                 8        34  \n",
              "2                 5        48  \n",
              "3                 7        14  \n",
              "4                 6        29  \n",
              "..              ...       ...  \n",
              "116               5         2  \n",
              "117               6         3  \n",
              "118               4         1  \n",
              "119               2         3  \n",
              "120               1        25  \n",
              "\n",
              "[121 rows x 5 columns]"
            ],
            "text/html": [
              "\n",
              "  <div id=\"df-84ac3f6e-dc3e-491b-9205-e84585b68c18\">\n",
              "    <div class=\"colab-df-container\">\n",
              "      <div>\n",
              "<style scoped>\n",
              "    .dataframe tbody tr th:only-of-type {\n",
              "        vertical-align: middle;\n",
              "    }\n",
              "\n",
              "    .dataframe tbody tr th {\n",
              "        vertical-align: top;\n",
              "    }\n",
              "\n",
              "    .dataframe thead th {\n",
              "        text-align: right;\n",
              "    }\n",
              "</style>\n",
              "<table border=\"1\" class=\"dataframe\">\n",
              "  <thead>\n",
              "    <tr style=\"text-align: right;\">\n",
              "      <th></th>\n",
              "      <th>Arrest_Year</th>\n",
              "      <th>Arrest_Month</th>\n",
              "      <th>Actions_at_arrest___Cooperative</th>\n",
              "      <th>Perceived_Race</th>\n",
              "      <th>ObjectId</th>\n",
              "    </tr>\n",
              "  </thead>\n",
              "  <tbody>\n",
              "    <tr>\n",
              "      <th>0</th>\n",
              "      <td>2020</td>\n",
              "      <td>Apr-June</td>\n",
              "      <td>0</td>\n",
              "      <td>3</td>\n",
              "      <td>298</td>\n",
              "    </tr>\n",
              "    <tr>\n",
              "      <th>1</th>\n",
              "      <td>2020</td>\n",
              "      <td>Apr-June</td>\n",
              "      <td>0</td>\n",
              "      <td>8</td>\n",
              "      <td>34</td>\n",
              "    </tr>\n",
              "    <tr>\n",
              "      <th>2</th>\n",
              "      <td>2020</td>\n",
              "      <td>Apr-June</td>\n",
              "      <td>0</td>\n",
              "      <td>5</td>\n",
              "      <td>48</td>\n",
              "    </tr>\n",
              "    <tr>\n",
              "      <th>3</th>\n",
              "      <td>2020</td>\n",
              "      <td>Apr-June</td>\n",
              "      <td>0</td>\n",
              "      <td>7</td>\n",
              "      <td>14</td>\n",
              "    </tr>\n",
              "    <tr>\n",
              "      <th>4</th>\n",
              "      <td>2020</td>\n",
              "      <td>Apr-June</td>\n",
              "      <td>0</td>\n",
              "      <td>6</td>\n",
              "      <td>29</td>\n",
              "    </tr>\n",
              "    <tr>\n",
              "      <th>...</th>\n",
              "      <td>...</td>\n",
              "      <td>...</td>\n",
              "      <td>...</td>\n",
              "      <td>...</td>\n",
              "      <td>...</td>\n",
              "    </tr>\n",
              "    <tr>\n",
              "      <th>116</th>\n",
              "      <td>2021</td>\n",
              "      <td>Oct-Dec</td>\n",
              "      <td>1</td>\n",
              "      <td>5</td>\n",
              "      <td>2</td>\n",
              "    </tr>\n",
              "    <tr>\n",
              "      <th>117</th>\n",
              "      <td>2021</td>\n",
              "      <td>Oct-Dec</td>\n",
              "      <td>1</td>\n",
              "      <td>6</td>\n",
              "      <td>3</td>\n",
              "    </tr>\n",
              "    <tr>\n",
              "      <th>118</th>\n",
              "      <td>2021</td>\n",
              "      <td>Oct-Dec</td>\n",
              "      <td>1</td>\n",
              "      <td>4</td>\n",
              "      <td>1</td>\n",
              "    </tr>\n",
              "    <tr>\n",
              "      <th>119</th>\n",
              "      <td>2021</td>\n",
              "      <td>Oct-Dec</td>\n",
              "      <td>1</td>\n",
              "      <td>2</td>\n",
              "      <td>3</td>\n",
              "    </tr>\n",
              "    <tr>\n",
              "      <th>120</th>\n",
              "      <td>2021</td>\n",
              "      <td>Oct-Dec</td>\n",
              "      <td>1</td>\n",
              "      <td>1</td>\n",
              "      <td>25</td>\n",
              "    </tr>\n",
              "  </tbody>\n",
              "</table>\n",
              "<p>121 rows × 5 columns</p>\n",
              "</div>\n",
              "      <button class=\"colab-df-convert\" onclick=\"convertToInteractive('df-84ac3f6e-dc3e-491b-9205-e84585b68c18')\"\n",
              "              title=\"Convert this dataframe to an interactive table.\"\n",
              "              style=\"display:none;\">\n",
              "        \n",
              "  <svg xmlns=\"http://www.w3.org/2000/svg\" height=\"24px\"viewBox=\"0 0 24 24\"\n",
              "       width=\"24px\">\n",
              "    <path d=\"M0 0h24v24H0V0z\" fill=\"none\"/>\n",
              "    <path d=\"M18.56 5.44l.94 2.06.94-2.06 2.06-.94-2.06-.94-.94-2.06-.94 2.06-2.06.94zm-11 1L8.5 8.5l.94-2.06 2.06-.94-2.06-.94L8.5 2.5l-.94 2.06-2.06.94zm10 10l.94 2.06.94-2.06 2.06-.94-2.06-.94-.94-2.06-.94 2.06-2.06.94z\"/><path d=\"M17.41 7.96l-1.37-1.37c-.4-.4-.92-.59-1.43-.59-.52 0-1.04.2-1.43.59L10.3 9.45l-7.72 7.72c-.78.78-.78 2.05 0 2.83L4 21.41c.39.39.9.59 1.41.59.51 0 1.02-.2 1.41-.59l7.78-7.78 2.81-2.81c.8-.78.8-2.07 0-2.86zM5.41 20L4 18.59l7.72-7.72 1.47 1.35L5.41 20z\"/>\n",
              "  </svg>\n",
              "      </button>\n",
              "      \n",
              "  <style>\n",
              "    .colab-df-container {\n",
              "      display:flex;\n",
              "      flex-wrap:wrap;\n",
              "      gap: 12px;\n",
              "    }\n",
              "\n",
              "    .colab-df-convert {\n",
              "      background-color: #E8F0FE;\n",
              "      border: none;\n",
              "      border-radius: 50%;\n",
              "      cursor: pointer;\n",
              "      display: none;\n",
              "      fill: #1967D2;\n",
              "      height: 32px;\n",
              "      padding: 0 0 0 0;\n",
              "      width: 32px;\n",
              "    }\n",
              "\n",
              "    .colab-df-convert:hover {\n",
              "      background-color: #E2EBFA;\n",
              "      box-shadow: 0px 1px 2px rgba(60, 64, 67, 0.3), 0px 1px 3px 1px rgba(60, 64, 67, 0.15);\n",
              "      fill: #174EA6;\n",
              "    }\n",
              "\n",
              "    [theme=dark] .colab-df-convert {\n",
              "      background-color: #3B4455;\n",
              "      fill: #D2E3FC;\n",
              "    }\n",
              "\n",
              "    [theme=dark] .colab-df-convert:hover {\n",
              "      background-color: #434B5C;\n",
              "      box-shadow: 0px 1px 3px 1px rgba(0, 0, 0, 0.15);\n",
              "      filter: drop-shadow(0px 1px 2px rgba(0, 0, 0, 0.3));\n",
              "      fill: #FFFFFF;\n",
              "    }\n",
              "  </style>\n",
              "\n",
              "      <script>\n",
              "        const buttonEl =\n",
              "          document.querySelector('#df-84ac3f6e-dc3e-491b-9205-e84585b68c18 button.colab-df-convert');\n",
              "        buttonEl.style.display =\n",
              "          google.colab.kernel.accessAllowed ? 'block' : 'none';\n",
              "\n",
              "        async function convertToInteractive(key) {\n",
              "          const element = document.querySelector('#df-84ac3f6e-dc3e-491b-9205-e84585b68c18');\n",
              "          const dataTable =\n",
              "            await google.colab.kernel.invokeFunction('convertToInteractive',\n",
              "                                                     [key], {});\n",
              "          if (!dataTable) return;\n",
              "\n",
              "          const docLinkHtml = 'Like what you see? Visit the ' +\n",
              "            '<a target=\"_blank\" href=https://colab.research.google.com/notebooks/data_table.ipynb>data table notebook</a>'\n",
              "            + ' to learn more about interactive tables.';\n",
              "          element.innerHTML = '';\n",
              "          dataTable['output_type'] = 'display_data';\n",
              "          await google.colab.output.renderOutput(dataTable, element);\n",
              "          const docLink = document.createElement('div');\n",
              "          docLink.innerHTML = docLinkHtml;\n",
              "          element.appendChild(docLink);\n",
              "        }\n",
              "      </script>\n",
              "    </div>\n",
              "  </div>\n",
              "  "
            ]
          },
          "metadata": {},
          "execution_count": 180
        }
      ]
    },
    {
      "cell_type": "code",
      "source": [
        "import statsmodels.api as sm\n",
        "from statsmodels.formula.api import ols\n",
        "\n",
        "# 2 way ANOVA model\n",
        "model1 = ols('ObjectId ~ C(Perceived_Race) + C(Actions_at_arrest___Cooperative) + C(Perceived_Race):C(Actions_at_arrest___Cooperative)', data=ssracec).fit()\n",
        "\n",
        "\n",
        "# generate the ANOVA table\n",
        "sm.stats.anova_lm(model1, typ=2)"
      ],
      "metadata": {
        "colab": {
          "base_uri": "https://localhost:8080/",
          "height": 271
        },
        "id": "lZOcjsUtG_H7",
        "outputId": "969ae4ed-b04a-494f-8152-1fc2f4a0800b"
      },
      "execution_count": 181,
      "outputs": [
        {
          "output_type": "execute_result",
          "data": {
            "text/plain": [
              "                                                          sum_sq     df  \\\n",
              "C(Perceived_Race)                                   6.195917e+05    7.0   \n",
              "C(Actions_at_arrest___Cooperative)                  4.830548e+03    1.0   \n",
              "C(Perceived_Race):C(Actions_at_arrest___Coopera...  9.776079e+03    7.0   \n",
              "Residual                                            1.162101e+06  105.0   \n",
              "\n",
              "                                                           F        PR(>F)  \n",
              "C(Perceived_Race)                                   7.997475  9.171208e-08  \n",
              "C(Actions_at_arrest___Cooperative)                  0.436457  5.102842e-01  \n",
              "C(Perceived_Race):C(Actions_at_arrest___Coopera...  0.126186  9.962794e-01  \n",
              "Residual                                                 NaN           NaN  "
            ],
            "text/html": [
              "\n",
              "  <div id=\"df-f0d939c0-1d5b-436b-8979-7e4897263410\">\n",
              "    <div class=\"colab-df-container\">\n",
              "      <div>\n",
              "<style scoped>\n",
              "    .dataframe tbody tr th:only-of-type {\n",
              "        vertical-align: middle;\n",
              "    }\n",
              "\n",
              "    .dataframe tbody tr th {\n",
              "        vertical-align: top;\n",
              "    }\n",
              "\n",
              "    .dataframe thead th {\n",
              "        text-align: right;\n",
              "    }\n",
              "</style>\n",
              "<table border=\"1\" class=\"dataframe\">\n",
              "  <thead>\n",
              "    <tr style=\"text-align: right;\">\n",
              "      <th></th>\n",
              "      <th>sum_sq</th>\n",
              "      <th>df</th>\n",
              "      <th>F</th>\n",
              "      <th>PR(&gt;F)</th>\n",
              "    </tr>\n",
              "  </thead>\n",
              "  <tbody>\n",
              "    <tr>\n",
              "      <th>C(Perceived_Race)</th>\n",
              "      <td>6.195917e+05</td>\n",
              "      <td>7.0</td>\n",
              "      <td>7.997475</td>\n",
              "      <td>9.171208e-08</td>\n",
              "    </tr>\n",
              "    <tr>\n",
              "      <th>C(Actions_at_arrest___Cooperative)</th>\n",
              "      <td>4.830548e+03</td>\n",
              "      <td>1.0</td>\n",
              "      <td>0.436457</td>\n",
              "      <td>5.102842e-01</td>\n",
              "    </tr>\n",
              "    <tr>\n",
              "      <th>C(Perceived_Race):C(Actions_at_arrest___Cooperative)</th>\n",
              "      <td>9.776079e+03</td>\n",
              "      <td>7.0</td>\n",
              "      <td>0.126186</td>\n",
              "      <td>9.962794e-01</td>\n",
              "    </tr>\n",
              "    <tr>\n",
              "      <th>Residual</th>\n",
              "      <td>1.162101e+06</td>\n",
              "      <td>105.0</td>\n",
              "      <td>NaN</td>\n",
              "      <td>NaN</td>\n",
              "    </tr>\n",
              "  </tbody>\n",
              "</table>\n",
              "</div>\n",
              "      <button class=\"colab-df-convert\" onclick=\"convertToInteractive('df-f0d939c0-1d5b-436b-8979-7e4897263410')\"\n",
              "              title=\"Convert this dataframe to an interactive table.\"\n",
              "              style=\"display:none;\">\n",
              "        \n",
              "  <svg xmlns=\"http://www.w3.org/2000/svg\" height=\"24px\"viewBox=\"0 0 24 24\"\n",
              "       width=\"24px\">\n",
              "    <path d=\"M0 0h24v24H0V0z\" fill=\"none\"/>\n",
              "    <path d=\"M18.56 5.44l.94 2.06.94-2.06 2.06-.94-2.06-.94-.94-2.06-.94 2.06-2.06.94zm-11 1L8.5 8.5l.94-2.06 2.06-.94-2.06-.94L8.5 2.5l-.94 2.06-2.06.94zm10 10l.94 2.06.94-2.06 2.06-.94-2.06-.94-.94-2.06-.94 2.06-2.06.94z\"/><path d=\"M17.41 7.96l-1.37-1.37c-.4-.4-.92-.59-1.43-.59-.52 0-1.04.2-1.43.59L10.3 9.45l-7.72 7.72c-.78.78-.78 2.05 0 2.83L4 21.41c.39.39.9.59 1.41.59.51 0 1.02-.2 1.41-.59l7.78-7.78 2.81-2.81c.8-.78.8-2.07 0-2.86zM5.41 20L4 18.59l7.72-7.72 1.47 1.35L5.41 20z\"/>\n",
              "  </svg>\n",
              "      </button>\n",
              "      \n",
              "  <style>\n",
              "    .colab-df-container {\n",
              "      display:flex;\n",
              "      flex-wrap:wrap;\n",
              "      gap: 12px;\n",
              "    }\n",
              "\n",
              "    .colab-df-convert {\n",
              "      background-color: #E8F0FE;\n",
              "      border: none;\n",
              "      border-radius: 50%;\n",
              "      cursor: pointer;\n",
              "      display: none;\n",
              "      fill: #1967D2;\n",
              "      height: 32px;\n",
              "      padding: 0 0 0 0;\n",
              "      width: 32px;\n",
              "    }\n",
              "\n",
              "    .colab-df-convert:hover {\n",
              "      background-color: #E2EBFA;\n",
              "      box-shadow: 0px 1px 2px rgba(60, 64, 67, 0.3), 0px 1px 3px 1px rgba(60, 64, 67, 0.15);\n",
              "      fill: #174EA6;\n",
              "    }\n",
              "\n",
              "    [theme=dark] .colab-df-convert {\n",
              "      background-color: #3B4455;\n",
              "      fill: #D2E3FC;\n",
              "    }\n",
              "\n",
              "    [theme=dark] .colab-df-convert:hover {\n",
              "      background-color: #434B5C;\n",
              "      box-shadow: 0px 1px 3px 1px rgba(0, 0, 0, 0.15);\n",
              "      filter: drop-shadow(0px 1px 2px rgba(0, 0, 0, 0.3));\n",
              "      fill: #FFFFFF;\n",
              "    }\n",
              "  </style>\n",
              "\n",
              "      <script>\n",
              "        const buttonEl =\n",
              "          document.querySelector('#df-f0d939c0-1d5b-436b-8979-7e4897263410 button.colab-df-convert');\n",
              "        buttonEl.style.display =\n",
              "          google.colab.kernel.accessAllowed ? 'block' : 'none';\n",
              "\n",
              "        async function convertToInteractive(key) {\n",
              "          const element = document.querySelector('#df-f0d939c0-1d5b-436b-8979-7e4897263410');\n",
              "          const dataTable =\n",
              "            await google.colab.kernel.invokeFunction('convertToInteractive',\n",
              "                                                     [key], {});\n",
              "          if (!dataTable) return;\n",
              "\n",
              "          const docLinkHtml = 'Like what you see? Visit the ' +\n",
              "            '<a target=\"_blank\" href=https://colab.research.google.com/notebooks/data_table.ipynb>data table notebook</a>'\n",
              "            + ' to learn more about interactive tables.';\n",
              "          element.innerHTML = '';\n",
              "          dataTable['output_type'] = 'display_data';\n",
              "          await google.colab.output.renderOutput(dataTable, element);\n",
              "          const docLink = document.createElement('div');\n",
              "          docLink.innerHTML = docLinkHtml;\n",
              "          element.appendChild(docLink);\n",
              "        }\n",
              "      </script>\n",
              "    </div>\n",
              "  </div>\n",
              "  "
            ]
          },
          "metadata": {},
          "execution_count": 181
        }
      ]
    },
    {
      "cell_type": "markdown",
      "source": [
        "The results of the two-way ANOVA with interaction shows that there is a significant effect of perceived race on the number of strip search, while cooperative or not and the interaction effect are not significant. This suggests that the level of the dependent variable differs significantly among different levels of perceived races."
      ],
      "metadata": {
        "id": "cuo6ELI_uXc-"
      }
    },
    {
      "cell_type": "code",
      "execution_count": 182,
      "metadata": {
        "id": "2bRh6oBPdkkd",
        "colab": {
          "base_uri": "https://localhost:8080/"
        },
        "outputId": "60f9cc35-e0ee-4781-a6b8-d8868571dffd"
      },
      "outputs": [
        {
          "output_type": "stream",
          "name": "stdout",
          "text": [
            "Tukey test for Perceived Race:\n",
            "  Multiple Comparison of Means - Tukey HSD, FWER=0.05   \n",
            "========================================================\n",
            "group1 group2  meandiff p-adj    lower    upper   reject\n",
            "--------------------------------------------------------\n",
            "     1      2 -177.8125  0.001 -289.2379 -66.3871   True\n",
            "     1      3  -64.9375 0.6051 -176.3629  46.4879  False\n",
            "     1      4 -190.9107  0.001  -306.247 -75.5745   True\n",
            "     1      5  -188.125  0.001 -303.4612 -72.7888   True\n",
            "     1      6 -194.3583  0.001 -307.6256 -81.0911   True\n",
            "     1      7 -199.6964  0.001 -315.0327 -84.3602   True\n",
            "     1      8 -188.1875  0.001 -299.6129 -76.7621   True\n",
            "     2      3   112.875 0.0448    1.4496 224.3004   True\n",
            "     2      4  -13.0982    0.9 -128.4345  102.238  False\n",
            "     2      5  -10.3125    0.9 -125.6487 105.0237  False\n",
            "     2      6  -16.5458    0.9 -129.8131  96.7214  False\n",
            "     2      7  -21.8839    0.9 -137.2202  93.4523  False\n",
            "     2      8   -10.375    0.9 -121.8004 101.0504  False\n",
            "     3      4 -125.9732  0.022 -241.3095  -10.637   True\n",
            "     3      5 -123.1875 0.0275 -238.5237  -7.8513   True\n",
            "     3      6 -129.4208 0.0136 -242.6881 -16.1536   True\n",
            "     3      7 -134.7589 0.0105 -250.0952 -19.4227   True\n",
            "     3      8   -123.25 0.0193 -234.6754 -11.8246   True\n",
            "     4      5    2.7857    0.9  -116.333 121.9045  False\n",
            "     4      6   -3.4476    0.9 -120.5642  113.669  False\n",
            "     4      7   -8.7857    0.9 -127.9045  110.333  False\n",
            "     4      8    2.7232    0.9  -112.613 118.0595  False\n",
            "     5      6   -6.2333    0.9   -123.35 110.8833  False\n",
            "     5      7  -11.5714    0.9 -130.6902 107.5473  False\n",
            "     5      8   -0.0625    0.9 -115.3987 115.2737  False\n",
            "     6      7   -5.3381    0.9 -122.4547 111.7785  False\n",
            "     6      8    6.1708    0.9 -107.0964 119.4381  False\n",
            "     7      8   11.5089    0.9 -103.8273 126.8452  False\n",
            "--------------------------------------------------------\n",
            "\n",
            "Tukey test for Strip Search:\n",
            " Multiple Comparison of Means - Tukey HSD, FWER=0.05 \n",
            "=====================================================\n",
            "group1 group2 meandiff p-adj   lower    upper  reject\n",
            "-----------------------------------------------------\n",
            "     0      1  -11.677 0.6112 -55.8514 32.4973  False\n",
            "-----------------------------------------------------\n"
          ]
        }
      ],
      "source": [
        "# tukey\n",
        "from statsmodels.stats.multicomp import pairwise_tukeyhsd\n",
        "# Calculate the Tukey's HSD test for the perceived race and cooperative actions columns\n",
        "tukey_race = pairwise_tukeyhsd(endog=ssracec['ObjectId'], groups=ssracec['Perceived_Race'], alpha=0.05)\n",
        "tukey_strip = pairwise_tukeyhsd(endog=ssracec['ObjectId'], groups=ssracec['Actions_at_arrest___Cooperative'], alpha=0.05)\n",
        "\n",
        "# Print the results of the Tukey's HSD test\n",
        "print(\"Tukey test for Perceived Race:\")\n",
        "print(tukey_race)\n",
        "print()\n",
        "print(\"Tukey test for Strip Search:\")\n",
        "print(tukey_strip)"
      ]
    },
    {
      "cell_type": "markdown",
      "source": [
        "The test revealed that there were significant differences in the mean number of arrests for all pairs of races, except for groups 2 and 3. Specifically, the mean number of strip search for White was significantly lower than that of all other racial groups. The mean number of arrests for individuals in South Asian, Indigenous, Middle Eastern, Latino, East/Southeast Asian were also significantly lower than that of Unknown and Black. There was no significant difference in the mean number of strip search between Black and Unknown people."
      ],
      "metadata": {
        "id": "z6Q7CTOjuahH"
      }
    },
    {
      "cell_type": "code",
      "source": [
        "# Create the interaction plot\n",
        "fig, ax = plt.subplots(figsize=(12, 8))\n",
        "interaction_plot(x=df[\"Actions_at_arrest___Cooperative\"], trace=df[\"Perceived_Race\"], response=df[\"StripSearch\"], ax=ax)\n",
        "\n",
        "# Rotate x-axis labels\n",
        "plt.xticks(rotation=90)\n",
        "\n",
        "# Add title\n",
        "ax.set_title(\"Interaction between Perceived Race and Cooperation on Strip Search\")\n",
        "# Move legend to the right\n",
        "ax.legend(loc='center left', bbox_to_anchor=(1.0, 0.5))\n",
        "\n",
        "# Show the plot\n",
        "plt.show()\n"
      ],
      "metadata": {
        "colab": {
          "base_uri": "https://localhost:8080/",
          "height": 422
        },
        "id": "myXvg1NHG8CP",
        "outputId": "8904c430-8de6-4abd-e182-2f6968e1911a"
      },
      "execution_count": 183,
      "outputs": [
        {
          "output_type": "display_data",
          "data": {
            "text/plain": [
              "<Figure size 864x576 with 1 Axes>"
            ],
            "image/png": "[encoded data removed]"
          },
          "metadata": {
            "needs_background": "light"
          }
        }
      ]
    },
    {
      "cell_type": "markdown",
      "source": [
        "The results indicate that there is no association between cooperation and strip searches. In addition, the finding suggest that the race of an individual may play a role in the number of strip searches made by the police, with certain racial groups being more likely to be sujected to strip searches than others. Note that the lines in the interaction plot are not parallel, however we found no significant maineffect of cooperation, this could due to random variation in the data or other unmeasured factor and small sample size."
      ],
      "metadata": {
        "id": "BVbrAgcoGAc-"
      }
    }
  ],
  "metadata": {
    "colab": {
      "provenance": []
    },
    "kernelspec": {
      "display_name": "Python 3",
      "name": "python3"
    },
    "language_info": {
      "name": "python"
    }
  },
  "nbformat": 4,
  "nbformat_minor": 0
}