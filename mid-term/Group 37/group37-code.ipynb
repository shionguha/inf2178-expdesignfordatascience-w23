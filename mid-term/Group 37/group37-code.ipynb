{
  "nbformat": 4,
  "nbformat_minor": 0,
  "metadata": {
    "colab": {
      "provenance": []
    },
    "kernelspec": {
      "name": "python3",
      "display_name": "Python 3"
    },
    "language_info": {
      "name": "python"
    }
  },
  "cells": [
    {
      "cell_type": "code",
      "source": [
        "import seaborn as sns\n",
        "import matplotlib.pyplot as plt\n",
        "import pandas as pd\n",
        "\n",
        "import statsmodels.api as sm\n",
        "from statsmodels.formula.api import ols\n",
        "import numpy as np\n",
        "from scipy import stats\n",
        "\n",
        "# Create pandas dataframe \n",
        "df1 = pd.read_csv('Arrests_and_Strip_Searches_(RBDC-ARR-TBL-001).csv')\n",
        "\n",
        "# Filter out \"U\" in the \"Sex\" column\n",
        "df2 = df1[df1['Sex'] != 'U']\n",
        "\n",
        "# Group 17 years and under \n",
        "df2['Age_group__at_arrest_'] = df2['Age_group__at_arrest_'].replace('Aged 17 years and younger', 'Aged 17 years and under')\n",
        "df2['Youth_at_arrest__under_18_years'] = df2['Youth_at_arrest__under_18_years'].replace('Youth (aged 17 and younger)', 'Youth (aged 17 years and under)')\n",
        "\n",
        "# Save the updated dataset\n",
        "df2.to_csv('updated_arrests.csv', index=False)\n",
        "\n",
        "# Group the 65 years and older\n",
        "df2['Age_group__at_arrest_'] = df2['Age_group__at_arrest_'].replace('Aged 65 years and older', 'Aged 65 and older')\n",
        "\n",
        "# Save the updated dataset\n",
        "df2.to_csv('updated_arrests.csv', index=False)\n",
        "\n",
        "# Set the new dataframe\n",
        "df = pd.read_csv('updated_arrests.csv')\n",
        "\n",
        "subset = df[['PersonID', 'StripSearch','Sex', 'Perceived_Race','Age_group__at_arrest_','Youth_at_arrest__under_18_years','ArrestLocDiv']].dropna()\n",
        "strip_search_sum = subset.groupby(['PersonID','Sex', 'Perceived_Race', 'Age_group__at_arrest_','Youth_at_arrest__under_18_years'])['StripSearch'].agg('sum').reset_index(name='strip_search_sum').dropna()\n",
        "strip_search_sum = strip_search_sum.sort_values(by='strip_search_sum', ascending=False)\n",
        "\n",
        "print(strip_search_sum)"
      ],
      "metadata": {
        "colab": {
          "base_uri": "https://localhost:8080/"
        },
        "id": "gflyOLmgttah",
        "outputId": "5acfd0a1-c1cc-4f3f-c156-bee45be21c7a"
      },
      "execution_count": 1,
      "outputs": [
        {
          "output_type": "stream",
          "name": "stderr",
          "text": [
            "<ipython-input-1-2b239a4af108>:17: SettingWithCopyWarning: \n",
            "A value is trying to be set on a copy of a slice from a DataFrame.\n",
            "Try using .loc[row_indexer,col_indexer] = value instead\n",
            "\n",
            "See the caveats in the documentation: https://pandas.pydata.org/pandas-docs/stable/user_guide/indexing.html#returning-a-view-versus-a-copy\n",
            "  df2['Age_group__at_arrest_'] = df2['Age_group__at_arrest_'].replace('Aged 17 years and younger', 'Aged 17 years and under')\n",
            "<ipython-input-1-2b239a4af108>:18: SettingWithCopyWarning: \n",
            "A value is trying to be set on a copy of a slice from a DataFrame.\n",
            "Try using .loc[row_indexer,col_indexer] = value instead\n",
            "\n",
            "See the caveats in the documentation: https://pandas.pydata.org/pandas-docs/stable/user_guide/indexing.html#returning-a-view-versus-a-copy\n",
            "  df2['Youth_at_arrest__under_18_years'] = df2['Youth_at_arrest__under_18_years'].replace('Youth (aged 17 and younger)', 'Youth (aged 17 years and under)')\n",
            "<ipython-input-1-2b239a4af108>:24: SettingWithCopyWarning: \n",
            "A value is trying to be set on a copy of a slice from a DataFrame.\n",
            "Try using .loc[row_indexer,col_indexer] = value instead\n",
            "\n",
            "See the caveats in the documentation: https://pandas.pydata.org/pandas-docs/stable/user_guide/indexing.html#returning-a-view-versus-a-copy\n",
            "  df2['Age_group__at_arrest_'] = df2['Age_group__at_arrest_'].replace('Aged 65 years and older', 'Aged 65 and older')\n"
          ]
        },
        {
          "output_type": "stream",
          "name": "stdout",
          "text": [
            "       PersonID Sex     Perceived_Race Age_group__at_arrest_  \\\n",
            "4295     303892   M         Indigenous   Aged 35 to 44 years   \n",
            "40790    337011   M              White   Aged 25 to 34 years   \n",
            "25913    323471   M              Black   Aged 25 to 34 years   \n",
            "27039    324487   M              Black   Aged 45 to 54 years   \n",
            "17318    315676   M              White   Aged 18 to 24 years   \n",
            "...         ...  ..                ...                   ...   \n",
            "14675    313272   F              White   Aged 45 to 54 years   \n",
            "14676    313273   M  Unknown or Legacy   Aged 45 to 54 years   \n",
            "14677    313274   M              Black   Aged 25 to 34 years   \n",
            "14678    313275   M         Indigenous   Aged 45 to 54 years   \n",
            "41153    337346   M              White   Aged 18 to 24 years   \n",
            "\n",
            "      Youth_at_arrest__under_18_years  strip_search_sum  \n",
            "4295                      Not a youth                13  \n",
            "40790                     Not a youth                12  \n",
            "25913                     Not a youth                12  \n",
            "27039                     Not a youth                11  \n",
            "17318                     Not a youth                10  \n",
            "...                               ...               ...  \n",
            "14675                     Not a youth                 0  \n",
            "14676                     Not a youth                 0  \n",
            "14677                     Not a youth                 0  \n",
            "14678                     Not a youth                 0  \n",
            "41153                     Not a youth                 0  \n",
            "\n",
            "[41154 rows x 6 columns]\n"
          ]
        }
      ]
    },
    {
      "cell_type": "code",
      "source": [
        "# Create a larger figure\n",
        "plt.figure(figsize=(10, 8))\n",
        "\n",
        "# Create the bar plot \n",
        "ax = sns.barplot(x= \"Perceived_Race\", y= \"strip_search_sum\", hue= \"Sex\", data = strip_search_sum, palette =['#00876c','#00c2ba'],ci=None)\n",
        "plt.xticks(rotation=90, fontsize=12)\n",
        "\n",
        "# Set the title of the plot\n",
        "ax.set_title(\"Total Strip Searches by Sex and Perceived Race\")\n",
        "\n",
        "# Add labels to the axes\n",
        "ax.set_xlabel(\"Perceived Race\")\n",
        "ax.set_ylabel(\"Total Strip Searches\")\n",
        "\n",
        "# Show the plot\n",
        "plt.show()"
      ],
      "metadata": {
        "colab": {
          "base_uri": "https://localhost:8080/",
          "height": 631
        },
        "id": "P--OQ_iutxwN",
        "outputId": "97accb6f-5b58-409d-a43d-f3ee7787a14a"
      },
      "execution_count": 2,
      "outputs": [
        {
          "output_type": "display_data",
          "data": {
            "text/plain": [
              "<Figure size 720x576 with 1 Axes>"
            ],
            "image/png": "[encoded data removed]"
          },
          "metadata": {
            "needs_background": "light"
          }
        }
      ]
    },
    {
      "cell_type": "code",
      "source": [
        "strip_search_sum = strip_search_sum.sort_values(\"Age_group__at_arrest_\")\n",
        "# Create a larger figure\n",
        "plt.figure(figsize=(10, 8))\n",
        "\n",
        "# Create the bar plot \n",
        "ax = sns.barplot(x= \"Age_group__at_arrest_\", y= \"strip_search_sum\", hue= \"Sex\", data = strip_search_sum, palette =['#00876c','#00c2ba'],ci=None)\n",
        "plt.xticks(rotation=90, fontsize=12)\n",
        "\n",
        "# Set the title of the plot\n",
        "ax.set_title(\"Total Strip Searches by Sex and Age Group\")\n",
        "\n",
        "# Add labels to the axes\n",
        "ax.set_xlabel(\"Age Group\")\n",
        "ax.set_ylabel(\"Total Strip Searches\")\n",
        "\n",
        "# Show the plot\n",
        "plt.show()"
      ],
      "metadata": {
        "colab": {
          "base_uri": "https://localhost:8080/",
          "height": 656
        },
        "id": "1hOOhvKXmlDw",
        "outputId": "8bbfe0e9-b8e8-46f6-861a-57bffd206865"
      },
      "execution_count": 3,
      "outputs": [
        {
          "output_type": "display_data",
          "data": {
            "text/plain": [
              "<Figure size 720x576 with 1 Axes>"
            ],
            "image/png": "[encoded data removed]"
          },
          "metadata": {
            "needs_background": "light"
          }
        }
      ]
    },
    {
      "cell_type": "code",
      "source": [
        "# Create a larger figure\n",
        "plt.figure(figsize=(10, 8))\n",
        "\n",
        "# Create the bar plot \n",
        "ax = sns.barplot(x= \"Youth_at_arrest__under_18_years\", y= \"strip_search_sum\", hue= \"Sex\", data = strip_search_sum, palette =['#00876c','#00c2ba'], ci=None)\n",
        "plt.xticks(rotation=90, fontsize=12)\n",
        "\n",
        "# Set the title of the plot\n",
        "ax.set_title(\"Total Strip Searches by Sex and Youth\")\n",
        "\n",
        "# Add labels to the axes\n",
        "ax.set_xlabel(\"Youth\")\n",
        "ax.set_ylabel(\"Total Strip Searches\")\n",
        "\n",
        "# Show the plot\n",
        "plt.show()"
      ],
      "metadata": {
        "colab": {
          "base_uri": "https://localhost:8080/",
          "height": 701
        },
        "id": "MYCqnDcNq3uN",
        "outputId": "a6810c45-161a-4544-be4d-ea753480412c"
      },
      "execution_count": 4,
      "outputs": [
        {
          "output_type": "display_data",
          "data": {
            "text/plain": [
              "<Figure size 720x576 with 1 Axes>"
            ],
            "image/png": "[encoded data removed]"
          },
          "metadata": {
            "needs_background": "light"
          }
        }
      ]
    },
    {
      "cell_type": "code",
      "source": [
        "# Visualizing the variable \"Stripsearch\" vs \"counts\"\n",
        "plt.figure(figsize=(10, 8))\n",
        "sns.countplot(x = \"StripSearch\", hue = 'Sex', data=df, palette=['pink','skyblue'])\n",
        "plt.xlabel(\"StripSearch (0 = No) (1 = Yes)\")\n",
        "plt.ylabel(\"Count\")\n",
        "plt.title(\"Distribution of StripSearch by Sex\")\n",
        "plt.legend(title=\"Gender\", labels=[\"Male\", \"Female\"])\n",
        "sns.despine()\n",
        "plt.show()\n"
      ],
      "metadata": {
        "colab": {
          "base_uri": "https://localhost:8080/",
          "height": 513
        },
        "id": "8JZDl9-2g7-l",
        "outputId": "8866a239-7313-4810-e6c0-409eef052ec4"
      },
      "execution_count": 5,
      "outputs": [
        {
          "output_type": "display_data",
          "data": {
            "text/plain": [
              "<Figure size 720x576 with 1 Axes>"
            ],
            "image/png": "[encoded data removed]"
          },
          "metadata": {
            "needs_background": "light"
          }
        }
      ]
    },
    {
      "cell_type": "code",
      "source": [
        "# Visualizing \"Race\" vs \"stripsearch\"\n",
        "def Race_vs_Stripsearch():\n",
        "    plt.figure(figsize=(10, 6))\n",
        "    sns.countplot(x= \"Perceived_Race\", hue= \"StripSearch\", data= df, palette= ['olive','royalblue'])\n",
        "    plt.xlabel(\"Race\")\n",
        "    plt.ylabel(\"Count\")\n",
        "    plt.title(\"Race VS Stripsearch\")\n",
        "    plt.legend(title=\"Strip searched\", labels=[\"No\", \"Yes\"])\n",
        "    sns.despine()\n",
        "    plt.show()\n",
        "# Display the chart\n",
        "Race_vs_Stripsearch()\n"
      ],
      "metadata": {
        "colab": {
          "base_uri": "https://localhost:8080/",
          "height": 404
        },
        "id": "7xDQYLuqp_Rd",
        "outputId": "58071fbe-6f84-49f2-c220-e2b6ccdb0e5e"
      },
      "execution_count": 6,
      "outputs": [
        {
          "output_type": "display_data",
          "data": {
            "text/plain": [
              "<Figure size 720x432 with 1 Axes>"
            ],
            "image/png": "[encoded data removed]"
          },
          "metadata": {
            "needs_background": "light"
          }
        }
      ]
    },
    {
      "cell_type": "code",
      "source": [
        "# Visualizing the variable \"Race\" vs \"counts\"\n",
        "\n",
        "def Race_vs_counts():\n",
        "    plt.figure(figsize=(22, 6))\n",
        "    sns.countplot(x=\"Perceived_Race\", hue=\"Sex\", data=df, palette=['pink','skyblue'])\n",
        "    plt.xlabel(\"Perceived Race\")\n",
        "    plt.ylabel(\"Count\")\n",
        "    plt.title(\"Distribution of Race Group\")\n",
        "    plt.legend(title=\"Gender\", labels=[\"Male\", \"Female\"])\n",
        "    sns.despine()\n",
        "    plt.show()\n",
        "\n",
        "Race_vs_counts()"
      ],
      "metadata": {
        "colab": {
          "base_uri": "https://localhost:8080/",
          "height": 404
        },
        "id": "ByuBbE-igVcr",
        "outputId": "f2fe93c1-b8f8-492c-9b10-70c4722d712e"
      },
      "execution_count": 7,
      "outputs": [
        {
          "output_type": "display_data",
          "data": {
            "text/plain": [
              "<Figure size 1584x432 with 1 Axes>"
            ],
            "image/png": "[encoded data removed]"
          },
          "metadata": {
            "needs_background": "light"
          }
        }
      ]
    },
    {
      "cell_type": "code",
      "source": [
        "from tabulate import tabulate\n",
        "\n",
        "# Group by \"Sex\" and \"strip search\"\n",
        "grouped = df.groupby(['Sex', 'StripSearch'])\n",
        "\n",
        "# Descriptive statistics\n",
        "desc_stats = grouped.size().reset_index(name='count')\n",
        "desc_stats['percentage'] = desc_stats['count'] / desc_stats['count'].sum() * 100\n",
        "desc_stats['percentage'] = desc_stats['percentage'].apply(lambda x: '{:.2f}%'.format(x))  # format percentage column\n",
        "\n",
        "# Print the table\n",
        "title = \"Strip Searches by Sex\"\n",
        "print(tabulate(desc_stats, headers='keys', tablefmt='simple', showindex=False, floatfmt='.2f'))\n"
      ],
      "metadata": {
        "id": "r90J8RZ9qbC7",
        "outputId": "07f10f39-da3b-4db1-c260-32f6522eaff6",
        "colab": {
          "base_uri": "https://localhost:8080/"
        }
      },
      "execution_count": 8,
      "outputs": [
        {
          "output_type": "stream",
          "name": "stdout",
          "text": [
            "Sex      StripSearch    count  percentage\n",
            "-----  -------------  -------  ------------\n",
            "F                  0    11334  17.37%\n",
            "F                  1     1283  1.97%\n",
            "M                  0    46132  70.68%\n",
            "M                  1     6518  9.99%\n"
          ]
        }
      ]
    },
    {
      "cell_type": "code",
      "source": [
        "# Visualizing \"ArrestLocDiv\" and \"StripSearch\"\n",
        "grouped = df.groupby(['ArrestLocDiv', 'StripSearch'])['StripSearch'].agg('count')\n",
        "\n",
        "# Reset index and rename column\n",
        "grouped = grouped.reset_index(name='count')\n",
        "\n",
        "# Filter for StripSearch = 1\n",
        "grouped = grouped[grouped['StripSearch'] == 1]\n",
        "\n",
        "# Print the chart \n",
        "plt.figure(figsize=(10, 6))\n",
        "sns.barplot(x='ArrestLocDiv', y='count', data=grouped)\n",
        "plt.title('Count of Strip Search by ArrestLocDiv')\n",
        "plt.xlabel('ArrestLocDiv')\n",
        "plt.ylabel('Strip Search Count')\n",
        "sns.despine()\n",
        "plt.show()"
      ],
      "metadata": {
        "id": "qtJOMF9Ms58M",
        "outputId": "3ac78617-71fc-49b5-88b3-0c58311bf4c1",
        "colab": {
          "base_uri": "https://localhost:8080/",
          "height": 404
        }
      },
      "execution_count": 9,
      "outputs": [
        {
          "output_type": "display_data",
          "data": {
            "text/plain": [
              "<Figure size 720x432 with 1 Axes>"
            ],
            "image/png": "[encoded data removed]"
          },
          "metadata": {
            "needs_background": "light"
          }
        }
      ]
    },
    {
      "cell_type": "code",
      "source": [
        "import matplotlib.pyplot as plt\n",
        "\n",
        "# Group the data by Perceived_Race and StripSearch columns and calculate the sum\n",
        "\n",
        "race_sum = subset.groupby(['Sex', 'Perceived_Race'])['StripSearch'].agg('sum').reset_index(name='race_sum').dropna()\n",
        "\n",
        "\n",
        "sns.set_style(\"whitegrid\")\n",
        "fig, ax = plt.subplots(figsize=(10, 8))\n",
        "\n",
        "# Create the bar plot using seaborn\n",
        "ax = sns.boxplot(data = race_sum, x = \"Perceived_Race\", y=\"race_sum\")\n",
        "plt.xticks(rotation=90, fontsize=12)\n",
        "\n",
        "# Set the title of the plot\n",
        "ax.set_title(\"Total Strip Searches by Perceived Race\")\n",
        "\n",
        "# Add labels to the axes\n",
        "ax.set_xlabel(\"Perceived Race\")\n",
        "ax.set_ylabel(\"Total Strip Searches\")\n",
        "\n",
        "# Show the plot\n",
        "plt.show()\n"
      ],
      "metadata": {
        "id": "hgsduHeRzpAV",
        "outputId": "b320fe8d-26d6-4ec4-eb7b-aa8f35accf3b",
        "colab": {
          "base_uri": "https://localhost:8080/",
          "height": 631
        }
      },
      "execution_count": 10,
      "outputs": [
        {
          "output_type": "display_data",
          "data": {
            "text/plain": [
              "<Figure size 720x576 with 1 Axes>"
            ],
            "image/png": "[encoded data removed]"
          },
          "metadata": {}
        }
      ]
    },
    {
      "cell_type": "code",
      "source": [
        "# Visualizing the variable \"Age\" vs \"stripsearch\"\n",
        "df = df.sort_values(\"Age_group__at_arrest_\")\n",
        "plt.figure(figsize=(22, 6))\n",
        "sns.countplot(x=\"Age_group__at_arrest_\", hue=\"StripSearch\", data=df, palette=['pink','skyblue'])\n",
        "plt.xlabel(\"Age\")\n",
        "plt.ylabel(\"Count\")\n",
        "plt.title(\"Age VS Stripsearch\")\n",
        "plt.legend(title=\"Stripsearched\", labels=[\"No\", \"Yes\"])\n",
        "sns.despine()\n",
        "plt.show()\n"
      ],
      "metadata": {
        "id": "Q82wyu70zpGL",
        "colab": {
          "base_uri": "https://localhost:8080/",
          "height": 404
        },
        "outputId": "e429fc87-61a2-4103-c9bb-812b3386d53f"
      },
      "execution_count": 11,
      "outputs": [
        {
          "output_type": "display_data",
          "data": {
            "text/plain": [
              "<Figure size 1584x432 with 1 Axes>"
            ],
            "image/png": "[encoded data removed]"
          },
          "metadata": {}
        }
      ]
    },
    {
      "cell_type": "code",
      "source": [
        "# Visualizing the variable \"Age\" vs \"counts\"\n",
        "\n",
        "def Age_vs_counts():\n",
        "    plt.figure(figsize=(22, 6))\n",
        "    sns.countplot(x=\"Age_group__at_arrest_\", hue=\"Sex\", data=df, palette=['pink','skyblue'])\n",
        "    plt.xlabel(\"Age\")\n",
        "    plt.ylabel(\"Count\")\n",
        "    plt.title(\"Distribution of Age Group\")\n",
        "    plt.legend(title=\"Gender\", labels=[\"Male\", \"Female\"])\n",
        "    sns.despine()\n",
        "    plt.show()\n",
        "    \n",
        "Age_vs_counts()"
      ],
      "metadata": {
        "id": "n7nWYjywfW6G",
        "colab": {
          "base_uri": "https://localhost:8080/",
          "height": 404
        },
        "outputId": "52c5da67-0f14-4abc-aa6d-5d92ae68863c"
      },
      "execution_count": 12,
      "outputs": [
        {
          "output_type": "display_data",
          "data": {
            "text/plain": [
              "<Figure size 1584x432 with 1 Axes>"
            ],
            "image/png": "[encoded data removed]"
          },
          "metadata": {}
        }
      ]
    },
    {
      "cell_type": "code",
      "source": [
        "# select the subset of columns we need and drop missing values\n",
        "subset = df[['Perceived_Race', 'StripSearch']].dropna()\n",
        "\n",
        "# create a cross-tabulation of the variables\n",
        "table = pd.crosstab(subset['Perceived_Race'], subset['StripSearch'], normalize='index') * 100\n",
        "\n",
        "# format the percentages\n",
        "table = table.applymap(lambda x: '{:.2f}%'.format(x))\n",
        "# rename the columns to \"No\" and \"Yes\"\n",
        "table.columns = ['No', 'Yes']\n",
        "# print the table\n",
        "print(table)"
      ],
      "metadata": {
        "id": "4hcPyqaMbpYw",
        "colab": {
          "base_uri": "https://localhost:8080/"
        },
        "outputId": "e551983c-1334-4d39-c13c-ca9e9466128f"
      },
      "execution_count": 13,
      "outputs": [
        {
          "output_type": "stream",
          "name": "stdout",
          "text": [
            "                          No     Yes\n",
            "Perceived_Race                      \n",
            "Black                 86.11%  13.89%\n",
            "East/Southeast Asian  92.28%   7.72%\n",
            "Indigenous            84.18%  15.82%\n",
            "Latino                92.53%   7.47%\n",
            "Middle-Eastern        92.96%   7.04%\n",
            "South Asian           92.89%   7.11%\n",
            "Unknown or Legacy     89.39%  10.61%\n",
            "White                 87.13%  12.87%\n"
          ]
        }
      ]
    },
    {
      "cell_type": "code",
      "source": [
        "# Combine the two aged 17 years and under into one category  \n",
        "df['Youth_at_arrest__under_18_years'] = df['Youth_at_arrest__under_18_years'].replace('Youth (aged 17 and younger)', 'Youth (aged 17 years and under)')\n",
        "\n",
        "# Visualiza the chart\n",
        "def Youth_at_arrest__under_18_years_vs_Stripsearch():\n",
        "    plt.figure(figsize=(10, 6))\n",
        "    sns.countplot(x=\"Youth_at_arrest__under_18_years\", hue=\"StripSearch\", data=df, palette=['tan','sienna'])\n",
        "    plt.ylabel(\"Count\")\n",
        "    plt.xlabel(\"Youth at arrest\")\n",
        "    plt.title(\"Youth Under 18 VS Stripsearch\")\n",
        "    plt.legend(title=\"Stripsearched\", labels=[\"No\", \"Yes\"])\n",
        "    sns.despine()\n",
        "    plt.show()\n",
        "\n",
        "Youth_at_arrest__under_18_years_vs_Stripsearch()\n"
      ],
      "metadata": {
        "id": "wX04LlE3Wmk4",
        "colab": {
          "base_uri": "https://localhost:8080/",
          "height": 404
        },
        "outputId": "9ebc381f-4e4d-4f99-a7c5-7702254543a2"
      },
      "execution_count": 14,
      "outputs": [
        {
          "output_type": "display_data",
          "data": {
            "text/plain": [
              "<Figure size 720x432 with 1 Axes>"
            ],
            "image/png": "[encoded data removed]"
          },
          "metadata": {}
        }
      ]
    },
    {
      "cell_type": "code",
      "source": [
        "# Visualizing the variable \"Age\" vs \"counts\"\n",
        "\n",
        "def Age_vs_counts():\n",
        "    plt.figure(figsize=(10, 6))\n",
        "    sns.countplot(x=\"Youth_at_arrest__under_18_years\", hue=\"Sex\", data=df, palette=['pink','skyblue'])\n",
        "    plt.xlabel(\"Youth at arrest under 18\")\n",
        "    plt.ylabel(\"Count\")\n",
        "    plt.title(\"Distribution of Youth at Arrest\")\n",
        "    plt.legend(title=\"Gender\", labels=[\"Male\", \"Female\"])\n",
        "    sns.despine()\n",
        "    plt.show()\n",
        "\n",
        "Age_vs_counts()"
      ],
      "metadata": {
        "id": "8PMHCTRyiCyr",
        "colab": {
          "base_uri": "https://localhost:8080/",
          "height": 404
        },
        "outputId": "38a4e949-d182-47e0-e365-7f15d96afc66"
      },
      "execution_count": 15,
      "outputs": [
        {
          "output_type": "display_data",
          "data": {
            "text/plain": [
              "<Figure size 720x432 with 1 Axes>"
            ],
            "image/png": "[encoded data removed]"
          },
          "metadata": {}
        }
      ]
    },
    {
      "cell_type": "code",
      "source": [
        "# Pulled out people who has been strip searched \n",
        "searched_df = df[df['StripSearch'] == 1]\n",
        "searched_df\n",
        "# Find the frequency of each age group that has been strip searched \n",
        "age_freq = searched_df.groupby('Age_group__at_arrest_')['Age_group__at_arrest_'].count()\n",
        "age_freq"
      ],
      "metadata": {
        "id": "Vo3bWEeAgrex",
        "colab": {
          "base_uri": "https://localhost:8080/"
        },
        "outputId": "68c9b9ce-352f-4b5c-8a17-64734cb458c7"
      },
      "execution_count": 16,
      "outputs": [
        {
          "output_type": "execute_result",
          "data": {
            "text/plain": [
              "Age_group__at_arrest_\n",
              "Aged 17 years and under     280\n",
              "Aged 18 to 24 years        1349\n",
              "Aged 25 to 34 years        2771\n",
              "Aged 35 to 44 years        2098\n",
              "Aged 45 to 54 years         905\n",
              "Aged 55 to 64 years         362\n",
              "Aged 65 and older            36\n",
              "Name: Age_group__at_arrest_, dtype: int64"
            ]
          },
          "metadata": {},
          "execution_count": 16
        }
      ]
    },
    {
      "cell_type": "code",
      "source": [
        "clean_sub = df[['PersonID', 'StripSearch','Sex', 'Perceived_Race','Age_group__at_arrest_','Youth_at_arrest__under_18_years']].dropna()\n",
        "\n",
        "# group by person ID and sum up the number of times been strip searched\n",
        "Sum_id = clean_sub.groupby(['PersonID','Sex','Perceived_Race'])['StripSearch'].sum().reset_index(name='StripSearch')\n",
        "\n",
        "# sort Sum_id dataframe in descending order based on StripSearch column\n",
        "Sum_id_sorted = Sum_id.sort_values('StripSearch', ascending=False)\n",
        "\n",
        "# print the results\n",
        "print(Sum_id_sorted)\n",
        "\n",
        "# create the two-way ANOVA model\n",
        "model = ols('StripSearch ~ C(Perceived_Race) + C(Sex) + C(Perceived_Race):C(Sex)', data=Sum_id).fit()\n",
        "# print(model)\n",
        "anova_table = sm.stats.anova_lm(model, typ=2)\n",
        "print(anova_table)"
      ],
      "metadata": {
        "id": "A_sQPoX4uyaT",
        "colab": {
          "base_uri": "https://localhost:8080/"
        },
        "outputId": "27eaf8d7-d542-4d01-895e-2896585f5755"
      },
      "execution_count": 17,
      "outputs": [
        {
          "output_type": "stream",
          "name": "stdout",
          "text": [
            "       PersonID Sex Perceived_Race  StripSearch\n",
            "4210     303892   M     Indigenous           13\n",
            "40033    337011   M          White           12\n",
            "25407    323471   M          Black           12\n",
            "26511    324487   M          Black           11\n",
            "16981    315676   M          White           10\n",
            "...         ...  ..            ...          ...\n",
            "14419    313303   M          White            0\n",
            "14420    313304   M          Black            0\n",
            "14421    313305   M          White            0\n",
            "14422    313306   M          White            0\n",
            "40392    337346   M          White            0\n",
            "\n",
            "[40393 rows x 4 columns]\n",
            "                                sum_sq       df          F         PR(>F)\n",
            "C(Perceived_Race)           198.584238      7.0  72.893792  2.396116e-105\n",
            "C(Sex)                       23.059903      1.0  59.251763   1.418850e-14\n",
            "C(Perceived_Race):C(Sex)     17.456880      7.0   6.407851   1.473674e-07\n",
            "Residual                  15714.126369  40377.0        NaN            NaN\n"
          ]
        }
      ]
    },
    {
      "cell_type": "code",
      "source": [
        "from statsmodels.stats.multicomp import pairwise_tukeyhsd\n",
        "# conduct Tukey's HSD for the Perceived Race variable\n",
        "tukey_race = pairwise_tukeyhsd(endog=Sum_id['StripSearch'], groups=Sum_id['Perceived_Race'], alpha=0.05)\n",
        "print(tukey_race)\n",
        "\n",
        "# conduct Tukey's HSD for the Sex variable\n",
        "tukey_sex = pairwise_tukeyhsd(endog=Sum_id['StripSearch'], groups=Sum_id['Sex'], alpha=0.05)\n",
        "print(tukey_sex)\n",
        "\n",
        "# conduct Tukey's HSD for the interaction effect between Perceived Race and Sex\n",
        "tukey_int = pairwise_tukeyhsd(endog=Sum_id['StripSearch'], groups=Sum_id['Perceived_Race'].astype(str) + Sum_id['Sex'].astype(str), alpha=0.05)\n",
        "print(tukey_int)"
      ],
      "metadata": {
        "colab": {
          "base_uri": "https://localhost:8080/"
        },
        "id": "1tte_o088DiU",
        "outputId": "1aaa550e-673c-4cea-b5c4-a9c27d6590b4"
      },
      "execution_count": 18,
      "outputs": [
        {
          "output_type": "stream",
          "name": "stdout",
          "text": [
            "              Multiple Comparison of Means - Tukey HSD, FWER=0.05               \n",
            "================================================================================\n",
            "       group1               group2        meandiff p-adj   lower   upper  reject\n",
            "--------------------------------------------------------------------------------\n",
            "               Black East/Southeast Asian  -0.1382  0.001 -0.1756 -0.1009   True\n",
            "               Black           Indigenous   0.1373  0.001  0.0684  0.2061   True\n",
            "               Black               Latino  -0.1349  0.001 -0.1909 -0.0788   True\n",
            "               Black       Middle-Eastern  -0.1406  0.001  -0.184 -0.0973   True\n",
            "               Black          South Asian   -0.147  0.001 -0.1872 -0.1068   True\n",
            "               Black    Unknown or Legacy  -0.1151  0.001 -0.1493 -0.0808   True\n",
            "               Black                White  -0.0013    0.9 -0.0255   0.023  False\n",
            "East/Southeast Asian           Indigenous   0.2755  0.001  0.2018  0.3492   True\n",
            "East/Southeast Asian               Latino   0.0034    0.9 -0.0586  0.0653  False\n",
            "East/Southeast Asian       Middle-Eastern  -0.0024    0.9 -0.0531  0.0483  False\n",
            "East/Southeast Asian          South Asian  -0.0087    0.9 -0.0568  0.0394  False\n",
            "East/Southeast Asian    Unknown or Legacy   0.0232 0.7071   -0.02  0.0664  False\n",
            "East/Southeast Asian                White    0.137  0.001  0.1011  0.1728   True\n",
            "          Indigenous               Latino  -0.2721  0.001 -0.3569 -0.1873   True\n",
            "          Indigenous       Middle-Eastern  -0.2779  0.001 -0.3548  -0.201   True\n",
            "          Indigenous          South Asian  -0.2842  0.001 -0.3594  -0.209   True\n",
            "          Indigenous    Unknown or Legacy  -0.2523  0.001 -0.3245 -0.1801   True\n",
            "          Indigenous                White  -0.1385  0.001 -0.2066 -0.0705   True\n",
            "              Latino       Middle-Eastern  -0.0058    0.9 -0.0715  0.0599  False\n",
            "              Latino          South Asian  -0.0121    0.9 -0.0758  0.0516  False\n",
            "              Latino    Unknown or Legacy   0.0198    0.9 -0.0403  0.0799  False\n",
            "              Latino                White   0.1336  0.001  0.0785  0.1886   True\n",
            "      Middle-Eastern          South Asian  -0.0063    0.9 -0.0592  0.0465  False\n",
            "      Middle-Eastern    Unknown or Legacy   0.0256 0.7226 -0.0229   0.074  False\n",
            "      Middle-Eastern                White   0.1394  0.001  0.0974  0.1814   True\n",
            "         South Asian    Unknown or Legacy   0.0319 0.4062 -0.0138  0.0776  False\n",
            "         South Asian                White   0.1457  0.001  0.1069  0.1845   True\n",
            "   Unknown or Legacy                White   0.1138  0.001  0.0812  0.1463   True\n",
            "--------------------------------------------------------------------------------\n",
            "Multiple Comparison of Means - Tukey HSD, FWER=0.05\n",
            "=================================================\n",
            "group1 group2 meandiff p-adj lower  upper  reject\n",
            "-------------------------------------------------\n",
            "     F      M   0.0457 0.001 0.0305 0.0609   True\n",
            "-------------------------------------------------\n",
            "               Multiple Comparison of Means - Tukey HSD, FWER=0.05                \n",
            "==================================================================================\n",
            "        group1                group2        meandiff p-adj   lower   upper  reject\n",
            "----------------------------------------------------------------------------------\n",
            "               BlackF                BlackM   0.1293  0.001  0.0751  0.1834   True\n",
            "               BlackF East/Southeast AsianF   -0.094 0.0721 -0.1913  0.0033  False\n",
            "               BlackF East/Southeast AsianM  -0.0192    0.9 -0.0826  0.0443  False\n",
            "               BlackF           IndigenousF   0.1115 0.2197 -0.0206  0.2436  False\n",
            "               BlackF           IndigenousM   0.3195  0.001  0.2133  0.4257   True\n",
            "               BlackF               LatinoF  -0.0835    0.9 -0.2412  0.0743  False\n",
            "               BlackF               LatinoM  -0.0198    0.9 -0.1011  0.0615  False\n",
            "               BlackF       Middle-EasternF  -0.0713    0.9 -0.2054  0.0628  False\n",
            "               BlackF       Middle-EasternM  -0.0306    0.9 -0.0984  0.0373  False\n",
            "               BlackF          South AsianF  -0.0708 0.7091 -0.1842  0.0426  False\n",
            "               BlackF          South AsianM  -0.0367 0.8506 -0.1022  0.0288  False\n",
            "               BlackF    Unknown or LegacyF  -0.0141    0.9 -0.1037  0.0755  False\n",
            "               BlackF    Unknown or LegacyM  -0.0091    0.9 -0.0697  0.0514  False\n",
            "               BlackF                WhiteF   0.0846  0.001  0.0242  0.1451   True\n",
            "               BlackF                WhiteM   0.1096  0.001   0.057  0.1623   True\n",
            "               BlackM East/Southeast AsianF  -0.2232  0.001 -0.3106 -0.1359   True\n",
            "               BlackM East/Southeast AsianM  -0.1484  0.001 -0.1952 -0.1016   True\n",
            "               BlackM           IndigenousF  -0.0178    0.9 -0.1428  0.1072  False\n",
            "               BlackM           IndigenousM   0.1902  0.001   0.093  0.2875   True\n",
            "               BlackM               LatinoF  -0.2127  0.001 -0.3646 -0.0609   True\n",
            "               BlackM               LatinoM   -0.149  0.001 -0.2182 -0.0799   True\n",
            "               BlackM       Middle-EasternF  -0.2006  0.001 -0.3276 -0.0735   True\n",
            "               BlackM       Middle-EasternM  -0.1598  0.001 -0.2125 -0.1071   True\n",
            "               BlackM          South AsianF  -0.2001  0.001 -0.3051  -0.095   True\n",
            "               BlackM          South AsianM   -0.166  0.001 -0.2155 -0.1164   True\n",
            "               BlackM    Unknown or LegacyF  -0.1433  0.001 -0.2221 -0.0646   True\n",
            "               BlackM    Unknown or LegacyM  -0.1384  0.001 -0.1812 -0.0956   True\n",
            "               BlackM                WhiteF  -0.0446 0.0304 -0.0873 -0.0019   True\n",
            "               BlackM                WhiteM  -0.0196 0.6812 -0.0504  0.0112  False\n",
            "East/Southeast AsianF East/Southeast AsianM   0.0748 0.3025 -0.0186  0.1682  False\n",
            "East/Southeast AsianF           IndigenousF   0.2055  0.001  0.0566  0.3543   True\n",
            "East/Southeast AsianF           IndigenousM   0.4135  0.001   0.287  0.5399   True\n",
            "East/Southeast AsianF               LatinoF   0.0105    0.9 -0.1615  0.1825  False\n",
            "East/Southeast AsianF               LatinoM   0.0742 0.5469 -0.0322  0.1806  False\n",
            "East/Southeast AsianF       Middle-EasternF   0.0227    0.9 -0.1279  0.1733  False\n",
            "East/Southeast AsianF       Middle-EasternM   0.0634 0.6359  -0.033  0.1599  False\n",
            "East/Southeast AsianF          South AsianF   0.0232    0.9 -0.1094  0.1557  False\n",
            "East/Southeast AsianF          South AsianM   0.0573 0.7546 -0.0376  0.1521  False\n",
            "East/Southeast AsianF    Unknown or LegacyF   0.0799 0.5235 -0.0329  0.1927  False\n",
            "East/Southeast AsianF    Unknown or LegacyM   0.0848 0.1055 -0.0066  0.1763  False\n",
            "East/Southeast AsianF                WhiteF   0.1786  0.001  0.0872  0.2701   True\n",
            "East/Southeast AsianF                WhiteM   0.2036  0.001  0.1171  0.2901   True\n",
            "East/Southeast AsianM           IndigenousF   0.1306 0.0448  0.0013    0.26   True\n",
            "East/Southeast AsianM           IndigenousM   0.3387  0.001  0.2359  0.4414   True\n",
            "East/Southeast AsianM               LatinoF  -0.0643    0.9 -0.2197  0.0911  False\n",
            "East/Southeast AsianM               LatinoM  -0.0006    0.9 -0.0773   0.076  False\n",
            "East/Southeast AsianM       Middle-EasternF  -0.0522    0.9 -0.1834  0.0791  False\n",
            "East/Southeast AsianM       Middle-EasternM  -0.0114    0.9 -0.0736  0.0508  False\n",
            "East/Southeast AsianM          South AsianF  -0.0517    0.9 -0.1618  0.0584  False\n",
            "East/Southeast AsianM          South AsianM  -0.0176    0.9 -0.0771   0.042  False\n",
            "East/Southeast AsianM    Unknown or LegacyF   0.0051    0.9 -0.0803  0.0905  False\n",
            "East/Southeast AsianM    Unknown or LegacyM     0.01    0.9 -0.0441  0.0641  False\n",
            "East/Southeast AsianM                WhiteF   0.1038  0.001  0.0498  0.1578   True\n",
            "East/Southeast AsianM                WhiteM   0.1288  0.001  0.0836   0.174   True\n",
            "          IndigenousF           IndigenousM    0.208  0.001  0.0531  0.3629   True\n",
            "          IndigenousF               LatinoF   -0.195 0.0471 -0.3888 -0.0011   True\n",
            "          IndigenousF               LatinoM  -0.1313 0.0887 -0.2702  0.0077  False\n",
            "          IndigenousF       Middle-EasternF  -0.1828 0.0306 -0.3579 -0.0077   True\n",
            "          IndigenousF       Middle-EasternM   -0.142 0.0199 -0.2736 -0.0105   True\n",
            "          IndigenousF          South AsianF  -0.1823 0.0092 -0.3422 -0.0224   True\n",
            "          IndigenousF          South AsianM  -0.1482 0.0096 -0.2785 -0.0179   True\n",
            "          IndigenousF    Unknown or LegacyF  -0.1256 0.1742 -0.2695  0.0184  False\n",
            "          IndigenousF    Unknown or LegacyM  -0.1206 0.0901 -0.2485  0.0073  False\n",
            "          IndigenousF                WhiteF  -0.0268    0.9 -0.1547   0.101  False\n",
            "          IndigenousF                WhiteM  -0.0018    0.9 -0.1262  0.1226  False\n",
            "          IndigenousM               LatinoF   -0.403  0.001 -0.5802 -0.2257   True\n",
            "          IndigenousM               LatinoM  -0.3393  0.001 -0.4539 -0.2247   True\n",
            "          IndigenousM       Middle-EasternF  -0.3908  0.001 -0.5473 -0.2343   True\n",
            "          IndigenousM       Middle-EasternM  -0.3501  0.001 -0.4556 -0.2446   True\n",
            "          IndigenousM          South AsianF  -0.3903  0.001 -0.5296 -0.2511   True\n",
            "          IndigenousM          South AsianM  -0.3562  0.001 -0.4602 -0.2522   True\n",
            "          IndigenousM    Unknown or LegacyF  -0.3336  0.001 -0.4542 -0.2129   True\n",
            "          IndigenousM    Unknown or LegacyM  -0.3286  0.001 -0.4296 -0.2277   True\n",
            "          IndigenousM                WhiteF  -0.2349  0.001 -0.3358 -0.1339   True\n",
            "          IndigenousM                WhiteM  -0.2098  0.001 -0.3063 -0.1134   True\n",
            "              LatinoF               LatinoM   0.0637    0.9 -0.0998  0.2272  False\n",
            "              LatinoF       Middle-EasternF   0.0122    0.9  -0.183  0.2074  False\n",
            "              LatinoF       Middle-EasternM   0.0529    0.9 -0.1043  0.2102  False\n",
            "              LatinoF          South AsianF   0.0127    0.9  -0.169  0.1943  False\n",
            "              LatinoF          South AsianM   0.0468    0.9 -0.1095   0.203  False\n",
            "              LatinoF    Unknown or LegacyF   0.0694    0.9 -0.0984  0.2372  False\n",
            "              LatinoF    Unknown or LegacyM   0.0743    0.9 -0.0799  0.2286  False\n",
            "              LatinoF                WhiteF   0.1681 0.0175  0.0139  0.3223   True\n",
            "              LatinoF                WhiteM   0.1931 0.0013  0.0418  0.3445   True\n",
            "              LatinoM       Middle-EasternF  -0.0515    0.9 -0.1923  0.0893  False\n",
            "              LatinoM       Middle-EasternM  -0.0108    0.9 -0.0911  0.0696  False\n",
            "              LatinoM          South AsianF   -0.051    0.9 -0.1723  0.0703  False\n",
            "              LatinoM          South AsianM  -0.0169    0.9 -0.0953  0.0614  False\n",
            "              LatinoM    Unknown or LegacyF   0.0057    0.9 -0.0937  0.1051  False\n",
            "              LatinoM    Unknown or LegacyM   0.0106    0.9 -0.0636  0.0849  False\n",
            "              LatinoM                WhiteF   0.1044  0.001  0.0302  0.1786   True\n",
            "              LatinoM                WhiteM   0.1294  0.001  0.0614  0.1975   True\n",
            "      Middle-EasternF       Middle-EasternM   0.0408    0.9 -0.0927  0.1742  False\n",
            "      Middle-EasternF          South AsianF   0.0005    0.9  -0.161   0.162  False\n",
            "      Middle-EasternF          South AsianM   0.0346    0.9 -0.0977  0.1669  False\n",
            "      Middle-EasternF    Unknown or LegacyF   0.0572    0.9 -0.0885   0.203  False\n",
            "      Middle-EasternF    Unknown or LegacyM   0.0622    0.9 -0.0678  0.1921  False\n",
            "      Middle-EasternF                WhiteF   0.1559  0.004  0.0261  0.2858   True\n",
            "      Middle-EasternF                WhiteM    0.181  0.001  0.0545  0.3074   True\n",
            "      Middle-EasternM          South AsianF  -0.0403    0.9  -0.153  0.0724  False\n",
            "      Middle-EasternM          South AsianM  -0.0062    0.9 -0.0704  0.0581  False\n",
            "      Middle-EasternM    Unknown or LegacyF   0.0165    0.9 -0.0722  0.1052  False\n",
            "      Middle-EasternM    Unknown or LegacyM   0.0214    0.9 -0.0378  0.0806  False\n",
            "      Middle-EasternM                WhiteF   0.1152  0.001   0.056  0.1744   True\n",
            "      Middle-EasternM                WhiteM   0.1402  0.001   0.089  0.1914   True\n",
            "         South AsianF          South AsianM   0.0341    0.9 -0.0772  0.1454  False\n",
            "         South AsianF    Unknown or LegacyF   0.0567    0.9 -0.0703  0.1837  False\n",
            "         South AsianF    Unknown or LegacyM   0.0617 0.8331 -0.0468  0.1701  False\n",
            "         South AsianF                WhiteF   0.1555  0.001   0.047  0.2639   True\n",
            "         South AsianF                WhiteM   0.1805  0.001  0.0762  0.2848   True\n",
            "         South AsianM    Unknown or LegacyF   0.0226    0.9 -0.0643  0.1096  False\n",
            "         South AsianM    Unknown or LegacyM   0.0276    0.9 -0.0289  0.0841  False\n",
            "         South AsianM                WhiteF   0.1213  0.001  0.0649  0.1778   True\n",
            "         South AsianM                WhiteM   0.1464  0.001  0.0983  0.1944   True\n",
            "   Unknown or LegacyF    Unknown or LegacyM   0.0049    0.9 -0.0783  0.0882  False\n",
            "   Unknown or LegacyF                WhiteF   0.0987 0.0049  0.0155  0.1819   True\n",
            "   Unknown or LegacyF                WhiteM   0.1237  0.001   0.046  0.2015   True\n",
            "   Unknown or LegacyM                WhiteF   0.0938  0.001  0.0432  0.1444   True\n",
            "   Unknown or LegacyM                WhiteM   0.1188  0.001  0.0778  0.1598   True\n",
            "               WhiteF                WhiteM    0.025 0.7382 -0.0159  0.0659  False\n",
            "----------------------------------------------------------------------------------\n"
          ]
        }
      ]
    },
    {
      "cell_type": "code",
      "source": [
        "from statsmodels.graphics.factorplots import interaction_plot\n",
        "# create an interaction plot\n",
        "fig = plt.figure(figsize=(8, 6))\n",
        "sns.set_palette(['red', 'blue'])\n",
        "\n",
        "interaction_plot(x=Sum_id_sorted['Perceived_Race'],\n",
        "                 trace=Sum_id_sorted['Sex'], \n",
        "                 response=Sum_id_sorted['StripSearch'],\n",
        "                 colors=['#4c061d','#d17a22'], \n",
        "                 markers=['o', 's'], \n",
        "                 ms=10)\n",
        "plt.xticks(rotation=90)\n",
        "plt.xlabel('Race')\n",
        "plt.ylabel('Strip Search')\n",
        "plt.title('Interaction between Race and Strip Search by Sex')\n",
        "plt.show()\n",
        "#,'green','yellow','purple','skyblue','olive','black'\n",
        "#, 'D', '^', 'v', '*', 'X', '+'"
      ],
      "metadata": {
        "id": "6mGba9jSwXRg",
        "colab": {
          "base_uri": "https://localhost:8080/",
          "height": 408
        },
        "outputId": "ea0249ac-874c-4c15-af89-f027757eee75"
      },
      "execution_count": 19,
      "outputs": [
        {
          "output_type": "display_data",
          "data": {
            "text/plain": [
              "<Figure size 576x432 with 0 Axes>"
            ]
          },
          "metadata": {}
        },
        {
          "output_type": "display_data",
          "data": {
            "text/plain": [
              "<Figure size 432x288 with 1 Axes>"
            ],
            "image/png": "[encoded data removed]"
          },
          "metadata": {}
        }
      ]
    },
    {
      "cell_type": "code",
      "source": [
        "#one-way ANOVA\n",
        "Sum_id_age = clean_sub.groupby(['PersonID','Age_group__at_arrest_'])['StripSearch'].sum().reset_index(name='StripSearch')\n",
        "\n",
        "model = ols('StripSearch ~ C(Age_group__at_arrest_)', data=Sum_id_age).fit()\n",
        "anova_table = sm.stats.anova_lm(model, typ=2)\n",
        "print(anova_table)"
      ],
      "metadata": {
        "id": "v__0icS7gBJY",
        "outputId": "8098bbd2-3c34-4c80-d363-f5a3522fa566",
        "colab": {
          "base_uri": "https://localhost:8080/"
        }
      },
      "execution_count": 20,
      "outputs": [
        {
          "output_type": "stream",
          "name": "stdout",
          "text": [
            "                                sum_sq       df          F        PR(>F)\n",
            "C(Age_group__at_arrest_)     97.043627      6.0  35.496419  4.343393e-43\n",
            "Residual                  17391.243210  38168.0        NaN           NaN\n"
          ]
        }
      ]
    },
    {
      "cell_type": "code",
      "source": [
        "from statsmodels.stats.multicomp import pairwise_tukeyhsd\n",
        "# perform Tukey's test\n",
        "tukey = pairwise_tukeyhsd(endog=Sum_id_age['StripSearch'],\n",
        "                          groups=Sum_id_age['Age_group__at_arrest_'],\n",
        "                          alpha=0.05)\n",
        "\n",
        "# display results\n",
        "print(tukey)"
      ],
      "metadata": {
        "id": "93Y7LPctqva1",
        "colab": {
          "base_uri": "https://localhost:8080/"
        },
        "outputId": "39a5e206-89df-4c46-cf57-4e0a7dda1a33"
      },
      "execution_count": 21,
      "outputs": [
        {
          "output_type": "stream",
          "name": "stdout",
          "text": [
            "               Multiple Comparison of Means - Tukey HSD, FWER=0.05                \n",
            "==================================================================================\n",
            "         group1                group2       meandiff p-adj   lower   upper  reject\n",
            "----------------------------------------------------------------------------------\n",
            "Aged 17 years and under Aged 18 to 24 years   0.0718  0.001  0.0218  0.1219   True\n",
            "Aged 17 years and under Aged 25 to 34 years   0.1049  0.001  0.0575  0.1523   True\n",
            "Aged 17 years and under Aged 35 to 44 years   0.1103  0.001  0.0616  0.1589   True\n",
            "Aged 17 years and under Aged 45 to 54 years   0.0359 0.3816 -0.0156  0.0873  False\n",
            "Aged 17 years and under Aged 55 to 64 years  -0.0148    0.9 -0.0715  0.0418  False\n",
            "Aged 17 years and under   Aged 65 and older  -0.1005 0.0015 -0.1756 -0.0254   True\n",
            "    Aged 18 to 24 years Aged 25 to 34 years    0.033  0.026  0.0023  0.0638   True\n",
            "    Aged 18 to 24 years Aged 35 to 44 years   0.0384 0.0095  0.0057  0.0711   True\n",
            "    Aged 18 to 24 years Aged 45 to 54 years   -0.036 0.0595 -0.0728  0.0008  False\n",
            "    Aged 18 to 24 years Aged 55 to 64 years  -0.0867  0.001 -0.1304 -0.0429   True\n",
            "    Aged 18 to 24 years   Aged 65 and older  -0.1723  0.001 -0.2382 -0.1065   True\n",
            "    Aged 25 to 34 years Aged 35 to 44 years   0.0054    0.9  -0.023  0.0337  False\n",
            "    Aged 25 to 34 years Aged 45 to 54 years   -0.069  0.001  -0.102 -0.0361   True\n",
            "    Aged 25 to 34 years Aged 55 to 64 years  -0.1197  0.001 -0.1604 -0.0791   True\n",
            "    Aged 25 to 34 years   Aged 65 and older  -0.2054  0.001 -0.2692 -0.1415   True\n",
            "    Aged 35 to 44 years Aged 45 to 54 years  -0.0744  0.001 -0.1092 -0.0397   True\n",
            "    Aged 35 to 44 years Aged 55 to 64 years  -0.1251  0.001 -0.1672  -0.083   True\n",
            "    Aged 35 to 44 years   Aged 65 and older  -0.2108  0.001 -0.2755  -0.146   True\n",
            "    Aged 45 to 54 years Aged 55 to 64 years  -0.0507  0.017  -0.096 -0.0054   True\n",
            "    Aged 45 to 54 years   Aged 65 and older  -0.1363  0.001 -0.2033 -0.0694   True\n",
            "    Aged 55 to 64 years   Aged 65 and older  -0.0857 0.0069 -0.1567 -0.0147   True\n",
            "----------------------------------------------------------------------------------\n"
          ]
        }
      ]
    },
    {
      "cell_type": "code",
      "source": [
        "Sum_id = clean_sub.groupby(['PersonID','Sex','Perceived_Race'])['StripSearch'].sum().reset_index(name='StripSearch')\n",
        "#two-sided t-test\n",
        "male_search = Sum_id[Sum_id['Sex'] == 'M']['StripSearch'].values\n",
        "female_search = Sum_id[Sum_id['Sex'] == 'F']['StripSearch'].values\n",
        "\n",
        "# Conduct t-test\n",
        "t_stat, p_value = stats.ttest_ind(male_search, female_search)\n",
        "\n",
        "# Print results\n",
        "print(\"t-statistic = \", t_stat)\n",
        "print(\"p-value = \", p_value)"
      ],
      "metadata": {
        "id": "aEIZjwCggyv_",
        "colab": {
          "base_uri": "https://localhost:8080/"
        },
        "outputId": "1d87232a-bb77-4474-c333-8343021b7468"
      },
      "execution_count": 22,
      "outputs": [
        {
          "output_type": "stream",
          "name": "stdout",
          "text": [
            "t-statistic =  5.87888675750744\n",
            "p-value =  4.162739318145988e-09\n"
          ]
        }
      ]
    },
    {
      "cell_type": "code",
      "source": [
        "# One-sided, greater than test\n",
        "t_stat, p_value = stats.ttest_ind(male_search, female_search, alternative='greater')\n",
        "\n",
        "print(\"t-statistic = \", t_stat)\n",
        "print(\"p-value = \", p_value)"
      ],
      "metadata": {
        "id": "xdukN3tRrFoS",
        "colab": {
          "base_uri": "https://localhost:8080/"
        },
        "outputId": "4b12ff0a-b567-4b6b-c531-a684c760bdc5"
      },
      "execution_count": 23,
      "outputs": [
        {
          "output_type": "stream",
          "name": "stdout",
          "text": [
            "t-statistic =  5.87888675750744\n",
            "p-value =  2.081369659072994e-09\n"
          ]
        }
      ]
    },
    {
      "cell_type": "code",
      "source": [
        "# One-sided, less than test\n",
        "t_stat, p_value = stats.ttest_ind(male_search, female_search, alternative='less')\n",
        "print(\"t-statistic = \", t_stat)\n",
        "print(\"p-value = \", p_value)"
      ],
      "metadata": {
        "id": "B4eqo_jIsKf5",
        "colab": {
          "base_uri": "https://localhost:8080/"
        },
        "outputId": "d0d71dd4-be8f-477d-8517-ced9173f147b"
      },
      "execution_count": 24,
      "outputs": [
        {
          "output_type": "stream",
          "name": "stdout",
          "text": [
            "t-statistic =  5.87888675750744\n",
            "p-value =  0.9999999979186304\n"
          ]
        }
      ]
    },
    {
      "cell_type": "code",
      "source": [
        "# Two-sided test\n",
        "statistic, pvalue_twosided = stats.ttest_ind(male_search, female_search)\n",
        "\n",
        "# One-sided, greater than test\n",
        "statistic, pvalue_greater = stats.ttest_ind(male_search, female_search, alternative='greater')\n",
        "\n",
        "# One-sided, less than test\n",
        "statistic, pvalue_less = stats.ttest_ind(male_search, female_search, alternative='less')\n",
        "\n",
        "print(pvalue_twosided == pvalue_greater * 2)"
      ],
      "metadata": {
        "id": "P_S2iHs_vfDu",
        "colab": {
          "base_uri": "https://localhost:8080/"
        },
        "outputId": "9c3eea19-7cd9-4547-d6e6-70a4202f0550"
      },
      "execution_count": 25,
      "outputs": [
        {
          "output_type": "stream",
          "name": "stdout",
          "text": [
            "True\n"
          ]
        }
      ]
    },
    {
      "cell_type": "code",
      "source": [
        "print(pvalue_greater + pvalue_less == 1)"
      ],
      "metadata": {
        "id": "zSaPt3UHw0h2",
        "colab": {
          "base_uri": "https://localhost:8080/"
        },
        "outputId": "b156cd5e-651f-42af-f802-39b9c058c375"
      },
      "execution_count": 26,
      "outputs": [
        {
          "output_type": "stream",
          "name": "stdout",
          "text": [
            "True\n"
          ]
        }
      ]
    },
    {
      "cell_type": "code",
      "source": [
        "print(pvalue_less + pvalue_twosided / 2 == 1)"
      ],
      "metadata": {
        "id": "NmsJUIX8wcSX",
        "colab": {
          "base_uri": "https://localhost:8080/"
        },
        "outputId": "c8c7d56a-be7a-48ab-8212-e0e5ababa0be"
      },
      "execution_count": 27,
      "outputs": [
        {
          "output_type": "stream",
          "name": "stdout",
          "text": [
            "True\n"
          ]
        }
      ]
    },
    {
      "cell_type": "code",
      "source": [
        "# Calculate means and standard errors\n",
        "mean_male = male_search.mean()\n",
        "mean_female = female_search.mean()\n",
        "se_male = male_search.std() / np.sqrt(len(male_search))\n",
        "se_female = female_search.std() / np.sqrt(len(female_search))\n",
        "\n",
        "# Calculate standard error of the difference\n",
        "se_diff = np.sqrt(se_male**2 + se_female**2)\n",
        "\n",
        "# Calculate degrees of freedom\n",
        "df = len(male_search) + len(female_search) - 2\n",
        "\n",
        "# Set the confidence level\n",
        "alpha = 0.05\n",
        "\n",
        "# Calculate the t-value for the desired confidence level and degrees of freedom\n",
        "t_crit = abs(stats.t.ppf(alpha/2, df))\n",
        "\n",
        "# Calculate the margin of error\n",
        "moe = t_crit * se_diff\n",
        "\n",
        "# Calculate the confidence interval\n",
        "ci_lower = (mean_male - mean_female) - moe\n",
        "ci_upper = (mean_male - mean_female) + moe\n",
        "\n",
        "print(f\"95% Confidence Interval: ({ci_lower:.2f}, {ci_upper:.2f})\")"
      ],
      "metadata": {
        "id": "VsXLxMXkxNZi",
        "colab": {
          "base_uri": "https://localhost:8080/"
        },
        "outputId": "585fc933-b34f-44f4-ac20-a2b0698d6263"
      },
      "execution_count": 28,
      "outputs": [
        {
          "output_type": "stream",
          "name": "stdout",
          "text": [
            "95% Confidence Interval: (0.03, 0.06)\n"
          ]
        }
      ]
    },
    {
      "cell_type": "code",
      "source": [
        "# Define the margin of equivalence (MOE)\n",
        "MOE = 0.5  # or some other value of interest\n",
        "\n",
        "# Conduct the two one-sided t-tests\n",
        "t_left = (np.mean(male_search) - np.mean(female_search) - MOE) / np.sqrt((np.var(male_search) + np.var(female_search)) / len(male_search))\n",
        "t_right = (np.mean(male_search) - np.mean(female_search) + MOE) / np.sqrt((np.var(male_search) + np.var(female_search)) / len(male_search))\n",
        "\n",
        "# Calculate the p-value for the TOST\n",
        "p_tost = 2 * stats.t.cdf(min(t_left, t_right), df=(len(male_search) + len(female_search) - 2))  \n",
        "\n",
        "# Check if the p-value is less than the significance level alpha\n",
        "alpha = 0.05\n",
        "if p_tost < alpha:\n",
        "    print(\"The null hypothesis of equivalence is rejected.\")\n",
        "else:\n",
        "    print(\"The null hypothesis of equivalence is not rejected.\")"
      ],
      "metadata": {
        "id": "L98gq5_H3gd3",
        "colab": {
          "base_uri": "https://localhost:8080/"
        },
        "outputId": "8b5a3c41-2590-43b8-a471-a9779dba9533"
      },
      "execution_count": 29,
      "outputs": [
        {
          "output_type": "stream",
          "name": "stdout",
          "text": [
            "The null hypothesis of equivalence is rejected.\n"
          ]
        }
      ]
    },
    {
      "cell_type": "code",
      "source": [
        "white_search = Sum_id[Sum_id['Perceived_Race'] == 'Black']['StripSearch'].values\n",
        "black_search = Sum_id[Sum_id['Perceived_Race'] == 'White']['StripSearch'].values\n",
        "\n",
        "# Conduct t-test\n",
        "t_stat, p_value = stats.ttest_ind(white_search, black_search)\n",
        "\n",
        "# Print results\n",
        "print(\"t-statistic = \", t_stat)\n",
        "print(\"p-value = \", p_value)"
      ],
      "metadata": {
        "id": "p3HTXPY1qZUE",
        "colab": {
          "base_uri": "https://localhost:8080/"
        },
        "outputId": "3fe59d92-faa7-4bb7-bc41-72caee9414bb"
      },
      "execution_count": 30,
      "outputs": [
        {
          "output_type": "stream",
          "name": "stdout",
          "text": [
            "t-statistic =  0.1404107406542711\n",
            "p-value =  0.8883365891341579\n"
          ]
        }
      ]
    },
    {
      "cell_type": "code",
      "source": [
        "# One-sided, greater than test\n",
        "t_stat, p_value = stats.ttest_ind(white_search, black_search, alternative='greater')\n",
        "\n",
        "print(\"t-statistic = \", t_stat)\n",
        "print(\"p-value = \", p_value)"
      ],
      "metadata": {
        "id": "-bo9IZit9pqH",
        "colab": {
          "base_uri": "https://localhost:8080/"
        },
        "outputId": "eba7a307-5096-427e-c9e0-2dbf14c941a6"
      },
      "execution_count": 31,
      "outputs": [
        {
          "output_type": "stream",
          "name": "stdout",
          "text": [
            "t-statistic =  0.1404107406542711\n",
            "p-value =  0.44416829456707896\n"
          ]
        }
      ]
    },
    {
      "cell_type": "code",
      "source": [
        "# One-sided, less than test\n",
        "t_stat, p_value = stats.ttest_ind(white_search, black_search, alternative='less')\n",
        "print(\"t-statistic = \", t_stat)\n",
        "print(\"p-value = \", p_value)"
      ],
      "metadata": {
        "id": "mwttrosO9yc1",
        "colab": {
          "base_uri": "https://localhost:8080/"
        },
        "outputId": "fa494a38-511f-4308-9348-abd062f56286"
      },
      "execution_count": 32,
      "outputs": [
        {
          "output_type": "stream",
          "name": "stdout",
          "text": [
            "t-statistic =  0.1404107406542711\n",
            "p-value =  0.555831705432921\n"
          ]
        }
      ]
    },
    {
      "cell_type": "code",
      "source": [
        "# Two-sided test\n",
        "statistic, pvalue_twosided = stats.ttest_ind(white_search, black_search)\n",
        "\n",
        "# One-sided, greater than test\n",
        "statistic, pvalue_greater = stats.ttest_ind(white_search, black_search, alternative='greater')\n",
        "\n",
        "# One-sided, less than test\n",
        "statistic, pvalue_less = stats.ttest_ind(white_search, black_search, alternative='less')\n",
        "\n",
        "print(pvalue_twosided == pvalue_greater * 2)"
      ],
      "metadata": {
        "id": "QbYJzHoU99No",
        "colab": {
          "base_uri": "https://localhost:8080/"
        },
        "outputId": "1f29cfcd-be2d-4635-cfe2-cf9b4b3181fe"
      },
      "execution_count": 33,
      "outputs": [
        {
          "output_type": "stream",
          "name": "stdout",
          "text": [
            "True\n"
          ]
        }
      ]
    },
    {
      "cell_type": "code",
      "source": [
        "print(pvalue_greater + pvalue_less == 1)"
      ],
      "metadata": {
        "id": "4TUDMp1I9_Uo",
        "colab": {
          "base_uri": "https://localhost:8080/"
        },
        "outputId": "81859664-a4d1-46f8-e835-e61eef25facf"
      },
      "execution_count": 34,
      "outputs": [
        {
          "output_type": "stream",
          "name": "stdout",
          "text": [
            "True\n"
          ]
        }
      ]
    },
    {
      "cell_type": "code",
      "source": [
        "print(pvalue_less + pvalue_twosided / 2 == 1)"
      ],
      "metadata": {
        "id": "RyIpe2vw-EIH",
        "colab": {
          "base_uri": "https://localhost:8080/"
        },
        "outputId": "96f8c552-c63a-4935-ac24-7a4e3b64a33c"
      },
      "execution_count": 35,
      "outputs": [
        {
          "output_type": "stream",
          "name": "stdout",
          "text": [
            "True\n"
          ]
        }
      ]
    },
    {
      "cell_type": "code",
      "source": [
        "# Calculate means and standard errors\n",
        "mean_wh = white_search.mean()\n",
        "mean_bla = black_search.mean()\n",
        "se_wh = white_search.std() / np.sqrt(len(white_search))\n",
        "se_bla = black_search.std() / np.sqrt(len(black_search))\n",
        "\n",
        "# Calculate standard error of the difference\n",
        "se_diff = np.sqrt(se_wh**2 + se_bla**2)\n",
        "\n",
        "# Calculate degrees of freedom\n",
        "df = len(white_search) + len(black_search) - 2\n",
        "\n",
        "# Set the confidence level\n",
        "alpha = 0.05\n",
        "\n",
        "# Calculate the t-value for the desired confidence level and degrees of freedom\n",
        "t_crit = abs(stats.t.ppf(alpha/2, df))\n",
        "\n",
        "# Calculate the margin of error\n",
        "moe = t_crit * se_diff\n",
        "\n",
        "# Calculate the confidence interval\n",
        "ci_lower = (mean_wh - mean_bla) - moe\n",
        "ci_upper = (mean_wh - mean_bla) + moe\n",
        "\n",
        "print(f\"95% Confidence Interval: ({ci_lower:.2f}, {ci_upper:.2f})\")\n"
      ],
      "metadata": {
        "id": "C-9l4Eho-Evw",
        "colab": {
          "base_uri": "https://localhost:8080/"
        },
        "outputId": "633d4998-aa5a-4a82-dda6-ff26129fa57e"
      },
      "execution_count": 36,
      "outputs": [
        {
          "output_type": "stream",
          "name": "stdout",
          "text": [
            "95% Confidence Interval: (-0.02, 0.02)\n"
          ]
        }
      ]
    },
    {
      "cell_type": "code",
      "source": [
        "# Define the margin of equivalence (MOE)\n",
        "MOE = 0.5  # or some other value of interest\n",
        "\n",
        "# Conduct the two one-sided t-tests\n",
        "t_left = (np.mean(white_search) - np.mean(black_search) - MOE) / np.sqrt((np.var(white_search) + np.var(black_search)) / len(white_search))\n",
        "t_right = (np.mean(white_search) - np.mean(black_search) + MOE) / np.sqrt((np.var(white_search) + np.var(black_search)) / len(white_search))\n",
        "\n",
        "# Calculate the p-value for the TOST\n",
        "p_tost = 2 * stats.t.cdf(min(t_left, t_right), df=(len(white_search) + len(black_search) - 2))  \n",
        "\n",
        "# Check if the p-value is less than the significance level alpha\n",
        "alpha = 0.05\n",
        "if p_tost < alpha:\n",
        "    print(\"The null hypothesis of equivalence is rejected.\")\n",
        "else:\n",
        "    print(\"The null hypothesis of equivalence is not rejected.\")\n"
      ],
      "metadata": {
        "id": "Jb15p5iU-Krs",
        "colab": {
          "base_uri": "https://localhost:8080/"
        },
        "outputId": "72a05f5b-22d8-46bc-80a5-f88fe8df6fc2"
      },
      "execution_count": 39,
      "outputs": [
        {
          "output_type": "stream",
          "name": "stdout",
          "text": [
            "The null hypothesis of equivalence is rejected.\n"
          ]
        }
      ]
    },
    {
      "cell_type": "code",
      "source": [
        "Sum_id_youth = clean_sub.groupby(['PersonID','Youth_at_arrest__under_18_years'])['StripSearch'].sum().reset_index(name='StripSearch')\n",
        "#two-sided t-test\n",
        "youth_search = Sum_id_youth[Sum_id_youth['Youth_at_arrest__under_18_years'] != 'Not a youth']['StripSearch'].values\n",
        "noty_search = Sum_id_youth[Sum_id_youth['Youth_at_arrest__under_18_years'] == 'Not a youth']['StripSearch'].values\n",
        "\n",
        "# Conduct t-test\n",
        "t_stat, p_value = stats.ttest_ind(youth_search, noty_search)\n",
        "\n",
        "# Print results\n",
        "print(\"t-statistic = \", t_stat)\n",
        "print(\"p-value = \", p_value)\n"
      ],
      "metadata": {
        "colab": {
          "base_uri": "https://localhost:8080/"
        },
        "id": "ql-7luyot1jY",
        "outputId": "176fda00-a709-4389-e067-698f60307245"
      },
      "execution_count": 40,
      "outputs": [
        {
          "output_type": "stream",
          "name": "stdout",
          "text": [
            "t-statistic =  -5.034960394701557\n",
            "p-value =  4.801627170247833e-07\n"
          ]
        }
      ]
    },
    {
      "cell_type": "code",
      "source": [
        "# One-sided, greater than test\n",
        "t_stat, p_value = stats.ttest_ind(youth_search, noty_search, alternative='greater')\n",
        "\n",
        "print(\"t-statistic = \", t_stat)\n",
        "print(\"p-value = \", p_value)"
      ],
      "metadata": {
        "colab": {
          "base_uri": "https://localhost:8080/"
        },
        "id": "ad-wGGiBweS4",
        "outputId": "bc1d4329-5c3a-4932-dd10-285a152533c7"
      },
      "execution_count": 41,
      "outputs": [
        {
          "output_type": "stream",
          "name": "stdout",
          "text": [
            "t-statistic =  -5.034960394701557\n",
            "p-value =  0.9999997599186414\n"
          ]
        }
      ]
    },
    {
      "cell_type": "code",
      "source": [
        "# One-sided, less than test\n",
        "t_stat, p_value = stats.ttest_ind(youth_search, noty_search, alternative='less')\n",
        "print(\"t-statistic = \", t_stat)\n",
        "print(\"p-value = \", p_value)"
      ],
      "metadata": {
        "colab": {
          "base_uri": "https://localhost:8080/"
        },
        "id": "tQcTV_8rwoS7",
        "outputId": "3f1ffe8b-9a45-4c71-eb9f-c845ce67a779"
      },
      "execution_count": 42,
      "outputs": [
        {
          "output_type": "stream",
          "name": "stdout",
          "text": [
            "t-statistic =  -5.034960394701557\n",
            "p-value =  2.4008135851239164e-07\n"
          ]
        }
      ]
    },
    {
      "cell_type": "code",
      "source": [
        "# Two-sided test\n",
        "statistic, pvalue_twosided = stats.ttest_ind(youth_search, noty_search)\n",
        "\n",
        "# One-sided, greater than test\n",
        "statistic, pvalue_greater = stats.ttest_ind(youth_search, noty_search, alternative='greater')\n",
        "\n",
        "# One-sided, less than test\n",
        "statistic, pvalue_less = stats.ttest_ind(youth_search, noty_search, alternative='less')\n",
        "\n",
        "print(pvalue_twosided == pvalue_greater * 2)"
      ],
      "metadata": {
        "colab": {
          "base_uri": "https://localhost:8080/"
        },
        "id": "isiRPr9wwrmI",
        "outputId": "adc71b9f-7d77-4c5d-fc08-d12d6ca07d08"
      },
      "execution_count": 43,
      "outputs": [
        {
          "output_type": "stream",
          "name": "stdout",
          "text": [
            "False\n"
          ]
        }
      ]
    },
    {
      "cell_type": "code",
      "source": [
        "print(pvalue_greater + pvalue_less == 1)"
      ],
      "metadata": {
        "colab": {
          "base_uri": "https://localhost:8080/"
        },
        "id": "P8yPOAHtwvmP",
        "outputId": "91fdfcb2-b80b-47d0-a507-febeb6d64609"
      },
      "execution_count": 44,
      "outputs": [
        {
          "output_type": "stream",
          "name": "stdout",
          "text": [
            "False\n"
          ]
        }
      ]
    },
    {
      "cell_type": "code",
      "source": [
        "print(pvalue_less + pvalue_twosided / 2 == 1)"
      ],
      "metadata": {
        "colab": {
          "base_uri": "https://localhost:8080/"
        },
        "id": "ZD1Lmjj0wx8G",
        "outputId": "3ca4eef3-3bdc-409b-c509-64a103373fef"
      },
      "execution_count": null,
      "outputs": [
        {
          "output_type": "stream",
          "name": "stdout",
          "text": [
            "False\n"
          ]
        }
      ]
    },
    {
      "cell_type": "code",
      "source": [
        "# Calculate means and standard errors\n",
        "mean_youth = youth_search.mean()\n",
        "mean_noty = noty_search.mean()\n",
        "se_youth = youth_search.std() / np.sqrt(len(youth_search))\n",
        "se_noty = noty_search.std() / np.sqrt(len(noty_search))\n",
        "\n",
        "# Calculate standard error of the difference\n",
        "se_diff = np.sqrt(se_youth**2 + se_noty**2)\n",
        "\n",
        "# Calculate degrees of freedom\n",
        "df = len(youth_search) + len(noty_search) - 2\n",
        "\n",
        "# Set the confidence level\n",
        "alpha = 0.05\n",
        "\n",
        "# Calculate the t-value for the desired confidence level and degrees of freedom\n",
        "t_crit = abs(stats.t.ppf(alpha/2, df))\n",
        "\n",
        "# Calculate the margin of error\n",
        "moe = t_crit * se_diff\n",
        "\n",
        "# Calculate the confidence interval\n",
        "ci_lower = (mean_youth - mean_noty) - moe\n",
        "ci_upper = (mean_youth - mean_noty) + moe\n",
        "\n",
        "print(f\"95% Confidence Interval: ({ci_lower:.2f}, {ci_upper:.2f})\")\n"
      ],
      "metadata": {
        "colab": {
          "base_uri": "https://localhost:8080/"
        },
        "id": "Z4KS8M8YwyYM",
        "outputId": "1063cb8d-e9b4-40ba-98e4-f55fa8838d07"
      },
      "execution_count": 45,
      "outputs": [
        {
          "output_type": "stream",
          "name": "stdout",
          "text": [
            "95% Confidence Interval: (-0.10, -0.06)\n"
          ]
        }
      ]
    },
    {
      "cell_type": "code",
      "source": [
        "# Define the margin of equivalence (MOE)\n",
        "MOE = 0.5  # or some other value of interest\n",
        "\n",
        "# Conduct the two one-sided t-tests\n",
        "t_left = (np.mean(youth_search) - np.mean(noty_search) - MOE) / np.sqrt((np.var(youth_search) + np.var(noty_search)) / len(youth_search))\n",
        "t_right = (np.mean(youth_search) - np.mean(noty_search) + MOE) / np.sqrt((np.var(youth_search) + np.var(noty_search)) / len(youth_search))\n",
        "\n",
        "# Calculate the p-value for the TOST\n",
        "p_tost = 2 * stats.t.cdf(min(t_left, t_right), df=(len(youth_search) + len(noty_search) - 2))  \n",
        "\n",
        "# Check if the p-value is less than the significance level alpha\n",
        "alpha = 0.05\n",
        "if p_tost < alpha:\n",
        "    print(\"The null hypothesis of equivalence is rejected.\")\n",
        "else:\n",
        "    print(\"The null hypothesis of equivalence is not rejected.\")\n"
      ],
      "metadata": {
        "colab": {
          "base_uri": "https://localhost:8080/"
        },
        "id": "-qL5cRTIwyr0",
        "outputId": "e78a01c4-0802-4280-a6a1-90fb143a3ea0"
      },
      "execution_count": 46,
      "outputs": [
        {
          "output_type": "stream",
          "name": "stdout",
          "text": [
            "The null hypothesis of equivalence is rejected.\n"
          ]
        }
      ]
    },
    {
      "cell_type": "code",
      "source": [
        "# Two-sided t-test\n",
        "yoage_search = Sum_id_age[Sum_id_age['Age_group__at_arrest_'] == 'Aged 18 to 24 years']['StripSearch'].values\n",
        "midage_search = Sum_id_age[Sum_id_age['Age_group__at_arrest_'] == 'Aged 35 to 44 years']['StripSearch'].values\n",
        "\n",
        "# Conduct t-test\n",
        "t_stat, p_value = stats.ttest_ind(yoage_search, midage_search)\n",
        "\n",
        "# Print results\n",
        "print(\"t-statistic = \", t_stat)\n",
        "print(\"p-value = \", p_value)"
      ],
      "metadata": {
        "colab": {
          "base_uri": "https://localhost:8080/"
        },
        "id": "ajx2FIXjw5MP",
        "outputId": "ac9c571d-8b93-4b25-b89a-e2e8d711ea22"
      },
      "execution_count": 48,
      "outputs": [
        {
          "output_type": "stream",
          "name": "stdout",
          "text": [
            "t-statistic =  -3.2544966653608\n",
            "p-value =  0.0011384330855313497\n"
          ]
        }
      ]
    },
    {
      "cell_type": "code",
      "source": [
        "# One-sided, greater than test\n",
        "t_stat, p_value = stats.ttest_ind(yoage_search, midage_search, alternative='greater')\n",
        "\n",
        "print(\"t-statistic = \", t_stat)\n",
        "print(\"p-value = \", p_value)"
      ],
      "metadata": {
        "colab": {
          "base_uri": "https://localhost:8080/"
        },
        "id": "1OW8ZhRjyvxr",
        "outputId": "47674fc1-9d03-40ec-80d2-7a06e9b096eb"
      },
      "execution_count": 49,
      "outputs": [
        {
          "output_type": "stream",
          "name": "stdout",
          "text": [
            "t-statistic =  -3.2544966653608\n",
            "p-value =  0.9994307834572344\n"
          ]
        }
      ]
    },
    {
      "cell_type": "code",
      "source": [
        "# One-sided, less than test\n",
        "t_stat, p_value = stats.ttest_ind(yoage_search, midage_search, alternative='less')\n",
        "print(\"t-statistic = \", t_stat)\n",
        "print(\"p-value = \", p_value)"
      ],
      "metadata": {
        "colab": {
          "base_uri": "https://localhost:8080/"
        },
        "id": "eu2sz5I8yvk_",
        "outputId": "ed4037b3-68ae-4f7b-98ef-73e551eb2852"
      },
      "execution_count": 50,
      "outputs": [
        {
          "output_type": "stream",
          "name": "stdout",
          "text": [
            "t-statistic =  -3.2544966653608\n",
            "p-value =  0.0005692165427656748\n"
          ]
        }
      ]
    },
    {
      "cell_type": "code",
      "source": [
        "# Two-sided test\n",
        "statistic, pvalue_twosided = stats.ttest_ind(yoage_search, midage_search)\n",
        "\n",
        "# One-sided, greater than test\n",
        "statistic, pvalue_greater = stats.ttest_ind(yoage_search, midage_search, alternative='greater')\n",
        "\n",
        "# One-sided, less than test\n",
        "statistic, pvalue_less = stats.ttest_ind(yoage_search, midage_search, alternative='less')\n",
        "\n",
        "print(pvalue_twosided == pvalue_greater * 2)"
      ],
      "metadata": {
        "colab": {
          "base_uri": "https://localhost:8080/"
        },
        "id": "NrAGEyfNzTDM",
        "outputId": "bd720981-baec-4d6c-a79d-fffebce10758"
      },
      "execution_count": 51,
      "outputs": [
        {
          "output_type": "stream",
          "name": "stdout",
          "text": [
            "False\n"
          ]
        }
      ]
    },
    {
      "cell_type": "code",
      "source": [
        "print(pvalue_greater + pvalue_less == 1)"
      ],
      "metadata": {
        "colab": {
          "base_uri": "https://localhost:8080/"
        },
        "id": "klF6MWwjzVrt",
        "outputId": "f321f622-8440-4ec9-88a3-8013d94a6727"
      },
      "execution_count": 52,
      "outputs": [
        {
          "output_type": "stream",
          "name": "stdout",
          "text": [
            "True\n"
          ]
        }
      ]
    },
    {
      "cell_type": "code",
      "source": [
        "print(pvalue_less + pvalue_twosided / 2 == 1)"
      ],
      "metadata": {
        "colab": {
          "base_uri": "https://localhost:8080/"
        },
        "id": "yDfw7LqSytdh",
        "outputId": "94767f09-60ab-41f2-b558-6a4182918675"
      },
      "execution_count": null,
      "outputs": [
        {
          "output_type": "stream",
          "name": "stdout",
          "text": [
            "False\n"
          ]
        }
      ]
    },
    {
      "cell_type": "code",
      "source": [
        "# Calculate means and standard errors\n",
        "mean_yoage = yoage_search.mean()\n",
        "mean_midage = midage_search.mean()\n",
        "se_yoage = yoage_search.std() / np.sqrt(len(yoage_search))\n",
        "se_midage = midage_search.std() / np.sqrt(len(midage_search))\n",
        "\n",
        "# Calculate standard error of the difference\n",
        "se_diff = np.sqrt(se_yoage**2 + se_midage**2)\n",
        "\n",
        "# Calculate degrees of freedom\n",
        "df = len(yoage_search) + len(midage_search) - 2\n",
        "\n",
        "# Set the confidence level\n",
        "alpha = 0.05\n",
        "\n",
        "# Calculate the t-value for the desired confidence level and degrees of freedom\n",
        "t_crit = abs(stats.t.ppf(alpha/2, df))\n",
        "\n",
        "# Calculate the margin of error\n",
        "moe = t_crit * se_diff\n",
        "\n",
        "# Calculate the confidence interval\n",
        "ci_lower = (mean_yoage - mean_midage) - moe\n",
        "ci_upper = (mean_yoage - mean_midage) + moe\n",
        "\n",
        "print(f\"95% Confidence Interval: ({ci_lower:.2f}, {ci_upper:.2f})\")\n"
      ],
      "metadata": {
        "colab": {
          "base_uri": "https://localhost:8080/"
        },
        "id": "EyoRSJb7yvBp",
        "outputId": "2068e0f5-f15a-49c0-efc0-2dbbf1e6a9d7"
      },
      "execution_count": 53,
      "outputs": [
        {
          "output_type": "stream",
          "name": "stdout",
          "text": [
            "95% Confidence Interval: (-0.06, -0.02)\n"
          ]
        }
      ]
    },
    {
      "cell_type": "code",
      "source": [
        "# Define the margin of equivalence (MOE)\n",
        "MOE = 0.5  # or some other value of interest\n",
        "\n",
        "# Conduct the two one-sided t-tests\n",
        "t_left = (np.mean(yoage_search) - np.mean(midage_search) - MOE) / np.sqrt((np.var(yoage_search) + np.var(midage_search)) / len(yoage_search))\n",
        "t_right = (np.mean(yoage_search) - np.mean(midage_search) + MOE) / np.sqrt((np.var(yoage_search) + np.var(midage_search)) / len(yoage_search))\n",
        "\n",
        "# Calculate the p-value for the TOST\n",
        "p_tost = 2 * stats.t.cdf(min(t_left, t_right), df=(len(yoage_search) + len(midage_search) - 2))  \n",
        "\n",
        "# Check if the p-value is less than the significance level alpha\n",
        "alpha = 0.05\n",
        "if p_tost < alpha:\n",
        "    print(\"The null hypothesis of equivalence is rejected.\")\n",
        "else:\n",
        "    print(\"The null hypothesis of equivalence is not rejected.\")\n"
      ],
      "metadata": {
        "colab": {
          "base_uri": "https://localhost:8080/"
        },
        "id": "Ye4T_mBazeOw",
        "outputId": "8adcce3b-ea9d-43f9-d4c6-ca55c224aa2b"
      },
      "execution_count": 54,
      "outputs": [
        {
          "output_type": "stream",
          "name": "stdout",
          "text": [
            "The null hypothesis of equivalence is rejected.\n"
          ]
        }
      ]
    },
    {
      "cell_type": "code",
      "source": [
        "#two-sided t-test\n",
        "black_search = Sum_id[Sum_id['Perceived_Race'] == 'Black']['StripSearch'].values\n",
        "nonblack_search = Sum_id[Sum_id['Perceived_Race'] != 'Black']['StripSearch'].values\n",
        "\n",
        "# Conduct t-test\n",
        "t_stat, p_value = stats.ttest_ind(black_search, nonblack_search)\n",
        "\n",
        "# Print results\n",
        "print(\"t-statistic = \", t_stat)\n",
        "print(\"p-value = \", p_value)"
      ],
      "metadata": {
        "colab": {
          "base_uri": "https://localhost:8080/"
        },
        "id": "LguMV7gJzhQ7",
        "outputId": "04c026bb-f1db-4384-db96-842855964e47"
      },
      "execution_count": 55,
      "outputs": [
        {
          "output_type": "stream",
          "name": "stdout",
          "text": [
            "t-statistic =  8.327490167962049\n",
            "p-value =  8.513868786736763e-17\n"
          ]
        }
      ]
    },
    {
      "cell_type": "code",
      "source": [
        "# One-sided, greater than test\n",
        "t_stat, p_value = stats.ttest_ind(black_search, nonblack_search, alternative='greater')\n",
        "\n",
        "print(\"t-statistic = \", t_stat)\n",
        "print(\"p-value = \", p_value)"
      ],
      "metadata": {
        "colab": {
          "base_uri": "https://localhost:8080/"
        },
        "id": "ETUofUQozg_9",
        "outputId": "84fad8ee-bb8e-410c-af46-c0a74f349e1b"
      },
      "execution_count": 56,
      "outputs": [
        {
          "output_type": "stream",
          "name": "stdout",
          "text": [
            "t-statistic =  8.327490167962049\n",
            "p-value =  4.2569343933683817e-17\n"
          ]
        }
      ]
    },
    {
      "cell_type": "code",
      "source": [
        "# One-sided, less than test\n",
        "t_stat, p_value = stats.ttest_ind(black_search, nonblack_search, alternative='less')\n",
        "print(\"t-statistic = \", t_stat)\n",
        "print(\"p-value = \", p_value)"
      ],
      "metadata": {
        "colab": {
          "base_uri": "https://localhost:8080/"
        },
        "id": "0-VhSy8Tzd5W",
        "outputId": "6dcdf41b-a5af-4a41-e6ad-396380477a84"
      },
      "execution_count": 57,
      "outputs": [
        {
          "output_type": "stream",
          "name": "stdout",
          "text": [
            "t-statistic =  8.327490167962049\n",
            "p-value =  0.9999999999999999\n"
          ]
        }
      ]
    },
    {
      "cell_type": "code",
      "source": [
        "# Two-sided test\n",
        "statistic, pvalue_twosided = stats.ttest_ind(black_search, nonblack_search)\n",
        "\n",
        "# One-sided, greater than test\n",
        "statistic, pvalue_greater = stats.ttest_ind(black_search, nonblack_search, alternative='greater')\n",
        "\n",
        "# One-sided, less than test\n",
        "statistic, pvalue_less = stats.ttest_ind(black_search, nonblack_search, alternative='less')\n",
        "\n",
        "print(pvalue_twosided == pvalue_greater * 2)"
      ],
      "metadata": {
        "colab": {
          "base_uri": "https://localhost:8080/"
        },
        "id": "2m9BIRQ0w4wU",
        "outputId": "955aeda9-2fa1-411c-94e4-619c885c7b14"
      },
      "execution_count": 58,
      "outputs": [
        {
          "output_type": "stream",
          "name": "stdout",
          "text": [
            "True\n"
          ]
        }
      ]
    },
    {
      "cell_type": "code",
      "source": [
        "print(pvalue_greater + pvalue_less == 1)"
      ],
      "metadata": {
        "colab": {
          "base_uri": "https://localhost:8080/"
        },
        "id": "2BAUUhddw4bk",
        "outputId": "52265946-0037-4682-ddfc-d2b25be314ac"
      },
      "execution_count": 59,
      "outputs": [
        {
          "output_type": "stream",
          "name": "stdout",
          "text": [
            "False\n"
          ]
        }
      ]
    },
    {
      "cell_type": "code",
      "source": [
        "print(pvalue_less + pvalue_twosided / 2 == 1)"
      ],
      "metadata": {
        "colab": {
          "base_uri": "https://localhost:8080/"
        },
        "id": "tGdXf_jsz33W",
        "outputId": "70fe7a71-9275-4f68-caa6-6efde6a0a77f"
      },
      "execution_count": 60,
      "outputs": [
        {
          "output_type": "stream",
          "name": "stdout",
          "text": [
            "False\n"
          ]
        }
      ]
    },
    {
      "cell_type": "code",
      "source": [
        "# Calculate means and standard errors\n",
        "mean_black = black_search.mean()\n",
        "mean_nonblack = nonblack_search.mean()\n",
        "se_black = black_search.std() / np.sqrt(len(black_search))\n",
        "se_nonblack = nonblack_search.std() / np.sqrt(len(nonblack_search))\n",
        "\n",
        "# Calculate standard error of the difference\n",
        "se_diff = np.sqrt(se_black**2 + se_nonblack**2)\n",
        "\n",
        "# Calculate degrees of freedom\n",
        "df = len(black_search) + len(nonblack_search) - 2\n",
        "\n",
        "# Set the confidence level\n",
        "alpha = 0.05\n",
        "\n",
        "# Calculate the t-value for the desired confidence level and degrees of freedom\n",
        "t_crit = abs(stats.t.ppf(alpha/2, df))\n",
        "\n",
        "# Calculate the margin of error\n",
        "moe = t_crit * se_diff\n",
        "\n",
        "# Calculate the confidence interval\n",
        "ci_lower = (mean_black - mean_nonblack) - moe\n",
        "ci_upper = (mean_black - mean_nonblack) + moe\n",
        "\n",
        "print(f\"95% Confidence Interval: ({ci_lower:.2f}, {ci_upper:.2f})\")\n"
      ],
      "metadata": {
        "colab": {
          "base_uri": "https://localhost:8080/"
        },
        "id": "K3vjbQnqz3rn",
        "outputId": "90e906a2-0bd3-4af4-9e24-b4a1c35addb7"
      },
      "execution_count": 61,
      "outputs": [
        {
          "output_type": "stream",
          "name": "stdout",
          "text": [
            "95% Confidence Interval: (0.04, 0.07)\n"
          ]
        }
      ]
    },
    {
      "cell_type": "code",
      "source": [
        "# Define the margin of equivalence (MOE)\n",
        "MOE = 0.5  # or some other value of interest\n",
        "\n",
        "# Conduct the two one-sided t-tests\n",
        "t_left = (np.mean(black_search) - np.mean(nonblack_search) - MOE) / np.sqrt((np.var(black_search) + np.var(nonblack_search)) / len(black_search))\n",
        "t_right = (np.mean(black_search) - np.mean(nonblack_search) + MOE) / np.sqrt((np.var(black_search) + np.var(nonblack_search)) / len(black_search))\n",
        "\n",
        "# Calculate the p-value for the TOST\n",
        "p_tost = 2 * stats.t.cdf(min(t_left, t_right), df=(len(black_search) + len(nonblack_search) - 2))  \n",
        "\n",
        "# Check if the p-value is less than the significance level alpha\n",
        "alpha = 0.05\n",
        "if p_tost < alpha:\n",
        "    print(\"The null hypothesis of equivalence is rejected.\")\n",
        "else:\n",
        "    print(\"The null hypothesis of equivalence is not rejected.\")\n"
      ],
      "metadata": {
        "colab": {
          "base_uri": "https://localhost:8080/"
        },
        "id": "vYKMQPJYz_Ho",
        "outputId": "4f9dc7d8-7a98-4816-827c-9ca94c02d71c"
      },
      "execution_count": 62,
      "outputs": [
        {
          "output_type": "stream",
          "name": "stdout",
          "text": [
            "The null hypothesis of equivalence is rejected.\n"
          ]
        }
      ]
    },
    {
      "cell_type": "code",
      "source": [
        "import matplotlib.pyplot as plt\n",
        "\n",
        "qq_data = Sum_id['StripSearch']\n",
        "\n",
        "# Create the QQ plot\n",
        "sm.qqplot(qq_data, line='s')\n",
        "\n",
        "# Show the plot\n",
        "plt.show()"
      ],
      "metadata": {
        "id": "80gqzlLHuXUB",
        "colab": {
          "base_uri": "https://localhost:8080/",
          "height": 333
        },
        "outputId": "8687abf3-11bf-438a-d5f6-3fa334151ed6"
      },
      "execution_count": 63,
      "outputs": [
        {
          "output_type": "stream",
          "name": "stderr",
          "text": [
            "/usr/local/lib/python3.8/dist-packages/statsmodels/graphics/gofplots.py:993: UserWarning: marker is redundantly defined by the 'marker' keyword argument and the fmt string \"bo\" (-> marker='o'). The keyword argument will take precedence.\n",
            "  ax.plot(x, y, fmt, **plot_style)\n"
          ]
        },
        {
          "output_type": "display_data",
          "data": {
            "text/plain": [
              "<Figure size 432x288 with 1 Axes>"
            ],
            "image/png": "[encoded data removed]"
          },
          "metadata": {}
        }
      ]
    },
    {
      "cell_type": "code",
      "source": [
        "# Counting the number of male \n",
        "num_male = len(strip_search_sum[strip_search_sum['Sex'] == 'M'])\n",
        "print(\"Number of male individuals:\", num_male)\n",
        "\n",
        "# Counting the number of female \n",
        "num_female = len(strip_search_sum[strip_search_sum['Sex'] == 'F'])\n",
        "print(\"Number of female individuals:\", num_female)\n",
        "\n",
        "# Counting the total number \n",
        "num_total = num_male + num_female\n",
        "print(\"Number of total individuals:\", num_total)\n"
      ],
      "metadata": {
        "id": "LzvyOzGoxa_P",
        "colab": {
          "base_uri": "https://localhost:8080/"
        },
        "outputId": "4e2b1793-73a1-4279-fe65-2c4897797e92"
      },
      "execution_count": 64,
      "outputs": [
        {
          "output_type": "stream",
          "name": "stdout",
          "text": [
            "Number of male individuals: 32845\n",
            "Number of female individuals: 8309\n",
            "Number of total individuals: 41154\n"
          ]
        }
      ]
    },
    {
      "cell_type": "code",
      "source": [
        "# Aged 17 years and under\n",
        "male_under_17 = strip_search_sum[(strip_search_sum['Sex'] == 'M') & (strip_search_sum['Age_group__at_arrest_'] == 'Aged 17 years and under')]\n",
        "num_male_under_17 = len(male_under_17)\n",
        "print(\"Number of males Aged 17 years and under:\", num_male_under_17)\n",
        "\n",
        "# Aged 18 to 24 years\n",
        "male_18_24 = strip_search_sum[(strip_search_sum['Sex'] == 'M') & (strip_search_sum['Age_group__at_arrest_'] == 'Aged 18 to 24 years')]\n",
        "num_male_18_24 = len(male_18_24)\n",
        "print(\"Number of males aged 18 to 24 years:\", num_male_18_24)\n",
        "\n",
        "# Aged 25 to 34 years\n",
        "male_25_34 = strip_search_sum[(strip_search_sum['Age_group__at_arrest_'] == 'Aged 25 to 34 years') & (strip_search_sum['Sex'] == 'M')]\n",
        "num_male_25_34 = len(male_25_34)\n",
        "print(\"Number of males aged 25 to 34 years:\", num_male_25_34)\n",
        "\n",
        "# Aged 35 to 44 years\n",
        "male_35_44 = strip_search_sum[(strip_search_sum['Age_group__at_arrest_'] == 'Aged 35 to 44 years') & (strip_search_sum['Sex'] == 'M')]\n",
        "num_male_35_44 = len(male_35_44)\n",
        "print(\"Number of males aged 35 to 44 years:\", num_male_35_44)\n",
        "\n",
        "# Aged 45 to 54 years\n",
        "male_45_54 = strip_search_sum[(strip_search_sum['Age_group__at_arrest_'] == 'Aged 45 to 54 years') & (strip_search_sum['Sex'] == 'M')]\n",
        "num_male_45_54 = len(male_45_54)\n",
        "print(\"Number of males aged 45 to 54 years:\", num_male_45_54)\n",
        "\n",
        "# Aged 55 to 64 years\n",
        "male_55_64 = strip_search_sum[(strip_search_sum['Age_group__at_arrest_'] == 'Aged 55 to 64 years') & (strip_search_sum['Sex'] == 'M')]\n",
        "num_male_55_64 = len(male_55_64)\n",
        "print(\"Number of males aged 55 to 64 years:\", num_male_55_64)\n",
        "\n",
        "#Aged 65 and older \n",
        "male_65 = strip_search_sum[(strip_search_sum['Age_group__at_arrest_'] == 'Aged 65 and older') & (strip_search_sum['Sex'] == 'M')]\n",
        "num_male_65 = len(male_65)\n",
        "print(\"Number of males aged 65 years and over:\", num_male_65)\n",
        "\n"
      ],
      "metadata": {
        "colab": {
          "base_uri": "https://localhost:8080/"
        },
        "id": "eNI1NIhhQM1Z",
        "outputId": "aded3825-d9bc-47e1-de1f-3c374f6d7877"
      },
      "execution_count": 65,
      "outputs": [
        {
          "output_type": "stream",
          "name": "stdout",
          "text": [
            "Number of males Aged 17 years and under: 1657\n",
            "Number of males aged 18 to 24 years: 5525\n",
            "Number of males aged 25 to 34 years: 9933\n",
            "Number of males aged 35 to 44 years: 7520\n",
            "Number of males aged 45 to 54 years: 4652\n",
            "Number of males aged 55 to 64 years: 2652\n",
            "Number of males aged 65 years and over: 906\n"
          ]
        }
      ]
    },
    {
      "cell_type": "code",
      "source": [
        "# Aged 17 years and under\n",
        "female_under_17 = strip_search_sum[(strip_search_sum['Age_group__at_arrest_'] == 'Aged 17 years and under') & (strip_search_sum['Sex'] == 'F')]\n",
        "num_female_under_17 = len(female_under_17)\n",
        "print(\"Number of females Aged 17 years and under:\", num_female_under_17)\n",
        "\n",
        "# Aged 18 to 24 years\n",
        "female_18_24 = strip_search_sum[(strip_search_sum['Age_group__at_arrest_'] == 'Aged 18 to 24 years') & (strip_search_sum['Sex'] == 'F')]\n",
        "num_female_18_24 = len(female_18_24)\n",
        "print(\"Number of females aged 18 to 24 years:\", num_female_18_24)\n",
        "\n",
        "# Aged 25 to 34 years\n",
        "female_25_34 = strip_search_sum[(strip_search_sum['Age_group__at_arrest_'] == 'Aged 25 to 34 years') & (strip_search_sum['Sex'] == 'F')]\n",
        "num_female_25_34 = len(female_25_34)\n",
        "print(\"Number of females aged 25 to 34 years:\", num_female_25_34)\n",
        "\n",
        "# Aged 35 to 44 years\n",
        "female_35_44 = strip_search_sum[(strip_search_sum['Age_group__at_arrest_'] == 'Aged 35 to 44 years') & (strip_search_sum['Sex'] == 'F')]\n",
        "num_female_35_44 = len(female_35_44)\n",
        "print(\"Number of females aged 35 to 44 years:\", num_female_35_44)\n",
        "\n",
        "# Aged 45 to 54 years\n",
        "female_45_54 = strip_search_sum[(strip_search_sum['Age_group__at_arrest_'] == 'Aged 45 to 54 years') & (strip_search_sum['Sex'] == 'F')]\n",
        "num_female_45_54 = len(female_45_54)\n",
        "print(\"Number of females aged 45 to 54 years:\", num_female_45_54)\n",
        "\n",
        "# Aged 55 to 64 years\n",
        "female_55_64 = strip_search_sum[(strip_search_sum['Age_group__at_arrest_'] == 'Aged 55 to 64 years') & (strip_search_sum['Sex'] == 'F')]\n",
        "num_female_55_64 = len(female_55_64)\n",
        "print(\"Number of females aged 55 to 64 years:\", num_female_55_64)\n",
        "\n",
        "#Aged 65 and older \n",
        "female_65 = strip_search_sum[(strip_search_sum['Age_group__at_arrest_'] == 'Aged 65 and older') & (strip_search_sum['Sex'] == 'F')]\n",
        "num_female_65 = len(female_65)\n",
        "print(\"Number of females aged 65 years and over:\", num_female_65)\n"
      ],
      "metadata": {
        "colab": {
          "base_uri": "https://localhost:8080/"
        },
        "id": "6-aVagdmYo5O",
        "outputId": "fcb0faa8-8598-455f-b9ce-7f47486a18ba"
      },
      "execution_count": 66,
      "outputs": [
        {
          "output_type": "stream",
          "name": "stdout",
          "text": [
            "Number of females Aged 17 years and under: 552\n",
            "Number of females aged 18 to 24 years: 1521\n",
            "Number of females aged 25 to 34 years: 2617\n",
            "Number of females aged 35 to 44 years: 1845\n",
            "Number of females aged 45 to 54 years: 1056\n",
            "Number of females aged 55 to 64 years: 534\n",
            "Number of females aged 65 years and over: 184\n"
          ]
        }
      ]
    },
    {
      "cell_type": "code",
      "source": [
        "# White\n",
        "female_white = strip_search_sum[(strip_search_sum['Perceived_Race'] == 'White') & (strip_search_sum['Sex'] == 'F')]\n",
        "num_female_white = len(female_white)\n",
        "print(\"Number of females perceived as White:\", num_female_white)\n",
        "\n",
        "# Black\n",
        "female_black = strip_search_sum[(strip_search_sum['Perceived_Race'] == 'Black') & (strip_search_sum['Sex'] == 'F')]\n",
        "num_female_black = len(female_black)\n",
        "print(\"Number of females perceived as Black:\", num_female_black)\n",
        "\n",
        "# Latino/a\n",
        "female_Latino = strip_search_sum[(strip_search_sum['Perceived_Race'] == 'Latino') & (strip_search_sum['Sex'] == 'F')]\n",
        "num_female_Latino = len(female_Latino)\n",
        "print(\"Number of females perceived as Latino:\", num_female_Latino)\n",
        "\n",
        "# South Asian\n",
        "female_asian = strip_search_sum[(strip_search_sum['Perceived_Race'] == 'South Asian') & (strip_search_sum['Sex'] == 'F')]\n",
        "num_female_asian = len(female_asian)\n",
        "print(\"Number of females perceived as South Asian:\", num_female_asian)\n",
        "\n",
        "# Middle-Eastern\n",
        "female_native = strip_search_sum[(strip_search_sum['Perceived_Race'] == 'Middle-Eastern') & (strip_search_sum['Sex'] == 'F')]\n",
        "num_female_native = len(female_native)\n",
        "print(\"Number of females perceived as Middle-Eastern:\", num_female_native)\n",
        "\n",
        "# Unknown or Legacy\n",
        "female_unknown = strip_search_sum[(strip_search_sum['Sex'] == 'F') & (strip_search_sum['Perceived_Race'] == 'Unknown or Legacy')]\n",
        "num_female_unknown = len(female_unknown)\n",
        "print(\"Number of females perceived as Unknown or Legacy:\", num_female_unknown)\n",
        "\n",
        "# East/Southeast Asian\n",
        "female_multi = strip_search_sum[(strip_search_sum['Perceived_Race'] == 'East/Southeast Asian') & (strip_search_sum['Sex'] == 'F')]\n",
        "num_female_multi = len(female_multi)\n",
        "print(\"Number of females perceived as East/Southeast Asian:\", num_female_multi)\n",
        "\n",
        "# Indigenous\n",
        "female_Indigenous = strip_search_sum[(strip_search_sum['Perceived_Race'] == 'Indigenous') & (strip_search_sum['Sex'] == 'F')]\n",
        "num_female_Indigenous = len(female_Indigenous)\n",
        "print(\"Number of females perceived as Indigenous:\", num_female_Indigenous)\n",
        "\n"
      ],
      "metadata": {
        "colab": {
          "base_uri": "https://localhost:8080/"
        },
        "id": "zGyKMM6wcctp",
        "outputId": "d094f00a-0509-450f-ffb9-501b488b5cfa"
      },
      "execution_count": 67,
      "outputs": [
        {
          "output_type": "stream",
          "name": "stdout",
          "text": [
            "Number of females perceived as White: 3652\n",
            "Number of females perceived as Black: 1955\n",
            "Number of females perceived as Latino: 206\n",
            "Number of females perceived as South Asian: 437\n",
            "Number of females perceived as Middle-Eastern: 295\n",
            "Number of females perceived as Unknown or Legacy: 810\n",
            "Number of females perceived as East/Southeast Asian: 645\n",
            "Number of females perceived as Indigenous: 309\n"
          ]
        }
      ]
    },
    {
      "cell_type": "code",
      "source": [
        "# White\n",
        "male_white = strip_search_sum[(strip_search_sum['Perceived_Race'] == 'White') & (strip_search_sum['Sex'] == 'M')]\n",
        "num_male_white = len(male_white)\n",
        "print(\"Number of males perceived as White:\", num_male_white)\n",
        "\n",
        "# Black\n",
        "male_black = strip_search_sum[(strip_search_sum['Perceived_Race'] == 'Black') & (strip_search_sum['Sex'] == 'M')]\n",
        "num_male_black = len(male_black)\n",
        "print(\"Number of males perceived as Black:\", num_male_black)\n",
        "\n",
        "# Latino/a\n",
        "male_Latino = strip_search_sum[(strip_search_sum['Perceived_Race'] == 'Latino') & (strip_search_sum['Sex'] == 'M')]\n",
        "num_male_Latino = len(male_Latino)\n",
        "print(\"Number of males perceived as Latino:\", num_male_Latino)\n",
        "\n",
        "# South Asian\n",
        "male_asian = strip_search_sum[(strip_search_sum['Perceived_Race'] == 'South Asian') & (strip_search_sum['Sex'] == 'M')]\n",
        "num_male_asian = len(male_asian)\n",
        "print(\"Number of males perceived as South Asian:\", num_male_asian)\n",
        "\n",
        "# Middle-Eastern\n",
        "male_native = strip_search_sum[(strip_search_sum['Perceived_Race'] == 'Middle-Eastern') & (strip_search_sum['Sex'] == 'M')]\n",
        "num_male_native = len(male_native)\n",
        "print(\"Number of males perceived as Middle-Eastern:\", num_male_native)\n",
        "\n",
        "# Unknown or Legacy\n",
        "male_unknown = strip_search_sum[(strip_search_sum['Perceived_Race'] == 'Unknown or Legacy') & (strip_search_sum['Sex'] == 'M')]\n",
        "num_male_unknown = len(male_unknown)\n",
        "print(\"Number of males perceived as Unknown or Legacy:\", num_male_unknown)\n",
        "\n",
        "# East/Southeast Asian\n",
        "male_multi = strip_search_sum[(strip_search_sum['Perceived_Race'] == 'East/Southeast Asian') & (strip_search_sum['Sex'] == 'M')]\n",
        "num_male_multi = len(male_multi)\n",
        "print(\"Number of males perceived as East/Southeast Asian:\", num_male_multi)\n",
        "\n",
        "# Indigenous\n",
        "male_Indigenous = strip_search_sum[(strip_search_sum['Perceived_Race'] == 'Indigenous') & (strip_search_sum['Sex'] == 'M')]\n",
        "num_male_Indigenous = len(male_Indigenous)\n",
        "print(\"Number of males perceived as Indigenous:\", num_male_Indigenous)\n"
      ],
      "metadata": {
        "colab": {
          "base_uri": "https://localhost:8080/"
        },
        "id": "8P6qYveIjHGB",
        "outputId": "02585b07-e704-4bf4-ddc9-c4892e64eff5"
      },
      "execution_count": 68,
      "outputs": [
        {
          "output_type": "stream",
          "name": "stdout",
          "text": [
            "Number of males perceived as White: 11783\n",
            "Number of males perceived as Black: 8546\n",
            "Number of males perceived as Latino: 1099\n",
            "Number of males perceived as South Asian: 2417\n",
            "Number of males perceived as Middle-Eastern: 2083\n",
            "Number of males perceived as Unknown or Legacy: 3579\n",
            "Number of males perceived as East/Southeast Asian: 2811\n",
            "Number of males perceived as Indigenous: 527\n"
          ]
        }
      ]
    },
    {
      "cell_type": "code",
      "source": [
        "# Count the male that is not youth \n",
        "male_not_youth = strip_search_sum[(strip_search_sum['Sex'] == 'M') & (strip_search_sum['Youth_at_arrest__under_18_years'] == 'Not a youth')]\n",
        "num_male_not_youth = len(male_not_youth)\n",
        "print(\"Number of males not youth:\", num_male_not_youth)\n",
        "# Count the femal that is not youth \n",
        "female_not_youth = strip_search_sum[(strip_search_sum['Sex'] == 'F') & (strip_search_sum['Youth_at_arrest__under_18_years'] == 'Not a youth')]\n",
        "num_female_not_youth = len(female_not_youth)\n",
        "print(\"Number of females not youth:\", num_female_not_youth)"
      ],
      "metadata": {
        "id": "QRdl7y7IbtFL",
        "colab": {
          "base_uri": "https://localhost:8080/"
        },
        "outputId": "7ea2da00-efc9-4cfd-9c8c-7ae739c84c74"
      },
      "execution_count": 69,
      "outputs": [
        {
          "output_type": "stream",
          "name": "stdout",
          "text": [
            "Number of males not youth: 31188\n",
            "Number of females not youth: 7757\n"
          ]
        }
      ]
    },
    {
      "cell_type": "code",
      "source": [
        "# Count the male that is youth \n",
        "male_youth = strip_search_sum[(strip_search_sum['Sex'] == 'M') & (strip_search_sum['Youth_at_arrest__under_18_years'] == 'Youth (aged 17 years and under)')]\n",
        "num_male_youth = len(male_youth)\n",
        "print(\"Number of males youth:\", num_male_youth)\n",
        "# Count the femal that is youth \n",
        "female_youth = strip_search_sum[(strip_search_sum['Sex'] == 'F') & (strip_search_sum['Youth_at_arrest__under_18_years'] == 'Youth (aged 17 years and under)')]\n",
        "num_female_youth = len(female_youth)\n",
        "print(\"Number of females youth:\", num_female_youth)"
      ],
      "metadata": {
        "colab": {
          "base_uri": "https://localhost:8080/"
        },
        "id": "WmZ0Sq_QlcBc",
        "outputId": "320e4aa6-2a15-4b14-e647-1b532d306108"
      },
      "execution_count": 70,
      "outputs": [
        {
          "output_type": "stream",
          "name": "stdout",
          "text": [
            "Number of males youth: 1657\n",
            "Number of females youth: 552\n"
          ]
        }
      ]
    }
  ]
}