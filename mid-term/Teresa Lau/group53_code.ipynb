{
 "cells": [
  {
   "cell_type": "markdown",
   "metadata": {
    "id": "WsT9M7SkMLLB"
   },
   "source": [
    "**Group 53: Teresa Lau & Maidah Shah**  \n",
    "\n",
    "Assignment 1 Code\n",
    "\n",
    "INF2178H, Winter 2023   \n",
    "\n",
    "February 28, 2023\n",
    "\n",
    "**Link:** https://colab.research.google.com/drive/1dTyaSCiJl86mBwaljYGhFHvGLo-ZXjDz?usp=sharing"
   ]
  },
  {
   "cell_type": "markdown",
   "metadata": {
    "id": "tnGvpCQbNEKN"
   },
   "source": [
    "\n",
    "---\n",
    "**Exploratory Data Analysis (EDA)**\n",
    "---\n",
    "\n",
    "**EDA Through Data Visualization**\n",
    "\n",
    "In this section, we will develop bar plots for each variable that we are initially interested in to discover any high-level trends and to inform which variables and relationships to explore further."
   ]
  },
  {
   "cell_type": "code",
   "execution_count": 1,
   "metadata": {
    "colab": {
     "base_uri": "https://localhost:8080/"
    },
    "id": "ayETb9Jvu4uN",
    "outputId": "08e4764f-1244-4a0d-bbc1-623e8200b412"
   },
   "outputs": [
    {
     "name": "stdout",
     "output_type": "stream",
     "text": [
      "Defaulting to user installation because normal site-packages is not writeable\n",
      "Collecting numpy==1.23.5\n",
      "  Downloading numpy-1.23.5-cp39-cp39-win_amd64.whl (14.7 MB)\n",
      "Installing collected packages: numpy\n",
      "Successfully installed numpy-1.23.5\n"
     ]
    },
    {
     "name": "stderr",
     "output_type": "stream",
     "text": [
      "  WARNING: The script f2py.exe is installed in 'C:\\Users\\Teresa Lau\\AppData\\Roaming\\Python\\Python39\\Scripts' which is not on PATH.\n",
      "  Consider adding this directory to PATH or, if you prefer to suppress this warning, use --no-warn-script-location.\n",
      "ERROR: pip's dependency resolver does not currently take into account all the packages that are installed. This behaviour is the source of the following dependency conflicts.\n",
      "daal4py 2021.5.0 requires daal==2021.4.0, which is not installed.\n",
      "scipy 1.7.3 requires numpy<1.23.0,>=1.16.5, but you have numpy 1.23.5 which is incompatible.\n",
      "numba 0.55.1 requires numpy<1.22,>=1.18, but you have numpy 1.23.5 which is incompatible.\n"
     ]
    },
    {
     "name": "stdout",
     "output_type": "stream",
     "text": [
      "Defaulting to user installation because normal site-packages is not writeable\n",
      "Requirement already satisfied: statsmodels==0.13.2 in c:\\programdata\\anaconda3\\lib\\site-packages (0.13.2)\n",
      "Requirement already satisfied: numpy>=1.17 in c:\\users\\teresa lau\\appdata\\roaming\\python\\python39\\site-packages (from statsmodels==0.13.2) (1.23.5)\n",
      "Requirement already satisfied: scipy>=1.3 in c:\\programdata\\anaconda3\\lib\\site-packages (from statsmodels==0.13.2) (1.7.3)\n",
      "Requirement already satisfied: pandas>=0.25 in c:\\programdata\\anaconda3\\lib\\site-packages (from statsmodels==0.13.2) (1.4.2)\n",
      "Requirement already satisfied: patsy>=0.5.2 in c:\\programdata\\anaconda3\\lib\\site-packages (from statsmodels==0.13.2) (0.5.2)\n",
      "Requirement already satisfied: packaging>=21.3 in c:\\programdata\\anaconda3\\lib\\site-packages (from statsmodels==0.13.2) (21.3)\n"
     ]
    },
    {
     "name": "stderr",
     "output_type": "stream",
     "text": [
      "  WARNING: The script f2py.exe is installed in 'C:\\Users\\Teresa Lau\\AppData\\Roaming\\Python\\Python39\\Scripts' which is not on PATH.\n",
      "  Consider adding this directory to PATH or, if you prefer to suppress this warning, use --no-warn-script-location.\n",
      "ERROR: pip's dependency resolver does not currently take into account all the packages that are installed. This behaviour is the source of the following dependency conflicts.\n",
      "daal4py 2021.5.0 requires daal==2021.4.0, which is not installed.\n",
      "numba 0.55.1 requires numpy<1.22,>=1.18, but you have numpy 1.22.4 which is incompatible.\n"
     ]
    },
    {
     "name": "stdout",
     "output_type": "stream",
     "text": [
      "Requirement already satisfied: pyparsing!=3.0.5,>=2.0.2 in c:\\programdata\\anaconda3\\lib\\site-packages (from packaging>=21.3->statsmodels==0.13.2) (3.0.4)\n",
      "Requirement already satisfied: pytz>=2020.1 in c:\\programdata\\anaconda3\\lib\\site-packages (from pandas>=0.25->statsmodels==0.13.2) (2021.3)\n",
      "Requirement already satisfied: python-dateutil>=2.8.1 in c:\\programdata\\anaconda3\\lib\\site-packages (from pandas>=0.25->statsmodels==0.13.2) (2.8.2)\n",
      "Requirement already satisfied: six in c:\\programdata\\anaconda3\\lib\\site-packages (from patsy>=0.5.2->statsmodels==0.13.2) (1.16.0)\n",
      "Collecting numpy>=1.17\n",
      "  Downloading numpy-1.22.4-cp39-cp39-win_amd64.whl (14.7 MB)\n",
      "Installing collected packages: numpy\n",
      "  Attempting uninstall: numpy\n",
      "    Found existing installation: numpy 1.23.5\n",
      "    Uninstalling numpy-1.23.5:\n",
      "      Successfully uninstalled numpy-1.23.5\n",
      "Successfully installed numpy-1.22.4\n",
      "Defaulting to user installation because normal site-packages is not writeable\n",
      "Collecting bioinfokit\n",
      "  Downloading bioinfokit-2.1.0.tar.gz (86 kB)\n",
      "Requirement already satisfied: pandas in c:\\programdata\\anaconda3\\lib\\site-packages (from bioinfokit) (1.4.2)\n",
      "Requirement already satisfied: numpy in c:\\users\\teresa lau\\appdata\\roaming\\python\\python39\\site-packages (from bioinfokit) (1.22.4)\n",
      "Requirement already satisfied: matplotlib in c:\\programdata\\anaconda3\\lib\\site-packages (from bioinfokit) (3.5.1)\n",
      "Requirement already satisfied: scipy in c:\\programdata\\anaconda3\\lib\\site-packages (from bioinfokit) (1.7.3)\n",
      "Requirement already satisfied: scikit-learn in c:\\programdata\\anaconda3\\lib\\site-packages (from bioinfokit) (1.0.2)\n",
      "Requirement already satisfied: seaborn in c:\\programdata\\anaconda3\\lib\\site-packages (from bioinfokit) (0.11.2)\n",
      "Collecting matplotlib-venn\n",
      "  Downloading matplotlib-venn-0.11.9.tar.gz (30 kB)\n",
      "  Installing build dependencies: started\n",
      "  Installing build dependencies: finished with status 'done'\n",
      "  Getting requirements to build wheel: started\n",
      "  Getting requirements to build wheel: finished with status 'done'\n",
      "  Installing backend dependencies: started\n",
      "  Installing backend dependencies: finished with status 'done'\n",
      "    Preparing wheel metadata: started\n",
      "    Preparing wheel metadata: finished with status 'done'\n",
      "Requirement already satisfied: tabulate in c:\\programdata\\anaconda3\\lib\\site-packages (from bioinfokit) (0.8.9)\n",
      "Requirement already satisfied: statsmodels in c:\\programdata\\anaconda3\\lib\\site-packages (from bioinfokit) (0.13.2)\n",
      "Collecting textwrap3\n",
      "  Downloading textwrap3-0.9.2-py2.py3-none-any.whl (12 kB)\n",
      "Collecting adjustText\n",
      "  Downloading adjustText-0.8-py3-none-any.whl (9.1 kB)\n",
      "Requirement already satisfied: packaging>=20.0 in c:\\programdata\\anaconda3\\lib\\site-packages (from matplotlib->bioinfokit) (21.3)\n",
      "Requirement already satisfied: fonttools>=4.22.0 in c:\\programdata\\anaconda3\\lib\\site-packages (from matplotlib->bioinfokit) (4.25.0)\n",
      "Requirement already satisfied: kiwisolver>=1.0.1 in c:\\programdata\\anaconda3\\lib\\site-packages (from matplotlib->bioinfokit) (1.3.2)\n",
      "Requirement already satisfied: python-dateutil>=2.7 in c:\\programdata\\anaconda3\\lib\\site-packages (from matplotlib->bioinfokit) (2.8.2)\n",
      "Requirement already satisfied: pillow>=6.2.0 in c:\\programdata\\anaconda3\\lib\\site-packages (from matplotlib->bioinfokit) (9.0.1)\n",
      "Requirement already satisfied: pyparsing>=2.2.1 in c:\\programdata\\anaconda3\\lib\\site-packages (from matplotlib->bioinfokit) (3.0.4)\n",
      "Requirement already satisfied: cycler>=0.10 in c:\\programdata\\anaconda3\\lib\\site-packages (from matplotlib->bioinfokit) (0.11.0)\n",
      "Requirement already satisfied: six>=1.5 in c:\\programdata\\anaconda3\\lib\\site-packages (from python-dateutil>=2.7->matplotlib->bioinfokit) (1.16.0)\n",
      "Requirement already satisfied: pytz>=2020.1 in c:\\programdata\\anaconda3\\lib\\site-packages (from pandas->bioinfokit) (2021.3)\n",
      "Requirement already satisfied: joblib>=0.11 in c:\\programdata\\anaconda3\\lib\\site-packages (from scikit-learn->bioinfokit) (1.1.0)\n",
      "Requirement already satisfied: threadpoolctl>=2.0.0 in c:\\programdata\\anaconda3\\lib\\site-packages (from scikit-learn->bioinfokit) (2.2.0)\n",
      "Requirement already satisfied: patsy>=0.5.2 in c:\\programdata\\anaconda3\\lib\\site-packages (from statsmodels->bioinfokit) (0.5.2)\n",
      "Building wheels for collected packages: bioinfokit, matplotlib-venn\n",
      "  Building wheel for bioinfokit (setup.py): started\n",
      "  Building wheel for bioinfokit (setup.py): finished with status 'done'\n",
      "  Created wheel for bioinfokit: filename=bioinfokit-2.1.0-py3-none-any.whl size=58688 sha256=025c977c6b6f03224512dae4cffaddcdc621e3921c83e1717855fda64c0dd794\n",
      "  Stored in directory: c:\\users\\teresa lau\\appdata\\local\\pip\\cache\\wheels\\c9\\ab\\ed\\8a7fde0a63653b75ac029d67598265d185e5915dfb594ddc59\n",
      "  Building wheel for matplotlib-venn (PEP 517): started\n",
      "  Building wheel for matplotlib-venn (PEP 517): finished with status 'done'\n",
      "  Created wheel for matplotlib-venn: filename=matplotlib_venn-0.11.9-py3-none-any.whl size=33038 sha256=fd8378659df63ecdbda7df09c20b18f58fb88014dcb8041ad8b9b8eced543f2b\n",
      "  Stored in directory: c:\\users\\teresa lau\\appdata\\local\\pip\\cache\\wheels\\25\\de\\d4\\29dfc5d4520b956df7bc54a8464ad053042918bc525e88bf66\n",
      "Successfully built bioinfokit matplotlib-venn\n",
      "Installing collected packages: textwrap3, matplotlib-venn, adjustText, bioinfokit\n",
      "Successfully installed adjustText-0.8 bioinfokit-2.1.0 matplotlib-venn-0.11.9 textwrap3-0.9.2\n"
     ]
    }
   ],
   "source": [
    "### IMPORTANT ###\n",
    "# Instructions: Install packages, restart the runtime, and then run the code below. \n",
    "\n",
    "!pip install numpy==1.23.5\n",
    "!pip install statsmodels==0.13.2\n",
    "!pip install bioinfokit"
   ]
  },
  {
   "cell_type": "code",
   "execution_count": 2,
   "metadata": {
    "colab": {
     "base_uri": "https://localhost:8080/",
     "height": 314
    },
    "id": "B-a44vInBtwI",
    "outputId": "06f65cb2-7f8a-4790-a923-402447c15544"
   },
   "outputs": [
    {
     "data": {
      "text/html": [
       "<div>\n",
       "<style scoped>\n",
       "    .dataframe tbody tr th:only-of-type {\n",
       "        vertical-align: middle;\n",
       "    }\n",
       "\n",
       "    .dataframe tbody tr th {\n",
       "        vertical-align: top;\n",
       "    }\n",
       "\n",
       "    .dataframe thead th {\n",
       "        text-align: right;\n",
       "    }\n",
       "</style>\n",
       "<table border=\"1\" class=\"dataframe\">\n",
       "  <thead>\n",
       "    <tr style=\"text-align: right;\">\n",
       "      <th></th>\n",
       "      <th>Arrest_Year</th>\n",
       "      <th>Arrest_Month</th>\n",
       "      <th>EventID</th>\n",
       "      <th>ArrestID</th>\n",
       "      <th>PersonID</th>\n",
       "      <th>Perceived_Race</th>\n",
       "      <th>Sex</th>\n",
       "      <th>Age_group__at_arrest_</th>\n",
       "      <th>Youth_at_arrest__under_18_years</th>\n",
       "      <th>ArrestLocDiv</th>\n",
       "      <th>...</th>\n",
       "      <th>Actions_at_arrest___Resisted__d</th>\n",
       "      <th>Actions_at_arrest___Mental_inst</th>\n",
       "      <th>Actions_at_arrest___Assaulted_o</th>\n",
       "      <th>Actions_at_arrest___Cooperative</th>\n",
       "      <th>SearchReason_CauseInjury</th>\n",
       "      <th>SearchReason_AssistEscape</th>\n",
       "      <th>SearchReason_PossessWeapons</th>\n",
       "      <th>SearchReason_PossessEvidence</th>\n",
       "      <th>ItemsFound</th>\n",
       "      <th>ObjectId</th>\n",
       "    </tr>\n",
       "  </thead>\n",
       "  <tbody>\n",
       "    <tr>\n",
       "      <th>0</th>\n",
       "      <td>2020</td>\n",
       "      <td>July-Sept</td>\n",
       "      <td>1005907</td>\n",
       "      <td>6017884.0</td>\n",
       "      <td>326622</td>\n",
       "      <td>White</td>\n",
       "      <td>M</td>\n",
       "      <td>Aged 35 to 44 years</td>\n",
       "      <td>Not a youth</td>\n",
       "      <td>54</td>\n",
       "      <td>...</td>\n",
       "      <td>0</td>\n",
       "      <td>0</td>\n",
       "      <td>0</td>\n",
       "      <td>1</td>\n",
       "      <td>NaN</td>\n",
       "      <td>NaN</td>\n",
       "      <td>NaN</td>\n",
       "      <td>NaN</td>\n",
       "      <td>NaN</td>\n",
       "      <td>1</td>\n",
       "    </tr>\n",
       "    <tr>\n",
       "      <th>1</th>\n",
       "      <td>2020</td>\n",
       "      <td>July-Sept</td>\n",
       "      <td>1014562</td>\n",
       "      <td>6056669.0</td>\n",
       "      <td>326622</td>\n",
       "      <td>White</td>\n",
       "      <td>M</td>\n",
       "      <td>Aged 35 to 44 years</td>\n",
       "      <td>Not a youth</td>\n",
       "      <td>54</td>\n",
       "      <td>...</td>\n",
       "      <td>0</td>\n",
       "      <td>0</td>\n",
       "      <td>0</td>\n",
       "      <td>0</td>\n",
       "      <td>NaN</td>\n",
       "      <td>NaN</td>\n",
       "      <td>NaN</td>\n",
       "      <td>NaN</td>\n",
       "      <td>NaN</td>\n",
       "      <td>2</td>\n",
       "    </tr>\n",
       "    <tr>\n",
       "      <th>2</th>\n",
       "      <td>2020</td>\n",
       "      <td>Oct-Dec</td>\n",
       "      <td>1029922</td>\n",
       "      <td>6057065.0</td>\n",
       "      <td>326622</td>\n",
       "      <td>Unknown or Legacy</td>\n",
       "      <td>M</td>\n",
       "      <td>Aged 35 to 44 years</td>\n",
       "      <td>Not a youth</td>\n",
       "      <td>54</td>\n",
       "      <td>...</td>\n",
       "      <td>0</td>\n",
       "      <td>0</td>\n",
       "      <td>0</td>\n",
       "      <td>0</td>\n",
       "      <td>NaN</td>\n",
       "      <td>NaN</td>\n",
       "      <td>NaN</td>\n",
       "      <td>NaN</td>\n",
       "      <td>NaN</td>\n",
       "      <td>3</td>\n",
       "    </tr>\n",
       "    <tr>\n",
       "      <th>3</th>\n",
       "      <td>2021</td>\n",
       "      <td>Jan-Mar</td>\n",
       "      <td>1052190</td>\n",
       "      <td>6029059.0</td>\n",
       "      <td>327535</td>\n",
       "      <td>Black</td>\n",
       "      <td>M</td>\n",
       "      <td>Aged 25 to 34 years</td>\n",
       "      <td>Not a youth</td>\n",
       "      <td>XX</td>\n",
       "      <td>...</td>\n",
       "      <td>0</td>\n",
       "      <td>0</td>\n",
       "      <td>0</td>\n",
       "      <td>0</td>\n",
       "      <td>NaN</td>\n",
       "      <td>NaN</td>\n",
       "      <td>NaN</td>\n",
       "      <td>NaN</td>\n",
       "      <td>NaN</td>\n",
       "      <td>4</td>\n",
       "    </tr>\n",
       "    <tr>\n",
       "      <th>4</th>\n",
       "      <td>2021</td>\n",
       "      <td>Jan-Mar</td>\n",
       "      <td>1015512</td>\n",
       "      <td>6040372.0</td>\n",
       "      <td>327535</td>\n",
       "      <td>South Asian</td>\n",
       "      <td>M</td>\n",
       "      <td>Aged 25 to 34 years</td>\n",
       "      <td>Not a youth</td>\n",
       "      <td>XX</td>\n",
       "      <td>...</td>\n",
       "      <td>0</td>\n",
       "      <td>0</td>\n",
       "      <td>0</td>\n",
       "      <td>0</td>\n",
       "      <td>NaN</td>\n",
       "      <td>NaN</td>\n",
       "      <td>NaN</td>\n",
       "      <td>NaN</td>\n",
       "      <td>NaN</td>\n",
       "      <td>5</td>\n",
       "    </tr>\n",
       "  </tbody>\n",
       "</table>\n",
       "<p>5 rows × 25 columns</p>\n",
       "</div>"
      ],
      "text/plain": [
       "   Arrest_Year Arrest_Month  EventID   ArrestID  PersonID     Perceived_Race  \\\n",
       "0         2020    July-Sept  1005907  6017884.0    326622              White   \n",
       "1         2020    July-Sept  1014562  6056669.0    326622              White   \n",
       "2         2020      Oct-Dec  1029922  6057065.0    326622  Unknown or Legacy   \n",
       "3         2021      Jan-Mar  1052190  6029059.0    327535              Black   \n",
       "4         2021      Jan-Mar  1015512  6040372.0    327535        South Asian   \n",
       "\n",
       "  Sex Age_group__at_arrest_ Youth_at_arrest__under_18_years ArrestLocDiv  ...  \\\n",
       "0   M   Aged 35 to 44 years                     Not a youth           54  ...   \n",
       "1   M   Aged 35 to 44 years                     Not a youth           54  ...   \n",
       "2   M   Aged 35 to 44 years                     Not a youth           54  ...   \n",
       "3   M   Aged 25 to 34 years                     Not a youth           XX  ...   \n",
       "4   M   Aged 25 to 34 years                     Not a youth           XX  ...   \n",
       "\n",
       "   Actions_at_arrest___Resisted__d  Actions_at_arrest___Mental_inst  \\\n",
       "0                                0                                0   \n",
       "1                                0                                0   \n",
       "2                                0                                0   \n",
       "3                                0                                0   \n",
       "4                                0                                0   \n",
       "\n",
       "  Actions_at_arrest___Assaulted_o  Actions_at_arrest___Cooperative  \\\n",
       "0                               0                                1   \n",
       "1                               0                                0   \n",
       "2                               0                                0   \n",
       "3                               0                                0   \n",
       "4                               0                                0   \n",
       "\n",
       "   SearchReason_CauseInjury  SearchReason_AssistEscape  \\\n",
       "0                       NaN                        NaN   \n",
       "1                       NaN                        NaN   \n",
       "2                       NaN                        NaN   \n",
       "3                       NaN                        NaN   \n",
       "4                       NaN                        NaN   \n",
       "\n",
       "   SearchReason_PossessWeapons  SearchReason_PossessEvidence  ItemsFound  \\\n",
       "0                          NaN                           NaN         NaN   \n",
       "1                          NaN                           NaN         NaN   \n",
       "2                          NaN                           NaN         NaN   \n",
       "3                          NaN                           NaN         NaN   \n",
       "4                          NaN                           NaN         NaN   \n",
       "\n",
       "   ObjectId  \n",
       "0         1  \n",
       "1         2  \n",
       "2         3  \n",
       "3         4  \n",
       "4         5  \n",
       "\n",
       "[5 rows x 25 columns]"
      ]
     },
     "execution_count": 2,
     "metadata": {},
     "output_type": "execute_result"
    }
   ],
   "source": [
    "### STEP 1 ###\n",
    "# Import data.\n",
    "\n",
    "import pandas as pd\n",
    "import numpy as np\n",
    "\n",
    "df = pd.read_csv(\"https://raw.githubusercontent.com/shionguha/inf2178-expdesignfordatascience-w23/main/project%20dataset/Arrests_and_Strip_Searches_(RBDC-ARR-TBL-001).csv\")\n",
    "df.head()"
   ]
  },
  {
   "cell_type": "code",
   "execution_count": 3,
   "metadata": {
    "colab": {
     "base_uri": "https://localhost:8080/"
    },
    "id": "L7BNBKOeuH5O",
    "outputId": "0073bef3-25ac-49fb-81b3-58f05b78d5bf"
   },
   "outputs": [
    {
     "name": "stdout",
     "output_type": "stream",
     "text": [
      "Index(['Arrest_Year', 'Arrest_Month', 'EventID', 'ArrestID', 'PersonID',\n",
      "       'Perceived_Race', 'Sex', 'Age_group__at_arrest_',\n",
      "       'Youth_at_arrest__under_18_years', 'ArrestLocDiv', 'StripSearch',\n",
      "       'Booked', 'Occurrence_Category', 'Actions_at_arrest___Concealed_i',\n",
      "       'Actions_at_arrest___Combative__', 'Actions_at_arrest___Resisted__d',\n",
      "       'Actions_at_arrest___Mental_inst', 'Actions_at_arrest___Assaulted_o',\n",
      "       'Actions_at_arrest___Cooperative', 'SearchReason_CauseInjury',\n",
      "       'SearchReason_AssistEscape', 'SearchReason_PossessWeapons',\n",
      "       'SearchReason_PossessEvidence', 'ItemsFound', 'ObjectId'],\n",
      "      dtype='object')\n"
     ]
    }
   ],
   "source": [
    "### STEP 2 ###\n",
    "# Check column names.\n",
    "\n",
    "print(df.columns)"
   ]
  },
  {
   "cell_type": "markdown",
   "metadata": {
    "id": "WbqOhZOIfeNw"
   },
   "source": [
    "***Start Developing Bar Plots For Preliminary EDA.***"
   ]
  },
  {
   "cell_type": "code",
   "execution_count": 4,
   "metadata": {
    "colab": {
     "base_uri": "https://localhost:8080/",
     "height": 301
    },
    "id": "XpdI0LVdnk7a",
    "outputId": "3d2bd5ce-5c13-4b0b-efd6-df19745f073d"
   },
   "outputs": [
    {
     "data": {
      "image/png": "[encoded data removed]",
      "text/plain": [
       "<Figure size 432x288 with 1 Axes>"
      ]
     },
     "metadata": {},
     "output_type": "display_data"
    }
   ],
   "source": [
    "### STEP 3 ###\n",
    "# Variable: Arrest year\n",
    "\n",
    "import seaborn as sns\n",
    "import matplotlib.pyplot as plt\n",
    "\n",
    "sns.set_theme(style='whitegrid') # Set background to white.\n",
    "\n",
    "fig1 = sns.countplot(data=df, x='Arrest_Year', order=df['Arrest_Year'].value_counts().index).set(xlabel='Arrest Year', ylabel='Number of Arrests', title='Figure 1. Bar Graph Comparing Number Of Arrests By Year')"
   ]
  },
  {
   "cell_type": "code",
   "execution_count": 5,
   "metadata": {
    "colab": {
     "base_uri": "https://localhost:8080/",
     "height": 301
    },
    "id": "XZFbm-pFpCmG",
    "outputId": "e97099d3-e5af-40f7-e8ca-6ddea64cefc9"
   },
   "outputs": [
    {
     "data": {
      "image/png": "[encoded data removed]",
      "text/plain": [
       "<Figure size 432x288 with 1 Axes>"
      ]
     },
     "metadata": {},
     "output_type": "display_data"
    }
   ],
   "source": [
    "### STEP 4 ###\n",
    "# Variable: Arrest month\n",
    "\n",
    "fig2 = sns.countplot(data=df, x='Arrest_Month', order=df['Arrest_Month'].value_counts().index).set(xlabel='Arrest Month', ylabel='Number of Arrests', title='Figure 2. Bar Graph Comparing Number Of Arrests By Month (2020-2021)')"
   ]
  },
  {
   "cell_type": "code",
   "execution_count": 6,
   "metadata": {
    "colab": {
     "base_uri": "https://localhost:8080/",
     "height": 301
    },
    "id": "CG2rOmelpoeX",
    "outputId": "b8c02db1-d8fb-4ade-9f27-2cac543c0275"
   },
   "outputs": [
    {
     "data": {
      "image/png": "[encoded data removed]",
      "text/plain": [
       "<Figure size 432x288 with 1 Axes>"
      ]
     },
     "metadata": {},
     "output_type": "display_data"
    }
   ],
   "source": [
    "### STEP 5 ###\n",
    "# Variable: Perceived race\n",
    "\n",
    "fig3 = sns.countplot(data=df, y='Perceived_Race', order=df['Perceived_Race'].value_counts().index).set(ylabel='Perceived Race', xlabel='Number of Arrests', title='Figure 3. Horizontal Bar Graph Comparing Number Of Arrests By Perceived Race (2020-2021)')"
   ]
  },
  {
   "cell_type": "code",
   "execution_count": 7,
   "metadata": {
    "colab": {
     "base_uri": "https://localhost:8080/",
     "height": 301
    },
    "id": "iBl9lRWqp6HN",
    "outputId": "7260c719-7c2e-463f-89fb-d7cf5a998c91"
   },
   "outputs": [
    {
     "data": {
      "image/png": "[encoded data removed]",
      "text/plain": [
       "<Figure size 432x288 with 1 Axes>"
      ]
     },
     "metadata": {},
     "output_type": "display_data"
    }
   ],
   "source": [
    "### STEP 6 ###\n",
    "# Variable: Sex\n",
    "\n",
    "fig4 = sns.countplot(data=df, x='Sex', order=df['Sex'].value_counts().index).set(xlabel='Sex', ylabel='Number of Arrests', title='Figure 4. Bar Graph Comparing Number Of Arrests By Sex (2020-2021)')"
   ]
  },
  {
   "cell_type": "code",
   "execution_count": 8,
   "metadata": {
    "colab": {
     "base_uri": "https://localhost:8080/",
     "height": 301
    },
    "id": "HSSwguuLqCCd",
    "outputId": "4e69e405-f93f-4254-f15a-a71f63820138"
   },
   "outputs": [
    {
     "data": {
      "image/png": "[encoded data removed]",
      "text/plain": [
       "<Figure size 432x288 with 1 Axes>"
      ]
     },
     "metadata": {},
     "output_type": "display_data"
    }
   ],
   "source": [
    "### STEP 7 ###\n",
    "# Variable: Age group at arrest\n",
    "\n",
    "fig5 = sns.countplot(data=df, y='Age_group__at_arrest_', order=df['Age_group__at_arrest_'].value_counts().index).set(ylabel='Age Group At Arrest', xlabel='Number of Arrests', title='Figure 5. Horizontal Bar Graph Comparing Number Of Arrests By Age Group (2020-2021)')"
   ]
  },
  {
   "cell_type": "code",
   "execution_count": 9,
   "metadata": {
    "colab": {
     "base_uri": "https://localhost:8080/",
     "height": 301
    },
    "id": "9cDRTd2Hs60J",
    "outputId": "83ed188d-9d29-482f-af5f-0291ec4e3d6c"
   },
   "outputs": [
    {
     "data": {
      "image/png": "[encoded data removed]",
      "text/plain": [
       "<Figure size 432x288 with 1 Axes>"
      ]
     },
     "metadata": {},
     "output_type": "display_data"
    }
   ],
   "source": [
    "### STEP 8 ###\n",
    "# Variable: Youth at arrest under 18 years\n",
    "\n",
    "fig6 = sns.countplot(data=df, y='Youth_at_arrest__under_18_years', order=df['Youth_at_arrest__under_18_years'].value_counts().index).set(ylabel='Youth At Arrest Under 18 Years', xlabel='Number of Arrests', title='Figure 6. Horizontal Bar Graph Comparing Number Of Arrests By Number Of Youth (Under 18 Years) (2020-2021)')"
   ]
  },
  {
   "cell_type": "code",
   "execution_count": 10,
   "metadata": {
    "colab": {
     "base_uri": "https://localhost:8080/",
     "height": 301
    },
    "id": "0xIPpJfbt4-P",
    "outputId": "49c6ca18-35de-4b94-b3b3-24bfb8bcb9ef"
   },
   "outputs": [
    {
     "data": {
      "image/png": "[encoded data removed]",
      "text/plain": [
       "<Figure size 432x288 with 1 Axes>"
      ]
     },
     "metadata": {},
     "output_type": "display_data"
    }
   ],
   "source": [
    "### STEP 9 ###\n",
    "# Variable: Arrest local division\n",
    "\n",
    "fig7 = sns.countplot(data=df, x='ArrestLocDiv', order=df['ArrestLocDiv'].value_counts().index).set(xlabel='Arrest Local Division', ylabel='Number of Arrests', title='Figure 7. Bar Graph Comparing Number Of Arrests By Local Division (2020-2021)')"
   ]
  },
  {
   "cell_type": "code",
   "execution_count": 11,
   "metadata": {
    "colab": {
     "base_uri": "https://localhost:8080/",
     "height": 301
    },
    "id": "oaieam0Su3tr",
    "outputId": "d64d1219-bd99-41ce-aae3-b7145c4873dd"
   },
   "outputs": [
    {
     "data": {
      "image/png": "[encoded data removed]",
      "text/plain": [
       "<Figure size 432x288 with 1 Axes>"
      ]
     },
     "metadata": {},
     "output_type": "display_data"
    }
   ],
   "source": [
    "### STEP 10 ###\n",
    "# Variable: Occurence category\n",
    "\n",
    "from matplotlib import rcParams\n",
    "sns.set_theme(style='whitegrid')\n",
    "\n",
    "fig8 = sns.countplot(data=df, y='Occurrence_Category', order=df['Occurrence_Category'].value_counts().index).set(ylabel='Arrest Occurrence Category', xlabel='Number of Arrests', title='Figure 8. Horizontal Bar Graph Comparing Number Of Arrests By Occurence (2020-2021)')\n",
    "sns.set(rc={'figure.figsize':(7,5)}) # Change plot size."
   ]
  },
  {
   "cell_type": "markdown",
   "metadata": {
    "id": "CXxXhzHy9GLA"
   },
   "source": [
    "---\n",
    "**Exploratory Data Analysis (EDA)**\n",
    "---\n",
    "\n",
    "**Transformation Of Outcome Variable & EDA Through Descriptive Statistics**\n",
    "\n",
    "In this section, we will transform the selected outcome variable, occurence category, into a continuous variable to measure the severity of crime. \n",
    "\n",
    "We will also analyze the descriptive statistics for this variable.  "
   ]
  },
  {
   "cell_type": "code",
   "execution_count": 12,
   "metadata": {
    "colab": {
     "base_uri": "https://localhost:8080/"
    },
    "id": "6X0X57o-_Ddf",
    "outputId": "fcf38bff-c726-4958-897e-ad4ba027f7a5"
   },
   "outputs": [
    {
     "name": "stdout",
     "output_type": "stream",
     "text": [
      "                                   Severity\n",
      "Occurrence_Category                        \n",
      "Homicide                                 21\n",
      "Break and Enter                          20\n",
      "Sexual Related Crime                     19\n",
      "Crimes against Children                  18\n",
      "Assault                                  17\n",
      "Fraud                                    16\n",
      "Robbery/Theft                            15\n",
      "Weapons                                  14\n",
      "Mischief                                 13\n",
      "Vehicle Related                          12\n",
      "Drug Related                             11\n",
      "Harassment/Threatening                   10\n",
      "Impaired                                  9\n",
      "FTA/FTC/Compliance Check/Parollee         8\n",
      "Other Offence                             7\n",
      "Other Statute                             6\n",
      "Warrant                                   5\n",
      "Police Category - Incident                4\n",
      "Police Category - Administrative          3\n",
      "LLA                                       2\n",
      "Mental Health                             1\n",
      "NaN                                       0\n"
     ]
    }
   ],
   "source": [
    "### STEP 11 ###\n",
    "# Recode the outcome variable to be continuous by assigning numbers for severity level to each occurence. \n",
    "# The higher the number, the more severe the crime.\n",
    "\n",
    "import numpy as np\n",
    "\n",
    "dict_rank = {\n",
    "    \"Occurrence_Category\": [\"Homicide\",\n",
    "                  \"Break and Enter\",\n",
    "                  \"Sexual Related Crime\",\n",
    "                  \"Crimes against Children\",\n",
    "                  \"Assault\",\n",
    "                  \"Fraud\",\n",
    "                  \"Robbery/Theft\",\n",
    "                  \"Weapons\",\n",
    "                  \"Mischief\",\n",
    "                  \"Vehicle Related\",\n",
    "                  \"Drug Related\",\n",
    "                  \"Harassment/Threatening\",\n",
    "                  \"Impaired\",\n",
    "                  \"FTA/FTC/Compliance Check/Parollee\",\n",
    "                  \"Other Offence\",\n",
    "                  \"Other Statute\",\n",
    "                  \"Warrant\",\n",
    "                  \"Police Category - Incident\",\n",
    "                  \"Police Category - Administrative\",\n",
    "                  \"LLA\",\n",
    "                  \"Mental Health\",\n",
    "                  np.nan],\n",
    "    \"Severity\": list(range(21,-1, -1))\n",
    "}\n",
    "\n",
    "rank = pd.DataFrame.from_dict(dict_rank).set_index(\"Occurrence_Category\")\n",
    "print(rank) # Display ranking of occurence category. "
   ]
  },
  {
   "cell_type": "code",
   "execution_count": 13,
   "metadata": {
    "colab": {
     "base_uri": "https://localhost:8080/"
    },
    "id": "irUx8dI-_w5L",
    "outputId": "45e7409d-9aed-482b-a97e-6267a3ac7d7a"
   },
   "outputs": [
    {
     "name": "stdout",
     "output_type": "stream",
     "text": [
      "['Assault & Other crimes against persons' 'Mischief & Fraud' 'Warrant'\n",
      " 'Robbery & Theft' 'FTA/FTC, Compliance Check & Parollee' 'Drug Related'\n",
      " 'Vehicle Related (inc. Impaired)' 'Other Offence'\n",
      " 'Harassment & Threatening' 'Weapons & Homicide' 'Break & Enter'\n",
      " 'Sexual Related Crimes & Crimes Against Children'\n",
      " 'Other Statute & Other Incident Type' 'Mental Health']\n"
     ]
    },
    {
     "data": {
      "text/plain": [
       "14"
      ]
     },
     "execution_count": 13,
     "metadata": {},
     "output_type": "execute_result"
    }
   ],
   "source": [
    "### STEP 12 ###\n",
    "# Check occurence categories for 2020. \n",
    "\n",
    "Occurance2020 = df[df[\"Arrest_Year\"]==2020] # Limit entries to 2020. \n",
    "a = Occurance2020[\"Occurrence_Category\"].unique() # Check possible occurence categories.\n",
    "print(a)\n",
    "len(a) # Check number of categories."
   ]
  },
  {
   "cell_type": "code",
   "execution_count": 14,
   "metadata": {
    "colab": {
     "base_uri": "https://localhost:8080/"
    },
    "id": "B8AFctcM_0WS",
    "outputId": "5be8308e-0769-4164-bf99-69a3941985af"
   },
   "outputs": [
    {
     "name": "stdout",
     "output_type": "stream",
     "text": [
      "['Harassment/Threatening' 'FTA/FTC/Compliance Check/Parollee' 'Assault'\n",
      " 'Robbery/Theft' 'Sexual Related Crime' 'Police Category - Administrative'\n",
      " 'Weapons' 'Warrant' 'Break and Enter' 'Mischief' 'Drug Related'\n",
      " 'Crimes against Children' 'Police Category - Incident' 'Other Offence'\n",
      " 'Fraud' 'LLA' 'Mental Health' 'Other Statute' 'Vehicle Related'\n",
      " 'Impaired' 'Homicide' nan]\n"
     ]
    },
    {
     "data": {
      "text/plain": [
       "22"
      ]
     },
     "execution_count": 14,
     "metadata": {},
     "output_type": "execute_result"
    }
   ],
   "source": [
    "### STEP 13 ###\n",
    "# Check occurence categories for 2021. \n",
    "\n",
    "Occurance2021 = df[df[\"Arrest_Year\"]==2021] # Limit entries to 2021. \n",
    "b = Occurance2021[\"Occurrence_Category\"].unique() # Check possible occurence categories. \n",
    "print(b)\n",
    "len(b) # Check number of categories."
   ]
  },
  {
   "cell_type": "code",
   "execution_count": 15,
   "metadata": {
    "colab": {
     "base_uri": "https://localhost:8080/"
    },
    "id": "HpvzvY2__egx",
    "outputId": "b14256db-8167-4abf-e120-11ece031e30d"
   },
   "outputs": [
    {
     "data": {
      "text/plain": [
       "Arrest_Year                          int64\n",
       "Arrest_Month                        object\n",
       "EventID                              int64\n",
       "ArrestID                           float64\n",
       "PersonID                             int64\n",
       "Perceived_Race                      object\n",
       "Sex                                 object\n",
       "Age_group__at_arrest_               object\n",
       "Youth_at_arrest__under_18_years     object\n",
       "ArrestLocDiv                        object\n",
       "StripSearch                         object\n",
       "Booked                               int64\n",
       "Occurrence_Category                 object\n",
       "Actions_at_arrest___Concealed_i      int64\n",
       "Actions_at_arrest___Combative__     object\n",
       "Actions_at_arrest___Resisted__d      int64\n",
       "Actions_at_arrest___Mental_inst      int64\n",
       "Actions_at_arrest___Assaulted_o      int64\n",
       "Actions_at_arrest___Cooperative     object\n",
       "SearchReason_CauseInjury           float64\n",
       "SearchReason_AssistEscape          float64\n",
       "SearchReason_PossessWeapons        float64\n",
       "SearchReason_PossessEvidence       float64\n",
       "ItemsFound                         float64\n",
       "ObjectId                             int64\n",
       "Severity                             int64\n",
       "dtype: object"
      ]
     },
     "execution_count": 15,
     "metadata": {},
     "output_type": "execute_result"
    }
   ],
   "source": [
    "### STEP 14 ###\n",
    "# As occurence categories differ between 2020 and 2021, we will use 2021 data going forward as it has more categories and is the most recent data.\n",
    "# We will extract only 2021 data with the severity level.\n",
    "\n",
    "df2021 = df[df[\"Arrest_Year\"]==2021]\n",
    "\n",
    "# Left join to merge the severity ranking dictionary with the dataframe.\n",
    "df2021_Rank = df2021.join(rank, on = \"Occurrence_Category\", how = \"left\")\n",
    "\n",
    "# Change data type to enable categorical analysis for  columns of interest.\n",
    "df2021_Rank.astype({\"StripSearch\":\"str\", \"Actions_at_arrest___Cooperative\":\"str\", \"Actions_at_arrest___Combative__\":\"str\"}).dtypes"
   ]
  },
  {
   "cell_type": "code",
   "execution_count": 16,
   "metadata": {
    "colab": {
     "base_uri": "https://localhost:8080/"
    },
    "id": "BxQWahW7Adq6",
    "outputId": "03b2089a-1c25-401c-eef8-47150c6276a1"
   },
   "outputs": [
    {
     "data": {
      "text/plain": [
       "count    33294.000000\n",
       "mean        11.368955\n",
       "std          5.390201\n",
       "min          0.000000\n",
       "25%          8.000000\n",
       "50%         12.000000\n",
       "75%         17.000000\n",
       "max         21.000000\n",
       "Name: Severity, dtype: float64"
      ]
     },
     "execution_count": 16,
     "metadata": {},
     "output_type": "execute_result"
    }
   ],
   "source": [
    "### STEP 15 ###\n",
    "# Produce summary statistics for severity of crime.\n",
    "\n",
    "# Remove unidentified sex data.\n",
    "df2021_RankMF = df2021_Rank[df2021_Rank.Sex != \"U\"]\n",
    "\n",
    "severity_2021 = df2021_RankMF[\"Severity\"]\n",
    "severity_2021.describe()"
   ]
  },
  {
   "cell_type": "code",
   "execution_count": 17,
   "metadata": {
    "colab": {
     "base_uri": "https://localhost:8080/",
     "height": 319
    },
    "id": "CSHMWYhYArum",
    "outputId": "f3cf91c7-d6ce-4845-eb45-b1c41b385bba"
   },
   "outputs": [
    {
     "data": {
      "image/png": "[encoded data removed]",
      "text/plain": [
       "<Figure size 504x360 with 1 Axes>"
      ]
     },
     "metadata": {},
     "output_type": "display_data"
    }
   ],
   "source": [
    "### STEP 16 ###\n",
    "# Produce a boxplot to assess the distrubution of severity of crime.\n",
    "\n",
    "sns.set_theme(style='whitegrid') # Set background to white.\n",
    "\n",
    "fig9 = sns.boxplot(data=df2021_RankMF, y=\"Severity\", showmeans=True, meanline=True, meanprops=dict(color=\"red\", alpha=1)).set(ylabel='Severity of Crime', title='Figure 9. Boxplot For Severity Of Crime (2021)') # Create plot.\n",
    "sns.set(rc={'figure.figsize':(6,4)}) # Change plot size."
   ]
  },
  {
   "cell_type": "markdown",
   "metadata": {
    "id": "tCihqSNeQ0A9"
   },
   "source": [
    "---\n",
    "**Exploratory Data Analysis (EDA)**\n",
    "---\n",
    "\n",
    "**EDA Through T-tests**\n",
    "\n",
    "In this section, we will perform a series of t-tests on the selected predictor variables: Race, Sex, and Age, along with the selected outcome variable: Severity of Crime.\n",
    "\n",
    "This will help to determine which variables are statistically significant predictors of severity of crime, which will inform which interaction tests to run next through ANOVA."
   ]
  },
  {
   "cell_type": "markdown",
   "metadata": {
    "id": "JjdnsW8ZZ8RR"
   },
   "source": [
    "***T-test 1: Race and Severity Of Crime.***\n"
   ]
  },
  {
   "cell_type": "code",
   "execution_count": 18,
   "metadata": {
    "colab": {
     "base_uri": "https://localhost:8080/"
    },
    "id": "pb3qLpdUUwwL",
    "outputId": "39c405f1-eac2-423e-fe0a-b6a1aac6c8b6"
   },
   "outputs": [
    {
     "name": "stdout",
     "output_type": "stream",
     "text": [
      "\n",
      " Welch's t-test= -9.3528 \n",
      " p-value = 0.0000 \n",
      " Welch-Satterthwaite Degrees of Freedom= 29688.5151\n"
     ]
    },
    {
     "name": "stderr",
     "output_type": "stream",
     "text": [
      "C:\\Users\\Teresa Lau\\AppData\\Local\\Temp\\ipykernel_5072\\1460202090.py:7: SettingWithCopyWarning: \n",
      "A value is trying to be set on a copy of a slice from a DataFrame.\n",
      "Try using .loc[row_indexer,col_indexer] = value instead\n",
      "\n",
      "See the caveats in the documentation: https://pandas.pydata.org/pandas-docs/stable/user_guide/indexing.html#returning-a-view-versus-a-copy\n",
      "  df2021_RankMF[\"White_BIPOC\"] = df2021_RankMF[\"Perceived_Race\"].map(lambda x:\"BIPOC\" if x != \"White\" else \"White\")\n"
     ]
    }
   ],
   "source": [
    "### STEP 17 ###\n",
    "# T-test: Race and Severity of Crime.\n",
    "\n",
    "from scipy import stats\n",
    "\n",
    "# Add a White versus BIPOC column to retain the original granularity of the data.\n",
    "df2021_RankMF[\"White_BIPOC\"] = df2021_RankMF[\"Perceived_Race\"].map(lambda x:\"BIPOC\" if x != \"White\" else \"White\")\n",
    "\n",
    "# Create data frames for White and BIPOC.\n",
    "df2021_RankWh = df2021_RankMF[df2021_RankMF[\"White_BIPOC\"] == \"White\"]\n",
    "df2021_RankBI = df2021_RankMF[df2021_RankMF[\"White_BIPOC\"] == \"BIPOC\"]\n",
    "\n",
    "# Run Welch's T-test.\n",
    "def welch_ttest(x, y): \n",
    "    dof = (x.var()/x.size + y.var()/y.size)**2 / ((x.var()/x.size)**2 / (x.size-1) + (y.var()/y.size)**2 / (y.size-1)) # Welch-Satterthwaite Degrees of Freedom.\n",
    "    t, p = stats.ttest_ind(x, y, equal_var = False)\n",
    "\n",
    "    print(\"\\n\",\n",
    "          f\"Welch's t-test= {t:.4f}\", \"\\n\",\n",
    "          f\"p-value = {p:.4f}\", \"\\n\",\n",
    "          f\"Welch-Satterthwaite Degrees of Freedom= {dof:.4f}\")\n",
    "\n",
    "welch_ttest(df2021_RankWh['Severity'], df2021_RankBI['Severity'])"
   ]
  },
  {
   "cell_type": "code",
   "execution_count": 19,
   "metadata": {
    "colab": {
     "base_uri": "https://localhost:8080/"
    },
    "id": "VDajIFcZWydC",
    "outputId": "edf7a6e0-d3b7-4cac-e34d-0918f3287994"
   },
   "outputs": [
    {
     "name": "stdout",
     "output_type": "stream",
     "text": [
      "Mean Severity Score for White and BIPOC : 11.045274195833924 11.607142857142858\n",
      "Standard deviation Score for White and BIPOC: 5.510231330483597 5.287642649223385\n",
      "Confidence interval for Severity Score: (-0.6796176902775583, -0.44411963234030855)\n"
     ]
    }
   ],
   "source": [
    "### STEP 18 ###\n",
    "# Descriptive statistics for race and severity of crime.\n",
    "\n",
    "# Mean and standard deviation.\n",
    "print('Mean Severity Score for White and BIPOC :',df2021_RankWh['Severity'].mean(), df2021_RankBI['Severity'].mean())\n",
    "print('Standard deviation Score for White and BIPOC:',df2021_RankWh['Severity'].std(), df2021_RankBI['Severity'].std())\n",
    "\n",
    "# Confidence Interval.\n",
    "import statsmodels.stats.weightstats as sms\n",
    "cmWHBI = sms.CompareMeans(sms.DescrStatsW(df2021_RankWh['Severity']), sms.DescrStatsW(df2021_RankBI['Severity']))\n",
    "print('Confidence interval for Severity Score:',cmWHBI.tconfint_diff(usevar='unequal'))"
   ]
  },
  {
   "cell_type": "markdown",
   "metadata": {
    "id": "3ZKbnZiNaitZ"
   },
   "source": [
    "***T-test 2: Sex and Severity Of Crime.***\n"
   ]
  },
  {
   "cell_type": "code",
   "execution_count": 20,
   "metadata": {
    "colab": {
     "base_uri": "https://localhost:8080/"
    },
    "id": "f2C86OeGamYI",
    "outputId": "5b215a0d-c720-4aee-e8d9-1a0b2bfadd4d"
   },
   "outputs": [
    {
     "name": "stdout",
     "output_type": "stream",
     "text": [
      "\n",
      " Welch's t-test= -1.3577 \n",
      " p-value = 0.1746 \n",
      " Welch-Satterthwaite Degrees of Freedom= 9985.6940\n"
     ]
    }
   ],
   "source": [
    "### STEP 19 ###\n",
    "# T-test: Sex and Severity of Crime.\n",
    "\n",
    "# Set up seperate df for male and female data after removing the unidentified data.\n",
    "df2021_RankM = df2021_RankMF[df2021_RankMF[\"Sex\"]==\"M\"]\n",
    "df2021_RankF = df2021_RankMF[df2021_RankMF[\"Sex\"]==\"F\"]\n",
    "\n",
    "# Run Welch's T-test.\n",
    "def welch_ttest(x, y): \n",
    "    dof = (x.var()/x.size + y.var()/y.size)**2 / ((x.var()/x.size)**2 / (x.size-1) + (y.var()/y.size)**2 / (y.size-1)) # Welch-Satterthwaite Degrees of Freedom.\n",
    "    t, p = stats.ttest_ind(x, y, equal_var = False)\n",
    "    \n",
    "    print(\"\\n\",\n",
    "          f\"Welch's t-test= {t:.4f}\", \"\\n\",\n",
    "          f\"p-value = {p:.4f}\", \"\\n\",\n",
    "          f\"Welch-Satterthwaite Degrees of Freedom= {dof:.4f}\")\n",
    "    \n",
    "welch_ttest(df2021_RankM['Severity'], df2021_RankF['Severity'])"
   ]
  },
  {
   "cell_type": "code",
   "execution_count": 21,
   "metadata": {
    "colab": {
     "base_uri": "https://localhost:8080/"
    },
    "id": "M426OfaoamrV",
    "outputId": "3fe06856-0e89-4dd6-fa07-ebe94fc9308b"
   },
   "outputs": [
    {
     "name": "stdout",
     "output_type": "stream",
     "text": [
      "Mean Severity Score for Arrested Male and Female : 11.349468581018087 11.449606420743942\n",
      "Standard deviation Score for Arrested Male and Female: 5.409790765609494 5.308007670503892\n",
      "Confidence interval for Severity Score: (-0.24471588813979894, 0.04444020868808851)\n"
     ]
    }
   ],
   "source": [
    "### STEP 20 ###\n",
    "# Descriptive statistics for sex and severity of crime.\n",
    "\n",
    "# Mean and Standard Deviation.\n",
    "print('Mean Severity Score for Arrested Male and Female :',df2021_RankM['Severity'].mean(), df2021_RankF['Severity'].mean())\n",
    "print('Standard deviation Score for Arrested Male and Female:',df2021_RankM['Severity'].std(), df2021_RankF['Severity'].std())\n",
    "\n",
    "# Confidence Interval.\n",
    "cmSex = sms.CompareMeans(sms.DescrStatsW(df2021_RankM['Severity']), sms.DescrStatsW(df2021_RankF['Severity']))\n",
    "print('Confidence interval for Severity Score:',cmSex.tconfint_diff(usevar='unequal'))"
   ]
  },
  {
   "cell_type": "markdown",
   "metadata": {
    "id": "7Vl7I3A8diNW"
   },
   "source": [
    "***T-test 3: Age and Severity Of Crime.***"
   ]
  },
  {
   "cell_type": "code",
   "execution_count": 22,
   "metadata": {
    "colab": {
     "base_uri": "https://localhost:8080/"
    },
    "id": "qzKrU9nWdnsk",
    "outputId": "3d48fa73-6bcb-40ad-9a1c-6f31ab28d1ea"
   },
   "outputs": [
    {
     "name": "stdout",
     "output_type": "stream",
     "text": [
      "\n",
      " Welch's t-test= 12.0205 \n",
      " p-value = 0.0000 \n",
      " Welch-Satterthwaite Degrees of Freedom= 1514.2090\n"
     ]
    }
   ],
   "source": [
    "### STEP 21 ###\n",
    "# T-test: Age and Severity of Crime.\n",
    "\n",
    "# Create two data frames for youth and non-youth.\n",
    "df2021_RankYouth = df2021_RankMF[df2021_RankMF[\"Youth_at_arrest__under_18_years\"] == \"Youth (aged 17 years and under)\"]\n",
    "df2021_RankNoYouth = df2021_RankMF[df2021_RankMF[\"Youth_at_arrest__under_18_years\"] == \"Not a youth\"]\n",
    "\n",
    "# Welch T-test\n",
    "def welch_ttest(x, y): \n",
    "    dof = (x.var()/x.size + y.var()/y.size)**2 / ((x.var()/x.size)**2 / (x.size-1) + (y.var()/y.size)**2 / (y.size-1)) # Welch-Satterthwaite Degrees of Freedom.\n",
    "    t, p = stats.ttest_ind(x, y, equal_var = False)\n",
    "    \n",
    "    print(\"\\n\",\n",
    "          f\"Welch's t-test= {t:.4f}\", \"\\n\",\n",
    "          f\"p-value = {p:.4f}\", \"\\n\",\n",
    "          f\"Welch-Satterthwaite Degrees of Freedom= {dof:.4f}\")\n",
    "\n",
    "welch_ttest(df2021_RankYouth['Severity'], df2021_RankNoYouth['Severity'])"
   ]
  },
  {
   "cell_type": "code",
   "execution_count": 23,
   "metadata": {
    "colab": {
     "base_uri": "https://localhost:8080/"
    },
    "id": "DheT-Op3eG8s",
    "outputId": "c72c74f9-b217-42f8-c5cb-29380635cf85"
   },
   "outputs": [
    {
     "name": "stdout",
     "output_type": "stream",
     "text": [
      "Mean Severity Score for Youth and Non-Youth : 12.893460690668626 11.303980208561676\n",
      "Standard deviation Score for Youth and Non-Youth: 4.748804168369125 5.406373054230934\n",
      "Confidence interval for Severity Score: (1.3301065003498387, 1.8488544638640612)\n"
     ]
    }
   ],
   "source": [
    "### STEP 22 ###\n",
    "# Descriptive statistics for age and severity of crime.\n",
    "\n",
    "# Mean and Standard Deviation.\n",
    "print('Mean Severity Score for Youth and Non-Youth :',df2021_RankYouth['Severity'].mean(), df2021_RankNoYouth['Severity'].mean())\n",
    "print('Standard deviation Score for Youth and Non-Youth:',df2021_RankYouth['Severity'].std(), df2021_RankNoYouth['Severity'].std())\n",
    "\n",
    "# Confidence Interval.\n",
    "cmYouth = sms.CompareMeans(sms.DescrStatsW(df2021_RankYouth['Severity']), sms.DescrStatsW(df2021_RankNoYouth['Severity']))\n",
    "print('Confidence interval for Severity Score:',cmYouth.tconfint_diff(usevar='unequal'))"
   ]
  },
  {
   "cell_type": "markdown",
   "metadata": {
    "id": "gXRbUCAJR1Br"
   },
   "source": [
    "\n",
    "---\n",
    "**ANOVA Testing**\n",
    "---\n",
    "\n",
    "**One-way ANOVA**\n",
    "\n",
    "In this section, we will conduct one-way ANOVA tests between the two statistically significant predictor variables: Race and Age, and the outcome variable: Severity of Crime.\n",
    "\n",
    "We will also run Tukey's HSD as a post-hoc test after each ANOVA to test differences amongst sample means for significance."
   ]
  },
  {
   "cell_type": "code",
   "execution_count": 24,
   "metadata": {
    "colab": {
     "base_uri": "https://localhost:8080/"
    },
    "id": "ZMd9ct97XNav",
    "outputId": "44652f39-6bca-4353-b444-fb916801d0eb"
   },
   "outputs": [
    {
     "name": "stderr",
     "output_type": "stream",
     "text": [
      "C:\\ProgramData\\Anaconda3\\lib\\site-packages\\scipy\\stats\\morestats.py:1760: UserWarning: p-value may not be accurate for N > 5000.\n",
      "  warnings.warn(\"p-value may not be accurate for N > 5000.\")\n"
     ]
    },
    {
     "data": {
      "text/plain": [
       "ShapiroResult(statistic=0.919291079044342, pvalue=0.0)"
      ]
     },
     "execution_count": 24,
     "metadata": {},
     "output_type": "execute_result"
    }
   ],
   "source": [
    "### STEP 23 ###\n",
    "# Assumption Checking: Check if data is drawn from a normal distribution.\n",
    "# Null hypothesis: The data is drawn from a normal distribution.\n",
    "\n",
    "import scipy\n",
    "from scipy.stats import shapiro\n",
    "\n",
    "shapiro_Race = shapiro(df2021_RankMF[\"Severity\"])\n",
    "shapiro_Race"
   ]
  },
  {
   "cell_type": "markdown",
   "metadata": {
    "id": "q7eAc77Isu13"
   },
   "source": [
    "***One-way ANOVA Test 1: Race and Severity of Crime.***"
   ]
  },
  {
   "cell_type": "code",
   "execution_count": 25,
   "metadata": {
    "id": "RRgHpcQCs8NA"
   },
   "outputs": [],
   "source": [
    "### STEP 24 ###\n",
    "# Create sample. \n",
    "\n",
    "sBk = df2021_RankMF[df2021_RankMF[\"Perceived_Race\"] == \"Black\"][\"Severity\"]\n",
    "sSA = df2021_RankMF[df2021_RankMF[\"Perceived_Race\"] == \"South Asian\"][\"Severity\"]\n",
    "sIn = df2021_RankMF[df2021_RankMF[\"Perceived_Race\"] == \"Indigenous\"][\"Severity\"]\n",
    "sME = df2021_RankMF[df2021_RankMF[\"Perceived_Race\"] == \"Middle-Eastern\"][\"Severity\"]\n",
    "sWh = df2021_RankMF[df2021_RankMF[\"Perceived_Race\"] == \"White\"][\"Severity\"]\n",
    "sUn = df2021_RankMF[df2021_RankMF[\"Perceived_Race\"] == \"Unknown or Legacy\"][\"Severity\"]\n",
    "sEA = df2021_RankMF[df2021_RankMF[\"Perceived_Race\"] == \"East/Southeast Asian\"][\"Severity\"]\n",
    "sLa = df2021_RankMF[df2021_RankMF[\"Perceived_Race\"] == \"Latino\"][\"Severity\"]"
   ]
  },
  {
   "cell_type": "code",
   "execution_count": 26,
   "metadata": {
    "colab": {
     "base_uri": "https://localhost:8080/"
    },
    "id": "y1YcU-DntIz_",
    "outputId": "cd68e4d6-94f4-4084-b46c-514f2ec65dd6"
   },
   "outputs": [
    {
     "name": "stdout",
     "output_type": "stream",
     "text": [
      "One-way ANOVA: s = 24.976787966399527, p = 2.9730134379399103e-34\n",
      "The p-value is <0.001 (***)\n"
     ]
    }
   ],
   "source": [
    "### STEP 25 ###\n",
    "# 1-WAY ANOVA: Race and Severity of Crime.\n",
    "\n",
    "from scipy.stats import f_oneway\n",
    "\n",
    "statistic, pvalue = f_oneway(sBk, sSA, sIn, sME, sWh, sUn, sEA, sLa)\n",
    "\n",
    "print(f'One-way ANOVA: s = {statistic}, p = {pvalue}')\n",
    "\n",
    "\n",
    "def get_significance(p):\n",
    "    \"\"\"Returns the significance of a p-values as a string of stars.\"\"\"\n",
    "    if p <= 0.001:\n",
    "        return '***'\n",
    "    elif p <= 0.01:\n",
    "        return '**'\n",
    "    elif p <= 0.05:\n",
    "        return '*'\n",
    "    elif p <= 0.1:\n",
    "        return '.'\n",
    "    else:\n",
    "        return ''\n",
    "\n",
    "def round_p_value(p):\n",
    "    \"\"\"Round a small p-value so that it is human-readable.\"\"\"\n",
    "    if p < 0.001:\n",
    "        return '<0.001'\n",
    "    else:\n",
    "        return f'{p:5.3}'\n",
    "\n",
    "p_rounded = round_p_value(pvalue)\n",
    "significance = get_significance(pvalue)\n",
    "print(f'The p-value is {p_rounded} ({significance})')"
   ]
  },
  {
   "cell_type": "code",
   "execution_count": 27,
   "metadata": {
    "colab": {
     "base_uri": "https://localhost:8080/"
    },
    "id": "g1Yb2vcrtaeg",
    "outputId": "78fbc267-0927-4547-b7e4-dacc27cb5059"
   },
   "outputs": [
    {
     "name": "stdout",
     "output_type": "stream",
     "text": [
      "              Multiple Comparison of Means - Tukey HSD, FWER=0.05               \n",
      "================================================================================\n",
      "       group1               group2        meandiff p-adj   lower   upper  reject\n",
      "--------------------------------------------------------------------------------\n",
      "               Black East/Southeast Asian   0.5028 0.0018  0.1166   0.889   True\n",
      "               Black           Indigenous  -1.0656    0.0 -1.6391 -0.4922   True\n",
      "               Black               Latino   0.3566 0.5778 -0.2103  0.9235  False\n",
      "               Black       Middle-Eastern   0.4321 0.0569 -0.0062  0.8704  False\n",
      "               Black          South Asian   0.2367 0.7277 -0.1876  0.6609  False\n",
      "               Black    Unknown or Legacy   0.5684 0.0001  0.1875  0.9494   True\n",
      "               Black                White   -0.399    0.0 -0.6249 -0.1731   True\n",
      "               Black                  nan   6.0558 0.8092 -5.7385   17.85  False\n",
      "East/Southeast Asian           Indigenous  -1.5684   -0.0 -2.2129  -0.924   True\n",
      "East/Southeast Asian               Latino  -0.1462 0.9987 -0.7848  0.4924  False\n",
      "East/Southeast Asian       Middle-Eastern  -0.0708    1.0 -0.5986  0.4571  False\n",
      "East/Southeast Asian          South Asian  -0.2661 0.8056 -0.7823  0.2501  False\n",
      "East/Southeast Asian    Unknown or Legacy   0.0656    1.0 -0.4156  0.5469  False\n",
      "East/Southeast Asian                White  -0.9018   -0.0 -1.2726  -0.531   True\n",
      "East/Southeast Asian                  nan   5.5529  0.874 -6.2449 17.3508  False\n",
      "          Indigenous               Latino   1.4222    0.0  0.6557  2.1887   True\n",
      "          Indigenous       Middle-Eastern   1.4977    0.0  0.8207  2.1746   True\n",
      "          Indigenous          South Asian   1.3023    0.0  0.6344  1.9702   True\n",
      "          Indigenous    Unknown or Legacy   1.6341   -0.0  0.9928  2.2754   True\n",
      "          Indigenous                White   0.6667 0.0074  0.1035  1.2299   True\n",
      "          Indigenous                  nan   7.1214 0.6338 -4.6841 18.9269  False\n",
      "              Latino       Middle-Eastern   0.0755    1.0  -0.596  0.7469  False\n",
      "              Latino          South Asian  -0.1199 0.9998 -0.7823  0.5424  False\n",
      "              Latino    Unknown or Legacy   0.2118 0.9826 -0.4236  0.8473  False\n",
      "              Latino                White  -0.7556 0.0009 -1.3121  -0.199   True\n",
      "              Latino                  nan   5.6992 0.8572  -6.106 17.5044  False\n",
      "      Middle-Eastern          South Asian  -0.1954 0.9759 -0.7517  0.3609  False\n",
      "      Middle-Eastern    Unknown or Legacy   0.1364 0.9967 -0.3876  0.6604  False\n",
      "      Middle-Eastern                White   -0.831    0.0 -1.2559 -0.4062   True\n",
      "      Middle-Eastern                  nan   5.6237 0.8659  -6.176 17.4234  False\n",
      "         South Asian    Unknown or Legacy   0.3318 0.5371 -0.1806  0.8441  False\n",
      "         South Asian                White  -0.6356 0.0001  -1.046 -0.2253   True\n",
      "         South Asian                  nan   5.8191 0.8417 -5.9801 17.6183  False\n",
      "   Unknown or Legacy                White  -0.9674   -0.0 -1.3328  -0.602   True\n",
      "   Unknown or Legacy                  nan   5.4873 0.8813 -6.3104  17.285  False\n",
      "               White                  nan   6.4547 0.7482  -5.339 18.2485  False\n",
      "--------------------------------------------------------------------------------\n"
     ]
    }
   ],
   "source": [
    "### STEP 26 ###\n",
    "# Tukey's HSD: Race and Severity of Crime.\n",
    "\n",
    "from statsmodels.stats.multicomp import pairwise_tukeyhsd\n",
    "\n",
    "tukey1 = pairwise_tukeyhsd(endog= df2021_RankMF[\"Severity\"], groups= list(df2021_RankMF[\"Perceived_Race\"]), alpha = 0.05)\n",
    "print(tukey1)"
   ]
  },
  {
   "cell_type": "markdown",
   "metadata": {
    "id": "DkM8EPRmsKKY"
   },
   "source": [
    "***One-way ANOVA Test 2: Age and Severity of Crime.***"
   ]
  },
  {
   "cell_type": "code",
   "execution_count": 28,
   "metadata": {
    "id": "x5wyGu6_tv6s"
   },
   "outputs": [],
   "source": [
    "### STEP 27 ###\n",
    "# Create dataframes for each level.\n",
    "\n",
    "s17 = df2021_RankMF[df2021_RankMF[\"Age_group__at_arrest_\"] == \"Aged 17 years and under\"][\"Severity\"]\n",
    "s1824 = df2021_RankMF[df2021_RankMF[\"Age_group__at_arrest_\"] == \"Aged 18 to 24 years\"][\"Severity\"]\n",
    "s2534 = df2021_RankMF[df2021_RankMF[\"Age_group__at_arrest_\"] == \"Aged 25 to 34 years\"][\"Severity\"]\n",
    "s3544 = df2021_RankMF[df2021_RankMF[\"Age_group__at_arrest_\"] == \"Aged 35 to 44 years\"][\"Severity\"]\n",
    "s4554 = df2021_RankMF[df2021_RankMF[\"Age_group__at_arrest_\"] == \"Aged 45 to 54 years\"][\"Severity\"]\n",
    "s5564 = df2021_RankMF[df2021_RankMF[\"Age_group__at_arrest_\"] == \"Aged 55 to 64 years\"][\"Severity\"]\n",
    "s65 = df2021_RankMF[df2021_RankMF[\"Age_group__at_arrest_\"] == \"Aged 65 years and older\"][\"Severity\"]"
   ]
  },
  {
   "cell_type": "code",
   "execution_count": 29,
   "metadata": {
    "colab": {
     "base_uri": "https://localhost:8080/"
    },
    "id": "QjxIAnh1t1R8",
    "outputId": "4e9ec21b-20ef-4686-bd81-6e313b8c3454"
   },
   "outputs": [
    {
     "name": "stdout",
     "output_type": "stream",
     "text": [
      "One-way ANOVA: s = 24.25932562442749, p = 7.817120989374829e-29\n",
      "The p-value is <0.001 (***)\n"
     ]
    }
   ],
   "source": [
    "### STEP 28 ###\n",
    "# 1-WAY ANOVA: Age and Severity of Crime.\n",
    "\n",
    "statistic, pvalue = f_oneway(s17, s1824, s2534, s3544, s4554, s5564, s65)\n",
    "\n",
    "print(f'One-way ANOVA: s = {statistic}, p = {pvalue}')\n",
    "\n",
    "def get_significance(p):\n",
    "    \"\"\"Returns the significance of a p-values as a string of stars.\"\"\"\n",
    "    if p <= 0.001:\n",
    "        return '***'\n",
    "    elif p <= 0.01:\n",
    "        return '**'\n",
    "    elif p <= 0.05:\n",
    "        return '*'\n",
    "    elif p <= 0.1:\n",
    "        return '.'\n",
    "    else:\n",
    "        return ''\n",
    "\n",
    "def round_p_value(p):\n",
    "    \"\"\"Round a small p-value so that it is human-readable.\"\"\"\n",
    "    if p < 0.001:\n",
    "        return '<0.001'\n",
    "    else:\n",
    "        return f'{p:5.3}'\n",
    "\n",
    "p_rounded = round_p_value(pvalue)\n",
    "significance = get_significance(pvalue)\n",
    "print(f'The p-value is {p_rounded} ({significance})')"
   ]
  },
  {
   "cell_type": "code",
   "execution_count": 30,
   "metadata": {
    "colab": {
     "base_uri": "https://localhost:8080/"
    },
    "id": "t0P0_xFGt7qR",
    "outputId": "8cd7d474-75fc-4437-b7a6-b7f5aa4ba4e2"
   },
   "outputs": [
    {
     "name": "stdout",
     "output_type": "stream",
     "text": [
      "                 Multiple Comparison of Means - Tukey HSD, FWER=0.05                  \n",
      "======================================================================================\n",
      "         group1                  group2         meandiff p-adj   lower   upper  reject\n",
      "--------------------------------------------------------------------------------------\n",
      "Aged 17 years and under     Aged 18 to 24 years  -1.5035    0.0 -2.0049 -1.0022   True\n",
      "Aged 17 years and under     Aged 25 to 34 years  -1.6677    0.0 -2.1367 -1.1987   True\n",
      "Aged 17 years and under     Aged 35 to 44 years  -1.6804    0.0 -2.1559  -1.205   True\n",
      "Aged 17 years and under     Aged 45 to 54 years    -1.54    0.0 -2.0419 -1.0381   True\n",
      "Aged 17 years and under     Aged 55 to 64 years  -1.4509    0.0  -2.006 -0.8959   True\n",
      "Aged 17 years and under Aged 65 years and older  -0.5969 0.2493 -1.3559  0.1621  False\n",
      "Aged 17 years and under                     nan  -3.8935 0.1567 -8.4368  0.6499  False\n",
      "    Aged 18 to 24 years     Aged 25 to 34 years  -0.1641 0.6532 -0.4482  0.1199  False\n",
      "    Aged 18 to 24 years     Aged 35 to 44 years  -0.1769 0.6065 -0.4716  0.1178  False\n",
      "    Aged 18 to 24 years     Aged 45 to 54 years  -0.0364    1.0 -0.3721  0.2992  False\n",
      "    Aged 18 to 24 years     Aged 55 to 64 years   0.0526 0.9999 -0.3583  0.4635  False\n",
      "    Aged 18 to 24 years Aged 65 years and older   0.9066 0.0008  0.2457  1.5676   True\n",
      "    Aged 18 to 24 years                     nan  -2.3899 0.7507 -6.9179  2.1381  False\n",
      "    Aged 25 to 34 years     Aged 35 to 44 years  -0.0128    1.0 -0.2482  0.2226  False\n",
      "    Aged 25 to 34 years     Aged 45 to 54 years   0.1277 0.8761 -0.1573  0.4127  False\n",
      "    Aged 25 to 34 years     Aged 55 to 64 years   0.2167 0.6391  -0.154  0.5874  False\n",
      "    Aged 25 to 34 years Aged 65 years and older   1.0708    0.0   0.434  1.7075   True\n",
      "    Aged 25 to 34 years                     nan  -2.2258 0.8126 -6.7503  2.2987  False\n",
      "    Aged 35 to 44 years     Aged 45 to 54 years   0.1405 0.8384 -0.1551  0.4361  False\n",
      "    Aged 35 to 44 years     Aged 55 to 64 years   0.2295 0.5953 -0.1494  0.6084  False\n",
      "    Aged 35 to 44 years Aged 65 years and older   1.0835    0.0   0.442  1.7251   True\n",
      "    Aged 35 to 44 years                     nan   -2.213 0.8172 -6.7382  2.3122  False\n",
      "    Aged 45 to 54 years     Aged 55 to 64 years    0.089  0.998 -0.3225  0.5006  False\n",
      "    Aged 45 to 54 years Aged 65 years and older   0.9431 0.0004  0.2817  1.6044   True\n",
      "    Aged 45 to 54 years                     nan  -2.3535 0.7652 -6.8815  2.1746  False\n",
      "    Aged 55 to 64 years Aged 65 years and older    0.854 0.0056  0.1515  1.5566   True\n",
      "    Aged 55 to 64 years                     nan  -2.4425 0.7304 -6.9768  2.0917  False\n",
      "Aged 65 years and older                     nan  -3.2966  0.358 -7.8603  1.2672  False\n",
      "--------------------------------------------------------------------------------------\n"
     ]
    }
   ],
   "source": [
    "### STEP 29 ###\n",
    "# Tukey's HSD: Age and Severity of Crime.\n",
    "\n",
    "tukey2 = pairwise_tukeyhsd(endog =df2021_RankMF[\"Severity\"], groups = list(df2021_RankMF[\"Age_group__at_arrest_\"]), alpha= 0.05)\n",
    "print(tukey2)"
   ]
  },
  {
   "cell_type": "markdown",
   "metadata": {
    "id": "q9a5cWOSvbJt"
   },
   "source": [
    "---\n",
    "**ANOVA Testing**\n",
    "---\n",
    "\n",
    "**Two-way ANOVA**\n",
    "\n",
    "In this section, we will conduct two-way ANOVA to test for statistically significant interactions between the predictor variables: Race, Sex, and Age, and the outcome variable: Severity of Crime.\n",
    "\n",
    "We will also run Tukey's HSD as a post-hoc test after each ANOVA to test differences amongst sample means for significance."
   ]
  },
  {
   "cell_type": "markdown",
   "metadata": {
    "id": "Vly6axGpz1b3"
   },
   "source": [
    "***Two-way ANOVA Test 1: Race, Sex and Severity of Crime.***"
   ]
  },
  {
   "cell_type": "code",
   "execution_count": 31,
   "metadata": {
    "colab": {
     "base_uri": "https://localhost:8080/",
     "height": 204
    },
    "id": "Y2s_MBf63cEJ",
    "outputId": "5e67b7c1-b39f-4bbf-c791-4cb3f1faa025"
   },
   "outputs": [
    {
     "data": {
      "text/html": [
       "<div>\n",
       "<style scoped>\n",
       "    .dataframe tbody tr th:only-of-type {\n",
       "        vertical-align: middle;\n",
       "    }\n",
       "\n",
       "    .dataframe tbody tr th {\n",
       "        vertical-align: top;\n",
       "    }\n",
       "\n",
       "    .dataframe thead th {\n",
       "        text-align: right;\n",
       "    }\n",
       "</style>\n",
       "<table border=\"1\" class=\"dataframe\">\n",
       "  <thead>\n",
       "    <tr style=\"text-align: right;\">\n",
       "      <th></th>\n",
       "      <th>Perceived_Race</th>\n",
       "      <th>Sex</th>\n",
       "      <th>Age_group__at_arrest_</th>\n",
       "      <th>Severity</th>\n",
       "    </tr>\n",
       "  </thead>\n",
       "  <tbody>\n",
       "    <tr>\n",
       "      <th>0</th>\n",
       "      <td>Black</td>\n",
       "      <td>M</td>\n",
       "      <td>Aged 25 to 34 years</td>\n",
       "      <td>10</td>\n",
       "    </tr>\n",
       "    <tr>\n",
       "      <th>1</th>\n",
       "      <td>South Asian</td>\n",
       "      <td>M</td>\n",
       "      <td>Aged 25 to 34 years</td>\n",
       "      <td>8</td>\n",
       "    </tr>\n",
       "    <tr>\n",
       "      <th>2</th>\n",
       "      <td>South Asian</td>\n",
       "      <td>M</td>\n",
       "      <td>Aged 25 to 34 years</td>\n",
       "      <td>17</td>\n",
       "    </tr>\n",
       "    <tr>\n",
       "      <th>3</th>\n",
       "      <td>Black</td>\n",
       "      <td>M</td>\n",
       "      <td>Aged 25 to 34 years</td>\n",
       "      <td>17</td>\n",
       "    </tr>\n",
       "    <tr>\n",
       "      <th>4</th>\n",
       "      <td>Black</td>\n",
       "      <td>M</td>\n",
       "      <td>Aged 25 to 34 years</td>\n",
       "      <td>15</td>\n",
       "    </tr>\n",
       "  </tbody>\n",
       "</table>\n",
       "</div>"
      ],
      "text/plain": [
       "  Perceived_Race Sex Age_group__at_arrest_  Severity\n",
       "0          Black   M   Aged 25 to 34 years        10\n",
       "1    South Asian   M   Aged 25 to 34 years         8\n",
       "2    South Asian   M   Aged 25 to 34 years        17\n",
       "3          Black   M   Aged 25 to 34 years        17\n",
       "4          Black   M   Aged 25 to 34 years        15"
      ]
     },
     "execution_count": 31,
     "metadata": {},
     "output_type": "execute_result"
    }
   ],
   "source": [
    "### STEP 30 ###\n",
    "# Create new dataframe for testing and plots.\n",
    "\n",
    "import pandas as pd\n",
    "\n",
    "d_melt = pd.melt(df2021_RankMF, id_vars=['Perceived_Race','Sex','Age_group__at_arrest_'], value_vars=['Severity'])\n",
    "d_melt.drop(columns=['variable'], inplace=True)\n",
    "dfnew = d_melt.rename(columns={'value': 'Severity'})\n",
    "dfnew.head()"
   ]
  },
  {
   "cell_type": "code",
   "execution_count": 32,
   "metadata": {
    "colab": {
     "base_uri": "https://localhost:8080/",
     "height": 173
    },
    "id": "AYIgz1h20UlN",
    "outputId": "9330e77d-cabf-4c0f-bc84-3101c65379ea"
   },
   "outputs": [
    {
     "data": {
      "text/html": [
       "<div>\n",
       "<style scoped>\n",
       "    .dataframe tbody tr th:only-of-type {\n",
       "        vertical-align: middle;\n",
       "    }\n",
       "\n",
       "    .dataframe tbody tr th {\n",
       "        vertical-align: top;\n",
       "    }\n",
       "\n",
       "    .dataframe thead th {\n",
       "        text-align: right;\n",
       "    }\n",
       "</style>\n",
       "<table border=\"1\" class=\"dataframe\">\n",
       "  <thead>\n",
       "    <tr style=\"text-align: right;\">\n",
       "      <th></th>\n",
       "      <th>sum_sq</th>\n",
       "      <th>df</th>\n",
       "      <th>F</th>\n",
       "      <th>PR(&gt;F)</th>\n",
       "    </tr>\n",
       "  </thead>\n",
       "  <tbody>\n",
       "    <tr>\n",
       "      <th>C(Perceived_Race)</th>\n",
       "      <td>5198.872206</td>\n",
       "      <td>7.0</td>\n",
       "      <td>25.715164</td>\n",
       "      <td>2.443000e-35</td>\n",
       "    </tr>\n",
       "    <tr>\n",
       "      <th>C(Sex)</th>\n",
       "      <td>197.537668</td>\n",
       "      <td>1.0</td>\n",
       "      <td>6.839559</td>\n",
       "      <td>8.920105e-03</td>\n",
       "    </tr>\n",
       "    <tr>\n",
       "      <th>C(Perceived_Race):C(Sex)</th>\n",
       "      <td>899.032073</td>\n",
       "      <td>7.0</td>\n",
       "      <td>4.446879</td>\n",
       "      <td>5.918589e-05</td>\n",
       "    </tr>\n",
       "    <tr>\n",
       "      <th>Residual</th>\n",
       "      <td>961065.358428</td>\n",
       "      <td>33276.0</td>\n",
       "      <td>NaN</td>\n",
       "      <td>NaN</td>\n",
       "    </tr>\n",
       "  </tbody>\n",
       "</table>\n",
       "</div>"
      ],
      "text/plain": [
       "                                 sum_sq       df          F        PR(>F)\n",
       "C(Perceived_Race)           5198.872206      7.0  25.715164  2.443000e-35\n",
       "C(Sex)                       197.537668      1.0   6.839559  8.920105e-03\n",
       "C(Perceived_Race):C(Sex)     899.032073      7.0   4.446879  5.918589e-05\n",
       "Residual                  961065.358428  33276.0        NaN           NaN"
      ]
     },
     "execution_count": 32,
     "metadata": {},
     "output_type": "execute_result"
    }
   ],
   "source": [
    "### STEP 31 ###\n",
    "# 2-WAY ANOVA: Race, Sex and Severity of Crime.\n",
    "\n",
    "import statsmodels.api as sm\n",
    "from statsmodels.formula.api import ols\n",
    "\n",
    "model1 = ols('Severity ~ C(Perceived_Race) + C(Sex) + C(Perceived_Race):C(Sex)', data=dfnew).fit() # Create model.\n",
    "table1 = sm.stats.anova_lm(model1, typ=2) # Run ANOVA.\n",
    "table1"
   ]
  },
  {
   "cell_type": "code",
   "execution_count": 33,
   "metadata": {
    "colab": {
     "base_uri": "https://localhost:8080/",
     "height": 473
    },
    "id": "p4mDDWCOKGPQ",
    "outputId": "88e2840c-c899-4050-c9e5-e1d0a7410733"
   },
   "outputs": [
    {
     "name": "stderr",
     "output_type": "stream",
     "text": [
      "C:\\Users\\Teresa Lau\\AppData\\Roaming\\Python\\Python39\\site-packages\\bioinfokit\\analys.py:368: FutureWarning: Dropping of nuisance columns in DataFrame reductions (with 'numeric_only=None') is deprecated; in a future version this will raise TypeError.  Select only valid columns before calling the reduction.\n",
      "  mult_group[(ele1, ele2)] = df[(df[xfac_var[0]] == ele1) &\n"
     ]
    },
    {
     "data": {
      "text/html": [
       "<div>\n",
       "<style scoped>\n",
       "    .dataframe tbody tr th:only-of-type {\n",
       "        vertical-align: middle;\n",
       "    }\n",
       "\n",
       "    .dataframe tbody tr th {\n",
       "        vertical-align: top;\n",
       "    }\n",
       "\n",
       "    .dataframe thead th {\n",
       "        text-align: right;\n",
       "    }\n",
       "</style>\n",
       "<table border=\"1\" class=\"dataframe\">\n",
       "  <thead>\n",
       "    <tr style=\"text-align: right;\">\n",
       "      <th></th>\n",
       "      <th>group1</th>\n",
       "      <th>group2</th>\n",
       "      <th>Diff</th>\n",
       "      <th>Lower</th>\n",
       "      <th>Upper</th>\n",
       "      <th>q-value</th>\n",
       "      <th>p-value</th>\n",
       "    </tr>\n",
       "  </thead>\n",
       "  <tbody>\n",
       "    <tr>\n",
       "      <th>0</th>\n",
       "      <td>(Black, M)</td>\n",
       "      <td>(Black, F)</td>\n",
       "      <td>0.392766</td>\n",
       "      <td>-0.124823</td>\n",
       "      <td>0.910355</td>\n",
       "      <td>3.677147</td>\n",
       "      <td>0.402518</td>\n",
       "    </tr>\n",
       "    <tr>\n",
       "      <th>1</th>\n",
       "      <td>(Black, M)</td>\n",
       "      <td>(South Asian, M)</td>\n",
       "      <td>0.143394</td>\n",
       "      <td>-0.362789</td>\n",
       "      <td>0.649576</td>\n",
       "      <td>1.372730</td>\n",
       "      <td>0.900000</td>\n",
       "    </tr>\n",
       "    <tr>\n",
       "      <th>2</th>\n",
       "      <td>(Black, M)</td>\n",
       "      <td>(South Asian, F)</td>\n",
       "      <td>1.307153</td>\n",
       "      <td>0.138659</td>\n",
       "      <td>2.475647</td>\n",
       "      <td>5.420780</td>\n",
       "      <td>0.012174</td>\n",
       "    </tr>\n",
       "    <tr>\n",
       "      <th>3</th>\n",
       "      <td>(Black, M)</td>\n",
       "      <td>(Indigenous, M)</td>\n",
       "      <td>0.938075</td>\n",
       "      <td>0.153844</td>\n",
       "      <td>1.722305</td>\n",
       "      <td>5.796364</td>\n",
       "      <td>0.004287</td>\n",
       "    </tr>\n",
       "    <tr>\n",
       "      <th>4</th>\n",
       "      <td>(Black, M)</td>\n",
       "      <td>(Indigenous, F)</td>\n",
       "      <td>1.126193</td>\n",
       "      <td>0.101871</td>\n",
       "      <td>2.150514</td>\n",
       "      <td>5.327683</td>\n",
       "      <td>0.015551</td>\n",
       "    </tr>\n",
       "    <tr>\n",
       "      <th>...</th>\n",
       "      <td>...</td>\n",
       "      <td>...</td>\n",
       "      <td>...</td>\n",
       "      <td>...</td>\n",
       "      <td>...</td>\n",
       "      <td>...</td>\n",
       "      <td>...</td>\n",
       "    </tr>\n",
       "    <tr>\n",
       "      <th>115</th>\n",
       "      <td>(East/Southeast Asian, M)</td>\n",
       "      <td>(Latino, M)</td>\n",
       "      <td>0.065849</td>\n",
       "      <td>-0.705932</td>\n",
       "      <td>0.837630</td>\n",
       "      <td>0.413444</td>\n",
       "      <td>0.900000</td>\n",
       "    </tr>\n",
       "    <tr>\n",
       "      <th>116</th>\n",
       "      <td>(East/Southeast Asian, M)</td>\n",
       "      <td>(Latino, F)</td>\n",
       "      <td>0.341012</td>\n",
       "      <td>-1.195642</td>\n",
       "      <td>1.877666</td>\n",
       "      <td>1.075364</td>\n",
       "      <td>0.900000</td>\n",
       "    </tr>\n",
       "    <tr>\n",
       "      <th>117</th>\n",
       "      <td>(East/Southeast Asian, F)</td>\n",
       "      <td>(Latino, M)</td>\n",
       "      <td>0.924293</td>\n",
       "      <td>-0.192221</td>\n",
       "      <td>2.040807</td>\n",
       "      <td>4.011504</td>\n",
       "      <td>0.248209</td>\n",
       "    </tr>\n",
       "    <tr>\n",
       "      <th>118</th>\n",
       "      <td>(East/Southeast Asian, F)</td>\n",
       "      <td>(Latino, F)</td>\n",
       "      <td>0.517432</td>\n",
       "      <td>-1.218156</td>\n",
       "      <td>2.253019</td>\n",
       "      <td>1.444670</td>\n",
       "      <td>0.900000</td>\n",
       "    </tr>\n",
       "    <tr>\n",
       "      <th>119</th>\n",
       "      <td>(Latino, M)</td>\n",
       "      <td>(Latino, F)</td>\n",
       "      <td>0.406861</td>\n",
       "      <td>-1.208392</td>\n",
       "      <td>2.022114</td>\n",
       "      <td>1.220583</td>\n",
       "      <td>0.900000</td>\n",
       "    </tr>\n",
       "  </tbody>\n",
       "</table>\n",
       "<p>120 rows × 7 columns</p>\n",
       "</div>"
      ],
      "text/plain": [
       "                        group1            group2      Diff     Lower  \\\n",
       "0                   (Black, M)        (Black, F)  0.392766 -0.124823   \n",
       "1                   (Black, M)  (South Asian, M)  0.143394 -0.362789   \n",
       "2                   (Black, M)  (South Asian, F)  1.307153  0.138659   \n",
       "3                   (Black, M)   (Indigenous, M)  0.938075  0.153844   \n",
       "4                   (Black, M)   (Indigenous, F)  1.126193  0.101871   \n",
       "..                         ...               ...       ...       ...   \n",
       "115  (East/Southeast Asian, M)       (Latino, M)  0.065849 -0.705932   \n",
       "116  (East/Southeast Asian, M)       (Latino, F)  0.341012 -1.195642   \n",
       "117  (East/Southeast Asian, F)       (Latino, M)  0.924293 -0.192221   \n",
       "118  (East/Southeast Asian, F)       (Latino, F)  0.517432 -1.218156   \n",
       "119                (Latino, M)       (Latino, F)  0.406861 -1.208392   \n",
       "\n",
       "        Upper   q-value   p-value  \n",
       "0    0.910355  3.677147  0.402518  \n",
       "1    0.649576  1.372730  0.900000  \n",
       "2    2.475647  5.420780  0.012174  \n",
       "3    1.722305  5.796364  0.004287  \n",
       "4    2.150514  5.327683  0.015551  \n",
       "..        ...       ...       ...  \n",
       "115  0.837630  0.413444  0.900000  \n",
       "116  1.877666  1.075364  0.900000  \n",
       "117  2.040807  4.011504  0.248209  \n",
       "118  2.253019  1.444670  0.900000  \n",
       "119  2.022114  1.220583  0.900000  \n",
       "\n",
       "[120 rows x 7 columns]"
      ]
     },
     "execution_count": 33,
     "metadata": {},
     "output_type": "execute_result"
    }
   ],
   "source": [
    "### STEP 32 ###\n",
    "# Tukey's HSD: Race, Sex and Severity of Crime.\n",
    "\n",
    "from bioinfokit.analys import stat\n",
    "\n",
    "res = stat()\n",
    "res.tukey_hsd(df = dfnew, res_var = \"Severity\", xfac_var = [\"Perceived_Race\", \"Sex\"], \n",
    "              anova_model = \"Severity ~ C(Perceived_Race)+C(Sex)+C(Perceived_Race):C(Sex)\")\n",
    "res.tukey_summary"
   ]
  },
  {
   "cell_type": "markdown",
   "metadata": {
    "id": "hdEIKdhO0JUh"
   },
   "source": [
    "***Two-way ANOVA Test 2: Race, Age and Severity of Crime.***"
   ]
  },
  {
   "cell_type": "code",
   "execution_count": 34,
   "metadata": {
    "colab": {
     "base_uri": "https://localhost:8080/",
     "height": 173
    },
    "id": "dccZQF2J5ZI1",
    "outputId": "a2718471-68b2-41fb-8548-a3e7b3274679"
   },
   "outputs": [
    {
     "data": {
      "text/html": [
       "<div>\n",
       "<style scoped>\n",
       "    .dataframe tbody tr th:only-of-type {\n",
       "        vertical-align: middle;\n",
       "    }\n",
       "\n",
       "    .dataframe tbody tr th {\n",
       "        vertical-align: top;\n",
       "    }\n",
       "\n",
       "    .dataframe thead th {\n",
       "        text-align: right;\n",
       "    }\n",
       "</style>\n",
       "<table border=\"1\" class=\"dataframe\">\n",
       "  <thead>\n",
       "    <tr style=\"text-align: right;\">\n",
       "      <th></th>\n",
       "      <th>sum_sq</th>\n",
       "      <th>df</th>\n",
       "      <th>F</th>\n",
       "      <th>PR(&gt;F)</th>\n",
       "    </tr>\n",
       "  </thead>\n",
       "  <tbody>\n",
       "    <tr>\n",
       "      <th>C(Perceived_Race)</th>\n",
       "      <td>4778.931391</td>\n",
       "      <td>7.0</td>\n",
       "      <td>23.738305</td>\n",
       "      <td>1.958866e-32</td>\n",
       "    </tr>\n",
       "    <tr>\n",
       "      <th>C(Age_group__at_arrest_)</th>\n",
       "      <td>3908.688984</td>\n",
       "      <td>6.0</td>\n",
       "      <td>22.651492</td>\n",
       "      <td>8.330367e-27</td>\n",
       "    </tr>\n",
       "    <tr>\n",
       "      <th>C(Perceived_Race):C(Age_group__at_arrest_)</th>\n",
       "      <td>2252.518340</td>\n",
       "      <td>42.0</td>\n",
       "      <td>1.864816</td>\n",
       "      <td>5.746639e-04</td>\n",
       "    </tr>\n",
       "    <tr>\n",
       "      <th>Residual</th>\n",
       "      <td>955480.645486</td>\n",
       "      <td>33223.0</td>\n",
       "      <td>NaN</td>\n",
       "      <td>NaN</td>\n",
       "    </tr>\n",
       "  </tbody>\n",
       "</table>\n",
       "</div>"
      ],
      "text/plain": [
       "                                                   sum_sq       df          F  \\\n",
       "C(Perceived_Race)                             4778.931391      7.0  23.738305   \n",
       "C(Age_group__at_arrest_)                      3908.688984      6.0  22.651492   \n",
       "C(Perceived_Race):C(Age_group__at_arrest_)    2252.518340     42.0   1.864816   \n",
       "Residual                                    955480.645486  33223.0        NaN   \n",
       "\n",
       "                                                  PR(>F)  \n",
       "C(Perceived_Race)                           1.958866e-32  \n",
       "C(Age_group__at_arrest_)                    8.330367e-27  \n",
       "C(Perceived_Race):C(Age_group__at_arrest_)  5.746639e-04  \n",
       "Residual                                             NaN  "
      ]
     },
     "execution_count": 34,
     "metadata": {},
     "output_type": "execute_result"
    }
   ],
   "source": [
    "### STEP 33 ###\n",
    "# 2-WAY ANOVA: Race, Age and Severity of Crime.\n",
    "\n",
    "model2 = ols('Severity ~ C(Perceived_Race) + C(Age_group__at_arrest_) + C(Perceived_Race):C(Age_group__at_arrest_)', data=dfnew).fit() # Create model.\n",
    "table2 = sm.stats.anova_lm(model2, typ=2) # Run ANOVA.\n",
    "table2"
   ]
  },
  {
   "cell_type": "code",
   "execution_count": 35,
   "metadata": {
    "colab": {
     "base_uri": "https://localhost:8080/",
     "height": 473
    },
    "id": "P-lhgz68XeqJ",
    "outputId": "103a342a-efac-484b-f180-b4bb72398b78"
   },
   "outputs": [
    {
     "name": "stderr",
     "output_type": "stream",
     "text": [
      "C:\\Users\\Teresa Lau\\AppData\\Roaming\\Python\\Python39\\site-packages\\bioinfokit\\analys.py:368: FutureWarning: Dropping of nuisance columns in DataFrame reductions (with 'numeric_only=None') is deprecated; in a future version this will raise TypeError.  Select only valid columns before calling the reduction.\n",
      "  mult_group[(ele1, ele2)] = df[(df[xfac_var[0]] == ele1) &\n"
     ]
    },
    {
     "data": {
      "text/html": [
       "<div>\n",
       "<style scoped>\n",
       "    .dataframe tbody tr th:only-of-type {\n",
       "        vertical-align: middle;\n",
       "    }\n",
       "\n",
       "    .dataframe tbody tr th {\n",
       "        vertical-align: top;\n",
       "    }\n",
       "\n",
       "    .dataframe thead th {\n",
       "        text-align: right;\n",
       "    }\n",
       "</style>\n",
       "<table border=\"1\" class=\"dataframe\">\n",
       "  <thead>\n",
       "    <tr style=\"text-align: right;\">\n",
       "      <th></th>\n",
       "      <th>group1</th>\n",
       "      <th>group2</th>\n",
       "      <th>Diff</th>\n",
       "      <th>Lower</th>\n",
       "      <th>Upper</th>\n",
       "      <th>q-value</th>\n",
       "      <th>p-value</th>\n",
       "    </tr>\n",
       "  </thead>\n",
       "  <tbody>\n",
       "    <tr>\n",
       "      <th>0</th>\n",
       "      <td>(Black, Aged 25 to 34 years)</td>\n",
       "      <td>(Black, Aged 45 to 54 years)</td>\n",
       "      <td>0.015792</td>\n",
       "      <td>-0.812240</td>\n",
       "      <td>0.843824</td>\n",
       "      <td>0.109089</td>\n",
       "      <td>0.900000</td>\n",
       "    </tr>\n",
       "    <tr>\n",
       "      <th>1</th>\n",
       "      <td>(Black, Aged 25 to 34 years)</td>\n",
       "      <td>(Black, Aged 55 to 64 years)</td>\n",
       "      <td>0.085302</td>\n",
       "      <td>-1.141581</td>\n",
       "      <td>1.312185</td>\n",
       "      <td>0.397695</td>\n",
       "      <td>0.900000</td>\n",
       "    </tr>\n",
       "    <tr>\n",
       "      <th>2</th>\n",
       "      <td>(Black, Aged 25 to 34 years)</td>\n",
       "      <td>(Black, Aged 35 to 44 years)</td>\n",
       "      <td>0.111762</td>\n",
       "      <td>-0.507378</td>\n",
       "      <td>0.730901</td>\n",
       "      <td>1.032516</td>\n",
       "      <td>0.900000</td>\n",
       "    </tr>\n",
       "    <tr>\n",
       "      <th>3</th>\n",
       "      <td>(Black, Aged 25 to 34 years)</td>\n",
       "      <td>(Black, Aged 18 to 24 years)</td>\n",
       "      <td>0.104015</td>\n",
       "      <td>-0.540263</td>\n",
       "      <td>0.748293</td>\n",
       "      <td>0.923456</td>\n",
       "      <td>0.900000</td>\n",
       "    </tr>\n",
       "    <tr>\n",
       "      <th>4</th>\n",
       "      <td>(Black, Aged 25 to 34 years)</td>\n",
       "      <td>(Black, Aged 65 years and older)</td>\n",
       "      <td>0.153658</td>\n",
       "      <td>-2.216185</td>\n",
       "      <td>2.523501</td>\n",
       "      <td>0.370876</td>\n",
       "      <td>0.900000</td>\n",
       "    </tr>\n",
       "    <tr>\n",
       "      <th>...</th>\n",
       "      <td>...</td>\n",
       "      <td>...</td>\n",
       "      <td>...</td>\n",
       "      <td>...</td>\n",
       "      <td>...</td>\n",
       "      <td>...</td>\n",
       "      <td>...</td>\n",
       "    </tr>\n",
       "    <tr>\n",
       "      <th>1535</th>\n",
       "      <td>(Latino, Aged 35 to 44 years)</td>\n",
       "      <td>(Latino, Aged 65 years and older)</td>\n",
       "      <td>1.313218</td>\n",
       "      <td>-5.108187</td>\n",
       "      <td>7.734624</td>\n",
       "      <td>1.169769</td>\n",
       "      <td>0.900000</td>\n",
       "    </tr>\n",
       "    <tr>\n",
       "      <th>1536</th>\n",
       "      <td>(Latino, Aged 35 to 44 years)</td>\n",
       "      <td>(Latino, Aged 17 years and under)</td>\n",
       "      <td>3.220115</td>\n",
       "      <td>-0.988273</td>\n",
       "      <td>7.428503</td>\n",
       "      <td>4.376721</td>\n",
       "      <td>0.579840</td>\n",
       "    </tr>\n",
       "    <tr>\n",
       "      <th>1537</th>\n",
       "      <td>(Latino, Aged 18 to 24 years)</td>\n",
       "      <td>(Latino, Aged 65 years and older)</td>\n",
       "      <td>1.702381</td>\n",
       "      <td>-4.778899</td>\n",
       "      <td>8.183661</td>\n",
       "      <td>1.502413</td>\n",
       "      <td>0.900000</td>\n",
       "    </tr>\n",
       "    <tr>\n",
       "      <th>1538</th>\n",
       "      <td>(Latino, Aged 18 to 24 years)</td>\n",
       "      <td>(Latino, Aged 17 years and under)</td>\n",
       "      <td>2.830952</td>\n",
       "      <td>-1.468242</td>\n",
       "      <td>7.130147</td>\n",
       "      <td>3.766506</td>\n",
       "      <td>0.884469</td>\n",
       "    </tr>\n",
       "    <tr>\n",
       "      <th>1539</th>\n",
       "      <td>(Latino, Aged 65 years and older)</td>\n",
       "      <td>(Latino, Aged 17 years and under)</td>\n",
       "      <td>4.533333</td>\n",
       "      <td>-2.875387</td>\n",
       "      <td>11.942053</td>\n",
       "      <td>3.499997</td>\n",
       "      <td>0.900000</td>\n",
       "    </tr>\n",
       "  </tbody>\n",
       "</table>\n",
       "<p>1540 rows × 7 columns</p>\n",
       "</div>"
      ],
      "text/plain": [
       "                                 group1                             group2  \\\n",
       "0          (Black, Aged 25 to 34 years)       (Black, Aged 45 to 54 years)   \n",
       "1          (Black, Aged 25 to 34 years)       (Black, Aged 55 to 64 years)   \n",
       "2          (Black, Aged 25 to 34 years)       (Black, Aged 35 to 44 years)   \n",
       "3          (Black, Aged 25 to 34 years)       (Black, Aged 18 to 24 years)   \n",
       "4          (Black, Aged 25 to 34 years)   (Black, Aged 65 years and older)   \n",
       "...                                 ...                                ...   \n",
       "1535      (Latino, Aged 35 to 44 years)  (Latino, Aged 65 years and older)   \n",
       "1536      (Latino, Aged 35 to 44 years)  (Latino, Aged 17 years and under)   \n",
       "1537      (Latino, Aged 18 to 24 years)  (Latino, Aged 65 years and older)   \n",
       "1538      (Latino, Aged 18 to 24 years)  (Latino, Aged 17 years and under)   \n",
       "1539  (Latino, Aged 65 years and older)  (Latino, Aged 17 years and under)   \n",
       "\n",
       "          Diff     Lower      Upper   q-value   p-value  \n",
       "0     0.015792 -0.812240   0.843824  0.109089  0.900000  \n",
       "1     0.085302 -1.141581   1.312185  0.397695  0.900000  \n",
       "2     0.111762 -0.507378   0.730901  1.032516  0.900000  \n",
       "3     0.104015 -0.540263   0.748293  0.923456  0.900000  \n",
       "4     0.153658 -2.216185   2.523501  0.370876  0.900000  \n",
       "...        ...       ...        ...       ...       ...  \n",
       "1535  1.313218 -5.108187   7.734624  1.169769  0.900000  \n",
       "1536  3.220115 -0.988273   7.428503  4.376721  0.579840  \n",
       "1537  1.702381 -4.778899   8.183661  1.502413  0.900000  \n",
       "1538  2.830952 -1.468242   7.130147  3.766506  0.884469  \n",
       "1539  4.533333 -2.875387  11.942053  3.499997  0.900000  \n",
       "\n",
       "[1540 rows x 7 columns]"
      ]
     },
     "execution_count": 35,
     "metadata": {},
     "output_type": "execute_result"
    }
   ],
   "source": [
    "### STEP 34 ###\n",
    "# Tukey's HSD: Race, Age and Severity of Crime.\n",
    "\n",
    "res.tukey_hsd(df = dfnew, res_var = \"Severity\", xfac_var = [\"Perceived_Race\", \"Age_group__at_arrest_\"], \n",
    "              anova_model = \"Severity ~ C(Perceived_Race)+C(Age_group__at_arrest_)+C(Perceived_Race):C(Age_group__at_arrest_)\")\n",
    "res.tukey_summary"
   ]
  },
  {
   "cell_type": "markdown",
   "metadata": {
    "id": "SLDB33db0PsN"
   },
   "source": [
    "***Two-way ANOVA Test 3: Sex, Age and Severity of Crime.***"
   ]
  },
  {
   "cell_type": "code",
   "execution_count": 36,
   "metadata": {
    "colab": {
     "base_uri": "https://localhost:8080/",
     "height": 173
    },
    "id": "UlTo7aVu59lL",
    "outputId": "eaca18f4-563a-4840-ac55-79db51be0bb8"
   },
   "outputs": [
    {
     "data": {
      "text/html": [
       "<div>\n",
       "<style scoped>\n",
       "    .dataframe tbody tr th:only-of-type {\n",
       "        vertical-align: middle;\n",
       "    }\n",
       "\n",
       "    .dataframe tbody tr th {\n",
       "        vertical-align: top;\n",
       "    }\n",
       "\n",
       "    .dataframe thead th {\n",
       "        text-align: right;\n",
       "    }\n",
       "</style>\n",
       "<table border=\"1\" class=\"dataframe\">\n",
       "  <thead>\n",
       "    <tr style=\"text-align: right;\">\n",
       "      <th></th>\n",
       "      <th>sum_sq</th>\n",
       "      <th>df</th>\n",
       "      <th>F</th>\n",
       "      <th>PR(&gt;F)</th>\n",
       "    </tr>\n",
       "  </thead>\n",
       "  <tbody>\n",
       "    <tr>\n",
       "      <th>C(Sex)</th>\n",
       "      <td>58.180673</td>\n",
       "      <td>1.0</td>\n",
       "      <td>2.011416</td>\n",
       "      <td>1.561289e-01</td>\n",
       "    </tr>\n",
       "    <tr>\n",
       "      <th>C(Age_group__at_arrest_)</th>\n",
       "      <td>4216.387299</td>\n",
       "      <td>6.0</td>\n",
       "      <td>24.294751</td>\n",
       "      <td>7.052636e-29</td>\n",
       "    </tr>\n",
       "    <tr>\n",
       "      <th>C(Sex):C(Age_group__at_arrest_)</th>\n",
       "      <td>286.151995</td>\n",
       "      <td>6.0</td>\n",
       "      <td>1.648803</td>\n",
       "      <td>1.292770e-01</td>\n",
       "    </tr>\n",
       "    <tr>\n",
       "      <th>Residual</th>\n",
       "      <td>962255.575995</td>\n",
       "      <td>33267.0</td>\n",
       "      <td>NaN</td>\n",
       "      <td>NaN</td>\n",
       "    </tr>\n",
       "  </tbody>\n",
       "</table>\n",
       "</div>"
      ],
      "text/plain": [
       "                                        sum_sq       df          F  \\\n",
       "C(Sex)                               58.180673      1.0   2.011416   \n",
       "C(Age_group__at_arrest_)           4216.387299      6.0  24.294751   \n",
       "C(Sex):C(Age_group__at_arrest_)     286.151995      6.0   1.648803   \n",
       "Residual                         962255.575995  33267.0        NaN   \n",
       "\n",
       "                                       PR(>F)  \n",
       "C(Sex)                           1.561289e-01  \n",
       "C(Age_group__at_arrest_)         7.052636e-29  \n",
       "C(Sex):C(Age_group__at_arrest_)  1.292770e-01  \n",
       "Residual                                  NaN  "
      ]
     },
     "execution_count": 36,
     "metadata": {},
     "output_type": "execute_result"
    }
   ],
   "source": [
    "### STEP 35 ###\n",
    "# 2-WAY ANOVA: Sex, Age and Severity of Crime.\n",
    "\n",
    "model3 = ols('Severity ~ C(Sex) + C(Age_group__at_arrest_) + C(Sex):C(Age_group__at_arrest_)', data=dfnew).fit()\n",
    "table3= sm.stats.anova_lm(model3, typ=2)\n",
    "table3"
   ]
  },
  {
   "cell_type": "markdown",
   "metadata": {
    "id": "7CMPUmIEZfT3"
   },
   "source": [
    "We will not run a post-hoc test for this interaction as the results were not significant."
   ]
  },
  {
   "cell_type": "markdown",
   "metadata": {
    "id": "zkG7g4mnOBCt"
   },
   "source": [
    "---\n",
    "**Interaction Plots**\n",
    "---\n",
    "\n",
    "In this section, we will develop plots to visualize the statistically significant interactions."
   ]
  },
  {
   "cell_type": "code",
   "execution_count": 37,
   "metadata": {
    "colab": {
     "base_uri": "https://localhost:8080/"
    },
    "id": "zTQnjFcR-Cc6",
    "outputId": "01741905-8bbb-42c4-8411-8da30c3c14f5"
   },
   "outputs": [
    {
     "name": "stdout",
     "output_type": "stream",
     "text": [
      "True\n",
      "False\n",
      "True\n",
      "(33294, 4)\n"
     ]
    }
   ],
   "source": [
    "### STEP 36 ###\n",
    "# Prep for interaction plots.\n",
    "# Check for NaN values.\n",
    "\n",
    "from statsmodels.graphics.factorplots import interaction_plot\n",
    "import matplotlib.pyplot as plt\n",
    "\n",
    "print(dfnew['Perceived_Race'].isnull().values.any())\n",
    "print(dfnew['Sex'].isnull().values.any())\n",
    "print(dfnew['Age_group__at_arrest_'].isnull().values.any())\n",
    "print(dfnew.shape) # Check number of rows."
   ]
  },
  {
   "cell_type": "code",
   "execution_count": 38,
   "metadata": {
    "colab": {
     "base_uri": "https://localhost:8080/"
    },
    "id": "rCrAHxl6dtVa",
    "outputId": "88540bed-bc68-4703-8491-16971b8f0d6c"
   },
   "outputs": [
    {
     "name": "stdout",
     "output_type": "stream",
     "text": [
      "(33279, 4)\n"
     ]
    }
   ],
   "source": [
    "### STEP 37 ###\n",
    "# Prep for interaction plots.\n",
    "# Remove NaN values.\n",
    "\n",
    "df2new = dfnew.dropna(subset=['Perceived_Race','Age_group__at_arrest_'])\n",
    "print(df2new.shape) # Check number of rows that were removed."
   ]
  },
  {
   "cell_type": "code",
   "execution_count": 39,
   "metadata": {
    "colab": {
     "base_uri": "https://localhost:8080/",
     "height": 408
    },
    "id": "ebEUfRA1bJTU",
    "outputId": "d60e5792-7a71-475d-f97c-bcde7407b04f"
   },
   "outputs": [
    {
     "data": {
      "image/png": "[encoded data removed]",
      "text/plain": [
       "<Figure size 432x288 with 1 Axes>"
      ]
     },
     "metadata": {},
     "output_type": "display_data"
    }
   ],
   "source": [
    "### STEP 38 ###\n",
    "# Interaction Plot: Race, Sex and Severity of Crime.\n",
    "\n",
    "fig10 = interaction_plot(x=df2new['Perceived_Race'], trace=df2new['Sex'], response=df2new['Severity']) # Create plot.\n",
    "plt.title('Figure 10. Interaction Plot To Show Severity of Crime By Race And Sex Of Offender (2021)') # Set title.\n",
    "plt.xlabel('Perceived Race') # Set x-axis label.\n",
    "plt.ylabel('Mean Severity Of Crime') # Set y-axis label.\n",
    "plt.xticks(rotation=90) # Rotate axis labels.\n",
    "plt.legend(bbox_to_anchor=(1.2, 1), loc='upper right', ncol=1, title='Sex') # Move and name legend.\n",
    "plt.show()"
   ]
  },
  {
   "cell_type": "code",
   "execution_count": 40,
   "metadata": {
    "colab": {
     "base_uri": "https://localhost:8080/",
     "height": 408
    },
    "id": "vH7H9BTB-qDJ",
    "outputId": "e0c6b134-94d4-4f81-c0a4-7fb83a214cfc"
   },
   "outputs": [
    {
     "data": {
      "image/png": "[encoded data removed]",
      "text/plain": [
       "<Figure size 432x288 with 1 Axes>"
      ]
     },
     "metadata": {},
     "output_type": "display_data"
    }
   ],
   "source": [
    "### STEP 39 ###\n",
    "# Interaction Plot: Race, Age and Severity of Crime.\n",
    "\n",
    "fig11 = interaction_plot(x=df2new['Perceived_Race'], trace=df2new['Age_group__at_arrest_'], response=df2new['Severity'])\n",
    "\n",
    "plt.title('Figure 11. Interaction Plot To Show Severity of Crime By Race And Age Of Offender (2021)')\n",
    "plt.xlabel('Perceived Race') \n",
    "plt.ylabel('Mean Severity Of Crime') \n",
    "plt.xticks(rotation=90)\n",
    "plt.legend(bbox_to_anchor=(1.6, 1), loc='upper right', ncol=1, title='Age Group') \n",
    "plt.show()"
   ]
  },
  {
   "cell_type": "code",
   "execution_count": null,
   "metadata": {},
   "outputs": [],
   "source": []
  }
 ],
 "metadata": {
  "accelerator": "TPU",
  "colab": {
   "collapsed_sections": [
    "tnGvpCQbNEKN",
    "CXxXhzHy9GLA",
    "tCihqSNeQ0A9",
    "gXRbUCAJR1Br",
    "q9a5cWOSvbJt",
    "zkG7g4mnOBCt"
   ],
   "provenance": []
  },
  "gpuClass": "standard",
  "kernelspec": {
   "display_name": "Python 3 (ipykernel)",
   "language": "python",
   "name": "python3"
  },
  "language_info": {
   "codemirror_mode": {
    "name": "ipython",
    "version": 3
   },
   "file_extension": ".py",
   "mimetype": "text/x-python",
   "name": "python",
   "nbconvert_exporter": "python",
   "pygments_lexer": "ipython3",
   "version": "3.9.12"
  }
 },
 "nbformat": 4,
 "nbformat_minor": 1
}
