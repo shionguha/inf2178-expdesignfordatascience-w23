{
  "nbformat": 4,
  "nbformat_minor": 0,
  "metadata": {
    "colab": {
      "provenance": [],
      "authorship_tag": "ABX9TyMSO1oQtZDJgt+/40KgncsH",
      "include_colab_link": true
    },
    "kernelspec": {
      "name": "python3",
      "display_name": "Python 3"
    },
    "language_info": {
      "name": "python"
    }
  },
  "cells": [
    {
      "cell_type": "markdown",
      "metadata": {
        "id": "view-in-github",
        "colab_type": "text"
      },
      "source": [
        "<a href=\"https://colab.research.google.com/github/shionguha/inf2178-expdesignfordatascience-w23/blob/main/anova.ipynb\" target=\"_parent\"><img src=\"https://colab.research.google.com/assets/colab-badge.svg\" alt=\"Open In Colab\"/></a>"
      ]
    },
    {
      "cell_type": "code",
      "execution_count": 1,
      "metadata": {
        "id": "OqghByEWsuQj"
      },
      "outputs": [],
      "source": [
        "from sklearn.datasets import load_wine\n",
        "\n",
        "# Load the dataset\n",
        "wine = load_wine()"
      ]
    },
    {
      "cell_type": "code",
      "source": [
        "import pandas as pd\n",
        "\n",
        "#\n",
        "# Convert into a data frame\n",
        "#\n",
        "# Extract the data\n",
        "data = pd.DataFrame(wine['data'], columns=wine['feature_names'])\n",
        "# Extract the target\n",
        "target = pd.DataFrame(wine['target'], columns=['cultivator'])\n",
        "# Combine into one dataset\n",
        "df = pd.concat([target, data], axis='columns')"
      ],
      "metadata": {
        "id": "lcWSU07idIRt"
      },
      "execution_count": 2,
      "outputs": []
    },
    {
      "cell_type": "code",
      "source": [
        "# Trim the data\n",
        "df = df[['cultivator', 'total_phenols']]\n",
        "\n",
        "# Display the first 5 columns\n",
        "print(df.head())"
      ],
      "metadata": {
        "colab": {
          "base_uri": "https://localhost:8080/"
        },
        "id": "ZrKi-n2gdMMT",
        "outputId": "731f3f39-2615-4252-8813-eed4476e2eda"
      },
      "execution_count": 3,
      "outputs": [
        {
          "output_type": "stream",
          "name": "stdout",
          "text": [
            "   cultivator  total_phenols\n",
            "0           0           2.80\n",
            "1           0           2.65\n",
            "2           0           2.80\n",
            "3           0           3.85\n",
            "4           0           2.80\n"
          ]
        }
      ]
    },
    {
      "cell_type": "code",
      "source": [
        "# Number of rows\n",
        "print(df.shape[0])"
      ],
      "metadata": {
        "colab": {
          "base_uri": "https://localhost:8080/"
        },
        "id": "58n3w6TGdQdT",
        "outputId": "132dd229-b7e7-46fc-8e66-ee8fe5cf561d"
      },
      "execution_count": 4,
      "outputs": [
        {
          "output_type": "stream",
          "name": "stdout",
          "text": [
            "178\n"
          ]
        }
      ]
    },
    {
      "cell_type": "code",
      "source": [
        "# Cultivators' names\n",
        "print(df['cultivator'].unique())"
      ],
      "metadata": {
        "colab": {
          "base_uri": "https://localhost:8080/"
        },
        "id": "99ptr5rNdTDL",
        "outputId": "604f2f61-84ad-4019-f1d0-3cd5aa33a124"
      },
      "execution_count": 5,
      "outputs": [
        {
          "output_type": "stream",
          "name": "stdout",
          "text": [
            "[0 1 2]\n"
          ]
        }
      ]
    },
    {
      "cell_type": "code",
      "source": [
        "import matplotlib.pyplot as plt\n",
        "\n",
        "# Plot\n",
        "grouped_data = df.groupby('cultivator')['total_phenols'].apply(list)\n",
        "plt.boxplot(grouped_data, positions=range(0, len(df['cultivator'].unique())), showmeans=True, meanline=True)\n",
        "plt.scatter(df['cultivator'], df['total_phenols'])\n",
        "plt.title('The Phenolic Content in 178 Wines from 3 Different Italian Cultivators')\n",
        "plt.xlabel('Cultivator')\n",
        "plt.ylabel('Total Phenols')"
      ],
      "metadata": {
        "colab": {
          "base_uri": "https://localhost:8080/",
          "height": 314
        },
        "id": "RG8XfgG0dXFE",
        "outputId": "ad98bb06-fda1-4f62-cbec-8ddad46112dc"
      },
      "execution_count": 6,
      "outputs": [
        {
          "output_type": "execute_result",
          "data": {
            "text/plain": [
              "Text(0, 0.5, 'Total Phenols')"
            ]
          },
          "metadata": {},
          "execution_count": 6
        },
        {
          "output_type": "display_data",
          "data": {
            "text/plain": [
              "<Figure size 432x288 with 1 Axes>"
            ],
            "image/png": "[encoded data removed]"
          },
          "metadata": {
            "needs_background": "light"
          }
        }
      ]
    },
    {
      "cell_type": "code",
      "source": [
        "# Samples\n",
        "sample_0 = df[df['cultivator'] == 0]['total_phenols']\n",
        "sample_1 = df[df['cultivator'] == 1]['total_phenols']\n",
        "sample_2 = df[df['cultivator'] == 2]['total_phenols']"
      ],
      "metadata": {
        "id": "K-tgU25Pdhm3"
      },
      "execution_count": 7,
      "outputs": []
    },
    {
      "cell_type": "code",
      "source": [
        "from scipy.stats import f_oneway\n",
        "\n",
        "# One-way ANOVA\n",
        "statistic, pvalue = f_oneway(sample_0, sample_1, sample_2)\n",
        "\n",
        "print(f'One-way ANOVA: s = {statistic}, p = {pvalue}')"
      ],
      "metadata": {
        "colab": {
          "base_uri": "https://localhost:8080/"
        },
        "id": "q_SOsVnNdm7v",
        "outputId": "03cc82fe-c7ca-4b64-9cc9-a43731743645"
      },
      "execution_count": 8,
      "outputs": [
        {
          "output_type": "stream",
          "name": "stdout",
          "text": [
            "One-way ANOVA: s = 93.73300962036718, p = 2.1376700154385954e-28\n"
          ]
        }
      ]
    },
    {
      "cell_type": "code",
      "source": [
        "def get_significance(p):\n",
        "    \"\"\"Returns the significance of a p-values as a string of stars.\"\"\"\n",
        "    if p <= 0.001:\n",
        "        return '***'\n",
        "    elif p <= 0.01:\n",
        "        return '**'\n",
        "    elif p <= 0.05:\n",
        "        return '*'\n",
        "    elif p <= 0.1:\n",
        "        return '.'\n",
        "    else:\n",
        "        return ''\n",
        "\n",
        "\n",
        "def round_p_value(p):\n",
        "    \"\"\"Round a small p-value so that it is human-readable.\"\"\"\n",
        "    if p < 0.001:\n",
        "        return '<0.001'\n",
        "    else:\n",
        "        return f'{p:5.3}'\n",
        "\n",
        "\n",
        "p_rounded = round_p_value(pvalue)\n",
        "significance = get_significance(pvalue)\n",
        "print(f'The p-value is {p_rounded} ({significance})')"
      ],
      "metadata": {
        "colab": {
          "base_uri": "https://localhost:8080/"
        },
        "id": "hgeTk40bdpeI",
        "outputId": "e120a7c0-e44c-4c15-fdbb-619a83f27e18"
      },
      "execution_count": 9,
      "outputs": [
        {
          "output_type": "stream",
          "name": "stdout",
          "text": [
            "The p-value is <0.001 (***)\n"
          ]
        }
      ]
    }
  ]
}