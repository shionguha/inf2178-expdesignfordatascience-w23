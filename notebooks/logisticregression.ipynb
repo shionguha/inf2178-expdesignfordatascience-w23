{
  "nbformat": 4,
  "nbformat_minor": 0,
  "metadata": {
    "colab": {
      "provenance": [],
      "authorship_tag": "ABX9TyOyjZuAVEvSlN2oG5J6jQ/w",
      "include_colab_link": true
    },
    "kernelspec": {
      "name": "python3",
      "display_name": "Python 3"
    },
    "language_info": {
      "name": "python"
    }
  },
  "cells": [
    {
      "cell_type": "markdown",
      "metadata": {
        "id": "view-in-github",
        "colab_type": "text"
      },
      "source": [
        "<a href=\"https://colab.research.google.com/github/shionguha/inf2178-expdesignfordatascience-w23/blob/main/logisticregression.ipynb\" target=\"_parent\"><img src=\"https://colab.research.google.com/assets/colab-badge.svg\" alt=\"Open In Colab\"/></a>"
      ]
    },
    {
      "cell_type": "code",
      "execution_count": 1,
      "metadata": {
        "id": "XKH2I-ckeSPA"
      },
      "outputs": [],
      "source": [
        "#logistic regression example 1\n",
        "from sklearn.datasets import load_breast_cancer\n",
        "cancer1 = load_breast_cancer()"
      ]
    },
    {
      "cell_type": "code",
      "source": [
        "print(\"Predictors: \", cancer1.feature_names)"
      ],
      "metadata": {
        "colab": {
          "base_uri": "https://localhost:8080/"
        },
        "id": "frsb6v5fs-DR",
        "outputId": "2db4fef1-c62e-465a-e275-7e60beea4061"
      },
      "execution_count": 2,
      "outputs": [
        {
          "output_type": "stream",
          "name": "stdout",
          "text": [
            "Predictors:  ['mean radius' 'mean texture' 'mean perimeter' 'mean area'\n",
            " 'mean smoothness' 'mean compactness' 'mean concavity'\n",
            " 'mean concave points' 'mean symmetry' 'mean fractal dimension'\n",
            " 'radius error' 'texture error' 'perimeter error' 'area error'\n",
            " 'smoothness error' 'compactness error' 'concavity error'\n",
            " 'concave points error' 'symmetry error' 'fractal dimension error'\n",
            " 'worst radius' 'worst texture' 'worst perimeter' 'worst area'\n",
            " 'worst smoothness' 'worst compactness' 'worst concavity'\n",
            " 'worst concave points' 'worst symmetry' 'worst fractal dimension']\n"
          ]
        }
      ]
    },
    {
      "cell_type": "code",
      "source": [
        "print(\"\\nResponse: \", cancer1.target_names)"
      ],
      "metadata": {
        "colab": {
          "base_uri": "https://localhost:8080/"
        },
        "id": "G_DjI2HGtAdv",
        "outputId": "aa9b2e06-d0a5-42e0-a018-81afaaa6c553"
      },
      "execution_count": 3,
      "outputs": [
        {
          "output_type": "stream",
          "name": "stdout",
          "text": [
            "\n",
            "Response:  ['malignant' 'benign']\n"
          ]
        }
      ]
    },
    {
      "cell_type": "code",
      "source": [
        "import pandas as pd\n",
        "\n",
        "cancer = pd.DataFrame(cancer1.data, columns=cancer1.feature_names)\n",
        "cancer.columns = cancer.columns.str.replace(' ','_')\n",
        "\n",
        "cancer.shape"
      ],
      "metadata": {
        "colab": {
          "base_uri": "https://localhost:8080/"
        },
        "id": "jYhkWtqftDcW",
        "outputId": "ac8747c2-7884-47a2-e204-5e3d224ad7a6"
      },
      "execution_count": 4,
      "outputs": [
        {
          "output_type": "execute_result",
          "data": {
            "text/plain": [
              "(569, 30)"
            ]
          },
          "metadata": {},
          "execution_count": 4
        }
      ]
    },
    {
      "cell_type": "code",
      "source": [
        "# Add a column for the response variable: malignant or benign\n",
        "cancer['Target'] = cancer1.target"
      ],
      "metadata": {
        "id": "4giF9eEytIF1"
      },
      "execution_count": 5,
      "outputs": []
    },
    {
      "cell_type": "code",
      "source": [
        "# Take a look at the DataFrame again to double check we added the column properly\n",
        "cancer.shape"
      ],
      "metadata": {
        "colab": {
          "base_uri": "https://localhost:8080/"
        },
        "id": "dyKuqQFItLtA",
        "outputId": "a2bf220b-ce9b-42c5-fb4a-2225489e5568"
      },
      "execution_count": 6,
      "outputs": [
        {
          "output_type": "execute_result",
          "data": {
            "text/plain": [
              "(569, 31)"
            ]
          },
          "metadata": {},
          "execution_count": 6
        }
      ]
    },
    {
      "cell_type": "code",
      "source": [
        "from sklearn.model_selection import train_test_split\n",
        "\n",
        "# Select the first 10 columns of our DataFrame that we will use as the predictors in our models\n",
        "x = cancer.iloc[:,:10]\n",
        "\n",
        "# Select the response column \n",
        "y = cancer.Target\n",
        "\n",
        "# Split these data into training and testing datasets\n",
        "x_train, x_test, y_train, y_test = train_test_split(x,y, random_state=123)"
      ],
      "metadata": {
        "id": "3kbGuOodtOpf"
      },
      "execution_count": 7,
      "outputs": []
    },
    {
      "cell_type": "code",
      "source": [
        "#building the model with statsmodels\n",
        "\n",
        "\n",
        "import statsmodels.formula.api as smf\n",
        "import pandas as pd\n",
        "\n",
        "# Create the formula string \n",
        "all_columns = ' + '.join(cancer.columns[:10])\n",
        "formula = \"Target ~ \" + all_columns \n",
        "print(\"Formula: \", formula, \"\\n\")\n",
        "\n",
        "# Put the training predictors and responses into one DataFrame to be input into the model\n",
        "## Formula:  Target ~ mean_radius + mean_texture + mean_perimeter + mean_area + mean_smoothness + mean_compactness + mean_concavity + mean_concave_points + mean_symmetry + mean_fractal_dimension\n",
        "\n",
        "trainingdata = pd.concat([x_train,y_train], axis = 1)\n",
        "\n",
        "# Build the model\n",
        "log_reg_1 = smf.logit(formula, data=trainingdata).fit()"
      ],
      "metadata": {
        "colab": {
          "base_uri": "https://localhost:8080/"
        },
        "id": "vJAza9hitcz3",
        "outputId": "688798a6-e601-4377-b313-703685794242"
      },
      "execution_count": 8,
      "outputs": [
        {
          "output_type": "stream",
          "name": "stdout",
          "text": [
            "Formula:  Target ~ mean_radius + mean_texture + mean_perimeter + mean_area + mean_smoothness + mean_compactness + mean_concavity + mean_concave_points + mean_symmetry + mean_fractal_dimension \n",
            "\n",
            "Optimization terminated successfully.\n",
            "         Current function value: 0.131593\n",
            "         Iterations 11\n"
          ]
        }
      ]
    },
    {
      "cell_type": "code",
      "source": [
        "log_reg_1.summary()"
      ],
      "metadata": {
        "colab": {
          "base_uri": "https://localhost:8080/",
          "height": 531
        },
        "id": "CXQktKD1tn-n",
        "outputId": "bf632ec0-07f3-41dd-c384-8f44a315e96d"
      },
      "execution_count": 9,
      "outputs": [
        {
          "output_type": "execute_result",
          "data": {
            "text/plain": [
              "<class 'statsmodels.iolib.summary.Summary'>\n",
              "\"\"\"\n",
              "                           Logit Regression Results                           \n",
              "==============================================================================\n",
              "Dep. Variable:                 Target   No. Observations:                  426\n",
              "Model:                          Logit   Df Residuals:                      415\n",
              "Method:                           MLE   Df Model:                           10\n",
              "Date:                Mon, 27 Mar 2023   Pseudo R-squ.:                  0.8004\n",
              "Time:                        16:32:16   Log-Likelihood:                -56.059\n",
              "converged:                       True   LL-Null:                       -280.92\n",
              "Covariance Type:            nonrobust   LLR p-value:                 2.402e-90\n",
              "==========================================================================================\n",
              "                             coef    std err          z      P>|z|      [0.025      0.975]\n",
              "------------------------------------------------------------------------------------------\n",
              "Intercept                 17.1132     15.041      1.138      0.255     -12.368      46.594\n",
              "mean_radius               -0.1786      4.151     -0.043      0.966      -8.315       7.958\n",
              "mean_texture              -0.4333      0.079     -5.479      0.000      -0.588      -0.278\n",
              "mean_perimeter             0.2724      0.569      0.479      0.632      -0.842       1.387\n",
              "mean_area                 -0.0301      0.019     -1.617      0.106      -0.067       0.006\n",
              "mean_smoothness          -90.0668     38.119     -2.363      0.018    -164.778     -15.356\n",
              "mean_compactness          -9.5962     23.305     -0.412      0.681     -55.273      36.080\n",
              "mean_concavity           -11.5117      9.451     -1.218      0.223     -30.035       7.011\n",
              "mean_concave_points      -47.8953     32.398     -1.478      0.139    -111.394      15.603\n",
              "mean_symmetry            -23.1823     12.730     -1.821      0.069     -48.133       1.768\n",
              "mean_fractal_dimension    91.5592     98.116      0.933      0.351    -100.745     283.863\n",
              "==========================================================================================\n",
              "\n",
              "Possibly complete quasi-separation: A fraction 0.20 of observations can be\n",
              "perfectly predicted. This might indicate that there is complete\n",
              "quasi-separation. In this case some parameters will not be identified.\n",
              "\"\"\""
            ],
            "text/html": [
              "<table class=\"simpletable\">\n",
              "<caption>Logit Regression Results</caption>\n",
              "<tr>\n",
              "  <th>Dep. Variable:</th>        <td>Target</td>      <th>  No. Observations:  </th>  <td>   426</td>  \n",
              "</tr>\n",
              "<tr>\n",
              "  <th>Model:</th>                 <td>Logit</td>      <th>  Df Residuals:      </th>  <td>   415</td>  \n",
              "</tr>\n",
              "<tr>\n",
              "  <th>Method:</th>                 <td>MLE</td>       <th>  Df Model:          </th>  <td>    10</td>  \n",
              "</tr>\n",
              "<tr>\n",
              "  <th>Date:</th>            <td>Mon, 27 Mar 2023</td> <th>  Pseudo R-squ.:     </th>  <td>0.8004</td>  \n",
              "</tr>\n",
              "<tr>\n",
              "  <th>Time:</th>                <td>16:32:16</td>     <th>  Log-Likelihood:    </th> <td> -56.059</td> \n",
              "</tr>\n",
              "<tr>\n",
              "  <th>converged:</th>             <td>True</td>       <th>  LL-Null:           </th> <td> -280.92</td> \n",
              "</tr>\n",
              "<tr>\n",
              "  <th>Covariance Type:</th>     <td>nonrobust</td>    <th>  LLR p-value:       </th> <td>2.402e-90</td>\n",
              "</tr>\n",
              "</table>\n",
              "<table class=\"simpletable\">\n",
              "<tr>\n",
              "             <td></td>               <th>coef</th>     <th>std err</th>      <th>z</th>      <th>P>|z|</th>  <th>[0.025</th>    <th>0.975]</th>  \n",
              "</tr>\n",
              "<tr>\n",
              "  <th>Intercept</th>              <td>   17.1132</td> <td>   15.041</td> <td>    1.138</td> <td> 0.255</td> <td>  -12.368</td> <td>   46.594</td>\n",
              "</tr>\n",
              "<tr>\n",
              "  <th>mean_radius</th>            <td>   -0.1786</td> <td>    4.151</td> <td>   -0.043</td> <td> 0.966</td> <td>   -8.315</td> <td>    7.958</td>\n",
              "</tr>\n",
              "<tr>\n",
              "  <th>mean_texture</th>           <td>   -0.4333</td> <td>    0.079</td> <td>   -5.479</td> <td> 0.000</td> <td>   -0.588</td> <td>   -0.278</td>\n",
              "</tr>\n",
              "<tr>\n",
              "  <th>mean_perimeter</th>         <td>    0.2724</td> <td>    0.569</td> <td>    0.479</td> <td> 0.632</td> <td>   -0.842</td> <td>    1.387</td>\n",
              "</tr>\n",
              "<tr>\n",
              "  <th>mean_area</th>              <td>   -0.0301</td> <td>    0.019</td> <td>   -1.617</td> <td> 0.106</td> <td>   -0.067</td> <td>    0.006</td>\n",
              "</tr>\n",
              "<tr>\n",
              "  <th>mean_smoothness</th>        <td>  -90.0668</td> <td>   38.119</td> <td>   -2.363</td> <td> 0.018</td> <td> -164.778</td> <td>  -15.356</td>\n",
              "</tr>\n",
              "<tr>\n",
              "  <th>mean_compactness</th>       <td>   -9.5962</td> <td>   23.305</td> <td>   -0.412</td> <td> 0.681</td> <td>  -55.273</td> <td>   36.080</td>\n",
              "</tr>\n",
              "<tr>\n",
              "  <th>mean_concavity</th>         <td>  -11.5117</td> <td>    9.451</td> <td>   -1.218</td> <td> 0.223</td> <td>  -30.035</td> <td>    7.011</td>\n",
              "</tr>\n",
              "<tr>\n",
              "  <th>mean_concave_points</th>    <td>  -47.8953</td> <td>   32.398</td> <td>   -1.478</td> <td> 0.139</td> <td> -111.394</td> <td>   15.603</td>\n",
              "</tr>\n",
              "<tr>\n",
              "  <th>mean_symmetry</th>          <td>  -23.1823</td> <td>   12.730</td> <td>   -1.821</td> <td> 0.069</td> <td>  -48.133</td> <td>    1.768</td>\n",
              "</tr>\n",
              "<tr>\n",
              "  <th>mean_fractal_dimension</th> <td>   91.5592</td> <td>   98.116</td> <td>    0.933</td> <td> 0.351</td> <td> -100.745</td> <td>  283.863</td>\n",
              "</tr>\n",
              "</table><br/><br/>Possibly complete quasi-separation: A fraction 0.20 of observations can be<br/>perfectly predicted. This might indicate that there is complete<br/>quasi-separation. In this case some parameters will not be identified."
            ]
          },
          "metadata": {},
          "execution_count": 9
        }
      ]
    },
    {
      "cell_type": "code",
      "source": [
        "from sklearn.metrics import confusion_matrix, accuracy_score\n",
        "# Predict responses \n",
        "pred_1 = log_reg_1.predict(x_test)\n",
        "# round() rounds to nearest integer;\n",
        "# 0.5 rounds to 0; 0.501 rounds to 1\n",
        "prediction_1 = list(map(round, pred_1))"
      ],
      "metadata": {
        "id": "h0on5lf9ttZQ"
      },
      "execution_count": 10,
      "outputs": []
    },
    {
      "cell_type": "code",
      "source": [
        "# Accuracy score\n",
        "print('\\nTest accuracy = ', accuracy_score(y_test, prediction_1))"
      ],
      "metadata": {
        "colab": {
          "base_uri": "https://localhost:8080/"
        },
        "id": "NvBpg1PsuaNe",
        "outputId": "bed14c12-252d-4065-a92c-87be6ae4c3cb"
      },
      "execution_count": 11,
      "outputs": [
        {
          "output_type": "stream",
          "name": "stdout",
          "text": [
            "\n",
            "Test accuracy =  0.958041958041958\n"
          ]
        }
      ]
    },
    {
      "cell_type": "code",
      "source": [
        "# Confusion matrix\n",
        "## \n",
        "## Test accuracy =  0.958041958041958\n",
        "\n",
        "cm = confusion_matrix(y_test, prediction_1) \n",
        "print (\"\\nConfusion Matrix : \\n\", cm) "
      ],
      "metadata": {
        "colab": {
          "base_uri": "https://localhost:8080/"
        },
        "id": "gVJLntXfufBc",
        "outputId": "64b41185-8a09-4393-e6ad-0da1c4fec85c"
      },
      "execution_count": 12,
      "outputs": [
        {
          "output_type": "stream",
          "name": "stdout",
          "text": [
            "\n",
            "Confusion Matrix : \n",
            " [[49  5]\n",
            " [ 1 88]]\n"
          ]
        }
      ]
    },
    {
      "cell_type": "code",
      "source": [
        "#example focusing on odds ratio\n",
        "import seaborn as sns\n",
        "import numpy as np\n",
        "import pandas as pd\n",
        "import statsmodels.formula.api as smf\n",
        "\n",
        "dat = sns.load_dataset(\"titanic\")\n",
        "dat.info()"
      ],
      "metadata": {
        "colab": {
          "base_uri": "https://localhost:8080/"
        },
        "id": "piQuvouF6fS_",
        "outputId": "8cdf9d99-2d4f-4584-cd3e-0a34ec19d659"
      },
      "execution_count": 13,
      "outputs": [
        {
          "output_type": "stream",
          "name": "stdout",
          "text": [
            "<class 'pandas.core.frame.DataFrame'>\n",
            "RangeIndex: 891 entries, 0 to 890\n",
            "Data columns (total 15 columns):\n",
            " #   Column       Non-Null Count  Dtype   \n",
            "---  ------       --------------  -----   \n",
            " 0   survived     891 non-null    int64   \n",
            " 1   pclass       891 non-null    int64   \n",
            " 2   sex          891 non-null    object  \n",
            " 3   age          714 non-null    float64 \n",
            " 4   sibsp        891 non-null    int64   \n",
            " 5   parch        891 non-null    int64   \n",
            " 6   fare         891 non-null    float64 \n",
            " 7   embarked     889 non-null    object  \n",
            " 8   class        891 non-null    category\n",
            " 9   who          891 non-null    object  \n",
            " 10  adult_male   891 non-null    bool    \n",
            " 11  deck         203 non-null    category\n",
            " 12  embark_town  889 non-null    object  \n",
            " 13  alive        891 non-null    object  \n",
            " 14  alone        891 non-null    bool    \n",
            "dtypes: bool(2), category(2), float64(2), int64(4), object(5)\n",
            "memory usage: 80.7+ KB\n"
          ]
        }
      ]
    },
    {
      "cell_type": "code",
      "source": [
        "reg = smf.logit('survived ~ sex', data=dat).fit()\n",
        "print(reg.summary())"
      ],
      "metadata": {
        "colab": {
          "base_uri": "https://localhost:8080/"
        },
        "id": "BRtWJGtU6jBm",
        "outputId": "3dec1793-95cc-4329-b6af-2b72c741a87d"
      },
      "execution_count": 14,
      "outputs": [
        {
          "output_type": "stream",
          "name": "stdout",
          "text": [
            "Optimization terminated successfully.\n",
            "         Current function value: 0.515041\n",
            "         Iterations 5\n",
            "                           Logit Regression Results                           \n",
            "==============================================================================\n",
            "Dep. Variable:               survived   No. Observations:                  891\n",
            "Model:                          Logit   Df Residuals:                      889\n",
            "Method:                           MLE   Df Model:                            1\n",
            "Date:                Mon, 27 Mar 2023   Pseudo R-squ.:                  0.2266\n",
            "Time:                        16:32:53   Log-Likelihood:                -458.90\n",
            "converged:                       True   LL-Null:                       -593.33\n",
            "Covariance Type:            nonrobust   LLR p-value:                 2.020e-60\n",
            "===============================================================================\n",
            "                  coef    std err          z      P>|z|      [0.025      0.975]\n",
            "-------------------------------------------------------------------------------\n",
            "Intercept       1.0566      0.129      8.191      0.000       0.804       1.309\n",
            "sex[T.male]    -2.5137      0.167    -15.036      0.000      -2.841      -2.186\n",
            "===============================================================================\n"
          ]
        }
      ]
    },
    {
      "cell_type": "code",
      "source": [
        "#odds ratio\n",
        "#\n",
        "dat['sex_releveled'] = pd.Series(pd.Categorical(dat.sex, categories=[\"male\", \"female\"]))\n",
        "reg = smf.logit('survived ~ sex_releveled', data=dat).fit()\n",
        "np.exp(reg.params)"
      ],
      "metadata": {
        "colab": {
          "base_uri": "https://localhost:8080/"
        },
        "id": "Sh9BE5sI6mTO",
        "outputId": "cb9605fd-cb91-4f5c-80c7-8f681f49ab32"
      },
      "execution_count": 15,
      "outputs": [
        {
          "output_type": "stream",
          "name": "stdout",
          "text": [
            "Optimization terminated successfully.\n",
            "         Current function value: 0.515041\n",
            "         Iterations 5\n"
          ]
        },
        {
          "output_type": "execute_result",
          "data": {
            "text/plain": [
              "Intercept                   0.232906\n",
              "sex_releveled[T.female]    12.350663\n",
              "dtype: float64"
            ]
          },
          "metadata": {},
          "execution_count": 15
        }
      ]
    },
    {
      "cell_type": "code",
      "source": [
        "params = reg.params\n",
        "conf = reg.conf_int()\n",
        "conf['OR'] = params\n",
        "conf.columns = [\"Lower CI\", \"Upper CI\", \"OR\"]\n",
        "np.exp(conf)"
      ],
      "metadata": {
        "colab": {
          "base_uri": "https://localhost:8080/",
          "height": 112
        },
        "id": "d4oyK7qn69Ub",
        "outputId": "ae19f007-58a1-43eb-8557-5d2dadcb029a"
      },
      "execution_count": 16,
      "outputs": [
        {
          "output_type": "execute_result",
          "data": {
            "text/plain": [
              "                         Lower CI   Upper CI         OR\n",
              "Intercept                0.189083   0.286886   0.232906\n",
              "sex_releveled[T.female]  8.899955  17.139285  12.350663"
            ],
            "text/html": [
              "\n",
              "  <div id=\"df-98e5b54d-21e5-4820-83ef-869ba6be5659\">\n",
              "    <div class=\"colab-df-container\">\n",
              "      <div>\n",
              "<style scoped>\n",
              "    .dataframe tbody tr th:only-of-type {\n",
              "        vertical-align: middle;\n",
              "    }\n",
              "\n",
              "    .dataframe tbody tr th {\n",
              "        vertical-align: top;\n",
              "    }\n",
              "\n",
              "    .dataframe thead th {\n",
              "        text-align: right;\n",
              "    }\n",
              "</style>\n",
              "<table border=\"1\" class=\"dataframe\">\n",
              "  <thead>\n",
              "    <tr style=\"text-align: right;\">\n",
              "      <th></th>\n",
              "      <th>Lower CI</th>\n",
              "      <th>Upper CI</th>\n",
              "      <th>OR</th>\n",
              "    </tr>\n",
              "  </thead>\n",
              "  <tbody>\n",
              "    <tr>\n",
              "      <th>Intercept</th>\n",
              "      <td>0.189083</td>\n",
              "      <td>0.286886</td>\n",
              "      <td>0.232906</td>\n",
              "    </tr>\n",
              "    <tr>\n",
              "      <th>sex_releveled[T.female]</th>\n",
              "      <td>8.899955</td>\n",
              "      <td>17.139285</td>\n",
              "      <td>12.350663</td>\n",
              "    </tr>\n",
              "  </tbody>\n",
              "</table>\n",
              "</div>\n",
              "      <button class=\"colab-df-convert\" onclick=\"convertToInteractive('df-98e5b54d-21e5-4820-83ef-869ba6be5659')\"\n",
              "              title=\"Convert this dataframe to an interactive table.\"\n",
              "              style=\"display:none;\">\n",
              "        \n",
              "  <svg xmlns=\"http://www.w3.org/2000/svg\" height=\"24px\"viewBox=\"0 0 24 24\"\n",
              "       width=\"24px\">\n",
              "    <path d=\"M0 0h24v24H0V0z\" fill=\"none\"/>\n",
              "    <path d=\"M18.56 5.44l.94 2.06.94-2.06 2.06-.94-2.06-.94-.94-2.06-.94 2.06-2.06.94zm-11 1L8.5 8.5l.94-2.06 2.06-.94-2.06-.94L8.5 2.5l-.94 2.06-2.06.94zm10 10l.94 2.06.94-2.06 2.06-.94-2.06-.94-.94-2.06-.94 2.06-2.06.94z\"/><path d=\"M17.41 7.96l-1.37-1.37c-.4-.4-.92-.59-1.43-.59-.52 0-1.04.2-1.43.59L10.3 9.45l-7.72 7.72c-.78.78-.78 2.05 0 2.83L4 21.41c.39.39.9.59 1.41.59.51 0 1.02-.2 1.41-.59l7.78-7.78 2.81-2.81c.8-.78.8-2.07 0-2.86zM5.41 20L4 18.59l7.72-7.72 1.47 1.35L5.41 20z\"/>\n",
              "  </svg>\n",
              "      </button>\n",
              "      \n",
              "  <style>\n",
              "    .colab-df-container {\n",
              "      display:flex;\n",
              "      flex-wrap:wrap;\n",
              "      gap: 12px;\n",
              "    }\n",
              "\n",
              "    .colab-df-convert {\n",
              "      background-color: #E8F0FE;\n",
              "      border: none;\n",
              "      border-radius: 50%;\n",
              "      cursor: pointer;\n",
              "      display: none;\n",
              "      fill: #1967D2;\n",
              "      height: 32px;\n",
              "      padding: 0 0 0 0;\n",
              "      width: 32px;\n",
              "    }\n",
              "\n",
              "    .colab-df-convert:hover {\n",
              "      background-color: #E2EBFA;\n",
              "      box-shadow: 0px 1px 2px rgba(60, 64, 67, 0.3), 0px 1px 3px 1px rgba(60, 64, 67, 0.15);\n",
              "      fill: #174EA6;\n",
              "    }\n",
              "\n",
              "    [theme=dark] .colab-df-convert {\n",
              "      background-color: #3B4455;\n",
              "      fill: #D2E3FC;\n",
              "    }\n",
              "\n",
              "    [theme=dark] .colab-df-convert:hover {\n",
              "      background-color: #434B5C;\n",
              "      box-shadow: 0px 1px 3px 1px rgba(0, 0, 0, 0.15);\n",
              "      filter: drop-shadow(0px 1px 2px rgba(0, 0, 0, 0.3));\n",
              "      fill: #FFFFFF;\n",
              "    }\n",
              "  </style>\n",
              "\n",
              "      <script>\n",
              "        const buttonEl =\n",
              "          document.querySelector('#df-98e5b54d-21e5-4820-83ef-869ba6be5659 button.colab-df-convert');\n",
              "        buttonEl.style.display =\n",
              "          google.colab.kernel.accessAllowed ? 'block' : 'none';\n",
              "\n",
              "        async function convertToInteractive(key) {\n",
              "          const element = document.querySelector('#df-98e5b54d-21e5-4820-83ef-869ba6be5659');\n",
              "          const dataTable =\n",
              "            await google.colab.kernel.invokeFunction('convertToInteractive',\n",
              "                                                     [key], {});\n",
              "          if (!dataTable) return;\n",
              "\n",
              "          const docLinkHtml = 'Like what you see? Visit the ' +\n",
              "            '<a target=\"_blank\" href=https://colab.research.google.com/notebooks/data_table.ipynb>data table notebook</a>'\n",
              "            + ' to learn more about interactive tables.';\n",
              "          element.innerHTML = '';\n",
              "          dataTable['output_type'] = 'display_data';\n",
              "          await google.colab.output.renderOutput(dataTable, element);\n",
              "          const docLink = document.createElement('div');\n",
              "          docLink.innerHTML = docLinkHtml;\n",
              "          element.appendChild(docLink);\n",
              "        }\n",
              "      </script>\n",
              "    </div>\n",
              "  </div>\n",
              "  "
            ]
          },
          "metadata": {},
          "execution_count": 16
        }
      ]
    },
    {
      "cell_type": "code",
      "source": [
        "reg = smf.logit('survived ~ age', data=dat).fit()\n",
        "print(reg.summary())"
      ],
      "metadata": {
        "colab": {
          "base_uri": "https://localhost:8080/"
        },
        "id": "t_IuB6UC6_JL",
        "outputId": "01b33f8b-d9c8-40ed-9a56-8082b30673b5"
      },
      "execution_count": 17,
      "outputs": [
        {
          "output_type": "stream",
          "name": "stdout",
          "text": [
            "Optimization terminated successfully.\n",
            "         Current function value: 0.672429\n",
            "         Iterations 4\n",
            "                           Logit Regression Results                           \n",
            "==============================================================================\n",
            "Dep. Variable:               survived   No. Observations:                  714\n",
            "Model:                          Logit   Df Residuals:                      712\n",
            "Method:                           MLE   Df Model:                            1\n",
            "Date:                Mon, 27 Mar 2023   Pseudo R-squ.:                0.004445\n",
            "Time:                        16:34:47   Log-Likelihood:                -480.11\n",
            "converged:                       True   LL-Null:                       -482.26\n",
            "Covariance Type:            nonrobust   LLR p-value:                   0.03839\n",
            "==============================================================================\n",
            "                 coef    std err          z      P>|z|      [0.025      0.975]\n",
            "------------------------------------------------------------------------------\n",
            "Intercept     -0.0567      0.174     -0.327      0.744      -0.397       0.283\n",
            "age           -0.0110      0.005     -2.057      0.040      -0.021      -0.001\n",
            "==============================================================================\n"
          ]
        }
      ]
    },
    {
      "cell_type": "code",
      "source": [
        "reg = smf.logit('survived ~ age + sex', data=dat).fit()\n",
        "print(reg.summary())"
      ],
      "metadata": {
        "colab": {
          "base_uri": "https://localhost:8080/"
        },
        "id": "vavEgd797CNb",
        "outputId": "9f47001a-ba89-4ed3-8181-556c7e96633f"
      },
      "execution_count": 18,
      "outputs": [
        {
          "output_type": "stream",
          "name": "stdout",
          "text": [
            "Optimization terminated successfully.\n",
            "         Current function value: 0.525180\n",
            "         Iterations 5\n",
            "                           Logit Regression Results                           \n",
            "==============================================================================\n",
            "Dep. Variable:               survived   No. Observations:                  714\n",
            "Model:                          Logit   Df Residuals:                      711\n",
            "Method:                           MLE   Df Model:                            2\n",
            "Date:                Mon, 27 Mar 2023   Pseudo R-squ.:                  0.2225\n",
            "Time:                        16:34:57   Log-Likelihood:                -374.98\n",
            "converged:                       True   LL-Null:                       -482.26\n",
            "Covariance Type:            nonrobust   LLR p-value:                 2.565e-47\n",
            "===============================================================================\n",
            "                  coef    std err          z      P>|z|      [0.025      0.975]\n",
            "-------------------------------------------------------------------------------\n",
            "Intercept       1.2773      0.230      5.549      0.000       0.826       1.728\n",
            "sex[T.male]    -2.4659      0.185    -13.302      0.000      -2.829      -2.103\n",
            "age            -0.0054      0.006     -0.860      0.390      -0.018       0.007\n",
            "===============================================================================\n"
          ]
        }
      ]
    },
    {
      "cell_type": "code",
      "source": [
        "reg = smf.logit('survived ~ age + sex_releveled + fare + embark_town', data=dat).fit()\n",
        "print(reg.summary())\n",
        "params = reg.params\n",
        "conf = reg.conf_int()\n",
        "conf['OR'] = params\n",
        "conf.columns = [\"Lower CI\", \"Upper CI\", \"OR\"]\n",
        "np.exp(conf)"
      ],
      "metadata": {
        "colab": {
          "base_uri": "https://localhost:8080/",
          "height": 644
        },
        "id": "dEmlCPvR7GA8",
        "outputId": "152f1c0f-b74f-4e83-f13e-d8ed7b16b742"
      },
      "execution_count": 19,
      "outputs": [
        {
          "output_type": "stream",
          "name": "stdout",
          "text": [
            "Optimization terminated successfully.\n",
            "         Current function value: 0.494701\n",
            "         Iterations 6\n",
            "                           Logit Regression Results                           \n",
            "==============================================================================\n",
            "Dep. Variable:               survived   No. Observations:                  712\n",
            "Model:                          Logit   Df Residuals:                      706\n",
            "Method:                           MLE   Df Model:                            5\n",
            "Date:                Mon, 27 Mar 2023   Pseudo R-squ.:                  0.2669\n",
            "Time:                        16:35:08   Log-Likelihood:                -352.23\n",
            "converged:                       True   LL-Null:                       -480.45\n",
            "Covariance Type:            nonrobust   LLR p-value:                 2.270e-53\n",
            "==============================================================================================\n",
            "                                 coef    std err          z      P>|z|      [0.025      0.975]\n",
            "----------------------------------------------------------------------------------------------\n",
            "Intercept                     -0.7209      0.322     -2.237      0.025      -1.353      -0.089\n",
            "sex_releveled[T.female]        2.3761      0.194     12.264      0.000       1.996       2.756\n",
            "embark_town[T.Queenstown]     -1.4014      0.539     -2.599      0.009      -2.458      -0.344\n",
            "embark_town[T.Southampton]    -0.7095      0.251     -2.832      0.005      -1.201      -0.218\n",
            "age                           -0.0116      0.007     -1.754      0.079      -0.025       0.001\n",
            "fare                           0.0106      0.003      3.957      0.000       0.005       0.016\n",
            "==============================================================================================\n"
          ]
        },
        {
          "output_type": "execute_result",
          "data": {
            "text/plain": [
              "                            Lower CI   Upper CI         OR\n",
              "Intercept                   0.258580   0.914547   0.486296\n",
              "sex_releveled[T.female]     7.362150  15.733812  10.762652\n",
              "embark_town[T.Queenstown]   0.085568   0.708630   0.246244\n",
              "embark_town[T.Southampton]  0.301042   0.803781   0.491906\n",
              "age                         0.975657   1.001370   0.988430\n",
              "fare                        1.005355   1.015948   1.010638"
            ],
            "text/html": [
              "\n",
              "  <div id=\"df-a415a458-82eb-4c28-bb4f-60a6bfde0fb0\">\n",
              "    <div class=\"colab-df-container\">\n",
              "      <div>\n",
              "<style scoped>\n",
              "    .dataframe tbody tr th:only-of-type {\n",
              "        vertical-align: middle;\n",
              "    }\n",
              "\n",
              "    .dataframe tbody tr th {\n",
              "        vertical-align: top;\n",
              "    }\n",
              "\n",
              "    .dataframe thead th {\n",
              "        text-align: right;\n",
              "    }\n",
              "</style>\n",
              "<table border=\"1\" class=\"dataframe\">\n",
              "  <thead>\n",
              "    <tr style=\"text-align: right;\">\n",
              "      <th></th>\n",
              "      <th>Lower CI</th>\n",
              "      <th>Upper CI</th>\n",
              "      <th>OR</th>\n",
              "    </tr>\n",
              "  </thead>\n",
              "  <tbody>\n",
              "    <tr>\n",
              "      <th>Intercept</th>\n",
              "      <td>0.258580</td>\n",
              "      <td>0.914547</td>\n",
              "      <td>0.486296</td>\n",
              "    </tr>\n",
              "    <tr>\n",
              "      <th>sex_releveled[T.female]</th>\n",
              "      <td>7.362150</td>\n",
              "      <td>15.733812</td>\n",
              "      <td>10.762652</td>\n",
              "    </tr>\n",
              "    <tr>\n",
              "      <th>embark_town[T.Queenstown]</th>\n",
              "      <td>0.085568</td>\n",
              "      <td>0.708630</td>\n",
              "      <td>0.246244</td>\n",
              "    </tr>\n",
              "    <tr>\n",
              "      <th>embark_town[T.Southampton]</th>\n",
              "      <td>0.301042</td>\n",
              "      <td>0.803781</td>\n",
              "      <td>0.491906</td>\n",
              "    </tr>\n",
              "    <tr>\n",
              "      <th>age</th>\n",
              "      <td>0.975657</td>\n",
              "      <td>1.001370</td>\n",
              "      <td>0.988430</td>\n",
              "    </tr>\n",
              "    <tr>\n",
              "      <th>fare</th>\n",
              "      <td>1.005355</td>\n",
              "      <td>1.015948</td>\n",
              "      <td>1.010638</td>\n",
              "    </tr>\n",
              "  </tbody>\n",
              "</table>\n",
              "</div>\n",
              "      <button class=\"colab-df-convert\" onclick=\"convertToInteractive('df-a415a458-82eb-4c28-bb4f-60a6bfde0fb0')\"\n",
              "              title=\"Convert this dataframe to an interactive table.\"\n",
              "              style=\"display:none;\">\n",
              "        \n",
              "  <svg xmlns=\"http://www.w3.org/2000/svg\" height=\"24px\"viewBox=\"0 0 24 24\"\n",
              "       width=\"24px\">\n",
              "    <path d=\"M0 0h24v24H0V0z\" fill=\"none\"/>\n",
              "    <path d=\"M18.56 5.44l.94 2.06.94-2.06 2.06-.94-2.06-.94-.94-2.06-.94 2.06-2.06.94zm-11 1L8.5 8.5l.94-2.06 2.06-.94-2.06-.94L8.5 2.5l-.94 2.06-2.06.94zm10 10l.94 2.06.94-2.06 2.06-.94-2.06-.94-.94-2.06-.94 2.06-2.06.94z\"/><path d=\"M17.41 7.96l-1.37-1.37c-.4-.4-.92-.59-1.43-.59-.52 0-1.04.2-1.43.59L10.3 9.45l-7.72 7.72c-.78.78-.78 2.05 0 2.83L4 21.41c.39.39.9.59 1.41.59.51 0 1.02-.2 1.41-.59l7.78-7.78 2.81-2.81c.8-.78.8-2.07 0-2.86zM5.41 20L4 18.59l7.72-7.72 1.47 1.35L5.41 20z\"/>\n",
              "  </svg>\n",
              "      </button>\n",
              "      \n",
              "  <style>\n",
              "    .colab-df-container {\n",
              "      display:flex;\n",
              "      flex-wrap:wrap;\n",
              "      gap: 12px;\n",
              "    }\n",
              "\n",
              "    .colab-df-convert {\n",
              "      background-color: #E8F0FE;\n",
              "      border: none;\n",
              "      border-radius: 50%;\n",
              "      cursor: pointer;\n",
              "      display: none;\n",
              "      fill: #1967D2;\n",
              "      height: 32px;\n",
              "      padding: 0 0 0 0;\n",
              "      width: 32px;\n",
              "    }\n",
              "\n",
              "    .colab-df-convert:hover {\n",
              "      background-color: #E2EBFA;\n",
              "      box-shadow: 0px 1px 2px rgba(60, 64, 67, 0.3), 0px 1px 3px 1px rgba(60, 64, 67, 0.15);\n",
              "      fill: #174EA6;\n",
              "    }\n",
              "\n",
              "    [theme=dark] .colab-df-convert {\n",
              "      background-color: #3B4455;\n",
              "      fill: #D2E3FC;\n",
              "    }\n",
              "\n",
              "    [theme=dark] .colab-df-convert:hover {\n",
              "      background-color: #434B5C;\n",
              "      box-shadow: 0px 1px 3px 1px rgba(0, 0, 0, 0.15);\n",
              "      filter: drop-shadow(0px 1px 2px rgba(0, 0, 0, 0.3));\n",
              "      fill: #FFFFFF;\n",
              "    }\n",
              "  </style>\n",
              "\n",
              "      <script>\n",
              "        const buttonEl =\n",
              "          document.querySelector('#df-a415a458-82eb-4c28-bb4f-60a6bfde0fb0 button.colab-df-convert');\n",
              "        buttonEl.style.display =\n",
              "          google.colab.kernel.accessAllowed ? 'block' : 'none';\n",
              "\n",
              "        async function convertToInteractive(key) {\n",
              "          const element = document.querySelector('#df-a415a458-82eb-4c28-bb4f-60a6bfde0fb0');\n",
              "          const dataTable =\n",
              "            await google.colab.kernel.invokeFunction('convertToInteractive',\n",
              "                                                     [key], {});\n",
              "          if (!dataTable) return;\n",
              "\n",
              "          const docLinkHtml = 'Like what you see? Visit the ' +\n",
              "            '<a target=\"_blank\" href=https://colab.research.google.com/notebooks/data_table.ipynb>data table notebook</a>'\n",
              "            + ' to learn more about interactive tables.';\n",
              "          element.innerHTML = '';\n",
              "          dataTable['output_type'] = 'display_data';\n",
              "          await google.colab.output.renderOutput(dataTable, element);\n",
              "          const docLink = document.createElement('div');\n",
              "          docLink.innerHTML = docLinkHtml;\n",
              "          element.appendChild(docLink);\n",
              "        }\n",
              "      </script>\n",
              "    </div>\n",
              "  </div>\n",
              "  "
            ]
          },
          "metadata": {},
          "execution_count": 19
        }
      ]
    }
  ]
}