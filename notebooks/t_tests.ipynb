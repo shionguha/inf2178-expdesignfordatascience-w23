{
  "nbformat": 4,
  "nbformat_minor": 0,
  "metadata": {
    "colab": {
      "provenance": [],
      "authorship_tag": "ABX9TyOF0Ig69mesCnTYsfVy6Rv+",
      "include_colab_link": true
    },
    "kernelspec": {
      "name": "python3",
      "display_name": "Python 3"
    },
    "language_info": {
      "name": "python"
    }
  },
  "cells": [
    {
      "cell_type": "markdown",
      "metadata": {
        "id": "view-in-github",
        "colab_type": "text"
      },
      "source": [
        "<a href=\"https://colab.research.google.com/github/shionguha/inf2178-expdesignfordatascience-w23/blob/main/notebooks/t_tests.ipynb\" target=\"_parent\"><img src=\"https://colab.research.google.com/assets/colab-badge.svg\" alt=\"Open In Colab\"/></a>"
      ]
    },
    {
      "cell_type": "code",
      "execution_count": null,
      "metadata": {
        "colab": {
          "base_uri": "https://localhost:8080/"
        },
        "id": "NOHSRmy0UORF",
        "outputId": "1a82fde9-73c4-45ed-c4b4-aa4170ad1e8b"
      },
      "outputs": [
        {
          "output_type": "stream",
          "name": "stdout",
          "text": [
            "['92.2', '93.0', '95.4', '95.5', '97.0', '97.4', '98.6', '100.5', '100.6', '101.3', '101.3', '102.4', '102.6', '103.4', '104.1', '104.1', '104.2', '104.2', '104.3', '107.4']\n"
          ]
        }
      ],
      "source": [
        "import numpy as np\n",
        "\n",
        "# Set a seed for the random number generator so we get the same random numbers each time\n",
        "np.random.seed(20210725)\n",
        "\n",
        "# Create fake data\n",
        "mean = 100\n",
        "standard_deviation = 5\n",
        "sample_size = 20\n",
        "x = np.random.normal(mean, standard_deviation, sample_size)\n",
        "\n",
        "print([f'{x:.1f}' for x in sorted(x)])"
      ]
    },
    {
      "cell_type": "code",
      "source": [
        "# Sample size\n",
        "n = len(x)\n",
        "# Mean\n",
        "x_bar = np.mean(x)\n",
        "# Sample standard deviation\n",
        "s = np.std(x, ddof=1)\n",
        "# Standard error of the mean\n",
        "sem = s / np.sqrt(n)\n",
        "\n",
        "print(f'Sample size = {n}, mean = {x_bar:.2f}, sample std deviation = {s:.2f}, std error of the mean = {sem:.2f}')"
      ],
      "metadata": {
        "colab": {
          "base_uri": "https://localhost:8080/"
        },
        "id": "u0pEYKLtbmjs",
        "outputId": "4d4ba950-bc50-4fe5-f1c4-3d8af8138a2f"
      },
      "execution_count": null,
      "outputs": [
        {
          "output_type": "stream",
          "name": "stdout",
          "text": [
            "Sample size = 20, mean = 100.47, sample std deviation = 4.19, std error of the mean = 0.94\n"
          ]
        }
      ]
    },
    {
      "cell_type": "code",
      "source": [
        "from scipy import stats\n",
        "\n",
        "# The population mean\n",
        "popmean = 98.5\n",
        "# Perform a two-sided one-sample t-test\n",
        "statistic, pvalue = stats.ttest_1samp(x, popmean)\n",
        "\n",
        "print(f'p = {pvalue:5.3f}')"
      ],
      "metadata": {
        "colab": {
          "base_uri": "https://localhost:8080/"
        },
        "id": "kKkCSs3icOXW",
        "outputId": "84badf95-a847-4f22-8d6f-5bd7c454de40"
      },
      "execution_count": null,
      "outputs": [
        {
          "output_type": "stream",
          "name": "stdout",
          "text": [
            "p = 0.049\n"
          ]
        }
      ]
    },
    {
      "cell_type": "code",
      "source": [
        "statistic, pvalue = stats.ttest_1samp(x, 98.5, alternative='greater')\n",
        "\n",
        "print(f'p = {pvalue:5.3f}')"
      ],
      "metadata": {
        "colab": {
          "base_uri": "https://localhost:8080/"
        },
        "id": "mb8hLwR4cX-4",
        "outputId": "3861cf7b-4967-4b1b-f3f3-f3ef47a1ee39"
      },
      "execution_count": null,
      "outputs": [
        {
          "output_type": "stream",
          "name": "stdout",
          "text": [
            "p = 0.024\n"
          ]
        }
      ]
    },
    {
      "cell_type": "code",
      "source": [
        "statistic, pvalue = stats.ttest_1samp(x, 98.5, alternative='less')\n",
        "\n",
        "print(f'p = {pvalue:5.3f}')"
      ],
      "metadata": {
        "colab": {
          "base_uri": "https://localhost:8080/"
        },
        "id": "TUX6e43Qcaz_",
        "outputId": "a673d8ed-075a-4409-f00c-cdba6db628c7"
      },
      "execution_count": null,
      "outputs": [
        {
          "output_type": "stream",
          "name": "stdout",
          "text": [
            "p = 0.976\n"
          ]
        }
      ]
    },
    {
      "cell_type": "code",
      "source": [
        "# Two-sided test\n",
        "statistic, pvalue_twosided = stats.ttest_1samp(x, 98.5)\n",
        "\n",
        "# One-sided, greater than test\n",
        "statistic, pvalue_greater = stats.ttest_1samp(x, 98.5, alternative='greater')\n",
        "\n",
        "# One-sided, less than test\n",
        "statistic, pvalue_less = stats.ttest_1samp(x, 98.5, alternative='less')\n",
        "\n",
        "print(pvalue_twosided == pvalue_greater * 2)"
      ],
      "metadata": {
        "colab": {
          "base_uri": "https://localhost:8080/"
        },
        "id": "72nvSDpBcfqP",
        "outputId": "b0253df4-c96b-4c0f-963c-426ba5cd6516"
      },
      "execution_count": null,
      "outputs": [
        {
          "output_type": "stream",
          "name": "stdout",
          "text": [
            "True\n"
          ]
        }
      ]
    },
    {
      "cell_type": "code",
      "source": [
        "print(pvalue_greater + pvalue_less == 1)"
      ],
      "metadata": {
        "colab": {
          "base_uri": "https://localhost:8080/"
        },
        "id": "aloN8RTPch-E",
        "outputId": "f2e47c76-ca14-4ec6-a9a4-8e5fe1e04b7b"
      },
      "execution_count": null,
      "outputs": [
        {
          "output_type": "stream",
          "name": "stdout",
          "text": [
            "True\n"
          ]
        }
      ]
    },
    {
      "cell_type": "code",
      "source": [
        "print(pvalue_less + pvalue_twosided / 2 == 1)"
      ],
      "metadata": {
        "colab": {
          "base_uri": "https://localhost:8080/"
        },
        "id": "nSC6O8tJcjI0",
        "outputId": "7be9117e-be45-4756-ddba-4d381085500e"
      },
      "execution_count": null,
      "outputs": [
        {
          "output_type": "stream",
          "name": "stdout",
          "text": [
            "True\n"
          ]
        }
      ]
    },
    {
      "cell_type": "code",
      "source": [
        "# Confidence level\n",
        "alpha = 0.05  # 95% confidence\n",
        "# Degrees of freedom\n",
        "dof = n - 1\n",
        "# Percent-point function (aka quantile function) of the t-distribution\n",
        "t = stats.t.ppf(1 - (alpha / 2), dof)\n",
        "# Margin of error\n",
        "d = t * sem\n",
        "# Intervals\n",
        "upper_ci = x_bar + d\n",
        "lower_ci = x_bar - d\n",
        "\n",
        "print(f'Sample mean = {x_bar:.2f}, 95% CI [{lower_ci:.2f}, {upper_ci:.2f}]')"
      ],
      "metadata": {
        "colab": {
          "base_uri": "https://localhost:8080/"
        },
        "id": "E2piIa68cn6O",
        "outputId": "a6d9d1bd-0ad6-4b51-cfe1-89f2f99f70bb"
      },
      "execution_count": null,
      "outputs": [
        {
          "output_type": "stream",
          "name": "stdout",
          "text": [
            "Sample mean = 100.47, 95% CI [98.51, 102.43]\n"
          ]
        }
      ]
    },
    {
      "cell_type": "code",
      "source": [
        "print(f'You can be 95% confident that the range {lower_ci:.2f} to {upper_ci:.2f} contains the true population mean')"
      ],
      "metadata": {
        "colab": {
          "base_uri": "https://localhost:8080/"
        },
        "id": "B1-h1_zRcpUW",
        "outputId": "35571c87-171b-44c7-b3f5-a89b086aca67"
      },
      "execution_count": null,
      "outputs": [
        {
          "output_type": "stream",
          "name": "stdout",
          "text": [
            "You can be 95% confident that the range 98.51 to 102.43 contains the true population mean\n"
          ]
        }
      ]
    },
    {
      "cell_type": "code",
      "source": [
        "# The population mean\n",
        "popmean = 98.52\n",
        "# Perform a two-sided one-sample t-test\n",
        "statistic, pvalue = stats.ttest_1samp(x, popmean)\n",
        "\n",
        "print(f'p = {pvalue:5.3f}')"
      ],
      "metadata": {
        "colab": {
          "base_uri": "https://localhost:8080/"
        },
        "id": "3j9n89L3cvNj",
        "outputId": "0f7b1cf8-0782-465d-9475-515bf91119fb"
      },
      "execution_count": null,
      "outputs": [
        {
          "output_type": "stream",
          "name": "stdout",
          "text": [
            "p = 0.051\n"
          ]
        }
      ]
    },
    {
      "cell_type": "code",
      "source": [
        "# Example data\n",
        "a = [4, 7, 8, 6, 3, 2]\n",
        "b = [6, 8, 7, 10, 11, 9]"
      ],
      "metadata": {
        "id": "EV8GzkejeKa3"
      },
      "execution_count": 1,
      "outputs": []
    },
    {
      "cell_type": "code",
      "source": [
        "import numpy as np\n",
        "from scipy import stats\n",
        "# Convert to arrays\n",
        "a = np.array(a)\n",
        "b = np.array(b)\n",
        "# Calculate the differences between the pairs of data points\n",
        "diffs = b - a\n",
        "\n",
        "#\n",
        "# TOST\n",
        "#\n",
        "# Magnitude of region of similarity\n",
        "bound = 0.5\n",
        "# Two one-sample t-tests\n",
        "_, p_greater = stats.ttest_1samp(diffs, -bound, alternative='greater')\n",
        "_, p_less = stats.ttest_1samp(diffs, bound, alternative='less')\n",
        "# Choose the maximum p-value\n",
        "pval = max(p_less, p_greater)\n",
        "\n",
        "print(f'TOST: p = {pval:5.3f}')"
      ],
      "metadata": {
        "id": "XVJjXT2ieNkf",
        "outputId": "0b4d7eaa-4bda-46af-8ff9-8dc594e04b01",
        "colab": {
          "base_uri": "https://localhost:8080/"
        }
      },
      "execution_count": 3,
      "outputs": [
        {
          "output_type": "stream",
          "name": "stdout",
          "text": [
            "TOST: p = 0.955\n"
          ]
        }
      ]
    }
  ]
}